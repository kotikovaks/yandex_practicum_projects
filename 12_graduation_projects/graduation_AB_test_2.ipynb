{
  "cells": [
    {
      "cell_type": "markdown",
      "metadata": {
        "id": "V7jMatTG8kVa"
      },
      "source": [
        "## Оглавление\n",
        "1. [Обзор и предобработка данных](#pre_processing)\n",
        "2. [Оценка корректности проведения теста](#test_accuracy)\n",
        "3. [Исследовательский анализ данных и оценка результатов А/В тестирования](#analysis)\n",
        "4. [Общий вывод](#sumup)"
      ]
    },
    {
      "cell_type": "markdown",
      "metadata": {
        "id": "XSGbarP-9h1l"
      },
      "source": [
        "**Оценка результатов A/B-теста**\n",
        "\n",
        "На основании датасета с действиями пользователей, технического задания и вспомогательных датасетов необходимо:\n",
        "- оценить корректность проведения теста,\n",
        "- проанализировать результаты теста.\n",
        "\n",
        "Для оценки корректности проведения теста, необходимо проверить:\n",
        "- пересечение тестовой аудитории с конкурирующим тестом,\n",
        "- совпадение теста и маркетинговых событий, другие проблемы временных границ теста.\n",
        "\n",
        "**Цель исследования** — проверить корректность проведения A/B-теста и дать оценку его результатам.\n",
        "\n",
        "**Техническое задание**\n",
        "\n",
        "- Название теста: `recommender_system_test`;\n",
        "- группы: А — контрольная, B — новая платёжная воронка;\n",
        "- дата запуска: 2020-12-07;\n",
        "- дата остановки набора новых пользователей: 2020-12-21;\n",
        "- дата остановки: 2021-01-04;\n",
        "- аудитория: 15% новых пользователей из региона EU;\n",
        "- назначение теста: тестирование изменений, связанных с внедрением улучшенной рекомендательной системы;\n",
        "- ожидаемое количество участников теста: 6000.\n",
        "- ожидаемый эффект: за 14 дней с момента регистрации пользователи покажут улучшение каждой метрики не менее, чем на 10%:\n",
        "    - конверсии в просмотр карточек товаров — событие `product_page`,\n",
        "    - просмотры корзины — `product_cart`,\n",
        "    - покупки — `purchase`.\n",
        "\n",
        "**Ход исследования**\n",
        "\n",
        "Перед анализом данных понадобится обзор и предобработка данных. Необходимо проверить данные на дубликаты, пропуски, аномалии и ошибки и оценить их влияние на исследование.\n",
        "\n",
        "Таким образом, исследование пройдёт в пять этапов:\n",
        "\n",
        "1. Обзор и предобработка данных\n",
        "2. Оценка корректности проведения теста в следующих аспектах:\n",
        "  - соответствие данных требованиям технического задания;\n",
        "  - время проведения теста;\n",
        "  - аудитория теста. \n",
        "3. Исследовательский анализ данных. \n",
        "- Мы изучим:\n",
        "  - распределение количества событий на пользователя;\n",
        "  - то, как число событий в выборках распределено по дням;\n",
        "  - то, как меняется конверсия в воронке в выборках на разных этапах;\n",
        "  - то, какие особенности данных нужно учесть, прежде чем приступать к A/B-тестированию.\n",
        "- Оценим результаты A/B-тестирования и проверим статистической разницы долей z-критерием.\n",
        "4. Общий вывод"
      ]
    },
    {
      "cell_type": "markdown",
      "metadata": {
        "id": "8-AlelH8AR5d"
      },
      "source": [
        "## 1. Обзор и предобработка данных\n",
        "<a name=\"pre_processing\"></a>"
      ]
    },
    {
      "cell_type": "code",
      "execution_count": 231,
      "metadata": {
        "id": "eTKgLTji23AU"
      },
      "outputs": [],
      "source": [
        "import pandas as pd\n",
        "import seaborn as sns\n",
        "import matplotlib.pyplot as plt\n",
        "import numpy as np\n",
        "import math as mth\n",
        "from scipy import stats as st\n",
        "import datetime as dt\n",
        "from datetime import datetime, timedelta\n",
        "import warnings"
      ]
    },
    {
      "cell_type": "code",
      "source": [
        "warnings.filterwarnings(\"ignore\")"
      ],
      "metadata": {
        "id": "LVvcHVrAw-Lm"
      },
      "execution_count": 232,
      "outputs": []
    },
    {
      "cell_type": "code",
      "execution_count": 233,
      "metadata": {
        "colab": {
          "base_uri": "https://localhost:8080/",
          "height": 206
        },
        "id": "u3q8e6S6SLFs",
        "outputId": "01fd18a4-adff-4ce8-bfb8-d2b6ee864b1a"
      },
      "outputs": [
        {
          "output_type": "execute_result",
          "data": {
            "text/plain": [
              "            user_id             event_dt event_name  details\n",
              "0  E1BDDCE0DAFA2679  2020-12-07 20:22:03   purchase    99.99\n",
              "1  7B6452F081F49504  2020-12-07 09:22:53   purchase     9.99\n",
              "2  9CD9F34546DF254C  2020-12-07 12:59:29   purchase     4.99\n",
              "3  96F27A054B191457  2020-12-07 04:02:40   purchase     4.99\n",
              "4  1FD7660FDF94CA1F  2020-12-07 10:15:09   purchase     4.99"
            ],
            "text/html": [
              "\n",
              "  <div id=\"df-46682665-5966-4999-a595-181f12e9cdfd\">\n",
              "    <div class=\"colab-df-container\">\n",
              "      <div>\n",
              "<style scoped>\n",
              "    .dataframe tbody tr th:only-of-type {\n",
              "        vertical-align: middle;\n",
              "    }\n",
              "\n",
              "    .dataframe tbody tr th {\n",
              "        vertical-align: top;\n",
              "    }\n",
              "\n",
              "    .dataframe thead th {\n",
              "        text-align: right;\n",
              "    }\n",
              "</style>\n",
              "<table border=\"1\" class=\"dataframe\">\n",
              "  <thead>\n",
              "    <tr style=\"text-align: right;\">\n",
              "      <th></th>\n",
              "      <th>user_id</th>\n",
              "      <th>event_dt</th>\n",
              "      <th>event_name</th>\n",
              "      <th>details</th>\n",
              "    </tr>\n",
              "  </thead>\n",
              "  <tbody>\n",
              "    <tr>\n",
              "      <th>0</th>\n",
              "      <td>E1BDDCE0DAFA2679</td>\n",
              "      <td>2020-12-07 20:22:03</td>\n",
              "      <td>purchase</td>\n",
              "      <td>99.99</td>\n",
              "    </tr>\n",
              "    <tr>\n",
              "      <th>1</th>\n",
              "      <td>7B6452F081F49504</td>\n",
              "      <td>2020-12-07 09:22:53</td>\n",
              "      <td>purchase</td>\n",
              "      <td>9.99</td>\n",
              "    </tr>\n",
              "    <tr>\n",
              "      <th>2</th>\n",
              "      <td>9CD9F34546DF254C</td>\n",
              "      <td>2020-12-07 12:59:29</td>\n",
              "      <td>purchase</td>\n",
              "      <td>4.99</td>\n",
              "    </tr>\n",
              "    <tr>\n",
              "      <th>3</th>\n",
              "      <td>96F27A054B191457</td>\n",
              "      <td>2020-12-07 04:02:40</td>\n",
              "      <td>purchase</td>\n",
              "      <td>4.99</td>\n",
              "    </tr>\n",
              "    <tr>\n",
              "      <th>4</th>\n",
              "      <td>1FD7660FDF94CA1F</td>\n",
              "      <td>2020-12-07 10:15:09</td>\n",
              "      <td>purchase</td>\n",
              "      <td>4.99</td>\n",
              "    </tr>\n",
              "  </tbody>\n",
              "</table>\n",
              "</div>\n",
              "      <button class=\"colab-df-convert\" onclick=\"convertToInteractive('df-46682665-5966-4999-a595-181f12e9cdfd')\"\n",
              "              title=\"Convert this dataframe to an interactive table.\"\n",
              "              style=\"display:none;\">\n",
              "        \n",
              "  <svg xmlns=\"http://www.w3.org/2000/svg\" height=\"24px\"viewBox=\"0 0 24 24\"\n",
              "       width=\"24px\">\n",
              "    <path d=\"M0 0h24v24H0V0z\" fill=\"none\"/>\n",
              "    <path d=\"M18.56 5.44l.94 2.06.94-2.06 2.06-.94-2.06-.94-.94-2.06-.94 2.06-2.06.94zm-11 1L8.5 8.5l.94-2.06 2.06-.94-2.06-.94L8.5 2.5l-.94 2.06-2.06.94zm10 10l.94 2.06.94-2.06 2.06-.94-2.06-.94-.94-2.06-.94 2.06-2.06.94z\"/><path d=\"M17.41 7.96l-1.37-1.37c-.4-.4-.92-.59-1.43-.59-.52 0-1.04.2-1.43.59L10.3 9.45l-7.72 7.72c-.78.78-.78 2.05 0 2.83L4 21.41c.39.39.9.59 1.41.59.51 0 1.02-.2 1.41-.59l7.78-7.78 2.81-2.81c.8-.78.8-2.07 0-2.86zM5.41 20L4 18.59l7.72-7.72 1.47 1.35L5.41 20z\"/>\n",
              "  </svg>\n",
              "      </button>\n",
              "      \n",
              "  <style>\n",
              "    .colab-df-container {\n",
              "      display:flex;\n",
              "      flex-wrap:wrap;\n",
              "      gap: 12px;\n",
              "    }\n",
              "\n",
              "    .colab-df-convert {\n",
              "      background-color: #E8F0FE;\n",
              "      border: none;\n",
              "      border-radius: 50%;\n",
              "      cursor: pointer;\n",
              "      display: none;\n",
              "      fill: #1967D2;\n",
              "      height: 32px;\n",
              "      padding: 0 0 0 0;\n",
              "      width: 32px;\n",
              "    }\n",
              "\n",
              "    .colab-df-convert:hover {\n",
              "      background-color: #E2EBFA;\n",
              "      box-shadow: 0px 1px 2px rgba(60, 64, 67, 0.3), 0px 1px 3px 1px rgba(60, 64, 67, 0.15);\n",
              "      fill: #174EA6;\n",
              "    }\n",
              "\n",
              "    [theme=dark] .colab-df-convert {\n",
              "      background-color: #3B4455;\n",
              "      fill: #D2E3FC;\n",
              "    }\n",
              "\n",
              "    [theme=dark] .colab-df-convert:hover {\n",
              "      background-color: #434B5C;\n",
              "      box-shadow: 0px 1px 3px 1px rgba(0, 0, 0, 0.15);\n",
              "      filter: drop-shadow(0px 1px 2px rgba(0, 0, 0, 0.3));\n",
              "      fill: #FFFFFF;\n",
              "    }\n",
              "  </style>\n",
              "\n",
              "      <script>\n",
              "        const buttonEl =\n",
              "          document.querySelector('#df-46682665-5966-4999-a595-181f12e9cdfd button.colab-df-convert');\n",
              "        buttonEl.style.display =\n",
              "          google.colab.kernel.accessAllowed ? 'block' : 'none';\n",
              "\n",
              "        async function convertToInteractive(key) {\n",
              "          const element = document.querySelector('#df-46682665-5966-4999-a595-181f12e9cdfd');\n",
              "          const dataTable =\n",
              "            await google.colab.kernel.invokeFunction('convertToInteractive',\n",
              "                                                     [key], {});\n",
              "          if (!dataTable) return;\n",
              "\n",
              "          const docLinkHtml = 'Like what you see? Visit the ' +\n",
              "            '<a target=\"_blank\" href=https://colab.research.google.com/notebooks/data_table.ipynb>data table notebook</a>'\n",
              "            + ' to learn more about interactive tables.';\n",
              "          element.innerHTML = '';\n",
              "          dataTable['output_type'] = 'display_data';\n",
              "          await google.colab.output.renderOutput(dataTable, element);\n",
              "          const docLink = document.createElement('div');\n",
              "          docLink.innerHTML = docLinkHtml;\n",
              "          element.appendChild(docLink);\n",
              "        }\n",
              "      </script>\n",
              "    </div>\n",
              "  </div>\n",
              "  "
            ]
          },
          "metadata": {},
          "execution_count": 233
        }
      ],
      "source": [
        "# изучим данные о действиях новых пользователей в период с 7 декабря 2020 по 4 января 2021 года\n",
        "final_ab_events = pd.read_csv('final_ab_events.csv')\n",
        "final_ab_events.head()"
      ]
    },
    {
      "cell_type": "code",
      "execution_count": 234,
      "metadata": {
        "colab": {
          "base_uri": "https://localhost:8080/"
        },
        "id": "k-tLN57sX8gC",
        "outputId": "a6468659-70b6-4d96-d101-f02fd40f350e"
      },
      "outputs": [
        {
          "output_type": "stream",
          "name": "stdout",
          "text": [
            "<class 'pandas.core.frame.DataFrame'>\n",
            "RangeIndex: 440317 entries, 0 to 440316\n",
            "Data columns (total 4 columns):\n",
            " #   Column      Non-Null Count   Dtype  \n",
            "---  ------      --------------   -----  \n",
            " 0   user_id     440317 non-null  object \n",
            " 1   event_dt    440317 non-null  object \n",
            " 2   event_name  440317 non-null  object \n",
            " 3   details     62740 non-null   float64\n",
            "dtypes: float64(1), object(3)\n",
            "memory usage: 13.4+ MB\n"
          ]
        }
      ],
      "source": [
        "# посмотрим на общую информацию о таблице\n",
        "final_ab_events.info()"
      ]
    },
    {
      "cell_type": "code",
      "execution_count": 235,
      "metadata": {
        "id": "oTH2BJ8IYN-V"
      },
      "outputs": [],
      "source": [
        "# изменим тип данных для колонки с датой\n",
        "final_ab_events['event_dt'] = pd.to_datetime(final_ab_events['event_dt'])\n"
      ]
    },
    {
      "cell_type": "code",
      "execution_count": 236,
      "metadata": {
        "colab": {
          "base_uri": "https://localhost:8080/"
        },
        "id": "I3KrouajYn29",
        "outputId": "fa440a4d-066e-4222-95b9-fd006de4c92c"
      },
      "outputs": [
        {
          "output_type": "execute_result",
          "data": {
            "text/plain": [
              "user_id       0.000000\n",
              "event_dt      0.000000\n",
              "event_name    0.000000\n",
              "details       0.857512\n",
              "dtype: float64"
            ]
          },
          "metadata": {},
          "execution_count": 236
        }
      ],
      "source": [
        "# проверим данные на пропуски\n",
        "final_ab_events.isna().mean()"
      ]
    },
    {
      "cell_type": "markdown",
      "metadata": {
        "id": "rJX-VcJCY4wP"
      },
      "source": [
        "Почти 86% пропущенных значений в столбце details. В нем собраные дополнительные данные о событии. Например, для покупок, purchase, в этом поле хранится стоимость покупки в долларах. По всей видимости, данных было собрано очень мало."
      ]
    },
    {
      "cell_type": "code",
      "execution_count": 237,
      "metadata": {
        "colab": {
          "base_uri": "https://localhost:8080/"
        },
        "id": "Bqi02LMeZQYy",
        "outputId": "7d26cb88-6338-4b72-b8ea-0147fccecd19"
      },
      "outputs": [
        {
          "output_type": "execute_result",
          "data": {
            "text/plain": [
              "0"
            ]
          },
          "metadata": {},
          "execution_count": 237
        }
      ],
      "source": [
        "# проверим данные на явные дубликаты\n",
        "final_ab_events.duplicated().sum()"
      ]
    },
    {
      "cell_type": "code",
      "execution_count": 238,
      "metadata": {
        "colab": {
          "base_uri": "https://localhost:8080/",
          "height": 300
        },
        "id": "63nHSEq3ZmfU",
        "outputId": "0423bb49-b218-4f91-fb82-fe65b8045ff7"
      },
      "outputs": [
        {
          "output_type": "execute_result",
          "data": {
            "text/plain": [
              "            details\n",
              "count  62740.000000\n",
              "mean      23.877631\n",
              "std       72.180465\n",
              "min        4.990000\n",
              "25%        4.990000\n",
              "50%        4.990000\n",
              "75%        9.990000\n",
              "max      499.990000"
            ],
            "text/html": [
              "\n",
              "  <div id=\"df-46d72a7f-760c-47c9-af42-1a28a4e18b9f\">\n",
              "    <div class=\"colab-df-container\">\n",
              "      <div>\n",
              "<style scoped>\n",
              "    .dataframe tbody tr th:only-of-type {\n",
              "        vertical-align: middle;\n",
              "    }\n",
              "\n",
              "    .dataframe tbody tr th {\n",
              "        vertical-align: top;\n",
              "    }\n",
              "\n",
              "    .dataframe thead th {\n",
              "        text-align: right;\n",
              "    }\n",
              "</style>\n",
              "<table border=\"1\" class=\"dataframe\">\n",
              "  <thead>\n",
              "    <tr style=\"text-align: right;\">\n",
              "      <th></th>\n",
              "      <th>details</th>\n",
              "    </tr>\n",
              "  </thead>\n",
              "  <tbody>\n",
              "    <tr>\n",
              "      <th>count</th>\n",
              "      <td>62740.000000</td>\n",
              "    </tr>\n",
              "    <tr>\n",
              "      <th>mean</th>\n",
              "      <td>23.877631</td>\n",
              "    </tr>\n",
              "    <tr>\n",
              "      <th>std</th>\n",
              "      <td>72.180465</td>\n",
              "    </tr>\n",
              "    <tr>\n",
              "      <th>min</th>\n",
              "      <td>4.990000</td>\n",
              "    </tr>\n",
              "    <tr>\n",
              "      <th>25%</th>\n",
              "      <td>4.990000</td>\n",
              "    </tr>\n",
              "    <tr>\n",
              "      <th>50%</th>\n",
              "      <td>4.990000</td>\n",
              "    </tr>\n",
              "    <tr>\n",
              "      <th>75%</th>\n",
              "      <td>9.990000</td>\n",
              "    </tr>\n",
              "    <tr>\n",
              "      <th>max</th>\n",
              "      <td>499.990000</td>\n",
              "    </tr>\n",
              "  </tbody>\n",
              "</table>\n",
              "</div>\n",
              "      <button class=\"colab-df-convert\" onclick=\"convertToInteractive('df-46d72a7f-760c-47c9-af42-1a28a4e18b9f')\"\n",
              "              title=\"Convert this dataframe to an interactive table.\"\n",
              "              style=\"display:none;\">\n",
              "        \n",
              "  <svg xmlns=\"http://www.w3.org/2000/svg\" height=\"24px\"viewBox=\"0 0 24 24\"\n",
              "       width=\"24px\">\n",
              "    <path d=\"M0 0h24v24H0V0z\" fill=\"none\"/>\n",
              "    <path d=\"M18.56 5.44l.94 2.06.94-2.06 2.06-.94-2.06-.94-.94-2.06-.94 2.06-2.06.94zm-11 1L8.5 8.5l.94-2.06 2.06-.94-2.06-.94L8.5 2.5l-.94 2.06-2.06.94zm10 10l.94 2.06.94-2.06 2.06-.94-2.06-.94-.94-2.06-.94 2.06-2.06.94z\"/><path d=\"M17.41 7.96l-1.37-1.37c-.4-.4-.92-.59-1.43-.59-.52 0-1.04.2-1.43.59L10.3 9.45l-7.72 7.72c-.78.78-.78 2.05 0 2.83L4 21.41c.39.39.9.59 1.41.59.51 0 1.02-.2 1.41-.59l7.78-7.78 2.81-2.81c.8-.78.8-2.07 0-2.86zM5.41 20L4 18.59l7.72-7.72 1.47 1.35L5.41 20z\"/>\n",
              "  </svg>\n",
              "      </button>\n",
              "      \n",
              "  <style>\n",
              "    .colab-df-container {\n",
              "      display:flex;\n",
              "      flex-wrap:wrap;\n",
              "      gap: 12px;\n",
              "    }\n",
              "\n",
              "    .colab-df-convert {\n",
              "      background-color: #E8F0FE;\n",
              "      border: none;\n",
              "      border-radius: 50%;\n",
              "      cursor: pointer;\n",
              "      display: none;\n",
              "      fill: #1967D2;\n",
              "      height: 32px;\n",
              "      padding: 0 0 0 0;\n",
              "      width: 32px;\n",
              "    }\n",
              "\n",
              "    .colab-df-convert:hover {\n",
              "      background-color: #E2EBFA;\n",
              "      box-shadow: 0px 1px 2px rgba(60, 64, 67, 0.3), 0px 1px 3px 1px rgba(60, 64, 67, 0.15);\n",
              "      fill: #174EA6;\n",
              "    }\n",
              "\n",
              "    [theme=dark] .colab-df-convert {\n",
              "      background-color: #3B4455;\n",
              "      fill: #D2E3FC;\n",
              "    }\n",
              "\n",
              "    [theme=dark] .colab-df-convert:hover {\n",
              "      background-color: #434B5C;\n",
              "      box-shadow: 0px 1px 3px 1px rgba(0, 0, 0, 0.15);\n",
              "      filter: drop-shadow(0px 1px 2px rgba(0, 0, 0, 0.3));\n",
              "      fill: #FFFFFF;\n",
              "    }\n",
              "  </style>\n",
              "\n",
              "      <script>\n",
              "        const buttonEl =\n",
              "          document.querySelector('#df-46d72a7f-760c-47c9-af42-1a28a4e18b9f button.colab-df-convert');\n",
              "        buttonEl.style.display =\n",
              "          google.colab.kernel.accessAllowed ? 'block' : 'none';\n",
              "\n",
              "        async function convertToInteractive(key) {\n",
              "          const element = document.querySelector('#df-46d72a7f-760c-47c9-af42-1a28a4e18b9f');\n",
              "          const dataTable =\n",
              "            await google.colab.kernel.invokeFunction('convertToInteractive',\n",
              "                                                     [key], {});\n",
              "          if (!dataTable) return;\n",
              "\n",
              "          const docLinkHtml = 'Like what you see? Visit the ' +\n",
              "            '<a target=\"_blank\" href=https://colab.research.google.com/notebooks/data_table.ipynb>data table notebook</a>'\n",
              "            + ' to learn more about interactive tables.';\n",
              "          element.innerHTML = '';\n",
              "          dataTable['output_type'] = 'display_data';\n",
              "          await google.colab.output.renderOutput(dataTable, element);\n",
              "          const docLink = document.createElement('div');\n",
              "          docLink.innerHTML = docLinkHtml;\n",
              "          element.appendChild(docLink);\n",
              "        }\n",
              "      </script>\n",
              "    </div>\n",
              "  </div>\n",
              "  "
            ]
          },
          "metadata": {},
          "execution_count": 238
        }
      ],
      "source": [
        "# проверим данные на аномалии\n",
        "final_ab_events.describe()"
      ]
    },
    {
      "cell_type": "code",
      "execution_count": 239,
      "metadata": {
        "colab": {
          "base_uri": "https://localhost:8080/"
        },
        "id": "0EL3m5RPZtVN",
        "outputId": "2f163dba-5e76-412c-cf79-9607bd8b0821"
      },
      "outputs": [
        {
          "output_type": "execute_result",
          "data": {
            "text/plain": [
              "count               440317\n",
              "unique               58703\n",
              "top       A3917F81482141F2\n",
              "freq                    36\n",
              "Name: user_id, dtype: object"
            ]
          },
          "metadata": {},
          "execution_count": 239
        }
      ],
      "source": [
        "# проверим столбец на аномалии\n",
        "final_ab_events['user_id'].describe()"
      ]
    },
    {
      "cell_type": "code",
      "execution_count": 240,
      "metadata": {
        "colab": {
          "base_uri": "https://localhost:8080/"
        },
        "id": "aeedr7V9Z5SI",
        "outputId": "965298fe-c175-4910-93c1-36e93455c1d2"
      },
      "outputs": [
        {
          "output_type": "execute_result",
          "data": {
            "text/plain": [
              "count                           440317\n",
              "mean     2020-12-18 16:33:30.344980992\n",
              "min                2020-12-07 00:00:33\n",
              "25%                2020-12-14 06:38:31\n",
              "50%                2020-12-19 02:14:36\n",
              "75%                2020-12-22 23:47:03\n",
              "max                2020-12-30 23:36:33\n",
              "Name: event_dt, dtype: object"
            ]
          },
          "metadata": {},
          "execution_count": 240
        }
      ],
      "source": [
        "# проверим столбец на аномалии\n",
        "final_ab_events['event_dt'].describe(datetime_is_numeric=True)"
      ]
    },
    {
      "cell_type": "markdown",
      "metadata": {
        "id": "ngZUQ_ZoaEaI"
      },
      "source": [
        "Согласно ТЗ в этой таблице присутствуют данные с 7 декабря 2020 по 4 января 2021 года. Однако по факту новые пользователи совершали действия только с 7 по 30 декабря 2020 года."
      ]
    },
    {
      "cell_type": "code",
      "execution_count": 241,
      "metadata": {
        "colab": {
          "base_uri": "https://localhost:8080/"
        },
        "id": "Rgp9Z-IbaQPw",
        "outputId": "7019d256-20f4-407f-bcdc-c316eb9d6756"
      },
      "outputs": [
        {
          "output_type": "execute_result",
          "data": {
            "text/plain": [
              "array(['purchase', 'product_cart', 'product_page', 'login'], dtype=object)"
            ]
          },
          "metadata": {},
          "execution_count": 241
        }
      ],
      "source": [
        "final_ab_events['event_name'].unique()"
      ]
    },
    {
      "cell_type": "code",
      "execution_count": 242,
      "metadata": {
        "colab": {
          "base_uri": "https://localhost:8080/"
        },
        "id": "dgDeIn2rcRO2",
        "outputId": "5b943d73-51ac-4f21-86d4-8d3318df191b"
      },
      "outputs": [
        {
          "output_type": "execute_result",
          "data": {
            "text/plain": [
              "58703"
            ]
          },
          "metadata": {},
          "execution_count": 242
        }
      ],
      "source": [
        "# посчитаем, о каком количестве уникальных пользователях собраны данные в таблице\n",
        "final_ab_events['user_id'].nunique()"
      ]
    },
    {
      "cell_type": "markdown",
      "metadata": {
        "id": "yudI5s93A88H"
      },
      "source": [
        "**Вывод**\n",
        "\n",
        "Изучение таблицы данных о действиях новых пользователей в период с 7 декабря 2020 по 4 января 2021 года позволяет нам сделать следующие выводы:\n",
        "- в dataframe 440317 строк и 4 столбца, нет явных дубликатов;\n",
        "- в столбце `details` 86% пропущенных значений. В нем собраные дополнительные данные о событии. По всей видимости, данных было собрано очень мало;\n",
        "- cогласно ТЗ в таблице присутствуют данные с 7 декабря 2020 по 4 января 2021 года. Однако по факту в ней собраны данные о действиях 58 703 пользователей только с 7 по 30 декабря 2020 года."
      ]
    },
    {
      "cell_type": "code",
      "execution_count": 243,
      "metadata": {
        "colab": {
          "base_uri": "https://localhost:8080/",
          "height": 206
        },
        "id": "fjrsGJFIedOT",
        "outputId": "8e74555b-cc93-4ac8-cd5b-c2f73027a114"
      },
      "outputs": [
        {
          "output_type": "execute_result",
          "data": {
            "text/plain": [
              "            user_id group                  ab_test\n",
              "0  D1ABA3E2887B6A73     A  recommender_system_test\n",
              "1  A7A3664BD6242119     A  recommender_system_test\n",
              "2  DABC14FDDFADD29E     A  recommender_system_test\n",
              "3  04988C5DF189632E     A  recommender_system_test\n",
              "4  482F14783456D21B     B  recommender_system_test"
            ],
            "text/html": [
              "\n",
              "  <div id=\"df-6b575ebc-cbf7-42f8-97da-a6b70fb1ff50\">\n",
              "    <div class=\"colab-df-container\">\n",
              "      <div>\n",
              "<style scoped>\n",
              "    .dataframe tbody tr th:only-of-type {\n",
              "        vertical-align: middle;\n",
              "    }\n",
              "\n",
              "    .dataframe tbody tr th {\n",
              "        vertical-align: top;\n",
              "    }\n",
              "\n",
              "    .dataframe thead th {\n",
              "        text-align: right;\n",
              "    }\n",
              "</style>\n",
              "<table border=\"1\" class=\"dataframe\">\n",
              "  <thead>\n",
              "    <tr style=\"text-align: right;\">\n",
              "      <th></th>\n",
              "      <th>user_id</th>\n",
              "      <th>group</th>\n",
              "      <th>ab_test</th>\n",
              "    </tr>\n",
              "  </thead>\n",
              "  <tbody>\n",
              "    <tr>\n",
              "      <th>0</th>\n",
              "      <td>D1ABA3E2887B6A73</td>\n",
              "      <td>A</td>\n",
              "      <td>recommender_system_test</td>\n",
              "    </tr>\n",
              "    <tr>\n",
              "      <th>1</th>\n",
              "      <td>A7A3664BD6242119</td>\n",
              "      <td>A</td>\n",
              "      <td>recommender_system_test</td>\n",
              "    </tr>\n",
              "    <tr>\n",
              "      <th>2</th>\n",
              "      <td>DABC14FDDFADD29E</td>\n",
              "      <td>A</td>\n",
              "      <td>recommender_system_test</td>\n",
              "    </tr>\n",
              "    <tr>\n",
              "      <th>3</th>\n",
              "      <td>04988C5DF189632E</td>\n",
              "      <td>A</td>\n",
              "      <td>recommender_system_test</td>\n",
              "    </tr>\n",
              "    <tr>\n",
              "      <th>4</th>\n",
              "      <td>482F14783456D21B</td>\n",
              "      <td>B</td>\n",
              "      <td>recommender_system_test</td>\n",
              "    </tr>\n",
              "  </tbody>\n",
              "</table>\n",
              "</div>\n",
              "      <button class=\"colab-df-convert\" onclick=\"convertToInteractive('df-6b575ebc-cbf7-42f8-97da-a6b70fb1ff50')\"\n",
              "              title=\"Convert this dataframe to an interactive table.\"\n",
              "              style=\"display:none;\">\n",
              "        \n",
              "  <svg xmlns=\"http://www.w3.org/2000/svg\" height=\"24px\"viewBox=\"0 0 24 24\"\n",
              "       width=\"24px\">\n",
              "    <path d=\"M0 0h24v24H0V0z\" fill=\"none\"/>\n",
              "    <path d=\"M18.56 5.44l.94 2.06.94-2.06 2.06-.94-2.06-.94-.94-2.06-.94 2.06-2.06.94zm-11 1L8.5 8.5l.94-2.06 2.06-.94-2.06-.94L8.5 2.5l-.94 2.06-2.06.94zm10 10l.94 2.06.94-2.06 2.06-.94-2.06-.94-.94-2.06-.94 2.06-2.06.94z\"/><path d=\"M17.41 7.96l-1.37-1.37c-.4-.4-.92-.59-1.43-.59-.52 0-1.04.2-1.43.59L10.3 9.45l-7.72 7.72c-.78.78-.78 2.05 0 2.83L4 21.41c.39.39.9.59 1.41.59.51 0 1.02-.2 1.41-.59l7.78-7.78 2.81-2.81c.8-.78.8-2.07 0-2.86zM5.41 20L4 18.59l7.72-7.72 1.47 1.35L5.41 20z\"/>\n",
              "  </svg>\n",
              "      </button>\n",
              "      \n",
              "  <style>\n",
              "    .colab-df-container {\n",
              "      display:flex;\n",
              "      flex-wrap:wrap;\n",
              "      gap: 12px;\n",
              "    }\n",
              "\n",
              "    .colab-df-convert {\n",
              "      background-color: #E8F0FE;\n",
              "      border: none;\n",
              "      border-radius: 50%;\n",
              "      cursor: pointer;\n",
              "      display: none;\n",
              "      fill: #1967D2;\n",
              "      height: 32px;\n",
              "      padding: 0 0 0 0;\n",
              "      width: 32px;\n",
              "    }\n",
              "\n",
              "    .colab-df-convert:hover {\n",
              "      background-color: #E2EBFA;\n",
              "      box-shadow: 0px 1px 2px rgba(60, 64, 67, 0.3), 0px 1px 3px 1px rgba(60, 64, 67, 0.15);\n",
              "      fill: #174EA6;\n",
              "    }\n",
              "\n",
              "    [theme=dark] .colab-df-convert {\n",
              "      background-color: #3B4455;\n",
              "      fill: #D2E3FC;\n",
              "    }\n",
              "\n",
              "    [theme=dark] .colab-df-convert:hover {\n",
              "      background-color: #434B5C;\n",
              "      box-shadow: 0px 1px 3px 1px rgba(0, 0, 0, 0.15);\n",
              "      filter: drop-shadow(0px 1px 2px rgba(0, 0, 0, 0.3));\n",
              "      fill: #FFFFFF;\n",
              "    }\n",
              "  </style>\n",
              "\n",
              "      <script>\n",
              "        const buttonEl =\n",
              "          document.querySelector('#df-6b575ebc-cbf7-42f8-97da-a6b70fb1ff50 button.colab-df-convert');\n",
              "        buttonEl.style.display =\n",
              "          google.colab.kernel.accessAllowed ? 'block' : 'none';\n",
              "\n",
              "        async function convertToInteractive(key) {\n",
              "          const element = document.querySelector('#df-6b575ebc-cbf7-42f8-97da-a6b70fb1ff50');\n",
              "          const dataTable =\n",
              "            await google.colab.kernel.invokeFunction('convertToInteractive',\n",
              "                                                     [key], {});\n",
              "          if (!dataTable) return;\n",
              "\n",
              "          const docLinkHtml = 'Like what you see? Visit the ' +\n",
              "            '<a target=\"_blank\" href=https://colab.research.google.com/notebooks/data_table.ipynb>data table notebook</a>'\n",
              "            + ' to learn more about interactive tables.';\n",
              "          element.innerHTML = '';\n",
              "          dataTable['output_type'] = 'display_data';\n",
              "          await google.colab.output.renderOutput(dataTable, element);\n",
              "          const docLink = document.createElement('div');\n",
              "          docLink.innerHTML = docLinkHtml;\n",
              "          element.appendChild(docLink);\n",
              "        }\n",
              "      </script>\n",
              "    </div>\n",
              "  </div>\n",
              "  "
            ]
          },
          "metadata": {},
          "execution_count": 243
        }
      ],
      "source": [
        "# изучим таблицу участников тестов\n",
        "final_ab_participants = pd.read_csv('final_ab_participants.csv')\n",
        "final_ab_participants.head()"
      ]
    },
    {
      "cell_type": "code",
      "execution_count": 244,
      "metadata": {
        "colab": {
          "base_uri": "https://localhost:8080/"
        },
        "id": "SQbTkeU1iLcC",
        "outputId": "9d84401a-5ad9-4faf-fa4d-3135722f2516"
      },
      "outputs": [
        {
          "output_type": "stream",
          "name": "stdout",
          "text": [
            "<class 'pandas.core.frame.DataFrame'>\n",
            "RangeIndex: 18268 entries, 0 to 18267\n",
            "Data columns (total 3 columns):\n",
            " #   Column   Non-Null Count  Dtype \n",
            "---  ------   --------------  ----- \n",
            " 0   user_id  18268 non-null  object\n",
            " 1   group    18268 non-null  object\n",
            " 2   ab_test  18268 non-null  object\n",
            "dtypes: object(3)\n",
            "memory usage: 428.3+ KB\n"
          ]
        }
      ],
      "source": [
        "# получим общую информацию о таблице\n",
        "final_ab_participants.info()"
      ]
    },
    {
      "cell_type": "code",
      "execution_count": 245,
      "metadata": {
        "colab": {
          "base_uri": "https://localhost:8080/"
        },
        "id": "PtxkoFCJbCha",
        "outputId": "0407851b-f15d-4050-8547-abb0e360f9a6"
      },
      "outputs": [
        {
          "output_type": "execute_result",
          "data": {
            "text/plain": [
              "0"
            ]
          },
          "metadata": {},
          "execution_count": 245
        }
      ],
      "source": [
        "# проверим данные на явные дубликаты\n",
        "final_ab_participants.duplicated().sum()"
      ]
    },
    {
      "cell_type": "code",
      "execution_count": 246,
      "metadata": {
        "colab": {
          "base_uri": "https://localhost:8080/"
        },
        "id": "mVTHt_2ri2De",
        "outputId": "972214f6-90c2-42c5-cfab-db7ef934a23c"
      },
      "outputs": [
        {
          "output_type": "execute_result",
          "data": {
            "text/plain": [
              "array(['A', 'B'], dtype=object)"
            ]
          },
          "metadata": {},
          "execution_count": 246
        }
      ],
      "source": [
        "final_ab_participants['group'].unique()"
      ]
    },
    {
      "cell_type": "code",
      "execution_count": 247,
      "metadata": {
        "colab": {
          "base_uri": "https://localhost:8080/"
        },
        "id": "Ud6B5nv0iPik",
        "outputId": "254db454-8801-4c69-95f4-7dac1c0f68c3"
      },
      "outputs": [
        {
          "output_type": "execute_result",
          "data": {
            "text/plain": [
              "count                18268\n",
              "unique               16666\n",
              "top       0FDFDA0B2DEC2D91\n",
              "freq                     2\n",
              "Name: user_id, dtype: object"
            ]
          },
          "metadata": {},
          "execution_count": 247
        }
      ],
      "source": [
        "# проверим данные на аномалии\n",
        "final_ab_participants['user_id'] .describe()"
      ]
    },
    {
      "cell_type": "markdown",
      "metadata": {
        "id": "AzWunsbainOj"
      },
      "source": [
        "В тестах участвовало 16 666 уникальных пользователей, а в таблице действий новых пользователей 58 703 уникальных пользователя. "
      ]
    },
    {
      "cell_type": "code",
      "execution_count": 248,
      "metadata": {
        "colab": {
          "base_uri": "https://localhost:8080/"
        },
        "id": "9PNBTO7Yi8We",
        "outputId": "4c813b6c-4cd0-42f3-e1ec-b16197c28845"
      },
      "outputs": [
        {
          "output_type": "execute_result",
          "data": {
            "text/plain": [
              "array(['recommender_system_test', 'interface_eu_test'], dtype=object)"
            ]
          },
          "metadata": {},
          "execution_count": 248
        }
      ],
      "source": [
        "final_ab_participants['ab_test'].unique()"
      ]
    },
    {
      "cell_type": "markdown",
      "metadata": {
        "id": "X17b-HpijfkD"
      },
      "source": [
        "В таблице с участниками теста смешаны участники двух тестов `recommender_system_test` и `interface_eu_test`. Проверим есть ли пересечение между участниками и посчитаем количество уникальных участников recommender_system_test теста."
      ]
    },
    {
      "cell_type": "code",
      "execution_count": 249,
      "metadata": {
        "colab": {
          "base_uri": "https://localhost:8080/",
          "height": 179
        },
        "id": "-JJCjcDqj38C",
        "outputId": "96538912-98f3-4334-bf99-55e8f84fcc77"
      },
      "outputs": [
        {
          "output_type": "display_data",
          "data": {
            "text/plain": [
              "                         user_id\n",
              "ab_test                         \n",
              "interface_eu_test          11567\n",
              "recommender_system_test     6701"
            ],
            "text/html": [
              "\n",
              "  <div id=\"df-ce83fc47-a138-49d9-b30d-e65cbbb03d56\">\n",
              "    <div class=\"colab-df-container\">\n",
              "      <div>\n",
              "<style scoped>\n",
              "    .dataframe tbody tr th:only-of-type {\n",
              "        vertical-align: middle;\n",
              "    }\n",
              "\n",
              "    .dataframe tbody tr th {\n",
              "        vertical-align: top;\n",
              "    }\n",
              "\n",
              "    .dataframe thead th {\n",
              "        text-align: right;\n",
              "    }\n",
              "</style>\n",
              "<table border=\"1\" class=\"dataframe\">\n",
              "  <thead>\n",
              "    <tr style=\"text-align: right;\">\n",
              "      <th></th>\n",
              "      <th>user_id</th>\n",
              "    </tr>\n",
              "    <tr>\n",
              "      <th>ab_test</th>\n",
              "      <th></th>\n",
              "    </tr>\n",
              "  </thead>\n",
              "  <tbody>\n",
              "    <tr>\n",
              "      <th>interface_eu_test</th>\n",
              "      <td>11567</td>\n",
              "    </tr>\n",
              "    <tr>\n",
              "      <th>recommender_system_test</th>\n",
              "      <td>6701</td>\n",
              "    </tr>\n",
              "  </tbody>\n",
              "</table>\n",
              "</div>\n",
              "      <button class=\"colab-df-convert\" onclick=\"convertToInteractive('df-ce83fc47-a138-49d9-b30d-e65cbbb03d56')\"\n",
              "              title=\"Convert this dataframe to an interactive table.\"\n",
              "              style=\"display:none;\">\n",
              "        \n",
              "  <svg xmlns=\"http://www.w3.org/2000/svg\" height=\"24px\"viewBox=\"0 0 24 24\"\n",
              "       width=\"24px\">\n",
              "    <path d=\"M0 0h24v24H0V0z\" fill=\"none\"/>\n",
              "    <path d=\"M18.56 5.44l.94 2.06.94-2.06 2.06-.94-2.06-.94-.94-2.06-.94 2.06-2.06.94zm-11 1L8.5 8.5l.94-2.06 2.06-.94-2.06-.94L8.5 2.5l-.94 2.06-2.06.94zm10 10l.94 2.06.94-2.06 2.06-.94-2.06-.94-.94-2.06-.94 2.06-2.06.94z\"/><path d=\"M17.41 7.96l-1.37-1.37c-.4-.4-.92-.59-1.43-.59-.52 0-1.04.2-1.43.59L10.3 9.45l-7.72 7.72c-.78.78-.78 2.05 0 2.83L4 21.41c.39.39.9.59 1.41.59.51 0 1.02-.2 1.41-.59l7.78-7.78 2.81-2.81c.8-.78.8-2.07 0-2.86zM5.41 20L4 18.59l7.72-7.72 1.47 1.35L5.41 20z\"/>\n",
              "  </svg>\n",
              "      </button>\n",
              "      \n",
              "  <style>\n",
              "    .colab-df-container {\n",
              "      display:flex;\n",
              "      flex-wrap:wrap;\n",
              "      gap: 12px;\n",
              "    }\n",
              "\n",
              "    .colab-df-convert {\n",
              "      background-color: #E8F0FE;\n",
              "      border: none;\n",
              "      border-radius: 50%;\n",
              "      cursor: pointer;\n",
              "      display: none;\n",
              "      fill: #1967D2;\n",
              "      height: 32px;\n",
              "      padding: 0 0 0 0;\n",
              "      width: 32px;\n",
              "    }\n",
              "\n",
              "    .colab-df-convert:hover {\n",
              "      background-color: #E2EBFA;\n",
              "      box-shadow: 0px 1px 2px rgba(60, 64, 67, 0.3), 0px 1px 3px 1px rgba(60, 64, 67, 0.15);\n",
              "      fill: #174EA6;\n",
              "    }\n",
              "\n",
              "    [theme=dark] .colab-df-convert {\n",
              "      background-color: #3B4455;\n",
              "      fill: #D2E3FC;\n",
              "    }\n",
              "\n",
              "    [theme=dark] .colab-df-convert:hover {\n",
              "      background-color: #434B5C;\n",
              "      box-shadow: 0px 1px 3px 1px rgba(0, 0, 0, 0.15);\n",
              "      filter: drop-shadow(0px 1px 2px rgba(0, 0, 0, 0.3));\n",
              "      fill: #FFFFFF;\n",
              "    }\n",
              "  </style>\n",
              "\n",
              "      <script>\n",
              "        const buttonEl =\n",
              "          document.querySelector('#df-ce83fc47-a138-49d9-b30d-e65cbbb03d56 button.colab-df-convert');\n",
              "        buttonEl.style.display =\n",
              "          google.colab.kernel.accessAllowed ? 'block' : 'none';\n",
              "\n",
              "        async function convertToInteractive(key) {\n",
              "          const element = document.querySelector('#df-ce83fc47-a138-49d9-b30d-e65cbbb03d56');\n",
              "          const dataTable =\n",
              "            await google.colab.kernel.invokeFunction('convertToInteractive',\n",
              "                                                     [key], {});\n",
              "          if (!dataTable) return;\n",
              "\n",
              "          const docLinkHtml = 'Like what you see? Visit the ' +\n",
              "            '<a target=\"_blank\" href=https://colab.research.google.com/notebooks/data_table.ipynb>data table notebook</a>'\n",
              "            + ' to learn more about interactive tables.';\n",
              "          element.innerHTML = '';\n",
              "          dataTable['output_type'] = 'display_data';\n",
              "          await google.colab.output.renderOutput(dataTable, element);\n",
              "          const docLink = document.createElement('div');\n",
              "          docLink.innerHTML = docLinkHtml;\n",
              "          element.appendChild(docLink);\n",
              "        }\n",
              "      </script>\n",
              "    </div>\n",
              "  </div>\n",
              "  "
            ]
          },
          "metadata": {}
        },
        {
          "output_type": "execute_result",
          "data": {
            "text/plain": [
              "user_id    18268\n",
              "dtype: int64"
            ]
          },
          "metadata": {},
          "execution_count": 249
        }
      ],
      "source": [
        "display(final_ab_participants.groupby('ab_test').agg({'user_id':'nunique'}))\n",
        "final_ab_participants.groupby('ab_test').agg({'user_id':'nunique'}).sum()"
      ]
    },
    {
      "cell_type": "markdown",
      "metadata": {
        "id": "rPIKYHlTk9Z_"
      },
      "source": [
        "В recommender_system_test участвовал 6701 участник. \n",
        "\n",
        "При разделении участников на разные тесты уникальное количество участников стало больше на 1602, значит участники двух тестов пересекаются. "
      ]
    },
    {
      "cell_type": "code",
      "execution_count": 250,
      "metadata": {
        "id": "iqmy2_1Emqp8"
      },
      "outputs": [],
      "source": [
        "# сформируем список участников обоих тестов\n",
        "interface_eu_test_participants = final_ab_participants.query('ab_test == \"interface_eu_test\"')['user_id'].unique()\n",
        "recommender_system_test_participants = final_ab_participants.query('ab_test == \"recommender_system_test\"')['user_id'].unique()\n",
        "\n"
      ]
    },
    {
      "cell_type": "code",
      "execution_count": 251,
      "metadata": {
        "colab": {
          "base_uri": "https://localhost:8080/"
        },
        "id": "y8UsM2CdsfOb",
        "outputId": "c84d8f7d-ca65-48f1-b638-669e9554750e"
      },
      "outputs": [
        {
          "output_type": "execute_result",
          "data": {
            "text/plain": [
              "1602"
            ]
          },
          "metadata": {},
          "execution_count": 251
        }
      ],
      "source": [
        "# сформируем список тех пользователей, которые участвовали в обоих тестах сразу\n",
        "final_ab_participants_both = final_ab_participants.query('user_id in @interface_eu_test_participants and user_id in @recommender_system_test_participants')\n",
        "\n",
        "final_ab_participants_both['user_id'].nunique()\n",
        "\n"
      ]
    },
    {
      "cell_type": "markdown",
      "metadata": {
        "id": "yjHZfKa1sfOb"
      },
      "source": [
        "1602 пользователя участвовали в двух тестах. Посмотрим, сколько пользователей из этого списка участвуют в группе В eu теста, т.е. взаимодействовали с изменениями."
      ]
    },
    {
      "cell_type": "code",
      "execution_count": 252,
      "metadata": {
        "colab": {
          "base_uri": "https://localhost:8080/",
          "height": 175
        },
        "id": "IBbvflQnsfOb",
        "outputId": "22a2158b-eb06-47a2-a8a4-97e17a39aeca"
      },
      "outputs": [
        {
          "output_type": "execute_result",
          "data": {
            "text/plain": [
              "                        user_id     \n",
              "group                         A    B\n",
              "ab_test                             \n",
              "interface_eu_test           819  783\n",
              "recommender_system_test     921  681"
            ],
            "text/html": [
              "\n",
              "  <div id=\"df-f53dad56-7e4b-4e66-ada8-3e6d8a613ba9\">\n",
              "    <div class=\"colab-df-container\">\n",
              "      <div>\n",
              "<style scoped>\n",
              "    .dataframe tbody tr th:only-of-type {\n",
              "        vertical-align: middle;\n",
              "    }\n",
              "\n",
              "    .dataframe tbody tr th {\n",
              "        vertical-align: top;\n",
              "    }\n",
              "\n",
              "    .dataframe thead tr th {\n",
              "        text-align: left;\n",
              "    }\n",
              "\n",
              "    .dataframe thead tr:last-of-type th {\n",
              "        text-align: right;\n",
              "    }\n",
              "</style>\n",
              "<table border=\"1\" class=\"dataframe\">\n",
              "  <thead>\n",
              "    <tr>\n",
              "      <th></th>\n",
              "      <th colspan=\"2\" halign=\"left\">user_id</th>\n",
              "    </tr>\n",
              "    <tr>\n",
              "      <th>group</th>\n",
              "      <th>A</th>\n",
              "      <th>B</th>\n",
              "    </tr>\n",
              "    <tr>\n",
              "      <th>ab_test</th>\n",
              "      <th></th>\n",
              "      <th></th>\n",
              "    </tr>\n",
              "  </thead>\n",
              "  <tbody>\n",
              "    <tr>\n",
              "      <th>interface_eu_test</th>\n",
              "      <td>819</td>\n",
              "      <td>783</td>\n",
              "    </tr>\n",
              "    <tr>\n",
              "      <th>recommender_system_test</th>\n",
              "      <td>921</td>\n",
              "      <td>681</td>\n",
              "    </tr>\n",
              "  </tbody>\n",
              "</table>\n",
              "</div>\n",
              "      <button class=\"colab-df-convert\" onclick=\"convertToInteractive('df-f53dad56-7e4b-4e66-ada8-3e6d8a613ba9')\"\n",
              "              title=\"Convert this dataframe to an interactive table.\"\n",
              "              style=\"display:none;\">\n",
              "        \n",
              "  <svg xmlns=\"http://www.w3.org/2000/svg\" height=\"24px\"viewBox=\"0 0 24 24\"\n",
              "       width=\"24px\">\n",
              "    <path d=\"M0 0h24v24H0V0z\" fill=\"none\"/>\n",
              "    <path d=\"M18.56 5.44l.94 2.06.94-2.06 2.06-.94-2.06-.94-.94-2.06-.94 2.06-2.06.94zm-11 1L8.5 8.5l.94-2.06 2.06-.94-2.06-.94L8.5 2.5l-.94 2.06-2.06.94zm10 10l.94 2.06.94-2.06 2.06-.94-2.06-.94-.94-2.06-.94 2.06-2.06.94z\"/><path d=\"M17.41 7.96l-1.37-1.37c-.4-.4-.92-.59-1.43-.59-.52 0-1.04.2-1.43.59L10.3 9.45l-7.72 7.72c-.78.78-.78 2.05 0 2.83L4 21.41c.39.39.9.59 1.41.59.51 0 1.02-.2 1.41-.59l7.78-7.78 2.81-2.81c.8-.78.8-2.07 0-2.86zM5.41 20L4 18.59l7.72-7.72 1.47 1.35L5.41 20z\"/>\n",
              "  </svg>\n",
              "      </button>\n",
              "      \n",
              "  <style>\n",
              "    .colab-df-container {\n",
              "      display:flex;\n",
              "      flex-wrap:wrap;\n",
              "      gap: 12px;\n",
              "    }\n",
              "\n",
              "    .colab-df-convert {\n",
              "      background-color: #E8F0FE;\n",
              "      border: none;\n",
              "      border-radius: 50%;\n",
              "      cursor: pointer;\n",
              "      display: none;\n",
              "      fill: #1967D2;\n",
              "      height: 32px;\n",
              "      padding: 0 0 0 0;\n",
              "      width: 32px;\n",
              "    }\n",
              "\n",
              "    .colab-df-convert:hover {\n",
              "      background-color: #E2EBFA;\n",
              "      box-shadow: 0px 1px 2px rgba(60, 64, 67, 0.3), 0px 1px 3px 1px rgba(60, 64, 67, 0.15);\n",
              "      fill: #174EA6;\n",
              "    }\n",
              "\n",
              "    [theme=dark] .colab-df-convert {\n",
              "      background-color: #3B4455;\n",
              "      fill: #D2E3FC;\n",
              "    }\n",
              "\n",
              "    [theme=dark] .colab-df-convert:hover {\n",
              "      background-color: #434B5C;\n",
              "      box-shadow: 0px 1px 3px 1px rgba(0, 0, 0, 0.15);\n",
              "      filter: drop-shadow(0px 1px 2px rgba(0, 0, 0, 0.3));\n",
              "      fill: #FFFFFF;\n",
              "    }\n",
              "  </style>\n",
              "\n",
              "      <script>\n",
              "        const buttonEl =\n",
              "          document.querySelector('#df-f53dad56-7e4b-4e66-ada8-3e6d8a613ba9 button.colab-df-convert');\n",
              "        buttonEl.style.display =\n",
              "          google.colab.kernel.accessAllowed ? 'block' : 'none';\n",
              "\n",
              "        async function convertToInteractive(key) {\n",
              "          const element = document.querySelector('#df-f53dad56-7e4b-4e66-ada8-3e6d8a613ba9');\n",
              "          const dataTable =\n",
              "            await google.colab.kernel.invokeFunction('convertToInteractive',\n",
              "                                                     [key], {});\n",
              "          if (!dataTable) return;\n",
              "\n",
              "          const docLinkHtml = 'Like what you see? Visit the ' +\n",
              "            '<a target=\"_blank\" href=https://colab.research.google.com/notebooks/data_table.ipynb>data table notebook</a>'\n",
              "            + ' to learn more about interactive tables.';\n",
              "          element.innerHTML = '';\n",
              "          dataTable['output_type'] = 'display_data';\n",
              "          await google.colab.output.renderOutput(dataTable, element);\n",
              "          const docLink = document.createElement('div');\n",
              "          docLink.innerHTML = docLinkHtml;\n",
              "          element.appendChild(docLink);\n",
              "        }\n",
              "      </script>\n",
              "    </div>\n",
              "  </div>\n",
              "  "
            ]
          },
          "metadata": {},
          "execution_count": 252
        }
      ],
      "source": [
        "final_ab_participants_both.pivot_table(index='ab_test', columns='group', aggfunc='nunique')"
      ]
    },
    {
      "cell_type": "markdown",
      "metadata": {
        "id": "KmOdnnx4sfOb"
      },
      "source": [
        "783 человека из участников обоих тестов вошли в группу В eu теста.\n",
        "\n",
        "Создадим списки таких участников."
      ]
    },
    {
      "cell_type": "code",
      "execution_count": 253,
      "metadata": {
        "id": "QHswA__AsfOb"
      },
      "outputs": [],
      "source": [
        "eu_group_a = final_ab_participants_both.query('ab_test == \"interface_eu_test\" and group == \"A\"')['user_id'].unique()\n",
        "eu_group_b = final_ab_participants_both.query('ab_test == \"interface_eu_test\" and group == \"B\"')['user_id'].unique()\n",
        "\n",
        "rec_group_a = final_ab_participants_both.query('ab_test == \"recommender_system_test\" and group == \"A\"')['user_id'].unique()\n",
        "rec_group_b = final_ab_participants_both.query('ab_test == \"recommender_system_test\" and group == \"B\"')['user_id'].unique()\n"
      ]
    },
    {
      "cell_type": "markdown",
      "metadata": {
        "id": "K0XehfWosfOb"
      },
      "source": [
        "Посмотрим, как пользователи из группы В второго теста распределены в группах А и В исследуемого теста, если их распределение одинаково, то мы можем говорить об одинаковом влиянии пользователей второго теста на наш тест, что не должно отразиться на основном результате - изменении конверсии в группе В по сравнению с группой А."
      ]
    },
    {
      "cell_type": "code",
      "execution_count": 254,
      "metadata": {
        "colab": {
          "base_uri": "https://localhost:8080/",
          "height": 143
        },
        "id": "UE4CchCIsfOb",
        "outputId": "b4b6e41e-2f3e-4be4-97f8-f13f11217d94"
      },
      "outputs": [
        {
          "output_type": "execute_result",
          "data": {
            "text/plain": [
              "       user_id\n",
              "group         \n",
              "A          439\n",
              "B          344"
            ],
            "text/html": [
              "\n",
              "  <div id=\"df-4086ee8c-bd16-450b-9240-56cca580e819\">\n",
              "    <div class=\"colab-df-container\">\n",
              "      <div>\n",
              "<style scoped>\n",
              "    .dataframe tbody tr th:only-of-type {\n",
              "        vertical-align: middle;\n",
              "    }\n",
              "\n",
              "    .dataframe tbody tr th {\n",
              "        vertical-align: top;\n",
              "    }\n",
              "\n",
              "    .dataframe thead th {\n",
              "        text-align: right;\n",
              "    }\n",
              "</style>\n",
              "<table border=\"1\" class=\"dataframe\">\n",
              "  <thead>\n",
              "    <tr style=\"text-align: right;\">\n",
              "      <th></th>\n",
              "      <th>user_id</th>\n",
              "    </tr>\n",
              "    <tr>\n",
              "      <th>group</th>\n",
              "      <th></th>\n",
              "    </tr>\n",
              "  </thead>\n",
              "  <tbody>\n",
              "    <tr>\n",
              "      <th>A</th>\n",
              "      <td>439</td>\n",
              "    </tr>\n",
              "    <tr>\n",
              "      <th>B</th>\n",
              "      <td>344</td>\n",
              "    </tr>\n",
              "  </tbody>\n",
              "</table>\n",
              "</div>\n",
              "      <button class=\"colab-df-convert\" onclick=\"convertToInteractive('df-4086ee8c-bd16-450b-9240-56cca580e819')\"\n",
              "              title=\"Convert this dataframe to an interactive table.\"\n",
              "              style=\"display:none;\">\n",
              "        \n",
              "  <svg xmlns=\"http://www.w3.org/2000/svg\" height=\"24px\"viewBox=\"0 0 24 24\"\n",
              "       width=\"24px\">\n",
              "    <path d=\"M0 0h24v24H0V0z\" fill=\"none\"/>\n",
              "    <path d=\"M18.56 5.44l.94 2.06.94-2.06 2.06-.94-2.06-.94-.94-2.06-.94 2.06-2.06.94zm-11 1L8.5 8.5l.94-2.06 2.06-.94-2.06-.94L8.5 2.5l-.94 2.06-2.06.94zm10 10l.94 2.06.94-2.06 2.06-.94-2.06-.94-.94-2.06-.94 2.06-2.06.94z\"/><path d=\"M17.41 7.96l-1.37-1.37c-.4-.4-.92-.59-1.43-.59-.52 0-1.04.2-1.43.59L10.3 9.45l-7.72 7.72c-.78.78-.78 2.05 0 2.83L4 21.41c.39.39.9.59 1.41.59.51 0 1.02-.2 1.41-.59l7.78-7.78 2.81-2.81c.8-.78.8-2.07 0-2.86zM5.41 20L4 18.59l7.72-7.72 1.47 1.35L5.41 20z\"/>\n",
              "  </svg>\n",
              "      </button>\n",
              "      \n",
              "  <style>\n",
              "    .colab-df-container {\n",
              "      display:flex;\n",
              "      flex-wrap:wrap;\n",
              "      gap: 12px;\n",
              "    }\n",
              "\n",
              "    .colab-df-convert {\n",
              "      background-color: #E8F0FE;\n",
              "      border: none;\n",
              "      border-radius: 50%;\n",
              "      cursor: pointer;\n",
              "      display: none;\n",
              "      fill: #1967D2;\n",
              "      height: 32px;\n",
              "      padding: 0 0 0 0;\n",
              "      width: 32px;\n",
              "    }\n",
              "\n",
              "    .colab-df-convert:hover {\n",
              "      background-color: #E2EBFA;\n",
              "      box-shadow: 0px 1px 2px rgba(60, 64, 67, 0.3), 0px 1px 3px 1px rgba(60, 64, 67, 0.15);\n",
              "      fill: #174EA6;\n",
              "    }\n",
              "\n",
              "    [theme=dark] .colab-df-convert {\n",
              "      background-color: #3B4455;\n",
              "      fill: #D2E3FC;\n",
              "    }\n",
              "\n",
              "    [theme=dark] .colab-df-convert:hover {\n",
              "      background-color: #434B5C;\n",
              "      box-shadow: 0px 1px 3px 1px rgba(0, 0, 0, 0.15);\n",
              "      filter: drop-shadow(0px 1px 2px rgba(0, 0, 0, 0.3));\n",
              "      fill: #FFFFFF;\n",
              "    }\n",
              "  </style>\n",
              "\n",
              "      <script>\n",
              "        const buttonEl =\n",
              "          document.querySelector('#df-4086ee8c-bd16-450b-9240-56cca580e819 button.colab-df-convert');\n",
              "        buttonEl.style.display =\n",
              "          google.colab.kernel.accessAllowed ? 'block' : 'none';\n",
              "\n",
              "        async function convertToInteractive(key) {\n",
              "          const element = document.querySelector('#df-4086ee8c-bd16-450b-9240-56cca580e819');\n",
              "          const dataTable =\n",
              "            await google.colab.kernel.invokeFunction('convertToInteractive',\n",
              "                                                     [key], {});\n",
              "          if (!dataTable) return;\n",
              "\n",
              "          const docLinkHtml = 'Like what you see? Visit the ' +\n",
              "            '<a target=\"_blank\" href=https://colab.research.google.com/notebooks/data_table.ipynb>data table notebook</a>'\n",
              "            + ' to learn more about interactive tables.';\n",
              "          element.innerHTML = '';\n",
              "          dataTable['output_type'] = 'display_data';\n",
              "          await google.colab.output.renderOutput(dataTable, element);\n",
              "          const docLink = document.createElement('div');\n",
              "          docLink.innerHTML = docLinkHtml;\n",
              "          element.appendChild(docLink);\n",
              "        }\n",
              "      </script>\n",
              "    </div>\n",
              "  </div>\n",
              "  "
            ]
          },
          "metadata": {},
          "execution_count": 254
        }
      ],
      "source": [
        "(\n",
        "    final_ab_participants_both\n",
        ".query('ab_test == \"recommender_system_test\" and user_id in @eu_group_b')\n",
        ".groupby('group').agg({'user_id':'nunique'})\n",
        ")"
      ]
    },
    {
      "cell_type": "markdown",
      "metadata": {
        "id": "encfzTDtsfOb"
      },
      "source": [
        "Распределение неравномерно. Значит нам стоит удалить пересекающихся участников из группы В eu теста, то есть на решения которых могли повлиять изменения eu теста."
      ]
    },
    {
      "cell_type": "code",
      "execution_count": 255,
      "metadata": {
        "colab": {
          "base_uri": "https://localhost:8080/",
          "height": 112
        },
        "id": "OHlgufOKsfOb",
        "outputId": "c332172a-d845-4a18-ccd7-bbeaee2eaf62"
      },
      "outputs": [
        {
          "output_type": "execute_result",
          "data": {
            "text/plain": [
              "                         user_id\n",
              "ab_test                         \n",
              "recommender_system_test     5918"
            ],
            "text/html": [
              "\n",
              "  <div id=\"df-41eac6c8-15a8-446f-bf18-e15a89d7a381\">\n",
              "    <div class=\"colab-df-container\">\n",
              "      <div>\n",
              "<style scoped>\n",
              "    .dataframe tbody tr th:only-of-type {\n",
              "        vertical-align: middle;\n",
              "    }\n",
              "\n",
              "    .dataframe tbody tr th {\n",
              "        vertical-align: top;\n",
              "    }\n",
              "\n",
              "    .dataframe thead th {\n",
              "        text-align: right;\n",
              "    }\n",
              "</style>\n",
              "<table border=\"1\" class=\"dataframe\">\n",
              "  <thead>\n",
              "    <tr style=\"text-align: right;\">\n",
              "      <th></th>\n",
              "      <th>user_id</th>\n",
              "    </tr>\n",
              "    <tr>\n",
              "      <th>ab_test</th>\n",
              "      <th></th>\n",
              "    </tr>\n",
              "  </thead>\n",
              "  <tbody>\n",
              "    <tr>\n",
              "      <th>recommender_system_test</th>\n",
              "      <td>5918</td>\n",
              "    </tr>\n",
              "  </tbody>\n",
              "</table>\n",
              "</div>\n",
              "      <button class=\"colab-df-convert\" onclick=\"convertToInteractive('df-41eac6c8-15a8-446f-bf18-e15a89d7a381')\"\n",
              "              title=\"Convert this dataframe to an interactive table.\"\n",
              "              style=\"display:none;\">\n",
              "        \n",
              "  <svg xmlns=\"http://www.w3.org/2000/svg\" height=\"24px\"viewBox=\"0 0 24 24\"\n",
              "       width=\"24px\">\n",
              "    <path d=\"M0 0h24v24H0V0z\" fill=\"none\"/>\n",
              "    <path d=\"M18.56 5.44l.94 2.06.94-2.06 2.06-.94-2.06-.94-.94-2.06-.94 2.06-2.06.94zm-11 1L8.5 8.5l.94-2.06 2.06-.94-2.06-.94L8.5 2.5l-.94 2.06-2.06.94zm10 10l.94 2.06.94-2.06 2.06-.94-2.06-.94-.94-2.06-.94 2.06-2.06.94z\"/><path d=\"M17.41 7.96l-1.37-1.37c-.4-.4-.92-.59-1.43-.59-.52 0-1.04.2-1.43.59L10.3 9.45l-7.72 7.72c-.78.78-.78 2.05 0 2.83L4 21.41c.39.39.9.59 1.41.59.51 0 1.02-.2 1.41-.59l7.78-7.78 2.81-2.81c.8-.78.8-2.07 0-2.86zM5.41 20L4 18.59l7.72-7.72 1.47 1.35L5.41 20z\"/>\n",
              "  </svg>\n",
              "      </button>\n",
              "      \n",
              "  <style>\n",
              "    .colab-df-container {\n",
              "      display:flex;\n",
              "      flex-wrap:wrap;\n",
              "      gap: 12px;\n",
              "    }\n",
              "\n",
              "    .colab-df-convert {\n",
              "      background-color: #E8F0FE;\n",
              "      border: none;\n",
              "      border-radius: 50%;\n",
              "      cursor: pointer;\n",
              "      display: none;\n",
              "      fill: #1967D2;\n",
              "      height: 32px;\n",
              "      padding: 0 0 0 0;\n",
              "      width: 32px;\n",
              "    }\n",
              "\n",
              "    .colab-df-convert:hover {\n",
              "      background-color: #E2EBFA;\n",
              "      box-shadow: 0px 1px 2px rgba(60, 64, 67, 0.3), 0px 1px 3px 1px rgba(60, 64, 67, 0.15);\n",
              "      fill: #174EA6;\n",
              "    }\n",
              "\n",
              "    [theme=dark] .colab-df-convert {\n",
              "      background-color: #3B4455;\n",
              "      fill: #D2E3FC;\n",
              "    }\n",
              "\n",
              "    [theme=dark] .colab-df-convert:hover {\n",
              "      background-color: #434B5C;\n",
              "      box-shadow: 0px 1px 3px 1px rgba(0, 0, 0, 0.15);\n",
              "      filter: drop-shadow(0px 1px 2px rgba(0, 0, 0, 0.3));\n",
              "      fill: #FFFFFF;\n",
              "    }\n",
              "  </style>\n",
              "\n",
              "      <script>\n",
              "        const buttonEl =\n",
              "          document.querySelector('#df-41eac6c8-15a8-446f-bf18-e15a89d7a381 button.colab-df-convert');\n",
              "        buttonEl.style.display =\n",
              "          google.colab.kernel.accessAllowed ? 'block' : 'none';\n",
              "\n",
              "        async function convertToInteractive(key) {\n",
              "          const element = document.querySelector('#df-41eac6c8-15a8-446f-bf18-e15a89d7a381');\n",
              "          const dataTable =\n",
              "            await google.colab.kernel.invokeFunction('convertToInteractive',\n",
              "                                                     [key], {});\n",
              "          if (!dataTable) return;\n",
              "\n",
              "          const docLinkHtml = 'Like what you see? Visit the ' +\n",
              "            '<a target=\"_blank\" href=https://colab.research.google.com/notebooks/data_table.ipynb>data table notebook</a>'\n",
              "            + ' to learn more about interactive tables.';\n",
              "          element.innerHTML = '';\n",
              "          dataTable['output_type'] = 'display_data';\n",
              "          await google.colab.output.renderOutput(dataTable, element);\n",
              "          const docLink = document.createElement('div');\n",
              "          docLink.innerHTML = docLinkHtml;\n",
              "          element.appendChild(docLink);\n",
              "        }\n",
              "      </script>\n",
              "    </div>\n",
              "  </div>\n",
              "  "
            ]
          },
          "metadata": {},
          "execution_count": 255
        }
      ],
      "source": [
        "# оставим только тех, участников, которые не участвовали в тесте группе В теста interface_eu_test\n",
        "final_ab_participants_new = final_ab_participants.query('user_id not in @eu_group_b and ab_test == \"recommender_system_test\"')\n",
        "final_ab_participants_new.groupby('ab_test').agg({'user_id':'nunique'})"
      ]
    },
    {
      "cell_type": "markdown",
      "metadata": {
        "id": "hoqsU7LLs4ku"
      },
      "source": [
        "Количество уникальных участников теста `recommender_system_test` после удаления пересекающихся участников стало 5918.\n",
        "\n",
        "Посмотрим на распределение участников между группами."
      ]
    },
    {
      "cell_type": "code",
      "execution_count": 256,
      "metadata": {
        "colab": {
          "base_uri": "https://localhost:8080/",
          "height": 112
        },
        "id": "vZcA90uDtKHv",
        "outputId": "c081b925-c0f0-427d-a3fc-b61a706d18cc"
      },
      "outputs": [
        {
          "output_type": "execute_result",
          "data": {
            "text/plain": [
              "  group  user_id\n",
              "0     A     3385\n",
              "1     B     2533"
            ],
            "text/html": [
              "\n",
              "  <div id=\"df-ee5e83e9-3359-4815-ad58-c0d8c9be79e4\">\n",
              "    <div class=\"colab-df-container\">\n",
              "      <div>\n",
              "<style scoped>\n",
              "    .dataframe tbody tr th:only-of-type {\n",
              "        vertical-align: middle;\n",
              "    }\n",
              "\n",
              "    .dataframe tbody tr th {\n",
              "        vertical-align: top;\n",
              "    }\n",
              "\n",
              "    .dataframe thead th {\n",
              "        text-align: right;\n",
              "    }\n",
              "</style>\n",
              "<table border=\"1\" class=\"dataframe\">\n",
              "  <thead>\n",
              "    <tr style=\"text-align: right;\">\n",
              "      <th></th>\n",
              "      <th>group</th>\n",
              "      <th>user_id</th>\n",
              "    </tr>\n",
              "  </thead>\n",
              "  <tbody>\n",
              "    <tr>\n",
              "      <th>0</th>\n",
              "      <td>A</td>\n",
              "      <td>3385</td>\n",
              "    </tr>\n",
              "    <tr>\n",
              "      <th>1</th>\n",
              "      <td>B</td>\n",
              "      <td>2533</td>\n",
              "    </tr>\n",
              "  </tbody>\n",
              "</table>\n",
              "</div>\n",
              "      <button class=\"colab-df-convert\" onclick=\"convertToInteractive('df-ee5e83e9-3359-4815-ad58-c0d8c9be79e4')\"\n",
              "              title=\"Convert this dataframe to an interactive table.\"\n",
              "              style=\"display:none;\">\n",
              "        \n",
              "  <svg xmlns=\"http://www.w3.org/2000/svg\" height=\"24px\"viewBox=\"0 0 24 24\"\n",
              "       width=\"24px\">\n",
              "    <path d=\"M0 0h24v24H0V0z\" fill=\"none\"/>\n",
              "    <path d=\"M18.56 5.44l.94 2.06.94-2.06 2.06-.94-2.06-.94-.94-2.06-.94 2.06-2.06.94zm-11 1L8.5 8.5l.94-2.06 2.06-.94-2.06-.94L8.5 2.5l-.94 2.06-2.06.94zm10 10l.94 2.06.94-2.06 2.06-.94-2.06-.94-.94-2.06-.94 2.06-2.06.94z\"/><path d=\"M17.41 7.96l-1.37-1.37c-.4-.4-.92-.59-1.43-.59-.52 0-1.04.2-1.43.59L10.3 9.45l-7.72 7.72c-.78.78-.78 2.05 0 2.83L4 21.41c.39.39.9.59 1.41.59.51 0 1.02-.2 1.41-.59l7.78-7.78 2.81-2.81c.8-.78.8-2.07 0-2.86zM5.41 20L4 18.59l7.72-7.72 1.47 1.35L5.41 20z\"/>\n",
              "  </svg>\n",
              "      </button>\n",
              "      \n",
              "  <style>\n",
              "    .colab-df-container {\n",
              "      display:flex;\n",
              "      flex-wrap:wrap;\n",
              "      gap: 12px;\n",
              "    }\n",
              "\n",
              "    .colab-df-convert {\n",
              "      background-color: #E8F0FE;\n",
              "      border: none;\n",
              "      border-radius: 50%;\n",
              "      cursor: pointer;\n",
              "      display: none;\n",
              "      fill: #1967D2;\n",
              "      height: 32px;\n",
              "      padding: 0 0 0 0;\n",
              "      width: 32px;\n",
              "    }\n",
              "\n",
              "    .colab-df-convert:hover {\n",
              "      background-color: #E2EBFA;\n",
              "      box-shadow: 0px 1px 2px rgba(60, 64, 67, 0.3), 0px 1px 3px 1px rgba(60, 64, 67, 0.15);\n",
              "      fill: #174EA6;\n",
              "    }\n",
              "\n",
              "    [theme=dark] .colab-df-convert {\n",
              "      background-color: #3B4455;\n",
              "      fill: #D2E3FC;\n",
              "    }\n",
              "\n",
              "    [theme=dark] .colab-df-convert:hover {\n",
              "      background-color: #434B5C;\n",
              "      box-shadow: 0px 1px 3px 1px rgba(0, 0, 0, 0.15);\n",
              "      filter: drop-shadow(0px 1px 2px rgba(0, 0, 0, 0.3));\n",
              "      fill: #FFFFFF;\n",
              "    }\n",
              "  </style>\n",
              "\n",
              "      <script>\n",
              "        const buttonEl =\n",
              "          document.querySelector('#df-ee5e83e9-3359-4815-ad58-c0d8c9be79e4 button.colab-df-convert');\n",
              "        buttonEl.style.display =\n",
              "          google.colab.kernel.accessAllowed ? 'block' : 'none';\n",
              "\n",
              "        async function convertToInteractive(key) {\n",
              "          const element = document.querySelector('#df-ee5e83e9-3359-4815-ad58-c0d8c9be79e4');\n",
              "          const dataTable =\n",
              "            await google.colab.kernel.invokeFunction('convertToInteractive',\n",
              "                                                     [key], {});\n",
              "          if (!dataTable) return;\n",
              "\n",
              "          const docLinkHtml = 'Like what you see? Visit the ' +\n",
              "            '<a target=\"_blank\" href=https://colab.research.google.com/notebooks/data_table.ipynb>data table notebook</a>'\n",
              "            + ' to learn more about interactive tables.';\n",
              "          element.innerHTML = '';\n",
              "          dataTable['output_type'] = 'display_data';\n",
              "          await google.colab.output.renderOutput(dataTable, element);\n",
              "          const docLink = document.createElement('div');\n",
              "          docLink.innerHTML = docLinkHtml;\n",
              "          element.appendChild(docLink);\n",
              "        }\n",
              "      </script>\n",
              "    </div>\n",
              "  </div>\n",
              "  "
            ]
          },
          "metadata": {},
          "execution_count": 256
        }
      ],
      "source": [
        "group_users = final_ab_participants_new.groupby('group', as_index=False).agg({'user_id':'nunique'})\n",
        "group_users"
      ]
    },
    {
      "cell_type": "code",
      "execution_count": 257,
      "metadata": {
        "colab": {
          "base_uri": "https://localhost:8080/"
        },
        "id": "FX9cnksdw7l5",
        "outputId": "61b7fe40-9cec-412f-da20-78a46763ab4d"
      },
      "outputs": [
        {
          "output_type": "execute_result",
          "data": {
            "text/plain": [
              "0.33636004737465464"
            ]
          },
          "metadata": {},
          "execution_count": 257
        }
      ],
      "source": [
        "# посчитаем относительную разницу между количеством пользователей в группах\n",
        "group_users['user_id'][0]/group_users['user_id'][1] - 1"
      ]
    },
    {
      "cell_type": "markdown",
      "metadata": {
        "id": "VNJj5uC8Z6b0"
      },
      "source": [
        "Относительное различие количества пользователей равно 33%. Результаты могут быть очень сильно искажены."
      ]
    },
    {
      "cell_type": "markdown",
      "metadata": {
        "id": "JmwrtU0LC2fV"
      },
      "source": [
        "**Вывод**\n",
        "\n",
        "Изучение таблицы с данными об участниках тестов позволяет нам сделать следующие выводы:\n",
        "- в таблице 18268 строки и 3 столбца, нет явных дубликатов и пропусков;\n",
        "- в обоих тестах участвует 16 666 уникальных пользователей, 6701 - `recommender_system_test`;\n",
        "- в таблице с участниками теста смешаны участники двух тестов `recommender_system_test` и `interface_eu_test`. После удаления участников группы В `interface_eu_test` теста осталось 5918 уникальных участников теста `recommender_system_test`, в то время как ожидаемое количество участников теста согласно ТЗ 6000 человек;\n",
        "- после разделения участников теста по группам относительное различие количества пользователей в двух группах равно 33%. Из-за неравномерного разделения результаты могут быть очень сильно искажены. "
      ]
    },
    {
      "cell_type": "code",
      "execution_count": 258,
      "metadata": {
        "colab": {
          "base_uri": "https://localhost:8080/",
          "height": 488
        },
        "id": "NRn3AgyrZ7Br",
        "outputId": "62d4c2ca-8797-4558-bba1-a5a1fbe0d9e0"
      },
      "outputs": [
        {
          "output_type": "execute_result",
          "data": {
            "text/plain": [
              "                                name                   regions    start_dt  \\\n",
              "6             Chinese New Year Promo                      APAC  2020-01-25   \n",
              "1       St. Valentine's Day Giveaway  EU, CIS, APAC, N.America  2020-02-14   \n",
              "8    International Women's Day Promo             EU, CIS, APAC  2020-03-08   \n",
              "2             St. Patric's Day Promo             EU, N.America  2020-03-17   \n",
              "3                       Easter Promo  EU, CIS, APAC, N.America  2020-04-12   \n",
              "7   Labor day (May 1st) Ads Campaign             EU, CIS, APAC  2020-05-01   \n",
              "9    Victory Day CIS (May 9th) Event                       CIS  2020-05-09   \n",
              "11     Dragon Boat Festival Giveaway                      APAC  2020-06-25   \n",
              "4                  4th of July Promo                 N.America  2020-07-04   \n",
              "13             Chinese Moon Festival                      APAC  2020-10-01   \n",
              "12           Single's Day Gift Promo                      APAC  2020-11-11   \n",
              "5          Black Friday Ads Campaign  EU, CIS, APAC, N.America  2020-11-26   \n",
              "0           Christmas&New Year Promo             EU, N.America  2020-12-25   \n",
              "10         CIS New Year Gift Lottery                       CIS  2020-12-30   \n",
              "\n",
              "     finish_dt  \n",
              "6   2020-02-07  \n",
              "1   2020-02-16  \n",
              "8   2020-03-10  \n",
              "2   2020-03-19  \n",
              "3   2020-04-19  \n",
              "7   2020-05-03  \n",
              "9   2020-05-11  \n",
              "11  2020-07-01  \n",
              "4   2020-07-11  \n",
              "13  2020-10-07  \n",
              "12  2020-11-12  \n",
              "5   2020-12-01  \n",
              "0   2021-01-03  \n",
              "10  2021-01-07  "
            ],
            "text/html": [
              "\n",
              "  <div id=\"df-c27c0e21-36b4-4e24-9f8d-384d267d3660\">\n",
              "    <div class=\"colab-df-container\">\n",
              "      <div>\n",
              "<style scoped>\n",
              "    .dataframe tbody tr th:only-of-type {\n",
              "        vertical-align: middle;\n",
              "    }\n",
              "\n",
              "    .dataframe tbody tr th {\n",
              "        vertical-align: top;\n",
              "    }\n",
              "\n",
              "    .dataframe thead th {\n",
              "        text-align: right;\n",
              "    }\n",
              "</style>\n",
              "<table border=\"1\" class=\"dataframe\">\n",
              "  <thead>\n",
              "    <tr style=\"text-align: right;\">\n",
              "      <th></th>\n",
              "      <th>name</th>\n",
              "      <th>regions</th>\n",
              "      <th>start_dt</th>\n",
              "      <th>finish_dt</th>\n",
              "    </tr>\n",
              "  </thead>\n",
              "  <tbody>\n",
              "    <tr>\n",
              "      <th>6</th>\n",
              "      <td>Chinese New Year Promo</td>\n",
              "      <td>APAC</td>\n",
              "      <td>2020-01-25</td>\n",
              "      <td>2020-02-07</td>\n",
              "    </tr>\n",
              "    <tr>\n",
              "      <th>1</th>\n",
              "      <td>St. Valentine's Day Giveaway</td>\n",
              "      <td>EU, CIS, APAC, N.America</td>\n",
              "      <td>2020-02-14</td>\n",
              "      <td>2020-02-16</td>\n",
              "    </tr>\n",
              "    <tr>\n",
              "      <th>8</th>\n",
              "      <td>International Women's Day Promo</td>\n",
              "      <td>EU, CIS, APAC</td>\n",
              "      <td>2020-03-08</td>\n",
              "      <td>2020-03-10</td>\n",
              "    </tr>\n",
              "    <tr>\n",
              "      <th>2</th>\n",
              "      <td>St. Patric's Day Promo</td>\n",
              "      <td>EU, N.America</td>\n",
              "      <td>2020-03-17</td>\n",
              "      <td>2020-03-19</td>\n",
              "    </tr>\n",
              "    <tr>\n",
              "      <th>3</th>\n",
              "      <td>Easter Promo</td>\n",
              "      <td>EU, CIS, APAC, N.America</td>\n",
              "      <td>2020-04-12</td>\n",
              "      <td>2020-04-19</td>\n",
              "    </tr>\n",
              "    <tr>\n",
              "      <th>7</th>\n",
              "      <td>Labor day (May 1st) Ads Campaign</td>\n",
              "      <td>EU, CIS, APAC</td>\n",
              "      <td>2020-05-01</td>\n",
              "      <td>2020-05-03</td>\n",
              "    </tr>\n",
              "    <tr>\n",
              "      <th>9</th>\n",
              "      <td>Victory Day CIS (May 9th) Event</td>\n",
              "      <td>CIS</td>\n",
              "      <td>2020-05-09</td>\n",
              "      <td>2020-05-11</td>\n",
              "    </tr>\n",
              "    <tr>\n",
              "      <th>11</th>\n",
              "      <td>Dragon Boat Festival Giveaway</td>\n",
              "      <td>APAC</td>\n",
              "      <td>2020-06-25</td>\n",
              "      <td>2020-07-01</td>\n",
              "    </tr>\n",
              "    <tr>\n",
              "      <th>4</th>\n",
              "      <td>4th of July Promo</td>\n",
              "      <td>N.America</td>\n",
              "      <td>2020-07-04</td>\n",
              "      <td>2020-07-11</td>\n",
              "    </tr>\n",
              "    <tr>\n",
              "      <th>13</th>\n",
              "      <td>Chinese Moon Festival</td>\n",
              "      <td>APAC</td>\n",
              "      <td>2020-10-01</td>\n",
              "      <td>2020-10-07</td>\n",
              "    </tr>\n",
              "    <tr>\n",
              "      <th>12</th>\n",
              "      <td>Single's Day Gift Promo</td>\n",
              "      <td>APAC</td>\n",
              "      <td>2020-11-11</td>\n",
              "      <td>2020-11-12</td>\n",
              "    </tr>\n",
              "    <tr>\n",
              "      <th>5</th>\n",
              "      <td>Black Friday Ads Campaign</td>\n",
              "      <td>EU, CIS, APAC, N.America</td>\n",
              "      <td>2020-11-26</td>\n",
              "      <td>2020-12-01</td>\n",
              "    </tr>\n",
              "    <tr>\n",
              "      <th>0</th>\n",
              "      <td>Christmas&amp;New Year Promo</td>\n",
              "      <td>EU, N.America</td>\n",
              "      <td>2020-12-25</td>\n",
              "      <td>2021-01-03</td>\n",
              "    </tr>\n",
              "    <tr>\n",
              "      <th>10</th>\n",
              "      <td>CIS New Year Gift Lottery</td>\n",
              "      <td>CIS</td>\n",
              "      <td>2020-12-30</td>\n",
              "      <td>2021-01-07</td>\n",
              "    </tr>\n",
              "  </tbody>\n",
              "</table>\n",
              "</div>\n",
              "      <button class=\"colab-df-convert\" onclick=\"convertToInteractive('df-c27c0e21-36b4-4e24-9f8d-384d267d3660')\"\n",
              "              title=\"Convert this dataframe to an interactive table.\"\n",
              "              style=\"display:none;\">\n",
              "        \n",
              "  <svg xmlns=\"http://www.w3.org/2000/svg\" height=\"24px\"viewBox=\"0 0 24 24\"\n",
              "       width=\"24px\">\n",
              "    <path d=\"M0 0h24v24H0V0z\" fill=\"none\"/>\n",
              "    <path d=\"M18.56 5.44l.94 2.06.94-2.06 2.06-.94-2.06-.94-.94-2.06-.94 2.06-2.06.94zm-11 1L8.5 8.5l.94-2.06 2.06-.94-2.06-.94L8.5 2.5l-.94 2.06-2.06.94zm10 10l.94 2.06.94-2.06 2.06-.94-2.06-.94-.94-2.06-.94 2.06-2.06.94z\"/><path d=\"M17.41 7.96l-1.37-1.37c-.4-.4-.92-.59-1.43-.59-.52 0-1.04.2-1.43.59L10.3 9.45l-7.72 7.72c-.78.78-.78 2.05 0 2.83L4 21.41c.39.39.9.59 1.41.59.51 0 1.02-.2 1.41-.59l7.78-7.78 2.81-2.81c.8-.78.8-2.07 0-2.86zM5.41 20L4 18.59l7.72-7.72 1.47 1.35L5.41 20z\"/>\n",
              "  </svg>\n",
              "      </button>\n",
              "      \n",
              "  <style>\n",
              "    .colab-df-container {\n",
              "      display:flex;\n",
              "      flex-wrap:wrap;\n",
              "      gap: 12px;\n",
              "    }\n",
              "\n",
              "    .colab-df-convert {\n",
              "      background-color: #E8F0FE;\n",
              "      border: none;\n",
              "      border-radius: 50%;\n",
              "      cursor: pointer;\n",
              "      display: none;\n",
              "      fill: #1967D2;\n",
              "      height: 32px;\n",
              "      padding: 0 0 0 0;\n",
              "      width: 32px;\n",
              "    }\n",
              "\n",
              "    .colab-df-convert:hover {\n",
              "      background-color: #E2EBFA;\n",
              "      box-shadow: 0px 1px 2px rgba(60, 64, 67, 0.3), 0px 1px 3px 1px rgba(60, 64, 67, 0.15);\n",
              "      fill: #174EA6;\n",
              "    }\n",
              "\n",
              "    [theme=dark] .colab-df-convert {\n",
              "      background-color: #3B4455;\n",
              "      fill: #D2E3FC;\n",
              "    }\n",
              "\n",
              "    [theme=dark] .colab-df-convert:hover {\n",
              "      background-color: #434B5C;\n",
              "      box-shadow: 0px 1px 3px 1px rgba(0, 0, 0, 0.15);\n",
              "      filter: drop-shadow(0px 1px 2px rgba(0, 0, 0, 0.3));\n",
              "      fill: #FFFFFF;\n",
              "    }\n",
              "  </style>\n",
              "\n",
              "      <script>\n",
              "        const buttonEl =\n",
              "          document.querySelector('#df-c27c0e21-36b4-4e24-9f8d-384d267d3660 button.colab-df-convert');\n",
              "        buttonEl.style.display =\n",
              "          google.colab.kernel.accessAllowed ? 'block' : 'none';\n",
              "\n",
              "        async function convertToInteractive(key) {\n",
              "          const element = document.querySelector('#df-c27c0e21-36b4-4e24-9f8d-384d267d3660');\n",
              "          const dataTable =\n",
              "            await google.colab.kernel.invokeFunction('convertToInteractive',\n",
              "                                                     [key], {});\n",
              "          if (!dataTable) return;\n",
              "\n",
              "          const docLinkHtml = 'Like what you see? Visit the ' +\n",
              "            '<a target=\"_blank\" href=https://colab.research.google.com/notebooks/data_table.ipynb>data table notebook</a>'\n",
              "            + ' to learn more about interactive tables.';\n",
              "          element.innerHTML = '';\n",
              "          dataTable['output_type'] = 'display_data';\n",
              "          await google.colab.output.renderOutput(dataTable, element);\n",
              "          const docLink = document.createElement('div');\n",
              "          docLink.innerHTML = docLinkHtml;\n",
              "          element.appendChild(docLink);\n",
              "        }\n",
              "      </script>\n",
              "    </div>\n",
              "  </div>\n",
              "  "
            ]
          },
          "metadata": {},
          "execution_count": 258
        }
      ],
      "source": [
        "# изучим календарь маркетинговых событий на 2020 год\n",
        "ab_project_marketing_events = pd.read_csv('ab_project_marketing_events.csv')\n",
        "ab_project_marketing_events.sort_values(by='finish_dt')"
      ]
    },
    {
      "cell_type": "code",
      "execution_count": 259,
      "metadata": {
        "colab": {
          "base_uri": "https://localhost:8080/"
        },
        "id": "koPQqwXJa4jh",
        "outputId": "1c43910b-dc8f-47bb-b3ec-17edb25d4d9a"
      },
      "outputs": [
        {
          "output_type": "stream",
          "name": "stdout",
          "text": [
            "<class 'pandas.core.frame.DataFrame'>\n",
            "RangeIndex: 14 entries, 0 to 13\n",
            "Data columns (total 4 columns):\n",
            " #   Column     Non-Null Count  Dtype \n",
            "---  ------     --------------  ----- \n",
            " 0   name       14 non-null     object\n",
            " 1   regions    14 non-null     object\n",
            " 2   start_dt   14 non-null     object\n",
            " 3   finish_dt  14 non-null     object\n",
            "dtypes: object(4)\n",
            "memory usage: 576.0+ bytes\n"
          ]
        }
      ],
      "source": [
        "# изучим общую информацию о таблице\n",
        "ab_project_marketing_events.info()"
      ]
    },
    {
      "cell_type": "code",
      "execution_count": 260,
      "metadata": {
        "id": "XPp0AbRebZlD"
      },
      "outputs": [],
      "source": [
        "# изменим тип данных для столбцов с датой \n",
        "ab_project_marketing_events['finish_dt'] = pd.to_datetime(ab_project_marketing_events['start_dt'])\n",
        "ab_project_marketing_events['finish_dt'] = pd.to_datetime(ab_project_marketing_events['finish_dt'])"
      ]
    },
    {
      "cell_type": "code",
      "execution_count": 261,
      "metadata": {
        "colab": {
          "base_uri": "https://localhost:8080/"
        },
        "id": "55QmxPSrb5vP",
        "outputId": "f6e9c2e7-665a-4f17-a3c2-d339fd6ce08a"
      },
      "outputs": [
        {
          "output_type": "execute_result",
          "data": {
            "text/plain": [
              "0"
            ]
          },
          "metadata": {},
          "execution_count": 261
        }
      ],
      "source": [
        "# проверим данные на явные дубликаты\n",
        "ab_project_marketing_events.duplicated().sum()"
      ]
    },
    {
      "cell_type": "code",
      "execution_count": 262,
      "metadata": {
        "colab": {
          "base_uri": "https://localhost:8080/"
        },
        "id": "rTsKJVUPb-cq",
        "outputId": "21126413-57c7-492d-c4ed-d59e6755924c"
      },
      "outputs": [
        {
          "output_type": "execute_result",
          "data": {
            "text/plain": [
              "array(['Christmas&New Year Promo', \"St. Valentine's Day Giveaway\",\n",
              "       \"St. Patric's Day Promo\", 'Easter Promo', '4th of July Promo',\n",
              "       'Black Friday Ads Campaign', 'Chinese New Year Promo',\n",
              "       'Labor day (May 1st) Ads Campaign',\n",
              "       \"International Women's Day Promo\",\n",
              "       'Victory Day CIS (May 9th) Event', 'CIS New Year Gift Lottery',\n",
              "       'Dragon Boat Festival Giveaway', \"Single's Day Gift Promo\",\n",
              "       'Chinese Moon Festival'], dtype=object)"
            ]
          },
          "metadata": {},
          "execution_count": 262
        }
      ],
      "source": [
        "# проверим данные на аномалии\n",
        "ab_project_marketing_events['name'].unique()"
      ]
    },
    {
      "cell_type": "code",
      "execution_count": 263,
      "metadata": {
        "colab": {
          "base_uri": "https://localhost:8080/"
        },
        "id": "hfg7_5MAcIVB",
        "outputId": "8d892c7f-7757-407b-9fa6-1a6c17f60bd2"
      },
      "outputs": [
        {
          "output_type": "execute_result",
          "data": {
            "text/plain": [
              "array(['EU, N.America', 'EU, CIS, APAC, N.America', 'N.America', 'APAC',\n",
              "       'EU, CIS, APAC', 'CIS'], dtype=object)"
            ]
          },
          "metadata": {},
          "execution_count": 263
        }
      ],
      "source": [
        "ab_project_marketing_events['regions'].unique()"
      ]
    },
    {
      "cell_type": "code",
      "execution_count": 264,
      "metadata": {
        "colab": {
          "base_uri": "https://localhost:8080/"
        },
        "id": "_KFs7U91cO3W",
        "outputId": "75af7331-2743-4837-df5d-17bbb69f2fc4"
      },
      "outputs": [
        {
          "output_type": "execute_result",
          "data": {
            "text/plain": [
              "count             14\n",
              "unique            14\n",
              "top       2020-12-25\n",
              "freq               1\n",
              "Name: start_dt, dtype: object"
            ]
          },
          "metadata": {},
          "execution_count": 264
        }
      ],
      "source": [
        "ab_project_marketing_events['start_dt'].describe()"
      ]
    },
    {
      "cell_type": "code",
      "execution_count": 265,
      "metadata": {
        "colab": {
          "base_uri": "https://localhost:8080/"
        },
        "id": "8xLBU-XbcXAm",
        "outputId": "71d198d5-9d8d-4a73-dcd0-e1a9df86d301"
      },
      "outputs": [
        {
          "output_type": "execute_result",
          "data": {
            "text/plain": [
              "count                               14\n",
              "mean     2020-07-02 06:51:25.714285824\n",
              "min                2020-01-25 00:00:00\n",
              "25%                2020-03-23 12:00:00\n",
              "50%                2020-06-01 12:00:00\n",
              "75%                2020-10-31 18:00:00\n",
              "max                2020-12-30 00:00:00\n",
              "Name: finish_dt, dtype: object"
            ]
          },
          "metadata": {},
          "execution_count": 265
        }
      ],
      "source": [
        "ab_project_marketing_events['finish_dt'].describe(datetime_is_numeric=True)"
      ]
    },
    {
      "cell_type": "markdown",
      "metadata": {
        "id": "ap-uEzijFQdM"
      },
      "source": [
        "**Вывод**\n",
        "\n",
        "Изучив календарь маркетинговых событий на 2020 год, мы делаем следующие выводы:\n",
        "- в таблице 14 строк и 4 столбца, нет дубликатов и пропусков;\n",
        "- маркетинговые кампании проводились с 25 января 2020 года по 7 января 2021 года;\n",
        "\n",
        "  - Дата запуска теста: 7 декабря 2020 года.\n",
        "  - Дата остановки набора новых пользователей: 21 декабря 2020 года.\n",
        "- во время набора новых пользователей не проводились рекламные кампании, то есть маркетинговые активности не влияли на набор пользователей, однако кампания Christmas&New Year Promo началась 25 декабря 2020 года и могла косвенно повлиять на действия пользователей с 25 по 30 декабря 2020 года."
      ]
    },
    {
      "cell_type": "code",
      "execution_count": 266,
      "metadata": {
        "colab": {
          "base_uri": "https://localhost:8080/",
          "height": 206
        },
        "id": "GB9IDLBofDnt",
        "outputId": "acb8b13c-419e-49bc-d21d-80f1d2407092"
      },
      "outputs": [
        {
          "output_type": "execute_result",
          "data": {
            "text/plain": [
              "            user_id  first_date     region   device\n",
              "0  D72A72121175D8BE  2020-12-07         EU       PC\n",
              "1  F1C668619DFE6E65  2020-12-07  N.America  Android\n",
              "2  2E1BF1D4C37EA01F  2020-12-07         EU       PC\n",
              "3  50734A22C0C63768  2020-12-07         EU   iPhone\n",
              "4  E1BDDCE0DAFA2679  2020-12-07  N.America   iPhone"
            ],
            "text/html": [
              "\n",
              "  <div id=\"df-c488f805-49d1-407c-8942-39282d56f1be\">\n",
              "    <div class=\"colab-df-container\">\n",
              "      <div>\n",
              "<style scoped>\n",
              "    .dataframe tbody tr th:only-of-type {\n",
              "        vertical-align: middle;\n",
              "    }\n",
              "\n",
              "    .dataframe tbody tr th {\n",
              "        vertical-align: top;\n",
              "    }\n",
              "\n",
              "    .dataframe thead th {\n",
              "        text-align: right;\n",
              "    }\n",
              "</style>\n",
              "<table border=\"1\" class=\"dataframe\">\n",
              "  <thead>\n",
              "    <tr style=\"text-align: right;\">\n",
              "      <th></th>\n",
              "      <th>user_id</th>\n",
              "      <th>first_date</th>\n",
              "      <th>region</th>\n",
              "      <th>device</th>\n",
              "    </tr>\n",
              "  </thead>\n",
              "  <tbody>\n",
              "    <tr>\n",
              "      <th>0</th>\n",
              "      <td>D72A72121175D8BE</td>\n",
              "      <td>2020-12-07</td>\n",
              "      <td>EU</td>\n",
              "      <td>PC</td>\n",
              "    </tr>\n",
              "    <tr>\n",
              "      <th>1</th>\n",
              "      <td>F1C668619DFE6E65</td>\n",
              "      <td>2020-12-07</td>\n",
              "      <td>N.America</td>\n",
              "      <td>Android</td>\n",
              "    </tr>\n",
              "    <tr>\n",
              "      <th>2</th>\n",
              "      <td>2E1BF1D4C37EA01F</td>\n",
              "      <td>2020-12-07</td>\n",
              "      <td>EU</td>\n",
              "      <td>PC</td>\n",
              "    </tr>\n",
              "    <tr>\n",
              "      <th>3</th>\n",
              "      <td>50734A22C0C63768</td>\n",
              "      <td>2020-12-07</td>\n",
              "      <td>EU</td>\n",
              "      <td>iPhone</td>\n",
              "    </tr>\n",
              "    <tr>\n",
              "      <th>4</th>\n",
              "      <td>E1BDDCE0DAFA2679</td>\n",
              "      <td>2020-12-07</td>\n",
              "      <td>N.America</td>\n",
              "      <td>iPhone</td>\n",
              "    </tr>\n",
              "  </tbody>\n",
              "</table>\n",
              "</div>\n",
              "      <button class=\"colab-df-convert\" onclick=\"convertToInteractive('df-c488f805-49d1-407c-8942-39282d56f1be')\"\n",
              "              title=\"Convert this dataframe to an interactive table.\"\n",
              "              style=\"display:none;\">\n",
              "        \n",
              "  <svg xmlns=\"http://www.w3.org/2000/svg\" height=\"24px\"viewBox=\"0 0 24 24\"\n",
              "       width=\"24px\">\n",
              "    <path d=\"M0 0h24v24H0V0z\" fill=\"none\"/>\n",
              "    <path d=\"M18.56 5.44l.94 2.06.94-2.06 2.06-.94-2.06-.94-.94-2.06-.94 2.06-2.06.94zm-11 1L8.5 8.5l.94-2.06 2.06-.94-2.06-.94L8.5 2.5l-.94 2.06-2.06.94zm10 10l.94 2.06.94-2.06 2.06-.94-2.06-.94-.94-2.06-.94 2.06-2.06.94z\"/><path d=\"M17.41 7.96l-1.37-1.37c-.4-.4-.92-.59-1.43-.59-.52 0-1.04.2-1.43.59L10.3 9.45l-7.72 7.72c-.78.78-.78 2.05 0 2.83L4 21.41c.39.39.9.59 1.41.59.51 0 1.02-.2 1.41-.59l7.78-7.78 2.81-2.81c.8-.78.8-2.07 0-2.86zM5.41 20L4 18.59l7.72-7.72 1.47 1.35L5.41 20z\"/>\n",
              "  </svg>\n",
              "      </button>\n",
              "      \n",
              "  <style>\n",
              "    .colab-df-container {\n",
              "      display:flex;\n",
              "      flex-wrap:wrap;\n",
              "      gap: 12px;\n",
              "    }\n",
              "\n",
              "    .colab-df-convert {\n",
              "      background-color: #E8F0FE;\n",
              "      border: none;\n",
              "      border-radius: 50%;\n",
              "      cursor: pointer;\n",
              "      display: none;\n",
              "      fill: #1967D2;\n",
              "      height: 32px;\n",
              "      padding: 0 0 0 0;\n",
              "      width: 32px;\n",
              "    }\n",
              "\n",
              "    .colab-df-convert:hover {\n",
              "      background-color: #E2EBFA;\n",
              "      box-shadow: 0px 1px 2px rgba(60, 64, 67, 0.3), 0px 1px 3px 1px rgba(60, 64, 67, 0.15);\n",
              "      fill: #174EA6;\n",
              "    }\n",
              "\n",
              "    [theme=dark] .colab-df-convert {\n",
              "      background-color: #3B4455;\n",
              "      fill: #D2E3FC;\n",
              "    }\n",
              "\n",
              "    [theme=dark] .colab-df-convert:hover {\n",
              "      background-color: #434B5C;\n",
              "      box-shadow: 0px 1px 3px 1px rgba(0, 0, 0, 0.15);\n",
              "      filter: drop-shadow(0px 1px 2px rgba(0, 0, 0, 0.3));\n",
              "      fill: #FFFFFF;\n",
              "    }\n",
              "  </style>\n",
              "\n",
              "      <script>\n",
              "        const buttonEl =\n",
              "          document.querySelector('#df-c488f805-49d1-407c-8942-39282d56f1be button.colab-df-convert');\n",
              "        buttonEl.style.display =\n",
              "          google.colab.kernel.accessAllowed ? 'block' : 'none';\n",
              "\n",
              "        async function convertToInteractive(key) {\n",
              "          const element = document.querySelector('#df-c488f805-49d1-407c-8942-39282d56f1be');\n",
              "          const dataTable =\n",
              "            await google.colab.kernel.invokeFunction('convertToInteractive',\n",
              "                                                     [key], {});\n",
              "          if (!dataTable) return;\n",
              "\n",
              "          const docLinkHtml = 'Like what you see? Visit the ' +\n",
              "            '<a target=\"_blank\" href=https://colab.research.google.com/notebooks/data_table.ipynb>data table notebook</a>'\n",
              "            + ' to learn more about interactive tables.';\n",
              "          element.innerHTML = '';\n",
              "          dataTable['output_type'] = 'display_data';\n",
              "          await google.colab.output.renderOutput(dataTable, element);\n",
              "          const docLink = document.createElement('div');\n",
              "          docLink.innerHTML = docLinkHtml;\n",
              "          element.appendChild(docLink);\n",
              "        }\n",
              "      </script>\n",
              "    </div>\n",
              "  </div>\n",
              "  "
            ]
          },
          "metadata": {},
          "execution_count": 266
        }
      ],
      "source": [
        "# изучим таблицу со списком пользователей, зарегистрировавшихся с 7 по 21 декабря 2020 года\n",
        "final_ab_new_users = pd.read_csv('final_ab_new_users.csv')\n",
        "final_ab_new_users.head()"
      ]
    },
    {
      "cell_type": "code",
      "execution_count": 267,
      "metadata": {
        "colab": {
          "base_uri": "https://localhost:8080/"
        },
        "id": "BB7_cMpgfcg7",
        "outputId": "b8980988-fc64-4426-a738-ac8123ac1465"
      },
      "outputs": [
        {
          "output_type": "stream",
          "name": "stdout",
          "text": [
            "<class 'pandas.core.frame.DataFrame'>\n",
            "RangeIndex: 61733 entries, 0 to 61732\n",
            "Data columns (total 4 columns):\n",
            " #   Column      Non-Null Count  Dtype \n",
            "---  ------      --------------  ----- \n",
            " 0   user_id     61733 non-null  object\n",
            " 1   first_date  61733 non-null  object\n",
            " 2   region      61733 non-null  object\n",
            " 3   device      61733 non-null  object\n",
            "dtypes: object(4)\n",
            "memory usage: 1.9+ MB\n"
          ]
        }
      ],
      "source": [
        "# посмотрим на общую информацию о таблице\n",
        "final_ab_new_users.info()"
      ]
    },
    {
      "cell_type": "code",
      "execution_count": 268,
      "metadata": {
        "colab": {
          "base_uri": "https://localhost:8080/"
        },
        "id": "-cbs9XGEfhWY",
        "outputId": "a7ead481-8d87-4c4b-c6c3-551378d44650"
      },
      "outputs": [
        {
          "output_type": "stream",
          "name": "stdout",
          "text": [
            "<class 'pandas.core.frame.DataFrame'>\n",
            "RangeIndex: 61733 entries, 0 to 61732\n",
            "Data columns (total 4 columns):\n",
            " #   Column      Non-Null Count  Dtype         \n",
            "---  ------      --------------  -----         \n",
            " 0   user_id     61733 non-null  object        \n",
            " 1   first_date  61733 non-null  datetime64[ns]\n",
            " 2   region      61733 non-null  object        \n",
            " 3   device      61733 non-null  object        \n",
            "dtypes: datetime64[ns](1), object(3)\n",
            "memory usage: 1.9+ MB\n"
          ]
        }
      ],
      "source": [
        "# изменим тип данных для столбца с датой\n",
        "final_ab_new_users['first_date'] = pd.to_datetime(final_ab_new_users['first_date'], format='%Y-%m-%d')\n",
        "final_ab_new_users.info()\n"
      ]
    },
    {
      "cell_type": "code",
      "execution_count": 269,
      "metadata": {
        "colab": {
          "base_uri": "https://localhost:8080/"
        },
        "id": "Y2UCM15qfx47",
        "outputId": "2b32ca55-b3f0-42b8-b1a9-1257f1b4a84a"
      },
      "outputs": [
        {
          "output_type": "execute_result",
          "data": {
            "text/plain": [
              "0"
            ]
          },
          "metadata": {},
          "execution_count": 269
        }
      ],
      "source": [
        "# проверим данные на явные дубликаты\n",
        "final_ab_new_users.duplicated().sum()"
      ]
    },
    {
      "cell_type": "code",
      "execution_count": 270,
      "metadata": {
        "colab": {
          "base_uri": "https://localhost:8080/"
        },
        "id": "VkF7nOwAhrmA",
        "outputId": "4be7c7e3-ee89-497b-a4c9-40e9bc908c46"
      },
      "outputs": [
        {
          "output_type": "execute_result",
          "data": {
            "text/plain": [
              "count                            61733\n",
              "mean     2020-12-14 23:38:12.796397568\n",
              "min                2020-12-07 00:00:00\n",
              "25%                2020-12-11 00:00:00\n",
              "50%                2020-12-15 00:00:00\n",
              "75%                2020-12-20 00:00:00\n",
              "max                2020-12-23 00:00:00\n",
              "Name: first_date, dtype: object"
            ]
          },
          "metadata": {},
          "execution_count": 270
        }
      ],
      "source": [
        "# проверим данные на аномалии\n",
        "final_ab_new_users['first_date'].describe(datetime_is_numeric=True)"
      ]
    },
    {
      "cell_type": "code",
      "execution_count": 271,
      "metadata": {
        "colab": {
          "base_uri": "https://localhost:8080/"
        },
        "id": "aNUsTHRzf_fL",
        "outputId": "ef7e1516-dcce-4382-fc75-21a746c274a3"
      },
      "outputs": [
        {
          "output_type": "execute_result",
          "data": {
            "text/plain": [
              "count                61733\n",
              "unique               61733\n",
              "top       D72A72121175D8BE\n",
              "freq                     1\n",
              "Name: user_id, dtype: object"
            ]
          },
          "metadata": {},
          "execution_count": 271
        }
      ],
      "source": [
        "final_ab_new_users['user_id'].describe()"
      ]
    },
    {
      "cell_type": "markdown",
      "metadata": {
        "id": "yGjE5FiMgNJM"
      },
      "source": [
        "Согласно ТЗ в таблице представлены пользователи, зарегистрировавшиеся с 7 по 21 декабря 2020 года. Однако в реальности представлены данные с 7 по 23 декабря 2020 года, за этот период  в системе зарегистрировалось 61733 новых пользователя."
      ]
    },
    {
      "cell_type": "code",
      "execution_count": 272,
      "metadata": {
        "colab": {
          "base_uri": "https://localhost:8080/"
        },
        "id": "oZIQEKXXgTWP",
        "outputId": "249588c3-cfc5-4b96-a3bc-bedd2a8b6db9"
      },
      "outputs": [
        {
          "output_type": "execute_result",
          "data": {
            "text/plain": [
              "array(['EU', 'N.America', 'APAC', 'CIS'], dtype=object)"
            ]
          },
          "metadata": {},
          "execution_count": 272
        }
      ],
      "source": [
        "final_ab_new_users['region'].unique()"
      ]
    },
    {
      "cell_type": "markdown",
      "metadata": {
        "id": "gAi2gjAysfOd"
      },
      "source": [
        "Посмотрим на распределение по регионам участников, зарегистрировавшиеся с 7 по 21 декабря 2020 года."
      ]
    },
    {
      "cell_type": "code",
      "execution_count": 273,
      "metadata": {
        "colab": {
          "base_uri": "https://localhost:8080/",
          "height": 206
        },
        "id": "lvUJ-rMTsfOd",
        "outputId": "71ba3a97-fe75-4aac-abe2-513ce9363ebd"
      },
      "outputs": [
        {
          "output_type": "execute_result",
          "data": {
            "text/plain": [
              "           user_id\n",
              "region            \n",
              "APAC          2883\n",
              "CIS           2900\n",
              "EU           42340\n",
              "N.America     8347"
            ],
            "text/html": [
              "\n",
              "  <div id=\"df-e9e6403e-125b-4148-b07c-bf91f2a509f1\">\n",
              "    <div class=\"colab-df-container\">\n",
              "      <div>\n",
              "<style scoped>\n",
              "    .dataframe tbody tr th:only-of-type {\n",
              "        vertical-align: middle;\n",
              "    }\n",
              "\n",
              "    .dataframe tbody tr th {\n",
              "        vertical-align: top;\n",
              "    }\n",
              "\n",
              "    .dataframe thead th {\n",
              "        text-align: right;\n",
              "    }\n",
              "</style>\n",
              "<table border=\"1\" class=\"dataframe\">\n",
              "  <thead>\n",
              "    <tr style=\"text-align: right;\">\n",
              "      <th></th>\n",
              "      <th>user_id</th>\n",
              "    </tr>\n",
              "    <tr>\n",
              "      <th>region</th>\n",
              "      <th></th>\n",
              "    </tr>\n",
              "  </thead>\n",
              "  <tbody>\n",
              "    <tr>\n",
              "      <th>APAC</th>\n",
              "      <td>2883</td>\n",
              "    </tr>\n",
              "    <tr>\n",
              "      <th>CIS</th>\n",
              "      <td>2900</td>\n",
              "    </tr>\n",
              "    <tr>\n",
              "      <th>EU</th>\n",
              "      <td>42340</td>\n",
              "    </tr>\n",
              "    <tr>\n",
              "      <th>N.America</th>\n",
              "      <td>8347</td>\n",
              "    </tr>\n",
              "  </tbody>\n",
              "</table>\n",
              "</div>\n",
              "      <button class=\"colab-df-convert\" onclick=\"convertToInteractive('df-e9e6403e-125b-4148-b07c-bf91f2a509f1')\"\n",
              "              title=\"Convert this dataframe to an interactive table.\"\n",
              "              style=\"display:none;\">\n",
              "        \n",
              "  <svg xmlns=\"http://www.w3.org/2000/svg\" height=\"24px\"viewBox=\"0 0 24 24\"\n",
              "       width=\"24px\">\n",
              "    <path d=\"M0 0h24v24H0V0z\" fill=\"none\"/>\n",
              "    <path d=\"M18.56 5.44l.94 2.06.94-2.06 2.06-.94-2.06-.94-.94-2.06-.94 2.06-2.06.94zm-11 1L8.5 8.5l.94-2.06 2.06-.94-2.06-.94L8.5 2.5l-.94 2.06-2.06.94zm10 10l.94 2.06.94-2.06 2.06-.94-2.06-.94-.94-2.06-.94 2.06-2.06.94z\"/><path d=\"M17.41 7.96l-1.37-1.37c-.4-.4-.92-.59-1.43-.59-.52 0-1.04.2-1.43.59L10.3 9.45l-7.72 7.72c-.78.78-.78 2.05 0 2.83L4 21.41c.39.39.9.59 1.41.59.51 0 1.02-.2 1.41-.59l7.78-7.78 2.81-2.81c.8-.78.8-2.07 0-2.86zM5.41 20L4 18.59l7.72-7.72 1.47 1.35L5.41 20z\"/>\n",
              "  </svg>\n",
              "      </button>\n",
              "      \n",
              "  <style>\n",
              "    .colab-df-container {\n",
              "      display:flex;\n",
              "      flex-wrap:wrap;\n",
              "      gap: 12px;\n",
              "    }\n",
              "\n",
              "    .colab-df-convert {\n",
              "      background-color: #E8F0FE;\n",
              "      border: none;\n",
              "      border-radius: 50%;\n",
              "      cursor: pointer;\n",
              "      display: none;\n",
              "      fill: #1967D2;\n",
              "      height: 32px;\n",
              "      padding: 0 0 0 0;\n",
              "      width: 32px;\n",
              "    }\n",
              "\n",
              "    .colab-df-convert:hover {\n",
              "      background-color: #E2EBFA;\n",
              "      box-shadow: 0px 1px 2px rgba(60, 64, 67, 0.3), 0px 1px 3px 1px rgba(60, 64, 67, 0.15);\n",
              "      fill: #174EA6;\n",
              "    }\n",
              "\n",
              "    [theme=dark] .colab-df-convert {\n",
              "      background-color: #3B4455;\n",
              "      fill: #D2E3FC;\n",
              "    }\n",
              "\n",
              "    [theme=dark] .colab-df-convert:hover {\n",
              "      background-color: #434B5C;\n",
              "      box-shadow: 0px 1px 3px 1px rgba(0, 0, 0, 0.15);\n",
              "      filter: drop-shadow(0px 1px 2px rgba(0, 0, 0, 0.3));\n",
              "      fill: #FFFFFF;\n",
              "    }\n",
              "  </style>\n",
              "\n",
              "      <script>\n",
              "        const buttonEl =\n",
              "          document.querySelector('#df-e9e6403e-125b-4148-b07c-bf91f2a509f1 button.colab-df-convert');\n",
              "        buttonEl.style.display =\n",
              "          google.colab.kernel.accessAllowed ? 'block' : 'none';\n",
              "\n",
              "        async function convertToInteractive(key) {\n",
              "          const element = document.querySelector('#df-e9e6403e-125b-4148-b07c-bf91f2a509f1');\n",
              "          const dataTable =\n",
              "            await google.colab.kernel.invokeFunction('convertToInteractive',\n",
              "                                                     [key], {});\n",
              "          if (!dataTable) return;\n",
              "\n",
              "          const docLinkHtml = 'Like what you see? Visit the ' +\n",
              "            '<a target=\"_blank\" href=https://colab.research.google.com/notebooks/data_table.ipynb>data table notebook</a>'\n",
              "            + ' to learn more about interactive tables.';\n",
              "          element.innerHTML = '';\n",
              "          dataTable['output_type'] = 'display_data';\n",
              "          await google.colab.output.renderOutput(dataTable, element);\n",
              "          const docLink = document.createElement('div');\n",
              "          docLink.innerHTML = docLinkHtml;\n",
              "          element.appendChild(docLink);\n",
              "        }\n",
              "      </script>\n",
              "    </div>\n",
              "  </div>\n",
              "  "
            ]
          },
          "metadata": {},
          "execution_count": 273
        }
      ],
      "source": [
        "final_ab_new_users.query('first_date <= \"2020-12-21\"').groupby('region').agg({'user_id':'nunique'})"
      ]
    },
    {
      "cell_type": "markdown",
      "metadata": {
        "id": "28QuDeGVsfOd"
      },
      "source": [
        "С 7 по 21 декабря 2020 года в системе зарегистрировалось 42340 пользователей из Eu."
      ]
    },
    {
      "cell_type": "code",
      "execution_count": 274,
      "metadata": {
        "colab": {
          "base_uri": "https://localhost:8080/"
        },
        "id": "b2C21YB3ijzK",
        "outputId": "181210ad-4e36-4dd9-9365-ebb181441bef"
      },
      "outputs": [
        {
          "output_type": "execute_result",
          "data": {
            "text/plain": [
              "array(['PC', 'Android', 'iPhone', 'Mac'], dtype=object)"
            ]
          },
          "metadata": {},
          "execution_count": 274
        }
      ],
      "source": [
        "final_ab_new_users['device'].unique()"
      ]
    },
    {
      "cell_type": "markdown",
      "metadata": {
        "id": "cB8BvHYDHRXq"
      },
      "source": [
        "**Вывод**\n",
        "\n",
        "Изучив таблицу с данными пользователей, зарегистрировавшихся с 7 по 21 декабря 2020 года, мы делаем следующие выводы:\n",
        "- в таблице 61733 строки и 4 столбца, нет явных дубликатов и пропусков;\n",
        "- с 7 по 21 декабря 2020 года в системе зарегистрировалось 42340 пользователей из Eu;\n",
        "- согласно ТЗ в таблице представлены пользователи, зарегистрировавшиеся с 7 по 21 декабря 2020 года. Однако в реальности представлены данные с 7 по 23 декабря 2020 года, за этот период в системе зарегистрировалось 61 733 новых пользователя."
      ]
    },
    {
      "cell_type": "markdown",
      "metadata": {
        "id": "HAuYitwtIsos"
      },
      "source": [
        "## 2. Оценка корректности проведения теста\n",
        "<a name=\"test_accuracy\"></a>"
      ]
    },
    {
      "cell_type": "markdown",
      "metadata": {
        "id": "ZRLRdz3JHAG1"
      },
      "source": [
        "Оценим соответствие данных требованиям технического задания.\n",
        "\n",
        "- Название теста: `recommender_system_test`. \n",
        "  - **Комментарий**: в таблице с участниками теста смешаны участники двух тестов recommender_system_test и interface_eu_test;\n",
        "- группы: А — контрольная, B — новая платёжная воронка. \n",
        "  - **Комментарий**: данные соответствуют;\n",
        "- дата запуска: 2020-12-07. \n",
        "  - **Комментарий**: данные соответствут;\n",
        "- дата остановки набора новых пользователей: 2020-12-21. \n",
        "  - **Комментарий**: представлены данные с 7 по 23 декабря 2020 года;\n",
        "- дата остановки: 2021-01-04. \n",
        "  - **Комментарий**: cогласно ТЗ в таблице присутствуют данные с 7 декабря 2020 по 4 января 2021 года. Однако по факту в ней собраны данные о действиях 58 703 пользователей только с 7 по 30 декабря 2020 года;\n",
        "- аудитория: 15% новых пользователей из региона EU. \n",
        "  - **Комментарий**: проверим далее;\n",
        "- назначение теста: тестирование изменений, связанных с внедрением улучшенной рекомендательной системы. \n",
        "  - **Комментарий**: комментарий отсутствует, мало данных для проверки;\n",
        "- ожидаемое количество участников теста: 6000. \n",
        "  - **Комментарий**: после удаления участников группы В interface_eu_test теста осталось 5918 уникальных участников теста recommender_system_test;\n",
        "- ожидаемый эффект: за 14 дней с момента регистрации пользователи покажут улучшение каждой метрики не менее, чем на 10%. \n",
        "  - **Комментарий**: проверим далее."
      ]
    },
    {
      "cell_type": "markdown",
      "metadata": {
        "id": "vhc1aqCdJCuj"
      },
      "source": [
        "Оценим время проведения теста.\n",
        "\n",
        "Во время набора новых пользователей не проводились рекламные кампании, то есть маркетинговые активности не влияли на набор пользователей, однако кампания Christmas&New Year Promo началась 25 декабря 2020 года и могла косвенно повлиять на действия пользователей с 25 по 30 декабря 2020 года.\n",
        "\n"
      ]
    },
    {
      "cell_type": "markdown",
      "metadata": {
        "id": "B_97wM7gkqPm"
      },
      "source": [
        "Оценка равномерности распределения по тестовым группам показала, что после разделения участников теста по группам относительное различие количества пользователей в двух группах равно 33%. Из-за неравномерного разделения результаты могут быть очень сильно искажены. ёё\n",
        "\n",
        "Проверим процент участников из Eu."
      ]
    },
    {
      "cell_type": "code",
      "execution_count": 275,
      "metadata": {
        "colab": {
          "base_uri": "https://localhost:8080/",
          "height": 206
        },
        "id": "fhVg6ljYJrf6",
        "outputId": "772689cf-2cb6-47e0-da3c-a7122aa9803b"
      },
      "outputs": [
        {
          "output_type": "execute_result",
          "data": {
            "text/plain": [
              "           user_id\n",
              "region            \n",
              "APAC            72\n",
              "CIS             55\n",
              "EU            6351\n",
              "N.America      223"
            ],
            "text/html": [
              "\n",
              "  <div id=\"df-7d5e8b4d-dcc9-457c-a26e-36c2b0d28965\">\n",
              "    <div class=\"colab-df-container\">\n",
              "      <div>\n",
              "<style scoped>\n",
              "    .dataframe tbody tr th:only-of-type {\n",
              "        vertical-align: middle;\n",
              "    }\n",
              "\n",
              "    .dataframe tbody tr th {\n",
              "        vertical-align: top;\n",
              "    }\n",
              "\n",
              "    .dataframe thead th {\n",
              "        text-align: right;\n",
              "    }\n",
              "</style>\n",
              "<table border=\"1\" class=\"dataframe\">\n",
              "  <thead>\n",
              "    <tr style=\"text-align: right;\">\n",
              "      <th></th>\n",
              "      <th>user_id</th>\n",
              "    </tr>\n",
              "    <tr>\n",
              "      <th>region</th>\n",
              "      <th></th>\n",
              "    </tr>\n",
              "  </thead>\n",
              "  <tbody>\n",
              "    <tr>\n",
              "      <th>APAC</th>\n",
              "      <td>72</td>\n",
              "    </tr>\n",
              "    <tr>\n",
              "      <th>CIS</th>\n",
              "      <td>55</td>\n",
              "    </tr>\n",
              "    <tr>\n",
              "      <th>EU</th>\n",
              "      <td>6351</td>\n",
              "    </tr>\n",
              "    <tr>\n",
              "      <th>N.America</th>\n",
              "      <td>223</td>\n",
              "    </tr>\n",
              "  </tbody>\n",
              "</table>\n",
              "</div>\n",
              "      <button class=\"colab-df-convert\" onclick=\"convertToInteractive('df-7d5e8b4d-dcc9-457c-a26e-36c2b0d28965')\"\n",
              "              title=\"Convert this dataframe to an interactive table.\"\n",
              "              style=\"display:none;\">\n",
              "        \n",
              "  <svg xmlns=\"http://www.w3.org/2000/svg\" height=\"24px\"viewBox=\"0 0 24 24\"\n",
              "       width=\"24px\">\n",
              "    <path d=\"M0 0h24v24H0V0z\" fill=\"none\"/>\n",
              "    <path d=\"M18.56 5.44l.94 2.06.94-2.06 2.06-.94-2.06-.94-.94-2.06-.94 2.06-2.06.94zm-11 1L8.5 8.5l.94-2.06 2.06-.94-2.06-.94L8.5 2.5l-.94 2.06-2.06.94zm10 10l.94 2.06.94-2.06 2.06-.94-2.06-.94-.94-2.06-.94 2.06-2.06.94z\"/><path d=\"M17.41 7.96l-1.37-1.37c-.4-.4-.92-.59-1.43-.59-.52 0-1.04.2-1.43.59L10.3 9.45l-7.72 7.72c-.78.78-.78 2.05 0 2.83L4 21.41c.39.39.9.59 1.41.59.51 0 1.02-.2 1.41-.59l7.78-7.78 2.81-2.81c.8-.78.8-2.07 0-2.86zM5.41 20L4 18.59l7.72-7.72 1.47 1.35L5.41 20z\"/>\n",
              "  </svg>\n",
              "      </button>\n",
              "      \n",
              "  <style>\n",
              "    .colab-df-container {\n",
              "      display:flex;\n",
              "      flex-wrap:wrap;\n",
              "      gap: 12px;\n",
              "    }\n",
              "\n",
              "    .colab-df-convert {\n",
              "      background-color: #E8F0FE;\n",
              "      border: none;\n",
              "      border-radius: 50%;\n",
              "      cursor: pointer;\n",
              "      display: none;\n",
              "      fill: #1967D2;\n",
              "      height: 32px;\n",
              "      padding: 0 0 0 0;\n",
              "      width: 32px;\n",
              "    }\n",
              "\n",
              "    .colab-df-convert:hover {\n",
              "      background-color: #E2EBFA;\n",
              "      box-shadow: 0px 1px 2px rgba(60, 64, 67, 0.3), 0px 1px 3px 1px rgba(60, 64, 67, 0.15);\n",
              "      fill: #174EA6;\n",
              "    }\n",
              "\n",
              "    [theme=dark] .colab-df-convert {\n",
              "      background-color: #3B4455;\n",
              "      fill: #D2E3FC;\n",
              "    }\n",
              "\n",
              "    [theme=dark] .colab-df-convert:hover {\n",
              "      background-color: #434B5C;\n",
              "      box-shadow: 0px 1px 3px 1px rgba(0, 0, 0, 0.15);\n",
              "      filter: drop-shadow(0px 1px 2px rgba(0, 0, 0, 0.3));\n",
              "      fill: #FFFFFF;\n",
              "    }\n",
              "  </style>\n",
              "\n",
              "      <script>\n",
              "        const buttonEl =\n",
              "          document.querySelector('#df-7d5e8b4d-dcc9-457c-a26e-36c2b0d28965 button.colab-df-convert');\n",
              "        buttonEl.style.display =\n",
              "          google.colab.kernel.accessAllowed ? 'block' : 'none';\n",
              "\n",
              "        async function convertToInteractive(key) {\n",
              "          const element = document.querySelector('#df-7d5e8b4d-dcc9-457c-a26e-36c2b0d28965');\n",
              "          const dataTable =\n",
              "            await google.colab.kernel.invokeFunction('convertToInteractive',\n",
              "                                                     [key], {});\n",
              "          if (!dataTable) return;\n",
              "\n",
              "          const docLinkHtml = 'Like what you see? Visit the ' +\n",
              "            '<a target=\"_blank\" href=https://colab.research.google.com/notebooks/data_table.ipynb>data table notebook</a>'\n",
              "            + ' to learn more about interactive tables.';\n",
              "          element.innerHTML = '';\n",
              "          dataTable['output_type'] = 'display_data';\n",
              "          await google.colab.output.renderOutput(dataTable, element);\n",
              "          const docLink = document.createElement('div');\n",
              "          docLink.innerHTML = docLinkHtml;\n",
              "          element.appendChild(docLink);\n",
              "        }\n",
              "      </script>\n",
              "    </div>\n",
              "  </div>\n",
              "  "
            ]
          },
          "metadata": {},
          "execution_count": 275
        }
      ],
      "source": [
        "# проверим количество участников теста из региона EU до удаления пользователей\n",
        "\n",
        "final_full = final_ab_participants.query('ab_test == \"recommender_system_test\"').merge(final_ab_events, on='user_id', how='left')\n",
        "final_full = final_full.merge(final_ab_new_users, on='user_id', how='left')\n",
        "\n",
        "final_full.groupby('region').agg({'user_id':'nunique'})\n"
      ]
    },
    {
      "cell_type": "markdown",
      "metadata": {
        "id": "hxRw_sNNsfOd"
      },
      "source": [
        "Разделим количество участников теста из региона EU до удаления пользователей на количество всех новых пользователей их Европы, набранных за время набора в тест (до 21 декабря)."
      ]
    },
    {
      "cell_type": "code",
      "execution_count": 276,
      "metadata": {
        "colab": {
          "base_uri": "https://localhost:8080/",
          "height": 224
        },
        "id": "DLCBGulJsfOd",
        "outputId": "416a7082-aaf1-440d-a6a5-6c58d70d3388"
      },
      "outputs": [
        {
          "output_type": "display_data",
          "data": {
            "text/plain": [
              "           user_id\n",
              "region            \n",
              "APAC          2883\n",
              "CIS           2900\n",
              "EU           42340\n",
              "N.America     8347"
            ],
            "text/html": [
              "\n",
              "  <div id=\"df-d6df186b-aacf-4210-a9cf-47b1620ab86c\">\n",
              "    <div class=\"colab-df-container\">\n",
              "      <div>\n",
              "<style scoped>\n",
              "    .dataframe tbody tr th:only-of-type {\n",
              "        vertical-align: middle;\n",
              "    }\n",
              "\n",
              "    .dataframe tbody tr th {\n",
              "        vertical-align: top;\n",
              "    }\n",
              "\n",
              "    .dataframe thead th {\n",
              "        text-align: right;\n",
              "    }\n",
              "</style>\n",
              "<table border=\"1\" class=\"dataframe\">\n",
              "  <thead>\n",
              "    <tr style=\"text-align: right;\">\n",
              "      <th></th>\n",
              "      <th>user_id</th>\n",
              "    </tr>\n",
              "    <tr>\n",
              "      <th>region</th>\n",
              "      <th></th>\n",
              "    </tr>\n",
              "  </thead>\n",
              "  <tbody>\n",
              "    <tr>\n",
              "      <th>APAC</th>\n",
              "      <td>2883</td>\n",
              "    </tr>\n",
              "    <tr>\n",
              "      <th>CIS</th>\n",
              "      <td>2900</td>\n",
              "    </tr>\n",
              "    <tr>\n",
              "      <th>EU</th>\n",
              "      <td>42340</td>\n",
              "    </tr>\n",
              "    <tr>\n",
              "      <th>N.America</th>\n",
              "      <td>8347</td>\n",
              "    </tr>\n",
              "  </tbody>\n",
              "</table>\n",
              "</div>\n",
              "      <button class=\"colab-df-convert\" onclick=\"convertToInteractive('df-d6df186b-aacf-4210-a9cf-47b1620ab86c')\"\n",
              "              title=\"Convert this dataframe to an interactive table.\"\n",
              "              style=\"display:none;\">\n",
              "        \n",
              "  <svg xmlns=\"http://www.w3.org/2000/svg\" height=\"24px\"viewBox=\"0 0 24 24\"\n",
              "       width=\"24px\">\n",
              "    <path d=\"M0 0h24v24H0V0z\" fill=\"none\"/>\n",
              "    <path d=\"M18.56 5.44l.94 2.06.94-2.06 2.06-.94-2.06-.94-.94-2.06-.94 2.06-2.06.94zm-11 1L8.5 8.5l.94-2.06 2.06-.94-2.06-.94L8.5 2.5l-.94 2.06-2.06.94zm10 10l.94 2.06.94-2.06 2.06-.94-2.06-.94-.94-2.06-.94 2.06-2.06.94z\"/><path d=\"M17.41 7.96l-1.37-1.37c-.4-.4-.92-.59-1.43-.59-.52 0-1.04.2-1.43.59L10.3 9.45l-7.72 7.72c-.78.78-.78 2.05 0 2.83L4 21.41c.39.39.9.59 1.41.59.51 0 1.02-.2 1.41-.59l7.78-7.78 2.81-2.81c.8-.78.8-2.07 0-2.86zM5.41 20L4 18.59l7.72-7.72 1.47 1.35L5.41 20z\"/>\n",
              "  </svg>\n",
              "      </button>\n",
              "      \n",
              "  <style>\n",
              "    .colab-df-container {\n",
              "      display:flex;\n",
              "      flex-wrap:wrap;\n",
              "      gap: 12px;\n",
              "    }\n",
              "\n",
              "    .colab-df-convert {\n",
              "      background-color: #E8F0FE;\n",
              "      border: none;\n",
              "      border-radius: 50%;\n",
              "      cursor: pointer;\n",
              "      display: none;\n",
              "      fill: #1967D2;\n",
              "      height: 32px;\n",
              "      padding: 0 0 0 0;\n",
              "      width: 32px;\n",
              "    }\n",
              "\n",
              "    .colab-df-convert:hover {\n",
              "      background-color: #E2EBFA;\n",
              "      box-shadow: 0px 1px 2px rgba(60, 64, 67, 0.3), 0px 1px 3px 1px rgba(60, 64, 67, 0.15);\n",
              "      fill: #174EA6;\n",
              "    }\n",
              "\n",
              "    [theme=dark] .colab-df-convert {\n",
              "      background-color: #3B4455;\n",
              "      fill: #D2E3FC;\n",
              "    }\n",
              "\n",
              "    [theme=dark] .colab-df-convert:hover {\n",
              "      background-color: #434B5C;\n",
              "      box-shadow: 0px 1px 3px 1px rgba(0, 0, 0, 0.15);\n",
              "      filter: drop-shadow(0px 1px 2px rgba(0, 0, 0, 0.3));\n",
              "      fill: #FFFFFF;\n",
              "    }\n",
              "  </style>\n",
              "\n",
              "      <script>\n",
              "        const buttonEl =\n",
              "          document.querySelector('#df-d6df186b-aacf-4210-a9cf-47b1620ab86c button.colab-df-convert');\n",
              "        buttonEl.style.display =\n",
              "          google.colab.kernel.accessAllowed ? 'block' : 'none';\n",
              "\n",
              "        async function convertToInteractive(key) {\n",
              "          const element = document.querySelector('#df-d6df186b-aacf-4210-a9cf-47b1620ab86c');\n",
              "          const dataTable =\n",
              "            await google.colab.kernel.invokeFunction('convertToInteractive',\n",
              "                                                     [key], {});\n",
              "          if (!dataTable) return;\n",
              "\n",
              "          const docLinkHtml = 'Like what you see? Visit the ' +\n",
              "            '<a target=\"_blank\" href=https://colab.research.google.com/notebooks/data_table.ipynb>data table notebook</a>'\n",
              "            + ' to learn more about interactive tables.';\n",
              "          element.innerHTML = '';\n",
              "          dataTable['output_type'] = 'display_data';\n",
              "          await google.colab.output.renderOutput(dataTable, element);\n",
              "          const docLink = document.createElement('div');\n",
              "          docLink.innerHTML = docLinkHtml;\n",
              "          element.appendChild(docLink);\n",
              "        }\n",
              "      </script>\n",
              "    </div>\n",
              "  </div>\n",
              "  "
            ]
          },
          "metadata": {}
        },
        {
          "output_type": "execute_result",
          "data": {
            "text/plain": [
              "0.15"
            ]
          },
          "metadata": {},
          "execution_count": 276
        }
      ],
      "source": [
        "display(final_ab_new_users.query('first_date <= \"2020-12-21\"').groupby('region').agg({'user_id':'nunique'}))\n",
        "\n",
        "6351/42340"
      ]
    },
    {
      "cell_type": "markdown",
      "metadata": {
        "id": "Sx76KOulKVVu"
      },
      "source": [
        "15% участников теста из региона EU."
      ]
    },
    {
      "cell_type": "markdown",
      "metadata": {
        "id": "fvn3ES8XsfOe"
      },
      "source": [
        "Проверим наличие пользователей, участвующих в двух группах теста одновременно.\n",
        "\n",
        "Создадим таблицу с финальными данными пользователей, которые участвовали в тесте `recommender_system_test`."
      ]
    },
    {
      "cell_type": "code",
      "execution_count": 277,
      "metadata": {
        "colab": {
          "base_uri": "https://localhost:8080/",
          "height": 206
        },
        "id": "uxNn-13MjwCe",
        "outputId": "c29d1203-31d3-4dfe-98c7-b89449ce3f32"
      },
      "outputs": [
        {
          "output_type": "execute_result",
          "data": {
            "text/plain": [
              "            user_id group                  ab_test            event_dt  \\\n",
              "0  D1ABA3E2887B6A73     A  recommender_system_test 2020-12-07 14:43:27   \n",
              "1  D1ABA3E2887B6A73     A  recommender_system_test 2020-12-25 00:04:56   \n",
              "2  D1ABA3E2887B6A73     A  recommender_system_test 2020-12-07 14:43:29   \n",
              "3  D1ABA3E2887B6A73     A  recommender_system_test 2020-12-25 00:04:57   \n",
              "4  D1ABA3E2887B6A73     A  recommender_system_test 2020-12-07 14:43:27   \n",
              "\n",
              "     event_name  details first_date region device purchase_date  \n",
              "0      purchase    99.99 2020-12-07     EU     PC    2020-12-07  \n",
              "1      purchase     4.99 2020-12-07     EU     PC    2020-12-25  \n",
              "2  product_cart      NaN 2020-12-07     EU     PC    2020-12-07  \n",
              "3  product_cart      NaN 2020-12-07     EU     PC    2020-12-25  \n",
              "4  product_page      NaN 2020-12-07     EU     PC    2020-12-07  "
            ],
            "text/html": [
              "\n",
              "  <div id=\"df-7636b24e-2ccc-46f7-ae24-8dcd7c0d4735\">\n",
              "    <div class=\"colab-df-container\">\n",
              "      <div>\n",
              "<style scoped>\n",
              "    .dataframe tbody tr th:only-of-type {\n",
              "        vertical-align: middle;\n",
              "    }\n",
              "\n",
              "    .dataframe tbody tr th {\n",
              "        vertical-align: top;\n",
              "    }\n",
              "\n",
              "    .dataframe thead th {\n",
              "        text-align: right;\n",
              "    }\n",
              "</style>\n",
              "<table border=\"1\" class=\"dataframe\">\n",
              "  <thead>\n",
              "    <tr style=\"text-align: right;\">\n",
              "      <th></th>\n",
              "      <th>user_id</th>\n",
              "      <th>group</th>\n",
              "      <th>ab_test</th>\n",
              "      <th>event_dt</th>\n",
              "      <th>event_name</th>\n",
              "      <th>details</th>\n",
              "      <th>first_date</th>\n",
              "      <th>region</th>\n",
              "      <th>device</th>\n",
              "      <th>purchase_date</th>\n",
              "    </tr>\n",
              "  </thead>\n",
              "  <tbody>\n",
              "    <tr>\n",
              "      <th>0</th>\n",
              "      <td>D1ABA3E2887B6A73</td>\n",
              "      <td>A</td>\n",
              "      <td>recommender_system_test</td>\n",
              "      <td>2020-12-07 14:43:27</td>\n",
              "      <td>purchase</td>\n",
              "      <td>99.99</td>\n",
              "      <td>2020-12-07</td>\n",
              "      <td>EU</td>\n",
              "      <td>PC</td>\n",
              "      <td>2020-12-07</td>\n",
              "    </tr>\n",
              "    <tr>\n",
              "      <th>1</th>\n",
              "      <td>D1ABA3E2887B6A73</td>\n",
              "      <td>A</td>\n",
              "      <td>recommender_system_test</td>\n",
              "      <td>2020-12-25 00:04:56</td>\n",
              "      <td>purchase</td>\n",
              "      <td>4.99</td>\n",
              "      <td>2020-12-07</td>\n",
              "      <td>EU</td>\n",
              "      <td>PC</td>\n",
              "      <td>2020-12-25</td>\n",
              "    </tr>\n",
              "    <tr>\n",
              "      <th>2</th>\n",
              "      <td>D1ABA3E2887B6A73</td>\n",
              "      <td>A</td>\n",
              "      <td>recommender_system_test</td>\n",
              "      <td>2020-12-07 14:43:29</td>\n",
              "      <td>product_cart</td>\n",
              "      <td>NaN</td>\n",
              "      <td>2020-12-07</td>\n",
              "      <td>EU</td>\n",
              "      <td>PC</td>\n",
              "      <td>2020-12-07</td>\n",
              "    </tr>\n",
              "    <tr>\n",
              "      <th>3</th>\n",
              "      <td>D1ABA3E2887B6A73</td>\n",
              "      <td>A</td>\n",
              "      <td>recommender_system_test</td>\n",
              "      <td>2020-12-25 00:04:57</td>\n",
              "      <td>product_cart</td>\n",
              "      <td>NaN</td>\n",
              "      <td>2020-12-07</td>\n",
              "      <td>EU</td>\n",
              "      <td>PC</td>\n",
              "      <td>2020-12-25</td>\n",
              "    </tr>\n",
              "    <tr>\n",
              "      <th>4</th>\n",
              "      <td>D1ABA3E2887B6A73</td>\n",
              "      <td>A</td>\n",
              "      <td>recommender_system_test</td>\n",
              "      <td>2020-12-07 14:43:27</td>\n",
              "      <td>product_page</td>\n",
              "      <td>NaN</td>\n",
              "      <td>2020-12-07</td>\n",
              "      <td>EU</td>\n",
              "      <td>PC</td>\n",
              "      <td>2020-12-07</td>\n",
              "    </tr>\n",
              "  </tbody>\n",
              "</table>\n",
              "</div>\n",
              "      <button class=\"colab-df-convert\" onclick=\"convertToInteractive('df-7636b24e-2ccc-46f7-ae24-8dcd7c0d4735')\"\n",
              "              title=\"Convert this dataframe to an interactive table.\"\n",
              "              style=\"display:none;\">\n",
              "        \n",
              "  <svg xmlns=\"http://www.w3.org/2000/svg\" height=\"24px\"viewBox=\"0 0 24 24\"\n",
              "       width=\"24px\">\n",
              "    <path d=\"M0 0h24v24H0V0z\" fill=\"none\"/>\n",
              "    <path d=\"M18.56 5.44l.94 2.06.94-2.06 2.06-.94-2.06-.94-.94-2.06-.94 2.06-2.06.94zm-11 1L8.5 8.5l.94-2.06 2.06-.94-2.06-.94L8.5 2.5l-.94 2.06-2.06.94zm10 10l.94 2.06.94-2.06 2.06-.94-2.06-.94-.94-2.06-.94 2.06-2.06.94z\"/><path d=\"M17.41 7.96l-1.37-1.37c-.4-.4-.92-.59-1.43-.59-.52 0-1.04.2-1.43.59L10.3 9.45l-7.72 7.72c-.78.78-.78 2.05 0 2.83L4 21.41c.39.39.9.59 1.41.59.51 0 1.02-.2 1.41-.59l7.78-7.78 2.81-2.81c.8-.78.8-2.07 0-2.86zM5.41 20L4 18.59l7.72-7.72 1.47 1.35L5.41 20z\"/>\n",
              "  </svg>\n",
              "      </button>\n",
              "      \n",
              "  <style>\n",
              "    .colab-df-container {\n",
              "      display:flex;\n",
              "      flex-wrap:wrap;\n",
              "      gap: 12px;\n",
              "    }\n",
              "\n",
              "    .colab-df-convert {\n",
              "      background-color: #E8F0FE;\n",
              "      border: none;\n",
              "      border-radius: 50%;\n",
              "      cursor: pointer;\n",
              "      display: none;\n",
              "      fill: #1967D2;\n",
              "      height: 32px;\n",
              "      padding: 0 0 0 0;\n",
              "      width: 32px;\n",
              "    }\n",
              "\n",
              "    .colab-df-convert:hover {\n",
              "      background-color: #E2EBFA;\n",
              "      box-shadow: 0px 1px 2px rgba(60, 64, 67, 0.3), 0px 1px 3px 1px rgba(60, 64, 67, 0.15);\n",
              "      fill: #174EA6;\n",
              "    }\n",
              "\n",
              "    [theme=dark] .colab-df-convert {\n",
              "      background-color: #3B4455;\n",
              "      fill: #D2E3FC;\n",
              "    }\n",
              "\n",
              "    [theme=dark] .colab-df-convert:hover {\n",
              "      background-color: #434B5C;\n",
              "      box-shadow: 0px 1px 3px 1px rgba(0, 0, 0, 0.15);\n",
              "      filter: drop-shadow(0px 1px 2px rgba(0, 0, 0, 0.3));\n",
              "      fill: #FFFFFF;\n",
              "    }\n",
              "  </style>\n",
              "\n",
              "      <script>\n",
              "        const buttonEl =\n",
              "          document.querySelector('#df-7636b24e-2ccc-46f7-ae24-8dcd7c0d4735 button.colab-df-convert');\n",
              "        buttonEl.style.display =\n",
              "          google.colab.kernel.accessAllowed ? 'block' : 'none';\n",
              "\n",
              "        async function convertToInteractive(key) {\n",
              "          const element = document.querySelector('#df-7636b24e-2ccc-46f7-ae24-8dcd7c0d4735');\n",
              "          const dataTable =\n",
              "            await google.colab.kernel.invokeFunction('convertToInteractive',\n",
              "                                                     [key], {});\n",
              "          if (!dataTable) return;\n",
              "\n",
              "          const docLinkHtml = 'Like what you see? Visit the ' +\n",
              "            '<a target=\"_blank\" href=https://colab.research.google.com/notebooks/data_table.ipynb>data table notebook</a>'\n",
              "            + ' to learn more about interactive tables.';\n",
              "          element.innerHTML = '';\n",
              "          dataTable['output_type'] = 'display_data';\n",
              "          await google.colab.output.renderOutput(dataTable, element);\n",
              "          const docLink = document.createElement('div');\n",
              "          docLink.innerHTML = docLinkHtml;\n",
              "          element.appendChild(docLink);\n",
              "        }\n",
              "      </script>\n",
              "    </div>\n",
              "  </div>\n",
              "  "
            ]
          },
          "metadata": {},
          "execution_count": 277
        }
      ],
      "source": [
        "final = final_ab_participants_new.merge(final_ab_events, on='user_id', how='left')\n",
        "final = final.merge(final_ab_new_users, on='user_id', how='left')\n",
        "\n",
        "#добавим столбец с датой\n",
        "final['purchase_date'] = final['event_dt'].dt.date\n",
        "final['purchase_date'] = pd.to_datetime(final['purchase_date'])\n",
        "final.head()"
      ]
    },
    {
      "cell_type": "code",
      "execution_count": 278,
      "metadata": {
        "colab": {
          "base_uri": "https://localhost:8080/",
          "height": 53
        },
        "id": "K46extsBxmWH",
        "outputId": "7092a783-5eb8-457a-c587-2ca8962f76b0"
      },
      "outputs": [
        {
          "output_type": "display_data",
          "data": {
            "text/plain": [
              "array([False])"
            ]
          },
          "metadata": {}
        },
        {
          "output_type": "display_data",
          "data": {
            "text/plain": [
              "array([False])"
            ]
          },
          "metadata": {}
        }
      ],
      "source": [
        "# проверим, есть ли пересечения по пользователям в разных группах\n",
        "first = final.query('group == \"A\"').groupby('user_id', as_index=False).agg('nunique')\n",
        "first = first['user_id']\n",
        "second = final.query('group == \"B\"').groupby('user_id', as_index=False).agg('nunique')\n",
        "second = second['user_id']\n",
        "\n",
        "display(first.isin(second).unique())\n",
        "display(second.isin(first).unique())"
      ]
    },
    {
      "cell_type": "markdown",
      "metadata": {
        "id": "M4PFh62Rtw80"
      },
      "source": [
        "Пересечений нет.\n",
        "\n",
        "Проверим на пропущенные значения."
      ]
    },
    {
      "cell_type": "code",
      "execution_count": 279,
      "metadata": {
        "colab": {
          "base_uri": "https://localhost:8080/"
        },
        "id": "ncPUW4uIt02h",
        "outputId": "b127fd23-df36-4464-fb95-d321d3a48541"
      },
      "outputs": [
        {
          "output_type": "execute_result",
          "data": {
            "text/plain": [
              "user_id          0.000000\n",
              "group            0.000000\n",
              "ab_test          0.000000\n",
              "event_dt         0.109072\n",
              "event_name       0.109072\n",
              "details          0.880119\n",
              "first_date       0.000000\n",
              "region           0.000000\n",
              "device           0.000000\n",
              "purchase_date    0.109072\n",
              "dtype: float64"
            ]
          },
          "metadata": {},
          "execution_count": 279
        }
      ],
      "source": [
        "final.isna().mean()"
      ]
    },
    {
      "cell_type": "markdown",
      "metadata": {
        "id": "tdnfiNFDoMHN"
      },
      "source": [
        "Почти 11% пользователей из групп теста не совершали никаких событий.\n",
        "Проверим, в каких они группах."
      ]
    },
    {
      "cell_type": "code",
      "execution_count": 280,
      "metadata": {
        "colab": {
          "base_uri": "https://localhost:8080/",
          "height": 143
        },
        "id": "_FkhGR-tuYf0",
        "outputId": "16dfcc81-79dc-4d75-9359-685db20c9484"
      },
      "outputs": [
        {
          "output_type": "execute_result",
          "data": {
            "text/plain": [
              "       user_id\n",
              "group         \n",
              "A          963\n",
              "B         1711"
            ],
            "text/html": [
              "\n",
              "  <div id=\"df-9eaf47d8-b782-461b-9207-3a5fe578c388\">\n",
              "    <div class=\"colab-df-container\">\n",
              "      <div>\n",
              "<style scoped>\n",
              "    .dataframe tbody tr th:only-of-type {\n",
              "        vertical-align: middle;\n",
              "    }\n",
              "\n",
              "    .dataframe tbody tr th {\n",
              "        vertical-align: top;\n",
              "    }\n",
              "\n",
              "    .dataframe thead th {\n",
              "        text-align: right;\n",
              "    }\n",
              "</style>\n",
              "<table border=\"1\" class=\"dataframe\">\n",
              "  <thead>\n",
              "    <tr style=\"text-align: right;\">\n",
              "      <th></th>\n",
              "      <th>user_id</th>\n",
              "    </tr>\n",
              "    <tr>\n",
              "      <th>group</th>\n",
              "      <th></th>\n",
              "    </tr>\n",
              "  </thead>\n",
              "  <tbody>\n",
              "    <tr>\n",
              "      <th>A</th>\n",
              "      <td>963</td>\n",
              "    </tr>\n",
              "    <tr>\n",
              "      <th>B</th>\n",
              "      <td>1711</td>\n",
              "    </tr>\n",
              "  </tbody>\n",
              "</table>\n",
              "</div>\n",
              "      <button class=\"colab-df-convert\" onclick=\"convertToInteractive('df-9eaf47d8-b782-461b-9207-3a5fe578c388')\"\n",
              "              title=\"Convert this dataframe to an interactive table.\"\n",
              "              style=\"display:none;\">\n",
              "        \n",
              "  <svg xmlns=\"http://www.w3.org/2000/svg\" height=\"24px\"viewBox=\"0 0 24 24\"\n",
              "       width=\"24px\">\n",
              "    <path d=\"M0 0h24v24H0V0z\" fill=\"none\"/>\n",
              "    <path d=\"M18.56 5.44l.94 2.06.94-2.06 2.06-.94-2.06-.94-.94-2.06-.94 2.06-2.06.94zm-11 1L8.5 8.5l.94-2.06 2.06-.94-2.06-.94L8.5 2.5l-.94 2.06-2.06.94zm10 10l.94 2.06.94-2.06 2.06-.94-2.06-.94-.94-2.06-.94 2.06-2.06.94z\"/><path d=\"M17.41 7.96l-1.37-1.37c-.4-.4-.92-.59-1.43-.59-.52 0-1.04.2-1.43.59L10.3 9.45l-7.72 7.72c-.78.78-.78 2.05 0 2.83L4 21.41c.39.39.9.59 1.41.59.51 0 1.02-.2 1.41-.59l7.78-7.78 2.81-2.81c.8-.78.8-2.07 0-2.86zM5.41 20L4 18.59l7.72-7.72 1.47 1.35L5.41 20z\"/>\n",
              "  </svg>\n",
              "      </button>\n",
              "      \n",
              "  <style>\n",
              "    .colab-df-container {\n",
              "      display:flex;\n",
              "      flex-wrap:wrap;\n",
              "      gap: 12px;\n",
              "    }\n",
              "\n",
              "    .colab-df-convert {\n",
              "      background-color: #E8F0FE;\n",
              "      border: none;\n",
              "      border-radius: 50%;\n",
              "      cursor: pointer;\n",
              "      display: none;\n",
              "      fill: #1967D2;\n",
              "      height: 32px;\n",
              "      padding: 0 0 0 0;\n",
              "      width: 32px;\n",
              "    }\n",
              "\n",
              "    .colab-df-convert:hover {\n",
              "      background-color: #E2EBFA;\n",
              "      box-shadow: 0px 1px 2px rgba(60, 64, 67, 0.3), 0px 1px 3px 1px rgba(60, 64, 67, 0.15);\n",
              "      fill: #174EA6;\n",
              "    }\n",
              "\n",
              "    [theme=dark] .colab-df-convert {\n",
              "      background-color: #3B4455;\n",
              "      fill: #D2E3FC;\n",
              "    }\n",
              "\n",
              "    [theme=dark] .colab-df-convert:hover {\n",
              "      background-color: #434B5C;\n",
              "      box-shadow: 0px 1px 3px 1px rgba(0, 0, 0, 0.15);\n",
              "      filter: drop-shadow(0px 1px 2px rgba(0, 0, 0, 0.3));\n",
              "      fill: #FFFFFF;\n",
              "    }\n",
              "  </style>\n",
              "\n",
              "      <script>\n",
              "        const buttonEl =\n",
              "          document.querySelector('#df-9eaf47d8-b782-461b-9207-3a5fe578c388 button.colab-df-convert');\n",
              "        buttonEl.style.display =\n",
              "          google.colab.kernel.accessAllowed ? 'block' : 'none';\n",
              "\n",
              "        async function convertToInteractive(key) {\n",
              "          const element = document.querySelector('#df-9eaf47d8-b782-461b-9207-3a5fe578c388');\n",
              "          const dataTable =\n",
              "            await google.colab.kernel.invokeFunction('convertToInteractive',\n",
              "                                                     [key], {});\n",
              "          if (!dataTable) return;\n",
              "\n",
              "          const docLinkHtml = 'Like what you see? Visit the ' +\n",
              "            '<a target=\"_blank\" href=https://colab.research.google.com/notebooks/data_table.ipynb>data table notebook</a>'\n",
              "            + ' to learn more about interactive tables.';\n",
              "          element.innerHTML = '';\n",
              "          dataTable['output_type'] = 'display_data';\n",
              "          await google.colab.output.renderOutput(dataTable, element);\n",
              "          const docLink = document.createElement('div');\n",
              "          docLink.innerHTML = docLinkHtml;\n",
              "          element.appendChild(docLink);\n",
              "        }\n",
              "      </script>\n",
              "    </div>\n",
              "  </div>\n",
              "  "
            ]
          },
          "metadata": {},
          "execution_count": 280
        }
      ],
      "source": [
        "zero = final.groupby(['group', 'user_id']).agg({'event_dt':'count'}).sort_values(by='event_dt').reset_index()\n",
        "zero.query('event_dt == 0').groupby('group').agg({'user_id':'count'})"
      ]
    },
    {
      "cell_type": "markdown",
      "metadata": {
        "id": "aCI95rLQuXeM"
      },
      "source": [
        "Пользователей из группы В, которые не совершали ни одного события, почти в 2 раза больше пользователей из группы А, не совершавших ни одного события.\n",
        "\n",
        "Проверим дату регистрации пользователей из итоговой таблицы."
      ]
    },
    {
      "cell_type": "code",
      "execution_count": 281,
      "metadata": {
        "colab": {
          "base_uri": "https://localhost:8080/"
        },
        "id": "YORq2f_FoKC-",
        "outputId": "a9b89836-dc10-4a4a-baff-c094153f4153"
      },
      "outputs": [
        {
          "output_type": "execute_result",
          "data": {
            "text/plain": [
              "count                            24516\n",
              "mean     2020-12-14 23:06:54.096916224\n",
              "min                2020-12-07 00:00:00\n",
              "25%                2020-12-12 00:00:00\n",
              "50%                2020-12-15 00:00:00\n",
              "75%                2020-12-19 00:00:00\n",
              "max                2020-12-21 00:00:00\n",
              "Name: first_date, dtype: object"
            ]
          },
          "metadata": {},
          "execution_count": 281
        }
      ],
      "source": [
        "final['first_date'].describe(datetime_is_numeric=True)"
      ]
    },
    {
      "cell_type": "markdown",
      "metadata": {
        "id": "Be1EDHjHoTW_"
      },
      "source": [
        "В итоговую таблицу попали пользователи, зарегистрировавшиеся с 7 по 21 декабря 2020 года согласно ТЗ.\n",
        "\n",
        "Проверим дату и время совершения действий."
      ]
    },
    {
      "cell_type": "code",
      "execution_count": 282,
      "metadata": {
        "colab": {
          "base_uri": "https://localhost:8080/"
        },
        "id": "yA5Rj7b0ojhP",
        "outputId": "3450a418-bdab-47b6-af3d-deb35bf6f7b4"
      },
      "outputs": [
        {
          "output_type": "execute_result",
          "data": {
            "text/plain": [
              "count                            21842\n",
              "mean     2020-12-18 23:44:45.625904128\n",
              "min                2020-12-07 00:05:57\n",
              "25%      2020-12-15 11:05:27.249999872\n",
              "50%         2020-12-19 11:52:24.500000\n",
              "75%                2020-12-22 15:11:55\n",
              "max                2020-12-30 12:42:57\n",
              "Name: event_dt, dtype: object"
            ]
          },
          "metadata": {},
          "execution_count": 282
        }
      ],
      "source": [
        "final['event_dt'].describe(datetime_is_numeric=True)"
      ]
    },
    {
      "cell_type": "markdown",
      "metadata": {
        "id": "hlb6wLqLonAS"
      },
      "source": [
        "Действия пользователи производили с 7 до 30 декабря. \n",
        "\n",
        "Согласно ТЗ ожидается, что пользователи покажут улучшение каждой метрики не менее, чем на 10% за 14 дней с момента регистрации. В данном случае, горизонт событий составляет 14 дней, а значит мы можем оценить метрики только для пользователей, зарегистрировавшихся с 7 по 16 декабря. \n"
      ]
    },
    {
      "cell_type": "markdown",
      "metadata": {
        "id": "jqCMK04XMjpM"
      },
      "source": [
        "**Вывод**\n",
        "\n",
        "Оценим соответствие данных требованиям технического задания.\n",
        "\n",
        "- таблице с участниками теста смешаны участники двух тестов recommender_system_test и interface_eu_test;\n",
        "- группы: А — контрольная, B — новая платёжная воронка согласно ТЗ;\n",
        "- дата запуска: 2020-12-07 согласно ТЗ;\n",
        "- согласно ТЗ дата остановки набора новых пользователей: 2020-12-21, однако представлены данные с 7 по 23 декабря 2020 года;\n",
        "- cогласно ТЗ в таблице присутствуют данные с 7 декабря 2020 по 4 января 2021 года. Однако по факту в ней собраны данные о действиях 58 703 пользователей только с 7 по 30 декабря 2020 года;\n",
        "- 15% новых пользователей из региона EU согласно ТЗ;\n",
        "- после удаления участников interface_eu_test теста и пересекающихся участников двух тестов осталось 5099 уникальных участников теста recommender_system_test, а в ТЗ заявлено 6000;\n",
        "- согласно ТЗ за 14 дней с момента регистрации от пользоватей ожидается улучшение каждой метрики не менее, чем на 10% за 14 дней с момента регистрации. В данном случае, горизонт событий составляет 14 дней, а значит мы можем оценить метрики только для пользователей, зарегистрировавшихся с 7 по 16 декабря;\n",
        "- во время набора новых пользователей не проводились рекламные кампании, то есть маркетинговые активности не влияли на набор пользователей, однако кампания Christmas&New Year Promo началась 25 декабря 2020 года и могла косвенно повлиять на действия пользователей с 25 по 30 декабря 2020 года;\n",
        "- после разделения участников теста по группам относительное различие количества пользователей в двух группах равно 33%. Из-за неравномерного разделения результаты могут быть очень сильно искажены. Если мы обнаружим ухудшение конверсии на 33%, скорее всего, тест неинформативен. Для качественного деления трафика сделовало провести A/A-тест, который помог бы измерить качество деления, определить доли групп, и подтвердить однородность трафика — отсутствие различия ключевых метрик между группами;\n",
        "- пересечения участников между группами теста нет; \n",
        "- почти 11% пользователей из групп теста не совершали никаких событий, из которых почти 64% из группы В (это почти 68% участников группы В). Вероятная причина: некорректное распределение пользователей по группам, о чем также говорит относительное различие количества пользователей в двух группах в 33%."
      ]
    },
    {
      "cell_type": "markdown",
      "metadata": {
        "id": "W8dMsMIjMUug"
      },
      "source": [
        "## 3. Исследовательский анализ данных и оценка результатов А/В тестирования\n",
        "<a name=\"analysis\"></a>"
      ]
    },
    {
      "cell_type": "markdown",
      "metadata": {
        "id": "XI0SqA0lMTpO"
      },
      "source": [
        "Посмотрим, как меняется конверсия в воронке в выборках на разных этапах."
      ]
    },
    {
      "cell_type": "code",
      "execution_count": 283,
      "metadata": {
        "colab": {
          "base_uri": "https://localhost:8080/",
          "height": 206
        },
        "id": "0-6csSF5k7ZO",
        "outputId": "f5614d30-cf0f-4ac0-ee72-092565067a86"
      },
      "outputs": [
        {
          "output_type": "execute_result",
          "data": {
            "text/plain": [
              "              user_id  conversion\n",
              "event_name                       \n",
              "login            2422    0.715510\n",
              "product_page     1571    0.464106\n",
              "purchase          773    0.228360\n",
              "product_cart      728    0.215066"
            ],
            "text/html": [
              "\n",
              "  <div id=\"df-6b91bfd6-b594-4d4c-9a61-82598f605f9a\">\n",
              "    <div class=\"colab-df-container\">\n",
              "      <div>\n",
              "<style scoped>\n",
              "    .dataframe tbody tr th:only-of-type {\n",
              "        vertical-align: middle;\n",
              "    }\n",
              "\n",
              "    .dataframe tbody tr th {\n",
              "        vertical-align: top;\n",
              "    }\n",
              "\n",
              "    .dataframe thead th {\n",
              "        text-align: right;\n",
              "    }\n",
              "</style>\n",
              "<table border=\"1\" class=\"dataframe\">\n",
              "  <thead>\n",
              "    <tr style=\"text-align: right;\">\n",
              "      <th></th>\n",
              "      <th>user_id</th>\n",
              "      <th>conversion</th>\n",
              "    </tr>\n",
              "    <tr>\n",
              "      <th>event_name</th>\n",
              "      <th></th>\n",
              "      <th></th>\n",
              "    </tr>\n",
              "  </thead>\n",
              "  <tbody>\n",
              "    <tr>\n",
              "      <th>login</th>\n",
              "      <td>2422</td>\n",
              "      <td>0.715510</td>\n",
              "    </tr>\n",
              "    <tr>\n",
              "      <th>product_page</th>\n",
              "      <td>1571</td>\n",
              "      <td>0.464106</td>\n",
              "    </tr>\n",
              "    <tr>\n",
              "      <th>purchase</th>\n",
              "      <td>773</td>\n",
              "      <td>0.228360</td>\n",
              "    </tr>\n",
              "    <tr>\n",
              "      <th>product_cart</th>\n",
              "      <td>728</td>\n",
              "      <td>0.215066</td>\n",
              "    </tr>\n",
              "  </tbody>\n",
              "</table>\n",
              "</div>\n",
              "      <button class=\"colab-df-convert\" onclick=\"convertToInteractive('df-6b91bfd6-b594-4d4c-9a61-82598f605f9a')\"\n",
              "              title=\"Convert this dataframe to an interactive table.\"\n",
              "              style=\"display:none;\">\n",
              "        \n",
              "  <svg xmlns=\"http://www.w3.org/2000/svg\" height=\"24px\"viewBox=\"0 0 24 24\"\n",
              "       width=\"24px\">\n",
              "    <path d=\"M0 0h24v24H0V0z\" fill=\"none\"/>\n",
              "    <path d=\"M18.56 5.44l.94 2.06.94-2.06 2.06-.94-2.06-.94-.94-2.06-.94 2.06-2.06.94zm-11 1L8.5 8.5l.94-2.06 2.06-.94-2.06-.94L8.5 2.5l-.94 2.06-2.06.94zm10 10l.94 2.06.94-2.06 2.06-.94-2.06-.94-.94-2.06-.94 2.06-2.06.94z\"/><path d=\"M17.41 7.96l-1.37-1.37c-.4-.4-.92-.59-1.43-.59-.52 0-1.04.2-1.43.59L10.3 9.45l-7.72 7.72c-.78.78-.78 2.05 0 2.83L4 21.41c.39.39.9.59 1.41.59.51 0 1.02-.2 1.41-.59l7.78-7.78 2.81-2.81c.8-.78.8-2.07 0-2.86zM5.41 20L4 18.59l7.72-7.72 1.47 1.35L5.41 20z\"/>\n",
              "  </svg>\n",
              "      </button>\n",
              "      \n",
              "  <style>\n",
              "    .colab-df-container {\n",
              "      display:flex;\n",
              "      flex-wrap:wrap;\n",
              "      gap: 12px;\n",
              "    }\n",
              "\n",
              "    .colab-df-convert {\n",
              "      background-color: #E8F0FE;\n",
              "      border: none;\n",
              "      border-radius: 50%;\n",
              "      cursor: pointer;\n",
              "      display: none;\n",
              "      fill: #1967D2;\n",
              "      height: 32px;\n",
              "      padding: 0 0 0 0;\n",
              "      width: 32px;\n",
              "    }\n",
              "\n",
              "    .colab-df-convert:hover {\n",
              "      background-color: #E2EBFA;\n",
              "      box-shadow: 0px 1px 2px rgba(60, 64, 67, 0.3), 0px 1px 3px 1px rgba(60, 64, 67, 0.15);\n",
              "      fill: #174EA6;\n",
              "    }\n",
              "\n",
              "    [theme=dark] .colab-df-convert {\n",
              "      background-color: #3B4455;\n",
              "      fill: #D2E3FC;\n",
              "    }\n",
              "\n",
              "    [theme=dark] .colab-df-convert:hover {\n",
              "      background-color: #434B5C;\n",
              "      box-shadow: 0px 1px 3px 1px rgba(0, 0, 0, 0.15);\n",
              "      filter: drop-shadow(0px 1px 2px rgba(0, 0, 0, 0.3));\n",
              "      fill: #FFFFFF;\n",
              "    }\n",
              "  </style>\n",
              "\n",
              "      <script>\n",
              "        const buttonEl =\n",
              "          document.querySelector('#df-6b91bfd6-b594-4d4c-9a61-82598f605f9a button.colab-df-convert');\n",
              "        buttonEl.style.display =\n",
              "          google.colab.kernel.accessAllowed ? 'block' : 'none';\n",
              "\n",
              "        async function convertToInteractive(key) {\n",
              "          const element = document.querySelector('#df-6b91bfd6-b594-4d4c-9a61-82598f605f9a');\n",
              "          const dataTable =\n",
              "            await google.colab.kernel.invokeFunction('convertToInteractive',\n",
              "                                                     [key], {});\n",
              "          if (!dataTable) return;\n",
              "\n",
              "          const docLinkHtml = 'Like what you see? Visit the ' +\n",
              "            '<a target=\"_blank\" href=https://colab.research.google.com/notebooks/data_table.ipynb>data table notebook</a>'\n",
              "            + ' to learn more about interactive tables.';\n",
              "          element.innerHTML = '';\n",
              "          dataTable['output_type'] = 'display_data';\n",
              "          await google.colab.output.renderOutput(dataTable, element);\n",
              "          const docLink = document.createElement('div');\n",
              "          docLink.innerHTML = docLinkHtml;\n",
              "          element.appendChild(docLink);\n",
              "        }\n",
              "      </script>\n",
              "    </div>\n",
              "  </div>\n",
              "  "
            ]
          },
          "metadata": {},
          "execution_count": 283
        }
      ],
      "source": [
        "funnel_A = final.query('group == \"A\"').groupby('event_name').agg({'user_id':'nunique'}).sort_values(by='user_id', ascending=False)\n",
        "funnel_A['conversion'] = funnel_A['user_id']/final.query('group == \"A\"')['user_id'].nunique()\n",
        "funnel_A\n"
      ]
    },
    {
      "cell_type": "code",
      "execution_count": 284,
      "metadata": {
        "colab": {
          "base_uri": "https://localhost:8080/",
          "height": 206
        },
        "id": "ENMTZ5C2mo8N",
        "outputId": "c829d1a2-b18c-4f50-89ad-902b2b3852ef"
      },
      "outputs": [
        {
          "output_type": "execute_result",
          "data": {
            "text/plain": [
              "              user_id  conversion\n",
              "event_name                       \n",
              "login             822    0.324516\n",
              "product_page      459    0.181208\n",
              "purchase          226    0.089222\n",
              "product_cart      225    0.088827"
            ],
            "text/html": [
              "\n",
              "  <div id=\"df-f94abbff-d44a-4478-b635-cd1b9f42476b\">\n",
              "    <div class=\"colab-df-container\">\n",
              "      <div>\n",
              "<style scoped>\n",
              "    .dataframe tbody tr th:only-of-type {\n",
              "        vertical-align: middle;\n",
              "    }\n",
              "\n",
              "    .dataframe tbody tr th {\n",
              "        vertical-align: top;\n",
              "    }\n",
              "\n",
              "    .dataframe thead th {\n",
              "        text-align: right;\n",
              "    }\n",
              "</style>\n",
              "<table border=\"1\" class=\"dataframe\">\n",
              "  <thead>\n",
              "    <tr style=\"text-align: right;\">\n",
              "      <th></th>\n",
              "      <th>user_id</th>\n",
              "      <th>conversion</th>\n",
              "    </tr>\n",
              "    <tr>\n",
              "      <th>event_name</th>\n",
              "      <th></th>\n",
              "      <th></th>\n",
              "    </tr>\n",
              "  </thead>\n",
              "  <tbody>\n",
              "    <tr>\n",
              "      <th>login</th>\n",
              "      <td>822</td>\n",
              "      <td>0.324516</td>\n",
              "    </tr>\n",
              "    <tr>\n",
              "      <th>product_page</th>\n",
              "      <td>459</td>\n",
              "      <td>0.181208</td>\n",
              "    </tr>\n",
              "    <tr>\n",
              "      <th>purchase</th>\n",
              "      <td>226</td>\n",
              "      <td>0.089222</td>\n",
              "    </tr>\n",
              "    <tr>\n",
              "      <th>product_cart</th>\n",
              "      <td>225</td>\n",
              "      <td>0.088827</td>\n",
              "    </tr>\n",
              "  </tbody>\n",
              "</table>\n",
              "</div>\n",
              "      <button class=\"colab-df-convert\" onclick=\"convertToInteractive('df-f94abbff-d44a-4478-b635-cd1b9f42476b')\"\n",
              "              title=\"Convert this dataframe to an interactive table.\"\n",
              "              style=\"display:none;\">\n",
              "        \n",
              "  <svg xmlns=\"http://www.w3.org/2000/svg\" height=\"24px\"viewBox=\"0 0 24 24\"\n",
              "       width=\"24px\">\n",
              "    <path d=\"M0 0h24v24H0V0z\" fill=\"none\"/>\n",
              "    <path d=\"M18.56 5.44l.94 2.06.94-2.06 2.06-.94-2.06-.94-.94-2.06-.94 2.06-2.06.94zm-11 1L8.5 8.5l.94-2.06 2.06-.94-2.06-.94L8.5 2.5l-.94 2.06-2.06.94zm10 10l.94 2.06.94-2.06 2.06-.94-2.06-.94-.94-2.06-.94 2.06-2.06.94z\"/><path d=\"M17.41 7.96l-1.37-1.37c-.4-.4-.92-.59-1.43-.59-.52 0-1.04.2-1.43.59L10.3 9.45l-7.72 7.72c-.78.78-.78 2.05 0 2.83L4 21.41c.39.39.9.59 1.41.59.51 0 1.02-.2 1.41-.59l7.78-7.78 2.81-2.81c.8-.78.8-2.07 0-2.86zM5.41 20L4 18.59l7.72-7.72 1.47 1.35L5.41 20z\"/>\n",
              "  </svg>\n",
              "      </button>\n",
              "      \n",
              "  <style>\n",
              "    .colab-df-container {\n",
              "      display:flex;\n",
              "      flex-wrap:wrap;\n",
              "      gap: 12px;\n",
              "    }\n",
              "\n",
              "    .colab-df-convert {\n",
              "      background-color: #E8F0FE;\n",
              "      border: none;\n",
              "      border-radius: 50%;\n",
              "      cursor: pointer;\n",
              "      display: none;\n",
              "      fill: #1967D2;\n",
              "      height: 32px;\n",
              "      padding: 0 0 0 0;\n",
              "      width: 32px;\n",
              "    }\n",
              "\n",
              "    .colab-df-convert:hover {\n",
              "      background-color: #E2EBFA;\n",
              "      box-shadow: 0px 1px 2px rgba(60, 64, 67, 0.3), 0px 1px 3px 1px rgba(60, 64, 67, 0.15);\n",
              "      fill: #174EA6;\n",
              "    }\n",
              "\n",
              "    [theme=dark] .colab-df-convert {\n",
              "      background-color: #3B4455;\n",
              "      fill: #D2E3FC;\n",
              "    }\n",
              "\n",
              "    [theme=dark] .colab-df-convert:hover {\n",
              "      background-color: #434B5C;\n",
              "      box-shadow: 0px 1px 3px 1px rgba(0, 0, 0, 0.15);\n",
              "      filter: drop-shadow(0px 1px 2px rgba(0, 0, 0, 0.3));\n",
              "      fill: #FFFFFF;\n",
              "    }\n",
              "  </style>\n",
              "\n",
              "      <script>\n",
              "        const buttonEl =\n",
              "          document.querySelector('#df-f94abbff-d44a-4478-b635-cd1b9f42476b button.colab-df-convert');\n",
              "        buttonEl.style.display =\n",
              "          google.colab.kernel.accessAllowed ? 'block' : 'none';\n",
              "\n",
              "        async function convertToInteractive(key) {\n",
              "          const element = document.querySelector('#df-f94abbff-d44a-4478-b635-cd1b9f42476b');\n",
              "          const dataTable =\n",
              "            await google.colab.kernel.invokeFunction('convertToInteractive',\n",
              "                                                     [key], {});\n",
              "          if (!dataTable) return;\n",
              "\n",
              "          const docLinkHtml = 'Like what you see? Visit the ' +\n",
              "            '<a target=\"_blank\" href=https://colab.research.google.com/notebooks/data_table.ipynb>data table notebook</a>'\n",
              "            + ' to learn more about interactive tables.';\n",
              "          element.innerHTML = '';\n",
              "          dataTable['output_type'] = 'display_data';\n",
              "          await google.colab.output.renderOutput(dataTable, element);\n",
              "          const docLink = document.createElement('div');\n",
              "          docLink.innerHTML = docLinkHtml;\n",
              "          element.appendChild(docLink);\n",
              "        }\n",
              "      </script>\n",
              "    </div>\n",
              "  </div>\n",
              "  "
            ]
          },
          "metadata": {},
          "execution_count": 284
        }
      ],
      "source": [
        "funnel_B = final.query('group == \"B\"').groupby('event_name').agg({'user_id':'nunique'}).sort_values(by='user_id', ascending=False)\n",
        "funnel_B['conversion'] = funnel_B['user_id']/final.query('group == \"B\"')['user_id'].nunique()\n",
        "funnel_B"
      ]
    },
    {
      "cell_type": "markdown",
      "metadata": {
        "id": "U-YiKM-QlR64"
      },
      "source": [
        "Корзину посмотрели меньше пользователей, чем тех, кто сделал покупку. \n",
        "\n",
        "Помимо этого, в группе В очень низкий уровень конверсии на всех этапах воронки.\n",
        "\n",
        "Проверим, одинаково ли распредено количество событий на пользователя в разных группах."
      ]
    },
    {
      "cell_type": "code",
      "execution_count": 285,
      "metadata": {
        "colab": {
          "base_uri": "https://localhost:8080/",
          "height": 53
        },
        "id": "QJEkZhf_lSYn",
        "outputId": "752234ac-621e-4198-8f62-c7655d0294db"
      },
      "outputs": [
        {
          "output_type": "display_data",
          "data": {
            "text/plain": [
              "5.066174298375184"
            ]
          },
          "metadata": {}
        },
        {
          "output_type": "display_data",
          "data": {
            "text/plain": [
              "1.852743782076589"
            ]
          },
          "metadata": {}
        }
      ],
      "source": [
        "final_A = final.query('group == \"A\"')\n",
        "final_B = final.query('group == \"B\"')\n",
        "\n",
        "display(len(final_A.query('event_dt != \"NaT\"'))/final_A['user_id'].nunique())\n",
        "display(len(final_B.query('event_dt != \"NaT\"'))/final_B['user_id'].nunique())"
      ]
    },
    {
      "cell_type": "markdown",
      "metadata": {
        "id": "nTp1gc-Z1wLV"
      },
      "source": [
        "В группе А приходится в среднем 5 событий на пользователя, а в В - 1,8.\n",
        "\n",
        "Посмотрим, как количество событий на пользователя распределены на графике."
      ]
    },
    {
      "cell_type": "code",
      "execution_count": 286,
      "metadata": {
        "id": "PzxNj7uKsfOf"
      },
      "outputs": [],
      "source": [
        "# посчитаем, сколько действий совершил каждый пользователь за 14 дней\n",
        "final['fourteen'] = final['first_date']+timedelta(days=14)\n",
        "by_user = (\n",
        "    final.query('purchase_date != \"NaT\"')\n",
        "    .groupby(['user_id','group']).agg({'first_date':'min', 'fourteen':'max','event_name':'count'})\n",
        "    .sort_values(by='first_date')\n",
        ")\n",
        "\n",
        "by_user_A = by_user.query('group == \"A\"')\n",
        "by_user_B = by_user.query('group == \"B\"')"
      ]
    },
    {
      "cell_type": "code",
      "execution_count": 287,
      "metadata": {
        "colab": {
          "base_uri": "https://localhost:8080/",
          "height": 1000
        },
        "id": "ikDVdmkSsfOf",
        "outputId": "ea634f67-6996-4f5d-caa1-61a49c2ab837"
      },
      "outputs": [
        {
          "output_type": "display_data",
          "data": {
            "text/plain": [
              "<Figure size 1000x600 with 1 Axes>"
            ],
            "image/png": "[encoded data removed]"
          },
          "metadata": {}
        },
        {
          "output_type": "display_data",
          "data": {
            "text/plain": [
              "<Figure size 1000x600 with 1 Axes>"
            ],
            "image/png": "[encoded data removed]"
          },
          "metadata": {}
        }
      ],
      "source": [
        "def by_user (group_data, group_name):\n",
        "    plt.figure(figsize=(10, 6))\n",
        "    sns.set_palette('dark')\n",
        "    ax = sns.histplot(data=group_data, bins = 10)\n",
        "    plt.xticks(rotation=45)\n",
        "    ax.set_title('Доля распределения количества событий на одного пользователя для группы {}'.format(group_name)) \n",
        "    ax.set_xlabel('Число событий')\n",
        "    ax.set_ylabel('Количество пользователей') \n",
        "    plt.show()\n",
        "    \n",
        "by_user(by_user_A, 'A')\n",
        "by_user(by_user_B, 'B')"
      ]
    },
    {
      "cell_type": "markdown",
      "metadata": {
        "id": "anIrdsAssfOf"
      },
      "source": [
        "В группе А пользователи чаще всего совершали 8-10 событий, а в группе В - 5.\n",
        "\n",
        "Посмотрим, как число событий в выборках распределено по дням."
      ]
    },
    {
      "cell_type": "code",
      "execution_count": 288,
      "metadata": {
        "colab": {
          "base_uri": "https://localhost:8080/",
          "height": 1000
        },
        "id": "buo4NzAo2qzK",
        "outputId": "d84c27b5-dd48-4342-d6e4-bbc9b4349572"
      },
      "outputs": [
        {
          "output_type": "display_data",
          "data": {
            "text/plain": [
              "<Figure size 1000x600 with 1 Axes>"
            ],
            "image/png": "[encoded data removed]"
          },
          "metadata": {}
        },
        {
          "output_type": "display_data",
          "data": {
            "text/plain": [
              "<Figure size 1000x600 with 1 Axes>"
            ],
            "image/png": "[encoded data removed]"
          },
          "metadata": {}
        }
      ],
      "source": [
        "# построим график распределения объема событий во времени\n",
        "\n",
        "def timelapse (group_data, group_name):\n",
        "  plt.figure(\n",
        "  figsize=(10, 6)\n",
        ")\n",
        "  sns.set_palette('dark')\n",
        "  ax = sns.histplot(data=group_data['purchase_date'], bins = 10)\n",
        "  plt.xticks(rotation=45)\n",
        "  ax.set_title('Доля событий во времени для группы {}'.format(group_name)) \n",
        "  ax.set_xlabel('Дата')\n",
        "  ax.set_ylabel('Доля событий') \n",
        "  plt.show()\n",
        "\n",
        "timelapse(final_A, 'A')\n",
        "timelapse(final_B, 'B')"
      ]
    },
    {
      "cell_type": "markdown",
      "metadata": {
        "id": "LQJKqwTfLV5d"
      },
      "source": [
        "До 14 декабря число событий в группе А было небольшим, затем произошел рост, а с 23 декабря снижение активности. Больше всего событий произошло 19 декабря.\n",
        "Активность пользователей из группы В похожа начиная с 14 декабря, однако до этой даты, а особенно в первый день теста 7 декабря активность была очень высокой с небольшим спадом 10-13 декабря.\n",
        "\n",
        "\n",
        "Проверим статистическую разницу долей z-критерием."
      ]
    },
    {
      "cell_type": "code",
      "execution_count": 289,
      "metadata": {
        "colab": {
          "base_uri": "https://localhost:8080/",
          "height": 175
        },
        "id": "tJFaDr067pbS",
        "outputId": "8dcf7664-5bc4-446c-9fd8-b9bf94495166"
      },
      "outputs": [
        {
          "output_type": "display_data",
          "data": {
            "text/plain": [
              "group    event_name     A    B\n",
              "0             login  2422  822\n",
              "1      product_page  1571  459\n",
              "2          purchase   773  226\n",
              "3      product_cart   728  225"
            ],
            "text/html": [
              "\n",
              "  <div id=\"df-b768d2ac-e495-419e-b7e5-8d57605155bb\">\n",
              "    <div class=\"colab-df-container\">\n",
              "      <div>\n",
              "<style scoped>\n",
              "    .dataframe tbody tr th:only-of-type {\n",
              "        vertical-align: middle;\n",
              "    }\n",
              "\n",
              "    .dataframe tbody tr th {\n",
              "        vertical-align: top;\n",
              "    }\n",
              "\n",
              "    .dataframe thead th {\n",
              "        text-align: right;\n",
              "    }\n",
              "</style>\n",
              "<table border=\"1\" class=\"dataframe\">\n",
              "  <thead>\n",
              "    <tr style=\"text-align: right;\">\n",
              "      <th>group</th>\n",
              "      <th>event_name</th>\n",
              "      <th>A</th>\n",
              "      <th>B</th>\n",
              "    </tr>\n",
              "  </thead>\n",
              "  <tbody>\n",
              "    <tr>\n",
              "      <th>0</th>\n",
              "      <td>login</td>\n",
              "      <td>2422</td>\n",
              "      <td>822</td>\n",
              "    </tr>\n",
              "    <tr>\n",
              "      <th>1</th>\n",
              "      <td>product_page</td>\n",
              "      <td>1571</td>\n",
              "      <td>459</td>\n",
              "    </tr>\n",
              "    <tr>\n",
              "      <th>2</th>\n",
              "      <td>purchase</td>\n",
              "      <td>773</td>\n",
              "      <td>226</td>\n",
              "    </tr>\n",
              "    <tr>\n",
              "      <th>3</th>\n",
              "      <td>product_cart</td>\n",
              "      <td>728</td>\n",
              "      <td>225</td>\n",
              "    </tr>\n",
              "  </tbody>\n",
              "</table>\n",
              "</div>\n",
              "      <button class=\"colab-df-convert\" onclick=\"convertToInteractive('df-b768d2ac-e495-419e-b7e5-8d57605155bb')\"\n",
              "              title=\"Convert this dataframe to an interactive table.\"\n",
              "              style=\"display:none;\">\n",
              "        \n",
              "  <svg xmlns=\"http://www.w3.org/2000/svg\" height=\"24px\"viewBox=\"0 0 24 24\"\n",
              "       width=\"24px\">\n",
              "    <path d=\"M0 0h24v24H0V0z\" fill=\"none\"/>\n",
              "    <path d=\"M18.56 5.44l.94 2.06.94-2.06 2.06-.94-2.06-.94-.94-2.06-.94 2.06-2.06.94zm-11 1L8.5 8.5l.94-2.06 2.06-.94-2.06-.94L8.5 2.5l-.94 2.06-2.06.94zm10 10l.94 2.06.94-2.06 2.06-.94-2.06-.94-.94-2.06-.94 2.06-2.06.94z\"/><path d=\"M17.41 7.96l-1.37-1.37c-.4-.4-.92-.59-1.43-.59-.52 0-1.04.2-1.43.59L10.3 9.45l-7.72 7.72c-.78.78-.78 2.05 0 2.83L4 21.41c.39.39.9.59 1.41.59.51 0 1.02-.2 1.41-.59l7.78-7.78 2.81-2.81c.8-.78.8-2.07 0-2.86zM5.41 20L4 18.59l7.72-7.72 1.47 1.35L5.41 20z\"/>\n",
              "  </svg>\n",
              "      </button>\n",
              "      \n",
              "  <style>\n",
              "    .colab-df-container {\n",
              "      display:flex;\n",
              "      flex-wrap:wrap;\n",
              "      gap: 12px;\n",
              "    }\n",
              "\n",
              "    .colab-df-convert {\n",
              "      background-color: #E8F0FE;\n",
              "      border: none;\n",
              "      border-radius: 50%;\n",
              "      cursor: pointer;\n",
              "      display: none;\n",
              "      fill: #1967D2;\n",
              "      height: 32px;\n",
              "      padding: 0 0 0 0;\n",
              "      width: 32px;\n",
              "    }\n",
              "\n",
              "    .colab-df-convert:hover {\n",
              "      background-color: #E2EBFA;\n",
              "      box-shadow: 0px 1px 2px rgba(60, 64, 67, 0.3), 0px 1px 3px 1px rgba(60, 64, 67, 0.15);\n",
              "      fill: #174EA6;\n",
              "    }\n",
              "\n",
              "    [theme=dark] .colab-df-convert {\n",
              "      background-color: #3B4455;\n",
              "      fill: #D2E3FC;\n",
              "    }\n",
              "\n",
              "    [theme=dark] .colab-df-convert:hover {\n",
              "      background-color: #434B5C;\n",
              "      box-shadow: 0px 1px 3px 1px rgba(0, 0, 0, 0.15);\n",
              "      filter: drop-shadow(0px 1px 2px rgba(0, 0, 0, 0.3));\n",
              "      fill: #FFFFFF;\n",
              "    }\n",
              "  </style>\n",
              "\n",
              "      <script>\n",
              "        const buttonEl =\n",
              "          document.querySelector('#df-b768d2ac-e495-419e-b7e5-8d57605155bb button.colab-df-convert');\n",
              "        buttonEl.style.display =\n",
              "          google.colab.kernel.accessAllowed ? 'block' : 'none';\n",
              "\n",
              "        async function convertToInteractive(key) {\n",
              "          const element = document.querySelector('#df-b768d2ac-e495-419e-b7e5-8d57605155bb');\n",
              "          const dataTable =\n",
              "            await google.colab.kernel.invokeFunction('convertToInteractive',\n",
              "                                                     [key], {});\n",
              "          if (!dataTable) return;\n",
              "\n",
              "          const docLinkHtml = 'Like what you see? Visit the ' +\n",
              "            '<a target=\"_blank\" href=https://colab.research.google.com/notebooks/data_table.ipynb>data table notebook</a>'\n",
              "            + ' to learn more about interactive tables.';\n",
              "          element.innerHTML = '';\n",
              "          dataTable['output_type'] = 'display_data';\n",
              "          await google.colab.output.renderOutput(dataTable, element);\n",
              "          const docLink = document.createElement('div');\n",
              "          docLink.innerHTML = docLinkHtml;\n",
              "          element.appendChild(docLink);\n",
              "        }\n",
              "      </script>\n",
              "    </div>\n",
              "  </div>\n",
              "  "
            ]
          },
          "metadata": {}
        }
      ],
      "source": [
        "# создадим таблицу с количеством клиентов, совершивших каждое событие в каждой группе\n",
        "group_events = (\n",
        "    final.pivot_table(index='event_name', columns='group', values='user_id', aggfunc = 'nunique')\n",
        "    .sort_values(by='A', ascending=False).reset_index()\n",
        ")\n",
        "display(group_events)\n"
      ]
    },
    {
      "cell_type": "code",
      "execution_count": 290,
      "metadata": {
        "id": "mIN0BmnMjR49"
      },
      "outputs": [],
      "source": [
        "# добавим фуекцию для оценки наличия статистически знчимых различий в конверсиях между двумя группами\n",
        "def z_test(successes_sample_one, successes_sample_two, trials_sample_one, trials_sample_two):\n",
        "    alpha = 0.05 # критический уровень статистической значимости\n",
        "  \n",
        "    successes = np.array([successes_sample_one, successes_sample_two])\n",
        "    trials = np.array([trials_sample_one, trials_sample_two])\n",
        "  \n",
        "    # пропорция успехов в первой группе:\n",
        "    p1 = successes[0]/trials[0]\n",
        "  \n",
        "    # пропорция успехов во второй группе:\n",
        "    p2 = successes[1]/trials[1]\n",
        "  \n",
        "    # пропорция успехов в комбинированном датасете:\n",
        "    p_combined = (successes[0] + successes[1]) / (trials[0] + trials[1])\n",
        "  \n",
        "    # разница пропорций в датасетах\n",
        "    difference = p1 - p2\n",
        "  \n",
        "    # считаем статистику в ст.отклонениях стандартного нормального распределения\n",
        "    z_value = difference / mth.sqrt(\n",
        "      p_combined * (1 - p_combined) * (1 / trials[0] + 1 / trials[1])\n",
        ")  \n",
        "  \n",
        "    # задаем стандартное нормальное распределение (среднее 0, ст.отклонение 1)\n",
        "    distr = st.norm(0, 1)\n",
        "  \n",
        "    p_value = (1 - distr.cdf(abs(z_value))) * 2\n",
        "  \n",
        "    print('p-значение: ', p_value)\n",
        "  \n",
        "    if p_value < alpha:\n",
        "        print('Отвергаем нулевую гипотезу: между пропорциями есть значимая разница')\n",
        "    else:\n",
        "        print(\n",
        "        'Не получилось отвергнуть нулевую гипотезу, нет оснований считать пропорции разными'\n",
        "    )\n"
      ]
    },
    {
      "cell_type": "code",
      "execution_count": 291,
      "metadata": {
        "id": "3v1kGZR2iCT1"
      },
      "outputs": [],
      "source": [
        "# все пользователи\n",
        "all_users = final.groupby('group')['user_id'].nunique()\n",
        "\n",
        "\n",
        "#создадим функцию для проверки данных воронки\n",
        "\n",
        "def foo(group_a, group_b, funnel_data, all_users_data):\n",
        "    for index, row in funnel_data.iterrows():\n",
        "        event = row['event_name']\n",
        "        group_a_data = row[group_a]\n",
        "        group_b_data = row[group_b]\n",
        "        conversion_a = round(row[group_a] / all_users[group_a], 2)\n",
        "        conversion_b = round(row[group_b] / all_users[group_b], 2)\n",
        "        display('Результат этапа {} для групп {} (кол-во пользователей: {}, конверсия: {}) и {} (кол-во пользователей: {}, конверсия: {}):'.format(event, group_a, group_a_data, conversion_a, group_b, group_b_data, conversion_b))\n",
        "        z_test(row[group_a], row[group_b], all_users_data[group_a], all_users_data[group_b])\n"
      ]
    },
    {
      "cell_type": "markdown",
      "metadata": {
        "id": "KrQ4qHLiHG1h"
      },
      "source": [
        "Проверим гипотезу о наличии статистически значимых различий в конверсиях между группами с помощью z-теста.\n",
        "\n",
        "- Нулевая гипотеза: пропорции равны.\n",
        "- Альтернативная гипотеза: пропорции не равны."
      ]
    },
    {
      "cell_type": "code",
      "execution_count": 292,
      "metadata": {
        "colab": {
          "base_uri": "https://localhost:8080/",
          "height": 233
        },
        "id": "r20-M-Rxi1XG",
        "outputId": "3fe5cfba-fa97-48d9-9561-552c46b3e38a"
      },
      "outputs": [
        {
          "output_type": "display_data",
          "data": {
            "text/plain": [
              "'Результат этапа login для групп A (кол-во пользователей: 2422, конверсия: 0.72) и B (кол-во пользователей: 822, конверсия: 0.32):'"
            ],
            "application/vnd.google.colaboratory.intrinsic+json": {
              "type": "string"
            }
          },
          "metadata": {}
        },
        {
          "output_type": "stream",
          "name": "stdout",
          "text": [
            "p-значение:  0.0\n",
            "Отвергаем нулевую гипотезу: между пропорциями есть значимая разница\n"
          ]
        },
        {
          "output_type": "display_data",
          "data": {
            "text/plain": [
              "'Результат этапа product_page для групп A (кол-во пользователей: 1571, конверсия: 0.46) и B (кол-во пользователей: 459, конверсия: 0.18):'"
            ],
            "application/vnd.google.colaboratory.intrinsic+json": {
              "type": "string"
            }
          },
          "metadata": {}
        },
        {
          "output_type": "stream",
          "name": "stdout",
          "text": [
            "p-значение:  0.0\n",
            "Отвергаем нулевую гипотезу: между пропорциями есть значимая разница\n"
          ]
        },
        {
          "output_type": "display_data",
          "data": {
            "text/plain": [
              "'Результат этапа purchase для групп A (кол-во пользователей: 773, конверсия: 0.23) и B (кол-во пользователей: 226, конверсия: 0.09):'"
            ],
            "application/vnd.google.colaboratory.intrinsic+json": {
              "type": "string"
            }
          },
          "metadata": {}
        },
        {
          "output_type": "stream",
          "name": "stdout",
          "text": [
            "p-значение:  0.0\n",
            "Отвергаем нулевую гипотезу: между пропорциями есть значимая разница\n"
          ]
        },
        {
          "output_type": "display_data",
          "data": {
            "text/plain": [
              "'Результат этапа product_cart для групп A (кол-во пользователей: 728, конверсия: 0.22) и B (кол-во пользователей: 225, конверсия: 0.09):'"
            ],
            "application/vnd.google.colaboratory.intrinsic+json": {
              "type": "string"
            }
          },
          "metadata": {}
        },
        {
          "output_type": "stream",
          "name": "stdout",
          "text": [
            "p-значение:  0.0\n",
            "Отвергаем нулевую гипотезу: между пропорциями есть значимая разница\n"
          ]
        }
      ],
      "source": [
        "# сделаем проверку для групп\n",
        "foo(\"A\", \"B\", group_events, all_users)"
      ]
    },
    {
      "cell_type": "markdown",
      "metadata": {
        "id": "Pjm_eHV1HuAR"
      },
      "source": [
        "Имеется статистически значимое различие между пропорциями. \n",
        "\n",
        "Построим графики кумулятивной конверсии по дням по группам."
      ]
    },
    {
      "cell_type": "code",
      "execution_count": 293,
      "metadata": {
        "id": "3Sdxv7CAH7OA"
      },
      "outputs": [],
      "source": [
        "# создаем массив уникальных пар значений дат и групп теста\n",
        "datesGroups = final.query('event_dt != \"NaT\"')[['purchase_date','group']].drop_duplicates()\n",
        "\n",
        "actionsAggregated = datesGroups.apply(lambda x: final[np.logical_and(final['purchase_date'] <= x['purchase_date'], final['group'] == x['group'])]\n",
        ".agg({'purchase_date' : 'max', 'group' : 'max', 'event_dt' : 'nunique', 'user_id' : 'nunique'}), axis=1).sort_values(by=['purchase_date','group'])\n",
        "\n",
        "\n",
        "actionsAggregated.columns = ['purchase_date', 'group', 'actions', 'users']\n"
      ]
    },
    {
      "cell_type": "code",
      "execution_count": 294,
      "metadata": {
        "colab": {
          "base_uri": "https://localhost:8080/",
          "height": 500
        },
        "id": "kDRSTN3AXPFF",
        "outputId": "aaa5e2db-e40f-4266-c821-20cc23edbace"
      },
      "outputs": [
        {
          "output_type": "execute_result",
          "data": {
            "text/plain": [
              "<matplotlib.legend.Legend at 0x7f7cfad8c340>"
            ]
          },
          "metadata": {},
          "execution_count": 294
        },
        {
          "output_type": "display_data",
          "data": {
            "text/plain": [
              "<Figure size 640x480 with 1 Axes>"
            ],
            "image/png": "[encoded data removed]"
          },
          "metadata": {}
        }
      ],
      "source": [
        "# датафрейм с кумулятивными данными пользователей в группе А\n",
        "actionsAggregatedA = actionsAggregated[actionsAggregated['group']=='A']\n",
        "\n",
        "# датафрейм с кумулятивными данными пользователей в группе B\n",
        "actionsAggregatedB = actionsAggregated[actionsAggregated['group']=='B']\n",
        "\n",
        "# Строим график количества действий пользователей группы А\n",
        "plt.plot(actionsAggregatedA['purchase_date'], actionsAggregatedA['actions'], label='A')\n",
        "\n",
        "# Строим график количества действий пользователей группы B\n",
        "plt.plot(actionsAggregatedB['purchase_date'], actionsAggregatedB['actions'], label='B')\n",
        "plt.xticks(rotation=45)\n",
        "plt.legend()"
      ]
    },
    {
      "cell_type": "markdown",
      "metadata": {
        "id": "hfHxFqIJQVv0"
      },
      "source": [
        "Кумулятивное количество действий в группе А намного превышает данные группы В. \n",
        "\n",
        "Посчитаем кумулятивную конверсию."
      ]
    },
    {
      "cell_type": "code",
      "execution_count": 295,
      "metadata": {
        "colab": {
          "base_uri": "https://localhost:8080/",
          "height": 500
        },
        "id": "LhzvHDT0Y3xD",
        "outputId": "f50ed60f-f254-41c3-dda3-9404c61c59c9"
      },
      "outputs": [
        {
          "output_type": "execute_result",
          "data": {
            "text/plain": [
              "<matplotlib.legend.Legend at 0x7f7cfaf169a0>"
            ]
          },
          "metadata": {},
          "execution_count": 295
        },
        {
          "output_type": "display_data",
          "data": {
            "text/plain": [
              "<Figure size 640x480 with 1 Axes>"
            ],
            "image/png": "[encoded data removed]"
          },
          "metadata": {}
        }
      ],
      "source": [
        "total_users_A = final.query('group == \"A\"')['user_id'].nunique()\n",
        "total_users_B = final.query('group == \"B\"')['user_id'].nunique()\n",
        "\n",
        "# считаем кумулятивную конверсию\n",
        "actionsAggregatedA['conversion'] = actionsAggregatedA['users']/total_users_A\n",
        "actionsAggregatedB['conversion'] = actionsAggregatedB['users']/total_users_B\n",
        "\n",
        "# строим графики\n",
        "plt.plot(actionsAggregatedA['purchase_date'], actionsAggregatedA['conversion'], label='A')\n",
        "plt.plot(actionsAggregatedB['purchase_date'], actionsAggregatedB['conversion'], label='B')\n",
        "plt.xticks(rotation=45)\n",
        "plt.legend()\n"
      ]
    },
    {
      "cell_type": "markdown",
      "metadata": {
        "id": "csKltbKCRPMm"
      },
      "source": [
        "Начиная с 13 декабря кумулятивная коверсия группы А начала резко расти и достигла своего пика в 70% 21 декабря, после чего оставалась стабильной без повышения или понижения. Конверсия группы В также достигла плато в 30% 21 декабря."
      ]
    },
    {
      "cell_type": "code",
      "execution_count": 296,
      "metadata": {
        "colab": {
          "base_uri": "https://localhost:8080/",
          "height": 607
        },
        "id": "46yhxTQEa993",
        "outputId": "7e6216da-6a07-4270-a7fc-a090c70e7b4a"
      },
      "outputs": [
        {
          "output_type": "execute_result",
          "data": {
            "text/plain": [
              "(array([18605., 18609., 18613., 18617., 18621., 18625.]),\n",
              " [Text(18605.0, 0, '2020-12-09'),\n",
              "  Text(18609.0, 0, '2020-12-13'),\n",
              "  Text(18613.0, 0, '2020-12-17'),\n",
              "  Text(18617.0, 0, '2020-12-21'),\n",
              "  Text(18621.0, 0, '2020-12-25'),\n",
              "  Text(18625.0, 0, '2020-12-29')])"
            ]
          },
          "metadata": {},
          "execution_count": 296
        },
        {
          "output_type": "display_data",
          "data": {
            "text/plain": [
              "<Figure size 640x480 with 1 Axes>"
            ],
            "image/png": "[encoded data removed]"
          },
          "metadata": {}
        }
      ],
      "source": [
        "# Построим график относительного различия кумулятивных конверсий\n",
        "mergedCumulativeConversions = actionsAggregatedA[['purchase_date','conversion']].merge(actionsAggregatedB[['purchase_date','conversion']], left_on='purchase_date', right_on='purchase_date', how='left', suffixes=['A', 'B'])\n",
        "\n",
        "plt.plot(mergedCumulativeConversions['purchase_date'], mergedCumulativeConversions['conversionB']/mergedCumulativeConversions['conversionA']-1, label=\"Относительный прирост конверсии группы B относительно группы A\")\n",
        "plt.legend()\n",
        "\n",
        "plt.axhline(y=0, color='black', linestyle='--')\n",
        "plt.axhline(y=-0.1, color='grey', linestyle='--')\n",
        "plt.xticks(rotation=45)\n"
      ]
    },
    {
      "cell_type": "markdown",
      "metadata": {
        "id": "FVyQUxXDShpp"
      },
      "source": [
        "В начале теста группа B выигрывала у группы A, потом её конверсия начала падать. Причем тенденция стабильна и можно сказать, что отношение конверсий установилось и группа В определенно проигрывает.\n",
        "\n",
        "Однако стоит проанализировать аномалии. Может быть кто-то делает очень много действий."
      ]
    },
    {
      "cell_type": "code",
      "execution_count": 297,
      "metadata": {
        "colab": {
          "base_uri": "https://localhost:8080/",
          "height": 178
        },
        "id": "zolvbxOarFqP",
        "outputId": "500117d5-32f6-4588-aac3-bca96d299758"
      },
      "outputs": [
        {
          "output_type": "display_data",
          "data": {
            "text/plain": [
              "count    5918.000000\n",
              "mean        3.690774\n",
              "std         4.382431\n",
              "min         0.000000\n",
              "25%         0.000000\n",
              "50%         2.000000\n",
              "75%         6.000000\n",
              "max        28.000000\n",
              "Name: event_dt, dtype: float64"
            ]
          },
          "metadata": {}
        }
      ],
      "source": [
        "# посчитаем среднее, медианное количество событий на пользователя, а также минимальное и максимальное количество событий\n",
        "hey = final.groupby('user_id', as_index=False).agg({'event_dt':'count'})\n",
        "display(hey['event_dt'].describe())"
      ]
    },
    {
      "cell_type": "code",
      "execution_count": 298,
      "metadata": {
        "colab": {
          "base_uri": "https://localhost:8080/",
          "height": 472
        },
        "id": "NvSlgfVQrWUV",
        "outputId": "16c2d3a0-b474-4923-8070-dad114e4d3a8"
      },
      "outputs": [
        {
          "output_type": "display_data",
          "data": {
            "text/plain": [
              "<Figure size 640x480 with 1 Axes>"
            ],
            "image/png": "[encoded data removed]"
          },
          "metadata": {}
        }
      ],
      "source": [
        "# посмотрим на распределение данных\n",
        "plt.boxplot(hey['event_dt'])\n",
        "plt.title(\"Распределение количества событий на пользователя\")\n",
        "plt.xlabel(\"Распределение\")\n",
        "plt.ylabel(\"Количество событий\")\n",
        "plt.show()"
      ]
    },
    {
      "cell_type": "code",
      "execution_count": 299,
      "metadata": {
        "colab": {
          "base_uri": "https://localhost:8080/"
        },
        "id": "T3ccWEjire8j",
        "outputId": "f4ff711e-38cd-47b1-f60c-2dcdf64ca951"
      },
      "outputs": [
        {
          "output_type": "execute_result",
          "data": {
            "text/plain": [
              "array([10., 12., 16.])"
            ]
          },
          "metadata": {},
          "execution_count": 299
        }
      ],
      "source": [
        "# посмотрим на выбросы\n",
        "np.percentile(hey['event_dt'], [90, 95, 99])"
      ]
    },
    {
      "cell_type": "markdown",
      "metadata": {
        "id": "lmTV7BZKTxK6"
      },
      "source": [
        "Среднее количество действий 3,6, медианное - 2, максимальное - 28, при этом лишь 1% пользователей совершали больше 16 действий.\n",
        "\n",
        "Выбросы не оказали существенного влияния на данные, можно сделать вывод о том, что конверсия группы В определенно проигрывает конверсии группы А."
      ]
    },
    {
      "cell_type": "markdown",
      "metadata": {
        "id": "T7evOYcZUWzO"
      },
      "source": [
        "**Вывод**\n",
        "\n",
        "- в группе В очень низкий уровень конверсии на всех этапах воронки: login\t32%, product_page\t18%, purchase\t9%, product_cart\t8,8%;\n",
        "- в группе А пользователи чаще всего совершали 8-10 событий, а в группе В - 5;\n",
        "- до 14 декабря число событий в группе А было небольшим, затем произошел рост,а с 23 декабря снижение активности. Активность пользователей из группы В похожа начиная с 14 декабря, однако до этой даты, а особенно в первый день теста 7 декабря активность была очень высокой с небольшим спадом 10-13 декабря;\n",
        "- z-тест показал, что имеется статистическая разница между пропорциями данных двух групп;\n",
        "- кумулятивное количество действий в группе А намного превышает данные группы В;\n",
        "- начиная с 13 декабря кумулятивная коверсия группы А начала резко расти и достигла своего пика в 70% 21 декабря, после чего оставалась стабильной без повышения или понижения. Конверсия группы В также достигла плато в 30% 21 декабря;\n",
        "- график относительного различия кумулятивных конверсий показал, что отношение конверсий установилось и группа В определенно проигрывает;\n",
        "- выбросы не оказали существенного влияния на данные, и можно сделать вывод о том, что конверсия группы В определенно проигрывает конверсии группы А."
      ]
    },
    {
      "cell_type": "markdown",
      "metadata": {
        "id": "ervN1R2BWHXC"
      },
      "source": [
        "## 4. Общий вывод\n",
        "<a name=\"sumup\"></a>"
      ]
    },
    {
      "cell_type": "markdown",
      "metadata": {
        "id": "3Dm_5P5_W0-M"
      },
      "source": [
        "На основании датасета с действиями пользователей, технического задания и вспомогательных датасетов нам было необходимо оценить A/B-тест: проверить корректность проведения теста и проанализировать его результаты.\n",
        "\n",
        "Перед анализом данных мы провели обзор и предобработку данных. Проверили данные на дубликаты, пропуски, аномалии и ошибки и оценили их влияние на исследование.\n",
        "\n",
        "Для оценки корректности проведения теста мы проверили пересечение тестовой аудитории с конкурирующим тестом, совпадение теста и маркетинговых событий, другие проблемы временных границ теста. Также мы проверили соответствие данных требованиям технического задания, проанализировали время проведения теста и его аудиторию. После этого мы изучили распределение количества событий на пользователя, проверили, как число событий в выборках распределено по дням, как меняется конверсия в воронке в выборках на разных этапах, оценили результаты A/B-тестирования и проверили статистическую разницу долей z-критерием.\n",
        "\n",
        "На основании проведенного анализа мы сделали следующие выводы:\n",
        "- Соответствие ТЗ:\n",
        "  - в таблице с участниками теста смешаны участники двух тестов recommender_system_test и interface_eu_test. После удаления участников группы В конкурирующего теста осталось 5918 уникальных участников, а в ТЗ заявлено 6000;\n",
        "  - дата запуска: 2020-12-07 согласно ТЗ;\n",
        "  - согласно ТЗ дата остановки набора новых пользователей: 2020-12-21, однако представлены данные с 7 по 23 декабря 2020 года;\n",
        "  - cогласно ТЗ в таблице присутствуют данные с 7 декабря 2020 по 4 января 2021 года. Однако по факту в ней собраны данные о действиях 58 703 пользователей только с 7 по 30 декабря 2020 года;\n",
        "  - 15% новых пользователей из региона EU согласно ТЗ;\n",
        "  - согласно ТЗ за 14 дней с момента регистрации от пользоватей ожидается улучшение каждой метрики не менее, чем на 10% за 14 дней с момента регистрации. В данном случае горизонт событий составляет 14 дней, а значит мы сможем оценить метрики только для пользователей, зарегистрировавшихся с 7 по 16 декабря;\n",
        "  - во время набора новых пользователей не проводились рекламные кампании, то есть маркетинговые активности не влияли на набор пользователей, однако кампания Christmas&New Year Promo началась 25 декабря 2020 года и могла косвенно повлиять на действия пользователей с 25 по 30 декабря 2020 года;\n",
        "  - после разделения участников теста по группам относительное различие количества пользователей в двух группах равно 33%. Из-за неравномерного разделения результаты могут быть очень сильно искажены. Для качественного деления трафика следовало провести A/A-тест, который помог бы измерить качество деления, определить доли групп, и подтвердить однородность трафика;\n",
        "  - пересечения участников между группами теста нет;\n",
        "  - почти 11% пользователей из групп теста не совершали никаких событий, из которых почти 65% из группы В (это почти 68% участников группы В). Вероятная причина: некорректное распределение пользователей по группам, о чем также говорит относительное различие количества пользователей в двух группах в 33%.\n",
        "\n",
        "- Оценка результатов теста:\n",
        "  - в группе В очень низкий уровень конверсии на всех этапах воронки: login 32%, product_page 18%, purchase 9%, product_cart 8,8%;\n",
        "  - в группе А пользователи чаще всего совершали 8-10 событий, а в группе В - 5;\n",
        "  - до 14 декабря число событий в группе А было небольшим, затем произошел рост, а с 23 декабря снижение активности. Активность пользователей из группы В похожа начиная с 14 декабря, однако до этой даты, а особенно в первый день теста 7 декабря активность была очень высокой с небольшим спадом 10-13 декабря;\n",
        "  - z-тест показал, что имеется статистическая разница между пропорциями данных двух групп;\n",
        "  - кумулятивное количество действий в группе А намного превышает данные группы В;\n",
        "  - начиная с 13 декабря кумулятивная коверсия группы А начала резко расти и достигла своего пика в 70% 21 декабря, после чего оставалась стабильной без повышения или понижения. Конверсия группы В также достигла плато в 30% 21 декабря;\n",
        "  - график относительного различия кумулятивных конверсий показал, что отношение конверсий установилось и группа В определенно проигрывает;\n",
        "  - выбросы не оказали существенного влияния на данные, и можно сделать вывод о том, что конверсия группы В определенно проигрывает конверсии группы А.\n",
        "\n",
        "На основании проведенного анализа и сделанных выводов можно утверждать, что:\n",
        "- Есть статистически значимое различие по конверсии между группами.\n",
        "- График различия конверсии между группами сообщает, что результаты группы А лучше группы В.\n",
        "- Количество событий на пользователя в группе А существенно выше группы В.\n",
        "- В группе В очень низкий уровень конверсии на всех этапах воронки.\n",
        "\n",
        "Однако стоит отметить следующие моменты:\n",
        "- Некорректное деление пользователей между группами, что привело к количественному различию между ними и, вероятно, к отсутствию активности 68% участников группы В. Для качественного деления трафика следовало провести A/A-тест, который помог бы измерить качество деления, определить доли групп, и подтвердить однородность трафика.\n",
        "- Смешение участников двух тестов. Участие пользователей в нескольких тестах одновременно могло повлиять на чистоту результата для всех тестов. \n",
        "\n",
        "Учитывая вышеизложенное, можно признать тест неуспешным."
      ]
    }
  ],
  "metadata": {
    "ExecuteTimeLog": [
      {
        "duration": 1232,
        "start_time": "2022-10-09T22:44:35.960Z"
      },
      {
        "duration": 99,
        "start_time": "2022-10-09T22:44:37.194Z"
      },
      {
        "duration": 0,
        "start_time": "2022-10-09T22:44:37.300Z"
      },
      {
        "duration": 0,
        "start_time": "2022-10-09T22:44:37.301Z"
      },
      {
        "duration": 0,
        "start_time": "2022-10-09T22:44:37.302Z"
      },
      {
        "duration": 0,
        "start_time": "2022-10-09T22:44:37.303Z"
      },
      {
        "duration": 0,
        "start_time": "2022-10-09T22:44:37.304Z"
      },
      {
        "duration": 0,
        "start_time": "2022-10-09T22:44:37.305Z"
      },
      {
        "duration": 0,
        "start_time": "2022-10-09T22:44:37.306Z"
      },
      {
        "duration": 0,
        "start_time": "2022-10-09T22:44:37.307Z"
      },
      {
        "duration": 0,
        "start_time": "2022-10-09T22:44:37.307Z"
      },
      {
        "duration": 0,
        "start_time": "2022-10-09T22:44:37.308Z"
      },
      {
        "duration": 0,
        "start_time": "2022-10-09T22:44:37.309Z"
      },
      {
        "duration": 0,
        "start_time": "2022-10-09T22:44:37.310Z"
      },
      {
        "duration": 0,
        "start_time": "2022-10-09T22:44:37.311Z"
      },
      {
        "duration": 0,
        "start_time": "2022-10-09T22:44:37.311Z"
      },
      {
        "duration": 0,
        "start_time": "2022-10-09T22:44:37.312Z"
      },
      {
        "duration": 0,
        "start_time": "2022-10-09T22:44:37.313Z"
      },
      {
        "duration": 0,
        "start_time": "2022-10-09T22:44:37.314Z"
      },
      {
        "duration": 0,
        "start_time": "2022-10-09T22:44:37.315Z"
      },
      {
        "duration": 0,
        "start_time": "2022-10-09T22:44:37.315Z"
      },
      {
        "duration": 0,
        "start_time": "2022-10-09T22:44:37.316Z"
      },
      {
        "duration": 0,
        "start_time": "2022-10-09T22:44:37.317Z"
      },
      {
        "duration": 0,
        "start_time": "2022-10-09T22:44:37.318Z"
      },
      {
        "duration": 0,
        "start_time": "2022-10-09T22:44:37.319Z"
      },
      {
        "duration": 0,
        "start_time": "2022-10-09T22:44:37.320Z"
      },
      {
        "duration": 0,
        "start_time": "2022-10-09T22:44:37.321Z"
      },
      {
        "duration": 0,
        "start_time": "2022-10-09T22:44:37.322Z"
      },
      {
        "duration": 0,
        "start_time": "2022-10-09T22:44:37.323Z"
      },
      {
        "duration": 0,
        "start_time": "2022-10-09T22:44:37.324Z"
      },
      {
        "duration": 0,
        "start_time": "2022-10-09T22:44:37.325Z"
      },
      {
        "duration": 0,
        "start_time": "2022-10-09T22:44:37.326Z"
      },
      {
        "duration": 0,
        "start_time": "2022-10-09T22:44:37.327Z"
      },
      {
        "duration": 0,
        "start_time": "2022-10-09T22:44:37.328Z"
      },
      {
        "duration": 0,
        "start_time": "2022-10-09T22:44:37.329Z"
      },
      {
        "duration": 0,
        "start_time": "2022-10-09T22:44:37.330Z"
      },
      {
        "duration": 0,
        "start_time": "2022-10-09T22:44:37.331Z"
      },
      {
        "duration": 0,
        "start_time": "2022-10-09T22:44:37.332Z"
      },
      {
        "duration": 0,
        "start_time": "2022-10-09T22:44:37.333Z"
      },
      {
        "duration": 0,
        "start_time": "2022-10-09T22:44:37.334Z"
      },
      {
        "duration": 0,
        "start_time": "2022-10-09T22:44:37.335Z"
      },
      {
        "duration": 0,
        "start_time": "2022-10-09T22:44:37.336Z"
      },
      {
        "duration": 0,
        "start_time": "2022-10-09T22:44:37.337Z"
      },
      {
        "duration": 0,
        "start_time": "2022-10-09T22:44:37.338Z"
      },
      {
        "duration": 0,
        "start_time": "2022-10-09T22:44:37.401Z"
      },
      {
        "duration": 0,
        "start_time": "2022-10-09T22:44:37.402Z"
      },
      {
        "duration": 0,
        "start_time": "2022-10-09T22:44:37.403Z"
      },
      {
        "duration": 0,
        "start_time": "2022-10-09T22:44:37.404Z"
      },
      {
        "duration": 0,
        "start_time": "2022-10-09T22:44:37.405Z"
      },
      {
        "duration": 0,
        "start_time": "2022-10-09T22:44:37.405Z"
      },
      {
        "duration": 0,
        "start_time": "2022-10-09T22:44:37.406Z"
      },
      {
        "duration": 0,
        "start_time": "2022-10-09T22:44:37.407Z"
      },
      {
        "duration": 0,
        "start_time": "2022-10-09T22:44:37.408Z"
      },
      {
        "duration": 0,
        "start_time": "2022-10-09T22:44:37.409Z"
      },
      {
        "duration": 0,
        "start_time": "2022-10-09T22:44:37.411Z"
      },
      {
        "duration": 0,
        "start_time": "2022-10-09T22:44:37.412Z"
      },
      {
        "duration": 0,
        "start_time": "2022-10-09T22:44:37.413Z"
      },
      {
        "duration": 0,
        "start_time": "2022-10-09T22:44:37.414Z"
      },
      {
        "duration": 0,
        "start_time": "2022-10-09T22:44:37.415Z"
      },
      {
        "duration": 66,
        "start_time": "2022-10-10T06:04:11.394Z"
      },
      {
        "duration": 1298,
        "start_time": "2022-10-10T06:04:18.694Z"
      },
      {
        "duration": 680,
        "start_time": "2022-10-10T06:04:21.604Z"
      },
      {
        "duration": 1104,
        "start_time": "2022-10-10T06:04:48.097Z"
      },
      {
        "duration": 504,
        "start_time": "2022-10-10T06:04:49.203Z"
      },
      {
        "duration": 58,
        "start_time": "2022-10-10T06:04:49.709Z"
      },
      {
        "duration": 115,
        "start_time": "2022-10-10T06:04:49.769Z"
      },
      {
        "duration": 37,
        "start_time": "2022-10-10T06:04:49.887Z"
      },
      {
        "duration": 220,
        "start_time": "2022-10-10T06:04:49.926Z"
      },
      {
        "duration": 40,
        "start_time": "2022-10-10T06:04:50.147Z"
      },
      {
        "duration": 135,
        "start_time": "2022-10-10T06:04:50.189Z"
      },
      {
        "duration": 33,
        "start_time": "2022-10-10T06:04:50.325Z"
      },
      {
        "duration": 25,
        "start_time": "2022-10-10T06:04:50.360Z"
      },
      {
        "duration": 101,
        "start_time": "2022-10-10T06:04:50.387Z"
      },
      {
        "duration": 83,
        "start_time": "2022-10-10T06:04:50.491Z"
      },
      {
        "duration": 12,
        "start_time": "2022-10-10T06:04:50.576Z"
      },
      {
        "duration": 15,
        "start_time": "2022-10-10T06:04:50.591Z"
      },
      {
        "duration": 16,
        "start_time": "2022-10-10T06:04:50.608Z"
      },
      {
        "duration": 13,
        "start_time": "2022-10-10T06:04:50.626Z"
      },
      {
        "duration": 7,
        "start_time": "2022-10-10T06:04:50.641Z"
      },
      {
        "duration": 25,
        "start_time": "2022-10-10T06:04:50.655Z"
      },
      {
        "duration": 20,
        "start_time": "2022-10-10T06:04:50.682Z"
      },
      {
        "duration": 11,
        "start_time": "2022-10-10T06:04:50.704Z"
      },
      {
        "duration": 37,
        "start_time": "2022-10-10T06:04:50.717Z"
      },
      {
        "duration": 62,
        "start_time": "2022-10-10T06:04:50.756Z"
      },
      {
        "duration": 9,
        "start_time": "2022-10-10T06:04:50.820Z"
      },
      {
        "duration": 9,
        "start_time": "2022-10-10T06:04:50.831Z"
      },
      {
        "duration": 19,
        "start_time": "2022-10-10T06:04:50.841Z"
      },
      {
        "duration": 6,
        "start_time": "2022-10-10T06:04:50.862Z"
      },
      {
        "duration": 22,
        "start_time": "2022-10-10T06:04:50.870Z"
      },
      {
        "duration": 10,
        "start_time": "2022-10-10T06:04:50.894Z"
      },
      {
        "duration": 10,
        "start_time": "2022-10-10T06:04:50.906Z"
      },
      {
        "duration": 196,
        "start_time": "2022-10-10T06:04:50.918Z"
      },
      {
        "duration": 18,
        "start_time": "2022-10-10T06:04:51.116Z"
      },
      {
        "duration": 25,
        "start_time": "2022-10-10T06:04:51.136Z"
      },
      {
        "duration": 28,
        "start_time": "2022-10-10T06:04:51.163Z"
      },
      {
        "duration": 8,
        "start_time": "2022-10-10T06:04:51.193Z"
      },
      {
        "duration": 58,
        "start_time": "2022-10-10T06:04:51.203Z"
      },
      {
        "duration": 6,
        "start_time": "2022-10-10T06:04:51.263Z"
      },
      {
        "duration": 14,
        "start_time": "2022-10-10T06:04:51.271Z"
      },
      {
        "duration": 226,
        "start_time": "2022-10-10T06:04:51.286Z"
      },
      {
        "duration": 13,
        "start_time": "2022-10-10T06:04:51.514Z"
      },
      {
        "duration": 85,
        "start_time": "2022-10-10T06:04:51.529Z"
      },
      {
        "duration": 12,
        "start_time": "2022-10-10T06:04:51.619Z"
      },
      {
        "duration": 40,
        "start_time": "2022-10-10T06:04:51.632Z"
      },
      {
        "duration": 9,
        "start_time": "2022-10-10T06:04:51.674Z"
      },
      {
        "duration": 44,
        "start_time": "2022-10-10T06:04:51.685Z"
      },
      {
        "duration": 31,
        "start_time": "2022-10-10T06:04:51.732Z"
      },
      {
        "duration": 20,
        "start_time": "2022-10-10T06:04:51.765Z"
      },
      {
        "duration": 21,
        "start_time": "2022-10-10T06:04:51.787Z"
      },
      {
        "duration": 525,
        "start_time": "2022-10-10T06:04:51.810Z"
      },
      {
        "duration": 30,
        "start_time": "2022-10-10T06:04:52.337Z"
      },
      {
        "duration": 6,
        "start_time": "2022-10-10T06:04:52.369Z"
      },
      {
        "duration": 22,
        "start_time": "2022-10-10T06:04:52.376Z"
      },
      {
        "duration": 32,
        "start_time": "2022-10-10T06:04:52.400Z"
      },
      {
        "duration": 255,
        "start_time": "2022-10-10T06:04:52.434Z"
      },
      {
        "duration": 167,
        "start_time": "2022-10-10T06:04:52.691Z"
      },
      {
        "duration": 272,
        "start_time": "2022-10-10T06:04:52.860Z"
      },
      {
        "duration": 322,
        "start_time": "2022-10-10T06:04:53.134Z"
      },
      {
        "duration": 17,
        "start_time": "2022-10-10T06:04:53.458Z"
      },
      {
        "duration": 125,
        "start_time": "2022-10-10T06:04:53.477Z"
      },
      {
        "duration": 6,
        "start_time": "2022-10-10T06:04:53.604Z"
      },
      {
        "duration": 1271,
        "start_time": "2022-10-10T09:16:37.909Z"
      },
      {
        "duration": 572,
        "start_time": "2022-10-10T09:16:39.182Z"
      },
      {
        "duration": 51,
        "start_time": "2022-10-10T09:16:39.755Z"
      },
      {
        "duration": 95,
        "start_time": "2022-10-10T09:16:39.808Z"
      },
      {
        "duration": 34,
        "start_time": "2022-10-10T09:16:39.909Z"
      },
      {
        "duration": 153,
        "start_time": "2022-10-10T09:16:39.944Z"
      },
      {
        "duration": 33,
        "start_time": "2022-10-10T09:16:40.098Z"
      },
      {
        "duration": 101,
        "start_time": "2022-10-10T09:16:40.132Z"
      },
      {
        "duration": 15,
        "start_time": "2022-10-10T09:16:40.234Z"
      },
      {
        "duration": 23,
        "start_time": "2022-10-10T09:16:40.250Z"
      },
      {
        "duration": 83,
        "start_time": "2022-10-10T09:16:40.274Z"
      },
      {
        "duration": 77,
        "start_time": "2022-10-10T09:16:40.359Z"
      },
      {
        "duration": 10,
        "start_time": "2022-10-10T09:16:40.437Z"
      },
      {
        "duration": 28,
        "start_time": "2022-10-10T09:16:40.451Z"
      },
      {
        "duration": 12,
        "start_time": "2022-10-10T09:16:40.481Z"
      },
      {
        "duration": 11,
        "start_time": "2022-10-10T09:16:40.495Z"
      },
      {
        "duration": 16,
        "start_time": "2022-10-10T09:16:40.507Z"
      },
      {
        "duration": 21,
        "start_time": "2022-10-10T09:16:40.525Z"
      },
      {
        "duration": 17,
        "start_time": "2022-10-10T09:16:40.547Z"
      },
      {
        "duration": 10,
        "start_time": "2022-10-10T09:16:40.565Z"
      },
      {
        "duration": 12,
        "start_time": "2022-10-10T09:16:40.576Z"
      },
      {
        "duration": 65,
        "start_time": "2022-10-10T09:16:40.589Z"
      },
      {
        "duration": 9,
        "start_time": "2022-10-10T09:16:40.656Z"
      },
      {
        "duration": 21,
        "start_time": "2022-10-10T09:16:40.666Z"
      },
      {
        "duration": 34,
        "start_time": "2022-10-10T09:16:40.688Z"
      },
      {
        "duration": 29,
        "start_time": "2022-10-10T09:16:40.723Z"
      },
      {
        "duration": 28,
        "start_time": "2022-10-10T09:16:40.753Z"
      },
      {
        "duration": 20,
        "start_time": "2022-10-10T09:16:40.782Z"
      },
      {
        "duration": 18,
        "start_time": "2022-10-10T09:16:40.804Z"
      },
      {
        "duration": 193,
        "start_time": "2022-10-10T09:16:40.824Z"
      },
      {
        "duration": 15,
        "start_time": "2022-10-10T09:16:41.019Z"
      },
      {
        "duration": 38,
        "start_time": "2022-10-10T09:16:41.035Z"
      },
      {
        "duration": 31,
        "start_time": "2022-10-10T09:16:41.075Z"
      },
      {
        "duration": 7,
        "start_time": "2022-10-10T09:16:41.107Z"
      },
      {
        "duration": 48,
        "start_time": "2022-10-10T09:16:41.115Z"
      },
      {
        "duration": 7,
        "start_time": "2022-10-10T09:16:41.164Z"
      },
      {
        "duration": 7,
        "start_time": "2022-10-10T09:16:41.172Z"
      },
      {
        "duration": 134,
        "start_time": "2022-10-10T09:16:41.180Z"
      },
      {
        "duration": 10,
        "start_time": "2022-10-10T09:16:41.315Z"
      },
      {
        "duration": 51,
        "start_time": "2022-10-10T09:16:41.327Z"
      },
      {
        "duration": 29,
        "start_time": "2022-10-10T09:16:41.381Z"
      },
      {
        "duration": 21,
        "start_time": "2022-10-10T09:16:41.411Z"
      },
      {
        "duration": 34,
        "start_time": "2022-10-10T09:16:41.434Z"
      },
      {
        "duration": 7,
        "start_time": "2022-10-10T09:16:41.470Z"
      },
      {
        "duration": 20,
        "start_time": "2022-10-10T09:16:41.478Z"
      },
      {
        "duration": 18,
        "start_time": "2022-10-10T09:16:41.500Z"
      },
      {
        "duration": 20,
        "start_time": "2022-10-10T09:16:41.519Z"
      },
      {
        "duration": 533,
        "start_time": "2022-10-10T09:16:41.540Z"
      },
      {
        "duration": 22,
        "start_time": "2022-10-10T09:16:42.075Z"
      },
      {
        "duration": 18,
        "start_time": "2022-10-10T09:16:42.098Z"
      },
      {
        "duration": 41,
        "start_time": "2022-10-10T09:16:42.117Z"
      },
      {
        "duration": 33,
        "start_time": "2022-10-10T09:16:42.159Z"
      },
      {
        "duration": 250,
        "start_time": "2022-10-10T09:16:42.193Z"
      },
      {
        "duration": 147,
        "start_time": "2022-10-10T09:16:42.444Z"
      },
      {
        "duration": 157,
        "start_time": "2022-10-10T09:16:42.592Z"
      },
      {
        "duration": 317,
        "start_time": "2022-10-10T09:16:42.751Z"
      },
      {
        "duration": 14,
        "start_time": "2022-10-10T09:16:43.069Z"
      },
      {
        "duration": 107,
        "start_time": "2022-10-10T09:16:43.085Z"
      },
      {
        "duration": 4,
        "start_time": "2022-10-10T09:16:43.194Z"
      },
      {
        "duration": 15,
        "start_time": "2022-10-10T09:19:22.607Z"
      },
      {
        "duration": 19,
        "start_time": "2022-10-10T09:20:34.304Z"
      },
      {
        "duration": 8,
        "start_time": "2022-10-10T09:20:43.495Z"
      },
      {
        "duration": 114,
        "start_time": "2022-10-10T09:21:00.495Z"
      },
      {
        "duration": 26,
        "start_time": "2022-10-10T09:21:03.568Z"
      },
      {
        "duration": 13,
        "start_time": "2022-10-10T09:21:05.012Z"
      },
      {
        "duration": 45,
        "start_time": "2022-10-10T09:21:39.405Z"
      },
      {
        "duration": 19,
        "start_time": "2022-10-10T09:22:17.121Z"
      },
      {
        "duration": 10,
        "start_time": "2022-10-10T09:22:40.243Z"
      },
      {
        "duration": 18,
        "start_time": "2022-10-10T09:24:02.766Z"
      },
      {
        "duration": 66,
        "start_time": "2022-10-10T09:25:21.326Z"
      },
      {
        "duration": 23,
        "start_time": "2022-10-10T09:25:27.460Z"
      },
      {
        "duration": 21,
        "start_time": "2022-10-10T09:26:14.888Z"
      },
      {
        "duration": 23,
        "start_time": "2022-10-10T09:26:32.496Z"
      },
      {
        "duration": 19,
        "start_time": "2022-10-10T09:28:07.965Z"
      },
      {
        "duration": 30,
        "start_time": "2022-10-10T09:29:24.633Z"
      },
      {
        "duration": 17,
        "start_time": "2022-10-10T09:29:43.577Z"
      },
      {
        "duration": 207,
        "start_time": "2022-10-10T09:30:01.245Z"
      },
      {
        "duration": 22,
        "start_time": "2022-10-10T09:31:09.267Z"
      },
      {
        "duration": 20,
        "start_time": "2022-10-10T09:31:31.659Z"
      },
      {
        "duration": 32,
        "start_time": "2022-10-10T09:32:55.257Z"
      },
      {
        "duration": 18,
        "start_time": "2022-10-10T09:33:04.116Z"
      },
      {
        "duration": 29,
        "start_time": "2022-10-10T09:33:08.901Z"
      },
      {
        "duration": 23,
        "start_time": "2022-10-10T09:33:57.167Z"
      },
      {
        "duration": 19,
        "start_time": "2022-10-10T09:35:40.071Z"
      },
      {
        "duration": 21,
        "start_time": "2022-10-10T09:35:44.902Z"
      },
      {
        "duration": 19,
        "start_time": "2022-10-10T09:35:52.371Z"
      },
      {
        "duration": 9,
        "start_time": "2022-10-10T09:38:01.897Z"
      },
      {
        "duration": 14,
        "start_time": "2022-10-10T09:38:07.890Z"
      },
      {
        "duration": 26,
        "start_time": "2022-10-10T09:38:53.258Z"
      },
      {
        "duration": 14,
        "start_time": "2022-10-10T09:40:12.583Z"
      },
      {
        "duration": 11,
        "start_time": "2022-10-10T09:40:14.691Z"
      },
      {
        "duration": 9,
        "start_time": "2022-10-10T09:40:40.323Z"
      },
      {
        "duration": 11,
        "start_time": "2022-10-10T09:41:03.593Z"
      },
      {
        "duration": 11,
        "start_time": "2022-10-10T09:41:13.906Z"
      },
      {
        "duration": 18,
        "start_time": "2022-10-10T09:41:20.942Z"
      },
      {
        "duration": 15,
        "start_time": "2022-10-10T09:41:33.143Z"
      },
      {
        "duration": 13,
        "start_time": "2022-10-10T09:41:43.371Z"
      },
      {
        "duration": 11,
        "start_time": "2022-10-10T09:42:53.119Z"
      },
      {
        "duration": 61,
        "start_time": "2022-10-10T09:44:28.965Z"
      },
      {
        "duration": 37,
        "start_time": "2022-10-10T09:44:44.249Z"
      },
      {
        "duration": 38,
        "start_time": "2022-10-10T09:45:08.680Z"
      },
      {
        "duration": 40,
        "start_time": "2022-10-10T09:45:22.113Z"
      },
      {
        "duration": 39,
        "start_time": "2022-10-10T09:45:26.377Z"
      },
      {
        "duration": 46,
        "start_time": "2022-10-10T09:45:29.987Z"
      },
      {
        "duration": 14,
        "start_time": "2022-10-10T09:45:47.887Z"
      },
      {
        "duration": 556,
        "start_time": "2022-10-10T09:46:55.140Z"
      },
      {
        "duration": 28,
        "start_time": "2022-10-10T09:47:08.193Z"
      },
      {
        "duration": 24,
        "start_time": "2022-10-10T09:47:15.029Z"
      },
      {
        "duration": 22,
        "start_time": "2022-10-10T09:47:28.680Z"
      },
      {
        "duration": 23,
        "start_time": "2022-10-10T09:47:51.513Z"
      },
      {
        "duration": 19,
        "start_time": "2022-10-10T09:48:01.233Z"
      },
      {
        "duration": 18,
        "start_time": "2022-10-10T09:49:43.326Z"
      },
      {
        "duration": 18,
        "start_time": "2022-10-10T09:50:46.578Z"
      },
      {
        "duration": 26,
        "start_time": "2022-10-10T09:50:52.247Z"
      },
      {
        "duration": 15,
        "start_time": "2022-10-10T09:51:38.643Z"
      },
      {
        "duration": 26,
        "start_time": "2022-10-10T09:55:46.490Z"
      },
      {
        "duration": 19,
        "start_time": "2022-10-10T09:56:08.501Z"
      },
      {
        "duration": 23,
        "start_time": "2022-10-10T09:56:31.519Z"
      },
      {
        "duration": 25,
        "start_time": "2022-10-10T09:56:53.935Z"
      },
      {
        "duration": 20,
        "start_time": "2022-10-10T09:57:02.258Z"
      },
      {
        "duration": 24,
        "start_time": "2022-10-10T09:57:23.913Z"
      },
      {
        "duration": 23,
        "start_time": "2022-10-10T09:57:33.741Z"
      },
      {
        "duration": 21,
        "start_time": "2022-10-10T09:57:43.975Z"
      },
      {
        "duration": 21,
        "start_time": "2022-10-10T09:58:10.259Z"
      },
      {
        "duration": 25,
        "start_time": "2022-10-10T09:58:23.657Z"
      },
      {
        "duration": 16,
        "start_time": "2022-10-10T09:58:39.560Z"
      },
      {
        "duration": 21,
        "start_time": "2022-10-10T09:59:02.327Z"
      },
      {
        "duration": 17,
        "start_time": "2022-10-10T09:59:15.867Z"
      },
      {
        "duration": 23,
        "start_time": "2022-10-10T10:00:00.620Z"
      },
      {
        "duration": 20,
        "start_time": "2022-10-10T10:00:19.952Z"
      },
      {
        "duration": 15,
        "start_time": "2022-10-10T10:01:00.115Z"
      },
      {
        "duration": 10,
        "start_time": "2022-10-10T10:01:08.576Z"
      },
      {
        "duration": 10,
        "start_time": "2022-10-10T10:01:15.878Z"
      },
      {
        "duration": 9,
        "start_time": "2022-10-10T10:01:20.685Z"
      },
      {
        "duration": 9,
        "start_time": "2022-10-10T10:01:38.068Z"
      },
      {
        "duration": 10,
        "start_time": "2022-10-10T10:01:57.811Z"
      },
      {
        "duration": 17,
        "start_time": "2022-10-10T10:02:00.107Z"
      },
      {
        "duration": 16,
        "start_time": "2022-10-10T10:06:15.316Z"
      },
      {
        "duration": 17,
        "start_time": "2022-10-10T10:06:23.044Z"
      },
      {
        "duration": 21,
        "start_time": "2022-10-10T10:07:03.936Z"
      },
      {
        "duration": 16,
        "start_time": "2022-10-10T10:07:40.380Z"
      },
      {
        "duration": 16,
        "start_time": "2022-10-10T10:07:45.944Z"
      },
      {
        "duration": 21,
        "start_time": "2022-10-10T10:07:56.773Z"
      },
      {
        "duration": 20,
        "start_time": "2022-10-10T10:08:32.240Z"
      },
      {
        "duration": 23,
        "start_time": "2022-10-10T10:09:14.392Z"
      },
      {
        "duration": 14,
        "start_time": "2022-10-10T10:09:17.080Z"
      },
      {
        "duration": 21,
        "start_time": "2022-10-10T10:10:28.047Z"
      },
      {
        "duration": 13,
        "start_time": "2022-10-10T10:11:03.662Z"
      },
      {
        "duration": 17,
        "start_time": "2022-10-10T10:11:11.672Z"
      },
      {
        "duration": 10,
        "start_time": "2022-10-10T10:11:35.641Z"
      },
      {
        "duration": 18,
        "start_time": "2022-10-10T10:11:48.218Z"
      },
      {
        "duration": 15,
        "start_time": "2022-10-10T10:12:38.057Z"
      },
      {
        "duration": 21,
        "start_time": "2022-10-10T10:12:54.423Z"
      },
      {
        "duration": 13,
        "start_time": "2022-10-10T10:13:32.090Z"
      },
      {
        "duration": 11,
        "start_time": "2022-10-10T10:15:04.818Z"
      },
      {
        "duration": 12,
        "start_time": "2022-10-10T10:15:42.583Z"
      },
      {
        "duration": 12,
        "start_time": "2022-10-10T10:16:13.487Z"
      },
      {
        "duration": 47,
        "start_time": "2022-10-10T10:16:46.576Z"
      },
      {
        "duration": 13,
        "start_time": "2022-10-10T10:16:54.583Z"
      },
      {
        "duration": 11,
        "start_time": "2022-10-10T10:19:30.163Z"
      },
      {
        "duration": 16,
        "start_time": "2022-10-10T10:20:17.819Z"
      },
      {
        "duration": 13,
        "start_time": "2022-10-10T10:21:40.068Z"
      },
      {
        "duration": 12,
        "start_time": "2022-10-10T10:22:07.220Z"
      },
      {
        "duration": 16,
        "start_time": "2022-10-10T10:22:16.479Z"
      },
      {
        "duration": 15,
        "start_time": "2022-10-10T10:22:23.898Z"
      },
      {
        "duration": 16,
        "start_time": "2022-10-10T10:22:42.063Z"
      },
      {
        "duration": 11,
        "start_time": "2022-10-10T10:25:19.885Z"
      },
      {
        "duration": 20,
        "start_time": "2022-10-10T10:29:51.674Z"
      },
      {
        "duration": 13,
        "start_time": "2022-10-10T10:29:56.917Z"
      },
      {
        "duration": 11,
        "start_time": "2022-10-10T10:30:08.690Z"
      },
      {
        "duration": 8,
        "start_time": "2022-10-10T10:30:10.877Z"
      },
      {
        "duration": 4,
        "start_time": "2022-10-10T10:31:04.952Z"
      },
      {
        "duration": 3,
        "start_time": "2022-10-10T10:31:12.955Z"
      },
      {
        "duration": 4,
        "start_time": "2022-10-10T10:31:19.552Z"
      },
      {
        "duration": 15,
        "start_time": "2022-10-10T10:35:50.895Z"
      },
      {
        "duration": 157,
        "start_time": "2022-10-10T10:45:36.872Z"
      },
      {
        "duration": 176,
        "start_time": "2022-10-10T10:47:07.584Z"
      },
      {
        "duration": 12,
        "start_time": "2022-10-10T10:47:10.529Z"
      },
      {
        "duration": 39,
        "start_time": "2022-10-10T10:48:55.661Z"
      },
      {
        "duration": 24,
        "start_time": "2022-10-10T10:49:22.954Z"
      },
      {
        "duration": 11,
        "start_time": "2022-10-10T10:55:52.076Z"
      },
      {
        "duration": 132,
        "start_time": "2022-10-10T10:59:27.034Z"
      },
      {
        "duration": 123,
        "start_time": "2022-10-10T10:59:39.839Z"
      },
      {
        "duration": 129,
        "start_time": "2022-10-10T10:59:50.830Z"
      },
      {
        "duration": 142,
        "start_time": "2022-10-10T11:00:43.737Z"
      },
      {
        "duration": 31,
        "start_time": "2022-10-10T11:03:00.566Z"
      },
      {
        "duration": 32,
        "start_time": "2022-10-10T11:04:34.649Z"
      },
      {
        "duration": 27,
        "start_time": "2022-10-10T11:05:22.610Z"
      },
      {
        "duration": 1107,
        "start_time": "2022-10-10T11:05:35.534Z"
      },
      {
        "duration": 29,
        "start_time": "2022-10-10T11:05:48.446Z"
      },
      {
        "duration": 29,
        "start_time": "2022-10-10T11:06:18.864Z"
      },
      {
        "duration": 135,
        "start_time": "2022-10-10T11:10:28.066Z"
      },
      {
        "duration": 58,
        "start_time": "2022-10-10T11:11:07.580Z"
      },
      {
        "duration": 10,
        "start_time": "2022-10-10T11:11:09.865Z"
      },
      {
        "duration": 1508,
        "start_time": "2022-10-10T11:11:20.963Z"
      },
      {
        "duration": 436,
        "start_time": "2022-10-10T11:11:22.473Z"
      },
      {
        "duration": 51,
        "start_time": "2022-10-10T11:11:22.911Z"
      },
      {
        "duration": 108,
        "start_time": "2022-10-10T11:11:22.964Z"
      },
      {
        "duration": 42,
        "start_time": "2022-10-10T11:11:23.074Z"
      },
      {
        "duration": 153,
        "start_time": "2022-10-10T11:11:23.118Z"
      },
      {
        "duration": 39,
        "start_time": "2022-10-10T11:11:23.272Z"
      },
      {
        "duration": 97,
        "start_time": "2022-10-10T11:11:23.313Z"
      },
      {
        "duration": 15,
        "start_time": "2022-10-10T11:11:23.412Z"
      },
      {
        "duration": 29,
        "start_time": "2022-10-10T11:11:23.429Z"
      },
      {
        "duration": 93,
        "start_time": "2022-10-10T11:11:23.459Z"
      },
      {
        "duration": 41,
        "start_time": "2022-10-10T11:11:23.554Z"
      },
      {
        "duration": 12,
        "start_time": "2022-10-10T11:11:23.596Z"
      },
      {
        "duration": 24,
        "start_time": "2022-10-10T11:11:23.610Z"
      },
      {
        "duration": 9,
        "start_time": "2022-10-10T11:11:23.635Z"
      },
      {
        "duration": 18,
        "start_time": "2022-10-10T11:11:23.645Z"
      },
      {
        "duration": 7,
        "start_time": "2022-10-10T11:11:23.665Z"
      },
      {
        "duration": 22,
        "start_time": "2022-10-10T11:11:23.674Z"
      },
      {
        "duration": 11,
        "start_time": "2022-10-10T11:11:23.709Z"
      },
      {
        "duration": 9,
        "start_time": "2022-10-10T11:11:23.722Z"
      },
      {
        "duration": 21,
        "start_time": "2022-10-10T11:11:23.733Z"
      },
      {
        "duration": 12,
        "start_time": "2022-10-10T11:11:23.755Z"
      },
      {
        "duration": 10,
        "start_time": "2022-10-10T11:11:23.768Z"
      },
      {
        "duration": 38,
        "start_time": "2022-10-10T11:11:23.779Z"
      },
      {
        "duration": 10,
        "start_time": "2022-10-10T11:11:23.818Z"
      },
      {
        "duration": 3,
        "start_time": "2022-10-10T11:11:23.830Z"
      },
      {
        "duration": 25,
        "start_time": "2022-10-10T11:11:23.834Z"
      },
      {
        "duration": 7,
        "start_time": "2022-10-10T11:11:23.863Z"
      },
      {
        "duration": 16,
        "start_time": "2022-10-10T11:11:23.872Z"
      },
      {
        "duration": 10,
        "start_time": "2022-10-10T11:11:23.889Z"
      },
      {
        "duration": 20,
        "start_time": "2022-10-10T11:11:23.908Z"
      },
      {
        "duration": 7,
        "start_time": "2022-10-10T11:11:23.930Z"
      },
      {
        "duration": 12,
        "start_time": "2022-10-10T11:11:23.939Z"
      },
      {
        "duration": 24,
        "start_time": "2022-10-10T11:11:23.952Z"
      },
      {
        "duration": 93,
        "start_time": "2022-10-10T11:11:23.977Z"
      },
      {
        "duration": 16,
        "start_time": "2022-10-10T11:11:24.071Z"
      },
      {
        "duration": 52,
        "start_time": "2022-10-10T11:11:24.088Z"
      },
      {
        "duration": 50,
        "start_time": "2022-10-10T11:11:24.142Z"
      },
      {
        "duration": 7,
        "start_time": "2022-10-10T11:11:24.194Z"
      },
      {
        "duration": 64,
        "start_time": "2022-10-10T11:11:24.203Z"
      },
      {
        "duration": 52,
        "start_time": "2022-10-10T11:11:24.268Z"
      },
      {
        "duration": 65,
        "start_time": "2022-10-10T11:11:24.323Z"
      },
      {
        "duration": 30,
        "start_time": "2022-10-10T11:11:24.390Z"
      },
      {
        "duration": 249,
        "start_time": "2022-10-10T11:11:24.422Z"
      },
      {
        "duration": 31,
        "start_time": "2022-10-10T11:11:24.672Z"
      },
      {
        "duration": 157,
        "start_time": "2022-10-10T11:11:24.704Z"
      },
      {
        "duration": 63,
        "start_time": "2022-10-10T11:11:24.863Z"
      },
      {
        "duration": 10,
        "start_time": "2022-10-10T11:11:24.928Z"
      },
      {
        "duration": 35,
        "start_time": "2022-10-10T11:11:24.939Z"
      },
      {
        "duration": 8,
        "start_time": "2022-10-10T11:11:24.975Z"
      },
      {
        "duration": 33,
        "start_time": "2022-10-10T11:11:24.984Z"
      },
      {
        "duration": 26,
        "start_time": "2022-10-10T11:11:25.019Z"
      },
      {
        "duration": 16,
        "start_time": "2022-10-10T11:11:25.047Z"
      },
      {
        "duration": 24,
        "start_time": "2022-10-10T11:11:25.065Z"
      },
      {
        "duration": 474,
        "start_time": "2022-10-10T11:11:25.090Z"
      },
      {
        "duration": 22,
        "start_time": "2022-10-10T11:11:25.566Z"
      },
      {
        "duration": 65,
        "start_time": "2022-10-10T11:11:25.590Z"
      },
      {
        "duration": 25,
        "start_time": "2022-10-10T11:11:25.657Z"
      },
      {
        "duration": 26,
        "start_time": "2022-10-10T11:11:25.683Z"
      },
      {
        "duration": 244,
        "start_time": "2022-10-10T11:11:25.711Z"
      },
      {
        "duration": 146,
        "start_time": "2022-10-10T11:11:25.957Z"
      },
      {
        "duration": 199,
        "start_time": "2022-10-10T11:11:26.104Z"
      },
      {
        "duration": 313,
        "start_time": "2022-10-10T11:11:26.305Z"
      },
      {
        "duration": 14,
        "start_time": "2022-10-10T11:11:26.620Z"
      },
      {
        "duration": 111,
        "start_time": "2022-10-10T11:11:26.636Z"
      },
      {
        "duration": 4,
        "start_time": "2022-10-10T11:11:26.749Z"
      },
      {
        "duration": 12,
        "start_time": "2022-10-10T11:12:57.982Z"
      },
      {
        "duration": 10,
        "start_time": "2022-10-10T11:13:01.244Z"
      },
      {
        "duration": 11,
        "start_time": "2022-10-10T11:13:53.297Z"
      },
      {
        "duration": 6,
        "start_time": "2022-10-10T11:14:12.714Z"
      },
      {
        "duration": 104,
        "start_time": "2022-10-10T11:14:40.145Z"
      },
      {
        "duration": 9,
        "start_time": "2022-10-10T11:14:43.139Z"
      },
      {
        "duration": 14,
        "start_time": "2022-10-10T11:15:08.346Z"
      },
      {
        "duration": 1076,
        "start_time": "2022-10-10T11:15:26.651Z"
      },
      {
        "duration": 435,
        "start_time": "2022-10-10T11:15:27.729Z"
      },
      {
        "duration": 57,
        "start_time": "2022-10-10T11:15:28.165Z"
      },
      {
        "duration": 109,
        "start_time": "2022-10-10T11:15:28.224Z"
      },
      {
        "duration": 32,
        "start_time": "2022-10-10T11:15:28.334Z"
      },
      {
        "duration": 174,
        "start_time": "2022-10-10T11:15:28.368Z"
      },
      {
        "duration": 28,
        "start_time": "2022-10-10T11:15:28.544Z"
      },
      {
        "duration": 113,
        "start_time": "2022-10-10T11:15:28.574Z"
      },
      {
        "duration": 29,
        "start_time": "2022-10-10T11:15:28.689Z"
      },
      {
        "duration": 25,
        "start_time": "2022-10-10T11:15:28.721Z"
      },
      {
        "duration": 84,
        "start_time": "2022-10-10T11:15:28.747Z"
      },
      {
        "duration": 49,
        "start_time": "2022-10-10T11:15:28.832Z"
      },
      {
        "duration": 14,
        "start_time": "2022-10-10T11:15:28.883Z"
      },
      {
        "duration": 26,
        "start_time": "2022-10-10T11:15:28.899Z"
      },
      {
        "duration": 14,
        "start_time": "2022-10-10T11:15:28.926Z"
      },
      {
        "duration": 27,
        "start_time": "2022-10-10T11:15:28.941Z"
      },
      {
        "duration": 9,
        "start_time": "2022-10-10T11:15:28.969Z"
      },
      {
        "duration": 41,
        "start_time": "2022-10-10T11:15:28.980Z"
      },
      {
        "duration": 14,
        "start_time": "2022-10-10T11:15:29.022Z"
      },
      {
        "duration": 13,
        "start_time": "2022-10-10T11:15:29.037Z"
      },
      {
        "duration": 20,
        "start_time": "2022-10-10T11:15:29.051Z"
      },
      {
        "duration": 25,
        "start_time": "2022-10-10T11:15:29.073Z"
      },
      {
        "duration": 26,
        "start_time": "2022-10-10T11:15:29.100Z"
      },
      {
        "duration": 48,
        "start_time": "2022-10-10T11:15:29.127Z"
      },
      {
        "duration": 38,
        "start_time": "2022-10-10T11:15:29.176Z"
      },
      {
        "duration": 15,
        "start_time": "2022-10-10T11:15:29.216Z"
      },
      {
        "duration": 50,
        "start_time": "2022-10-10T11:15:29.233Z"
      },
      {
        "duration": 28,
        "start_time": "2022-10-10T11:15:29.288Z"
      },
      {
        "duration": 25,
        "start_time": "2022-10-10T11:15:29.317Z"
      },
      {
        "duration": 27,
        "start_time": "2022-10-10T11:15:29.343Z"
      },
      {
        "duration": 20,
        "start_time": "2022-10-10T11:15:29.371Z"
      },
      {
        "duration": 27,
        "start_time": "2022-10-10T11:15:29.392Z"
      },
      {
        "duration": 13,
        "start_time": "2022-10-10T11:15:29.421Z"
      },
      {
        "duration": 13,
        "start_time": "2022-10-10T11:15:29.435Z"
      },
      {
        "duration": 86,
        "start_time": "2022-10-10T11:15:29.449Z"
      },
      {
        "duration": 15,
        "start_time": "2022-10-10T11:15:29.536Z"
      },
      {
        "duration": 63,
        "start_time": "2022-10-10T11:15:29.552Z"
      },
      {
        "duration": 42,
        "start_time": "2022-10-10T11:15:29.616Z"
      },
      {
        "duration": 9,
        "start_time": "2022-10-10T11:15:29.660Z"
      },
      {
        "duration": 39,
        "start_time": "2022-10-10T11:15:29.671Z"
      },
      {
        "duration": 7,
        "start_time": "2022-10-10T11:15:29.711Z"
      },
      {
        "duration": 35,
        "start_time": "2022-10-10T11:15:29.720Z"
      },
      {
        "duration": 7,
        "start_time": "2022-10-10T11:15:29.756Z"
      },
      {
        "duration": 152,
        "start_time": "2022-10-10T11:15:29.764Z"
      },
      {
        "duration": 30,
        "start_time": "2022-10-10T11:15:29.918Z"
      },
      {
        "duration": 177,
        "start_time": "2022-10-10T11:15:29.950Z"
      },
      {
        "duration": 60,
        "start_time": "2022-10-10T11:15:30.129Z"
      },
      {
        "duration": 26,
        "start_time": "2022-10-10T11:15:30.191Z"
      },
      {
        "duration": 40,
        "start_time": "2022-10-10T11:15:30.218Z"
      },
      {
        "duration": 166,
        "start_time": "2022-10-10T11:15:30.260Z"
      },
      {
        "duration": 0,
        "start_time": "2022-10-10T11:15:30.428Z"
      },
      {
        "duration": 0,
        "start_time": "2022-10-10T11:15:30.429Z"
      },
      {
        "duration": 0,
        "start_time": "2022-10-10T11:15:30.431Z"
      },
      {
        "duration": 0,
        "start_time": "2022-10-10T11:15:30.432Z"
      },
      {
        "duration": 0,
        "start_time": "2022-10-10T11:15:30.433Z"
      },
      {
        "duration": 0,
        "start_time": "2022-10-10T11:15:30.434Z"
      },
      {
        "duration": 0,
        "start_time": "2022-10-10T11:15:30.435Z"
      },
      {
        "duration": 0,
        "start_time": "2022-10-10T11:15:30.437Z"
      },
      {
        "duration": 0,
        "start_time": "2022-10-10T11:15:30.438Z"
      },
      {
        "duration": 0,
        "start_time": "2022-10-10T11:15:30.439Z"
      },
      {
        "duration": 0,
        "start_time": "2022-10-10T11:15:30.440Z"
      },
      {
        "duration": 0,
        "start_time": "2022-10-10T11:15:30.442Z"
      },
      {
        "duration": 0,
        "start_time": "2022-10-10T11:15:30.443Z"
      },
      {
        "duration": 0,
        "start_time": "2022-10-10T11:15:30.444Z"
      },
      {
        "duration": 0,
        "start_time": "2022-10-10T11:15:30.446Z"
      },
      {
        "duration": 0,
        "start_time": "2022-10-10T11:15:30.447Z"
      },
      {
        "duration": 0,
        "start_time": "2022-10-10T11:15:30.449Z"
      },
      {
        "duration": 19,
        "start_time": "2022-10-10T11:16:04.872Z"
      },
      {
        "duration": 3,
        "start_time": "2022-10-10T11:16:25.932Z"
      },
      {
        "duration": 13,
        "start_time": "2022-10-10T11:16:33.244Z"
      },
      {
        "duration": 1130,
        "start_time": "2022-10-10T11:18:39.386Z"
      },
      {
        "duration": 433,
        "start_time": "2022-10-10T11:18:40.518Z"
      },
      {
        "duration": 61,
        "start_time": "2022-10-10T11:18:40.952Z"
      },
      {
        "duration": 108,
        "start_time": "2022-10-10T11:18:41.015Z"
      },
      {
        "duration": 34,
        "start_time": "2022-10-10T11:18:41.125Z"
      },
      {
        "duration": 161,
        "start_time": "2022-10-10T11:18:41.161Z"
      },
      {
        "duration": 29,
        "start_time": "2022-10-10T11:18:41.323Z"
      },
      {
        "duration": 105,
        "start_time": "2022-10-10T11:18:41.354Z"
      },
      {
        "duration": 15,
        "start_time": "2022-10-10T11:18:41.460Z"
      },
      {
        "duration": 38,
        "start_time": "2022-10-10T11:18:41.477Z"
      },
      {
        "duration": 67,
        "start_time": "2022-10-10T11:18:41.516Z"
      },
      {
        "duration": 41,
        "start_time": "2022-10-10T11:18:41.584Z"
      },
      {
        "duration": 11,
        "start_time": "2022-10-10T11:18:41.626Z"
      },
      {
        "duration": 15,
        "start_time": "2022-10-10T11:18:41.638Z"
      },
      {
        "duration": 5,
        "start_time": "2022-10-10T11:18:41.654Z"
      },
      {
        "duration": 18,
        "start_time": "2022-10-10T11:18:41.661Z"
      },
      {
        "duration": 5,
        "start_time": "2022-10-10T11:18:41.681Z"
      },
      {
        "duration": 42,
        "start_time": "2022-10-10T11:18:41.687Z"
      },
      {
        "duration": 12,
        "start_time": "2022-10-10T11:18:41.731Z"
      },
      {
        "duration": 9,
        "start_time": "2022-10-10T11:18:41.745Z"
      },
      {
        "duration": 18,
        "start_time": "2022-10-10T11:18:41.756Z"
      },
      {
        "duration": 45,
        "start_time": "2022-10-10T11:18:41.776Z"
      },
      {
        "duration": 10,
        "start_time": "2022-10-10T11:18:41.822Z"
      },
      {
        "duration": 14,
        "start_time": "2022-10-10T11:18:41.833Z"
      },
      {
        "duration": 10,
        "start_time": "2022-10-10T11:18:41.849Z"
      },
      {
        "duration": 4,
        "start_time": "2022-10-10T11:18:41.860Z"
      },
      {
        "duration": 45,
        "start_time": "2022-10-10T11:18:41.865Z"
      },
      {
        "duration": 8,
        "start_time": "2022-10-10T11:18:41.913Z"
      },
      {
        "duration": 5,
        "start_time": "2022-10-10T11:18:41.923Z"
      },
      {
        "duration": 6,
        "start_time": "2022-10-10T11:18:41.929Z"
      },
      {
        "duration": 6,
        "start_time": "2022-10-10T11:18:41.936Z"
      },
      {
        "duration": 6,
        "start_time": "2022-10-10T11:18:41.944Z"
      },
      {
        "duration": 6,
        "start_time": "2022-10-10T11:18:41.952Z"
      },
      {
        "duration": 10,
        "start_time": "2022-10-10T11:18:41.960Z"
      },
      {
        "duration": 83,
        "start_time": "2022-10-10T11:18:41.971Z"
      },
      {
        "duration": 15,
        "start_time": "2022-10-10T11:18:42.055Z"
      },
      {
        "duration": 34,
        "start_time": "2022-10-10T11:18:42.072Z"
      },
      {
        "duration": 26,
        "start_time": "2022-10-10T11:18:42.108Z"
      },
      {
        "duration": 7,
        "start_time": "2022-10-10T11:18:42.135Z"
      },
      {
        "duration": 32,
        "start_time": "2022-10-10T11:18:42.144Z"
      },
      {
        "duration": 6,
        "start_time": "2022-10-10T11:18:42.177Z"
      },
      {
        "duration": 47,
        "start_time": "2022-10-10T11:18:42.184Z"
      },
      {
        "duration": 6,
        "start_time": "2022-10-10T11:18:42.233Z"
      },
      {
        "duration": 139,
        "start_time": "2022-10-10T11:18:42.241Z"
      },
      {
        "duration": 41,
        "start_time": "2022-10-10T11:18:42.381Z"
      },
      {
        "duration": 162,
        "start_time": "2022-10-10T11:18:42.425Z"
      },
      {
        "duration": 67,
        "start_time": "2022-10-10T11:18:42.589Z"
      },
      {
        "duration": 10,
        "start_time": "2022-10-10T11:18:42.658Z"
      },
      {
        "duration": 22,
        "start_time": "2022-10-10T11:18:42.669Z"
      },
      {
        "duration": 8,
        "start_time": "2022-10-10T11:18:42.708Z"
      },
      {
        "duration": 7,
        "start_time": "2022-10-10T11:18:42.717Z"
      },
      {
        "duration": 22,
        "start_time": "2022-10-10T11:18:42.726Z"
      },
      {
        "duration": 17,
        "start_time": "2022-10-10T11:18:42.750Z"
      },
      {
        "duration": 51,
        "start_time": "2022-10-10T11:18:42.768Z"
      },
      {
        "duration": 514,
        "start_time": "2022-10-10T11:18:42.821Z"
      },
      {
        "duration": 23,
        "start_time": "2022-10-10T11:18:43.337Z"
      },
      {
        "duration": 58,
        "start_time": "2022-10-10T11:18:43.361Z"
      },
      {
        "duration": 15,
        "start_time": "2022-10-10T11:18:43.420Z"
      },
      {
        "duration": 16,
        "start_time": "2022-10-10T11:18:43.436Z"
      },
      {
        "duration": 355,
        "start_time": "2022-10-10T11:18:43.454Z"
      },
      {
        "duration": 154,
        "start_time": "2022-10-10T11:18:43.811Z"
      },
      {
        "duration": 182,
        "start_time": "2022-10-10T11:18:43.966Z"
      },
      {
        "duration": 251,
        "start_time": "2022-10-10T11:18:44.150Z"
      },
      {
        "duration": 28,
        "start_time": "2022-10-10T11:18:44.402Z"
      },
      {
        "duration": 125,
        "start_time": "2022-10-10T11:18:44.431Z"
      },
      {
        "duration": 6,
        "start_time": "2022-10-10T11:18:44.558Z"
      },
      {
        "duration": 113,
        "start_time": "2022-10-10T11:26:47.034Z"
      },
      {
        "duration": 13,
        "start_time": "2022-10-10T11:26:53.705Z"
      },
      {
        "duration": 4,
        "start_time": "2022-10-10T11:28:00.948Z"
      },
      {
        "duration": 21,
        "start_time": "2022-10-10T11:28:05.021Z"
      },
      {
        "duration": 9,
        "start_time": "2022-10-10T11:28:18.339Z"
      },
      {
        "duration": 20,
        "start_time": "2022-10-10T11:28:24.353Z"
      },
      {
        "duration": 10,
        "start_time": "2022-10-10T11:29:09.822Z"
      },
      {
        "duration": 26,
        "start_time": "2022-10-10T11:29:13.605Z"
      },
      {
        "duration": 7,
        "start_time": "2022-10-10T11:29:34.973Z"
      },
      {
        "duration": 20,
        "start_time": "2022-10-10T11:29:50.228Z"
      },
      {
        "duration": 33,
        "start_time": "2022-10-10T11:32:18.435Z"
      },
      {
        "duration": 30,
        "start_time": "2022-10-10T11:33:06.377Z"
      },
      {
        "duration": 31,
        "start_time": "2022-10-10T11:33:54.653Z"
      },
      {
        "duration": 24,
        "start_time": "2022-10-10T11:34:47.472Z"
      },
      {
        "duration": 27,
        "start_time": "2022-10-10T11:35:20.742Z"
      },
      {
        "duration": 29,
        "start_time": "2022-10-10T11:35:50.732Z"
      },
      {
        "duration": 29,
        "start_time": "2022-10-10T11:35:59.843Z"
      },
      {
        "duration": 33,
        "start_time": "2022-10-10T11:36:07.318Z"
      },
      {
        "duration": 57,
        "start_time": "2022-10-10T11:37:24.890Z"
      },
      {
        "duration": 4,
        "start_time": "2022-10-10T11:38:15.722Z"
      },
      {
        "duration": 17,
        "start_time": "2022-10-10T11:40:00.601Z"
      },
      {
        "duration": 229,
        "start_time": "2022-10-10T11:40:16.794Z"
      },
      {
        "duration": 24,
        "start_time": "2022-10-10T11:40:37.161Z"
      },
      {
        "duration": 25,
        "start_time": "2022-10-10T11:41:12.375Z"
      },
      {
        "duration": 21,
        "start_time": "2022-10-10T11:41:17.563Z"
      },
      {
        "duration": 772,
        "start_time": "2022-10-10T11:41:22.089Z"
      },
      {
        "duration": 27,
        "start_time": "2022-10-10T11:42:07.817Z"
      },
      {
        "duration": 26,
        "start_time": "2022-10-10T11:42:37.434Z"
      },
      {
        "duration": 27,
        "start_time": "2022-10-10T11:42:42.334Z"
      },
      {
        "duration": 177,
        "start_time": "2022-10-10T11:42:50.281Z"
      },
      {
        "duration": 27,
        "start_time": "2022-10-10T11:43:07.189Z"
      },
      {
        "duration": 24,
        "start_time": "2022-10-10T11:43:11.502Z"
      },
      {
        "duration": 181,
        "start_time": "2022-10-10T11:43:20.363Z"
      },
      {
        "duration": 38,
        "start_time": "2022-10-10T11:45:41.077Z"
      },
      {
        "duration": 40,
        "start_time": "2022-10-10T11:45:55.060Z"
      },
      {
        "duration": 18,
        "start_time": "2022-10-10T11:46:12.748Z"
      },
      {
        "duration": 24,
        "start_time": "2022-10-10T11:46:17.771Z"
      },
      {
        "duration": 53,
        "start_time": "2022-10-10T11:46:35.729Z"
      },
      {
        "duration": 30,
        "start_time": "2022-10-10T11:46:40.182Z"
      },
      {
        "duration": 33,
        "start_time": "2022-10-10T11:46:59.877Z"
      },
      {
        "duration": 29,
        "start_time": "2022-10-10T11:47:04.504Z"
      },
      {
        "duration": 333,
        "start_time": "2022-10-10T11:47:20.374Z"
      },
      {
        "duration": 344,
        "start_time": "2022-10-10T11:48:30.151Z"
      },
      {
        "duration": 364,
        "start_time": "2022-10-10T11:48:43.151Z"
      },
      {
        "duration": 1408,
        "start_time": "2022-10-11T11:38:17.514Z"
      },
      {
        "duration": 688,
        "start_time": "2022-10-11T11:38:18.924Z"
      },
      {
        "duration": 60,
        "start_time": "2022-10-11T11:38:19.615Z"
      },
      {
        "duration": 136,
        "start_time": "2022-10-11T11:38:19.678Z"
      },
      {
        "duration": 49,
        "start_time": "2022-10-11T11:38:19.816Z"
      },
      {
        "duration": 218,
        "start_time": "2022-10-11T11:38:19.866Z"
      },
      {
        "duration": 34,
        "start_time": "2022-10-11T11:38:20.086Z"
      },
      {
        "duration": 164,
        "start_time": "2022-10-11T11:38:20.121Z"
      },
      {
        "duration": 18,
        "start_time": "2022-10-11T11:38:20.286Z"
      },
      {
        "duration": 26,
        "start_time": "2022-10-11T11:38:20.306Z"
      },
      {
        "duration": 83,
        "start_time": "2022-10-11T11:38:20.355Z"
      },
      {
        "duration": 86,
        "start_time": "2022-10-11T11:38:20.439Z"
      },
      {
        "duration": 12,
        "start_time": "2022-10-11T11:38:20.527Z"
      },
      {
        "duration": 23,
        "start_time": "2022-10-11T11:38:20.541Z"
      },
      {
        "duration": 6,
        "start_time": "2022-10-11T11:38:20.566Z"
      },
      {
        "duration": 19,
        "start_time": "2022-10-11T11:38:20.575Z"
      },
      {
        "duration": 5,
        "start_time": "2022-10-11T11:38:20.597Z"
      },
      {
        "duration": 51,
        "start_time": "2022-10-11T11:38:20.604Z"
      },
      {
        "duration": 16,
        "start_time": "2022-10-11T11:38:20.657Z"
      },
      {
        "duration": 14,
        "start_time": "2022-10-11T11:38:20.675Z"
      },
      {
        "duration": 22,
        "start_time": "2022-10-11T11:38:20.691Z"
      },
      {
        "duration": 14,
        "start_time": "2022-10-11T11:38:20.715Z"
      },
      {
        "duration": 33,
        "start_time": "2022-10-11T11:38:20.731Z"
      },
      {
        "duration": 23,
        "start_time": "2022-10-11T11:38:20.766Z"
      },
      {
        "duration": 27,
        "start_time": "2022-10-11T11:38:20.791Z"
      },
      {
        "duration": 15,
        "start_time": "2022-10-11T11:38:20.820Z"
      },
      {
        "duration": 77,
        "start_time": "2022-10-11T11:38:20.837Z"
      },
      {
        "duration": 10,
        "start_time": "2022-10-11T11:38:20.918Z"
      },
      {
        "duration": 22,
        "start_time": "2022-10-11T11:38:20.930Z"
      },
      {
        "duration": 18,
        "start_time": "2022-10-11T11:38:20.954Z"
      },
      {
        "duration": 19,
        "start_time": "2022-10-11T11:38:20.974Z"
      },
      {
        "duration": 15,
        "start_time": "2022-10-11T11:38:20.995Z"
      },
      {
        "duration": 27,
        "start_time": "2022-10-11T11:38:21.012Z"
      },
      {
        "duration": 19,
        "start_time": "2022-10-11T11:38:21.042Z"
      },
      {
        "duration": 180,
        "start_time": "2022-10-11T11:38:21.064Z"
      },
      {
        "duration": 16,
        "start_time": "2022-10-11T11:38:21.246Z"
      },
      {
        "duration": 34,
        "start_time": "2022-10-11T11:38:21.263Z"
      },
      {
        "duration": 28,
        "start_time": "2022-10-11T11:38:21.298Z"
      },
      {
        "duration": 27,
        "start_time": "2022-10-11T11:38:21.328Z"
      },
      {
        "duration": 38,
        "start_time": "2022-10-11T11:38:21.357Z"
      },
      {
        "duration": 11,
        "start_time": "2022-10-11T11:38:21.397Z"
      },
      {
        "duration": 65,
        "start_time": "2022-10-11T11:38:21.410Z"
      },
      {
        "duration": 9,
        "start_time": "2022-10-11T11:38:21.477Z"
      },
      {
        "duration": 245,
        "start_time": "2022-10-11T11:38:21.488Z"
      },
      {
        "duration": 48,
        "start_time": "2022-10-11T11:38:21.737Z"
      },
      {
        "duration": 207,
        "start_time": "2022-10-11T11:38:21.788Z"
      },
      {
        "duration": 67,
        "start_time": "2022-10-11T11:38:21.997Z"
      },
      {
        "duration": 12,
        "start_time": "2022-10-11T11:38:22.065Z"
      },
      {
        "duration": 25,
        "start_time": "2022-10-11T11:38:22.079Z"
      },
      {
        "duration": 8,
        "start_time": "2022-10-11T11:38:22.106Z"
      },
      {
        "duration": 9,
        "start_time": "2022-10-11T11:38:22.115Z"
      },
      {
        "duration": 26,
        "start_time": "2022-10-11T11:38:22.155Z"
      },
      {
        "duration": 20,
        "start_time": "2022-10-11T11:38:22.183Z"
      },
      {
        "duration": 51,
        "start_time": "2022-10-11T11:38:22.205Z"
      },
      {
        "duration": 28,
        "start_time": "2022-10-11T11:38:22.258Z"
      },
      {
        "duration": 460,
        "start_time": "2022-10-11T11:38:22.288Z"
      },
      {
        "duration": 616,
        "start_time": "2022-10-11T11:38:22.753Z"
      },
      {
        "duration": 26,
        "start_time": "2022-10-11T11:38:23.371Z"
      },
      {
        "duration": 21,
        "start_time": "2022-10-11T11:38:23.398Z"
      },
      {
        "duration": 16,
        "start_time": "2022-10-11T11:38:23.421Z"
      },
      {
        "duration": 25,
        "start_time": "2022-10-11T11:38:23.439Z"
      },
      {
        "duration": 293,
        "start_time": "2022-10-11T11:38:23.466Z"
      },
      {
        "duration": 176,
        "start_time": "2022-10-11T11:38:23.761Z"
      },
      {
        "duration": 198,
        "start_time": "2022-10-11T11:38:23.939Z"
      },
      {
        "duration": 351,
        "start_time": "2022-10-11T11:38:24.140Z"
      },
      {
        "duration": 18,
        "start_time": "2022-10-11T11:38:24.494Z"
      },
      {
        "duration": 131,
        "start_time": "2022-10-11T11:38:24.514Z"
      },
      {
        "duration": 10,
        "start_time": "2022-10-11T11:38:24.647Z"
      }
    ],
    "colab": {
      "provenance": []
    },
    "kernelspec": {
      "display_name": "Python 3 (ipykernel)",
      "language": "python",
      "name": "python3"
    },
    "language_info": {
      "codemirror_mode": {
        "name": "ipython",
        "version": 3
      },
      "file_extension": ".py",
      "mimetype": "text/x-python",
      "name": "python",
      "nbconvert_exporter": "python",
      "pygments_lexer": "ipython3",
      "version": "3.9.5"
    },
    "toc": {
      "base_numbering": 1,
      "nav_menu": {},
      "number_sections": true,
      "sideBar": true,
      "skip_h1_title": true,
      "title_cell": "Table of Contents",
      "title_sidebar": "Contents",
      "toc_cell": false,
      "toc_position": {},
      "toc_section_display": true,
      "toc_window_display": false
    }
  },
  "nbformat": 4,
  "nbformat_minor": 0
}