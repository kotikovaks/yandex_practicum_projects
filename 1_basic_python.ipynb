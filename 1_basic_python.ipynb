{
  "cells": [
    {
      "cell_type": "markdown",
      "metadata": {
        "id": "E0vqbgi9ay0H"
      },
      "source": [
        "# Яндекс.Музыка"
      ]
    },
    {
      "cell_type": "markdown",
      "metadata": {
        "id": "VUC88oWjTJw2"
      },
      "source": [
        "Сравнение Москвы и Петербурга окружено мифами. Например:\n",
        " * Москва — мегаполис, подчинённый жёсткому ритму рабочей недели;\n",
        " * Петербург — культурная столица, со своими вкусами.\n",
        "\n",
        "На данных Яндекс.Музыки сравним поведение пользователей двух столиц.\n",
        "\n",
        "**Цель исследования** — проверить три гипотезы:\n",
        "1. Активность пользователей зависит от дня недели. Причём в Москве и Петербурге это проявляется по-разному.\n",
        "2. В понедельник утром в Москве преобладают одни жанры, а в Петербурге — другие. Так же и вечером пятницы преобладают разные жанры — в зависимости от города. \n",
        "3. Москва и Петербург предпочитают разные жанры музыки. В Москве чаще слушают поп-музыку, в Петербурге — русский рэп.\n",
        "\n",
        "**Ход исследования**\n",
        "\n",
        "Данные о поведении пользователей мы получим из файла `yandex_music_project.csv`. О качестве данных ничего не известно. Поэтому перед проверкой гипотез понадобится обзор данных. \n",
        "\n",
        "Мы проверим данные на ошибки и оценим их влияние на исследование. Затем, на этапе предобработки мы постараемся найти возможность исправить самые критичные ошибки данных.\n",
        " \n",
        "Таким образом, исследование пройдёт в три этапа:\n",
        " 1. Обзор данных.\n",
        " 2. Предобработка данных.\n",
        " 3. Проверка гипотез.\n",
        "\n"
      ]
    },
    {
      "cell_type": "markdown",
      "metadata": {
        "id": "Ml1hmfXC_Zcs"
      },
      "source": [
        "## Обзор данных\n",
        "\n",
        "Составим первое представление о данных Яндекс.Музыки.\n",
        "\n",
        "\n"
      ]
    },
    {
      "cell_type": "code",
      "execution_count": 1,
      "metadata": {
        "id": "AXN7PHPN_Zcs"
      },
      "outputs": [],
      "source": [
        "import pandas as pd # импорт библиотеки pandas"
      ]
    },
    {
      "cell_type": "markdown",
      "metadata": {
        "id": "rDoOMd3uTqnZ"
      },
      "source": [
        "Выведем на экран первые десять строк таблицы:"
      ]
    },
    {
      "cell_type": "code",
      "execution_count": 3,
      "metadata": {
        "id": "oWTVX3gW_Zct",
        "colab": {
          "base_uri": "https://localhost:8080/",
          "height": 363
        },
        "outputId": "a74035bd-ed82-4303-f63b-6d7863df3215"
      },
      "outputs": [
        {
          "output_type": "execute_result",
          "data": {
            "text/plain": [
              "     userID                        Track            artist   genre  \\\n",
              "0  FFB692EC            Kamigata To Boots  The Mass Missile    rock   \n",
              "1  55204538  Delayed Because of Accident  Andreas Rönnberg    rock   \n",
              "2    20EC38            Funiculì funiculà       Mario Lanza     pop   \n",
              "3  A3DD03C9        Dragons in the Sunset        Fire + Ice    folk   \n",
              "4  E2DC1FAE                  Soul People        Space Echo   dance   \n",
              "5  842029A1                    Преданная         IMPERVTOR  rusrap   \n",
              "6  4CB90AA5                         True      Roman Messer   dance   \n",
              "7  F03E1C1F             Feeling This Way   Polina Griffith   dance   \n",
              "8  8FA1D3BE     И вновь продолжается бой               NaN  ruspop   \n",
              "9  E772D5C0                    Pessimist               NaN   dance   \n",
              "\n",
              "             City        time        Day  \n",
              "0  Saint-Petersburg  20:28:33  Wednesday  \n",
              "1            Moscow  14:07:09     Friday  \n",
              "2  Saint-Petersburg  20:58:07  Wednesday  \n",
              "3  Saint-Petersburg  08:37:09     Monday  \n",
              "4            Moscow  08:34:34     Monday  \n",
              "5  Saint-Petersburg  13:09:41     Friday  \n",
              "6            Moscow  13:00:07  Wednesday  \n",
              "7            Moscow  20:47:49  Wednesday  \n",
              "8            Moscow  09:17:40     Friday  \n",
              "9  Saint-Petersburg  21:20:49  Wednesday  "
            ],
            "text/html": [
              "\n",
              "  <div id=\"df-1eb646ef-7f16-4d40-9f05-f6c13f06ccb1\">\n",
              "    <div class=\"colab-df-container\">\n",
              "      <div>\n",
              "<style scoped>\n",
              "    .dataframe tbody tr th:only-of-type {\n",
              "        vertical-align: middle;\n",
              "    }\n",
              "\n",
              "    .dataframe tbody tr th {\n",
              "        vertical-align: top;\n",
              "    }\n",
              "\n",
              "    .dataframe thead th {\n",
              "        text-align: right;\n",
              "    }\n",
              "</style>\n",
              "<table border=\"1\" class=\"dataframe\">\n",
              "  <thead>\n",
              "    <tr style=\"text-align: right;\">\n",
              "      <th></th>\n",
              "      <th>userID</th>\n",
              "      <th>Track</th>\n",
              "      <th>artist</th>\n",
              "      <th>genre</th>\n",
              "      <th>City</th>\n",
              "      <th>time</th>\n",
              "      <th>Day</th>\n",
              "    </tr>\n",
              "  </thead>\n",
              "  <tbody>\n",
              "    <tr>\n",
              "      <th>0</th>\n",
              "      <td>FFB692EC</td>\n",
              "      <td>Kamigata To Boots</td>\n",
              "      <td>The Mass Missile</td>\n",
              "      <td>rock</td>\n",
              "      <td>Saint-Petersburg</td>\n",
              "      <td>20:28:33</td>\n",
              "      <td>Wednesday</td>\n",
              "    </tr>\n",
              "    <tr>\n",
              "      <th>1</th>\n",
              "      <td>55204538</td>\n",
              "      <td>Delayed Because of Accident</td>\n",
              "      <td>Andreas Rönnberg</td>\n",
              "      <td>rock</td>\n",
              "      <td>Moscow</td>\n",
              "      <td>14:07:09</td>\n",
              "      <td>Friday</td>\n",
              "    </tr>\n",
              "    <tr>\n",
              "      <th>2</th>\n",
              "      <td>20EC38</td>\n",
              "      <td>Funiculì funiculà</td>\n",
              "      <td>Mario Lanza</td>\n",
              "      <td>pop</td>\n",
              "      <td>Saint-Petersburg</td>\n",
              "      <td>20:58:07</td>\n",
              "      <td>Wednesday</td>\n",
              "    </tr>\n",
              "    <tr>\n",
              "      <th>3</th>\n",
              "      <td>A3DD03C9</td>\n",
              "      <td>Dragons in the Sunset</td>\n",
              "      <td>Fire + Ice</td>\n",
              "      <td>folk</td>\n",
              "      <td>Saint-Petersburg</td>\n",
              "      <td>08:37:09</td>\n",
              "      <td>Monday</td>\n",
              "    </tr>\n",
              "    <tr>\n",
              "      <th>4</th>\n",
              "      <td>E2DC1FAE</td>\n",
              "      <td>Soul People</td>\n",
              "      <td>Space Echo</td>\n",
              "      <td>dance</td>\n",
              "      <td>Moscow</td>\n",
              "      <td>08:34:34</td>\n",
              "      <td>Monday</td>\n",
              "    </tr>\n",
              "    <tr>\n",
              "      <th>5</th>\n",
              "      <td>842029A1</td>\n",
              "      <td>Преданная</td>\n",
              "      <td>IMPERVTOR</td>\n",
              "      <td>rusrap</td>\n",
              "      <td>Saint-Petersburg</td>\n",
              "      <td>13:09:41</td>\n",
              "      <td>Friday</td>\n",
              "    </tr>\n",
              "    <tr>\n",
              "      <th>6</th>\n",
              "      <td>4CB90AA5</td>\n",
              "      <td>True</td>\n",
              "      <td>Roman Messer</td>\n",
              "      <td>dance</td>\n",
              "      <td>Moscow</td>\n",
              "      <td>13:00:07</td>\n",
              "      <td>Wednesday</td>\n",
              "    </tr>\n",
              "    <tr>\n",
              "      <th>7</th>\n",
              "      <td>F03E1C1F</td>\n",
              "      <td>Feeling This Way</td>\n",
              "      <td>Polina Griffith</td>\n",
              "      <td>dance</td>\n",
              "      <td>Moscow</td>\n",
              "      <td>20:47:49</td>\n",
              "      <td>Wednesday</td>\n",
              "    </tr>\n",
              "    <tr>\n",
              "      <th>8</th>\n",
              "      <td>8FA1D3BE</td>\n",
              "      <td>И вновь продолжается бой</td>\n",
              "      <td>NaN</td>\n",
              "      <td>ruspop</td>\n",
              "      <td>Moscow</td>\n",
              "      <td>09:17:40</td>\n",
              "      <td>Friday</td>\n",
              "    </tr>\n",
              "    <tr>\n",
              "      <th>9</th>\n",
              "      <td>E772D5C0</td>\n",
              "      <td>Pessimist</td>\n",
              "      <td>NaN</td>\n",
              "      <td>dance</td>\n",
              "      <td>Saint-Petersburg</td>\n",
              "      <td>21:20:49</td>\n",
              "      <td>Wednesday</td>\n",
              "    </tr>\n",
              "  </tbody>\n",
              "</table>\n",
              "</div>\n",
              "      <button class=\"colab-df-convert\" onclick=\"convertToInteractive('df-1eb646ef-7f16-4d40-9f05-f6c13f06ccb1')\"\n",
              "              title=\"Convert this dataframe to an interactive table.\"\n",
              "              style=\"display:none;\">\n",
              "        \n",
              "  <svg xmlns=\"http://www.w3.org/2000/svg\" height=\"24px\"viewBox=\"0 0 24 24\"\n",
              "       width=\"24px\">\n",
              "    <path d=\"M0 0h24v24H0V0z\" fill=\"none\"/>\n",
              "    <path d=\"M18.56 5.44l.94 2.06.94-2.06 2.06-.94-2.06-.94-.94-2.06-.94 2.06-2.06.94zm-11 1L8.5 8.5l.94-2.06 2.06-.94-2.06-.94L8.5 2.5l-.94 2.06-2.06.94zm10 10l.94 2.06.94-2.06 2.06-.94-2.06-.94-.94-2.06-.94 2.06-2.06.94z\"/><path d=\"M17.41 7.96l-1.37-1.37c-.4-.4-.92-.59-1.43-.59-.52 0-1.04.2-1.43.59L10.3 9.45l-7.72 7.72c-.78.78-.78 2.05 0 2.83L4 21.41c.39.39.9.59 1.41.59.51 0 1.02-.2 1.41-.59l7.78-7.78 2.81-2.81c.8-.78.8-2.07 0-2.86zM5.41 20L4 18.59l7.72-7.72 1.47 1.35L5.41 20z\"/>\n",
              "  </svg>\n",
              "      </button>\n",
              "      \n",
              "  <style>\n",
              "    .colab-df-container {\n",
              "      display:flex;\n",
              "      flex-wrap:wrap;\n",
              "      gap: 12px;\n",
              "    }\n",
              "\n",
              "    .colab-df-convert {\n",
              "      background-color: #E8F0FE;\n",
              "      border: none;\n",
              "      border-radius: 50%;\n",
              "      cursor: pointer;\n",
              "      display: none;\n",
              "      fill: #1967D2;\n",
              "      height: 32px;\n",
              "      padding: 0 0 0 0;\n",
              "      width: 32px;\n",
              "    }\n",
              "\n",
              "    .colab-df-convert:hover {\n",
              "      background-color: #E2EBFA;\n",
              "      box-shadow: 0px 1px 2px rgba(60, 64, 67, 0.3), 0px 1px 3px 1px rgba(60, 64, 67, 0.15);\n",
              "      fill: #174EA6;\n",
              "    }\n",
              "\n",
              "    [theme=dark] .colab-df-convert {\n",
              "      background-color: #3B4455;\n",
              "      fill: #D2E3FC;\n",
              "    }\n",
              "\n",
              "    [theme=dark] .colab-df-convert:hover {\n",
              "      background-color: #434B5C;\n",
              "      box-shadow: 0px 1px 3px 1px rgba(0, 0, 0, 0.15);\n",
              "      filter: drop-shadow(0px 1px 2px rgba(0, 0, 0, 0.3));\n",
              "      fill: #FFFFFF;\n",
              "    }\n",
              "  </style>\n",
              "\n",
              "      <script>\n",
              "        const buttonEl =\n",
              "          document.querySelector('#df-1eb646ef-7f16-4d40-9f05-f6c13f06ccb1 button.colab-df-convert');\n",
              "        buttonEl.style.display =\n",
              "          google.colab.kernel.accessAllowed ? 'block' : 'none';\n",
              "\n",
              "        async function convertToInteractive(key) {\n",
              "          const element = document.querySelector('#df-1eb646ef-7f16-4d40-9f05-f6c13f06ccb1');\n",
              "          const dataTable =\n",
              "            await google.colab.kernel.invokeFunction('convertToInteractive',\n",
              "                                                     [key], {});\n",
              "          if (!dataTable) return;\n",
              "\n",
              "          const docLinkHtml = 'Like what you see? Visit the ' +\n",
              "            '<a target=\"_blank\" href=https://colab.research.google.com/notebooks/data_table.ipynb>data table notebook</a>'\n",
              "            + ' to learn more about interactive tables.';\n",
              "          element.innerHTML = '';\n",
              "          dataTable['output_type'] = 'display_data';\n",
              "          await google.colab.output.renderOutput(dataTable, element);\n",
              "          const docLink = document.createElement('div');\n",
              "          docLink.innerHTML = docLinkHtml;\n",
              "          element.appendChild(docLink);\n",
              "        }\n",
              "      </script>\n",
              "    </div>\n",
              "  </div>\n",
              "  "
            ]
          },
          "metadata": {},
          "execution_count": 3
        }
      ],
      "source": [
        "df=pd.read_csv('yandex_music_project.csv')\n",
        "df.head(10) # получение первых 10 строк таблицы df"
      ]
    },
    {
      "cell_type": "markdown",
      "metadata": {
        "id": "EO73Kwic_Zct"
      },
      "source": [
        "Получим общую информацию о таблице:"
      ]
    },
    {
      "cell_type": "code",
      "execution_count": 4,
      "metadata": {
        "id": "DSf2kIb-_Zct",
        "colab": {
          "base_uri": "https://localhost:8080/"
        },
        "outputId": "4dab7c90-e004-496e-adef-f454a12ac9d8"
      },
      "outputs": [
        {
          "output_type": "stream",
          "name": "stdout",
          "text": [
            "<class 'pandas.core.frame.DataFrame'>\n",
            "RangeIndex: 65079 entries, 0 to 65078\n",
            "Data columns (total 7 columns):\n",
            " #   Column    Non-Null Count  Dtype \n",
            "---  ------    --------------  ----- \n",
            " 0     userID  65079 non-null  object\n",
            " 1   Track     63848 non-null  object\n",
            " 2   artist    57876 non-null  object\n",
            " 3   genre     63881 non-null  object\n",
            " 4     City    65079 non-null  object\n",
            " 5   time      65079 non-null  object\n",
            " 6   Day       65079 non-null  object\n",
            "dtypes: object(7)\n",
            "memory usage: 3.5+ MB\n"
          ]
        }
      ],
      "source": [
        "df.info() # получение общей информации о данных в таблице df"
      ]
    },
    {
      "cell_type": "markdown",
      "metadata": {
        "id": "TaQ2Iwbr_Zct"
      },
      "source": [
        "Итак, в таблице семь столбцов. Тип данных во всех столбцах — `object`.\n",
        "\n",
        "Согласно документации к данным:\n",
        "* `userID` — идентификатор пользователя;\n",
        "* `Track` — название трека;  \n",
        "* `artist` — имя исполнителя;\n",
        "* `genre` — название жанра;\n",
        "* `City` — город пользователя;\n",
        "* `time` — время начала прослушивания;\n",
        "* `Day` — день недели.\n",
        "\n",
        "В названиях колонок видны три нарушения стиля:\n",
        "1. Строчные буквы сочетаются с прописными.\n",
        "2. Встречаются пробелы.\n",
        "3. Нет змеиного регистра.\n",
        "\n",
        "\n",
        "\n",
        "Количество значений в столбцах различается. Значит, в данных есть пропущенные значения.\n"
      ]
    },
    {
      "cell_type": "markdown",
      "metadata": {
        "id": "MCB6-dXG_Zct"
      },
      "source": [
        "**Выводы**\n",
        "\n",
        "В каждой строке таблицы — данные о прослушанном треке. Часть колонок описывает саму композицию: название, исполнителя и жанр. Остальные данные рассказывают о пользователе: из какого он города, когда он слушал музыку. \n",
        "\n",
        "Предварительно можно утверждать, что, данных достаточно для проверки гипотез. Но встречаются пропуски в данных, а в названиях колонок — расхождения с хорошим стилем.\n",
        "\n",
        "Чтобы двигаться дальше, нужно устранить проблемы в данных."
      ]
    },
    {
      "cell_type": "markdown",
      "metadata": {
        "id": "SjYF6Ub9_Zct"
      },
      "source": [
        "## Предобработка данных\n",
        "Исправим стиль в заголовках столбцов, исключим пропуски. Затем проверим данные на дубликаты."
      ]
    },
    {
      "cell_type": "markdown",
      "metadata": {
        "id": "dIaKXr29_Zct"
      },
      "source": [
        "### Стиль заголовков\n",
        "Выведем на экран названия столбцов:"
      ]
    },
    {
      "cell_type": "code",
      "execution_count": 5,
      "metadata": {
        "id": "oKOTdF_Q_Zct",
        "colab": {
          "base_uri": "https://localhost:8080/"
        },
        "outputId": "882fe0d3-b62d-4d32-ae7b-82dc04b0545b"
      },
      "outputs": [
        {
          "output_type": "execute_result",
          "data": {
            "text/plain": [
              "Index(['  userID', 'Track', 'artist', 'genre', '  City  ', 'time', 'Day'], dtype='object')"
            ]
          },
          "metadata": {},
          "execution_count": 5
        }
      ],
      "source": [
        "df.columns # перечень названий столбцов таблицы df"
      ]
    },
    {
      "cell_type": "markdown",
      "metadata": {
        "id": "zj5534cv_Zct"
      },
      "source": [
        "Приведем названия в соответствие с хорошим стилем:\n",
        "* несколько слов в названии запишем в «змеином_регистре»,\n",
        "* все символы сделаем строчными,\n",
        "* устраним пробелы.\n",
        "\n",
        "Для этого переименуем колонки так:\n",
        "* `'  userID'` → `'user_id'`;\n",
        "* `'Track'` → `'track'`;\n",
        "* `'  City  '` → `'city'`;\n",
        "* `'Day'` → `'day'`."
      ]
    },
    {
      "cell_type": "code",
      "execution_count": 6,
      "metadata": {
        "id": "ISlFqs5y_Zct"
      },
      "outputs": [],
      "source": [
        "df = df.rename(columns={'  userID': 'user_id', 'Track': 'track', '  City  ': 'city', 'Day': 'day'}) # переименование столбцов"
      ]
    },
    {
      "cell_type": "markdown",
      "metadata": {
        "id": "1dqbh00J_Zct"
      },
      "source": [
        "Проверим результат. Для этого ещё раз выведем на экран названия столбцов:"
      ]
    },
    {
      "cell_type": "code",
      "execution_count": 7,
      "metadata": {
        "id": "d4NOAmTW_Zct",
        "colab": {
          "base_uri": "https://localhost:8080/"
        },
        "outputId": "898adfc8-535d-4c87-ef15-3820d26db9b5"
      },
      "outputs": [
        {
          "output_type": "execute_result",
          "data": {
            "text/plain": [
              "Index(['user_id', 'track', 'artist', 'genre', 'city', 'time', 'day'], dtype='object')"
            ]
          },
          "metadata": {},
          "execution_count": 7
        }
      ],
      "source": [
        "df.columns# проверка результатов - перечень названий столбцов"
      ]
    },
    {
      "cell_type": "markdown",
      "metadata": {
        "id": "5ISfbcfY_Zct"
      },
      "source": [
        "### Пропуски значений\n",
        "Сначала посчитаем, сколько в таблице пропущенных значений:"
      ]
    },
    {
      "cell_type": "code",
      "execution_count": 40,
      "metadata": {
        "id": "RskX29qr_Zct",
        "colab": {
          "base_uri": "https://localhost:8080/"
        },
        "outputId": "af22ab5b-cd13-4843-dda7-20b49b064422"
      },
      "outputs": [
        {
          "output_type": "execute_result",
          "data": {
            "text/plain": [
              "user_id    0\n",
              "track      0\n",
              "artist     0\n",
              "genre      0\n",
              "city       0\n",
              "time       0\n",
              "day        0\n",
              "dtype: int64"
            ]
          },
          "metadata": {},
          "execution_count": 40
        }
      ],
      "source": [
        "df.isna().sum() # подсчёт пропусков"
      ]
    },
    {
      "cell_type": "markdown",
      "metadata": {
        "id": "qubhgnlO_Zct"
      },
      "source": [
        "Не все пропущенные значения влияют на исследование. Так в `track` и `artist` пропуски не важны для нашей работы. Достаточно заменить их явными обозначениями.\n",
        "\n",
        "Но пропуски в `genre` могут помешать сравнению музыкальных вкусов в Москве и Санкт-Петербурге. На практике было бы правильно установить причину пропусков и восстановить данные. Такой возможности нет в учебном проекте. Придётся:\n",
        "* заполнить и эти пропуски явными обозначениями,\n",
        "* оценить, насколько они повредят расчётам. "
      ]
    },
    {
      "cell_type": "markdown",
      "metadata": {
        "id": "fSv2laPA_Zct"
      },
      "source": [
        "Заменим пропущенные значения в столбцах `track`, `artist` и `genre` на строку `'unknown'`. Для этого создадим список `columns_to_replace`, переберем его элементы циклом `for` и для каждого столбца выполним замену пропущенных значений:"
      ]
    },
    {
      "cell_type": "code",
      "execution_count": 9,
      "metadata": {
        "id": "KplB5qWs_Zct"
      },
      "outputs": [],
      "source": [
        "columns_to_replace = ['track', 'artist', 'genre']\n",
        "for column in columns_to_replace:\n",
        "    df[column] = df[column].fillna('unknown')\n",
        "# перебор названий столбцов в цикле и замена пропущенных значений на 'unknown'"
      ]
    },
    {
      "cell_type": "markdown",
      "metadata": {
        "id": "Ilsm-MZo_Zct"
      },
      "source": [
        "Убедидимся, что в таблице не осталось пропусков. Для этого ещё раз посчитаем пропущенные значения."
      ]
    },
    {
      "cell_type": "code",
      "execution_count": 10,
      "metadata": {
        "id": "Tq4nYRX4_Zct",
        "colab": {
          "base_uri": "https://localhost:8080/"
        },
        "outputId": "13114367-7d51-4a40-9e81-deb54ed8f95e"
      },
      "outputs": [
        {
          "output_type": "execute_result",
          "data": {
            "text/plain": [
              "user_id    0\n",
              "track      0\n",
              "artist     0\n",
              "genre      0\n",
              "city       0\n",
              "time       0\n",
              "day        0\n",
              "dtype: int64"
            ]
          },
          "metadata": {},
          "execution_count": 10
        }
      ],
      "source": [
        "df.isna().sum() # подсчёт пропусков"
      ]
    },
    {
      "cell_type": "markdown",
      "metadata": {
        "id": "BWKRtBJ3_Zct"
      },
      "source": [
        "### Дубликаты\n",
        "Посчитаем явные дубликаты в таблице:"
      ]
    },
    {
      "cell_type": "code",
      "execution_count": 11,
      "metadata": {
        "id": "36eES_S0_Zct",
        "colab": {
          "base_uri": "https://localhost:8080/"
        },
        "outputId": "a1dfb907-d40f-4c97-b9e6-378361891f7e"
      },
      "outputs": [
        {
          "output_type": "execute_result",
          "data": {
            "text/plain": [
              "3826"
            ]
          },
          "metadata": {},
          "execution_count": 11
        }
      ],
      "source": [
        "df.duplicated().sum() # подсчёт явных дубликатов"
      ]
    },
    {
      "cell_type": "markdown",
      "metadata": {
        "id": "Ot25h6XR_Zct"
      },
      "source": [
        "Удалим явные дубликаты:"
      ]
    },
    {
      "cell_type": "code",
      "execution_count": 12,
      "metadata": {
        "id": "exFHq6tt_Zct"
      },
      "outputs": [],
      "source": [
        "df = df.drop_duplicates().reset_index(drop=True) # удаление явных дубликатов (с удалением старых индексов и формированием новых)"
      ]
    },
    {
      "cell_type": "markdown",
      "metadata": {
        "id": "Im2YwBEG_Zct"
      },
      "source": [
        "Проверим выполнение:"
      ]
    },
    {
      "cell_type": "code",
      "execution_count": 13,
      "metadata": {
        "id": "-8PuNWQ0_Zct",
        "colab": {
          "base_uri": "https://localhost:8080/"
        },
        "outputId": "969d0ed8-8b7a-4ac7-a19b-98ecb58a53de"
      },
      "outputs": [
        {
          "output_type": "execute_result",
          "data": {
            "text/plain": [
              "0"
            ]
          },
          "metadata": {},
          "execution_count": 13
        }
      ],
      "source": [
        "df.duplicated().sum()# проверка на отсутствие дубликатов"
      ]
    },
    {
      "cell_type": "markdown",
      "metadata": {
        "id": "QlFBsxAr_Zct"
      },
      "source": [
        "Теперь избавимся от неявных дубликатов в колонке `genre`."
      ]
    },
    {
      "cell_type": "markdown",
      "metadata": {
        "id": "eSjWwsOh_Zct"
      },
      "source": [
        "Выведем на экран список уникальных названий жанров, отсортированный в алфавитном порядке:"
      ]
    },
    {
      "cell_type": "code",
      "execution_count": 14,
      "metadata": {
        "id": "JIUcqzZN_Zct",
        "colab": {
          "base_uri": "https://localhost:8080/"
        },
        "outputId": "1cd258b7-7937-4f0e-bb51-6ad874f341c1"
      },
      "outputs": [
        {
          "output_type": "execute_result",
          "data": {
            "text/plain": [
              "array(['acid', 'acoustic', 'action', 'adult', 'africa', 'afrikaans',\n",
              "       'alternative', 'alternativepunk', 'ambient', 'americana',\n",
              "       'animated', 'anime', 'arabesk', 'arabic', 'arena',\n",
              "       'argentinetango', 'art', 'audiobook', 'author', 'avantgarde',\n",
              "       'axé', 'baile', 'balkan', 'beats', 'bigroom', 'black', 'bluegrass',\n",
              "       'blues', 'bollywood', 'bossa', 'brazilian', 'breakbeat', 'breaks',\n",
              "       'broadway', 'cantautori', 'cantopop', 'canzone', 'caribbean',\n",
              "       'caucasian', 'celtic', 'chamber', 'chanson', 'children', 'chill',\n",
              "       'chinese', 'choral', 'christian', 'christmas', 'classical',\n",
              "       'classicmetal', 'club', 'colombian', 'comedy', 'conjazz',\n",
              "       'contemporary', 'country', 'cuban', 'dance', 'dancehall',\n",
              "       'dancepop', 'dark', 'death', 'deep', 'deutschrock', 'deutschspr',\n",
              "       'dirty', 'disco', 'dnb', 'documentary', 'downbeat', 'downtempo',\n",
              "       'drum', 'dub', 'dubstep', 'eastern', 'easy', 'electronic',\n",
              "       'electropop', 'emo', 'entehno', 'epicmetal', 'estrada', 'ethnic',\n",
              "       'eurofolk', 'european', 'experimental', 'extrememetal', 'fado',\n",
              "       'fairytail', 'film', 'fitness', 'flamenco', 'folk', 'folklore',\n",
              "       'folkmetal', 'folkrock', 'folktronica', 'forró', 'frankreich',\n",
              "       'französisch', 'french', 'funk', 'future', 'gangsta', 'garage',\n",
              "       'german', 'ghazal', 'gitarre', 'glitch', 'gospel', 'gothic',\n",
              "       'grime', 'grunge', 'gypsy', 'handsup', \"hard'n'heavy\", 'hardcore',\n",
              "       'hardstyle', 'hardtechno', 'hip', 'hip-hop', 'hiphop',\n",
              "       'historisch', 'holiday', 'hop', 'horror', 'house', 'hymn', 'idm',\n",
              "       'independent', 'indian', 'indie', 'indipop', 'industrial',\n",
              "       'inspirational', 'instrumental', 'international', 'irish', 'jam',\n",
              "       'japanese', 'jazz', 'jewish', 'jpop', 'jungle', 'k-pop',\n",
              "       'karadeniz', 'karaoke', 'kayokyoku', 'korean', 'laiko', 'latin',\n",
              "       'latino', 'leftfield', 'local', 'lounge', 'loungeelectronic',\n",
              "       'lovers', 'malaysian', 'mandopop', 'marschmusik', 'meditative',\n",
              "       'mediterranean', 'melodic', 'metal', 'metalcore', 'mexican',\n",
              "       'middle', 'minimal', 'miscellaneous', 'modern', 'mood', 'mpb',\n",
              "       'muslim', 'native', 'neoklassik', 'neue', 'new', 'newage',\n",
              "       'newwave', 'nu', 'nujazz', 'numetal', 'oceania', 'old', 'opera',\n",
              "       'orchestral', 'other', 'piano', 'podcasts', 'pop', 'popdance',\n",
              "       'popelectronic', 'popeurodance', 'poprussian', 'post',\n",
              "       'posthardcore', 'postrock', 'power', 'progmetal', 'progressive',\n",
              "       'psychedelic', 'punjabi', 'punk', 'quebecois', 'ragga', 'ram',\n",
              "       'rancheras', 'rap', 'rave', 'reggae', 'reggaeton', 'regional',\n",
              "       'relax', 'religious', 'retro', 'rhythm', 'rnb', 'rnr', 'rock',\n",
              "       'rockabilly', 'rockalternative', 'rockindie', 'rockother',\n",
              "       'romance', 'roots', 'ruspop', 'rusrap', 'rusrock', 'russian',\n",
              "       'salsa', 'samba', 'scenic', 'schlager', 'self', 'sertanejo',\n",
              "       'shanson', 'shoegazing', 'showtunes', 'singer', 'ska', 'skarock',\n",
              "       'slow', 'smooth', 'soft', 'soul', 'soulful', 'sound', 'soundtrack',\n",
              "       'southern', 'specialty', 'speech', 'spiritual', 'sport',\n",
              "       'stonerrock', 'surf', 'swing', 'synthpop', 'synthrock',\n",
              "       'sängerportrait', 'tango', 'tanzorchester', 'taraftar', 'tatar',\n",
              "       'tech', 'techno', 'teen', 'thrash', 'top', 'traditional',\n",
              "       'tradjazz', 'trance', 'tribal', 'trip', 'triphop', 'tropical',\n",
              "       'türk', 'türkçe', 'ukrrock', 'unknown', 'urban', 'uzbek',\n",
              "       'variété', 'vi', 'videogame', 'vocal', 'western', 'world',\n",
              "       'worldbeat', 'ïîï', 'электроника'], dtype=object)"
            ]
          },
          "metadata": {},
          "execution_count": 14
        }
      ],
      "source": [
        "df['genre'].sort_values().unique() # Просмотр уникальных названий жанров"
      ]
    },
    {
      "cell_type": "markdown",
      "metadata": {
        "id": "qej-Qmuo_Zct"
      },
      "source": [
        "Найдем неявные дубликаты названия `hiphop`. Это могут быть названия с ошибками или альтернативные названия того же жанра.\n",
        "\n",
        "Чтобы очистить от них таблицу, напишем функцию `replace_wrong_genres()` с двумя параметрами: \n",
        "* `wrong_genres` — список дубликатов,\n",
        "* `correct_genre` — строка с правильным значением.\n",
        "\n",
        "Функция должна исправить колонку `genre` в таблице `df`: заменить каждое значение из списка `wrong_genres` на значение из `correct_genre`."
      ]
    },
    {
      "cell_type": "code",
      "execution_count": 15,
      "metadata": {
        "id": "ErNDkmns_Zct"
      },
      "outputs": [],
      "source": [
        "def replace_wrong_genres(wrong_genres, correct_genre):\n",
        "    for wrong_genre in wrong_genres:\n",
        "        df['genre'] = df['genre'].replace(wrong_genre, correct_genre)\n",
        "    # Функция для замены неявных дубликатов"
      ]
    },
    {
      "cell_type": "markdown",
      "metadata": {
        "id": "aDoBJxbA_Zct"
      },
      "source": [
        "Вызовем `replace_wrong_genres()` и передадим ей такие аргументы, чтобы она устранила неявные дубликаты: вместо `hip`, `hop` и `hip-hop` в таблице должно быть значение `hiphop`:"
      ]
    },
    {
      "cell_type": "code",
      "execution_count": 16,
      "metadata": {
        "id": "YN5i2hpmSo09"
      },
      "outputs": [],
      "source": [
        "wrong_genres_hip = ['hip', 'hop', 'hip-hop']\n",
        "correct_genre_hip = 'hiphop'\n",
        "replace_wrong_genres(wrong_genres_hip, correct_genre_hip)# Устранение неявных дубликатов"
      ]
    },
    {
      "cell_type": "markdown",
      "metadata": {
        "id": "zQKF16_RG15m"
      },
      "source": [
        "Проверьте, что заменили неправильные названия. Выведем отсортированный список уникальных значений столбца `genre`:"
      ]
    },
    {
      "cell_type": "code",
      "execution_count": 17,
      "metadata": {
        "id": "wvixALnFG15m",
        "colab": {
          "base_uri": "https://localhost:8080/"
        },
        "outputId": "fe3dc989-3bb3-49a3-bf2d-bacea5166f47"
      },
      "outputs": [
        {
          "output_type": "execute_result",
          "data": {
            "text/plain": [
              "array(['acid', 'acoustic', 'action', 'adult', 'africa', 'afrikaans',\n",
              "       'alternative', 'alternativepunk', 'ambient', 'americana',\n",
              "       'animated', 'anime', 'arabesk', 'arabic', 'arena',\n",
              "       'argentinetango', 'art', 'audiobook', 'author', 'avantgarde',\n",
              "       'axé', 'baile', 'balkan', 'beats', 'bigroom', 'black', 'bluegrass',\n",
              "       'blues', 'bollywood', 'bossa', 'brazilian', 'breakbeat', 'breaks',\n",
              "       'broadway', 'cantautori', 'cantopop', 'canzone', 'caribbean',\n",
              "       'caucasian', 'celtic', 'chamber', 'chanson', 'children', 'chill',\n",
              "       'chinese', 'choral', 'christian', 'christmas', 'classical',\n",
              "       'classicmetal', 'club', 'colombian', 'comedy', 'conjazz',\n",
              "       'contemporary', 'country', 'cuban', 'dance', 'dancehall',\n",
              "       'dancepop', 'dark', 'death', 'deep', 'deutschrock', 'deutschspr',\n",
              "       'dirty', 'disco', 'dnb', 'documentary', 'downbeat', 'downtempo',\n",
              "       'drum', 'dub', 'dubstep', 'eastern', 'easy', 'electronic',\n",
              "       'electropop', 'emo', 'entehno', 'epicmetal', 'estrada', 'ethnic',\n",
              "       'eurofolk', 'european', 'experimental', 'extrememetal', 'fado',\n",
              "       'fairytail', 'film', 'fitness', 'flamenco', 'folk', 'folklore',\n",
              "       'folkmetal', 'folkrock', 'folktronica', 'forró', 'frankreich',\n",
              "       'französisch', 'french', 'funk', 'future', 'gangsta', 'garage',\n",
              "       'german', 'ghazal', 'gitarre', 'glitch', 'gospel', 'gothic',\n",
              "       'grime', 'grunge', 'gypsy', 'handsup', \"hard'n'heavy\", 'hardcore',\n",
              "       'hardstyle', 'hardtechno', 'hiphop', 'historisch', 'holiday',\n",
              "       'horror', 'house', 'hymn', 'idm', 'independent', 'indian', 'indie',\n",
              "       'indipop', 'industrial', 'inspirational', 'instrumental',\n",
              "       'international', 'irish', 'jam', 'japanese', 'jazz', 'jewish',\n",
              "       'jpop', 'jungle', 'k-pop', 'karadeniz', 'karaoke', 'kayokyoku',\n",
              "       'korean', 'laiko', 'latin', 'latino', 'leftfield', 'local',\n",
              "       'lounge', 'loungeelectronic', 'lovers', 'malaysian', 'mandopop',\n",
              "       'marschmusik', 'meditative', 'mediterranean', 'melodic', 'metal',\n",
              "       'metalcore', 'mexican', 'middle', 'minimal', 'miscellaneous',\n",
              "       'modern', 'mood', 'mpb', 'muslim', 'native', 'neoklassik', 'neue',\n",
              "       'new', 'newage', 'newwave', 'nu', 'nujazz', 'numetal', 'oceania',\n",
              "       'old', 'opera', 'orchestral', 'other', 'piano', 'podcasts', 'pop',\n",
              "       'popdance', 'popelectronic', 'popeurodance', 'poprussian', 'post',\n",
              "       'posthardcore', 'postrock', 'power', 'progmetal', 'progressive',\n",
              "       'psychedelic', 'punjabi', 'punk', 'quebecois', 'ragga', 'ram',\n",
              "       'rancheras', 'rap', 'rave', 'reggae', 'reggaeton', 'regional',\n",
              "       'relax', 'religious', 'retro', 'rhythm', 'rnb', 'rnr', 'rock',\n",
              "       'rockabilly', 'rockalternative', 'rockindie', 'rockother',\n",
              "       'romance', 'roots', 'ruspop', 'rusrap', 'rusrock', 'russian',\n",
              "       'salsa', 'samba', 'scenic', 'schlager', 'self', 'sertanejo',\n",
              "       'shanson', 'shoegazing', 'showtunes', 'singer', 'ska', 'skarock',\n",
              "       'slow', 'smooth', 'soft', 'soul', 'soulful', 'sound', 'soundtrack',\n",
              "       'southern', 'specialty', 'speech', 'spiritual', 'sport',\n",
              "       'stonerrock', 'surf', 'swing', 'synthpop', 'synthrock',\n",
              "       'sängerportrait', 'tango', 'tanzorchester', 'taraftar', 'tatar',\n",
              "       'tech', 'techno', 'teen', 'thrash', 'top', 'traditional',\n",
              "       'tradjazz', 'trance', 'tribal', 'trip', 'triphop', 'tropical',\n",
              "       'türk', 'türkçe', 'ukrrock', 'unknown', 'urban', 'uzbek',\n",
              "       'variété', 'vi', 'videogame', 'vocal', 'western', 'world',\n",
              "       'worldbeat', 'ïîï', 'электроника'], dtype=object)"
            ]
          },
          "metadata": {},
          "execution_count": 17
        }
      ],
      "source": [
        "df['genre'].sort_values().unique() # Проверка на неявные дубликаты"
      ]
    },
    {
      "cell_type": "markdown",
      "metadata": {
        "id": "jz6a9-7HQUDd"
      },
      "source": [
        "**Выводы**\n",
        "\n",
        "Предобработка обнаружила три проблемы в данных:\n",
        "\n",
        "- нарушения в стиле заголовков,\n",
        "- пропущенные значения,\n",
        "- дубликаты — явные и неявные.\n",
        "\n",
        "Мы исправили заголовки, чтобы упростить работу с таблицей. Без дубликатов исследование станет более точным.\n",
        "\n",
        "Пропущенные значения мы заменили на `'unknown'`. Ещё предстоит увидеть, не повредят ли исследованию пропуски в колонке `genre`.\n",
        "\n",
        "Теперь можно перейти к проверке гипотез. "
      ]
    },
    {
      "cell_type": "markdown",
      "metadata": {
        "id": "WttZHXH0SqKk"
      },
      "source": [
        "## Проверка гипотез"
      ]
    },
    {
      "cell_type": "markdown",
      "metadata": {
        "id": "Im936VVi_Zcu"
      },
      "source": [
        "### Сравнение поведения пользователей двух столиц"
      ]
    },
    {
      "cell_type": "markdown",
      "metadata": {
        "id": "nwt_MuaL_Zcu"
      },
      "source": [
        "Первая гипотеза утверждает, что пользователи по-разному слушают музыку в Москве и Санкт-Петербурге. Проверим это предположение по данным о трёх днях недели — понедельнике, среде и пятнице. Для этого:\n",
        "\n",
        "* Разделим пользователей Москвы и Санкт-Петербурга\n",
        "* Сравним, сколько треков послушала каждая группа пользователей в понедельник, среду и пятницу.\n"
      ]
    },
    {
      "cell_type": "markdown",
      "metadata": {
        "id": "8Dw_YMmT_Zcu"
      },
      "source": [
        "Сначала выполним каждый из расчётов по отдельности. \n",
        "\n",
        "Оценим активность пользователей в каждом городе. Сгруппируем данные по городу и посчитаем прослушивания в каждой группе.\n",
        "\n"
      ]
    },
    {
      "cell_type": "code",
      "execution_count": 18,
      "metadata": {
        "id": "0_Qs96oh_Zcu",
        "colab": {
          "base_uri": "https://localhost:8080/"
        },
        "outputId": "50b0706b-7c59-49cf-8f65-7d0f8eea63f1"
      },
      "outputs": [
        {
          "output_type": "execute_result",
          "data": {
            "text/plain": [
              "city\n",
              "Moscow              42741\n",
              "Saint-Petersburg    18512\n",
              "Name: track, dtype: int64"
            ]
          },
          "metadata": {},
          "execution_count": 18
        }
      ],
      "source": [
        "df_grouped = df.groupby('city')['track'].count()\n",
        "df_grouped# Подсчёт прослушиваний в каждом городе"
      ]
    },
    {
      "cell_type": "markdown",
      "metadata": {
        "id": "dzli3w8o_Zcu"
      },
      "source": [
        "В Москве прослушиваний больше, чем в Петербурге. Из этого не следует, что московские пользователи чаще слушают музыку. Просто самих пользователей в Москве больше.\n",
        "\n",
        "Теперь сгруппируем данные по дню недели и подсчитаем прослушивания в понедельник, среду и пятницу."
      ]
    },
    {
      "cell_type": "code",
      "execution_count": 19,
      "metadata": {
        "id": "uZMKjiJz_Zcu",
        "colab": {
          "base_uri": "https://localhost:8080/"
        },
        "outputId": "3e4eb05b-100c-48d8-8511-fde21d33e638"
      },
      "outputs": [
        {
          "output_type": "execute_result",
          "data": {
            "text/plain": [
              "day\n",
              "Friday       21840\n",
              "Monday       21354\n",
              "Wednesday    18059\n",
              "Name: track, dtype: int64"
            ]
          },
          "metadata": {},
          "execution_count": 19
        }
      ],
      "source": [
        "df_grouped = df.groupby('day')['track'].count()\n",
        "df_grouped # Подсчёт прослушиваний в каждый из трёх дней"
      ]
    },
    {
      "cell_type": "markdown",
      "metadata": {
        "id": "cC2tNrlL_Zcu"
      },
      "source": [
        "В среднем пользователи из двух городов менее активны по средам. Но картина может измениться, если рассмотреть каждый город в отдельности."
      ]
    },
    {
      "cell_type": "markdown",
      "metadata": {
        "id": "POzs8bGa_Zcu"
      },
      "source": [
        "Создадим функцию `number_tracks()`, которая посчитает прослушивания для заданного дня и города. Ей понадобятся два параметра:\n",
        "* день недели,\n",
        "* название города.\n",
        "\n",
        "В функции сохраним в переменную строки исходной таблицы, у которых значение:\n",
        "  * в колонке `day` равно параметру `day`,\n",
        "  * в колонке `city` равно параметру `city`.\n",
        "\n",
        "Для этого применим последовательную фильтрацию с логической индексацией.\n",
        "\n",
        "Затем посчитаем значения в столбце `user_id` получившейся таблицы. Результат сохраним в новую переменную."
      ]
    },
    {
      "cell_type": "code",
      "execution_count": 20,
      "metadata": {
        "id": "Nz3GdQB1_Zcu"
      },
      "outputs": [],
      "source": [
        "def number_tracks(day, city):\n",
        "    track_list = df[(df['day'] == day) & (df['city'] == city)]  # <создание функции number_tracks()>\n",
        "                                        # Объявляется функция с двумя параметрами: day, city.\n",
        "                                        # В переменной track_list сохраняются те строки таблицы df, для которых \n",
        "                                        # значение в столбце 'day' равно параметру day и одновременно значение\n",
        "                                        # в столбце 'city' равно параметру city (используйте последовательную фильтрацию\n",
        "                                        # с помощью логической индексации).\n",
        "    track_list_count = track_list['user_id'].count()\n",
        "    return track_list_count\n",
        "\n",
        "# В переменной track_list_count сохраняется число значений столбца 'user_id',\n",
        "# рассчитанное методом count() для таблицы track_list.\n",
        "# Функция возвращает число - значение track_list_count.\n"
      ]
    },
    {
      "cell_type": "markdown",
      "metadata": {
        "id": "ytf7xFrFJQ2r"
      },
      "source": [
        "Вызовем `number_tracks()` шесть раз, меняя значение параметров — так, чтобы получить данные для каждого города в каждый из трёх дней."
      ]
    },
    {
      "cell_type": "code",
      "execution_count": 21,
      "metadata": {
        "id": "rJcRATNQ_Zcu",
        "colab": {
          "base_uri": "https://localhost:8080/"
        },
        "outputId": "9516c442-5695-4bf2-b81b-bb596d6a1e74"
      },
      "outputs": [
        {
          "output_type": "execute_result",
          "data": {
            "text/plain": [
              "15740"
            ]
          },
          "metadata": {},
          "execution_count": 21
        }
      ],
      "source": [
        "day = 'Monday'\n",
        "city = 'Moscow'\n",
        "number_tracks(day, city) # количество прослушиваний в Москве по понедельникам"
      ]
    },
    {
      "cell_type": "code",
      "execution_count": 22,
      "metadata": {
        "id": "hq_ncZ5T_Zcu",
        "colab": {
          "base_uri": "https://localhost:8080/"
        },
        "outputId": "0dffedef-f3e5-42b4-8d43-9cc00673a29a"
      },
      "outputs": [
        {
          "output_type": "execute_result",
          "data": {
            "text/plain": [
              "5614"
            ]
          },
          "metadata": {},
          "execution_count": 22
        }
      ],
      "source": [
        "day = 'Monday'\n",
        "city = 'Saint-Petersburg'\n",
        "number_tracks(day, city) # количество прослушиваний в Санкт-Петербурге по понедельникам"
      ]
    },
    {
      "cell_type": "code",
      "execution_count": 23,
      "metadata": {
        "id": "_NTy2VPU_Zcu",
        "colab": {
          "base_uri": "https://localhost:8080/"
        },
        "outputId": "0a2f0b82-2885-4c4b-c59b-d9c0ff2e84f6"
      },
      "outputs": [
        {
          "output_type": "execute_result",
          "data": {
            "text/plain": [
              "11056"
            ]
          },
          "metadata": {},
          "execution_count": 23
        }
      ],
      "source": [
        "day = 'Wednesday'\n",
        "city = 'Moscow'\n",
        "number_tracks(day, city)# количество прослушиваний в Москве по средам"
      ]
    },
    {
      "cell_type": "code",
      "execution_count": 24,
      "metadata": {
        "id": "j2y3TAwo_Zcu",
        "colab": {
          "base_uri": "https://localhost:8080/"
        },
        "outputId": "a08b72ca-dac7-4ff2-ec0f-c769f872ccbb"
      },
      "outputs": [
        {
          "output_type": "execute_result",
          "data": {
            "text/plain": [
              "7003"
            ]
          },
          "metadata": {},
          "execution_count": 24
        }
      ],
      "source": [
        "day = 'Wednesday'\n",
        "city = 'Saint-Petersburg'\n",
        "number_tracks(day, city)# количество прослушиваний в Санкт-Петербурге по средам"
      ]
    },
    {
      "cell_type": "code",
      "execution_count": 25,
      "metadata": {
        "id": "vYDw5u_K_Zcu",
        "colab": {
          "base_uri": "https://localhost:8080/"
        },
        "outputId": "753e0eb2-e803-435c-c004-46d83ff0ceb6"
      },
      "outputs": [
        {
          "output_type": "execute_result",
          "data": {
            "text/plain": [
              "15945"
            ]
          },
          "metadata": {},
          "execution_count": 25
        }
      ],
      "source": [
        "day = 'Friday'\n",
        "city = 'Moscow'\n",
        "number_tracks(day, city)# количество прослушиваний в Москве по пятницам"
      ]
    },
    {
      "cell_type": "code",
      "execution_count": 26,
      "metadata": {
        "id": "8_yzFtW3_Zcu",
        "colab": {
          "base_uri": "https://localhost:8080/"
        },
        "outputId": "eed77f9d-f93b-4796-a8ea-a2950f3dc2da"
      },
      "outputs": [
        {
          "output_type": "execute_result",
          "data": {
            "text/plain": [
              "5895"
            ]
          },
          "metadata": {},
          "execution_count": 26
        }
      ],
      "source": [
        "day = 'Friday'\n",
        "city = 'Saint-Petersburg'\n",
        "number_tracks(day, city)# количество прослушиваний в Санкт-Петербурге по пятницам"
      ]
    },
    {
      "cell_type": "markdown",
      "metadata": {
        "id": "7QXffbO-_Zcu"
      },
      "source": [
        "Создадим c помощью конструктора `pd.DataFrame` таблицу, где\n",
        "* названия колонок — `['city', 'monday', 'wednesday', 'friday']`;\n",
        "* данные — результаты, которые вы получили с помощью `number_tracks`."
      ]
    },
    {
      "cell_type": "code",
      "execution_count": 27,
      "metadata": {
        "id": "APAcLpOr_Zcu",
        "colab": {
          "base_uri": "https://localhost:8080/",
          "height": 112
        },
        "outputId": "6d066406-dec2-469d-fc95-a7fc6a7c71b7"
      },
      "outputs": [
        {
          "output_type": "execute_result",
          "data": {
            "text/plain": [
              "               city  monday  wednesday  friday\n",
              "0            Moscow   15740      11056   15945\n",
              "1  Saint-Petersburg    5614       7003    5895"
            ],
            "text/html": [
              "\n",
              "  <div id=\"df-500e6a09-b38c-48fa-9bff-34666bf8fec2\">\n",
              "    <div class=\"colab-df-container\">\n",
              "      <div>\n",
              "<style scoped>\n",
              "    .dataframe tbody tr th:only-of-type {\n",
              "        vertical-align: middle;\n",
              "    }\n",
              "\n",
              "    .dataframe tbody tr th {\n",
              "        vertical-align: top;\n",
              "    }\n",
              "\n",
              "    .dataframe thead th {\n",
              "        text-align: right;\n",
              "    }\n",
              "</style>\n",
              "<table border=\"1\" class=\"dataframe\">\n",
              "  <thead>\n",
              "    <tr style=\"text-align: right;\">\n",
              "      <th></th>\n",
              "      <th>city</th>\n",
              "      <th>monday</th>\n",
              "      <th>wednesday</th>\n",
              "      <th>friday</th>\n",
              "    </tr>\n",
              "  </thead>\n",
              "  <tbody>\n",
              "    <tr>\n",
              "      <th>0</th>\n",
              "      <td>Moscow</td>\n",
              "      <td>15740</td>\n",
              "      <td>11056</td>\n",
              "      <td>15945</td>\n",
              "    </tr>\n",
              "    <tr>\n",
              "      <th>1</th>\n",
              "      <td>Saint-Petersburg</td>\n",
              "      <td>5614</td>\n",
              "      <td>7003</td>\n",
              "      <td>5895</td>\n",
              "    </tr>\n",
              "  </tbody>\n",
              "</table>\n",
              "</div>\n",
              "      <button class=\"colab-df-convert\" onclick=\"convertToInteractive('df-500e6a09-b38c-48fa-9bff-34666bf8fec2')\"\n",
              "              title=\"Convert this dataframe to an interactive table.\"\n",
              "              style=\"display:none;\">\n",
              "        \n",
              "  <svg xmlns=\"http://www.w3.org/2000/svg\" height=\"24px\"viewBox=\"0 0 24 24\"\n",
              "       width=\"24px\">\n",
              "    <path d=\"M0 0h24v24H0V0z\" fill=\"none\"/>\n",
              "    <path d=\"M18.56 5.44l.94 2.06.94-2.06 2.06-.94-2.06-.94-.94-2.06-.94 2.06-2.06.94zm-11 1L8.5 8.5l.94-2.06 2.06-.94-2.06-.94L8.5 2.5l-.94 2.06-2.06.94zm10 10l.94 2.06.94-2.06 2.06-.94-2.06-.94-.94-2.06-.94 2.06-2.06.94z\"/><path d=\"M17.41 7.96l-1.37-1.37c-.4-.4-.92-.59-1.43-.59-.52 0-1.04.2-1.43.59L10.3 9.45l-7.72 7.72c-.78.78-.78 2.05 0 2.83L4 21.41c.39.39.9.59 1.41.59.51 0 1.02-.2 1.41-.59l7.78-7.78 2.81-2.81c.8-.78.8-2.07 0-2.86zM5.41 20L4 18.59l7.72-7.72 1.47 1.35L5.41 20z\"/>\n",
              "  </svg>\n",
              "      </button>\n",
              "      \n",
              "  <style>\n",
              "    .colab-df-container {\n",
              "      display:flex;\n",
              "      flex-wrap:wrap;\n",
              "      gap: 12px;\n",
              "    }\n",
              "\n",
              "    .colab-df-convert {\n",
              "      background-color: #E8F0FE;\n",
              "      border: none;\n",
              "      border-radius: 50%;\n",
              "      cursor: pointer;\n",
              "      display: none;\n",
              "      fill: #1967D2;\n",
              "      height: 32px;\n",
              "      padding: 0 0 0 0;\n",
              "      width: 32px;\n",
              "    }\n",
              "\n",
              "    .colab-df-convert:hover {\n",
              "      background-color: #E2EBFA;\n",
              "      box-shadow: 0px 1px 2px rgba(60, 64, 67, 0.3), 0px 1px 3px 1px rgba(60, 64, 67, 0.15);\n",
              "      fill: #174EA6;\n",
              "    }\n",
              "\n",
              "    [theme=dark] .colab-df-convert {\n",
              "      background-color: #3B4455;\n",
              "      fill: #D2E3FC;\n",
              "    }\n",
              "\n",
              "    [theme=dark] .colab-df-convert:hover {\n",
              "      background-color: #434B5C;\n",
              "      box-shadow: 0px 1px 3px 1px rgba(0, 0, 0, 0.15);\n",
              "      filter: drop-shadow(0px 1px 2px rgba(0, 0, 0, 0.3));\n",
              "      fill: #FFFFFF;\n",
              "    }\n",
              "  </style>\n",
              "\n",
              "      <script>\n",
              "        const buttonEl =\n",
              "          document.querySelector('#df-500e6a09-b38c-48fa-9bff-34666bf8fec2 button.colab-df-convert');\n",
              "        buttonEl.style.display =\n",
              "          google.colab.kernel.accessAllowed ? 'block' : 'none';\n",
              "\n",
              "        async function convertToInteractive(key) {\n",
              "          const element = document.querySelector('#df-500e6a09-b38c-48fa-9bff-34666bf8fec2');\n",
              "          const dataTable =\n",
              "            await google.colab.kernel.invokeFunction('convertToInteractive',\n",
              "                                                     [key], {});\n",
              "          if (!dataTable) return;\n",
              "\n",
              "          const docLinkHtml = 'Like what you see? Visit the ' +\n",
              "            '<a target=\"_blank\" href=https://colab.research.google.com/notebooks/data_table.ipynb>data table notebook</a>'\n",
              "            + ' to learn more about interactive tables.';\n",
              "          element.innerHTML = '';\n",
              "          dataTable['output_type'] = 'display_data';\n",
              "          await google.colab.output.renderOutput(dataTable, element);\n",
              "          const docLink = document.createElement('div');\n",
              "          docLink.innerHTML = docLinkHtml;\n",
              "          element.appendChild(docLink);\n",
              "        }\n",
              "      </script>\n",
              "    </div>\n",
              "  </div>\n",
              "  "
            ]
          },
          "metadata": {},
          "execution_count": 27
        }
      ],
      "source": [
        "columns = ['city', 'monday', 'wednesday', 'friday']\n",
        "data = [['Moscow', 15740, 11056, 15945],\n",
        "        ['Saint-Petersburg', 5614, 7003, 5895]]\n",
        "tracks = pd.DataFrame(data = data, columns = columns)\n",
        "tracks # Таблица с результатами"
      ]
    },
    {
      "cell_type": "markdown",
      "metadata": {
        "id": "-EgPIHYu_Zcu"
      },
      "source": [
        "**Выводы**\n",
        "\n",
        "Данные показывают разницу поведения пользователей:\n",
        "\n",
        "- В Москве пик прослушиваний приходится на понедельник и пятницу, а в среду заметен спад.\n",
        "- В Петербурге, наоборот, больше слушают музыку по средам. Активность в понедельник и пятницу здесь почти в равной мере уступает среде.\n",
        "\n",
        "Значит, данные говорят в пользу первой гипотезы."
      ]
    },
    {
      "cell_type": "markdown",
      "metadata": {
        "id": "atZAxtq4_Zcu"
      },
      "source": [
        "### Музыка в начале и в конце недели"
      ]
    },
    {
      "cell_type": "markdown",
      "metadata": {
        "id": "eXrQqXFH_Zcu"
      },
      "source": [
        "Согласно второй гипотезе, утром в понедельник в Москве преобладают одни жанры, а в Петербурге — другие. Так же и вечером пятницы преобладают разные жанры — в зависимости от города."
      ]
    },
    {
      "cell_type": "markdown",
      "metadata": {
        "id": "S8UcW6Hw_Zcu"
      },
      "source": [
        "Сохраним таблицы с данными в две переменные:\n",
        "* по Москве — в `moscow_general`;\n",
        "* по Санкт-Петербургу — в `spb_general`."
      ]
    },
    {
      "cell_type": "code",
      "execution_count": 28,
      "metadata": {
        "id": "qeaFfM_P_Zcu",
        "colab": {
          "base_uri": "https://localhost:8080/",
          "height": 424
        },
        "outputId": "6f4f4564-8224-4d43-e007-12cc6a8a43ea"
      },
      "outputs": [
        {
          "output_type": "execute_result",
          "data": {
            "text/plain": [
              "        user_id                          track                   artist  \\\n",
              "1      55204538    Delayed Because of Accident         Andreas Rönnberg   \n",
              "4      E2DC1FAE                    Soul People               Space Echo   \n",
              "6      4CB90AA5                           True             Roman Messer   \n",
              "7      F03E1C1F               Feeling This Way          Polina Griffith   \n",
              "8      8FA1D3BE       И вновь продолжается бой                  unknown   \n",
              "...         ...                            ...                      ...   \n",
              "61247  83A474E7  I Worship Only What You Bleed  The Black Dahlia Murder   \n",
              "61248  729CBB09                        My Name                   McLean   \n",
              "61250  C5E3A0D5                      Jalopiina                  unknown   \n",
              "61251  321D0506                  Freight Train            Chas McDevitt   \n",
              "61252  3A64EF84      Tell Me Sweet Little Lies             Monica Lopez   \n",
              "\n",
              "              genre    city      time        day  \n",
              "1              rock  Moscow  14:07:09     Friday  \n",
              "4             dance  Moscow  08:34:34     Monday  \n",
              "6             dance  Moscow  13:00:07  Wednesday  \n",
              "7             dance  Moscow  20:47:49  Wednesday  \n",
              "8            ruspop  Moscow  09:17:40     Friday  \n",
              "...             ...     ...       ...        ...  \n",
              "61247  extrememetal  Moscow  21:07:12     Monday  \n",
              "61248           rnb  Moscow  13:32:28  Wednesday  \n",
              "61250    industrial  Moscow  20:09:26     Friday  \n",
              "61251          rock  Moscow  21:43:59     Friday  \n",
              "61252       country  Moscow  21:59:46     Friday  \n",
              "\n",
              "[42741 rows x 7 columns]"
            ],
            "text/html": [
              "\n",
              "  <div id=\"df-40ddd258-10ec-42a3-a7dd-1e68b144299b\">\n",
              "    <div class=\"colab-df-container\">\n",
              "      <div>\n",
              "<style scoped>\n",
              "    .dataframe tbody tr th:only-of-type {\n",
              "        vertical-align: middle;\n",
              "    }\n",
              "\n",
              "    .dataframe tbody tr th {\n",
              "        vertical-align: top;\n",
              "    }\n",
              "\n",
              "    .dataframe thead th {\n",
              "        text-align: right;\n",
              "    }\n",
              "</style>\n",
              "<table border=\"1\" class=\"dataframe\">\n",
              "  <thead>\n",
              "    <tr style=\"text-align: right;\">\n",
              "      <th></th>\n",
              "      <th>user_id</th>\n",
              "      <th>track</th>\n",
              "      <th>artist</th>\n",
              "      <th>genre</th>\n",
              "      <th>city</th>\n",
              "      <th>time</th>\n",
              "      <th>day</th>\n",
              "    </tr>\n",
              "  </thead>\n",
              "  <tbody>\n",
              "    <tr>\n",
              "      <th>1</th>\n",
              "      <td>55204538</td>\n",
              "      <td>Delayed Because of Accident</td>\n",
              "      <td>Andreas Rönnberg</td>\n",
              "      <td>rock</td>\n",
              "      <td>Moscow</td>\n",
              "      <td>14:07:09</td>\n",
              "      <td>Friday</td>\n",
              "    </tr>\n",
              "    <tr>\n",
              "      <th>4</th>\n",
              "      <td>E2DC1FAE</td>\n",
              "      <td>Soul People</td>\n",
              "      <td>Space Echo</td>\n",
              "      <td>dance</td>\n",
              "      <td>Moscow</td>\n",
              "      <td>08:34:34</td>\n",
              "      <td>Monday</td>\n",
              "    </tr>\n",
              "    <tr>\n",
              "      <th>6</th>\n",
              "      <td>4CB90AA5</td>\n",
              "      <td>True</td>\n",
              "      <td>Roman Messer</td>\n",
              "      <td>dance</td>\n",
              "      <td>Moscow</td>\n",
              "      <td>13:00:07</td>\n",
              "      <td>Wednesday</td>\n",
              "    </tr>\n",
              "    <tr>\n",
              "      <th>7</th>\n",
              "      <td>F03E1C1F</td>\n",
              "      <td>Feeling This Way</td>\n",
              "      <td>Polina Griffith</td>\n",
              "      <td>dance</td>\n",
              "      <td>Moscow</td>\n",
              "      <td>20:47:49</td>\n",
              "      <td>Wednesday</td>\n",
              "    </tr>\n",
              "    <tr>\n",
              "      <th>8</th>\n",
              "      <td>8FA1D3BE</td>\n",
              "      <td>И вновь продолжается бой</td>\n",
              "      <td>unknown</td>\n",
              "      <td>ruspop</td>\n",
              "      <td>Moscow</td>\n",
              "      <td>09:17:40</td>\n",
              "      <td>Friday</td>\n",
              "    </tr>\n",
              "    <tr>\n",
              "      <th>...</th>\n",
              "      <td>...</td>\n",
              "      <td>...</td>\n",
              "      <td>...</td>\n",
              "      <td>...</td>\n",
              "      <td>...</td>\n",
              "      <td>...</td>\n",
              "      <td>...</td>\n",
              "    </tr>\n",
              "    <tr>\n",
              "      <th>61247</th>\n",
              "      <td>83A474E7</td>\n",
              "      <td>I Worship Only What You Bleed</td>\n",
              "      <td>The Black Dahlia Murder</td>\n",
              "      <td>extrememetal</td>\n",
              "      <td>Moscow</td>\n",
              "      <td>21:07:12</td>\n",
              "      <td>Monday</td>\n",
              "    </tr>\n",
              "    <tr>\n",
              "      <th>61248</th>\n",
              "      <td>729CBB09</td>\n",
              "      <td>My Name</td>\n",
              "      <td>McLean</td>\n",
              "      <td>rnb</td>\n",
              "      <td>Moscow</td>\n",
              "      <td>13:32:28</td>\n",
              "      <td>Wednesday</td>\n",
              "    </tr>\n",
              "    <tr>\n",
              "      <th>61250</th>\n",
              "      <td>C5E3A0D5</td>\n",
              "      <td>Jalopiina</td>\n",
              "      <td>unknown</td>\n",
              "      <td>industrial</td>\n",
              "      <td>Moscow</td>\n",
              "      <td>20:09:26</td>\n",
              "      <td>Friday</td>\n",
              "    </tr>\n",
              "    <tr>\n",
              "      <th>61251</th>\n",
              "      <td>321D0506</td>\n",
              "      <td>Freight Train</td>\n",
              "      <td>Chas McDevitt</td>\n",
              "      <td>rock</td>\n",
              "      <td>Moscow</td>\n",
              "      <td>21:43:59</td>\n",
              "      <td>Friday</td>\n",
              "    </tr>\n",
              "    <tr>\n",
              "      <th>61252</th>\n",
              "      <td>3A64EF84</td>\n",
              "      <td>Tell Me Sweet Little Lies</td>\n",
              "      <td>Monica Lopez</td>\n",
              "      <td>country</td>\n",
              "      <td>Moscow</td>\n",
              "      <td>21:59:46</td>\n",
              "      <td>Friday</td>\n",
              "    </tr>\n",
              "  </tbody>\n",
              "</table>\n",
              "<p>42741 rows × 7 columns</p>\n",
              "</div>\n",
              "      <button class=\"colab-df-convert\" onclick=\"convertToInteractive('df-40ddd258-10ec-42a3-a7dd-1e68b144299b')\"\n",
              "              title=\"Convert this dataframe to an interactive table.\"\n",
              "              style=\"display:none;\">\n",
              "        \n",
              "  <svg xmlns=\"http://www.w3.org/2000/svg\" height=\"24px\"viewBox=\"0 0 24 24\"\n",
              "       width=\"24px\">\n",
              "    <path d=\"M0 0h24v24H0V0z\" fill=\"none\"/>\n",
              "    <path d=\"M18.56 5.44l.94 2.06.94-2.06 2.06-.94-2.06-.94-.94-2.06-.94 2.06-2.06.94zm-11 1L8.5 8.5l.94-2.06 2.06-.94-2.06-.94L8.5 2.5l-.94 2.06-2.06.94zm10 10l.94 2.06.94-2.06 2.06-.94-2.06-.94-.94-2.06-.94 2.06-2.06.94z\"/><path d=\"M17.41 7.96l-1.37-1.37c-.4-.4-.92-.59-1.43-.59-.52 0-1.04.2-1.43.59L10.3 9.45l-7.72 7.72c-.78.78-.78 2.05 0 2.83L4 21.41c.39.39.9.59 1.41.59.51 0 1.02-.2 1.41-.59l7.78-7.78 2.81-2.81c.8-.78.8-2.07 0-2.86zM5.41 20L4 18.59l7.72-7.72 1.47 1.35L5.41 20z\"/>\n",
              "  </svg>\n",
              "      </button>\n",
              "      \n",
              "  <style>\n",
              "    .colab-df-container {\n",
              "      display:flex;\n",
              "      flex-wrap:wrap;\n",
              "      gap: 12px;\n",
              "    }\n",
              "\n",
              "    .colab-df-convert {\n",
              "      background-color: #E8F0FE;\n",
              "      border: none;\n",
              "      border-radius: 50%;\n",
              "      cursor: pointer;\n",
              "      display: none;\n",
              "      fill: #1967D2;\n",
              "      height: 32px;\n",
              "      padding: 0 0 0 0;\n",
              "      width: 32px;\n",
              "    }\n",
              "\n",
              "    .colab-df-convert:hover {\n",
              "      background-color: #E2EBFA;\n",
              "      box-shadow: 0px 1px 2px rgba(60, 64, 67, 0.3), 0px 1px 3px 1px rgba(60, 64, 67, 0.15);\n",
              "      fill: #174EA6;\n",
              "    }\n",
              "\n",
              "    [theme=dark] .colab-df-convert {\n",
              "      background-color: #3B4455;\n",
              "      fill: #D2E3FC;\n",
              "    }\n",
              "\n",
              "    [theme=dark] .colab-df-convert:hover {\n",
              "      background-color: #434B5C;\n",
              "      box-shadow: 0px 1px 3px 1px rgba(0, 0, 0, 0.15);\n",
              "      filter: drop-shadow(0px 1px 2px rgba(0, 0, 0, 0.3));\n",
              "      fill: #FFFFFF;\n",
              "    }\n",
              "  </style>\n",
              "\n",
              "      <script>\n",
              "        const buttonEl =\n",
              "          document.querySelector('#df-40ddd258-10ec-42a3-a7dd-1e68b144299b button.colab-df-convert');\n",
              "        buttonEl.style.display =\n",
              "          google.colab.kernel.accessAllowed ? 'block' : 'none';\n",
              "\n",
              "        async function convertToInteractive(key) {\n",
              "          const element = document.querySelector('#df-40ddd258-10ec-42a3-a7dd-1e68b144299b');\n",
              "          const dataTable =\n",
              "            await google.colab.kernel.invokeFunction('convertToInteractive',\n",
              "                                                     [key], {});\n",
              "          if (!dataTable) return;\n",
              "\n",
              "          const docLinkHtml = 'Like what you see? Visit the ' +\n",
              "            '<a target=\"_blank\" href=https://colab.research.google.com/notebooks/data_table.ipynb>data table notebook</a>'\n",
              "            + ' to learn more about interactive tables.';\n",
              "          element.innerHTML = '';\n",
              "          dataTable['output_type'] = 'display_data';\n",
              "          await google.colab.output.renderOutput(dataTable, element);\n",
              "          const docLink = document.createElement('div');\n",
              "          docLink.innerHTML = docLinkHtml;\n",
              "          element.appendChild(docLink);\n",
              "        }\n",
              "      </script>\n",
              "    </div>\n",
              "  </div>\n",
              "  "
            ]
          },
          "metadata": {},
          "execution_count": 28
        }
      ],
      "source": [
        "moscow_general = df[df['city'] == 'Moscow'] # получение таблицы moscow_general из тех строк таблицы df, \n",
        "moscow_general # для которых значение в столбце 'city' равно 'Moscow'\n"
      ]
    },
    {
      "cell_type": "code",
      "execution_count": 29,
      "metadata": {
        "id": "ORaVRKto_Zcu",
        "colab": {
          "base_uri": "https://localhost:8080/",
          "height": 424
        },
        "outputId": "aa5c1c56-a833-4bd8-c995-a9853108ba6a"
      },
      "outputs": [
        {
          "output_type": "execute_result",
          "data": {
            "text/plain": [
              "        user_id                              track              artist  \\\n",
              "0      FFB692EC                  Kamigata To Boots    The Mass Missile   \n",
              "2        20EC38                  Funiculì funiculà         Mario Lanza   \n",
              "3      A3DD03C9              Dragons in the Sunset          Fire + Ice   \n",
              "5      842029A1                          Преданная           IMPERVTOR   \n",
              "9      E772D5C0                          Pessimist             unknown   \n",
              "...         ...                                ...                 ...   \n",
              "61239  D94F810B        Theme from the Walking Dead  Proyecto Halloween   \n",
              "61240  BC8EC5CF       Red Lips: Gta (Rover Rework)               Rover   \n",
              "61241  29E04611                       Bre Petrunko       Perunika Trio   \n",
              "61242  1B91C621             (Hello) Cloud Mountain     sleepmakeswaves   \n",
              "61249  D08D4A55  Maybe One Day (feat. Black Spade)         Blu & Exile   \n",
              "\n",
              "            genre              city      time        day  \n",
              "0            rock  Saint-Petersburg  20:28:33  Wednesday  \n",
              "2             pop  Saint-Petersburg  20:58:07  Wednesday  \n",
              "3            folk  Saint-Petersburg  08:37:09     Monday  \n",
              "5          rusrap  Saint-Petersburg  13:09:41     Friday  \n",
              "9           dance  Saint-Petersburg  21:20:49  Wednesday  \n",
              "...           ...               ...       ...        ...  \n",
              "61239        film  Saint-Petersburg  21:14:40     Monday  \n",
              "61240  electronic  Saint-Petersburg  21:06:50     Monday  \n",
              "61241       world  Saint-Petersburg  13:56:00     Monday  \n",
              "61242    postrock  Saint-Petersburg  09:22:13     Monday  \n",
              "61249      hiphop  Saint-Petersburg  10:00:00     Monday  \n",
              "\n",
              "[18512 rows x 7 columns]"
            ],
            "text/html": [
              "\n",
              "  <div id=\"df-48e06823-23a7-45d0-a259-e5d86013e368\">\n",
              "    <div class=\"colab-df-container\">\n",
              "      <div>\n",
              "<style scoped>\n",
              "    .dataframe tbody tr th:only-of-type {\n",
              "        vertical-align: middle;\n",
              "    }\n",
              "\n",
              "    .dataframe tbody tr th {\n",
              "        vertical-align: top;\n",
              "    }\n",
              "\n",
              "    .dataframe thead th {\n",
              "        text-align: right;\n",
              "    }\n",
              "</style>\n",
              "<table border=\"1\" class=\"dataframe\">\n",
              "  <thead>\n",
              "    <tr style=\"text-align: right;\">\n",
              "      <th></th>\n",
              "      <th>user_id</th>\n",
              "      <th>track</th>\n",
              "      <th>artist</th>\n",
              "      <th>genre</th>\n",
              "      <th>city</th>\n",
              "      <th>time</th>\n",
              "      <th>day</th>\n",
              "    </tr>\n",
              "  </thead>\n",
              "  <tbody>\n",
              "    <tr>\n",
              "      <th>0</th>\n",
              "      <td>FFB692EC</td>\n",
              "      <td>Kamigata To Boots</td>\n",
              "      <td>The Mass Missile</td>\n",
              "      <td>rock</td>\n",
              "      <td>Saint-Petersburg</td>\n",
              "      <td>20:28:33</td>\n",
              "      <td>Wednesday</td>\n",
              "    </tr>\n",
              "    <tr>\n",
              "      <th>2</th>\n",
              "      <td>20EC38</td>\n",
              "      <td>Funiculì funiculà</td>\n",
              "      <td>Mario Lanza</td>\n",
              "      <td>pop</td>\n",
              "      <td>Saint-Petersburg</td>\n",
              "      <td>20:58:07</td>\n",
              "      <td>Wednesday</td>\n",
              "    </tr>\n",
              "    <tr>\n",
              "      <th>3</th>\n",
              "      <td>A3DD03C9</td>\n",
              "      <td>Dragons in the Sunset</td>\n",
              "      <td>Fire + Ice</td>\n",
              "      <td>folk</td>\n",
              "      <td>Saint-Petersburg</td>\n",
              "      <td>08:37:09</td>\n",
              "      <td>Monday</td>\n",
              "    </tr>\n",
              "    <tr>\n",
              "      <th>5</th>\n",
              "      <td>842029A1</td>\n",
              "      <td>Преданная</td>\n",
              "      <td>IMPERVTOR</td>\n",
              "      <td>rusrap</td>\n",
              "      <td>Saint-Petersburg</td>\n",
              "      <td>13:09:41</td>\n",
              "      <td>Friday</td>\n",
              "    </tr>\n",
              "    <tr>\n",
              "      <th>9</th>\n",
              "      <td>E772D5C0</td>\n",
              "      <td>Pessimist</td>\n",
              "      <td>unknown</td>\n",
              "      <td>dance</td>\n",
              "      <td>Saint-Petersburg</td>\n",
              "      <td>21:20:49</td>\n",
              "      <td>Wednesday</td>\n",
              "    </tr>\n",
              "    <tr>\n",
              "      <th>...</th>\n",
              "      <td>...</td>\n",
              "      <td>...</td>\n",
              "      <td>...</td>\n",
              "      <td>...</td>\n",
              "      <td>...</td>\n",
              "      <td>...</td>\n",
              "      <td>...</td>\n",
              "    </tr>\n",
              "    <tr>\n",
              "      <th>61239</th>\n",
              "      <td>D94F810B</td>\n",
              "      <td>Theme from the Walking Dead</td>\n",
              "      <td>Proyecto Halloween</td>\n",
              "      <td>film</td>\n",
              "      <td>Saint-Petersburg</td>\n",
              "      <td>21:14:40</td>\n",
              "      <td>Monday</td>\n",
              "    </tr>\n",
              "    <tr>\n",
              "      <th>61240</th>\n",
              "      <td>BC8EC5CF</td>\n",
              "      <td>Red Lips: Gta (Rover Rework)</td>\n",
              "      <td>Rover</td>\n",
              "      <td>electronic</td>\n",
              "      <td>Saint-Petersburg</td>\n",
              "      <td>21:06:50</td>\n",
              "      <td>Monday</td>\n",
              "    </tr>\n",
              "    <tr>\n",
              "      <th>61241</th>\n",
              "      <td>29E04611</td>\n",
              "      <td>Bre Petrunko</td>\n",
              "      <td>Perunika Trio</td>\n",
              "      <td>world</td>\n",
              "      <td>Saint-Petersburg</td>\n",
              "      <td>13:56:00</td>\n",
              "      <td>Monday</td>\n",
              "    </tr>\n",
              "    <tr>\n",
              "      <th>61242</th>\n",
              "      <td>1B91C621</td>\n",
              "      <td>(Hello) Cloud Mountain</td>\n",
              "      <td>sleepmakeswaves</td>\n",
              "      <td>postrock</td>\n",
              "      <td>Saint-Petersburg</td>\n",
              "      <td>09:22:13</td>\n",
              "      <td>Monday</td>\n",
              "    </tr>\n",
              "    <tr>\n",
              "      <th>61249</th>\n",
              "      <td>D08D4A55</td>\n",
              "      <td>Maybe One Day (feat. Black Spade)</td>\n",
              "      <td>Blu &amp; Exile</td>\n",
              "      <td>hiphop</td>\n",
              "      <td>Saint-Petersburg</td>\n",
              "      <td>10:00:00</td>\n",
              "      <td>Monday</td>\n",
              "    </tr>\n",
              "  </tbody>\n",
              "</table>\n",
              "<p>18512 rows × 7 columns</p>\n",
              "</div>\n",
              "      <button class=\"colab-df-convert\" onclick=\"convertToInteractive('df-48e06823-23a7-45d0-a259-e5d86013e368')\"\n",
              "              title=\"Convert this dataframe to an interactive table.\"\n",
              "              style=\"display:none;\">\n",
              "        \n",
              "  <svg xmlns=\"http://www.w3.org/2000/svg\" height=\"24px\"viewBox=\"0 0 24 24\"\n",
              "       width=\"24px\">\n",
              "    <path d=\"M0 0h24v24H0V0z\" fill=\"none\"/>\n",
              "    <path d=\"M18.56 5.44l.94 2.06.94-2.06 2.06-.94-2.06-.94-.94-2.06-.94 2.06-2.06.94zm-11 1L8.5 8.5l.94-2.06 2.06-.94-2.06-.94L8.5 2.5l-.94 2.06-2.06.94zm10 10l.94 2.06.94-2.06 2.06-.94-2.06-.94-.94-2.06-.94 2.06-2.06.94z\"/><path d=\"M17.41 7.96l-1.37-1.37c-.4-.4-.92-.59-1.43-.59-.52 0-1.04.2-1.43.59L10.3 9.45l-7.72 7.72c-.78.78-.78 2.05 0 2.83L4 21.41c.39.39.9.59 1.41.59.51 0 1.02-.2 1.41-.59l7.78-7.78 2.81-2.81c.8-.78.8-2.07 0-2.86zM5.41 20L4 18.59l7.72-7.72 1.47 1.35L5.41 20z\"/>\n",
              "  </svg>\n",
              "      </button>\n",
              "      \n",
              "  <style>\n",
              "    .colab-df-container {\n",
              "      display:flex;\n",
              "      flex-wrap:wrap;\n",
              "      gap: 12px;\n",
              "    }\n",
              "\n",
              "    .colab-df-convert {\n",
              "      background-color: #E8F0FE;\n",
              "      border: none;\n",
              "      border-radius: 50%;\n",
              "      cursor: pointer;\n",
              "      display: none;\n",
              "      fill: #1967D2;\n",
              "      height: 32px;\n",
              "      padding: 0 0 0 0;\n",
              "      width: 32px;\n",
              "    }\n",
              "\n",
              "    .colab-df-convert:hover {\n",
              "      background-color: #E2EBFA;\n",
              "      box-shadow: 0px 1px 2px rgba(60, 64, 67, 0.3), 0px 1px 3px 1px rgba(60, 64, 67, 0.15);\n",
              "      fill: #174EA6;\n",
              "    }\n",
              "\n",
              "    [theme=dark] .colab-df-convert {\n",
              "      background-color: #3B4455;\n",
              "      fill: #D2E3FC;\n",
              "    }\n",
              "\n",
              "    [theme=dark] .colab-df-convert:hover {\n",
              "      background-color: #434B5C;\n",
              "      box-shadow: 0px 1px 3px 1px rgba(0, 0, 0, 0.15);\n",
              "      filter: drop-shadow(0px 1px 2px rgba(0, 0, 0, 0.3));\n",
              "      fill: #FFFFFF;\n",
              "    }\n",
              "  </style>\n",
              "\n",
              "      <script>\n",
              "        const buttonEl =\n",
              "          document.querySelector('#df-48e06823-23a7-45d0-a259-e5d86013e368 button.colab-df-convert');\n",
              "        buttonEl.style.display =\n",
              "          google.colab.kernel.accessAllowed ? 'block' : 'none';\n",
              "\n",
              "        async function convertToInteractive(key) {\n",
              "          const element = document.querySelector('#df-48e06823-23a7-45d0-a259-e5d86013e368');\n",
              "          const dataTable =\n",
              "            await google.colab.kernel.invokeFunction('convertToInteractive',\n",
              "                                                     [key], {});\n",
              "          if (!dataTable) return;\n",
              "\n",
              "          const docLinkHtml = 'Like what you see? Visit the ' +\n",
              "            '<a target=\"_blank\" href=https://colab.research.google.com/notebooks/data_table.ipynb>data table notebook</a>'\n",
              "            + ' to learn more about interactive tables.';\n",
              "          element.innerHTML = '';\n",
              "          dataTable['output_type'] = 'display_data';\n",
              "          await google.colab.output.renderOutput(dataTable, element);\n",
              "          const docLink = document.createElement('div');\n",
              "          docLink.innerHTML = docLinkHtml;\n",
              "          element.appendChild(docLink);\n",
              "        }\n",
              "      </script>\n",
              "    </div>\n",
              "  </div>\n",
              "  "
            ]
          },
          "metadata": {},
          "execution_count": 29
        }
      ],
      "source": [
        "spb_general = df[df['city'] == 'Saint-Petersburg'] # получение таблицы spb_general из тех строк таблицы df,\n",
        "# для которых значение в столбце 'city' равно 'Saint-Petersburg'\n",
        "spb_general"
      ]
    },
    {
      "cell_type": "markdown",
      "metadata": {
        "id": "MEJV-CX2_Zcu"
      },
      "source": [
        "Создадим функцию `genre_weekday()` с четырьмя параметрами:\n",
        "* таблица (датафрейм) с данными,\n",
        "* день недели,\n",
        "* начальная временная метка в формате 'hh:mm', \n",
        "* последняя временная метка в формате 'hh:mm'.\n",
        "\n",
        "Функция должна вернуть информацию о топ-10 жанров тех треков, которые прослушивали в указанный день, в промежутке между двумя отметками времени."
      ]
    },
    {
      "cell_type": "code",
      "execution_count": 41,
      "metadata": {
        "id": "laJT9BYl_Zcu"
      },
      "outputs": [],
      "source": [
        "# Объявление функции genre_weekday() с параметрами table, day, time1, time2,\n",
        "# которая возвращает информацию о самых популярных жанрах в указанный день в заданное время\n",
        "def genre_weekday (table, day, time1, time2):\n",
        "    genre_df = table[(table['day'] == day) & (table['time'] > time1) &(table['time'] < time2)]\n",
        "    genre_df_count = genre_df.groupby('genre')['day'].count()\n",
        "    genre_df_sorted = genre_df_count.sort_values(ascending=False)\n",
        "    return genre_df_sorted.head(10)\n",
        "    \n"
      ]
    },
    {
      "cell_type": "markdown",
      "metadata": {
        "id": "la2s2_PF_Zcu"
      },
      "source": [
        "Cравним результаты функции `genre_weekday()` для Москвы и Санкт-Петербурга в понедельник утром (с 7:00 до 11:00) и в пятницу вечером (с 17:00 до 23:00):"
      ]
    },
    {
      "cell_type": "code",
      "execution_count": 31,
      "metadata": {
        "id": "yz7itPUQ_Zcu",
        "colab": {
          "base_uri": "https://localhost:8080/"
        },
        "outputId": "ac873b75-33fc-47f2-ee48-16816b96ff57"
      },
      "outputs": [
        {
          "output_type": "execute_result",
          "data": {
            "text/plain": [
              "genre\n",
              "pop            781\n",
              "dance          549\n",
              "electronic     480\n",
              "rock           474\n",
              "hiphop         286\n",
              "ruspop         186\n",
              "world          181\n",
              "rusrap         175\n",
              "alternative    164\n",
              "unknown        161\n",
              "Name: day, dtype: int64"
            ]
          },
          "metadata": {},
          "execution_count": 31
        }
      ],
      "source": [
        "genre_weekday (moscow_general, 'Monday', '07:00', '11:00') # вызов функции для утра понедельника в Москве"
      ]
    },
    {
      "cell_type": "code",
      "execution_count": 32,
      "metadata": {
        "id": "kwUcHPdy_Zcu",
        "colab": {
          "base_uri": "https://localhost:8080/"
        },
        "outputId": "c91931b5-a46f-4b37-9f96-628e15a05b2d"
      },
      "outputs": [
        {
          "output_type": "execute_result",
          "data": {
            "text/plain": [
              "genre\n",
              "pop            218\n",
              "dance          182\n",
              "rock           162\n",
              "electronic     147\n",
              "hiphop          80\n",
              "ruspop          64\n",
              "alternative     58\n",
              "rusrap          55\n",
              "jazz            44\n",
              "classical       40\n",
              "Name: day, dtype: int64"
            ]
          },
          "metadata": {},
          "execution_count": 32
        }
      ],
      "source": [
        "genre_weekday (spb_general, 'Monday', '07:00', '11:00') # вызов функции для утра понедельника в Петербурге"
      ]
    },
    {
      "cell_type": "code",
      "execution_count": 33,
      "metadata": {
        "id": "EzXVRE1o_Zcu",
        "colab": {
          "base_uri": "https://localhost:8080/"
        },
        "outputId": "2dd4ff6d-97ff-4cbf-a970-4bcfacb971c0"
      },
      "outputs": [
        {
          "output_type": "execute_result",
          "data": {
            "text/plain": [
              "genre\n",
              "pop            713\n",
              "rock           517\n",
              "dance          495\n",
              "electronic     482\n",
              "hiphop         273\n",
              "world          208\n",
              "ruspop         170\n",
              "alternative    163\n",
              "classical      163\n",
              "rusrap         142\n",
              "Name: day, dtype: int64"
            ]
          },
          "metadata": {},
          "execution_count": 33
        }
      ],
      "source": [
        "genre_weekday (moscow_general, 'Friday', '17:00', '23:00') # вызов функции для вечера пятницы в Москве"
      ]
    },
    {
      "cell_type": "code",
      "execution_count": 34,
      "metadata": {
        "id": "JZaEKu5v_Zcu",
        "colab": {
          "base_uri": "https://localhost:8080/"
        },
        "outputId": "b4a6adca-ad4e-4202-a35c-7d1a8a18b32a"
      },
      "outputs": [
        {
          "output_type": "execute_result",
          "data": {
            "text/plain": [
              "genre\n",
              "pop            256\n",
              "electronic     216\n",
              "rock           216\n",
              "dance          210\n",
              "hiphop          97\n",
              "alternative     63\n",
              "jazz            61\n",
              "classical       60\n",
              "rusrap          59\n",
              "world           54\n",
              "Name: day, dtype: int64"
            ]
          },
          "metadata": {},
          "execution_count": 34
        }
      ],
      "source": [
        "genre_weekday (spb_general, 'Friday', '17:00', '23:00') # вызов функции для вечера пятницы в Петербурге"
      ]
    },
    {
      "cell_type": "markdown",
      "metadata": {
        "id": "wrCe4MNX_Zcu"
      },
      "source": [
        "**Выводы**\n",
        "\n",
        "Если сравнить топ-10 жанров в понедельник утром, можно сделать такие выводы:\n",
        "\n",
        "1. В Москве и Петербурге слушают похожую музыку. Единственное отличие — в московский рейтинг вошёл жанр “world”, а в петербургский — джаз и классика.\n",
        "\n",
        "2. В Москве пропущенных значений оказалось так много, что значение `'unknown'` заняло десятое место среди самых популярных жанров. Значит, пропущенные значения занимают существенную долю в данных и угрожают достоверности исследования.\n",
        "\n",
        "Вечер пятницы не меняет эту картину. Некоторые жанры поднимаются немного выше, другие спускаются, но в целом топ-10 остаётся тем же самым.\n",
        "\n",
        "Таким образом, вторая гипотеза подтвердилась лишь частично:\n",
        "* Пользователи слушают похожую музыку в начале недели и в конце.\n",
        "* Разница между Москвой и Петербургом не слишком выражена. В Москве чаще слушают русскую популярную музыку, в Петербурге — джаз.\n",
        "\n",
        "Однако пропуски в данных ставят под сомнение этот результат. В Москве их так много, что рейтинг топ-10 мог бы выглядеть иначе, если бы не утерянные  данные о жанрах."
      ]
    },
    {
      "cell_type": "markdown",
      "metadata": {
        "id": "JolODAqr_Zcu"
      },
      "source": [
        "### Жанровые предпочтения в Москве и Петербурге\n",
        "\n",
        "Гипотеза: Петербург — столица рэпа, музыку этого жанра там слушают чаще, чем в Москве.  А Москва — город контрастов, в котором, тем не менее, преобладает поп-музыка."
      ]
    },
    {
      "cell_type": "markdown",
      "metadata": {
        "id": "DlegSvaT_Zcu"
      },
      "source": [
        "Сгруппируем таблицу `moscow_general` по жанру и посчитаем прослушивания треков каждого жанра методом `count()`. Затем отсортируем результат в порядке убывания и сохраним его в таблице `moscow_genres`."
      ]
    },
    {
      "cell_type": "code",
      "execution_count": 35,
      "metadata": {
        "id": "r19lIPke_Zcu"
      },
      "outputs": [],
      "source": [
        "moscow_genres = moscow_general.groupby('genre')['day'].count().sort_values(ascending=False) "
      ]
    },
    {
      "cell_type": "markdown",
      "metadata": {
        "id": "6kMuomxTiIr8"
      },
      "source": [
        "Выведем на экран первые десять строк `moscow_genres`:"
      ]
    },
    {
      "cell_type": "code",
      "execution_count": 36,
      "metadata": {
        "id": "WhCSooF8_Zcv",
        "colab": {
          "base_uri": "https://localhost:8080/"
        },
        "outputId": "780e84c5-ca46-4ff0-dc0d-2c55b97facf3"
      },
      "outputs": [
        {
          "output_type": "execute_result",
          "data": {
            "text/plain": [
              "genre\n",
              "pop            5892\n",
              "dance          4435\n",
              "rock           3965\n",
              "electronic     3786\n",
              "hiphop         2096\n",
              "classical      1616\n",
              "world          1432\n",
              "alternative    1379\n",
              "ruspop         1372\n",
              "rusrap         1161\n",
              "Name: day, dtype: int64"
            ]
          },
          "metadata": {},
          "execution_count": 36
        }
      ],
      "source": [
        "moscow_genres.head(10) # просмотр первых 10 строк moscow_genres"
      ]
    },
    {
      "cell_type": "markdown",
      "metadata": {
        "id": "cnPG2vnN_Zcv"
      },
      "source": [
        "Теперь повторим то же и для Петербурга.\n",
        "\n",
        "Сгруппируем таблицу `spb_general` по жанру. Посчитаем прослушивания треков каждого жанра. Результат отсортируем в порядке убывания и сохраним в таблице `spb_genres`:\n"
      ]
    },
    {
      "cell_type": "code",
      "execution_count": 37,
      "metadata": {
        "id": "gluLIpE7_Zcv"
      },
      "outputs": [],
      "source": [
        "spb_genres = spb_general.groupby('genre')['day'].count().sort_values(ascending=False) "
      ]
    },
    {
      "cell_type": "markdown",
      "metadata": {
        "id": "5Doha_ODgyQ8"
      },
      "source": [
        "Выведем на экран первые десять строк `spb_genres`:"
      ]
    },
    {
      "cell_type": "code",
      "execution_count": 38,
      "metadata": {
        "id": "uaGJHjVU_Zcv",
        "colab": {
          "base_uri": "https://localhost:8080/"
        },
        "outputId": "748187b0-dca8-467d-c3ce-5ea4cdc85482"
      },
      "outputs": [
        {
          "output_type": "execute_result",
          "data": {
            "text/plain": [
              "genre\n",
              "pop            2431\n",
              "dance          1932\n",
              "rock           1879\n",
              "electronic     1736\n",
              "hiphop          960\n",
              "alternative     649\n",
              "classical       646\n",
              "rusrap          564\n",
              "ruspop          538\n",
              "world           515\n",
              "Name: day, dtype: int64"
            ]
          },
          "metadata": {},
          "execution_count": 38
        }
      ],
      "source": [
        "spb_genres.head(10)# просмотр первых 10 строк spb_genres"
      ]
    },
    {
      "cell_type": "markdown",
      "metadata": {
        "id": "RY51YJYu_Zcv"
      },
      "source": [
        "**Выводы**"
      ]
    },
    {
      "cell_type": "markdown",
      "metadata": {
        "id": "nVhnJEm__Zcv"
      },
      "source": [
        "Гипотеза частично подтвердилась:\n",
        "* Поп-музыка — самый популярный жанр в Москве, как и предполагала гипотеза. Более того, в топ-10 жанров встречается близкий жанр — русская популярная музыка.\n",
        "* Вопреки ожиданиям, рэп одинаково популярен в Москве и Петербурге. \n"
      ]
    },
    {
      "cell_type": "markdown",
      "metadata": {
        "id": "ykKQ0N65_Zcv"
      },
      "source": [
        "## Итоги исследования"
      ]
    },
    {
      "cell_type": "markdown",
      "metadata": {
        "id": "tjUwbHb3_Zcv"
      },
      "source": [
        "Целью исследования музыкальных предпочтений жителей Москвы и Санкт-Петеробурга была проверка трех гипотез:\n",
        "1. Активность пользователей зависит от дня недели. Причём в Москве и Петербурге это проявляется по-разному.\n",
        "2. В понедельник утром в Москве преобладают одни жанры, а в Петербурге — другие. Так же и вечером пятницы преобладают разные жанры — в зависимости от города.\n",
        "3. Москва и Петербург предпочитают разные жанры музыки. В Москве чаще слушают поп-музыку, в Петербурге — русский рэп.\n",
        "\n",
        "Анализ данных позволил нам сделать следующие выводы:\n",
        "\n",
        "1. День недели по-разному влияет на активность пользователей в Москве и Петербурге. \n",
        "\n",
        "Первая гипотеза полностью подтвердилась.\n",
        "\n",
        "2. Музыкальные предпочтения не сильно меняются в течение недели — будь то Москва или Петербург. Небольшие различия заметны в начале недели, по понедельникам:\n",
        "* в Москве слушают музыку жанра “world”,\n",
        "* в Петербурге — джаз и классику.\n",
        "\n",
        "Таким образом, вторая гипотеза подтвердилась лишь отчасти. Этот результат мог оказаться иным, если бы не пропуски в данных.\n",
        "\n",
        "3. Во вкусах пользователей Москвы и Петербурга больше общего чем различий. Вопреки ожиданиям, предпочтения жанров в Петербурге напоминают московские.\n",
        "\n",
        "Третья гипотеза не подтвердилась. Если различия в предпочтениях и существуют, на основной массе пользователей они незаметны.\n"
      ]
    }
  ],
  "metadata": {
    "ExecuteTimeLog": [
      {
        "duration": 48,
        "start_time": "2022-03-23T11:03:27.209Z"
      },
      {
        "duration": 382,
        "start_time": "2022-03-23T11:03:36.241Z"
      },
      {
        "duration": 3,
        "start_time": "2022-03-23T11:03:55.803Z"
      },
      {
        "duration": 7,
        "start_time": "2022-03-23T11:04:20.473Z"
      },
      {
        "duration": 7,
        "start_time": "2022-03-23T11:04:36.033Z"
      },
      {
        "duration": 7,
        "start_time": "2022-03-23T11:05:20.371Z"
      },
      {
        "duration": 2,
        "start_time": "2022-03-23T11:05:30.512Z"
      },
      {
        "duration": 7,
        "start_time": "2022-03-23T11:05:54.080Z"
      },
      {
        "duration": 3,
        "start_time": "2022-03-23T11:06:50.395Z"
      },
      {
        "duration": 301,
        "start_time": "2022-03-23T11:06:58.524Z"
      },
      {
        "duration": 154,
        "start_time": "2022-03-23T11:07:02.014Z"
      },
      {
        "duration": 16,
        "start_time": "2022-03-23T11:07:05.963Z"
      },
      {
        "duration": 29,
        "start_time": "2022-03-23T11:07:28.900Z"
      },
      {
        "duration": 4,
        "start_time": "2022-03-23T11:11:40.431Z"
      },
      {
        "duration": 52,
        "start_time": "2022-03-23T12:41:28.154Z"
      },
      {
        "duration": 378,
        "start_time": "2022-03-23T12:41:38.147Z"
      },
      {
        "duration": 163,
        "start_time": "2022-03-23T12:41:42.323Z"
      },
      {
        "duration": 19,
        "start_time": "2022-03-23T12:41:45.323Z"
      },
      {
        "duration": 31,
        "start_time": "2022-03-23T12:41:48.474Z"
      },
      {
        "duration": 5,
        "start_time": "2022-03-23T12:41:52.227Z"
      },
      {
        "duration": 13,
        "start_time": "2022-03-23T12:41:55.393Z"
      },
      {
        "duration": 13,
        "start_time": "2022-03-23T12:41:57.982Z"
      },
      {
        "duration": 13,
        "start_time": "2022-03-23T12:42:00.316Z"
      },
      {
        "duration": 8,
        "start_time": "2022-03-23T12:42:10.047Z"
      },
      {
        "duration": 4,
        "start_time": "2022-03-23T12:42:13.571Z"
      },
      {
        "duration": 10,
        "start_time": "2022-03-23T12:42:16.241Z"
      },
      {
        "duration": 4,
        "start_time": "2022-03-23T12:42:41.397Z"
      },
      {
        "duration": 32,
        "start_time": "2022-03-23T12:43:15.151Z"
      },
      {
        "duration": 6,
        "start_time": "2022-03-23T12:43:32.285Z"
      },
      {
        "duration": 5,
        "start_time": "2022-03-23T12:44:37.328Z"
      },
      {
        "duration": 5,
        "start_time": "2022-03-23T12:44:50.651Z"
      },
      {
        "duration": 4,
        "start_time": "2022-03-23T12:46:01.137Z"
      },
      {
        "duration": 5,
        "start_time": "2022-03-23T12:46:13.540Z"
      },
      {
        "duration": 5,
        "start_time": "2022-03-23T12:49:24.141Z"
      },
      {
        "duration": 33,
        "start_time": "2022-03-23T12:57:20.033Z"
      },
      {
        "duration": 10,
        "start_time": "2022-03-23T12:57:56.134Z"
      },
      {
        "duration": 11,
        "start_time": "2022-03-23T12:57:58.369Z"
      },
      {
        "duration": 8,
        "start_time": "2022-03-23T12:58:15.174Z"
      },
      {
        "duration": 3,
        "start_time": "2022-03-23T12:58:24.487Z"
      },
      {
        "duration": 172,
        "start_time": "2022-03-23T12:58:32.534Z"
      },
      {
        "duration": 16,
        "start_time": "2022-03-23T12:58:32.723Z"
      },
      {
        "duration": 3,
        "start_time": "2022-03-23T12:59:20.864Z"
      },
      {
        "duration": 175,
        "start_time": "2022-03-23T12:59:22.452Z"
      },
      {
        "duration": 11,
        "start_time": "2022-03-23T12:59:23.851Z"
      },
      {
        "duration": 30,
        "start_time": "2022-03-23T12:59:26.258Z"
      },
      {
        "duration": 5,
        "start_time": "2022-03-23T12:59:31.920Z"
      },
      {
        "duration": 10,
        "start_time": "2022-03-23T12:59:34.566Z"
      },
      {
        "duration": 6,
        "start_time": "2022-03-23T12:59:36.989Z"
      },
      {
        "duration": 27,
        "start_time": "2022-03-23T12:59:39.684Z"
      },
      {
        "duration": 8,
        "start_time": "2022-03-23T12:59:58.578Z"
      },
      {
        "duration": 0,
        "start_time": "2022-03-23T13:00:16.768Z"
      },
      {
        "duration": 5,
        "start_time": "2022-03-23T13:00:23.186Z"
      },
      {
        "duration": 27,
        "start_time": "2022-03-23T13:00:24.701Z"
      },
      {
        "duration": 2729,
        "start_time": "2022-03-23T13:00:27.010Z"
      },
      {
        "duration": 28,
        "start_time": "2022-03-23T13:00:45.960Z"
      },
      {
        "duration": 26,
        "start_time": "2022-03-23T13:01:04.830Z"
      },
      {
        "duration": 42,
        "start_time": "2022-03-23T13:01:24.077Z"
      },
      {
        "duration": 8,
        "start_time": "2022-03-23T13:01:34.009Z"
      },
      {
        "duration": 0,
        "start_time": "2022-03-23T13:01:49.279Z"
      },
      {
        "duration": 2991,
        "start_time": "2022-03-23T13:01:52.713Z"
      },
      {
        "duration": 0,
        "start_time": "2022-03-23T13:01:59.454Z"
      },
      {
        "duration": 43,
        "start_time": "2022-03-23T13:04:24.207Z"
      },
      {
        "duration": 28,
        "start_time": "2022-03-23T13:05:24.791Z"
      },
      {
        "duration": 21,
        "start_time": "2022-03-23T13:05:48.367Z"
      },
      {
        "duration": 27,
        "start_time": "2022-03-23T13:06:16.786Z"
      },
      {
        "duration": 116,
        "start_time": "2022-03-23T13:06:46.826Z"
      },
      {
        "duration": 70,
        "start_time": "2022-03-23T13:07:06.798Z"
      },
      {
        "duration": 70,
        "start_time": "2022-03-23T13:07:13.824Z"
      },
      {
        "duration": 161,
        "start_time": "2022-03-23T13:08:37.536Z"
      },
      {
        "duration": 9,
        "start_time": "2022-03-23T13:08:56.453Z"
      },
      {
        "duration": 8,
        "start_time": "2022-03-23T13:09:08.256Z"
      },
      {
        "duration": 78,
        "start_time": "2022-03-23T13:09:28.742Z"
      },
      {
        "duration": 82,
        "start_time": "2022-03-23T13:09:39.327Z"
      },
      {
        "duration": 68,
        "start_time": "2022-03-23T13:09:49.716Z"
      },
      {
        "duration": 76,
        "start_time": "2022-03-23T13:10:07.428Z"
      },
      {
        "duration": 67,
        "start_time": "2022-03-23T13:10:09.610Z"
      },
      {
        "duration": 64,
        "start_time": "2022-03-23T13:10:16.811Z"
      },
      {
        "duration": 64,
        "start_time": "2022-03-23T13:10:19.690Z"
      },
      {
        "duration": 81,
        "start_time": "2022-03-23T13:10:21.250Z"
      },
      {
        "duration": 67,
        "start_time": "2022-03-23T13:10:22.799Z"
      },
      {
        "duration": 67,
        "start_time": "2022-03-23T13:10:24.451Z"
      },
      {
        "duration": 69,
        "start_time": "2022-03-23T13:10:26.456Z"
      },
      {
        "duration": 63,
        "start_time": "2022-03-23T13:10:31.529Z"
      },
      {
        "duration": 74,
        "start_time": "2022-03-23T13:10:33.602Z"
      },
      {
        "duration": 65,
        "start_time": "2022-03-23T13:10:35.743Z"
      },
      {
        "duration": 64,
        "start_time": "2022-03-23T13:10:41.710Z"
      },
      {
        "duration": 62,
        "start_time": "2022-03-23T13:10:46.643Z"
      },
      {
        "duration": 62,
        "start_time": "2022-03-23T13:11:25.964Z"
      },
      {
        "duration": 76,
        "start_time": "2022-03-23T13:11:30.134Z"
      },
      {
        "duration": 63,
        "start_time": "2022-03-23T13:11:38.626Z"
      },
      {
        "duration": 3,
        "start_time": "2022-03-23T13:12:05.522Z"
      },
      {
        "duration": 166,
        "start_time": "2022-03-23T13:12:06.863Z"
      },
      {
        "duration": 11,
        "start_time": "2022-03-23T13:12:08.361Z"
      },
      {
        "duration": 32,
        "start_time": "2022-03-23T13:12:11.238Z"
      },
      {
        "duration": 4,
        "start_time": "2022-03-23T13:12:14.404Z"
      },
      {
        "duration": 10,
        "start_time": "2022-03-23T13:12:16.504Z"
      },
      {
        "duration": 5,
        "start_time": "2022-03-23T13:12:18.268Z"
      },
      {
        "duration": 28,
        "start_time": "2022-03-23T13:12:20.845Z"
      },
      {
        "duration": 21,
        "start_time": "2022-03-23T13:12:23.353Z"
      },
      {
        "duration": 30,
        "start_time": "2022-03-23T13:12:25.388Z"
      },
      {
        "duration": 74,
        "start_time": "2022-03-23T13:12:28.738Z"
      },
      {
        "duration": 82,
        "start_time": "2022-03-23T13:12:31.887Z"
      },
      {
        "duration": 69,
        "start_time": "2022-03-23T13:12:33.334Z"
      },
      {
        "duration": 147,
        "start_time": "2022-03-23T13:13:34.762Z"
      },
      {
        "duration": 6,
        "start_time": "2022-03-23T13:13:41.068Z"
      },
      {
        "duration": 9,
        "start_time": "2022-03-23T13:15:15.290Z"
      },
      {
        "duration": 9,
        "start_time": "2022-03-23T13:15:21.276Z"
      },
      {
        "duration": 7,
        "start_time": "2022-03-23T13:16:13.860Z"
      },
      {
        "duration": 43,
        "start_time": "2022-03-23T13:16:18.105Z"
      },
      {
        "duration": 3,
        "start_time": "2022-03-23T13:20:34.374Z"
      },
      {
        "duration": 2416,
        "start_time": "2022-03-23T13:20:36.637Z"
      },
      {
        "duration": 46,
        "start_time": "2022-03-23T13:20:39.167Z"
      },
      {
        "duration": 3,
        "start_time": "2022-03-23T13:23:15.488Z"
      },
      {
        "duration": 10,
        "start_time": "2022-03-23T13:23:17.157Z"
      },
      {
        "duration": 10,
        "start_time": "2022-03-23T13:23:20.016Z"
      },
      {
        "duration": 3,
        "start_time": "2022-03-23T13:23:57.774Z"
      },
      {
        "duration": 10,
        "start_time": "2022-03-23T13:24:00.209Z"
      },
      {
        "duration": 44,
        "start_time": "2022-03-23T13:24:02.607Z"
      },
      {
        "duration": 5,
        "start_time": "2022-03-23T13:27:27.280Z"
      },
      {
        "duration": 14,
        "start_time": "2022-03-23T13:27:57.703Z"
      },
      {
        "duration": 14,
        "start_time": "2022-03-23T13:29:29.883Z"
      },
      {
        "duration": 9,
        "start_time": "2022-03-23T13:29:48.349Z"
      },
      {
        "duration": 3,
        "start_time": "2022-03-23T13:30:08.828Z"
      },
      {
        "duration": 225,
        "start_time": "2022-03-23T13:30:10.159Z"
      },
      {
        "duration": 12,
        "start_time": "2022-03-23T13:30:11.488Z"
      },
      {
        "duration": 34,
        "start_time": "2022-03-23T13:30:14.675Z"
      },
      {
        "duration": 4,
        "start_time": "2022-03-23T13:30:17.926Z"
      },
      {
        "duration": 11,
        "start_time": "2022-03-23T13:30:20.186Z"
      },
      {
        "duration": 4,
        "start_time": "2022-03-23T13:30:21.460Z"
      },
      {
        "duration": 28,
        "start_time": "2022-03-23T13:30:23.713Z"
      },
      {
        "duration": 26,
        "start_time": "2022-03-23T13:30:25.699Z"
      },
      {
        "duration": 27,
        "start_time": "2022-03-23T13:30:27.927Z"
      },
      {
        "duration": 78,
        "start_time": "2022-03-23T13:30:29.827Z"
      },
      {
        "duration": 82,
        "start_time": "2022-03-23T13:30:31.257Z"
      },
      {
        "duration": 75,
        "start_time": "2022-03-23T13:30:32.509Z"
      },
      {
        "duration": 46,
        "start_time": "2022-03-23T13:30:35.225Z"
      },
      {
        "duration": 10,
        "start_time": "2022-03-23T13:30:38.468Z"
      },
      {
        "duration": 10,
        "start_time": "2022-03-23T13:30:39.861Z"
      },
      {
        "duration": 45,
        "start_time": "2022-03-23T13:30:42.375Z"
      },
      {
        "duration": 15,
        "start_time": "2022-03-23T13:30:46.507Z"
      },
      {
        "duration": 187,
        "start_time": "2022-03-23T13:31:44.871Z"
      },
      {
        "duration": 207,
        "start_time": "2022-03-23T13:31:54.371Z"
      },
      {
        "duration": 12,
        "start_time": "2022-03-23T13:32:30.367Z"
      },
      {
        "duration": 4,
        "start_time": "2022-03-23T13:33:08.775Z"
      },
      {
        "duration": 175,
        "start_time": "2022-03-23T13:33:10.052Z"
      },
      {
        "duration": 11,
        "start_time": "2022-03-23T13:33:11.281Z"
      },
      {
        "duration": 31,
        "start_time": "2022-03-23T13:33:13.623Z"
      },
      {
        "duration": 5,
        "start_time": "2022-03-23T13:33:16.849Z"
      },
      {
        "duration": 10,
        "start_time": "2022-03-23T13:34:06.864Z"
      },
      {
        "duration": 137,
        "start_time": "2022-03-23T13:35:54.801Z"
      },
      {
        "duration": 135,
        "start_time": "2022-03-23T13:36:13.888Z"
      },
      {
        "duration": 10,
        "start_time": "2022-03-23T13:36:37.528Z"
      },
      {
        "duration": 15,
        "start_time": "2022-03-23T13:40:08.017Z"
      },
      {
        "duration": 14,
        "start_time": "2022-03-23T13:40:25.038Z"
      },
      {
        "duration": 5,
        "start_time": "2022-03-23T13:40:32.877Z"
      },
      {
        "duration": 13,
        "start_time": "2022-03-23T13:41:18.679Z"
      },
      {
        "duration": 13,
        "start_time": "2022-03-23T13:41:47.943Z"
      },
      {
        "duration": 15,
        "start_time": "2022-03-23T13:41:58.490Z"
      },
      {
        "duration": 14,
        "start_time": "2022-03-23T13:42:34.488Z"
      },
      {
        "duration": 6,
        "start_time": "2022-03-23T13:42:46.055Z"
      },
      {
        "duration": 13,
        "start_time": "2022-03-23T13:42:51.581Z"
      },
      {
        "duration": 22,
        "start_time": "2022-03-23T13:43:20.794Z"
      },
      {
        "duration": 40,
        "start_time": "2022-03-23T13:43:39.436Z"
      },
      {
        "duration": 134,
        "start_time": "2022-03-23T13:43:58.258Z"
      },
      {
        "duration": 44,
        "start_time": "2022-03-23T13:44:11.069Z"
      },
      {
        "duration": 177,
        "start_time": "2022-03-23T14:23:07.759Z"
      },
      {
        "duration": 16,
        "start_time": "2022-03-23T14:23:14.683Z"
      },
      {
        "duration": 18,
        "start_time": "2022-03-23T14:24:39.574Z"
      },
      {
        "duration": 4,
        "start_time": "2022-03-23T14:53:52.882Z"
      },
      {
        "duration": 23,
        "start_time": "2022-03-23T14:55:55.732Z"
      },
      {
        "duration": 22,
        "start_time": "2022-03-23T14:57:27.638Z"
      },
      {
        "duration": 4,
        "start_time": "2022-03-23T14:58:47.823Z"
      },
      {
        "duration": 17,
        "start_time": "2022-03-23T14:58:50.130Z"
      },
      {
        "duration": 4,
        "start_time": "2022-03-23T14:59:01.072Z"
      },
      {
        "duration": 15,
        "start_time": "2022-03-23T15:09:54.792Z"
      },
      {
        "duration": 16,
        "start_time": "2022-03-23T15:11:14.281Z"
      },
      {
        "duration": 16,
        "start_time": "2022-03-23T15:52:42.196Z"
      },
      {
        "duration": 4,
        "start_time": "2022-03-23T16:09:15.825Z"
      },
      {
        "duration": 15,
        "start_time": "2022-03-23T16:09:19.540Z"
      },
      {
        "duration": 4,
        "start_time": "2022-03-23T16:09:36.552Z"
      },
      {
        "duration": 13,
        "start_time": "2022-03-23T19:28:27.922Z"
      },
      {
        "duration": 6,
        "start_time": "2022-03-23T19:28:44.110Z"
      },
      {
        "duration": 78,
        "start_time": "2022-03-23T19:28:49.291Z"
      },
      {
        "duration": 571,
        "start_time": "2022-03-23T19:29:07.012Z"
      },
      {
        "duration": 232,
        "start_time": "2022-03-23T19:29:07.586Z"
      },
      {
        "duration": 43,
        "start_time": "2022-03-23T19:29:07.820Z"
      },
      {
        "duration": 43,
        "start_time": "2022-03-23T19:29:07.866Z"
      },
      {
        "duration": 6,
        "start_time": "2022-03-23T19:29:07.911Z"
      },
      {
        "duration": 43,
        "start_time": "2022-03-23T19:29:07.919Z"
      },
      {
        "duration": 8,
        "start_time": "2022-03-23T19:29:07.965Z"
      },
      {
        "duration": 87,
        "start_time": "2022-03-23T19:29:07.976Z"
      },
      {
        "duration": 34,
        "start_time": "2022-03-23T19:29:08.066Z"
      },
      {
        "duration": 56,
        "start_time": "2022-03-23T19:29:08.106Z"
      },
      {
        "duration": 122,
        "start_time": "2022-03-23T19:29:08.166Z"
      },
      {
        "duration": 134,
        "start_time": "2022-03-23T19:29:08.290Z"
      },
      {
        "duration": 107,
        "start_time": "2022-03-23T19:29:08.427Z"
      },
      {
        "duration": 94,
        "start_time": "2022-03-23T19:29:08.537Z"
      },
      {
        "duration": 14,
        "start_time": "2022-03-23T19:29:08.633Z"
      },
      {
        "duration": 28,
        "start_time": "2022-03-23T19:29:08.655Z"
      },
      {
        "duration": 73,
        "start_time": "2022-03-23T19:29:08.686Z"
      },
      {
        "duration": 27,
        "start_time": "2022-03-23T19:29:08.762Z"
      },
      {
        "duration": 19,
        "start_time": "2022-03-23T19:29:08.792Z"
      },
      {
        "duration": 30,
        "start_time": "2022-03-23T19:29:08.814Z"
      },
      {
        "duration": 33,
        "start_time": "2022-03-23T19:29:08.848Z"
      },
      {
        "duration": 23,
        "start_time": "2022-03-23T19:29:08.884Z"
      },
      {
        "duration": 42,
        "start_time": "2022-03-23T19:29:08.910Z"
      },
      {
        "duration": 30,
        "start_time": "2022-03-23T19:29:08.957Z"
      },
      {
        "duration": 52,
        "start_time": "2022-03-23T19:29:08.990Z"
      },
      {
        "duration": 28,
        "start_time": "2022-03-23T19:29:09.046Z"
      },
      {
        "duration": 207,
        "start_time": "2022-03-23T19:29:09.084Z"
      },
      {
        "duration": 0,
        "start_time": "2022-03-23T19:29:09.294Z"
      },
      {
        "duration": 0,
        "start_time": "2022-03-23T19:29:09.297Z"
      },
      {
        "duration": 0,
        "start_time": "2022-03-23T19:29:09.299Z"
      },
      {
        "duration": 0,
        "start_time": "2022-03-23T19:29:09.301Z"
      },
      {
        "duration": 0,
        "start_time": "2022-03-23T19:29:09.303Z"
      },
      {
        "duration": 0,
        "start_time": "2022-03-23T19:29:09.305Z"
      },
      {
        "duration": 0,
        "start_time": "2022-03-23T19:29:09.307Z"
      },
      {
        "duration": 0,
        "start_time": "2022-03-23T19:29:09.309Z"
      },
      {
        "duration": 0,
        "start_time": "2022-03-23T19:29:09.311Z"
      },
      {
        "duration": 0,
        "start_time": "2022-03-23T19:29:09.313Z"
      },
      {
        "duration": 0,
        "start_time": "2022-03-23T19:29:09.315Z"
      },
      {
        "duration": 6,
        "start_time": "2022-03-23T19:34:16.007Z"
      },
      {
        "duration": 17,
        "start_time": "2022-03-23T19:34:36.270Z"
      },
      {
        "duration": 32,
        "start_time": "2022-03-23T19:37:22.908Z"
      },
      {
        "duration": 31,
        "start_time": "2022-03-23T19:38:22.977Z"
      },
      {
        "duration": 6,
        "start_time": "2022-03-23T19:49:26.486Z"
      },
      {
        "duration": 28,
        "start_time": "2022-03-23T19:51:31.107Z"
      },
      {
        "duration": 17,
        "start_time": "2022-03-23T19:52:49.892Z"
      },
      {
        "duration": 26,
        "start_time": "2022-03-23T19:53:00.890Z"
      },
      {
        "duration": 17,
        "start_time": "2022-03-23T19:53:04.841Z"
      },
      {
        "duration": 102,
        "start_time": "2022-03-23T19:56:31.072Z"
      },
      {
        "duration": 52,
        "start_time": "2022-03-23T19:57:07.534Z"
      },
      {
        "duration": 208,
        "start_time": "2022-03-23T19:57:18.136Z"
      },
      {
        "duration": 16,
        "start_time": "2022-03-23T19:57:46.199Z"
      },
      {
        "duration": 13,
        "start_time": "2022-03-23T19:58:26.023Z"
      },
      {
        "duration": 7,
        "start_time": "2022-03-23T19:58:31.143Z"
      },
      {
        "duration": 9,
        "start_time": "2022-03-23T19:59:15.689Z"
      },
      {
        "duration": 10,
        "start_time": "2022-03-23T19:59:17.683Z"
      },
      {
        "duration": 8,
        "start_time": "2022-03-23T19:59:22.824Z"
      },
      {
        "duration": 71,
        "start_time": "2022-04-03T19:47:19.089Z"
      },
      {
        "duration": 520,
        "start_time": "2022-04-03T19:47:23.471Z"
      },
      {
        "duration": 554,
        "start_time": "2022-04-03T19:47:34.064Z"
      },
      {
        "duration": 222,
        "start_time": "2022-04-03T19:47:34.621Z"
      },
      {
        "duration": 43,
        "start_time": "2022-04-03T19:47:34.847Z"
      },
      {
        "duration": 42,
        "start_time": "2022-04-03T19:47:34.893Z"
      },
      {
        "duration": 6,
        "start_time": "2022-04-03T19:47:34.937Z"
      },
      {
        "duration": 38,
        "start_time": "2022-04-03T19:47:34.945Z"
      },
      {
        "duration": 11,
        "start_time": "2022-04-03T19:47:34.986Z"
      },
      {
        "duration": 38,
        "start_time": "2022-04-03T19:47:34.999Z"
      },
      {
        "duration": 55,
        "start_time": "2022-04-03T19:47:35.040Z"
      },
      {
        "duration": 34,
        "start_time": "2022-04-03T19:47:35.099Z"
      },
      {
        "duration": 129,
        "start_time": "2022-04-03T19:47:35.135Z"
      },
      {
        "duration": 160,
        "start_time": "2022-04-03T19:47:35.267Z"
      },
      {
        "duration": 108,
        "start_time": "2022-04-03T19:47:35.429Z"
      },
      {
        "duration": 67,
        "start_time": "2022-04-03T19:47:35.539Z"
      },
      {
        "duration": 4,
        "start_time": "2022-04-03T19:47:35.608Z"
      },
      {
        "duration": 21,
        "start_time": "2022-04-03T19:47:35.613Z"
      },
      {
        "duration": 81,
        "start_time": "2022-04-03T19:47:35.636Z"
      },
      {
        "duration": 18,
        "start_time": "2022-04-03T19:47:35.720Z"
      },
      {
        "duration": 47,
        "start_time": "2022-04-03T19:47:35.741Z"
      },
      {
        "duration": 6,
        "start_time": "2022-04-03T19:47:35.790Z"
      },
      {
        "duration": 28,
        "start_time": "2022-04-03T19:47:35.798Z"
      },
      {
        "duration": 20,
        "start_time": "2022-04-03T19:47:35.828Z"
      },
      {
        "duration": 25,
        "start_time": "2022-04-03T19:47:35.875Z"
      },
      {
        "duration": 23,
        "start_time": "2022-04-03T19:47:35.902Z"
      },
      {
        "duration": 49,
        "start_time": "2022-04-03T19:47:35.928Z"
      },
      {
        "duration": 23,
        "start_time": "2022-04-03T19:47:35.983Z"
      },
      {
        "duration": 14,
        "start_time": "2022-04-03T19:47:36.009Z"
      },
      {
        "duration": 63,
        "start_time": "2022-04-03T19:47:36.027Z"
      },
      {
        "duration": 27,
        "start_time": "2022-04-03T19:47:36.092Z"
      },
      {
        "duration": 6,
        "start_time": "2022-04-03T19:47:36.121Z"
      },
      {
        "duration": 60,
        "start_time": "2022-04-03T19:47:36.129Z"
      },
      {
        "duration": 17,
        "start_time": "2022-04-03T19:47:36.192Z"
      },
      {
        "duration": 23,
        "start_time": "2022-04-03T19:47:36.212Z"
      },
      {
        "duration": 47,
        "start_time": "2022-04-03T19:47:36.237Z"
      },
      {
        "duration": 17,
        "start_time": "2022-04-03T19:47:36.287Z"
      },
      {
        "duration": 7,
        "start_time": "2022-04-03T19:47:36.306Z"
      },
      {
        "duration": 11,
        "start_time": "2022-04-03T19:47:36.317Z"
      },
      {
        "duration": 45,
        "start_time": "2022-04-03T19:47:36.330Z"
      },
      {
        "duration": 6,
        "start_time": "2022-04-03T19:49:56.747Z"
      },
      {
        "duration": 7,
        "start_time": "2022-04-03T19:50:29.593Z"
      },
      {
        "duration": 40,
        "start_time": "2022-04-03T19:50:53.762Z"
      },
      {
        "duration": 32,
        "start_time": "2022-04-03T19:51:33.135Z"
      },
      {
        "duration": 101,
        "start_time": "2022-04-03T19:51:45.314Z"
      },
      {
        "duration": 522,
        "start_time": "2022-04-03T19:52:01.005Z"
      },
      {
        "duration": 228,
        "start_time": "2022-04-03T19:52:01.529Z"
      },
      {
        "duration": 33,
        "start_time": "2022-04-03T19:52:01.760Z"
      },
      {
        "duration": 44,
        "start_time": "2022-04-03T19:52:01.796Z"
      },
      {
        "duration": 35,
        "start_time": "2022-04-03T19:52:01.843Z"
      },
      {
        "duration": 16,
        "start_time": "2022-04-03T19:52:01.883Z"
      },
      {
        "duration": 12,
        "start_time": "2022-04-03T19:52:01.901Z"
      },
      {
        "duration": 63,
        "start_time": "2022-04-03T19:52:01.916Z"
      },
      {
        "duration": 30,
        "start_time": "2022-04-03T19:52:01.982Z"
      },
      {
        "duration": 35,
        "start_time": "2022-04-03T19:52:02.016Z"
      },
      {
        "duration": 124,
        "start_time": "2022-04-03T19:52:02.074Z"
      },
      {
        "duration": 131,
        "start_time": "2022-04-03T19:52:02.200Z"
      },
      {
        "duration": 115,
        "start_time": "2022-04-03T19:52:02.333Z"
      },
      {
        "duration": 77,
        "start_time": "2022-04-03T19:52:02.451Z"
      },
      {
        "duration": 4,
        "start_time": "2022-04-03T19:52:02.530Z"
      },
      {
        "duration": 22,
        "start_time": "2022-04-03T19:52:02.536Z"
      },
      {
        "duration": 76,
        "start_time": "2022-04-03T19:52:02.561Z"
      },
      {
        "duration": 18,
        "start_time": "2022-04-03T19:52:02.639Z"
      },
      {
        "duration": 23,
        "start_time": "2022-04-03T19:52:02.674Z"
      },
      {
        "duration": 6,
        "start_time": "2022-04-03T19:52:02.699Z"
      },
      {
        "duration": 35,
        "start_time": "2022-04-03T19:52:02.707Z"
      },
      {
        "duration": 49,
        "start_time": "2022-04-03T19:52:02.744Z"
      },
      {
        "duration": 21,
        "start_time": "2022-04-03T19:52:02.795Z"
      },
      {
        "duration": 20,
        "start_time": "2022-04-03T19:52:02.818Z"
      },
      {
        "duration": 60,
        "start_time": "2022-04-03T19:52:02.840Z"
      },
      {
        "duration": 21,
        "start_time": "2022-04-03T19:52:02.902Z"
      },
      {
        "duration": 14,
        "start_time": "2022-04-03T19:52:02.925Z"
      },
      {
        "duration": 34,
        "start_time": "2022-04-03T19:52:02.980Z"
      },
      {
        "duration": 28,
        "start_time": "2022-04-03T19:52:03.016Z"
      },
      {
        "duration": 33,
        "start_time": "2022-04-03T19:52:03.046Z"
      },
      {
        "duration": 45,
        "start_time": "2022-04-03T19:52:03.081Z"
      },
      {
        "duration": 35,
        "start_time": "2022-04-03T19:52:03.128Z"
      },
      {
        "duration": 47,
        "start_time": "2022-04-03T19:52:03.165Z"
      },
      {
        "duration": 24,
        "start_time": "2022-04-03T19:52:03.214Z"
      },
      {
        "duration": 26,
        "start_time": "2022-04-03T19:52:03.240Z"
      },
      {
        "duration": 26,
        "start_time": "2022-04-03T19:52:03.268Z"
      },
      {
        "duration": 15,
        "start_time": "2022-04-03T19:52:03.297Z"
      },
      {
        "duration": 17,
        "start_time": "2022-04-03T19:52:03.314Z"
      },
      {
        "duration": 93,
        "start_time": "2022-04-03T19:52:51.738Z"
      },
      {
        "duration": 22,
        "start_time": "2022-04-03T19:56:56.676Z"
      },
      {
        "duration": 19,
        "start_time": "2022-04-03T19:57:25.046Z"
      },
      {
        "duration": 13,
        "start_time": "2022-04-03T19:59:40.360Z"
      },
      {
        "duration": 34,
        "start_time": "2022-04-03T19:59:51.855Z"
      },
      {
        "duration": 30,
        "start_time": "2022-04-03T20:00:05.414Z"
      },
      {
        "duration": 22,
        "start_time": "2022-04-03T20:00:51.791Z"
      },
      {
        "duration": 23,
        "start_time": "2022-04-03T20:01:04.662Z"
      },
      {
        "duration": 28,
        "start_time": "2022-04-03T20:01:12.741Z"
      },
      {
        "duration": 16,
        "start_time": "2022-04-03T20:01:20.399Z"
      },
      {
        "duration": 485,
        "start_time": "2022-04-03T20:02:55.001Z"
      },
      {
        "duration": 201,
        "start_time": "2022-04-03T20:02:55.489Z"
      },
      {
        "duration": 28,
        "start_time": "2022-04-03T20:02:55.692Z"
      },
      {
        "duration": 63,
        "start_time": "2022-04-03T20:02:55.724Z"
      },
      {
        "duration": 5,
        "start_time": "2022-04-03T20:02:55.790Z"
      },
      {
        "duration": 16,
        "start_time": "2022-04-03T20:02:55.797Z"
      },
      {
        "duration": 8,
        "start_time": "2022-04-03T20:02:55.815Z"
      },
      {
        "duration": 80,
        "start_time": "2022-04-03T20:02:55.826Z"
      },
      {
        "duration": 26,
        "start_time": "2022-04-03T20:02:55.909Z"
      },
      {
        "duration": 55,
        "start_time": "2022-04-03T20:02:55.940Z"
      },
      {
        "duration": 118,
        "start_time": "2022-04-03T20:02:55.997Z"
      },
      {
        "duration": 121,
        "start_time": "2022-04-03T20:02:56.117Z"
      },
      {
        "duration": 108,
        "start_time": "2022-04-03T20:02:56.240Z"
      },
      {
        "duration": 68,
        "start_time": "2022-04-03T20:02:56.350Z"
      },
      {
        "duration": 4,
        "start_time": "2022-04-03T20:02:56.420Z"
      },
      {
        "duration": 16,
        "start_time": "2022-04-03T20:02:56.426Z"
      },
      {
        "duration": 75,
        "start_time": "2022-04-03T20:02:56.445Z"
      },
      {
        "duration": 17,
        "start_time": "2022-04-03T20:02:56.523Z"
      },
      {
        "duration": 41,
        "start_time": "2022-04-03T20:02:56.542Z"
      },
      {
        "duration": 10,
        "start_time": "2022-04-03T20:02:56.585Z"
      },
      {
        "duration": 27,
        "start_time": "2022-04-03T20:02:56.597Z"
      },
      {
        "duration": 19,
        "start_time": "2022-04-03T20:02:56.627Z"
      },
      {
        "duration": 26,
        "start_time": "2022-04-03T20:02:56.674Z"
      },
      {
        "duration": 19,
        "start_time": "2022-04-03T20:02:56.702Z"
      },
      {
        "duration": 56,
        "start_time": "2022-04-03T20:02:56.723Z"
      },
      {
        "duration": 19,
        "start_time": "2022-04-03T20:02:56.788Z"
      },
      {
        "duration": 11,
        "start_time": "2022-04-03T20:02:56.809Z"
      },
      {
        "duration": 62,
        "start_time": "2022-04-03T20:02:56.825Z"
      },
      {
        "duration": 28,
        "start_time": "2022-04-03T20:02:56.889Z"
      },
      {
        "duration": 6,
        "start_time": "2022-04-03T20:02:56.919Z"
      },
      {
        "duration": 26,
        "start_time": "2022-04-03T20:02:56.927Z"
      },
      {
        "duration": 43,
        "start_time": "2022-04-03T20:02:56.955Z"
      },
      {
        "duration": 22,
        "start_time": "2022-04-03T20:02:57.000Z"
      },
      {
        "duration": 15,
        "start_time": "2022-04-03T20:02:57.025Z"
      },
      {
        "duration": 47,
        "start_time": "2022-04-03T20:02:57.042Z"
      },
      {
        "duration": 8,
        "start_time": "2022-04-03T20:02:57.092Z"
      },
      {
        "duration": 10,
        "start_time": "2022-04-03T20:02:57.103Z"
      },
      {
        "duration": 9,
        "start_time": "2022-04-03T20:02:57.115Z"
      },
      {
        "duration": 7,
        "start_time": "2022-04-03T20:03:24.321Z"
      },
      {
        "duration": 6,
        "start_time": "2022-04-03T20:03:34.306Z"
      },
      {
        "duration": 501,
        "start_time": "2022-04-03T20:03:53.101Z"
      },
      {
        "duration": 213,
        "start_time": "2022-04-03T20:03:53.605Z"
      },
      {
        "duration": 27,
        "start_time": "2022-04-03T20:03:53.821Z"
      },
      {
        "duration": 60,
        "start_time": "2022-04-03T20:03:53.852Z"
      },
      {
        "duration": 6,
        "start_time": "2022-04-03T20:03:53.915Z"
      },
      {
        "duration": 62,
        "start_time": "2022-04-03T20:03:53.924Z"
      },
      {
        "duration": 10,
        "start_time": "2022-04-03T20:03:53.988Z"
      },
      {
        "duration": 34,
        "start_time": "2022-04-03T20:03:54.001Z"
      },
      {
        "duration": 46,
        "start_time": "2022-04-03T20:03:54.037Z"
      },
      {
        "duration": 35,
        "start_time": "2022-04-03T20:03:54.089Z"
      },
      {
        "duration": 112,
        "start_time": "2022-04-03T20:03:54.126Z"
      },
      {
        "duration": 135,
        "start_time": "2022-04-03T20:03:54.242Z"
      },
      {
        "duration": 108,
        "start_time": "2022-04-03T20:03:54.379Z"
      },
      {
        "duration": 57,
        "start_time": "2022-04-03T20:03:54.490Z"
      },
      {
        "duration": 5,
        "start_time": "2022-04-03T20:03:54.550Z"
      },
      {
        "duration": 30,
        "start_time": "2022-04-03T20:03:54.557Z"
      },
      {
        "duration": 58,
        "start_time": "2022-04-03T20:03:54.589Z"
      },
      {
        "duration": 42,
        "start_time": "2022-04-03T20:03:54.649Z"
      },
      {
        "duration": 18,
        "start_time": "2022-04-03T20:03:54.693Z"
      },
      {
        "duration": 4,
        "start_time": "2022-04-03T20:03:54.714Z"
      },
      {
        "duration": 25,
        "start_time": "2022-04-03T20:03:54.720Z"
      },
      {
        "duration": 25,
        "start_time": "2022-04-03T20:03:54.774Z"
      },
      {
        "duration": 19,
        "start_time": "2022-04-03T20:03:54.801Z"
      },
      {
        "duration": 19,
        "start_time": "2022-04-03T20:03:54.822Z"
      },
      {
        "duration": 26,
        "start_time": "2022-04-03T20:03:54.875Z"
      },
      {
        "duration": 18,
        "start_time": "2022-04-03T20:03:54.904Z"
      },
      {
        "duration": 12,
        "start_time": "2022-04-03T20:03:54.925Z"
      },
      {
        "duration": 34,
        "start_time": "2022-04-03T20:03:54.976Z"
      },
      {
        "duration": 30,
        "start_time": "2022-04-03T20:03:55.013Z"
      },
      {
        "duration": 13,
        "start_time": "2022-04-03T20:03:55.075Z"
      },
      {
        "duration": 32,
        "start_time": "2022-04-03T20:03:55.091Z"
      },
      {
        "duration": 15,
        "start_time": "2022-04-03T20:03:55.125Z"
      },
      {
        "duration": 42,
        "start_time": "2022-04-03T20:03:55.142Z"
      },
      {
        "duration": 16,
        "start_time": "2022-04-03T20:03:55.187Z"
      },
      {
        "duration": 12,
        "start_time": "2022-04-03T20:03:55.205Z"
      },
      {
        "duration": 6,
        "start_time": "2022-04-03T20:03:55.219Z"
      },
      {
        "duration": 9,
        "start_time": "2022-04-03T20:03:55.227Z"
      },
      {
        "duration": 50,
        "start_time": "2022-04-03T20:03:55.238Z"
      },
      {
        "duration": 493,
        "start_time": "2022-04-03T20:04:40.811Z"
      },
      {
        "duration": 226,
        "start_time": "2022-04-03T20:04:41.306Z"
      },
      {
        "duration": 46,
        "start_time": "2022-04-03T20:04:41.534Z"
      },
      {
        "duration": 51,
        "start_time": "2022-04-03T20:04:41.584Z"
      },
      {
        "duration": 7,
        "start_time": "2022-04-03T20:04:41.637Z"
      },
      {
        "duration": 51,
        "start_time": "2022-04-03T20:04:41.647Z"
      },
      {
        "duration": 12,
        "start_time": "2022-04-03T20:04:41.701Z"
      },
      {
        "duration": 34,
        "start_time": "2022-04-03T20:04:41.716Z"
      },
      {
        "duration": 48,
        "start_time": "2022-04-03T20:04:41.752Z"
      },
      {
        "duration": 35,
        "start_time": "2022-04-03T20:04:41.805Z"
      },
      {
        "duration": 123,
        "start_time": "2022-04-03T20:04:41.842Z"
      },
      {
        "duration": 134,
        "start_time": "2022-04-03T20:04:41.968Z"
      },
      {
        "duration": 108,
        "start_time": "2022-04-03T20:04:42.104Z"
      },
      {
        "duration": 73,
        "start_time": "2022-04-03T20:04:42.214Z"
      },
      {
        "duration": 4,
        "start_time": "2022-04-03T20:04:42.289Z"
      },
      {
        "duration": 22,
        "start_time": "2022-04-03T20:04:42.295Z"
      },
      {
        "duration": 73,
        "start_time": "2022-04-03T20:04:42.318Z"
      },
      {
        "duration": 17,
        "start_time": "2022-04-03T20:04:42.393Z"
      },
      {
        "duration": 24,
        "start_time": "2022-04-03T20:04:42.413Z"
      },
      {
        "duration": 7,
        "start_time": "2022-04-03T20:04:42.439Z"
      },
      {
        "duration": 69,
        "start_time": "2022-04-03T20:04:42.448Z"
      },
      {
        "duration": 35,
        "start_time": "2022-04-03T20:04:42.519Z"
      },
      {
        "duration": 26,
        "start_time": "2022-04-03T20:04:42.556Z"
      },
      {
        "duration": 26,
        "start_time": "2022-04-03T20:04:42.585Z"
      },
      {
        "duration": 22,
        "start_time": "2022-04-03T20:04:42.613Z"
      },
      {
        "duration": 46,
        "start_time": "2022-04-03T20:04:42.637Z"
      },
      {
        "duration": 13,
        "start_time": "2022-04-03T20:04:42.686Z"
      },
      {
        "duration": 40,
        "start_time": "2022-04-03T20:04:42.703Z"
      },
      {
        "duration": 42,
        "start_time": "2022-04-03T20:04:42.745Z"
      },
      {
        "duration": 6,
        "start_time": "2022-04-03T20:04:42.790Z"
      },
      {
        "duration": 36,
        "start_time": "2022-04-03T20:04:42.798Z"
      },
      {
        "duration": 34,
        "start_time": "2022-04-03T20:04:42.836Z"
      },
      {
        "duration": 31,
        "start_time": "2022-04-03T20:04:42.872Z"
      },
      {
        "duration": 18,
        "start_time": "2022-04-03T20:04:42.906Z"
      },
      {
        "duration": 21,
        "start_time": "2022-04-03T20:04:42.927Z"
      },
      {
        "duration": 13,
        "start_time": "2022-04-03T20:04:42.973Z"
      },
      {
        "duration": 25,
        "start_time": "2022-04-03T20:04:42.989Z"
      },
      {
        "duration": 11,
        "start_time": "2022-04-03T20:04:43.016Z"
      }
    ],
    "colab": {
      "collapsed_sections": [
        "E0vqbgi9ay0H",
        "VUC88oWjTJw2"
      ],
      "provenance": []
    },
    "kernelspec": {
      "display_name": "Python 3 (ipykernel)",
      "language": "python",
      "name": "python3"
    },
    "language_info": {
      "codemirror_mode": {
        "name": "ipython",
        "version": 3
      },
      "file_extension": ".py",
      "mimetype": "text/x-python",
      "name": "python",
      "nbconvert_exporter": "python",
      "pygments_lexer": "ipython3",
      "version": "3.9.5"
    },
    "toc": {
      "base_numbering": 1,
      "nav_menu": {},
      "number_sections": true,
      "sideBar": true,
      "skip_h1_title": true,
      "title_cell": "Table of Contents",
      "title_sidebar": "Contents",
      "toc_cell": false,
      "toc_position": {},
      "toc_section_display": true,
      "toc_window_display": false
    }
  },
  "nbformat": 4,
  "nbformat_minor": 0
}