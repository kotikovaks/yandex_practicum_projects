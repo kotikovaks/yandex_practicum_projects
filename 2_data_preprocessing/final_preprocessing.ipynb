{
  "cells": [
    {
      "cell_type": "markdown",
      "id": "354b713e",
      "metadata": {
        "id": "354b713e"
      },
      "source": [
        "# Исследование надежности заемщиков."
      ]
    },
    {
      "cell_type": "markdown",
      "id": "ebeaefa2",
      "metadata": {
        "id": "ebeaefa2"
      },
      "source": [
        "Банк поставил задачу: разобраться, влияет ли семейное положение и количество детей клиента на факт погашения кредита в срок. Входные данные — статистика о платёжеспособности клиентов.\n",
        "\n",
        "**Цель исследования** — проверить четыре гипотезы:\n",
        "1. Существует зависимость между количеством детей и возвратом кредита в срок.\n",
        "2. Существует зависимость между семейным положением и возвратом кредита в срок.\n",
        "3. Существует зависимость между уровнем дохода и возвратом кредита в срок.\n",
        "4. Разные цели кредита по-разному влияют на его возврат в срок.\n",
        "\n",
        "**Ход исследования**\n",
        "\n",
        "Перед проверкой гипотез понадобится обзор данных. \n",
        "\n",
        "Необходимо проверить данные на ошибки и оценить их влияние на исследование. Затем, на этапе предобработки мы исправим критичные ошибки данных, устраним дубликаты, обработаем артефакты, категоризируем данные и проверим гипотезы.\n",
        " \n",
        "Таким образом, исследование пройдёт в три этапа:\n",
        " 1. Обзор данных.\n",
        " 2. Предобработка данных.\n",
        " 3. Проверка гипотез.\n"
      ]
    },
    {
      "cell_type": "markdown",
      "id": "006203ee",
      "metadata": {
        "id": "006203ee"
      },
      "source": [
        "### Шаг 1. Обзор данных"
      ]
    },
    {
      "cell_type": "markdown",
      "id": "751f47cf",
      "metadata": {
        "id": "751f47cf"
      },
      "source": [
        "Изучим входные данные от банка — статистику о платёжеспособности клиентов."
      ]
    },
    {
      "cell_type": "code",
      "execution_count": 2,
      "id": "dbe13b87",
      "metadata": {
        "colab": {
          "base_uri": "https://localhost:8080/",
          "height": 1000
        },
        "id": "dbe13b87",
        "outputId": "cd6b907f-f46f-4505-e502-8d3299fd5f9b"
      },
      "outputs": [
        {
          "output_type": "display_data",
          "data": {
            "text/plain": [
              "   children  days_employed  dob_years education  education_id  \\\n",
              "0         1   -8437.673028         42    высшее             0   \n",
              "1         1   -4024.803754         36   среднее             1   \n",
              "2         0   -5623.422610         33   Среднее             1   \n",
              "3         3   -4124.747207         32   среднее             1   \n",
              "4         0  340266.072047         53   среднее             1   \n",
              "5         0    -926.185831         27    высшее             0   \n",
              "6         0   -2879.202052         43    высшее             0   \n",
              "7         0    -152.779569         50   СРЕДНЕЕ             1   \n",
              "8         2   -6929.865299         35    ВЫСШЕЕ             0   \n",
              "9         0   -2188.756445         41   среднее             1   \n",
              "\n",
              "      family_status  family_status_id gender income_type  debt   total_income  \\\n",
              "0   женат / замужем                 0      F   сотрудник     0  253875.639453   \n",
              "1   женат / замужем                 0      F   сотрудник     0  112080.014102   \n",
              "2   женат / замужем                 0      M   сотрудник     0  145885.952297   \n",
              "3   женат / замужем                 0      M   сотрудник     0  267628.550329   \n",
              "4  гражданский брак                 1      F   пенсионер     0  158616.077870   \n",
              "5  гражданский брак                 1      M   компаньон     0  255763.565419   \n",
              "6   женат / замужем                 0      F   компаньон     0  240525.971920   \n",
              "7   женат / замужем                 0      M   сотрудник     0  135823.934197   \n",
              "8  гражданский брак                 1      F   сотрудник     0   95856.832424   \n",
              "9   женат / замужем                 0      M   сотрудник     0  144425.938277   \n",
              "\n",
              "                      purpose  \n",
              "0               покупка жилья  \n",
              "1     приобретение автомобиля  \n",
              "2               покупка жилья  \n",
              "3  дополнительное образование  \n",
              "4             сыграть свадьбу  \n",
              "5               покупка жилья  \n",
              "6           операции с жильем  \n",
              "7                 образование  \n",
              "8       на проведение свадьбы  \n",
              "9     покупка жилья для семьи  "
            ],
            "text/html": [
              "\n",
              "  <div id=\"df-fa1523dd-278b-4a90-9249-4e0fd3b3bfed\">\n",
              "    <div class=\"colab-df-container\">\n",
              "      <div>\n",
              "<style scoped>\n",
              "    .dataframe tbody tr th:only-of-type {\n",
              "        vertical-align: middle;\n",
              "    }\n",
              "\n",
              "    .dataframe tbody tr th {\n",
              "        vertical-align: top;\n",
              "    }\n",
              "\n",
              "    .dataframe thead th {\n",
              "        text-align: right;\n",
              "    }\n",
              "</style>\n",
              "<table border=\"1\" class=\"dataframe\">\n",
              "  <thead>\n",
              "    <tr style=\"text-align: right;\">\n",
              "      <th></th>\n",
              "      <th>children</th>\n",
              "      <th>days_employed</th>\n",
              "      <th>dob_years</th>\n",
              "      <th>education</th>\n",
              "      <th>education_id</th>\n",
              "      <th>family_status</th>\n",
              "      <th>family_status_id</th>\n",
              "      <th>gender</th>\n",
              "      <th>income_type</th>\n",
              "      <th>debt</th>\n",
              "      <th>total_income</th>\n",
              "      <th>purpose</th>\n",
              "    </tr>\n",
              "  </thead>\n",
              "  <tbody>\n",
              "    <tr>\n",
              "      <th>0</th>\n",
              "      <td>1</td>\n",
              "      <td>-8437.673028</td>\n",
              "      <td>42</td>\n",
              "      <td>высшее</td>\n",
              "      <td>0</td>\n",
              "      <td>женат / замужем</td>\n",
              "      <td>0</td>\n",
              "      <td>F</td>\n",
              "      <td>сотрудник</td>\n",
              "      <td>0</td>\n",
              "      <td>253875.639453</td>\n",
              "      <td>покупка жилья</td>\n",
              "    </tr>\n",
              "    <tr>\n",
              "      <th>1</th>\n",
              "      <td>1</td>\n",
              "      <td>-4024.803754</td>\n",
              "      <td>36</td>\n",
              "      <td>среднее</td>\n",
              "      <td>1</td>\n",
              "      <td>женат / замужем</td>\n",
              "      <td>0</td>\n",
              "      <td>F</td>\n",
              "      <td>сотрудник</td>\n",
              "      <td>0</td>\n",
              "      <td>112080.014102</td>\n",
              "      <td>приобретение автомобиля</td>\n",
              "    </tr>\n",
              "    <tr>\n",
              "      <th>2</th>\n",
              "      <td>0</td>\n",
              "      <td>-5623.422610</td>\n",
              "      <td>33</td>\n",
              "      <td>Среднее</td>\n",
              "      <td>1</td>\n",
              "      <td>женат / замужем</td>\n",
              "      <td>0</td>\n",
              "      <td>M</td>\n",
              "      <td>сотрудник</td>\n",
              "      <td>0</td>\n",
              "      <td>145885.952297</td>\n",
              "      <td>покупка жилья</td>\n",
              "    </tr>\n",
              "    <tr>\n",
              "      <th>3</th>\n",
              "      <td>3</td>\n",
              "      <td>-4124.747207</td>\n",
              "      <td>32</td>\n",
              "      <td>среднее</td>\n",
              "      <td>1</td>\n",
              "      <td>женат / замужем</td>\n",
              "      <td>0</td>\n",
              "      <td>M</td>\n",
              "      <td>сотрудник</td>\n",
              "      <td>0</td>\n",
              "      <td>267628.550329</td>\n",
              "      <td>дополнительное образование</td>\n",
              "    </tr>\n",
              "    <tr>\n",
              "      <th>4</th>\n",
              "      <td>0</td>\n",
              "      <td>340266.072047</td>\n",
              "      <td>53</td>\n",
              "      <td>среднее</td>\n",
              "      <td>1</td>\n",
              "      <td>гражданский брак</td>\n",
              "      <td>1</td>\n",
              "      <td>F</td>\n",
              "      <td>пенсионер</td>\n",
              "      <td>0</td>\n",
              "      <td>158616.077870</td>\n",
              "      <td>сыграть свадьбу</td>\n",
              "    </tr>\n",
              "    <tr>\n",
              "      <th>5</th>\n",
              "      <td>0</td>\n",
              "      <td>-926.185831</td>\n",
              "      <td>27</td>\n",
              "      <td>высшее</td>\n",
              "      <td>0</td>\n",
              "      <td>гражданский брак</td>\n",
              "      <td>1</td>\n",
              "      <td>M</td>\n",
              "      <td>компаньон</td>\n",
              "      <td>0</td>\n",
              "      <td>255763.565419</td>\n",
              "      <td>покупка жилья</td>\n",
              "    </tr>\n",
              "    <tr>\n",
              "      <th>6</th>\n",
              "      <td>0</td>\n",
              "      <td>-2879.202052</td>\n",
              "      <td>43</td>\n",
              "      <td>высшее</td>\n",
              "      <td>0</td>\n",
              "      <td>женат / замужем</td>\n",
              "      <td>0</td>\n",
              "      <td>F</td>\n",
              "      <td>компаньон</td>\n",
              "      <td>0</td>\n",
              "      <td>240525.971920</td>\n",
              "      <td>операции с жильем</td>\n",
              "    </tr>\n",
              "    <tr>\n",
              "      <th>7</th>\n",
              "      <td>0</td>\n",
              "      <td>-152.779569</td>\n",
              "      <td>50</td>\n",
              "      <td>СРЕДНЕЕ</td>\n",
              "      <td>1</td>\n",
              "      <td>женат / замужем</td>\n",
              "      <td>0</td>\n",
              "      <td>M</td>\n",
              "      <td>сотрудник</td>\n",
              "      <td>0</td>\n",
              "      <td>135823.934197</td>\n",
              "      <td>образование</td>\n",
              "    </tr>\n",
              "    <tr>\n",
              "      <th>8</th>\n",
              "      <td>2</td>\n",
              "      <td>-6929.865299</td>\n",
              "      <td>35</td>\n",
              "      <td>ВЫСШЕЕ</td>\n",
              "      <td>0</td>\n",
              "      <td>гражданский брак</td>\n",
              "      <td>1</td>\n",
              "      <td>F</td>\n",
              "      <td>сотрудник</td>\n",
              "      <td>0</td>\n",
              "      <td>95856.832424</td>\n",
              "      <td>на проведение свадьбы</td>\n",
              "    </tr>\n",
              "    <tr>\n",
              "      <th>9</th>\n",
              "      <td>0</td>\n",
              "      <td>-2188.756445</td>\n",
              "      <td>41</td>\n",
              "      <td>среднее</td>\n",
              "      <td>1</td>\n",
              "      <td>женат / замужем</td>\n",
              "      <td>0</td>\n",
              "      <td>M</td>\n",
              "      <td>сотрудник</td>\n",
              "      <td>0</td>\n",
              "      <td>144425.938277</td>\n",
              "      <td>покупка жилья для семьи</td>\n",
              "    </tr>\n",
              "  </tbody>\n",
              "</table>\n",
              "</div>\n",
              "      <button class=\"colab-df-convert\" onclick=\"convertToInteractive('df-fa1523dd-278b-4a90-9249-4e0fd3b3bfed')\"\n",
              "              title=\"Convert this dataframe to an interactive table.\"\n",
              "              style=\"display:none;\">\n",
              "        \n",
              "  <svg xmlns=\"http://www.w3.org/2000/svg\" height=\"24px\"viewBox=\"0 0 24 24\"\n",
              "       width=\"24px\">\n",
              "    <path d=\"M0 0h24v24H0V0z\" fill=\"none\"/>\n",
              "    <path d=\"M18.56 5.44l.94 2.06.94-2.06 2.06-.94-2.06-.94-.94-2.06-.94 2.06-2.06.94zm-11 1L8.5 8.5l.94-2.06 2.06-.94-2.06-.94L8.5 2.5l-.94 2.06-2.06.94zm10 10l.94 2.06.94-2.06 2.06-.94-2.06-.94-.94-2.06-.94 2.06-2.06.94z\"/><path d=\"M17.41 7.96l-1.37-1.37c-.4-.4-.92-.59-1.43-.59-.52 0-1.04.2-1.43.59L10.3 9.45l-7.72 7.72c-.78.78-.78 2.05 0 2.83L4 21.41c.39.39.9.59 1.41.59.51 0 1.02-.2 1.41-.59l7.78-7.78 2.81-2.81c.8-.78.8-2.07 0-2.86zM5.41 20L4 18.59l7.72-7.72 1.47 1.35L5.41 20z\"/>\n",
              "  </svg>\n",
              "      </button>\n",
              "      \n",
              "  <style>\n",
              "    .colab-df-container {\n",
              "      display:flex;\n",
              "      flex-wrap:wrap;\n",
              "      gap: 12px;\n",
              "    }\n",
              "\n",
              "    .colab-df-convert {\n",
              "      background-color: #E8F0FE;\n",
              "      border: none;\n",
              "      border-radius: 50%;\n",
              "      cursor: pointer;\n",
              "      display: none;\n",
              "      fill: #1967D2;\n",
              "      height: 32px;\n",
              "      padding: 0 0 0 0;\n",
              "      width: 32px;\n",
              "    }\n",
              "\n",
              "    .colab-df-convert:hover {\n",
              "      background-color: #E2EBFA;\n",
              "      box-shadow: 0px 1px 2px rgba(60, 64, 67, 0.3), 0px 1px 3px 1px rgba(60, 64, 67, 0.15);\n",
              "      fill: #174EA6;\n",
              "    }\n",
              "\n",
              "    [theme=dark] .colab-df-convert {\n",
              "      background-color: #3B4455;\n",
              "      fill: #D2E3FC;\n",
              "    }\n",
              "\n",
              "    [theme=dark] .colab-df-convert:hover {\n",
              "      background-color: #434B5C;\n",
              "      box-shadow: 0px 1px 3px 1px rgba(0, 0, 0, 0.15);\n",
              "      filter: drop-shadow(0px 1px 2px rgba(0, 0, 0, 0.3));\n",
              "      fill: #FFFFFF;\n",
              "    }\n",
              "  </style>\n",
              "\n",
              "      <script>\n",
              "        const buttonEl =\n",
              "          document.querySelector('#df-fa1523dd-278b-4a90-9249-4e0fd3b3bfed button.colab-df-convert');\n",
              "        buttonEl.style.display =\n",
              "          google.colab.kernel.accessAllowed ? 'block' : 'none';\n",
              "\n",
              "        async function convertToInteractive(key) {\n",
              "          const element = document.querySelector('#df-fa1523dd-278b-4a90-9249-4e0fd3b3bfed');\n",
              "          const dataTable =\n",
              "            await google.colab.kernel.invokeFunction('convertToInteractive',\n",
              "                                                     [key], {});\n",
              "          if (!dataTable) return;\n",
              "\n",
              "          const docLinkHtml = 'Like what you see? Visit the ' +\n",
              "            '<a target=\"_blank\" href=https://colab.research.google.com/notebooks/data_table.ipynb>data table notebook</a>'\n",
              "            + ' to learn more about interactive tables.';\n",
              "          element.innerHTML = '';\n",
              "          dataTable['output_type'] = 'display_data';\n",
              "          await google.colab.output.renderOutput(dataTable, element);\n",
              "          const docLink = document.createElement('div');\n",
              "          docLink.innerHTML = docLinkHtml;\n",
              "          element.appendChild(docLink);\n",
              "        }\n",
              "      </script>\n",
              "    </div>\n",
              "  </div>\n",
              "  "
            ]
          },
          "metadata": {}
        },
        {
          "output_type": "stream",
          "name": "stdout",
          "text": [
            "<class 'pandas.core.frame.DataFrame'>\n",
            "RangeIndex: 21525 entries, 0 to 21524\n",
            "Data columns (total 12 columns):\n",
            " #   Column            Non-Null Count  Dtype  \n",
            "---  ------            --------------  -----  \n",
            " 0   children          21525 non-null  int64  \n",
            " 1   days_employed     19351 non-null  float64\n",
            " 2   dob_years         21525 non-null  int64  \n",
            " 3   education         21525 non-null  object \n",
            " 4   education_id      21525 non-null  int64  \n",
            " 5   family_status     21525 non-null  object \n",
            " 6   family_status_id  21525 non-null  int64  \n",
            " 7   gender            21525 non-null  object \n",
            " 8   income_type       21525 non-null  object \n",
            " 9   debt              21525 non-null  int64  \n",
            " 10  total_income      19351 non-null  float64\n",
            " 11  purpose           21525 non-null  object \n",
            "dtypes: float64(2), int64(5), object(5)\n",
            "memory usage: 2.0+ MB\n"
          ]
        },
        {
          "output_type": "execute_result",
          "data": {
            "text/plain": [
              "children            0.000000\n",
              "days_employed       0.100999\n",
              "dob_years           0.000000\n",
              "education           0.000000\n",
              "education_id        0.000000\n",
              "family_status       0.000000\n",
              "family_status_id    0.000000\n",
              "gender              0.000000\n",
              "income_type         0.000000\n",
              "debt                0.000000\n",
              "total_income        0.100999\n",
              "purpose             0.000000\n",
              "dtype: float64"
            ]
          },
          "metadata": {},
          "execution_count": 2
        }
      ],
      "source": [
        "import pandas as pd\n",
        "clients = pd.read_csv('/datasets/data.csv')\n",
        "display(clients.head(10)) # выведем 10 первых строк таблицы\n",
        "clients.info() # получим общую информацию о данных в таблице\n",
        "clients.isna().mean() # проверим наличие дубликатов"
      ]
    },
    {
      "cell_type": "markdown",
      "id": "fe1ecffe",
      "metadata": {
        "id": "fe1ecffe"
      },
      "source": [
        "**Выводы**\n",
        "\n",
        "В каждой строке таблицы — данные о заемщике: его/ее возраст, количество детей, пол, образование, трудовой стаж, уровень дохода, тип занятости, наличие просрочек по выплатам кредита в прошлом. \n",
        "\n",
        "Предварительно можно утверждать, что данных достаточно для проверки гипотез. Но встречаются пропуски в данных, артефакты, а также явные и неявные дубликаты.\n",
        "\n",
        "Чтобы двигаться дальше, нужно устранить проблемы в данных."
      ]
    },
    {
      "cell_type": "markdown",
      "id": "0b0b224b",
      "metadata": {
        "id": "0b0b224b"
      },
      "source": [
        "### Шаг 2. Предобработка данных\n",
        "- В таблице обнаружены пропущенные значения в столбцах `days_employed` и `total_income`\n",
        "- Доля пропущенных значений в каждом из столбцов с пропусками составляет 10%.\n",
        "- Количество пропущенных значений в обоих столбцах одинаково. Из этого можно сделать вывод, что данные по доходу рассчитаны с использованием данных об общем трудовом стаже в днях, данные о которых, вероятно, не были предоставлены клиентами.\n",
        "- Заполнить пропуски медианным значением — лучшее решение для количественных переменных, потому что среднее значение некорректно характеризует данные, когда некоторые значения сильно выделяются среди большинства, как в приведенных данных."
      ]
    },
    {
      "cell_type": "markdown",
      "id": "27d2750a",
      "metadata": {
        "id": "27d2750a"
      },
      "source": [
        "### Шаг 2.1 Заполнение пропусков\n",
        "Заполним пропуски в столбце `total_income` медианным значением."
      ]
    },
    {
      "cell_type": "code",
      "execution_count": 3,
      "id": "0828715d",
      "metadata": {
        "colab": {
          "base_uri": "https://localhost:8080/"
        },
        "id": "0828715d",
        "outputId": "37b2b4f4-9b6d-4265-9ab0-23729da3ddac"
      },
      "outputs": [
        {
          "output_type": "execute_result",
          "data": {
            "text/plain": [
              "0"
            ]
          },
          "metadata": {},
          "execution_count": 3
        }
      ],
      "source": [
        "clients['total_income'] = clients['total_income'].fillna(clients['total_income'].median())\n",
        "clients['total_income'].isna().sum() # проверяем результат\n"
      ]
    },
    {
      "cell_type": "markdown",
      "id": "f4c5bc31",
      "metadata": {
        "id": "f4c5bc31"
      },
      "source": [
        "### Шаг 2.2 Проверка данных на аномалии и исправления.\n",
        "В столбце `days_employed` есть отрицательные значения дней трудового стажа. \n",
        "Возможные причины появления таких данных:\n",
        "- человеческий фактор\n",
        "- сбой при выгрузке данных\n",
        "\n",
        "Изменим отрицательные числа на их значение по модулю."
      ]
    },
    {
      "cell_type": "code",
      "execution_count": 4,
      "id": "284d8704",
      "metadata": {
        "colab": {
          "base_uri": "https://localhost:8080/"
        },
        "id": "284d8704",
        "outputId": "84e869ce-0286-41fb-e2dc-cf0b7e33bdfc"
      },
      "outputs": [
        {
          "output_type": "execute_result",
          "data": {
            "text/plain": [
              "6954     401755.400475\n",
              "10006    401715.811749\n",
              "7664     401675.093434\n",
              "2156     401674.466633\n",
              "7794     401663.850046\n",
              "             ...      \n",
              "21489              NaN\n",
              "21495              NaN\n",
              "21497              NaN\n",
              "21502              NaN\n",
              "21510              NaN\n",
              "Name: days_employed, Length: 21525, dtype: float64"
            ]
          },
          "metadata": {},
          "execution_count": 4
        }
      ],
      "source": [
        "clients['days_employed'] = clients['days_employed'].abs() # приведем отрицательные числа к абсолютному значению\n",
        "clients['days_employed'].sort_values(ascending=False) # отсортируем данные в столбце"
      ]
    },
    {
      "cell_type": "markdown",
      "id": "3d1a5417",
      "metadata": {
        "id": "3d1a5417"
      },
      "source": [
        "В некоторых ячейках количество дней не соответствует реальным цифрам, 401 755 рабочих дней — это 1100 лет. Проверим максимальный возраст заемщиков из списка."
      ]
    },
    {
      "cell_type": "code",
      "execution_count": 5,
      "id": "5dd40d77",
      "metadata": {
        "colab": {
          "base_uri": "https://localhost:8080/",
          "height": 142
        },
        "id": "5dd40d77",
        "outputId": "9cc0a691-230e-4bac-83aa-acce00d81567"
      },
      "outputs": [
        {
          "output_type": "execute_result",
          "data": {
            "text/plain": [
              "      children  days_employed  dob_years education  education_id  \\\n",
              "8880         0    1678.969771         75   среднее             1   \n",
              "\n",
              "       family_status  family_status_id gender  income_type  debt  \\\n",
              "8880  вдовец / вдова                 2      F  госслужащий     0   \n",
              "\n",
              "       total_income                purpose  \n",
              "8880  153282.648133  заняться образованием  "
            ],
            "text/html": [
              "\n",
              "  <div id=\"df-14fb4d43-db61-419a-a42c-c27e7287cd8d\">\n",
              "    <div class=\"colab-df-container\">\n",
              "      <div>\n",
              "<style scoped>\n",
              "    .dataframe tbody tr th:only-of-type {\n",
              "        vertical-align: middle;\n",
              "    }\n",
              "\n",
              "    .dataframe tbody tr th {\n",
              "        vertical-align: top;\n",
              "    }\n",
              "\n",
              "    .dataframe thead th {\n",
              "        text-align: right;\n",
              "    }\n",
              "</style>\n",
              "<table border=\"1\" class=\"dataframe\">\n",
              "  <thead>\n",
              "    <tr style=\"text-align: right;\">\n",
              "      <th></th>\n",
              "      <th>children</th>\n",
              "      <th>days_employed</th>\n",
              "      <th>dob_years</th>\n",
              "      <th>education</th>\n",
              "      <th>education_id</th>\n",
              "      <th>family_status</th>\n",
              "      <th>family_status_id</th>\n",
              "      <th>gender</th>\n",
              "      <th>income_type</th>\n",
              "      <th>debt</th>\n",
              "      <th>total_income</th>\n",
              "      <th>purpose</th>\n",
              "    </tr>\n",
              "  </thead>\n",
              "  <tbody>\n",
              "    <tr>\n",
              "      <th>8880</th>\n",
              "      <td>0</td>\n",
              "      <td>1678.969771</td>\n",
              "      <td>75</td>\n",
              "      <td>среднее</td>\n",
              "      <td>1</td>\n",
              "      <td>вдовец / вдова</td>\n",
              "      <td>2</td>\n",
              "      <td>F</td>\n",
              "      <td>госслужащий</td>\n",
              "      <td>0</td>\n",
              "      <td>153282.648133</td>\n",
              "      <td>заняться образованием</td>\n",
              "    </tr>\n",
              "  </tbody>\n",
              "</table>\n",
              "</div>\n",
              "      <button class=\"colab-df-convert\" onclick=\"convertToInteractive('df-14fb4d43-db61-419a-a42c-c27e7287cd8d')\"\n",
              "              title=\"Convert this dataframe to an interactive table.\"\n",
              "              style=\"display:none;\">\n",
              "        \n",
              "  <svg xmlns=\"http://www.w3.org/2000/svg\" height=\"24px\"viewBox=\"0 0 24 24\"\n",
              "       width=\"24px\">\n",
              "    <path d=\"M0 0h24v24H0V0z\" fill=\"none\"/>\n",
              "    <path d=\"M18.56 5.44l.94 2.06.94-2.06 2.06-.94-2.06-.94-.94-2.06-.94 2.06-2.06.94zm-11 1L8.5 8.5l.94-2.06 2.06-.94-2.06-.94L8.5 2.5l-.94 2.06-2.06.94zm10 10l.94 2.06.94-2.06 2.06-.94-2.06-.94-.94-2.06-.94 2.06-2.06.94z\"/><path d=\"M17.41 7.96l-1.37-1.37c-.4-.4-.92-.59-1.43-.59-.52 0-1.04.2-1.43.59L10.3 9.45l-7.72 7.72c-.78.78-.78 2.05 0 2.83L4 21.41c.39.39.9.59 1.41.59.51 0 1.02-.2 1.41-.59l7.78-7.78 2.81-2.81c.8-.78.8-2.07 0-2.86zM5.41 20L4 18.59l7.72-7.72 1.47 1.35L5.41 20z\"/>\n",
              "  </svg>\n",
              "      </button>\n",
              "      \n",
              "  <style>\n",
              "    .colab-df-container {\n",
              "      display:flex;\n",
              "      flex-wrap:wrap;\n",
              "      gap: 12px;\n",
              "    }\n",
              "\n",
              "    .colab-df-convert {\n",
              "      background-color: #E8F0FE;\n",
              "      border: none;\n",
              "      border-radius: 50%;\n",
              "      cursor: pointer;\n",
              "      display: none;\n",
              "      fill: #1967D2;\n",
              "      height: 32px;\n",
              "      padding: 0 0 0 0;\n",
              "      width: 32px;\n",
              "    }\n",
              "\n",
              "    .colab-df-convert:hover {\n",
              "      background-color: #E2EBFA;\n",
              "      box-shadow: 0px 1px 2px rgba(60, 64, 67, 0.3), 0px 1px 3px 1px rgba(60, 64, 67, 0.15);\n",
              "      fill: #174EA6;\n",
              "    }\n",
              "\n",
              "    [theme=dark] .colab-df-convert {\n",
              "      background-color: #3B4455;\n",
              "      fill: #D2E3FC;\n",
              "    }\n",
              "\n",
              "    [theme=dark] .colab-df-convert:hover {\n",
              "      background-color: #434B5C;\n",
              "      box-shadow: 0px 1px 3px 1px rgba(0, 0, 0, 0.15);\n",
              "      filter: drop-shadow(0px 1px 2px rgba(0, 0, 0, 0.3));\n",
              "      fill: #FFFFFF;\n",
              "    }\n",
              "  </style>\n",
              "\n",
              "      <script>\n",
              "        const buttonEl =\n",
              "          document.querySelector('#df-14fb4d43-db61-419a-a42c-c27e7287cd8d button.colab-df-convert');\n",
              "        buttonEl.style.display =\n",
              "          google.colab.kernel.accessAllowed ? 'block' : 'none';\n",
              "\n",
              "        async function convertToInteractive(key) {\n",
              "          const element = document.querySelector('#df-14fb4d43-db61-419a-a42c-c27e7287cd8d');\n",
              "          const dataTable =\n",
              "            await google.colab.kernel.invokeFunction('convertToInteractive',\n",
              "                                                     [key], {});\n",
              "          if (!dataTable) return;\n",
              "\n",
              "          const docLinkHtml = 'Like what you see? Visit the ' +\n",
              "            '<a target=\"_blank\" href=https://colab.research.google.com/notebooks/data_table.ipynb>data table notebook</a>'\n",
              "            + ' to learn more about interactive tables.';\n",
              "          element.innerHTML = '';\n",
              "          dataTable['output_type'] = 'display_data';\n",
              "          await google.colab.output.renderOutput(dataTable, element);\n",
              "          const docLink = document.createElement('div');\n",
              "          docLink.innerHTML = docLinkHtml;\n",
              "          element.appendChild(docLink);\n",
              "        }\n",
              "      </script>\n",
              "    </div>\n",
              "  </div>\n",
              "  "
            ]
          },
          "metadata": {},
          "execution_count": 5
        }
      ],
      "source": [
        "clients.loc[clients['dob_years'] == clients['dob_years'].max()]\n"
      ]
    },
    {
      "cell_type": "markdown",
      "id": "443afc04",
      "metadata": {
        "id": "443afc04"
      },
      "source": [
        "При условии, что данный человек начал работать в 18 лет, максимальное количество трудовых дней должно быть не больше (75-18)*365 = 20805 дней."
      ]
    },
    {
      "cell_type": "code",
      "execution_count": 6,
      "id": "39e186ba",
      "metadata": {
        "colab": {
          "base_uri": "https://localhost:8080/"
        },
        "id": "39e186ba",
        "outputId": "328694fe-04b4-48b1-ae71-306296a76895"
      },
      "outputs": [
        {
          "output_type": "execute_result",
          "data": {
            "text/plain": [
              "578      20805.0\n",
              "1175     20805.0\n",
              "14659    20805.0\n",
              "8061     20805.0\n",
              "12729    20805.0\n",
              "          ...   \n",
              "21489        NaN\n",
              "21495        NaN\n",
              "21497        NaN\n",
              "21502        NaN\n",
              "21510        NaN\n",
              "Name: days_employed, Length: 21525, dtype: float64"
            ]
          },
          "metadata": {},
          "execution_count": 6
        }
      ],
      "source": [
        "# используем функцию для замены значений, выходящих за этот предел. Будем считать, что каждый человек из списка начал работать в 18 лет\n",
        "\n",
        "def days_employed_anomaly(row):\n",
        "    days_employed = row['days_employed']\n",
        "    dob_years = row['dob_years']\n",
        "    max_days_employed = 20805\n",
        "    if (days_employed > max_days_employed) & (dob_years != 0):\n",
        "        days_employed = (dob_years - 18) * 365\n",
        "    if (days_employed > max_days_employed) & (dob_years == 0):\n",
        "        days_employed = max_days_employed\n",
        "    return days_employed\n",
        "\n",
        "clients['days_employed'] = clients.apply(days_employed_anomaly, axis=1)\n",
        "\n",
        "clients['days_employed'].sort_values(ascending=False) # проверим максимальное значение в столбце 'days_employed'\n"
      ]
    },
    {
      "cell_type": "markdown",
      "id": "a6bc495e",
      "metadata": {
        "id": "a6bc495e"
      },
      "source": [
        "Заполним пропуски в `days_employed` медианными значениями по этому столбцу."
      ]
    },
    {
      "cell_type": "code",
      "execution_count": 7,
      "id": "0403b9b8",
      "metadata": {
        "colab": {
          "base_uri": "https://localhost:8080/"
        },
        "id": "0403b9b8",
        "outputId": "1e3fb2a7-17f1-4ae3-fe73-81aca59ecf0c"
      },
      "outputs": [
        {
          "output_type": "execute_result",
          "data": {
            "text/plain": [
              "children            0\n",
              "days_employed       0\n",
              "dob_years           0\n",
              "education           0\n",
              "education_id        0\n",
              "family_status       0\n",
              "family_status_id    0\n",
              "gender              0\n",
              "income_type         0\n",
              "debt                0\n",
              "total_income        0\n",
              "purpose             0\n",
              "dtype: int64"
            ]
          },
          "metadata": {},
          "execution_count": 7
        }
      ],
      "source": [
        "clients['days_employed'] = clients['days_employed'].fillna(clients['days_employed'].median()) # Заполнение пропусков в 'days_employed'\n",
        "clients.isna().sum() # проверим результат "
      ]
    },
    {
      "cell_type": "code",
      "execution_count": 8,
      "id": "9189de65",
      "metadata": {
        "colab": {
          "base_uri": "https://localhost:8080/"
        },
        "id": "9189de65",
        "outputId": "0a458e9f-bb4f-4b45-ba87-693c5544f83f"
      },
      "outputs": [
        {
          "output_type": "execute_result",
          "data": {
            "text/plain": [
              "Index(['children', 'days_employed', 'dob_years', 'education', 'education_id',\n",
              "       'family_status', 'family_status_id', 'gender', 'income_type', 'debt',\n",
              "       'total_income', 'purpose'],\n",
              "      dtype='object')"
            ]
          },
          "metadata": {},
          "execution_count": 8
        }
      ],
      "source": [
        "# проерим на аномалии другие столбцы\n",
        "clients.columns"
      ]
    },
    {
      "cell_type": "code",
      "execution_count": 9,
      "id": "43ce32c9",
      "metadata": {
        "colab": {
          "base_uri": "https://localhost:8080/"
        },
        "id": "43ce32c9",
        "outputId": "e0407984-cbf2-4923-e488-03a717e85997"
      },
      "outputs": [
        {
          "output_type": "execute_result",
          "data": {
            "text/plain": [
              "19562    20\n",
              "11715    20\n",
              "3302     20\n",
              "5315     20\n",
              "13489    20\n",
              "         ..\n",
              "16265    -1\n",
              "6013     -1\n",
              "21140    -1\n",
              "19100    -1\n",
              "15147    -1\n",
              "Name: children, Length: 21525, dtype: int64"
            ]
          },
          "metadata": {},
          "execution_count": 9
        }
      ],
      "source": [
        "clients['children'].sort_values(ascending=False)\n"
      ]
    },
    {
      "cell_type": "markdown",
      "source": [
        "В столбце children также есть отрицательные значения, приведем их к абсолютному значению."
      ],
      "metadata": {
        "id": "a9YcCs0AZ-fL"
      },
      "id": "a9YcCs0AZ-fL"
    },
    {
      "cell_type": "code",
      "execution_count": 10,
      "id": "1d6137e5",
      "metadata": {
        "colab": {
          "base_uri": "https://localhost:8080/"
        },
        "id": "1d6137e5",
        "outputId": "bad69423-5382-4783-ac98-3b29de7bb3f6"
      },
      "outputs": [
        {
          "output_type": "execute_result",
          "data": {
            "text/plain": [
              "0     14149\n",
              "1      4865\n",
              "2      2055\n",
              "3       330\n",
              "20       76\n",
              "4        41\n",
              "5         9\n",
              "Name: children, dtype: int64"
            ]
          },
          "metadata": {},
          "execution_count": 10
        }
      ],
      "source": [
        "clients['children'] = clients['children'].abs()\n",
        "clients['children'].value_counts() #проверим распределение занчений в столбце"
      ]
    },
    {
      "cell_type": "markdown",
      "id": "056f83d5",
      "metadata": {
        "id": "056f83d5"
      },
      "source": [
        "Из 21525 заемщиков 76 человек имеют 20 детей. Доля выглядит небольшой (76 / 21525 * 100 = 0,3%), но смущает большой разрыв между предыдущим показателем в пять детей. Поэтому данные о 20 детях, скорее всего, артефакты и от них стоит избавиться. Чтобы не удалять полностью строки с данными о заемщиках, у которых указано 20 детей, заменим данные о детях на NaN."
      ]
    },
    {
      "cell_type": "code",
      "execution_count": 11,
      "id": "ed967fca",
      "metadata": {
        "colab": {
          "base_uri": "https://localhost:8080/"
        },
        "id": "ed967fca",
        "outputId": "09ae7051-eff2-480c-99d8-5e56beb5d8b1"
      },
      "outputs": [
        {
          "output_type": "execute_result",
          "data": {
            "text/plain": [
              "array([ 1.,  0.,  3.,  2.,  4., nan,  5.])"
            ]
          },
          "metadata": {},
          "execution_count": 11
        }
      ],
      "source": [
        "# заменим данные о 20 детях на NaN\n",
        "clients.loc[clients['children'] == 20, 'children'] = 'NaN'\n",
        "clients['children'] = pd.to_numeric(clients['children'], errors='coerce') # заменим тип данных на цифровой\n",
        "clients['children'].unique() # проверим результат"
      ]
    },
    {
      "cell_type": "code",
      "execution_count": 12,
      "id": "e8402619",
      "metadata": {
        "colab": {
          "base_uri": "https://localhost:8080/",
          "height": 233
        },
        "id": "e8402619",
        "outputId": "782bec7b-42f4-4a60-f1c8-3495349348b7"
      },
      "outputs": [
        {
          "output_type": "display_data",
          "data": {
            "text/plain": [
              "array([42, 36, 33, 32, 53, 27, 43, 50, 35, 41, 40, 65, 54, 56, 26, 48, 24,\n",
              "       21, 57, 67, 28, 63, 62, 47, 34, 68, 25, 31, 30, 20, 49, 37, 45, 61,\n",
              "       64, 44, 52, 46, 23, 38, 39, 51,  0, 59, 29, 60, 55, 58, 71, 22, 73,\n",
              "       66, 69, 19, 72, 70, 74, 75])"
            ]
          },
          "metadata": {}
        },
        {
          "output_type": "display_data",
          "data": {
            "text/plain": [
              "101"
            ]
          },
          "metadata": {}
        },
        {
          "output_type": "execute_result",
          "data": {
            "text/plain": [
              "                    min           max        median\n",
              "          days_employed days_employed days_employed\n",
              "dob_years                                          \n",
              "0            108.967042       20805.0   2161.591519"
            ],
            "text/html": [
              "\n",
              "  <div id=\"df-8fdd280a-8eec-4944-9e4c-cc2b9cba0967\">\n",
              "    <div class=\"colab-df-container\">\n",
              "      <div>\n",
              "<style scoped>\n",
              "    .dataframe tbody tr th:only-of-type {\n",
              "        vertical-align: middle;\n",
              "    }\n",
              "\n",
              "    .dataframe tbody tr th {\n",
              "        vertical-align: top;\n",
              "    }\n",
              "\n",
              "    .dataframe thead tr th {\n",
              "        text-align: left;\n",
              "    }\n",
              "\n",
              "    .dataframe thead tr:last-of-type th {\n",
              "        text-align: right;\n",
              "    }\n",
              "</style>\n",
              "<table border=\"1\" class=\"dataframe\">\n",
              "  <thead>\n",
              "    <tr>\n",
              "      <th></th>\n",
              "      <th>min</th>\n",
              "      <th>max</th>\n",
              "      <th>median</th>\n",
              "    </tr>\n",
              "    <tr>\n",
              "      <th></th>\n",
              "      <th>days_employed</th>\n",
              "      <th>days_employed</th>\n",
              "      <th>days_employed</th>\n",
              "    </tr>\n",
              "    <tr>\n",
              "      <th>dob_years</th>\n",
              "      <th></th>\n",
              "      <th></th>\n",
              "      <th></th>\n",
              "    </tr>\n",
              "  </thead>\n",
              "  <tbody>\n",
              "    <tr>\n",
              "      <th>0</th>\n",
              "      <td>108.967042</td>\n",
              "      <td>20805.0</td>\n",
              "      <td>2161.591519</td>\n",
              "    </tr>\n",
              "  </tbody>\n",
              "</table>\n",
              "</div>\n",
              "      <button class=\"colab-df-convert\" onclick=\"convertToInteractive('df-8fdd280a-8eec-4944-9e4c-cc2b9cba0967')\"\n",
              "              title=\"Convert this dataframe to an interactive table.\"\n",
              "              style=\"display:none;\">\n",
              "        \n",
              "  <svg xmlns=\"http://www.w3.org/2000/svg\" height=\"24px\"viewBox=\"0 0 24 24\"\n",
              "       width=\"24px\">\n",
              "    <path d=\"M0 0h24v24H0V0z\" fill=\"none\"/>\n",
              "    <path d=\"M18.56 5.44l.94 2.06.94-2.06 2.06-.94-2.06-.94-.94-2.06-.94 2.06-2.06.94zm-11 1L8.5 8.5l.94-2.06 2.06-.94-2.06-.94L8.5 2.5l-.94 2.06-2.06.94zm10 10l.94 2.06.94-2.06 2.06-.94-2.06-.94-.94-2.06-.94 2.06-2.06.94z\"/><path d=\"M17.41 7.96l-1.37-1.37c-.4-.4-.92-.59-1.43-.59-.52 0-1.04.2-1.43.59L10.3 9.45l-7.72 7.72c-.78.78-.78 2.05 0 2.83L4 21.41c.39.39.9.59 1.41.59.51 0 1.02-.2 1.41-.59l7.78-7.78 2.81-2.81c.8-.78.8-2.07 0-2.86zM5.41 20L4 18.59l7.72-7.72 1.47 1.35L5.41 20z\"/>\n",
              "  </svg>\n",
              "      </button>\n",
              "      \n",
              "  <style>\n",
              "    .colab-df-container {\n",
              "      display:flex;\n",
              "      flex-wrap:wrap;\n",
              "      gap: 12px;\n",
              "    }\n",
              "\n",
              "    .colab-df-convert {\n",
              "      background-color: #E8F0FE;\n",
              "      border: none;\n",
              "      border-radius: 50%;\n",
              "      cursor: pointer;\n",
              "      display: none;\n",
              "      fill: #1967D2;\n",
              "      height: 32px;\n",
              "      padding: 0 0 0 0;\n",
              "      width: 32px;\n",
              "    }\n",
              "\n",
              "    .colab-df-convert:hover {\n",
              "      background-color: #E2EBFA;\n",
              "      box-shadow: 0px 1px 2px rgba(60, 64, 67, 0.3), 0px 1px 3px 1px rgba(60, 64, 67, 0.15);\n",
              "      fill: #174EA6;\n",
              "    }\n",
              "\n",
              "    [theme=dark] .colab-df-convert {\n",
              "      background-color: #3B4455;\n",
              "      fill: #D2E3FC;\n",
              "    }\n",
              "\n",
              "    [theme=dark] .colab-df-convert:hover {\n",
              "      background-color: #434B5C;\n",
              "      box-shadow: 0px 1px 3px 1px rgba(0, 0, 0, 0.15);\n",
              "      filter: drop-shadow(0px 1px 2px rgba(0, 0, 0, 0.3));\n",
              "      fill: #FFFFFF;\n",
              "    }\n",
              "  </style>\n",
              "\n",
              "      <script>\n",
              "        const buttonEl =\n",
              "          document.querySelector('#df-8fdd280a-8eec-4944-9e4c-cc2b9cba0967 button.colab-df-convert');\n",
              "        buttonEl.style.display =\n",
              "          google.colab.kernel.accessAllowed ? 'block' : 'none';\n",
              "\n",
              "        async function convertToInteractive(key) {\n",
              "          const element = document.querySelector('#df-8fdd280a-8eec-4944-9e4c-cc2b9cba0967');\n",
              "          const dataTable =\n",
              "            await google.colab.kernel.invokeFunction('convertToInteractive',\n",
              "                                                     [key], {});\n",
              "          if (!dataTable) return;\n",
              "\n",
              "          const docLinkHtml = 'Like what you see? Visit the ' +\n",
              "            '<a target=\"_blank\" href=https://colab.research.google.com/notebooks/data_table.ipynb>data table notebook</a>'\n",
              "            + ' to learn more about interactive tables.';\n",
              "          element.innerHTML = '';\n",
              "          dataTable['output_type'] = 'display_data';\n",
              "          await google.colab.output.renderOutput(dataTable, element);\n",
              "          const docLink = document.createElement('div');\n",
              "          docLink.innerHTML = docLinkHtml;\n",
              "          element.appendChild(docLink);\n",
              "        }\n",
              "      </script>\n",
              "    </div>\n",
              "  </div>\n",
              "  "
            ]
          },
          "metadata": {},
          "execution_count": 12
        }
      ],
      "source": [
        "# проверим на аномалии столбец dob_years, показывающий возраст клиента в годах\n",
        "clients['dob_years'].sort_values(ascending=False)\n",
        "display(clients['dob_years'].unique()) # в столбце есть нулевые значения\n",
        "display(len(clients.query('dob_years == 0'))) # проверим их количество\n",
        "\n",
        "# проверим, можно ли использовать информацию о стаже, чтобы заполнить нулевые значения в столбце, показывающим возраст клиентов\n",
        "years = (\n",
        "    clients[['dob_years','days_employed']]\n",
        "    .query('dob_years == 0')\n",
        "    .pivot_table(index = 'dob_years', values = 'days_employed', aggfunc = ['min', 'max', 'median'])\n",
        ")\n",
        "years"
      ]
    },
    {
      "cell_type": "markdown",
      "source": [
        "Информация выглядит реалистичной, поэтому заменим нулевые значения на данные, рассчитанные по формуле \"трудовой стаж\" / 365 дней + 18 лет."
      ],
      "metadata": {
        "id": "4ba-Ezmv8eQP"
      },
      "id": "4ba-Ezmv8eQP"
    },
    {
      "cell_type": "code",
      "execution_count": 13,
      "id": "06351ca5",
      "metadata": {
        "colab": {
          "base_uri": "https://localhost:8080/",
          "height": 1000
        },
        "id": "06351ca5",
        "outputId": "e4f77a05-6f39-4ad2-c5d3-1ea82e987f9a"
      },
      "outputs": [
        {
          "output_type": "execute_result",
          "data": {
            "text/plain": [
              "    index  dob_years\n",
              "57   18.0          3\n",
              "53   19.0         23\n",
              "50   20.0         59\n",
              "46   21.0        123\n",
              "43   22.0        193\n",
              "41   23.0        261\n",
              "38   24.0        277\n",
              "35   25.0        362\n",
              "33   26.0        408\n",
              "21   27.0        495\n",
              "19   28.0        505\n",
              "11   29.0        545\n",
              "12   30.0        543\n",
              "8    31.0        563\n",
              "17   32.0        512\n",
              "6    33.0        581\n",
              "3    34.0        604\n",
              "0    35.0        617\n",
              "9    36.0        556\n",
              "14   37.0        537\n",
              "4    38.0        598\n",
              "7    39.0        573\n",
              "1    40.0        610\n",
              "2    41.0        607\n",
              "5    42.0        597\n",
              "16   43.0        513\n",
              "10   44.0        547\n",
              "20   45.0        497\n",
              "26   46.0        475\n",
              "24   47.0        482\n",
              "13   48.0        538\n",
              "18   49.0        508\n",
              "15   50.0        514\n",
              "30   51.0        448\n",
              "23   52.0        484\n",
              "29   53.0        459\n",
              "25   54.0        479\n",
              "32   55.0        443\n",
              "22   56.0        487\n",
              "28   57.0        460\n",
              "27   58.0        461\n",
              "31   59.0        444\n",
              "34   60.0        377\n",
              "36   61.0        355\n",
              "37   62.0        352\n",
              "39   63.0        269\n",
              "40   64.0        265\n",
              "42   65.0        194\n",
              "44   66.0        183\n",
              "45   67.0        167\n",
              "47   68.0         99\n",
              "48   69.0         85\n",
              "49   70.0         65\n",
              "51   71.0         58\n",
              "52   72.0         33\n",
              "55   73.0          8\n",
              "56   74.0          6\n",
              "54   75.0         18"
            ],
            "text/html": [
              "\n",
              "  <div id=\"df-93511960-ef38-4be0-9a58-f2b4ca10ac9c\">\n",
              "    <div class=\"colab-df-container\">\n",
              "      <div>\n",
              "<style scoped>\n",
              "    .dataframe tbody tr th:only-of-type {\n",
              "        vertical-align: middle;\n",
              "    }\n",
              "\n",
              "    .dataframe tbody tr th {\n",
              "        vertical-align: top;\n",
              "    }\n",
              "\n",
              "    .dataframe thead th {\n",
              "        text-align: right;\n",
              "    }\n",
              "</style>\n",
              "<table border=\"1\" class=\"dataframe\">\n",
              "  <thead>\n",
              "    <tr style=\"text-align: right;\">\n",
              "      <th></th>\n",
              "      <th>index</th>\n",
              "      <th>dob_years</th>\n",
              "    </tr>\n",
              "  </thead>\n",
              "  <tbody>\n",
              "    <tr>\n",
              "      <th>57</th>\n",
              "      <td>18.0</td>\n",
              "      <td>3</td>\n",
              "    </tr>\n",
              "    <tr>\n",
              "      <th>53</th>\n",
              "      <td>19.0</td>\n",
              "      <td>23</td>\n",
              "    </tr>\n",
              "    <tr>\n",
              "      <th>50</th>\n",
              "      <td>20.0</td>\n",
              "      <td>59</td>\n",
              "    </tr>\n",
              "    <tr>\n",
              "      <th>46</th>\n",
              "      <td>21.0</td>\n",
              "      <td>123</td>\n",
              "    </tr>\n",
              "    <tr>\n",
              "      <th>43</th>\n",
              "      <td>22.0</td>\n",
              "      <td>193</td>\n",
              "    </tr>\n",
              "    <tr>\n",
              "      <th>41</th>\n",
              "      <td>23.0</td>\n",
              "      <td>261</td>\n",
              "    </tr>\n",
              "    <tr>\n",
              "      <th>38</th>\n",
              "      <td>24.0</td>\n",
              "      <td>277</td>\n",
              "    </tr>\n",
              "    <tr>\n",
              "      <th>35</th>\n",
              "      <td>25.0</td>\n",
              "      <td>362</td>\n",
              "    </tr>\n",
              "    <tr>\n",
              "      <th>33</th>\n",
              "      <td>26.0</td>\n",
              "      <td>408</td>\n",
              "    </tr>\n",
              "    <tr>\n",
              "      <th>21</th>\n",
              "      <td>27.0</td>\n",
              "      <td>495</td>\n",
              "    </tr>\n",
              "    <tr>\n",
              "      <th>19</th>\n",
              "      <td>28.0</td>\n",
              "      <td>505</td>\n",
              "    </tr>\n",
              "    <tr>\n",
              "      <th>11</th>\n",
              "      <td>29.0</td>\n",
              "      <td>545</td>\n",
              "    </tr>\n",
              "    <tr>\n",
              "      <th>12</th>\n",
              "      <td>30.0</td>\n",
              "      <td>543</td>\n",
              "    </tr>\n",
              "    <tr>\n",
              "      <th>8</th>\n",
              "      <td>31.0</td>\n",
              "      <td>563</td>\n",
              "    </tr>\n",
              "    <tr>\n",
              "      <th>17</th>\n",
              "      <td>32.0</td>\n",
              "      <td>512</td>\n",
              "    </tr>\n",
              "    <tr>\n",
              "      <th>6</th>\n",
              "      <td>33.0</td>\n",
              "      <td>581</td>\n",
              "    </tr>\n",
              "    <tr>\n",
              "      <th>3</th>\n",
              "      <td>34.0</td>\n",
              "      <td>604</td>\n",
              "    </tr>\n",
              "    <tr>\n",
              "      <th>0</th>\n",
              "      <td>35.0</td>\n",
              "      <td>617</td>\n",
              "    </tr>\n",
              "    <tr>\n",
              "      <th>9</th>\n",
              "      <td>36.0</td>\n",
              "      <td>556</td>\n",
              "    </tr>\n",
              "    <tr>\n",
              "      <th>14</th>\n",
              "      <td>37.0</td>\n",
              "      <td>537</td>\n",
              "    </tr>\n",
              "    <tr>\n",
              "      <th>4</th>\n",
              "      <td>38.0</td>\n",
              "      <td>598</td>\n",
              "    </tr>\n",
              "    <tr>\n",
              "      <th>7</th>\n",
              "      <td>39.0</td>\n",
              "      <td>573</td>\n",
              "    </tr>\n",
              "    <tr>\n",
              "      <th>1</th>\n",
              "      <td>40.0</td>\n",
              "      <td>610</td>\n",
              "    </tr>\n",
              "    <tr>\n",
              "      <th>2</th>\n",
              "      <td>41.0</td>\n",
              "      <td>607</td>\n",
              "    </tr>\n",
              "    <tr>\n",
              "      <th>5</th>\n",
              "      <td>42.0</td>\n",
              "      <td>597</td>\n",
              "    </tr>\n",
              "    <tr>\n",
              "      <th>16</th>\n",
              "      <td>43.0</td>\n",
              "      <td>513</td>\n",
              "    </tr>\n",
              "    <tr>\n",
              "      <th>10</th>\n",
              "      <td>44.0</td>\n",
              "      <td>547</td>\n",
              "    </tr>\n",
              "    <tr>\n",
              "      <th>20</th>\n",
              "      <td>45.0</td>\n",
              "      <td>497</td>\n",
              "    </tr>\n",
              "    <tr>\n",
              "      <th>26</th>\n",
              "      <td>46.0</td>\n",
              "      <td>475</td>\n",
              "    </tr>\n",
              "    <tr>\n",
              "      <th>24</th>\n",
              "      <td>47.0</td>\n",
              "      <td>482</td>\n",
              "    </tr>\n",
              "    <tr>\n",
              "      <th>13</th>\n",
              "      <td>48.0</td>\n",
              "      <td>538</td>\n",
              "    </tr>\n",
              "    <tr>\n",
              "      <th>18</th>\n",
              "      <td>49.0</td>\n",
              "      <td>508</td>\n",
              "    </tr>\n",
              "    <tr>\n",
              "      <th>15</th>\n",
              "      <td>50.0</td>\n",
              "      <td>514</td>\n",
              "    </tr>\n",
              "    <tr>\n",
              "      <th>30</th>\n",
              "      <td>51.0</td>\n",
              "      <td>448</td>\n",
              "    </tr>\n",
              "    <tr>\n",
              "      <th>23</th>\n",
              "      <td>52.0</td>\n",
              "      <td>484</td>\n",
              "    </tr>\n",
              "    <tr>\n",
              "      <th>29</th>\n",
              "      <td>53.0</td>\n",
              "      <td>459</td>\n",
              "    </tr>\n",
              "    <tr>\n",
              "      <th>25</th>\n",
              "      <td>54.0</td>\n",
              "      <td>479</td>\n",
              "    </tr>\n",
              "    <tr>\n",
              "      <th>32</th>\n",
              "      <td>55.0</td>\n",
              "      <td>443</td>\n",
              "    </tr>\n",
              "    <tr>\n",
              "      <th>22</th>\n",
              "      <td>56.0</td>\n",
              "      <td>487</td>\n",
              "    </tr>\n",
              "    <tr>\n",
              "      <th>28</th>\n",
              "      <td>57.0</td>\n",
              "      <td>460</td>\n",
              "    </tr>\n",
              "    <tr>\n",
              "      <th>27</th>\n",
              "      <td>58.0</td>\n",
              "      <td>461</td>\n",
              "    </tr>\n",
              "    <tr>\n",
              "      <th>31</th>\n",
              "      <td>59.0</td>\n",
              "      <td>444</td>\n",
              "    </tr>\n",
              "    <tr>\n",
              "      <th>34</th>\n",
              "      <td>60.0</td>\n",
              "      <td>377</td>\n",
              "    </tr>\n",
              "    <tr>\n",
              "      <th>36</th>\n",
              "      <td>61.0</td>\n",
              "      <td>355</td>\n",
              "    </tr>\n",
              "    <tr>\n",
              "      <th>37</th>\n",
              "      <td>62.0</td>\n",
              "      <td>352</td>\n",
              "    </tr>\n",
              "    <tr>\n",
              "      <th>39</th>\n",
              "      <td>63.0</td>\n",
              "      <td>269</td>\n",
              "    </tr>\n",
              "    <tr>\n",
              "      <th>40</th>\n",
              "      <td>64.0</td>\n",
              "      <td>265</td>\n",
              "    </tr>\n",
              "    <tr>\n",
              "      <th>42</th>\n",
              "      <td>65.0</td>\n",
              "      <td>194</td>\n",
              "    </tr>\n",
              "    <tr>\n",
              "      <th>44</th>\n",
              "      <td>66.0</td>\n",
              "      <td>183</td>\n",
              "    </tr>\n",
              "    <tr>\n",
              "      <th>45</th>\n",
              "      <td>67.0</td>\n",
              "      <td>167</td>\n",
              "    </tr>\n",
              "    <tr>\n",
              "      <th>47</th>\n",
              "      <td>68.0</td>\n",
              "      <td>99</td>\n",
              "    </tr>\n",
              "    <tr>\n",
              "      <th>48</th>\n",
              "      <td>69.0</td>\n",
              "      <td>85</td>\n",
              "    </tr>\n",
              "    <tr>\n",
              "      <th>49</th>\n",
              "      <td>70.0</td>\n",
              "      <td>65</td>\n",
              "    </tr>\n",
              "    <tr>\n",
              "      <th>51</th>\n",
              "      <td>71.0</td>\n",
              "      <td>58</td>\n",
              "    </tr>\n",
              "    <tr>\n",
              "      <th>52</th>\n",
              "      <td>72.0</td>\n",
              "      <td>33</td>\n",
              "    </tr>\n",
              "    <tr>\n",
              "      <th>55</th>\n",
              "      <td>73.0</td>\n",
              "      <td>8</td>\n",
              "    </tr>\n",
              "    <tr>\n",
              "      <th>56</th>\n",
              "      <td>74.0</td>\n",
              "      <td>6</td>\n",
              "    </tr>\n",
              "    <tr>\n",
              "      <th>54</th>\n",
              "      <td>75.0</td>\n",
              "      <td>18</td>\n",
              "    </tr>\n",
              "  </tbody>\n",
              "</table>\n",
              "</div>\n",
              "      <button class=\"colab-df-convert\" onclick=\"convertToInteractive('df-93511960-ef38-4be0-9a58-f2b4ca10ac9c')\"\n",
              "              title=\"Convert this dataframe to an interactive table.\"\n",
              "              style=\"display:none;\">\n",
              "        \n",
              "  <svg xmlns=\"http://www.w3.org/2000/svg\" height=\"24px\"viewBox=\"0 0 24 24\"\n",
              "       width=\"24px\">\n",
              "    <path d=\"M0 0h24v24H0V0z\" fill=\"none\"/>\n",
              "    <path d=\"M18.56 5.44l.94 2.06.94-2.06 2.06-.94-2.06-.94-.94-2.06-.94 2.06-2.06.94zm-11 1L8.5 8.5l.94-2.06 2.06-.94-2.06-.94L8.5 2.5l-.94 2.06-2.06.94zm10 10l.94 2.06.94-2.06 2.06-.94-2.06-.94-.94-2.06-.94 2.06-2.06.94z\"/><path d=\"M17.41 7.96l-1.37-1.37c-.4-.4-.92-.59-1.43-.59-.52 0-1.04.2-1.43.59L10.3 9.45l-7.72 7.72c-.78.78-.78 2.05 0 2.83L4 21.41c.39.39.9.59 1.41.59.51 0 1.02-.2 1.41-.59l7.78-7.78 2.81-2.81c.8-.78.8-2.07 0-2.86zM5.41 20L4 18.59l7.72-7.72 1.47 1.35L5.41 20z\"/>\n",
              "  </svg>\n",
              "      </button>\n",
              "      \n",
              "  <style>\n",
              "    .colab-df-container {\n",
              "      display:flex;\n",
              "      flex-wrap:wrap;\n",
              "      gap: 12px;\n",
              "    }\n",
              "\n",
              "    .colab-df-convert {\n",
              "      background-color: #E8F0FE;\n",
              "      border: none;\n",
              "      border-radius: 50%;\n",
              "      cursor: pointer;\n",
              "      display: none;\n",
              "      fill: #1967D2;\n",
              "      height: 32px;\n",
              "      padding: 0 0 0 0;\n",
              "      width: 32px;\n",
              "    }\n",
              "\n",
              "    .colab-df-convert:hover {\n",
              "      background-color: #E2EBFA;\n",
              "      box-shadow: 0px 1px 2px rgba(60, 64, 67, 0.3), 0px 1px 3px 1px rgba(60, 64, 67, 0.15);\n",
              "      fill: #174EA6;\n",
              "    }\n",
              "\n",
              "    [theme=dark] .colab-df-convert {\n",
              "      background-color: #3B4455;\n",
              "      fill: #D2E3FC;\n",
              "    }\n",
              "\n",
              "    [theme=dark] .colab-df-convert:hover {\n",
              "      background-color: #434B5C;\n",
              "      box-shadow: 0px 1px 3px 1px rgba(0, 0, 0, 0.15);\n",
              "      filter: drop-shadow(0px 1px 2px rgba(0, 0, 0, 0.3));\n",
              "      fill: #FFFFFF;\n",
              "    }\n",
              "  </style>\n",
              "\n",
              "      <script>\n",
              "        const buttonEl =\n",
              "          document.querySelector('#df-93511960-ef38-4be0-9a58-f2b4ca10ac9c button.colab-df-convert');\n",
              "        buttonEl.style.display =\n",
              "          google.colab.kernel.accessAllowed ? 'block' : 'none';\n",
              "\n",
              "        async function convertToInteractive(key) {\n",
              "          const element = document.querySelector('#df-93511960-ef38-4be0-9a58-f2b4ca10ac9c');\n",
              "          const dataTable =\n",
              "            await google.colab.kernel.invokeFunction('convertToInteractive',\n",
              "                                                     [key], {});\n",
              "          if (!dataTable) return;\n",
              "\n",
              "          const docLinkHtml = 'Like what you see? Visit the ' +\n",
              "            '<a target=\"_blank\" href=https://colab.research.google.com/notebooks/data_table.ipynb>data table notebook</a>'\n",
              "            + ' to learn more about interactive tables.';\n",
              "          element.innerHTML = '';\n",
              "          dataTable['output_type'] = 'display_data';\n",
              "          await google.colab.output.renderOutput(dataTable, element);\n",
              "          const docLink = document.createElement('div');\n",
              "          docLink.innerHTML = docLinkHtml;\n",
              "          element.appendChild(docLink);\n",
              "        }\n",
              "      </script>\n",
              "    </div>\n",
              "  </div>\n",
              "  "
            ]
          },
          "metadata": {},
          "execution_count": 13
        }
      ],
      "source": [
        "# создадим функцию для замены нулевых значений\n",
        "\n",
        "def zero_years(row):\n",
        "    days_employed = row['days_employed']\n",
        "    dob_years = row['dob_years']\n",
        "    if dob_years == 0:\n",
        "        dob_years = days_employed / 365 + 18\n",
        "    return dob_years\n",
        "\n",
        "        \n",
        "clients['dob_years'] = clients.apply(zero_years, axis=1).round(0)\n",
        "clients['dob_years'].value_counts().reset_index().sort_values(by='index') # проверим результат\n"
      ]
    },
    {
      "cell_type": "code",
      "execution_count": 14,
      "id": "110f4437",
      "metadata": {
        "colab": {
          "base_uri": "https://localhost:8080/"
        },
        "id": "110f4437",
        "outputId": "33b6e537-793e-41f5-be47-def04d314699"
      },
      "outputs": [
        {
          "output_type": "execute_result",
          "data": {
            "text/plain": [
              "12412    2.265604e+06\n",
              "19606    2.200852e+06\n",
              "9169     1.726276e+06\n",
              "20809    1.715018e+06\n",
              "17178    1.711309e+06\n",
              "             ...     \n",
              "14276    2.189561e+04\n",
              "1598     2.169510e+04\n",
              "16174    2.136765e+04\n",
              "13006    2.120528e+04\n",
              "14585    2.066726e+04\n",
              "Name: total_income, Length: 21525, dtype: float64"
            ]
          },
          "metadata": {},
          "execution_count": 14
        }
      ],
      "source": [
        "# проверим на аномалии столбец total_income\n",
        "clients['total_income'].sort_values(ascending=False) # аномалий нет"
      ]
    },
    {
      "cell_type": "code",
      "execution_count": 15,
      "id": "8c5c14f5",
      "metadata": {
        "colab": {
          "base_uri": "https://localhost:8080/"
        },
        "id": "8c5c14f5",
        "outputId": "6fcaaa36-e7dc-479a-c67a-56d4f6c0da08"
      },
      "outputs": [
        {
          "output_type": "execute_result",
          "data": {
            "text/plain": [
              "array([0, 1])"
            ]
          },
          "metadata": {},
          "execution_count": 15
        }
      ],
      "source": [
        "# проверим на аномалии столбец debt\n",
        "clients['debt'].unique() # аномалий нет"
      ]
    },
    {
      "cell_type": "markdown",
      "id": "5853878e",
      "metadata": {
        "id": "5853878e"
      },
      "source": [
        "Столбцы  с типом данных object `education`, `education_id`,`family_status`, `family_status_id`, `gender`, `income_type`, `purpose` мы проверим в следующем пункте."
      ]
    },
    {
      "cell_type": "markdown",
      "id": "277a10a1",
      "metadata": {
        "id": "277a10a1"
      },
      "source": [
        "### Шаг 2.3. Изменение типов данных."
      ]
    },
    {
      "cell_type": "code",
      "execution_count": 16,
      "id": "65009441",
      "metadata": {
        "id": "65009441"
      },
      "outputs": [],
      "source": [
        "# Заменим вещественный тип данных в столбце 'total_income' на целочисленный\n",
        "clients['total_income'] = clients['total_income'].astype('int') \n"
      ]
    },
    {
      "cell_type": "markdown",
      "id": "c81e60cc",
      "metadata": {
        "id": "c81e60cc"
      },
      "source": [
        "### Шаг 2.4. Удаление дубликатов."
      ]
    },
    {
      "cell_type": "code",
      "execution_count": 17,
      "id": "d1c8d07d",
      "metadata": {
        "colab": {
          "base_uri": "https://localhost:8080/"
        },
        "id": "d1c8d07d",
        "outputId": "2c442d2b-aea5-4275-e571-58bd1edd6b28"
      },
      "outputs": [
        {
          "output_type": "execute_result",
          "data": {
            "text/plain": [
              "54"
            ]
          },
          "metadata": {},
          "execution_count": 17
        }
      ],
      "source": [
        "clients.duplicated().sum() # проверим количество дубликатов в таблице"
      ]
    },
    {
      "cell_type": "code",
      "execution_count": 18,
      "id": "b7b403e0",
      "metadata": {
        "colab": {
          "base_uri": "https://localhost:8080/"
        },
        "id": "b7b403e0",
        "outputId": "31d4b031-3220-48a9-dd5f-49abf9d0d4fe"
      },
      "outputs": [
        {
          "output_type": "execute_result",
          "data": {
            "text/plain": [
              "array(['высшее', 'среднее', 'Среднее', 'СРЕДНЕЕ', 'ВЫСШЕЕ',\n",
              "       'неоконченное высшее', 'начальное', 'Высшее',\n",
              "       'НЕОКОНЧЕННОЕ ВЫСШЕЕ', 'Неоконченное высшее', 'НАЧАЛЬНОЕ',\n",
              "       'Начальное', 'Ученая степень', 'УЧЕНАЯ СТЕПЕНЬ', 'ученая степень'],\n",
              "      dtype=object)"
            ]
          },
          "metadata": {},
          "execution_count": 18
        }
      ],
      "source": [
        "clients['education'].unique() # проверим неявные дубликаты в столбце 'education'"
      ]
    },
    {
      "cell_type": "code",
      "execution_count": 19,
      "id": "8d557684",
      "metadata": {
        "colab": {
          "base_uri": "https://localhost:8080/"
        },
        "id": "8d557684",
        "outputId": "13d2245d-89d2-49ca-9423-30e335e16bfc"
      },
      "outputs": [
        {
          "output_type": "execute_result",
          "data": {
            "text/plain": [
              "array(['высшее', 'среднее', 'неоконченное высшее', 'начальное',\n",
              "       'ученая степень'], dtype=object)"
            ]
          },
          "metadata": {},
          "execution_count": 19
        }
      ],
      "source": [
        "clients['education'] = clients['education'].str.lower() # приведем значения к нижнему регистру в столбце 'education'\n",
        "clients['education'].unique() # проверим результат"
      ]
    },
    {
      "cell_type": "code",
      "execution_count": 20,
      "id": "89e30112",
      "metadata": {
        "colab": {
          "base_uri": "https://localhost:8080/"
        },
        "id": "89e30112",
        "outputId": "13397823-fb1b-461f-9873-5b546575002b"
      },
      "outputs": [
        {
          "output_type": "execute_result",
          "data": {
            "text/plain": [
              "array(['женат / замужем', 'гражданский брак', 'вдовец / вдова',\n",
              "       'в разводе', 'Не женат / не замужем'], dtype=object)"
            ]
          },
          "metadata": {},
          "execution_count": 20
        }
      ],
      "source": [
        "clients['family_status'].unique() # проверим неявные дубликаты в столбце 'family_status'"
      ]
    },
    {
      "cell_type": "code",
      "execution_count": 21,
      "id": "e433e9a4",
      "metadata": {
        "colab": {
          "base_uri": "https://localhost:8080/"
        },
        "id": "e433e9a4",
        "outputId": "df8924b3-e3cc-4719-c3bf-1117ac981857"
      },
      "outputs": [
        {
          "output_type": "execute_result",
          "data": {
            "text/plain": [
              "array(['женат / замужем', 'гражданский брак', 'вдовец / вдова',\n",
              "       'в разводе', 'не женат / не замужем'], dtype=object)"
            ]
          },
          "metadata": {},
          "execution_count": 21
        }
      ],
      "source": [
        "clients['family_status'] = clients['family_status'].str.lower() # приведем значения к нижнему регистру в столбце 'family_status'\n",
        "clients['family_status'].unique() # дубликатов нет"
      ]
    },
    {
      "cell_type": "code",
      "execution_count": 22,
      "id": "47646991",
      "metadata": {
        "colab": {
          "base_uri": "https://localhost:8080/",
          "height": 88
        },
        "id": "47646991",
        "outputId": "978549dc-0127-40a8-8c34-8bf52d91710a"
      },
      "outputs": [
        {
          "output_type": "display_data",
          "data": {
            "text/plain": [
              "F      14236\n",
              "M       7288\n",
              "XNA        1\n",
              "Name: gender, dtype: int64"
            ]
          },
          "metadata": {}
        }
      ],
      "source": [
        "display(clients['gender'].value_counts()) # проверим неявные дубликаты в столбце 'gender'\n",
        "# есть аномалия \"XNA\", но она встречается лишь один раз. Заменим ее на более частотное значение\n",
        "clients.loc[clients['gender'] == 'XNA', 'gender'] = 'F'"
      ]
    },
    {
      "cell_type": "code",
      "execution_count": 23,
      "id": "6268d78d",
      "metadata": {
        "colab": {
          "base_uri": "https://localhost:8080/"
        },
        "id": "6268d78d",
        "outputId": "3b1bc6a9-f531-4afa-cbd7-172087b03075"
      },
      "outputs": [
        {
          "output_type": "execute_result",
          "data": {
            "text/plain": [
              "array(['сотрудник', 'пенсионер', 'компаньон', 'госслужащий',\n",
              "       'безработный', 'предприниматель', 'студент', 'в декрете'],\n",
              "      dtype=object)"
            ]
          },
          "metadata": {},
          "execution_count": 23
        }
      ],
      "source": [
        "clients['income_type'].unique() # проверим неявные дубликаты в столбце 'income_type'\n",
        "# дубликатов нет"
      ]
    },
    {
      "cell_type": "code",
      "execution_count": 24,
      "id": "04f6edcd",
      "metadata": {
        "colab": {
          "base_uri": "https://localhost:8080/"
        },
        "id": "04f6edcd",
        "outputId": "8d456b80-a674-4372-f96e-2aaf15b4ea12"
      },
      "outputs": [
        {
          "output_type": "execute_result",
          "data": {
            "text/plain": [
              "array(['покупка жилья', 'приобретение автомобиля',\n",
              "       'дополнительное образование', 'сыграть свадьбу',\n",
              "       'операции с жильем', 'образование', 'на проведение свадьбы',\n",
              "       'покупка жилья для семьи', 'покупка недвижимости',\n",
              "       'покупка коммерческой недвижимости', 'покупка жилой недвижимости',\n",
              "       'строительство собственной недвижимости', 'недвижимость',\n",
              "       'строительство недвижимости', 'на покупку подержанного автомобиля',\n",
              "       'на покупку своего автомобиля',\n",
              "       'операции с коммерческой недвижимостью',\n",
              "       'строительство жилой недвижимости', 'жилье',\n",
              "       'операции со своей недвижимостью', 'автомобили',\n",
              "       'заняться образованием', 'сделка с подержанным автомобилем',\n",
              "       'получение образования', 'автомобиль', 'свадьба',\n",
              "       'получение дополнительного образования', 'покупка своего жилья',\n",
              "       'операции с недвижимостью', 'получение высшего образования',\n",
              "       'свой автомобиль', 'сделка с автомобилем',\n",
              "       'профильное образование', 'высшее образование',\n",
              "       'покупка жилья для сдачи', 'на покупку автомобиля', 'ремонт жилью',\n",
              "       'заняться высшим образованием'], dtype=object)"
            ]
          },
          "metadata": {},
          "execution_count": 24
        }
      ],
      "source": [
        "clients['purpose'].unique() # проверим неявные дубликаты в столбце 'purpose'. Обработаем дубликаты в этом столбце в разделе 7"
      ]
    },
    {
      "cell_type": "code",
      "execution_count": 25,
      "id": "1f0358e2",
      "metadata": {
        "colab": {
          "base_uri": "https://localhost:8080/"
        },
        "id": "1f0358e2",
        "outputId": "d5400ec7-7af2-469e-c2f5-2173cc3c9700"
      },
      "outputs": [
        {
          "output_type": "execute_result",
          "data": {
            "text/plain": [
              "71"
            ]
          },
          "metadata": {},
          "execution_count": 25
        }
      ],
      "source": [
        "clients.duplicated().sum() # проверим количество явных дубликатов в таблице еще раз"
      ]
    },
    {
      "cell_type": "code",
      "execution_count": 26,
      "id": "eedfab1a",
      "metadata": {
        "colab": {
          "base_uri": "https://localhost:8080/"
        },
        "id": "eedfab1a",
        "outputId": "095ca6f7-8f78-4f71-cd2c-80fb94c153c7"
      },
      "outputs": [
        {
          "output_type": "execute_result",
          "data": {
            "text/plain": [
              "0"
            ]
          },
          "metadata": {},
          "execution_count": 26
        }
      ],
      "source": [
        "# количество явных дубликатов выросло\n",
        "clients = clients.drop_duplicates().reset_index(drop=True) # удалим явные дубликаты\n",
        "clients.duplicated().sum() # проверим результат"
      ]
    },
    {
      "cell_type": "markdown",
      "id": "f5d410cc",
      "metadata": {
        "id": "f5d410cc"
      },
      "source": [
        "Для поиска явных дубликатов мы использовали метод `duplicated()`, а неявных — `unique()`. В первом случае мы удалили дубликаты с помощью `drop_duplicates()`, а во втором использовали метод для приведения текста к нижнему регистру `str.lower()`."
      ]
    },
    {
      "cell_type": "markdown",
      "id": "238312c5",
      "metadata": {
        "id": "238312c5"
      },
      "source": [
        "### Шаг 2.5. Формирование дополнительных датафреймов словарей, декомпозиция исходного датафрейма."
      ]
    },
    {
      "cell_type": "markdown",
      "source": [
        "Создадим два новых датафрейма, в которых:\n",
        "- каждому уникальному значению из `education` соответствует уникальное значение `education_id`;\n",
        "- каждому уникальному значению из `family_status` соответствует уникальное значение `family_status_id`."
      ],
      "metadata": {
        "id": "fy7oS97T75gq"
      },
      "id": "fy7oS97T75gq"
    },
    {
      "cell_type": "code",
      "execution_count": 27,
      "id": "f49bace6",
      "metadata": {
        "colab": {
          "base_uri": "https://localhost:8080/",
          "height": 206
        },
        "id": "f49bace6",
        "outputId": "a5e99e3f-2cf0-481d-fa1c-22a1679795e0"
      },
      "outputs": [
        {
          "output_type": "execute_result",
          "data": {
            "text/plain": [
              "             education  education_id\n",
              "0               высшее             0\n",
              "1              среднее             1\n",
              "2  неоконченное высшее             2\n",
              "3            начальное             3\n",
              "4       ученая степень             4"
            ],
            "text/html": [
              "\n",
              "  <div id=\"df-4debebb5-02d7-4c9d-a415-0b3a1ec447a7\">\n",
              "    <div class=\"colab-df-container\">\n",
              "      <div>\n",
              "<style scoped>\n",
              "    .dataframe tbody tr th:only-of-type {\n",
              "        vertical-align: middle;\n",
              "    }\n",
              "\n",
              "    .dataframe tbody tr th {\n",
              "        vertical-align: top;\n",
              "    }\n",
              "\n",
              "    .dataframe thead th {\n",
              "        text-align: right;\n",
              "    }\n",
              "</style>\n",
              "<table border=\"1\" class=\"dataframe\">\n",
              "  <thead>\n",
              "    <tr style=\"text-align: right;\">\n",
              "      <th></th>\n",
              "      <th>education</th>\n",
              "      <th>education_id</th>\n",
              "    </tr>\n",
              "  </thead>\n",
              "  <tbody>\n",
              "    <tr>\n",
              "      <th>0</th>\n",
              "      <td>высшее</td>\n",
              "      <td>0</td>\n",
              "    </tr>\n",
              "    <tr>\n",
              "      <th>1</th>\n",
              "      <td>среднее</td>\n",
              "      <td>1</td>\n",
              "    </tr>\n",
              "    <tr>\n",
              "      <th>2</th>\n",
              "      <td>неоконченное высшее</td>\n",
              "      <td>2</td>\n",
              "    </tr>\n",
              "    <tr>\n",
              "      <th>3</th>\n",
              "      <td>начальное</td>\n",
              "      <td>3</td>\n",
              "    </tr>\n",
              "    <tr>\n",
              "      <th>4</th>\n",
              "      <td>ученая степень</td>\n",
              "      <td>4</td>\n",
              "    </tr>\n",
              "  </tbody>\n",
              "</table>\n",
              "</div>\n",
              "      <button class=\"colab-df-convert\" onclick=\"convertToInteractive('df-4debebb5-02d7-4c9d-a415-0b3a1ec447a7')\"\n",
              "              title=\"Convert this dataframe to an interactive table.\"\n",
              "              style=\"display:none;\">\n",
              "        \n",
              "  <svg xmlns=\"http://www.w3.org/2000/svg\" height=\"24px\"viewBox=\"0 0 24 24\"\n",
              "       width=\"24px\">\n",
              "    <path d=\"M0 0h24v24H0V0z\" fill=\"none\"/>\n",
              "    <path d=\"M18.56 5.44l.94 2.06.94-2.06 2.06-.94-2.06-.94-.94-2.06-.94 2.06-2.06.94zm-11 1L8.5 8.5l.94-2.06 2.06-.94-2.06-.94L8.5 2.5l-.94 2.06-2.06.94zm10 10l.94 2.06.94-2.06 2.06-.94-2.06-.94-.94-2.06-.94 2.06-2.06.94z\"/><path d=\"M17.41 7.96l-1.37-1.37c-.4-.4-.92-.59-1.43-.59-.52 0-1.04.2-1.43.59L10.3 9.45l-7.72 7.72c-.78.78-.78 2.05 0 2.83L4 21.41c.39.39.9.59 1.41.59.51 0 1.02-.2 1.41-.59l7.78-7.78 2.81-2.81c.8-.78.8-2.07 0-2.86zM5.41 20L4 18.59l7.72-7.72 1.47 1.35L5.41 20z\"/>\n",
              "  </svg>\n",
              "      </button>\n",
              "      \n",
              "  <style>\n",
              "    .colab-df-container {\n",
              "      display:flex;\n",
              "      flex-wrap:wrap;\n",
              "      gap: 12px;\n",
              "    }\n",
              "\n",
              "    .colab-df-convert {\n",
              "      background-color: #E8F0FE;\n",
              "      border: none;\n",
              "      border-radius: 50%;\n",
              "      cursor: pointer;\n",
              "      display: none;\n",
              "      fill: #1967D2;\n",
              "      height: 32px;\n",
              "      padding: 0 0 0 0;\n",
              "      width: 32px;\n",
              "    }\n",
              "\n",
              "    .colab-df-convert:hover {\n",
              "      background-color: #E2EBFA;\n",
              "      box-shadow: 0px 1px 2px rgba(60, 64, 67, 0.3), 0px 1px 3px 1px rgba(60, 64, 67, 0.15);\n",
              "      fill: #174EA6;\n",
              "    }\n",
              "\n",
              "    [theme=dark] .colab-df-convert {\n",
              "      background-color: #3B4455;\n",
              "      fill: #D2E3FC;\n",
              "    }\n",
              "\n",
              "    [theme=dark] .colab-df-convert:hover {\n",
              "      background-color: #434B5C;\n",
              "      box-shadow: 0px 1px 3px 1px rgba(0, 0, 0, 0.15);\n",
              "      filter: drop-shadow(0px 1px 2px rgba(0, 0, 0, 0.3));\n",
              "      fill: #FFFFFF;\n",
              "    }\n",
              "  </style>\n",
              "\n",
              "      <script>\n",
              "        const buttonEl =\n",
              "          document.querySelector('#df-4debebb5-02d7-4c9d-a415-0b3a1ec447a7 button.colab-df-convert');\n",
              "        buttonEl.style.display =\n",
              "          google.colab.kernel.accessAllowed ? 'block' : 'none';\n",
              "\n",
              "        async function convertToInteractive(key) {\n",
              "          const element = document.querySelector('#df-4debebb5-02d7-4c9d-a415-0b3a1ec447a7');\n",
              "          const dataTable =\n",
              "            await google.colab.kernel.invokeFunction('convertToInteractive',\n",
              "                                                     [key], {});\n",
              "          if (!dataTable) return;\n",
              "\n",
              "          const docLinkHtml = 'Like what you see? Visit the ' +\n",
              "            '<a target=\"_blank\" href=https://colab.research.google.com/notebooks/data_table.ipynb>data table notebook</a>'\n",
              "            + ' to learn more about interactive tables.';\n",
              "          element.innerHTML = '';\n",
              "          dataTable['output_type'] = 'display_data';\n",
              "          await google.colab.output.renderOutput(dataTable, element);\n",
              "          const docLink = document.createElement('div');\n",
              "          docLink.innerHTML = docLinkHtml;\n",
              "          element.appendChild(docLink);\n",
              "        }\n",
              "      </script>\n",
              "    </div>\n",
              "  </div>\n",
              "  "
            ]
          },
          "metadata": {},
          "execution_count": 27
        }
      ],
      "source": [
        "education = clients[['education','education_id']] # создадим dataframe, в котором каждому уникальному значению из 'education' соответствует уникальное значение education_id\n",
        "education = education.drop_duplicates().reset_index(drop=True)\n",
        "education"
      ]
    },
    {
      "cell_type": "code",
      "execution_count": 28,
      "id": "dfef0817",
      "metadata": {
        "colab": {
          "base_uri": "https://localhost:8080/",
          "height": 206
        },
        "id": "dfef0817",
        "outputId": "60034f02-6ea9-4e8c-d563-afe3df32af12"
      },
      "outputs": [
        {
          "output_type": "execute_result",
          "data": {
            "text/plain": [
              "           family_status  family_status_id\n",
              "0        женат / замужем                 0\n",
              "1       гражданский брак                 1\n",
              "2         вдовец / вдова                 2\n",
              "3              в разводе                 3\n",
              "4  не женат / не замужем                 4"
            ],
            "text/html": [
              "\n",
              "  <div id=\"df-366043f8-64f8-417b-89ef-293bb18e3c78\">\n",
              "    <div class=\"colab-df-container\">\n",
              "      <div>\n",
              "<style scoped>\n",
              "    .dataframe tbody tr th:only-of-type {\n",
              "        vertical-align: middle;\n",
              "    }\n",
              "\n",
              "    .dataframe tbody tr th {\n",
              "        vertical-align: top;\n",
              "    }\n",
              "\n",
              "    .dataframe thead th {\n",
              "        text-align: right;\n",
              "    }\n",
              "</style>\n",
              "<table border=\"1\" class=\"dataframe\">\n",
              "  <thead>\n",
              "    <tr style=\"text-align: right;\">\n",
              "      <th></th>\n",
              "      <th>family_status</th>\n",
              "      <th>family_status_id</th>\n",
              "    </tr>\n",
              "  </thead>\n",
              "  <tbody>\n",
              "    <tr>\n",
              "      <th>0</th>\n",
              "      <td>женат / замужем</td>\n",
              "      <td>0</td>\n",
              "    </tr>\n",
              "    <tr>\n",
              "      <th>1</th>\n",
              "      <td>гражданский брак</td>\n",
              "      <td>1</td>\n",
              "    </tr>\n",
              "    <tr>\n",
              "      <th>2</th>\n",
              "      <td>вдовец / вдова</td>\n",
              "      <td>2</td>\n",
              "    </tr>\n",
              "    <tr>\n",
              "      <th>3</th>\n",
              "      <td>в разводе</td>\n",
              "      <td>3</td>\n",
              "    </tr>\n",
              "    <tr>\n",
              "      <th>4</th>\n",
              "      <td>не женат / не замужем</td>\n",
              "      <td>4</td>\n",
              "    </tr>\n",
              "  </tbody>\n",
              "</table>\n",
              "</div>\n",
              "      <button class=\"colab-df-convert\" onclick=\"convertToInteractive('df-366043f8-64f8-417b-89ef-293bb18e3c78')\"\n",
              "              title=\"Convert this dataframe to an interactive table.\"\n",
              "              style=\"display:none;\">\n",
              "        \n",
              "  <svg xmlns=\"http://www.w3.org/2000/svg\" height=\"24px\"viewBox=\"0 0 24 24\"\n",
              "       width=\"24px\">\n",
              "    <path d=\"M0 0h24v24H0V0z\" fill=\"none\"/>\n",
              "    <path d=\"M18.56 5.44l.94 2.06.94-2.06 2.06-.94-2.06-.94-.94-2.06-.94 2.06-2.06.94zm-11 1L8.5 8.5l.94-2.06 2.06-.94-2.06-.94L8.5 2.5l-.94 2.06-2.06.94zm10 10l.94 2.06.94-2.06 2.06-.94-2.06-.94-.94-2.06-.94 2.06-2.06.94z\"/><path d=\"M17.41 7.96l-1.37-1.37c-.4-.4-.92-.59-1.43-.59-.52 0-1.04.2-1.43.59L10.3 9.45l-7.72 7.72c-.78.78-.78 2.05 0 2.83L4 21.41c.39.39.9.59 1.41.59.51 0 1.02-.2 1.41-.59l7.78-7.78 2.81-2.81c.8-.78.8-2.07 0-2.86zM5.41 20L4 18.59l7.72-7.72 1.47 1.35L5.41 20z\"/>\n",
              "  </svg>\n",
              "      </button>\n",
              "      \n",
              "  <style>\n",
              "    .colab-df-container {\n",
              "      display:flex;\n",
              "      flex-wrap:wrap;\n",
              "      gap: 12px;\n",
              "    }\n",
              "\n",
              "    .colab-df-convert {\n",
              "      background-color: #E8F0FE;\n",
              "      border: none;\n",
              "      border-radius: 50%;\n",
              "      cursor: pointer;\n",
              "      display: none;\n",
              "      fill: #1967D2;\n",
              "      height: 32px;\n",
              "      padding: 0 0 0 0;\n",
              "      width: 32px;\n",
              "    }\n",
              "\n",
              "    .colab-df-convert:hover {\n",
              "      background-color: #E2EBFA;\n",
              "      box-shadow: 0px 1px 2px rgba(60, 64, 67, 0.3), 0px 1px 3px 1px rgba(60, 64, 67, 0.15);\n",
              "      fill: #174EA6;\n",
              "    }\n",
              "\n",
              "    [theme=dark] .colab-df-convert {\n",
              "      background-color: #3B4455;\n",
              "      fill: #D2E3FC;\n",
              "    }\n",
              "\n",
              "    [theme=dark] .colab-df-convert:hover {\n",
              "      background-color: #434B5C;\n",
              "      box-shadow: 0px 1px 3px 1px rgba(0, 0, 0, 0.15);\n",
              "      filter: drop-shadow(0px 1px 2px rgba(0, 0, 0, 0.3));\n",
              "      fill: #FFFFFF;\n",
              "    }\n",
              "  </style>\n",
              "\n",
              "      <script>\n",
              "        const buttonEl =\n",
              "          document.querySelector('#df-366043f8-64f8-417b-89ef-293bb18e3c78 button.colab-df-convert');\n",
              "        buttonEl.style.display =\n",
              "          google.colab.kernel.accessAllowed ? 'block' : 'none';\n",
              "\n",
              "        async function convertToInteractive(key) {\n",
              "          const element = document.querySelector('#df-366043f8-64f8-417b-89ef-293bb18e3c78');\n",
              "          const dataTable =\n",
              "            await google.colab.kernel.invokeFunction('convertToInteractive',\n",
              "                                                     [key], {});\n",
              "          if (!dataTable) return;\n",
              "\n",
              "          const docLinkHtml = 'Like what you see? Visit the ' +\n",
              "            '<a target=\"_blank\" href=https://colab.research.google.com/notebooks/data_table.ipynb>data table notebook</a>'\n",
              "            + ' to learn more about interactive tables.';\n",
              "          element.innerHTML = '';\n",
              "          dataTable['output_type'] = 'display_data';\n",
              "          await google.colab.output.renderOutput(dataTable, element);\n",
              "          const docLink = document.createElement('div');\n",
              "          docLink.innerHTML = docLinkHtml;\n",
              "          element.appendChild(docLink);\n",
              "        }\n",
              "      </script>\n",
              "    </div>\n",
              "  </div>\n",
              "  "
            ]
          },
          "metadata": {},
          "execution_count": 28
        }
      ],
      "source": [
        "family = clients[['family_status','family_status_id']] # создадим 'dataframe', в котором каждому уникальному значению из 'family_status' соответствует уникальное значение 'family_status_id'\n",
        "family = family.drop_duplicates().reset_index(drop=True)\n",
        "family"
      ]
    },
    {
      "cell_type": "code",
      "execution_count": 29,
      "id": "0c119957",
      "metadata": {
        "id": "0c119957"
      },
      "outputs": [],
      "source": [
        "# удалим столбцы 'education' и 'family_status'\n",
        "clients_updated = clients.drop(columns = ['education', 'family_status'])\n"
      ]
    },
    {
      "cell_type": "markdown",
      "id": "7d232409",
      "metadata": {
        "id": "7d232409"
      },
      "source": [
        "### Шаг 2.6. Категоризация дохода.\n",
        "Создадим новый столбец `total_income_category`."
      ]
    },
    {
      "cell_type": "code",
      "execution_count": 31,
      "id": "1c248c3c",
      "metadata": {
        "scrolled": true,
        "colab": {
          "base_uri": "https://localhost:8080/",
          "height": 459
        },
        "id": "1c248c3c",
        "outputId": "8b683720-8118-4e1d-8d98-d85ead244168"
      },
      "outputs": [
        {
          "output_type": "execute_result",
          "data": {
            "text/plain": [
              "   children  days_employed  dob_years  education_id  family_status_id gender  \\\n",
              "0       1.0    8437.673028       42.0             0                 0      F   \n",
              "1       1.0    4024.803754       36.0             1                 0      F   \n",
              "2       0.0    5623.422610       33.0             1                 0      M   \n",
              "3       3.0    4124.747207       32.0             1                 0      M   \n",
              "4       0.0   12775.000000       53.0             1                 1      F   \n",
              "5       0.0     926.185831       27.0             0                 1      M   \n",
              "6       0.0    2879.202052       43.0             0                 0      F   \n",
              "7       0.0     152.779569       50.0             1                 0      M   \n",
              "8       2.0    6929.865299       35.0             0                 1      F   \n",
              "9       0.0    2188.756445       41.0             1                 0      M   \n",
              "\n",
              "  income_type  debt  total_income                     purpose  \\\n",
              "0   сотрудник     0        253875               покупка жилья   \n",
              "1   сотрудник     0        112080     приобретение автомобиля   \n",
              "2   сотрудник     0        145885               покупка жилья   \n",
              "3   сотрудник     0        267628  дополнительное образование   \n",
              "4   пенсионер     0        158616             сыграть свадьбу   \n",
              "5   компаньон     0        255763               покупка жилья   \n",
              "6   компаньон     0        240525           операции с жильем   \n",
              "7   сотрудник     0        135823                 образование   \n",
              "8   сотрудник     0         95856       на проведение свадьбы   \n",
              "9   сотрудник     0        144425     покупка жилья для семьи   \n",
              "\n",
              "  total_income_category  \n",
              "0                     B  \n",
              "1                     C  \n",
              "2                     C  \n",
              "3                     B  \n",
              "4                     C  \n",
              "5                     B  \n",
              "6                     B  \n",
              "7                     C  \n",
              "8                     C  \n",
              "9                     C  "
            ],
            "text/html": [
              "\n",
              "  <div id=\"df-a0d5852c-bed6-4a75-b594-72f98a3f6c80\">\n",
              "    <div class=\"colab-df-container\">\n",
              "      <div>\n",
              "<style scoped>\n",
              "    .dataframe tbody tr th:only-of-type {\n",
              "        vertical-align: middle;\n",
              "    }\n",
              "\n",
              "    .dataframe tbody tr th {\n",
              "        vertical-align: top;\n",
              "    }\n",
              "\n",
              "    .dataframe thead th {\n",
              "        text-align: right;\n",
              "    }\n",
              "</style>\n",
              "<table border=\"1\" class=\"dataframe\">\n",
              "  <thead>\n",
              "    <tr style=\"text-align: right;\">\n",
              "      <th></th>\n",
              "      <th>children</th>\n",
              "      <th>days_employed</th>\n",
              "      <th>dob_years</th>\n",
              "      <th>education_id</th>\n",
              "      <th>family_status_id</th>\n",
              "      <th>gender</th>\n",
              "      <th>income_type</th>\n",
              "      <th>debt</th>\n",
              "      <th>total_income</th>\n",
              "      <th>purpose</th>\n",
              "      <th>total_income_category</th>\n",
              "    </tr>\n",
              "  </thead>\n",
              "  <tbody>\n",
              "    <tr>\n",
              "      <th>0</th>\n",
              "      <td>1.0</td>\n",
              "      <td>8437.673028</td>\n",
              "      <td>42.0</td>\n",
              "      <td>0</td>\n",
              "      <td>0</td>\n",
              "      <td>F</td>\n",
              "      <td>сотрудник</td>\n",
              "      <td>0</td>\n",
              "      <td>253875</td>\n",
              "      <td>покупка жилья</td>\n",
              "      <td>B</td>\n",
              "    </tr>\n",
              "    <tr>\n",
              "      <th>1</th>\n",
              "      <td>1.0</td>\n",
              "      <td>4024.803754</td>\n",
              "      <td>36.0</td>\n",
              "      <td>1</td>\n",
              "      <td>0</td>\n",
              "      <td>F</td>\n",
              "      <td>сотрудник</td>\n",
              "      <td>0</td>\n",
              "      <td>112080</td>\n",
              "      <td>приобретение автомобиля</td>\n",
              "      <td>C</td>\n",
              "    </tr>\n",
              "    <tr>\n",
              "      <th>2</th>\n",
              "      <td>0.0</td>\n",
              "      <td>5623.422610</td>\n",
              "      <td>33.0</td>\n",
              "      <td>1</td>\n",
              "      <td>0</td>\n",
              "      <td>M</td>\n",
              "      <td>сотрудник</td>\n",
              "      <td>0</td>\n",
              "      <td>145885</td>\n",
              "      <td>покупка жилья</td>\n",
              "      <td>C</td>\n",
              "    </tr>\n",
              "    <tr>\n",
              "      <th>3</th>\n",
              "      <td>3.0</td>\n",
              "      <td>4124.747207</td>\n",
              "      <td>32.0</td>\n",
              "      <td>1</td>\n",
              "      <td>0</td>\n",
              "      <td>M</td>\n",
              "      <td>сотрудник</td>\n",
              "      <td>0</td>\n",
              "      <td>267628</td>\n",
              "      <td>дополнительное образование</td>\n",
              "      <td>B</td>\n",
              "    </tr>\n",
              "    <tr>\n",
              "      <th>4</th>\n",
              "      <td>0.0</td>\n",
              "      <td>12775.000000</td>\n",
              "      <td>53.0</td>\n",
              "      <td>1</td>\n",
              "      <td>1</td>\n",
              "      <td>F</td>\n",
              "      <td>пенсионер</td>\n",
              "      <td>0</td>\n",
              "      <td>158616</td>\n",
              "      <td>сыграть свадьбу</td>\n",
              "      <td>C</td>\n",
              "    </tr>\n",
              "    <tr>\n",
              "      <th>5</th>\n",
              "      <td>0.0</td>\n",
              "      <td>926.185831</td>\n",
              "      <td>27.0</td>\n",
              "      <td>0</td>\n",
              "      <td>1</td>\n",
              "      <td>M</td>\n",
              "      <td>компаньон</td>\n",
              "      <td>0</td>\n",
              "      <td>255763</td>\n",
              "      <td>покупка жилья</td>\n",
              "      <td>B</td>\n",
              "    </tr>\n",
              "    <tr>\n",
              "      <th>6</th>\n",
              "      <td>0.0</td>\n",
              "      <td>2879.202052</td>\n",
              "      <td>43.0</td>\n",
              "      <td>0</td>\n",
              "      <td>0</td>\n",
              "      <td>F</td>\n",
              "      <td>компаньон</td>\n",
              "      <td>0</td>\n",
              "      <td>240525</td>\n",
              "      <td>операции с жильем</td>\n",
              "      <td>B</td>\n",
              "    </tr>\n",
              "    <tr>\n",
              "      <th>7</th>\n",
              "      <td>0.0</td>\n",
              "      <td>152.779569</td>\n",
              "      <td>50.0</td>\n",
              "      <td>1</td>\n",
              "      <td>0</td>\n",
              "      <td>M</td>\n",
              "      <td>сотрудник</td>\n",
              "      <td>0</td>\n",
              "      <td>135823</td>\n",
              "      <td>образование</td>\n",
              "      <td>C</td>\n",
              "    </tr>\n",
              "    <tr>\n",
              "      <th>8</th>\n",
              "      <td>2.0</td>\n",
              "      <td>6929.865299</td>\n",
              "      <td>35.0</td>\n",
              "      <td>0</td>\n",
              "      <td>1</td>\n",
              "      <td>F</td>\n",
              "      <td>сотрудник</td>\n",
              "      <td>0</td>\n",
              "      <td>95856</td>\n",
              "      <td>на проведение свадьбы</td>\n",
              "      <td>C</td>\n",
              "    </tr>\n",
              "    <tr>\n",
              "      <th>9</th>\n",
              "      <td>0.0</td>\n",
              "      <td>2188.756445</td>\n",
              "      <td>41.0</td>\n",
              "      <td>1</td>\n",
              "      <td>0</td>\n",
              "      <td>M</td>\n",
              "      <td>сотрудник</td>\n",
              "      <td>0</td>\n",
              "      <td>144425</td>\n",
              "      <td>покупка жилья для семьи</td>\n",
              "      <td>C</td>\n",
              "    </tr>\n",
              "  </tbody>\n",
              "</table>\n",
              "</div>\n",
              "      <button class=\"colab-df-convert\" onclick=\"convertToInteractive('df-a0d5852c-bed6-4a75-b594-72f98a3f6c80')\"\n",
              "              title=\"Convert this dataframe to an interactive table.\"\n",
              "              style=\"display:none;\">\n",
              "        \n",
              "  <svg xmlns=\"http://www.w3.org/2000/svg\" height=\"24px\"viewBox=\"0 0 24 24\"\n",
              "       width=\"24px\">\n",
              "    <path d=\"M0 0h24v24H0V0z\" fill=\"none\"/>\n",
              "    <path d=\"M18.56 5.44l.94 2.06.94-2.06 2.06-.94-2.06-.94-.94-2.06-.94 2.06-2.06.94zm-11 1L8.5 8.5l.94-2.06 2.06-.94-2.06-.94L8.5 2.5l-.94 2.06-2.06.94zm10 10l.94 2.06.94-2.06 2.06-.94-2.06-.94-.94-2.06-.94 2.06-2.06.94z\"/><path d=\"M17.41 7.96l-1.37-1.37c-.4-.4-.92-.59-1.43-.59-.52 0-1.04.2-1.43.59L10.3 9.45l-7.72 7.72c-.78.78-.78 2.05 0 2.83L4 21.41c.39.39.9.59 1.41.59.51 0 1.02-.2 1.41-.59l7.78-7.78 2.81-2.81c.8-.78.8-2.07 0-2.86zM5.41 20L4 18.59l7.72-7.72 1.47 1.35L5.41 20z\"/>\n",
              "  </svg>\n",
              "      </button>\n",
              "      \n",
              "  <style>\n",
              "    .colab-df-container {\n",
              "      display:flex;\n",
              "      flex-wrap:wrap;\n",
              "      gap: 12px;\n",
              "    }\n",
              "\n",
              "    .colab-df-convert {\n",
              "      background-color: #E8F0FE;\n",
              "      border: none;\n",
              "      border-radius: 50%;\n",
              "      cursor: pointer;\n",
              "      display: none;\n",
              "      fill: #1967D2;\n",
              "      height: 32px;\n",
              "      padding: 0 0 0 0;\n",
              "      width: 32px;\n",
              "    }\n",
              "\n",
              "    .colab-df-convert:hover {\n",
              "      background-color: #E2EBFA;\n",
              "      box-shadow: 0px 1px 2px rgba(60, 64, 67, 0.3), 0px 1px 3px 1px rgba(60, 64, 67, 0.15);\n",
              "      fill: #174EA6;\n",
              "    }\n",
              "\n",
              "    [theme=dark] .colab-df-convert {\n",
              "      background-color: #3B4455;\n",
              "      fill: #D2E3FC;\n",
              "    }\n",
              "\n",
              "    [theme=dark] .colab-df-convert:hover {\n",
              "      background-color: #434B5C;\n",
              "      box-shadow: 0px 1px 3px 1px rgba(0, 0, 0, 0.15);\n",
              "      filter: drop-shadow(0px 1px 2px rgba(0, 0, 0, 0.3));\n",
              "      fill: #FFFFFF;\n",
              "    }\n",
              "  </style>\n",
              "\n",
              "      <script>\n",
              "        const buttonEl =\n",
              "          document.querySelector('#df-a0d5852c-bed6-4a75-b594-72f98a3f6c80 button.colab-df-convert');\n",
              "        buttonEl.style.display =\n",
              "          google.colab.kernel.accessAllowed ? 'block' : 'none';\n",
              "\n",
              "        async function convertToInteractive(key) {\n",
              "          const element = document.querySelector('#df-a0d5852c-bed6-4a75-b594-72f98a3f6c80');\n",
              "          const dataTable =\n",
              "            await google.colab.kernel.invokeFunction('convertToInteractive',\n",
              "                                                     [key], {});\n",
              "          if (!dataTable) return;\n",
              "\n",
              "          const docLinkHtml = 'Like what you see? Visit the ' +\n",
              "            '<a target=\"_blank\" href=https://colab.research.google.com/notebooks/data_table.ipynb>data table notebook</a>'\n",
              "            + ' to learn more about interactive tables.';\n",
              "          element.innerHTML = '';\n",
              "          dataTable['output_type'] = 'display_data';\n",
              "          await google.colab.output.renderOutput(dataTable, element);\n",
              "          const docLink = document.createElement('div');\n",
              "          docLink.innerHTML = docLinkHtml;\n",
              "          element.appendChild(docLink);\n",
              "        }\n",
              "      </script>\n",
              "    </div>\n",
              "  </div>\n",
              "  "
            ]
          },
          "metadata": {},
          "execution_count": 31
        }
      ],
      "source": [
        "def total_income_category(row):\n",
        " \n",
        "    if row['total_income'] <= 30000:\n",
        "        return 'E'\n",
        "    elif 30001 <= row['total_income'] <= 50000:\n",
        "        return 'D'\n",
        "    elif  50001 <= row['total_income'] <= 200000:\n",
        "        return 'C'\n",
        "    elif 200001 <= row['total_income'] <= 1000000:\n",
        "        return 'B'\n",
        "    return 'A'\n",
        "\n",
        "clients_updated['total_income_category'] = clients_updated.apply(total_income_category, axis=1)\n",
        "clients_updated.head(10) # проверяем результат"
      ]
    },
    {
      "cell_type": "markdown",
      "id": "c27fad5c",
      "metadata": {
        "id": "c27fad5c"
      },
      "source": [
        "### Шаг 2.7. Категоризация целей кредита.\n",
        "Создадим новый столбец с категориями целей кредита."
      ]
    },
    {
      "cell_type": "code",
      "execution_count": 32,
      "id": "1c0b4eef",
      "metadata": {
        "colab": {
          "base_uri": "https://localhost:8080/"
        },
        "id": "1c0b4eef",
        "outputId": "45675850-a2bb-4252-e984-68312f96242e"
      },
      "outputs": [
        {
          "output_type": "execute_result",
          "data": {
            "text/plain": [
              "array(['операции с недвижимостью', 'операции с автомобилем',\n",
              "       'получение образования', 'проведение свадьбы'], dtype=object)"
            ]
          },
          "metadata": {},
          "execution_count": 32
        }
      ],
      "source": [
        "def purpose_category(row):\n",
        "    if 'жил' in row['purpose']:\n",
        "        return 'операции с недвижимостью'\n",
        "    elif 'недв' in row['purpose']:\n",
        "        return 'операции с недвижимостью'\n",
        "    elif 'свадьб'in row['purpose']:\n",
        "        return 'проведение свадьбы'\n",
        "    elif 'образ' in row['purpose']:\n",
        "        return 'получение образования'\n",
        "    elif 'авто' in row['purpose']:\n",
        "        return 'операции с автомобилем'\n",
        "    return row['purpose']\n",
        "\n",
        "clients_updated['purpose_category'] = clients_updated.apply(purpose_category, axis=1)\n",
        "clients_updated['purpose_category'].unique() # проверим результат"
      ]
    },
    {
      "cell_type": "markdown",
      "id": "5bb16f16",
      "metadata": {
        "id": "5bb16f16"
      },
      "source": [
        "### Ответы на вопросы."
      ]
    },
    {
      "cell_type": "markdown",
      "id": "0f80099f",
      "metadata": {
        "id": "0f80099f"
      },
      "source": [
        "#### Вопрос 1: \n",
        "Есть ли зависимость между количеством детей и возвратом кредита в срок?\n",
        "#### Ответ 1:\n",
        "Согласно вычислениям ниже, процент тех, кто не возвращает кредит в срок, выше среди имеющих 4, 2 и 1 ребенка (9 процентов). Однако эти показатели не намного выше тех, которые мы рассчитали для людей, не имеющих детей (7 процентов). Из этого можно сделать вывод, что наличие детей практически не влияет на факт возврата кредита в срок.\n"
      ]
    },
    {
      "cell_type": "code",
      "execution_count": 54,
      "id": "a5abdbc6",
      "metadata": {
        "colab": {
          "base_uri": "https://localhost:8080/",
          "height": 252
        },
        "id": "a5abdbc6",
        "outputId": "6c169f13-b45b-4c6c-f098-04f411232385"
      },
      "outputs": [
        {
          "output_type": "execute_result",
          "data": {
            "text/plain": [
              "  Кол-во детей Кол-во просрочек Общее кол-во      Доля\n",
              "                                                      \n",
              "0          0.0             1063        14091  0.075438\n",
              "1          1.0              445         4855  0.091658\n",
              "2          2.0              194         2052  0.094542\n",
              "3          3.0               27          330  0.081818\n",
              "4          4.0                4           41  0.097561\n",
              "5          5.0                0            9  0.000000"
            ],
            "text/html": [
              "\n",
              "  <div id=\"df-b34bcbbd-e151-4731-8fc3-f8614ff3bbf5\">\n",
              "    <div class=\"colab-df-container\">\n",
              "      <div>\n",
              "<style scoped>\n",
              "    .dataframe tbody tr th:only-of-type {\n",
              "        vertical-align: middle;\n",
              "    }\n",
              "\n",
              "    .dataframe tbody tr th {\n",
              "        vertical-align: top;\n",
              "    }\n",
              "\n",
              "    .dataframe thead tr th {\n",
              "        text-align: left;\n",
              "    }\n",
              "</style>\n",
              "<table border=\"1\" class=\"dataframe\">\n",
              "  <thead>\n",
              "    <tr>\n",
              "      <th></th>\n",
              "      <th>Кол-во детей</th>\n",
              "      <th>Кол-во просрочек</th>\n",
              "      <th>Общее кол-во</th>\n",
              "      <th>Доля</th>\n",
              "    </tr>\n",
              "    <tr>\n",
              "      <th></th>\n",
              "      <th></th>\n",
              "      <th></th>\n",
              "      <th></th>\n",
              "      <th></th>\n",
              "    </tr>\n",
              "  </thead>\n",
              "  <tbody>\n",
              "    <tr>\n",
              "      <th>0</th>\n",
              "      <td>0.0</td>\n",
              "      <td>1063</td>\n",
              "      <td>14091</td>\n",
              "      <td>0.075438</td>\n",
              "    </tr>\n",
              "    <tr>\n",
              "      <th>1</th>\n",
              "      <td>1.0</td>\n",
              "      <td>445</td>\n",
              "      <td>4855</td>\n",
              "      <td>0.091658</td>\n",
              "    </tr>\n",
              "    <tr>\n",
              "      <th>2</th>\n",
              "      <td>2.0</td>\n",
              "      <td>194</td>\n",
              "      <td>2052</td>\n",
              "      <td>0.094542</td>\n",
              "    </tr>\n",
              "    <tr>\n",
              "      <th>3</th>\n",
              "      <td>3.0</td>\n",
              "      <td>27</td>\n",
              "      <td>330</td>\n",
              "      <td>0.081818</td>\n",
              "    </tr>\n",
              "    <tr>\n",
              "      <th>4</th>\n",
              "      <td>4.0</td>\n",
              "      <td>4</td>\n",
              "      <td>41</td>\n",
              "      <td>0.097561</td>\n",
              "    </tr>\n",
              "    <tr>\n",
              "      <th>5</th>\n",
              "      <td>5.0</td>\n",
              "      <td>0</td>\n",
              "      <td>9</td>\n",
              "      <td>0.000000</td>\n",
              "    </tr>\n",
              "  </tbody>\n",
              "</table>\n",
              "</div>\n",
              "      <button class=\"colab-df-convert\" onclick=\"convertToInteractive('df-b34bcbbd-e151-4731-8fc3-f8614ff3bbf5')\"\n",
              "              title=\"Convert this dataframe to an interactive table.\"\n",
              "              style=\"display:none;\">\n",
              "        \n",
              "  <svg xmlns=\"http://www.w3.org/2000/svg\" height=\"24px\"viewBox=\"0 0 24 24\"\n",
              "       width=\"24px\">\n",
              "    <path d=\"M0 0h24v24H0V0z\" fill=\"none\"/>\n",
              "    <path d=\"M18.56 5.44l.94 2.06.94-2.06 2.06-.94-2.06-.94-.94-2.06-.94 2.06-2.06.94zm-11 1L8.5 8.5l.94-2.06 2.06-.94-2.06-.94L8.5 2.5l-.94 2.06-2.06.94zm10 10l.94 2.06.94-2.06 2.06-.94-2.06-.94-.94-2.06-.94 2.06-2.06.94z\"/><path d=\"M17.41 7.96l-1.37-1.37c-.4-.4-.92-.59-1.43-.59-.52 0-1.04.2-1.43.59L10.3 9.45l-7.72 7.72c-.78.78-.78 2.05 0 2.83L4 21.41c.39.39.9.59 1.41.59.51 0 1.02-.2 1.41-.59l7.78-7.78 2.81-2.81c.8-.78.8-2.07 0-2.86zM5.41 20L4 18.59l7.72-7.72 1.47 1.35L5.41 20z\"/>\n",
              "  </svg>\n",
              "      </button>\n",
              "      \n",
              "  <style>\n",
              "    .colab-df-container {\n",
              "      display:flex;\n",
              "      flex-wrap:wrap;\n",
              "      gap: 12px;\n",
              "    }\n",
              "\n",
              "    .colab-df-convert {\n",
              "      background-color: #E8F0FE;\n",
              "      border: none;\n",
              "      border-radius: 50%;\n",
              "      cursor: pointer;\n",
              "      display: none;\n",
              "      fill: #1967D2;\n",
              "      height: 32px;\n",
              "      padding: 0 0 0 0;\n",
              "      width: 32px;\n",
              "    }\n",
              "\n",
              "    .colab-df-convert:hover {\n",
              "      background-color: #E2EBFA;\n",
              "      box-shadow: 0px 1px 2px rgba(60, 64, 67, 0.3), 0px 1px 3px 1px rgba(60, 64, 67, 0.15);\n",
              "      fill: #174EA6;\n",
              "    }\n",
              "\n",
              "    [theme=dark] .colab-df-convert {\n",
              "      background-color: #3B4455;\n",
              "      fill: #D2E3FC;\n",
              "    }\n",
              "\n",
              "    [theme=dark] .colab-df-convert:hover {\n",
              "      background-color: #434B5C;\n",
              "      box-shadow: 0px 1px 3px 1px rgba(0, 0, 0, 0.15);\n",
              "      filter: drop-shadow(0px 1px 2px rgba(0, 0, 0, 0.3));\n",
              "      fill: #FFFFFF;\n",
              "    }\n",
              "  </style>\n",
              "\n",
              "      <script>\n",
              "        const buttonEl =\n",
              "          document.querySelector('#df-b34bcbbd-e151-4731-8fc3-f8614ff3bbf5 button.colab-df-convert');\n",
              "        buttonEl.style.display =\n",
              "          google.colab.kernel.accessAllowed ? 'block' : 'none';\n",
              "\n",
              "        async function convertToInteractive(key) {\n",
              "          const element = document.querySelector('#df-b34bcbbd-e151-4731-8fc3-f8614ff3bbf5');\n",
              "          const dataTable =\n",
              "            await google.colab.kernel.invokeFunction('convertToInteractive',\n",
              "                                                     [key], {});\n",
              "          if (!dataTable) return;\n",
              "\n",
              "          const docLinkHtml = 'Like what you see? Visit the ' +\n",
              "            '<a target=\"_blank\" href=https://colab.research.google.com/notebooks/data_table.ipynb>data table notebook</a>'\n",
              "            + ' to learn more about interactive tables.';\n",
              "          element.innerHTML = '';\n",
              "          dataTable['output_type'] = 'display_data';\n",
              "          await google.colab.output.renderOutput(dataTable, element);\n",
              "          const docLink = document.createElement('div');\n",
              "          docLink.innerHTML = docLinkHtml;\n",
              "          element.appendChild(docLink);\n",
              "        }\n",
              "      </script>\n",
              "    </div>\n",
              "  </div>\n",
              "  "
            ]
          },
          "metadata": {},
          "execution_count": 54
        }
      ],
      "source": [
        "# создадим сводную таблицу с данными столбцов 'debt' и 'children'\n",
        "# рассчитаем соотношение тех, кто просрочил выплату по кредиту к тем, кто не просрочил\n",
        "children_pivot = (\n",
        "    clients_updated\n",
        "    .pivot_table(index='children', values = 'debt', aggfunc = ['sum', 'count', 'mean'])\n",
        "    .reset_index()\n",
        "    .rename(columns={'debt': '', 'sum': 'Кол-во просрочек', 'count': 'Общее кол-во', 'mean': 'Доля', 'children': 'Кол-во детей'})\n",
        ")\n",
        "children_pivot"
      ]
    },
    {
      "cell_type": "markdown",
      "id": "d38d09d6",
      "metadata": {
        "id": "d38d09d6"
      },
      "source": [
        "#### Вопрос 2: \n",
        "Есть ли зависимость между семейным положением и возвратом кредита в срок?\n",
        "#### Ответ 2:\n",
        "Согласно вычислениям ниже, есть небольшая зависимость между семейным статусом и фактом возврата кредита в срок. Заемщики в разводе или статусе \"вдовец/вдова\" не возвращают кредит в срок только в 7% случаев, а заемщики в гражданском браке или в статусе \"не женат / не замужем\" — в 10% случаев. Женатые/замужние заемщики не возвращают кредит вовремя в 7%. Влияние семейного положения есть, но небольшое."
      ]
    },
    {
      "cell_type": "code",
      "execution_count": 64,
      "id": "f46ad89c",
      "metadata": {
        "colab": {
          "base_uri": "https://localhost:8080/",
          "height": 220
        },
        "id": "f46ad89c",
        "outputId": "38ba445e-6e2e-4300-953c-be62ecd16df2"
      },
      "outputs": [
        {
          "output_type": "execute_result",
          "data": {
            "text/plain": [
              "                  Статус Кол-во просрочек Общее кол-во      Доля\n",
              "                                                                \n",
              "0        женат / замужем              931        12339  0.075452\n",
              "1       гражданский брак              388         4151  0.093471\n",
              "2         вдовец / вдова               63          959  0.065693\n",
              "3              в разводе               85         1195  0.071130\n",
              "4  не женат / не замужем              274         2810  0.097509"
            ],
            "text/html": [
              "\n",
              "  <div id=\"df-e709561c-53f7-4571-a1d4-d52538c6c63a\">\n",
              "    <div class=\"colab-df-container\">\n",
              "      <div>\n",
              "<style scoped>\n",
              "    .dataframe tbody tr th:only-of-type {\n",
              "        vertical-align: middle;\n",
              "    }\n",
              "\n",
              "    .dataframe tbody tr th {\n",
              "        vertical-align: top;\n",
              "    }\n",
              "\n",
              "    .dataframe thead tr th {\n",
              "        text-align: left;\n",
              "    }\n",
              "</style>\n",
              "<table border=\"1\" class=\"dataframe\">\n",
              "  <thead>\n",
              "    <tr>\n",
              "      <th></th>\n",
              "      <th>Статус</th>\n",
              "      <th>Кол-во просрочек</th>\n",
              "      <th>Общее кол-во</th>\n",
              "      <th>Доля</th>\n",
              "    </tr>\n",
              "    <tr>\n",
              "      <th></th>\n",
              "      <th></th>\n",
              "      <th></th>\n",
              "      <th></th>\n",
              "      <th></th>\n",
              "    </tr>\n",
              "  </thead>\n",
              "  <tbody>\n",
              "    <tr>\n",
              "      <th>0</th>\n",
              "      <td>женат / замужем</td>\n",
              "      <td>931</td>\n",
              "      <td>12339</td>\n",
              "      <td>0.075452</td>\n",
              "    </tr>\n",
              "    <tr>\n",
              "      <th>1</th>\n",
              "      <td>гражданский брак</td>\n",
              "      <td>388</td>\n",
              "      <td>4151</td>\n",
              "      <td>0.093471</td>\n",
              "    </tr>\n",
              "    <tr>\n",
              "      <th>2</th>\n",
              "      <td>вдовец / вдова</td>\n",
              "      <td>63</td>\n",
              "      <td>959</td>\n",
              "      <td>0.065693</td>\n",
              "    </tr>\n",
              "    <tr>\n",
              "      <th>3</th>\n",
              "      <td>в разводе</td>\n",
              "      <td>85</td>\n",
              "      <td>1195</td>\n",
              "      <td>0.071130</td>\n",
              "    </tr>\n",
              "    <tr>\n",
              "      <th>4</th>\n",
              "      <td>не женат / не замужем</td>\n",
              "      <td>274</td>\n",
              "      <td>2810</td>\n",
              "      <td>0.097509</td>\n",
              "    </tr>\n",
              "  </tbody>\n",
              "</table>\n",
              "</div>\n",
              "      <button class=\"colab-df-convert\" onclick=\"convertToInteractive('df-e709561c-53f7-4571-a1d4-d52538c6c63a')\"\n",
              "              title=\"Convert this dataframe to an interactive table.\"\n",
              "              style=\"display:none;\">\n",
              "        \n",
              "  <svg xmlns=\"http://www.w3.org/2000/svg\" height=\"24px\"viewBox=\"0 0 24 24\"\n",
              "       width=\"24px\">\n",
              "    <path d=\"M0 0h24v24H0V0z\" fill=\"none\"/>\n",
              "    <path d=\"M18.56 5.44l.94 2.06.94-2.06 2.06-.94-2.06-.94-.94-2.06-.94 2.06-2.06.94zm-11 1L8.5 8.5l.94-2.06 2.06-.94-2.06-.94L8.5 2.5l-.94 2.06-2.06.94zm10 10l.94 2.06.94-2.06 2.06-.94-2.06-.94-.94-2.06-.94 2.06-2.06.94z\"/><path d=\"M17.41 7.96l-1.37-1.37c-.4-.4-.92-.59-1.43-.59-.52 0-1.04.2-1.43.59L10.3 9.45l-7.72 7.72c-.78.78-.78 2.05 0 2.83L4 21.41c.39.39.9.59 1.41.59.51 0 1.02-.2 1.41-.59l7.78-7.78 2.81-2.81c.8-.78.8-2.07 0-2.86zM5.41 20L4 18.59l7.72-7.72 1.47 1.35L5.41 20z\"/>\n",
              "  </svg>\n",
              "      </button>\n",
              "      \n",
              "  <style>\n",
              "    .colab-df-container {\n",
              "      display:flex;\n",
              "      flex-wrap:wrap;\n",
              "      gap: 12px;\n",
              "    }\n",
              "\n",
              "    .colab-df-convert {\n",
              "      background-color: #E8F0FE;\n",
              "      border: none;\n",
              "      border-radius: 50%;\n",
              "      cursor: pointer;\n",
              "      display: none;\n",
              "      fill: #1967D2;\n",
              "      height: 32px;\n",
              "      padding: 0 0 0 0;\n",
              "      width: 32px;\n",
              "    }\n",
              "\n",
              "    .colab-df-convert:hover {\n",
              "      background-color: #E2EBFA;\n",
              "      box-shadow: 0px 1px 2px rgba(60, 64, 67, 0.3), 0px 1px 3px 1px rgba(60, 64, 67, 0.15);\n",
              "      fill: #174EA6;\n",
              "    }\n",
              "\n",
              "    [theme=dark] .colab-df-convert {\n",
              "      background-color: #3B4455;\n",
              "      fill: #D2E3FC;\n",
              "    }\n",
              "\n",
              "    [theme=dark] .colab-df-convert:hover {\n",
              "      background-color: #434B5C;\n",
              "      box-shadow: 0px 1px 3px 1px rgba(0, 0, 0, 0.15);\n",
              "      filter: drop-shadow(0px 1px 2px rgba(0, 0, 0, 0.3));\n",
              "      fill: #FFFFFF;\n",
              "    }\n",
              "  </style>\n",
              "\n",
              "      <script>\n",
              "        const buttonEl =\n",
              "          document.querySelector('#df-e709561c-53f7-4571-a1d4-d52538c6c63a button.colab-df-convert');\n",
              "        buttonEl.style.display =\n",
              "          google.colab.kernel.accessAllowed ? 'block' : 'none';\n",
              "\n",
              "        async function convertToInteractive(key) {\n",
              "          const element = document.querySelector('#df-e709561c-53f7-4571-a1d4-d52538c6c63a');\n",
              "          const dataTable =\n",
              "            await google.colab.kernel.invokeFunction('convertToInteractive',\n",
              "                                                     [key], {});\n",
              "          if (!dataTable) return;\n",
              "\n",
              "          const docLinkHtml = 'Like what you see? Visit the ' +\n",
              "            '<a target=\"_blank\" href=https://colab.research.google.com/notebooks/data_table.ipynb>data table notebook</a>'\n",
              "            + ' to learn more about interactive tables.';\n",
              "          element.innerHTML = '';\n",
              "          dataTable['output_type'] = 'display_data';\n",
              "          await google.colab.output.renderOutput(dataTable, element);\n",
              "          const docLink = document.createElement('div');\n",
              "          docLink.innerHTML = docLinkHtml;\n",
              "          element.appendChild(docLink);\n",
              "        }\n",
              "      </script>\n",
              "    </div>\n",
              "  </div>\n",
              "  "
            ]
          },
          "metadata": {},
          "execution_count": 64
        }
      ],
      "source": [
        "# создадим сводную таблицу с данными столбцов 'debt' и 'family_status_id'\n",
        "# рассчитаем соотношение тех, кто просрочил выплату кредита к тем, кто не просрочил\n",
        "family_pivot = (\n",
        "    clients_updated.pivot_table(index='family_status_id', values = 'debt', aggfunc = ['sum', 'count', 'mean'])\n",
        "    .reset_index()\n",
        "    .rename(columns={'debt': '', 'sum': 'Кол-во просрочек', 'count': 'Общее кол-во', 'mean': 'Доля', 'family_status_id': 'Статус'})\n",
        "    )\n",
        "\n",
        "# заменим family_status_id на название статуса\n",
        "\n",
        "fam_stat_dict = {0: 'женат / замужем', 1: 'гражданский брак', 2: 'вдовец / вдова', 3: 'в разводе', 4: 'не женат / не замужем'}\n",
        "family_pivot['Статус'] = family_pivot['Статус'].map(fam_stat_dict)\n",
        "\n",
        "family_pivot\n"
      ]
    },
    {
      "cell_type": "markdown",
      "id": "7426ad24",
      "metadata": {
        "id": "7426ad24"
      },
      "source": [
        "#### Вопрос 3: \n",
        "Есть ли зависимость между уровнем дохода и возвратом кредита в срок?\n",
        "#### Ответ 3:\n",
        "Согласно данным ниже, заемщики категории D (30001–50000) меньше всех затягивают выплаты кредита, т.е. являются наиболее примерными плательщиками. Серьезных корреляций в остальных категориях не выявлено, средний процент невозврата — около 8.\n"
      ]
    },
    {
      "cell_type": "code",
      "execution_count": 66,
      "id": "a7e00209",
      "metadata": {
        "colab": {
          "base_uri": "https://localhost:8080/",
          "height": 220
        },
        "id": "a7e00209",
        "outputId": "7ee244f9-ea50-4aa7-bf7e-3e496118d658"
      },
      "outputs": [
        {
          "output_type": "execute_result",
          "data": {
            "text/plain": [
              "  Категория Кол-во просрочек Общее кол-во      Доля\n",
              "                                                   \n",
              "0         A                2           25  0.080000\n",
              "1         B              356         5041  0.070621\n",
              "2         C             1360        16016  0.084915\n",
              "3         D               21          350  0.060000\n",
              "4         E                2           22  0.090909"
            ],
            "text/html": [
              "\n",
              "  <div id=\"df-63d2c1ce-0af3-40f1-95f6-f5eaa0737dcc\">\n",
              "    <div class=\"colab-df-container\">\n",
              "      <div>\n",
              "<style scoped>\n",
              "    .dataframe tbody tr th:only-of-type {\n",
              "        vertical-align: middle;\n",
              "    }\n",
              "\n",
              "    .dataframe tbody tr th {\n",
              "        vertical-align: top;\n",
              "    }\n",
              "\n",
              "    .dataframe thead tr th {\n",
              "        text-align: left;\n",
              "    }\n",
              "</style>\n",
              "<table border=\"1\" class=\"dataframe\">\n",
              "  <thead>\n",
              "    <tr>\n",
              "      <th></th>\n",
              "      <th>Категория</th>\n",
              "      <th>Кол-во просрочек</th>\n",
              "      <th>Общее кол-во</th>\n",
              "      <th>Доля</th>\n",
              "    </tr>\n",
              "    <tr>\n",
              "      <th></th>\n",
              "      <th></th>\n",
              "      <th></th>\n",
              "      <th></th>\n",
              "      <th></th>\n",
              "    </tr>\n",
              "  </thead>\n",
              "  <tbody>\n",
              "    <tr>\n",
              "      <th>0</th>\n",
              "      <td>A</td>\n",
              "      <td>2</td>\n",
              "      <td>25</td>\n",
              "      <td>0.080000</td>\n",
              "    </tr>\n",
              "    <tr>\n",
              "      <th>1</th>\n",
              "      <td>B</td>\n",
              "      <td>356</td>\n",
              "      <td>5041</td>\n",
              "      <td>0.070621</td>\n",
              "    </tr>\n",
              "    <tr>\n",
              "      <th>2</th>\n",
              "      <td>C</td>\n",
              "      <td>1360</td>\n",
              "      <td>16016</td>\n",
              "      <td>0.084915</td>\n",
              "    </tr>\n",
              "    <tr>\n",
              "      <th>3</th>\n",
              "      <td>D</td>\n",
              "      <td>21</td>\n",
              "      <td>350</td>\n",
              "      <td>0.060000</td>\n",
              "    </tr>\n",
              "    <tr>\n",
              "      <th>4</th>\n",
              "      <td>E</td>\n",
              "      <td>2</td>\n",
              "      <td>22</td>\n",
              "      <td>0.090909</td>\n",
              "    </tr>\n",
              "  </tbody>\n",
              "</table>\n",
              "</div>\n",
              "      <button class=\"colab-df-convert\" onclick=\"convertToInteractive('df-63d2c1ce-0af3-40f1-95f6-f5eaa0737dcc')\"\n",
              "              title=\"Convert this dataframe to an interactive table.\"\n",
              "              style=\"display:none;\">\n",
              "        \n",
              "  <svg xmlns=\"http://www.w3.org/2000/svg\" height=\"24px\"viewBox=\"0 0 24 24\"\n",
              "       width=\"24px\">\n",
              "    <path d=\"M0 0h24v24H0V0z\" fill=\"none\"/>\n",
              "    <path d=\"M18.56 5.44l.94 2.06.94-2.06 2.06-.94-2.06-.94-.94-2.06-.94 2.06-2.06.94zm-11 1L8.5 8.5l.94-2.06 2.06-.94-2.06-.94L8.5 2.5l-.94 2.06-2.06.94zm10 10l.94 2.06.94-2.06 2.06-.94-2.06-.94-.94-2.06-.94 2.06-2.06.94z\"/><path d=\"M17.41 7.96l-1.37-1.37c-.4-.4-.92-.59-1.43-.59-.52 0-1.04.2-1.43.59L10.3 9.45l-7.72 7.72c-.78.78-.78 2.05 0 2.83L4 21.41c.39.39.9.59 1.41.59.51 0 1.02-.2 1.41-.59l7.78-7.78 2.81-2.81c.8-.78.8-2.07 0-2.86zM5.41 20L4 18.59l7.72-7.72 1.47 1.35L5.41 20z\"/>\n",
              "  </svg>\n",
              "      </button>\n",
              "      \n",
              "  <style>\n",
              "    .colab-df-container {\n",
              "      display:flex;\n",
              "      flex-wrap:wrap;\n",
              "      gap: 12px;\n",
              "    }\n",
              "\n",
              "    .colab-df-convert {\n",
              "      background-color: #E8F0FE;\n",
              "      border: none;\n",
              "      border-radius: 50%;\n",
              "      cursor: pointer;\n",
              "      display: none;\n",
              "      fill: #1967D2;\n",
              "      height: 32px;\n",
              "      padding: 0 0 0 0;\n",
              "      width: 32px;\n",
              "    }\n",
              "\n",
              "    .colab-df-convert:hover {\n",
              "      background-color: #E2EBFA;\n",
              "      box-shadow: 0px 1px 2px rgba(60, 64, 67, 0.3), 0px 1px 3px 1px rgba(60, 64, 67, 0.15);\n",
              "      fill: #174EA6;\n",
              "    }\n",
              "\n",
              "    [theme=dark] .colab-df-convert {\n",
              "      background-color: #3B4455;\n",
              "      fill: #D2E3FC;\n",
              "    }\n",
              "\n",
              "    [theme=dark] .colab-df-convert:hover {\n",
              "      background-color: #434B5C;\n",
              "      box-shadow: 0px 1px 3px 1px rgba(0, 0, 0, 0.15);\n",
              "      filter: drop-shadow(0px 1px 2px rgba(0, 0, 0, 0.3));\n",
              "      fill: #FFFFFF;\n",
              "    }\n",
              "  </style>\n",
              "\n",
              "      <script>\n",
              "        const buttonEl =\n",
              "          document.querySelector('#df-63d2c1ce-0af3-40f1-95f6-f5eaa0737dcc button.colab-df-convert');\n",
              "        buttonEl.style.display =\n",
              "          google.colab.kernel.accessAllowed ? 'block' : 'none';\n",
              "\n",
              "        async function convertToInteractive(key) {\n",
              "          const element = document.querySelector('#df-63d2c1ce-0af3-40f1-95f6-f5eaa0737dcc');\n",
              "          const dataTable =\n",
              "            await google.colab.kernel.invokeFunction('convertToInteractive',\n",
              "                                                     [key], {});\n",
              "          if (!dataTable) return;\n",
              "\n",
              "          const docLinkHtml = 'Like what you see? Visit the ' +\n",
              "            '<a target=\"_blank\" href=https://colab.research.google.com/notebooks/data_table.ipynb>data table notebook</a>'\n",
              "            + ' to learn more about interactive tables.';\n",
              "          element.innerHTML = '';\n",
              "          dataTable['output_type'] = 'display_data';\n",
              "          await google.colab.output.renderOutput(dataTable, element);\n",
              "          const docLink = document.createElement('div');\n",
              "          docLink.innerHTML = docLinkHtml;\n",
              "          element.appendChild(docLink);\n",
              "        }\n",
              "      </script>\n",
              "    </div>\n",
              "  </div>\n",
              "  "
            ]
          },
          "metadata": {},
          "execution_count": 66
        }
      ],
      "source": [
        "# создадим сводную таблицу с данными столбцов 'debt' и 'total_income_category'\n",
        "income_pivot = (\n",
        "    clients_updated\n",
        "    .pivot_table(index='total_income_category', values = 'debt', aggfunc = ['sum', 'count', 'mean'])\n",
        "    .reset_index()\n",
        "    .rename(columns={'debt': '', 'sum': 'Кол-во просрочек', 'count': 'Общее кол-во', 'mean': 'Доля', 'total_income_category': 'Категория'})\n",
        ")\n",
        "\n",
        "income_pivot"
      ]
    },
    {
      "cell_type": "markdown",
      "id": "0ac11b69",
      "metadata": {
        "id": "0ac11b69"
      },
      "source": [
        "#### Вопрос 4: \n",
        "Как разные цели кредита влияют на его возврат в срок?\n",
        "#### Ответ 4:\n",
        "Чаще не выплачивают кредит в срок заемщики, получившие кредит на цели \"операции с автомобилем\" (9%) и \"получение образования\" (9%), реже всего — в категории \"операции с недвижимостью\" (7%). Однако разница между категориями в 2 процента не кажется значительной."
      ]
    },
    {
      "cell_type": "code",
      "execution_count": 67,
      "id": "d789df22",
      "metadata": {
        "colab": {
          "base_uri": "https://localhost:8080/",
          "height": 189
        },
        "id": "d789df22",
        "outputId": "2a28952f-ee92-44c1-e34a-86c44e694ae3"
      },
      "outputs": [
        {
          "output_type": "execute_result",
          "data": {
            "text/plain": [
              "                  Категория Кол-во просрочек Общее кол-во      Доля\n",
              "                                                                   \n",
              "0    операции с автомобилем              403         4306  0.093590\n",
              "1  операции с недвижимостью              782        10811  0.072334\n",
              "2     получение образования              370         4013  0.092200\n",
              "3        проведение свадьбы              186         2324  0.080034"
            ],
            "text/html": [
              "\n",
              "  <div id=\"df-0ec1646d-437b-44d4-8ef1-445a971e061f\">\n",
              "    <div class=\"colab-df-container\">\n",
              "      <div>\n",
              "<style scoped>\n",
              "    .dataframe tbody tr th:only-of-type {\n",
              "        vertical-align: middle;\n",
              "    }\n",
              "\n",
              "    .dataframe tbody tr th {\n",
              "        vertical-align: top;\n",
              "    }\n",
              "\n",
              "    .dataframe thead tr th {\n",
              "        text-align: left;\n",
              "    }\n",
              "</style>\n",
              "<table border=\"1\" class=\"dataframe\">\n",
              "  <thead>\n",
              "    <tr>\n",
              "      <th></th>\n",
              "      <th>Категория</th>\n",
              "      <th>Кол-во просрочек</th>\n",
              "      <th>Общее кол-во</th>\n",
              "      <th>Доля</th>\n",
              "    </tr>\n",
              "    <tr>\n",
              "      <th></th>\n",
              "      <th></th>\n",
              "      <th></th>\n",
              "      <th></th>\n",
              "      <th></th>\n",
              "    </tr>\n",
              "  </thead>\n",
              "  <tbody>\n",
              "    <tr>\n",
              "      <th>0</th>\n",
              "      <td>операции с автомобилем</td>\n",
              "      <td>403</td>\n",
              "      <td>4306</td>\n",
              "      <td>0.093590</td>\n",
              "    </tr>\n",
              "    <tr>\n",
              "      <th>1</th>\n",
              "      <td>операции с недвижимостью</td>\n",
              "      <td>782</td>\n",
              "      <td>10811</td>\n",
              "      <td>0.072334</td>\n",
              "    </tr>\n",
              "    <tr>\n",
              "      <th>2</th>\n",
              "      <td>получение образования</td>\n",
              "      <td>370</td>\n",
              "      <td>4013</td>\n",
              "      <td>0.092200</td>\n",
              "    </tr>\n",
              "    <tr>\n",
              "      <th>3</th>\n",
              "      <td>проведение свадьбы</td>\n",
              "      <td>186</td>\n",
              "      <td>2324</td>\n",
              "      <td>0.080034</td>\n",
              "    </tr>\n",
              "  </tbody>\n",
              "</table>\n",
              "</div>\n",
              "      <button class=\"colab-df-convert\" onclick=\"convertToInteractive('df-0ec1646d-437b-44d4-8ef1-445a971e061f')\"\n",
              "              title=\"Convert this dataframe to an interactive table.\"\n",
              "              style=\"display:none;\">\n",
              "        \n",
              "  <svg xmlns=\"http://www.w3.org/2000/svg\" height=\"24px\"viewBox=\"0 0 24 24\"\n",
              "       width=\"24px\">\n",
              "    <path d=\"M0 0h24v24H0V0z\" fill=\"none\"/>\n",
              "    <path d=\"M18.56 5.44l.94 2.06.94-2.06 2.06-.94-2.06-.94-.94-2.06-.94 2.06-2.06.94zm-11 1L8.5 8.5l.94-2.06 2.06-.94-2.06-.94L8.5 2.5l-.94 2.06-2.06.94zm10 10l.94 2.06.94-2.06 2.06-.94-2.06-.94-.94-2.06-.94 2.06-2.06.94z\"/><path d=\"M17.41 7.96l-1.37-1.37c-.4-.4-.92-.59-1.43-.59-.52 0-1.04.2-1.43.59L10.3 9.45l-7.72 7.72c-.78.78-.78 2.05 0 2.83L4 21.41c.39.39.9.59 1.41.59.51 0 1.02-.2 1.41-.59l7.78-7.78 2.81-2.81c.8-.78.8-2.07 0-2.86zM5.41 20L4 18.59l7.72-7.72 1.47 1.35L5.41 20z\"/>\n",
              "  </svg>\n",
              "      </button>\n",
              "      \n",
              "  <style>\n",
              "    .colab-df-container {\n",
              "      display:flex;\n",
              "      flex-wrap:wrap;\n",
              "      gap: 12px;\n",
              "    }\n",
              "\n",
              "    .colab-df-convert {\n",
              "      background-color: #E8F0FE;\n",
              "      border: none;\n",
              "      border-radius: 50%;\n",
              "      cursor: pointer;\n",
              "      display: none;\n",
              "      fill: #1967D2;\n",
              "      height: 32px;\n",
              "      padding: 0 0 0 0;\n",
              "      width: 32px;\n",
              "    }\n",
              "\n",
              "    .colab-df-convert:hover {\n",
              "      background-color: #E2EBFA;\n",
              "      box-shadow: 0px 1px 2px rgba(60, 64, 67, 0.3), 0px 1px 3px 1px rgba(60, 64, 67, 0.15);\n",
              "      fill: #174EA6;\n",
              "    }\n",
              "\n",
              "    [theme=dark] .colab-df-convert {\n",
              "      background-color: #3B4455;\n",
              "      fill: #D2E3FC;\n",
              "    }\n",
              "\n",
              "    [theme=dark] .colab-df-convert:hover {\n",
              "      background-color: #434B5C;\n",
              "      box-shadow: 0px 1px 3px 1px rgba(0, 0, 0, 0.15);\n",
              "      filter: drop-shadow(0px 1px 2px rgba(0, 0, 0, 0.3));\n",
              "      fill: #FFFFFF;\n",
              "    }\n",
              "  </style>\n",
              "\n",
              "      <script>\n",
              "        const buttonEl =\n",
              "          document.querySelector('#df-0ec1646d-437b-44d4-8ef1-445a971e061f button.colab-df-convert');\n",
              "        buttonEl.style.display =\n",
              "          google.colab.kernel.accessAllowed ? 'block' : 'none';\n",
              "\n",
              "        async function convertToInteractive(key) {\n",
              "          const element = document.querySelector('#df-0ec1646d-437b-44d4-8ef1-445a971e061f');\n",
              "          const dataTable =\n",
              "            await google.colab.kernel.invokeFunction('convertToInteractive',\n",
              "                                                     [key], {});\n",
              "          if (!dataTable) return;\n",
              "\n",
              "          const docLinkHtml = 'Like what you see? Visit the ' +\n",
              "            '<a target=\"_blank\" href=https://colab.research.google.com/notebooks/data_table.ipynb>data table notebook</a>'\n",
              "            + ' to learn more about interactive tables.';\n",
              "          element.innerHTML = '';\n",
              "          dataTable['output_type'] = 'display_data';\n",
              "          await google.colab.output.renderOutput(dataTable, element);\n",
              "          const docLink = document.createElement('div');\n",
              "          docLink.innerHTML = docLinkHtml;\n",
              "          element.appendChild(docLink);\n",
              "        }\n",
              "      </script>\n",
              "    </div>\n",
              "  </div>\n",
              "  "
            ]
          },
          "metadata": {},
          "execution_count": 67
        }
      ],
      "source": [
        "# создадим сводную таблицу с данными столбцов 'debt' и 'purpose_category'\n",
        "purpose_pivot = (\n",
        "    clients_updated\n",
        "    .pivot_table(index='purpose_category', values = 'debt', aggfunc = ['sum', 'count', 'mean'])\n",
        "    .reset_index()\n",
        "    .rename(columns={'debt': '', 'sum': 'Кол-во просрочек', 'count': 'Общее кол-во', 'mean': 'Доля', 'purpose_category': 'Категория'})\n",
        ")\n",
        "purpose_pivot "
      ]
    },
    {
      "cell_type": "markdown",
      "id": "8814556e",
      "metadata": {
        "id": "8814556e"
      },
      "source": [
        "#### Вопрос 5: \n",
        "Ответы сопроводите интерпретацией — поясните, о чём именно говорит полученный вами результат.\n",
        "#### Ответ 5:\n",
        "Полученный результат позволяет сделать вывод о том, что серьезной зависимости между возвратом кредита в срок и наличием детей/семейным статусом/уровнем дохода/целями получения кредита нет."
      ]
    },
    {
      "cell_type": "markdown",
      "id": "0236a7a9",
      "metadata": {
        "id": "0236a7a9"
      },
      "source": [
        "## Общий вывод:\n",
        "\n",
        "Для построения модели кредитного скоринга банка необходимо было разобраться, влияет ли семейное положение и количество детей клиента на факт погашения кредита в срок. Входные данные — статистика о платёжеспособности клиентов.\n",
        "\n",
        "В ходе исследования мы проверили данные на ошибки и оценили их влияние на исследование. В данных были обнаружены пропуски, артефакты, а также явные и неявные дубликаты.\n",
        "\n",
        "После устранения проблем в данных:\n",
        "* заполнения пропущенных данных  в столбцах `days_employed` и `total_income` (доля пропущенных значений в каждом из столбцов с пропусками составляет 10%) медианными значениями, \n",
        "* обработки артефактов:\n",
        "   * в столбце `days_employed` оказались отрицательные значения дней трудового стажа, а также нереалистичное количество трудовых дней,\n",
        "   * в столбце `children` оказались отрицательные значения и 76 заемщиков с 20 детьми,\n",
        "   * в столбце `dob_years` оказались нулевые данные\n",
        "* устранения дубликатов, \n",
        "* категоризации данных\n",
        "\n",
        "мы проверили четыре  гипотезы:\n",
        "1. Существует зависимость между количеством детей и возвратом кредита в срок.\n",
        "2. Существует зависимость между семейным положением и возвратом кредита в срок.\n",
        "3. Существует зависимость между уровнем дохода и возвратом кредита в срок.\n",
        "4. Разные цели кредита по-разному влияют на его возврат в срок. \n",
        "\n",
        "Полученный на основании анализа данных результат позволяет сделать вывод о том, что наличие детей / семейный статус / уровень дохода / цель получения кредита не оказывает серьезного влияния на кредитоспособность заемщика, то есть вероятность возврата или невозврата кредита. Для построении модели кредитного скоринга мы рекомендуем изучить дополнительные характеристики потенциальных заемщиков для определения их кредитоспособности. "
      ]
    }
  ],
  "metadata": {
    "ExecuteTimeLog": [
      {
        "duration": 562,
        "start_time": "2022-04-07T12:01:40.290Z"
      },
      {
        "duration": 35,
        "start_time": "2022-04-07T12:04:11.461Z"
      },
      {
        "duration": 13,
        "start_time": "2022-04-07T12:04:23.597Z"
      },
      {
        "duration": 16,
        "start_time": "2022-04-07T12:06:19.233Z"
      },
      {
        "duration": 18,
        "start_time": "2022-04-07T12:06:49.769Z"
      },
      {
        "duration": 41,
        "start_time": "2022-04-07T12:08:08.003Z"
      },
      {
        "duration": 23,
        "start_time": "2022-04-07T12:08:27.287Z"
      },
      {
        "duration": 29,
        "start_time": "2022-04-07T12:08:35.192Z"
      },
      {
        "duration": 17,
        "start_time": "2022-04-07T12:09:34.811Z"
      },
      {
        "duration": 95,
        "start_time": "2022-04-07T12:09:50.452Z"
      },
      {
        "duration": 16,
        "start_time": "2022-04-07T12:09:58.101Z"
      },
      {
        "duration": 17,
        "start_time": "2022-04-07T12:10:00.226Z"
      },
      {
        "duration": 646,
        "start_time": "2022-04-07T12:10:41.432Z"
      },
      {
        "duration": 19,
        "start_time": "2022-04-07T12:10:42.081Z"
      },
      {
        "duration": 95,
        "start_time": "2022-04-07T12:10:56.699Z"
      },
      {
        "duration": 603,
        "start_time": "2022-04-07T12:11:04.846Z"
      },
      {
        "duration": 30,
        "start_time": "2022-04-07T12:11:05.452Z"
      },
      {
        "duration": 44,
        "start_time": "2022-04-07T12:11:20.437Z"
      },
      {
        "duration": 33,
        "start_time": "2022-04-07T12:16:52.553Z"
      },
      {
        "duration": 556,
        "start_time": "2022-04-07T12:17:03.014Z"
      },
      {
        "duration": 25,
        "start_time": "2022-04-07T12:17:03.573Z"
      },
      {
        "duration": 28,
        "start_time": "2022-04-07T12:17:37.240Z"
      },
      {
        "duration": 18,
        "start_time": "2022-04-07T12:17:49.951Z"
      },
      {
        "duration": 19,
        "start_time": "2022-04-07T12:18:08.250Z"
      },
      {
        "duration": 18,
        "start_time": "2022-04-07T12:18:54.320Z"
      },
      {
        "duration": 102,
        "start_time": "2022-04-07T12:19:30.792Z"
      },
      {
        "duration": 21,
        "start_time": "2022-04-07T12:19:37.537Z"
      },
      {
        "duration": 21,
        "start_time": "2022-04-07T12:19:50.690Z"
      },
      {
        "duration": 19,
        "start_time": "2022-04-07T12:20:06.061Z"
      },
      {
        "duration": 18,
        "start_time": "2022-04-07T12:20:22.770Z"
      },
      {
        "duration": 32,
        "start_time": "2022-04-07T12:21:56.463Z"
      },
      {
        "duration": 39,
        "start_time": "2022-04-07T12:22:17.364Z"
      },
      {
        "duration": 5,
        "start_time": "2022-04-07T12:22:42.746Z"
      },
      {
        "duration": 22,
        "start_time": "2022-04-07T12:22:46.227Z"
      },
      {
        "duration": 19,
        "start_time": "2022-04-07T12:22:49.762Z"
      },
      {
        "duration": 19,
        "start_time": "2022-04-07T12:24:01.235Z"
      },
      {
        "duration": 19,
        "start_time": "2022-04-07T12:24:15.011Z"
      },
      {
        "duration": 20,
        "start_time": "2022-04-07T12:24:43.779Z"
      },
      {
        "duration": 550,
        "start_time": "2022-04-07T12:24:51.501Z"
      },
      {
        "duration": 21,
        "start_time": "2022-04-07T12:24:52.053Z"
      },
      {
        "duration": 20,
        "start_time": "2022-04-07T12:25:11.192Z"
      },
      {
        "duration": 19,
        "start_time": "2022-04-07T12:25:20.523Z"
      },
      {
        "duration": 35,
        "start_time": "2022-04-07T12:25:29.449Z"
      },
      {
        "duration": 48,
        "start_time": "2022-04-07T12:26:00.254Z"
      },
      {
        "duration": 32,
        "start_time": "2022-04-07T12:26:14.029Z"
      },
      {
        "duration": 19,
        "start_time": "2022-04-07T12:26:21.593Z"
      },
      {
        "duration": 574,
        "start_time": "2022-04-07T12:26:34.097Z"
      },
      {
        "duration": 19,
        "start_time": "2022-04-07T12:26:34.674Z"
      },
      {
        "duration": 618,
        "start_time": "2022-04-07T12:29:56.040Z"
      },
      {
        "duration": 16,
        "start_time": "2022-04-07T12:29:56.661Z"
      },
      {
        "duration": 25,
        "start_time": "2022-04-07T12:30:05.833Z"
      },
      {
        "duration": 22,
        "start_time": "2022-04-07T12:32:41.704Z"
      },
      {
        "duration": 25,
        "start_time": "2022-04-07T12:32:55.215Z"
      },
      {
        "duration": 613,
        "start_time": "2022-04-07T12:33:04.121Z"
      },
      {
        "duration": 37,
        "start_time": "2022-04-07T12:33:04.737Z"
      },
      {
        "duration": 81,
        "start_time": "2022-04-07T12:33:33.600Z"
      },
      {
        "duration": 103,
        "start_time": "2022-04-07T12:34:53.148Z"
      },
      {
        "duration": 88,
        "start_time": "2022-04-07T12:39:25.498Z"
      },
      {
        "duration": 618,
        "start_time": "2022-04-07T12:39:36.444Z"
      },
      {
        "duration": 15,
        "start_time": "2022-04-07T12:39:37.068Z"
      },
      {
        "duration": 87,
        "start_time": "2022-04-07T12:39:59.421Z"
      },
      {
        "duration": 89,
        "start_time": "2022-04-07T12:40:14.563Z"
      },
      {
        "duration": 121,
        "start_time": "2022-04-07T12:40:24.197Z"
      },
      {
        "duration": 105,
        "start_time": "2022-04-07T12:40:29.020Z"
      },
      {
        "duration": 111,
        "start_time": "2022-04-07T12:42:57.021Z"
      },
      {
        "duration": 110,
        "start_time": "2022-04-07T12:43:13.545Z"
      },
      {
        "duration": 105,
        "start_time": "2022-04-07T12:43:37.451Z"
      },
      {
        "duration": 617,
        "start_time": "2022-04-07T12:55:55.962Z"
      },
      {
        "duration": 18,
        "start_time": "2022-04-07T12:55:56.583Z"
      },
      {
        "duration": 110,
        "start_time": "2022-04-07T13:32:39.521Z"
      },
      {
        "duration": 45,
        "start_time": "2022-04-07T14:13:09.365Z"
      },
      {
        "duration": 499,
        "start_time": "2022-04-07T14:13:19.682Z"
      },
      {
        "duration": 10,
        "start_time": "2022-04-07T14:13:20.183Z"
      },
      {
        "duration": 59,
        "start_time": "2022-04-07T14:13:20.194Z"
      },
      {
        "duration": 0,
        "start_time": "2022-04-07T14:13:20.254Z"
      },
      {
        "duration": 5,
        "start_time": "2022-04-07T14:13:26.138Z"
      },
      {
        "duration": 4,
        "start_time": "2022-04-07T14:13:39.509Z"
      },
      {
        "duration": 5,
        "start_time": "2022-04-07T14:13:47.829Z"
      },
      {
        "duration": 3,
        "start_time": "2022-04-07T14:16:07.982Z"
      },
      {
        "duration": 3,
        "start_time": "2022-04-07T14:16:12.125Z"
      },
      {
        "duration": 509,
        "start_time": "2022-04-07T14:16:18.469Z"
      },
      {
        "duration": 11,
        "start_time": "2022-04-07T14:16:18.981Z"
      },
      {
        "duration": 59,
        "start_time": "2022-04-07T14:16:18.993Z"
      },
      {
        "duration": 0,
        "start_time": "2022-04-07T14:16:19.053Z"
      },
      {
        "duration": 4,
        "start_time": "2022-04-07T14:16:31.900Z"
      },
      {
        "duration": 4,
        "start_time": "2022-04-07T14:16:39.813Z"
      },
      {
        "duration": 7,
        "start_time": "2022-04-07T14:16:45.067Z"
      },
      {
        "duration": 4,
        "start_time": "2022-04-07T14:16:51.024Z"
      },
      {
        "duration": 4,
        "start_time": "2022-04-07T14:17:18.090Z"
      },
      {
        "duration": 4,
        "start_time": "2022-04-07T14:17:25.433Z"
      },
      {
        "duration": 4,
        "start_time": "2022-04-07T14:17:33.097Z"
      },
      {
        "duration": 4,
        "start_time": "2022-04-07T14:19:39.403Z"
      },
      {
        "duration": 480,
        "start_time": "2022-04-07T14:19:47.285Z"
      },
      {
        "duration": 15,
        "start_time": "2022-04-07T14:19:47.767Z"
      },
      {
        "duration": 58,
        "start_time": "2022-04-07T14:19:47.783Z"
      },
      {
        "duration": 0,
        "start_time": "2022-04-07T14:19:47.843Z"
      },
      {
        "duration": 5,
        "start_time": "2022-04-07T14:19:57.699Z"
      },
      {
        "duration": 10,
        "start_time": "2022-04-07T14:20:11.166Z"
      },
      {
        "duration": 8,
        "start_time": "2022-04-07T14:20:32.660Z"
      },
      {
        "duration": 7,
        "start_time": "2022-04-07T14:20:45.984Z"
      },
      {
        "duration": 183,
        "start_time": "2022-04-07T14:22:59.217Z"
      },
      {
        "duration": 10,
        "start_time": "2022-04-07T14:27:05.059Z"
      },
      {
        "duration": 10,
        "start_time": "2022-04-07T14:27:28.895Z"
      },
      {
        "duration": 9,
        "start_time": "2022-04-07T14:28:06.192Z"
      },
      {
        "duration": 6,
        "start_time": "2022-04-07T14:28:29.297Z"
      },
      {
        "duration": 11,
        "start_time": "2022-04-07T14:29:41.925Z"
      },
      {
        "duration": 188,
        "start_time": "2022-04-07T14:38:41.869Z"
      },
      {
        "duration": 7,
        "start_time": "2022-04-07T14:39:08.509Z"
      },
      {
        "duration": 5,
        "start_time": "2022-04-07T14:39:15.334Z"
      },
      {
        "duration": 5,
        "start_time": "2022-04-07T14:39:19.301Z"
      },
      {
        "duration": 5,
        "start_time": "2022-04-07T14:39:23.030Z"
      },
      {
        "duration": 5,
        "start_time": "2022-04-07T14:39:26.996Z"
      },
      {
        "duration": 5,
        "start_time": "2022-04-07T14:39:30.748Z"
      },
      {
        "duration": 20,
        "start_time": "2022-04-07T14:40:20.499Z"
      },
      {
        "duration": 14,
        "start_time": "2022-04-07T14:42:34.057Z"
      },
      {
        "duration": 17,
        "start_time": "2022-04-07T14:58:04.390Z"
      },
      {
        "duration": 503,
        "start_time": "2022-04-07T14:58:15.559Z"
      },
      {
        "duration": 17,
        "start_time": "2022-04-07T14:58:16.064Z"
      },
      {
        "duration": 78,
        "start_time": "2022-04-07T14:58:16.083Z"
      },
      {
        "duration": 0,
        "start_time": "2022-04-07T14:58:16.163Z"
      },
      {
        "duration": 0,
        "start_time": "2022-04-07T14:58:16.164Z"
      },
      {
        "duration": 0,
        "start_time": "2022-04-07T14:58:16.165Z"
      },
      {
        "duration": 21,
        "start_time": "2022-04-07T14:58:31.958Z"
      },
      {
        "duration": 19,
        "start_time": "2022-04-07T15:04:16.706Z"
      },
      {
        "duration": 19,
        "start_time": "2022-04-07T15:04:44.968Z"
      },
      {
        "duration": 49,
        "start_time": "2022-04-07T16:33:31.670Z"
      },
      {
        "duration": 524,
        "start_time": "2022-04-07T16:33:56.093Z"
      },
      {
        "duration": 12,
        "start_time": "2022-04-07T16:33:56.619Z"
      },
      {
        "duration": 85,
        "start_time": "2022-04-07T16:33:56.632Z"
      },
      {
        "duration": 0,
        "start_time": "2022-04-07T16:33:56.719Z"
      },
      {
        "duration": 0,
        "start_time": "2022-04-07T16:33:56.720Z"
      },
      {
        "duration": 0,
        "start_time": "2022-04-07T16:33:56.720Z"
      },
      {
        "duration": 181,
        "start_time": "2022-04-07T16:34:33.501Z"
      },
      {
        "duration": 197,
        "start_time": "2022-04-07T16:34:43.588Z"
      },
      {
        "duration": 200,
        "start_time": "2022-04-07T16:35:54.754Z"
      },
      {
        "duration": 203,
        "start_time": "2022-04-07T16:36:07.088Z"
      },
      {
        "duration": 481,
        "start_time": "2022-04-07T16:36:21.632Z"
      },
      {
        "duration": 12,
        "start_time": "2022-04-07T16:36:22.115Z"
      },
      {
        "duration": 218,
        "start_time": "2022-04-07T16:36:22.129Z"
      },
      {
        "duration": 11,
        "start_time": "2022-04-07T16:36:22.350Z"
      },
      {
        "duration": 94,
        "start_time": "2022-04-07T16:36:22.363Z"
      },
      {
        "duration": 0,
        "start_time": "2022-04-07T16:36:22.458Z"
      },
      {
        "duration": 203,
        "start_time": "2022-04-07T16:36:42.645Z"
      },
      {
        "duration": 21,
        "start_time": "2022-04-07T16:37:19.175Z"
      },
      {
        "duration": 206,
        "start_time": "2022-04-07T16:38:04.601Z"
      },
      {
        "duration": 204,
        "start_time": "2022-04-07T16:38:19.991Z"
      },
      {
        "duration": 5,
        "start_time": "2022-04-07T16:40:12.525Z"
      },
      {
        "duration": 210,
        "start_time": "2022-04-07T16:40:18.660Z"
      },
      {
        "duration": 197,
        "start_time": "2022-04-07T16:40:30.004Z"
      },
      {
        "duration": 206,
        "start_time": "2022-04-07T16:40:44.350Z"
      },
      {
        "duration": 6,
        "start_time": "2022-04-07T16:41:11.372Z"
      },
      {
        "duration": 6,
        "start_time": "2022-04-07T16:41:12.869Z"
      },
      {
        "duration": 5,
        "start_time": "2022-04-07T16:41:21.046Z"
      },
      {
        "duration": 6,
        "start_time": "2022-04-07T16:42:00.861Z"
      },
      {
        "duration": 8,
        "start_time": "2022-04-07T16:42:08.128Z"
      },
      {
        "duration": 7,
        "start_time": "2022-04-07T16:42:37.181Z"
      },
      {
        "duration": 8,
        "start_time": "2022-04-07T16:42:52.965Z"
      },
      {
        "duration": 9,
        "start_time": "2022-04-07T16:43:11.098Z"
      },
      {
        "duration": 197,
        "start_time": "2022-04-07T16:43:21.653Z"
      },
      {
        "duration": 8,
        "start_time": "2022-04-07T16:44:50.898Z"
      },
      {
        "duration": 9,
        "start_time": "2022-04-07T16:45:27.719Z"
      },
      {
        "duration": 6,
        "start_time": "2022-04-07T16:46:53.213Z"
      },
      {
        "duration": 8,
        "start_time": "2022-04-07T16:46:59.957Z"
      },
      {
        "duration": 5,
        "start_time": "2022-04-07T16:47:57.164Z"
      },
      {
        "duration": 206,
        "start_time": "2022-04-07T16:48:56.911Z"
      },
      {
        "duration": 8,
        "start_time": "2022-04-07T16:49:01.573Z"
      },
      {
        "duration": 24,
        "start_time": "2022-04-07T16:49:22.113Z"
      },
      {
        "duration": 11,
        "start_time": "2022-04-07T16:50:26.840Z"
      },
      {
        "duration": 8,
        "start_time": "2022-04-07T16:50:56.046Z"
      },
      {
        "duration": 6,
        "start_time": "2022-04-07T16:51:23.583Z"
      },
      {
        "duration": 4,
        "start_time": "2022-04-07T16:51:35.214Z"
      },
      {
        "duration": 4,
        "start_time": "2022-04-07T16:51:40.419Z"
      },
      {
        "duration": 7,
        "start_time": "2022-04-07T16:51:59.052Z"
      },
      {
        "duration": 5,
        "start_time": "2022-04-07T16:52:04.904Z"
      },
      {
        "duration": 612,
        "start_time": "2022-04-07T19:58:44.275Z"
      },
      {
        "duration": 16,
        "start_time": "2022-04-07T19:58:44.889Z"
      },
      {
        "duration": 11,
        "start_time": "2022-04-07T19:58:44.907Z"
      },
      {
        "duration": 364,
        "start_time": "2022-04-07T19:58:44.921Z"
      },
      {
        "duration": 11,
        "start_time": "2022-04-07T19:58:45.287Z"
      },
      {
        "duration": 6,
        "start_time": "2022-04-07T19:58:45.300Z"
      },
      {
        "duration": 17,
        "start_time": "2022-04-07T19:58:45.308Z"
      },
      {
        "duration": 155,
        "start_time": "2022-04-07T19:58:45.328Z"
      },
      {
        "duration": 0,
        "start_time": "2022-04-07T19:58:45.485Z"
      },
      {
        "duration": 8,
        "start_time": "2022-04-07T20:08:04.383Z"
      },
      {
        "duration": 8,
        "start_time": "2022-04-07T20:08:38.025Z"
      },
      {
        "duration": 30,
        "start_time": "2022-04-07T20:09:38.895Z"
      },
      {
        "duration": 5,
        "start_time": "2022-04-07T20:09:53.628Z"
      },
      {
        "duration": 5,
        "start_time": "2022-04-07T20:09:55.506Z"
      },
      {
        "duration": 33,
        "start_time": "2022-04-07T20:10:02.357Z"
      },
      {
        "duration": 33,
        "start_time": "2022-04-07T20:10:30.089Z"
      },
      {
        "duration": 16,
        "start_time": "2022-04-07T20:11:10.216Z"
      },
      {
        "duration": 18,
        "start_time": "2022-04-07T20:12:19.180Z"
      },
      {
        "duration": 15,
        "start_time": "2022-04-07T20:12:46.537Z"
      },
      {
        "duration": 15,
        "start_time": "2022-04-07T20:12:48.505Z"
      },
      {
        "duration": 19,
        "start_time": "2022-04-07T20:12:53.496Z"
      },
      {
        "duration": 2307,
        "start_time": "2022-04-07T20:13:29.081Z"
      },
      {
        "duration": 16,
        "start_time": "2022-04-07T20:13:31.391Z"
      },
      {
        "duration": 9,
        "start_time": "2022-04-07T20:13:31.410Z"
      },
      {
        "duration": 371,
        "start_time": "2022-04-07T20:13:31.422Z"
      },
      {
        "duration": 7,
        "start_time": "2022-04-07T20:13:31.795Z"
      },
      {
        "duration": 32,
        "start_time": "2022-04-07T20:13:31.803Z"
      },
      {
        "duration": 121,
        "start_time": "2022-04-07T20:13:31.837Z"
      },
      {
        "duration": 0,
        "start_time": "2022-04-07T20:13:31.960Z"
      },
      {
        "duration": 22,
        "start_time": "2022-04-07T20:13:37.708Z"
      },
      {
        "duration": 12,
        "start_time": "2022-04-07T20:15:02.696Z"
      },
      {
        "duration": 11,
        "start_time": "2022-04-07T20:17:51.836Z"
      },
      {
        "duration": 585,
        "start_time": "2022-04-07T20:18:02.399Z"
      },
      {
        "duration": 14,
        "start_time": "2022-04-07T20:18:02.987Z"
      },
      {
        "duration": 10,
        "start_time": "2022-04-07T20:18:03.003Z"
      },
      {
        "duration": 360,
        "start_time": "2022-04-07T20:18:03.016Z"
      },
      {
        "duration": 6,
        "start_time": "2022-04-07T20:18:03.378Z"
      },
      {
        "duration": 17,
        "start_time": "2022-04-07T20:18:03.386Z"
      },
      {
        "duration": 15,
        "start_time": "2022-04-07T20:18:03.405Z"
      },
      {
        "duration": 146,
        "start_time": "2022-04-07T20:18:03.423Z"
      },
      {
        "duration": 0,
        "start_time": "2022-04-07T20:18:03.571Z"
      },
      {
        "duration": 13,
        "start_time": "2022-04-07T20:18:42.140Z"
      },
      {
        "duration": 629,
        "start_time": "2022-04-07T20:18:56.145Z"
      },
      {
        "duration": 16,
        "start_time": "2022-04-07T20:18:56.776Z"
      },
      {
        "duration": 13,
        "start_time": "2022-04-07T20:18:56.794Z"
      },
      {
        "duration": 365,
        "start_time": "2022-04-07T20:18:56.810Z"
      },
      {
        "duration": 7,
        "start_time": "2022-04-07T20:18:57.177Z"
      },
      {
        "duration": 10,
        "start_time": "2022-04-07T20:18:57.186Z"
      },
      {
        "duration": 15,
        "start_time": "2022-04-07T20:18:57.198Z"
      },
      {
        "duration": 154,
        "start_time": "2022-04-07T20:18:57.215Z"
      },
      {
        "duration": 0,
        "start_time": "2022-04-07T20:18:57.372Z"
      },
      {
        "duration": 320,
        "start_time": "2022-04-07T20:20:21.348Z"
      },
      {
        "duration": 607,
        "start_time": "2022-04-07T20:20:34.365Z"
      },
      {
        "duration": 14,
        "start_time": "2022-04-07T20:20:34.975Z"
      },
      {
        "duration": 10,
        "start_time": "2022-04-07T20:20:34.991Z"
      },
      {
        "duration": 341,
        "start_time": "2022-04-07T20:20:35.004Z"
      },
      {
        "duration": 6,
        "start_time": "2022-04-07T20:20:35.348Z"
      },
      {
        "duration": 19,
        "start_time": "2022-04-07T20:20:35.356Z"
      },
      {
        "duration": 17,
        "start_time": "2022-04-07T20:20:35.377Z"
      },
      {
        "duration": 143,
        "start_time": "2022-04-07T20:20:35.396Z"
      },
      {
        "duration": 0,
        "start_time": "2022-04-07T20:20:35.541Z"
      },
      {
        "duration": 11,
        "start_time": "2022-04-07T20:21:20.103Z"
      },
      {
        "duration": 9,
        "start_time": "2022-04-07T20:21:41.922Z"
      },
      {
        "duration": 10,
        "start_time": "2022-04-07T20:21:47.913Z"
      },
      {
        "duration": 12,
        "start_time": "2022-04-07T20:21:55.103Z"
      },
      {
        "duration": 315,
        "start_time": "2022-04-07T20:22:03.273Z"
      },
      {
        "duration": 16,
        "start_time": "2022-04-07T20:22:29.628Z"
      },
      {
        "duration": 1597,
        "start_time": "2022-04-07T20:22:59.461Z"
      },
      {
        "duration": 6,
        "start_time": "2022-04-07T20:23:12.066Z"
      },
      {
        "duration": 14,
        "start_time": "2022-04-07T20:23:22.864Z"
      },
      {
        "duration": 12,
        "start_time": "2022-04-07T20:23:43.005Z"
      },
      {
        "duration": 14,
        "start_time": "2022-04-07T20:24:11.739Z"
      },
      {
        "duration": 16,
        "start_time": "2022-04-07T20:24:18.926Z"
      },
      {
        "duration": 638,
        "start_time": "2022-04-07T20:24:39.436Z"
      },
      {
        "duration": 15,
        "start_time": "2022-04-07T20:24:40.077Z"
      },
      {
        "duration": 11,
        "start_time": "2022-04-07T20:24:40.094Z"
      },
      {
        "duration": 348,
        "start_time": "2022-04-07T20:24:40.108Z"
      },
      {
        "duration": 13,
        "start_time": "2022-04-07T20:24:40.459Z"
      },
      {
        "duration": 14,
        "start_time": "2022-04-07T20:24:40.474Z"
      },
      {
        "duration": 16,
        "start_time": "2022-04-07T20:24:40.490Z"
      },
      {
        "duration": 15,
        "start_time": "2022-04-07T20:24:40.509Z"
      },
      {
        "duration": 97,
        "start_time": "2022-04-07T20:25:51.018Z"
      },
      {
        "duration": 15,
        "start_time": "2022-04-07T20:27:20.049Z"
      },
      {
        "duration": 587,
        "start_time": "2022-04-07T20:27:27.992Z"
      },
      {
        "duration": 14,
        "start_time": "2022-04-07T20:27:28.582Z"
      },
      {
        "duration": 11,
        "start_time": "2022-04-07T20:27:28.598Z"
      },
      {
        "duration": 360,
        "start_time": "2022-04-07T20:27:28.612Z"
      },
      {
        "duration": 8,
        "start_time": "2022-04-07T20:27:28.974Z"
      },
      {
        "duration": 11,
        "start_time": "2022-04-07T20:27:28.984Z"
      },
      {
        "duration": 17,
        "start_time": "2022-04-07T20:27:28.997Z"
      },
      {
        "duration": 60,
        "start_time": "2022-04-07T20:27:29.017Z"
      },
      {
        "duration": 26,
        "start_time": "2022-04-07T20:27:51.949Z"
      },
      {
        "duration": 17,
        "start_time": "2022-04-07T20:28:00.499Z"
      },
      {
        "duration": 463,
        "start_time": "2022-04-09T19:30:26.916Z"
      },
      {
        "duration": 6,
        "start_time": "2022-04-09T19:33:43.579Z"
      },
      {
        "duration": 6,
        "start_time": "2022-04-09T19:33:45.525Z"
      },
      {
        "duration": 8,
        "start_time": "2022-04-09T19:33:52.870Z"
      },
      {
        "duration": 8,
        "start_time": "2022-04-09T19:34:10.883Z"
      },
      {
        "duration": 8,
        "start_time": "2022-04-09T19:34:17.905Z"
      },
      {
        "duration": 8,
        "start_time": "2022-04-09T19:34:20.297Z"
      },
      {
        "duration": 8,
        "start_time": "2022-04-09T19:34:24.804Z"
      },
      {
        "duration": 517,
        "start_time": "2022-04-09T19:34:31.654Z"
      },
      {
        "duration": 6,
        "start_time": "2022-04-09T19:34:32.173Z"
      },
      {
        "duration": 11,
        "start_time": "2022-04-09T19:34:32.181Z"
      },
      {
        "duration": 8,
        "start_time": "2022-04-09T19:34:32.194Z"
      },
      {
        "duration": 202,
        "start_time": "2022-04-09T19:34:32.203Z"
      },
      {
        "duration": 4,
        "start_time": "2022-04-09T19:34:32.407Z"
      },
      {
        "duration": 9,
        "start_time": "2022-04-09T19:34:32.412Z"
      },
      {
        "duration": 11,
        "start_time": "2022-04-09T19:34:32.422Z"
      },
      {
        "duration": 12,
        "start_time": "2022-04-09T19:34:32.434Z"
      },
      {
        "duration": 7,
        "start_time": "2022-04-09T19:34:44.422Z"
      },
      {
        "duration": 6,
        "start_time": "2022-04-09T19:35:25.972Z"
      },
      {
        "duration": 7,
        "start_time": "2022-04-09T19:35:32.725Z"
      },
      {
        "duration": 8,
        "start_time": "2022-04-09T19:35:45.782Z"
      },
      {
        "duration": 6,
        "start_time": "2022-04-09T19:35:51.866Z"
      },
      {
        "duration": 6,
        "start_time": "2022-04-09T19:36:56.459Z"
      },
      {
        "duration": 8,
        "start_time": "2022-04-09T19:37:04.056Z"
      },
      {
        "duration": 10,
        "start_time": "2022-04-09T19:37:16.800Z"
      },
      {
        "duration": 11,
        "start_time": "2022-04-09T19:37:26.938Z"
      },
      {
        "duration": 6,
        "start_time": "2022-04-09T19:37:33.420Z"
      },
      {
        "duration": 14,
        "start_time": "2022-04-09T19:38:03.773Z"
      },
      {
        "duration": 65,
        "start_time": "2022-04-09T19:38:10.988Z"
      },
      {
        "duration": 13,
        "start_time": "2022-04-09T19:38:13.779Z"
      },
      {
        "duration": 17,
        "start_time": "2022-04-09T19:38:51.962Z"
      },
      {
        "duration": 103,
        "start_time": "2022-04-09T19:39:00.844Z"
      },
      {
        "duration": 106,
        "start_time": "2022-04-09T19:39:35.833Z"
      },
      {
        "duration": 15,
        "start_time": "2022-04-09T19:39:42.396Z"
      },
      {
        "duration": 20,
        "start_time": "2022-04-09T19:40:12.740Z"
      },
      {
        "duration": 102,
        "start_time": "2022-04-09T19:40:19.756Z"
      },
      {
        "duration": 110,
        "start_time": "2022-04-09T19:40:37.737Z"
      },
      {
        "duration": 8,
        "start_time": "2022-04-09T19:47:44.190Z"
      },
      {
        "duration": 110,
        "start_time": "2022-04-09T19:47:55.112Z"
      },
      {
        "duration": 18,
        "start_time": "2022-04-09T19:47:58.900Z"
      },
      {
        "duration": 14,
        "start_time": "2022-04-09T19:48:14.864Z"
      },
      {
        "duration": 7,
        "start_time": "2022-04-09T19:48:24.742Z"
      },
      {
        "duration": 15,
        "start_time": "2022-04-09T19:48:32.902Z"
      },
      {
        "duration": 12,
        "start_time": "2022-04-09T19:48:41.782Z"
      },
      {
        "duration": 484,
        "start_time": "2022-04-09T19:48:49.196Z"
      },
      {
        "duration": 8,
        "start_time": "2022-04-09T19:48:49.682Z"
      },
      {
        "duration": 13,
        "start_time": "2022-04-09T19:48:49.692Z"
      },
      {
        "duration": 9,
        "start_time": "2022-04-09T19:48:49.708Z"
      },
      {
        "duration": 218,
        "start_time": "2022-04-09T19:48:49.719Z"
      },
      {
        "duration": 5,
        "start_time": "2022-04-09T19:48:49.939Z"
      },
      {
        "duration": 8,
        "start_time": "2022-04-09T19:48:49.945Z"
      },
      {
        "duration": 28,
        "start_time": "2022-04-09T19:48:49.954Z"
      },
      {
        "duration": 11,
        "start_time": "2022-04-09T19:48:49.984Z"
      },
      {
        "duration": 9,
        "start_time": "2022-04-09T20:10:16.867Z"
      },
      {
        "duration": 624,
        "start_time": "2022-04-09T20:13:07.463Z"
      },
      {
        "duration": 8,
        "start_time": "2022-04-09T20:13:08.090Z"
      },
      {
        "duration": 17,
        "start_time": "2022-04-09T20:13:08.100Z"
      },
      {
        "duration": 10,
        "start_time": "2022-04-09T20:13:08.119Z"
      },
      {
        "duration": 225,
        "start_time": "2022-04-09T20:13:08.131Z"
      },
      {
        "duration": 6,
        "start_time": "2022-04-09T20:13:08.358Z"
      },
      {
        "duration": 8,
        "start_time": "2022-04-09T20:13:08.378Z"
      },
      {
        "duration": 17,
        "start_time": "2022-04-09T20:13:08.388Z"
      },
      {
        "duration": 11,
        "start_time": "2022-04-09T20:13:08.406Z"
      },
      {
        "duration": 10,
        "start_time": "2022-04-09T20:13:29.913Z"
      },
      {
        "duration": 494,
        "start_time": "2022-04-09T20:13:36.063Z"
      },
      {
        "duration": 6,
        "start_time": "2022-04-09T20:13:36.559Z"
      },
      {
        "duration": 12,
        "start_time": "2022-04-09T20:13:36.579Z"
      },
      {
        "duration": 8,
        "start_time": "2022-04-09T20:13:36.593Z"
      },
      {
        "duration": 202,
        "start_time": "2022-04-09T20:13:36.603Z"
      },
      {
        "duration": 4,
        "start_time": "2022-04-09T20:13:36.806Z"
      },
      {
        "duration": 8,
        "start_time": "2022-04-09T20:13:36.812Z"
      },
      {
        "duration": 10,
        "start_time": "2022-04-09T20:13:36.822Z"
      },
      {
        "duration": 10,
        "start_time": "2022-04-09T20:13:36.834Z"
      },
      {
        "duration": 5,
        "start_time": "2022-04-09T20:16:20.205Z"
      },
      {
        "duration": 462,
        "start_time": "2022-04-09T20:21:02.823Z"
      },
      {
        "duration": 7,
        "start_time": "2022-04-09T20:21:03.286Z"
      },
      {
        "duration": 12,
        "start_time": "2022-04-09T20:21:03.295Z"
      },
      {
        "duration": 9,
        "start_time": "2022-04-09T20:21:03.309Z"
      },
      {
        "duration": 4,
        "start_time": "2022-04-09T20:21:03.320Z"
      },
      {
        "duration": 275,
        "start_time": "2022-04-09T20:21:03.326Z"
      },
      {
        "duration": 6,
        "start_time": "2022-04-09T20:21:03.603Z"
      },
      {
        "duration": 13,
        "start_time": "2022-04-09T20:21:03.611Z"
      },
      {
        "duration": 13,
        "start_time": "2022-04-09T20:21:03.626Z"
      },
      {
        "duration": 43,
        "start_time": "2022-04-09T20:21:03.641Z"
      },
      {
        "duration": 8,
        "start_time": "2022-04-09T20:22:40.098Z"
      },
      {
        "duration": 15,
        "start_time": "2022-04-09T20:23:10.210Z"
      },
      {
        "duration": 507,
        "start_time": "2022-04-09T20:26:58.662Z"
      },
      {
        "duration": 10,
        "start_time": "2022-04-09T20:26:59.171Z"
      },
      {
        "duration": 12,
        "start_time": "2022-04-09T20:26:59.183Z"
      },
      {
        "duration": 8,
        "start_time": "2022-04-09T20:26:59.197Z"
      },
      {
        "duration": 16,
        "start_time": "2022-04-09T20:26:59.207Z"
      },
      {
        "duration": 207,
        "start_time": "2022-04-09T20:26:59.224Z"
      },
      {
        "duration": 12,
        "start_time": "2022-04-09T20:26:59.433Z"
      },
      {
        "duration": 9,
        "start_time": "2022-04-09T20:26:59.446Z"
      },
      {
        "duration": 10,
        "start_time": "2022-04-09T20:28:02.704Z"
      },
      {
        "duration": 455,
        "start_time": "2022-04-09T20:28:08.531Z"
      },
      {
        "duration": 7,
        "start_time": "2022-04-09T20:28:08.989Z"
      },
      {
        "duration": 13,
        "start_time": "2022-04-09T20:28:08.998Z"
      },
      {
        "duration": 10,
        "start_time": "2022-04-09T20:28:09.014Z"
      },
      {
        "duration": 13,
        "start_time": "2022-04-09T20:28:09.025Z"
      },
      {
        "duration": 227,
        "start_time": "2022-04-09T20:28:09.039Z"
      },
      {
        "duration": 15,
        "start_time": "2022-04-09T20:28:09.268Z"
      },
      {
        "duration": 9,
        "start_time": "2022-04-09T20:28:09.284Z"
      },
      {
        "duration": 10,
        "start_time": "2022-04-09T20:29:02.914Z"
      },
      {
        "duration": 471,
        "start_time": "2022-04-09T20:29:12.719Z"
      },
      {
        "duration": 7,
        "start_time": "2022-04-09T20:29:13.191Z"
      },
      {
        "duration": 13,
        "start_time": "2022-04-09T20:29:13.199Z"
      },
      {
        "duration": 9,
        "start_time": "2022-04-09T20:29:13.214Z"
      },
      {
        "duration": 12,
        "start_time": "2022-04-09T20:29:13.225Z"
      },
      {
        "duration": 231,
        "start_time": "2022-04-09T20:29:13.239Z"
      },
      {
        "duration": 16,
        "start_time": "2022-04-09T20:29:13.472Z"
      },
      {
        "duration": 9,
        "start_time": "2022-04-09T20:29:13.489Z"
      },
      {
        "duration": 10,
        "start_time": "2022-04-09T20:29:21.420Z"
      },
      {
        "duration": 9,
        "start_time": "2022-04-09T20:29:35.390Z"
      },
      {
        "duration": 10,
        "start_time": "2022-04-09T20:29:41.902Z"
      },
      {
        "duration": 1871,
        "start_time": "2022-04-09T20:30:07.239Z"
      },
      {
        "duration": 13,
        "start_time": "2022-04-09T20:30:22.258Z"
      },
      {
        "duration": 10,
        "start_time": "2022-04-09T20:30:37.116Z"
      },
      {
        "duration": 575,
        "start_time": "2022-04-09T20:31:04.057Z"
      },
      {
        "duration": 6,
        "start_time": "2022-04-09T20:31:04.635Z"
      },
      {
        "duration": 19,
        "start_time": "2022-04-09T20:31:04.643Z"
      },
      {
        "duration": 22,
        "start_time": "2022-04-09T20:31:04.664Z"
      },
      {
        "duration": 8,
        "start_time": "2022-04-09T20:31:04.688Z"
      },
      {
        "duration": 234,
        "start_time": "2022-04-09T20:31:04.698Z"
      },
      {
        "duration": 12,
        "start_time": "2022-04-09T20:31:04.933Z"
      },
      {
        "duration": 11,
        "start_time": "2022-04-09T20:31:04.946Z"
      },
      {
        "duration": 499,
        "start_time": "2022-04-09T20:31:28.844Z"
      },
      {
        "duration": 6,
        "start_time": "2022-04-09T20:31:29.345Z"
      },
      {
        "duration": 33,
        "start_time": "2022-04-09T20:31:29.353Z"
      },
      {
        "duration": 9,
        "start_time": "2022-04-09T20:31:29.388Z"
      },
      {
        "duration": 7,
        "start_time": "2022-04-09T20:31:29.399Z"
      },
      {
        "duration": 220,
        "start_time": "2022-04-09T20:31:29.408Z"
      },
      {
        "duration": 13,
        "start_time": "2022-04-09T20:31:29.630Z"
      },
      {
        "duration": 10,
        "start_time": "2022-04-09T20:31:29.644Z"
      },
      {
        "duration": 608,
        "start_time": "2022-04-09T20:33:37.513Z"
      },
      {
        "duration": 7,
        "start_time": "2022-04-09T20:33:38.124Z"
      },
      {
        "duration": 18,
        "start_time": "2022-04-09T20:33:38.133Z"
      },
      {
        "duration": 34,
        "start_time": "2022-04-09T20:33:38.153Z"
      },
      {
        "duration": 8,
        "start_time": "2022-04-09T20:33:38.189Z"
      },
      {
        "duration": 311,
        "start_time": "2022-04-09T20:33:38.199Z"
      },
      {
        "duration": 17,
        "start_time": "2022-04-09T20:33:38.512Z"
      },
      {
        "duration": 13,
        "start_time": "2022-04-09T20:33:38.531Z"
      },
      {
        "duration": 185,
        "start_time": "2022-04-09T20:36:47.494Z"
      },
      {
        "duration": 179,
        "start_time": "2022-04-09T20:36:59.384Z"
      },
      {
        "duration": 190,
        "start_time": "2022-04-09T20:37:10.462Z"
      },
      {
        "duration": 74,
        "start_time": "2022-04-09T20:37:17.406Z"
      },
      {
        "duration": 19,
        "start_time": "2022-04-09T20:37:20.444Z"
      },
      {
        "duration": 180,
        "start_time": "2022-04-09T20:37:39.238Z"
      },
      {
        "duration": 506,
        "start_time": "2022-04-09T20:37:53.857Z"
      },
      {
        "duration": 6,
        "start_time": "2022-04-09T20:37:54.365Z"
      },
      {
        "duration": 11,
        "start_time": "2022-04-09T20:37:54.378Z"
      },
      {
        "duration": 8,
        "start_time": "2022-04-09T20:37:54.391Z"
      },
      {
        "duration": 6,
        "start_time": "2022-04-09T20:37:54.401Z"
      },
      {
        "duration": 209,
        "start_time": "2022-04-09T20:37:54.409Z"
      },
      {
        "duration": 11,
        "start_time": "2022-04-09T20:37:54.620Z"
      },
      {
        "duration": 8,
        "start_time": "2022-04-09T20:37:54.632Z"
      },
      {
        "duration": 182,
        "start_time": "2022-04-09T20:38:36.101Z"
      },
      {
        "duration": 459,
        "start_time": "2022-04-09T20:38:42.819Z"
      },
      {
        "duration": 6,
        "start_time": "2022-04-09T20:38:43.280Z"
      },
      {
        "duration": 12,
        "start_time": "2022-04-09T20:38:43.288Z"
      },
      {
        "duration": 9,
        "start_time": "2022-04-09T20:38:43.302Z"
      },
      {
        "duration": 7,
        "start_time": "2022-04-09T20:38:43.312Z"
      },
      {
        "duration": 215,
        "start_time": "2022-04-09T20:38:43.321Z"
      },
      {
        "duration": 12,
        "start_time": "2022-04-09T20:38:43.538Z"
      },
      {
        "duration": 10,
        "start_time": "2022-04-09T20:38:43.552Z"
      },
      {
        "duration": 120,
        "start_time": "2022-04-09T20:42:01.826Z"
      },
      {
        "duration": 126,
        "start_time": "2022-04-09T20:42:54.861Z"
      },
      {
        "duration": 187,
        "start_time": "2022-04-09T20:43:31.912Z"
      },
      {
        "duration": 106,
        "start_time": "2022-04-09T20:43:46.505Z"
      },
      {
        "duration": 178,
        "start_time": "2022-04-09T20:43:53.600Z"
      },
      {
        "duration": 179,
        "start_time": "2022-04-09T20:44:26.361Z"
      },
      {
        "duration": 473,
        "start_time": "2022-04-09T20:44:45.692Z"
      },
      {
        "duration": 6,
        "start_time": "2022-04-09T20:44:46.167Z"
      },
      {
        "duration": 16,
        "start_time": "2022-04-09T20:44:46.174Z"
      },
      {
        "duration": 8,
        "start_time": "2022-04-09T20:44:46.192Z"
      },
      {
        "duration": 12,
        "start_time": "2022-04-09T20:44:46.202Z"
      },
      {
        "duration": 210,
        "start_time": "2022-04-09T20:44:46.216Z"
      },
      {
        "duration": 11,
        "start_time": "2022-04-09T20:44:46.427Z"
      },
      {
        "duration": 8,
        "start_time": "2022-04-09T20:44:46.440Z"
      },
      {
        "duration": 183,
        "start_time": "2022-04-09T20:45:15.753Z"
      },
      {
        "duration": 10,
        "start_time": "2022-04-09T20:45:35.990Z"
      },
      {
        "duration": 12,
        "start_time": "2022-04-09T20:46:14.489Z"
      },
      {
        "duration": 6,
        "start_time": "2022-04-09T20:47:46.985Z"
      },
      {
        "duration": 6,
        "start_time": "2022-04-09T20:48:25.077Z"
      },
      {
        "duration": 19,
        "start_time": "2022-04-09T20:49:30.355Z"
      },
      {
        "duration": 17,
        "start_time": "2022-04-09T20:49:36.440Z"
      },
      {
        "duration": 19,
        "start_time": "2022-04-09T20:50:33.098Z"
      },
      {
        "duration": 21,
        "start_time": "2022-04-09T20:50:35.132Z"
      },
      {
        "duration": 31,
        "start_time": "2022-04-09T20:50:42.792Z"
      },
      {
        "duration": 68,
        "start_time": "2022-04-09T20:52:03.752Z"
      },
      {
        "duration": 5,
        "start_time": "2022-04-09T20:52:46.527Z"
      },
      {
        "duration": 13,
        "start_time": "2022-04-09T20:54:53.907Z"
      },
      {
        "duration": 12,
        "start_time": "2022-04-09T20:55:05.398Z"
      },
      {
        "duration": 507,
        "start_time": "2022-04-09T20:55:14.064Z"
      },
      {
        "duration": 10,
        "start_time": "2022-04-09T20:55:14.573Z"
      },
      {
        "duration": 12,
        "start_time": "2022-04-09T20:55:14.585Z"
      },
      {
        "duration": 10,
        "start_time": "2022-04-09T20:55:14.599Z"
      },
      {
        "duration": 13,
        "start_time": "2022-04-09T20:55:14.610Z"
      },
      {
        "duration": 218,
        "start_time": "2022-04-09T20:55:14.625Z"
      },
      {
        "duration": 12,
        "start_time": "2022-04-09T20:55:14.845Z"
      },
      {
        "duration": 30,
        "start_time": "2022-04-09T20:55:14.859Z"
      },
      {
        "duration": 7,
        "start_time": "2022-04-09T20:55:14.890Z"
      },
      {
        "duration": 19,
        "start_time": "2022-04-09T20:55:14.899Z"
      },
      {
        "duration": 60,
        "start_time": "2022-04-09T20:55:14.920Z"
      },
      {
        "duration": 6,
        "start_time": "2022-04-09T20:55:14.982Z"
      },
      {
        "duration": 15,
        "start_time": "2022-04-09T20:55:14.990Z"
      },
      {
        "duration": 63,
        "start_time": "2022-04-09T20:56:35.369Z"
      },
      {
        "duration": 14,
        "start_time": "2022-04-09T20:56:39.891Z"
      },
      {
        "duration": 8,
        "start_time": "2022-04-09T20:58:18.375Z"
      },
      {
        "duration": 13,
        "start_time": "2022-04-09T20:58:27.179Z"
      },
      {
        "duration": 12,
        "start_time": "2022-04-09T20:58:40.856Z"
      },
      {
        "duration": 5,
        "start_time": "2022-04-09T20:58:52.356Z"
      },
      {
        "duration": 463,
        "start_time": "2022-04-09T20:59:02.328Z"
      },
      {
        "duration": 6,
        "start_time": "2022-04-09T20:59:02.793Z"
      },
      {
        "duration": 12,
        "start_time": "2022-04-09T20:59:02.801Z"
      },
      {
        "duration": 8,
        "start_time": "2022-04-09T20:59:02.815Z"
      },
      {
        "duration": 12,
        "start_time": "2022-04-09T20:59:02.825Z"
      },
      {
        "duration": 219,
        "start_time": "2022-04-09T20:59:02.839Z"
      },
      {
        "duration": 20,
        "start_time": "2022-04-09T20:59:03.059Z"
      },
      {
        "duration": 12,
        "start_time": "2022-04-09T20:59:03.081Z"
      },
      {
        "duration": 6,
        "start_time": "2022-04-09T20:59:03.094Z"
      },
      {
        "duration": 17,
        "start_time": "2022-04-09T20:59:03.102Z"
      },
      {
        "duration": 58,
        "start_time": "2022-04-09T20:59:03.121Z"
      },
      {
        "duration": 5,
        "start_time": "2022-04-09T20:59:03.181Z"
      },
      {
        "duration": 14,
        "start_time": "2022-04-09T20:59:03.187Z"
      },
      {
        "duration": 6,
        "start_time": "2022-04-09T20:59:03.203Z"
      },
      {
        "duration": 5,
        "start_time": "2022-04-09T20:59:45.324Z"
      },
      {
        "duration": 5,
        "start_time": "2022-04-09T21:00:20.303Z"
      },
      {
        "duration": 5,
        "start_time": "2022-04-09T21:00:48.660Z"
      },
      {
        "duration": 5,
        "start_time": "2022-04-09T21:01:00.280Z"
      },
      {
        "duration": 492,
        "start_time": "2022-04-09T21:01:45.491Z"
      },
      {
        "duration": 6,
        "start_time": "2022-04-09T21:01:45.985Z"
      },
      {
        "duration": 14,
        "start_time": "2022-04-09T21:01:45.993Z"
      },
      {
        "duration": 9,
        "start_time": "2022-04-09T21:01:46.009Z"
      },
      {
        "duration": 13,
        "start_time": "2022-04-09T21:01:46.020Z"
      },
      {
        "duration": 236,
        "start_time": "2022-04-09T21:01:46.034Z"
      },
      {
        "duration": 16,
        "start_time": "2022-04-09T21:01:46.272Z"
      },
      {
        "duration": 12,
        "start_time": "2022-04-09T21:01:46.290Z"
      },
      {
        "duration": 6,
        "start_time": "2022-04-09T21:01:46.304Z"
      },
      {
        "duration": 19,
        "start_time": "2022-04-09T21:01:46.312Z"
      },
      {
        "duration": 70,
        "start_time": "2022-04-09T21:01:46.333Z"
      },
      {
        "duration": 5,
        "start_time": "2022-04-09T21:01:46.404Z"
      },
      {
        "duration": 14,
        "start_time": "2022-04-09T21:01:46.411Z"
      },
      {
        "duration": 6,
        "start_time": "2022-04-09T21:01:46.426Z"
      },
      {
        "duration": 15,
        "start_time": "2022-04-09T21:01:46.433Z"
      },
      {
        "duration": 5,
        "start_time": "2022-04-09T21:01:46.478Z"
      },
      {
        "duration": 5,
        "start_time": "2022-04-09T21:01:46.485Z"
      },
      {
        "duration": 5,
        "start_time": "2022-04-09T21:01:46.492Z"
      },
      {
        "duration": 14,
        "start_time": "2022-04-09T21:02:00.094Z"
      },
      {
        "duration": 450,
        "start_time": "2022-04-09T21:23:13.326Z"
      },
      {
        "duration": 7,
        "start_time": "2022-04-09T21:23:13.779Z"
      },
      {
        "duration": 13,
        "start_time": "2022-04-09T21:23:13.787Z"
      },
      {
        "duration": 9,
        "start_time": "2022-04-09T21:23:13.802Z"
      },
      {
        "duration": 13,
        "start_time": "2022-04-09T21:23:13.812Z"
      },
      {
        "duration": 227,
        "start_time": "2022-04-09T21:23:13.827Z"
      },
      {
        "duration": 12,
        "start_time": "2022-04-09T21:23:14.055Z"
      },
      {
        "duration": 12,
        "start_time": "2022-04-09T21:23:14.079Z"
      },
      {
        "duration": 5,
        "start_time": "2022-04-09T21:23:14.093Z"
      },
      {
        "duration": 21,
        "start_time": "2022-04-09T21:23:14.100Z"
      },
      {
        "duration": 58,
        "start_time": "2022-04-09T21:23:14.122Z"
      },
      {
        "duration": 5,
        "start_time": "2022-04-09T21:23:14.181Z"
      },
      {
        "duration": 14,
        "start_time": "2022-04-09T21:23:14.188Z"
      },
      {
        "duration": 5,
        "start_time": "2022-04-09T21:23:14.204Z"
      },
      {
        "duration": 16,
        "start_time": "2022-04-09T21:23:14.210Z"
      },
      {
        "duration": 5,
        "start_time": "2022-04-09T21:23:14.227Z"
      },
      {
        "duration": 8,
        "start_time": "2022-04-09T21:23:14.233Z"
      },
      {
        "duration": 39,
        "start_time": "2022-04-09T21:23:14.243Z"
      },
      {
        "duration": 12,
        "start_time": "2022-04-09T21:24:05.702Z"
      },
      {
        "duration": 505,
        "start_time": "2022-04-09T21:24:23.861Z"
      },
      {
        "duration": 11,
        "start_time": "2022-04-09T21:24:24.368Z"
      },
      {
        "duration": 12,
        "start_time": "2022-04-09T21:24:24.381Z"
      },
      {
        "duration": 8,
        "start_time": "2022-04-09T21:24:24.395Z"
      },
      {
        "duration": 11,
        "start_time": "2022-04-09T21:24:24.405Z"
      },
      {
        "duration": 205,
        "start_time": "2022-04-09T21:24:24.418Z"
      },
      {
        "duration": 10,
        "start_time": "2022-04-09T21:24:24.624Z"
      },
      {
        "duration": 11,
        "start_time": "2022-04-09T21:24:24.636Z"
      },
      {
        "duration": 6,
        "start_time": "2022-04-09T21:24:24.648Z"
      },
      {
        "duration": 18,
        "start_time": "2022-04-09T21:24:24.678Z"
      },
      {
        "duration": 32,
        "start_time": "2022-04-09T21:24:24.698Z"
      },
      {
        "duration": 5,
        "start_time": "2022-04-09T21:24:24.731Z"
      },
      {
        "duration": 14,
        "start_time": "2022-04-09T21:24:24.737Z"
      },
      {
        "duration": 30,
        "start_time": "2022-04-09T21:24:24.752Z"
      },
      {
        "duration": 15,
        "start_time": "2022-04-09T21:24:24.784Z"
      },
      {
        "duration": 4,
        "start_time": "2022-04-09T21:24:24.801Z"
      },
      {
        "duration": 8,
        "start_time": "2022-04-09T21:24:24.807Z"
      },
      {
        "duration": 6,
        "start_time": "2022-04-09T21:24:24.816Z"
      },
      {
        "duration": 5,
        "start_time": "2022-04-09T21:24:54.197Z"
      },
      {
        "duration": 18,
        "start_time": "2022-04-09T21:25:57.796Z"
      },
      {
        "duration": 17,
        "start_time": "2022-04-09T21:26:07.131Z"
      },
      {
        "duration": 10,
        "start_time": "2022-04-09T21:26:19.435Z"
      },
      {
        "duration": 6,
        "start_time": "2022-04-09T21:26:21.942Z"
      },
      {
        "duration": 16,
        "start_time": "2022-04-09T21:26:40.739Z"
      },
      {
        "duration": 17,
        "start_time": "2022-04-09T21:27:55.102Z"
      },
      {
        "duration": 525,
        "start_time": "2022-04-09T21:28:09.865Z"
      },
      {
        "duration": 6,
        "start_time": "2022-04-09T21:28:10.392Z"
      },
      {
        "duration": 16,
        "start_time": "2022-04-09T21:28:10.400Z"
      },
      {
        "duration": 9,
        "start_time": "2022-04-09T21:28:10.418Z"
      },
      {
        "duration": 12,
        "start_time": "2022-04-09T21:28:10.428Z"
      },
      {
        "duration": 215,
        "start_time": "2022-04-09T21:28:10.442Z"
      },
      {
        "duration": 24,
        "start_time": "2022-04-09T21:28:10.659Z"
      },
      {
        "duration": 12,
        "start_time": "2022-04-09T21:28:10.685Z"
      },
      {
        "duration": 5,
        "start_time": "2022-04-09T21:28:10.699Z"
      },
      {
        "duration": 18,
        "start_time": "2022-04-09T21:28:10.707Z"
      },
      {
        "duration": 59,
        "start_time": "2022-04-09T21:28:10.727Z"
      },
      {
        "duration": 6,
        "start_time": "2022-04-09T21:28:10.787Z"
      },
      {
        "duration": 27,
        "start_time": "2022-04-09T21:28:10.794Z"
      },
      {
        "duration": 9,
        "start_time": "2022-04-09T21:28:10.823Z"
      },
      {
        "duration": 19,
        "start_time": "2022-04-09T21:28:10.834Z"
      },
      {
        "duration": 24,
        "start_time": "2022-04-09T21:28:10.855Z"
      },
      {
        "duration": 5,
        "start_time": "2022-04-09T21:28:10.881Z"
      },
      {
        "duration": 8,
        "start_time": "2022-04-09T21:28:10.888Z"
      },
      {
        "duration": 12,
        "start_time": "2022-04-09T21:36:04.708Z"
      },
      {
        "duration": 69,
        "start_time": "2022-04-09T21:38:58.134Z"
      },
      {
        "duration": 13,
        "start_time": "2022-04-09T21:39:32.635Z"
      },
      {
        "duration": 11,
        "start_time": "2022-04-09T21:39:38.988Z"
      },
      {
        "duration": 12,
        "start_time": "2022-04-09T21:39:52.267Z"
      },
      {
        "duration": 19,
        "start_time": "2022-04-09T21:49:51.879Z"
      },
      {
        "duration": 497,
        "start_time": "2022-04-09T21:54:43.000Z"
      },
      {
        "duration": 6,
        "start_time": "2022-04-09T21:54:43.499Z"
      },
      {
        "duration": 14,
        "start_time": "2022-04-09T21:54:43.506Z"
      },
      {
        "duration": 9,
        "start_time": "2022-04-09T21:54:43.522Z"
      },
      {
        "duration": 13,
        "start_time": "2022-04-09T21:54:43.532Z"
      },
      {
        "duration": 198,
        "start_time": "2022-04-09T21:54:43.579Z"
      },
      {
        "duration": 13,
        "start_time": "2022-04-09T21:54:43.779Z"
      },
      {
        "duration": 5,
        "start_time": "2022-04-09T21:54:43.794Z"
      },
      {
        "duration": 28,
        "start_time": "2022-04-09T21:54:43.801Z"
      },
      {
        "duration": 55,
        "start_time": "2022-04-09T21:54:43.832Z"
      },
      {
        "duration": 5,
        "start_time": "2022-04-09T21:54:43.888Z"
      },
      {
        "duration": 20,
        "start_time": "2022-04-09T21:54:43.894Z"
      },
      {
        "duration": 7,
        "start_time": "2022-04-09T21:54:43.916Z"
      },
      {
        "duration": 19,
        "start_time": "2022-04-09T21:54:43.925Z"
      },
      {
        "duration": 33,
        "start_time": "2022-04-09T21:54:43.946Z"
      },
      {
        "duration": 7,
        "start_time": "2022-04-09T21:54:43.981Z"
      },
      {
        "duration": 6,
        "start_time": "2022-04-09T21:54:43.990Z"
      },
      {
        "duration": 11,
        "start_time": "2022-04-09T21:54:43.997Z"
      },
      {
        "duration": 13,
        "start_time": "2022-04-09T21:54:44.010Z"
      },
      {
        "duration": 56,
        "start_time": "2022-04-09T21:54:44.024Z"
      },
      {
        "duration": 123,
        "start_time": "2022-04-09T21:54:44.082Z"
      },
      {
        "duration": 27,
        "start_time": "2022-04-09T21:55:29.596Z"
      },
      {
        "duration": 528,
        "start_time": "2022-04-09T21:55:37.948Z"
      },
      {
        "duration": 7,
        "start_time": "2022-04-09T21:55:38.479Z"
      },
      {
        "duration": 13,
        "start_time": "2022-04-09T21:55:38.487Z"
      },
      {
        "duration": 9,
        "start_time": "2022-04-09T21:55:38.502Z"
      },
      {
        "duration": 14,
        "start_time": "2022-04-09T21:55:38.513Z"
      },
      {
        "duration": 230,
        "start_time": "2022-04-09T21:55:38.529Z"
      },
      {
        "duration": 25,
        "start_time": "2022-04-09T21:55:38.761Z"
      },
      {
        "duration": 21,
        "start_time": "2022-04-09T21:55:38.788Z"
      },
      {
        "duration": 19,
        "start_time": "2022-04-09T21:55:38.811Z"
      },
      {
        "duration": 62,
        "start_time": "2022-04-09T21:55:38.833Z"
      },
      {
        "duration": 6,
        "start_time": "2022-04-09T21:55:38.897Z"
      },
      {
        "duration": 16,
        "start_time": "2022-04-09T21:55:38.905Z"
      },
      {
        "duration": 7,
        "start_time": "2022-04-09T21:55:38.922Z"
      },
      {
        "duration": 49,
        "start_time": "2022-04-09T21:55:38.931Z"
      },
      {
        "duration": 5,
        "start_time": "2022-04-09T21:55:38.982Z"
      },
      {
        "duration": 8,
        "start_time": "2022-04-09T21:55:38.988Z"
      },
      {
        "duration": 6,
        "start_time": "2022-04-09T21:55:38.997Z"
      },
      {
        "duration": 12,
        "start_time": "2022-04-09T21:55:39.005Z"
      },
      {
        "duration": 12,
        "start_time": "2022-04-09T21:55:39.018Z"
      },
      {
        "duration": 60,
        "start_time": "2022-04-09T21:55:39.032Z"
      },
      {
        "duration": 104,
        "start_time": "2022-04-09T21:55:39.094Z"
      },
      {
        "duration": 6,
        "start_time": "2022-04-09T21:55:45.549Z"
      },
      {
        "duration": 4,
        "start_time": "2022-04-09T21:56:04.338Z"
      },
      {
        "duration": 18,
        "start_time": "2022-04-09T21:56:11.591Z"
      },
      {
        "duration": 1797,
        "start_time": "2022-04-09T22:00:06.674Z"
      },
      {
        "duration": 11,
        "start_time": "2022-04-09T22:00:43.849Z"
      },
      {
        "duration": 132,
        "start_time": "2022-04-09T22:01:51.945Z"
      },
      {
        "duration": 103,
        "start_time": "2022-04-09T22:02:33.817Z"
      },
      {
        "duration": 10,
        "start_time": "2022-04-09T22:03:21.738Z"
      },
      {
        "duration": 10,
        "start_time": "2022-04-09T22:03:33.668Z"
      },
      {
        "duration": 19,
        "start_time": "2022-04-09T22:04:16.369Z"
      },
      {
        "duration": 519,
        "start_time": "2022-04-09T22:04:34.679Z"
      },
      {
        "duration": 6,
        "start_time": "2022-04-09T22:04:35.200Z"
      },
      {
        "duration": 12,
        "start_time": "2022-04-09T22:04:35.208Z"
      },
      {
        "duration": 9,
        "start_time": "2022-04-09T22:04:35.222Z"
      },
      {
        "duration": 13,
        "start_time": "2022-04-09T22:04:35.232Z"
      },
      {
        "duration": 231,
        "start_time": "2022-04-09T22:04:35.247Z"
      },
      {
        "duration": 11,
        "start_time": "2022-04-09T22:04:35.480Z"
      },
      {
        "duration": 3,
        "start_time": "2022-04-09T22:04:35.493Z"
      },
      {
        "duration": 19,
        "start_time": "2022-04-09T22:04:35.498Z"
      },
      {
        "duration": 59,
        "start_time": "2022-04-09T22:04:35.520Z"
      },
      {
        "duration": 5,
        "start_time": "2022-04-09T22:04:35.581Z"
      },
      {
        "duration": 17,
        "start_time": "2022-04-09T22:04:35.587Z"
      },
      {
        "duration": 6,
        "start_time": "2022-04-09T22:04:35.606Z"
      },
      {
        "duration": 19,
        "start_time": "2022-04-09T22:04:35.613Z"
      },
      {
        "duration": 5,
        "start_time": "2022-04-09T22:04:35.634Z"
      },
      {
        "duration": 39,
        "start_time": "2022-04-09T22:04:35.641Z"
      },
      {
        "duration": 6,
        "start_time": "2022-04-09T22:04:35.682Z"
      },
      {
        "duration": 12,
        "start_time": "2022-04-09T22:04:35.690Z"
      },
      {
        "duration": 12,
        "start_time": "2022-04-09T22:04:35.704Z"
      },
      {
        "duration": 17,
        "start_time": "2022-04-09T22:04:35.718Z"
      },
      {
        "duration": 107,
        "start_time": "2022-04-09T22:04:35.737Z"
      },
      {
        "duration": 0,
        "start_time": "2022-04-09T22:04:35.845Z"
      },
      {
        "duration": 19,
        "start_time": "2022-04-09T22:04:39.313Z"
      },
      {
        "duration": 4,
        "start_time": "2022-04-09T22:04:55.793Z"
      },
      {
        "duration": 14,
        "start_time": "2022-04-09T22:05:01.493Z"
      },
      {
        "duration": 10,
        "start_time": "2022-04-09T22:05:16.589Z"
      },
      {
        "duration": 11,
        "start_time": "2022-04-09T22:05:19.660Z"
      },
      {
        "duration": 500,
        "start_time": "2022-04-09T22:05:30.072Z"
      },
      {
        "duration": 9,
        "start_time": "2022-04-09T22:05:30.574Z"
      },
      {
        "duration": 21,
        "start_time": "2022-04-09T22:05:30.584Z"
      },
      {
        "duration": 9,
        "start_time": "2022-04-09T22:05:30.607Z"
      },
      {
        "duration": 12,
        "start_time": "2022-04-09T22:05:30.618Z"
      },
      {
        "duration": 211,
        "start_time": "2022-04-09T22:05:30.632Z"
      },
      {
        "duration": 11,
        "start_time": "2022-04-09T22:05:30.844Z"
      },
      {
        "duration": 4,
        "start_time": "2022-04-09T22:05:30.857Z"
      },
      {
        "duration": 32,
        "start_time": "2022-04-09T22:05:30.863Z"
      },
      {
        "duration": 34,
        "start_time": "2022-04-09T22:05:30.897Z"
      },
      {
        "duration": 6,
        "start_time": "2022-04-09T22:05:30.932Z"
      },
      {
        "duration": 41,
        "start_time": "2022-04-09T22:05:30.939Z"
      },
      {
        "duration": 5,
        "start_time": "2022-04-09T22:05:30.982Z"
      },
      {
        "duration": 26,
        "start_time": "2022-04-09T22:05:30.989Z"
      },
      {
        "duration": 13,
        "start_time": "2022-04-09T22:05:31.016Z"
      },
      {
        "duration": 16,
        "start_time": "2022-04-09T22:05:31.031Z"
      },
      {
        "duration": 10,
        "start_time": "2022-04-09T22:05:31.049Z"
      },
      {
        "duration": 27,
        "start_time": "2022-04-09T22:05:31.061Z"
      },
      {
        "duration": 19,
        "start_time": "2022-04-09T22:05:31.090Z"
      },
      {
        "duration": 17,
        "start_time": "2022-04-09T22:05:31.111Z"
      },
      {
        "duration": 87,
        "start_time": "2022-04-09T22:05:31.130Z"
      },
      {
        "duration": 0,
        "start_time": "2022-04-09T22:05:31.219Z"
      },
      {
        "duration": 410,
        "start_time": "2022-04-10T19:56:43.513Z"
      },
      {
        "duration": 6,
        "start_time": "2022-04-10T19:56:43.924Z"
      },
      {
        "duration": 9,
        "start_time": "2022-04-10T19:56:43.931Z"
      },
      {
        "duration": 6,
        "start_time": "2022-04-10T19:56:43.943Z"
      },
      {
        "duration": 26,
        "start_time": "2022-04-10T19:56:43.951Z"
      },
      {
        "duration": 192,
        "start_time": "2022-04-10T19:56:43.979Z"
      },
      {
        "duration": 10,
        "start_time": "2022-04-10T19:56:44.173Z"
      },
      {
        "duration": 3,
        "start_time": "2022-04-10T19:56:44.185Z"
      },
      {
        "duration": 19,
        "start_time": "2022-04-10T19:56:44.190Z"
      },
      {
        "duration": 27,
        "start_time": "2022-04-10T19:56:44.211Z"
      },
      {
        "duration": 4,
        "start_time": "2022-04-10T19:56:44.239Z"
      },
      {
        "duration": 12,
        "start_time": "2022-04-10T19:56:44.271Z"
      },
      {
        "duration": 5,
        "start_time": "2022-04-10T19:56:44.284Z"
      },
      {
        "duration": 16,
        "start_time": "2022-04-10T19:56:44.290Z"
      },
      {
        "duration": 4,
        "start_time": "2022-04-10T19:56:44.308Z"
      },
      {
        "duration": 6,
        "start_time": "2022-04-10T19:56:44.313Z"
      },
      {
        "duration": 5,
        "start_time": "2022-04-10T19:56:44.320Z"
      },
      {
        "duration": 10,
        "start_time": "2022-04-10T19:56:44.327Z"
      },
      {
        "duration": 11,
        "start_time": "2022-04-10T19:56:44.371Z"
      },
      {
        "duration": 14,
        "start_time": "2022-04-10T19:56:44.384Z"
      },
      {
        "duration": 74,
        "start_time": "2022-04-10T19:56:44.399Z"
      },
      {
        "duration": 0,
        "start_time": "2022-04-10T19:56:44.475Z"
      },
      {
        "duration": 16,
        "start_time": "2022-04-10T19:57:10.900Z"
      },
      {
        "duration": 9,
        "start_time": "2022-04-10T19:57:23.472Z"
      },
      {
        "duration": 18,
        "start_time": "2022-04-10T19:57:34.130Z"
      },
      {
        "duration": 4,
        "start_time": "2022-04-10T19:57:59.689Z"
      },
      {
        "duration": 15,
        "start_time": "2022-04-10T19:58:07.808Z"
      },
      {
        "duration": 15,
        "start_time": "2022-04-10T19:58:21.398Z"
      },
      {
        "duration": 9,
        "start_time": "2022-04-10T19:58:58.814Z"
      },
      {
        "duration": 2160,
        "start_time": "2022-04-10T20:05:10.277Z"
      },
      {
        "duration": 2121,
        "start_time": "2022-04-10T20:05:25.715Z"
      },
      {
        "duration": 126,
        "start_time": "2022-04-10T20:10:22.961Z"
      },
      {
        "duration": 129,
        "start_time": "2022-04-10T20:10:38.421Z"
      },
      {
        "duration": 12,
        "start_time": "2022-04-10T20:10:45.710Z"
      },
      {
        "duration": 11,
        "start_time": "2022-04-10T20:11:14.733Z"
      },
      {
        "duration": 4,
        "start_time": "2022-04-10T20:12:23.417Z"
      },
      {
        "duration": 11,
        "start_time": "2022-04-10T20:12:30.282Z"
      },
      {
        "duration": 12,
        "start_time": "2022-04-10T20:15:31.496Z"
      },
      {
        "duration": 11,
        "start_time": "2022-04-10T20:16:18.715Z"
      },
      {
        "duration": 10,
        "start_time": "2022-04-10T20:17:13.284Z"
      },
      {
        "duration": 9,
        "start_time": "2022-04-10T20:17:37.977Z"
      },
      {
        "duration": 15,
        "start_time": "2022-04-10T20:19:25.968Z"
      },
      {
        "duration": 425,
        "start_time": "2022-04-10T20:19:32.005Z"
      },
      {
        "duration": 5,
        "start_time": "2022-04-10T20:19:32.432Z"
      },
      {
        "duration": 13,
        "start_time": "2022-04-10T20:19:32.438Z"
      },
      {
        "duration": 20,
        "start_time": "2022-04-10T20:19:32.453Z"
      },
      {
        "duration": 12,
        "start_time": "2022-04-10T20:19:32.474Z"
      },
      {
        "duration": 197,
        "start_time": "2022-04-10T20:19:32.487Z"
      },
      {
        "duration": 9,
        "start_time": "2022-04-10T20:19:32.686Z"
      },
      {
        "duration": 5,
        "start_time": "2022-04-10T20:19:32.696Z"
      },
      {
        "duration": 19,
        "start_time": "2022-04-10T20:19:32.702Z"
      },
      {
        "duration": 49,
        "start_time": "2022-04-10T20:19:32.723Z"
      },
      {
        "duration": 4,
        "start_time": "2022-04-10T20:19:32.774Z"
      },
      {
        "duration": 15,
        "start_time": "2022-04-10T20:19:32.779Z"
      },
      {
        "duration": 5,
        "start_time": "2022-04-10T20:19:32.795Z"
      },
      {
        "duration": 15,
        "start_time": "2022-04-10T20:19:32.801Z"
      },
      {
        "duration": 4,
        "start_time": "2022-04-10T20:19:32.818Z"
      },
      {
        "duration": 5,
        "start_time": "2022-04-10T20:19:32.824Z"
      },
      {
        "duration": 40,
        "start_time": "2022-04-10T20:19:32.831Z"
      },
      {
        "duration": 11,
        "start_time": "2022-04-10T20:19:32.873Z"
      },
      {
        "duration": 11,
        "start_time": "2022-04-10T20:19:32.885Z"
      },
      {
        "duration": 4,
        "start_time": "2022-04-10T20:19:32.897Z"
      },
      {
        "duration": 16,
        "start_time": "2022-04-10T20:19:32.903Z"
      },
      {
        "duration": 84,
        "start_time": "2022-04-10T20:19:32.920Z"
      },
      {
        "duration": 0,
        "start_time": "2022-04-10T20:19:33.005Z"
      },
      {
        "duration": 11,
        "start_time": "2022-04-10T20:20:47.951Z"
      },
      {
        "duration": 10,
        "start_time": "2022-04-10T20:21:58.766Z"
      },
      {
        "duration": 10,
        "start_time": "2022-04-10T20:22:16.860Z"
      },
      {
        "duration": 2164,
        "start_time": "2022-04-10T20:25:37.983Z"
      },
      {
        "duration": 53,
        "start_time": "2022-04-11T09:01:09.036Z"
      },
      {
        "duration": 546,
        "start_time": "2022-04-11T09:01:16.188Z"
      },
      {
        "duration": 5,
        "start_time": "2022-04-11T09:01:16.736Z"
      },
      {
        "duration": 17,
        "start_time": "2022-04-11T09:01:16.745Z"
      },
      {
        "duration": 9,
        "start_time": "2022-04-11T09:01:16.764Z"
      },
      {
        "duration": 43,
        "start_time": "2022-04-11T09:01:16.775Z"
      },
      {
        "duration": 226,
        "start_time": "2022-04-11T09:01:16.820Z"
      },
      {
        "duration": 13,
        "start_time": "2022-04-11T09:01:17.048Z"
      },
      {
        "duration": 4,
        "start_time": "2022-04-11T09:01:17.063Z"
      },
      {
        "duration": 44,
        "start_time": "2022-04-11T09:01:17.071Z"
      },
      {
        "duration": 37,
        "start_time": "2022-04-11T09:01:17.117Z"
      },
      {
        "duration": 5,
        "start_time": "2022-04-11T09:01:17.156Z"
      },
      {
        "duration": 16,
        "start_time": "2022-04-11T09:01:17.163Z"
      },
      {
        "duration": 31,
        "start_time": "2022-04-11T09:01:17.180Z"
      },
      {
        "duration": 19,
        "start_time": "2022-04-11T09:01:17.213Z"
      },
      {
        "duration": 7,
        "start_time": "2022-04-11T09:01:17.234Z"
      },
      {
        "duration": 9,
        "start_time": "2022-04-11T09:01:17.243Z"
      },
      {
        "duration": 7,
        "start_time": "2022-04-11T09:01:17.255Z"
      },
      {
        "duration": 54,
        "start_time": "2022-04-11T09:01:17.264Z"
      },
      {
        "duration": 13,
        "start_time": "2022-04-11T09:01:17.320Z"
      },
      {
        "duration": 4,
        "start_time": "2022-04-11T09:01:17.335Z"
      },
      {
        "duration": 19,
        "start_time": "2022-04-11T09:01:17.341Z"
      },
      {
        "duration": 316,
        "start_time": "2022-04-11T09:01:17.361Z"
      },
      {
        "duration": 19,
        "start_time": "2022-04-11T09:01:17.678Z"
      },
      {
        "duration": 269,
        "start_time": "2022-04-11T09:04:42.314Z"
      },
      {
        "duration": 66,
        "start_time": "2022-04-11T09:15:31.675Z"
      },
      {
        "duration": 62,
        "start_time": "2022-04-11T09:18:27.303Z"
      },
      {
        "duration": 513,
        "start_time": "2022-04-11T09:18:32.917Z"
      },
      {
        "duration": 8,
        "start_time": "2022-04-11T09:18:33.432Z"
      },
      {
        "duration": 15,
        "start_time": "2022-04-11T09:18:33.442Z"
      },
      {
        "duration": 8,
        "start_time": "2022-04-11T09:18:33.459Z"
      },
      {
        "duration": 50,
        "start_time": "2022-04-11T09:18:33.469Z"
      },
      {
        "duration": 202,
        "start_time": "2022-04-11T09:18:33.521Z"
      },
      {
        "duration": 12,
        "start_time": "2022-04-11T09:18:33.725Z"
      },
      {
        "duration": 4,
        "start_time": "2022-04-11T09:18:33.739Z"
      },
      {
        "duration": 19,
        "start_time": "2022-04-11T09:18:33.745Z"
      },
      {
        "duration": 85,
        "start_time": "2022-04-11T09:18:33.766Z"
      },
      {
        "duration": 8,
        "start_time": "2022-04-11T09:18:33.853Z"
      },
      {
        "duration": 17,
        "start_time": "2022-04-11T09:18:33.864Z"
      },
      {
        "duration": 30,
        "start_time": "2022-04-11T09:18:33.883Z"
      },
      {
        "duration": 22,
        "start_time": "2022-04-11T09:18:33.920Z"
      },
      {
        "duration": 5,
        "start_time": "2022-04-11T09:18:33.944Z"
      },
      {
        "duration": 7,
        "start_time": "2022-04-11T09:18:33.951Z"
      },
      {
        "duration": 7,
        "start_time": "2022-04-11T09:18:33.959Z"
      },
      {
        "duration": 52,
        "start_time": "2022-04-11T09:18:33.968Z"
      },
      {
        "duration": 20,
        "start_time": "2022-04-11T09:18:34.022Z"
      },
      {
        "duration": 5,
        "start_time": "2022-04-11T09:18:34.044Z"
      },
      {
        "duration": 21,
        "start_time": "2022-04-11T09:18:34.050Z"
      },
      {
        "duration": 345,
        "start_time": "2022-04-11T09:18:34.072Z"
      },
      {
        "duration": 119,
        "start_time": "2022-04-11T09:18:34.419Z"
      },
      {
        "duration": 311,
        "start_time": "2022-04-11T09:23:59.944Z"
      },
      {
        "duration": 427,
        "start_time": "2022-04-11T09:24:21.859Z"
      },
      {
        "duration": 247,
        "start_time": "2022-04-11T09:25:45.568Z"
      },
      {
        "duration": 6,
        "start_time": "2022-04-11T09:26:31.272Z"
      },
      {
        "duration": 78,
        "start_time": "2022-04-11T09:27:00.432Z"
      },
      {
        "duration": 6,
        "start_time": "2022-04-11T09:27:05.976Z"
      },
      {
        "duration": 6,
        "start_time": "2022-04-11T09:27:08.373Z"
      },
      {
        "duration": 520,
        "start_time": "2022-04-11T09:27:13.941Z"
      },
      {
        "duration": 7,
        "start_time": "2022-04-11T09:27:14.462Z"
      },
      {
        "duration": 25,
        "start_time": "2022-04-11T09:27:14.471Z"
      },
      {
        "duration": 19,
        "start_time": "2022-04-11T09:27:14.498Z"
      },
      {
        "duration": 14,
        "start_time": "2022-04-11T09:27:14.518Z"
      },
      {
        "duration": 242,
        "start_time": "2022-04-11T09:27:14.534Z"
      },
      {
        "duration": 12,
        "start_time": "2022-04-11T09:27:14.778Z"
      },
      {
        "duration": 4,
        "start_time": "2022-04-11T09:27:14.792Z"
      },
      {
        "duration": 33,
        "start_time": "2022-04-11T09:27:14.809Z"
      },
      {
        "duration": 64,
        "start_time": "2022-04-11T09:27:14.846Z"
      },
      {
        "duration": 6,
        "start_time": "2022-04-11T09:27:14.911Z"
      },
      {
        "duration": 50,
        "start_time": "2022-04-11T09:27:14.919Z"
      },
      {
        "duration": 21,
        "start_time": "2022-04-11T09:27:14.971Z"
      },
      {
        "duration": 40,
        "start_time": "2022-04-11T09:27:14.994Z"
      },
      {
        "duration": 8,
        "start_time": "2022-04-11T09:27:15.036Z"
      },
      {
        "duration": 16,
        "start_time": "2022-04-11T09:27:15.046Z"
      },
      {
        "duration": 17,
        "start_time": "2022-04-11T09:27:15.064Z"
      },
      {
        "duration": 29,
        "start_time": "2022-04-11T09:27:15.084Z"
      },
      {
        "duration": 17,
        "start_time": "2022-04-11T09:27:15.116Z"
      },
      {
        "duration": 6,
        "start_time": "2022-04-11T09:27:15.135Z"
      },
      {
        "duration": 23,
        "start_time": "2022-04-11T09:27:15.143Z"
      },
      {
        "duration": 305,
        "start_time": "2022-04-11T09:27:15.168Z"
      },
      {
        "duration": 107,
        "start_time": "2022-04-11T09:27:15.475Z"
      },
      {
        "duration": 7,
        "start_time": "2022-04-11T09:27:15.584Z"
      },
      {
        "duration": 259,
        "start_time": "2022-04-11T09:28:17.419Z"
      },
      {
        "duration": 6,
        "start_time": "2022-04-11T09:28:20.163Z"
      },
      {
        "duration": 287,
        "start_time": "2022-04-11T09:28:47.012Z"
      },
      {
        "duration": 6,
        "start_time": "2022-04-11T09:28:50.104Z"
      },
      {
        "duration": 528,
        "start_time": "2022-04-11T09:28:55.174Z"
      },
      {
        "duration": 8,
        "start_time": "2022-04-11T09:28:55.704Z"
      },
      {
        "duration": 13,
        "start_time": "2022-04-11T09:28:55.714Z"
      },
      {
        "duration": 8,
        "start_time": "2022-04-11T09:28:55.729Z"
      },
      {
        "duration": 13,
        "start_time": "2022-04-11T09:28:55.738Z"
      },
      {
        "duration": 235,
        "start_time": "2022-04-11T09:28:55.752Z"
      },
      {
        "duration": 20,
        "start_time": "2022-04-11T09:28:55.989Z"
      },
      {
        "duration": 4,
        "start_time": "2022-04-11T09:28:56.011Z"
      },
      {
        "duration": 22,
        "start_time": "2022-04-11T09:28:56.016Z"
      },
      {
        "duration": 35,
        "start_time": "2022-04-11T09:28:56.041Z"
      },
      {
        "duration": 32,
        "start_time": "2022-04-11T09:28:56.078Z"
      },
      {
        "duration": 17,
        "start_time": "2022-04-11T09:28:56.112Z"
      },
      {
        "duration": 13,
        "start_time": "2022-04-11T09:28:56.131Z"
      },
      {
        "duration": 22,
        "start_time": "2022-04-11T09:28:56.146Z"
      },
      {
        "duration": 6,
        "start_time": "2022-04-11T09:28:56.169Z"
      },
      {
        "duration": 38,
        "start_time": "2022-04-11T09:28:56.177Z"
      },
      {
        "duration": 8,
        "start_time": "2022-04-11T09:28:56.217Z"
      },
      {
        "duration": 13,
        "start_time": "2022-04-11T09:28:56.226Z"
      },
      {
        "duration": 17,
        "start_time": "2022-04-11T09:28:56.241Z"
      },
      {
        "duration": 5,
        "start_time": "2022-04-11T09:28:56.259Z"
      },
      {
        "duration": 56,
        "start_time": "2022-04-11T09:28:56.265Z"
      },
      {
        "duration": 278,
        "start_time": "2022-04-11T09:28:56.322Z"
      },
      {
        "duration": 261,
        "start_time": "2022-04-11T09:28:56.602Z"
      },
      {
        "duration": 5,
        "start_time": "2022-04-11T09:28:56.865Z"
      },
      {
        "duration": 241,
        "start_time": "2022-04-11T09:29:52.085Z"
      },
      {
        "duration": 252,
        "start_time": "2022-04-11T09:30:00.004Z"
      },
      {
        "duration": 513,
        "start_time": "2022-04-11T09:33:03.479Z"
      },
      {
        "duration": 14,
        "start_time": "2022-04-11T09:33:03.994Z"
      },
      {
        "duration": 11,
        "start_time": "2022-04-11T09:33:04.010Z"
      },
      {
        "duration": 8,
        "start_time": "2022-04-11T09:33:04.023Z"
      },
      {
        "duration": 12,
        "start_time": "2022-04-11T09:33:04.033Z"
      },
      {
        "duration": 225,
        "start_time": "2022-04-11T09:33:04.046Z"
      },
      {
        "duration": 10,
        "start_time": "2022-04-11T09:33:04.273Z"
      },
      {
        "duration": 3,
        "start_time": "2022-04-11T09:33:04.285Z"
      },
      {
        "duration": 34,
        "start_time": "2022-04-11T09:33:04.289Z"
      },
      {
        "duration": 33,
        "start_time": "2022-04-11T09:33:04.325Z"
      },
      {
        "duration": 4,
        "start_time": "2022-04-11T09:33:04.360Z"
      },
      {
        "duration": 17,
        "start_time": "2022-04-11T09:33:04.366Z"
      },
      {
        "duration": 26,
        "start_time": "2022-04-11T09:33:04.384Z"
      },
      {
        "duration": 17,
        "start_time": "2022-04-11T09:33:04.411Z"
      },
      {
        "duration": 7,
        "start_time": "2022-04-11T09:33:04.430Z"
      },
      {
        "duration": 9,
        "start_time": "2022-04-11T09:33:04.438Z"
      },
      {
        "duration": 6,
        "start_time": "2022-04-11T09:33:04.449Z"
      },
      {
        "duration": 12,
        "start_time": "2022-04-11T09:33:04.456Z"
      },
      {
        "duration": 45,
        "start_time": "2022-04-11T09:33:04.469Z"
      },
      {
        "duration": 3,
        "start_time": "2022-04-11T09:33:04.516Z"
      },
      {
        "duration": 17,
        "start_time": "2022-04-11T09:33:04.521Z"
      },
      {
        "duration": 274,
        "start_time": "2022-04-11T09:33:04.540Z"
      },
      {
        "duration": 233,
        "start_time": "2022-04-11T09:33:04.816Z"
      },
      {
        "duration": 5,
        "start_time": "2022-04-11T10:52:30.857Z"
      },
      {
        "duration": 510,
        "start_time": "2022-04-11T10:52:51.199Z"
      },
      {
        "duration": 6,
        "start_time": "2022-04-11T10:52:51.711Z"
      },
      {
        "duration": 12,
        "start_time": "2022-04-11T10:52:51.718Z"
      },
      {
        "duration": 8,
        "start_time": "2022-04-11T10:52:51.732Z"
      },
      {
        "duration": 13,
        "start_time": "2022-04-11T10:52:51.741Z"
      },
      {
        "duration": 225,
        "start_time": "2022-04-11T10:52:51.756Z"
      },
      {
        "duration": 11,
        "start_time": "2022-04-11T10:52:51.983Z"
      },
      {
        "duration": 4,
        "start_time": "2022-04-11T10:52:52.009Z"
      },
      {
        "duration": 20,
        "start_time": "2022-04-11T10:52:52.014Z"
      },
      {
        "duration": 32,
        "start_time": "2022-04-11T10:52:52.036Z"
      },
      {
        "duration": 4,
        "start_time": "2022-04-11T10:52:52.070Z"
      },
      {
        "duration": 41,
        "start_time": "2022-04-11T10:52:52.076Z"
      },
      {
        "duration": 6,
        "start_time": "2022-04-11T10:52:52.118Z"
      },
      {
        "duration": 18,
        "start_time": "2022-04-11T10:52:52.125Z"
      },
      {
        "duration": 4,
        "start_time": "2022-04-11T10:52:52.145Z"
      },
      {
        "duration": 6,
        "start_time": "2022-04-11T10:52:52.151Z"
      },
      {
        "duration": 6,
        "start_time": "2022-04-11T10:52:52.158Z"
      },
      {
        "duration": 49,
        "start_time": "2022-04-11T10:52:52.165Z"
      },
      {
        "duration": 11,
        "start_time": "2022-04-11T10:52:52.215Z"
      },
      {
        "duration": 4,
        "start_time": "2022-04-11T10:52:52.228Z"
      },
      {
        "duration": 15,
        "start_time": "2022-04-11T10:52:52.234Z"
      },
      {
        "duration": 276,
        "start_time": "2022-04-11T10:52:52.251Z"
      },
      {
        "duration": 235,
        "start_time": "2022-04-11T10:52:52.529Z"
      },
      {
        "duration": 5,
        "start_time": "2022-04-11T10:52:52.766Z"
      },
      {
        "duration": 62,
        "start_time": "2022-04-11T10:54:25.676Z"
      },
      {
        "duration": 4,
        "start_time": "2022-04-11T10:54:45.394Z"
      },
      {
        "duration": 19,
        "start_time": "2022-04-11T11:00:23.931Z"
      },
      {
        "duration": 18,
        "start_time": "2022-04-11T11:00:40.837Z"
      },
      {
        "duration": 13,
        "start_time": "2022-04-11T11:01:08.575Z"
      },
      {
        "duration": 14,
        "start_time": "2022-04-11T11:01:11.861Z"
      },
      {
        "duration": 19,
        "start_time": "2022-04-11T11:01:17.923Z"
      },
      {
        "duration": 21,
        "start_time": "2022-04-11T11:02:35.370Z"
      },
      {
        "duration": 26,
        "start_time": "2022-04-11T11:02:44.194Z"
      },
      {
        "duration": 20,
        "start_time": "2022-04-11T11:02:50.377Z"
      },
      {
        "duration": 18,
        "start_time": "2022-04-11T11:09:50.693Z"
      },
      {
        "duration": 22,
        "start_time": "2022-04-11T11:10:01.040Z"
      },
      {
        "duration": 24,
        "start_time": "2022-04-11T11:10:52.594Z"
      },
      {
        "duration": 5,
        "start_time": "2022-04-11T11:12:00.332Z"
      },
      {
        "duration": 20,
        "start_time": "2022-04-11T11:12:43.205Z"
      },
      {
        "duration": 5,
        "start_time": "2022-04-11T11:14:08.123Z"
      },
      {
        "duration": 6,
        "start_time": "2022-04-11T11:14:34.798Z"
      },
      {
        "duration": 4,
        "start_time": "2022-04-11T11:14:42.720Z"
      },
      {
        "duration": 5,
        "start_time": "2022-04-11T11:14:52.309Z"
      },
      {
        "duration": 5,
        "start_time": "2022-04-11T11:14:58.138Z"
      },
      {
        "duration": 6,
        "start_time": "2022-04-11T11:15:05.132Z"
      },
      {
        "duration": 22,
        "start_time": "2022-04-11T11:15:36.872Z"
      },
      {
        "duration": 4,
        "start_time": "2022-04-11T11:15:38.389Z"
      },
      {
        "duration": 20,
        "start_time": "2022-04-11T11:16:05.337Z"
      },
      {
        "duration": 5,
        "start_time": "2022-04-11T11:16:06.871Z"
      },
      {
        "duration": 10,
        "start_time": "2022-04-11T11:29:30.744Z"
      },
      {
        "duration": 5,
        "start_time": "2022-04-11T11:29:49.868Z"
      },
      {
        "duration": 6,
        "start_time": "2022-04-11T11:30:44.391Z"
      },
      {
        "duration": 5,
        "start_time": "2022-04-11T11:30:49.198Z"
      },
      {
        "duration": 6,
        "start_time": "2022-04-11T11:32:17.667Z"
      },
      {
        "duration": 6,
        "start_time": "2022-04-11T11:34:11.182Z"
      },
      {
        "duration": 5,
        "start_time": "2022-04-11T11:37:59.174Z"
      },
      {
        "duration": 6,
        "start_time": "2022-04-11T11:38:38.630Z"
      },
      {
        "duration": 27,
        "start_time": "2022-04-11T11:47:10.325Z"
      },
      {
        "duration": 14,
        "start_time": "2022-04-11T11:47:19.683Z"
      },
      {
        "duration": 17,
        "start_time": "2022-04-11T11:47:39.861Z"
      },
      {
        "duration": 22,
        "start_time": "2022-04-11T11:50:42.303Z"
      },
      {
        "duration": 6,
        "start_time": "2022-04-11T11:52:01.443Z"
      },
      {
        "duration": 5,
        "start_time": "2022-04-11T11:58:55.190Z"
      },
      {
        "duration": 6,
        "start_time": "2022-04-11T11:58:58.517Z"
      },
      {
        "duration": 7,
        "start_time": "2022-04-11T11:59:14.296Z"
      },
      {
        "duration": 6,
        "start_time": "2022-04-11T11:59:26.553Z"
      },
      {
        "duration": 13,
        "start_time": "2022-04-11T12:50:58.678Z"
      },
      {
        "duration": 17,
        "start_time": "2022-04-11T12:51:05.197Z"
      },
      {
        "duration": 20,
        "start_time": "2022-04-11T12:51:24.347Z"
      },
      {
        "duration": 21,
        "start_time": "2022-04-11T12:52:17.761Z"
      },
      {
        "duration": 19,
        "start_time": "2022-04-11T12:52:31.861Z"
      },
      {
        "duration": 20,
        "start_time": "2022-04-11T12:52:40.432Z"
      },
      {
        "duration": 17,
        "start_time": "2022-04-11T12:53:08.034Z"
      },
      {
        "duration": 21,
        "start_time": "2022-04-11T12:53:34.514Z"
      },
      {
        "duration": 20,
        "start_time": "2022-04-11T12:53:47.106Z"
      },
      {
        "duration": 517,
        "start_time": "2022-04-11T12:53:58.081Z"
      },
      {
        "duration": 10,
        "start_time": "2022-04-11T12:53:58.600Z"
      },
      {
        "duration": 12,
        "start_time": "2022-04-11T12:53:58.612Z"
      },
      {
        "duration": 8,
        "start_time": "2022-04-11T12:53:58.626Z"
      },
      {
        "duration": 12,
        "start_time": "2022-04-11T12:53:58.635Z"
      },
      {
        "duration": 220,
        "start_time": "2022-04-11T12:53:58.648Z"
      },
      {
        "duration": 11,
        "start_time": "2022-04-11T12:53:58.870Z"
      },
      {
        "duration": 3,
        "start_time": "2022-04-11T12:53:58.883Z"
      },
      {
        "duration": 39,
        "start_time": "2022-04-11T12:53:58.888Z"
      },
      {
        "duration": 32,
        "start_time": "2022-04-11T12:53:58.930Z"
      },
      {
        "duration": 5,
        "start_time": "2022-04-11T12:53:58.964Z"
      },
      {
        "duration": 15,
        "start_time": "2022-04-11T12:53:58.970Z"
      },
      {
        "duration": 27,
        "start_time": "2022-04-11T12:53:58.987Z"
      },
      {
        "duration": 18,
        "start_time": "2022-04-11T12:53:59.016Z"
      },
      {
        "duration": 5,
        "start_time": "2022-04-11T12:53:59.036Z"
      },
      {
        "duration": 6,
        "start_time": "2022-04-11T12:53:59.042Z"
      },
      {
        "duration": 6,
        "start_time": "2022-04-11T12:53:59.050Z"
      },
      {
        "duration": 12,
        "start_time": "2022-04-11T12:53:59.057Z"
      },
      {
        "duration": 47,
        "start_time": "2022-04-11T12:53:59.071Z"
      },
      {
        "duration": 5,
        "start_time": "2022-04-11T12:53:59.120Z"
      },
      {
        "duration": 18,
        "start_time": "2022-04-11T12:53:59.126Z"
      },
      {
        "duration": 266,
        "start_time": "2022-04-11T12:53:59.146Z"
      },
      {
        "duration": 235,
        "start_time": "2022-04-11T12:53:59.414Z"
      },
      {
        "duration": 21,
        "start_time": "2022-04-11T12:53:59.651Z"
      },
      {
        "duration": 6,
        "start_time": "2022-04-11T12:53:59.673Z"
      },
      {
        "duration": 36,
        "start_time": "2022-04-11T12:53:59.680Z"
      },
      {
        "duration": 5,
        "start_time": "2022-04-11T12:53:59.718Z"
      },
      {
        "duration": 23,
        "start_time": "2022-04-11T12:53:59.725Z"
      },
      {
        "duration": 72,
        "start_time": "2022-04-11T12:54:29.584Z"
      },
      {
        "duration": 15,
        "start_time": "2022-04-11T12:54:32.809Z"
      },
      {
        "duration": 18,
        "start_time": "2022-04-11T12:54:44.389Z"
      },
      {
        "duration": 17,
        "start_time": "2022-04-11T12:54:51.306Z"
      },
      {
        "duration": 18,
        "start_time": "2022-04-11T12:55:00.575Z"
      },
      {
        "duration": 6,
        "start_time": "2022-04-11T12:56:47.624Z"
      },
      {
        "duration": 22,
        "start_time": "2022-04-11T13:03:16.715Z"
      },
      {
        "duration": 6,
        "start_time": "2022-04-11T13:03:47.579Z"
      },
      {
        "duration": 487,
        "start_time": "2022-04-11T13:28:27.450Z"
      },
      {
        "duration": 7,
        "start_time": "2022-04-11T13:28:27.938Z"
      },
      {
        "duration": 15,
        "start_time": "2022-04-11T13:28:27.946Z"
      },
      {
        "duration": 9,
        "start_time": "2022-04-11T13:28:27.963Z"
      },
      {
        "duration": 45,
        "start_time": "2022-04-11T13:28:27.973Z"
      },
      {
        "duration": 216,
        "start_time": "2022-04-11T13:28:28.020Z"
      },
      {
        "duration": 13,
        "start_time": "2022-04-11T13:28:28.237Z"
      },
      {
        "duration": 4,
        "start_time": "2022-04-11T13:28:28.252Z"
      },
      {
        "duration": 20,
        "start_time": "2022-04-11T13:28:28.257Z"
      },
      {
        "duration": 37,
        "start_time": "2022-04-11T13:28:28.308Z"
      },
      {
        "duration": 5,
        "start_time": "2022-04-11T13:28:28.347Z"
      },
      {
        "duration": 28,
        "start_time": "2022-04-11T13:28:28.354Z"
      },
      {
        "duration": 26,
        "start_time": "2022-04-11T13:28:28.384Z"
      },
      {
        "duration": 19,
        "start_time": "2022-04-11T13:28:28.411Z"
      },
      {
        "duration": 6,
        "start_time": "2022-04-11T13:28:28.432Z"
      },
      {
        "duration": 7,
        "start_time": "2022-04-11T13:28:28.440Z"
      },
      {
        "duration": 7,
        "start_time": "2022-04-11T13:28:28.448Z"
      },
      {
        "duration": 58,
        "start_time": "2022-04-11T13:28:28.456Z"
      },
      {
        "duration": 12,
        "start_time": "2022-04-11T13:28:28.516Z"
      },
      {
        "duration": 4,
        "start_time": "2022-04-11T13:28:28.529Z"
      },
      {
        "duration": 17,
        "start_time": "2022-04-11T13:28:28.535Z"
      },
      {
        "duration": 298,
        "start_time": "2022-04-11T13:28:28.554Z"
      },
      {
        "duration": 245,
        "start_time": "2022-04-11T13:28:28.854Z"
      },
      {
        "duration": 25,
        "start_time": "2022-04-11T13:28:29.101Z"
      },
      {
        "duration": 6,
        "start_time": "2022-04-11T13:28:29.127Z"
      },
      {
        "duration": 21,
        "start_time": "2022-04-11T13:28:29.134Z"
      },
      {
        "duration": 5,
        "start_time": "2022-04-11T13:28:29.156Z"
      },
      {
        "duration": 53,
        "start_time": "2022-04-11T13:28:29.164Z"
      },
      {
        "duration": 5,
        "start_time": "2022-04-11T13:28:29.219Z"
      },
      {
        "duration": 19,
        "start_time": "2022-04-11T13:28:29.226Z"
      },
      {
        "duration": 5,
        "start_time": "2022-04-11T13:28:29.247Z"
      },
      {
        "duration": 75,
        "start_time": "2022-04-11T13:36:39.301Z"
      },
      {
        "duration": 68,
        "start_time": "2022-04-11T13:36:47.835Z"
      },
      {
        "duration": 6,
        "start_time": "2022-04-11T13:49:39.442Z"
      },
      {
        "duration": 199,
        "start_time": "2022-04-22T11:17:54.245Z"
      },
      {
        "duration": 179,
        "start_time": "2022-04-22T11:18:01.186Z"
      },
      {
        "duration": 90,
        "start_time": "2022-04-22T11:38:01.073Z"
      },
      {
        "duration": 560,
        "start_time": "2022-04-22T11:38:16.783Z"
      },
      {
        "duration": 6,
        "start_time": "2022-04-22T11:38:17.345Z"
      },
      {
        "duration": 13,
        "start_time": "2022-04-22T11:38:17.353Z"
      },
      {
        "duration": 34,
        "start_time": "2022-04-22T11:38:17.368Z"
      },
      {
        "duration": 21,
        "start_time": "2022-04-22T11:38:17.404Z"
      },
      {
        "duration": 316,
        "start_time": "2022-04-22T11:38:17.427Z"
      },
      {
        "duration": 18,
        "start_time": "2022-04-22T11:38:17.745Z"
      },
      {
        "duration": 113,
        "start_time": "2022-04-22T11:38:17.765Z"
      },
      {
        "duration": 0,
        "start_time": "2022-04-22T11:38:17.882Z"
      },
      {
        "duration": 0,
        "start_time": "2022-04-22T11:38:17.894Z"
      },
      {
        "duration": 0,
        "start_time": "2022-04-22T11:38:17.895Z"
      },
      {
        "duration": 0,
        "start_time": "2022-04-22T11:38:17.897Z"
      },
      {
        "duration": 0,
        "start_time": "2022-04-22T11:38:17.900Z"
      },
      {
        "duration": 0,
        "start_time": "2022-04-22T11:38:17.908Z"
      },
      {
        "duration": 0,
        "start_time": "2022-04-22T11:38:17.909Z"
      },
      {
        "duration": 0,
        "start_time": "2022-04-22T11:38:17.910Z"
      },
      {
        "duration": 0,
        "start_time": "2022-04-22T11:38:17.911Z"
      },
      {
        "duration": 0,
        "start_time": "2022-04-22T11:38:17.916Z"
      },
      {
        "duration": 0,
        "start_time": "2022-04-22T11:38:17.918Z"
      },
      {
        "duration": 0,
        "start_time": "2022-04-22T11:38:17.919Z"
      },
      {
        "duration": 0,
        "start_time": "2022-04-22T11:38:17.920Z"
      },
      {
        "duration": 0,
        "start_time": "2022-04-22T11:38:17.921Z"
      },
      {
        "duration": 0,
        "start_time": "2022-04-22T11:38:17.924Z"
      },
      {
        "duration": 0,
        "start_time": "2022-04-22T11:38:17.928Z"
      },
      {
        "duration": 0,
        "start_time": "2022-04-22T11:38:17.929Z"
      },
      {
        "duration": 0,
        "start_time": "2022-04-22T11:38:17.930Z"
      },
      {
        "duration": 0,
        "start_time": "2022-04-22T11:38:17.932Z"
      },
      {
        "duration": 0,
        "start_time": "2022-04-22T11:38:17.933Z"
      },
      {
        "duration": 0,
        "start_time": "2022-04-22T11:38:17.935Z"
      },
      {
        "duration": 0,
        "start_time": "2022-04-22T11:38:17.936Z"
      },
      {
        "duration": 0,
        "start_time": "2022-04-22T11:38:17.938Z"
      },
      {
        "duration": 0,
        "start_time": "2022-04-22T11:38:17.939Z"
      },
      {
        "duration": 5,
        "start_time": "2022-04-22T11:38:40.629Z"
      },
      {
        "duration": 9,
        "start_time": "2022-04-22T11:38:58.948Z"
      },
      {
        "duration": 17,
        "start_time": "2022-04-22T11:41:45.146Z"
      },
      {
        "duration": 12,
        "start_time": "2022-04-22T11:42:37.664Z"
      },
      {
        "duration": 10,
        "start_time": "2022-04-22T11:42:53.955Z"
      },
      {
        "duration": 15,
        "start_time": "2022-04-22T11:43:03.875Z"
      },
      {
        "duration": 15,
        "start_time": "2022-04-22T11:43:14.918Z"
      },
      {
        "duration": 8,
        "start_time": "2022-04-22T11:43:30.587Z"
      },
      {
        "duration": 9,
        "start_time": "2022-04-22T11:43:54.824Z"
      },
      {
        "duration": 10,
        "start_time": "2022-04-22T11:44:09.008Z"
      },
      {
        "duration": 10,
        "start_time": "2022-04-22T11:44:21.072Z"
      },
      {
        "duration": 527,
        "start_time": "2022-04-22T11:44:55.114Z"
      },
      {
        "duration": 7,
        "start_time": "2022-04-22T11:44:55.644Z"
      },
      {
        "duration": 20,
        "start_time": "2022-04-22T11:44:55.653Z"
      },
      {
        "duration": 29,
        "start_time": "2022-04-22T11:44:55.675Z"
      },
      {
        "duration": 24,
        "start_time": "2022-04-22T11:44:55.708Z"
      },
      {
        "duration": 347,
        "start_time": "2022-04-22T11:44:55.734Z"
      },
      {
        "duration": 29,
        "start_time": "2022-04-22T11:44:56.083Z"
      },
      {
        "duration": 15,
        "start_time": "2022-04-22T11:44:56.114Z"
      },
      {
        "duration": 10,
        "start_time": "2022-04-22T11:44:56.131Z"
      },
      {
        "duration": 32,
        "start_time": "2022-04-22T11:44:56.143Z"
      },
      {
        "duration": 6,
        "start_time": "2022-04-22T11:44:56.177Z"
      },
      {
        "duration": 30,
        "start_time": "2022-04-22T11:44:56.185Z"
      },
      {
        "duration": 55,
        "start_time": "2022-04-22T11:44:56.218Z"
      },
      {
        "duration": 18,
        "start_time": "2022-04-22T11:44:56.277Z"
      },
      {
        "duration": 40,
        "start_time": "2022-04-22T11:44:56.301Z"
      },
      {
        "duration": 11,
        "start_time": "2022-04-22T11:44:56.343Z"
      },
      {
        "duration": 40,
        "start_time": "2022-04-22T11:44:56.357Z"
      },
      {
        "duration": 39,
        "start_time": "2022-04-22T11:44:56.398Z"
      },
      {
        "duration": 18,
        "start_time": "2022-04-22T11:44:56.439Z"
      },
      {
        "duration": 13,
        "start_time": "2022-04-22T11:44:56.460Z"
      },
      {
        "duration": 28,
        "start_time": "2022-04-22T11:44:56.475Z"
      },
      {
        "duration": 42,
        "start_time": "2022-04-22T11:44:56.505Z"
      },
      {
        "duration": 13,
        "start_time": "2022-04-22T11:44:56.549Z"
      },
      {
        "duration": 44,
        "start_time": "2022-04-22T11:44:56.563Z"
      },
      {
        "duration": 540,
        "start_time": "2022-04-22T11:44:56.610Z"
      },
      {
        "duration": 419,
        "start_time": "2022-04-22T11:44:57.152Z"
      },
      {
        "duration": 33,
        "start_time": "2022-04-22T11:44:57.574Z"
      },
      {
        "duration": 5,
        "start_time": "2022-04-22T11:44:57.612Z"
      },
      {
        "duration": 37,
        "start_time": "2022-04-22T11:44:57.619Z"
      },
      {
        "duration": 6,
        "start_time": "2022-04-22T11:44:57.658Z"
      },
      {
        "duration": 39,
        "start_time": "2022-04-22T11:44:57.666Z"
      },
      {
        "duration": 6,
        "start_time": "2022-04-22T11:44:57.708Z"
      },
      {
        "duration": 50,
        "start_time": "2022-04-22T11:44:57.715Z"
      },
      {
        "duration": 17,
        "start_time": "2022-04-22T11:44:57.767Z"
      },
      {
        "duration": 8,
        "start_time": "2022-04-22T11:58:04.559Z"
      },
      {
        "duration": 7,
        "start_time": "2022-04-22T11:59:20.649Z"
      },
      {
        "duration": 911,
        "start_time": "2022-04-22T12:00:32.541Z"
      },
      {
        "duration": 832,
        "start_time": "2022-04-22T12:00:37.826Z"
      },
      {
        "duration": 21,
        "start_time": "2022-04-22T12:03:28.782Z"
      },
      {
        "duration": 20,
        "start_time": "2022-04-22T12:03:48.861Z"
      },
      {
        "duration": 14,
        "start_time": "2022-04-22T12:04:06.460Z"
      },
      {
        "duration": 16,
        "start_time": "2022-04-22T12:04:16.244Z"
      },
      {
        "duration": 10,
        "start_time": "2022-04-22T12:04:29.071Z"
      },
      {
        "duration": 17,
        "start_time": "2022-04-22T12:04:48.225Z"
      },
      {
        "duration": 10,
        "start_time": "2022-04-22T12:05:06.938Z"
      },
      {
        "duration": 18,
        "start_time": "2022-04-22T12:05:20.511Z"
      },
      {
        "duration": 18,
        "start_time": "2022-04-22T12:05:23.809Z"
      },
      {
        "duration": 14,
        "start_time": "2022-04-22T12:05:29.616Z"
      },
      {
        "duration": 17,
        "start_time": "2022-04-22T12:05:33.010Z"
      },
      {
        "duration": 14,
        "start_time": "2022-04-22T12:05:36.017Z"
      },
      {
        "duration": 12,
        "start_time": "2022-04-22T12:06:29.845Z"
      },
      {
        "duration": 7,
        "start_time": "2022-04-22T12:07:15.748Z"
      },
      {
        "duration": 9,
        "start_time": "2022-04-22T12:08:01.541Z"
      },
      {
        "duration": 9,
        "start_time": "2022-04-22T12:08:27.053Z"
      },
      {
        "duration": 12,
        "start_time": "2022-04-22T12:08:33.688Z"
      },
      {
        "duration": 183,
        "start_time": "2022-04-22T12:09:21.221Z"
      },
      {
        "duration": 15,
        "start_time": "2022-04-22T12:09:26.944Z"
      },
      {
        "duration": 13,
        "start_time": "2022-04-22T12:09:49.648Z"
      },
      {
        "duration": 16,
        "start_time": "2022-04-22T12:10:44.638Z"
      },
      {
        "duration": 19,
        "start_time": "2022-04-22T12:10:58.312Z"
      },
      {
        "duration": 36,
        "start_time": "2022-04-22T12:13:29.495Z"
      },
      {
        "duration": 19,
        "start_time": "2022-04-22T12:13:46.442Z"
      },
      {
        "duration": 36,
        "start_time": "2022-04-22T12:13:51.588Z"
      },
      {
        "duration": 21,
        "start_time": "2022-04-22T12:14:01.956Z"
      },
      {
        "duration": 21,
        "start_time": "2022-04-22T12:14:55.432Z"
      },
      {
        "duration": 24,
        "start_time": "2022-04-22T12:15:02.887Z"
      },
      {
        "duration": 25,
        "start_time": "2022-04-22T12:15:52.118Z"
      },
      {
        "duration": 17,
        "start_time": "2022-04-22T12:16:00.769Z"
      },
      {
        "duration": 18,
        "start_time": "2022-04-22T12:17:17.668Z"
      },
      {
        "duration": 29,
        "start_time": "2022-04-22T12:17:22.780Z"
      },
      {
        "duration": 38,
        "start_time": "2022-04-22T12:17:52.490Z"
      },
      {
        "duration": 27,
        "start_time": "2022-04-22T12:18:46.132Z"
      },
      {
        "duration": 30,
        "start_time": "2022-04-22T12:18:54.718Z"
      },
      {
        "duration": 40,
        "start_time": "2022-04-22T12:19:44.418Z"
      },
      {
        "duration": 45,
        "start_time": "2022-04-22T12:20:05.356Z"
      },
      {
        "duration": 550,
        "start_time": "2022-04-22T12:23:47.582Z"
      },
      {
        "duration": 8,
        "start_time": "2022-04-22T12:23:48.135Z"
      },
      {
        "duration": 19,
        "start_time": "2022-04-22T12:23:48.145Z"
      },
      {
        "duration": 34,
        "start_time": "2022-04-22T12:23:48.166Z"
      },
      {
        "duration": 19,
        "start_time": "2022-04-22T12:23:48.202Z"
      },
      {
        "duration": 268,
        "start_time": "2022-04-22T12:23:48.222Z"
      },
      {
        "duration": 18,
        "start_time": "2022-04-22T12:23:48.494Z"
      },
      {
        "duration": 9,
        "start_time": "2022-04-22T12:23:48.514Z"
      },
      {
        "duration": 8,
        "start_time": "2022-04-22T12:23:48.525Z"
      },
      {
        "duration": 13,
        "start_time": "2022-04-22T12:23:48.537Z"
      },
      {
        "duration": 42,
        "start_time": "2022-04-22T12:23:48.552Z"
      },
      {
        "duration": 53,
        "start_time": "2022-04-22T12:23:48.596Z"
      },
      {
        "duration": 4,
        "start_time": "2022-04-22T12:23:48.651Z"
      },
      {
        "duration": 57,
        "start_time": "2022-04-22T12:23:48.657Z"
      },
      {
        "duration": 36,
        "start_time": "2022-04-22T12:23:48.716Z"
      },
      {
        "duration": 6,
        "start_time": "2022-04-22T12:23:48.754Z"
      },
      {
        "duration": 45,
        "start_time": "2022-04-22T12:23:48.763Z"
      },
      {
        "duration": 8,
        "start_time": "2022-04-22T12:23:48.809Z"
      },
      {
        "duration": 25,
        "start_time": "2022-04-22T12:23:48.819Z"
      },
      {
        "duration": 13,
        "start_time": "2022-04-22T12:23:48.846Z"
      },
      {
        "duration": 16,
        "start_time": "2022-04-22T12:23:48.860Z"
      },
      {
        "duration": 12,
        "start_time": "2022-04-22T12:23:48.878Z"
      },
      {
        "duration": 28,
        "start_time": "2022-04-22T12:23:48.892Z"
      },
      {
        "duration": 13,
        "start_time": "2022-04-22T12:23:48.922Z"
      },
      {
        "duration": 4,
        "start_time": "2022-04-22T12:23:48.937Z"
      },
      {
        "duration": 21,
        "start_time": "2022-04-22T12:23:48.943Z"
      },
      {
        "duration": 370,
        "start_time": "2022-04-22T12:23:48.966Z"
      },
      {
        "duration": 370,
        "start_time": "2022-04-22T12:23:49.340Z"
      },
      {
        "duration": 30,
        "start_time": "2022-04-22T12:23:49.714Z"
      },
      {
        "duration": 9,
        "start_time": "2022-04-22T12:23:49.746Z"
      },
      {
        "duration": 49,
        "start_time": "2022-04-22T12:23:49.757Z"
      },
      {
        "duration": 7,
        "start_time": "2022-04-22T12:23:49.812Z"
      },
      {
        "duration": 28,
        "start_time": "2022-04-22T12:23:49.822Z"
      },
      {
        "duration": 6,
        "start_time": "2022-04-22T12:23:49.852Z"
      },
      {
        "duration": 48,
        "start_time": "2022-04-22T12:23:49.861Z"
      },
      {
        "duration": 7,
        "start_time": "2022-04-22T12:23:49.911Z"
      },
      {
        "duration": 33,
        "start_time": "2022-04-22T12:24:58.934Z"
      },
      {
        "duration": 33,
        "start_time": "2022-04-22T12:25:43.269Z"
      },
      {
        "duration": 35,
        "start_time": "2022-04-22T12:26:07.329Z"
      },
      {
        "duration": 234,
        "start_time": "2022-04-22T12:38:14.256Z"
      },
      {
        "duration": 193,
        "start_time": "2022-04-22T12:38:37.071Z"
      },
      {
        "duration": 564,
        "start_time": "2022-04-22T12:38:49.200Z"
      },
      {
        "duration": 7,
        "start_time": "2022-04-22T12:38:49.766Z"
      },
      {
        "duration": 30,
        "start_time": "2022-04-22T12:38:49.774Z"
      },
      {
        "duration": 13,
        "start_time": "2022-04-22T12:38:49.807Z"
      },
      {
        "duration": 18,
        "start_time": "2022-04-22T12:38:49.822Z"
      },
      {
        "duration": 273,
        "start_time": "2022-04-22T12:38:49.841Z"
      },
      {
        "duration": 14,
        "start_time": "2022-04-22T12:38:50.116Z"
      },
      {
        "duration": 4,
        "start_time": "2022-04-22T12:38:50.132Z"
      },
      {
        "duration": 17,
        "start_time": "2022-04-22T12:38:50.138Z"
      },
      {
        "duration": 37,
        "start_time": "2022-04-22T12:38:50.158Z"
      },
      {
        "duration": 15,
        "start_time": "2022-04-22T12:38:50.197Z"
      },
      {
        "duration": 248,
        "start_time": "2022-04-22T12:38:50.214Z"
      },
      {
        "duration": 4,
        "start_time": "2022-04-22T12:38:50.465Z"
      },
      {
        "duration": 34,
        "start_time": "2022-04-22T12:38:50.471Z"
      },
      {
        "duration": 49,
        "start_time": "2022-04-22T12:38:50.508Z"
      },
      {
        "duration": 6,
        "start_time": "2022-04-22T12:38:50.558Z"
      },
      {
        "duration": 35,
        "start_time": "2022-04-22T12:38:50.566Z"
      },
      {
        "duration": 6,
        "start_time": "2022-04-22T12:38:50.603Z"
      },
      {
        "duration": 40,
        "start_time": "2022-04-22T12:38:50.611Z"
      },
      {
        "duration": 7,
        "start_time": "2022-04-22T12:38:50.653Z"
      },
      {
        "duration": 8,
        "start_time": "2022-04-22T12:38:50.661Z"
      },
      {
        "duration": 10,
        "start_time": "2022-04-22T12:38:50.671Z"
      },
      {
        "duration": 16,
        "start_time": "2022-04-22T12:38:50.693Z"
      },
      {
        "duration": 15,
        "start_time": "2022-04-22T12:38:50.711Z"
      },
      {
        "duration": 4,
        "start_time": "2022-04-22T12:38:50.728Z"
      },
      {
        "duration": 22,
        "start_time": "2022-04-22T12:38:50.734Z"
      },
      {
        "duration": 318,
        "start_time": "2022-04-22T12:38:50.758Z"
      },
      {
        "duration": 281,
        "start_time": "2022-04-22T12:38:51.080Z"
      },
      {
        "duration": 37,
        "start_time": "2022-04-22T12:38:51.363Z"
      },
      {
        "duration": 8,
        "start_time": "2022-04-22T12:38:51.402Z"
      },
      {
        "duration": 22,
        "start_time": "2022-04-22T12:38:51.412Z"
      },
      {
        "duration": 5,
        "start_time": "2022-04-22T12:38:51.436Z"
      },
      {
        "duration": 49,
        "start_time": "2022-04-22T12:38:51.443Z"
      },
      {
        "duration": 8,
        "start_time": "2022-04-22T12:38:51.495Z"
      },
      {
        "duration": 35,
        "start_time": "2022-04-22T12:38:51.505Z"
      },
      {
        "duration": 6,
        "start_time": "2022-04-22T12:38:51.542Z"
      },
      {
        "duration": 146,
        "start_time": "2022-04-22T12:39:33.731Z"
      },
      {
        "duration": 175,
        "start_time": "2022-04-22T12:39:42.137Z"
      },
      {
        "duration": 176,
        "start_time": "2022-04-22T12:39:44.636Z"
      },
      {
        "duration": 38,
        "start_time": "2022-04-22T12:39:53.570Z"
      },
      {
        "duration": 511,
        "start_time": "2022-04-22T12:40:23.113Z"
      },
      {
        "duration": 6,
        "start_time": "2022-04-22T12:40:23.627Z"
      },
      {
        "duration": 31,
        "start_time": "2022-04-22T12:40:23.635Z"
      },
      {
        "duration": 8,
        "start_time": "2022-04-22T12:40:23.669Z"
      },
      {
        "duration": 24,
        "start_time": "2022-04-22T12:40:23.679Z"
      },
      {
        "duration": 245,
        "start_time": "2022-04-22T12:40:23.705Z"
      },
      {
        "duration": 12,
        "start_time": "2022-04-22T12:40:23.952Z"
      },
      {
        "duration": 20,
        "start_time": "2022-04-22T12:40:23.966Z"
      },
      {
        "duration": 31,
        "start_time": "2022-04-22T12:40:23.987Z"
      },
      {
        "duration": 15,
        "start_time": "2022-04-22T12:40:24.022Z"
      },
      {
        "duration": 13,
        "start_time": "2022-04-22T12:40:24.039Z"
      },
      {
        "duration": 39,
        "start_time": "2022-04-22T12:40:24.053Z"
      },
      {
        "duration": 173,
        "start_time": "2022-04-22T12:40:24.094Z"
      },
      {
        "duration": 4,
        "start_time": "2022-04-22T12:40:24.269Z"
      },
      {
        "duration": 31,
        "start_time": "2022-04-22T12:40:24.275Z"
      },
      {
        "duration": 40,
        "start_time": "2022-04-22T12:40:24.308Z"
      },
      {
        "duration": 5,
        "start_time": "2022-04-22T12:40:24.350Z"
      },
      {
        "duration": 30,
        "start_time": "2022-04-22T12:40:24.357Z"
      },
      {
        "duration": 31,
        "start_time": "2022-04-22T12:40:24.389Z"
      },
      {
        "duration": 18,
        "start_time": "2022-04-22T12:40:24.422Z"
      },
      {
        "duration": 17,
        "start_time": "2022-04-22T12:40:24.441Z"
      },
      {
        "duration": 18,
        "start_time": "2022-04-22T12:40:24.460Z"
      },
      {
        "duration": 18,
        "start_time": "2022-04-22T12:40:24.479Z"
      },
      {
        "duration": 31,
        "start_time": "2022-04-22T12:40:24.498Z"
      },
      {
        "duration": 32,
        "start_time": "2022-04-22T12:40:24.532Z"
      },
      {
        "duration": 27,
        "start_time": "2022-04-22T12:40:24.565Z"
      },
      {
        "duration": 52,
        "start_time": "2022-04-22T12:40:24.595Z"
      },
      {
        "duration": 297,
        "start_time": "2022-04-22T12:40:24.650Z"
      },
      {
        "duration": 286,
        "start_time": "2022-04-22T12:40:24.949Z"
      },
      {
        "duration": 22,
        "start_time": "2022-04-22T12:40:25.237Z"
      },
      {
        "duration": 6,
        "start_time": "2022-04-22T12:40:25.261Z"
      },
      {
        "duration": 31,
        "start_time": "2022-04-22T12:40:25.292Z"
      },
      {
        "duration": 6,
        "start_time": "2022-04-22T12:40:25.325Z"
      },
      {
        "duration": 30,
        "start_time": "2022-04-22T12:40:25.332Z"
      },
      {
        "duration": 28,
        "start_time": "2022-04-22T12:40:25.363Z"
      },
      {
        "duration": 54,
        "start_time": "2022-04-22T12:40:25.393Z"
      },
      {
        "duration": 14,
        "start_time": "2022-04-22T12:40:25.449Z"
      },
      {
        "duration": 152,
        "start_time": "2022-04-22T12:41:01.762Z"
      },
      {
        "duration": 203,
        "start_time": "2022-04-22T12:41:36.276Z"
      },
      {
        "duration": 206,
        "start_time": "2022-04-22T12:44:24.460Z"
      },
      {
        "duration": 80,
        "start_time": "2022-04-22T12:44:36.913Z"
      },
      {
        "duration": 21,
        "start_time": "2022-04-22T12:44:47.096Z"
      },
      {
        "duration": 205,
        "start_time": "2022-04-22T12:44:50.238Z"
      },
      {
        "duration": 167,
        "start_time": "2022-04-22T12:45:33.686Z"
      },
      {
        "duration": 159,
        "start_time": "2022-04-22T12:45:38.162Z"
      },
      {
        "duration": 334,
        "start_time": "2022-04-22T12:45:44.988Z"
      },
      {
        "duration": 328,
        "start_time": "2022-04-22T12:45:56.826Z"
      },
      {
        "duration": 328,
        "start_time": "2022-04-22T12:46:11.511Z"
      },
      {
        "duration": 200,
        "start_time": "2022-04-22T12:46:20.747Z"
      },
      {
        "duration": 200,
        "start_time": "2022-04-22T12:46:32.669Z"
      },
      {
        "duration": 558,
        "start_time": "2022-04-22T12:46:39.357Z"
      },
      {
        "duration": 8,
        "start_time": "2022-04-22T12:46:39.917Z"
      },
      {
        "duration": 19,
        "start_time": "2022-04-22T12:46:39.927Z"
      },
      {
        "duration": 10,
        "start_time": "2022-04-22T12:46:39.949Z"
      },
      {
        "duration": 49,
        "start_time": "2022-04-22T12:46:39.961Z"
      },
      {
        "duration": 231,
        "start_time": "2022-04-22T12:46:40.012Z"
      },
      {
        "duration": 13,
        "start_time": "2022-04-22T12:46:40.244Z"
      },
      {
        "duration": 4,
        "start_time": "2022-04-22T12:46:40.258Z"
      },
      {
        "duration": 28,
        "start_time": "2022-04-22T12:46:40.264Z"
      },
      {
        "duration": 10,
        "start_time": "2022-04-22T12:46:40.295Z"
      },
      {
        "duration": 13,
        "start_time": "2022-04-22T12:46:40.307Z"
      },
      {
        "duration": 31,
        "start_time": "2022-04-22T12:46:40.322Z"
      },
      {
        "duration": 247,
        "start_time": "2022-04-22T12:46:40.355Z"
      },
      {
        "duration": 5,
        "start_time": "2022-04-22T12:46:40.604Z"
      },
      {
        "duration": 23,
        "start_time": "2022-04-22T12:46:40.611Z"
      },
      {
        "duration": 59,
        "start_time": "2022-04-22T12:46:40.635Z"
      },
      {
        "duration": 5,
        "start_time": "2022-04-22T12:46:40.696Z"
      },
      {
        "duration": 18,
        "start_time": "2022-04-22T12:46:40.703Z"
      },
      {
        "duration": 6,
        "start_time": "2022-04-22T12:46:40.723Z"
      },
      {
        "duration": 21,
        "start_time": "2022-04-22T12:46:40.731Z"
      },
      {
        "duration": 39,
        "start_time": "2022-04-22T12:46:40.754Z"
      },
      {
        "duration": 8,
        "start_time": "2022-04-22T12:46:40.795Z"
      },
      {
        "duration": 7,
        "start_time": "2022-04-22T12:46:40.805Z"
      },
      {
        "duration": 14,
        "start_time": "2022-04-22T12:46:40.814Z"
      },
      {
        "duration": 14,
        "start_time": "2022-04-22T12:46:40.829Z"
      },
      {
        "duration": 4,
        "start_time": "2022-04-22T12:46:40.845Z"
      },
      {
        "duration": 57,
        "start_time": "2022-04-22T12:46:40.851Z"
      },
      {
        "duration": 395,
        "start_time": "2022-04-22T12:46:40.912Z"
      },
      {
        "duration": 426,
        "start_time": "2022-04-22T12:46:41.309Z"
      },
      {
        "duration": 31,
        "start_time": "2022-04-22T12:46:41.737Z"
      },
      {
        "duration": 7,
        "start_time": "2022-04-22T12:46:41.770Z"
      },
      {
        "duration": 44,
        "start_time": "2022-04-22T12:46:41.779Z"
      },
      {
        "duration": 8,
        "start_time": "2022-04-22T12:46:41.825Z"
      },
      {
        "duration": 26,
        "start_time": "2022-04-22T12:46:41.835Z"
      },
      {
        "duration": 9,
        "start_time": "2022-04-22T12:46:41.892Z"
      },
      {
        "duration": 22,
        "start_time": "2022-04-22T12:46:41.903Z"
      },
      {
        "duration": 6,
        "start_time": "2022-04-22T12:46:41.927Z"
      },
      {
        "duration": 338,
        "start_time": "2022-04-22T12:47:00.020Z"
      },
      {
        "duration": 82,
        "start_time": "2022-04-22T12:48:36.804Z"
      },
      {
        "duration": 205,
        "start_time": "2022-04-22T12:48:51.886Z"
      },
      {
        "duration": 35,
        "start_time": "2022-04-22T12:50:20.951Z"
      },
      {
        "duration": 7,
        "start_time": "2022-04-22T12:50:49.588Z"
      },
      {
        "duration": 7,
        "start_time": "2022-04-22T12:51:51.353Z"
      },
      {
        "duration": 0,
        "start_time": "2022-04-22T12:52:13.931Z"
      },
      {
        "duration": 10,
        "start_time": "2022-04-22T12:52:39.845Z"
      },
      {
        "duration": 5,
        "start_time": "2022-04-22T12:55:00.202Z"
      },
      {
        "duration": 578,
        "start_time": "2022-04-22T13:00:56.095Z"
      },
      {
        "duration": 6,
        "start_time": "2022-04-22T13:00:56.675Z"
      },
      {
        "duration": 23,
        "start_time": "2022-04-22T13:00:56.683Z"
      },
      {
        "duration": 9,
        "start_time": "2022-04-22T13:00:56.707Z"
      },
      {
        "duration": 14,
        "start_time": "2022-04-22T13:00:56.718Z"
      },
      {
        "duration": 354,
        "start_time": "2022-04-22T13:00:56.733Z"
      },
      {
        "duration": 12,
        "start_time": "2022-04-22T13:00:57.092Z"
      },
      {
        "duration": 5,
        "start_time": "2022-04-22T13:00:57.105Z"
      },
      {
        "duration": 9,
        "start_time": "2022-04-22T13:00:57.111Z"
      },
      {
        "duration": 9,
        "start_time": "2022-04-22T13:00:57.121Z"
      },
      {
        "duration": 12,
        "start_time": "2022-04-22T13:00:57.131Z"
      },
      {
        "duration": 72,
        "start_time": "2022-04-22T13:00:57.145Z"
      },
      {
        "duration": 212,
        "start_time": "2022-04-22T13:00:57.219Z"
      },
      {
        "duration": 8,
        "start_time": "2022-04-22T13:00:57.434Z"
      },
      {
        "duration": 4,
        "start_time": "2022-04-22T13:00:57.444Z"
      },
      {
        "duration": 4,
        "start_time": "2022-04-22T13:00:57.449Z"
      },
      {
        "duration": 6,
        "start_time": "2022-04-22T13:00:57.455Z"
      },
      {
        "duration": 44,
        "start_time": "2022-04-22T13:00:57.462Z"
      },
      {
        "duration": 6,
        "start_time": "2022-04-22T13:00:57.508Z"
      },
      {
        "duration": 21,
        "start_time": "2022-04-22T13:00:57.515Z"
      },
      {
        "duration": 6,
        "start_time": "2022-04-22T13:00:57.537Z"
      },
      {
        "duration": 8,
        "start_time": "2022-04-22T13:00:57.545Z"
      },
      {
        "duration": 40,
        "start_time": "2022-04-22T13:00:57.554Z"
      },
      {
        "duration": 23,
        "start_time": "2022-04-22T13:00:57.596Z"
      },
      {
        "duration": 39,
        "start_time": "2022-04-22T13:00:57.621Z"
      },
      {
        "duration": 38,
        "start_time": "2022-04-22T13:00:57.661Z"
      },
      {
        "duration": 13,
        "start_time": "2022-04-22T13:00:57.700Z"
      },
      {
        "duration": 5,
        "start_time": "2022-04-22T13:00:57.715Z"
      },
      {
        "duration": 19,
        "start_time": "2022-04-22T13:00:57.721Z"
      },
      {
        "duration": 308,
        "start_time": "2022-04-22T13:00:57.741Z"
      },
      {
        "duration": 360,
        "start_time": "2022-04-22T13:00:58.051Z"
      },
      {
        "duration": 23,
        "start_time": "2022-04-22T13:00:58.412Z"
      },
      {
        "duration": 5,
        "start_time": "2022-04-22T13:00:58.437Z"
      },
      {
        "duration": 22,
        "start_time": "2022-04-22T13:00:58.444Z"
      },
      {
        "duration": 6,
        "start_time": "2022-04-22T13:00:58.492Z"
      },
      {
        "duration": 32,
        "start_time": "2022-04-22T13:00:58.499Z"
      },
      {
        "duration": 6,
        "start_time": "2022-04-22T13:00:58.533Z"
      },
      {
        "duration": 22,
        "start_time": "2022-04-22T13:00:58.541Z"
      },
      {
        "duration": 5,
        "start_time": "2022-04-22T13:00:58.565Z"
      },
      {
        "duration": 99,
        "start_time": "2022-04-22T13:02:35.804Z"
      },
      {
        "duration": 28,
        "start_time": "2022-04-22T13:02:57.200Z"
      },
      {
        "duration": 540,
        "start_time": "2022-04-22T13:03:08.919Z"
      },
      {
        "duration": 7,
        "start_time": "2022-04-22T13:03:09.461Z"
      },
      {
        "duration": 29,
        "start_time": "2022-04-22T13:03:09.470Z"
      },
      {
        "duration": 8,
        "start_time": "2022-04-22T13:03:09.501Z"
      },
      {
        "duration": 14,
        "start_time": "2022-04-22T13:03:09.511Z"
      },
      {
        "duration": 228,
        "start_time": "2022-04-22T13:03:09.527Z"
      },
      {
        "duration": 13,
        "start_time": "2022-04-22T13:03:09.757Z"
      },
      {
        "duration": 5,
        "start_time": "2022-04-22T13:03:09.772Z"
      },
      {
        "duration": 7,
        "start_time": "2022-04-22T13:03:09.793Z"
      },
      {
        "duration": 11,
        "start_time": "2022-04-22T13:03:09.804Z"
      },
      {
        "duration": 14,
        "start_time": "2022-04-22T13:03:09.817Z"
      },
      {
        "duration": 73,
        "start_time": "2022-04-22T13:03:09.833Z"
      },
      {
        "duration": 215,
        "start_time": "2022-04-22T13:03:09.908Z"
      },
      {
        "duration": 7,
        "start_time": "2022-04-22T13:03:10.125Z"
      },
      {
        "duration": 12,
        "start_time": "2022-04-22T13:03:10.134Z"
      },
      {
        "duration": 6,
        "start_time": "2022-04-22T13:03:10.147Z"
      },
      {
        "duration": 10,
        "start_time": "2022-04-22T13:03:10.155Z"
      },
      {
        "duration": 31,
        "start_time": "2022-04-22T13:03:10.166Z"
      },
      {
        "duration": 6,
        "start_time": "2022-04-22T13:03:10.199Z"
      },
      {
        "duration": 20,
        "start_time": "2022-04-22T13:03:10.206Z"
      },
      {
        "duration": 5,
        "start_time": "2022-04-22T13:03:10.228Z"
      },
      {
        "duration": 113,
        "start_time": "2022-04-22T13:03:10.234Z"
      },
      {
        "duration": 0,
        "start_time": "2022-04-22T13:03:10.349Z"
      },
      {
        "duration": 0,
        "start_time": "2022-04-22T13:03:10.350Z"
      },
      {
        "duration": 0,
        "start_time": "2022-04-22T13:03:10.351Z"
      },
      {
        "duration": 0,
        "start_time": "2022-04-22T13:03:10.352Z"
      },
      {
        "duration": 0,
        "start_time": "2022-04-22T13:03:10.353Z"
      },
      {
        "duration": 0,
        "start_time": "2022-04-22T13:03:10.354Z"
      },
      {
        "duration": 0,
        "start_time": "2022-04-22T13:03:10.355Z"
      },
      {
        "duration": 0,
        "start_time": "2022-04-22T13:03:10.356Z"
      },
      {
        "duration": 0,
        "start_time": "2022-04-22T13:03:10.357Z"
      },
      {
        "duration": 0,
        "start_time": "2022-04-22T13:03:10.358Z"
      },
      {
        "duration": 0,
        "start_time": "2022-04-22T13:03:10.359Z"
      },
      {
        "duration": 0,
        "start_time": "2022-04-22T13:03:10.360Z"
      },
      {
        "duration": 0,
        "start_time": "2022-04-22T13:03:10.361Z"
      },
      {
        "duration": 0,
        "start_time": "2022-04-22T13:03:10.362Z"
      },
      {
        "duration": 0,
        "start_time": "2022-04-22T13:03:10.363Z"
      },
      {
        "duration": 0,
        "start_time": "2022-04-22T13:03:10.364Z"
      },
      {
        "duration": 0,
        "start_time": "2022-04-22T13:03:10.364Z"
      },
      {
        "duration": 0,
        "start_time": "2022-04-22T13:03:10.366Z"
      },
      {
        "duration": 6,
        "start_time": "2022-04-22T13:03:59.500Z"
      },
      {
        "duration": 17,
        "start_time": "2022-04-22T13:04:16.152Z"
      },
      {
        "duration": 147,
        "start_time": "2022-04-22T13:04:28.256Z"
      },
      {
        "duration": 156,
        "start_time": "2022-04-22T13:05:39.246Z"
      },
      {
        "duration": 151,
        "start_time": "2022-04-22T13:06:37.332Z"
      },
      {
        "duration": 36,
        "start_time": "2022-04-22T13:06:42.328Z"
      },
      {
        "duration": 16,
        "start_time": "2022-04-22T13:11:39.292Z"
      },
      {
        "duration": 40,
        "start_time": "2022-04-22T13:12:53.264Z"
      },
      {
        "duration": 27,
        "start_time": "2022-04-22T13:13:48.533Z"
      },
      {
        "duration": 22,
        "start_time": "2022-04-22T13:14:05.232Z"
      },
      {
        "duration": 18,
        "start_time": "2022-04-22T13:14:20.035Z"
      },
      {
        "duration": 21,
        "start_time": "2022-04-22T13:14:34.180Z"
      },
      {
        "duration": 153,
        "start_time": "2022-04-22T13:17:24.936Z"
      },
      {
        "duration": 518,
        "start_time": "2022-04-22T13:17:58.840Z"
      },
      {
        "duration": 8,
        "start_time": "2022-04-22T13:17:59.360Z"
      },
      {
        "duration": 30,
        "start_time": "2022-04-22T13:17:59.369Z"
      },
      {
        "duration": 10,
        "start_time": "2022-04-22T13:17:59.402Z"
      },
      {
        "duration": 19,
        "start_time": "2022-04-22T13:17:59.414Z"
      },
      {
        "duration": 251,
        "start_time": "2022-04-22T13:17:59.434Z"
      },
      {
        "duration": 18,
        "start_time": "2022-04-22T13:17:59.686Z"
      },
      {
        "duration": 4,
        "start_time": "2022-04-22T13:17:59.706Z"
      },
      {
        "duration": 21,
        "start_time": "2022-04-22T13:17:59.712Z"
      },
      {
        "duration": 13,
        "start_time": "2022-04-22T13:17:59.736Z"
      },
      {
        "duration": 46,
        "start_time": "2022-04-22T13:17:59.751Z"
      },
      {
        "duration": 45,
        "start_time": "2022-04-22T13:17:59.799Z"
      },
      {
        "duration": 332,
        "start_time": "2022-04-22T13:17:59.846Z"
      },
      {
        "duration": 18,
        "start_time": "2022-04-22T13:18:00.179Z"
      },
      {
        "duration": 6,
        "start_time": "2022-04-22T13:18:00.199Z"
      },
      {
        "duration": 14,
        "start_time": "2022-04-22T13:18:00.207Z"
      },
      {
        "duration": 15,
        "start_time": "2022-04-22T13:18:00.223Z"
      },
      {
        "duration": 34,
        "start_time": "2022-04-22T13:18:00.240Z"
      },
      {
        "duration": 7,
        "start_time": "2022-04-22T13:18:00.276Z"
      },
      {
        "duration": 31,
        "start_time": "2022-04-22T13:18:00.293Z"
      },
      {
        "duration": 37,
        "start_time": "2022-04-22T13:18:00.326Z"
      },
      {
        "duration": 5,
        "start_time": "2022-04-22T13:18:00.365Z"
      },
      {
        "duration": 25,
        "start_time": "2022-04-22T13:18:00.372Z"
      },
      {
        "duration": 31,
        "start_time": "2022-04-22T13:18:00.399Z"
      },
      {
        "duration": 45,
        "start_time": "2022-04-22T13:18:00.431Z"
      },
      {
        "duration": 27,
        "start_time": "2022-04-22T13:18:00.478Z"
      },
      {
        "duration": 22,
        "start_time": "2022-04-22T13:18:00.507Z"
      },
      {
        "duration": 5,
        "start_time": "2022-04-22T13:18:00.533Z"
      },
      {
        "duration": 21,
        "start_time": "2022-04-22T13:18:00.540Z"
      },
      {
        "duration": 315,
        "start_time": "2022-04-22T13:18:00.563Z"
      },
      {
        "duration": 273,
        "start_time": "2022-04-22T13:18:00.880Z"
      },
      {
        "duration": 38,
        "start_time": "2022-04-22T13:18:01.155Z"
      },
      {
        "duration": 6,
        "start_time": "2022-04-22T13:18:01.194Z"
      },
      {
        "duration": 56,
        "start_time": "2022-04-22T13:18:01.202Z"
      },
      {
        "duration": 31,
        "start_time": "2022-04-22T13:18:01.260Z"
      },
      {
        "duration": 42,
        "start_time": "2022-04-22T13:18:01.293Z"
      },
      {
        "duration": 7,
        "start_time": "2022-04-22T13:18:01.338Z"
      },
      {
        "duration": 35,
        "start_time": "2022-04-22T13:18:01.347Z"
      },
      {
        "duration": 6,
        "start_time": "2022-04-22T13:18:01.385Z"
      },
      {
        "duration": 721,
        "start_time": "2022-04-22T13:19:02.981Z"
      },
      {
        "duration": 6,
        "start_time": "2022-04-22T13:19:03.704Z"
      },
      {
        "duration": 15,
        "start_time": "2022-04-22T13:19:03.712Z"
      },
      {
        "duration": 9,
        "start_time": "2022-04-22T13:19:03.730Z"
      },
      {
        "duration": 13,
        "start_time": "2022-04-22T13:19:03.741Z"
      },
      {
        "duration": 247,
        "start_time": "2022-04-22T13:19:03.756Z"
      },
      {
        "duration": 12,
        "start_time": "2022-04-22T13:19:04.005Z"
      },
      {
        "duration": 4,
        "start_time": "2022-04-22T13:19:04.019Z"
      },
      {
        "duration": 8,
        "start_time": "2022-04-22T13:19:04.025Z"
      },
      {
        "duration": 10,
        "start_time": "2022-04-22T13:19:04.036Z"
      },
      {
        "duration": 51,
        "start_time": "2022-04-22T13:19:04.048Z"
      },
      {
        "duration": 34,
        "start_time": "2022-04-22T13:19:04.101Z"
      },
      {
        "duration": 376,
        "start_time": "2022-04-22T13:19:04.137Z"
      },
      {
        "duration": 12,
        "start_time": "2022-04-22T13:19:04.515Z"
      },
      {
        "duration": 19,
        "start_time": "2022-04-22T13:19:04.529Z"
      },
      {
        "duration": 41,
        "start_time": "2022-04-22T13:19:04.550Z"
      },
      {
        "duration": 4,
        "start_time": "2022-04-22T13:19:04.593Z"
      },
      {
        "duration": 23,
        "start_time": "2022-04-22T13:19:04.599Z"
      },
      {
        "duration": 41,
        "start_time": "2022-04-22T13:19:04.624Z"
      },
      {
        "duration": 24,
        "start_time": "2022-04-22T13:19:04.667Z"
      },
      {
        "duration": 47,
        "start_time": "2022-04-22T13:19:04.693Z"
      },
      {
        "duration": 43,
        "start_time": "2022-04-22T13:19:04.742Z"
      },
      {
        "duration": 22,
        "start_time": "2022-04-22T13:19:04.787Z"
      },
      {
        "duration": 14,
        "start_time": "2022-04-22T13:19:04.811Z"
      },
      {
        "duration": 45,
        "start_time": "2022-04-22T13:19:04.828Z"
      },
      {
        "duration": 51,
        "start_time": "2022-04-22T13:19:04.875Z"
      },
      {
        "duration": 17,
        "start_time": "2022-04-22T13:19:04.928Z"
      },
      {
        "duration": 25,
        "start_time": "2022-04-22T13:19:04.949Z"
      },
      {
        "duration": 16,
        "start_time": "2022-04-22T13:19:04.976Z"
      },
      {
        "duration": 26,
        "start_time": "2022-04-22T13:19:04.995Z"
      },
      {
        "duration": 321,
        "start_time": "2022-04-22T13:19:05.023Z"
      },
      {
        "duration": 502,
        "start_time": "2022-04-22T13:19:05.347Z"
      },
      {
        "duration": 44,
        "start_time": "2022-04-22T13:19:05.852Z"
      },
      {
        "duration": 7,
        "start_time": "2022-04-22T13:19:05.899Z"
      },
      {
        "duration": 38,
        "start_time": "2022-04-22T13:19:05.908Z"
      },
      {
        "duration": 6,
        "start_time": "2022-04-22T13:19:05.948Z"
      },
      {
        "duration": 42,
        "start_time": "2022-04-22T13:19:05.957Z"
      },
      {
        "duration": 6,
        "start_time": "2022-04-22T13:19:06.002Z"
      },
      {
        "duration": 25,
        "start_time": "2022-04-22T13:19:06.011Z"
      },
      {
        "duration": 5,
        "start_time": "2022-04-22T13:19:06.038Z"
      },
      {
        "duration": 19,
        "start_time": "2022-04-22T13:19:58.845Z"
      },
      {
        "duration": 552,
        "start_time": "2022-04-22T13:20:08.118Z"
      },
      {
        "duration": 22,
        "start_time": "2022-04-22T13:20:08.672Z"
      },
      {
        "duration": 15,
        "start_time": "2022-04-22T13:20:08.696Z"
      },
      {
        "duration": 10,
        "start_time": "2022-04-22T13:20:08.713Z"
      },
      {
        "duration": 15,
        "start_time": "2022-04-22T13:20:08.725Z"
      },
      {
        "duration": 251,
        "start_time": "2022-04-22T13:20:08.742Z"
      },
      {
        "duration": 12,
        "start_time": "2022-04-22T13:20:08.995Z"
      },
      {
        "duration": 5,
        "start_time": "2022-04-22T13:20:09.009Z"
      },
      {
        "duration": 8,
        "start_time": "2022-04-22T13:20:09.015Z"
      },
      {
        "duration": 12,
        "start_time": "2022-04-22T13:20:09.027Z"
      },
      {
        "duration": 53,
        "start_time": "2022-04-22T13:20:09.041Z"
      },
      {
        "duration": 33,
        "start_time": "2022-04-22T13:20:09.096Z"
      },
      {
        "duration": 224,
        "start_time": "2022-04-22T13:20:09.131Z"
      },
      {
        "duration": 9,
        "start_time": "2022-04-22T13:20:09.357Z"
      },
      {
        "duration": 6,
        "start_time": "2022-04-22T13:20:09.368Z"
      },
      {
        "duration": 5,
        "start_time": "2022-04-22T13:20:09.393Z"
      },
      {
        "duration": 22,
        "start_time": "2022-04-22T13:20:09.400Z"
      },
      {
        "duration": 6,
        "start_time": "2022-04-22T13:20:09.424Z"
      },
      {
        "duration": 20,
        "start_time": "2022-04-22T13:20:09.432Z"
      },
      {
        "duration": 41,
        "start_time": "2022-04-22T13:20:09.454Z"
      },
      {
        "duration": 30,
        "start_time": "2022-04-22T13:20:09.497Z"
      },
      {
        "duration": 17,
        "start_time": "2022-04-22T13:20:09.529Z"
      },
      {
        "duration": 5,
        "start_time": "2022-04-22T13:20:09.548Z"
      },
      {
        "duration": 38,
        "start_time": "2022-04-22T13:20:09.556Z"
      },
      {
        "duration": 31,
        "start_time": "2022-04-22T13:20:09.597Z"
      },
      {
        "duration": 83,
        "start_time": "2022-04-22T13:20:09.631Z"
      },
      {
        "duration": 19,
        "start_time": "2022-04-22T13:20:09.716Z"
      },
      {
        "duration": 21,
        "start_time": "2022-04-22T13:20:09.740Z"
      },
      {
        "duration": 5,
        "start_time": "2022-04-22T13:20:09.764Z"
      },
      {
        "duration": 37,
        "start_time": "2022-04-22T13:20:09.794Z"
      },
      {
        "duration": 488,
        "start_time": "2022-04-22T13:20:09.833Z"
      },
      {
        "duration": 416,
        "start_time": "2022-04-22T13:20:10.323Z"
      },
      {
        "duration": 31,
        "start_time": "2022-04-22T13:20:10.742Z"
      },
      {
        "duration": 19,
        "start_time": "2022-04-22T13:20:10.776Z"
      },
      {
        "duration": 33,
        "start_time": "2022-04-22T13:20:10.797Z"
      },
      {
        "duration": 7,
        "start_time": "2022-04-22T13:20:10.832Z"
      },
      {
        "duration": 26,
        "start_time": "2022-04-22T13:20:10.841Z"
      },
      {
        "duration": 7,
        "start_time": "2022-04-22T13:20:10.894Z"
      },
      {
        "duration": 30,
        "start_time": "2022-04-22T13:20:10.903Z"
      },
      {
        "duration": 6,
        "start_time": "2022-04-22T13:20:10.935Z"
      },
      {
        "duration": 8,
        "start_time": "2022-04-22T13:23:57.490Z"
      },
      {
        "duration": 26,
        "start_time": "2022-04-22T13:24:32.445Z"
      },
      {
        "duration": 27,
        "start_time": "2022-04-22T13:24:38.642Z"
      },
      {
        "duration": 551,
        "start_time": "2022-04-22T13:24:48.881Z"
      },
      {
        "duration": 9,
        "start_time": "2022-04-22T13:24:49.434Z"
      },
      {
        "duration": 14,
        "start_time": "2022-04-22T13:24:49.446Z"
      },
      {
        "duration": 37,
        "start_time": "2022-04-22T13:24:49.462Z"
      },
      {
        "duration": 19,
        "start_time": "2022-04-22T13:24:49.502Z"
      },
      {
        "duration": 397,
        "start_time": "2022-04-22T13:24:49.523Z"
      },
      {
        "duration": 13,
        "start_time": "2022-04-22T13:24:49.923Z"
      },
      {
        "duration": 15,
        "start_time": "2022-04-22T13:24:49.938Z"
      },
      {
        "duration": 12,
        "start_time": "2022-04-22T13:24:49.955Z"
      },
      {
        "duration": 28,
        "start_time": "2022-04-22T13:24:49.971Z"
      },
      {
        "duration": 55,
        "start_time": "2022-04-22T13:24:50.001Z"
      },
      {
        "duration": 57,
        "start_time": "2022-04-22T13:24:50.059Z"
      },
      {
        "duration": 275,
        "start_time": "2022-04-22T13:24:50.119Z"
      },
      {
        "duration": 11,
        "start_time": "2022-04-22T13:24:50.396Z"
      },
      {
        "duration": 5,
        "start_time": "2022-04-22T13:24:50.410Z"
      },
      {
        "duration": 51,
        "start_time": "2022-04-22T13:24:50.416Z"
      },
      {
        "duration": 30,
        "start_time": "2022-04-22T13:24:50.469Z"
      },
      {
        "duration": 8,
        "start_time": "2022-04-22T13:24:50.501Z"
      },
      {
        "duration": 31,
        "start_time": "2022-04-22T13:24:50.511Z"
      },
      {
        "duration": 9,
        "start_time": "2022-04-22T13:24:50.544Z"
      },
      {
        "duration": 62,
        "start_time": "2022-04-22T13:24:50.554Z"
      },
      {
        "duration": 26,
        "start_time": "2022-04-22T13:24:50.618Z"
      },
      {
        "duration": 13,
        "start_time": "2022-04-22T13:24:50.646Z"
      },
      {
        "duration": 33,
        "start_time": "2022-04-22T13:24:50.661Z"
      },
      {
        "duration": 28,
        "start_time": "2022-04-22T13:24:50.696Z"
      },
      {
        "duration": 46,
        "start_time": "2022-04-22T13:24:50.728Z"
      },
      {
        "duration": 19,
        "start_time": "2022-04-22T13:24:50.794Z"
      },
      {
        "duration": 15,
        "start_time": "2022-04-22T13:24:50.819Z"
      },
      {
        "duration": 5,
        "start_time": "2022-04-22T13:24:50.837Z"
      },
      {
        "duration": 50,
        "start_time": "2022-04-22T13:24:50.844Z"
      },
      {
        "duration": 293,
        "start_time": "2022-04-22T13:24:50.896Z"
      },
      {
        "duration": 351,
        "start_time": "2022-04-22T13:24:51.193Z"
      },
      {
        "duration": 25,
        "start_time": "2022-04-22T13:24:51.546Z"
      },
      {
        "duration": 17,
        "start_time": "2022-04-22T13:24:51.574Z"
      },
      {
        "duration": 33,
        "start_time": "2022-04-22T13:24:51.594Z"
      },
      {
        "duration": 8,
        "start_time": "2022-04-22T13:24:51.630Z"
      },
      {
        "duration": 61,
        "start_time": "2022-04-22T13:24:51.640Z"
      },
      {
        "duration": 8,
        "start_time": "2022-04-22T13:24:51.703Z"
      },
      {
        "duration": 30,
        "start_time": "2022-04-22T13:24:51.713Z"
      },
      {
        "duration": 6,
        "start_time": "2022-04-22T13:24:51.745Z"
      },
      {
        "duration": 111,
        "start_time": "2022-04-22T13:31:03.780Z"
      },
      {
        "duration": 45,
        "start_time": "2022-04-22T13:31:55.350Z"
      },
      {
        "duration": 33,
        "start_time": "2022-04-22T13:32:03.426Z"
      },
      {
        "duration": 2351,
        "start_time": "2022-04-22T13:32:43.283Z"
      },
      {
        "duration": 2367,
        "start_time": "2022-04-22T13:32:45.800Z"
      },
      {
        "duration": 27,
        "start_time": "2022-04-22T13:33:05.928Z"
      },
      {
        "duration": 7,
        "start_time": "2022-04-22T13:33:08.149Z"
      },
      {
        "duration": 31,
        "start_time": "2022-04-22T13:35:19.843Z"
      },
      {
        "duration": 2369,
        "start_time": "2022-04-22T13:35:42.825Z"
      },
      {
        "duration": 17,
        "start_time": "2022-04-22T13:36:17.480Z"
      },
      {
        "duration": 18,
        "start_time": "2022-04-22T13:36:52.266Z"
      },
      {
        "duration": 32,
        "start_time": "2022-04-22T13:37:20.304Z"
      },
      {
        "duration": 32,
        "start_time": "2022-04-22T13:37:29.766Z"
      },
      {
        "duration": 22,
        "start_time": "2022-04-22T13:38:24.300Z"
      },
      {
        "duration": 14,
        "start_time": "2022-04-22T13:40:44.394Z"
      },
      {
        "duration": 39,
        "start_time": "2022-04-22T13:40:48.700Z"
      },
      {
        "duration": 36,
        "start_time": "2022-04-22T13:42:06.048Z"
      },
      {
        "duration": 541,
        "start_time": "2022-04-22T13:42:25.337Z"
      },
      {
        "duration": 12,
        "start_time": "2022-04-22T13:42:25.881Z"
      },
      {
        "duration": 15,
        "start_time": "2022-04-22T13:42:25.895Z"
      },
      {
        "duration": 10,
        "start_time": "2022-04-22T13:42:25.913Z"
      },
      {
        "duration": 15,
        "start_time": "2022-04-22T13:42:25.925Z"
      },
      {
        "duration": 253,
        "start_time": "2022-04-22T13:42:25.942Z"
      },
      {
        "duration": 13,
        "start_time": "2022-04-22T13:42:26.197Z"
      },
      {
        "duration": 4,
        "start_time": "2022-04-22T13:42:26.211Z"
      },
      {
        "duration": 8,
        "start_time": "2022-04-22T13:42:26.217Z"
      },
      {
        "duration": 10,
        "start_time": "2022-04-22T13:42:26.229Z"
      },
      {
        "duration": 51,
        "start_time": "2022-04-22T13:42:26.241Z"
      },
      {
        "duration": 35,
        "start_time": "2022-04-22T13:42:26.294Z"
      },
      {
        "duration": 229,
        "start_time": "2022-04-22T13:42:26.331Z"
      },
      {
        "duration": 10,
        "start_time": "2022-04-22T13:42:26.562Z"
      },
      {
        "duration": 21,
        "start_time": "2022-04-22T13:42:26.574Z"
      },
      {
        "duration": 5,
        "start_time": "2022-04-22T13:42:26.597Z"
      },
      {
        "duration": 23,
        "start_time": "2022-04-22T13:42:26.604Z"
      },
      {
        "duration": 5,
        "start_time": "2022-04-22T13:42:26.629Z"
      },
      {
        "duration": 18,
        "start_time": "2022-04-22T13:42:26.636Z"
      },
      {
        "duration": 7,
        "start_time": "2022-04-22T13:42:26.656Z"
      },
      {
        "duration": 30,
        "start_time": "2022-04-22T13:42:26.693Z"
      },
      {
        "duration": 23,
        "start_time": "2022-04-22T13:42:26.725Z"
      },
      {
        "duration": 10,
        "start_time": "2022-04-22T13:42:26.751Z"
      },
      {
        "duration": 14,
        "start_time": "2022-04-22T13:42:26.763Z"
      },
      {
        "duration": 28,
        "start_time": "2022-04-22T13:42:26.779Z"
      },
      {
        "duration": 39,
        "start_time": "2022-04-22T13:42:26.808Z"
      },
      {
        "duration": 12,
        "start_time": "2022-04-22T13:42:26.849Z"
      },
      {
        "duration": 30,
        "start_time": "2022-04-22T13:42:26.864Z"
      },
      {
        "duration": 4,
        "start_time": "2022-04-22T13:42:26.896Z"
      },
      {
        "duration": 28,
        "start_time": "2022-04-22T13:42:26.902Z"
      },
      {
        "duration": 477,
        "start_time": "2022-04-22T13:42:26.932Z"
      },
      {
        "duration": 272,
        "start_time": "2022-04-22T13:42:27.411Z"
      },
      {
        "duration": 37,
        "start_time": "2022-04-22T13:42:27.685Z"
      },
      {
        "duration": 39,
        "start_time": "2022-04-22T13:42:27.724Z"
      },
      {
        "duration": 47,
        "start_time": "2022-04-22T13:42:27.765Z"
      },
      {
        "duration": 2665,
        "start_time": "2022-04-22T13:42:27.814Z"
      },
      {
        "duration": 0,
        "start_time": "2022-04-22T13:42:30.481Z"
      },
      {
        "duration": 0,
        "start_time": "2022-04-22T13:42:30.483Z"
      },
      {
        "duration": 34,
        "start_time": "2022-04-22T13:43:13.608Z"
      },
      {
        "duration": 40,
        "start_time": "2022-04-22T13:43:18.354Z"
      },
      {
        "duration": 34,
        "start_time": "2022-04-22T13:43:59.331Z"
      },
      {
        "duration": 54,
        "start_time": "2022-04-22T13:44:14.193Z"
      },
      {
        "duration": 35,
        "start_time": "2022-04-22T13:44:25.523Z"
      },
      {
        "duration": 38,
        "start_time": "2022-04-22T13:46:54.890Z"
      },
      {
        "duration": 503,
        "start_time": "2022-04-22T13:53:32.946Z"
      },
      {
        "duration": 7,
        "start_time": "2022-04-22T13:53:33.451Z"
      },
      {
        "duration": 21,
        "start_time": "2022-04-22T13:53:33.460Z"
      },
      {
        "duration": 15,
        "start_time": "2022-04-22T13:53:33.484Z"
      },
      {
        "duration": 15,
        "start_time": "2022-04-22T13:53:33.500Z"
      },
      {
        "duration": 229,
        "start_time": "2022-04-22T13:53:33.517Z"
      },
      {
        "duration": 12,
        "start_time": "2022-04-22T13:53:33.748Z"
      },
      {
        "duration": 3,
        "start_time": "2022-04-22T13:53:33.762Z"
      },
      {
        "duration": 28,
        "start_time": "2022-04-22T13:53:33.767Z"
      },
      {
        "duration": 9,
        "start_time": "2022-04-22T13:53:33.798Z"
      },
      {
        "duration": 14,
        "start_time": "2022-04-22T13:53:33.809Z"
      },
      {
        "duration": 33,
        "start_time": "2022-04-22T13:53:33.824Z"
      },
      {
        "duration": 246,
        "start_time": "2022-04-22T13:53:33.859Z"
      },
      {
        "duration": 8,
        "start_time": "2022-04-22T13:53:34.106Z"
      },
      {
        "duration": 5,
        "start_time": "2022-04-22T13:53:34.115Z"
      },
      {
        "duration": 4,
        "start_time": "2022-04-22T13:53:34.121Z"
      },
      {
        "duration": 19,
        "start_time": "2022-04-22T13:53:34.127Z"
      },
      {
        "duration": 45,
        "start_time": "2022-04-22T13:53:34.148Z"
      },
      {
        "duration": 19,
        "start_time": "2022-04-22T13:53:34.195Z"
      },
      {
        "duration": 6,
        "start_time": "2022-04-22T13:53:34.216Z"
      },
      {
        "duration": 20,
        "start_time": "2022-04-22T13:53:34.223Z"
      },
      {
        "duration": 49,
        "start_time": "2022-04-22T13:53:34.244Z"
      },
      {
        "duration": 6,
        "start_time": "2022-04-22T13:53:34.294Z"
      },
      {
        "duration": 9,
        "start_time": "2022-04-22T13:53:34.302Z"
      },
      {
        "duration": 19,
        "start_time": "2022-04-22T13:53:34.313Z"
      },
      {
        "duration": 63,
        "start_time": "2022-04-22T13:53:34.334Z"
      },
      {
        "duration": 13,
        "start_time": "2022-04-22T13:53:34.398Z"
      },
      {
        "duration": 13,
        "start_time": "2022-04-22T13:53:34.415Z"
      },
      {
        "duration": 5,
        "start_time": "2022-04-22T13:53:34.430Z"
      },
      {
        "duration": 19,
        "start_time": "2022-04-22T13:53:34.437Z"
      },
      {
        "duration": 313,
        "start_time": "2022-04-22T13:53:34.458Z"
      },
      {
        "duration": 265,
        "start_time": "2022-04-22T13:53:34.773Z"
      },
      {
        "duration": 30,
        "start_time": "2022-04-22T13:53:35.040Z"
      },
      {
        "duration": 51,
        "start_time": "2022-04-22T13:53:35.072Z"
      },
      {
        "duration": 46,
        "start_time": "2022-04-22T13:53:35.125Z"
      },
      {
        "duration": 68,
        "start_time": "2022-04-22T13:53:35.173Z"
      }
    ],
    "kernelspec": {
      "display_name": "Python 3 (ipykernel)",
      "language": "python",
      "name": "python3"
    },
    "language_info": {
      "codemirror_mode": {
        "name": "ipython",
        "version": 3
      },
      "file_extension": ".py",
      "mimetype": "text/x-python",
      "name": "python",
      "nbconvert_exporter": "python",
      "pygments_lexer": "ipython3",
      "version": "3.9.5"
    },
    "toc": {
      "base_numbering": 1,
      "nav_menu": {},
      "number_sections": true,
      "sideBar": true,
      "skip_h1_title": true,
      "title_cell": "Table of Contents",
      "title_sidebar": "Contents",
      "toc_cell": false,
      "toc_position": {},
      "toc_section_display": true,
      "toc_window_display": false
    },
    "colab": {
      "provenance": []
    }
  },
  "nbformat": 4,
  "nbformat_minor": 5
}