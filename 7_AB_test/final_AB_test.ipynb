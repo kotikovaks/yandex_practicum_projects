{
  "cells": [
    {
      "cell_type": "markdown",
      "metadata": {
        "id": "31eEjBdb45P-"
      },
      "source": [
        "## Оглавление\n",
        "1. [Приоритизация гипотез](#prioritization)\n",
        "2. [Анализ A/B-теста](#ab_test)\n",
        "\n",
        "  2.1. [График кумулятивной выручки по группам](#cum_revenue)\n",
        "\n",
        "  2.2. [График кумулятивного среднего чека по группам](#cum_mean)\n",
        "\n",
        "  2.3. [График относительного изменения кумулятивного среднего чека группы B к группе A](#cum_mean_change_diagram)\n",
        "\n",
        "  2.4. [График кумулятивной конверсии по группам](#cum_conv_diagram)\n",
        "\n",
        "  2.5. [График относительного изменения кумулятивной конверсии группы B к группе A](#cum_conv_change_diagram)\n",
        "\n",
        "  2.6. [Точечный график количества заказов по пользователям](#scatter_orders)\n",
        "\n",
        "  2.7. [95-й и 99-й перцентили количества заказов на пользователя](#percentile_orders)\n",
        "\n",
        "  2.8. [Точечный график стоимостей заказов](#scatter_revenue)\n",
        "\n",
        "  2.9. [95-й и 99-й перцентили стоимости заказов](#percentile_revenue)\n",
        "\n",
        "  2.10. [Статистическая значимость различий в конверсии между группами по «сырым» данным](#stat_conv_raw)\n",
        "\n",
        "  2.11. [Статистическая значимость различий в среднем чеке заказа между группами по «сырым» данным](#stat_mean_raw)\n",
        "\n",
        "  2.12. [Статистическая значимость различий в конверсии между группами по «очищенным» данным](#stat_conv)\n",
        "\n",
        "  2.13. [Статистическая значимость различий в среднем чеке заказа между группами по «очищенным» данным](#stat_mean)\n",
        "\n",
        "  2.14. [Результаты](#results)\n",
        "\n",
        "3. [Общий вывод](#sumup)\n"
      ]
    },
    {
      "cell_type": "markdown",
      "metadata": {
        "id": "j7j9bWlh9du7"
      },
      "source": [
        "# A/B тест для интернет-магазина\n",
        "Вместе с отделом маркетинга мы подготовили список гипотез для увеличения выручки. Нам необходимо приоритизировать гипотезы, запустить A/B-тест и проанализировать результаты.\n",
        "\n",
        "**Цель исследования** — приоритизировать гипотезы, запустить A/B-тест. Это позволит установить, возможно ли увеличение выручки после применения изменений, сформулированных в гипотезах.\n",
        "\n",
        "**Ход исследования**\n",
        "\n",
        "Перед проверкой гипотез понадобится обзор и предобработка данных.\n",
        "Необходимо проверить данные на ошибки и оценить их влияние на исследование.\n",
        "\n",
        "Таким образом, исследование пройдёт в четыре этапа:\n",
        "\n",
        "1. Обзор данных и предобработка данных.\n",
        "2. Приоритизация гипотез.\n",
        "3. Анализ A/B-теста:\n",
        "  * Мы построим:\n",
        "    * График кумулятивной выручки по группам\n",
        "    * График кумулятивного среднего чека по группам\n",
        "    * График относительного изменения кумулятивного среднего чека группы B к группе A\n",
        "    * График кумулятивной конверсии по группам\n",
        "    * График относительного изменения кумулятивной конверсии группы B к группе A\n",
        "    * Точечный график количества заказов по пользователям\n",
        "    * Точечный график стоимостей заказов\n",
        "  * Посчитаем:\n",
        "    * 95-й и 99-й перцентили количества заказов на пользователя\n",
        "    * 95-й и 99-й перцентили стоимости заказов\n",
        "    * Статистическую значимость различий в конверсии между группами по «сырым» данным\n",
        "    * Статистическую значимость различий в среднем чеке заказа между группами по «сырым» данным\n",
        "    * Статистическую значимость различий в конверсии между группами по «очищенным» данным\n",
        "    * Статистическую значимость различий в среднем чеке заказа между группами по «очищенным» данным\n",
        "4. Вывод о том, стоит ли продолжать тестирование, и анализ его результатов."
      ]
    },
    {
      "cell_type": "markdown",
      "metadata": {
        "id": "79ApijrHfSXL"
      },
      "source": [
        "##  1. Приоритизация гипотез\n",
        "<a name=\"prioritization\"></a>"
      ]
    },
    {
      "cell_type": "markdown",
      "metadata": {
        "id": "k6biUUZwfSXO"
      },
      "source": [
        "### Задача\n",
        "* Примените фреймворк ICE для приоритизации гипотез. Отсортируйте их по убыванию приоритета.\n",
        "* Примените фреймворк RICE для приоритизации гипотез. Отсортируйте их по убыванию приоритета.\n",
        "* Укажите, как изменилась приоритизация гипотез при применении RICE вместо ICE. Объясните, почему так произошло."
      ]
    },
    {
      "cell_type": "code",
      "execution_count": 99,
      "metadata": {
        "id": "jRLUw-tWfSXQ"
      },
      "outputs": [],
      "source": [
        "import pandas as pd \n",
        "import datetime as dt\n",
        "import numpy as np\n",
        "import matplotlib.pyplot as plt\n",
        "import scipy.stats as stats"
      ]
    },
    {
      "cell_type": "code",
      "execution_count": 100,
      "metadata": {
        "colab": {
          "base_uri": "https://localhost:8080/",
          "height": 332
        },
        "id": "U4vbJvkSfSXR",
        "outputId": "d5116f0d-1197-4ea3-f827-0601fe9cd025"
      },
      "outputs": [
        {
          "output_type": "execute_result",
          "data": {
            "text/plain": [
              "                                          Hypothesis  Reach  Impact  \\\n",
              "0  Добавить два новых канала привлечения трафика,...      3      10   \n",
              "1  Запустить собственную службу доставки, что сок...      2       5   \n",
              "2  Добавить блоки рекомендаций товаров на сайт ин...      8       3   \n",
              "3  Изменить структура категорий, что увеличит кон...      8       3   \n",
              "4  Изменить цвет фона главной страницы, чтобы уве...      3       1   \n",
              "5  Добавить страницу отзывов клиентов о магазине,...      3       2   \n",
              "6  Показать на главной странице баннеры с актуаль...      5       3   \n",
              "7  Добавить форму подписки на все основные страни...     10       7   \n",
              "8  Запустить акцию, дающую скидку на товар в день...      1       9   \n",
              "\n",
              "   Confidence  Efforts  \n",
              "0           8        6  \n",
              "1           4       10  \n",
              "2           7        3  \n",
              "3           3        8  \n",
              "4           1        1  \n",
              "5           2        3  \n",
              "6           8        3  \n",
              "7           8        5  \n",
              "8           9        5  "
            ],
            "text/html": [
              "\n",
              "  <div id=\"df-13627dd3-efad-4a47-a20c-beb972e4685d\">\n",
              "    <div class=\"colab-df-container\">\n",
              "      <div>\n",
              "<style scoped>\n",
              "    .dataframe tbody tr th:only-of-type {\n",
              "        vertical-align: middle;\n",
              "    }\n",
              "\n",
              "    .dataframe tbody tr th {\n",
              "        vertical-align: top;\n",
              "    }\n",
              "\n",
              "    .dataframe thead th {\n",
              "        text-align: right;\n",
              "    }\n",
              "</style>\n",
              "<table border=\"1\" class=\"dataframe\">\n",
              "  <thead>\n",
              "    <tr style=\"text-align: right;\">\n",
              "      <th></th>\n",
              "      <th>Hypothesis</th>\n",
              "      <th>Reach</th>\n",
              "      <th>Impact</th>\n",
              "      <th>Confidence</th>\n",
              "      <th>Efforts</th>\n",
              "    </tr>\n",
              "  </thead>\n",
              "  <tbody>\n",
              "    <tr>\n",
              "      <th>0</th>\n",
              "      <td>Добавить два новых канала привлечения трафика,...</td>\n",
              "      <td>3</td>\n",
              "      <td>10</td>\n",
              "      <td>8</td>\n",
              "      <td>6</td>\n",
              "    </tr>\n",
              "    <tr>\n",
              "      <th>1</th>\n",
              "      <td>Запустить собственную службу доставки, что сок...</td>\n",
              "      <td>2</td>\n",
              "      <td>5</td>\n",
              "      <td>4</td>\n",
              "      <td>10</td>\n",
              "    </tr>\n",
              "    <tr>\n",
              "      <th>2</th>\n",
              "      <td>Добавить блоки рекомендаций товаров на сайт ин...</td>\n",
              "      <td>8</td>\n",
              "      <td>3</td>\n",
              "      <td>7</td>\n",
              "      <td>3</td>\n",
              "    </tr>\n",
              "    <tr>\n",
              "      <th>3</th>\n",
              "      <td>Изменить структура категорий, что увеличит кон...</td>\n",
              "      <td>8</td>\n",
              "      <td>3</td>\n",
              "      <td>3</td>\n",
              "      <td>8</td>\n",
              "    </tr>\n",
              "    <tr>\n",
              "      <th>4</th>\n",
              "      <td>Изменить цвет фона главной страницы, чтобы уве...</td>\n",
              "      <td>3</td>\n",
              "      <td>1</td>\n",
              "      <td>1</td>\n",
              "      <td>1</td>\n",
              "    </tr>\n",
              "    <tr>\n",
              "      <th>5</th>\n",
              "      <td>Добавить страницу отзывов клиентов о магазине,...</td>\n",
              "      <td>3</td>\n",
              "      <td>2</td>\n",
              "      <td>2</td>\n",
              "      <td>3</td>\n",
              "    </tr>\n",
              "    <tr>\n",
              "      <th>6</th>\n",
              "      <td>Показать на главной странице баннеры с актуаль...</td>\n",
              "      <td>5</td>\n",
              "      <td>3</td>\n",
              "      <td>8</td>\n",
              "      <td>3</td>\n",
              "    </tr>\n",
              "    <tr>\n",
              "      <th>7</th>\n",
              "      <td>Добавить форму подписки на все основные страни...</td>\n",
              "      <td>10</td>\n",
              "      <td>7</td>\n",
              "      <td>8</td>\n",
              "      <td>5</td>\n",
              "    </tr>\n",
              "    <tr>\n",
              "      <th>8</th>\n",
              "      <td>Запустить акцию, дающую скидку на товар в день...</td>\n",
              "      <td>1</td>\n",
              "      <td>9</td>\n",
              "      <td>9</td>\n",
              "      <td>5</td>\n",
              "    </tr>\n",
              "  </tbody>\n",
              "</table>\n",
              "</div>\n",
              "      <button class=\"colab-df-convert\" onclick=\"convertToInteractive('df-13627dd3-efad-4a47-a20c-beb972e4685d')\"\n",
              "              title=\"Convert this dataframe to an interactive table.\"\n",
              "              style=\"display:none;\">\n",
              "        \n",
              "  <svg xmlns=\"http://www.w3.org/2000/svg\" height=\"24px\"viewBox=\"0 0 24 24\"\n",
              "       width=\"24px\">\n",
              "    <path d=\"M0 0h24v24H0V0z\" fill=\"none\"/>\n",
              "    <path d=\"M18.56 5.44l.94 2.06.94-2.06 2.06-.94-2.06-.94-.94-2.06-.94 2.06-2.06.94zm-11 1L8.5 8.5l.94-2.06 2.06-.94-2.06-.94L8.5 2.5l-.94 2.06-2.06.94zm10 10l.94 2.06.94-2.06 2.06-.94-2.06-.94-.94-2.06-.94 2.06-2.06.94z\"/><path d=\"M17.41 7.96l-1.37-1.37c-.4-.4-.92-.59-1.43-.59-.52 0-1.04.2-1.43.59L10.3 9.45l-7.72 7.72c-.78.78-.78 2.05 0 2.83L4 21.41c.39.39.9.59 1.41.59.51 0 1.02-.2 1.41-.59l7.78-7.78 2.81-2.81c.8-.78.8-2.07 0-2.86zM5.41 20L4 18.59l7.72-7.72 1.47 1.35L5.41 20z\"/>\n",
              "  </svg>\n",
              "      </button>\n",
              "      \n",
              "  <style>\n",
              "    .colab-df-container {\n",
              "      display:flex;\n",
              "      flex-wrap:wrap;\n",
              "      gap: 12px;\n",
              "    }\n",
              "\n",
              "    .colab-df-convert {\n",
              "      background-color: #E8F0FE;\n",
              "      border: none;\n",
              "      border-radius: 50%;\n",
              "      cursor: pointer;\n",
              "      display: none;\n",
              "      fill: #1967D2;\n",
              "      height: 32px;\n",
              "      padding: 0 0 0 0;\n",
              "      width: 32px;\n",
              "    }\n",
              "\n",
              "    .colab-df-convert:hover {\n",
              "      background-color: #E2EBFA;\n",
              "      box-shadow: 0px 1px 2px rgba(60, 64, 67, 0.3), 0px 1px 3px 1px rgba(60, 64, 67, 0.15);\n",
              "      fill: #174EA6;\n",
              "    }\n",
              "\n",
              "    [theme=dark] .colab-df-convert {\n",
              "      background-color: #3B4455;\n",
              "      fill: #D2E3FC;\n",
              "    }\n",
              "\n",
              "    [theme=dark] .colab-df-convert:hover {\n",
              "      background-color: #434B5C;\n",
              "      box-shadow: 0px 1px 3px 1px rgba(0, 0, 0, 0.15);\n",
              "      filter: drop-shadow(0px 1px 2px rgba(0, 0, 0, 0.3));\n",
              "      fill: #FFFFFF;\n",
              "    }\n",
              "  </style>\n",
              "\n",
              "      <script>\n",
              "        const buttonEl =\n",
              "          document.querySelector('#df-13627dd3-efad-4a47-a20c-beb972e4685d button.colab-df-convert');\n",
              "        buttonEl.style.display =\n",
              "          google.colab.kernel.accessAllowed ? 'block' : 'none';\n",
              "\n",
              "        async function convertToInteractive(key) {\n",
              "          const element = document.querySelector('#df-13627dd3-efad-4a47-a20c-beb972e4685d');\n",
              "          const dataTable =\n",
              "            await google.colab.kernel.invokeFunction('convertToInteractive',\n",
              "                                                     [key], {});\n",
              "          if (!dataTable) return;\n",
              "\n",
              "          const docLinkHtml = 'Like what you see? Visit the ' +\n",
              "            '<a target=\"_blank\" href=https://colab.research.google.com/notebooks/data_table.ipynb>data table notebook</a>'\n",
              "            + ' to learn more about interactive tables.';\n",
              "          element.innerHTML = '';\n",
              "          dataTable['output_type'] = 'display_data';\n",
              "          await google.colab.output.renderOutput(dataTable, element);\n",
              "          const docLink = document.createElement('div');\n",
              "          docLink.innerHTML = docLinkHtml;\n",
              "          element.appendChild(docLink);\n",
              "        }\n",
              "      </script>\n",
              "    </div>\n",
              "  </div>\n",
              "  "
            ]
          },
          "metadata": {},
          "execution_count": 100
        }
      ],
      "source": [
        "# изучим данные\n",
        "\n",
        "try:\n",
        "    data = pd.read_csv('/datasets/hypothesis.csv')\n",
        "except:\n",
        "    data = pd.read_csv('/datasets/hypothesis.csv')\n",
        "data"
      ]
    },
    {
      "cell_type": "code",
      "source": [
        "#выведем общую информацию о файле\n",
        "data.info()"
      ],
      "metadata": {
        "colab": {
          "base_uri": "https://localhost:8080/"
        },
        "id": "MVZbevqGqPL5",
        "outputId": "04893ac9-d7a9-4133-d535-952602f308ed"
      },
      "execution_count": 101,
      "outputs": [
        {
          "output_type": "stream",
          "name": "stdout",
          "text": [
            "<class 'pandas.core.frame.DataFrame'>\n",
            "RangeIndex: 9 entries, 0 to 8\n",
            "Data columns (total 5 columns):\n",
            " #   Column      Non-Null Count  Dtype \n",
            "---  ------      --------------  ----- \n",
            " 0   Hypothesis  9 non-null      object\n",
            " 1   Reach       9 non-null      int64 \n",
            " 2   Impact      9 non-null      int64 \n",
            " 3   Confidence  9 non-null      int64 \n",
            " 4   Efforts     9 non-null      int64 \n",
            "dtypes: int64(4), object(1)\n",
            "memory usage: 488.0+ bytes\n"
          ]
        }
      ]
    },
    {
      "cell_type": "code",
      "execution_count": 102,
      "metadata": {
        "colab": {
          "base_uri": "https://localhost:8080/",
          "height": 300
        },
        "id": "GIVoaaQgp43o",
        "outputId": "6f29d5f3-7f9c-4955-cce9-746658fa7a68"
      },
      "outputs": [
        {
          "output_type": "execute_result",
          "data": {
            "text/plain": [
              "           Reach     Impact  Confidence    Efforts\n",
              "count   9.000000   9.000000    9.000000   9.000000\n",
              "mean    4.777778   4.777778    5.555556   4.888889\n",
              "std     3.153481   3.192874    3.045944   2.803767\n",
              "min     1.000000   1.000000    1.000000   1.000000\n",
              "25%     3.000000   3.000000    3.000000   3.000000\n",
              "50%     3.000000   3.000000    7.000000   5.000000\n",
              "75%     8.000000   7.000000    8.000000   6.000000\n",
              "max    10.000000  10.000000    9.000000  10.000000"
            ],
            "text/html": [
              "\n",
              "  <div id=\"df-be894519-f588-4e28-ade9-7299155670e5\">\n",
              "    <div class=\"colab-df-container\">\n",
              "      <div>\n",
              "<style scoped>\n",
              "    .dataframe tbody tr th:only-of-type {\n",
              "        vertical-align: middle;\n",
              "    }\n",
              "\n",
              "    .dataframe tbody tr th {\n",
              "        vertical-align: top;\n",
              "    }\n",
              "\n",
              "    .dataframe thead th {\n",
              "        text-align: right;\n",
              "    }\n",
              "</style>\n",
              "<table border=\"1\" class=\"dataframe\">\n",
              "  <thead>\n",
              "    <tr style=\"text-align: right;\">\n",
              "      <th></th>\n",
              "      <th>Reach</th>\n",
              "      <th>Impact</th>\n",
              "      <th>Confidence</th>\n",
              "      <th>Efforts</th>\n",
              "    </tr>\n",
              "  </thead>\n",
              "  <tbody>\n",
              "    <tr>\n",
              "      <th>count</th>\n",
              "      <td>9.000000</td>\n",
              "      <td>9.000000</td>\n",
              "      <td>9.000000</td>\n",
              "      <td>9.000000</td>\n",
              "    </tr>\n",
              "    <tr>\n",
              "      <th>mean</th>\n",
              "      <td>4.777778</td>\n",
              "      <td>4.777778</td>\n",
              "      <td>5.555556</td>\n",
              "      <td>4.888889</td>\n",
              "    </tr>\n",
              "    <tr>\n",
              "      <th>std</th>\n",
              "      <td>3.153481</td>\n",
              "      <td>3.192874</td>\n",
              "      <td>3.045944</td>\n",
              "      <td>2.803767</td>\n",
              "    </tr>\n",
              "    <tr>\n",
              "      <th>min</th>\n",
              "      <td>1.000000</td>\n",
              "      <td>1.000000</td>\n",
              "      <td>1.000000</td>\n",
              "      <td>1.000000</td>\n",
              "    </tr>\n",
              "    <tr>\n",
              "      <th>25%</th>\n",
              "      <td>3.000000</td>\n",
              "      <td>3.000000</td>\n",
              "      <td>3.000000</td>\n",
              "      <td>3.000000</td>\n",
              "    </tr>\n",
              "    <tr>\n",
              "      <th>50%</th>\n",
              "      <td>3.000000</td>\n",
              "      <td>3.000000</td>\n",
              "      <td>7.000000</td>\n",
              "      <td>5.000000</td>\n",
              "    </tr>\n",
              "    <tr>\n",
              "      <th>75%</th>\n",
              "      <td>8.000000</td>\n",
              "      <td>7.000000</td>\n",
              "      <td>8.000000</td>\n",
              "      <td>6.000000</td>\n",
              "    </tr>\n",
              "    <tr>\n",
              "      <th>max</th>\n",
              "      <td>10.000000</td>\n",
              "      <td>10.000000</td>\n",
              "      <td>9.000000</td>\n",
              "      <td>10.000000</td>\n",
              "    </tr>\n",
              "  </tbody>\n",
              "</table>\n",
              "</div>\n",
              "      <button class=\"colab-df-convert\" onclick=\"convertToInteractive('df-be894519-f588-4e28-ade9-7299155670e5')\"\n",
              "              title=\"Convert this dataframe to an interactive table.\"\n",
              "              style=\"display:none;\">\n",
              "        \n",
              "  <svg xmlns=\"http://www.w3.org/2000/svg\" height=\"24px\"viewBox=\"0 0 24 24\"\n",
              "       width=\"24px\">\n",
              "    <path d=\"M0 0h24v24H0V0z\" fill=\"none\"/>\n",
              "    <path d=\"M18.56 5.44l.94 2.06.94-2.06 2.06-.94-2.06-.94-.94-2.06-.94 2.06-2.06.94zm-11 1L8.5 8.5l.94-2.06 2.06-.94-2.06-.94L8.5 2.5l-.94 2.06-2.06.94zm10 10l.94 2.06.94-2.06 2.06-.94-2.06-.94-.94-2.06-.94 2.06-2.06.94z\"/><path d=\"M17.41 7.96l-1.37-1.37c-.4-.4-.92-.59-1.43-.59-.52 0-1.04.2-1.43.59L10.3 9.45l-7.72 7.72c-.78.78-.78 2.05 0 2.83L4 21.41c.39.39.9.59 1.41.59.51 0 1.02-.2 1.41-.59l7.78-7.78 2.81-2.81c.8-.78.8-2.07 0-2.86zM5.41 20L4 18.59l7.72-7.72 1.47 1.35L5.41 20z\"/>\n",
              "  </svg>\n",
              "      </button>\n",
              "      \n",
              "  <style>\n",
              "    .colab-df-container {\n",
              "      display:flex;\n",
              "      flex-wrap:wrap;\n",
              "      gap: 12px;\n",
              "    }\n",
              "\n",
              "    .colab-df-convert {\n",
              "      background-color: #E8F0FE;\n",
              "      border: none;\n",
              "      border-radius: 50%;\n",
              "      cursor: pointer;\n",
              "      display: none;\n",
              "      fill: #1967D2;\n",
              "      height: 32px;\n",
              "      padding: 0 0 0 0;\n",
              "      width: 32px;\n",
              "    }\n",
              "\n",
              "    .colab-df-convert:hover {\n",
              "      background-color: #E2EBFA;\n",
              "      box-shadow: 0px 1px 2px rgba(60, 64, 67, 0.3), 0px 1px 3px 1px rgba(60, 64, 67, 0.15);\n",
              "      fill: #174EA6;\n",
              "    }\n",
              "\n",
              "    [theme=dark] .colab-df-convert {\n",
              "      background-color: #3B4455;\n",
              "      fill: #D2E3FC;\n",
              "    }\n",
              "\n",
              "    [theme=dark] .colab-df-convert:hover {\n",
              "      background-color: #434B5C;\n",
              "      box-shadow: 0px 1px 3px 1px rgba(0, 0, 0, 0.15);\n",
              "      filter: drop-shadow(0px 1px 2px rgba(0, 0, 0, 0.3));\n",
              "      fill: #FFFFFF;\n",
              "    }\n",
              "  </style>\n",
              "\n",
              "      <script>\n",
              "        const buttonEl =\n",
              "          document.querySelector('#df-be894519-f588-4e28-ade9-7299155670e5 button.colab-df-convert');\n",
              "        buttonEl.style.display =\n",
              "          google.colab.kernel.accessAllowed ? 'block' : 'none';\n",
              "\n",
              "        async function convertToInteractive(key) {\n",
              "          const element = document.querySelector('#df-be894519-f588-4e28-ade9-7299155670e5');\n",
              "          const dataTable =\n",
              "            await google.colab.kernel.invokeFunction('convertToInteractive',\n",
              "                                                     [key], {});\n",
              "          if (!dataTable) return;\n",
              "\n",
              "          const docLinkHtml = 'Like what you see? Visit the ' +\n",
              "            '<a target=\"_blank\" href=https://colab.research.google.com/notebooks/data_table.ipynb>data table notebook</a>'\n",
              "            + ' to learn more about interactive tables.';\n",
              "          element.innerHTML = '';\n",
              "          dataTable['output_type'] = 'display_data';\n",
              "          await google.colab.output.renderOutput(dataTable, element);\n",
              "          const docLink = document.createElement('div');\n",
              "          docLink.innerHTML = docLinkHtml;\n",
              "          element.appendChild(docLink);\n",
              "        }\n",
              "      </script>\n",
              "    </div>\n",
              "  </div>\n",
              "  "
            ]
          },
          "metadata": {},
          "execution_count": 102
        }
      ],
      "source": [
        "data.describe() # проверим на аномалии таблицу data\n",
        "# аномалий нет"
      ]
    },
    {
      "cell_type": "code",
      "execution_count": 103,
      "metadata": {
        "colab": {
          "base_uri": "https://localhost:8080/"
        },
        "id": "4Dd63zhsp43o",
        "outputId": "c7e10128-060c-4b30-b558-ac17718ec351"
      },
      "outputs": [
        {
          "output_type": "execute_result",
          "data": {
            "text/plain": [
              "0"
            ]
          },
          "metadata": {},
          "execution_count": 103
        }
      ],
      "source": [
        "# проверим данные на наличие дубликатов\n",
        "data.duplicated().sum() # дубликатов нет"
      ]
    },
    {
      "cell_type": "code",
      "execution_count": 104,
      "metadata": {
        "colab": {
          "base_uri": "https://localhost:8080/"
        },
        "id": "Uj9aJMDgfSXT",
        "outputId": "54201430-c488-457d-d04d-0b9c847c389b"
      },
      "outputs": [
        {
          "output_type": "execute_result",
          "data": {
            "text/plain": [
              "Index(['hypothesis', 'reach', 'impact', 'confidence', 'efforts'], dtype='object')"
            ]
          },
          "metadata": {},
          "execution_count": 104
        }
      ],
      "source": [
        "# приведем названия столбцов к змеиному регистру\n",
        "data.columns = data.columns.str.lower()\n",
        "data.columns"
      ]
    },
    {
      "cell_type": "code",
      "execution_count": 105,
      "metadata": {
        "colab": {
          "base_uri": "https://localhost:8080/",
          "height": 332
        },
        "id": "mLBR2MRrfSXU",
        "outputId": "d989536d-5a62-4f75-a81b-7bb69e27d660"
      },
      "outputs": [
        {
          "output_type": "execute_result",
          "data": {
            "text/plain": [
              "                                          hypothesis   ICE\n",
              "8  Запустить акцию, дающую скидку на товар в день...  16.0\n",
              "0  Добавить два новых канала привлечения трафика,...  13.0\n",
              "7  Добавить форму подписки на все основные страни...  11.0\n",
              "6  Показать на главной странице баннеры с актуаль...   8.0\n",
              "2  Добавить блоки рекомендаций товаров на сайт ин...   7.0\n",
              "1  Запустить собственную службу доставки, что сок...   2.0\n",
              "3  Изменить структура категорий, что увеличит кон...   1.0\n",
              "4  Изменить цвет фона главной страницы, чтобы уве...   1.0\n",
              "5  Добавить страницу отзывов клиентов о магазине,...   1.0"
            ],
            "text/html": [
              "\n",
              "  <div id=\"df-b67e216b-adb3-47d5-b1ea-e187f37f1df7\">\n",
              "    <div class=\"colab-df-container\">\n",
              "      <div>\n",
              "<style scoped>\n",
              "    .dataframe tbody tr th:only-of-type {\n",
              "        vertical-align: middle;\n",
              "    }\n",
              "\n",
              "    .dataframe tbody tr th {\n",
              "        vertical-align: top;\n",
              "    }\n",
              "\n",
              "    .dataframe thead th {\n",
              "        text-align: right;\n",
              "    }\n",
              "</style>\n",
              "<table border=\"1\" class=\"dataframe\">\n",
              "  <thead>\n",
              "    <tr style=\"text-align: right;\">\n",
              "      <th></th>\n",
              "      <th>hypothesis</th>\n",
              "      <th>ICE</th>\n",
              "    </tr>\n",
              "  </thead>\n",
              "  <tbody>\n",
              "    <tr>\n",
              "      <th>8</th>\n",
              "      <td>Запустить акцию, дающую скидку на товар в день...</td>\n",
              "      <td>16.0</td>\n",
              "    </tr>\n",
              "    <tr>\n",
              "      <th>0</th>\n",
              "      <td>Добавить два новых канала привлечения трафика,...</td>\n",
              "      <td>13.0</td>\n",
              "    </tr>\n",
              "    <tr>\n",
              "      <th>7</th>\n",
              "      <td>Добавить форму подписки на все основные страни...</td>\n",
              "      <td>11.0</td>\n",
              "    </tr>\n",
              "    <tr>\n",
              "      <th>6</th>\n",
              "      <td>Показать на главной странице баннеры с актуаль...</td>\n",
              "      <td>8.0</td>\n",
              "    </tr>\n",
              "    <tr>\n",
              "      <th>2</th>\n",
              "      <td>Добавить блоки рекомендаций товаров на сайт ин...</td>\n",
              "      <td>7.0</td>\n",
              "    </tr>\n",
              "    <tr>\n",
              "      <th>1</th>\n",
              "      <td>Запустить собственную службу доставки, что сок...</td>\n",
              "      <td>2.0</td>\n",
              "    </tr>\n",
              "    <tr>\n",
              "      <th>3</th>\n",
              "      <td>Изменить структура категорий, что увеличит кон...</td>\n",
              "      <td>1.0</td>\n",
              "    </tr>\n",
              "    <tr>\n",
              "      <th>4</th>\n",
              "      <td>Изменить цвет фона главной страницы, чтобы уве...</td>\n",
              "      <td>1.0</td>\n",
              "    </tr>\n",
              "    <tr>\n",
              "      <th>5</th>\n",
              "      <td>Добавить страницу отзывов клиентов о магазине,...</td>\n",
              "      <td>1.0</td>\n",
              "    </tr>\n",
              "  </tbody>\n",
              "</table>\n",
              "</div>\n",
              "      <button class=\"colab-df-convert\" onclick=\"convertToInteractive('df-b67e216b-adb3-47d5-b1ea-e187f37f1df7')\"\n",
              "              title=\"Convert this dataframe to an interactive table.\"\n",
              "              style=\"display:none;\">\n",
              "        \n",
              "  <svg xmlns=\"http://www.w3.org/2000/svg\" height=\"24px\"viewBox=\"0 0 24 24\"\n",
              "       width=\"24px\">\n",
              "    <path d=\"M0 0h24v24H0V0z\" fill=\"none\"/>\n",
              "    <path d=\"M18.56 5.44l.94 2.06.94-2.06 2.06-.94-2.06-.94-.94-2.06-.94 2.06-2.06.94zm-11 1L8.5 8.5l.94-2.06 2.06-.94-2.06-.94L8.5 2.5l-.94 2.06-2.06.94zm10 10l.94 2.06.94-2.06 2.06-.94-2.06-.94-.94-2.06-.94 2.06-2.06.94z\"/><path d=\"M17.41 7.96l-1.37-1.37c-.4-.4-.92-.59-1.43-.59-.52 0-1.04.2-1.43.59L10.3 9.45l-7.72 7.72c-.78.78-.78 2.05 0 2.83L4 21.41c.39.39.9.59 1.41.59.51 0 1.02-.2 1.41-.59l7.78-7.78 2.81-2.81c.8-.78.8-2.07 0-2.86zM5.41 20L4 18.59l7.72-7.72 1.47 1.35L5.41 20z\"/>\n",
              "  </svg>\n",
              "      </button>\n",
              "      \n",
              "  <style>\n",
              "    .colab-df-container {\n",
              "      display:flex;\n",
              "      flex-wrap:wrap;\n",
              "      gap: 12px;\n",
              "    }\n",
              "\n",
              "    .colab-df-convert {\n",
              "      background-color: #E8F0FE;\n",
              "      border: none;\n",
              "      border-radius: 50%;\n",
              "      cursor: pointer;\n",
              "      display: none;\n",
              "      fill: #1967D2;\n",
              "      height: 32px;\n",
              "      padding: 0 0 0 0;\n",
              "      width: 32px;\n",
              "    }\n",
              "\n",
              "    .colab-df-convert:hover {\n",
              "      background-color: #E2EBFA;\n",
              "      box-shadow: 0px 1px 2px rgba(60, 64, 67, 0.3), 0px 1px 3px 1px rgba(60, 64, 67, 0.15);\n",
              "      fill: #174EA6;\n",
              "    }\n",
              "\n",
              "    [theme=dark] .colab-df-convert {\n",
              "      background-color: #3B4455;\n",
              "      fill: #D2E3FC;\n",
              "    }\n",
              "\n",
              "    [theme=dark] .colab-df-convert:hover {\n",
              "      background-color: #434B5C;\n",
              "      box-shadow: 0px 1px 3px 1px rgba(0, 0, 0, 0.15);\n",
              "      filter: drop-shadow(0px 1px 2px rgba(0, 0, 0, 0.3));\n",
              "      fill: #FFFFFF;\n",
              "    }\n",
              "  </style>\n",
              "\n",
              "      <script>\n",
              "        const buttonEl =\n",
              "          document.querySelector('#df-b67e216b-adb3-47d5-b1ea-e187f37f1df7 button.colab-df-convert');\n",
              "        buttonEl.style.display =\n",
              "          google.colab.kernel.accessAllowed ? 'block' : 'none';\n",
              "\n",
              "        async function convertToInteractive(key) {\n",
              "          const element = document.querySelector('#df-b67e216b-adb3-47d5-b1ea-e187f37f1df7');\n",
              "          const dataTable =\n",
              "            await google.colab.kernel.invokeFunction('convertToInteractive',\n",
              "                                                     [key], {});\n",
              "          if (!dataTable) return;\n",
              "\n",
              "          const docLinkHtml = 'Like what you see? Visit the ' +\n",
              "            '<a target=\"_blank\" href=https://colab.research.google.com/notebooks/data_table.ipynb>data table notebook</a>'\n",
              "            + ' to learn more about interactive tables.';\n",
              "          element.innerHTML = '';\n",
              "          dataTable['output_type'] = 'display_data';\n",
              "          await google.colab.output.renderOutput(dataTable, element);\n",
              "          const docLink = document.createElement('div');\n",
              "          docLink.innerHTML = docLinkHtml;\n",
              "          element.appendChild(docLink);\n",
              "        }\n",
              "      </script>\n",
              "    </div>\n",
              "  </div>\n",
              "  "
            ]
          },
          "metadata": {},
          "execution_count": 105
        }
      ],
      "source": [
        "# применим фреймворк ICE для приоритизации гипотез\n",
        "data['ICE'] = round(data['impact'] * data['confidence'] / data['efforts'])\n",
        "\n",
        "data[['hypothesis','ICE']].sort_values(by='ICE', ascending=False)"
      ]
    },
    {
      "cell_type": "code",
      "execution_count": 106,
      "metadata": {
        "colab": {
          "base_uri": "https://localhost:8080/",
          "height": 332
        },
        "id": "MiF-9UJ3fSXU",
        "outputId": "87d877cb-5c59-4ee3-a6cc-092a26973bf8"
      },
      "outputs": [
        {
          "output_type": "execute_result",
          "data": {
            "text/plain": [
              "                                          hypothesis   RICE\n",
              "7  Добавить форму подписки на все основные страни...  112.0\n",
              "2  Добавить блоки рекомендаций товаров на сайт ин...   56.0\n",
              "0  Добавить два новых канала привлечения трафика,...   40.0\n",
              "6  Показать на главной странице баннеры с актуаль...   40.0\n",
              "8  Запустить акцию, дающую скидку на товар в день...   16.2\n",
              "3  Изменить структура категорий, что увеличит кон...    9.0\n",
              "1  Запустить собственную службу доставки, что сок...    4.0\n",
              "5  Добавить страницу отзывов клиентов о магазине,...    4.0\n",
              "4  Изменить цвет фона главной страницы, чтобы уве...    3.0"
            ],
            "text/html": [
              "\n",
              "  <div id=\"df-38d92dbf-2e43-4a5c-978f-8f124dae8d4a\">\n",
              "    <div class=\"colab-df-container\">\n",
              "      <div>\n",
              "<style scoped>\n",
              "    .dataframe tbody tr th:only-of-type {\n",
              "        vertical-align: middle;\n",
              "    }\n",
              "\n",
              "    .dataframe tbody tr th {\n",
              "        vertical-align: top;\n",
              "    }\n",
              "\n",
              "    .dataframe thead th {\n",
              "        text-align: right;\n",
              "    }\n",
              "</style>\n",
              "<table border=\"1\" class=\"dataframe\">\n",
              "  <thead>\n",
              "    <tr style=\"text-align: right;\">\n",
              "      <th></th>\n",
              "      <th>hypothesis</th>\n",
              "      <th>RICE</th>\n",
              "    </tr>\n",
              "  </thead>\n",
              "  <tbody>\n",
              "    <tr>\n",
              "      <th>7</th>\n",
              "      <td>Добавить форму подписки на все основные страни...</td>\n",
              "      <td>112.0</td>\n",
              "    </tr>\n",
              "    <tr>\n",
              "      <th>2</th>\n",
              "      <td>Добавить блоки рекомендаций товаров на сайт ин...</td>\n",
              "      <td>56.0</td>\n",
              "    </tr>\n",
              "    <tr>\n",
              "      <th>0</th>\n",
              "      <td>Добавить два новых канала привлечения трафика,...</td>\n",
              "      <td>40.0</td>\n",
              "    </tr>\n",
              "    <tr>\n",
              "      <th>6</th>\n",
              "      <td>Показать на главной странице баннеры с актуаль...</td>\n",
              "      <td>40.0</td>\n",
              "    </tr>\n",
              "    <tr>\n",
              "      <th>8</th>\n",
              "      <td>Запустить акцию, дающую скидку на товар в день...</td>\n",
              "      <td>16.2</td>\n",
              "    </tr>\n",
              "    <tr>\n",
              "      <th>3</th>\n",
              "      <td>Изменить структура категорий, что увеличит кон...</td>\n",
              "      <td>9.0</td>\n",
              "    </tr>\n",
              "    <tr>\n",
              "      <th>1</th>\n",
              "      <td>Запустить собственную службу доставки, что сок...</td>\n",
              "      <td>4.0</td>\n",
              "    </tr>\n",
              "    <tr>\n",
              "      <th>5</th>\n",
              "      <td>Добавить страницу отзывов клиентов о магазине,...</td>\n",
              "      <td>4.0</td>\n",
              "    </tr>\n",
              "    <tr>\n",
              "      <th>4</th>\n",
              "      <td>Изменить цвет фона главной страницы, чтобы уве...</td>\n",
              "      <td>3.0</td>\n",
              "    </tr>\n",
              "  </tbody>\n",
              "</table>\n",
              "</div>\n",
              "      <button class=\"colab-df-convert\" onclick=\"convertToInteractive('df-38d92dbf-2e43-4a5c-978f-8f124dae8d4a')\"\n",
              "              title=\"Convert this dataframe to an interactive table.\"\n",
              "              style=\"display:none;\">\n",
              "        \n",
              "  <svg xmlns=\"http://www.w3.org/2000/svg\" height=\"24px\"viewBox=\"0 0 24 24\"\n",
              "       width=\"24px\">\n",
              "    <path d=\"M0 0h24v24H0V0z\" fill=\"none\"/>\n",
              "    <path d=\"M18.56 5.44l.94 2.06.94-2.06 2.06-.94-2.06-.94-.94-2.06-.94 2.06-2.06.94zm-11 1L8.5 8.5l.94-2.06 2.06-.94-2.06-.94L8.5 2.5l-.94 2.06-2.06.94zm10 10l.94 2.06.94-2.06 2.06-.94-2.06-.94-.94-2.06-.94 2.06-2.06.94z\"/><path d=\"M17.41 7.96l-1.37-1.37c-.4-.4-.92-.59-1.43-.59-.52 0-1.04.2-1.43.59L10.3 9.45l-7.72 7.72c-.78.78-.78 2.05 0 2.83L4 21.41c.39.39.9.59 1.41.59.51 0 1.02-.2 1.41-.59l7.78-7.78 2.81-2.81c.8-.78.8-2.07 0-2.86zM5.41 20L4 18.59l7.72-7.72 1.47 1.35L5.41 20z\"/>\n",
              "  </svg>\n",
              "      </button>\n",
              "      \n",
              "  <style>\n",
              "    .colab-df-container {\n",
              "      display:flex;\n",
              "      flex-wrap:wrap;\n",
              "      gap: 12px;\n",
              "    }\n",
              "\n",
              "    .colab-df-convert {\n",
              "      background-color: #E8F0FE;\n",
              "      border: none;\n",
              "      border-radius: 50%;\n",
              "      cursor: pointer;\n",
              "      display: none;\n",
              "      fill: #1967D2;\n",
              "      height: 32px;\n",
              "      padding: 0 0 0 0;\n",
              "      width: 32px;\n",
              "    }\n",
              "\n",
              "    .colab-df-convert:hover {\n",
              "      background-color: #E2EBFA;\n",
              "      box-shadow: 0px 1px 2px rgba(60, 64, 67, 0.3), 0px 1px 3px 1px rgba(60, 64, 67, 0.15);\n",
              "      fill: #174EA6;\n",
              "    }\n",
              "\n",
              "    [theme=dark] .colab-df-convert {\n",
              "      background-color: #3B4455;\n",
              "      fill: #D2E3FC;\n",
              "    }\n",
              "\n",
              "    [theme=dark] .colab-df-convert:hover {\n",
              "      background-color: #434B5C;\n",
              "      box-shadow: 0px 1px 3px 1px rgba(0, 0, 0, 0.15);\n",
              "      filter: drop-shadow(0px 1px 2px rgba(0, 0, 0, 0.3));\n",
              "      fill: #FFFFFF;\n",
              "    }\n",
              "  </style>\n",
              "\n",
              "      <script>\n",
              "        const buttonEl =\n",
              "          document.querySelector('#df-38d92dbf-2e43-4a5c-978f-8f124dae8d4a button.colab-df-convert');\n",
              "        buttonEl.style.display =\n",
              "          google.colab.kernel.accessAllowed ? 'block' : 'none';\n",
              "\n",
              "        async function convertToInteractive(key) {\n",
              "          const element = document.querySelector('#df-38d92dbf-2e43-4a5c-978f-8f124dae8d4a');\n",
              "          const dataTable =\n",
              "            await google.colab.kernel.invokeFunction('convertToInteractive',\n",
              "                                                     [key], {});\n",
              "          if (!dataTable) return;\n",
              "\n",
              "          const docLinkHtml = 'Like what you see? Visit the ' +\n",
              "            '<a target=\"_blank\" href=https://colab.research.google.com/notebooks/data_table.ipynb>data table notebook</a>'\n",
              "            + ' to learn more about interactive tables.';\n",
              "          element.innerHTML = '';\n",
              "          dataTable['output_type'] = 'display_data';\n",
              "          await google.colab.output.renderOutput(dataTable, element);\n",
              "          const docLink = document.createElement('div');\n",
              "          docLink.innerHTML = docLinkHtml;\n",
              "          element.appendChild(docLink);\n",
              "        }\n",
              "      </script>\n",
              "    </div>\n",
              "  </div>\n",
              "  "
            ]
          },
          "metadata": {},
          "execution_count": 106
        }
      ],
      "source": [
        "# применим фреймворк RICE для приоритизации гипотез\n",
        "data['RICE'] = data['reach'] * data['impact'] * data['confidence'] / data['efforts']\n",
        "\n",
        "data[['hypothesis','RICE']].sort_values(by='RICE', ascending=False)"
      ]
    },
    {
      "cell_type": "code",
      "execution_count": 107,
      "metadata": {
        "colab": {
          "base_uri": "https://localhost:8080/",
          "height": 332
        },
        "id": "V3WKqJQAfSXV",
        "outputId": "1be44aac-adaf-44c8-8820-5c3e4fa3b4bf"
      },
      "outputs": [
        {
          "output_type": "execute_result",
          "data": {
            "text/plain": [
              "                                          hypothesis   ICE   RICE\n",
              "8  Запустить акцию, дающую скидку на товар в день...  16.0   16.2\n",
              "0  Добавить два новых канала привлечения трафика,...  13.0   40.0\n",
              "7  Добавить форму подписки на все основные страни...  11.0  112.0\n",
              "6  Показать на главной странице баннеры с актуаль...   8.0   40.0\n",
              "2  Добавить блоки рекомендаций товаров на сайт ин...   7.0   56.0\n",
              "1  Запустить собственную службу доставки, что сок...   2.0    4.0\n",
              "3  Изменить структура категорий, что увеличит кон...   1.0    9.0\n",
              "4  Изменить цвет фона главной страницы, чтобы уве...   1.0    3.0\n",
              "5  Добавить страницу отзывов клиентов о магазине,...   1.0    4.0"
            ],
            "text/html": [
              "\n",
              "  <div id=\"df-cbffd884-a9c1-466e-99d9-9defd1a5178a\">\n",
              "    <div class=\"colab-df-container\">\n",
              "      <div>\n",
              "<style scoped>\n",
              "    .dataframe tbody tr th:only-of-type {\n",
              "        vertical-align: middle;\n",
              "    }\n",
              "\n",
              "    .dataframe tbody tr th {\n",
              "        vertical-align: top;\n",
              "    }\n",
              "\n",
              "    .dataframe thead th {\n",
              "        text-align: right;\n",
              "    }\n",
              "</style>\n",
              "<table border=\"1\" class=\"dataframe\">\n",
              "  <thead>\n",
              "    <tr style=\"text-align: right;\">\n",
              "      <th></th>\n",
              "      <th>hypothesis</th>\n",
              "      <th>ICE</th>\n",
              "      <th>RICE</th>\n",
              "    </tr>\n",
              "  </thead>\n",
              "  <tbody>\n",
              "    <tr>\n",
              "      <th>8</th>\n",
              "      <td>Запустить акцию, дающую скидку на товар в день...</td>\n",
              "      <td>16.0</td>\n",
              "      <td>16.2</td>\n",
              "    </tr>\n",
              "    <tr>\n",
              "      <th>0</th>\n",
              "      <td>Добавить два новых канала привлечения трафика,...</td>\n",
              "      <td>13.0</td>\n",
              "      <td>40.0</td>\n",
              "    </tr>\n",
              "    <tr>\n",
              "      <th>7</th>\n",
              "      <td>Добавить форму подписки на все основные страни...</td>\n",
              "      <td>11.0</td>\n",
              "      <td>112.0</td>\n",
              "    </tr>\n",
              "    <tr>\n",
              "      <th>6</th>\n",
              "      <td>Показать на главной странице баннеры с актуаль...</td>\n",
              "      <td>8.0</td>\n",
              "      <td>40.0</td>\n",
              "    </tr>\n",
              "    <tr>\n",
              "      <th>2</th>\n",
              "      <td>Добавить блоки рекомендаций товаров на сайт ин...</td>\n",
              "      <td>7.0</td>\n",
              "      <td>56.0</td>\n",
              "    </tr>\n",
              "    <tr>\n",
              "      <th>1</th>\n",
              "      <td>Запустить собственную службу доставки, что сок...</td>\n",
              "      <td>2.0</td>\n",
              "      <td>4.0</td>\n",
              "    </tr>\n",
              "    <tr>\n",
              "      <th>3</th>\n",
              "      <td>Изменить структура категорий, что увеличит кон...</td>\n",
              "      <td>1.0</td>\n",
              "      <td>9.0</td>\n",
              "    </tr>\n",
              "    <tr>\n",
              "      <th>4</th>\n",
              "      <td>Изменить цвет фона главной страницы, чтобы уве...</td>\n",
              "      <td>1.0</td>\n",
              "      <td>3.0</td>\n",
              "    </tr>\n",
              "    <tr>\n",
              "      <th>5</th>\n",
              "      <td>Добавить страницу отзывов клиентов о магазине,...</td>\n",
              "      <td>1.0</td>\n",
              "      <td>4.0</td>\n",
              "    </tr>\n",
              "  </tbody>\n",
              "</table>\n",
              "</div>\n",
              "      <button class=\"colab-df-convert\" onclick=\"convertToInteractive('df-cbffd884-a9c1-466e-99d9-9defd1a5178a')\"\n",
              "              title=\"Convert this dataframe to an interactive table.\"\n",
              "              style=\"display:none;\">\n",
              "        \n",
              "  <svg xmlns=\"http://www.w3.org/2000/svg\" height=\"24px\"viewBox=\"0 0 24 24\"\n",
              "       width=\"24px\">\n",
              "    <path d=\"M0 0h24v24H0V0z\" fill=\"none\"/>\n",
              "    <path d=\"M18.56 5.44l.94 2.06.94-2.06 2.06-.94-2.06-.94-.94-2.06-.94 2.06-2.06.94zm-11 1L8.5 8.5l.94-2.06 2.06-.94-2.06-.94L8.5 2.5l-.94 2.06-2.06.94zm10 10l.94 2.06.94-2.06 2.06-.94-2.06-.94-.94-2.06-.94 2.06-2.06.94z\"/><path d=\"M17.41 7.96l-1.37-1.37c-.4-.4-.92-.59-1.43-.59-.52 0-1.04.2-1.43.59L10.3 9.45l-7.72 7.72c-.78.78-.78 2.05 0 2.83L4 21.41c.39.39.9.59 1.41.59.51 0 1.02-.2 1.41-.59l7.78-7.78 2.81-2.81c.8-.78.8-2.07 0-2.86zM5.41 20L4 18.59l7.72-7.72 1.47 1.35L5.41 20z\"/>\n",
              "  </svg>\n",
              "      </button>\n",
              "      \n",
              "  <style>\n",
              "    .colab-df-container {\n",
              "      display:flex;\n",
              "      flex-wrap:wrap;\n",
              "      gap: 12px;\n",
              "    }\n",
              "\n",
              "    .colab-df-convert {\n",
              "      background-color: #E8F0FE;\n",
              "      border: none;\n",
              "      border-radius: 50%;\n",
              "      cursor: pointer;\n",
              "      display: none;\n",
              "      fill: #1967D2;\n",
              "      height: 32px;\n",
              "      padding: 0 0 0 0;\n",
              "      width: 32px;\n",
              "    }\n",
              "\n",
              "    .colab-df-convert:hover {\n",
              "      background-color: #E2EBFA;\n",
              "      box-shadow: 0px 1px 2px rgba(60, 64, 67, 0.3), 0px 1px 3px 1px rgba(60, 64, 67, 0.15);\n",
              "      fill: #174EA6;\n",
              "    }\n",
              "\n",
              "    [theme=dark] .colab-df-convert {\n",
              "      background-color: #3B4455;\n",
              "      fill: #D2E3FC;\n",
              "    }\n",
              "\n",
              "    [theme=dark] .colab-df-convert:hover {\n",
              "      background-color: #434B5C;\n",
              "      box-shadow: 0px 1px 3px 1px rgba(0, 0, 0, 0.15);\n",
              "      filter: drop-shadow(0px 1px 2px rgba(0, 0, 0, 0.3));\n",
              "      fill: #FFFFFF;\n",
              "    }\n",
              "  </style>\n",
              "\n",
              "      <script>\n",
              "        const buttonEl =\n",
              "          document.querySelector('#df-cbffd884-a9c1-466e-99d9-9defd1a5178a button.colab-df-convert');\n",
              "        buttonEl.style.display =\n",
              "          google.colab.kernel.accessAllowed ? 'block' : 'none';\n",
              "\n",
              "        async function convertToInteractive(key) {\n",
              "          const element = document.querySelector('#df-cbffd884-a9c1-466e-99d9-9defd1a5178a');\n",
              "          const dataTable =\n",
              "            await google.colab.kernel.invokeFunction('convertToInteractive',\n",
              "                                                     [key], {});\n",
              "          if (!dataTable) return;\n",
              "\n",
              "          const docLinkHtml = 'Like what you see? Visit the ' +\n",
              "            '<a target=\"_blank\" href=https://colab.research.google.com/notebooks/data_table.ipynb>data table notebook</a>'\n",
              "            + ' to learn more about interactive tables.';\n",
              "          element.innerHTML = '';\n",
              "          dataTable['output_type'] = 'display_data';\n",
              "          await google.colab.output.renderOutput(dataTable, element);\n",
              "          const docLink = document.createElement('div');\n",
              "          docLink.innerHTML = docLinkHtml;\n",
              "          element.appendChild(docLink);\n",
              "        }\n",
              "      </script>\n",
              "    </div>\n",
              "  </div>\n",
              "  "
            ]
          },
          "metadata": {},
          "execution_count": 107
        }
      ],
      "source": [
        "# сравним ICE и RICE в одной таблице\n",
        "data[['hypothesis','ICE', 'RICE']].sort_values(by='ICE', ascending=False) # фильтрация по ICE"
      ]
    },
    {
      "cell_type": "code",
      "execution_count": 108,
      "metadata": {
        "colab": {
          "base_uri": "https://localhost:8080/",
          "height": 332
        },
        "id": "xz2gDXpYfSXV",
        "outputId": "0a04a4ad-39cb-4958-9324-c6f24611c103"
      },
      "outputs": [
        {
          "output_type": "execute_result",
          "data": {
            "text/plain": [
              "                                          hypothesis   ICE   RICE\n",
              "7  Добавить форму подписки на все основные страни...  11.0  112.0\n",
              "2  Добавить блоки рекомендаций товаров на сайт ин...   7.0   56.0\n",
              "0  Добавить два новых канала привлечения трафика,...  13.0   40.0\n",
              "6  Показать на главной странице баннеры с актуаль...   8.0   40.0\n",
              "8  Запустить акцию, дающую скидку на товар в день...  16.0   16.2\n",
              "3  Изменить структура категорий, что увеличит кон...   1.0    9.0\n",
              "1  Запустить собственную службу доставки, что сок...   2.0    4.0\n",
              "5  Добавить страницу отзывов клиентов о магазине,...   1.0    4.0\n",
              "4  Изменить цвет фона главной страницы, чтобы уве...   1.0    3.0"
            ],
            "text/html": [
              "\n",
              "  <div id=\"df-1779c1ac-8e5a-476a-9403-f355861ee0b6\">\n",
              "    <div class=\"colab-df-container\">\n",
              "      <div>\n",
              "<style scoped>\n",
              "    .dataframe tbody tr th:only-of-type {\n",
              "        vertical-align: middle;\n",
              "    }\n",
              "\n",
              "    .dataframe tbody tr th {\n",
              "        vertical-align: top;\n",
              "    }\n",
              "\n",
              "    .dataframe thead th {\n",
              "        text-align: right;\n",
              "    }\n",
              "</style>\n",
              "<table border=\"1\" class=\"dataframe\">\n",
              "  <thead>\n",
              "    <tr style=\"text-align: right;\">\n",
              "      <th></th>\n",
              "      <th>hypothesis</th>\n",
              "      <th>ICE</th>\n",
              "      <th>RICE</th>\n",
              "    </tr>\n",
              "  </thead>\n",
              "  <tbody>\n",
              "    <tr>\n",
              "      <th>7</th>\n",
              "      <td>Добавить форму подписки на все основные страни...</td>\n",
              "      <td>11.0</td>\n",
              "      <td>112.0</td>\n",
              "    </tr>\n",
              "    <tr>\n",
              "      <th>2</th>\n",
              "      <td>Добавить блоки рекомендаций товаров на сайт ин...</td>\n",
              "      <td>7.0</td>\n",
              "      <td>56.0</td>\n",
              "    </tr>\n",
              "    <tr>\n",
              "      <th>0</th>\n",
              "      <td>Добавить два новых канала привлечения трафика,...</td>\n",
              "      <td>13.0</td>\n",
              "      <td>40.0</td>\n",
              "    </tr>\n",
              "    <tr>\n",
              "      <th>6</th>\n",
              "      <td>Показать на главной странице баннеры с актуаль...</td>\n",
              "      <td>8.0</td>\n",
              "      <td>40.0</td>\n",
              "    </tr>\n",
              "    <tr>\n",
              "      <th>8</th>\n",
              "      <td>Запустить акцию, дающую скидку на товар в день...</td>\n",
              "      <td>16.0</td>\n",
              "      <td>16.2</td>\n",
              "    </tr>\n",
              "    <tr>\n",
              "      <th>3</th>\n",
              "      <td>Изменить структура категорий, что увеличит кон...</td>\n",
              "      <td>1.0</td>\n",
              "      <td>9.0</td>\n",
              "    </tr>\n",
              "    <tr>\n",
              "      <th>1</th>\n",
              "      <td>Запустить собственную службу доставки, что сок...</td>\n",
              "      <td>2.0</td>\n",
              "      <td>4.0</td>\n",
              "    </tr>\n",
              "    <tr>\n",
              "      <th>5</th>\n",
              "      <td>Добавить страницу отзывов клиентов о магазине,...</td>\n",
              "      <td>1.0</td>\n",
              "      <td>4.0</td>\n",
              "    </tr>\n",
              "    <tr>\n",
              "      <th>4</th>\n",
              "      <td>Изменить цвет фона главной страницы, чтобы уве...</td>\n",
              "      <td>1.0</td>\n",
              "      <td>3.0</td>\n",
              "    </tr>\n",
              "  </tbody>\n",
              "</table>\n",
              "</div>\n",
              "      <button class=\"colab-df-convert\" onclick=\"convertToInteractive('df-1779c1ac-8e5a-476a-9403-f355861ee0b6')\"\n",
              "              title=\"Convert this dataframe to an interactive table.\"\n",
              "              style=\"display:none;\">\n",
              "        \n",
              "  <svg xmlns=\"http://www.w3.org/2000/svg\" height=\"24px\"viewBox=\"0 0 24 24\"\n",
              "       width=\"24px\">\n",
              "    <path d=\"M0 0h24v24H0V0z\" fill=\"none\"/>\n",
              "    <path d=\"M18.56 5.44l.94 2.06.94-2.06 2.06-.94-2.06-.94-.94-2.06-.94 2.06-2.06.94zm-11 1L8.5 8.5l.94-2.06 2.06-.94-2.06-.94L8.5 2.5l-.94 2.06-2.06.94zm10 10l.94 2.06.94-2.06 2.06-.94-2.06-.94-.94-2.06-.94 2.06-2.06.94z\"/><path d=\"M17.41 7.96l-1.37-1.37c-.4-.4-.92-.59-1.43-.59-.52 0-1.04.2-1.43.59L10.3 9.45l-7.72 7.72c-.78.78-.78 2.05 0 2.83L4 21.41c.39.39.9.59 1.41.59.51 0 1.02-.2 1.41-.59l7.78-7.78 2.81-2.81c.8-.78.8-2.07 0-2.86zM5.41 20L4 18.59l7.72-7.72 1.47 1.35L5.41 20z\"/>\n",
              "  </svg>\n",
              "      </button>\n",
              "      \n",
              "  <style>\n",
              "    .colab-df-container {\n",
              "      display:flex;\n",
              "      flex-wrap:wrap;\n",
              "      gap: 12px;\n",
              "    }\n",
              "\n",
              "    .colab-df-convert {\n",
              "      background-color: #E8F0FE;\n",
              "      border: none;\n",
              "      border-radius: 50%;\n",
              "      cursor: pointer;\n",
              "      display: none;\n",
              "      fill: #1967D2;\n",
              "      height: 32px;\n",
              "      padding: 0 0 0 0;\n",
              "      width: 32px;\n",
              "    }\n",
              "\n",
              "    .colab-df-convert:hover {\n",
              "      background-color: #E2EBFA;\n",
              "      box-shadow: 0px 1px 2px rgba(60, 64, 67, 0.3), 0px 1px 3px 1px rgba(60, 64, 67, 0.15);\n",
              "      fill: #174EA6;\n",
              "    }\n",
              "\n",
              "    [theme=dark] .colab-df-convert {\n",
              "      background-color: #3B4455;\n",
              "      fill: #D2E3FC;\n",
              "    }\n",
              "\n",
              "    [theme=dark] .colab-df-convert:hover {\n",
              "      background-color: #434B5C;\n",
              "      box-shadow: 0px 1px 3px 1px rgba(0, 0, 0, 0.15);\n",
              "      filter: drop-shadow(0px 1px 2px rgba(0, 0, 0, 0.3));\n",
              "      fill: #FFFFFF;\n",
              "    }\n",
              "  </style>\n",
              "\n",
              "      <script>\n",
              "        const buttonEl =\n",
              "          document.querySelector('#df-1779c1ac-8e5a-476a-9403-f355861ee0b6 button.colab-df-convert');\n",
              "        buttonEl.style.display =\n",
              "          google.colab.kernel.accessAllowed ? 'block' : 'none';\n",
              "\n",
              "        async function convertToInteractive(key) {\n",
              "          const element = document.querySelector('#df-1779c1ac-8e5a-476a-9403-f355861ee0b6');\n",
              "          const dataTable =\n",
              "            await google.colab.kernel.invokeFunction('convertToInteractive',\n",
              "                                                     [key], {});\n",
              "          if (!dataTable) return;\n",
              "\n",
              "          const docLinkHtml = 'Like what you see? Visit the ' +\n",
              "            '<a target=\"_blank\" href=https://colab.research.google.com/notebooks/data_table.ipynb>data table notebook</a>'\n",
              "            + ' to learn more about interactive tables.';\n",
              "          element.innerHTML = '';\n",
              "          dataTable['output_type'] = 'display_data';\n",
              "          await google.colab.output.renderOutput(dataTable, element);\n",
              "          const docLink = document.createElement('div');\n",
              "          docLink.innerHTML = docLinkHtml;\n",
              "          element.appendChild(docLink);\n",
              "        }\n",
              "      </script>\n",
              "    </div>\n",
              "  </div>\n",
              "  "
            ]
          },
          "metadata": {},
          "execution_count": 108
        }
      ],
      "source": [
        "data[['hypothesis','ICE', 'RICE']].sort_values(by='RICE', ascending=False) # фильтрация по RICE"
      ]
    },
    {
      "cell_type": "markdown",
      "metadata": {
        "id": "D_mOmuYMfSXW"
      },
      "source": [
        "### Вывод\n",
        "После применения фреймворков гипотезы получили разный приоритет. Совершенно точно исключаются последние четыре гипотезы: номер 1, 3, 4 и 5, набравшие меньше всего баллов в обоих случаях.\n",
        "\n",
        "Однако топ-5 для ICE и RICE выглядит совершенно по-разному благодаря влиянию параметра Reach. Восьмая гипотеза, занявшее первое место во фреймворке ICE, занимает лишь место в RICE, т.к. балл ее охвата лишь единица. Седьмая же гипотеза занимает уверенное первое место в  RICE, хотя была лишь на третьем в ICE. \n",
        "\n",
        "В целом, следующие гипотезы могут быть использованы для проверки: номер семь, ноль, шесть и два.\n",
        "У гипотезы номер восемь очень низкий балл по охвату - один."
      ]
    },
    {
      "cell_type": "markdown",
      "metadata": {
        "id": "a0qg0S2-fSXW"
      },
      "source": [
        "## 2. Анализ A/B-теста\n",
        "<a name=\"ab_test\"></a>"
      ]
    },
    {
      "cell_type": "markdown",
      "metadata": {
        "id": "EDZTN5sBfSXW"
      },
      "source": [
        "### Задача\n",
        "Проанализируйте A/B-тест:\n",
        "* Постройте график кумулятивной выручки по группам. Сделайте выводы и предположения.\n",
        "* Постройте график кумулятивного среднего чека по группам. Сделайте выводы и предположения.\n",
        "* Постройте график относительного изменения кумулятивного среднего чека группы B к группе A. Сделайте выводы и предположения.\n",
        "* Постройте график кумулятивной конверсии по группам. Сделайте выводы и предположения.\n",
        "* Постройте график относительного изменения кумулятивной конверсии группы B к группе A. Сделайте выводы и предположения.\n",
        "* Постройте точечный график количества заказов по пользователям. Сделайте выводы и предположения.\n",
        "* Посчитайте 95-й и 99-й перцентили количества заказов на пользователя. Выберите границу для определения аномальных пользователей.\n",
        "* Постройте точечный график стоимостей заказов. Сделайте выводы и предположения.\n",
        "* Посчитайте 95-й и 99-й перцентили стоимости заказов. Выберите границу для определения аномальных заказов.\n",
        "* Посчитайте статистическую значимость различий в конверсии между группами по «сырым» данным. Сделайте выводы и предположения.\n",
        "* Посчитайте статистическую значимость различий в среднем чеке заказа между группами по «сырым» данным. Сделайте выводы и предположения.\n",
        "* Посчитайте статистическую значимость различий в конверсии между группами по «очищенным» данным. Сделайте выводы и предположения.\n",
        "* Посчитайте статистическую значимость различий в среднем чеке заказа между группами по «очищенным» данным. Сделайте выводы и предположения.\n",
        "* Примите решение по результатам теста и объясните его. \n",
        "\n",
        "     Варианты решений: \n",
        "  1. Остановить тест, зафиксировать победу одной из групп. \n",
        "  2. Остановить тест, зафиксировать отсутствие различий между группами. \n",
        "  3. Продолжить тест."
      ]
    },
    {
      "cell_type": "code",
      "execution_count": 109,
      "metadata": {
        "colab": {
          "base_uri": "https://localhost:8080/",
          "height": 395
        },
        "id": "-vYJDgvSfSXX",
        "outputId": "8b6ff5a7-4ce4-47aa-b9ee-7fc3a3d6c991"
      },
      "outputs": [
        {
          "output_type": "display_data",
          "data": {
            "text/plain": [
              "   transactionId   visitorId        date  revenue group\n",
              "0     3667963787  3312258926  2019-08-15     1650     B\n",
              "1     2804400009  3642806036  2019-08-15      730     B\n",
              "2     2961555356  4069496402  2019-08-15      400     A\n",
              "3     3797467345  1196621759  2019-08-15     9759     B\n",
              "4     2282983706  2322279887  2019-08-15     2308     B"
            ],
            "text/html": [
              "\n",
              "  <div id=\"df-1b399f43-1eca-4306-9e5a-246519ab44d3\">\n",
              "    <div class=\"colab-df-container\">\n",
              "      <div>\n",
              "<style scoped>\n",
              "    .dataframe tbody tr th:only-of-type {\n",
              "        vertical-align: middle;\n",
              "    }\n",
              "\n",
              "    .dataframe tbody tr th {\n",
              "        vertical-align: top;\n",
              "    }\n",
              "\n",
              "    .dataframe thead th {\n",
              "        text-align: right;\n",
              "    }\n",
              "</style>\n",
              "<table border=\"1\" class=\"dataframe\">\n",
              "  <thead>\n",
              "    <tr style=\"text-align: right;\">\n",
              "      <th></th>\n",
              "      <th>transactionId</th>\n",
              "      <th>visitorId</th>\n",
              "      <th>date</th>\n",
              "      <th>revenue</th>\n",
              "      <th>group</th>\n",
              "    </tr>\n",
              "  </thead>\n",
              "  <tbody>\n",
              "    <tr>\n",
              "      <th>0</th>\n",
              "      <td>3667963787</td>\n",
              "      <td>3312258926</td>\n",
              "      <td>2019-08-15</td>\n",
              "      <td>1650</td>\n",
              "      <td>B</td>\n",
              "    </tr>\n",
              "    <tr>\n",
              "      <th>1</th>\n",
              "      <td>2804400009</td>\n",
              "      <td>3642806036</td>\n",
              "      <td>2019-08-15</td>\n",
              "      <td>730</td>\n",
              "      <td>B</td>\n",
              "    </tr>\n",
              "    <tr>\n",
              "      <th>2</th>\n",
              "      <td>2961555356</td>\n",
              "      <td>4069496402</td>\n",
              "      <td>2019-08-15</td>\n",
              "      <td>400</td>\n",
              "      <td>A</td>\n",
              "    </tr>\n",
              "    <tr>\n",
              "      <th>3</th>\n",
              "      <td>3797467345</td>\n",
              "      <td>1196621759</td>\n",
              "      <td>2019-08-15</td>\n",
              "      <td>9759</td>\n",
              "      <td>B</td>\n",
              "    </tr>\n",
              "    <tr>\n",
              "      <th>4</th>\n",
              "      <td>2282983706</td>\n",
              "      <td>2322279887</td>\n",
              "      <td>2019-08-15</td>\n",
              "      <td>2308</td>\n",
              "      <td>B</td>\n",
              "    </tr>\n",
              "  </tbody>\n",
              "</table>\n",
              "</div>\n",
              "      <button class=\"colab-df-convert\" onclick=\"convertToInteractive('df-1b399f43-1eca-4306-9e5a-246519ab44d3')\"\n",
              "              title=\"Convert this dataframe to an interactive table.\"\n",
              "              style=\"display:none;\">\n",
              "        \n",
              "  <svg xmlns=\"http://www.w3.org/2000/svg\" height=\"24px\"viewBox=\"0 0 24 24\"\n",
              "       width=\"24px\">\n",
              "    <path d=\"M0 0h24v24H0V0z\" fill=\"none\"/>\n",
              "    <path d=\"M18.56 5.44l.94 2.06.94-2.06 2.06-.94-2.06-.94-.94-2.06-.94 2.06-2.06.94zm-11 1L8.5 8.5l.94-2.06 2.06-.94-2.06-.94L8.5 2.5l-.94 2.06-2.06.94zm10 10l.94 2.06.94-2.06 2.06-.94-2.06-.94-.94-2.06-.94 2.06-2.06.94z\"/><path d=\"M17.41 7.96l-1.37-1.37c-.4-.4-.92-.59-1.43-.59-.52 0-1.04.2-1.43.59L10.3 9.45l-7.72 7.72c-.78.78-.78 2.05 0 2.83L4 21.41c.39.39.9.59 1.41.59.51 0 1.02-.2 1.41-.59l7.78-7.78 2.81-2.81c.8-.78.8-2.07 0-2.86zM5.41 20L4 18.59l7.72-7.72 1.47 1.35L5.41 20z\"/>\n",
              "  </svg>\n",
              "      </button>\n",
              "      \n",
              "  <style>\n",
              "    .colab-df-container {\n",
              "      display:flex;\n",
              "      flex-wrap:wrap;\n",
              "      gap: 12px;\n",
              "    }\n",
              "\n",
              "    .colab-df-convert {\n",
              "      background-color: #E8F0FE;\n",
              "      border: none;\n",
              "      border-radius: 50%;\n",
              "      cursor: pointer;\n",
              "      display: none;\n",
              "      fill: #1967D2;\n",
              "      height: 32px;\n",
              "      padding: 0 0 0 0;\n",
              "      width: 32px;\n",
              "    }\n",
              "\n",
              "    .colab-df-convert:hover {\n",
              "      background-color: #E2EBFA;\n",
              "      box-shadow: 0px 1px 2px rgba(60, 64, 67, 0.3), 0px 1px 3px 1px rgba(60, 64, 67, 0.15);\n",
              "      fill: #174EA6;\n",
              "    }\n",
              "\n",
              "    [theme=dark] .colab-df-convert {\n",
              "      background-color: #3B4455;\n",
              "      fill: #D2E3FC;\n",
              "    }\n",
              "\n",
              "    [theme=dark] .colab-df-convert:hover {\n",
              "      background-color: #434B5C;\n",
              "      box-shadow: 0px 1px 3px 1px rgba(0, 0, 0, 0.15);\n",
              "      filter: drop-shadow(0px 1px 2px rgba(0, 0, 0, 0.3));\n",
              "      fill: #FFFFFF;\n",
              "    }\n",
              "  </style>\n",
              "\n",
              "      <script>\n",
              "        const buttonEl =\n",
              "          document.querySelector('#df-1b399f43-1eca-4306-9e5a-246519ab44d3 button.colab-df-convert');\n",
              "        buttonEl.style.display =\n",
              "          google.colab.kernel.accessAllowed ? 'block' : 'none';\n",
              "\n",
              "        async function convertToInteractive(key) {\n",
              "          const element = document.querySelector('#df-1b399f43-1eca-4306-9e5a-246519ab44d3');\n",
              "          const dataTable =\n",
              "            await google.colab.kernel.invokeFunction('convertToInteractive',\n",
              "                                                     [key], {});\n",
              "          if (!dataTable) return;\n",
              "\n",
              "          const docLinkHtml = 'Like what you see? Visit the ' +\n",
              "            '<a target=\"_blank\" href=https://colab.research.google.com/notebooks/data_table.ipynb>data table notebook</a>'\n",
              "            + ' to learn more about interactive tables.';\n",
              "          element.innerHTML = '';\n",
              "          dataTable['output_type'] = 'display_data';\n",
              "          await google.colab.output.renderOutput(dataTable, element);\n",
              "          const docLink = document.createElement('div');\n",
              "          docLink.innerHTML = docLinkHtml;\n",
              "          element.appendChild(docLink);\n",
              "        }\n",
              "      </script>\n",
              "    </div>\n",
              "  </div>\n",
              "  "
            ]
          },
          "metadata": {}
        },
        {
          "output_type": "execute_result",
          "data": {
            "text/plain": [
              "         date group  visitors\n",
              "0  2019-08-01     A       719\n",
              "1  2019-08-02     A       619\n",
              "2  2019-08-03     A       507\n",
              "3  2019-08-04     A       717\n",
              "4  2019-08-05     A       756"
            ],
            "text/html": [
              "\n",
              "  <div id=\"df-b45aa401-b332-41ef-93a2-847ddb3e8124\">\n",
              "    <div class=\"colab-df-container\">\n",
              "      <div>\n",
              "<style scoped>\n",
              "    .dataframe tbody tr th:only-of-type {\n",
              "        vertical-align: middle;\n",
              "    }\n",
              "\n",
              "    .dataframe tbody tr th {\n",
              "        vertical-align: top;\n",
              "    }\n",
              "\n",
              "    .dataframe thead th {\n",
              "        text-align: right;\n",
              "    }\n",
              "</style>\n",
              "<table border=\"1\" class=\"dataframe\">\n",
              "  <thead>\n",
              "    <tr style=\"text-align: right;\">\n",
              "      <th></th>\n",
              "      <th>date</th>\n",
              "      <th>group</th>\n",
              "      <th>visitors</th>\n",
              "    </tr>\n",
              "  </thead>\n",
              "  <tbody>\n",
              "    <tr>\n",
              "      <th>0</th>\n",
              "      <td>2019-08-01</td>\n",
              "      <td>A</td>\n",
              "      <td>719</td>\n",
              "    </tr>\n",
              "    <tr>\n",
              "      <th>1</th>\n",
              "      <td>2019-08-02</td>\n",
              "      <td>A</td>\n",
              "      <td>619</td>\n",
              "    </tr>\n",
              "    <tr>\n",
              "      <th>2</th>\n",
              "      <td>2019-08-03</td>\n",
              "      <td>A</td>\n",
              "      <td>507</td>\n",
              "    </tr>\n",
              "    <tr>\n",
              "      <th>3</th>\n",
              "      <td>2019-08-04</td>\n",
              "      <td>A</td>\n",
              "      <td>717</td>\n",
              "    </tr>\n",
              "    <tr>\n",
              "      <th>4</th>\n",
              "      <td>2019-08-05</td>\n",
              "      <td>A</td>\n",
              "      <td>756</td>\n",
              "    </tr>\n",
              "  </tbody>\n",
              "</table>\n",
              "</div>\n",
              "      <button class=\"colab-df-convert\" onclick=\"convertToInteractive('df-b45aa401-b332-41ef-93a2-847ddb3e8124')\"\n",
              "              title=\"Convert this dataframe to an interactive table.\"\n",
              "              style=\"display:none;\">\n",
              "        \n",
              "  <svg xmlns=\"http://www.w3.org/2000/svg\" height=\"24px\"viewBox=\"0 0 24 24\"\n",
              "       width=\"24px\">\n",
              "    <path d=\"M0 0h24v24H0V0z\" fill=\"none\"/>\n",
              "    <path d=\"M18.56 5.44l.94 2.06.94-2.06 2.06-.94-2.06-.94-.94-2.06-.94 2.06-2.06.94zm-11 1L8.5 8.5l.94-2.06 2.06-.94-2.06-.94L8.5 2.5l-.94 2.06-2.06.94zm10 10l.94 2.06.94-2.06 2.06-.94-2.06-.94-.94-2.06-.94 2.06-2.06.94z\"/><path d=\"M17.41 7.96l-1.37-1.37c-.4-.4-.92-.59-1.43-.59-.52 0-1.04.2-1.43.59L10.3 9.45l-7.72 7.72c-.78.78-.78 2.05 0 2.83L4 21.41c.39.39.9.59 1.41.59.51 0 1.02-.2 1.41-.59l7.78-7.78 2.81-2.81c.8-.78.8-2.07 0-2.86zM5.41 20L4 18.59l7.72-7.72 1.47 1.35L5.41 20z\"/>\n",
              "  </svg>\n",
              "      </button>\n",
              "      \n",
              "  <style>\n",
              "    .colab-df-container {\n",
              "      display:flex;\n",
              "      flex-wrap:wrap;\n",
              "      gap: 12px;\n",
              "    }\n",
              "\n",
              "    .colab-df-convert {\n",
              "      background-color: #E8F0FE;\n",
              "      border: none;\n",
              "      border-radius: 50%;\n",
              "      cursor: pointer;\n",
              "      display: none;\n",
              "      fill: #1967D2;\n",
              "      height: 32px;\n",
              "      padding: 0 0 0 0;\n",
              "      width: 32px;\n",
              "    }\n",
              "\n",
              "    .colab-df-convert:hover {\n",
              "      background-color: #E2EBFA;\n",
              "      box-shadow: 0px 1px 2px rgba(60, 64, 67, 0.3), 0px 1px 3px 1px rgba(60, 64, 67, 0.15);\n",
              "      fill: #174EA6;\n",
              "    }\n",
              "\n",
              "    [theme=dark] .colab-df-convert {\n",
              "      background-color: #3B4455;\n",
              "      fill: #D2E3FC;\n",
              "    }\n",
              "\n",
              "    [theme=dark] .colab-df-convert:hover {\n",
              "      background-color: #434B5C;\n",
              "      box-shadow: 0px 1px 3px 1px rgba(0, 0, 0, 0.15);\n",
              "      filter: drop-shadow(0px 1px 2px rgba(0, 0, 0, 0.3));\n",
              "      fill: #FFFFFF;\n",
              "    }\n",
              "  </style>\n",
              "\n",
              "      <script>\n",
              "        const buttonEl =\n",
              "          document.querySelector('#df-b45aa401-b332-41ef-93a2-847ddb3e8124 button.colab-df-convert');\n",
              "        buttonEl.style.display =\n",
              "          google.colab.kernel.accessAllowed ? 'block' : 'none';\n",
              "\n",
              "        async function convertToInteractive(key) {\n",
              "          const element = document.querySelector('#df-b45aa401-b332-41ef-93a2-847ddb3e8124');\n",
              "          const dataTable =\n",
              "            await google.colab.kernel.invokeFunction('convertToInteractive',\n",
              "                                                     [key], {});\n",
              "          if (!dataTable) return;\n",
              "\n",
              "          const docLinkHtml = 'Like what you see? Visit the ' +\n",
              "            '<a target=\"_blank\" href=https://colab.research.google.com/notebooks/data_table.ipynb>data table notebook</a>'\n",
              "            + ' to learn more about interactive tables.';\n",
              "          element.innerHTML = '';\n",
              "          dataTable['output_type'] = 'display_data';\n",
              "          await google.colab.output.renderOutput(dataTable, element);\n",
              "          const docLink = document.createElement('div');\n",
              "          docLink.innerHTML = docLinkHtml;\n",
              "          element.appendChild(docLink);\n",
              "        }\n",
              "      </script>\n",
              "    </div>\n",
              "  </div>\n",
              "  "
            ]
          },
          "metadata": {},
          "execution_count": 109
        }
      ],
      "source": [
        "# изучим данные\n",
        "\n",
        "try:\n",
        "    orders = pd.read_csv('/datasets/orders.csv')\n",
        "except:\n",
        "    orders = pd.read_csv('/datasets/orders.csv')\n",
        "display(orders.head(5))\n",
        "\n",
        "\n",
        "try:\n",
        "    visitors = pd.read_csv('/datasets/visitors.csv')\n",
        "except:\n",
        "    visitors = pd.read_csv('/datasets/visitors.csv')\n",
        "visitors.head(5)\n",
        "\n"
      ]
    },
    {
      "cell_type": "code",
      "execution_count": 110,
      "metadata": {
        "colab": {
          "base_uri": "https://localhost:8080/"
        },
        "id": "_ypq0yd9fSXY",
        "outputId": "49c9e32e-beff-446d-87ea-3e3cb598778a"
      },
      "outputs": [
        {
          "output_type": "stream",
          "name": "stdout",
          "text": [
            "<class 'pandas.core.frame.DataFrame'>\n",
            "RangeIndex: 1197 entries, 0 to 1196\n",
            "Data columns (total 5 columns):\n",
            " #   Column         Non-Null Count  Dtype \n",
            "---  ------         --------------  ----- \n",
            " 0   transactionId  1197 non-null   int64 \n",
            " 1   visitorId      1197 non-null   int64 \n",
            " 2   date           1197 non-null   object\n",
            " 3   revenue        1197 non-null   int64 \n",
            " 4   group          1197 non-null   object\n",
            "dtypes: int64(3), object(2)\n",
            "memory usage: 46.9+ KB\n"
          ]
        }
      ],
      "source": [
        "orders.info() # выведем сводную информацию о таблице orders"
      ]
    },
    {
      "cell_type": "code",
      "execution_count": 111,
      "metadata": {
        "colab": {
          "base_uri": "https://localhost:8080/"
        },
        "id": "scrpCvFPfSXZ",
        "outputId": "286c42b1-7d14-4ce8-ccb7-1230d09e96a5"
      },
      "outputs": [
        {
          "output_type": "stream",
          "name": "stdout",
          "text": [
            "<class 'pandas.core.frame.DataFrame'>\n",
            "RangeIndex: 62 entries, 0 to 61\n",
            "Data columns (total 3 columns):\n",
            " #   Column    Non-Null Count  Dtype \n",
            "---  ------    --------------  ----- \n",
            " 0   date      62 non-null     object\n",
            " 1   group     62 non-null     object\n",
            " 2   visitors  62 non-null     int64 \n",
            "dtypes: int64(1), object(2)\n",
            "memory usage: 1.6+ KB\n"
          ]
        }
      ],
      "source": [
        "visitors.info() # выведем сводную информацию о таблице visitors"
      ]
    },
    {
      "cell_type": "code",
      "execution_count": 112,
      "metadata": {
        "colab": {
          "base_uri": "https://localhost:8080/",
          "height": 300
        },
        "id": "qFZOIRLpp43t",
        "outputId": "f791e7d3-2bca-4e26-94b9-0bdeb6dacbac"
      },
      "outputs": [
        {
          "output_type": "execute_result",
          "data": {
            "text/plain": [
              "       transactionId     visitorId       revenue\n",
              "count   1.197000e+03  1.197000e+03  1.197000e+03\n",
              "mean    2.155621e+09  2.165960e+09  8.348006e+03\n",
              "std     1.229085e+09  1.236014e+09  3.919113e+04\n",
              "min     1.062393e+06  5.114589e+06  5.000000e+01\n",
              "25%     1.166776e+09  1.111826e+09  1.220000e+03\n",
              "50%     2.145194e+09  2.217985e+09  2.978000e+03\n",
              "75%     3.237740e+09  3.177606e+09  8.290000e+03\n",
              "max     4.293856e+09  4.283872e+09  1.294500e+06"
            ],
            "text/html": [
              "\n",
              "  <div id=\"df-e75b9922-eb8f-47ec-88be-8c992f18b57a\">\n",
              "    <div class=\"colab-df-container\">\n",
              "      <div>\n",
              "<style scoped>\n",
              "    .dataframe tbody tr th:only-of-type {\n",
              "        vertical-align: middle;\n",
              "    }\n",
              "\n",
              "    .dataframe tbody tr th {\n",
              "        vertical-align: top;\n",
              "    }\n",
              "\n",
              "    .dataframe thead th {\n",
              "        text-align: right;\n",
              "    }\n",
              "</style>\n",
              "<table border=\"1\" class=\"dataframe\">\n",
              "  <thead>\n",
              "    <tr style=\"text-align: right;\">\n",
              "      <th></th>\n",
              "      <th>transactionId</th>\n",
              "      <th>visitorId</th>\n",
              "      <th>revenue</th>\n",
              "    </tr>\n",
              "  </thead>\n",
              "  <tbody>\n",
              "    <tr>\n",
              "      <th>count</th>\n",
              "      <td>1.197000e+03</td>\n",
              "      <td>1.197000e+03</td>\n",
              "      <td>1.197000e+03</td>\n",
              "    </tr>\n",
              "    <tr>\n",
              "      <th>mean</th>\n",
              "      <td>2.155621e+09</td>\n",
              "      <td>2.165960e+09</td>\n",
              "      <td>8.348006e+03</td>\n",
              "    </tr>\n",
              "    <tr>\n",
              "      <th>std</th>\n",
              "      <td>1.229085e+09</td>\n",
              "      <td>1.236014e+09</td>\n",
              "      <td>3.919113e+04</td>\n",
              "    </tr>\n",
              "    <tr>\n",
              "      <th>min</th>\n",
              "      <td>1.062393e+06</td>\n",
              "      <td>5.114589e+06</td>\n",
              "      <td>5.000000e+01</td>\n",
              "    </tr>\n",
              "    <tr>\n",
              "      <th>25%</th>\n",
              "      <td>1.166776e+09</td>\n",
              "      <td>1.111826e+09</td>\n",
              "      <td>1.220000e+03</td>\n",
              "    </tr>\n",
              "    <tr>\n",
              "      <th>50%</th>\n",
              "      <td>2.145194e+09</td>\n",
              "      <td>2.217985e+09</td>\n",
              "      <td>2.978000e+03</td>\n",
              "    </tr>\n",
              "    <tr>\n",
              "      <th>75%</th>\n",
              "      <td>3.237740e+09</td>\n",
              "      <td>3.177606e+09</td>\n",
              "      <td>8.290000e+03</td>\n",
              "    </tr>\n",
              "    <tr>\n",
              "      <th>max</th>\n",
              "      <td>4.293856e+09</td>\n",
              "      <td>4.283872e+09</td>\n",
              "      <td>1.294500e+06</td>\n",
              "    </tr>\n",
              "  </tbody>\n",
              "</table>\n",
              "</div>\n",
              "      <button class=\"colab-df-convert\" onclick=\"convertToInteractive('df-e75b9922-eb8f-47ec-88be-8c992f18b57a')\"\n",
              "              title=\"Convert this dataframe to an interactive table.\"\n",
              "              style=\"display:none;\">\n",
              "        \n",
              "  <svg xmlns=\"http://www.w3.org/2000/svg\" height=\"24px\"viewBox=\"0 0 24 24\"\n",
              "       width=\"24px\">\n",
              "    <path d=\"M0 0h24v24H0V0z\" fill=\"none\"/>\n",
              "    <path d=\"M18.56 5.44l.94 2.06.94-2.06 2.06-.94-2.06-.94-.94-2.06-.94 2.06-2.06.94zm-11 1L8.5 8.5l.94-2.06 2.06-.94-2.06-.94L8.5 2.5l-.94 2.06-2.06.94zm10 10l.94 2.06.94-2.06 2.06-.94-2.06-.94-.94-2.06-.94 2.06-2.06.94z\"/><path d=\"M17.41 7.96l-1.37-1.37c-.4-.4-.92-.59-1.43-.59-.52 0-1.04.2-1.43.59L10.3 9.45l-7.72 7.72c-.78.78-.78 2.05 0 2.83L4 21.41c.39.39.9.59 1.41.59.51 0 1.02-.2 1.41-.59l7.78-7.78 2.81-2.81c.8-.78.8-2.07 0-2.86zM5.41 20L4 18.59l7.72-7.72 1.47 1.35L5.41 20z\"/>\n",
              "  </svg>\n",
              "      </button>\n",
              "      \n",
              "  <style>\n",
              "    .colab-df-container {\n",
              "      display:flex;\n",
              "      flex-wrap:wrap;\n",
              "      gap: 12px;\n",
              "    }\n",
              "\n",
              "    .colab-df-convert {\n",
              "      background-color: #E8F0FE;\n",
              "      border: none;\n",
              "      border-radius: 50%;\n",
              "      cursor: pointer;\n",
              "      display: none;\n",
              "      fill: #1967D2;\n",
              "      height: 32px;\n",
              "      padding: 0 0 0 0;\n",
              "      width: 32px;\n",
              "    }\n",
              "\n",
              "    .colab-df-convert:hover {\n",
              "      background-color: #E2EBFA;\n",
              "      box-shadow: 0px 1px 2px rgba(60, 64, 67, 0.3), 0px 1px 3px 1px rgba(60, 64, 67, 0.15);\n",
              "      fill: #174EA6;\n",
              "    }\n",
              "\n",
              "    [theme=dark] .colab-df-convert {\n",
              "      background-color: #3B4455;\n",
              "      fill: #D2E3FC;\n",
              "    }\n",
              "\n",
              "    [theme=dark] .colab-df-convert:hover {\n",
              "      background-color: #434B5C;\n",
              "      box-shadow: 0px 1px 3px 1px rgba(0, 0, 0, 0.15);\n",
              "      filter: drop-shadow(0px 1px 2px rgba(0, 0, 0, 0.3));\n",
              "      fill: #FFFFFF;\n",
              "    }\n",
              "  </style>\n",
              "\n",
              "      <script>\n",
              "        const buttonEl =\n",
              "          document.querySelector('#df-e75b9922-eb8f-47ec-88be-8c992f18b57a button.colab-df-convert');\n",
              "        buttonEl.style.display =\n",
              "          google.colab.kernel.accessAllowed ? 'block' : 'none';\n",
              "\n",
              "        async function convertToInteractive(key) {\n",
              "          const element = document.querySelector('#df-e75b9922-eb8f-47ec-88be-8c992f18b57a');\n",
              "          const dataTable =\n",
              "            await google.colab.kernel.invokeFunction('convertToInteractive',\n",
              "                                                     [key], {});\n",
              "          if (!dataTable) return;\n",
              "\n",
              "          const docLinkHtml = 'Like what you see? Visit the ' +\n",
              "            '<a target=\"_blank\" href=https://colab.research.google.com/notebooks/data_table.ipynb>data table notebook</a>'\n",
              "            + ' to learn more about interactive tables.';\n",
              "          element.innerHTML = '';\n",
              "          dataTable['output_type'] = 'display_data';\n",
              "          await google.colab.output.renderOutput(dataTable, element);\n",
              "          const docLink = document.createElement('div');\n",
              "          docLink.innerHTML = docLinkHtml;\n",
              "          element.appendChild(docLink);\n",
              "        }\n",
              "      </script>\n",
              "    </div>\n",
              "  </div>\n",
              "  "
            ]
          },
          "metadata": {},
          "execution_count": 112
        }
      ],
      "source": [
        "orders.describe() # проверим на аномалии таблицу orders\n",
        "# аномалий нет"
      ]
    },
    {
      "cell_type": "code",
      "execution_count": 113,
      "metadata": {
        "colab": {
          "base_uri": "https://localhost:8080/"
        },
        "id": "UxcvqSAop43u",
        "outputId": "1bcbd7b5-487c-4506-cab1-8b4d20b3054d"
      },
      "outputs": [
        {
          "output_type": "execute_result",
          "data": {
            "text/plain": [
              "array(['B', 'A'], dtype=object)"
            ]
          },
          "metadata": {},
          "execution_count": 113
        }
      ],
      "source": [
        "orders['group'].unique() # проверим на аномалии столбец group таблицы orders\n",
        "# аномалий нет"
      ]
    },
    {
      "cell_type": "code",
      "execution_count": 114,
      "metadata": {
        "colab": {
          "base_uri": "https://localhost:8080/",
          "height": 300
        },
        "id": "FFKyfxKWp43u",
        "outputId": "f93e887f-ccfc-4c5e-eb7f-b9cf20e941d0"
      },
      "outputs": [
        {
          "output_type": "execute_result",
          "data": {
            "text/plain": [
              "         visitors\n",
              "count   62.000000\n",
              "mean   607.290323\n",
              "std    114.400560\n",
              "min    361.000000\n",
              "25%    534.000000\n",
              "50%    624.500000\n",
              "75%    710.500000\n",
              "max    770.000000"
            ],
            "text/html": [
              "\n",
              "  <div id=\"df-f5531dfc-50c9-4563-bf77-75af8c9c1f6a\">\n",
              "    <div class=\"colab-df-container\">\n",
              "      <div>\n",
              "<style scoped>\n",
              "    .dataframe tbody tr th:only-of-type {\n",
              "        vertical-align: middle;\n",
              "    }\n",
              "\n",
              "    .dataframe tbody tr th {\n",
              "        vertical-align: top;\n",
              "    }\n",
              "\n",
              "    .dataframe thead th {\n",
              "        text-align: right;\n",
              "    }\n",
              "</style>\n",
              "<table border=\"1\" class=\"dataframe\">\n",
              "  <thead>\n",
              "    <tr style=\"text-align: right;\">\n",
              "      <th></th>\n",
              "      <th>visitors</th>\n",
              "    </tr>\n",
              "  </thead>\n",
              "  <tbody>\n",
              "    <tr>\n",
              "      <th>count</th>\n",
              "      <td>62.000000</td>\n",
              "    </tr>\n",
              "    <tr>\n",
              "      <th>mean</th>\n",
              "      <td>607.290323</td>\n",
              "    </tr>\n",
              "    <tr>\n",
              "      <th>std</th>\n",
              "      <td>114.400560</td>\n",
              "    </tr>\n",
              "    <tr>\n",
              "      <th>min</th>\n",
              "      <td>361.000000</td>\n",
              "    </tr>\n",
              "    <tr>\n",
              "      <th>25%</th>\n",
              "      <td>534.000000</td>\n",
              "    </tr>\n",
              "    <tr>\n",
              "      <th>50%</th>\n",
              "      <td>624.500000</td>\n",
              "    </tr>\n",
              "    <tr>\n",
              "      <th>75%</th>\n",
              "      <td>710.500000</td>\n",
              "    </tr>\n",
              "    <tr>\n",
              "      <th>max</th>\n",
              "      <td>770.000000</td>\n",
              "    </tr>\n",
              "  </tbody>\n",
              "</table>\n",
              "</div>\n",
              "      <button class=\"colab-df-convert\" onclick=\"convertToInteractive('df-f5531dfc-50c9-4563-bf77-75af8c9c1f6a')\"\n",
              "              title=\"Convert this dataframe to an interactive table.\"\n",
              "              style=\"display:none;\">\n",
              "        \n",
              "  <svg xmlns=\"http://www.w3.org/2000/svg\" height=\"24px\"viewBox=\"0 0 24 24\"\n",
              "       width=\"24px\">\n",
              "    <path d=\"M0 0h24v24H0V0z\" fill=\"none\"/>\n",
              "    <path d=\"M18.56 5.44l.94 2.06.94-2.06 2.06-.94-2.06-.94-.94-2.06-.94 2.06-2.06.94zm-11 1L8.5 8.5l.94-2.06 2.06-.94-2.06-.94L8.5 2.5l-.94 2.06-2.06.94zm10 10l.94 2.06.94-2.06 2.06-.94-2.06-.94-.94-2.06-.94 2.06-2.06.94z\"/><path d=\"M17.41 7.96l-1.37-1.37c-.4-.4-.92-.59-1.43-.59-.52 0-1.04.2-1.43.59L10.3 9.45l-7.72 7.72c-.78.78-.78 2.05 0 2.83L4 21.41c.39.39.9.59 1.41.59.51 0 1.02-.2 1.41-.59l7.78-7.78 2.81-2.81c.8-.78.8-2.07 0-2.86zM5.41 20L4 18.59l7.72-7.72 1.47 1.35L5.41 20z\"/>\n",
              "  </svg>\n",
              "      </button>\n",
              "      \n",
              "  <style>\n",
              "    .colab-df-container {\n",
              "      display:flex;\n",
              "      flex-wrap:wrap;\n",
              "      gap: 12px;\n",
              "    }\n",
              "\n",
              "    .colab-df-convert {\n",
              "      background-color: #E8F0FE;\n",
              "      border: none;\n",
              "      border-radius: 50%;\n",
              "      cursor: pointer;\n",
              "      display: none;\n",
              "      fill: #1967D2;\n",
              "      height: 32px;\n",
              "      padding: 0 0 0 0;\n",
              "      width: 32px;\n",
              "    }\n",
              "\n",
              "    .colab-df-convert:hover {\n",
              "      background-color: #E2EBFA;\n",
              "      box-shadow: 0px 1px 2px rgba(60, 64, 67, 0.3), 0px 1px 3px 1px rgba(60, 64, 67, 0.15);\n",
              "      fill: #174EA6;\n",
              "    }\n",
              "\n",
              "    [theme=dark] .colab-df-convert {\n",
              "      background-color: #3B4455;\n",
              "      fill: #D2E3FC;\n",
              "    }\n",
              "\n",
              "    [theme=dark] .colab-df-convert:hover {\n",
              "      background-color: #434B5C;\n",
              "      box-shadow: 0px 1px 3px 1px rgba(0, 0, 0, 0.15);\n",
              "      filter: drop-shadow(0px 1px 2px rgba(0, 0, 0, 0.3));\n",
              "      fill: #FFFFFF;\n",
              "    }\n",
              "  </style>\n",
              "\n",
              "      <script>\n",
              "        const buttonEl =\n",
              "          document.querySelector('#df-f5531dfc-50c9-4563-bf77-75af8c9c1f6a button.colab-df-convert');\n",
              "        buttonEl.style.display =\n",
              "          google.colab.kernel.accessAllowed ? 'block' : 'none';\n",
              "\n",
              "        async function convertToInteractive(key) {\n",
              "          const element = document.querySelector('#df-f5531dfc-50c9-4563-bf77-75af8c9c1f6a');\n",
              "          const dataTable =\n",
              "            await google.colab.kernel.invokeFunction('convertToInteractive',\n",
              "                                                     [key], {});\n",
              "          if (!dataTable) return;\n",
              "\n",
              "          const docLinkHtml = 'Like what you see? Visit the ' +\n",
              "            '<a target=\"_blank\" href=https://colab.research.google.com/notebooks/data_table.ipynb>data table notebook</a>'\n",
              "            + ' to learn more about interactive tables.';\n",
              "          element.innerHTML = '';\n",
              "          dataTable['output_type'] = 'display_data';\n",
              "          await google.colab.output.renderOutput(dataTable, element);\n",
              "          const docLink = document.createElement('div');\n",
              "          docLink.innerHTML = docLinkHtml;\n",
              "          element.appendChild(docLink);\n",
              "        }\n",
              "      </script>\n",
              "    </div>\n",
              "  </div>\n",
              "  "
            ]
          },
          "metadata": {},
          "execution_count": 114
        }
      ],
      "source": [
        "visitors.describe() # проверим на аномалии таблицу visitors\n",
        "# аномалий нет"
      ]
    },
    {
      "cell_type": "code",
      "execution_count": 115,
      "metadata": {
        "colab": {
          "base_uri": "https://localhost:8080/"
        },
        "id": "0XUZZPUsp43u",
        "outputId": "bf9deacd-5ac1-4aa2-b57f-83db19e34763"
      },
      "outputs": [
        {
          "output_type": "execute_result",
          "data": {
            "text/plain": [
              "array(['A', 'B'], dtype=object)"
            ]
          },
          "metadata": {},
          "execution_count": 115
        }
      ],
      "source": [
        "visitors['group'].unique() # проверим на аномалии столбец group таблицы visitors\n",
        "# аномалий нет"
      ]
    },
    {
      "cell_type": "code",
      "execution_count": 116,
      "metadata": {
        "colab": {
          "base_uri": "https://localhost:8080/"
        },
        "id": "Vlq9s8sip43u",
        "outputId": "6fe75c00-eda3-4edd-b5d5-c6b77c3fa407"
      },
      "outputs": [
        {
          "output_type": "execute_result",
          "data": {
            "text/plain": [
              "0"
            ]
          },
          "metadata": {},
          "execution_count": 116
        }
      ],
      "source": [
        "# проверим данные на наличие дубликатов\n",
        "orders.duplicated().sum() # дубликатов нет"
      ]
    },
    {
      "cell_type": "code",
      "execution_count": 117,
      "metadata": {
        "colab": {
          "base_uri": "https://localhost:8080/"
        },
        "id": "lvZlMj1Gp43u",
        "outputId": "d24df635-f456-4cf1-cd70-c7cb0254a37e"
      },
      "outputs": [
        {
          "output_type": "execute_result",
          "data": {
            "text/plain": [
              "0"
            ]
          },
          "metadata": {},
          "execution_count": 117
        }
      ],
      "source": [
        "# проверим данные на наличие дубликатов\n",
        "visitors.duplicated().sum() # дубликатов нет"
      ]
    },
    {
      "cell_type": "code",
      "execution_count": 118,
      "metadata": {
        "id": "hzI_L779fSXa"
      },
      "outputs": [],
      "source": [
        "# переименум столбцы \n",
        "orders = orders.rename(\n",
        "columns={\n",
        "'transactionId': 'transaction_id',\n",
        "'visitorId': 'visitor_id',}\n",
        ") "
      ]
    },
    {
      "cell_type": "code",
      "execution_count": 119,
      "metadata": {
        "colab": {
          "base_uri": "https://localhost:8080/"
        },
        "id": "5be0Dz94fSXa",
        "outputId": "44f74e70-d7ac-4e7b-9584-3857c9782770"
      },
      "outputs": [
        {
          "output_type": "stream",
          "name": "stdout",
          "text": [
            "<class 'pandas.core.frame.DataFrame'>\n",
            "RangeIndex: 1197 entries, 0 to 1196\n",
            "Data columns (total 5 columns):\n",
            " #   Column          Non-Null Count  Dtype         \n",
            "---  ------          --------------  -----         \n",
            " 0   transaction_id  1197 non-null   int64         \n",
            " 1   visitor_id      1197 non-null   int64         \n",
            " 2   date            1197 non-null   datetime64[ns]\n",
            " 3   revenue         1197 non-null   int64         \n",
            " 4   group           1197 non-null   object        \n",
            "dtypes: datetime64[ns](1), int64(3), object(1)\n",
            "memory usage: 46.9+ KB\n",
            "<class 'pandas.core.frame.DataFrame'>\n",
            "RangeIndex: 62 entries, 0 to 61\n",
            "Data columns (total 3 columns):\n",
            " #   Column    Non-Null Count  Dtype         \n",
            "---  ------    --------------  -----         \n",
            " 0   date      62 non-null     datetime64[ns]\n",
            " 1   group     62 non-null     object        \n",
            " 2   visitors  62 non-null     int64         \n",
            "dtypes: datetime64[ns](1), int64(1), object(1)\n",
            "memory usage: 1.6+ KB\n"
          ]
        }
      ],
      "source": [
        "# изменим тип данных в столбце с датой\n",
        "orders['date'] = orders['date'].map(\n",
        "    lambda x: dt.datetime.strptime(x, '%Y-%m-%d')\n",
        ")\n",
        "\n",
        "visitors['date'] = visitors['date'].map(\n",
        "    lambda x: dt.datetime.strptime(x, '%Y-%m-%d')\n",
        ")\n",
        "\n",
        "orders.info()\n",
        "visitors.info()\n"
      ]
    },
    {
      "cell_type": "markdown",
      "source": [
        "### Вывод\n",
        "В таблице orders 1197 строк и 5 столбцов, нет пропусков и дубликатов. Мы изменили тип столбца с датой на datetime и привели названия столбцов к змеиному регистру.\n",
        "\n",
        "В таблице visitors 62 строки и 3 столбца, нет пропусков и дубликатов. Мы изменили тип столбца с датой на datetime."
      ],
      "metadata": {
        "id": "zFS-qlPqrwkN"
      }
    },
    {
      "cell_type": "markdown",
      "metadata": {
        "id": "mnW-vnkzfSXa"
      },
      "source": [
        "### 1. Построим график кумулятивной выручки по группам.\n",
        "<a name=\"cum_revenue\"></a>"
      ]
    },
    {
      "cell_type": "code",
      "execution_count": 120,
      "metadata": {
        "colab": {
          "base_uri": "https://localhost:8080/",
          "height": 213
        },
        "id": "004Vh80JfSXb",
        "outputId": "7aa770e7-f3eb-4136-d24c-9ec3cd3b16b3"
      },
      "outputs": [
        {
          "output_type": "display_data",
          "data": {
            "text/plain": [
              "Timestamp('2019-08-31 00:00:00')"
            ]
          },
          "metadata": {}
        },
        {
          "output_type": "display_data",
          "data": {
            "text/plain": [
              "Timestamp('2019-08-01 00:00:00')"
            ]
          },
          "metadata": {}
        },
        {
          "output_type": "stream",
          "name": "stdout",
          "text": [
            "<class 'pandas.core.frame.DataFrame'>\n",
            "Int64Index: 62 entries, 0 to 1150\n",
            "Data columns (total 2 columns):\n",
            " #   Column  Non-Null Count  Dtype         \n",
            "---  ------  --------------  -----         \n",
            " 0   date    62 non-null     datetime64[ns]\n",
            " 1   group   62 non-null     object        \n",
            "dtypes: datetime64[ns](1), object(1)\n",
            "memory usage: 1.5+ KB\n"
          ]
        }
      ],
      "source": [
        "# создаем массив уникальных пар значений дат и групп теста\n",
        "datesGroups = orders[['date', 'group']].drop_duplicates()\n",
        "\n",
        "display(datesGroups['date'].max())\n",
        "display(datesGroups['date'].min())\n",
        "\n",
        "datesGroups.info()"
      ]
    },
    {
      "cell_type": "code",
      "execution_count": 121,
      "metadata": {
        "id": "bDFPgUgpfSXb",
        "colab": {
          "base_uri": "https://localhost:8080/",
          "height": 206
        },
        "outputId": "53f9759c-1e6f-41ce-ecaf-9327542af3a5"
      },
      "outputs": [
        {
          "output_type": "execute_result",
          "data": {
            "text/plain": [
              "          date group  transaction_id  visitor_id  revenue\n",
              "55  2019-08-01     A              24          20   148579\n",
              "66  2019-08-01     B              21          20   101217\n",
              "175 2019-08-02     A              44          38   242401\n",
              "173 2019-08-02     B              45          43   266748\n",
              "291 2019-08-03     A              68          62   354874"
            ],
            "text/html": [
              "\n",
              "  <div id=\"df-c33c5f03-2b61-4082-ae8f-80a9096dcc43\">\n",
              "    <div class=\"colab-df-container\">\n",
              "      <div>\n",
              "<style scoped>\n",
              "    .dataframe tbody tr th:only-of-type {\n",
              "        vertical-align: middle;\n",
              "    }\n",
              "\n",
              "    .dataframe tbody tr th {\n",
              "        vertical-align: top;\n",
              "    }\n",
              "\n",
              "    .dataframe thead th {\n",
              "        text-align: right;\n",
              "    }\n",
              "</style>\n",
              "<table border=\"1\" class=\"dataframe\">\n",
              "  <thead>\n",
              "    <tr style=\"text-align: right;\">\n",
              "      <th></th>\n",
              "      <th>date</th>\n",
              "      <th>group</th>\n",
              "      <th>transaction_id</th>\n",
              "      <th>visitor_id</th>\n",
              "      <th>revenue</th>\n",
              "    </tr>\n",
              "  </thead>\n",
              "  <tbody>\n",
              "    <tr>\n",
              "      <th>55</th>\n",
              "      <td>2019-08-01</td>\n",
              "      <td>A</td>\n",
              "      <td>24</td>\n",
              "      <td>20</td>\n",
              "      <td>148579</td>\n",
              "    </tr>\n",
              "    <tr>\n",
              "      <th>66</th>\n",
              "      <td>2019-08-01</td>\n",
              "      <td>B</td>\n",
              "      <td>21</td>\n",
              "      <td>20</td>\n",
              "      <td>101217</td>\n",
              "    </tr>\n",
              "    <tr>\n",
              "      <th>175</th>\n",
              "      <td>2019-08-02</td>\n",
              "      <td>A</td>\n",
              "      <td>44</td>\n",
              "      <td>38</td>\n",
              "      <td>242401</td>\n",
              "    </tr>\n",
              "    <tr>\n",
              "      <th>173</th>\n",
              "      <td>2019-08-02</td>\n",
              "      <td>B</td>\n",
              "      <td>45</td>\n",
              "      <td>43</td>\n",
              "      <td>266748</td>\n",
              "    </tr>\n",
              "    <tr>\n",
              "      <th>291</th>\n",
              "      <td>2019-08-03</td>\n",
              "      <td>A</td>\n",
              "      <td>68</td>\n",
              "      <td>62</td>\n",
              "      <td>354874</td>\n",
              "    </tr>\n",
              "  </tbody>\n",
              "</table>\n",
              "</div>\n",
              "      <button class=\"colab-df-convert\" onclick=\"convertToInteractive('df-c33c5f03-2b61-4082-ae8f-80a9096dcc43')\"\n",
              "              title=\"Convert this dataframe to an interactive table.\"\n",
              "              style=\"display:none;\">\n",
              "        \n",
              "  <svg xmlns=\"http://www.w3.org/2000/svg\" height=\"24px\"viewBox=\"0 0 24 24\"\n",
              "       width=\"24px\">\n",
              "    <path d=\"M0 0h24v24H0V0z\" fill=\"none\"/>\n",
              "    <path d=\"M18.56 5.44l.94 2.06.94-2.06 2.06-.94-2.06-.94-.94-2.06-.94 2.06-2.06.94zm-11 1L8.5 8.5l.94-2.06 2.06-.94-2.06-.94L8.5 2.5l-.94 2.06-2.06.94zm10 10l.94 2.06.94-2.06 2.06-.94-2.06-.94-.94-2.06-.94 2.06-2.06.94z\"/><path d=\"M17.41 7.96l-1.37-1.37c-.4-.4-.92-.59-1.43-.59-.52 0-1.04.2-1.43.59L10.3 9.45l-7.72 7.72c-.78.78-.78 2.05 0 2.83L4 21.41c.39.39.9.59 1.41.59.51 0 1.02-.2 1.41-.59l7.78-7.78 2.81-2.81c.8-.78.8-2.07 0-2.86zM5.41 20L4 18.59l7.72-7.72 1.47 1.35L5.41 20z\"/>\n",
              "  </svg>\n",
              "      </button>\n",
              "      \n",
              "  <style>\n",
              "    .colab-df-container {\n",
              "      display:flex;\n",
              "      flex-wrap:wrap;\n",
              "      gap: 12px;\n",
              "    }\n",
              "\n",
              "    .colab-df-convert {\n",
              "      background-color: #E8F0FE;\n",
              "      border: none;\n",
              "      border-radius: 50%;\n",
              "      cursor: pointer;\n",
              "      display: none;\n",
              "      fill: #1967D2;\n",
              "      height: 32px;\n",
              "      padding: 0 0 0 0;\n",
              "      width: 32px;\n",
              "    }\n",
              "\n",
              "    .colab-df-convert:hover {\n",
              "      background-color: #E2EBFA;\n",
              "      box-shadow: 0px 1px 2px rgba(60, 64, 67, 0.3), 0px 1px 3px 1px rgba(60, 64, 67, 0.15);\n",
              "      fill: #174EA6;\n",
              "    }\n",
              "\n",
              "    [theme=dark] .colab-df-convert {\n",
              "      background-color: #3B4455;\n",
              "      fill: #D2E3FC;\n",
              "    }\n",
              "\n",
              "    [theme=dark] .colab-df-convert:hover {\n",
              "      background-color: #434B5C;\n",
              "      box-shadow: 0px 1px 3px 1px rgba(0, 0, 0, 0.15);\n",
              "      filter: drop-shadow(0px 1px 2px rgba(0, 0, 0, 0.3));\n",
              "      fill: #FFFFFF;\n",
              "    }\n",
              "  </style>\n",
              "\n",
              "      <script>\n",
              "        const buttonEl =\n",
              "          document.querySelector('#df-c33c5f03-2b61-4082-ae8f-80a9096dcc43 button.colab-df-convert');\n",
              "        buttonEl.style.display =\n",
              "          google.colab.kernel.accessAllowed ? 'block' : 'none';\n",
              "\n",
              "        async function convertToInteractive(key) {\n",
              "          const element = document.querySelector('#df-c33c5f03-2b61-4082-ae8f-80a9096dcc43');\n",
              "          const dataTable =\n",
              "            await google.colab.kernel.invokeFunction('convertToInteractive',\n",
              "                                                     [key], {});\n",
              "          if (!dataTable) return;\n",
              "\n",
              "          const docLinkHtml = 'Like what you see? Visit the ' +\n",
              "            '<a target=\"_blank\" href=https://colab.research.google.com/notebooks/data_table.ipynb>data table notebook</a>'\n",
              "            + ' to learn more about interactive tables.';\n",
              "          element.innerHTML = '';\n",
              "          dataTable['output_type'] = 'display_data';\n",
              "          await google.colab.output.renderOutput(dataTable, element);\n",
              "          const docLink = document.createElement('div');\n",
              "          docLink.innerHTML = docLinkHtml;\n",
              "          element.appendChild(docLink);\n",
              "        }\n",
              "      </script>\n",
              "    </div>\n",
              "  </div>\n",
              "  "
            ]
          },
          "metadata": {},
          "execution_count": 121
        }
      ],
      "source": [
        "# получаем агрегированные кумулятивные по дням данные о заказах \n",
        "ordersAggregated = (\n",
        "    datesGroups\n",
        "    .apply(lambda x: orders[np.logical_and(orders['date'] <= x['date'], orders['group'] == x['group'])]\n",
        "    .agg({'date' : 'max', 'group' : 'max', 'transaction_id' : 'nunique', 'visitor_id' : 'nunique', 'revenue' : 'sum'}), axis=1)\n",
        "    .sort_values(by=['date','group'])\n",
        ")\n",
        "ordersAggregated.head()"
      ]
    },
    {
      "cell_type": "code",
      "execution_count": 122,
      "metadata": {
        "colab": {
          "base_uri": "https://localhost:8080/"
        },
        "id": "xnS8twYZp43v",
        "outputId": "f1aae2e8-c4a3-435e-c3ed-d9363004a99f"
      },
      "outputs": [
        {
          "output_type": "execute_result",
          "data": {
            "text/plain": [
              "group\n",
              "A    503\n",
              "B    586\n",
              "Name: visitor_id, dtype: int64"
            ]
          },
          "metadata": {},
          "execution_count": 122
        }
      ],
      "source": [
        "# посчитаем количество уникальных пользователей в каждой из групп\n",
        "orders.groupby('group')['visitor_id'].nunique()"
      ]
    },
    {
      "cell_type": "code",
      "execution_count": 123,
      "metadata": {
        "colab": {
          "base_uri": "https://localhost:8080/",
          "height": 206
        },
        "id": "JuU4U9lXfSXb",
        "outputId": "56ff8cd4-f9be-42e6-9946-b4e1b8f75f08"
      },
      "outputs": [
        {
          "output_type": "execute_result",
          "data": {
            "text/plain": [
              "          date group  visitors\n",
              "55  2019-08-01     A       719\n",
              "66  2019-08-01     B       713\n",
              "175 2019-08-02     A      1338\n",
              "173 2019-08-02     B      1294\n",
              "291 2019-08-03     A      1845"
            ],
            "text/html": [
              "\n",
              "  <div id=\"df-b0b2127c-edd4-4623-ba7b-0ec1ad7f344e\">\n",
              "    <div class=\"colab-df-container\">\n",
              "      <div>\n",
              "<style scoped>\n",
              "    .dataframe tbody tr th:only-of-type {\n",
              "        vertical-align: middle;\n",
              "    }\n",
              "\n",
              "    .dataframe tbody tr th {\n",
              "        vertical-align: top;\n",
              "    }\n",
              "\n",
              "    .dataframe thead th {\n",
              "        text-align: right;\n",
              "    }\n",
              "</style>\n",
              "<table border=\"1\" class=\"dataframe\">\n",
              "  <thead>\n",
              "    <tr style=\"text-align: right;\">\n",
              "      <th></th>\n",
              "      <th>date</th>\n",
              "      <th>group</th>\n",
              "      <th>visitors</th>\n",
              "    </tr>\n",
              "  </thead>\n",
              "  <tbody>\n",
              "    <tr>\n",
              "      <th>55</th>\n",
              "      <td>2019-08-01</td>\n",
              "      <td>A</td>\n",
              "      <td>719</td>\n",
              "    </tr>\n",
              "    <tr>\n",
              "      <th>66</th>\n",
              "      <td>2019-08-01</td>\n",
              "      <td>B</td>\n",
              "      <td>713</td>\n",
              "    </tr>\n",
              "    <tr>\n",
              "      <th>175</th>\n",
              "      <td>2019-08-02</td>\n",
              "      <td>A</td>\n",
              "      <td>1338</td>\n",
              "    </tr>\n",
              "    <tr>\n",
              "      <th>173</th>\n",
              "      <td>2019-08-02</td>\n",
              "      <td>B</td>\n",
              "      <td>1294</td>\n",
              "    </tr>\n",
              "    <tr>\n",
              "      <th>291</th>\n",
              "      <td>2019-08-03</td>\n",
              "      <td>A</td>\n",
              "      <td>1845</td>\n",
              "    </tr>\n",
              "  </tbody>\n",
              "</table>\n",
              "</div>\n",
              "      <button class=\"colab-df-convert\" onclick=\"convertToInteractive('df-b0b2127c-edd4-4623-ba7b-0ec1ad7f344e')\"\n",
              "              title=\"Convert this dataframe to an interactive table.\"\n",
              "              style=\"display:none;\">\n",
              "        \n",
              "  <svg xmlns=\"http://www.w3.org/2000/svg\" height=\"24px\"viewBox=\"0 0 24 24\"\n",
              "       width=\"24px\">\n",
              "    <path d=\"M0 0h24v24H0V0z\" fill=\"none\"/>\n",
              "    <path d=\"M18.56 5.44l.94 2.06.94-2.06 2.06-.94-2.06-.94-.94-2.06-.94 2.06-2.06.94zm-11 1L8.5 8.5l.94-2.06 2.06-.94-2.06-.94L8.5 2.5l-.94 2.06-2.06.94zm10 10l.94 2.06.94-2.06 2.06-.94-2.06-.94-.94-2.06-.94 2.06-2.06.94z\"/><path d=\"M17.41 7.96l-1.37-1.37c-.4-.4-.92-.59-1.43-.59-.52 0-1.04.2-1.43.59L10.3 9.45l-7.72 7.72c-.78.78-.78 2.05 0 2.83L4 21.41c.39.39.9.59 1.41.59.51 0 1.02-.2 1.41-.59l7.78-7.78 2.81-2.81c.8-.78.8-2.07 0-2.86zM5.41 20L4 18.59l7.72-7.72 1.47 1.35L5.41 20z\"/>\n",
              "  </svg>\n",
              "      </button>\n",
              "      \n",
              "  <style>\n",
              "    .colab-df-container {\n",
              "      display:flex;\n",
              "      flex-wrap:wrap;\n",
              "      gap: 12px;\n",
              "    }\n",
              "\n",
              "    .colab-df-convert {\n",
              "      background-color: #E8F0FE;\n",
              "      border: none;\n",
              "      border-radius: 50%;\n",
              "      cursor: pointer;\n",
              "      display: none;\n",
              "      fill: #1967D2;\n",
              "      height: 32px;\n",
              "      padding: 0 0 0 0;\n",
              "      width: 32px;\n",
              "    }\n",
              "\n",
              "    .colab-df-convert:hover {\n",
              "      background-color: #E2EBFA;\n",
              "      box-shadow: 0px 1px 2px rgba(60, 64, 67, 0.3), 0px 1px 3px 1px rgba(60, 64, 67, 0.15);\n",
              "      fill: #174EA6;\n",
              "    }\n",
              "\n",
              "    [theme=dark] .colab-df-convert {\n",
              "      background-color: #3B4455;\n",
              "      fill: #D2E3FC;\n",
              "    }\n",
              "\n",
              "    [theme=dark] .colab-df-convert:hover {\n",
              "      background-color: #434B5C;\n",
              "      box-shadow: 0px 1px 3px 1px rgba(0, 0, 0, 0.15);\n",
              "      filter: drop-shadow(0px 1px 2px rgba(0, 0, 0, 0.3));\n",
              "      fill: #FFFFFF;\n",
              "    }\n",
              "  </style>\n",
              "\n",
              "      <script>\n",
              "        const buttonEl =\n",
              "          document.querySelector('#df-b0b2127c-edd4-4623-ba7b-0ec1ad7f344e button.colab-df-convert');\n",
              "        buttonEl.style.display =\n",
              "          google.colab.kernel.accessAllowed ? 'block' : 'none';\n",
              "\n",
              "        async function convertToInteractive(key) {\n",
              "          const element = document.querySelector('#df-b0b2127c-edd4-4623-ba7b-0ec1ad7f344e');\n",
              "          const dataTable =\n",
              "            await google.colab.kernel.invokeFunction('convertToInteractive',\n",
              "                                                     [key], {});\n",
              "          if (!dataTable) return;\n",
              "\n",
              "          const docLinkHtml = 'Like what you see? Visit the ' +\n",
              "            '<a target=\"_blank\" href=https://colab.research.google.com/notebooks/data_table.ipynb>data table notebook</a>'\n",
              "            + ' to learn more about interactive tables.';\n",
              "          element.innerHTML = '';\n",
              "          dataTable['output_type'] = 'display_data';\n",
              "          await google.colab.output.renderOutput(dataTable, element);\n",
              "          const docLink = document.createElement('div');\n",
              "          docLink.innerHTML = docLinkHtml;\n",
              "          element.appendChild(docLink);\n",
              "        }\n",
              "      </script>\n",
              "    </div>\n",
              "  </div>\n",
              "  "
            ]
          },
          "metadata": {},
          "execution_count": 123
        }
      ],
      "source": [
        "# получаем агрегированные кумулятивные по дням данные о посетителях\n",
        "visitorsAggregated = (\n",
        "    datesGroups\n",
        "    .apply(lambda x: visitors[np.logical_and(visitors['date'] <= x['date'], visitors['group'] == x['group'])]\n",
        "    .agg({'date' : 'max', 'group' : 'max', 'visitors' : 'sum'}), axis=1)\n",
        "    .sort_values(by=['date','group'])\n",
        ")\n",
        "visitorsAggregated.head()"
      ]
    },
    {
      "cell_type": "code",
      "execution_count": 124,
      "metadata": {
        "colab": {
          "base_uri": "https://localhost:8080/",
          "height": 206
        },
        "id": "-Da0Zc6ufSXc",
        "outputId": "2a7669e8-a624-428e-caa5-f777c853cdb8"
      },
      "outputs": [
        {
          "output_type": "execute_result",
          "data": {
            "text/plain": [
              "        date group  orders  buyers  revenue  visitors\n",
              "0 2019-08-01     A      24      20   148579       719\n",
              "1 2019-08-01     B      21      20   101217       713\n",
              "2 2019-08-02     A      44      38   242401      1338\n",
              "3 2019-08-02     B      45      43   266748      1294\n",
              "4 2019-08-03     A      68      62   354874      1845"
            ],
            "text/html": [
              "\n",
              "  <div id=\"df-9b1c64c9-ba0c-4fbf-b417-51cbd852f97c\">\n",
              "    <div class=\"colab-df-container\">\n",
              "      <div>\n",
              "<style scoped>\n",
              "    .dataframe tbody tr th:only-of-type {\n",
              "        vertical-align: middle;\n",
              "    }\n",
              "\n",
              "    .dataframe tbody tr th {\n",
              "        vertical-align: top;\n",
              "    }\n",
              "\n",
              "    .dataframe thead th {\n",
              "        text-align: right;\n",
              "    }\n",
              "</style>\n",
              "<table border=\"1\" class=\"dataframe\">\n",
              "  <thead>\n",
              "    <tr style=\"text-align: right;\">\n",
              "      <th></th>\n",
              "      <th>date</th>\n",
              "      <th>group</th>\n",
              "      <th>orders</th>\n",
              "      <th>buyers</th>\n",
              "      <th>revenue</th>\n",
              "      <th>visitors</th>\n",
              "    </tr>\n",
              "  </thead>\n",
              "  <tbody>\n",
              "    <tr>\n",
              "      <th>0</th>\n",
              "      <td>2019-08-01</td>\n",
              "      <td>A</td>\n",
              "      <td>24</td>\n",
              "      <td>20</td>\n",
              "      <td>148579</td>\n",
              "      <td>719</td>\n",
              "    </tr>\n",
              "    <tr>\n",
              "      <th>1</th>\n",
              "      <td>2019-08-01</td>\n",
              "      <td>B</td>\n",
              "      <td>21</td>\n",
              "      <td>20</td>\n",
              "      <td>101217</td>\n",
              "      <td>713</td>\n",
              "    </tr>\n",
              "    <tr>\n",
              "      <th>2</th>\n",
              "      <td>2019-08-02</td>\n",
              "      <td>A</td>\n",
              "      <td>44</td>\n",
              "      <td>38</td>\n",
              "      <td>242401</td>\n",
              "      <td>1338</td>\n",
              "    </tr>\n",
              "    <tr>\n",
              "      <th>3</th>\n",
              "      <td>2019-08-02</td>\n",
              "      <td>B</td>\n",
              "      <td>45</td>\n",
              "      <td>43</td>\n",
              "      <td>266748</td>\n",
              "      <td>1294</td>\n",
              "    </tr>\n",
              "    <tr>\n",
              "      <th>4</th>\n",
              "      <td>2019-08-03</td>\n",
              "      <td>A</td>\n",
              "      <td>68</td>\n",
              "      <td>62</td>\n",
              "      <td>354874</td>\n",
              "      <td>1845</td>\n",
              "    </tr>\n",
              "  </tbody>\n",
              "</table>\n",
              "</div>\n",
              "      <button class=\"colab-df-convert\" onclick=\"convertToInteractive('df-9b1c64c9-ba0c-4fbf-b417-51cbd852f97c')\"\n",
              "              title=\"Convert this dataframe to an interactive table.\"\n",
              "              style=\"display:none;\">\n",
              "        \n",
              "  <svg xmlns=\"http://www.w3.org/2000/svg\" height=\"24px\"viewBox=\"0 0 24 24\"\n",
              "       width=\"24px\">\n",
              "    <path d=\"M0 0h24v24H0V0z\" fill=\"none\"/>\n",
              "    <path d=\"M18.56 5.44l.94 2.06.94-2.06 2.06-.94-2.06-.94-.94-2.06-.94 2.06-2.06.94zm-11 1L8.5 8.5l.94-2.06 2.06-.94-2.06-.94L8.5 2.5l-.94 2.06-2.06.94zm10 10l.94 2.06.94-2.06 2.06-.94-2.06-.94-.94-2.06-.94 2.06-2.06.94z\"/><path d=\"M17.41 7.96l-1.37-1.37c-.4-.4-.92-.59-1.43-.59-.52 0-1.04.2-1.43.59L10.3 9.45l-7.72 7.72c-.78.78-.78 2.05 0 2.83L4 21.41c.39.39.9.59 1.41.59.51 0 1.02-.2 1.41-.59l7.78-7.78 2.81-2.81c.8-.78.8-2.07 0-2.86zM5.41 20L4 18.59l7.72-7.72 1.47 1.35L5.41 20z\"/>\n",
              "  </svg>\n",
              "      </button>\n",
              "      \n",
              "  <style>\n",
              "    .colab-df-container {\n",
              "      display:flex;\n",
              "      flex-wrap:wrap;\n",
              "      gap: 12px;\n",
              "    }\n",
              "\n",
              "    .colab-df-convert {\n",
              "      background-color: #E8F0FE;\n",
              "      border: none;\n",
              "      border-radius: 50%;\n",
              "      cursor: pointer;\n",
              "      display: none;\n",
              "      fill: #1967D2;\n",
              "      height: 32px;\n",
              "      padding: 0 0 0 0;\n",
              "      width: 32px;\n",
              "    }\n",
              "\n",
              "    .colab-df-convert:hover {\n",
              "      background-color: #E2EBFA;\n",
              "      box-shadow: 0px 1px 2px rgba(60, 64, 67, 0.3), 0px 1px 3px 1px rgba(60, 64, 67, 0.15);\n",
              "      fill: #174EA6;\n",
              "    }\n",
              "\n",
              "    [theme=dark] .colab-df-convert {\n",
              "      background-color: #3B4455;\n",
              "      fill: #D2E3FC;\n",
              "    }\n",
              "\n",
              "    [theme=dark] .colab-df-convert:hover {\n",
              "      background-color: #434B5C;\n",
              "      box-shadow: 0px 1px 3px 1px rgba(0, 0, 0, 0.15);\n",
              "      filter: drop-shadow(0px 1px 2px rgba(0, 0, 0, 0.3));\n",
              "      fill: #FFFFFF;\n",
              "    }\n",
              "  </style>\n",
              "\n",
              "      <script>\n",
              "        const buttonEl =\n",
              "          document.querySelector('#df-9b1c64c9-ba0c-4fbf-b417-51cbd852f97c button.colab-df-convert');\n",
              "        buttonEl.style.display =\n",
              "          google.colab.kernel.accessAllowed ? 'block' : 'none';\n",
              "\n",
              "        async function convertToInteractive(key) {\n",
              "          const element = document.querySelector('#df-9b1c64c9-ba0c-4fbf-b417-51cbd852f97c');\n",
              "          const dataTable =\n",
              "            await google.colab.kernel.invokeFunction('convertToInteractive',\n",
              "                                                     [key], {});\n",
              "          if (!dataTable) return;\n",
              "\n",
              "          const docLinkHtml = 'Like what you see? Visit the ' +\n",
              "            '<a target=\"_blank\" href=https://colab.research.google.com/notebooks/data_table.ipynb>data table notebook</a>'\n",
              "            + ' to learn more about interactive tables.';\n",
              "          element.innerHTML = '';\n",
              "          dataTable['output_type'] = 'display_data';\n",
              "          await google.colab.output.renderOutput(dataTable, element);\n",
              "          const docLink = document.createElement('div');\n",
              "          docLink.innerHTML = docLinkHtml;\n",
              "          element.appendChild(docLink);\n",
              "        }\n",
              "      </script>\n",
              "    </div>\n",
              "  </div>\n",
              "  "
            ]
          },
          "metadata": {},
          "execution_count": 124
        }
      ],
      "source": [
        "# объединяем кумулятивные данные в одной таблице и присваиваем ее столбцам понятные названия\n",
        "cumulativeData = ordersAggregated.merge(visitorsAggregated, left_on=['date', 'group'], right_on=['date', 'group'])\n",
        "cumulativeData.columns = ['date', 'group', 'orders', 'buyers', 'revenue', 'visitors']\n",
        "\n",
        "cumulativeData.head()"
      ]
    },
    {
      "cell_type": "code",
      "execution_count": 125,
      "metadata": {
        "colab": {
          "base_uri": "https://localhost:8080/",
          "height": 558
        },
        "id": "yofSy5lAfSXc",
        "outputId": "9b9546c9-e381-49c6-ea2d-59b5b8deddfe"
      },
      "outputs": [
        {
          "output_type": "execute_result",
          "data": {
            "text/plain": [
              "<matplotlib.legend.Legend at 0x7f45ffacfd90>"
            ]
          },
          "metadata": {},
          "execution_count": 125
        },
        {
          "output_type": "display_data",
          "data": {
            "text/plain": [
              "<Figure size 640x480 with 1 Axes>"
            ],
            "image/png": "[encoded data removed]"
          },
          "metadata": {}
        }
      ],
      "source": [
        "# Построим графики кумулятивной выручки по дням и группам A/B-тестирования\n",
        "\n",
        "# датафрейм с кумулятивным количеством заказов и кумулятивной выручкой по дням в группе А\n",
        "cumulativeRevenueA = cumulativeData[cumulativeData['group']=='A'][['date','revenue', 'orders']]\n",
        "\n",
        "# датафрейм с кумулятивным количеством заказов и кумулятивной выручкой по дням в группе B\n",
        "cumulativeRevenueB = cumulativeData[cumulativeData['group']=='B'][['date','revenue', 'orders']]\n",
        "\n",
        "# Строим график выручки группы А\n",
        "plt.plot(cumulativeRevenueA['date'], cumulativeRevenueA['revenue'], label='A')\n",
        "\n",
        "# Строим график выручки группы B\n",
        "plt.plot(cumulativeRevenueB['date'], cumulativeRevenueB['revenue'], label='B')\n",
        "plt.xticks(rotation=45)\n",
        "plt.title(\"Кумулятивная выручка по дням и группам A/B-тестирования\")\n",
        "plt.xlabel(\"Дата\")\n",
        "plt.ylabel(\"Выручка, млн.руб.\")\n",
        "plt.legend()\n"
      ]
    },
    {
      "cell_type": "markdown",
      "metadata": {
        "id": "Fvj2Z9SafSXd"
      },
      "source": [
        "### Вывод\n",
        "В исследовании клиенты разделены на две группы: А и В, в группе А 503 человека, в группе В — 586. Согласно графику кумулятивной выручки по дням и группам A/B-тестирования выручка для обеих групп стабильно растет. Однако для группы B в определенный момент произошел резкий скачок, возможно, это аномально большие заказы либо всплеск числа заказов. Разберемся с этим дальше."
      ]
    },
    {
      "cell_type": "markdown",
      "metadata": {
        "id": "9nkDPfgAfSXd"
      },
      "source": [
        "### 2. Построим график кумулятивного среднего чека по группам.\n",
        "<a name=\"cum_mean\"></a>"
      ]
    },
    {
      "cell_type": "code",
      "execution_count": 126,
      "metadata": {
        "colab": {
          "base_uri": "https://localhost:8080/",
          "height": 542
        },
        "id": "3I6lOmrifSXd",
        "outputId": "c7878b92-c831-4d8a-fc87-041d749f8f0e"
      },
      "outputs": [
        {
          "output_type": "execute_result",
          "data": {
            "text/plain": [
              "<matplotlib.legend.Legend at 0x7f45ff9dcb80>"
            ]
          },
          "metadata": {},
          "execution_count": 126
        },
        {
          "output_type": "display_data",
          "data": {
            "text/plain": [
              "<Figure size 640x480 with 1 Axes>"
            ],
            "image/png": "[encoded data removed]"
          },
          "metadata": {}
        }
      ],
      "source": [
        "plt.plot(cumulativeRevenueA['date'], cumulativeRevenueA['revenue']/cumulativeRevenueA['orders'], label='A')\n",
        "plt.plot(cumulativeRevenueB['date'], cumulativeRevenueB['revenue']/cumulativeRevenueB['orders'], label='B')\n",
        "plt.xticks(rotation=45)\n",
        "plt.title(\"Кумулятивный средний чек по дням и группам A/B-тестирования\")\n",
        "plt.xlabel(\"Дата\")\n",
        "plt.ylabel(\"Размер среднего чека, руб.\")\n",
        "plt.legend()"
      ]
    },
    {
      "cell_type": "markdown",
      "metadata": {
        "id": "ntx42eOUfSXd"
      },
      "source": [
        "### Вывод\n",
        "Средний чек становится равномерным ближе к концу теста: установился для группы A, но падает для группы B. К тому же и здесь виден резкий скачок среднего чека группы B как и на предыдущем графике. После этого началось плавное падение. Возможно, в группу B в определенный момент теста попали крупные заказы (резкий всплеск на графике). После чего данные приходят  к реальному среднему чеку."
      ]
    },
    {
      "cell_type": "markdown",
      "metadata": {
        "id": "DEKdBf1IfSXe"
      },
      "source": [
        "### 3. Построим график относительного изменения кумулятивного среднего чека группы B к группе A.\n",
        "\n",
        "<a name=\"cum_mean_change_diagram\"></a>\n",
        "\n"
      ]
    },
    {
      "cell_type": "code",
      "execution_count": 127,
      "metadata": {
        "colab": {
          "base_uri": "https://localhost:8080/",
          "height": 542
        },
        "id": "7iREBzSifSXe",
        "outputId": "20c893b2-b6db-4777-806e-1479086937cb"
      },
      "outputs": [
        {
          "output_type": "execute_result",
          "data": {
            "text/plain": [
              "<matplotlib.lines.Line2D at 0x7f45ff92bbe0>"
            ]
          },
          "metadata": {},
          "execution_count": 127
        },
        {
          "output_type": "display_data",
          "data": {
            "text/plain": [
              "<Figure size 640x480 with 1 Axes>"
            ],
            "image/png": "[encoded data removed]"
          },
          "metadata": {}
        }
      ],
      "source": [
        "# собираем данные в одном датафрейме\n",
        "mergedCumulativeRevenue = cumulativeRevenueA.merge(cumulativeRevenueB, left_on='date', right_on='date', how='left', suffixes=['A', 'B'])\n",
        "\n",
        "# cтроим отношение средних чеков\n",
        "plt.plot(mergedCumulativeRevenue['date'], (mergedCumulativeRevenue['revenueB']/mergedCumulativeRevenue['ordersB'])/(mergedCumulativeRevenue['revenueA']/mergedCumulativeRevenue['ordersA'])-1)\n",
        "plt.xticks(rotation=45)\n",
        "plt.title(\"Относительное изменение кумулятивного среднего чека группы B к группе A\")\n",
        "plt.xlabel(\"Дата\")\n",
        "plt.ylabel(\"Отношение группы В к группе А\")\n",
        "# добавляем ось X\n",
        "plt.axhline(y=0, color='black', linestyle='--')\n"
      ]
    },
    {
      "cell_type": "markdown",
      "metadata": {
        "id": "Y9VG7n6XfSXe"
      },
      "source": [
        "### Вывод\n",
        "В нескольких точках график различия между сегментами резко «скачет». Необходимо изучить крупные заказы и выбросы."
      ]
    },
    {
      "cell_type": "markdown",
      "metadata": {
        "id": "enNNG-HHfSXe"
      },
      "source": [
        "### 4. Построим график кумулятивной конверсии по группам.\n",
        "<a name=\"cum_conv_diagram\"></a>"
      ]
    },
    {
      "cell_type": "code",
      "execution_count": 128,
      "metadata": {
        "colab": {
          "base_uri": "https://localhost:8080/",
          "height": 542
        },
        "id": "7M-ZjRl7fSXe",
        "outputId": "7bc11712-fe70-4798-8316-3efbe8a3b835"
      },
      "outputs": [
        {
          "output_type": "execute_result",
          "data": {
            "text/plain": [
              "<matplotlib.legend.Legend at 0x7f45ff8f4a60>"
            ]
          },
          "metadata": {},
          "execution_count": 128
        },
        {
          "output_type": "display_data",
          "data": {
            "text/plain": [
              "<Figure size 640x480 with 1 Axes>"
            ],
            "image/png": "[encoded data removed]"
          },
          "metadata": {}
        }
      ],
      "source": [
        "# считаем кумулятивную конверсию\n",
        "cumulativeData['conversion'] = cumulativeData['orders']/cumulativeData['visitors']\n",
        "\n",
        "# отделяем данные по группе A\n",
        "cumulativeDataA = cumulativeData[cumulativeData['group']=='A']\n",
        "\n",
        "# отделяем данные по группе B\n",
        "cumulativeDataB = cumulativeData[cumulativeData['group']=='B']\n",
        "\n",
        "# строим графики\n",
        "plt.plot(cumulativeDataA['date'], cumulativeDataA['conversion'], label='A')\n",
        "plt.plot(cumulativeDataB['date'], cumulativeDataB['conversion'], label='B')\n",
        "plt.xticks(rotation=45)\n",
        "plt.title(\"Кумулятивная конверсия по группам\")\n",
        "plt.xlabel(\"Дата\")\n",
        "plt.ylabel(\"Коэффициент конверсии\")\n",
        "plt.legend()\n"
      ]
    },
    {
      "cell_type": "markdown",
      "metadata": {
        "id": "K9yRht5ofSXf"
      },
      "source": [
        "### Вывод\n",
        "График получился достаточно симметричным. В определенный момент конверсия для группы B резко возросла, а для группы А упала. После этого резких скачков не было и показатели достаточно равномерны. Однако конверсия группы В выше конверсии группы А."
      ]
    },
    {
      "cell_type": "markdown",
      "metadata": {
        "id": "S6Ie20yafSXf"
      },
      "source": [
        "### 5. Построим график относительного изменения кумулятивной конверсии группы B к группе A.\n",
        "<a name=\"cum_conv_change_diagram\"></a>"
      ]
    },
    {
      "cell_type": "code",
      "execution_count": 129,
      "metadata": {
        "colab": {
          "base_uri": "https://localhost:8080/",
          "height": 542
        },
        "id": "V9CDnxnefSXf",
        "outputId": "ab9c39be-22cb-474d-e46d-989f1c6cfaae"
      },
      "outputs": [
        {
          "output_type": "execute_result",
          "data": {
            "text/plain": [
              "<matplotlib.lines.Line2D at 0x7f45ff80c910>"
            ]
          },
          "metadata": {},
          "execution_count": 129
        },
        {
          "output_type": "display_data",
          "data": {
            "text/plain": [
              "<Figure size 640x480 with 1 Axes>"
            ],
            "image/png": "[encoded data removed]"
          },
          "metadata": {}
        }
      ],
      "source": [
        "mergedCumulativeConversions = (\n",
        "    cumulativeDataA[['date','conversion']]\n",
        "    .merge(cumulativeDataB[['date','conversion']], left_on='date', right_on='date', how='left', suffixes=['A', 'B'])\n",
        ")\n",
        "\n",
        "plt.plot(mergedCumulativeConversions['date'], mergedCumulativeConversions['conversionB']/mergedCumulativeConversions['conversionA']-1, label=\"Относительный прирост конверсии группы B относительно группы A\")\n",
        "plt.xticks(rotation=45)\n",
        "plt.title(\"Относительное изменение кумулятивной конверсии группы B к группе A\")\n",
        "plt.xlabel(\"Дата\")\n",
        "plt.ylabel(\"Отношение группы В к группе А\")\n",
        "plt.legend()\n",
        "\n",
        "plt.axhline(y=0, color='black', linestyle='--')\n"
      ]
    },
    {
      "cell_type": "markdown",
      "metadata": {
        "id": "8g2mUqo4fSXg"
      },
      "source": [
        "### Вывод\n",
        "После резкого провала конверсии группы В в самом начале теста последовал подъем. С этого момента конверсия группы В стабильно выше."
      ]
    },
    {
      "cell_type": "markdown",
      "metadata": {
        "id": "C56Q_g6SfSXg"
      },
      "source": [
        "### 6. Построим точечный график количества заказов по пользователям.\n",
        "<a name=\"scatter_orders\"></a>"
      ]
    },
    {
      "cell_type": "code",
      "execution_count": 130,
      "metadata": {
        "colab": {
          "base_uri": "https://localhost:8080/",
          "height": 363
        },
        "id": "pd8mzez8fSXg",
        "outputId": "e4bfd757-07b6-4ffa-eb80-35cf420f35d4"
      },
      "outputs": [
        {
          "output_type": "execute_result",
          "data": {
            "text/plain": [
              "          userId  orders\n",
              "1023  4256040402      11\n",
              "591   2458001652      11\n",
              "569   2378935119       9\n",
              "487   2038680547       8\n",
              "44     199603092       5\n",
              "744   3062433592       5\n",
              "55     237748145       5\n",
              "917   3803269165       5\n",
              "299   1230306981       5\n",
              "897   3717692402       5"
            ],
            "text/html": [
              "\n",
              "  <div id=\"df-587fa4c9-59e0-410f-a318-cffbb811f17a\">\n",
              "    <div class=\"colab-df-container\">\n",
              "      <div>\n",
              "<style scoped>\n",
              "    .dataframe tbody tr th:only-of-type {\n",
              "        vertical-align: middle;\n",
              "    }\n",
              "\n",
              "    .dataframe tbody tr th {\n",
              "        vertical-align: top;\n",
              "    }\n",
              "\n",
              "    .dataframe thead th {\n",
              "        text-align: right;\n",
              "    }\n",
              "</style>\n",
              "<table border=\"1\" class=\"dataframe\">\n",
              "  <thead>\n",
              "    <tr style=\"text-align: right;\">\n",
              "      <th></th>\n",
              "      <th>userId</th>\n",
              "      <th>orders</th>\n",
              "    </tr>\n",
              "  </thead>\n",
              "  <tbody>\n",
              "    <tr>\n",
              "      <th>1023</th>\n",
              "      <td>4256040402</td>\n",
              "      <td>11</td>\n",
              "    </tr>\n",
              "    <tr>\n",
              "      <th>591</th>\n",
              "      <td>2458001652</td>\n",
              "      <td>11</td>\n",
              "    </tr>\n",
              "    <tr>\n",
              "      <th>569</th>\n",
              "      <td>2378935119</td>\n",
              "      <td>9</td>\n",
              "    </tr>\n",
              "    <tr>\n",
              "      <th>487</th>\n",
              "      <td>2038680547</td>\n",
              "      <td>8</td>\n",
              "    </tr>\n",
              "    <tr>\n",
              "      <th>44</th>\n",
              "      <td>199603092</td>\n",
              "      <td>5</td>\n",
              "    </tr>\n",
              "    <tr>\n",
              "      <th>744</th>\n",
              "      <td>3062433592</td>\n",
              "      <td>5</td>\n",
              "    </tr>\n",
              "    <tr>\n",
              "      <th>55</th>\n",
              "      <td>237748145</td>\n",
              "      <td>5</td>\n",
              "    </tr>\n",
              "    <tr>\n",
              "      <th>917</th>\n",
              "      <td>3803269165</td>\n",
              "      <td>5</td>\n",
              "    </tr>\n",
              "    <tr>\n",
              "      <th>299</th>\n",
              "      <td>1230306981</td>\n",
              "      <td>5</td>\n",
              "    </tr>\n",
              "    <tr>\n",
              "      <th>897</th>\n",
              "      <td>3717692402</td>\n",
              "      <td>5</td>\n",
              "    </tr>\n",
              "  </tbody>\n",
              "</table>\n",
              "</div>\n",
              "      <button class=\"colab-df-convert\" onclick=\"convertToInteractive('df-587fa4c9-59e0-410f-a318-cffbb811f17a')\"\n",
              "              title=\"Convert this dataframe to an interactive table.\"\n",
              "              style=\"display:none;\">\n",
              "        \n",
              "  <svg xmlns=\"http://www.w3.org/2000/svg\" height=\"24px\"viewBox=\"0 0 24 24\"\n",
              "       width=\"24px\">\n",
              "    <path d=\"M0 0h24v24H0V0z\" fill=\"none\"/>\n",
              "    <path d=\"M18.56 5.44l.94 2.06.94-2.06 2.06-.94-2.06-.94-.94-2.06-.94 2.06-2.06.94zm-11 1L8.5 8.5l.94-2.06 2.06-.94-2.06-.94L8.5 2.5l-.94 2.06-2.06.94zm10 10l.94 2.06.94-2.06 2.06-.94-2.06-.94-.94-2.06-.94 2.06-2.06.94z\"/><path d=\"M17.41 7.96l-1.37-1.37c-.4-.4-.92-.59-1.43-.59-.52 0-1.04.2-1.43.59L10.3 9.45l-7.72 7.72c-.78.78-.78 2.05 0 2.83L4 21.41c.39.39.9.59 1.41.59.51 0 1.02-.2 1.41-.59l7.78-7.78 2.81-2.81c.8-.78.8-2.07 0-2.86zM5.41 20L4 18.59l7.72-7.72 1.47 1.35L5.41 20z\"/>\n",
              "  </svg>\n",
              "      </button>\n",
              "      \n",
              "  <style>\n",
              "    .colab-df-container {\n",
              "      display:flex;\n",
              "      flex-wrap:wrap;\n",
              "      gap: 12px;\n",
              "    }\n",
              "\n",
              "    .colab-df-convert {\n",
              "      background-color: #E8F0FE;\n",
              "      border: none;\n",
              "      border-radius: 50%;\n",
              "      cursor: pointer;\n",
              "      display: none;\n",
              "      fill: #1967D2;\n",
              "      height: 32px;\n",
              "      padding: 0 0 0 0;\n",
              "      width: 32px;\n",
              "    }\n",
              "\n",
              "    .colab-df-convert:hover {\n",
              "      background-color: #E2EBFA;\n",
              "      box-shadow: 0px 1px 2px rgba(60, 64, 67, 0.3), 0px 1px 3px 1px rgba(60, 64, 67, 0.15);\n",
              "      fill: #174EA6;\n",
              "    }\n",
              "\n",
              "    [theme=dark] .colab-df-convert {\n",
              "      background-color: #3B4455;\n",
              "      fill: #D2E3FC;\n",
              "    }\n",
              "\n",
              "    [theme=dark] .colab-df-convert:hover {\n",
              "      background-color: #434B5C;\n",
              "      box-shadow: 0px 1px 3px 1px rgba(0, 0, 0, 0.15);\n",
              "      filter: drop-shadow(0px 1px 2px rgba(0, 0, 0, 0.3));\n",
              "      fill: #FFFFFF;\n",
              "    }\n",
              "  </style>\n",
              "\n",
              "      <script>\n",
              "        const buttonEl =\n",
              "          document.querySelector('#df-587fa4c9-59e0-410f-a318-cffbb811f17a button.colab-df-convert');\n",
              "        buttonEl.style.display =\n",
              "          google.colab.kernel.accessAllowed ? 'block' : 'none';\n",
              "\n",
              "        async function convertToInteractive(key) {\n",
              "          const element = document.querySelector('#df-587fa4c9-59e0-410f-a318-cffbb811f17a');\n",
              "          const dataTable =\n",
              "            await google.colab.kernel.invokeFunction('convertToInteractive',\n",
              "                                                     [key], {});\n",
              "          if (!dataTable) return;\n",
              "\n",
              "          const docLinkHtml = 'Like what you see? Visit the ' +\n",
              "            '<a target=\"_blank\" href=https://colab.research.google.com/notebooks/data_table.ipynb>data table notebook</a>'\n",
              "            + ' to learn more about interactive tables.';\n",
              "          element.innerHTML = '';\n",
              "          dataTable['output_type'] = 'display_data';\n",
              "          await google.colab.output.renderOutput(dataTable, element);\n",
              "          const docLink = document.createElement('div');\n",
              "          docLink.innerHTML = docLinkHtml;\n",
              "          element.appendChild(docLink);\n",
              "        }\n",
              "      </script>\n",
              "    </div>\n",
              "  </div>\n",
              "  "
            ]
          },
          "metadata": {},
          "execution_count": 130
        }
      ],
      "source": [
        "# подсчитаем количество заказов по пользователям\n",
        "\n",
        "ordersByUsers = (\n",
        "    orders.groupby('visitor_id', as_index=False)\n",
        "    .agg({'transaction_id': 'nunique'})\n",
        ")\n",
        "\n",
        "ordersByUsers.columns = ['userId', 'orders']\n",
        "\n",
        "ordersByUsers.sort_values(by='orders', ascending=False).head(10)\n"
      ]
    },
    {
      "cell_type": "code",
      "execution_count": 131,
      "metadata": {
        "colab": {
          "base_uri": "https://localhost:8080/",
          "height": 490
        },
        "id": "VtVAiNP6fSXg",
        "outputId": "198382e6-d7d6-42cb-82f4-5e6007b65e9b"
      },
      "outputs": [
        {
          "output_type": "execute_result",
          "data": {
            "text/plain": [
              "Text(0, 0.5, 'Количество заказов')"
            ]
          },
          "metadata": {},
          "execution_count": 131
        },
        {
          "output_type": "display_data",
          "data": {
            "text/plain": [
              "<Figure size 640x480 with 1 Axes>"
            ],
            "image/png": "[encoded data removed]"
          },
          "metadata": {}
        }
      ],
      "source": [
        "#  построим точечную диаграмму числа заказов на одного пользователя\n",
        "x_values = pd.Series(range(0,len(ordersByUsers)))\n",
        "\n",
        "plt.scatter(x_values, ordersByUsers['orders'])\n",
        "plt.title(\"Количество заказов на одного пользователя\")\n",
        "plt.xlabel(\"Количество пользователей\")\n",
        "plt.ylabel(\"Количество заказов\")"
      ]
    },
    {
      "cell_type": "markdown",
      "metadata": {
        "id": "jMzP-U8sfSXj"
      },
      "source": [
        "### Вывод\n",
        "Большинство пользователей делали один заказ, однако два-три заказа встречаются тоже часто. Четыре и более — уже редкость."
      ]
    },
    {
      "cell_type": "markdown",
      "metadata": {
        "id": "zMGLJPl5fSXj"
      },
      "source": [
        "### 7. Посчитаем 95-й и 99-й перцентили количества заказов на пользователя. Выберем границу для определения аномальных пользователей.\n",
        "<a name=\"percentile_orders\"></a>"
      ]
    },
    {
      "cell_type": "code",
      "execution_count": 132,
      "metadata": {
        "colab": {
          "base_uri": "https://localhost:8080/"
        },
        "id": "EacdWSj3fSXk",
        "outputId": "4c0e87d4-0bc5-42b7-e7b6-7398d71c4643"
      },
      "outputs": [
        {
          "output_type": "execute_result",
          "data": {
            "text/plain": [
              "array([2., 4.])"
            ]
          },
          "metadata": {},
          "execution_count": 132
        }
      ],
      "source": [
        "np.percentile(ordersByUsers['orders'], [95, 99])"
      ]
    },
    {
      "cell_type": "markdown",
      "metadata": {
        "id": "alrdl1OAfSXl"
      },
      "source": [
        "### Вывод\n",
        "Пять процентов покупателей делали больше двух заказов, один процент — больше четырех. Разумно выбрать 4 заказа на одного пользователя за нижнюю границу числа заказов, и отсеять аномальных пользователей по ней. "
      ]
    },
    {
      "cell_type": "markdown",
      "metadata": {
        "id": "Kiow2l4mfSXl"
      },
      "source": [
        "### 8. Построим точечный график стоимостей заказов.\n",
        "<a name=\"scatter_revenue\"></a>"
      ]
    },
    {
      "cell_type": "code",
      "execution_count": 133,
      "metadata": {
        "colab": {
          "base_uri": "https://localhost:8080/",
          "height": 490
        },
        "id": "0yMNE-6TfSXl",
        "outputId": "d0328ea2-7cbd-4042-e682-e07b73a81005"
      },
      "outputs": [
        {
          "output_type": "execute_result",
          "data": {
            "text/plain": [
              "Text(0, 0.5, 'Стоимость заказов, руб.')"
            ]
          },
          "metadata": {},
          "execution_count": 133
        },
        {
          "output_type": "display_data",
          "data": {
            "text/plain": [
              "<Figure size 640x480 with 1 Axes>"
            ],
            "image/png": "[encoded data removed]"
          },
          "metadata": {}
        }
      ],
      "source": [
        "values = pd.Series(range(0,len(orders['revenue'])))\n",
        "plt.scatter(values, orders['revenue'])\n",
        "plt.title(\"Стоимость заказов пользователей\")\n",
        "plt.xlabel(\"Количество пользователей\")\n",
        "plt.ylabel(\"Стоимость заказов, руб.\")"
      ]
    },
    {
      "cell_type": "markdown",
      "metadata": {
        "id": "HINJmmEBfSXm"
      },
      "source": [
        "### Вывод\n",
        "Выделяются две аномалии: заказ на 200 тыс. и на 1,2 млн."
      ]
    },
    {
      "cell_type": "markdown",
      "metadata": {
        "id": "bkCwQQeLfSXm"
      },
      "source": [
        "### 9. Посчитаем 95-й и 99-й перцентили стоимости заказов. Выберем границу для определения аномальных заказов.\n",
        "<a name=\"percentile_revenue\"></a>"
      ]
    },
    {
      "cell_type": "code",
      "execution_count": 134,
      "metadata": {
        "colab": {
          "base_uri": "https://localhost:8080/"
        },
        "id": "O0tkENUSfSXm",
        "outputId": "26de2224-55cd-4677-b249-818321ca03a5"
      },
      "outputs": [
        {
          "output_type": "execute_result",
          "data": {
            "text/plain": [
              "array([28000. , 58233.2])"
            ]
          },
          "metadata": {},
          "execution_count": 134
        }
      ],
      "source": [
        "np.percentile(orders['revenue'], [95, 99])"
      ]
    },
    {
      "cell_type": "markdown",
      "metadata": {
        "id": "wuvee2SyfSXn"
      },
      "source": [
        "### Вывод\n",
        "Не более 5% заказов дороже 28000 рублей и не более 1% дороже 58233 рублей. Имеет смысл оставить в выборке заказы на сумму не выше 99 перцентиля – 58233,2 руб."
      ]
    },
    {
      "cell_type": "markdown",
      "metadata": {
        "id": "mAENBFatfSXn"
      },
      "source": [
        "### 10. Посчитаем статистическую значимость различий в конверсии между группами по «сырым» данным. \n",
        "<a name=\"stat_conv_raw\"></a>\n",
        "\n",
        "**Нулевая гипотеза**: разница в конверсии между группами по «сырым» данным статистически незначима\n",
        "\n",
        "**Альтернативная гипотеза**: разница в конверсии между группами по «сырым» данным статистически значима"
      ]
    },
    {
      "cell_type": "code",
      "execution_count": 135,
      "metadata": {
        "id": "yanX6VGtfSXo"
      },
      "outputs": [],
      "source": [
        "# отделяем данные по группе A\n",
        "data_newA = orders[orders['group']=='A']\n",
        "\n",
        "# отделяем данные по группе B\n",
        "data_newB = orders[orders['group']=='B']\n",
        "\n",
        "#считаем количество заказов\n",
        "data_newA = data_newA.groupby('visitor_id', as_index=False).agg({'transaction_id':'nunique'})\n",
        "data_newB = data_newB.groupby('visitor_id', as_index=False).agg({'transaction_id':'nunique'})\n",
        " "
      ]
    },
    {
      "cell_type": "code",
      "execution_count": 136,
      "metadata": {
        "id": "E8REtfddp43z"
      },
      "outputs": [],
      "source": [
        "# объединяем список с количеством заказов для каждого из пользователей с нулями для списка клиентов, которые ничего не заказали\n",
        "\n",
        "sampleA = pd.concat([data_newA['transaction_id'],pd.Series(0, index=np.arange(visitors[visitors['group']=='A']['visitors'].sum() - len(data_newA['transaction_id'])), name='orders')],axis=0)\n",
        "\n",
        "sampleB = pd.concat([data_newB['transaction_id'],pd.Series(0, index=np.arange(visitors[visitors['group']=='B']['visitors'].sum() - len(data_newB['transaction_id'])), name='orders')],axis=0)\n",
        "\n"
      ]
    },
    {
      "cell_type": "code",
      "execution_count": 137,
      "metadata": {
        "colab": {
          "base_uri": "https://localhost:8080/",
          "height": 89
        },
        "id": "I1aamXsofSXo",
        "outputId": "415cd216-7322-4791-b5e0-e2f0dc7117fa"
      },
      "outputs": [
        {
          "output_type": "display_data",
          "data": {
            "text/plain": [
              "'0.138'"
            ],
            "application/vnd.google.colaboratory.intrinsic+json": {
              "type": "string"
            }
          },
          "metadata": {}
        },
        {
          "output_type": "display_data",
          "data": {
            "text/plain": [
              "'p-значение: '"
            ],
            "application/vnd.google.colaboratory.intrinsic+json": {
              "type": "string"
            }
          },
          "metadata": {}
        },
        {
          "output_type": "display_data",
          "data": {
            "text/plain": [
              "0.016792355056752608"
            ]
          },
          "metadata": {}
        },
        {
          "output_type": "stream",
          "name": "stdout",
          "text": [
            "Отвергаем нулевую гипотезу: разница статистически значима\n"
          ]
        }
      ],
      "source": [
        "# посчитаем статистическую значимость различий выборок\n",
        "results_conversion_raw = stats.mannwhitneyu(sampleA, sampleB)\n",
        "\n",
        "# выведем относительный прирост конверсии группы B\n",
        "display('{0:.3f}'.format(sampleB.mean()/sampleA.mean()-1))\n",
        "\n",
        "\n",
        "alpha = 0.05  # критический уровень статистической значимости\n",
        "\n",
        "display('p-значение: ', results_conversion_raw.pvalue)\n",
        "\n",
        "if results_conversion_raw.pvalue < alpha:\n",
        "    print('Отвергаем нулевую гипотезу: разница статистически значима')\n",
        "else:\n",
        "    print(\n",
        "        'Не получилось отвергнуть нулевую гипотезу, вывод о различии сделать нельзя'\n",
        "    ) \n",
        "     "
      ]
    },
    {
      "cell_type": "markdown",
      "metadata": {
        "id": "3CbLqknawViZ"
      },
      "source": [
        "### Вывод: \n",
        "По «сырым» данным статистическая значимость различий у групп А и В очень большая.\n",
        "P-value = 0.016. Значит, мы отвергаем нулевую гипотезу: разница в конверсии между группами статистически значима. Относительный выигрыш группы B равен почти 14%."
      ]
    },
    {
      "cell_type": "markdown",
      "metadata": {
        "id": "tXTMGTOzfSXp"
      },
      "source": [
        "### 11. Посчитаем статистическую значимость различий в среднем чеке заказа между группами по «сырым» данным.\n",
        "<a name=\"stat_mean_raw\"></a>\n",
        "\n",
        "**Нулевая гипотеза**: разница в среднем чеке заказа между группами по «сырым» данным статистически значима\n",
        "\n",
        "**Альтернативная гипотеза**: разница в среднем чеке заказа между группами по «сырым» данным статистически незначима"
      ]
    },
    {
      "cell_type": "code",
      "execution_count": 138,
      "metadata": {
        "colab": {
          "base_uri": "https://localhost:8080/",
          "height": 89
        },
        "id": "s7xqPtg7x5UL",
        "outputId": "4468e84f-d2db-45d8-d79a-00abcbf215d1"
      },
      "outputs": [
        {
          "output_type": "display_data",
          "data": {
            "text/plain": [
              "'0.259'"
            ],
            "application/vnd.google.colaboratory.intrinsic+json": {
              "type": "string"
            }
          },
          "metadata": {}
        },
        {
          "output_type": "display_data",
          "data": {
            "text/plain": [
              "'p-значение: '"
            ],
            "application/vnd.google.colaboratory.intrinsic+json": {
              "type": "string"
            }
          },
          "metadata": {}
        },
        {
          "output_type": "display_data",
          "data": {
            "text/plain": [
              "0.7292909855432458"
            ]
          },
          "metadata": {}
        },
        {
          "output_type": "stream",
          "name": "stdout",
          "text": [
            "Не получилось отвергнуть нулевую гипотезу, вывод о различии сделать нельзя\n"
          ]
        }
      ],
      "source": [
        "results_mean_raw = stats.mannwhitneyu(orders[orders['group']=='A']['revenue'], orders[orders['group']=='B']['revenue'])\n",
        "display('{0:.3f}'.format(orders[orders['group']=='B']['revenue'].mean()/orders[orders['group']=='A']['revenue'].mean()-1))\n",
        "\n",
        "alpha = 0.05  # критический уровень статистической значимости\n",
        "\n",
        "display('p-значение: ', results_mean_raw.pvalue)\n",
        "\n",
        "if results_mean_raw.pvalue < alpha:\n",
        "    print('Отвергаем нулевую гипотезу: разница статистически значима')\n",
        "else:\n",
        "    print(\n",
        "        'Не получилось отвергнуть нулевую гипотезу, вывод о различии сделать нельзя'\n",
        "    ) \n",
        "     "
      ]
    },
    {
      "cell_type": "markdown",
      "metadata": {
        "id": "vYd5ofocyGAT"
      },
      "source": [
        "### Вывод\n",
        "P-value значительно больше 0.05. Значит, причин отвергать нулевую гипотезу и считать, что в среднем чеке есть различия, нет. Впрочем, средний чек группы B значительно выше среднего чека группы A — почти на 26%."
      ]
    },
    {
      "cell_type": "markdown",
      "metadata": {
        "id": "t1EZub9ufSXr"
      },
      "source": [
        "### 12. Посчитаем статистическую значимость различий в конверсии между группами по «очищенным» данным.\n",
        "<a name=\"stat_conv\"></a>\n",
        "\n",
        "**Нулевая гипотеза**: разница в конверсии между группами по «очищенным» данным статистически значима\n",
        "\n",
        "**Альтернативная гипотеза**: разница в конверсии между группами по «очищенным» данным статистически незначима"
      ]
    },
    {
      "cell_type": "code",
      "execution_count": 139,
      "metadata": {
        "id": "kzEazRYFfSXs"
      },
      "outputs": [],
      "source": [
        "# сделаем срез заказов на не больше 4 заказов на одного пользователя\n",
        "\n",
        "data_newA_reduced = data_newA.query('transaction_id < 4').groupby('visitor_id', as_index=False).agg({'transaction_id':'nunique'})\n",
        "data_newB_reduced = data_newB.query('transaction_id < 4').groupby('visitor_id', as_index=False).agg({'transaction_id':'nunique'})\n"
      ]
    },
    {
      "cell_type": "code",
      "execution_count": 140,
      "metadata": {
        "id": "T9PMa5XRp431"
      },
      "outputs": [],
      "source": [
        "# объединяем список с количеством заказов для каждого из пользователей с нулями для списка клиентов, которые ничего не заказали\n",
        "\n",
        "sampleA_reduced = pd.concat([data_newA_reduced['transaction_id'],pd.Series(0, index=np.arange(visitors[visitors['group']=='A']['visitors'].sum() - len(data_newA_reduced['transaction_id'])), name='orders')],axis=0)\n",
        "\n",
        "sampleB_reduced = pd.concat([data_newB_reduced['transaction_id'],pd.Series(0, index=np.arange(visitors[visitors['group']=='B']['visitors'].sum() - len(data_newB_reduced['transaction_id'])), name='orders')],axis=0)\n"
      ]
    },
    {
      "cell_type": "code",
      "execution_count": 141,
      "metadata": {
        "colab": {
          "base_uri": "https://localhost:8080/",
          "height": 89
        },
        "id": "e_iRlnE0hLoj",
        "outputId": "b99a977b-a78e-4242-fff6-5000758950d7"
      },
      "outputs": [
        {
          "output_type": "display_data",
          "data": {
            "text/plain": [
              "'0.156'"
            ],
            "application/vnd.google.colaboratory.intrinsic+json": {
              "type": "string"
            }
          },
          "metadata": {}
        },
        {
          "output_type": "display_data",
          "data": {
            "text/plain": [
              "'p-значение: '"
            ],
            "application/vnd.google.colaboratory.intrinsic+json": {
              "type": "string"
            }
          },
          "metadata": {}
        },
        {
          "output_type": "display_data",
          "data": {
            "text/plain": [
              "0.016088438528276492"
            ]
          },
          "metadata": {}
        },
        {
          "output_type": "stream",
          "name": "stdout",
          "text": [
            "Отвергаем нулевую гипотезу: разница статистически значима\n"
          ]
        }
      ],
      "source": [
        "# посчитаем статистическую значимость различий выборок\n",
        "results_conversion = stats.mannwhitneyu(sampleA_reduced, sampleB_reduced) \n",
        "\n",
        "# выведем относительный прирост конверсии группы B по очищенным данным\n",
        "display('{0:.3f}'.format(sampleB_reduced.mean()/sampleA_reduced.mean()-1))\n",
        "\n",
        "alpha = 0.05  # критический уровень статистической значимости\n",
        "\n",
        "display('p-значение: ', results_conversion.pvalue)\n",
        "\n",
        "if results_conversion.pvalue < alpha:\n",
        "    print('Отвергаем нулевую гипотезу: разница статистически значима')\n",
        "else:\n",
        "    print(\n",
        "        'Не получилось отвергнуть нулевую гипотезу, вывод о различии сделать нельзя'\n",
        "    ) "
      ]
    },
    {
      "cell_type": "markdown",
      "metadata": {
        "id": "nAjgDFSizfPJ"
      },
      "source": [
        "### Вывод:\n",
        "По очищенным данным разница также статистически значима для групп А и В. P-value также 0.016. Значит мы отвергаем нулевую гипотезу о том, что статистически значимых различий в конверсии между группами нет. Относительный выигрыш группы B немного больше и равен 15%."
      ]
    },
    {
      "cell_type": "markdown",
      "metadata": {
        "id": "a_90pLYxfSXt"
      },
      "source": [
        "### 13. Посчитаем статистическую значимость различий в среднем чеке заказа между группами по «очищенным» данным.\n",
        "<a name=\"stat_mean\"></a>\n",
        "\n",
        "**Нулевая гипотеза**: разница в среднем чеке между группами по «очищенным» данным статистически значима\n",
        "\n",
        "**Альтернативная гипотеза**: разница в среднем чеке между группами по «очищенным» данным статистически незначима"
      ]
    },
    {
      "cell_type": "code",
      "execution_count": 142,
      "metadata": {
        "id": "RgDiJpkYp431"
      },
      "outputs": [],
      "source": [
        "# Создадим переменные ordersByUsersA и ordersByUsersB \n",
        "# В них для пользователей, которые заказывали хотя бы 1 раз, укажем число совершённых заказов\n",
        "ordersByUsersA = (\n",
        "    orders[orders['group'] == 'A']\n",
        "    .groupby('visitor_id', as_index=False)\n",
        "    .agg({'transaction_id': 'nunique'})\n",
        ")\n",
        "\n",
        "\n",
        "ordersByUsersB = (\n",
        "    orders[orders['group'] == 'B']\n",
        "    .groupby('visitor_id', as_index=False)\n",
        "    .agg({'transaction_id': 'nunique'})\n",
        ")"
      ]
    },
    {
      "cell_type": "code",
      "execution_count": 143,
      "metadata": {
        "colab": {
          "base_uri": "https://localhost:8080/",
          "height": 142
        },
        "id": "lnUfMmLEp431",
        "outputId": "35c907bf-8c63-4f2b-cddb-b4fb6dad3b24"
      },
      "outputs": [
        {
          "output_type": "display_data",
          "data": {
            "text/plain": [
              "1099     148427295\n",
              "949      887908475\n",
              "744      888512513\n",
              "1103    1164614297\n",
              "1136    1307669133\n",
              "Name: visitor_id, dtype: int64"
            ]
          },
          "metadata": {}
        },
        {
          "output_type": "execute_result",
          "data": {
            "text/plain": [
              "15"
            ]
          },
          "metadata": {},
          "execution_count": 143
        }
      ],
      "source": [
        "# сделаем срез заказов на сумму не выше 58233 руб. и количеством заказов меньше 4\n",
        "\n",
        "usersWithManyOrders = pd.concat(\n",
        "    [\n",
        "        ordersByUsersA[ordersByUsersA['transaction_id'] > 4]['visitor_id'],\n",
        "        ordersByUsersB[ordersByUsersB['transaction_id'] > 4]['visitor_id'],\n",
        "    ],\n",
        "    axis=0,\n",
        ")\n",
        "usersWithExpensiveOrders = orders[orders['revenue'] > 58233]['visitor_id']\n",
        "\n",
        "abnormalUsers = (\n",
        "    pd.concat([usersWithManyOrders, usersWithExpensiveOrders], axis=0)\n",
        "    .drop_duplicates()\n",
        "    .sort_values()\n",
        ")\n",
        "display(abnormalUsers.head(5))\n",
        "abnormalUsers.shape[0]"
      ]
    },
    {
      "cell_type": "code",
      "execution_count": 144,
      "metadata": {
        "colab": {
          "base_uri": "https://localhost:8080/",
          "height": 89
        },
        "id": "Nboc0srufSXt",
        "outputId": "f89abcd4-fadd-44ba-88ef-d95a91700bb5"
      },
      "outputs": [
        {
          "output_type": "display_data",
          "data": {
            "text/plain": [
              "'-0.006'"
            ],
            "application/vnd.google.colaboratory.intrinsic+json": {
              "type": "string"
            }
          },
          "metadata": {}
        },
        {
          "output_type": "display_data",
          "data": {
            "text/plain": [
              "'p-значение: '"
            ],
            "application/vnd.google.colaboratory.intrinsic+json": {
              "type": "string"
            }
          },
          "metadata": {}
        },
        {
          "output_type": "display_data",
          "data": {
            "text/plain": [
              "0.8509126191381939"
            ]
          },
          "metadata": {}
        },
        {
          "output_type": "stream",
          "name": "stdout",
          "text": [
            "Не получилось отвергнуть нулевую гипотезу, вывод о различии сделать нельзя\n"
          ]
        }
      ],
      "source": [
        "results_mean = (\n",
        "        stats.mannwhitneyu(\n",
        "            orders[\n",
        "                np.logical_and(\n",
        "                    orders['group'] == 'A',\n",
        "                    np.logical_not(orders['visitor_id'].isin(abnormalUsers)),\n",
        "                )\n",
        "            ]['revenue'],\n",
        "            orders[\n",
        "                np.logical_and(\n",
        "                    orders['group'] == 'B',\n",
        "                    np.logical_not(orders['visitor_id'].isin(abnormalUsers)),\n",
        "                )\n",
        "            ]['revenue'],\n",
        "        )\n",
        ")\n",
        "\n",
        "display(\n",
        "    \"{0:.3f}\".format(\n",
        "        orders[\n",
        "            np.logical_and(\n",
        "                orders['group'] == 'B',\n",
        "                np.logical_not(orders['visitor_id'].isin(abnormalUsers)),\n",
        "            )\n",
        "        ]['revenue'].mean()\n",
        "        / orders[\n",
        "            np.logical_and(\n",
        "                orders['group'] == 'A',\n",
        "                np.logical_not(orders['visitor_id'].isin(abnormalUsers)),\n",
        "            )\n",
        "        ]['revenue'].mean()\n",
        "        - 1\n",
        "    )\n",
        ")\n",
        "\n",
        "alpha = 0.05  # критический уровень статистической значимости\n",
        "\n",
        "display('p-значение: ', results_mean.pvalue)\n",
        "\n",
        "if results_mean.pvalue < alpha:\n",
        "    print('Отвергаем нулевую гипотезу: разница статистически значима')\n",
        "else:\n",
        "    print(\n",
        "        'Не получилось отвергнуть нулевую гипотезу, вывод о различии сделать нельзя'\n",
        "    ) "
      ]
    },
    {
      "cell_type": "markdown",
      "metadata": {
        "id": "1oNx3tyIz53B"
      },
      "source": [
        "### Вывод\n",
        "P-value значительно больше 0.05, а по отношению к \"сырым\" данным этот показатель еще и вырос. Значит, причин отвергать нулевую гипотезу и считать, что в среднем чеке есть различия, нет. К тому же, средний чек групп практически не отличается."
      ]
    },
    {
      "cell_type": "markdown",
      "metadata": {
        "id": "QpuHDR_zfSXt"
      },
      "source": [
        "### 14. Примем решение по результатам теста и объясним его.\n",
        "<a name=\"results\"></a>"
      ]
    },
    {
      "cell_type": "markdown",
      "metadata": {
        "id": "br0n5PaifSXu"
      },
      "source": [
        "#### Варианты решений: \n",
        "1. Остановить тест, зафиксировать победу одной из групп. \n",
        "2. Остановить тест, зафиксировать отсутствие различий между группами. \n",
        "3. Продолжить тест."
      ]
    },
    {
      "cell_type": "markdown",
      "metadata": {
        "id": "Nn-QCjwo0YPF"
      },
      "source": [
        "### Результаты:\n",
        "* Есть статистически значимое различие в конверсии между группами как по «сырым», так и по данным после фильтрации аномалий;\n",
        "* Нет статистически значимого различия по среднему чеку между группами ни по «сырым», ни по данным после фильтрации аномалий;\n",
        "* График различия конверсии между группами сообщает, что результаты группы B лучше группы A и есть незначительная тенденция к ухудшению;\n",
        "* График различия среднего чека говорит о том, что результаты группы B лучше группы А, но они ухудшаются день ото дня, несмотря на два всплеска по ходу теста.\n",
        "\n",
        "Исходя из обнаруженных фактов, тест следует остановить и признать его успешным. Наблюдается статистически значимый прирост конверсии для группы В, средний чек для группы В также выше, но разница статистически не значима. Относительный прирост конверсии группы В после удаления аномалий - 15%. Прироста среднего чека по очищенным данным не наблюдается.\n"
      ]
    },
    {
      "cell_type": "markdown",
      "metadata": {
        "id": "3Zd8FblB8bG-"
      },
      "source": [
        "## Общий вывод\n",
        "<a name=\"sumup\"></a>"
      ]
    },
    {
      "cell_type": "markdown",
      "metadata": {
        "id": "176A86KWBIXI"
      },
      "source": [
        "Мы подготовили список гипотез для увеличения выручки. Нам необходимо было приоритизировать гипотезы, запустить A/B-тест и проанализировать результаты.\n",
        "Это позволило бы установить, возможно ли увеличение выручки после применения изменений, сформулированных в гипотезах.\n",
        "\n",
        "Перед проверкой гипотез мы проверили данные на ошибки и оценили их влияние на исследование.\n",
        "\n",
        "Затем мы оценили приоритет гипотез, используя фреймворки ICE и RICE. Гипотезы получили разный приоритет. Оба фреймворка позволили нам исключить последние четыре гипотезы: номер 1, 3, 4 и 5, набравшие меньше всего баллов в обоих случаях. Однако топ-5 для ICE и RICE выглядел совершенно по-разному благодаря влиянию параметра Reach. В целом, следующие гипотезы могут быть использованы для проверки: номер семь, ноль, шесть и два. \n",
        "\n",
        "После этого мы построили графики кумулятивной выручки по группам, кумулятивного среднего чека по группам, относительного изменения кумулятивного среднего чека группы B к группе A, кумулятивной конверсии по группам, относительного изменения кумулятивной конверсии группы B к группе A, точечный график количества заказов по пользователям, точечный график стоимостей заказов. И посчитали 95-й и 99-й перцентили количества заказов на пользователя и стоимости заказов, статистическую значимость различий в конверсии между группами по «сырым» и очищенным данным и статистическую значимость различий в среднем чеке заказа между группами по «сырым» и очищенным данным.\n",
        "\n",
        "Полученные результаты позволили сделать следующие выводы:\n",
        "* Есть статистически значимое различие по конверсии между группами как по «сырым», так и по данным после фильтрации аномалий;\n",
        "* Нет статистически значимого различия по среднему чеку между группами ни по «сырым», ни по данным после фильтрации аномалий;\n",
        "* График различия кумулятивной конверсии между группами сообщает, что результаты группы B лучше группы A и есть незначительная тенденция к ухудшению;\n",
        "* График различия кумулятивного среднего чека говорит о том, что результаты группы B лучше группы А, но они ухудшаются день ото дня, несмотря на два всплеска по ходу теста.\n",
        "\n",
        "Исходя из обнаруженных фактов, тест следует остановить и признать его успешным. Наблюдается статистически значимый прирост конверсии для группы В, средний чек для группы В также выше, но разница статистически не значима. Относительный прирост конверсии группы В после удаления аномалий - 15%. Прироста среднего чека по очищенным данным не наблюдается."
      ]
    }
  ],
  "metadata": {
    "ExecuteTimeLog": [
      {
        "duration": 85,
        "start_time": "2022-07-07T08:17:57.279Z"
      },
      {
        "duration": 135,
        "start_time": "2022-07-07T08:48:12.637Z"
      },
      {
        "duration": 122,
        "start_time": "2022-07-07T08:48:34.944Z"
      },
      {
        "duration": 51,
        "start_time": "2022-07-11T20:03:13.223Z"
      },
      {
        "duration": 1250,
        "start_time": "2022-07-11T20:03:18.623Z"
      },
      {
        "duration": 46,
        "start_time": "2022-07-11T20:03:19.875Z"
      },
      {
        "duration": 12,
        "start_time": "2022-07-11T20:03:19.922Z"
      },
      {
        "duration": 9,
        "start_time": "2022-07-11T20:03:19.936Z"
      },
      {
        "duration": 34,
        "start_time": "2022-07-11T20:03:19.947Z"
      },
      {
        "duration": 18,
        "start_time": "2022-07-11T20:03:19.982Z"
      },
      {
        "duration": 13,
        "start_time": "2022-07-11T20:03:20.001Z"
      },
      {
        "duration": 20,
        "start_time": "2022-07-11T20:03:20.015Z"
      },
      {
        "duration": 36,
        "start_time": "2022-07-11T20:03:20.037Z"
      },
      {
        "duration": 107,
        "start_time": "2022-07-11T20:03:20.077Z"
      },
      {
        "duration": 6,
        "start_time": "2022-07-11T20:03:20.186Z"
      },
      {
        "duration": 12,
        "start_time": "2022-07-11T20:03:20.193Z"
      },
      {
        "duration": 15,
        "start_time": "2022-07-11T20:03:20.207Z"
      },
      {
        "duration": 12,
        "start_time": "2022-07-11T20:03:20.224Z"
      },
      {
        "duration": 53,
        "start_time": "2022-07-11T20:03:20.237Z"
      },
      {
        "duration": 15,
        "start_time": "2022-07-11T20:03:20.291Z"
      },
      {
        "duration": 162,
        "start_time": "2022-07-11T20:03:20.307Z"
      },
      {
        "duration": 127,
        "start_time": "2022-07-11T20:03:20.471Z"
      },
      {
        "duration": 14,
        "start_time": "2022-07-11T20:03:20.600Z"
      },
      {
        "duration": 283,
        "start_time": "2022-07-11T20:03:20.615Z"
      },
      {
        "duration": 187,
        "start_time": "2022-07-11T20:03:20.900Z"
      },
      {
        "duration": 327,
        "start_time": "2022-07-11T20:03:21.089Z"
      },
      {
        "duration": 247,
        "start_time": "2022-07-11T20:03:21.417Z"
      },
      {
        "duration": 324,
        "start_time": "2022-07-11T20:03:21.666Z"
      },
      {
        "duration": 14,
        "start_time": "2022-07-11T20:03:21.992Z"
      },
      {
        "duration": 139,
        "start_time": "2022-07-11T20:03:22.008Z"
      },
      {
        "duration": 10,
        "start_time": "2022-07-11T20:03:22.149Z"
      },
      {
        "duration": 141,
        "start_time": "2022-07-11T20:03:22.176Z"
      },
      {
        "duration": 5,
        "start_time": "2022-07-11T20:03:22.318Z"
      },
      {
        "duration": 10,
        "start_time": "2022-07-11T20:03:22.324Z"
      },
      {
        "duration": 17,
        "start_time": "2022-07-11T20:03:22.345Z"
      },
      {
        "duration": 18,
        "start_time": "2022-07-11T20:03:22.364Z"
      },
      {
        "duration": 106,
        "start_time": "2022-07-11T20:03:22.383Z"
      },
      {
        "duration": 0,
        "start_time": "2022-07-11T20:03:22.491Z"
      },
      {
        "duration": 0,
        "start_time": "2022-07-11T20:03:22.492Z"
      },
      {
        "duration": 0,
        "start_time": "2022-07-11T20:03:22.494Z"
      },
      {
        "duration": 24,
        "start_time": "2022-07-11T20:03:55.387Z"
      },
      {
        "duration": 7,
        "start_time": "2022-07-11T20:05:16.854Z"
      },
      {
        "duration": 8,
        "start_time": "2022-07-11T20:05:49.756Z"
      },
      {
        "duration": 20,
        "start_time": "2022-07-11T20:08:22.278Z"
      },
      {
        "duration": 11,
        "start_time": "2022-07-11T20:09:10.922Z"
      },
      {
        "duration": 16,
        "start_time": "2022-07-11T20:09:46.868Z"
      },
      {
        "duration": 5,
        "start_time": "2022-07-11T20:09:53.802Z"
      },
      {
        "duration": 4,
        "start_time": "2022-07-11T20:11:23.218Z"
      },
      {
        "duration": 7,
        "start_time": "2022-07-11T20:11:55.486Z"
      },
      {
        "duration": 20,
        "start_time": "2022-07-11T20:12:01.855Z"
      },
      {
        "duration": 200,
        "start_time": "2022-07-11T20:15:35.361Z"
      },
      {
        "duration": 218,
        "start_time": "2022-07-11T20:15:50.983Z"
      },
      {
        "duration": 285,
        "start_time": "2022-07-11T20:17:07.571Z"
      },
      {
        "duration": 200,
        "start_time": "2022-07-11T20:17:20.515Z"
      },
      {
        "duration": 215,
        "start_time": "2022-07-11T20:17:40.124Z"
      },
      {
        "duration": 227,
        "start_time": "2022-07-11T20:17:57.075Z"
      },
      {
        "duration": 243,
        "start_time": "2022-07-11T20:18:04.819Z"
      },
      {
        "duration": 203,
        "start_time": "2022-07-11T20:18:57.115Z"
      },
      {
        "duration": 205,
        "start_time": "2022-07-11T20:19:37.276Z"
      },
      {
        "duration": 193,
        "start_time": "2022-07-11T20:19:49.812Z"
      },
      {
        "duration": 320,
        "start_time": "2022-07-11T20:20:48.465Z"
      },
      {
        "duration": 213,
        "start_time": "2022-07-11T20:21:30.779Z"
      },
      {
        "duration": 348,
        "start_time": "2022-07-11T20:22:16.718Z"
      },
      {
        "duration": 148,
        "start_time": "2022-07-11T20:22:44.302Z"
      },
      {
        "duration": 208,
        "start_time": "2022-07-11T20:23:55.858Z"
      },
      {
        "duration": 146,
        "start_time": "2022-07-11T20:24:57.517Z"
      },
      {
        "duration": 1136,
        "start_time": "2022-07-11T20:25:25.182Z"
      },
      {
        "duration": 41,
        "start_time": "2022-07-11T20:25:26.320Z"
      },
      {
        "duration": 16,
        "start_time": "2022-07-11T20:25:26.363Z"
      },
      {
        "duration": 28,
        "start_time": "2022-07-11T20:25:26.382Z"
      },
      {
        "duration": 8,
        "start_time": "2022-07-11T20:25:26.412Z"
      },
      {
        "duration": 6,
        "start_time": "2022-07-11T20:25:26.421Z"
      },
      {
        "duration": 31,
        "start_time": "2022-07-11T20:25:26.429Z"
      },
      {
        "duration": 12,
        "start_time": "2022-07-11T20:25:26.462Z"
      },
      {
        "duration": 14,
        "start_time": "2022-07-11T20:25:26.476Z"
      },
      {
        "duration": 13,
        "start_time": "2022-07-11T20:25:26.492Z"
      },
      {
        "duration": 54,
        "start_time": "2022-07-11T20:25:26.507Z"
      },
      {
        "duration": 8,
        "start_time": "2022-07-11T20:25:26.563Z"
      },
      {
        "duration": 15,
        "start_time": "2022-07-11T20:25:26.573Z"
      },
      {
        "duration": 11,
        "start_time": "2022-07-11T20:25:26.590Z"
      },
      {
        "duration": 20,
        "start_time": "2022-07-11T20:25:26.602Z"
      },
      {
        "duration": 4,
        "start_time": "2022-07-11T20:25:26.624Z"
      },
      {
        "duration": 14,
        "start_time": "2022-07-11T20:25:26.643Z"
      },
      {
        "duration": 28,
        "start_time": "2022-07-11T20:25:26.658Z"
      },
      {
        "duration": 12,
        "start_time": "2022-07-11T20:25:26.688Z"
      },
      {
        "duration": 5,
        "start_time": "2022-07-11T20:25:26.701Z"
      },
      {
        "duration": 6,
        "start_time": "2022-07-11T20:25:26.707Z"
      },
      {
        "duration": 43,
        "start_time": "2022-07-11T20:25:26.714Z"
      },
      {
        "duration": 18,
        "start_time": "2022-07-11T20:25:26.760Z"
      },
      {
        "duration": 158,
        "start_time": "2022-07-11T20:25:26.782Z"
      },
      {
        "duration": 161,
        "start_time": "2022-07-11T20:25:26.941Z"
      },
      {
        "duration": 15,
        "start_time": "2022-07-11T20:25:27.103Z"
      },
      {
        "duration": 316,
        "start_time": "2022-07-11T20:25:27.120Z"
      },
      {
        "duration": 231,
        "start_time": "2022-07-11T20:25:27.439Z"
      },
      {
        "duration": 327,
        "start_time": "2022-07-11T20:25:27.672Z"
      },
      {
        "duration": 220,
        "start_time": "2022-07-11T20:25:28.000Z"
      },
      {
        "duration": 366,
        "start_time": "2022-07-11T20:25:28.222Z"
      },
      {
        "duration": 12,
        "start_time": "2022-07-11T20:25:28.590Z"
      },
      {
        "duration": 164,
        "start_time": "2022-07-11T20:25:28.604Z"
      },
      {
        "duration": 12,
        "start_time": "2022-07-11T20:25:28.773Z"
      },
      {
        "duration": 176,
        "start_time": "2022-07-11T20:25:28.787Z"
      },
      {
        "duration": 7,
        "start_time": "2022-07-11T20:25:28.965Z"
      },
      {
        "duration": 12,
        "start_time": "2022-07-11T20:25:28.974Z"
      },
      {
        "duration": 17,
        "start_time": "2022-07-11T20:25:28.988Z"
      },
      {
        "duration": 17,
        "start_time": "2022-07-11T20:25:29.007Z"
      },
      {
        "duration": 127,
        "start_time": "2022-07-11T20:25:29.047Z"
      },
      {
        "duration": 0,
        "start_time": "2022-07-11T20:25:29.176Z"
      },
      {
        "duration": 0,
        "start_time": "2022-07-11T20:25:29.177Z"
      },
      {
        "duration": 0,
        "start_time": "2022-07-11T20:25:29.179Z"
      },
      {
        "duration": 10,
        "start_time": "2022-07-11T20:31:06.728Z"
      },
      {
        "duration": 8,
        "start_time": "2022-07-11T20:34:50.695Z"
      },
      {
        "duration": 45,
        "start_time": "2022-07-13T12:16:23.670Z"
      },
      {
        "duration": 1259,
        "start_time": "2022-07-13T12:16:29.010Z"
      },
      {
        "duration": 46,
        "start_time": "2022-07-13T12:16:30.270Z"
      },
      {
        "duration": 11,
        "start_time": "2022-07-13T12:16:30.317Z"
      },
      {
        "duration": 122,
        "start_time": "2022-07-13T12:16:30.330Z"
      },
      {
        "duration": 26,
        "start_time": "2022-07-13T12:16:30.453Z"
      },
      {
        "duration": 16,
        "start_time": "2022-07-13T12:16:30.480Z"
      },
      {
        "duration": 25,
        "start_time": "2022-07-13T12:16:30.498Z"
      },
      {
        "duration": 18,
        "start_time": "2022-07-13T12:16:30.525Z"
      },
      {
        "duration": 25,
        "start_time": "2022-07-13T12:16:30.545Z"
      },
      {
        "duration": 17,
        "start_time": "2022-07-13T12:16:30.573Z"
      },
      {
        "duration": 95,
        "start_time": "2022-07-13T12:16:30.591Z"
      },
      {
        "duration": 5,
        "start_time": "2022-07-13T12:16:30.687Z"
      },
      {
        "duration": 24,
        "start_time": "2022-07-13T12:16:30.694Z"
      },
      {
        "duration": 16,
        "start_time": "2022-07-13T12:16:30.719Z"
      },
      {
        "duration": 25,
        "start_time": "2022-07-13T12:16:30.736Z"
      },
      {
        "duration": 18,
        "start_time": "2022-07-13T12:16:30.762Z"
      },
      {
        "duration": 20,
        "start_time": "2022-07-13T12:16:30.782Z"
      },
      {
        "duration": 37,
        "start_time": "2022-07-13T12:16:30.803Z"
      },
      {
        "duration": 46,
        "start_time": "2022-07-13T12:16:30.841Z"
      },
      {
        "duration": 127,
        "start_time": "2022-07-13T12:16:30.889Z"
      },
      {
        "duration": 118,
        "start_time": "2022-07-13T12:16:31.018Z"
      },
      {
        "duration": 75,
        "start_time": "2022-07-13T12:16:31.138Z"
      },
      {
        "duration": 36,
        "start_time": "2022-07-13T12:16:31.216Z"
      },
      {
        "duration": 168,
        "start_time": "2022-07-13T12:16:31.254Z"
      },
      {
        "duration": 133,
        "start_time": "2022-07-13T12:16:31.424Z"
      },
      {
        "duration": 14,
        "start_time": "2022-07-13T12:16:31.559Z"
      },
      {
        "duration": 284,
        "start_time": "2022-07-13T12:16:31.575Z"
      },
      {
        "duration": 185,
        "start_time": "2022-07-13T12:16:31.862Z"
      },
      {
        "duration": 359,
        "start_time": "2022-07-13T12:16:32.048Z"
      },
      {
        "duration": 206,
        "start_time": "2022-07-13T12:16:32.409Z"
      },
      {
        "duration": 310,
        "start_time": "2022-07-13T12:16:32.617Z"
      },
      {
        "duration": 11,
        "start_time": "2022-07-13T12:16:32.929Z"
      },
      {
        "duration": 136,
        "start_time": "2022-07-13T12:16:32.941Z"
      },
      {
        "duration": 5,
        "start_time": "2022-07-13T12:16:33.078Z"
      },
      {
        "duration": 158,
        "start_time": "2022-07-13T12:16:33.085Z"
      },
      {
        "duration": 6,
        "start_time": "2022-07-13T12:16:33.245Z"
      },
      {
        "duration": 62,
        "start_time": "2022-07-13T12:16:33.252Z"
      },
      {
        "duration": 49,
        "start_time": "2022-07-13T12:16:33.316Z"
      },
      {
        "duration": 33,
        "start_time": "2022-07-13T12:16:33.367Z"
      },
      {
        "duration": 61,
        "start_time": "2022-07-13T12:16:33.402Z"
      },
      {
        "duration": 0,
        "start_time": "2022-07-13T12:16:33.464Z"
      },
      {
        "duration": 0,
        "start_time": "2022-07-13T12:16:33.466Z"
      },
      {
        "duration": 10,
        "start_time": "2022-07-13T12:17:17.480Z"
      },
      {
        "duration": 9,
        "start_time": "2022-07-13T12:17:20.582Z"
      },
      {
        "duration": 10,
        "start_time": "2022-07-13T12:17:27.282Z"
      },
      {
        "duration": 163,
        "start_time": "2022-07-13T12:19:13.317Z"
      },
      {
        "duration": 1469,
        "start_time": "2022-07-13T12:21:02.980Z"
      },
      {
        "duration": 160,
        "start_time": "2022-07-13T12:21:10.362Z"
      },
      {
        "duration": 168,
        "start_time": "2022-07-13T12:21:15.771Z"
      },
      {
        "duration": 175,
        "start_time": "2022-07-13T12:21:38.483Z"
      },
      {
        "duration": 158,
        "start_time": "2022-07-13T12:21:57.186Z"
      },
      {
        "duration": 15,
        "start_time": "2022-07-13T12:22:23.097Z"
      },
      {
        "duration": 9,
        "start_time": "2022-07-13T12:22:30.309Z"
      },
      {
        "duration": 213,
        "start_time": "2022-07-13T12:22:51.065Z"
      },
      {
        "duration": 158,
        "start_time": "2022-07-13T12:23:22.800Z"
      },
      {
        "duration": 155,
        "start_time": "2022-07-13T12:23:51.913Z"
      },
      {
        "duration": 150,
        "start_time": "2022-07-13T12:24:07.669Z"
      },
      {
        "duration": 153,
        "start_time": "2022-07-13T12:24:27.970Z"
      },
      {
        "duration": 155,
        "start_time": "2022-07-13T12:24:33.381Z"
      },
      {
        "duration": 152,
        "start_time": "2022-07-13T12:24:44.357Z"
      },
      {
        "duration": 157,
        "start_time": "2022-07-13T12:25:59.992Z"
      },
      {
        "duration": 148,
        "start_time": "2022-07-13T12:46:58.359Z"
      },
      {
        "duration": 157,
        "start_time": "2022-07-13T12:47:09.889Z"
      },
      {
        "duration": 152,
        "start_time": "2022-07-13T12:47:58.667Z"
      },
      {
        "duration": 163,
        "start_time": "2022-07-13T12:48:07.771Z"
      },
      {
        "duration": 17,
        "start_time": "2022-07-13T12:52:07.821Z"
      },
      {
        "duration": 145,
        "start_time": "2022-07-13T12:54:26.028Z"
      },
      {
        "duration": 151,
        "start_time": "2022-07-13T12:54:33.575Z"
      },
      {
        "duration": 157,
        "start_time": "2022-07-13T12:55:00.445Z"
      },
      {
        "duration": 157,
        "start_time": "2022-07-13T12:55:15.585Z"
      },
      {
        "duration": 154,
        "start_time": "2022-07-13T12:55:18.664Z"
      },
      {
        "duration": 154,
        "start_time": "2022-07-13T12:55:24.929Z"
      },
      {
        "duration": 6,
        "start_time": "2022-07-13T12:56:18.098Z"
      },
      {
        "duration": 21,
        "start_time": "2022-07-13T13:01:41.359Z"
      },
      {
        "duration": 21,
        "start_time": "2022-07-13T13:01:59.912Z"
      },
      {
        "duration": 9,
        "start_time": "2022-07-13T13:02:12.589Z"
      },
      {
        "duration": 10,
        "start_time": "2022-07-13T13:03:12.476Z"
      },
      {
        "duration": 68,
        "start_time": "2022-07-13T13:12:37.786Z"
      },
      {
        "duration": 50,
        "start_time": "2022-07-13T13:13:24.171Z"
      },
      {
        "duration": 56,
        "start_time": "2022-07-13T13:13:56.465Z"
      },
      {
        "duration": 19,
        "start_time": "2022-07-13T13:14:08.845Z"
      },
      {
        "duration": 12,
        "start_time": "2022-07-13T13:14:55.301Z"
      },
      {
        "duration": 10,
        "start_time": "2022-07-13T13:14:58.821Z"
      },
      {
        "duration": 20,
        "start_time": "2022-07-13T13:17:28.858Z"
      },
      {
        "duration": 7,
        "start_time": "2022-07-13T13:20:01.370Z"
      },
      {
        "duration": 12,
        "start_time": "2022-07-13T13:20:04.260Z"
      },
      {
        "duration": 16,
        "start_time": "2022-07-13T13:23:15.376Z"
      },
      {
        "duration": 5,
        "start_time": "2022-07-13T13:23:40.775Z"
      },
      {
        "duration": 131,
        "start_time": "2022-07-13T13:24:07.443Z"
      },
      {
        "duration": 1411,
        "start_time": "2022-07-13T13:24:14.213Z"
      },
      {
        "duration": 16,
        "start_time": "2022-07-13T13:26:50.763Z"
      },
      {
        "duration": 859,
        "start_time": "2022-07-13T13:29:20.725Z"
      },
      {
        "duration": 863,
        "start_time": "2022-07-13T13:29:38.189Z"
      },
      {
        "duration": 15,
        "start_time": "2022-07-13T13:30:08.769Z"
      },
      {
        "duration": 18,
        "start_time": "2022-07-13T13:30:15.691Z"
      },
      {
        "duration": 22,
        "start_time": "2022-07-13T13:30:23.286Z"
      },
      {
        "duration": 1137,
        "start_time": "2022-07-13T13:33:00.911Z"
      },
      {
        "duration": 18,
        "start_time": "2022-07-13T13:33:11.601Z"
      },
      {
        "duration": 27,
        "start_time": "2022-07-13T13:33:33.109Z"
      },
      {
        "duration": 21,
        "start_time": "2022-07-13T13:33:45.125Z"
      },
      {
        "duration": 23,
        "start_time": "2022-07-13T13:34:14.849Z"
      },
      {
        "duration": 933,
        "start_time": "2022-07-13T13:35:30.257Z"
      },
      {
        "duration": 1253,
        "start_time": "2022-07-13T13:36:03.216Z"
      },
      {
        "duration": 1517,
        "start_time": "2022-07-13T13:36:35.794Z"
      },
      {
        "duration": 31,
        "start_time": "2022-07-13T13:36:53.248Z"
      },
      {
        "duration": 22,
        "start_time": "2022-07-13T13:37:29.056Z"
      },
      {
        "duration": 22,
        "start_time": "2022-07-13T13:37:56.227Z"
      },
      {
        "duration": 29,
        "start_time": "2022-07-13T13:38:01.218Z"
      },
      {
        "duration": 11,
        "start_time": "2022-07-13T13:38:18.980Z"
      },
      {
        "duration": 10,
        "start_time": "2022-07-13T13:42:39.962Z"
      },
      {
        "duration": 15,
        "start_time": "2022-07-13T13:45:28.946Z"
      },
      {
        "duration": 14,
        "start_time": "2022-07-13T13:45:54.101Z"
      },
      {
        "duration": 129,
        "start_time": "2022-07-13T13:45:58.673Z"
      },
      {
        "duration": 10,
        "start_time": "2022-07-13T13:46:28.032Z"
      },
      {
        "duration": 976,
        "start_time": "2022-07-13T13:46:30.201Z"
      },
      {
        "duration": 480,
        "start_time": "2022-07-13T13:46:45.272Z"
      },
      {
        "duration": 568,
        "start_time": "2022-07-13T13:47:13.557Z"
      },
      {
        "duration": 9,
        "start_time": "2022-07-13T13:47:24.210Z"
      },
      {
        "duration": 10,
        "start_time": "2022-07-13T13:47:28.574Z"
      },
      {
        "duration": 15,
        "start_time": "2022-07-13T13:47:41.048Z"
      },
      {
        "duration": 10,
        "start_time": "2022-07-13T13:48:13.062Z"
      },
      {
        "duration": 12,
        "start_time": "2022-07-13T13:48:36.210Z"
      },
      {
        "duration": 15,
        "start_time": "2022-07-13T13:48:47.896Z"
      },
      {
        "duration": 21,
        "start_time": "2022-07-13T13:53:24.477Z"
      },
      {
        "duration": 1154,
        "start_time": "2022-07-13T13:54:05.109Z"
      },
      {
        "duration": 27,
        "start_time": "2022-07-13T13:54:06.265Z"
      },
      {
        "duration": 11,
        "start_time": "2022-07-13T13:54:06.293Z"
      },
      {
        "duration": 26,
        "start_time": "2022-07-13T13:54:06.307Z"
      },
      {
        "duration": 16,
        "start_time": "2022-07-13T13:54:06.335Z"
      },
      {
        "duration": 11,
        "start_time": "2022-07-13T13:54:06.352Z"
      },
      {
        "duration": 15,
        "start_time": "2022-07-13T13:54:06.364Z"
      },
      {
        "duration": 11,
        "start_time": "2022-07-13T13:54:06.381Z"
      },
      {
        "duration": 18,
        "start_time": "2022-07-13T13:54:06.394Z"
      },
      {
        "duration": 15,
        "start_time": "2022-07-13T13:54:06.415Z"
      },
      {
        "duration": 50,
        "start_time": "2022-07-13T13:54:06.432Z"
      },
      {
        "duration": 6,
        "start_time": "2022-07-13T13:54:06.484Z"
      },
      {
        "duration": 12,
        "start_time": "2022-07-13T13:54:06.491Z"
      },
      {
        "duration": 14,
        "start_time": "2022-07-13T13:54:06.504Z"
      },
      {
        "duration": 22,
        "start_time": "2022-07-13T13:54:06.520Z"
      },
      {
        "duration": 3,
        "start_time": "2022-07-13T13:54:06.544Z"
      },
      {
        "duration": 20,
        "start_time": "2022-07-13T13:54:06.549Z"
      },
      {
        "duration": 8,
        "start_time": "2022-07-13T13:54:06.570Z"
      },
      {
        "duration": 22,
        "start_time": "2022-07-13T13:54:06.579Z"
      },
      {
        "duration": 4,
        "start_time": "2022-07-13T13:54:06.603Z"
      },
      {
        "duration": 8,
        "start_time": "2022-07-13T13:54:06.609Z"
      },
      {
        "duration": 32,
        "start_time": "2022-07-13T13:54:06.618Z"
      },
      {
        "duration": 27,
        "start_time": "2022-07-13T13:54:06.652Z"
      },
      {
        "duration": 201,
        "start_time": "2022-07-13T13:54:06.681Z"
      },
      {
        "duration": 6,
        "start_time": "2022-07-13T13:54:06.884Z"
      },
      {
        "duration": 145,
        "start_time": "2022-07-13T13:54:06.892Z"
      },
      {
        "duration": 16,
        "start_time": "2022-07-13T13:54:07.039Z"
      },
      {
        "duration": 307,
        "start_time": "2022-07-13T13:54:07.058Z"
      },
      {
        "duration": 206,
        "start_time": "2022-07-13T13:54:07.367Z"
      },
      {
        "duration": 314,
        "start_time": "2022-07-13T13:54:07.575Z"
      },
      {
        "duration": 218,
        "start_time": "2022-07-13T13:54:07.890Z"
      },
      {
        "duration": 315,
        "start_time": "2022-07-13T13:54:08.110Z"
      },
      {
        "duration": 10,
        "start_time": "2022-07-13T13:54:08.427Z"
      },
      {
        "duration": 133,
        "start_time": "2022-07-13T13:54:08.438Z"
      },
      {
        "duration": 5,
        "start_time": "2022-07-13T13:54:08.573Z"
      },
      {
        "duration": 157,
        "start_time": "2022-07-13T13:54:08.579Z"
      },
      {
        "duration": 5,
        "start_time": "2022-07-13T13:54:08.737Z"
      },
      {
        "duration": 12,
        "start_time": "2022-07-13T13:54:08.743Z"
      },
      {
        "duration": 17,
        "start_time": "2022-07-13T13:54:08.756Z"
      },
      {
        "duration": 31,
        "start_time": "2022-07-13T13:54:08.774Z"
      },
      {
        "duration": 21,
        "start_time": "2022-07-13T13:54:08.807Z"
      },
      {
        "duration": 18,
        "start_time": "2022-07-13T13:54:08.829Z"
      },
      {
        "duration": 10,
        "start_time": "2022-07-13T13:54:08.849Z"
      },
      {
        "duration": 41,
        "start_time": "2022-07-13T13:54:08.861Z"
      },
      {
        "duration": 19,
        "start_time": "2022-07-13T13:54:08.904Z"
      },
      {
        "duration": 50,
        "start_time": "2022-07-15T12:13:12.865Z"
      },
      {
        "duration": 1449,
        "start_time": "2022-07-15T12:13:18.024Z"
      },
      {
        "duration": 75,
        "start_time": "2022-07-15T12:13:19.475Z"
      },
      {
        "duration": 12,
        "start_time": "2022-07-15T12:13:19.552Z"
      },
      {
        "duration": 25,
        "start_time": "2022-07-15T12:13:19.567Z"
      },
      {
        "duration": 10,
        "start_time": "2022-07-15T12:13:19.594Z"
      },
      {
        "duration": 15,
        "start_time": "2022-07-15T12:13:19.606Z"
      },
      {
        "duration": 29,
        "start_time": "2022-07-15T12:13:19.623Z"
      },
      {
        "duration": 11,
        "start_time": "2022-07-15T12:13:19.654Z"
      },
      {
        "duration": 16,
        "start_time": "2022-07-15T12:13:19.666Z"
      },
      {
        "duration": 14,
        "start_time": "2022-07-15T12:13:19.685Z"
      },
      {
        "duration": 169,
        "start_time": "2022-07-15T12:13:19.700Z"
      },
      {
        "duration": 9,
        "start_time": "2022-07-15T12:13:19.872Z"
      },
      {
        "duration": 17,
        "start_time": "2022-07-15T12:13:19.883Z"
      },
      {
        "duration": 15,
        "start_time": "2022-07-15T12:13:19.901Z"
      },
      {
        "duration": 33,
        "start_time": "2022-07-15T12:13:19.917Z"
      },
      {
        "duration": 5,
        "start_time": "2022-07-15T12:13:19.952Z"
      },
      {
        "duration": 18,
        "start_time": "2022-07-15T12:13:19.958Z"
      },
      {
        "duration": 7,
        "start_time": "2022-07-15T12:13:19.978Z"
      },
      {
        "duration": 8,
        "start_time": "2022-07-15T12:13:19.987Z"
      },
      {
        "duration": 6,
        "start_time": "2022-07-15T12:13:19.997Z"
      },
      {
        "duration": 10,
        "start_time": "2022-07-15T12:13:20.004Z"
      },
      {
        "duration": 56,
        "start_time": "2022-07-15T12:13:20.016Z"
      },
      {
        "duration": 16,
        "start_time": "2022-07-15T12:13:20.074Z"
      },
      {
        "duration": 215,
        "start_time": "2022-07-15T12:13:20.092Z"
      },
      {
        "duration": 7,
        "start_time": "2022-07-15T12:13:20.309Z"
      },
      {
        "duration": 153,
        "start_time": "2022-07-15T12:13:20.318Z"
      },
      {
        "duration": 21,
        "start_time": "2022-07-15T12:13:20.474Z"
      },
      {
        "duration": 330,
        "start_time": "2022-07-15T12:13:20.500Z"
      },
      {
        "duration": 287,
        "start_time": "2022-07-15T12:13:20.833Z"
      },
      {
        "duration": 413,
        "start_time": "2022-07-15T12:13:21.122Z"
      },
      {
        "duration": 239,
        "start_time": "2022-07-15T12:13:21.537Z"
      },
      {
        "duration": 325,
        "start_time": "2022-07-15T12:13:21.778Z"
      },
      {
        "duration": 15,
        "start_time": "2022-07-15T12:13:22.105Z"
      },
      {
        "duration": 175,
        "start_time": "2022-07-15T12:13:22.122Z"
      },
      {
        "duration": 6,
        "start_time": "2022-07-15T12:13:22.299Z"
      },
      {
        "duration": 183,
        "start_time": "2022-07-15T12:13:22.306Z"
      },
      {
        "duration": 6,
        "start_time": "2022-07-15T12:13:22.491Z"
      },
      {
        "duration": 124,
        "start_time": "2022-07-15T12:13:22.499Z"
      },
      {
        "duration": 0,
        "start_time": "2022-07-15T12:13:22.625Z"
      },
      {
        "duration": 0,
        "start_time": "2022-07-15T12:13:22.626Z"
      },
      {
        "duration": 0,
        "start_time": "2022-07-15T12:13:22.628Z"
      },
      {
        "duration": 0,
        "start_time": "2022-07-15T12:13:22.629Z"
      },
      {
        "duration": 0,
        "start_time": "2022-07-15T12:13:22.630Z"
      },
      {
        "duration": 0,
        "start_time": "2022-07-15T12:13:22.646Z"
      },
      {
        "duration": 0,
        "start_time": "2022-07-15T12:13:22.647Z"
      },
      {
        "duration": 23,
        "start_time": "2022-07-15T12:13:32.229Z"
      },
      {
        "duration": 59,
        "start_time": "2022-07-15T12:20:36.938Z"
      },
      {
        "duration": 46,
        "start_time": "2022-07-15T12:20:51.591Z"
      },
      {
        "duration": 5,
        "start_time": "2022-07-15T12:24:31.941Z"
      },
      {
        "duration": 62,
        "start_time": "2022-07-15T12:24:42.874Z"
      },
      {
        "duration": 77,
        "start_time": "2022-07-15T12:24:56.224Z"
      },
      {
        "duration": 10,
        "start_time": "2022-07-15T12:25:15.552Z"
      },
      {
        "duration": 5,
        "start_time": "2022-07-15T12:25:24.046Z"
      },
      {
        "duration": 8,
        "start_time": "2022-07-15T12:25:28.704Z"
      },
      {
        "duration": 7,
        "start_time": "2022-07-15T12:25:37.248Z"
      },
      {
        "duration": 9,
        "start_time": "2022-07-15T12:25:44.470Z"
      },
      {
        "duration": 4,
        "start_time": "2022-07-15T12:27:38.178Z"
      },
      {
        "duration": 805,
        "start_time": "2022-07-15T12:27:50.908Z"
      },
      {
        "duration": 5,
        "start_time": "2022-07-15T12:28:10.231Z"
      },
      {
        "duration": 4,
        "start_time": "2022-07-15T12:28:28.548Z"
      },
      {
        "duration": 5,
        "start_time": "2022-07-15T12:28:36.129Z"
      },
      {
        "duration": 52,
        "start_time": "2022-07-15T12:29:06.754Z"
      },
      {
        "duration": 59,
        "start_time": "2022-07-15T12:29:28.087Z"
      },
      {
        "duration": 48,
        "start_time": "2022-07-15T12:29:36.087Z"
      },
      {
        "duration": 59,
        "start_time": "2022-07-15T12:33:19.066Z"
      },
      {
        "duration": 58,
        "start_time": "2022-07-15T12:33:30.105Z"
      },
      {
        "duration": 50,
        "start_time": "2022-07-15T12:33:52.028Z"
      },
      {
        "duration": 12,
        "start_time": "2022-07-15T12:34:01.053Z"
      },
      {
        "duration": 8,
        "start_time": "2022-07-15T12:37:06.519Z"
      },
      {
        "duration": 11,
        "start_time": "2022-07-15T12:37:14.487Z"
      },
      {
        "duration": 14,
        "start_time": "2022-07-15T12:39:24.589Z"
      },
      {
        "duration": 13,
        "start_time": "2022-07-15T12:39:29.486Z"
      },
      {
        "duration": 15,
        "start_time": "2022-07-15T12:39:32.587Z"
      },
      {
        "duration": 34,
        "start_time": "2022-07-15T12:40:19.026Z"
      },
      {
        "duration": 23,
        "start_time": "2022-07-15T12:45:49.412Z"
      },
      {
        "duration": 29,
        "start_time": "2022-07-15T12:47:22.255Z"
      },
      {
        "duration": 35,
        "start_time": "2022-07-15T12:47:32.328Z"
      },
      {
        "duration": 9,
        "start_time": "2022-07-15T12:50:15.851Z"
      },
      {
        "duration": 11,
        "start_time": "2022-07-15T12:50:29.797Z"
      },
      {
        "duration": 24,
        "start_time": "2022-07-15T13:03:06.044Z"
      },
      {
        "duration": 18,
        "start_time": "2022-07-15T13:03:12.269Z"
      },
      {
        "duration": 19,
        "start_time": "2022-07-15T13:03:20.929Z"
      },
      {
        "duration": 17,
        "start_time": "2022-07-15T13:03:34.509Z"
      },
      {
        "duration": 15,
        "start_time": "2022-07-15T13:03:40.985Z"
      },
      {
        "duration": 1127,
        "start_time": "2022-07-15T13:03:57.473Z"
      },
      {
        "duration": 49,
        "start_time": "2022-07-15T13:03:58.603Z"
      },
      {
        "duration": 15,
        "start_time": "2022-07-15T13:03:58.654Z"
      },
      {
        "duration": 23,
        "start_time": "2022-07-15T13:03:58.672Z"
      },
      {
        "duration": 9,
        "start_time": "2022-07-15T13:03:58.697Z"
      },
      {
        "duration": 9,
        "start_time": "2022-07-15T13:03:58.708Z"
      },
      {
        "duration": 36,
        "start_time": "2022-07-15T13:03:58.719Z"
      },
      {
        "duration": 12,
        "start_time": "2022-07-15T13:03:58.757Z"
      },
      {
        "duration": 16,
        "start_time": "2022-07-15T13:03:58.771Z"
      },
      {
        "duration": 22,
        "start_time": "2022-07-15T13:03:58.791Z"
      },
      {
        "duration": 76,
        "start_time": "2022-07-15T13:03:58.816Z"
      },
      {
        "duration": 7,
        "start_time": "2022-07-15T13:03:58.895Z"
      },
      {
        "duration": 43,
        "start_time": "2022-07-15T13:03:58.904Z"
      },
      {
        "duration": 29,
        "start_time": "2022-07-15T13:03:58.949Z"
      },
      {
        "duration": 36,
        "start_time": "2022-07-15T13:03:58.980Z"
      },
      {
        "duration": 5,
        "start_time": "2022-07-15T13:03:59.019Z"
      },
      {
        "duration": 29,
        "start_time": "2022-07-15T13:03:59.026Z"
      },
      {
        "duration": 23,
        "start_time": "2022-07-15T13:03:59.057Z"
      },
      {
        "duration": 33,
        "start_time": "2022-07-15T13:03:59.083Z"
      },
      {
        "duration": 11,
        "start_time": "2022-07-15T13:03:59.118Z"
      },
      {
        "duration": 10,
        "start_time": "2022-07-15T13:03:59.131Z"
      },
      {
        "duration": 45,
        "start_time": "2022-07-15T13:03:59.144Z"
      },
      {
        "duration": 27,
        "start_time": "2022-07-15T13:03:59.192Z"
      },
      {
        "duration": 228,
        "start_time": "2022-07-15T13:03:59.222Z"
      },
      {
        "duration": 6,
        "start_time": "2022-07-15T13:03:59.452Z"
      },
      {
        "duration": 163,
        "start_time": "2022-07-15T13:03:59.460Z"
      },
      {
        "duration": 31,
        "start_time": "2022-07-15T13:03:59.624Z"
      },
      {
        "duration": 305,
        "start_time": "2022-07-15T13:03:59.659Z"
      },
      {
        "duration": 220,
        "start_time": "2022-07-15T13:03:59.966Z"
      },
      {
        "duration": 326,
        "start_time": "2022-07-15T13:04:00.188Z"
      },
      {
        "duration": 232,
        "start_time": "2022-07-15T13:04:00.516Z"
      },
      {
        "duration": 369,
        "start_time": "2022-07-15T13:04:00.750Z"
      },
      {
        "duration": 25,
        "start_time": "2022-07-15T13:04:01.122Z"
      },
      {
        "duration": 173,
        "start_time": "2022-07-15T13:04:01.150Z"
      },
      {
        "duration": 6,
        "start_time": "2022-07-15T13:04:01.326Z"
      },
      {
        "duration": 176,
        "start_time": "2022-07-15T13:04:01.334Z"
      },
      {
        "duration": 6,
        "start_time": "2022-07-15T13:04:01.512Z"
      },
      {
        "duration": 35,
        "start_time": "2022-07-15T13:04:01.520Z"
      },
      {
        "duration": 32,
        "start_time": "2022-07-15T13:04:01.557Z"
      },
      {
        "duration": 66,
        "start_time": "2022-07-15T13:04:01.590Z"
      },
      {
        "duration": 85,
        "start_time": "2022-07-15T13:04:01.658Z"
      },
      {
        "duration": 28,
        "start_time": "2022-07-15T13:04:01.744Z"
      },
      {
        "duration": 938,
        "start_time": "2022-07-15T13:04:01.773Z"
      },
      {
        "duration": 0,
        "start_time": "2022-07-15T13:04:02.713Z"
      },
      {
        "duration": 0,
        "start_time": "2022-07-15T13:04:02.714Z"
      },
      {
        "duration": 0,
        "start_time": "2022-07-15T13:04:02.715Z"
      },
      {
        "duration": 20,
        "start_time": "2022-07-15T13:04:36.443Z"
      },
      {
        "duration": 16,
        "start_time": "2022-07-15T13:04:45.957Z"
      },
      {
        "duration": 24,
        "start_time": "2022-07-15T13:05:09.516Z"
      },
      {
        "duration": 21,
        "start_time": "2022-07-15T13:05:37.815Z"
      },
      {
        "duration": 18,
        "start_time": "2022-07-15T13:05:42.572Z"
      },
      {
        "duration": 12,
        "start_time": "2022-07-15T13:09:56.063Z"
      },
      {
        "duration": 9,
        "start_time": "2022-07-15T13:09:57.555Z"
      },
      {
        "duration": 28,
        "start_time": "2022-07-15T13:11:02.038Z"
      },
      {
        "duration": 26,
        "start_time": "2022-07-15T13:12:55.149Z"
      },
      {
        "duration": 14,
        "start_time": "2022-07-15T13:24:27.989Z"
      },
      {
        "duration": 12,
        "start_time": "2022-07-15T13:24:32.235Z"
      },
      {
        "duration": 14,
        "start_time": "2022-07-15T13:24:35.604Z"
      },
      {
        "duration": 13,
        "start_time": "2022-07-15T13:24:37.205Z"
      },
      {
        "duration": 24,
        "start_time": "2022-07-15T13:24:38.835Z"
      }
    ],
    "colab": {
      "collapsed_sections": [
        "HINJmmEBfSXm"
      ],
      "provenance": []
    },
    "kernelspec": {
      "display_name": "Python 3 (ipykernel)",
      "language": "python",
      "name": "python3"
    },
    "language_info": {
      "codemirror_mode": {
        "name": "ipython",
        "version": 3
      },
      "file_extension": ".py",
      "mimetype": "text/x-python",
      "name": "python",
      "nbconvert_exporter": "python",
      "pygments_lexer": "ipython3",
      "version": "3.9.5"
    },
    "toc": {
      "base_numbering": 1,
      "nav_menu": {},
      "number_sections": true,
      "sideBar": true,
      "skip_h1_title": true,
      "title_cell": "Table of Contents",
      "title_sidebar": "Contents",
      "toc_cell": false,
      "toc_position": {},
      "toc_section_display": true,
      "toc_window_display": false
    }
  },
  "nbformat": 4,
  "nbformat_minor": 0
}