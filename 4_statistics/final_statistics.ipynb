{
  "cells": [
    {
      "cell_type": "markdown",
      "metadata": {
        "id": "vypYFBhvUppw"
      },
      "source": [
        "## Оглавление\n",
        "1. [Изучение данных из файла](#data_studying)\n",
        "2. [Предобработка данных](#pre_processing)\n",
        "3. [Расчёты и добавление результатов в таблицу](#calculation)\n",
        "4. [Исследовательский анализ данных](#analysis)\n",
        "5. [Гипотезы](#hypothesis)\n",
        "6. [Общий вывод](#sumup)"
      ]
    },
    {
      "cell_type": "markdown",
      "metadata": {
        "id": "BthePYJFUppx"
      },
      "source": [
        "# Определение перспективного тарифа для телеком-компании\n",
        "\n",
        "Клиентам компании «Мегалайн» — федерального оператора сотовой связи — предлагают два тарифных плана: «Смарт» и «Ультра». Чтобы скорректировать рекламный бюджет, коммерческий департамент хочет понять, какой тариф приносит больше денег.\n",
        "Нам необходимо сделать предварительный анализ тарифов на небольшой выборке клиентов. В нашем распоряжении данные 500 пользователей «Мегалайна»: кто они, откуда, каким тарифом пользуются, сколько звонков и сообщений каждый отправил за 2018 год. Нужно проанализировать поведение клиентов и сделать вывод — какой тариф лучше.\n",
        "\n",
        "**Цель исследования** — необходимо понять какой тарифный план, «Смарт» и «Ультра», приносит больше денег компании.\n",
        "\n",
        "**Ход исследования**\n",
        "\n",
        "Перед проверкой гипотез понадобится обзор и предобработка данных данных.\n",
        "\n",
        "Необходимо проверить данные на ошибки и оценить их влияние на исследование. Затем мы устраним пробемы и проведем исследовательский анализ данных.\n",
        "\n",
        "Таким образом, исследование пройдёт в четыре этапа:\n",
        "\n",
        "* Обзор данных.\n",
        "* Предобработка данных.\n",
        "* Исследовательский анализ:\n",
        " * Посчитаем для каждого пользователя:\n",
        "   * количество сделанных звонков и израсходованных минут разговора по месяцам;\n",
        "   * количество отправленных сообщений по месяцам;\n",
        "   * объем израсходованного интернет-трафика по месяцам;\n",
        "   * помесячную выручку с каждого пользователя.\n",
        " * Опишем поведение клиентов оператора, исходя из выборки. \n",
        " * Выясним, сколько минут разговора, сколько сообщений и какой объём интернет-трафика требуется пользователям каждого тарифа в месяц. \n",
        " * Посчитаем среднее количество, дисперсию и стандартное отклонение. \n",
        "* Проверка гипотез:\n",
        " * Узнаем: \n",
        "   * различается ли средняя выручка пользователей тарифов «Ультра» и «Смарт»;\n",
        "   * отличатеся ли средняя выручка пользователей из Москвы от выручки пользователей из других регионов."
      ]
    },
    {
      "cell_type": "markdown",
      "metadata": {
        "id": "INPQJ9tIUppz"
      },
      "source": [
        "## 1. Изучение данных из файла\n",
        "<a name=\"data_studying\"></a>"
      ]
    },
    {
      "cell_type": "markdown",
      "metadata": {
        "id": "84pNx_lFUppz"
      },
      "source": [
        "Изучим входные данные 500 пользователей «Мегалайна»: кто они, откуда, каким тарифом пользуются, сколько звонков и сообщений каждый отправил за 2018 год."
      ]
    },
    {
      "cell_type": "code",
      "execution_count": 132,
      "metadata": {
        "id": "ifZUQO_7Uppz"
      },
      "outputs": [],
      "source": [
        "import pandas as pd\n",
        "import numpy as np \n",
        "import matplotlib.pyplot as plt\n",
        "import seaborn as sns\n",
        "from scipy import stats as st"
      ]
    },
    {
      "cell_type": "code",
      "execution_count": 133,
      "metadata": {
        "colab": {
          "base_uri": "https://localhost:8080/",
          "height": 559
        },
        "id": "4aeIdX3dUpp1",
        "outputId": "812813c7-19aa-469d-ccf9-3b9efc384708"
      },
      "outputs": [
        {
          "output_type": "display_data",
          "data": {
            "text/plain": [
              "       id   call_date  duration  user_id\n",
              "0  1000_0  2018-07-25      0.00     1000\n",
              "1  1000_1  2018-08-17      0.00     1000\n",
              "2  1000_2  2018-06-11      2.85     1000\n",
              "3  1000_3  2018-09-21     13.80     1000\n",
              "4  1000_4  2018-12-15      5.18     1000\n",
              "5  1000_5  2018-11-02      0.00     1000\n",
              "6  1000_6  2018-10-18      0.00     1000\n",
              "7  1000_7  2018-08-22     18.31     1000\n",
              "8  1000_8  2018-09-15     18.44     1000\n",
              "9  1000_9  2018-08-15      0.00     1000"
            ],
            "text/html": [
              "\n",
              "  <div id=\"df-c654bf47-3a5f-4615-84af-73110c6ddab3\">\n",
              "    <div class=\"colab-df-container\">\n",
              "      <div>\n",
              "<style scoped>\n",
              "    .dataframe tbody tr th:only-of-type {\n",
              "        vertical-align: middle;\n",
              "    }\n",
              "\n",
              "    .dataframe tbody tr th {\n",
              "        vertical-align: top;\n",
              "    }\n",
              "\n",
              "    .dataframe thead th {\n",
              "        text-align: right;\n",
              "    }\n",
              "</style>\n",
              "<table border=\"1\" class=\"dataframe\">\n",
              "  <thead>\n",
              "    <tr style=\"text-align: right;\">\n",
              "      <th></th>\n",
              "      <th>id</th>\n",
              "      <th>call_date</th>\n",
              "      <th>duration</th>\n",
              "      <th>user_id</th>\n",
              "    </tr>\n",
              "  </thead>\n",
              "  <tbody>\n",
              "    <tr>\n",
              "      <th>0</th>\n",
              "      <td>1000_0</td>\n",
              "      <td>2018-07-25</td>\n",
              "      <td>0.00</td>\n",
              "      <td>1000</td>\n",
              "    </tr>\n",
              "    <tr>\n",
              "      <th>1</th>\n",
              "      <td>1000_1</td>\n",
              "      <td>2018-08-17</td>\n",
              "      <td>0.00</td>\n",
              "      <td>1000</td>\n",
              "    </tr>\n",
              "    <tr>\n",
              "      <th>2</th>\n",
              "      <td>1000_2</td>\n",
              "      <td>2018-06-11</td>\n",
              "      <td>2.85</td>\n",
              "      <td>1000</td>\n",
              "    </tr>\n",
              "    <tr>\n",
              "      <th>3</th>\n",
              "      <td>1000_3</td>\n",
              "      <td>2018-09-21</td>\n",
              "      <td>13.80</td>\n",
              "      <td>1000</td>\n",
              "    </tr>\n",
              "    <tr>\n",
              "      <th>4</th>\n",
              "      <td>1000_4</td>\n",
              "      <td>2018-12-15</td>\n",
              "      <td>5.18</td>\n",
              "      <td>1000</td>\n",
              "    </tr>\n",
              "    <tr>\n",
              "      <th>5</th>\n",
              "      <td>1000_5</td>\n",
              "      <td>2018-11-02</td>\n",
              "      <td>0.00</td>\n",
              "      <td>1000</td>\n",
              "    </tr>\n",
              "    <tr>\n",
              "      <th>6</th>\n",
              "      <td>1000_6</td>\n",
              "      <td>2018-10-18</td>\n",
              "      <td>0.00</td>\n",
              "      <td>1000</td>\n",
              "    </tr>\n",
              "    <tr>\n",
              "      <th>7</th>\n",
              "      <td>1000_7</td>\n",
              "      <td>2018-08-22</td>\n",
              "      <td>18.31</td>\n",
              "      <td>1000</td>\n",
              "    </tr>\n",
              "    <tr>\n",
              "      <th>8</th>\n",
              "      <td>1000_8</td>\n",
              "      <td>2018-09-15</td>\n",
              "      <td>18.44</td>\n",
              "      <td>1000</td>\n",
              "    </tr>\n",
              "    <tr>\n",
              "      <th>9</th>\n",
              "      <td>1000_9</td>\n",
              "      <td>2018-08-15</td>\n",
              "      <td>0.00</td>\n",
              "      <td>1000</td>\n",
              "    </tr>\n",
              "  </tbody>\n",
              "</table>\n",
              "</div>\n",
              "      <button class=\"colab-df-convert\" onclick=\"convertToInteractive('df-c654bf47-3a5f-4615-84af-73110c6ddab3')\"\n",
              "              title=\"Convert this dataframe to an interactive table.\"\n",
              "              style=\"display:none;\">\n",
              "        \n",
              "  <svg xmlns=\"http://www.w3.org/2000/svg\" height=\"24px\"viewBox=\"0 0 24 24\"\n",
              "       width=\"24px\">\n",
              "    <path d=\"M0 0h24v24H0V0z\" fill=\"none\"/>\n",
              "    <path d=\"M18.56 5.44l.94 2.06.94-2.06 2.06-.94-2.06-.94-.94-2.06-.94 2.06-2.06.94zm-11 1L8.5 8.5l.94-2.06 2.06-.94-2.06-.94L8.5 2.5l-.94 2.06-2.06.94zm10 10l.94 2.06.94-2.06 2.06-.94-2.06-.94-.94-2.06-.94 2.06-2.06.94z\"/><path d=\"M17.41 7.96l-1.37-1.37c-.4-.4-.92-.59-1.43-.59-.52 0-1.04.2-1.43.59L10.3 9.45l-7.72 7.72c-.78.78-.78 2.05 0 2.83L4 21.41c.39.39.9.59 1.41.59.51 0 1.02-.2 1.41-.59l7.78-7.78 2.81-2.81c.8-.78.8-2.07 0-2.86zM5.41 20L4 18.59l7.72-7.72 1.47 1.35L5.41 20z\"/>\n",
              "  </svg>\n",
              "      </button>\n",
              "      \n",
              "  <style>\n",
              "    .colab-df-container {\n",
              "      display:flex;\n",
              "      flex-wrap:wrap;\n",
              "      gap: 12px;\n",
              "    }\n",
              "\n",
              "    .colab-df-convert {\n",
              "      background-color: #E8F0FE;\n",
              "      border: none;\n",
              "      border-radius: 50%;\n",
              "      cursor: pointer;\n",
              "      display: none;\n",
              "      fill: #1967D2;\n",
              "      height: 32px;\n",
              "      padding: 0 0 0 0;\n",
              "      width: 32px;\n",
              "    }\n",
              "\n",
              "    .colab-df-convert:hover {\n",
              "      background-color: #E2EBFA;\n",
              "      box-shadow: 0px 1px 2px rgba(60, 64, 67, 0.3), 0px 1px 3px 1px rgba(60, 64, 67, 0.15);\n",
              "      fill: #174EA6;\n",
              "    }\n",
              "\n",
              "    [theme=dark] .colab-df-convert {\n",
              "      background-color: #3B4455;\n",
              "      fill: #D2E3FC;\n",
              "    }\n",
              "\n",
              "    [theme=dark] .colab-df-convert:hover {\n",
              "      background-color: #434B5C;\n",
              "      box-shadow: 0px 1px 3px 1px rgba(0, 0, 0, 0.15);\n",
              "      filter: drop-shadow(0px 1px 2px rgba(0, 0, 0, 0.3));\n",
              "      fill: #FFFFFF;\n",
              "    }\n",
              "  </style>\n",
              "\n",
              "      <script>\n",
              "        const buttonEl =\n",
              "          document.querySelector('#df-c654bf47-3a5f-4615-84af-73110c6ddab3 button.colab-df-convert');\n",
              "        buttonEl.style.display =\n",
              "          google.colab.kernel.accessAllowed ? 'block' : 'none';\n",
              "\n",
              "        async function convertToInteractive(key) {\n",
              "          const element = document.querySelector('#df-c654bf47-3a5f-4615-84af-73110c6ddab3');\n",
              "          const dataTable =\n",
              "            await google.colab.kernel.invokeFunction('convertToInteractive',\n",
              "                                                     [key], {});\n",
              "          if (!dataTable) return;\n",
              "\n",
              "          const docLinkHtml = 'Like what you see? Visit the ' +\n",
              "            '<a target=\"_blank\" href=https://colab.research.google.com/notebooks/data_table.ipynb>data table notebook</a>'\n",
              "            + ' to learn more about interactive tables.';\n",
              "          element.innerHTML = '';\n",
              "          dataTable['output_type'] = 'display_data';\n",
              "          await google.colab.output.renderOutput(dataTable, element);\n",
              "          const docLink = document.createElement('div');\n",
              "          docLink.innerHTML = docLinkHtml;\n",
              "          element.appendChild(docLink);\n",
              "        }\n",
              "      </script>\n",
              "    </div>\n",
              "  </div>\n",
              "  "
            ]
          },
          "metadata": {}
        },
        {
          "output_type": "stream",
          "name": "stdout",
          "text": [
            "<class 'pandas.core.frame.DataFrame'>\n",
            "RangeIndex: 202607 entries, 0 to 202606\n",
            "Data columns (total 4 columns):\n",
            " #   Column     Non-Null Count   Dtype  \n",
            "---  ------     --------------   -----  \n",
            " 0   id         202607 non-null  object \n",
            " 1   call_date  202607 non-null  object \n",
            " 2   duration   202607 non-null  float64\n",
            " 3   user_id    202607 non-null  int64  \n",
            "dtypes: float64(1), int64(1), object(2)\n",
            "memory usage: 6.2+ MB\n"
          ]
        }
      ],
      "source": [
        "calls = pd.read_csv('/datasets/calls.csv', sep=',')\n",
        "display(calls.head(10)) # выведем 10 первых строк таблицы calls\n",
        "\n",
        "calls.info() # выведем сводную информацию о таблице"
      ]
    },
    {
      "cell_type": "code",
      "execution_count": 134,
      "metadata": {
        "colab": {
          "base_uri": "https://localhost:8080/",
          "height": 577
        },
        "id": "u-sa-tLRUpp2",
        "outputId": "c4874c0b-3d44-4aae-910d-6b0a426b595d"
      },
      "outputs": [
        {
          "output_type": "display_data",
          "data": {
            "text/plain": [
              "   Unnamed: 0      id  mb_used session_date  user_id\n",
              "0           0  1000_0   112.95   2018-11-25     1000\n",
              "1           1  1000_1  1052.81   2018-09-07     1000\n",
              "2           2  1000_2  1197.26   2018-06-25     1000\n",
              "3           3  1000_3   550.27   2018-08-22     1000\n",
              "4           4  1000_4   302.56   2018-09-24     1000\n",
              "5           5  1000_5   399.97   2018-10-02     1000\n",
              "6           6  1000_6   540.08   2018-09-07     1000\n",
              "7           7  1000_7   415.70   2018-07-11     1000\n",
              "8           8  1000_8   505.40   2018-10-08     1000\n",
              "9           9  1000_9   345.54   2018-09-03     1000"
            ],
            "text/html": [
              "\n",
              "  <div id=\"df-cc7f1280-3770-402d-a743-0d061f5c65f0\">\n",
              "    <div class=\"colab-df-container\">\n",
              "      <div>\n",
              "<style scoped>\n",
              "    .dataframe tbody tr th:only-of-type {\n",
              "        vertical-align: middle;\n",
              "    }\n",
              "\n",
              "    .dataframe tbody tr th {\n",
              "        vertical-align: top;\n",
              "    }\n",
              "\n",
              "    .dataframe thead th {\n",
              "        text-align: right;\n",
              "    }\n",
              "</style>\n",
              "<table border=\"1\" class=\"dataframe\">\n",
              "  <thead>\n",
              "    <tr style=\"text-align: right;\">\n",
              "      <th></th>\n",
              "      <th>Unnamed: 0</th>\n",
              "      <th>id</th>\n",
              "      <th>mb_used</th>\n",
              "      <th>session_date</th>\n",
              "      <th>user_id</th>\n",
              "    </tr>\n",
              "  </thead>\n",
              "  <tbody>\n",
              "    <tr>\n",
              "      <th>0</th>\n",
              "      <td>0</td>\n",
              "      <td>1000_0</td>\n",
              "      <td>112.95</td>\n",
              "      <td>2018-11-25</td>\n",
              "      <td>1000</td>\n",
              "    </tr>\n",
              "    <tr>\n",
              "      <th>1</th>\n",
              "      <td>1</td>\n",
              "      <td>1000_1</td>\n",
              "      <td>1052.81</td>\n",
              "      <td>2018-09-07</td>\n",
              "      <td>1000</td>\n",
              "    </tr>\n",
              "    <tr>\n",
              "      <th>2</th>\n",
              "      <td>2</td>\n",
              "      <td>1000_2</td>\n",
              "      <td>1197.26</td>\n",
              "      <td>2018-06-25</td>\n",
              "      <td>1000</td>\n",
              "    </tr>\n",
              "    <tr>\n",
              "      <th>3</th>\n",
              "      <td>3</td>\n",
              "      <td>1000_3</td>\n",
              "      <td>550.27</td>\n",
              "      <td>2018-08-22</td>\n",
              "      <td>1000</td>\n",
              "    </tr>\n",
              "    <tr>\n",
              "      <th>4</th>\n",
              "      <td>4</td>\n",
              "      <td>1000_4</td>\n",
              "      <td>302.56</td>\n",
              "      <td>2018-09-24</td>\n",
              "      <td>1000</td>\n",
              "    </tr>\n",
              "    <tr>\n",
              "      <th>5</th>\n",
              "      <td>5</td>\n",
              "      <td>1000_5</td>\n",
              "      <td>399.97</td>\n",
              "      <td>2018-10-02</td>\n",
              "      <td>1000</td>\n",
              "    </tr>\n",
              "    <tr>\n",
              "      <th>6</th>\n",
              "      <td>6</td>\n",
              "      <td>1000_6</td>\n",
              "      <td>540.08</td>\n",
              "      <td>2018-09-07</td>\n",
              "      <td>1000</td>\n",
              "    </tr>\n",
              "    <tr>\n",
              "      <th>7</th>\n",
              "      <td>7</td>\n",
              "      <td>1000_7</td>\n",
              "      <td>415.70</td>\n",
              "      <td>2018-07-11</td>\n",
              "      <td>1000</td>\n",
              "    </tr>\n",
              "    <tr>\n",
              "      <th>8</th>\n",
              "      <td>8</td>\n",
              "      <td>1000_8</td>\n",
              "      <td>505.40</td>\n",
              "      <td>2018-10-08</td>\n",
              "      <td>1000</td>\n",
              "    </tr>\n",
              "    <tr>\n",
              "      <th>9</th>\n",
              "      <td>9</td>\n",
              "      <td>1000_9</td>\n",
              "      <td>345.54</td>\n",
              "      <td>2018-09-03</td>\n",
              "      <td>1000</td>\n",
              "    </tr>\n",
              "  </tbody>\n",
              "</table>\n",
              "</div>\n",
              "      <button class=\"colab-df-convert\" onclick=\"convertToInteractive('df-cc7f1280-3770-402d-a743-0d061f5c65f0')\"\n",
              "              title=\"Convert this dataframe to an interactive table.\"\n",
              "              style=\"display:none;\">\n",
              "        \n",
              "  <svg xmlns=\"http://www.w3.org/2000/svg\" height=\"24px\"viewBox=\"0 0 24 24\"\n",
              "       width=\"24px\">\n",
              "    <path d=\"M0 0h24v24H0V0z\" fill=\"none\"/>\n",
              "    <path d=\"M18.56 5.44l.94 2.06.94-2.06 2.06-.94-2.06-.94-.94-2.06-.94 2.06-2.06.94zm-11 1L8.5 8.5l.94-2.06 2.06-.94-2.06-.94L8.5 2.5l-.94 2.06-2.06.94zm10 10l.94 2.06.94-2.06 2.06-.94-2.06-.94-.94-2.06-.94 2.06-2.06.94z\"/><path d=\"M17.41 7.96l-1.37-1.37c-.4-.4-.92-.59-1.43-.59-.52 0-1.04.2-1.43.59L10.3 9.45l-7.72 7.72c-.78.78-.78 2.05 0 2.83L4 21.41c.39.39.9.59 1.41.59.51 0 1.02-.2 1.41-.59l7.78-7.78 2.81-2.81c.8-.78.8-2.07 0-2.86zM5.41 20L4 18.59l7.72-7.72 1.47 1.35L5.41 20z\"/>\n",
              "  </svg>\n",
              "      </button>\n",
              "      \n",
              "  <style>\n",
              "    .colab-df-container {\n",
              "      display:flex;\n",
              "      flex-wrap:wrap;\n",
              "      gap: 12px;\n",
              "    }\n",
              "\n",
              "    .colab-df-convert {\n",
              "      background-color: #E8F0FE;\n",
              "      border: none;\n",
              "      border-radius: 50%;\n",
              "      cursor: pointer;\n",
              "      display: none;\n",
              "      fill: #1967D2;\n",
              "      height: 32px;\n",
              "      padding: 0 0 0 0;\n",
              "      width: 32px;\n",
              "    }\n",
              "\n",
              "    .colab-df-convert:hover {\n",
              "      background-color: #E2EBFA;\n",
              "      box-shadow: 0px 1px 2px rgba(60, 64, 67, 0.3), 0px 1px 3px 1px rgba(60, 64, 67, 0.15);\n",
              "      fill: #174EA6;\n",
              "    }\n",
              "\n",
              "    [theme=dark] .colab-df-convert {\n",
              "      background-color: #3B4455;\n",
              "      fill: #D2E3FC;\n",
              "    }\n",
              "\n",
              "    [theme=dark] .colab-df-convert:hover {\n",
              "      background-color: #434B5C;\n",
              "      box-shadow: 0px 1px 3px 1px rgba(0, 0, 0, 0.15);\n",
              "      filter: drop-shadow(0px 1px 2px rgba(0, 0, 0, 0.3));\n",
              "      fill: #FFFFFF;\n",
              "    }\n",
              "  </style>\n",
              "\n",
              "      <script>\n",
              "        const buttonEl =\n",
              "          document.querySelector('#df-cc7f1280-3770-402d-a743-0d061f5c65f0 button.colab-df-convert');\n",
              "        buttonEl.style.display =\n",
              "          google.colab.kernel.accessAllowed ? 'block' : 'none';\n",
              "\n",
              "        async function convertToInteractive(key) {\n",
              "          const element = document.querySelector('#df-cc7f1280-3770-402d-a743-0d061f5c65f0');\n",
              "          const dataTable =\n",
              "            await google.colab.kernel.invokeFunction('convertToInteractive',\n",
              "                                                     [key], {});\n",
              "          if (!dataTable) return;\n",
              "\n",
              "          const docLinkHtml = 'Like what you see? Visit the ' +\n",
              "            '<a target=\"_blank\" href=https://colab.research.google.com/notebooks/data_table.ipynb>data table notebook</a>'\n",
              "            + ' to learn more about interactive tables.';\n",
              "          element.innerHTML = '';\n",
              "          dataTable['output_type'] = 'display_data';\n",
              "          await google.colab.output.renderOutput(dataTable, element);\n",
              "          const docLink = document.createElement('div');\n",
              "          docLink.innerHTML = docLinkHtml;\n",
              "          element.appendChild(docLink);\n",
              "        }\n",
              "      </script>\n",
              "    </div>\n",
              "  </div>\n",
              "  "
            ]
          },
          "metadata": {}
        },
        {
          "output_type": "stream",
          "name": "stdout",
          "text": [
            "<class 'pandas.core.frame.DataFrame'>\n",
            "RangeIndex: 149396 entries, 0 to 149395\n",
            "Data columns (total 5 columns):\n",
            " #   Column        Non-Null Count   Dtype  \n",
            "---  ------        --------------   -----  \n",
            " 0   Unnamed: 0    149396 non-null  int64  \n",
            " 1   id            149396 non-null  object \n",
            " 2   mb_used       149396 non-null  float64\n",
            " 3   session_date  149396 non-null  object \n",
            " 4   user_id       149396 non-null  int64  \n",
            "dtypes: float64(1), int64(2), object(2)\n",
            "memory usage: 5.7+ MB\n"
          ]
        }
      ],
      "source": [
        "internet = pd.read_csv('/datasets/internet.csv', sep=',')\n",
        "display(internet.head(10)) # выведем 10 первых строк таблицы internet\n",
        "\n",
        "internet.info() # выведем сводную информацию о таблице"
      ]
    },
    {
      "cell_type": "code",
      "execution_count": 135,
      "metadata": {
        "colab": {
          "base_uri": "https://localhost:8080/",
          "height": 542
        },
        "id": "QCfdPBm8Upp3",
        "outputId": "fb37debe-54d9-45a3-c6d9-04c16d9723e0"
      },
      "outputs": [
        {
          "output_type": "display_data",
          "data": {
            "text/plain": [
              "       id message_date  user_id\n",
              "0  1000_0   2018-06-27     1000\n",
              "1  1000_1   2018-10-08     1000\n",
              "2  1000_2   2018-08-04     1000\n",
              "3  1000_3   2018-06-16     1000\n",
              "4  1000_4   2018-12-05     1000\n",
              "5  1000_5   2018-06-20     1000\n",
              "6  1000_6   2018-11-19     1000\n",
              "7  1000_7   2018-10-29     1000\n",
              "8  1000_8   2018-06-25     1000\n",
              "9  1000_9   2018-12-18     1000"
            ],
            "text/html": [
              "\n",
              "  <div id=\"df-e0ea5e59-1532-4953-b81c-206df1e7e408\">\n",
              "    <div class=\"colab-df-container\">\n",
              "      <div>\n",
              "<style scoped>\n",
              "    .dataframe tbody tr th:only-of-type {\n",
              "        vertical-align: middle;\n",
              "    }\n",
              "\n",
              "    .dataframe tbody tr th {\n",
              "        vertical-align: top;\n",
              "    }\n",
              "\n",
              "    .dataframe thead th {\n",
              "        text-align: right;\n",
              "    }\n",
              "</style>\n",
              "<table border=\"1\" class=\"dataframe\">\n",
              "  <thead>\n",
              "    <tr style=\"text-align: right;\">\n",
              "      <th></th>\n",
              "      <th>id</th>\n",
              "      <th>message_date</th>\n",
              "      <th>user_id</th>\n",
              "    </tr>\n",
              "  </thead>\n",
              "  <tbody>\n",
              "    <tr>\n",
              "      <th>0</th>\n",
              "      <td>1000_0</td>\n",
              "      <td>2018-06-27</td>\n",
              "      <td>1000</td>\n",
              "    </tr>\n",
              "    <tr>\n",
              "      <th>1</th>\n",
              "      <td>1000_1</td>\n",
              "      <td>2018-10-08</td>\n",
              "      <td>1000</td>\n",
              "    </tr>\n",
              "    <tr>\n",
              "      <th>2</th>\n",
              "      <td>1000_2</td>\n",
              "      <td>2018-08-04</td>\n",
              "      <td>1000</td>\n",
              "    </tr>\n",
              "    <tr>\n",
              "      <th>3</th>\n",
              "      <td>1000_3</td>\n",
              "      <td>2018-06-16</td>\n",
              "      <td>1000</td>\n",
              "    </tr>\n",
              "    <tr>\n",
              "      <th>4</th>\n",
              "      <td>1000_4</td>\n",
              "      <td>2018-12-05</td>\n",
              "      <td>1000</td>\n",
              "    </tr>\n",
              "    <tr>\n",
              "      <th>5</th>\n",
              "      <td>1000_5</td>\n",
              "      <td>2018-06-20</td>\n",
              "      <td>1000</td>\n",
              "    </tr>\n",
              "    <tr>\n",
              "      <th>6</th>\n",
              "      <td>1000_6</td>\n",
              "      <td>2018-11-19</td>\n",
              "      <td>1000</td>\n",
              "    </tr>\n",
              "    <tr>\n",
              "      <th>7</th>\n",
              "      <td>1000_7</td>\n",
              "      <td>2018-10-29</td>\n",
              "      <td>1000</td>\n",
              "    </tr>\n",
              "    <tr>\n",
              "      <th>8</th>\n",
              "      <td>1000_8</td>\n",
              "      <td>2018-06-25</td>\n",
              "      <td>1000</td>\n",
              "    </tr>\n",
              "    <tr>\n",
              "      <th>9</th>\n",
              "      <td>1000_9</td>\n",
              "      <td>2018-12-18</td>\n",
              "      <td>1000</td>\n",
              "    </tr>\n",
              "  </tbody>\n",
              "</table>\n",
              "</div>\n",
              "      <button class=\"colab-df-convert\" onclick=\"convertToInteractive('df-e0ea5e59-1532-4953-b81c-206df1e7e408')\"\n",
              "              title=\"Convert this dataframe to an interactive table.\"\n",
              "              style=\"display:none;\">\n",
              "        \n",
              "  <svg xmlns=\"http://www.w3.org/2000/svg\" height=\"24px\"viewBox=\"0 0 24 24\"\n",
              "       width=\"24px\">\n",
              "    <path d=\"M0 0h24v24H0V0z\" fill=\"none\"/>\n",
              "    <path d=\"M18.56 5.44l.94 2.06.94-2.06 2.06-.94-2.06-.94-.94-2.06-.94 2.06-2.06.94zm-11 1L8.5 8.5l.94-2.06 2.06-.94-2.06-.94L8.5 2.5l-.94 2.06-2.06.94zm10 10l.94 2.06.94-2.06 2.06-.94-2.06-.94-.94-2.06-.94 2.06-2.06.94z\"/><path d=\"M17.41 7.96l-1.37-1.37c-.4-.4-.92-.59-1.43-.59-.52 0-1.04.2-1.43.59L10.3 9.45l-7.72 7.72c-.78.78-.78 2.05 0 2.83L4 21.41c.39.39.9.59 1.41.59.51 0 1.02-.2 1.41-.59l7.78-7.78 2.81-2.81c.8-.78.8-2.07 0-2.86zM5.41 20L4 18.59l7.72-7.72 1.47 1.35L5.41 20z\"/>\n",
              "  </svg>\n",
              "      </button>\n",
              "      \n",
              "  <style>\n",
              "    .colab-df-container {\n",
              "      display:flex;\n",
              "      flex-wrap:wrap;\n",
              "      gap: 12px;\n",
              "    }\n",
              "\n",
              "    .colab-df-convert {\n",
              "      background-color: #E8F0FE;\n",
              "      border: none;\n",
              "      border-radius: 50%;\n",
              "      cursor: pointer;\n",
              "      display: none;\n",
              "      fill: #1967D2;\n",
              "      height: 32px;\n",
              "      padding: 0 0 0 0;\n",
              "      width: 32px;\n",
              "    }\n",
              "\n",
              "    .colab-df-convert:hover {\n",
              "      background-color: #E2EBFA;\n",
              "      box-shadow: 0px 1px 2px rgba(60, 64, 67, 0.3), 0px 1px 3px 1px rgba(60, 64, 67, 0.15);\n",
              "      fill: #174EA6;\n",
              "    }\n",
              "\n",
              "    [theme=dark] .colab-df-convert {\n",
              "      background-color: #3B4455;\n",
              "      fill: #D2E3FC;\n",
              "    }\n",
              "\n",
              "    [theme=dark] .colab-df-convert:hover {\n",
              "      background-color: #434B5C;\n",
              "      box-shadow: 0px 1px 3px 1px rgba(0, 0, 0, 0.15);\n",
              "      filter: drop-shadow(0px 1px 2px rgba(0, 0, 0, 0.3));\n",
              "      fill: #FFFFFF;\n",
              "    }\n",
              "  </style>\n",
              "\n",
              "      <script>\n",
              "        const buttonEl =\n",
              "          document.querySelector('#df-e0ea5e59-1532-4953-b81c-206df1e7e408 button.colab-df-convert');\n",
              "        buttonEl.style.display =\n",
              "          google.colab.kernel.accessAllowed ? 'block' : 'none';\n",
              "\n",
              "        async function convertToInteractive(key) {\n",
              "          const element = document.querySelector('#df-e0ea5e59-1532-4953-b81c-206df1e7e408');\n",
              "          const dataTable =\n",
              "            await google.colab.kernel.invokeFunction('convertToInteractive',\n",
              "                                                     [key], {});\n",
              "          if (!dataTable) return;\n",
              "\n",
              "          const docLinkHtml = 'Like what you see? Visit the ' +\n",
              "            '<a target=\"_blank\" href=https://colab.research.google.com/notebooks/data_table.ipynb>data table notebook</a>'\n",
              "            + ' to learn more about interactive tables.';\n",
              "          element.innerHTML = '';\n",
              "          dataTable['output_type'] = 'display_data';\n",
              "          await google.colab.output.renderOutput(dataTable, element);\n",
              "          const docLink = document.createElement('div');\n",
              "          docLink.innerHTML = docLinkHtml;\n",
              "          element.appendChild(docLink);\n",
              "        }\n",
              "      </script>\n",
              "    </div>\n",
              "  </div>\n",
              "  "
            ]
          },
          "metadata": {}
        },
        {
          "output_type": "stream",
          "name": "stdout",
          "text": [
            "<class 'pandas.core.frame.DataFrame'>\n",
            "RangeIndex: 123036 entries, 0 to 123035\n",
            "Data columns (total 3 columns):\n",
            " #   Column        Non-Null Count   Dtype \n",
            "---  ------        --------------   ----- \n",
            " 0   id            123036 non-null  object\n",
            " 1   message_date  123036 non-null  object\n",
            " 2   user_id       123036 non-null  int64 \n",
            "dtypes: int64(1), object(2)\n",
            "memory usage: 2.8+ MB\n"
          ]
        }
      ],
      "source": [
        "messages = pd.read_csv('/datasets/messages.csv', sep=',')\n",
        "display(messages.head(10)) # выведем 10 первых строк таблицы messages\n",
        "\n",
        "messages.info() # выведем сводную информацию о таблице"
      ]
    },
    {
      "cell_type": "code",
      "execution_count": 136,
      "metadata": {
        "colab": {
          "base_uri": "https://localhost:8080/",
          "height": 380
        },
        "id": "mjIX5ul7Upp3",
        "outputId": "628cb594-5908-483a-c59d-7e989282425b"
      },
      "outputs": [
        {
          "output_type": "display_data",
          "data": {
            "text/plain": [
              "   messages_included  mb_per_month_included  minutes_included  \\\n",
              "0                 50                  15360               500   \n",
              "1               1000                  30720              3000   \n",
              "\n",
              "   rub_monthly_fee  rub_per_gb  rub_per_message  rub_per_minute tariff_name  \n",
              "0              550         200                3               3       smart  \n",
              "1             1950         150                1               1       ultra  "
            ],
            "text/html": [
              "\n",
              "  <div id=\"df-2c01c80f-87e1-4cc2-8f53-87ba193576ba\">\n",
              "    <div class=\"colab-df-container\">\n",
              "      <div>\n",
              "<style scoped>\n",
              "    .dataframe tbody tr th:only-of-type {\n",
              "        vertical-align: middle;\n",
              "    }\n",
              "\n",
              "    .dataframe tbody tr th {\n",
              "        vertical-align: top;\n",
              "    }\n",
              "\n",
              "    .dataframe thead th {\n",
              "        text-align: right;\n",
              "    }\n",
              "</style>\n",
              "<table border=\"1\" class=\"dataframe\">\n",
              "  <thead>\n",
              "    <tr style=\"text-align: right;\">\n",
              "      <th></th>\n",
              "      <th>messages_included</th>\n",
              "      <th>mb_per_month_included</th>\n",
              "      <th>minutes_included</th>\n",
              "      <th>rub_monthly_fee</th>\n",
              "      <th>rub_per_gb</th>\n",
              "      <th>rub_per_message</th>\n",
              "      <th>rub_per_minute</th>\n",
              "      <th>tariff_name</th>\n",
              "    </tr>\n",
              "  </thead>\n",
              "  <tbody>\n",
              "    <tr>\n",
              "      <th>0</th>\n",
              "      <td>50</td>\n",
              "      <td>15360</td>\n",
              "      <td>500</td>\n",
              "      <td>550</td>\n",
              "      <td>200</td>\n",
              "      <td>3</td>\n",
              "      <td>3</td>\n",
              "      <td>smart</td>\n",
              "    </tr>\n",
              "    <tr>\n",
              "      <th>1</th>\n",
              "      <td>1000</td>\n",
              "      <td>30720</td>\n",
              "      <td>3000</td>\n",
              "      <td>1950</td>\n",
              "      <td>150</td>\n",
              "      <td>1</td>\n",
              "      <td>1</td>\n",
              "      <td>ultra</td>\n",
              "    </tr>\n",
              "  </tbody>\n",
              "</table>\n",
              "</div>\n",
              "      <button class=\"colab-df-convert\" onclick=\"convertToInteractive('df-2c01c80f-87e1-4cc2-8f53-87ba193576ba')\"\n",
              "              title=\"Convert this dataframe to an interactive table.\"\n",
              "              style=\"display:none;\">\n",
              "        \n",
              "  <svg xmlns=\"http://www.w3.org/2000/svg\" height=\"24px\"viewBox=\"0 0 24 24\"\n",
              "       width=\"24px\">\n",
              "    <path d=\"M0 0h24v24H0V0z\" fill=\"none\"/>\n",
              "    <path d=\"M18.56 5.44l.94 2.06.94-2.06 2.06-.94-2.06-.94-.94-2.06-.94 2.06-2.06.94zm-11 1L8.5 8.5l.94-2.06 2.06-.94-2.06-.94L8.5 2.5l-.94 2.06-2.06.94zm10 10l.94 2.06.94-2.06 2.06-.94-2.06-.94-.94-2.06-.94 2.06-2.06.94z\"/><path d=\"M17.41 7.96l-1.37-1.37c-.4-.4-.92-.59-1.43-.59-.52 0-1.04.2-1.43.59L10.3 9.45l-7.72 7.72c-.78.78-.78 2.05 0 2.83L4 21.41c.39.39.9.59 1.41.59.51 0 1.02-.2 1.41-.59l7.78-7.78 2.81-2.81c.8-.78.8-2.07 0-2.86zM5.41 20L4 18.59l7.72-7.72 1.47 1.35L5.41 20z\"/>\n",
              "  </svg>\n",
              "      </button>\n",
              "      \n",
              "  <style>\n",
              "    .colab-df-container {\n",
              "      display:flex;\n",
              "      flex-wrap:wrap;\n",
              "      gap: 12px;\n",
              "    }\n",
              "\n",
              "    .colab-df-convert {\n",
              "      background-color: #E8F0FE;\n",
              "      border: none;\n",
              "      border-radius: 50%;\n",
              "      cursor: pointer;\n",
              "      display: none;\n",
              "      fill: #1967D2;\n",
              "      height: 32px;\n",
              "      padding: 0 0 0 0;\n",
              "      width: 32px;\n",
              "    }\n",
              "\n",
              "    .colab-df-convert:hover {\n",
              "      background-color: #E2EBFA;\n",
              "      box-shadow: 0px 1px 2px rgba(60, 64, 67, 0.3), 0px 1px 3px 1px rgba(60, 64, 67, 0.15);\n",
              "      fill: #174EA6;\n",
              "    }\n",
              "\n",
              "    [theme=dark] .colab-df-convert {\n",
              "      background-color: #3B4455;\n",
              "      fill: #D2E3FC;\n",
              "    }\n",
              "\n",
              "    [theme=dark] .colab-df-convert:hover {\n",
              "      background-color: #434B5C;\n",
              "      box-shadow: 0px 1px 3px 1px rgba(0, 0, 0, 0.15);\n",
              "      filter: drop-shadow(0px 1px 2px rgba(0, 0, 0, 0.3));\n",
              "      fill: #FFFFFF;\n",
              "    }\n",
              "  </style>\n",
              "\n",
              "      <script>\n",
              "        const buttonEl =\n",
              "          document.querySelector('#df-2c01c80f-87e1-4cc2-8f53-87ba193576ba button.colab-df-convert');\n",
              "        buttonEl.style.display =\n",
              "          google.colab.kernel.accessAllowed ? 'block' : 'none';\n",
              "\n",
              "        async function convertToInteractive(key) {\n",
              "          const element = document.querySelector('#df-2c01c80f-87e1-4cc2-8f53-87ba193576ba');\n",
              "          const dataTable =\n",
              "            await google.colab.kernel.invokeFunction('convertToInteractive',\n",
              "                                                     [key], {});\n",
              "          if (!dataTable) return;\n",
              "\n",
              "          const docLinkHtml = 'Like what you see? Visit the ' +\n",
              "            '<a target=\"_blank\" href=https://colab.research.google.com/notebooks/data_table.ipynb>data table notebook</a>'\n",
              "            + ' to learn more about interactive tables.';\n",
              "          element.innerHTML = '';\n",
              "          dataTable['output_type'] = 'display_data';\n",
              "          await google.colab.output.renderOutput(dataTable, element);\n",
              "          const docLink = document.createElement('div');\n",
              "          docLink.innerHTML = docLinkHtml;\n",
              "          element.appendChild(docLink);\n",
              "        }\n",
              "      </script>\n",
              "    </div>\n",
              "  </div>\n",
              "  "
            ]
          },
          "metadata": {}
        },
        {
          "output_type": "stream",
          "name": "stdout",
          "text": [
            "<class 'pandas.core.frame.DataFrame'>\n",
            "RangeIndex: 2 entries, 0 to 1\n",
            "Data columns (total 8 columns):\n",
            " #   Column                 Non-Null Count  Dtype \n",
            "---  ------                 --------------  ----- \n",
            " 0   messages_included      2 non-null      int64 \n",
            " 1   mb_per_month_included  2 non-null      int64 \n",
            " 2   minutes_included       2 non-null      int64 \n",
            " 3   rub_monthly_fee        2 non-null      int64 \n",
            " 4   rub_per_gb             2 non-null      int64 \n",
            " 5   rub_per_message        2 non-null      int64 \n",
            " 6   rub_per_minute         2 non-null      int64 \n",
            " 7   tariff_name            2 non-null      object\n",
            "dtypes: int64(7), object(1)\n",
            "memory usage: 256.0+ bytes\n"
          ]
        }
      ],
      "source": [
        "tariffs = pd.read_csv('/datasets/tariffs.csv', sep=',')\n",
        "display(tariffs) # выведем таблицу tariffs\n",
        "\n",
        "tariffs.info() # выведем сводную информацию о таблице"
      ]
    },
    {
      "cell_type": "code",
      "execution_count": 137,
      "metadata": {
        "colab": {
          "base_uri": "https://localhost:8080/",
          "height": 631
        },
        "id": "E-OGQNsWUpp3",
        "outputId": "00161689-d5b1-4644-f588-8d9acdfee132"
      },
      "outputs": [
        {
          "output_type": "display_data",
          "data": {
            "text/plain": [
              "   user_id  age churn_date              city first_name  last_name  \\\n",
              "0     1000   52        NaN         Краснодар     Рафаил  Верещагин   \n",
              "1     1001   41        NaN            Москва       Иван       Ежов   \n",
              "2     1002   59        NaN       Стерлитамак    Евгений  Абрамович   \n",
              "3     1003   23        NaN            Москва      Белла   Белякова   \n",
              "4     1004   68        NaN       Новокузнецк    Татьяна   Авдеенко   \n",
              "5     1005   67        NaN  Набережные Челны   Афанасий     Горлов   \n",
              "6     1006   21        NaN         Ульяновск     Леонид   Ермолаев   \n",
              "7     1007   65        NaN            Москва        Юна   Березина   \n",
              "8     1008   63        NaN         Челябинск     Рустэм  Пономарёв   \n",
              "9     1009   24        NaN             Пермь   Василиса    Блинова   \n",
              "\n",
              "     reg_date tariff  \n",
              "0  2018-05-25  ultra  \n",
              "1  2018-11-01  smart  \n",
              "2  2018-06-17  smart  \n",
              "3  2018-08-17  ultra  \n",
              "4  2018-05-14  ultra  \n",
              "5  2018-01-25  smart  \n",
              "6  2018-02-26  smart  \n",
              "7  2018-04-19  smart  \n",
              "8  2018-12-19  smart  \n",
              "9  2018-03-22  smart  "
            ],
            "text/html": [
              "\n",
              "  <div id=\"df-df5dc3f9-1875-4a05-9968-91fb0ac9b9bc\">\n",
              "    <div class=\"colab-df-container\">\n",
              "      <div>\n",
              "<style scoped>\n",
              "    .dataframe tbody tr th:only-of-type {\n",
              "        vertical-align: middle;\n",
              "    }\n",
              "\n",
              "    .dataframe tbody tr th {\n",
              "        vertical-align: top;\n",
              "    }\n",
              "\n",
              "    .dataframe thead th {\n",
              "        text-align: right;\n",
              "    }\n",
              "</style>\n",
              "<table border=\"1\" class=\"dataframe\">\n",
              "  <thead>\n",
              "    <tr style=\"text-align: right;\">\n",
              "      <th></th>\n",
              "      <th>user_id</th>\n",
              "      <th>age</th>\n",
              "      <th>churn_date</th>\n",
              "      <th>city</th>\n",
              "      <th>first_name</th>\n",
              "      <th>last_name</th>\n",
              "      <th>reg_date</th>\n",
              "      <th>tariff</th>\n",
              "    </tr>\n",
              "  </thead>\n",
              "  <tbody>\n",
              "    <tr>\n",
              "      <th>0</th>\n",
              "      <td>1000</td>\n",
              "      <td>52</td>\n",
              "      <td>NaN</td>\n",
              "      <td>Краснодар</td>\n",
              "      <td>Рафаил</td>\n",
              "      <td>Верещагин</td>\n",
              "      <td>2018-05-25</td>\n",
              "      <td>ultra</td>\n",
              "    </tr>\n",
              "    <tr>\n",
              "      <th>1</th>\n",
              "      <td>1001</td>\n",
              "      <td>41</td>\n",
              "      <td>NaN</td>\n",
              "      <td>Москва</td>\n",
              "      <td>Иван</td>\n",
              "      <td>Ежов</td>\n",
              "      <td>2018-11-01</td>\n",
              "      <td>smart</td>\n",
              "    </tr>\n",
              "    <tr>\n",
              "      <th>2</th>\n",
              "      <td>1002</td>\n",
              "      <td>59</td>\n",
              "      <td>NaN</td>\n",
              "      <td>Стерлитамак</td>\n",
              "      <td>Евгений</td>\n",
              "      <td>Абрамович</td>\n",
              "      <td>2018-06-17</td>\n",
              "      <td>smart</td>\n",
              "    </tr>\n",
              "    <tr>\n",
              "      <th>3</th>\n",
              "      <td>1003</td>\n",
              "      <td>23</td>\n",
              "      <td>NaN</td>\n",
              "      <td>Москва</td>\n",
              "      <td>Белла</td>\n",
              "      <td>Белякова</td>\n",
              "      <td>2018-08-17</td>\n",
              "      <td>ultra</td>\n",
              "    </tr>\n",
              "    <tr>\n",
              "      <th>4</th>\n",
              "      <td>1004</td>\n",
              "      <td>68</td>\n",
              "      <td>NaN</td>\n",
              "      <td>Новокузнецк</td>\n",
              "      <td>Татьяна</td>\n",
              "      <td>Авдеенко</td>\n",
              "      <td>2018-05-14</td>\n",
              "      <td>ultra</td>\n",
              "    </tr>\n",
              "    <tr>\n",
              "      <th>5</th>\n",
              "      <td>1005</td>\n",
              "      <td>67</td>\n",
              "      <td>NaN</td>\n",
              "      <td>Набережные Челны</td>\n",
              "      <td>Афанасий</td>\n",
              "      <td>Горлов</td>\n",
              "      <td>2018-01-25</td>\n",
              "      <td>smart</td>\n",
              "    </tr>\n",
              "    <tr>\n",
              "      <th>6</th>\n",
              "      <td>1006</td>\n",
              "      <td>21</td>\n",
              "      <td>NaN</td>\n",
              "      <td>Ульяновск</td>\n",
              "      <td>Леонид</td>\n",
              "      <td>Ермолаев</td>\n",
              "      <td>2018-02-26</td>\n",
              "      <td>smart</td>\n",
              "    </tr>\n",
              "    <tr>\n",
              "      <th>7</th>\n",
              "      <td>1007</td>\n",
              "      <td>65</td>\n",
              "      <td>NaN</td>\n",
              "      <td>Москва</td>\n",
              "      <td>Юна</td>\n",
              "      <td>Березина</td>\n",
              "      <td>2018-04-19</td>\n",
              "      <td>smart</td>\n",
              "    </tr>\n",
              "    <tr>\n",
              "      <th>8</th>\n",
              "      <td>1008</td>\n",
              "      <td>63</td>\n",
              "      <td>NaN</td>\n",
              "      <td>Челябинск</td>\n",
              "      <td>Рустэм</td>\n",
              "      <td>Пономарёв</td>\n",
              "      <td>2018-12-19</td>\n",
              "      <td>smart</td>\n",
              "    </tr>\n",
              "    <tr>\n",
              "      <th>9</th>\n",
              "      <td>1009</td>\n",
              "      <td>24</td>\n",
              "      <td>NaN</td>\n",
              "      <td>Пермь</td>\n",
              "      <td>Василиса</td>\n",
              "      <td>Блинова</td>\n",
              "      <td>2018-03-22</td>\n",
              "      <td>smart</td>\n",
              "    </tr>\n",
              "  </tbody>\n",
              "</table>\n",
              "</div>\n",
              "      <button class=\"colab-df-convert\" onclick=\"convertToInteractive('df-df5dc3f9-1875-4a05-9968-91fb0ac9b9bc')\"\n",
              "              title=\"Convert this dataframe to an interactive table.\"\n",
              "              style=\"display:none;\">\n",
              "        \n",
              "  <svg xmlns=\"http://www.w3.org/2000/svg\" height=\"24px\"viewBox=\"0 0 24 24\"\n",
              "       width=\"24px\">\n",
              "    <path d=\"M0 0h24v24H0V0z\" fill=\"none\"/>\n",
              "    <path d=\"M18.56 5.44l.94 2.06.94-2.06 2.06-.94-2.06-.94-.94-2.06-.94 2.06-2.06.94zm-11 1L8.5 8.5l.94-2.06 2.06-.94-2.06-.94L8.5 2.5l-.94 2.06-2.06.94zm10 10l.94 2.06.94-2.06 2.06-.94-2.06-.94-.94-2.06-.94 2.06-2.06.94z\"/><path d=\"M17.41 7.96l-1.37-1.37c-.4-.4-.92-.59-1.43-.59-.52 0-1.04.2-1.43.59L10.3 9.45l-7.72 7.72c-.78.78-.78 2.05 0 2.83L4 21.41c.39.39.9.59 1.41.59.51 0 1.02-.2 1.41-.59l7.78-7.78 2.81-2.81c.8-.78.8-2.07 0-2.86zM5.41 20L4 18.59l7.72-7.72 1.47 1.35L5.41 20z\"/>\n",
              "  </svg>\n",
              "      </button>\n",
              "      \n",
              "  <style>\n",
              "    .colab-df-container {\n",
              "      display:flex;\n",
              "      flex-wrap:wrap;\n",
              "      gap: 12px;\n",
              "    }\n",
              "\n",
              "    .colab-df-convert {\n",
              "      background-color: #E8F0FE;\n",
              "      border: none;\n",
              "      border-radius: 50%;\n",
              "      cursor: pointer;\n",
              "      display: none;\n",
              "      fill: #1967D2;\n",
              "      height: 32px;\n",
              "      padding: 0 0 0 0;\n",
              "      width: 32px;\n",
              "    }\n",
              "\n",
              "    .colab-df-convert:hover {\n",
              "      background-color: #E2EBFA;\n",
              "      box-shadow: 0px 1px 2px rgba(60, 64, 67, 0.3), 0px 1px 3px 1px rgba(60, 64, 67, 0.15);\n",
              "      fill: #174EA6;\n",
              "    }\n",
              "\n",
              "    [theme=dark] .colab-df-convert {\n",
              "      background-color: #3B4455;\n",
              "      fill: #D2E3FC;\n",
              "    }\n",
              "\n",
              "    [theme=dark] .colab-df-convert:hover {\n",
              "      background-color: #434B5C;\n",
              "      box-shadow: 0px 1px 3px 1px rgba(0, 0, 0, 0.15);\n",
              "      filter: drop-shadow(0px 1px 2px rgba(0, 0, 0, 0.3));\n",
              "      fill: #FFFFFF;\n",
              "    }\n",
              "  </style>\n",
              "\n",
              "      <script>\n",
              "        const buttonEl =\n",
              "          document.querySelector('#df-df5dc3f9-1875-4a05-9968-91fb0ac9b9bc button.colab-df-convert');\n",
              "        buttonEl.style.display =\n",
              "          google.colab.kernel.accessAllowed ? 'block' : 'none';\n",
              "\n",
              "        async function convertToInteractive(key) {\n",
              "          const element = document.querySelector('#df-df5dc3f9-1875-4a05-9968-91fb0ac9b9bc');\n",
              "          const dataTable =\n",
              "            await google.colab.kernel.invokeFunction('convertToInteractive',\n",
              "                                                     [key], {});\n",
              "          if (!dataTable) return;\n",
              "\n",
              "          const docLinkHtml = 'Like what you see? Visit the ' +\n",
              "            '<a target=\"_blank\" href=https://colab.research.google.com/notebooks/data_table.ipynb>data table notebook</a>'\n",
              "            + ' to learn more about interactive tables.';\n",
              "          element.innerHTML = '';\n",
              "          dataTable['output_type'] = 'display_data';\n",
              "          await google.colab.output.renderOutput(dataTable, element);\n",
              "          const docLink = document.createElement('div');\n",
              "          docLink.innerHTML = docLinkHtml;\n",
              "          element.appendChild(docLink);\n",
              "        }\n",
              "      </script>\n",
              "    </div>\n",
              "  </div>\n",
              "  "
            ]
          },
          "metadata": {}
        },
        {
          "output_type": "stream",
          "name": "stdout",
          "text": [
            "<class 'pandas.core.frame.DataFrame'>\n",
            "RangeIndex: 500 entries, 0 to 499\n",
            "Data columns (total 8 columns):\n",
            " #   Column      Non-Null Count  Dtype \n",
            "---  ------      --------------  ----- \n",
            " 0   user_id     500 non-null    int64 \n",
            " 1   age         500 non-null    int64 \n",
            " 2   churn_date  38 non-null     object\n",
            " 3   city        500 non-null    object\n",
            " 4   first_name  500 non-null    object\n",
            " 5   last_name   500 non-null    object\n",
            " 6   reg_date    500 non-null    object\n",
            " 7   tariff      500 non-null    object\n",
            "dtypes: int64(2), object(6)\n",
            "memory usage: 31.4+ KB\n"
          ]
        }
      ],
      "source": [
        "users = pd.read_csv('/datasets/users.csv', sep=',')\n",
        "display(users.head(10)) # выведем 10 первых строк таблицы users\n",
        "\n",
        "users.info() # выведем сводную информацию о таблице"
      ]
    },
    {
      "cell_type": "markdown",
      "metadata": {
        "id": "HciFb8xvUpp4"
      },
      "source": [
        "### Вывод\n",
        "В таблицах представлены данные данные 500 пользователей «Мегалайна»: кто они, откуда, каким тарифом пользуются, сколько звонков и сообщений каждый отправил за 2018 год. Нужно проанализировать поведение клиентов и сделать вывод — какой тариф лучше.\n",
        "\n",
        "Предварительно можно утверждать, что данных достаточно для выполнения задачи. Но для окончательного ответа на этот вопрос нужно провести предобработку данных. \n",
        "\n",
        "На данный момент очевидно, что необходимо:\n",
        "* заменить тип данных для столбцов `churn_date`, `session_date`, `message_date`, `reg_date` и `call_date`\n",
        "* проверить данные на пропуски, дубликаты и аномалии.\n",
        "\n",
        "Сделаем это в следующем блоке."
      ]
    },
    {
      "cell_type": "markdown",
      "metadata": {
        "id": "ytoGZ2XsUpp4"
      },
      "source": [
        "## 2. Предобработка данных\n",
        "<a name=\"pre_processing\"></a>"
      ]
    },
    {
      "cell_type": "code",
      "execution_count": 138,
      "metadata": {
        "colab": {
          "base_uri": "https://localhost:8080/"
        },
        "id": "WwyEPzk-Upp4",
        "outputId": "27643071-9b1f-4316-d7ce-09c8e875a4d9"
      },
      "outputs": [
        {
          "output_type": "stream",
          "name": "stdout",
          "text": [
            "<class 'pandas.core.frame.DataFrame'>\n",
            "RangeIndex: 202607 entries, 0 to 202606\n",
            "Data columns (total 4 columns):\n",
            " #   Column     Non-Null Count   Dtype         \n",
            "---  ------     --------------   -----         \n",
            " 0   id         202607 non-null  object        \n",
            " 1   call_date  202607 non-null  datetime64[ns]\n",
            " 2   duration   202607 non-null  float64       \n",
            " 3   user_id    202607 non-null  int64         \n",
            "dtypes: datetime64[ns](1), float64(1), int64(1), object(1)\n",
            "memory usage: 6.2+ MB\n"
          ]
        }
      ],
      "source": [
        "# заменим тип данных для call_date\n",
        "calls['call_date'] = pd.to_datetime(calls['call_date'],format='%Y-%m-%d') # дату на datetime64, т.к. это дата\n",
        "\n",
        "calls.info() # проверим результат"
      ]
    },
    {
      "cell_type": "code",
      "execution_count": 139,
      "metadata": {
        "colab": {
          "base_uri": "https://localhost:8080/"
        },
        "id": "xmlmTWhhUpp5",
        "outputId": "60475850-8b6b-4f38-e5e6-339421f5e7f7"
      },
      "outputs": [
        {
          "output_type": "stream",
          "name": "stdout",
          "text": [
            "<class 'pandas.core.frame.DataFrame'>\n",
            "RangeIndex: 149396 entries, 0 to 149395\n",
            "Data columns (total 5 columns):\n",
            " #   Column        Non-Null Count   Dtype         \n",
            "---  ------        --------------   -----         \n",
            " 0   Unnamed: 0    149396 non-null  int64         \n",
            " 1   id            149396 non-null  object        \n",
            " 2   mb_used       149396 non-null  float64       \n",
            " 3   session_date  149396 non-null  datetime64[ns]\n",
            " 4   user_id       149396 non-null  int64         \n",
            "dtypes: datetime64[ns](1), float64(1), int64(2), object(1)\n",
            "memory usage: 5.7+ MB\n"
          ]
        }
      ],
      "source": [
        "internet['session_date'] = pd.to_datetime(internet['session_date'],format='%Y-%m-%d') # дату на datetime64, т.к. это дата\n",
        "\n",
        "internet.info() # проверим результат"
      ]
    },
    {
      "cell_type": "code",
      "execution_count": 140,
      "metadata": {
        "colab": {
          "base_uri": "https://localhost:8080/"
        },
        "id": "txCTiiCwUpp5",
        "outputId": "170eb9c0-b00c-4b90-8458-c3f8de719b6b"
      },
      "outputs": [
        {
          "output_type": "stream",
          "name": "stdout",
          "text": [
            "<class 'pandas.core.frame.DataFrame'>\n",
            "RangeIndex: 123036 entries, 0 to 123035\n",
            "Data columns (total 3 columns):\n",
            " #   Column        Non-Null Count   Dtype         \n",
            "---  ------        --------------   -----         \n",
            " 0   id            123036 non-null  object        \n",
            " 1   message_date  123036 non-null  datetime64[ns]\n",
            " 2   user_id       123036 non-null  int64         \n",
            "dtypes: datetime64[ns](1), int64(1), object(1)\n",
            "memory usage: 2.8+ MB\n"
          ]
        }
      ],
      "source": [
        "messages['message_date'] = pd.to_datetime(messages['message_date'],format='%Y-%m-%d') # дату на datetime64, т.к. это дата\n",
        "\n",
        "messages.info() # проверим результат"
      ]
    },
    {
      "cell_type": "code",
      "execution_count": 141,
      "metadata": {
        "colab": {
          "base_uri": "https://localhost:8080/"
        },
        "id": "I1NdE736Upp5",
        "outputId": "f8fa1eaa-0c3f-4d23-d372-606074889760"
      },
      "outputs": [
        {
          "output_type": "stream",
          "name": "stdout",
          "text": [
            "<class 'pandas.core.frame.DataFrame'>\n",
            "RangeIndex: 500 entries, 0 to 499\n",
            "Data columns (total 8 columns):\n",
            " #   Column      Non-Null Count  Dtype         \n",
            "---  ------      --------------  -----         \n",
            " 0   user_id     500 non-null    int64         \n",
            " 1   age         500 non-null    int64         \n",
            " 2   churn_date  38 non-null     datetime64[ns]\n",
            " 3   city        500 non-null    object        \n",
            " 4   first_name  500 non-null    object        \n",
            " 5   last_name   500 non-null    object        \n",
            " 6   reg_date    500 non-null    datetime64[ns]\n",
            " 7   tariff      500 non-null    object        \n",
            "dtypes: datetime64[ns](2), int64(2), object(4)\n",
            "memory usage: 31.4+ KB\n"
          ]
        }
      ],
      "source": [
        "users['reg_date'] = pd.to_datetime(users['reg_date'],format='%Y-%m-%d') # дату на datetime64, т.к. это дата\n",
        "users['churn_date'] = pd.to_datetime(users['churn_date'],format='%Y-%m-%d')\n",
        "users.info() # проверим результат\n"
      ]
    },
    {
      "cell_type": "code",
      "execution_count": 142,
      "metadata": {
        "colab": {
          "base_uri": "https://localhost:8080/",
          "height": 767
        },
        "id": "hTrgEiKOUpp5",
        "outputId": "e4692679-8b6e-476b-df2a-bdcb4a9e3314"
      },
      "outputs": [
        {
          "output_type": "display_data",
          "data": {
            "text/plain": [
              "id           0\n",
              "call_date    0\n",
              "duration     0\n",
              "user_id      0\n",
              "dtype: int64"
            ]
          },
          "metadata": {}
        },
        {
          "output_type": "display_data",
          "data": {
            "text/plain": [
              "Unnamed: 0      0\n",
              "id              0\n",
              "mb_used         0\n",
              "session_date    0\n",
              "user_id         0\n",
              "dtype: int64"
            ]
          },
          "metadata": {}
        },
        {
          "output_type": "display_data",
          "data": {
            "text/plain": [
              "id              0\n",
              "message_date    0\n",
              "user_id         0\n",
              "dtype: int64"
            ]
          },
          "metadata": {}
        },
        {
          "output_type": "display_data",
          "data": {
            "text/plain": [
              "messages_included        0\n",
              "mb_per_month_included    0\n",
              "minutes_included         0\n",
              "rub_monthly_fee          0\n",
              "rub_per_gb               0\n",
              "rub_per_message          0\n",
              "rub_per_minute           0\n",
              "tariff_name              0\n",
              "dtype: int64"
            ]
          },
          "metadata": {}
        },
        {
          "output_type": "display_data",
          "data": {
            "text/plain": [
              "user_id         0\n",
              "age             0\n",
              "churn_date    462\n",
              "city            0\n",
              "first_name      0\n",
              "last_name       0\n",
              "reg_date        0\n",
              "tariff          0\n",
              "dtype: int64"
            ]
          },
          "metadata": {}
        },
        {
          "output_type": "execute_result",
          "data": {
            "text/plain": [
              "user_id       0.000\n",
              "age           0.000\n",
              "churn_date    0.924\n",
              "city          0.000\n",
              "first_name    0.000\n",
              "last_name     0.000\n",
              "reg_date      0.000\n",
              "tariff        0.000\n",
              "dtype: float64"
            ]
          },
          "metadata": {},
          "execution_count": 142
        }
      ],
      "source": [
        "# проверим количество пропущенных значений\n",
        "display(calls.isna().sum()) # пропущенных данных нет\n",
        "display(internet.isna().sum()) # пропущенных данных нет\n",
        "display(messages.isna().sum()) # пропущенных данных нет\n",
        "display(tariffs.isna().sum()) # пропущенных данных нет\n",
        "\n",
        "display(users.isna().sum()) # 92% пропущенных значений \n",
        "users.isna().mean() # в этом столбце гораздо больше пропущенных значений, чем указанных.\n",
        "# Однако, согласно комментариям к данным, если значение пропущено, то тариф ещё действовал на момент выгрузки данных. \n",
        "# Поэтому оставим пропуски нетронутыми\n"
      ]
    },
    {
      "cell_type": "code",
      "execution_count": 143,
      "metadata": {
        "colab": {
          "base_uri": "https://localhost:8080/",
          "height": 571
        },
        "id": "_cZDK6AcUpp6",
        "outputId": "bec3825c-fd19-49d1-9efe-fb87c8f882e1"
      },
      "outputs": [
        {
          "output_type": "display_data",
          "data": {
            "text/plain": [
              "count     202607\n",
              "unique    202607\n",
              "top       1000_0\n",
              "freq           1\n",
              "Name: id, dtype: object"
            ]
          },
          "metadata": {}
        },
        {
          "output_type": "display_data",
          "data": {
            "text/plain": [
              "count                           202607\n",
              "mean     2018-09-02 20:01:37.583992832\n",
              "min                2018-01-01 00:00:00\n",
              "25%                2018-07-05 00:00:00\n",
              "50%                2018-09-17 00:00:00\n",
              "75%                2018-11-14 00:00:00\n",
              "max                2018-12-31 00:00:00\n",
              "Name: call_date, dtype: object"
            ]
          },
          "metadata": {}
        },
        {
          "output_type": "display_data",
          "data": {
            "text/plain": [
              "count    202607.000000\n",
              "mean          6.755887\n",
              "std           5.843365\n",
              "min           0.000000\n",
              "25%           1.300000\n",
              "50%           6.000000\n",
              "75%          10.700000\n",
              "max          38.000000\n",
              "Name: duration, dtype: float64"
            ]
          },
          "metadata": {}
        },
        {
          "output_type": "display_data",
          "data": {
            "text/plain": [
              "count    202607.000000\n",
              "mean       1253.940619\n",
              "std         144.722751\n",
              "min        1000.000000\n",
              "25%        1126.000000\n",
              "50%        1260.000000\n",
              "75%        1379.000000\n",
              "max        1499.000000\n",
              "Name: user_id, dtype: float64"
            ]
          },
          "metadata": {}
        }
      ],
      "source": [
        "# проверим данные таблицы calls на аномалии\n",
        "display(calls['id'].describe())\n",
        "display(calls['call_date'].describe(datetime_is_numeric=True))\n",
        "display(calls['duration'].describe())\n",
        "display(calls['user_id'].describe())\n",
        "\n",
        "# аномалий нет\n"
      ]
    },
    {
      "cell_type": "code",
      "execution_count": 144,
      "metadata": {
        "colab": {
          "base_uri": "https://localhost:8080/",
          "height": 785
        },
        "id": "l9njaSjXUpp6",
        "outputId": "41251391-2959-4748-9f80-99d551f9ab33"
      },
      "outputs": [
        {
          "output_type": "display_data",
          "data": {
            "text/plain": [
              "149395    149395\n",
              "149394    149394\n",
              "149393    149393\n",
              "149392    149392\n",
              "149391    149391\n",
              "           ...  \n",
              "4              4\n",
              "3              3\n",
              "2              2\n",
              "1              1\n",
              "0              0\n",
              "Name: Unnamed: 0, Length: 149396, dtype: int64"
            ]
          },
          "metadata": {}
        },
        {
          "output_type": "display_data",
          "data": {
            "text/plain": [
              "count     149396\n",
              "unique    149396\n",
              "top       1000_0\n",
              "freq           1\n",
              "Name: id, dtype: object"
            ]
          },
          "metadata": {}
        },
        {
          "output_type": "display_data",
          "data": {
            "text/plain": [
              "count    149396.000000\n",
              "mean        370.192426\n",
              "std         278.300951\n",
              "min           0.000000\n",
              "25%         138.187500\n",
              "50%         348.015000\n",
              "75%         559.552500\n",
              "max        1724.830000\n",
              "Name: mb_used, dtype: float64"
            ]
          },
          "metadata": {}
        },
        {
          "output_type": "display_data",
          "data": {
            "text/plain": [
              "count                           149396\n",
              "mean     2018-09-02 12:55:35.221826560\n",
              "min                2018-01-01 00:00:00\n",
              "25%                2018-07-05 00:00:00\n",
              "50%                2018-09-17 00:00:00\n",
              "75%                2018-11-14 00:00:00\n",
              "max                2018-12-31 00:00:00\n",
              "Name: session_date, dtype: object"
            ]
          },
          "metadata": {}
        },
        {
          "output_type": "display_data",
          "data": {
            "text/plain": [
              "count    149396.000000\n",
              "mean       1252.099842\n",
              "std         144.050823\n",
              "min        1000.000000\n",
              "25%        1130.000000\n",
              "50%        1251.000000\n",
              "75%        1380.000000\n",
              "max        1499.000000\n",
              "Name: user_id, dtype: float64"
            ]
          },
          "metadata": {}
        }
      ],
      "source": [
        "# проверим данные таблицы internet на аномалии\n",
        "display(internet['Unnamed: 0'].sort_values(ascending=False)) # похоже, что столбец полностью дублирует столбец с индексами, \n",
        "# удалим его\n",
        "internet = internet.drop(['Unnamed: 0'], axis=1)\n",
        "\n",
        "\n",
        "display(internet['id'].describe()) # аномалий нет\n",
        "display(internet['mb_used'].describe()) # в некоторых строках есть нули, проверим их ниже\n",
        "display(internet['session_date'].describe(datetime_is_numeric=True)) # аномалий нет\n",
        "display(internet['user_id'].describe()) # аномалий нет\n"
      ]
    },
    {
      "cell_type": "code",
      "execution_count": 145,
      "metadata": {
        "colab": {
          "base_uri": "https://localhost:8080/",
          "height": 53
        },
        "id": "-WxWQRsOUpp6",
        "outputId": "59dcdcc0-4fdb-45bc-b7f2-b085f70e7cb2"
      },
      "outputs": [
        {
          "output_type": "display_data",
          "data": {
            "text/plain": [
              "19598"
            ]
          },
          "metadata": {}
        },
        {
          "output_type": "display_data",
          "data": {
            "text/plain": [
              "0.13118155773916304"
            ]
          },
          "metadata": {}
        }
      ],
      "source": [
        "#  проверим строки с нулевыми значениями\n",
        "display(len(internet.query('mb_used == 0'))) # узнаем их общее количество\n",
        "display(len(internet.query('mb_used == 0')) / len(internet['mb_used'])) \n",
        "        \n"
      ]
    },
    {
      "cell_type": "markdown",
      "source": [
        "В 13% данных в колонке `mb_used` указаны нули. Возможно, пользователи начинали сессию, но на тот момент у них уже закончился пакет интернета, либо причина в провайдере - сбои в предоставлении услуги. Проверим, зависят ли нулевые показатели от дня месяца или месяца года."
      ],
      "metadata": {
        "id": "FShWqOKnXdXH"
      }
    },
    {
      "cell_type": "code",
      "source": [
        "internet['month'] = pd.DatetimeIndex(internet['session_date']).month # Создадим колонку month\n",
        "internet['day'] = pd.DatetimeIndex(internet['session_date']).day # Создадим колонку day\n",
        "\n",
        "# проверим, есть ли зависимость в частоте сессий с нулевыми данными от дня месяца\n",
        "zero_mb_day = (\n",
        "    internet.query('mb_used == 0')\n",
        "    .pivot_table(index= 'day', values = 'session_date', aggfunc='count')\n",
        "    .sort_values(by='session_date', ascending=False)\n",
        ")\n",
        "\n",
        "# проверим, есть ли зависимость в частоте сессий с нулевыми данными от месяца\n",
        "zero_mb_month = (\n",
        "    internet.query('mb_used == 0')\n",
        "    .pivot_table(index= 'month', values = 'user_id', aggfunc='count')\n",
        "    .sort_values(by='user_id', ascending=False)\n",
        ")\n",
        "\n",
        "display(zero_mb_day)\n",
        "display(zero_mb_month)\n",
        "\n",
        "# переименум столбец tariff \n",
        "users = users.rename(\n",
        "columns={\n",
        "'tariff': 'tariff_name',}\n",
        ") \n",
        "\n",
        "\n",
        "# проверим, не зависит ли частота сессий с нулевыми данными от тарифа\n",
        "internet_user_zero = internet.merge(users, on='user_id', how='inner').query('mb_used == 0')\n",
        "internet_user_zero.pivot_table(index='tariff_name', columns='month', values = 'session_date', aggfunc='count')\n"
      ],
      "metadata": {
        "colab": {
          "base_uri": "https://localhost:8080/",
          "height": 1000
        },
        "id": "TxgPTUhYXVJ2",
        "outputId": "049ba633-d133-4317-eadc-6a21e57c5140"
      },
      "execution_count": 146,
      "outputs": [
        {
          "output_type": "display_data",
          "data": {
            "text/plain": [
              "     session_date\n",
              "day              \n",
              "29            734\n",
              "30            724\n",
              "28            708\n",
              "26            708\n",
              "21            705\n",
              "27            694\n",
              "17            693\n",
              "13            672\n",
              "22            669\n",
              "18            653\n",
              "23            652\n",
              "16            646\n",
              "15            637\n",
              "11            635\n",
              "19            631\n",
              "25            625\n",
              "12            622\n",
              "7             621\n",
              "20            618\n",
              "4             617\n",
              "14            614\n",
              "24            610\n",
              "10            598\n",
              "1             596\n",
              "3             593\n",
              "5             591\n",
              "8             589\n",
              "9             577\n",
              "2             570\n",
              "6             556\n",
              "31            440"
            ],
            "text/html": [
              "\n",
              "  <div id=\"df-3d786725-8950-492c-a74b-ad966dd592c0\">\n",
              "    <div class=\"colab-df-container\">\n",
              "      <div>\n",
              "<style scoped>\n",
              "    .dataframe tbody tr th:only-of-type {\n",
              "        vertical-align: middle;\n",
              "    }\n",
              "\n",
              "    .dataframe tbody tr th {\n",
              "        vertical-align: top;\n",
              "    }\n",
              "\n",
              "    .dataframe thead th {\n",
              "        text-align: right;\n",
              "    }\n",
              "</style>\n",
              "<table border=\"1\" class=\"dataframe\">\n",
              "  <thead>\n",
              "    <tr style=\"text-align: right;\">\n",
              "      <th></th>\n",
              "      <th>session_date</th>\n",
              "    </tr>\n",
              "    <tr>\n",
              "      <th>day</th>\n",
              "      <th></th>\n",
              "    </tr>\n",
              "  </thead>\n",
              "  <tbody>\n",
              "    <tr>\n",
              "      <th>29</th>\n",
              "      <td>734</td>\n",
              "    </tr>\n",
              "    <tr>\n",
              "      <th>30</th>\n",
              "      <td>724</td>\n",
              "    </tr>\n",
              "    <tr>\n",
              "      <th>28</th>\n",
              "      <td>708</td>\n",
              "    </tr>\n",
              "    <tr>\n",
              "      <th>26</th>\n",
              "      <td>708</td>\n",
              "    </tr>\n",
              "    <tr>\n",
              "      <th>21</th>\n",
              "      <td>705</td>\n",
              "    </tr>\n",
              "    <tr>\n",
              "      <th>27</th>\n",
              "      <td>694</td>\n",
              "    </tr>\n",
              "    <tr>\n",
              "      <th>17</th>\n",
              "      <td>693</td>\n",
              "    </tr>\n",
              "    <tr>\n",
              "      <th>13</th>\n",
              "      <td>672</td>\n",
              "    </tr>\n",
              "    <tr>\n",
              "      <th>22</th>\n",
              "      <td>669</td>\n",
              "    </tr>\n",
              "    <tr>\n",
              "      <th>18</th>\n",
              "      <td>653</td>\n",
              "    </tr>\n",
              "    <tr>\n",
              "      <th>23</th>\n",
              "      <td>652</td>\n",
              "    </tr>\n",
              "    <tr>\n",
              "      <th>16</th>\n",
              "      <td>646</td>\n",
              "    </tr>\n",
              "    <tr>\n",
              "      <th>15</th>\n",
              "      <td>637</td>\n",
              "    </tr>\n",
              "    <tr>\n",
              "      <th>11</th>\n",
              "      <td>635</td>\n",
              "    </tr>\n",
              "    <tr>\n",
              "      <th>19</th>\n",
              "      <td>631</td>\n",
              "    </tr>\n",
              "    <tr>\n",
              "      <th>25</th>\n",
              "      <td>625</td>\n",
              "    </tr>\n",
              "    <tr>\n",
              "      <th>12</th>\n",
              "      <td>622</td>\n",
              "    </tr>\n",
              "    <tr>\n",
              "      <th>7</th>\n",
              "      <td>621</td>\n",
              "    </tr>\n",
              "    <tr>\n",
              "      <th>20</th>\n",
              "      <td>618</td>\n",
              "    </tr>\n",
              "    <tr>\n",
              "      <th>4</th>\n",
              "      <td>617</td>\n",
              "    </tr>\n",
              "    <tr>\n",
              "      <th>14</th>\n",
              "      <td>614</td>\n",
              "    </tr>\n",
              "    <tr>\n",
              "      <th>24</th>\n",
              "      <td>610</td>\n",
              "    </tr>\n",
              "    <tr>\n",
              "      <th>10</th>\n",
              "      <td>598</td>\n",
              "    </tr>\n",
              "    <tr>\n",
              "      <th>1</th>\n",
              "      <td>596</td>\n",
              "    </tr>\n",
              "    <tr>\n",
              "      <th>3</th>\n",
              "      <td>593</td>\n",
              "    </tr>\n",
              "    <tr>\n",
              "      <th>5</th>\n",
              "      <td>591</td>\n",
              "    </tr>\n",
              "    <tr>\n",
              "      <th>8</th>\n",
              "      <td>589</td>\n",
              "    </tr>\n",
              "    <tr>\n",
              "      <th>9</th>\n",
              "      <td>577</td>\n",
              "    </tr>\n",
              "    <tr>\n",
              "      <th>2</th>\n",
              "      <td>570</td>\n",
              "    </tr>\n",
              "    <tr>\n",
              "      <th>6</th>\n",
              "      <td>556</td>\n",
              "    </tr>\n",
              "    <tr>\n",
              "      <th>31</th>\n",
              "      <td>440</td>\n",
              "    </tr>\n",
              "  </tbody>\n",
              "</table>\n",
              "</div>\n",
              "      <button class=\"colab-df-convert\" onclick=\"convertToInteractive('df-3d786725-8950-492c-a74b-ad966dd592c0')\"\n",
              "              title=\"Convert this dataframe to an interactive table.\"\n",
              "              style=\"display:none;\">\n",
              "        \n",
              "  <svg xmlns=\"http://www.w3.org/2000/svg\" height=\"24px\"viewBox=\"0 0 24 24\"\n",
              "       width=\"24px\">\n",
              "    <path d=\"M0 0h24v24H0V0z\" fill=\"none\"/>\n",
              "    <path d=\"M18.56 5.44l.94 2.06.94-2.06 2.06-.94-2.06-.94-.94-2.06-.94 2.06-2.06.94zm-11 1L8.5 8.5l.94-2.06 2.06-.94-2.06-.94L8.5 2.5l-.94 2.06-2.06.94zm10 10l.94 2.06.94-2.06 2.06-.94-2.06-.94-.94-2.06-.94 2.06-2.06.94z\"/><path d=\"M17.41 7.96l-1.37-1.37c-.4-.4-.92-.59-1.43-.59-.52 0-1.04.2-1.43.59L10.3 9.45l-7.72 7.72c-.78.78-.78 2.05 0 2.83L4 21.41c.39.39.9.59 1.41.59.51 0 1.02-.2 1.41-.59l7.78-7.78 2.81-2.81c.8-.78.8-2.07 0-2.86zM5.41 20L4 18.59l7.72-7.72 1.47 1.35L5.41 20z\"/>\n",
              "  </svg>\n",
              "      </button>\n",
              "      \n",
              "  <style>\n",
              "    .colab-df-container {\n",
              "      display:flex;\n",
              "      flex-wrap:wrap;\n",
              "      gap: 12px;\n",
              "    }\n",
              "\n",
              "    .colab-df-convert {\n",
              "      background-color: #E8F0FE;\n",
              "      border: none;\n",
              "      border-radius: 50%;\n",
              "      cursor: pointer;\n",
              "      display: none;\n",
              "      fill: #1967D2;\n",
              "      height: 32px;\n",
              "      padding: 0 0 0 0;\n",
              "      width: 32px;\n",
              "    }\n",
              "\n",
              "    .colab-df-convert:hover {\n",
              "      background-color: #E2EBFA;\n",
              "      box-shadow: 0px 1px 2px rgba(60, 64, 67, 0.3), 0px 1px 3px 1px rgba(60, 64, 67, 0.15);\n",
              "      fill: #174EA6;\n",
              "    }\n",
              "\n",
              "    [theme=dark] .colab-df-convert {\n",
              "      background-color: #3B4455;\n",
              "      fill: #D2E3FC;\n",
              "    }\n",
              "\n",
              "    [theme=dark] .colab-df-convert:hover {\n",
              "      background-color: #434B5C;\n",
              "      box-shadow: 0px 1px 3px 1px rgba(0, 0, 0, 0.15);\n",
              "      filter: drop-shadow(0px 1px 2px rgba(0, 0, 0, 0.3));\n",
              "      fill: #FFFFFF;\n",
              "    }\n",
              "  </style>\n",
              "\n",
              "      <script>\n",
              "        const buttonEl =\n",
              "          document.querySelector('#df-3d786725-8950-492c-a74b-ad966dd592c0 button.colab-df-convert');\n",
              "        buttonEl.style.display =\n",
              "          google.colab.kernel.accessAllowed ? 'block' : 'none';\n",
              "\n",
              "        async function convertToInteractive(key) {\n",
              "          const element = document.querySelector('#df-3d786725-8950-492c-a74b-ad966dd592c0');\n",
              "          const dataTable =\n",
              "            await google.colab.kernel.invokeFunction('convertToInteractive',\n",
              "                                                     [key], {});\n",
              "          if (!dataTable) return;\n",
              "\n",
              "          const docLinkHtml = 'Like what you see? Visit the ' +\n",
              "            '<a target=\"_blank\" href=https://colab.research.google.com/notebooks/data_table.ipynb>data table notebook</a>'\n",
              "            + ' to learn more about interactive tables.';\n",
              "          element.innerHTML = '';\n",
              "          dataTable['output_type'] = 'display_data';\n",
              "          await google.colab.output.renderOutput(dataTable, element);\n",
              "          const docLink = document.createElement('div');\n",
              "          docLink.innerHTML = docLinkHtml;\n",
              "          element.appendChild(docLink);\n",
              "        }\n",
              "      </script>\n",
              "    </div>\n",
              "  </div>\n",
              "  "
            ]
          },
          "metadata": {}
        },
        {
          "output_type": "display_data",
          "data": {
            "text/plain": [
              "       user_id\n",
              "month         \n",
              "12        3321\n",
              "11        2907\n",
              "10        2642\n",
              "9         2314\n",
              "8         2083\n",
              "7         1760\n",
              "6         1401\n",
              "5         1199\n",
              "4          819\n",
              "3          623\n",
              "2          378\n",
              "1          151"
            ],
            "text/html": [
              "\n",
              "  <div id=\"df-cc9f6fbc-7d90-4904-846d-52c453151f7e\">\n",
              "    <div class=\"colab-df-container\">\n",
              "      <div>\n",
              "<style scoped>\n",
              "    .dataframe tbody tr th:only-of-type {\n",
              "        vertical-align: middle;\n",
              "    }\n",
              "\n",
              "    .dataframe tbody tr th {\n",
              "        vertical-align: top;\n",
              "    }\n",
              "\n",
              "    .dataframe thead th {\n",
              "        text-align: right;\n",
              "    }\n",
              "</style>\n",
              "<table border=\"1\" class=\"dataframe\">\n",
              "  <thead>\n",
              "    <tr style=\"text-align: right;\">\n",
              "      <th></th>\n",
              "      <th>user_id</th>\n",
              "    </tr>\n",
              "    <tr>\n",
              "      <th>month</th>\n",
              "      <th></th>\n",
              "    </tr>\n",
              "  </thead>\n",
              "  <tbody>\n",
              "    <tr>\n",
              "      <th>12</th>\n",
              "      <td>3321</td>\n",
              "    </tr>\n",
              "    <tr>\n",
              "      <th>11</th>\n",
              "      <td>2907</td>\n",
              "    </tr>\n",
              "    <tr>\n",
              "      <th>10</th>\n",
              "      <td>2642</td>\n",
              "    </tr>\n",
              "    <tr>\n",
              "      <th>9</th>\n",
              "      <td>2314</td>\n",
              "    </tr>\n",
              "    <tr>\n",
              "      <th>8</th>\n",
              "      <td>2083</td>\n",
              "    </tr>\n",
              "    <tr>\n",
              "      <th>7</th>\n",
              "      <td>1760</td>\n",
              "    </tr>\n",
              "    <tr>\n",
              "      <th>6</th>\n",
              "      <td>1401</td>\n",
              "    </tr>\n",
              "    <tr>\n",
              "      <th>5</th>\n",
              "      <td>1199</td>\n",
              "    </tr>\n",
              "    <tr>\n",
              "      <th>4</th>\n",
              "      <td>819</td>\n",
              "    </tr>\n",
              "    <tr>\n",
              "      <th>3</th>\n",
              "      <td>623</td>\n",
              "    </tr>\n",
              "    <tr>\n",
              "      <th>2</th>\n",
              "      <td>378</td>\n",
              "    </tr>\n",
              "    <tr>\n",
              "      <th>1</th>\n",
              "      <td>151</td>\n",
              "    </tr>\n",
              "  </tbody>\n",
              "</table>\n",
              "</div>\n",
              "      <button class=\"colab-df-convert\" onclick=\"convertToInteractive('df-cc9f6fbc-7d90-4904-846d-52c453151f7e')\"\n",
              "              title=\"Convert this dataframe to an interactive table.\"\n",
              "              style=\"display:none;\">\n",
              "        \n",
              "  <svg xmlns=\"http://www.w3.org/2000/svg\" height=\"24px\"viewBox=\"0 0 24 24\"\n",
              "       width=\"24px\">\n",
              "    <path d=\"M0 0h24v24H0V0z\" fill=\"none\"/>\n",
              "    <path d=\"M18.56 5.44l.94 2.06.94-2.06 2.06-.94-2.06-.94-.94-2.06-.94 2.06-2.06.94zm-11 1L8.5 8.5l.94-2.06 2.06-.94-2.06-.94L8.5 2.5l-.94 2.06-2.06.94zm10 10l.94 2.06.94-2.06 2.06-.94-2.06-.94-.94-2.06-.94 2.06-2.06.94z\"/><path d=\"M17.41 7.96l-1.37-1.37c-.4-.4-.92-.59-1.43-.59-.52 0-1.04.2-1.43.59L10.3 9.45l-7.72 7.72c-.78.78-.78 2.05 0 2.83L4 21.41c.39.39.9.59 1.41.59.51 0 1.02-.2 1.41-.59l7.78-7.78 2.81-2.81c.8-.78.8-2.07 0-2.86zM5.41 20L4 18.59l7.72-7.72 1.47 1.35L5.41 20z\"/>\n",
              "  </svg>\n",
              "      </button>\n",
              "      \n",
              "  <style>\n",
              "    .colab-df-container {\n",
              "      display:flex;\n",
              "      flex-wrap:wrap;\n",
              "      gap: 12px;\n",
              "    }\n",
              "\n",
              "    .colab-df-convert {\n",
              "      background-color: #E8F0FE;\n",
              "      border: none;\n",
              "      border-radius: 50%;\n",
              "      cursor: pointer;\n",
              "      display: none;\n",
              "      fill: #1967D2;\n",
              "      height: 32px;\n",
              "      padding: 0 0 0 0;\n",
              "      width: 32px;\n",
              "    }\n",
              "\n",
              "    .colab-df-convert:hover {\n",
              "      background-color: #E2EBFA;\n",
              "      box-shadow: 0px 1px 2px rgba(60, 64, 67, 0.3), 0px 1px 3px 1px rgba(60, 64, 67, 0.15);\n",
              "      fill: #174EA6;\n",
              "    }\n",
              "\n",
              "    [theme=dark] .colab-df-convert {\n",
              "      background-color: #3B4455;\n",
              "      fill: #D2E3FC;\n",
              "    }\n",
              "\n",
              "    [theme=dark] .colab-df-convert:hover {\n",
              "      background-color: #434B5C;\n",
              "      box-shadow: 0px 1px 3px 1px rgba(0, 0, 0, 0.15);\n",
              "      filter: drop-shadow(0px 1px 2px rgba(0, 0, 0, 0.3));\n",
              "      fill: #FFFFFF;\n",
              "    }\n",
              "  </style>\n",
              "\n",
              "      <script>\n",
              "        const buttonEl =\n",
              "          document.querySelector('#df-cc9f6fbc-7d90-4904-846d-52c453151f7e button.colab-df-convert');\n",
              "        buttonEl.style.display =\n",
              "          google.colab.kernel.accessAllowed ? 'block' : 'none';\n",
              "\n",
              "        async function convertToInteractive(key) {\n",
              "          const element = document.querySelector('#df-cc9f6fbc-7d90-4904-846d-52c453151f7e');\n",
              "          const dataTable =\n",
              "            await google.colab.kernel.invokeFunction('convertToInteractive',\n",
              "                                                     [key], {});\n",
              "          if (!dataTable) return;\n",
              "\n",
              "          const docLinkHtml = 'Like what you see? Visit the ' +\n",
              "            '<a target=\"_blank\" href=https://colab.research.google.com/notebooks/data_table.ipynb>data table notebook</a>'\n",
              "            + ' to learn more about interactive tables.';\n",
              "          element.innerHTML = '';\n",
              "          dataTable['output_type'] = 'display_data';\n",
              "          await google.colab.output.renderOutput(dataTable, element);\n",
              "          const docLink = document.createElement('div');\n",
              "          docLink.innerHTML = docLinkHtml;\n",
              "          element.appendChild(docLink);\n",
              "        }\n",
              "      </script>\n",
              "    </div>\n",
              "  </div>\n",
              "  "
            ]
          },
          "metadata": {}
        },
        {
          "output_type": "execute_result",
          "data": {
            "text/plain": [
              "month         1    2    3    4     5     6     7     8     9     10    11  \\\n",
              "tariff_name                                                                 \n",
              "smart        141  345  566  739  1065  1259  1585  1889  2103  2437  2664   \n",
              "ultra         10   33   57   80   134   142   175   194   211   205   243   \n",
              "\n",
              "month          12  \n",
              "tariff_name        \n",
              "smart        3030  \n",
              "ultra         291  "
            ],
            "text/html": [
              "\n",
              "  <div id=\"df-f2e75373-7ced-40f8-9eef-2fc4d347fe85\">\n",
              "    <div class=\"colab-df-container\">\n",
              "      <div>\n",
              "<style scoped>\n",
              "    .dataframe tbody tr th:only-of-type {\n",
              "        vertical-align: middle;\n",
              "    }\n",
              "\n",
              "    .dataframe tbody tr th {\n",
              "        vertical-align: top;\n",
              "    }\n",
              "\n",
              "    .dataframe thead th {\n",
              "        text-align: right;\n",
              "    }\n",
              "</style>\n",
              "<table border=\"1\" class=\"dataframe\">\n",
              "  <thead>\n",
              "    <tr style=\"text-align: right;\">\n",
              "      <th>month</th>\n",
              "      <th>1</th>\n",
              "      <th>2</th>\n",
              "      <th>3</th>\n",
              "      <th>4</th>\n",
              "      <th>5</th>\n",
              "      <th>6</th>\n",
              "      <th>7</th>\n",
              "      <th>8</th>\n",
              "      <th>9</th>\n",
              "      <th>10</th>\n",
              "      <th>11</th>\n",
              "      <th>12</th>\n",
              "    </tr>\n",
              "    <tr>\n",
              "      <th>tariff_name</th>\n",
              "      <th></th>\n",
              "      <th></th>\n",
              "      <th></th>\n",
              "      <th></th>\n",
              "      <th></th>\n",
              "      <th></th>\n",
              "      <th></th>\n",
              "      <th></th>\n",
              "      <th></th>\n",
              "      <th></th>\n",
              "      <th></th>\n",
              "      <th></th>\n",
              "    </tr>\n",
              "  </thead>\n",
              "  <tbody>\n",
              "    <tr>\n",
              "      <th>smart</th>\n",
              "      <td>141</td>\n",
              "      <td>345</td>\n",
              "      <td>566</td>\n",
              "      <td>739</td>\n",
              "      <td>1065</td>\n",
              "      <td>1259</td>\n",
              "      <td>1585</td>\n",
              "      <td>1889</td>\n",
              "      <td>2103</td>\n",
              "      <td>2437</td>\n",
              "      <td>2664</td>\n",
              "      <td>3030</td>\n",
              "    </tr>\n",
              "    <tr>\n",
              "      <th>ultra</th>\n",
              "      <td>10</td>\n",
              "      <td>33</td>\n",
              "      <td>57</td>\n",
              "      <td>80</td>\n",
              "      <td>134</td>\n",
              "      <td>142</td>\n",
              "      <td>175</td>\n",
              "      <td>194</td>\n",
              "      <td>211</td>\n",
              "      <td>205</td>\n",
              "      <td>243</td>\n",
              "      <td>291</td>\n",
              "    </tr>\n",
              "  </tbody>\n",
              "</table>\n",
              "</div>\n",
              "      <button class=\"colab-df-convert\" onclick=\"convertToInteractive('df-f2e75373-7ced-40f8-9eef-2fc4d347fe85')\"\n",
              "              title=\"Convert this dataframe to an interactive table.\"\n",
              "              style=\"display:none;\">\n",
              "        \n",
              "  <svg xmlns=\"http://www.w3.org/2000/svg\" height=\"24px\"viewBox=\"0 0 24 24\"\n",
              "       width=\"24px\">\n",
              "    <path d=\"M0 0h24v24H0V0z\" fill=\"none\"/>\n",
              "    <path d=\"M18.56 5.44l.94 2.06.94-2.06 2.06-.94-2.06-.94-.94-2.06-.94 2.06-2.06.94zm-11 1L8.5 8.5l.94-2.06 2.06-.94-2.06-.94L8.5 2.5l-.94 2.06-2.06.94zm10 10l.94 2.06.94-2.06 2.06-.94-2.06-.94-.94-2.06-.94 2.06-2.06.94z\"/><path d=\"M17.41 7.96l-1.37-1.37c-.4-.4-.92-.59-1.43-.59-.52 0-1.04.2-1.43.59L10.3 9.45l-7.72 7.72c-.78.78-.78 2.05 0 2.83L4 21.41c.39.39.9.59 1.41.59.51 0 1.02-.2 1.41-.59l7.78-7.78 2.81-2.81c.8-.78.8-2.07 0-2.86zM5.41 20L4 18.59l7.72-7.72 1.47 1.35L5.41 20z\"/>\n",
              "  </svg>\n",
              "      </button>\n",
              "      \n",
              "  <style>\n",
              "    .colab-df-container {\n",
              "      display:flex;\n",
              "      flex-wrap:wrap;\n",
              "      gap: 12px;\n",
              "    }\n",
              "\n",
              "    .colab-df-convert {\n",
              "      background-color: #E8F0FE;\n",
              "      border: none;\n",
              "      border-radius: 50%;\n",
              "      cursor: pointer;\n",
              "      display: none;\n",
              "      fill: #1967D2;\n",
              "      height: 32px;\n",
              "      padding: 0 0 0 0;\n",
              "      width: 32px;\n",
              "    }\n",
              "\n",
              "    .colab-df-convert:hover {\n",
              "      background-color: #E2EBFA;\n",
              "      box-shadow: 0px 1px 2px rgba(60, 64, 67, 0.3), 0px 1px 3px 1px rgba(60, 64, 67, 0.15);\n",
              "      fill: #174EA6;\n",
              "    }\n",
              "\n",
              "    [theme=dark] .colab-df-convert {\n",
              "      background-color: #3B4455;\n",
              "      fill: #D2E3FC;\n",
              "    }\n",
              "\n",
              "    [theme=dark] .colab-df-convert:hover {\n",
              "      background-color: #434B5C;\n",
              "      box-shadow: 0px 1px 3px 1px rgba(0, 0, 0, 0.15);\n",
              "      filter: drop-shadow(0px 1px 2px rgba(0, 0, 0, 0.3));\n",
              "      fill: #FFFFFF;\n",
              "    }\n",
              "  </style>\n",
              "\n",
              "      <script>\n",
              "        const buttonEl =\n",
              "          document.querySelector('#df-f2e75373-7ced-40f8-9eef-2fc4d347fe85 button.colab-df-convert');\n",
              "        buttonEl.style.display =\n",
              "          google.colab.kernel.accessAllowed ? 'block' : 'none';\n",
              "\n",
              "        async function convertToInteractive(key) {\n",
              "          const element = document.querySelector('#df-f2e75373-7ced-40f8-9eef-2fc4d347fe85');\n",
              "          const dataTable =\n",
              "            await google.colab.kernel.invokeFunction('convertToInteractive',\n",
              "                                                     [key], {});\n",
              "          if (!dataTable) return;\n",
              "\n",
              "          const docLinkHtml = 'Like what you see? Visit the ' +\n",
              "            '<a target=\"_blank\" href=https://colab.research.google.com/notebooks/data_table.ipynb>data table notebook</a>'\n",
              "            + ' to learn more about interactive tables.';\n",
              "          element.innerHTML = '';\n",
              "          dataTable['output_type'] = 'display_data';\n",
              "          await google.colab.output.renderOutput(dataTable, element);\n",
              "          const docLink = document.createElement('div');\n",
              "          docLink.innerHTML = docLinkHtml;\n",
              "          element.appendChild(docLink);\n",
              "        }\n",
              "      </script>\n",
              "    </div>\n",
              "  </div>\n",
              "  "
            ]
          },
          "metadata": {},
          "execution_count": 146
        }
      ]
    },
    {
      "cell_type": "markdown",
      "source": [
        "Похоже, что количество таких сессий нарастало к концу года, распределение по дням месяца практически равномерное. А значит дело не в пакете интернета, который обычно заканчивается к концу месяца. От тарифа этот факт также не зависит, очевидна лишь тенденция к увеличению таких сессий к концу года. Вероятнее всего, проблема на стороне провайдера."
      ],
      "metadata": {
        "id": "ug8rXsBvXzpq"
      }
    },
    {
      "cell_type": "code",
      "execution_count": 147,
      "metadata": {
        "colab": {
          "base_uri": "https://localhost:8080/",
          "height": 410
        },
        "id": "Y0IBymF4Upp7",
        "outputId": "7fe0002a-a23c-4971-c6c1-1e60c8ec8ed2"
      },
      "outputs": [
        {
          "output_type": "display_data",
          "data": {
            "text/plain": [
              "count     123036\n",
              "unique    123036\n",
              "top       1000_0\n",
              "freq           1\n",
              "Name: id, dtype: object"
            ]
          },
          "metadata": {}
        },
        {
          "output_type": "display_data",
          "data": {
            "text/plain": [
              "count                           123036\n",
              "mean     2018-09-04 15:28:42.227640576\n",
              "min                2018-01-02 00:00:00\n",
              "25%                2018-07-09 00:00:00\n",
              "50%                2018-09-20 00:00:00\n",
              "75%                2018-11-14 00:00:00\n",
              "max                2018-12-31 00:00:00\n",
              "Name: message_date, dtype: object"
            ]
          },
          "metadata": {}
        },
        {
          "output_type": "display_data",
          "data": {
            "text/plain": [
              "count    123036.000000\n",
              "mean       1256.989410\n",
              "std         143.523967\n",
              "min        1000.000000\n",
              "25%        1134.000000\n",
              "50%        1271.000000\n",
              "75%        1381.000000\n",
              "max        1499.000000\n",
              "Name: user_id, dtype: float64"
            ]
          },
          "metadata": {}
        }
      ],
      "source": [
        "# проверим данные таблицы messages на аномалии\n",
        "display(messages['id'].describe())\n",
        "display(messages['message_date'].describe(datetime_is_numeric=True))\n",
        "display(messages['user_id'].describe())\n",
        "\n",
        "# аномалий нет"
      ]
    },
    {
      "cell_type": "code",
      "execution_count": 148,
      "metadata": {
        "colab": {
          "base_uri": "https://localhost:8080/",
          "height": 1000
        },
        "id": "oR8wsab7Upp7",
        "outputId": "94b89d1b-6bd7-4bb9-b5b4-e454e7c3b79c"
      },
      "outputs": [
        {
          "output_type": "display_data",
          "data": {
            "text/plain": [
              "count       2.000000\n",
              "mean      525.000000\n",
              "std       671.751442\n",
              "min        50.000000\n",
              "25%       287.500000\n",
              "50%       525.000000\n",
              "75%       762.500000\n",
              "max      1000.000000\n",
              "Name: messages_included, dtype: float64"
            ]
          },
          "metadata": {}
        },
        {
          "output_type": "display_data",
          "data": {
            "text/plain": [
              "count        2.000000\n",
              "mean     23040.000000\n",
              "std      10861.160159\n",
              "min      15360.000000\n",
              "25%      19200.000000\n",
              "50%      23040.000000\n",
              "75%      26880.000000\n",
              "max      30720.000000\n",
              "Name: mb_per_month_included, dtype: float64"
            ]
          },
          "metadata": {}
        },
        {
          "output_type": "display_data",
          "data": {
            "text/plain": [
              "count       2.000000\n",
              "mean     1750.000000\n",
              "std      1767.766953\n",
              "min       500.000000\n",
              "25%      1125.000000\n",
              "50%      1750.000000\n",
              "75%      2375.000000\n",
              "max      3000.000000\n",
              "Name: minutes_included, dtype: float64"
            ]
          },
          "metadata": {}
        },
        {
          "output_type": "display_data",
          "data": {
            "text/plain": [
              "count       2.000000\n",
              "mean     1250.000000\n",
              "std       989.949494\n",
              "min       550.000000\n",
              "25%       900.000000\n",
              "50%      1250.000000\n",
              "75%      1600.000000\n",
              "max      1950.000000\n",
              "Name: rub_monthly_fee, dtype: float64"
            ]
          },
          "metadata": {}
        },
        {
          "output_type": "display_data",
          "data": {
            "text/plain": [
              "count      2.000000\n",
              "mean     175.000000\n",
              "std       35.355339\n",
              "min      150.000000\n",
              "25%      162.500000\n",
              "50%      175.000000\n",
              "75%      187.500000\n",
              "max      200.000000\n",
              "Name: rub_per_gb, dtype: float64"
            ]
          },
          "metadata": {}
        },
        {
          "output_type": "display_data",
          "data": {
            "text/plain": [
              "count    2.000000\n",
              "mean     2.000000\n",
              "std      1.414214\n",
              "min      1.000000\n",
              "25%      1.500000\n",
              "50%      2.000000\n",
              "75%      2.500000\n",
              "max      3.000000\n",
              "Name: rub_per_message, dtype: float64"
            ]
          },
          "metadata": {}
        },
        {
          "output_type": "display_data",
          "data": {
            "text/plain": [
              "count    2.000000\n",
              "mean     2.000000\n",
              "std      1.414214\n",
              "min      1.000000\n",
              "25%      1.500000\n",
              "50%      2.000000\n",
              "75%      2.500000\n",
              "max      3.000000\n",
              "Name: rub_per_minute, dtype: float64"
            ]
          },
          "metadata": {}
        },
        {
          "output_type": "display_data",
          "data": {
            "text/plain": [
              "array(['smart', 'ultra'], dtype=object)"
            ]
          },
          "metadata": {}
        }
      ],
      "source": [
        "# проверим данные таблицы tariffs на аномалии\n",
        "display(tariffs['messages_included'].describe())\n",
        "display(tariffs['mb_per_month_included'].describe())\n",
        "display(tariffs['minutes_included'].describe())\n",
        "display(tariffs['rub_monthly_fee'].describe())\n",
        "display(tariffs['rub_per_gb'].describe())\n",
        "display(tariffs['rub_per_message'].describe())\n",
        "display(tariffs['rub_per_minute'].describe())\n",
        "display(tariffs['tariff_name'].unique())\n",
        "\n",
        "\n",
        "# аномалий нет"
      ]
    },
    {
      "cell_type": "code",
      "execution_count": 149,
      "metadata": {
        "colab": {
          "base_uri": "https://localhost:8080/",
          "height": 1000
        },
        "id": "Loh1w3qpUpp7",
        "outputId": "dc4640c9-0a4a-4aa9-f28e-5ab0b189d2a3"
      },
      "outputs": [
        {
          "output_type": "display_data",
          "data": {
            "text/plain": [
              "count     500.000000\n",
              "mean     1249.500000\n",
              "std       144.481833\n",
              "min      1000.000000\n",
              "25%      1124.750000\n",
              "50%      1249.500000\n",
              "75%      1374.250000\n",
              "max      1499.000000\n",
              "Name: user_id, dtype: float64"
            ]
          },
          "metadata": {}
        },
        {
          "output_type": "display_data",
          "data": {
            "text/plain": [
              "count    500.00000\n",
              "mean      46.58800\n",
              "std       16.66763\n",
              "min       18.00000\n",
              "25%       32.00000\n",
              "50%       46.00000\n",
              "75%       62.00000\n",
              "max       75.00000\n",
              "Name: age, dtype: float64"
            ]
          },
          "metadata": {}
        },
        {
          "output_type": "display_data",
          "data": {
            "text/plain": [
              "count                               38\n",
              "mean     2018-11-13 00:37:53.684210432\n",
              "min                2018-08-17 00:00:00\n",
              "25%                2018-10-14 00:00:00\n",
              "50%                2018-11-24 00:00:00\n",
              "75%                2018-12-15 12:00:00\n",
              "max                2018-12-30 00:00:00\n",
              "Name: churn_date, dtype: object"
            ]
          },
          "metadata": {}
        },
        {
          "output_type": "display_data",
          "data": {
            "text/plain": [
              "array(['Краснодар', 'Москва', 'Стерлитамак', 'Новокузнецк',\n",
              "       'Набережные Челны', 'Ульяновск', 'Челябинск', 'Пермь', 'Тюмень',\n",
              "       'Самара', 'Санкт-Петербург', 'Иваново', 'Чебоксары', 'Омск', 'Уфа',\n",
              "       'Томск', 'Чита', 'Мурманск', 'Петрозаводск', 'Тверь',\n",
              "       'Екатеринбург', 'Махачкала', 'Вологда', 'Череповец', 'Ярославль',\n",
              "       'Сочи', 'Хабаровск', 'Ставрополь', 'Рязань', 'Улан-Удэ', 'Тула',\n",
              "       'Саратов', 'Ростов-на-Дону', 'Казань', 'Иркутск', 'Курск',\n",
              "       'Калуга', 'Якутск', 'Астрахань', 'Химки', 'Владикавказ',\n",
              "       'Волгоград', 'Саранск', 'Ижевск', 'Новосибирск', 'Брянск',\n",
              "       'Тольятти', 'Нижний Тагил', 'Орёл', 'Белгород', 'Воронеж',\n",
              "       'Волжский', 'Курган', 'Барнаул', 'Красноярск', 'Архангельск',\n",
              "       'Липецк', 'Кемерово', 'Киров', 'Сургут', 'Пенза', 'Магнитогорск',\n",
              "       'Нижний Новгород', 'Кострома', 'Владивосток', 'Тамбов', 'Балашиха',\n",
              "       'Севастополь', 'Калининград', 'Оренбург', 'Смоленск',\n",
              "       'Нижневартовск', 'Владимир', 'Новороссийск', 'Грозный', 'Подольск'],\n",
              "      dtype=object)"
            ]
          },
          "metadata": {}
        },
        {
          "output_type": "display_data",
          "data": {
            "text/plain": [
              "array(['Рафаил', 'Иван', 'Евгений', 'Белла', 'Татьяна', 'Афанасий',\n",
              "       'Леонид', 'Юна', 'Рустэм', 'Василиса', 'Эдуард', 'Веселина',\n",
              "       'Варлам', 'Борис', 'Яков', 'Рузана', 'Марица', 'Мария', 'Матвей',\n",
              "       'Игнатий', 'Тала', 'Святослав', 'Людмила', 'Иулиан', 'Владислав',\n",
              "       'Рустем', 'Алексей', 'Мариетта', 'Лаврентий', 'Инна', 'Лия',\n",
              "       'Розалия', 'Анжелика', 'Изольда', 'Агнесса', 'Юрий', 'Михаил',\n",
              "       'Константин', 'Марианна', 'Иннокентий', 'Джемма', 'Екатерина',\n",
              "       'Милица', 'Лола', 'Габриель', 'Кристина', 'Павел', 'Ренальд',\n",
              "       'Луиза', 'Радислав', 'Динара', 'Лукий', 'Глеб', 'Тамара',\n",
              "       'Александр', 'Таира', 'Роза', 'Исак', 'Юзефа', 'Ким', 'Гордей',\n",
              "       'Эльза', 'Гектор', 'Андрей', 'Рафаэль', 'Фёдор', 'Харитон',\n",
              "       'Еремей', 'Всеволод', 'Софья', 'Авксентий', 'Виолетта', 'Ириней',\n",
              "       'Гелена', 'Ксения', 'Вера', 'Вениамин', 'Вероника', 'Даниэла',\n",
              "       'Алла', 'Элеонора', 'Аюна', 'Руслан', 'Онисим', 'Марта', 'Эльвира',\n",
              "       'Габриэль', 'Исаак', 'Милана', 'Арнольд', 'Маргарита', 'Рашид',\n",
              "       'Альберта', 'Дана', 'Олег', 'Альбин', 'Сабина', 'Яна', 'Анвар',\n",
              "       'Инара', 'Нина', 'Надежда', 'Марьяна', 'Милена', 'Пётр', 'Леся',\n",
              "       'Светлана', 'Клариса', 'Симона', 'Арсен', 'Ефим', 'Юлий',\n",
              "       'Владимир', 'Евдокия', 'Алиса', 'Майя', 'Лариса', 'Марина',\n",
              "       'Валерий', 'Виктория', 'Игорь', 'Эльга', 'Лев', 'Геральд',\n",
              "       'Клавдия', 'Лилия', 'Георгина', 'Вадим', 'Каролина', 'Алан',\n",
              "       'Агафья', 'Лолита', 'Радим', 'Наталья', 'Рем', 'Снежана',\n",
              "       'Мануэла', 'Рэм', 'Виталий', 'Рауль', 'Степан', 'Егор', 'Демьян',\n",
              "       'Агата', 'Геннадий', 'Адам', 'Мирослава', 'Елена', 'Ева',\n",
              "       'Евфросинья', 'Арина', 'Гайдар', 'Артемий', 'Рустам', 'Ермолай',\n",
              "       'Кузьма', 'Рубен', 'Ахмет', 'Раиса', 'Денис', 'Нелли', 'Касьян',\n",
              "       'Сара', 'Роксана', 'Леон', 'Алина', 'Даниил', 'Зинаида', 'Артём',\n",
              "       'Анатолий', 'Лейла', 'Александра', 'Серафима', 'Алевтина',\n",
              "       'Эмилия', 'Мадина', 'Антонина', 'Саида', 'Трофим', 'Аким',\n",
              "       'Мальвина', 'Аурелия', 'Мстислав', 'Аксён', 'Семён', 'Валерия',\n",
              "       'Григорий', 'Таисия', 'Арсений', 'Эдита', 'Дебора', 'Олеся',\n",
              "       'Альфред', 'Тихон', 'Наида', 'Илья', 'Инесса', 'Юлия', 'Рудольф',\n",
              "       'Максим', 'Инга', 'Эсмеральда', 'Дайна', 'Джозефина', 'Тимофей',\n",
              "       'Виктор', 'Валентина', 'Анита', 'Илзе', 'Галина', 'Варвара',\n",
              "       'Анфиса', 'Доминика', 'Лаура', 'Рената', 'Оксана', 'Георгий',\n",
              "       'Лидия', 'Евгения', 'Фаддей', 'Герасим', 'Радомир', 'Ренат',\n",
              "       'Владислава', 'Роберт', 'Элина', 'Станислав', 'Элла', 'Гарри',\n",
              "       'Берта', 'Геодар', 'Эльмира', 'Клара', 'Камилла', 'Джулия',\n",
              "       'Карина', 'Нателла', 'Леонтий', 'Ростислав', 'Ангелина', 'Алёна',\n",
              "       'Ринат', 'Эллада', 'Николай', 'Руслана', 'Трифон'], dtype=object)"
            ]
          },
          "metadata": {}
        },
        {
          "output_type": "display_data",
          "data": {
            "text/plain": [
              "array(['Верещагин', 'Ежов', 'Абрамович', 'Белякова', 'Авдеенко', 'Горлов',\n",
              "       'Ермолаев', 'Березина', 'Пономарёв', 'Блинова', 'Кононов',\n",
              "       'Алёшко', 'Соловьев', 'Андреенко', 'Акинфьев', 'Алюшина',\n",
              "       'Сазонова', 'Аленникова', 'Золотов', 'Круглов', 'Костина',\n",
              "       'Тихонов', 'Трофимова', 'Мельникова', 'Антипов', 'Акинин',\n",
              "       'Бородин', 'Авдеев', 'Евсеев', 'Селезнев', 'Русанова', 'Тимофеев',\n",
              "       'Игнатьева', 'Бабушкина', 'Бондарев', 'Аракина', 'Андропова',\n",
              "       'Архипова', 'Денисова', 'Одинцов', 'Кравцов', 'Добрынин',\n",
              "       'Родионова', 'Рябов', 'Карасева', 'Александрова', 'Меркулова',\n",
              "       'Мясникова', 'Ларин', 'Аничкина', 'Сомова', 'Панов', 'Фёдоров',\n",
              "       'Платонова', 'Артемьев', 'Дьячкова', 'Глушков', 'Свиридов',\n",
              "       'Рудаков', 'Ситникова', 'Коршунов', 'Климова', 'Алфеева',\n",
              "       'Игнатова', 'Малахов', 'Абашкина', 'Демьянов', 'Кочетов',\n",
              "       'Селиванова', 'Чумаков', 'Андрейкин', 'Павловский', 'Никулин',\n",
              "       'Шарапов', 'Кольцова', 'Литвинов', 'Авроров', 'Игнатьев',\n",
              "       'Терехова', 'Малышев', 'Галкин', 'Спиридонова', 'Дорофеева',\n",
              "       'Аксёнов', 'Абалакова', 'Нечаева', 'Астафьева', 'Суслова',\n",
              "       'Амельченко', 'Лапина', 'Пугачева', 'Кабанова', 'Кулешова',\n",
              "       'Озерова', 'Сергеева', 'Красильников', 'Колобов', 'Королькова',\n",
              "       'Лобанова', 'Поляков', 'Рыбакова', 'Костин', 'Воронин', 'Болдырев',\n",
              "       'Андрющенко', 'Александрович', 'Макарова', 'Казанцев', 'Булгаков',\n",
              "       'Колесова', 'Толкачев', 'Шевцова', 'Латышева', 'Сухарев',\n",
              "       'Абдулина', 'Афанасова', 'Устинов', 'Андрианов', 'Арсенкова',\n",
              "       'Ильина', 'Агаева', 'Морозов', 'Крюкова', 'Афонасьева', 'Алехина',\n",
              "       'Аникина', 'Авросимова', 'Воронина', 'Левин', 'Артёшин',\n",
              "       'Ерофеева', 'Корнеева', 'Ахматулин', 'Короткова', 'Алешкова',\n",
              "       'Покровский', 'Ефремов', 'Алешин', 'Никонов', 'Синицын', 'Киреева',\n",
              "       'Алексеенко', 'Муравьева', 'Молчанова', 'Щербакова', 'Одинцова',\n",
              "       'Тихомирова', 'Чернов', 'Белоусова', 'Андрейчук', 'Авдонюшкин',\n",
              "       'Голованова', 'Минаева', 'Вишневский', 'Лебедев', 'Медведев',\n",
              "       'Жданов', 'Ананьева', 'Карташова', 'Козлов', 'Иванова', 'Карасев',\n",
              "       'Григорьева', 'Розанова', 'Марков', 'Куприянов', 'Жарова',\n",
              "       'Астапенко', 'Мишин', 'Аврорин', 'Агаев', 'Тарасова', 'Родина',\n",
              "       'Абакумов', 'Овчинников', 'Соколов', 'Зубкова', 'Абоимов',\n",
              "       'Акиндинов', 'Мальцев', 'Безруков', 'Наумов', 'Петухова',\n",
              "       'Чернышев', 'Черняев', 'Швецов', 'Демьянова', 'Ларионова',\n",
              "       'Веселов', 'Адаменко', 'Григорьев', 'Лазарева', 'Семина',\n",
              "       'Шарапова', 'Зеленина', 'Сахарова', 'Сорокин', 'Серебрякова',\n",
              "       'Азимова', 'Пономарев', 'Муравьёв', 'Алиев', 'Малинин', 'Сазонов',\n",
              "       'Мамонтова', 'Некрасов', 'Астапов', 'Сафонова', 'Панфилов',\n",
              "       'Тарасов', 'Горбачева', 'Бобылёв', 'Калинина', 'Алфимов',\n",
              "       'Капустин', 'Авдюков', 'Ларина', 'Алфимова', 'Алексеева', 'Басова',\n",
              "       'Демидов', 'Кошелева', 'Ёрохов', 'Шарова', 'Федосеев', 'Леонтьев',\n",
              "       'Макеев', 'Коновалова', 'Минаев', 'Авдушева', 'Ракова', 'Тетерина',\n",
              "       'Масленникова', 'Сухарева', 'Пономарева', 'Панфилова', 'Беляев',\n",
              "       'Третьякова', 'Горбунов', 'Пантелеева', 'Зайцев', 'Жукова',\n",
              "       'Адамов', 'Антропова', 'Седова', 'Трошин', 'Ахмадулин',\n",
              "       'Вешнякова', 'Чижова', 'Корнилов', 'Еремин', 'Елизаров', 'Крюков',\n",
              "       'Троицкий', 'Худяков', 'Зимина', 'Аракчеев', 'Крючков', 'Давыдов',\n",
              "       'Богданова', 'Анищенко', 'Дубинина', 'Асафьева', 'Черный',\n",
              "       'Абрамцев', 'Чеснокова', 'Симонова', 'Азерников', 'Авраменко',\n",
              "       'Абаимов', 'Абакшина', 'Соловьёв', 'Лаптева', 'Попов', 'Авсейкина',\n",
              "       'Корнилова', 'Касьянова', 'Нестеров', 'Крылова', 'Поликарпова',\n",
              "       'Суслов', 'Амелишко', 'Агапеева', 'Алымова', 'Зыков', 'Парфенов',\n",
              "       'Киселёв', 'Софронов', 'Сальников', 'Носкова', 'Барсуков',\n",
              "       'Севастьянова', 'Аркадьев', 'Золотова', 'Малинина', 'Антонова',\n",
              "       'Алексеичев', 'Орлов', 'Алютин', 'Кузнецов', 'Казакова',\n",
              "       'Верещагина', 'Ёркина', 'Антропов', 'Фокина', 'Громова',\n",
              "       'Курочкин', 'Козырева', 'Румянцева', 'Кулагина', 'Абрикосова',\n",
              "       'Гончаров', 'Ермилов', 'Логинов', 'Абашкин', 'Болдырева',\n",
              "       'Вишняков', 'Фетисова', 'Антоненко', 'Гришина', 'Сысоев',\n",
              "       'Трофимов', 'Авраамова', 'Афанасенко', 'Акимычева', 'Акимов',\n",
              "       'Семин', 'Бычкова', 'Кочергина', 'Нестерова', 'Родионов', 'Зуев',\n",
              "       'Беляева', 'Беликова', 'Зубков', 'Кондратов', 'Савельева',\n",
              "       'Чистякова', 'Ахмедов', 'Абрашина', 'Артёмов', 'Васильева',\n",
              "       'Измайлова', 'Амелин', 'Уваров', 'Белова', 'Семёнов', 'Пирогова',\n",
              "       'Кукушкин', 'Ильин', 'Прокофьева', 'Афонин', 'Фролов', 'Лукин',\n",
              "       'Ёлчина', 'Макаров', 'Ахматов', 'Яшина', 'Корольков', 'Устинова',\n",
              "       'Силин', 'Ёрохова', 'Фомин', 'Азаров', 'Добрынина', 'Тимофеева',\n",
              "       'Кочетков', 'Алёшкова', 'Субботина', 'Ерофеев', 'Селезнева',\n",
              "       'Бородина', 'Афонина', 'Матвеев', 'Белозёров', 'Ковалева',\n",
              "       'Афинин', 'Иванов', 'Артемчук', 'Алешина', 'Дроздов', 'Новикова',\n",
              "       'Козлова', 'Завьялова', 'Абалдуева', 'Акуленко', 'Авринский',\n",
              "       'Авчинникова', 'Абрамычева', 'Авросинова', 'Ёркин', 'Шевцов',\n",
              "       'Александрюк', 'Авдышев', 'Абалкин', 'Лосева', 'Гаврилова',\n",
              "       'Боброва', 'Любимов', 'Фадеева', 'Семенова', 'Серов',\n",
              "       'Константинова', 'Богданов', 'Емельянова', 'Блохина', 'Борисова',\n",
              "       'Сухова', 'Моргунов', 'Кириллов', 'Филатов', 'Алесин', 'Артёменко',\n",
              "       'Ахматулина', 'Андропов', 'Фокин', 'Блохин', 'Агеева', 'Акимчин'],\n",
              "      dtype=object)"
            ]
          },
          "metadata": {}
        },
        {
          "output_type": "display_data",
          "data": {
            "text/plain": [
              "count                              500\n",
              "mean     2018-06-30 18:57:35.999999744\n",
              "min                2018-01-01 00:00:00\n",
              "25%                2018-04-07 12:00:00\n",
              "50%                2018-07-02 12:00:00\n",
              "75%                2018-09-29 00:00:00\n",
              "max                2018-12-31 00:00:00\n",
              "Name: reg_date, dtype: object"
            ]
          },
          "metadata": {}
        },
        {
          "output_type": "display_data",
          "data": {
            "text/plain": [
              "array(['ultra', 'smart'], dtype=object)"
            ]
          },
          "metadata": {}
        }
      ],
      "source": [
        "# проверим данные таблицы users на аномалии\n",
        "display(users['user_id'].describe())\n",
        "display(users['age'].describe())\n",
        "display(users['churn_date'].describe(datetime_is_numeric=True))\n",
        "display(users['city'].unique())\n",
        "display(users['first_name'].unique())\n",
        "display(users['last_name'].unique())\n",
        "display(users['reg_date'].describe(datetime_is_numeric=True))\n",
        "display(users['tariff_name'].unique())\n",
        "\n",
        "# аномалий нет\n"
      ]
    },
    {
      "cell_type": "code",
      "execution_count": 150,
      "metadata": {
        "colab": {
          "base_uri": "https://localhost:8080/",
          "height": 106
        },
        "id": "TVBEgLymUpp7",
        "outputId": "a39dd462-2806-46d7-f439-194a16b822d0"
      },
      "outputs": [
        {
          "output_type": "display_data",
          "data": {
            "text/plain": [
              "0"
            ]
          },
          "metadata": {}
        },
        {
          "output_type": "display_data",
          "data": {
            "text/plain": [
              "0"
            ]
          },
          "metadata": {}
        },
        {
          "output_type": "display_data",
          "data": {
            "text/plain": [
              "0"
            ]
          },
          "metadata": {}
        },
        {
          "output_type": "display_data",
          "data": {
            "text/plain": [
              "0"
            ]
          },
          "metadata": {}
        },
        {
          "output_type": "execute_result",
          "data": {
            "text/plain": [
              "0"
            ]
          },
          "metadata": {},
          "execution_count": 150
        }
      ],
      "source": [
        "# проверим данные на наличие дубликатов\n",
        "display(calls.duplicated().sum())\n",
        "display(messages.duplicated().sum())\n",
        "display(internet.duplicated().sum())\n",
        "display(tariffs.duplicated().sum())\n",
        "users.duplicated().sum()"
      ]
    },
    {
      "cell_type": "markdown",
      "metadata": {
        "id": "-NL35xtpUpp7"
      },
      "source": [
        "### Вывод\n",
        "\n",
        "Предобработка показала, что в данных есть пропуски и аномалии. Также потребовалась замена типов данных на datetime для столбцов `churn_date`, `session_date`, `message_date`, `reg_date` и `call_date`.\n",
        "\n",
        "Основные выводы:\n",
        "* в столбце `churn_date` таблицы users гораздо больше пропущенных значений (92%), чем указанных. Однако, согласно комментариям к данным, если значение пропущено, то тариф ещё действовал на момент выгрузки данных. Поэтому мы оставили пропуски нетронутыми;\n",
        "* удалили столбец `Unnamed: 0` таблицы internet, т.к. он полностью дублирует столбец с индексами;\n",
        "* в 13% данных в колонке `mb_used` таблицы internet указаны нули. После проверки зависимости нулевых показателей от дня месяца, месяца года или тарифа было обнаружено, что количество таких сессий нарастало к концу года, а распределение по дням месяца практически равномерное. А значит дело не в пакете интернета, который обычно заканчивается к концу месяца. От тарифа этот факт также не зависит, очевидна лишь тенденция к увеличению таких сессий к концу года. Вероятнее всего, проблема на стороне провайдера - сбой в предоставлении услуги.\n",
        "\n"
      ]
    },
    {
      "cell_type": "markdown",
      "metadata": {
        "id": "xM8FHZZbUpp8"
      },
      "source": [
        "## 3. Расчёты и добавление результатов в таблицу\n",
        "<a name=\"calculation\"></a>"
      ]
    },
    {
      "cell_type": "markdown",
      "metadata": {
        "id": "BgyGSjryUpp8"
      },
      "source": [
        "### Задача\n",
        "Посчитаем для каждого пользователя:\n",
        "* количество сделанных звонков и израсходованных минут разговора по месяцам;\n",
        "* количество отправленных сообщений по месяцам;\n",
        "* объем израсходованного интернет-трафика по месяцам;\n",
        "* помесячную выручку с каждого пользователя (вычтем бесплатный лимит из суммарного количества звонков, сообщений и интернет-трафика; остаток умножим на значение из тарифного плана; прибавим абонентскую плату, соответствующую тарифному плану)."
      ]
    },
    {
      "cell_type": "code",
      "execution_count": 151,
      "metadata": {
        "colab": {
          "base_uri": "https://localhost:8080/",
          "height": 424
        },
        "id": "VwGZPEUzUpp8",
        "outputId": "fe96008c-d9b3-47c7-84f7-40de08151bc9"
      },
      "outputs": [
        {
          "output_type": "execute_result",
          "data": {
            "text/plain": [
              "      user_id  month  calls_count  calls_sum\n",
              "0        1000      5           22      159.0\n",
              "1        1000      6           43      172.0\n",
              "2        1000      7           47      340.0\n",
              "3        1000      8           52      408.0\n",
              "4        1000      9           58      466.0\n",
              "...       ...    ...          ...        ...\n",
              "3169     1498     10           41      247.0\n",
              "3170     1499      9            9       70.0\n",
              "3171     1499     10           68      449.0\n",
              "3172     1499     11           74      612.0\n",
              "3173     1499     12           69      492.0\n",
              "\n",
              "[3174 rows x 4 columns]"
            ],
            "text/html": [
              "\n",
              "  <div id=\"df-7acd16e8-cf7a-4b05-ab58-b117ebaf6178\">\n",
              "    <div class=\"colab-df-container\">\n",
              "      <div>\n",
              "<style scoped>\n",
              "    .dataframe tbody tr th:only-of-type {\n",
              "        vertical-align: middle;\n",
              "    }\n",
              "\n",
              "    .dataframe tbody tr th {\n",
              "        vertical-align: top;\n",
              "    }\n",
              "\n",
              "    .dataframe thead th {\n",
              "        text-align: right;\n",
              "    }\n",
              "</style>\n",
              "<table border=\"1\" class=\"dataframe\">\n",
              "  <thead>\n",
              "    <tr style=\"text-align: right;\">\n",
              "      <th></th>\n",
              "      <th>user_id</th>\n",
              "      <th>month</th>\n",
              "      <th>calls_count</th>\n",
              "      <th>calls_sum</th>\n",
              "    </tr>\n",
              "  </thead>\n",
              "  <tbody>\n",
              "    <tr>\n",
              "      <th>0</th>\n",
              "      <td>1000</td>\n",
              "      <td>5</td>\n",
              "      <td>22</td>\n",
              "      <td>159.0</td>\n",
              "    </tr>\n",
              "    <tr>\n",
              "      <th>1</th>\n",
              "      <td>1000</td>\n",
              "      <td>6</td>\n",
              "      <td>43</td>\n",
              "      <td>172.0</td>\n",
              "    </tr>\n",
              "    <tr>\n",
              "      <th>2</th>\n",
              "      <td>1000</td>\n",
              "      <td>7</td>\n",
              "      <td>47</td>\n",
              "      <td>340.0</td>\n",
              "    </tr>\n",
              "    <tr>\n",
              "      <th>3</th>\n",
              "      <td>1000</td>\n",
              "      <td>8</td>\n",
              "      <td>52</td>\n",
              "      <td>408.0</td>\n",
              "    </tr>\n",
              "    <tr>\n",
              "      <th>4</th>\n",
              "      <td>1000</td>\n",
              "      <td>9</td>\n",
              "      <td>58</td>\n",
              "      <td>466.0</td>\n",
              "    </tr>\n",
              "    <tr>\n",
              "      <th>...</th>\n",
              "      <td>...</td>\n",
              "      <td>...</td>\n",
              "      <td>...</td>\n",
              "      <td>...</td>\n",
              "    </tr>\n",
              "    <tr>\n",
              "      <th>3169</th>\n",
              "      <td>1498</td>\n",
              "      <td>10</td>\n",
              "      <td>41</td>\n",
              "      <td>247.0</td>\n",
              "    </tr>\n",
              "    <tr>\n",
              "      <th>3170</th>\n",
              "      <td>1499</td>\n",
              "      <td>9</td>\n",
              "      <td>9</td>\n",
              "      <td>70.0</td>\n",
              "    </tr>\n",
              "    <tr>\n",
              "      <th>3171</th>\n",
              "      <td>1499</td>\n",
              "      <td>10</td>\n",
              "      <td>68</td>\n",
              "      <td>449.0</td>\n",
              "    </tr>\n",
              "    <tr>\n",
              "      <th>3172</th>\n",
              "      <td>1499</td>\n",
              "      <td>11</td>\n",
              "      <td>74</td>\n",
              "      <td>612.0</td>\n",
              "    </tr>\n",
              "    <tr>\n",
              "      <th>3173</th>\n",
              "      <td>1499</td>\n",
              "      <td>12</td>\n",
              "      <td>69</td>\n",
              "      <td>492.0</td>\n",
              "    </tr>\n",
              "  </tbody>\n",
              "</table>\n",
              "<p>3174 rows × 4 columns</p>\n",
              "</div>\n",
              "      <button class=\"colab-df-convert\" onclick=\"convertToInteractive('df-7acd16e8-cf7a-4b05-ab58-b117ebaf6178')\"\n",
              "              title=\"Convert this dataframe to an interactive table.\"\n",
              "              style=\"display:none;\">\n",
              "        \n",
              "  <svg xmlns=\"http://www.w3.org/2000/svg\" height=\"24px\"viewBox=\"0 0 24 24\"\n",
              "       width=\"24px\">\n",
              "    <path d=\"M0 0h24v24H0V0z\" fill=\"none\"/>\n",
              "    <path d=\"M18.56 5.44l.94 2.06.94-2.06 2.06-.94-2.06-.94-.94-2.06-.94 2.06-2.06.94zm-11 1L8.5 8.5l.94-2.06 2.06-.94-2.06-.94L8.5 2.5l-.94 2.06-2.06.94zm10 10l.94 2.06.94-2.06 2.06-.94-2.06-.94-.94-2.06-.94 2.06-2.06.94z\"/><path d=\"M17.41 7.96l-1.37-1.37c-.4-.4-.92-.59-1.43-.59-.52 0-1.04.2-1.43.59L10.3 9.45l-7.72 7.72c-.78.78-.78 2.05 0 2.83L4 21.41c.39.39.9.59 1.41.59.51 0 1.02-.2 1.41-.59l7.78-7.78 2.81-2.81c.8-.78.8-2.07 0-2.86zM5.41 20L4 18.59l7.72-7.72 1.47 1.35L5.41 20z\"/>\n",
              "  </svg>\n",
              "      </button>\n",
              "      \n",
              "  <style>\n",
              "    .colab-df-container {\n",
              "      display:flex;\n",
              "      flex-wrap:wrap;\n",
              "      gap: 12px;\n",
              "    }\n",
              "\n",
              "    .colab-df-convert {\n",
              "      background-color: #E8F0FE;\n",
              "      border: none;\n",
              "      border-radius: 50%;\n",
              "      cursor: pointer;\n",
              "      display: none;\n",
              "      fill: #1967D2;\n",
              "      height: 32px;\n",
              "      padding: 0 0 0 0;\n",
              "      width: 32px;\n",
              "    }\n",
              "\n",
              "    .colab-df-convert:hover {\n",
              "      background-color: #E2EBFA;\n",
              "      box-shadow: 0px 1px 2px rgba(60, 64, 67, 0.3), 0px 1px 3px 1px rgba(60, 64, 67, 0.15);\n",
              "      fill: #174EA6;\n",
              "    }\n",
              "\n",
              "    [theme=dark] .colab-df-convert {\n",
              "      background-color: #3B4455;\n",
              "      fill: #D2E3FC;\n",
              "    }\n",
              "\n",
              "    [theme=dark] .colab-df-convert:hover {\n",
              "      background-color: #434B5C;\n",
              "      box-shadow: 0px 1px 3px 1px rgba(0, 0, 0, 0.15);\n",
              "      filter: drop-shadow(0px 1px 2px rgba(0, 0, 0, 0.3));\n",
              "      fill: #FFFFFF;\n",
              "    }\n",
              "  </style>\n",
              "\n",
              "      <script>\n",
              "        const buttonEl =\n",
              "          document.querySelector('#df-7acd16e8-cf7a-4b05-ab58-b117ebaf6178 button.colab-df-convert');\n",
              "        buttonEl.style.display =\n",
              "          google.colab.kernel.accessAllowed ? 'block' : 'none';\n",
              "\n",
              "        async function convertToInteractive(key) {\n",
              "          const element = document.querySelector('#df-7acd16e8-cf7a-4b05-ab58-b117ebaf6178');\n",
              "          const dataTable =\n",
              "            await google.colab.kernel.invokeFunction('convertToInteractive',\n",
              "                                                     [key], {});\n",
              "          if (!dataTable) return;\n",
              "\n",
              "          const docLinkHtml = 'Like what you see? Visit the ' +\n",
              "            '<a target=\"_blank\" href=https://colab.research.google.com/notebooks/data_table.ipynb>data table notebook</a>'\n",
              "            + ' to learn more about interactive tables.';\n",
              "          element.innerHTML = '';\n",
              "          dataTable['output_type'] = 'display_data';\n",
              "          await google.colab.output.renderOutput(dataTable, element);\n",
              "          const docLink = document.createElement('div');\n",
              "          docLink.innerHTML = docLinkHtml;\n",
              "          element.appendChild(docLink);\n",
              "        }\n",
              "      </script>\n",
              "    </div>\n",
              "  </div>\n",
              "  "
            ]
          },
          "metadata": {},
          "execution_count": 151
        }
      ],
      "source": [
        "calls['month'] = pd.DatetimeIndex(calls['call_date']).month # добавим стобец month\n",
        "\n",
        "calls['duration'] = np.ceil(calls['duration']) # округлим продолжительность звонков до минуты в сторону увеличения\n",
        "\n",
        "# Посчитаем для каждого пользователя количество сделанных звонков и израсходованных минут разговора по месяцам\n",
        "calls_month = calls.pivot_table(index=['user_id', 'month'], values='duration', aggfunc=['count', 'sum']).reset_index()\n",
        "calls_month.columns = ['user_id', 'month', 'calls_count', 'calls_sum']\n",
        "calls_month # проверим результат\n",
        "\n",
        "\n"
      ]
    },
    {
      "cell_type": "code",
      "execution_count": 152,
      "metadata": {
        "colab": {
          "base_uri": "https://localhost:8080/",
          "height": 424
        },
        "id": "5rTQ-NcSUpp8",
        "outputId": "36ac3b05-6d35-4bc4-e7a4-cd5c0327be31"
      },
      "outputs": [
        {
          "output_type": "execute_result",
          "data": {
            "text/plain": [
              "      user_id  month  messages_count\n",
              "0        1000      5              22\n",
              "1        1000      6              60\n",
              "2        1000      7              75\n",
              "3        1000      8              81\n",
              "4        1000      9              57\n",
              "...       ...    ...             ...\n",
              "2712     1498     10              42\n",
              "2713     1499      9              11\n",
              "2714     1499     10              48\n",
              "2715     1499     11              59\n",
              "2716     1499     12              66\n",
              "\n",
              "[2717 rows x 3 columns]"
            ],
            "text/html": [
              "\n",
              "  <div id=\"df-b7a2af5c-16df-4cae-a08c-f6ef5943366d\">\n",
              "    <div class=\"colab-df-container\">\n",
              "      <div>\n",
              "<style scoped>\n",
              "    .dataframe tbody tr th:only-of-type {\n",
              "        vertical-align: middle;\n",
              "    }\n",
              "\n",
              "    .dataframe tbody tr th {\n",
              "        vertical-align: top;\n",
              "    }\n",
              "\n",
              "    .dataframe thead th {\n",
              "        text-align: right;\n",
              "    }\n",
              "</style>\n",
              "<table border=\"1\" class=\"dataframe\">\n",
              "  <thead>\n",
              "    <tr style=\"text-align: right;\">\n",
              "      <th></th>\n",
              "      <th>user_id</th>\n",
              "      <th>month</th>\n",
              "      <th>messages_count</th>\n",
              "    </tr>\n",
              "  </thead>\n",
              "  <tbody>\n",
              "    <tr>\n",
              "      <th>0</th>\n",
              "      <td>1000</td>\n",
              "      <td>5</td>\n",
              "      <td>22</td>\n",
              "    </tr>\n",
              "    <tr>\n",
              "      <th>1</th>\n",
              "      <td>1000</td>\n",
              "      <td>6</td>\n",
              "      <td>60</td>\n",
              "    </tr>\n",
              "    <tr>\n",
              "      <th>2</th>\n",
              "      <td>1000</td>\n",
              "      <td>7</td>\n",
              "      <td>75</td>\n",
              "    </tr>\n",
              "    <tr>\n",
              "      <th>3</th>\n",
              "      <td>1000</td>\n",
              "      <td>8</td>\n",
              "      <td>81</td>\n",
              "    </tr>\n",
              "    <tr>\n",
              "      <th>4</th>\n",
              "      <td>1000</td>\n",
              "      <td>9</td>\n",
              "      <td>57</td>\n",
              "    </tr>\n",
              "    <tr>\n",
              "      <th>...</th>\n",
              "      <td>...</td>\n",
              "      <td>...</td>\n",
              "      <td>...</td>\n",
              "    </tr>\n",
              "    <tr>\n",
              "      <th>2712</th>\n",
              "      <td>1498</td>\n",
              "      <td>10</td>\n",
              "      <td>42</td>\n",
              "    </tr>\n",
              "    <tr>\n",
              "      <th>2713</th>\n",
              "      <td>1499</td>\n",
              "      <td>9</td>\n",
              "      <td>11</td>\n",
              "    </tr>\n",
              "    <tr>\n",
              "      <th>2714</th>\n",
              "      <td>1499</td>\n",
              "      <td>10</td>\n",
              "      <td>48</td>\n",
              "    </tr>\n",
              "    <tr>\n",
              "      <th>2715</th>\n",
              "      <td>1499</td>\n",
              "      <td>11</td>\n",
              "      <td>59</td>\n",
              "    </tr>\n",
              "    <tr>\n",
              "      <th>2716</th>\n",
              "      <td>1499</td>\n",
              "      <td>12</td>\n",
              "      <td>66</td>\n",
              "    </tr>\n",
              "  </tbody>\n",
              "</table>\n",
              "<p>2717 rows × 3 columns</p>\n",
              "</div>\n",
              "      <button class=\"colab-df-convert\" onclick=\"convertToInteractive('df-b7a2af5c-16df-4cae-a08c-f6ef5943366d')\"\n",
              "              title=\"Convert this dataframe to an interactive table.\"\n",
              "              style=\"display:none;\">\n",
              "        \n",
              "  <svg xmlns=\"http://www.w3.org/2000/svg\" height=\"24px\"viewBox=\"0 0 24 24\"\n",
              "       width=\"24px\">\n",
              "    <path d=\"M0 0h24v24H0V0z\" fill=\"none\"/>\n",
              "    <path d=\"M18.56 5.44l.94 2.06.94-2.06 2.06-.94-2.06-.94-.94-2.06-.94 2.06-2.06.94zm-11 1L8.5 8.5l.94-2.06 2.06-.94-2.06-.94L8.5 2.5l-.94 2.06-2.06.94zm10 10l.94 2.06.94-2.06 2.06-.94-2.06-.94-.94-2.06-.94 2.06-2.06.94z\"/><path d=\"M17.41 7.96l-1.37-1.37c-.4-.4-.92-.59-1.43-.59-.52 0-1.04.2-1.43.59L10.3 9.45l-7.72 7.72c-.78.78-.78 2.05 0 2.83L4 21.41c.39.39.9.59 1.41.59.51 0 1.02-.2 1.41-.59l7.78-7.78 2.81-2.81c.8-.78.8-2.07 0-2.86zM5.41 20L4 18.59l7.72-7.72 1.47 1.35L5.41 20z\"/>\n",
              "  </svg>\n",
              "      </button>\n",
              "      \n",
              "  <style>\n",
              "    .colab-df-container {\n",
              "      display:flex;\n",
              "      flex-wrap:wrap;\n",
              "      gap: 12px;\n",
              "    }\n",
              "\n",
              "    .colab-df-convert {\n",
              "      background-color: #E8F0FE;\n",
              "      border: none;\n",
              "      border-radius: 50%;\n",
              "      cursor: pointer;\n",
              "      display: none;\n",
              "      fill: #1967D2;\n",
              "      height: 32px;\n",
              "      padding: 0 0 0 0;\n",
              "      width: 32px;\n",
              "    }\n",
              "\n",
              "    .colab-df-convert:hover {\n",
              "      background-color: #E2EBFA;\n",
              "      box-shadow: 0px 1px 2px rgba(60, 64, 67, 0.3), 0px 1px 3px 1px rgba(60, 64, 67, 0.15);\n",
              "      fill: #174EA6;\n",
              "    }\n",
              "\n",
              "    [theme=dark] .colab-df-convert {\n",
              "      background-color: #3B4455;\n",
              "      fill: #D2E3FC;\n",
              "    }\n",
              "\n",
              "    [theme=dark] .colab-df-convert:hover {\n",
              "      background-color: #434B5C;\n",
              "      box-shadow: 0px 1px 3px 1px rgba(0, 0, 0, 0.15);\n",
              "      filter: drop-shadow(0px 1px 2px rgba(0, 0, 0, 0.3));\n",
              "      fill: #FFFFFF;\n",
              "    }\n",
              "  </style>\n",
              "\n",
              "      <script>\n",
              "        const buttonEl =\n",
              "          document.querySelector('#df-b7a2af5c-16df-4cae-a08c-f6ef5943366d button.colab-df-convert');\n",
              "        buttonEl.style.display =\n",
              "          google.colab.kernel.accessAllowed ? 'block' : 'none';\n",
              "\n",
              "        async function convertToInteractive(key) {\n",
              "          const element = document.querySelector('#df-b7a2af5c-16df-4cae-a08c-f6ef5943366d');\n",
              "          const dataTable =\n",
              "            await google.colab.kernel.invokeFunction('convertToInteractive',\n",
              "                                                     [key], {});\n",
              "          if (!dataTable) return;\n",
              "\n",
              "          const docLinkHtml = 'Like what you see? Visit the ' +\n",
              "            '<a target=\"_blank\" href=https://colab.research.google.com/notebooks/data_table.ipynb>data table notebook</a>'\n",
              "            + ' to learn more about interactive tables.';\n",
              "          element.innerHTML = '';\n",
              "          dataTable['output_type'] = 'display_data';\n",
              "          await google.colab.output.renderOutput(dataTable, element);\n",
              "          const docLink = document.createElement('div');\n",
              "          docLink.innerHTML = docLinkHtml;\n",
              "          element.appendChild(docLink);\n",
              "        }\n",
              "      </script>\n",
              "    </div>\n",
              "  </div>\n",
              "  "
            ]
          },
          "metadata": {},
          "execution_count": 152
        }
      ],
      "source": [
        "messages['month'] = pd.DatetimeIndex(messages['message_date']).month # добавим столбец month\n",
        "\n",
        "# Посчитаем для каждого пользователя количество отправленных сообщений по месяцам\n",
        "messages_month = messages.pivot_table(index=['user_id', 'month'], values='message_date', aggfunc='count').reset_index()\n",
        "messages_month.columns = ['user_id', 'month', 'messages_count']\n",
        "messages_month # проверим результат"
      ]
    },
    {
      "cell_type": "code",
      "execution_count": 153,
      "metadata": {
        "colab": {
          "base_uri": "https://localhost:8080/",
          "height": 424
        },
        "id": "KsujxUkIUpp8",
        "outputId": "7268d9d1-6244-480d-fe85-968a65cb4337"
      },
      "outputs": [
        {
          "output_type": "execute_result",
          "data": {
            "text/plain": [
              "      user_id  month  mb_used_sum\n",
              "0        1000      5      2253.49\n",
              "1        1000      6     23233.77\n",
              "2        1000      7     14003.64\n",
              "3        1000      8     14055.93\n",
              "4        1000      9     14568.91\n",
              "...       ...    ...          ...\n",
              "3198     1498     10     20579.36\n",
              "3199     1499      9      1845.75\n",
              "3200     1499     10     17788.51\n",
              "3201     1499     11     17963.31\n",
              "3202     1499     12     13055.58\n",
              "\n",
              "[3203 rows x 3 columns]"
            ],
            "text/html": [
              "\n",
              "  <div id=\"df-ddc506bf-56c4-4230-82b8-dcd488b248d2\">\n",
              "    <div class=\"colab-df-container\">\n",
              "      <div>\n",
              "<style scoped>\n",
              "    .dataframe tbody tr th:only-of-type {\n",
              "        vertical-align: middle;\n",
              "    }\n",
              "\n",
              "    .dataframe tbody tr th {\n",
              "        vertical-align: top;\n",
              "    }\n",
              "\n",
              "    .dataframe thead th {\n",
              "        text-align: right;\n",
              "    }\n",
              "</style>\n",
              "<table border=\"1\" class=\"dataframe\">\n",
              "  <thead>\n",
              "    <tr style=\"text-align: right;\">\n",
              "      <th></th>\n",
              "      <th>user_id</th>\n",
              "      <th>month</th>\n",
              "      <th>mb_used_sum</th>\n",
              "    </tr>\n",
              "  </thead>\n",
              "  <tbody>\n",
              "    <tr>\n",
              "      <th>0</th>\n",
              "      <td>1000</td>\n",
              "      <td>5</td>\n",
              "      <td>2253.49</td>\n",
              "    </tr>\n",
              "    <tr>\n",
              "      <th>1</th>\n",
              "      <td>1000</td>\n",
              "      <td>6</td>\n",
              "      <td>23233.77</td>\n",
              "    </tr>\n",
              "    <tr>\n",
              "      <th>2</th>\n",
              "      <td>1000</td>\n",
              "      <td>7</td>\n",
              "      <td>14003.64</td>\n",
              "    </tr>\n",
              "    <tr>\n",
              "      <th>3</th>\n",
              "      <td>1000</td>\n",
              "      <td>8</td>\n",
              "      <td>14055.93</td>\n",
              "    </tr>\n",
              "    <tr>\n",
              "      <th>4</th>\n",
              "      <td>1000</td>\n",
              "      <td>9</td>\n",
              "      <td>14568.91</td>\n",
              "    </tr>\n",
              "    <tr>\n",
              "      <th>...</th>\n",
              "      <td>...</td>\n",
              "      <td>...</td>\n",
              "      <td>...</td>\n",
              "    </tr>\n",
              "    <tr>\n",
              "      <th>3198</th>\n",
              "      <td>1498</td>\n",
              "      <td>10</td>\n",
              "      <td>20579.36</td>\n",
              "    </tr>\n",
              "    <tr>\n",
              "      <th>3199</th>\n",
              "      <td>1499</td>\n",
              "      <td>9</td>\n",
              "      <td>1845.75</td>\n",
              "    </tr>\n",
              "    <tr>\n",
              "      <th>3200</th>\n",
              "      <td>1499</td>\n",
              "      <td>10</td>\n",
              "      <td>17788.51</td>\n",
              "    </tr>\n",
              "    <tr>\n",
              "      <th>3201</th>\n",
              "      <td>1499</td>\n",
              "      <td>11</td>\n",
              "      <td>17963.31</td>\n",
              "    </tr>\n",
              "    <tr>\n",
              "      <th>3202</th>\n",
              "      <td>1499</td>\n",
              "      <td>12</td>\n",
              "      <td>13055.58</td>\n",
              "    </tr>\n",
              "  </tbody>\n",
              "</table>\n",
              "<p>3203 rows × 3 columns</p>\n",
              "</div>\n",
              "      <button class=\"colab-df-convert\" onclick=\"convertToInteractive('df-ddc506bf-56c4-4230-82b8-dcd488b248d2')\"\n",
              "              title=\"Convert this dataframe to an interactive table.\"\n",
              "              style=\"display:none;\">\n",
              "        \n",
              "  <svg xmlns=\"http://www.w3.org/2000/svg\" height=\"24px\"viewBox=\"0 0 24 24\"\n",
              "       width=\"24px\">\n",
              "    <path d=\"M0 0h24v24H0V0z\" fill=\"none\"/>\n",
              "    <path d=\"M18.56 5.44l.94 2.06.94-2.06 2.06-.94-2.06-.94-.94-2.06-.94 2.06-2.06.94zm-11 1L8.5 8.5l.94-2.06 2.06-.94-2.06-.94L8.5 2.5l-.94 2.06-2.06.94zm10 10l.94 2.06.94-2.06 2.06-.94-2.06-.94-.94-2.06-.94 2.06-2.06.94z\"/><path d=\"M17.41 7.96l-1.37-1.37c-.4-.4-.92-.59-1.43-.59-.52 0-1.04.2-1.43.59L10.3 9.45l-7.72 7.72c-.78.78-.78 2.05 0 2.83L4 21.41c.39.39.9.59 1.41.59.51 0 1.02-.2 1.41-.59l7.78-7.78 2.81-2.81c.8-.78.8-2.07 0-2.86zM5.41 20L4 18.59l7.72-7.72 1.47 1.35L5.41 20z\"/>\n",
              "  </svg>\n",
              "      </button>\n",
              "      \n",
              "  <style>\n",
              "    .colab-df-container {\n",
              "      display:flex;\n",
              "      flex-wrap:wrap;\n",
              "      gap: 12px;\n",
              "    }\n",
              "\n",
              "    .colab-df-convert {\n",
              "      background-color: #E8F0FE;\n",
              "      border: none;\n",
              "      border-radius: 50%;\n",
              "      cursor: pointer;\n",
              "      display: none;\n",
              "      fill: #1967D2;\n",
              "      height: 32px;\n",
              "      padding: 0 0 0 0;\n",
              "      width: 32px;\n",
              "    }\n",
              "\n",
              "    .colab-df-convert:hover {\n",
              "      background-color: #E2EBFA;\n",
              "      box-shadow: 0px 1px 2px rgba(60, 64, 67, 0.3), 0px 1px 3px 1px rgba(60, 64, 67, 0.15);\n",
              "      fill: #174EA6;\n",
              "    }\n",
              "\n",
              "    [theme=dark] .colab-df-convert {\n",
              "      background-color: #3B4455;\n",
              "      fill: #D2E3FC;\n",
              "    }\n",
              "\n",
              "    [theme=dark] .colab-df-convert:hover {\n",
              "      background-color: #434B5C;\n",
              "      box-shadow: 0px 1px 3px 1px rgba(0, 0, 0, 0.15);\n",
              "      filter: drop-shadow(0px 1px 2px rgba(0, 0, 0, 0.3));\n",
              "      fill: #FFFFFF;\n",
              "    }\n",
              "  </style>\n",
              "\n",
              "      <script>\n",
              "        const buttonEl =\n",
              "          document.querySelector('#df-ddc506bf-56c4-4230-82b8-dcd488b248d2 button.colab-df-convert');\n",
              "        buttonEl.style.display =\n",
              "          google.colab.kernel.accessAllowed ? 'block' : 'none';\n",
              "\n",
              "        async function convertToInteractive(key) {\n",
              "          const element = document.querySelector('#df-ddc506bf-56c4-4230-82b8-dcd488b248d2');\n",
              "          const dataTable =\n",
              "            await google.colab.kernel.invokeFunction('convertToInteractive',\n",
              "                                                     [key], {});\n",
              "          if (!dataTable) return;\n",
              "\n",
              "          const docLinkHtml = 'Like what you see? Visit the ' +\n",
              "            '<a target=\"_blank\" href=https://colab.research.google.com/notebooks/data_table.ipynb>data table notebook</a>'\n",
              "            + ' to learn more about interactive tables.';\n",
              "          element.innerHTML = '';\n",
              "          dataTable['output_type'] = 'display_data';\n",
              "          await google.colab.output.renderOutput(dataTable, element);\n",
              "          const docLink = document.createElement('div');\n",
              "          docLink.innerHTML = docLinkHtml;\n",
              "          element.appendChild(docLink);\n",
              "        }\n",
              "      </script>\n",
              "    </div>\n",
              "  </div>\n",
              "  "
            ]
          },
          "metadata": {},
          "execution_count": 153
        }
      ],
      "source": [
        "# Посчитаем для каждого пользователя объем израсходованного интернет-трафика по месяцам\n",
        "internet_month = internet.pivot_table(index=['user_id', 'month'], values='mb_used', aggfunc='sum').reset_index()\n",
        "internet_month.columns = ['user_id', 'month', 'mb_used_sum']\n",
        "\n",
        "internet_month # проверим результат"
      ]
    },
    {
      "cell_type": "code",
      "execution_count": 154,
      "metadata": {
        "id": "3nZJNmL5Upp8"
      },
      "outputs": [],
      "source": [
        "# объединим таблицы\n",
        "joint = calls_month.merge(messages_month, on=['user_id', 'month'], how='outer')\n",
        "joint_1 = joint.merge(internet_month, on=['user_id', 'month'], how='outer')\n",
        "joint_2 = joint_1.merge(users, on='user_id', how='left')\n",
        "joint_final = joint_2.merge(tariffs, on='tariff_name', how='left')\n",
        "joint_final = joint_final.drop(['age', 'churn_date', 'first_name', 'last_name', 'reg_date'], axis=1) #удалим лишние стобцыjoint_final.head()"
      ]
    },
    {
      "cell_type": "code",
      "execution_count": 155,
      "metadata": {
        "colab": {
          "base_uri": "https://localhost:8080/",
          "height": 589
        },
        "id": "kp6RAXueUpp8",
        "outputId": "d9b5808e-821a-4296-9957-4599669b1008"
      },
      "outputs": [
        {
          "output_type": "display_data",
          "data": {
            "text/plain": [
              "user_id                    0\n",
              "month                      0\n",
              "calls_count               40\n",
              "calls_sum                 40\n",
              "messages_count           497\n",
              "mb_used_sum               11\n",
              "city                       0\n",
              "tariff_name                0\n",
              "messages_included          0\n",
              "mb_per_month_included      0\n",
              "minutes_included           0\n",
              "rub_monthly_fee            0\n",
              "rub_per_gb                 0\n",
              "rub_per_message            0\n",
              "rub_per_minute             0\n",
              "dtype: int64"
            ]
          },
          "metadata": {}
        },
        {
          "output_type": "execute_result",
          "data": {
            "text/plain": [
              "user_id                  0\n",
              "month                    0\n",
              "calls_count              0\n",
              "calls_sum                0\n",
              "messages_count           0\n",
              "mb_used_sum              0\n",
              "city                     0\n",
              "tariff_name              0\n",
              "messages_included        0\n",
              "mb_per_month_included    0\n",
              "minutes_included         0\n",
              "rub_monthly_fee          0\n",
              "rub_per_gb               0\n",
              "rub_per_message          0\n",
              "rub_per_minute           0\n",
              "dtype: int64"
            ]
          },
          "metadata": {},
          "execution_count": 155
        }
      ],
      "source": [
        "# после слияния таблиц появились пропуски для тех пользователей, которые не звонили / писали смс / пользовались интернетом.\n",
        "display(joint_final.isna().sum())\n",
        "\n",
        "# Заменим эти пропуски на нули\n",
        "joint_final = joint_final.fillna(0)\n",
        "joint_final.isna().sum()"
      ]
    },
    {
      "cell_type": "markdown",
      "source": [
        "Посчитаем помесячную выручку с каждого пользователя (вычтем бесплатный лимит из суммарного количества звонков, сообщений и интернет-трафика; остаток умножим на значение из тарифного плана; прибавим абонентскую плату, соответствующую тарифному плану)."
      ],
      "metadata": {
        "id": "T43SeONJZiZX"
      }
    },
    {
      "cell_type": "code",
      "execution_count": 156,
      "metadata": {
        "colab": {
          "base_uri": "https://localhost:8080/",
          "height": 270
        },
        "id": "c6EZ4VxdUpp9",
        "outputId": "06ae766c-7788-47eb-8167-178ebd9baf3a"
      },
      "outputs": [
        {
          "output_type": "execute_result",
          "data": {
            "text/plain": [
              "   user_id  month  calls_count  calls_sum  messages_count  mb_used_sum  \\\n",
              "0     1000      5         22.0      159.0            22.0      2253.49   \n",
              "1     1000      6         43.0      172.0            60.0     23233.77   \n",
              "2     1000      7         47.0      340.0            75.0     14003.64   \n",
              "3     1000      8         52.0      408.0            81.0     14055.93   \n",
              "4     1000      9         58.0      466.0            57.0     14568.91   \n",
              "\n",
              "        city tariff_name  messages_included  mb_per_month_included  \\\n",
              "0  Краснодар       ultra               1000                  30720   \n",
              "1  Краснодар       ultra               1000                  30720   \n",
              "2  Краснодар       ultra               1000                  30720   \n",
              "3  Краснодар       ultra               1000                  30720   \n",
              "4  Краснодар       ultra               1000                  30720   \n",
              "\n",
              "   minutes_included  rub_monthly_fee  rub_per_gb  rub_per_message  \\\n",
              "0              3000             1950         150                1   \n",
              "1              3000             1950         150                1   \n",
              "2              3000             1950         150                1   \n",
              "3              3000             1950         150                1   \n",
              "4              3000             1950         150                1   \n",
              "\n",
              "   rub_per_minute  revenue  \n",
              "0               1   1950.0  \n",
              "1               1   1950.0  \n",
              "2               1   1950.0  \n",
              "3               1   1950.0  \n",
              "4               1   1950.0  "
            ],
            "text/html": [
              "\n",
              "  <div id=\"df-edab167e-f30b-4048-994c-3e3902a20186\">\n",
              "    <div class=\"colab-df-container\">\n",
              "      <div>\n",
              "<style scoped>\n",
              "    .dataframe tbody tr th:only-of-type {\n",
              "        vertical-align: middle;\n",
              "    }\n",
              "\n",
              "    .dataframe tbody tr th {\n",
              "        vertical-align: top;\n",
              "    }\n",
              "\n",
              "    .dataframe thead th {\n",
              "        text-align: right;\n",
              "    }\n",
              "</style>\n",
              "<table border=\"1\" class=\"dataframe\">\n",
              "  <thead>\n",
              "    <tr style=\"text-align: right;\">\n",
              "      <th></th>\n",
              "      <th>user_id</th>\n",
              "      <th>month</th>\n",
              "      <th>calls_count</th>\n",
              "      <th>calls_sum</th>\n",
              "      <th>messages_count</th>\n",
              "      <th>mb_used_sum</th>\n",
              "      <th>city</th>\n",
              "      <th>tariff_name</th>\n",
              "      <th>messages_included</th>\n",
              "      <th>mb_per_month_included</th>\n",
              "      <th>minutes_included</th>\n",
              "      <th>rub_monthly_fee</th>\n",
              "      <th>rub_per_gb</th>\n",
              "      <th>rub_per_message</th>\n",
              "      <th>rub_per_minute</th>\n",
              "      <th>revenue</th>\n",
              "    </tr>\n",
              "  </thead>\n",
              "  <tbody>\n",
              "    <tr>\n",
              "      <th>0</th>\n",
              "      <td>1000</td>\n",
              "      <td>5</td>\n",
              "      <td>22.0</td>\n",
              "      <td>159.0</td>\n",
              "      <td>22.0</td>\n",
              "      <td>2253.49</td>\n",
              "      <td>Краснодар</td>\n",
              "      <td>ultra</td>\n",
              "      <td>1000</td>\n",
              "      <td>30720</td>\n",
              "      <td>3000</td>\n",
              "      <td>1950</td>\n",
              "      <td>150</td>\n",
              "      <td>1</td>\n",
              "      <td>1</td>\n",
              "      <td>1950.0</td>\n",
              "    </tr>\n",
              "    <tr>\n",
              "      <th>1</th>\n",
              "      <td>1000</td>\n",
              "      <td>6</td>\n",
              "      <td>43.0</td>\n",
              "      <td>172.0</td>\n",
              "      <td>60.0</td>\n",
              "      <td>23233.77</td>\n",
              "      <td>Краснодар</td>\n",
              "      <td>ultra</td>\n",
              "      <td>1000</td>\n",
              "      <td>30720</td>\n",
              "      <td>3000</td>\n",
              "      <td>1950</td>\n",
              "      <td>150</td>\n",
              "      <td>1</td>\n",
              "      <td>1</td>\n",
              "      <td>1950.0</td>\n",
              "    </tr>\n",
              "    <tr>\n",
              "      <th>2</th>\n",
              "      <td>1000</td>\n",
              "      <td>7</td>\n",
              "      <td>47.0</td>\n",
              "      <td>340.0</td>\n",
              "      <td>75.0</td>\n",
              "      <td>14003.64</td>\n",
              "      <td>Краснодар</td>\n",
              "      <td>ultra</td>\n",
              "      <td>1000</td>\n",
              "      <td>30720</td>\n",
              "      <td>3000</td>\n",
              "      <td>1950</td>\n",
              "      <td>150</td>\n",
              "      <td>1</td>\n",
              "      <td>1</td>\n",
              "      <td>1950.0</td>\n",
              "    </tr>\n",
              "    <tr>\n",
              "      <th>3</th>\n",
              "      <td>1000</td>\n",
              "      <td>8</td>\n",
              "      <td>52.0</td>\n",
              "      <td>408.0</td>\n",
              "      <td>81.0</td>\n",
              "      <td>14055.93</td>\n",
              "      <td>Краснодар</td>\n",
              "      <td>ultra</td>\n",
              "      <td>1000</td>\n",
              "      <td>30720</td>\n",
              "      <td>3000</td>\n",
              "      <td>1950</td>\n",
              "      <td>150</td>\n",
              "      <td>1</td>\n",
              "      <td>1</td>\n",
              "      <td>1950.0</td>\n",
              "    </tr>\n",
              "    <tr>\n",
              "      <th>4</th>\n",
              "      <td>1000</td>\n",
              "      <td>9</td>\n",
              "      <td>58.0</td>\n",
              "      <td>466.0</td>\n",
              "      <td>57.0</td>\n",
              "      <td>14568.91</td>\n",
              "      <td>Краснодар</td>\n",
              "      <td>ultra</td>\n",
              "      <td>1000</td>\n",
              "      <td>30720</td>\n",
              "      <td>3000</td>\n",
              "      <td>1950</td>\n",
              "      <td>150</td>\n",
              "      <td>1</td>\n",
              "      <td>1</td>\n",
              "      <td>1950.0</td>\n",
              "    </tr>\n",
              "  </tbody>\n",
              "</table>\n",
              "</div>\n",
              "      <button class=\"colab-df-convert\" onclick=\"convertToInteractive('df-edab167e-f30b-4048-994c-3e3902a20186')\"\n",
              "              title=\"Convert this dataframe to an interactive table.\"\n",
              "              style=\"display:none;\">\n",
              "        \n",
              "  <svg xmlns=\"http://www.w3.org/2000/svg\" height=\"24px\"viewBox=\"0 0 24 24\"\n",
              "       width=\"24px\">\n",
              "    <path d=\"M0 0h24v24H0V0z\" fill=\"none\"/>\n",
              "    <path d=\"M18.56 5.44l.94 2.06.94-2.06 2.06-.94-2.06-.94-.94-2.06-.94 2.06-2.06.94zm-11 1L8.5 8.5l.94-2.06 2.06-.94-2.06-.94L8.5 2.5l-.94 2.06-2.06.94zm10 10l.94 2.06.94-2.06 2.06-.94-2.06-.94-.94-2.06-.94 2.06-2.06.94z\"/><path d=\"M17.41 7.96l-1.37-1.37c-.4-.4-.92-.59-1.43-.59-.52 0-1.04.2-1.43.59L10.3 9.45l-7.72 7.72c-.78.78-.78 2.05 0 2.83L4 21.41c.39.39.9.59 1.41.59.51 0 1.02-.2 1.41-.59l7.78-7.78 2.81-2.81c.8-.78.8-2.07 0-2.86zM5.41 20L4 18.59l7.72-7.72 1.47 1.35L5.41 20z\"/>\n",
              "  </svg>\n",
              "      </button>\n",
              "      \n",
              "  <style>\n",
              "    .colab-df-container {\n",
              "      display:flex;\n",
              "      flex-wrap:wrap;\n",
              "      gap: 12px;\n",
              "    }\n",
              "\n",
              "    .colab-df-convert {\n",
              "      background-color: #E8F0FE;\n",
              "      border: none;\n",
              "      border-radius: 50%;\n",
              "      cursor: pointer;\n",
              "      display: none;\n",
              "      fill: #1967D2;\n",
              "      height: 32px;\n",
              "      padding: 0 0 0 0;\n",
              "      width: 32px;\n",
              "    }\n",
              "\n",
              "    .colab-df-convert:hover {\n",
              "      background-color: #E2EBFA;\n",
              "      box-shadow: 0px 1px 2px rgba(60, 64, 67, 0.3), 0px 1px 3px 1px rgba(60, 64, 67, 0.15);\n",
              "      fill: #174EA6;\n",
              "    }\n",
              "\n",
              "    [theme=dark] .colab-df-convert {\n",
              "      background-color: #3B4455;\n",
              "      fill: #D2E3FC;\n",
              "    }\n",
              "\n",
              "    [theme=dark] .colab-df-convert:hover {\n",
              "      background-color: #434B5C;\n",
              "      box-shadow: 0px 1px 3px 1px rgba(0, 0, 0, 0.15);\n",
              "      filter: drop-shadow(0px 1px 2px rgba(0, 0, 0, 0.3));\n",
              "      fill: #FFFFFF;\n",
              "    }\n",
              "  </style>\n",
              "\n",
              "      <script>\n",
              "        const buttonEl =\n",
              "          document.querySelector('#df-edab167e-f30b-4048-994c-3e3902a20186 button.colab-df-convert');\n",
              "        buttonEl.style.display =\n",
              "          google.colab.kernel.accessAllowed ? 'block' : 'none';\n",
              "\n",
              "        async function convertToInteractive(key) {\n",
              "          const element = document.querySelector('#df-edab167e-f30b-4048-994c-3e3902a20186');\n",
              "          const dataTable =\n",
              "            await google.colab.kernel.invokeFunction('convertToInteractive',\n",
              "                                                     [key], {});\n",
              "          if (!dataTable) return;\n",
              "\n",
              "          const docLinkHtml = 'Like what you see? Visit the ' +\n",
              "            '<a target=\"_blank\" href=https://colab.research.google.com/notebooks/data_table.ipynb>data table notebook</a>'\n",
              "            + ' to learn more about interactive tables.';\n",
              "          element.innerHTML = '';\n",
              "          dataTable['output_type'] = 'display_data';\n",
              "          await google.colab.output.renderOutput(dataTable, element);\n",
              "          const docLink = document.createElement('div');\n",
              "          docLink.innerHTML = docLinkHtml;\n",
              "          element.appendChild(docLink);\n",
              "        }\n",
              "      </script>\n",
              "    </div>\n",
              "  </div>\n",
              "  "
            ]
          },
          "metadata": {},
          "execution_count": 156
        }
      ],
      "source": [
        "\n",
        "def calc_revenue(row):\n",
        "    internet = np.ceil(row['mb_used_sum'] / 1024)\n",
        "    internet_include = np.ceil(row['mb_per_month_included'] / 1024)\n",
        "    msg = row['messages_count']\n",
        "    msg_include = row['messages_included']\n",
        "    minute = row['calls_sum'] \n",
        "    minute_include = row['minutes_included']\n",
        "    \n",
        "    revenue = row['rub_monthly_fee']\n",
        "    revenue += max(0 , internet - internet_include) * row['rub_per_gb']\n",
        "    revenue += max(0 , msg - msg_include) * row['rub_per_message']\n",
        "    revenue += max(0 , minute - minute_include) * row['rub_per_minute']\n",
        "    \n",
        "    return revenue\n",
        "    \n",
        "joint_final['revenue'] = joint_final.apply(calc_revenue, axis=1)\n",
        "joint_final.head() # проверим результат\n",
        "\n"
      ]
    },
    {
      "cell_type": "code",
      "execution_count": 157,
      "metadata": {
        "colab": {
          "base_uri": "https://localhost:8080/",
          "height": 175
        },
        "id": "BksGgeNBUpp9",
        "outputId": "101a0028-d18d-44ec-9dc1-9b77812e7f57"
      },
      "outputs": [
        {
          "output_type": "execute_result",
          "data": {
            "text/plain": [
              "                   sum         mean\n",
              "               revenue      revenue\n",
              "tariff_name                        \n",
              "smart        2875351.0  1289.973531\n",
              "ultra        2039100.0  2070.152284"
            ],
            "text/html": [
              "\n",
              "  <div id=\"df-58d009e5-7fa3-47ae-b2f4-6e72db6b71fc\">\n",
              "    <div class=\"colab-df-container\">\n",
              "      <div>\n",
              "<style scoped>\n",
              "    .dataframe tbody tr th:only-of-type {\n",
              "        vertical-align: middle;\n",
              "    }\n",
              "\n",
              "    .dataframe tbody tr th {\n",
              "        vertical-align: top;\n",
              "    }\n",
              "\n",
              "    .dataframe thead tr th {\n",
              "        text-align: left;\n",
              "    }\n",
              "\n",
              "    .dataframe thead tr:last-of-type th {\n",
              "        text-align: right;\n",
              "    }\n",
              "</style>\n",
              "<table border=\"1\" class=\"dataframe\">\n",
              "  <thead>\n",
              "    <tr>\n",
              "      <th></th>\n",
              "      <th>sum</th>\n",
              "      <th>mean</th>\n",
              "    </tr>\n",
              "    <tr>\n",
              "      <th></th>\n",
              "      <th>revenue</th>\n",
              "      <th>revenue</th>\n",
              "    </tr>\n",
              "    <tr>\n",
              "      <th>tariff_name</th>\n",
              "      <th></th>\n",
              "      <th></th>\n",
              "    </tr>\n",
              "  </thead>\n",
              "  <tbody>\n",
              "    <tr>\n",
              "      <th>smart</th>\n",
              "      <td>2875351.0</td>\n",
              "      <td>1289.973531</td>\n",
              "    </tr>\n",
              "    <tr>\n",
              "      <th>ultra</th>\n",
              "      <td>2039100.0</td>\n",
              "      <td>2070.152284</td>\n",
              "    </tr>\n",
              "  </tbody>\n",
              "</table>\n",
              "</div>\n",
              "      <button class=\"colab-df-convert\" onclick=\"convertToInteractive('df-58d009e5-7fa3-47ae-b2f4-6e72db6b71fc')\"\n",
              "              title=\"Convert this dataframe to an interactive table.\"\n",
              "              style=\"display:none;\">\n",
              "        \n",
              "  <svg xmlns=\"http://www.w3.org/2000/svg\" height=\"24px\"viewBox=\"0 0 24 24\"\n",
              "       width=\"24px\">\n",
              "    <path d=\"M0 0h24v24H0V0z\" fill=\"none\"/>\n",
              "    <path d=\"M18.56 5.44l.94 2.06.94-2.06 2.06-.94-2.06-.94-.94-2.06-.94 2.06-2.06.94zm-11 1L8.5 8.5l.94-2.06 2.06-.94-2.06-.94L8.5 2.5l-.94 2.06-2.06.94zm10 10l.94 2.06.94-2.06 2.06-.94-2.06-.94-.94-2.06-.94 2.06-2.06.94z\"/><path d=\"M17.41 7.96l-1.37-1.37c-.4-.4-.92-.59-1.43-.59-.52 0-1.04.2-1.43.59L10.3 9.45l-7.72 7.72c-.78.78-.78 2.05 0 2.83L4 21.41c.39.39.9.59 1.41.59.51 0 1.02-.2 1.41-.59l7.78-7.78 2.81-2.81c.8-.78.8-2.07 0-2.86zM5.41 20L4 18.59l7.72-7.72 1.47 1.35L5.41 20z\"/>\n",
              "  </svg>\n",
              "      </button>\n",
              "      \n",
              "  <style>\n",
              "    .colab-df-container {\n",
              "      display:flex;\n",
              "      flex-wrap:wrap;\n",
              "      gap: 12px;\n",
              "    }\n",
              "\n",
              "    .colab-df-convert {\n",
              "      background-color: #E8F0FE;\n",
              "      border: none;\n",
              "      border-radius: 50%;\n",
              "      cursor: pointer;\n",
              "      display: none;\n",
              "      fill: #1967D2;\n",
              "      height: 32px;\n",
              "      padding: 0 0 0 0;\n",
              "      width: 32px;\n",
              "    }\n",
              "\n",
              "    .colab-df-convert:hover {\n",
              "      background-color: #E2EBFA;\n",
              "      box-shadow: 0px 1px 2px rgba(60, 64, 67, 0.3), 0px 1px 3px 1px rgba(60, 64, 67, 0.15);\n",
              "      fill: #174EA6;\n",
              "    }\n",
              "\n",
              "    [theme=dark] .colab-df-convert {\n",
              "      background-color: #3B4455;\n",
              "      fill: #D2E3FC;\n",
              "    }\n",
              "\n",
              "    [theme=dark] .colab-df-convert:hover {\n",
              "      background-color: #434B5C;\n",
              "      box-shadow: 0px 1px 3px 1px rgba(0, 0, 0, 0.15);\n",
              "      filter: drop-shadow(0px 1px 2px rgba(0, 0, 0, 0.3));\n",
              "      fill: #FFFFFF;\n",
              "    }\n",
              "  </style>\n",
              "\n",
              "      <script>\n",
              "        const buttonEl =\n",
              "          document.querySelector('#df-58d009e5-7fa3-47ae-b2f4-6e72db6b71fc button.colab-df-convert');\n",
              "        buttonEl.style.display =\n",
              "          google.colab.kernel.accessAllowed ? 'block' : 'none';\n",
              "\n",
              "        async function convertToInteractive(key) {\n",
              "          const element = document.querySelector('#df-58d009e5-7fa3-47ae-b2f4-6e72db6b71fc');\n",
              "          const dataTable =\n",
              "            await google.colab.kernel.invokeFunction('convertToInteractive',\n",
              "                                                     [key], {});\n",
              "          if (!dataTable) return;\n",
              "\n",
              "          const docLinkHtml = 'Like what you see? Visit the ' +\n",
              "            '<a target=\"_blank\" href=https://colab.research.google.com/notebooks/data_table.ipynb>data table notebook</a>'\n",
              "            + ' to learn more about interactive tables.';\n",
              "          element.innerHTML = '';\n",
              "          dataTable['output_type'] = 'display_data';\n",
              "          await google.colab.output.renderOutput(dataTable, element);\n",
              "          const docLink = document.createElement('div');\n",
              "          docLink.innerHTML = docLinkHtml;\n",
              "          element.appendChild(docLink);\n",
              "        }\n",
              "      </script>\n",
              "    </div>\n",
              "  </div>\n",
              "  "
            ]
          },
          "metadata": {},
          "execution_count": 157
        }
      ],
      "source": [
        "# Посчитаем, какой тариф приносит больше денег компании\n",
        "revenue_tariffs = joint_final.pivot_table(index='tariff_name', values='revenue', aggfunc=['sum', 'mean'])\n",
        "revenue_tariffs"
      ]
    },
    {
      "cell_type": "markdown",
      "metadata": {
        "id": "Po42mCOYUpp9"
      },
      "source": [
        "Из данных выше можно сделать вывод, что несмотря на то, что в среднем каждый пользователь тарифа Ultra приносит компании в 1,6 раза больше денег, общая выручка от пользователей тарифа Smart в 1,4 раз выше."
      ]
    },
    {
      "cell_type": "markdown",
      "metadata": {
        "id": "DAtvqUAZUpp9"
      },
      "source": [
        "## 4. Исследовательский анализ данных\n",
        "<a name=\"analysis\"></a>"
      ]
    },
    {
      "cell_type": "markdown",
      "metadata": {
        "id": "4ApFB_hzUpp-"
      },
      "source": [
        "### Задача\n",
        "Опишите поведение клиентов оператора, исходя из выборки. Сколько минут разговора, сколько сообщений и какой объём интернет-трафика требуется пользователям каждого тарифа в месяц? Посчитайте среднее количество, дисперсию и стандартное отклонение. Постройте гистограммы. Опишите распределения."
      ]
    },
    {
      "cell_type": "code",
      "execution_count": 158,
      "metadata": {
        "colab": {
          "base_uri": "https://localhost:8080/",
          "height": 833
        },
        "id": "8vxcxWAvUpp-",
        "outputId": "6eda6dcd-24d5-4987-f6a8-789edb7a02c9"
      },
      "outputs": [
        {
          "output_type": "execute_result",
          "data": {
            "text/plain": [
              "                   calls_sum  messages_count  gb_used_sum\n",
              "tariff_name month                                        \n",
              "smart       1         6931.0           620.0   282.682031\n",
              "            2        17324.0          1397.0   656.864404\n",
              "            3        30034.0          2453.0  1135.761963\n",
              "            4        41119.0          3443.0  1472.426006\n",
              "            5        54618.0          4762.0  2176.299795\n",
              "            6        64885.0          5478.0  2529.611592\n",
              "            7        82079.0          6784.0  3090.208223\n",
              "            8        99045.0          7905.0  3812.030488\n",
              "            9       111439.0          8746.0  4139.580557\n",
              "            10      125284.0          9927.0  4811.127080\n",
              "            11      137544.0         10768.0  5213.906387\n",
              "            12      161275.0         12130.0  5961.234482\n",
              "ultra       1         3853.0           304.0   115.494268\n",
              "            2         7131.0           527.0   275.998535\n",
              "            3        18117.0          1195.0   633.608750\n",
              "            4        25191.0          1736.0   903.854873\n",
              "            5        34192.0          2536.0  1266.925049\n",
              "            6        40295.0          3505.0  1552.436426\n",
              "            7        49667.0          4536.0  1821.392119\n",
              "            8        54653.0          5183.0  2045.544775\n",
              "            9        62036.0          6013.0  2156.730342\n",
              "            10       68644.0          7187.0  2407.789541\n",
              "            11       72545.0          7476.0  2589.289912\n",
              "            12       82400.0          8425.0  2958.252920"
            ],
            "text/html": [
              "\n",
              "  <div id=\"df-6a8b7d13-6500-444c-8b11-868689229d7c\">\n",
              "    <div class=\"colab-df-container\">\n",
              "      <div>\n",
              "<style scoped>\n",
              "    .dataframe tbody tr th:only-of-type {\n",
              "        vertical-align: middle;\n",
              "    }\n",
              "\n",
              "    .dataframe tbody tr th {\n",
              "        vertical-align: top;\n",
              "    }\n",
              "\n",
              "    .dataframe thead th {\n",
              "        text-align: right;\n",
              "    }\n",
              "</style>\n",
              "<table border=\"1\" class=\"dataframe\">\n",
              "  <thead>\n",
              "    <tr style=\"text-align: right;\">\n",
              "      <th></th>\n",
              "      <th></th>\n",
              "      <th>calls_sum</th>\n",
              "      <th>messages_count</th>\n",
              "      <th>gb_used_sum</th>\n",
              "    </tr>\n",
              "    <tr>\n",
              "      <th>tariff_name</th>\n",
              "      <th>month</th>\n",
              "      <th></th>\n",
              "      <th></th>\n",
              "      <th></th>\n",
              "    </tr>\n",
              "  </thead>\n",
              "  <tbody>\n",
              "    <tr>\n",
              "      <th rowspan=\"12\" valign=\"top\">smart</th>\n",
              "      <th>1</th>\n",
              "      <td>6931.0</td>\n",
              "      <td>620.0</td>\n",
              "      <td>282.682031</td>\n",
              "    </tr>\n",
              "    <tr>\n",
              "      <th>2</th>\n",
              "      <td>17324.0</td>\n",
              "      <td>1397.0</td>\n",
              "      <td>656.864404</td>\n",
              "    </tr>\n",
              "    <tr>\n",
              "      <th>3</th>\n",
              "      <td>30034.0</td>\n",
              "      <td>2453.0</td>\n",
              "      <td>1135.761963</td>\n",
              "    </tr>\n",
              "    <tr>\n",
              "      <th>4</th>\n",
              "      <td>41119.0</td>\n",
              "      <td>3443.0</td>\n",
              "      <td>1472.426006</td>\n",
              "    </tr>\n",
              "    <tr>\n",
              "      <th>5</th>\n",
              "      <td>54618.0</td>\n",
              "      <td>4762.0</td>\n",
              "      <td>2176.299795</td>\n",
              "    </tr>\n",
              "    <tr>\n",
              "      <th>6</th>\n",
              "      <td>64885.0</td>\n",
              "      <td>5478.0</td>\n",
              "      <td>2529.611592</td>\n",
              "    </tr>\n",
              "    <tr>\n",
              "      <th>7</th>\n",
              "      <td>82079.0</td>\n",
              "      <td>6784.0</td>\n",
              "      <td>3090.208223</td>\n",
              "    </tr>\n",
              "    <tr>\n",
              "      <th>8</th>\n",
              "      <td>99045.0</td>\n",
              "      <td>7905.0</td>\n",
              "      <td>3812.030488</td>\n",
              "    </tr>\n",
              "    <tr>\n",
              "      <th>9</th>\n",
              "      <td>111439.0</td>\n",
              "      <td>8746.0</td>\n",
              "      <td>4139.580557</td>\n",
              "    </tr>\n",
              "    <tr>\n",
              "      <th>10</th>\n",
              "      <td>125284.0</td>\n",
              "      <td>9927.0</td>\n",
              "      <td>4811.127080</td>\n",
              "    </tr>\n",
              "    <tr>\n",
              "      <th>11</th>\n",
              "      <td>137544.0</td>\n",
              "      <td>10768.0</td>\n",
              "      <td>5213.906387</td>\n",
              "    </tr>\n",
              "    <tr>\n",
              "      <th>12</th>\n",
              "      <td>161275.0</td>\n",
              "      <td>12130.0</td>\n",
              "      <td>5961.234482</td>\n",
              "    </tr>\n",
              "    <tr>\n",
              "      <th rowspan=\"12\" valign=\"top\">ultra</th>\n",
              "      <th>1</th>\n",
              "      <td>3853.0</td>\n",
              "      <td>304.0</td>\n",
              "      <td>115.494268</td>\n",
              "    </tr>\n",
              "    <tr>\n",
              "      <th>2</th>\n",
              "      <td>7131.0</td>\n",
              "      <td>527.0</td>\n",
              "      <td>275.998535</td>\n",
              "    </tr>\n",
              "    <tr>\n",
              "      <th>3</th>\n",
              "      <td>18117.0</td>\n",
              "      <td>1195.0</td>\n",
              "      <td>633.608750</td>\n",
              "    </tr>\n",
              "    <tr>\n",
              "      <th>4</th>\n",
              "      <td>25191.0</td>\n",
              "      <td>1736.0</td>\n",
              "      <td>903.854873</td>\n",
              "    </tr>\n",
              "    <tr>\n",
              "      <th>5</th>\n",
              "      <td>34192.0</td>\n",
              "      <td>2536.0</td>\n",
              "      <td>1266.925049</td>\n",
              "    </tr>\n",
              "    <tr>\n",
              "      <th>6</th>\n",
              "      <td>40295.0</td>\n",
              "      <td>3505.0</td>\n",
              "      <td>1552.436426</td>\n",
              "    </tr>\n",
              "    <tr>\n",
              "      <th>7</th>\n",
              "      <td>49667.0</td>\n",
              "      <td>4536.0</td>\n",
              "      <td>1821.392119</td>\n",
              "    </tr>\n",
              "    <tr>\n",
              "      <th>8</th>\n",
              "      <td>54653.0</td>\n",
              "      <td>5183.0</td>\n",
              "      <td>2045.544775</td>\n",
              "    </tr>\n",
              "    <tr>\n",
              "      <th>9</th>\n",
              "      <td>62036.0</td>\n",
              "      <td>6013.0</td>\n",
              "      <td>2156.730342</td>\n",
              "    </tr>\n",
              "    <tr>\n",
              "      <th>10</th>\n",
              "      <td>68644.0</td>\n",
              "      <td>7187.0</td>\n",
              "      <td>2407.789541</td>\n",
              "    </tr>\n",
              "    <tr>\n",
              "      <th>11</th>\n",
              "      <td>72545.0</td>\n",
              "      <td>7476.0</td>\n",
              "      <td>2589.289912</td>\n",
              "    </tr>\n",
              "    <tr>\n",
              "      <th>12</th>\n",
              "      <td>82400.0</td>\n",
              "      <td>8425.0</td>\n",
              "      <td>2958.252920</td>\n",
              "    </tr>\n",
              "  </tbody>\n",
              "</table>\n",
              "</div>\n",
              "      <button class=\"colab-df-convert\" onclick=\"convertToInteractive('df-6a8b7d13-6500-444c-8b11-868689229d7c')\"\n",
              "              title=\"Convert this dataframe to an interactive table.\"\n",
              "              style=\"display:none;\">\n",
              "        \n",
              "  <svg xmlns=\"http://www.w3.org/2000/svg\" height=\"24px\"viewBox=\"0 0 24 24\"\n",
              "       width=\"24px\">\n",
              "    <path d=\"M0 0h24v24H0V0z\" fill=\"none\"/>\n",
              "    <path d=\"M18.56 5.44l.94 2.06.94-2.06 2.06-.94-2.06-.94-.94-2.06-.94 2.06-2.06.94zm-11 1L8.5 8.5l.94-2.06 2.06-.94-2.06-.94L8.5 2.5l-.94 2.06-2.06.94zm10 10l.94 2.06.94-2.06 2.06-.94-2.06-.94-.94-2.06-.94 2.06-2.06.94z\"/><path d=\"M17.41 7.96l-1.37-1.37c-.4-.4-.92-.59-1.43-.59-.52 0-1.04.2-1.43.59L10.3 9.45l-7.72 7.72c-.78.78-.78 2.05 0 2.83L4 21.41c.39.39.9.59 1.41.59.51 0 1.02-.2 1.41-.59l7.78-7.78 2.81-2.81c.8-.78.8-2.07 0-2.86zM5.41 20L4 18.59l7.72-7.72 1.47 1.35L5.41 20z\"/>\n",
              "  </svg>\n",
              "      </button>\n",
              "      \n",
              "  <style>\n",
              "    .colab-df-container {\n",
              "      display:flex;\n",
              "      flex-wrap:wrap;\n",
              "      gap: 12px;\n",
              "    }\n",
              "\n",
              "    .colab-df-convert {\n",
              "      background-color: #E8F0FE;\n",
              "      border: none;\n",
              "      border-radius: 50%;\n",
              "      cursor: pointer;\n",
              "      display: none;\n",
              "      fill: #1967D2;\n",
              "      height: 32px;\n",
              "      padding: 0 0 0 0;\n",
              "      width: 32px;\n",
              "    }\n",
              "\n",
              "    .colab-df-convert:hover {\n",
              "      background-color: #E2EBFA;\n",
              "      box-shadow: 0px 1px 2px rgba(60, 64, 67, 0.3), 0px 1px 3px 1px rgba(60, 64, 67, 0.15);\n",
              "      fill: #174EA6;\n",
              "    }\n",
              "\n",
              "    [theme=dark] .colab-df-convert {\n",
              "      background-color: #3B4455;\n",
              "      fill: #D2E3FC;\n",
              "    }\n",
              "\n",
              "    [theme=dark] .colab-df-convert:hover {\n",
              "      background-color: #434B5C;\n",
              "      box-shadow: 0px 1px 3px 1px rgba(0, 0, 0, 0.15);\n",
              "      filter: drop-shadow(0px 1px 2px rgba(0, 0, 0, 0.3));\n",
              "      fill: #FFFFFF;\n",
              "    }\n",
              "  </style>\n",
              "\n",
              "      <script>\n",
              "        const buttonEl =\n",
              "          document.querySelector('#df-6a8b7d13-6500-444c-8b11-868689229d7c button.colab-df-convert');\n",
              "        buttonEl.style.display =\n",
              "          google.colab.kernel.accessAllowed ? 'block' : 'none';\n",
              "\n",
              "        async function convertToInteractive(key) {\n",
              "          const element = document.querySelector('#df-6a8b7d13-6500-444c-8b11-868689229d7c');\n",
              "          const dataTable =\n",
              "            await google.colab.kernel.invokeFunction('convertToInteractive',\n",
              "                                                     [key], {});\n",
              "          if (!dataTable) return;\n",
              "\n",
              "          const docLinkHtml = 'Like what you see? Visit the ' +\n",
              "            '<a target=\"_blank\" href=https://colab.research.google.com/notebooks/data_table.ipynb>data table notebook</a>'\n",
              "            + ' to learn more about interactive tables.';\n",
              "          element.innerHTML = '';\n",
              "          dataTable['output_type'] = 'display_data';\n",
              "          await google.colab.output.renderOutput(dataTable, element);\n",
              "          const docLink = document.createElement('div');\n",
              "          docLink.innerHTML = docLinkHtml;\n",
              "          element.appendChild(docLink);\n",
              "        }\n",
              "      </script>\n",
              "    </div>\n",
              "  </div>\n",
              "  "
            ]
          },
          "metadata": {},
          "execution_count": 158
        }
      ],
      "source": [
        "\n",
        "joint_final['gb_used_sum'] = (joint_final['mb_used_sum'] / 1024) # создадим столбец с трафиком в Гб\n",
        "# сгруппируем данные по общему количеству звонков, сообщений и интернет-трафика по тарифам и месяцам\n",
        "joint_final.groupby(['tariff_name', 'month'])[['calls_sum','messages_count',\"gb_used_sum\"]].sum()\n"
      ]
    },
    {
      "cell_type": "code",
      "execution_count": 159,
      "metadata": {
        "colab": {
          "base_uri": "https://localhost:8080/"
        },
        "id": "mrqQp50YUpp-",
        "outputId": "a5664c9f-46fa-4a1e-f9cf-d18cb4f6dde5"
      },
      "outputs": [
        {
          "output_type": "execute_result",
          "data": {
            "text/plain": [
              "tariff_name\n",
              "smart    350\n",
              "ultra    148\n",
              "Name: user_id, dtype: int64"
            ]
          },
          "metadata": {},
          "execution_count": 159
        }
      ],
      "source": [
        "# посчитаем общее количество пользователей в каждом из тарифов\n",
        "user = joint_final.groupby(['tariff_name'])['user_id'].nunique()\n",
        "user\n"
      ]
    },
    {
      "cell_type": "markdown",
      "metadata": {
        "id": "Q0pyfOckUpp-"
      },
      "source": [
        "Из данных можно сделать вывод, что наблюдается устойчивый рост в течение года в потреблении всех услуг провайдера: количества потраченных минут, отправленных смс и использованных гигабайт интернет-трафика. Эта тенденция характерна для обоих тарифов компании — Smart и Ultra. \n",
        "\n",
        "Общее количество пользователей в тарифе Ultra меньше (скорее всего из-за его стоимости - он в четыре раза дороже тарифа Smart), поэтому и общие показатели на графике ниже. \n",
        "\n",
        "Однако несмотря на то, что тариф Ultra в четыре раза дороже тарифа Smart, общий объем по интернет-трафику и количеству звонков ниже лишь в два раза, а по количеству отправленных смс — даже почти в полтора. Это может означать, что пользователи, выбирающие более дорогой тариф, делают это исходя из своих реальных потребностей в большем количестве минут, смс и Гб."
      ]
    },
    {
      "cell_type": "code",
      "execution_count": 160,
      "metadata": {
        "colab": {
          "base_uri": "https://localhost:8080/",
          "height": 960
        },
        "id": "kkAT9PL4Upp-",
        "outputId": "cd6126e6-5872-4698-d617-f366c2bfc944"
      },
      "outputs": [
        {
          "output_type": "display_data",
          "data": {
            "text/plain": [
              "                   calls_mean  gb_used_mean  messages_mean\n",
              "tariff_name month                                         \n",
              "smart       1      203.852941     18.235294       8.314177\n",
              "            2      298.689655     24.086207      11.325248\n",
              "            3      390.051948     31.857143      14.750155\n",
              "            4      367.133929     30.741071      13.146661\n",
              "            5      387.361702     33.773050      15.434750\n",
              "            6      395.640244     33.402439      15.424461\n",
              "            7      408.353234     33.751244      15.374170\n",
              "            8      421.468085     33.638298      16.221406\n",
              "            9      428.611538     33.638462      15.921464\n",
              "            10     426.136054     33.765306      16.364378\n",
              "            11     435.265823     34.075949      16.499704\n",
              "            12     478.560831     35.994065      17.689123\n",
              "ultra       1      428.111111     33.777778      12.832696\n",
              "            2      297.125000     21.958333      11.499939\n",
              "            3      489.648649     32.297297      17.124561\n",
              "            4      458.018182     31.563636      16.433725\n",
              "            5      510.328358     37.850746      18.909329\n",
              "            6      479.702381     41.726190      18.481386\n",
              "            7      545.791209     49.846154      20.015298\n",
              "            8      510.775701     48.439252      19.117241\n",
              "            9      539.443478     52.286957      18.754177\n",
              "            10     558.081301     58.430894      19.575525\n",
              "            11     541.380597     55.791045      19.323059\n",
              "            12     592.805755     60.611511      21.282395"
            ],
            "text/html": [
              "\n",
              "  <div id=\"df-7f7ace5b-732e-44c5-9dca-aa34d9ffe9c6\">\n",
              "    <div class=\"colab-df-container\">\n",
              "      <div>\n",
              "<style scoped>\n",
              "    .dataframe tbody tr th:only-of-type {\n",
              "        vertical-align: middle;\n",
              "    }\n",
              "\n",
              "    .dataframe tbody tr th {\n",
              "        vertical-align: top;\n",
              "    }\n",
              "\n",
              "    .dataframe thead th {\n",
              "        text-align: right;\n",
              "    }\n",
              "</style>\n",
              "<table border=\"1\" class=\"dataframe\">\n",
              "  <thead>\n",
              "    <tr style=\"text-align: right;\">\n",
              "      <th></th>\n",
              "      <th></th>\n",
              "      <th>calls_mean</th>\n",
              "      <th>gb_used_mean</th>\n",
              "      <th>messages_mean</th>\n",
              "    </tr>\n",
              "    <tr>\n",
              "      <th>tariff_name</th>\n",
              "      <th>month</th>\n",
              "      <th></th>\n",
              "      <th></th>\n",
              "      <th></th>\n",
              "    </tr>\n",
              "  </thead>\n",
              "  <tbody>\n",
              "    <tr>\n",
              "      <th rowspan=\"12\" valign=\"top\">smart</th>\n",
              "      <th>1</th>\n",
              "      <td>203.852941</td>\n",
              "      <td>18.235294</td>\n",
              "      <td>8.314177</td>\n",
              "    </tr>\n",
              "    <tr>\n",
              "      <th>2</th>\n",
              "      <td>298.689655</td>\n",
              "      <td>24.086207</td>\n",
              "      <td>11.325248</td>\n",
              "    </tr>\n",
              "    <tr>\n",
              "      <th>3</th>\n",
              "      <td>390.051948</td>\n",
              "      <td>31.857143</td>\n",
              "      <td>14.750155</td>\n",
              "    </tr>\n",
              "    <tr>\n",
              "      <th>4</th>\n",
              "      <td>367.133929</td>\n",
              "      <td>30.741071</td>\n",
              "      <td>13.146661</td>\n",
              "    </tr>\n",
              "    <tr>\n",
              "      <th>5</th>\n",
              "      <td>387.361702</td>\n",
              "      <td>33.773050</td>\n",
              "      <td>15.434750</td>\n",
              "    </tr>\n",
              "    <tr>\n",
              "      <th>6</th>\n",
              "      <td>395.640244</td>\n",
              "      <td>33.402439</td>\n",
              "      <td>15.424461</td>\n",
              "    </tr>\n",
              "    <tr>\n",
              "      <th>7</th>\n",
              "      <td>408.353234</td>\n",
              "      <td>33.751244</td>\n",
              "      <td>15.374170</td>\n",
              "    </tr>\n",
              "    <tr>\n",
              "      <th>8</th>\n",
              "      <td>421.468085</td>\n",
              "      <td>33.638298</td>\n",
              "      <td>16.221406</td>\n",
              "    </tr>\n",
              "    <tr>\n",
              "      <th>9</th>\n",
              "      <td>428.611538</td>\n",
              "      <td>33.638462</td>\n",
              "      <td>15.921464</td>\n",
              "    </tr>\n",
              "    <tr>\n",
              "      <th>10</th>\n",
              "      <td>426.136054</td>\n",
              "      <td>33.765306</td>\n",
              "      <td>16.364378</td>\n",
              "    </tr>\n",
              "    <tr>\n",
              "      <th>11</th>\n",
              "      <td>435.265823</td>\n",
              "      <td>34.075949</td>\n",
              "      <td>16.499704</td>\n",
              "    </tr>\n",
              "    <tr>\n",
              "      <th>12</th>\n",
              "      <td>478.560831</td>\n",
              "      <td>35.994065</td>\n",
              "      <td>17.689123</td>\n",
              "    </tr>\n",
              "    <tr>\n",
              "      <th rowspan=\"12\" valign=\"top\">ultra</th>\n",
              "      <th>1</th>\n",
              "      <td>428.111111</td>\n",
              "      <td>33.777778</td>\n",
              "      <td>12.832696</td>\n",
              "    </tr>\n",
              "    <tr>\n",
              "      <th>2</th>\n",
              "      <td>297.125000</td>\n",
              "      <td>21.958333</td>\n",
              "      <td>11.499939</td>\n",
              "    </tr>\n",
              "    <tr>\n",
              "      <th>3</th>\n",
              "      <td>489.648649</td>\n",
              "      <td>32.297297</td>\n",
              "      <td>17.124561</td>\n",
              "    </tr>\n",
              "    <tr>\n",
              "      <th>4</th>\n",
              "      <td>458.018182</td>\n",
              "      <td>31.563636</td>\n",
              "      <td>16.433725</td>\n",
              "    </tr>\n",
              "    <tr>\n",
              "      <th>5</th>\n",
              "      <td>510.328358</td>\n",
              "      <td>37.850746</td>\n",
              "      <td>18.909329</td>\n",
              "    </tr>\n",
              "    <tr>\n",
              "      <th>6</th>\n",
              "      <td>479.702381</td>\n",
              "      <td>41.726190</td>\n",
              "      <td>18.481386</td>\n",
              "    </tr>\n",
              "    <tr>\n",
              "      <th>7</th>\n",
              "      <td>545.791209</td>\n",
              "      <td>49.846154</td>\n",
              "      <td>20.015298</td>\n",
              "    </tr>\n",
              "    <tr>\n",
              "      <th>8</th>\n",
              "      <td>510.775701</td>\n",
              "      <td>48.439252</td>\n",
              "      <td>19.117241</td>\n",
              "    </tr>\n",
              "    <tr>\n",
              "      <th>9</th>\n",
              "      <td>539.443478</td>\n",
              "      <td>52.286957</td>\n",
              "      <td>18.754177</td>\n",
              "    </tr>\n",
              "    <tr>\n",
              "      <th>10</th>\n",
              "      <td>558.081301</td>\n",
              "      <td>58.430894</td>\n",
              "      <td>19.575525</td>\n",
              "    </tr>\n",
              "    <tr>\n",
              "      <th>11</th>\n",
              "      <td>541.380597</td>\n",
              "      <td>55.791045</td>\n",
              "      <td>19.323059</td>\n",
              "    </tr>\n",
              "    <tr>\n",
              "      <th>12</th>\n",
              "      <td>592.805755</td>\n",
              "      <td>60.611511</td>\n",
              "      <td>21.282395</td>\n",
              "    </tr>\n",
              "  </tbody>\n",
              "</table>\n",
              "</div>\n",
              "      <button class=\"colab-df-convert\" onclick=\"convertToInteractive('df-7f7ace5b-732e-44c5-9dca-aa34d9ffe9c6')\"\n",
              "              title=\"Convert this dataframe to an interactive table.\"\n",
              "              style=\"display:none;\">\n",
              "        \n",
              "  <svg xmlns=\"http://www.w3.org/2000/svg\" height=\"24px\"viewBox=\"0 0 24 24\"\n",
              "       width=\"24px\">\n",
              "    <path d=\"M0 0h24v24H0V0z\" fill=\"none\"/>\n",
              "    <path d=\"M18.56 5.44l.94 2.06.94-2.06 2.06-.94-2.06-.94-.94-2.06-.94 2.06-2.06.94zm-11 1L8.5 8.5l.94-2.06 2.06-.94-2.06-.94L8.5 2.5l-.94 2.06-2.06.94zm10 10l.94 2.06.94-2.06 2.06-.94-2.06-.94-.94-2.06-.94 2.06-2.06.94z\"/><path d=\"M17.41 7.96l-1.37-1.37c-.4-.4-.92-.59-1.43-.59-.52 0-1.04.2-1.43.59L10.3 9.45l-7.72 7.72c-.78.78-.78 2.05 0 2.83L4 21.41c.39.39.9.59 1.41.59.51 0 1.02-.2 1.41-.59l7.78-7.78 2.81-2.81c.8-.78.8-2.07 0-2.86zM5.41 20L4 18.59l7.72-7.72 1.47 1.35L5.41 20z\"/>\n",
              "  </svg>\n",
              "      </button>\n",
              "      \n",
              "  <style>\n",
              "    .colab-df-container {\n",
              "      display:flex;\n",
              "      flex-wrap:wrap;\n",
              "      gap: 12px;\n",
              "    }\n",
              "\n",
              "    .colab-df-convert {\n",
              "      background-color: #E8F0FE;\n",
              "      border: none;\n",
              "      border-radius: 50%;\n",
              "      cursor: pointer;\n",
              "      display: none;\n",
              "      fill: #1967D2;\n",
              "      height: 32px;\n",
              "      padding: 0 0 0 0;\n",
              "      width: 32px;\n",
              "    }\n",
              "\n",
              "    .colab-df-convert:hover {\n",
              "      background-color: #E2EBFA;\n",
              "      box-shadow: 0px 1px 2px rgba(60, 64, 67, 0.3), 0px 1px 3px 1px rgba(60, 64, 67, 0.15);\n",
              "      fill: #174EA6;\n",
              "    }\n",
              "\n",
              "    [theme=dark] .colab-df-convert {\n",
              "      background-color: #3B4455;\n",
              "      fill: #D2E3FC;\n",
              "    }\n",
              "\n",
              "    [theme=dark] .colab-df-convert:hover {\n",
              "      background-color: #434B5C;\n",
              "      box-shadow: 0px 1px 3px 1px rgba(0, 0, 0, 0.15);\n",
              "      filter: drop-shadow(0px 1px 2px rgba(0, 0, 0, 0.3));\n",
              "      fill: #FFFFFF;\n",
              "    }\n",
              "  </style>\n",
              "\n",
              "      <script>\n",
              "        const buttonEl =\n",
              "          document.querySelector('#df-7f7ace5b-732e-44c5-9dca-aa34d9ffe9c6 button.colab-df-convert');\n",
              "        buttonEl.style.display =\n",
              "          google.colab.kernel.accessAllowed ? 'block' : 'none';\n",
              "\n",
              "        async function convertToInteractive(key) {\n",
              "          const element = document.querySelector('#df-7f7ace5b-732e-44c5-9dca-aa34d9ffe9c6');\n",
              "          const dataTable =\n",
              "            await google.colab.kernel.invokeFunction('convertToInteractive',\n",
              "                                                     [key], {});\n",
              "          if (!dataTable) return;\n",
              "\n",
              "          const docLinkHtml = 'Like what you see? Visit the ' +\n",
              "            '<a target=\"_blank\" href=https://colab.research.google.com/notebooks/data_table.ipynb>data table notebook</a>'\n",
              "            + ' to learn more about interactive tables.';\n",
              "          element.innerHTML = '';\n",
              "          dataTable['output_type'] = 'display_data';\n",
              "          await google.colab.output.renderOutput(dataTable, element);\n",
              "          const docLink = document.createElement('div');\n",
              "          docLink.innerHTML = docLinkHtml;\n",
              "          element.appendChild(docLink);\n",
              "        }\n",
              "      </script>\n",
              "    </div>\n",
              "  </div>\n",
              "  "
            ]
          },
          "metadata": {}
        },
        {
          "output_type": "execute_result",
          "data": {
            "text/plain": [
              "              calls_sum  messages_count  gb_used_sum\n",
              "tariff_name                                         \n",
              "smart        417.934948       33.384029    15.828503\n",
              "ultra        526.623350       49.363452    19.012505"
            ],
            "text/html": [
              "\n",
              "  <div id=\"df-0b0af891-1fd8-4432-ab90-6016087b111c\">\n",
              "    <div class=\"colab-df-container\">\n",
              "      <div>\n",
              "<style scoped>\n",
              "    .dataframe tbody tr th:only-of-type {\n",
              "        vertical-align: middle;\n",
              "    }\n",
              "\n",
              "    .dataframe tbody tr th {\n",
              "        vertical-align: top;\n",
              "    }\n",
              "\n",
              "    .dataframe thead th {\n",
              "        text-align: right;\n",
              "    }\n",
              "</style>\n",
              "<table border=\"1\" class=\"dataframe\">\n",
              "  <thead>\n",
              "    <tr style=\"text-align: right;\">\n",
              "      <th></th>\n",
              "      <th>calls_sum</th>\n",
              "      <th>messages_count</th>\n",
              "      <th>gb_used_sum</th>\n",
              "    </tr>\n",
              "    <tr>\n",
              "      <th>tariff_name</th>\n",
              "      <th></th>\n",
              "      <th></th>\n",
              "      <th></th>\n",
              "    </tr>\n",
              "  </thead>\n",
              "  <tbody>\n",
              "    <tr>\n",
              "      <th>smart</th>\n",
              "      <td>417.934948</td>\n",
              "      <td>33.384029</td>\n",
              "      <td>15.828503</td>\n",
              "    </tr>\n",
              "    <tr>\n",
              "      <th>ultra</th>\n",
              "      <td>526.623350</td>\n",
              "      <td>49.363452</td>\n",
              "      <td>19.012505</td>\n",
              "    </tr>\n",
              "  </tbody>\n",
              "</table>\n",
              "</div>\n",
              "      <button class=\"colab-df-convert\" onclick=\"convertToInteractive('df-0b0af891-1fd8-4432-ab90-6016087b111c')\"\n",
              "              title=\"Convert this dataframe to an interactive table.\"\n",
              "              style=\"display:none;\">\n",
              "        \n",
              "  <svg xmlns=\"http://www.w3.org/2000/svg\" height=\"24px\"viewBox=\"0 0 24 24\"\n",
              "       width=\"24px\">\n",
              "    <path d=\"M0 0h24v24H0V0z\" fill=\"none\"/>\n",
              "    <path d=\"M18.56 5.44l.94 2.06.94-2.06 2.06-.94-2.06-.94-.94-2.06-.94 2.06-2.06.94zm-11 1L8.5 8.5l.94-2.06 2.06-.94-2.06-.94L8.5 2.5l-.94 2.06-2.06.94zm10 10l.94 2.06.94-2.06 2.06-.94-2.06-.94-.94-2.06-.94 2.06-2.06.94z\"/><path d=\"M17.41 7.96l-1.37-1.37c-.4-.4-.92-.59-1.43-.59-.52 0-1.04.2-1.43.59L10.3 9.45l-7.72 7.72c-.78.78-.78 2.05 0 2.83L4 21.41c.39.39.9.59 1.41.59.51 0 1.02-.2 1.41-.59l7.78-7.78 2.81-2.81c.8-.78.8-2.07 0-2.86zM5.41 20L4 18.59l7.72-7.72 1.47 1.35L5.41 20z\"/>\n",
              "  </svg>\n",
              "      </button>\n",
              "      \n",
              "  <style>\n",
              "    .colab-df-container {\n",
              "      display:flex;\n",
              "      flex-wrap:wrap;\n",
              "      gap: 12px;\n",
              "    }\n",
              "\n",
              "    .colab-df-convert {\n",
              "      background-color: #E8F0FE;\n",
              "      border: none;\n",
              "      border-radius: 50%;\n",
              "      cursor: pointer;\n",
              "      display: none;\n",
              "      fill: #1967D2;\n",
              "      height: 32px;\n",
              "      padding: 0 0 0 0;\n",
              "      width: 32px;\n",
              "    }\n",
              "\n",
              "    .colab-df-convert:hover {\n",
              "      background-color: #E2EBFA;\n",
              "      box-shadow: 0px 1px 2px rgba(60, 64, 67, 0.3), 0px 1px 3px 1px rgba(60, 64, 67, 0.15);\n",
              "      fill: #174EA6;\n",
              "    }\n",
              "\n",
              "    [theme=dark] .colab-df-convert {\n",
              "      background-color: #3B4455;\n",
              "      fill: #D2E3FC;\n",
              "    }\n",
              "\n",
              "    [theme=dark] .colab-df-convert:hover {\n",
              "      background-color: #434B5C;\n",
              "      box-shadow: 0px 1px 3px 1px rgba(0, 0, 0, 0.15);\n",
              "      filter: drop-shadow(0px 1px 2px rgba(0, 0, 0, 0.3));\n",
              "      fill: #FFFFFF;\n",
              "    }\n",
              "  </style>\n",
              "\n",
              "      <script>\n",
              "        const buttonEl =\n",
              "          document.querySelector('#df-0b0af891-1fd8-4432-ab90-6016087b111c button.colab-df-convert');\n",
              "        buttonEl.style.display =\n",
              "          google.colab.kernel.accessAllowed ? 'block' : 'none';\n",
              "\n",
              "        async function convertToInteractive(key) {\n",
              "          const element = document.querySelector('#df-0b0af891-1fd8-4432-ab90-6016087b111c');\n",
              "          const dataTable =\n",
              "            await google.colab.kernel.invokeFunction('convertToInteractive',\n",
              "                                                     [key], {});\n",
              "          if (!dataTable) return;\n",
              "\n",
              "          const docLinkHtml = 'Like what you see? Visit the ' +\n",
              "            '<a target=\"_blank\" href=https://colab.research.google.com/notebooks/data_table.ipynb>data table notebook</a>'\n",
              "            + ' to learn more about interactive tables.';\n",
              "          element.innerHTML = '';\n",
              "          dataTable['output_type'] = 'display_data';\n",
              "          await google.colab.output.renderOutput(dataTable, element);\n",
              "          const docLink = document.createElement('div');\n",
              "          docLink.innerHTML = docLinkHtml;\n",
              "          element.appendChild(docLink);\n",
              "        }\n",
              "      </script>\n",
              "    </div>\n",
              "  </div>\n",
              "  "
            ]
          },
          "metadata": {},
          "execution_count": 160
        }
      ],
      "source": [
        "# посчитаем среднее количество звноков, сообщений и интернет-трафика по тарифам и месяцам\n",
        "joint_final_mean = joint_final.pivot_table(index=['tariff_name', 'month'], values=['calls_sum','messages_count',\"gb_used_sum\"]).reset_index()\n",
        "joint_final_mean.columns = ['tariff_name', 'month', 'calls_mean', 'messages_mean', 'gb_used_mean'] #переименуем столбцы\n",
        "joint_final_mean = joint_final_mean.pivot_table(index=['tariff_name', 'month'], values=['calls_mean','messages_mean',\"gb_used_mean\"])\n",
        "display(joint_final_mean)\n",
        "\n",
        "# посчитаем среднее количество звноков, сообщений и интернет-трафика по тарифам в год\n",
        "joint_final_tariffs_mean_year = joint_final.groupby('tariff_name')[['calls_sum','messages_count',\"gb_used_sum\"]].mean()\n",
        "joint_final_tariffs_mean_year\n",
        "\n",
        "\n"
      ]
    },
    {
      "cell_type": "code",
      "execution_count": 161,
      "metadata": {
        "colab": {
          "base_uri": "https://localhost:8080/",
          "height": 585
        },
        "id": "hz5uWosFUpp_",
        "outputId": "43369a81-4278-448d-abc4-679ee8f8dab4"
      },
      "outputs": [
        {
          "output_type": "display_data",
          "data": {
            "text/plain": [
              "<Figure size 1000x600 with 1 Axes>"
            ],
            "image/png": "[encoded data removed]"
          },
          "metadata": {}
        }
      ],
      "source": [
        "# построим график среднего количества потраченных минут за каждый месяц\n",
        "\n",
        "plt.figure(figsize=(10, 6))\n",
        "joint_final['calls_sum'][joint_final['tariff_name'] == 'smart'].plot(kind='hist', alpha=0.5, bins=15)\n",
        "joint_final['calls_sum'][joint_final['tariff_name'] == 'ultra'].plot(kind='hist', alpha=0.5, bins=15)\n",
        "plt.title('Гистограмма распределения средней длительности звонков в месяц по 2-м тарифам'+ \"\\n\")\n",
        "plt.xlabel('Минуты')\n",
        "plt.ylabel('Частотность')\n",
        "plt.legend(['smart', 'ultra'])\n",
        "plt.show()\n"
      ]
    },
    {
      "cell_type": "code",
      "execution_count": 162,
      "metadata": {
        "colab": {
          "base_uri": "https://localhost:8080/",
          "height": 585
        },
        "id": "cf0P-oPjUpp_",
        "outputId": "5fa11ad5-b6e9-4c2e-e559-b2e1037c4273"
      },
      "outputs": [
        {
          "output_type": "display_data",
          "data": {
            "text/plain": [
              "<Figure size 1000x600 with 1 Axes>"
            ],
            "image/png": "[encoded data removed]"
          },
          "metadata": {}
        }
      ],
      "source": [
        "# построим график среднего количества отправленных сообщений за каждый месяц\n",
        "\n",
        "plt.figure(figsize=(10, 6))\n",
        "joint_final['messages_count'][joint_final['tariff_name'] == 'smart'].plot(kind='hist', alpha=0.5, bins=15)\n",
        "joint_final['messages_count'][joint_final['tariff_name'] == 'ultra'].plot(kind='hist', alpha=0.5, bins=15)\n",
        "plt.title('Гистограмма распределения среднего количества сообщений в месяц по 2-м тарифам'+ \"\\n\")\n",
        "plt.xlabel('Сообщения')\n",
        "plt.ylabel('Частотность')\n",
        "plt.legend(['smart', 'ultra'])\n",
        "plt.show()\n"
      ]
    },
    {
      "cell_type": "code",
      "execution_count": 163,
      "metadata": {
        "colab": {
          "base_uri": "https://localhost:8080/",
          "height": 585
        },
        "id": "Zv8_1tu7Upp_",
        "outputId": "7078394a-c30a-4d1c-d9a0-d24bc15256a1"
      },
      "outputs": [
        {
          "output_type": "display_data",
          "data": {
            "text/plain": [
              "<Figure size 1000x600 with 1 Axes>"
            ],
            "image/png": "[encoded data removed]"
          },
          "metadata": {}
        }
      ],
      "source": [
        "# построим график среднего объёма интернет-трафика за каждый месяц\n",
        "\n",
        "plt.figure(figsize=(10, 6))\n",
        "joint_final['gb_used_sum'][joint_final['tariff_name'] == 'smart'].plot(kind='hist', alpha=0.5, bins=15)\n",
        "joint_final['gb_used_sum'][joint_final['tariff_name'] == 'ultra'].plot(kind='hist', alpha=0.5, bins=15)\n",
        "plt.title('Гистограмма распределения среднего объема интернет-трафика в месяц по 2-м тарифам'+ \"\\n\")\n",
        "plt.xlabel('Гб')\n",
        "plt.ylabel('Частотность')\n",
        "plt.legend(['smart', 'ultra'])\n",
        "plt.show()\n"
      ]
    },
    {
      "cell_type": "markdown",
      "metadata": {
        "id": "ZvT0VYgTUpqA"
      },
      "source": [
        "Средние показатели подтверждают наше наблюдение: пользователи более дорогого тарифа используют гораздо больше минут, смс и гигабайт в месяц, чем клиенты на более дешевом тарифе. Особенно это заметно на примере смс, в меньшей степени — в звонках, и меньше всего — в интернет-трафике.\n",
        "\n",
        "На графиках, отражающих средние показатели, менее заметен рост активности в течение года. Это скорее всего обусловлено тем, что количество абонентов провайдера росло, влияя на общие показатели потребления услуг. Однако средние цифры менялись не так стремительно."
      ]
    },
    {
      "cell_type": "code",
      "execution_count": 164,
      "metadata": {
        "id": "QX_oMLp4UpqA"
      },
      "outputs": [],
      "source": [
        "# посчитаем дисперсию и стандартное отклонение по показателям длительности звонков, количеству сообщений \n",
        "# и интернет-трафику по каждому тарифу\n",
        "\n",
        "# создадим dataframe с необходимыми данными по звонкам\n",
        "ultra_calls = joint_final[['tariff_name', 'calls_sum']].query('tariff_name == \"ultra\"')\n",
        "smart_calls = joint_final[['tariff_name', 'calls_sum']].query('tariff_name == \"smart\"')\n",
        "\n",
        "# переименуем колонки\n",
        "ultra_calls = ultra_calls.rename(\n",
        "columns={\n",
        "'calls_sum': 'ultra_calls',}\n",
        ")\n",
        "\n",
        "smart_calls = smart_calls.rename(\n",
        "columns={\n",
        "'calls_sum': 'smart_calls',}\n",
        ")\n",
        "\n",
        "# создадим dataframe с необходимыми данными по сообщениям\n",
        "ultra_messages = joint_final[['tariff_name', 'messages_count']].query('tariff_name == \"ultra\"')\n",
        "smart_messages = joint_final[['tariff_name', 'messages_count']].query('tariff_name == \"smart\"')\n",
        "\n",
        "# переименуем колонки\n",
        "ultra_messages = ultra_messages.rename(\n",
        "columns={\n",
        "'messages_count': 'ultra_messages',}\n",
        ")\n",
        "\n",
        "smart_messages = smart_messages.rename(\n",
        "columns={\n",
        "'messages_count': 'smart_messages',}\n",
        ")\n",
        "\n",
        "# создадим dataframe с необходимыми данными по интернету\n",
        "ultra_internet = joint_final[['tariff_name', 'gb_used_sum']].query('tariff_name == \"ultra\"')\n",
        "smart_internet = joint_final[['tariff_name', 'gb_used_sum']].query('tariff_name == \"smart\"')\n",
        "\n",
        "# переименуем колонки\n",
        "ultra_internet = ultra_internet.rename(\n",
        "columns={\n",
        "'gb_used_sum': 'ultra_internet',}\n",
        ")\n",
        "\n",
        "smart_internet = smart_internet.rename(\n",
        "columns={\n",
        "'gb_used_sum': 'smart_internet',}\n",
        ")"
      ]
    },
    {
      "cell_type": "code",
      "execution_count": 165,
      "metadata": {
        "colab": {
          "base_uri": "https://localhost:8080/",
          "height": 287
        },
        "id": "FR_qiVHbUpqA",
        "outputId": "4b7fab59-1ed1-4edd-8578-664c0bf14a6e"
      },
      "outputs": [
        {
          "output_type": "stream",
          "name": "stderr",
          "text": [
            "/usr/local/lib/python3.9/dist-packages/numpy/core/fromnumeric.py:3755: FutureWarning: Dropping of nuisance columns in DataFrame reductions (with 'numeric_only=None') is deprecated; in a future version this will raise TypeError.  Select only valid columns before calling the reduction.\n",
            "  return var(axis=axis, dtype=dtype, out=out, ddof=ddof, **kwargs)\n"
          ]
        },
        {
          "output_type": "display_data",
          "data": {
            "text/plain": [
              "ultra_calls    100873.633397\n",
              "dtype: float64"
            ]
          },
          "metadata": {}
        },
        {
          "output_type": "display_data",
          "data": {
            "text/plain": [
              "smart_calls    36219.315784\n",
              "dtype: float64"
            ]
          },
          "metadata": {}
        },
        {
          "output_type": "display_data",
          "data": {
            "text/plain": [
              "ultra_messages    2285.266143\n",
              "dtype: float64"
            ]
          },
          "metadata": {}
        },
        {
          "output_type": "display_data",
          "data": {
            "text/plain": [
              "smart_messages    796.812958\n",
              "dtype: float64"
            ]
          },
          "metadata": {}
        },
        {
          "output_type": "display_data",
          "data": {
            "text/plain": [
              "ultra_internet    97.037329\n",
              "dtype: float64"
            ]
          },
          "metadata": {}
        },
        {
          "output_type": "execute_result",
          "data": {
            "text/plain": [
              "smart_internet    32.865998\n",
              "dtype: float64"
            ]
          },
          "metadata": {},
          "execution_count": 165
        }
      ],
      "source": [
        "# посчитаем дисперсию по показателям длительности звонков в тарифе ultra \n",
        "variance_ultra_calls = np.var(ultra_calls, ddof=1)\n",
        "# посчитаем дисперсию по показателям длительности звонков в тарифе smart \n",
        "variance_smart_calls = np.var(smart_calls, ddof=1)\n",
        "# посчитаем дисперсию по показателям количества сообщений в тарифе ultra \n",
        "variance_ultra_messages = np.var(ultra_messages, ddof=1)\n",
        "# посчитаем дисперсию по показателям количества сообщений в тарифе smart \n",
        "variance_smart_messages = np.var(smart_messages, ddof=1)\n",
        "# посчитаем дисперсию по показателям объема трафика в тарифе ultra \n",
        "variance_ultra_internet = np.var(ultra_internet, ddof=1)\n",
        "# посчитаем дисперсию по показателям объема трафика в тарифе smart \n",
        "variance_smart_internet = np.var(smart_internet, ddof=1)\n",
        "\n",
        "display(variance_ultra_calls)\n",
        "display(variance_smart_calls)\n",
        "display(variance_ultra_messages)\n",
        "display(variance_smart_messages)\n",
        "display(variance_ultra_internet)\n",
        "variance_smart_internet"
      ]
    },
    {
      "cell_type": "code",
      "execution_count": 166,
      "metadata": {
        "colab": {
          "base_uri": "https://localhost:8080/",
          "height": 287
        },
        "id": "dq2umB2zUpqA",
        "outputId": "ca7ee3e9-df3e-46fc-b63e-7862c6c1a168"
      },
      "outputs": [
        {
          "output_type": "stream",
          "name": "stderr",
          "text": [
            "/usr/local/lib/python3.9/dist-packages/numpy/core/fromnumeric.py:3613: FutureWarning: Dropping of nuisance columns in DataFrame reductions (with 'numeric_only=None') is deprecated; in a future version this will raise TypeError.  Select only valid columns before calling the reduction.\n",
            "  return std(axis=axis, dtype=dtype, out=out, ddof=ddof, **kwargs)\n"
          ]
        },
        {
          "output_type": "display_data",
          "data": {
            "text/plain": [
              "ultra_calls    317.606098\n",
              "dtype: float64"
            ]
          },
          "metadata": {}
        },
        {
          "output_type": "display_data",
          "data": {
            "text/plain": [
              "smart_calls    190.31373\n",
              "dtype: float64"
            ]
          },
          "metadata": {}
        },
        {
          "output_type": "display_data",
          "data": {
            "text/plain": [
              "ultra_messages    47.804457\n",
              "dtype: float64"
            ]
          },
          "metadata": {}
        },
        {
          "output_type": "display_data",
          "data": {
            "text/plain": [
              "smart_messages    28.227876\n",
              "dtype: float64"
            ]
          },
          "metadata": {}
        },
        {
          "output_type": "display_data",
          "data": {
            "text/plain": [
              "ultra_internet    9.850753\n",
              "dtype: float64"
            ]
          },
          "metadata": {}
        },
        {
          "output_type": "execute_result",
          "data": {
            "text/plain": [
              "smart_internet    5.732887\n",
              "dtype: float64"
            ]
          },
          "metadata": {},
          "execution_count": 166
        }
      ],
      "source": [
        "# посчитаем стандартное отклонение по показателям длительности звонков в тарифе ultra \n",
        "standard_deviation_ultra_calls = np.std(ultra_calls, ddof=1)\n",
        "# посчитаем стандартное отклонение по показателям длительности звонков в тарифе smart \n",
        "standard_deviation_smart_calls = np.std(smart_calls, ddof=1)\n",
        "# посчитаем стандартное отклонение по показателям количества сообщений в тарифе ultra \n",
        "standard_deviation_ultra_messages = np.std(ultra_messages, ddof=1)\n",
        "# посчитаем стандартное отклонение по показателям количества сообщений в тарифе smart\n",
        "standard_deviation_smart_messages = np.std(smart_messages, ddof=1)\n",
        "# посчитаем стандартное отклонение по показателям объема трафика в тарифе ultra \n",
        "standard_deviation_ultra_internet = np.std(ultra_internet, ddof=1)\n",
        "# посчитаем стандартное отклонение по показателям объема трафика в тарифе smart\n",
        "standard_deviation_smart_internet = np.std(smart_internet, ddof=1)\n",
        "\n",
        "display(standard_deviation_ultra_calls)\n",
        "display(standard_deviation_smart_calls)\n",
        "display(standard_deviation_ultra_messages)\n",
        "display(standard_deviation_smart_messages)\n",
        "display(standard_deviation_ultra_internet)\n",
        "standard_deviation_smart_internet"
      ]
    },
    {
      "cell_type": "markdown",
      "metadata": {
        "id": "gL0wITfQUpqA"
      },
      "source": [
        "### Вывод\n",
        "\n",
        "Проведенный исследовательский анализ данных показал:\n",
        "\n",
        "* наблюдается устойчивый рост в течение года в потреблении всех услуг провайдера: количества потраченных минут, отправленных смс и использованных гигабайт интернет-трафика. Эта тенденция характерна для обоих тарифов компании — Smart и Ultra;\n",
        "* несмотря на то, что тариф Ultra в четыре раза дороже тарифа Smart, общий объем по интернет-трафику и количеству звонков ниже лишь в два раза, а по количеству отправленных смс — даже почти в полтора. Это может означать, что пользователи, выбирающие более дорогой тариф, делают это исходя из своих реальных потребностей в большем количестве минут, смс и Гб;\n",
        "* пользователи более дорогого тарифа используют в месяц в среднем гораздо больше минут, смс и гигабайт в месяц, чем клиенты на более дешевом тарифе. Особенно это заметно на примере смс, в меньшей степени — в звонках, и меньше всего — в интернет-трафике;\n",
        "* дисперсия, как и стандартное отклонение, в тарифе ultra выше для звонков, смс и интернета:\n",
        "   * Звонки: Дисперсия и стандартное отклонение выше на тарифе Ультра, но пользователи этого тарифа всегда укладываются в установленные лимиты. Максимальное число минут разговора в месяц значительно меньше заложенных в него 3000.\n",
        "   * Сообщения: Дисперсия и стандартное отклонение выше на тарифе Ультра, но пользователи этого тарифа всегда укладываются в установленные лимиты. Максимальное число сообщений в месяц во много раз меньше заложенных в него 1000.\n",
        "   * Интернет: Дисперсия и стандартное отклонение выше на тарифе Ультра. Пользователи этого тарифа НЕ всегда укладываются в установленные лимиты (30 Гб), хотя и реже пользователей тарифа Смарт.\n"
      ]
    },
    {
      "cell_type": "markdown",
      "metadata": {
        "id": "zvtNnTxaUpqB"
      },
      "source": [
        "## 5. Гипотезы\n",
        "<a name=\"hypothesis\"></a>"
      ]
    },
    {
      "cell_type": "markdown",
      "metadata": {
        "id": "91lJHcUUUpqB"
      },
      "source": [
        "### Задача\n",
        "Проверьте гипотезы:\n",
        "* средняя выручка пользователей тарифов «Ультра» и «Смарт» различаются;\n",
        "* средняя выручка пользователей из Москвы отличается от выручки пользователей из других регионов.\n",
        "\n",
        "Поясните:\n",
        "* как вы формулировали нулевую и альтернативную гипотезы;\n",
        "* какой критерий использовали для проверки гипотез и почему."
      ]
    },
    {
      "cell_type": "markdown",
      "metadata": {
        "id": "rm5rA5efUpqB"
      },
      "source": [
        "**Сформулируем и проверим гипотезы**:\n",
        "* H₀: средняя выручка пользователей тарифов «Ультра» и «Смарт» равна;\n",
        "* H₁: средние выручки пользователей тарифов «Ультра» и «Смарт» отличаются.\n"
      ]
    },
    {
      "cell_type": "code",
      "execution_count": 167,
      "metadata": {
        "colab": {
          "base_uri": "https://localhost:8080/"
        },
        "id": "8GlH2lz0UpqB",
        "outputId": "08226569-04f5-4079-972a-17e4bc35aad6"
      },
      "outputs": [
        {
          "output_type": "stream",
          "name": "stdout",
          "text": [
            "p-значение: 4.2606313931076085e-250\n",
            "Отвергаем нулевую гипотезу\n"
          ]
        }
      ],
      "source": [
        "\n",
        "#создадим DataFrame с данными о выручке пользователей тарифов Smart и Ultra\n",
        "smart_revenue = joint_final.query('tariff_name == \"smart\"')['revenue'].reset_index(drop=True)\n",
        "ultra_revenue = joint_final.query('tariff_name == \"ultra\"')['revenue'].reset_index(drop=True)\n",
        "\n",
        "alpha = .05 # зададим критический уровень статистической значимости\n",
        "\n",
        "# \n",
        "results = st.ttest_ind(\n",
        "    smart_revenue, \n",
        "    ultra_revenue, \n",
        "    equal_var = False)\n",
        "\n",
        "print('p-значение:', results.pvalue)\n",
        "\n",
        "if results.pvalue < alpha:\n",
        "    print(\"Отвергаем нулевую гипотезу\")\n",
        "else:\n",
        "    print(\"Не получилось отвергнуть нулевую гипотезу\") \n"
      ]
    },
    {
      "cell_type": "code",
      "execution_count": 168,
      "metadata": {
        "colab": {
          "base_uri": "https://localhost:8080/",
          "height": 143
        },
        "id": "FjdH52esUpqB",
        "outputId": "7001c121-9f41-4316-dc88-cce66e45571a"
      },
      "outputs": [
        {
          "output_type": "execute_result",
          "data": {
            "text/plain": [
              "                 revenue\n",
              "tariff_name             \n",
              "smart        1289.973531\n",
              "ultra        2070.152284"
            ],
            "text/html": [
              "\n",
              "  <div id=\"df-19cd788c-7d03-4f3a-b68d-bfc890207638\">\n",
              "    <div class=\"colab-df-container\">\n",
              "      <div>\n",
              "<style scoped>\n",
              "    .dataframe tbody tr th:only-of-type {\n",
              "        vertical-align: middle;\n",
              "    }\n",
              "\n",
              "    .dataframe tbody tr th {\n",
              "        vertical-align: top;\n",
              "    }\n",
              "\n",
              "    .dataframe thead th {\n",
              "        text-align: right;\n",
              "    }\n",
              "</style>\n",
              "<table border=\"1\" class=\"dataframe\">\n",
              "  <thead>\n",
              "    <tr style=\"text-align: right;\">\n",
              "      <th></th>\n",
              "      <th>revenue</th>\n",
              "    </tr>\n",
              "    <tr>\n",
              "      <th>tariff_name</th>\n",
              "      <th></th>\n",
              "    </tr>\n",
              "  </thead>\n",
              "  <tbody>\n",
              "    <tr>\n",
              "      <th>smart</th>\n",
              "      <td>1289.973531</td>\n",
              "    </tr>\n",
              "    <tr>\n",
              "      <th>ultra</th>\n",
              "      <td>2070.152284</td>\n",
              "    </tr>\n",
              "  </tbody>\n",
              "</table>\n",
              "</div>\n",
              "      <button class=\"colab-df-convert\" onclick=\"convertToInteractive('df-19cd788c-7d03-4f3a-b68d-bfc890207638')\"\n",
              "              title=\"Convert this dataframe to an interactive table.\"\n",
              "              style=\"display:none;\">\n",
              "        \n",
              "  <svg xmlns=\"http://www.w3.org/2000/svg\" height=\"24px\"viewBox=\"0 0 24 24\"\n",
              "       width=\"24px\">\n",
              "    <path d=\"M0 0h24v24H0V0z\" fill=\"none\"/>\n",
              "    <path d=\"M18.56 5.44l.94 2.06.94-2.06 2.06-.94-2.06-.94-.94-2.06-.94 2.06-2.06.94zm-11 1L8.5 8.5l.94-2.06 2.06-.94-2.06-.94L8.5 2.5l-.94 2.06-2.06.94zm10 10l.94 2.06.94-2.06 2.06-.94-2.06-.94-.94-2.06-.94 2.06-2.06.94z\"/><path d=\"M17.41 7.96l-1.37-1.37c-.4-.4-.92-.59-1.43-.59-.52 0-1.04.2-1.43.59L10.3 9.45l-7.72 7.72c-.78.78-.78 2.05 0 2.83L4 21.41c.39.39.9.59 1.41.59.51 0 1.02-.2 1.41-.59l7.78-7.78 2.81-2.81c.8-.78.8-2.07 0-2.86zM5.41 20L4 18.59l7.72-7.72 1.47 1.35L5.41 20z\"/>\n",
              "  </svg>\n",
              "      </button>\n",
              "      \n",
              "  <style>\n",
              "    .colab-df-container {\n",
              "      display:flex;\n",
              "      flex-wrap:wrap;\n",
              "      gap: 12px;\n",
              "    }\n",
              "\n",
              "    .colab-df-convert {\n",
              "      background-color: #E8F0FE;\n",
              "      border: none;\n",
              "      border-radius: 50%;\n",
              "      cursor: pointer;\n",
              "      display: none;\n",
              "      fill: #1967D2;\n",
              "      height: 32px;\n",
              "      padding: 0 0 0 0;\n",
              "      width: 32px;\n",
              "    }\n",
              "\n",
              "    .colab-df-convert:hover {\n",
              "      background-color: #E2EBFA;\n",
              "      box-shadow: 0px 1px 2px rgba(60, 64, 67, 0.3), 0px 1px 3px 1px rgba(60, 64, 67, 0.15);\n",
              "      fill: #174EA6;\n",
              "    }\n",
              "\n",
              "    [theme=dark] .colab-df-convert {\n",
              "      background-color: #3B4455;\n",
              "      fill: #D2E3FC;\n",
              "    }\n",
              "\n",
              "    [theme=dark] .colab-df-convert:hover {\n",
              "      background-color: #434B5C;\n",
              "      box-shadow: 0px 1px 3px 1px rgba(0, 0, 0, 0.15);\n",
              "      filter: drop-shadow(0px 1px 2px rgba(0, 0, 0, 0.3));\n",
              "      fill: #FFFFFF;\n",
              "    }\n",
              "  </style>\n",
              "\n",
              "      <script>\n",
              "        const buttonEl =\n",
              "          document.querySelector('#df-19cd788c-7d03-4f3a-b68d-bfc890207638 button.colab-df-convert');\n",
              "        buttonEl.style.display =\n",
              "          google.colab.kernel.accessAllowed ? 'block' : 'none';\n",
              "\n",
              "        async function convertToInteractive(key) {\n",
              "          const element = document.querySelector('#df-19cd788c-7d03-4f3a-b68d-bfc890207638');\n",
              "          const dataTable =\n",
              "            await google.colab.kernel.invokeFunction('convertToInteractive',\n",
              "                                                     [key], {});\n",
              "          if (!dataTable) return;\n",
              "\n",
              "          const docLinkHtml = 'Like what you see? Visit the ' +\n",
              "            '<a target=\"_blank\" href=https://colab.research.google.com/notebooks/data_table.ipynb>data table notebook</a>'\n",
              "            + ' to learn more about interactive tables.';\n",
              "          element.innerHTML = '';\n",
              "          dataTable['output_type'] = 'display_data';\n",
              "          await google.colab.output.renderOutput(dataTable, element);\n",
              "          const docLink = document.createElement('div');\n",
              "          docLink.innerHTML = docLinkHtml;\n",
              "          element.appendChild(docLink);\n",
              "        }\n",
              "      </script>\n",
              "    </div>\n",
              "  </div>\n",
              "  "
            ]
          },
          "metadata": {},
          "execution_count": 168
        }
      ],
      "source": [
        "# Мы можем проверить результат, вычислив средние двух выборок — они небольшого размера\n",
        "joint_final.pivot_table(index='tariff_name', values='revenue')\n",
        "\n",
        "# Средние действительно не равны"
      ]
    },
    {
      "cell_type": "markdown",
      "metadata": {
        "id": "grOXAF3GUpqB"
      },
      "source": [
        "Мы сформулировали нулевую гипотезу о равенстве средней выручки пользователей тарифов «Ультра» и «Смарт», т.к. нулевой гипотезой всегда должно проверяться равенство. Альтернативной гипотезой, соответственно, будет неравенство. Для оценки мы использовали данные о помесячной выручке с каждого пользователя, рассчитанной из проанализированных данных.\n",
        "\n",
        "T-test показал, что:\n",
        "* мы отвергли нулевую гипотезу о равенстве средней выручки абонентов, использующих тариф «Ультра» и абонентов тарифа «Смарт»;\n",
        "* pvalue намного ниже заданного порогового значения в 5%, т.е. вероятность получить такой результат случайно чрезвычайно низка."
      ]
    },
    {
      "cell_type": "markdown",
      "metadata": {
        "id": "5A_5FUS5UpqC"
      },
      "source": [
        "**Сформулируем и проверим гипотезы**:\n",
        "* H₀: средняя выручка пользователей из Москвы и выручка пользователей из других регионов равны;\n",
        "* H₁: средняя выручка пользователей из Москвы отличается от выручки пользователей из других регионов."
      ]
    },
    {
      "cell_type": "code",
      "execution_count": 169,
      "metadata": {
        "colab": {
          "base_uri": "https://localhost:8080/"
        },
        "id": "QITolT5YUpqC",
        "outputId": "df98afe2-31dd-4a3e-ebb9-75644c86305f"
      },
      "outputs": [
        {
          "output_type": "stream",
          "name": "stdout",
          "text": [
            "p-значение: 0.5257376663729298\n",
            "Не получилось отвергнуть нулевую гипотезу\n"
          ]
        }
      ],
      "source": [
        "#создадим DataFrame с данными о выручке пользователей из Москвы и других регионов\n",
        "Moscow_revenue = joint_final.query('city == \"Москва\"')['revenue'].reset_index(drop=True)\n",
        "other_cities__revenue = joint_final.query('city != \"Москва\"')['revenue'].reset_index(drop=True)\n",
        "\n",
        "alpha = .05 # зададим критический уровень статистической значимости\n",
        "\n",
        "\n",
        "results = st.ttest_ind(\n",
        "    Moscow_revenue, \n",
        "    other_cities__revenue, \n",
        "    equal_var = False)\n",
        "\n",
        "print('p-значение:', results.pvalue)\n",
        "\n",
        "if results.pvalue < alpha:\n",
        "    print(\"Отвергаем нулевую гипотезу\")\n",
        "else:\n",
        "    print(\"Не получилось отвергнуть нулевую гипотезу\") "
      ]
    },
    {
      "cell_type": "code",
      "execution_count": 170,
      "metadata": {
        "colab": {
          "base_uri": "https://localhost:8080/",
          "height": 143
        },
        "id": "S_Ytq4yIUpqC",
        "outputId": "4a43d1b6-9db6-469d-d0b6-768537409a21"
      },
      "outputs": [
        {
          "output_type": "execute_result",
          "data": {
            "text/plain": [
              "                   revenue\n",
              "city_category             \n",
              "Другие         1524.936227\n",
              "Москва         1546.713584"
            ],
            "text/html": [
              "\n",
              "  <div id=\"df-2417dbe4-e67f-4dae-bf29-f509b94e3562\">\n",
              "    <div class=\"colab-df-container\">\n",
              "      <div>\n",
              "<style scoped>\n",
              "    .dataframe tbody tr th:only-of-type {\n",
              "        vertical-align: middle;\n",
              "    }\n",
              "\n",
              "    .dataframe tbody tr th {\n",
              "        vertical-align: top;\n",
              "    }\n",
              "\n",
              "    .dataframe thead th {\n",
              "        text-align: right;\n",
              "    }\n",
              "</style>\n",
              "<table border=\"1\" class=\"dataframe\">\n",
              "  <thead>\n",
              "    <tr style=\"text-align: right;\">\n",
              "      <th></th>\n",
              "      <th>revenue</th>\n",
              "    </tr>\n",
              "    <tr>\n",
              "      <th>city_category</th>\n",
              "      <th></th>\n",
              "    </tr>\n",
              "  </thead>\n",
              "  <tbody>\n",
              "    <tr>\n",
              "      <th>Другие</th>\n",
              "      <td>1524.936227</td>\n",
              "    </tr>\n",
              "    <tr>\n",
              "      <th>Москва</th>\n",
              "      <td>1546.713584</td>\n",
              "    </tr>\n",
              "  </tbody>\n",
              "</table>\n",
              "</div>\n",
              "      <button class=\"colab-df-convert\" onclick=\"convertToInteractive('df-2417dbe4-e67f-4dae-bf29-f509b94e3562')\"\n",
              "              title=\"Convert this dataframe to an interactive table.\"\n",
              "              style=\"display:none;\">\n",
              "        \n",
              "  <svg xmlns=\"http://www.w3.org/2000/svg\" height=\"24px\"viewBox=\"0 0 24 24\"\n",
              "       width=\"24px\">\n",
              "    <path d=\"M0 0h24v24H0V0z\" fill=\"none\"/>\n",
              "    <path d=\"M18.56 5.44l.94 2.06.94-2.06 2.06-.94-2.06-.94-.94-2.06-.94 2.06-2.06.94zm-11 1L8.5 8.5l.94-2.06 2.06-.94-2.06-.94L8.5 2.5l-.94 2.06-2.06.94zm10 10l.94 2.06.94-2.06 2.06-.94-2.06-.94-.94-2.06-.94 2.06-2.06.94z\"/><path d=\"M17.41 7.96l-1.37-1.37c-.4-.4-.92-.59-1.43-.59-.52 0-1.04.2-1.43.59L10.3 9.45l-7.72 7.72c-.78.78-.78 2.05 0 2.83L4 21.41c.39.39.9.59 1.41.59.51 0 1.02-.2 1.41-.59l7.78-7.78 2.81-2.81c.8-.78.8-2.07 0-2.86zM5.41 20L4 18.59l7.72-7.72 1.47 1.35L5.41 20z\"/>\n",
              "  </svg>\n",
              "      </button>\n",
              "      \n",
              "  <style>\n",
              "    .colab-df-container {\n",
              "      display:flex;\n",
              "      flex-wrap:wrap;\n",
              "      gap: 12px;\n",
              "    }\n",
              "\n",
              "    .colab-df-convert {\n",
              "      background-color: #E8F0FE;\n",
              "      border: none;\n",
              "      border-radius: 50%;\n",
              "      cursor: pointer;\n",
              "      display: none;\n",
              "      fill: #1967D2;\n",
              "      height: 32px;\n",
              "      padding: 0 0 0 0;\n",
              "      width: 32px;\n",
              "    }\n",
              "\n",
              "    .colab-df-convert:hover {\n",
              "      background-color: #E2EBFA;\n",
              "      box-shadow: 0px 1px 2px rgba(60, 64, 67, 0.3), 0px 1px 3px 1px rgba(60, 64, 67, 0.15);\n",
              "      fill: #174EA6;\n",
              "    }\n",
              "\n",
              "    [theme=dark] .colab-df-convert {\n",
              "      background-color: #3B4455;\n",
              "      fill: #D2E3FC;\n",
              "    }\n",
              "\n",
              "    [theme=dark] .colab-df-convert:hover {\n",
              "      background-color: #434B5C;\n",
              "      box-shadow: 0px 1px 3px 1px rgba(0, 0, 0, 0.15);\n",
              "      filter: drop-shadow(0px 1px 2px rgba(0, 0, 0, 0.3));\n",
              "      fill: #FFFFFF;\n",
              "    }\n",
              "  </style>\n",
              "\n",
              "      <script>\n",
              "        const buttonEl =\n",
              "          document.querySelector('#df-2417dbe4-e67f-4dae-bf29-f509b94e3562 button.colab-df-convert');\n",
              "        buttonEl.style.display =\n",
              "          google.colab.kernel.accessAllowed ? 'block' : 'none';\n",
              "\n",
              "        async function convertToInteractive(key) {\n",
              "          const element = document.querySelector('#df-2417dbe4-e67f-4dae-bf29-f509b94e3562');\n",
              "          const dataTable =\n",
              "            await google.colab.kernel.invokeFunction('convertToInteractive',\n",
              "                                                     [key], {});\n",
              "          if (!dataTable) return;\n",
              "\n",
              "          const docLinkHtml = 'Like what you see? Visit the ' +\n",
              "            '<a target=\"_blank\" href=https://colab.research.google.com/notebooks/data_table.ipynb>data table notebook</a>'\n",
              "            + ' to learn more about interactive tables.';\n",
              "          element.innerHTML = '';\n",
              "          dataTable['output_type'] = 'display_data';\n",
              "          await google.colab.output.renderOutput(dataTable, element);\n",
              "          const docLink = document.createElement('div');\n",
              "          docLink.innerHTML = docLinkHtml;\n",
              "          element.appendChild(docLink);\n",
              "        }\n",
              "      </script>\n",
              "    </div>\n",
              "  </div>\n",
              "  "
            ]
          },
          "metadata": {},
          "execution_count": 170
        }
      ],
      "source": [
        "# Мы можем проверить результат, вычислив средние двух выборок — они небольшого размера\n",
        "# Создадим новый столбец с категориями городов\n",
        "def city_cat(row):\n",
        "    city = row['city']\n",
        "    city_category = 0\n",
        "    if city == 'Москва':\n",
        "        city_category = 'Москва'\n",
        "    else:\n",
        "        city_category = 'Другие'\n",
        "    return city_category\n",
        "        \n",
        "        \n",
        "joint_final['city_category'] = joint_final.apply(city_cat, axis=1)\n",
        "\n",
        "joint_final.pivot_table(index='city_category', values='revenue')\n",
        "\n",
        "# Средние не равны, но показатели очень близки"
      ]
    },
    {
      "cell_type": "markdown",
      "metadata": {
        "id": "7TkJUpupUpqC"
      },
      "source": [
        "Мы сформулировали нулевую гипотезу о равенстве средней выручки пользователей из Москвы и других городов, т.к. нулевой гипотезой всегда должно проверяться равенство. Альтернативной гипотезой, соответственно, будет неравенство. Для оценки мы использовали данные о помесячной выручке с каждого пользователя, рассчитанной из проанализированных данных.\n",
        "\n",
        "T-test показал, что:\n",
        "\n",
        "* мы не можем отвергнуть нулевую гипотезу о равенстве средней выручки абонентов из Москвы и других городов;\n",
        "* pvalue составляет 53%, т.е. вероятность получить такой результат случайно достаточно велика."
      ]
    },
    {
      "cell_type": "markdown",
      "metadata": {
        "id": "x5v-Pq4nUpqC"
      },
      "source": [
        "## 6. Общий вывод\n",
        "<a name=\"sumup\"></a>"
      ]
    },
    {
      "cell_type": "markdown",
      "metadata": {
        "id": "TP4q8t2TUpqC"
      },
      "source": [
        "Для корректировки рекламного бюджета коммерческому департаменту компании «Мегалайн» необходимо было понять, какой тариф приносит больше денег: «Смарт» и «Ультра». Мы сделали предварительный анализ тарифов на небольшой выборке клиентов. В нашем распоряжении были данные 500 пользователей «Мегалайна»: кто они, откуда, каким тарифом пользуются, сколько звонков и сообщений каждый отправил за 2018 год. Мы проанализировали поведение клиентов, рассмотрели две гипотезы и сделали вывод.\n",
        "\n",
        "В ходе исследования мы проверили данные на ошибки и оценили их влияние на исследование. Затем мы устранили проблемы в данных и провели исследовательский анализ.\n",
        "\n",
        "Для каждого пользователя мы посчитали:\n",
        "\n",
        "   - количество сделанных звонков и израсходованных минут разговора по месяцам;\n",
        "   - количество отправленных сообщений по месяцам;\n",
        "   - объем израсходованного интернет-трафика по месяцам;\n",
        "   - помесячную выручку.\n",
        "\n",
        "На основании анализа мы сделали вывод, что наблюдается устойчивый рост потребления всех услуг провайдера в течение года: количества потраченных минут, отправленных смс и использованных гигабайт интернет-трафика. Эта тенденция характерна для обоих тарифов компании — Smart и Ultra. Общее количество пользователей в тарифе Ultra меньше (скорее всего из-за его стоимости - он в четыре раза дороже тарифа Smart), поэтому и общие показатели на графике ниже. Однако несмотря на то, что тариф Ultra дороже тарифа Smart, общий объем по интернет-трафику и количеству звонков ниже лишь в два раза, а по количеству отправленных смс — даже почти в полтора. Это может означать, что пользователи, выбирающие более дорогой тариф, делают это исходя из своих реальных потребностей в большем количестве минут, смс и Гб.\n",
        "\n",
        "- В среднем в месяц пользователи тарифа Smart разговаривают 421 минуту, отправляют 38 смс-сообщений и тратят 15 Гб трафика. Пользователи тарифа Ultra разговаривают 556 минут, отправляют 61 смс-сообщение и тратят 18 Гб трафика.\n",
        "Средние показатели подтверждают наше наблюдение: пользователи более дорогого тарифа используют гораздо больше минут, смс и гигабайт в месяц, чем клиенты на более дешевом тарифе. Особенно это заметно на примере смс, в меньшей степени — в звонках, и меньше всего — в интернет-трафике. На графиках, отражающих средние полказатели, менее заметен рост активности в течение года. Это скорее всего обусловлено тем, что количество абонентов провайдера росло, влияя на общие показатели потребления услуг. Однако средние цифры менялись не так стремительно.\n",
        "\n",
        "Дисперсия и стандартное отклонение выше на тарифе Ультра, но пользователи этого тарифа всегда укладываются в установленные лимиты. Максимальное число минут разговора в месяц значительно меньше заложенных в него 3000.\n",
        "Дисперсия и стандартное отклонение выше на тарифе Ультра, но пользователи этого тарифа всегда укладываются в установленные лимиты. Максимальное число сообщений в месяц во много раз меньше заложенных в него 1000.\n",
        "Дисперсия и стандартное отклонение выше на тарифе Ультра. Пользователи этого тарифа НЕ всегда укладываются в установленные лимиты, хоте и реже пользователей тарифа Смарт.\n",
        "\n",
        "Затем мы сформулировали нулевую гипотезу о равенстве средней выручки пользователей тарифов «Ультра» и «Смарт». Альтернативной гипотезой, соответственно, стало неравенство. Для оценки мы использовали данные о помесячной выручке с каждого пользователя, рассчитанной из проанализированных данных.\n",
        "\n",
        "В результате проведения T-test мы отвергли нулевую гипотезу о равенстве средней выручки абонентов, использующих тариф «Ультра» и абонентов тарифа «Смарт» (pvalue оказался намного ниже заданного порогового значения в 5%, т.е. вероятность получить такой результат случайно чрезвычайно низка).\n",
        "\n",
        "Затем мы сформулировали нулевую гипотезу о равенстве средней выручки пользователей из Москвы и других городов. Альтернативной гипотезой, соответственно, было неравенство. Для оценки мы также использовали данные о помесячной выручке с каждого пользователя, рассчитанной из проанализированных данных.\n",
        "\n",
        "T-test показал, что мы не можем отвергнуть нулевую гипотезу о равенстве средней выручки абонентов из Москвы и других городов (pvalue составил 53%, т.е. вероятность получить такой результат случайно достаточно велика).\n",
        "\n",
        "Исходя из поставленной цели мы можем сделать вывод, что несмотря на то, что в среднем каждый пользователь тарифа Ultra приносит компании в 1,6 раза больше денег, общая выручка от пользователей тарифа Smart в 1,4 раз выше."
      ]
    }
  ],
  "metadata": {
    "ExecuteTimeLog": [
      {
        "duration": 736,
        "start_time": "2022-05-13T18:41:17.936Z"
      },
      {
        "duration": 251,
        "start_time": "2022-05-13T18:41:31.284Z"
      },
      {
        "duration": 454,
        "start_time": "2022-05-13T18:42:25.057Z"
      },
      {
        "duration": 298,
        "start_time": "2022-05-13T18:43:19.159Z"
      },
      {
        "duration": 86,
        "start_time": "2022-05-13T18:43:56.942Z"
      },
      {
        "duration": 46,
        "start_time": "2022-05-13T18:44:12.043Z"
      },
      {
        "duration": 163,
        "start_time": "2022-05-13T18:44:48.620Z"
      },
      {
        "duration": 529,
        "start_time": "2022-05-13T18:45:57.476Z"
      },
      {
        "duration": 255,
        "start_time": "2022-05-13T18:46:17.531Z"
      },
      {
        "duration": 57,
        "start_time": "2022-05-13T18:54:19.671Z"
      },
      {
        "duration": 92,
        "start_time": "2022-05-13T18:54:35.051Z"
      },
      {
        "duration": 45,
        "start_time": "2022-05-13T18:55:52.052Z"
      },
      {
        "duration": 34,
        "start_time": "2022-05-13T18:55:59.893Z"
      },
      {
        "duration": 34,
        "start_time": "2022-05-13T18:56:13.248Z"
      },
      {
        "duration": 750,
        "start_time": "2022-05-13T18:56:22.097Z"
      },
      {
        "duration": 500,
        "start_time": "2022-05-13T18:56:22.849Z"
      },
      {
        "duration": 322,
        "start_time": "2022-05-13T18:56:23.350Z"
      },
      {
        "duration": 61,
        "start_time": "2022-05-13T18:56:23.675Z"
      },
      {
        "duration": 58,
        "start_time": "2022-05-13T18:56:23.738Z"
      },
      {
        "duration": 71,
        "start_time": "2022-05-13T18:56:23.798Z"
      },
      {
        "duration": 38,
        "start_time": "2022-05-13T18:58:41.500Z"
      },
      {
        "duration": 31,
        "start_time": "2022-05-13T18:59:49.211Z"
      },
      {
        "duration": 12,
        "start_time": "2022-05-13T19:03:08.281Z"
      },
      {
        "duration": 14,
        "start_time": "2022-05-13T19:03:33.146Z"
      },
      {
        "duration": 25,
        "start_time": "2022-05-13T19:03:40.616Z"
      },
      {
        "duration": 14,
        "start_time": "2022-05-13T19:07:27.385Z"
      },
      {
        "duration": 29,
        "start_time": "2022-05-13T19:07:59.869Z"
      },
      {
        "duration": 38,
        "start_time": "2022-05-13T19:08:44.222Z"
      },
      {
        "duration": 56,
        "start_time": "2022-05-13T19:21:54.580Z"
      },
      {
        "duration": 178,
        "start_time": "2022-05-13T19:22:13.879Z"
      },
      {
        "duration": 133,
        "start_time": "2022-05-13T19:24:03.713Z"
      },
      {
        "duration": 108,
        "start_time": "2022-05-13T19:26:17.151Z"
      },
      {
        "duration": 104,
        "start_time": "2022-05-13T19:26:33.195Z"
      },
      {
        "duration": 703,
        "start_time": "2022-05-13T19:26:49.206Z"
      },
      {
        "duration": 325,
        "start_time": "2022-05-13T19:26:49.911Z"
      },
      {
        "duration": 258,
        "start_time": "2022-05-13T19:26:50.237Z"
      },
      {
        "duration": 51,
        "start_time": "2022-05-13T19:26:50.497Z"
      },
      {
        "duration": 69,
        "start_time": "2022-05-13T19:26:50.550Z"
      },
      {
        "duration": 48,
        "start_time": "2022-05-13T19:26:50.622Z"
      },
      {
        "duration": 42,
        "start_time": "2022-05-13T19:26:50.672Z"
      },
      {
        "duration": 32,
        "start_time": "2022-05-13T19:26:50.715Z"
      },
      {
        "duration": 14,
        "start_time": "2022-05-13T19:26:50.748Z"
      },
      {
        "duration": 64,
        "start_time": "2022-05-13T19:26:50.764Z"
      },
      {
        "duration": 211,
        "start_time": "2022-05-13T19:26:50.830Z"
      },
      {
        "duration": 1804,
        "start_time": "2022-05-13T19:26:51.042Z"
      },
      {
        "duration": 137,
        "start_time": "2022-05-13T19:27:10.085Z"
      },
      {
        "duration": 132,
        "start_time": "2022-05-13T19:27:19.306Z"
      },
      {
        "duration": 147,
        "start_time": "2022-05-13T19:28:07.300Z"
      },
      {
        "duration": 148,
        "start_time": "2022-05-13T19:28:22.194Z"
      },
      {
        "duration": 196,
        "start_time": "2022-05-13T19:29:04.295Z"
      },
      {
        "duration": 145,
        "start_time": "2022-05-13T19:29:10.895Z"
      },
      {
        "duration": 145,
        "start_time": "2022-05-13T19:29:25.473Z"
      },
      {
        "duration": 207,
        "start_time": "2022-05-13T19:29:52.165Z"
      },
      {
        "duration": 208,
        "start_time": "2022-05-13T19:30:29.902Z"
      },
      {
        "duration": 143,
        "start_time": "2022-05-13T19:30:43.979Z"
      },
      {
        "duration": 137,
        "start_time": "2022-05-13T19:31:17.544Z"
      },
      {
        "duration": 326,
        "start_time": "2022-05-13T19:36:57.854Z"
      },
      {
        "duration": 983,
        "start_time": "2022-05-13T19:37:33.624Z"
      },
      {
        "duration": 259,
        "start_time": "2022-05-13T19:37:34.609Z"
      },
      {
        "duration": 260,
        "start_time": "2022-05-13T19:37:34.869Z"
      },
      {
        "duration": 1052,
        "start_time": "2022-05-13T19:37:35.131Z"
      },
      {
        "duration": 59,
        "start_time": "2022-05-13T19:37:36.185Z"
      },
      {
        "duration": 47,
        "start_time": "2022-05-13T19:37:36.246Z"
      },
      {
        "duration": 35,
        "start_time": "2022-05-13T19:37:36.295Z"
      },
      {
        "duration": 31,
        "start_time": "2022-05-13T19:37:36.331Z"
      },
      {
        "duration": 34,
        "start_time": "2022-05-13T19:37:36.364Z"
      },
      {
        "duration": 42,
        "start_time": "2022-05-13T19:37:36.401Z"
      },
      {
        "duration": 212,
        "start_time": "2022-05-13T19:37:36.445Z"
      },
      {
        "duration": 1737,
        "start_time": "2022-05-13T19:38:56.842Z"
      },
      {
        "duration": 291,
        "start_time": "2022-05-13T19:38:58.581Z"
      },
      {
        "duration": 223,
        "start_time": "2022-05-13T19:38:58.873Z"
      },
      {
        "duration": 1060,
        "start_time": "2022-05-13T19:38:59.098Z"
      },
      {
        "duration": 130,
        "start_time": "2022-05-13T19:39:00.159Z"
      },
      {
        "duration": 48,
        "start_time": "2022-05-13T19:39:00.291Z"
      },
      {
        "duration": 38,
        "start_time": "2022-05-13T19:39:00.341Z"
      },
      {
        "duration": 37,
        "start_time": "2022-05-13T19:39:00.381Z"
      },
      {
        "duration": 13,
        "start_time": "2022-05-13T19:39:00.419Z"
      },
      {
        "duration": 56,
        "start_time": "2022-05-13T19:39:00.434Z"
      },
      {
        "duration": 188,
        "start_time": "2022-05-13T19:39:00.492Z"
      },
      {
        "duration": 757,
        "start_time": "2022-05-18T18:43:07.592Z"
      },
      {
        "duration": 403,
        "start_time": "2022-05-18T18:43:08.351Z"
      },
      {
        "duration": 259,
        "start_time": "2022-05-18T18:43:08.756Z"
      },
      {
        "duration": 84,
        "start_time": "2022-05-18T18:43:09.018Z"
      },
      {
        "duration": 109,
        "start_time": "2022-05-18T18:43:09.104Z"
      },
      {
        "duration": 93,
        "start_time": "2022-05-18T18:43:09.215Z"
      },
      {
        "duration": 63,
        "start_time": "2022-05-18T18:43:09.310Z"
      },
      {
        "duration": 58,
        "start_time": "2022-05-18T18:43:09.376Z"
      },
      {
        "duration": 14,
        "start_time": "2022-05-18T18:43:09.436Z"
      },
      {
        "duration": 66,
        "start_time": "2022-05-18T18:43:09.454Z"
      },
      {
        "duration": 210,
        "start_time": "2022-05-18T18:43:09.521Z"
      },
      {
        "duration": 225,
        "start_time": "2022-05-18T18:43:09.734Z"
      },
      {
        "duration": 218,
        "start_time": "2022-05-18T18:43:09.960Z"
      },
      {
        "duration": 122,
        "start_time": "2022-05-18T18:43:10.180Z"
      },
      {
        "duration": 21,
        "start_time": "2022-05-18T18:43:10.303Z"
      },
      {
        "duration": 24,
        "start_time": "2022-05-18T18:43:10.326Z"
      },
      {
        "duration": 69,
        "start_time": "2022-05-18T18:43:10.394Z"
      },
      {
        "duration": 49,
        "start_time": "2022-05-18T18:43:10.464Z"
      },
      {
        "duration": 28,
        "start_time": "2022-05-18T18:43:10.515Z"
      },
      {
        "duration": 69,
        "start_time": "2022-05-18T18:43:10.545Z"
      },
      {
        "duration": 198,
        "start_time": "2022-05-18T18:43:10.619Z"
      },
      {
        "duration": 27,
        "start_time": "2022-05-18T18:43:10.821Z"
      },
      {
        "duration": 1284,
        "start_time": "2022-05-18T18:43:10.851Z"
      },
      {
        "duration": 423,
        "start_time": "2022-05-18T18:43:12.137Z"
      },
      {
        "duration": 352,
        "start_time": "2022-05-18T18:43:12.562Z"
      },
      {
        "duration": 362,
        "start_time": "2022-05-18T18:43:12.916Z"
      },
      {
        "duration": 8,
        "start_time": "2022-05-18T18:43:13.280Z"
      },
      {
        "duration": 49,
        "start_time": "2022-05-18T18:43:13.295Z"
      },
      {
        "duration": 377,
        "start_time": "2022-05-18T18:43:13.346Z"
      },
      {
        "duration": 407,
        "start_time": "2022-05-18T18:43:13.726Z"
      },
      {
        "duration": 328,
        "start_time": "2022-05-18T18:43:14.135Z"
      },
      {
        "duration": 11,
        "start_time": "2022-05-18T18:43:14.465Z"
      },
      {
        "duration": 25,
        "start_time": "2022-05-18T18:43:14.478Z"
      },
      {
        "duration": 17,
        "start_time": "2022-05-18T18:43:14.506Z"
      },
      {
        "duration": 16,
        "start_time": "2022-05-18T18:43:14.525Z"
      },
      {
        "duration": 14,
        "start_time": "2022-05-18T18:43:14.543Z"
      },
      {
        "duration": 80,
        "start_time": "2022-05-18T18:43:14.559Z"
      },
      {
        "duration": 15,
        "start_time": "2022-05-18T19:05:56.076Z"
      },
      {
        "duration": 48,
        "start_time": "2022-05-18T19:10:32.813Z"
      },
      {
        "duration": 12,
        "start_time": "2022-05-18T19:11:41.189Z"
      },
      {
        "duration": 6,
        "start_time": "2022-05-18T19:12:09.781Z"
      },
      {
        "duration": 15,
        "start_time": "2022-05-18T19:17:46.419Z"
      },
      {
        "duration": 18,
        "start_time": "2022-05-18T19:20:49.762Z"
      },
      {
        "duration": 1047,
        "start_time": "2022-05-18T19:26:03.050Z"
      },
      {
        "duration": 234,
        "start_time": "2022-05-18T19:26:20.285Z"
      },
      {
        "duration": 48,
        "start_time": "2022-05-18T19:49:38.296Z"
      },
      {
        "duration": 430,
        "start_time": "2022-05-20T09:55:10.302Z"
      },
      {
        "duration": 398,
        "start_time": "2022-05-20T09:55:10.734Z"
      },
      {
        "duration": 333,
        "start_time": "2022-05-20T09:55:11.134Z"
      },
      {
        "duration": 206,
        "start_time": "2022-05-20T09:55:11.469Z"
      },
      {
        "duration": 104,
        "start_time": "2022-05-20T09:55:11.683Z"
      },
      {
        "duration": 120,
        "start_time": "2022-05-20T09:55:11.788Z"
      },
      {
        "duration": 48,
        "start_time": "2022-05-20T09:55:11.910Z"
      },
      {
        "duration": 42,
        "start_time": "2022-05-20T09:55:11.960Z"
      },
      {
        "duration": 30,
        "start_time": "2022-05-20T09:55:12.005Z"
      },
      {
        "duration": 14,
        "start_time": "2022-05-20T09:55:12.038Z"
      },
      {
        "duration": 67,
        "start_time": "2022-05-20T09:55:12.053Z"
      },
      {
        "duration": 249,
        "start_time": "2022-05-20T09:55:12.121Z"
      },
      {
        "duration": 148,
        "start_time": "2022-05-20T09:55:12.372Z"
      },
      {
        "duration": 191,
        "start_time": "2022-05-20T09:55:12.522Z"
      },
      {
        "duration": 106,
        "start_time": "2022-05-20T09:55:12.715Z"
      },
      {
        "duration": 31,
        "start_time": "2022-05-20T09:55:12.822Z"
      },
      {
        "duration": 62,
        "start_time": "2022-05-20T09:55:12.854Z"
      },
      {
        "duration": 215,
        "start_time": "2022-05-20T09:55:12.918Z"
      },
      {
        "duration": 2,
        "start_time": "2022-05-20T09:55:13.135Z"
      },
      {
        "duration": 91,
        "start_time": "2022-05-20T09:55:13.139Z"
      },
      {
        "duration": 35,
        "start_time": "2022-05-20T09:55:13.232Z"
      },
      {
        "duration": 25,
        "start_time": "2022-05-20T09:55:13.283Z"
      },
      {
        "duration": 37,
        "start_time": "2022-05-20T09:55:13.310Z"
      },
      {
        "duration": 155,
        "start_time": "2022-05-20T09:55:13.349Z"
      },
      {
        "duration": 19,
        "start_time": "2022-05-20T09:55:13.506Z"
      },
      {
        "duration": 782,
        "start_time": "2022-05-20T09:55:13.527Z"
      },
      {
        "duration": 111,
        "start_time": "2022-05-20T09:55:14.310Z"
      },
      {
        "duration": 333,
        "start_time": "2022-05-20T09:55:14.425Z"
      },
      {
        "duration": 247,
        "start_time": "2022-05-20T09:55:14.759Z"
      },
      {
        "duration": 8,
        "start_time": "2022-05-20T09:55:15.008Z"
      },
      {
        "duration": 44,
        "start_time": "2022-05-20T09:55:15.018Z"
      },
      {
        "duration": 232,
        "start_time": "2022-05-20T09:55:15.064Z"
      },
      {
        "duration": 218,
        "start_time": "2022-05-20T09:55:15.297Z"
      },
      {
        "duration": 223,
        "start_time": "2022-05-20T09:55:15.516Z"
      },
      {
        "duration": 24,
        "start_time": "2022-05-20T09:55:15.741Z"
      },
      {
        "duration": 33,
        "start_time": "2022-05-20T09:55:15.767Z"
      },
      {
        "duration": 20,
        "start_time": "2022-05-20T09:55:15.802Z"
      },
      {
        "duration": 10,
        "start_time": "2022-05-20T09:55:15.824Z"
      },
      {
        "duration": 51,
        "start_time": "2022-05-20T09:55:15.835Z"
      },
      {
        "duration": 11,
        "start_time": "2022-05-20T09:55:15.888Z"
      },
      {
        "duration": 36,
        "start_time": "2022-05-20T09:55:15.900Z"
      },
      {
        "duration": 111,
        "start_time": "2022-05-20T10:04:52.397Z"
      },
      {
        "duration": 216,
        "start_time": "2022-05-20T10:05:02.780Z"
      },
      {
        "duration": 8,
        "start_time": "2022-05-20T10:05:37.509Z"
      },
      {
        "duration": 228,
        "start_time": "2022-05-20T10:06:06.505Z"
      },
      {
        "duration": 43,
        "start_time": "2022-05-20T10:26:50.833Z"
      },
      {
        "duration": 4,
        "start_time": "2022-05-20T10:27:29.157Z"
      },
      {
        "duration": 242,
        "start_time": "2022-05-20T10:27:37.711Z"
      },
      {
        "duration": 22,
        "start_time": "2022-05-20T10:27:42.044Z"
      },
      {
        "duration": 35,
        "start_time": "2022-05-20T10:27:55.522Z"
      },
      {
        "duration": 26,
        "start_time": "2022-05-20T10:30:07.968Z"
      },
      {
        "duration": 23,
        "start_time": "2022-05-20T10:30:09.152Z"
      },
      {
        "duration": 22,
        "start_time": "2022-05-20T10:30:39.521Z"
      },
      {
        "duration": 13,
        "start_time": "2022-05-20T10:55:15.204Z"
      },
      {
        "duration": 483,
        "start_time": "2022-05-20T10:56:33.065Z"
      },
      {
        "duration": 356,
        "start_time": "2022-05-20T10:56:33.550Z"
      },
      {
        "duration": 289,
        "start_time": "2022-05-20T10:56:33.907Z"
      },
      {
        "duration": 199,
        "start_time": "2022-05-20T10:56:34.199Z"
      },
      {
        "duration": 77,
        "start_time": "2022-05-20T10:56:34.400Z"
      },
      {
        "duration": 127,
        "start_time": "2022-05-20T10:56:34.478Z"
      },
      {
        "duration": 47,
        "start_time": "2022-05-20T10:56:34.606Z"
      },
      {
        "duration": 57,
        "start_time": "2022-05-20T10:56:34.655Z"
      },
      {
        "duration": 30,
        "start_time": "2022-05-20T10:56:34.714Z"
      },
      {
        "duration": 13,
        "start_time": "2022-05-20T10:56:34.747Z"
      },
      {
        "duration": 90,
        "start_time": "2022-05-20T10:56:34.761Z"
      },
      {
        "duration": 232,
        "start_time": "2022-05-20T10:56:34.852Z"
      },
      {
        "duration": 159,
        "start_time": "2022-05-20T10:56:35.086Z"
      },
      {
        "duration": 188,
        "start_time": "2022-05-20T10:56:35.246Z"
      },
      {
        "duration": 104,
        "start_time": "2022-05-20T10:56:35.435Z"
      },
      {
        "duration": 53,
        "start_time": "2022-05-20T10:56:35.540Z"
      },
      {
        "duration": 26,
        "start_time": "2022-05-20T10:56:35.595Z"
      },
      {
        "duration": 201,
        "start_time": "2022-05-20T10:56:35.622Z"
      },
      {
        "duration": 2,
        "start_time": "2022-05-20T10:56:35.825Z"
      },
      {
        "duration": 92,
        "start_time": "2022-05-20T10:56:35.828Z"
      },
      {
        "duration": 35,
        "start_time": "2022-05-20T10:56:35.921Z"
      },
      {
        "duration": 40,
        "start_time": "2022-05-20T10:56:35.957Z"
      },
      {
        "duration": 39,
        "start_time": "2022-05-20T10:56:35.999Z"
      },
      {
        "duration": 149,
        "start_time": "2022-05-20T10:56:36.039Z"
      },
      {
        "duration": 18,
        "start_time": "2022-05-20T10:56:36.189Z"
      },
      {
        "duration": 746,
        "start_time": "2022-05-20T10:56:36.209Z"
      },
      {
        "duration": 114,
        "start_time": "2022-05-20T10:56:36.956Z"
      },
      {
        "duration": 337,
        "start_time": "2022-05-20T10:56:37.083Z"
      },
      {
        "duration": 257,
        "start_time": "2022-05-20T10:56:37.421Z"
      },
      {
        "duration": 7,
        "start_time": "2022-05-20T10:56:37.683Z"
      },
      {
        "duration": 56,
        "start_time": "2022-05-20T10:56:37.692Z"
      },
      {
        "duration": 293,
        "start_time": "2022-05-20T10:56:37.750Z"
      },
      {
        "duration": 241,
        "start_time": "2022-05-20T10:56:38.045Z"
      },
      {
        "duration": 220,
        "start_time": "2022-05-20T10:56:38.287Z"
      },
      {
        "duration": 21,
        "start_time": "2022-05-20T10:56:38.509Z"
      },
      {
        "duration": 35,
        "start_time": "2022-05-20T10:56:38.531Z"
      },
      {
        "duration": 40,
        "start_time": "2022-05-20T10:56:38.568Z"
      },
      {
        "duration": 10,
        "start_time": "2022-05-20T10:56:38.610Z"
      },
      {
        "duration": 31,
        "start_time": "2022-05-20T10:56:38.622Z"
      },
      {
        "duration": 18,
        "start_time": "2022-05-20T10:56:38.655Z"
      },
      {
        "duration": 56,
        "start_time": "2022-05-20T10:56:38.675Z"
      },
      {
        "duration": 413,
        "start_time": "2022-05-22T12:41:50.824Z"
      },
      {
        "duration": 330,
        "start_time": "2022-05-22T12:41:51.238Z"
      },
      {
        "duration": 306,
        "start_time": "2022-05-22T12:41:51.570Z"
      },
      {
        "duration": 328,
        "start_time": "2022-05-22T12:41:51.878Z"
      },
      {
        "duration": 95,
        "start_time": "2022-05-22T12:41:52.208Z"
      },
      {
        "duration": 76,
        "start_time": "2022-05-22T12:41:52.305Z"
      },
      {
        "duration": 41,
        "start_time": "2022-05-22T12:41:52.382Z"
      },
      {
        "duration": 48,
        "start_time": "2022-05-22T12:41:52.424Z"
      },
      {
        "duration": 27,
        "start_time": "2022-05-22T12:41:52.474Z"
      },
      {
        "duration": 12,
        "start_time": "2022-05-22T12:41:52.503Z"
      },
      {
        "duration": 51,
        "start_time": "2022-05-22T12:41:52.529Z"
      },
      {
        "duration": 227,
        "start_time": "2022-05-22T12:41:52.581Z"
      },
      {
        "duration": 169,
        "start_time": "2022-05-22T12:41:52.809Z"
      },
      {
        "duration": 182,
        "start_time": "2022-05-22T12:41:52.980Z"
      },
      {
        "duration": 96,
        "start_time": "2022-05-22T12:41:53.164Z"
      },
      {
        "duration": 34,
        "start_time": "2022-05-22T12:41:53.267Z"
      },
      {
        "duration": 65,
        "start_time": "2022-05-22T12:41:53.303Z"
      },
      {
        "duration": 184,
        "start_time": "2022-05-22T12:41:53.370Z"
      },
      {
        "duration": 2,
        "start_time": "2022-05-22T12:41:53.562Z"
      },
      {
        "duration": 102,
        "start_time": "2022-05-22T12:41:53.566Z"
      },
      {
        "duration": 40,
        "start_time": "2022-05-22T12:41:53.670Z"
      },
      {
        "duration": 33,
        "start_time": "2022-05-22T12:41:53.712Z"
      },
      {
        "duration": 41,
        "start_time": "2022-05-22T12:41:53.750Z"
      },
      {
        "duration": 9,
        "start_time": "2022-05-22T12:41:53.793Z"
      },
      {
        "duration": 176,
        "start_time": "2022-05-22T12:41:53.804Z"
      },
      {
        "duration": 18,
        "start_time": "2022-05-22T12:41:53.982Z"
      },
      {
        "duration": 679,
        "start_time": "2022-05-22T12:41:54.001Z"
      },
      {
        "duration": 3,
        "start_time": "2022-05-22T12:41:54.683Z"
      },
      {
        "duration": 12,
        "start_time": "2022-05-22T12:41:54.688Z"
      },
      {
        "duration": 59,
        "start_time": "2022-05-22T12:41:54.702Z"
      },
      {
        "duration": 330,
        "start_time": "2022-05-22T12:41:54.768Z"
      },
      {
        "duration": 256,
        "start_time": "2022-05-22T12:41:55.100Z"
      },
      {
        "duration": 217,
        "start_time": "2022-05-22T12:41:55.357Z"
      },
      {
        "duration": 22,
        "start_time": "2022-05-22T12:41:55.575Z"
      },
      {
        "duration": 47,
        "start_time": "2022-05-22T12:41:55.598Z"
      },
      {
        "duration": 27,
        "start_time": "2022-05-22T12:41:55.646Z"
      },
      {
        "duration": 11,
        "start_time": "2022-05-22T12:41:55.674Z"
      },
      {
        "duration": 15,
        "start_time": "2022-05-22T12:41:55.687Z"
      },
      {
        "duration": 31,
        "start_time": "2022-05-22T12:41:55.704Z"
      },
      {
        "duration": 60,
        "start_time": "2022-05-22T12:41:55.736Z"
      }
    ],
    "kernelspec": {
      "display_name": "Python 3 (ipykernel)",
      "language": "python",
      "name": "python3"
    },
    "language_info": {
      "codemirror_mode": {
        "name": "ipython",
        "version": 3
      },
      "file_extension": ".py",
      "mimetype": "text/x-python",
      "name": "python",
      "nbconvert_exporter": "python",
      "pygments_lexer": "ipython3",
      "version": "3.9.5"
    },
    "toc": {
      "base_numbering": 1,
      "nav_menu": {},
      "number_sections": true,
      "sideBar": true,
      "skip_h1_title": true,
      "title_cell": "Table of Contents",
      "title_sidebar": "Contents",
      "toc_cell": false,
      "toc_position": {},
      "toc_section_display": true,
      "toc_window_display": false
    },
    "colab": {
      "provenance": []
    }
  },
  "nbformat": 4,
  "nbformat_minor": 0
}