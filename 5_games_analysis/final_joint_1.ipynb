{
  "cells": [
    {
      "cell_type": "markdown",
      "id": "9d84fcb6",
      "metadata": {
        "id": "9d84fcb6"
      },
      "source": [
        "## Оглавление\n",
        "1. [Изучение данных из файла](#read_data)\n",
        "2. [Предобработка данных](#pre_processing)\n",
        "3. [Расчёты и добавление результатов в таблицу](#add_results)\n",
        "4. [Исследовательский анализ данных](#research)\n",
        "5. [Портрет пользователя каждого региона](#user)\n",
        "6. [Гипотезы](#hypothesis)\n",
        "7. [Общий вывод](#sumup)\n",
        "\n"
      ]
    },
    {
      "cell_type": "markdown",
      "id": "4da0bdc9",
      "metadata": {
        "id": "4da0bdc9"
      },
      "source": [
        "# Определение закономерностей, влияющих на успешность игр\n",
        "Из открытых источников нам доступны исторические данные о продажах игр, оценки пользователей и экспертов, жанры и платформы (например, Xbox или PlayStation), определяющие успешность игры закономерности. Это позволит сделать ставку на потенциально популярный продукт и спланировать рекламные кампании.\n",
        "\n",
        "В наборе данных попадается аббревиатура ESRB (Entertainment Software Rating Board) — это ассоциация, определяющая возрастной рейтинг компьютерных игр. ESRB оценивает игровой контент и присваивает ему подходящую возрастную категорию, например, «Для взрослых», «Для детей младшего возраста» или «Для подростков».\n",
        "\n",
        "**Цель исследования** — необходимо выявить определяющие успешность игры закономерности. Это позволит сделать ставку на потенциально популярный продукт и спланировать рекламные кампании.\n",
        "\n",
        "**Ход исследования**\n",
        "\n",
        "Перед проверкой гипотез понадобится обзор и предобработка данных данных.\n",
        "\n",
        "Необходимо проверить данные на ошибки и оценить их влияние на исследование. Затем мы устраним проблемы, проведем исследовательский анализ данных и проверим гипотезы.\n",
        "\n",
        "Таким образом, исследование пройдёт в шесть этапов:\n",
        "\n",
        "1. Обзор данных.\n",
        "2. Предобработка данных.\n",
        "3. Расчеты и добавление результатов.\n",
        "4. Исследовательский анализ:\n",
        " * проверим, сколько игр выпускалось в разные годы;\n",
        " * посмотрим, как менялись продажи по платформам;\n",
        " * узнаем, за какой характерный срок появляются новые и исчезают старые платформы;\n",
        " * проверим, какие платформы лидируют по продажам, растут или падают и выберем несколько потенциально прибыльных платформ;\n",
        " * построим график «ящик с усами» по глобальным продажам игр в разбивке по платформам;\n",
        " * посмотрим, как влияют на продажи внутри одной популярной платформы отзывы пользователей и критиков и соотнесем выводы с продажами игр на других платформах;\n",
        " * посмотрим на общее распределение игр по жанрам и выделим самые прибыльные жанры.\n",
        "5. Составление портрета пользователя каждого региона (NA, EU, JP):\n",
        "  * Самые популярные платформы (топ-5);\n",
        "  * Самые популярные жанры (топ-5);\n",
        "  * Влияет ли рейтинг ESRB на продажи в отдельном регионе?\n",
        "6. Проверка гипотез:\n",
        "Узнаем:\n",
        " * равны ли средние пользовательские рейтинги платформ Xbox One и PC;\n",
        " * равны ли средние пользовательские рейтинги жанров Action и Sports."
      ]
    },
    {
      "cell_type": "markdown",
      "id": "64a22964",
      "metadata": {
        "id": "64a22964"
      },
      "source": [
        "## 1. Изучение данных из файла\n",
        "<a name=\"read_data\"></a>"
      ]
    },
    {
      "cell_type": "markdown",
      "id": "80fbe9fa",
      "metadata": {
        "id": "80fbe9fa"
      },
      "source": [
        "Из открытых источников доступны исторические данные о продажах игр, оценки пользователей и экспертов, жанры и платформы до 2016 года."
      ]
    },
    {
      "cell_type": "code",
      "execution_count": 428,
      "id": "0ad5e15c",
      "metadata": {
        "id": "0ad5e15c"
      },
      "outputs": [],
      "source": [
        "import pandas as pd \n",
        "import matplotlib.pyplot as plt\n",
        "import seaborn as sns\n",
        "import numpy as np\n",
        "from scipy import stats as st"
      ]
    },
    {
      "cell_type": "code",
      "execution_count": 429,
      "id": "a192f117",
      "metadata": {
        "colab": {
          "base_uri": "https://localhost:8080/",
          "height": 206
        },
        "id": "a192f117",
        "outputId": "21688fa9-9dd4-40e4-8dd0-d65c39d39b91"
      },
      "outputs": [
        {
          "output_type": "execute_result",
          "data": {
            "text/plain": [
              "                       Name Platform  Year_of_Release         Genre  NA_sales  \\\n",
              "0                Wii Sports      Wii           2006.0        Sports     41.36   \n",
              "1         Super Mario Bros.      NES           1985.0      Platform     29.08   \n",
              "2            Mario Kart Wii      Wii           2008.0        Racing     15.68   \n",
              "3         Wii Sports Resort      Wii           2009.0        Sports     15.61   \n",
              "4  Pokemon Red/Pokemon Blue       GB           1996.0  Role-Playing     11.27   \n",
              "\n",
              "   EU_sales  JP_sales  Other_sales  Critic_Score User_Score Rating  \n",
              "0     28.96      3.77         8.45          76.0          8      E  \n",
              "1      3.58      6.81         0.77           NaN        NaN    NaN  \n",
              "2     12.76      3.79         3.29          82.0        8.3      E  \n",
              "3     10.93      3.28         2.95          80.0          8      E  \n",
              "4      8.89     10.22         1.00           NaN        NaN    NaN  "
            ],
            "text/html": [
              "\n",
              "  <div id=\"df-b098df1a-4301-4ecc-af27-556156af9c0f\">\n",
              "    <div class=\"colab-df-container\">\n",
              "      <div>\n",
              "<style scoped>\n",
              "    .dataframe tbody tr th:only-of-type {\n",
              "        vertical-align: middle;\n",
              "    }\n",
              "\n",
              "    .dataframe tbody tr th {\n",
              "        vertical-align: top;\n",
              "    }\n",
              "\n",
              "    .dataframe thead th {\n",
              "        text-align: right;\n",
              "    }\n",
              "</style>\n",
              "<table border=\"1\" class=\"dataframe\">\n",
              "  <thead>\n",
              "    <tr style=\"text-align: right;\">\n",
              "      <th></th>\n",
              "      <th>Name</th>\n",
              "      <th>Platform</th>\n",
              "      <th>Year_of_Release</th>\n",
              "      <th>Genre</th>\n",
              "      <th>NA_sales</th>\n",
              "      <th>EU_sales</th>\n",
              "      <th>JP_sales</th>\n",
              "      <th>Other_sales</th>\n",
              "      <th>Critic_Score</th>\n",
              "      <th>User_Score</th>\n",
              "      <th>Rating</th>\n",
              "    </tr>\n",
              "  </thead>\n",
              "  <tbody>\n",
              "    <tr>\n",
              "      <th>0</th>\n",
              "      <td>Wii Sports</td>\n",
              "      <td>Wii</td>\n",
              "      <td>2006.0</td>\n",
              "      <td>Sports</td>\n",
              "      <td>41.36</td>\n",
              "      <td>28.96</td>\n",
              "      <td>3.77</td>\n",
              "      <td>8.45</td>\n",
              "      <td>76.0</td>\n",
              "      <td>8</td>\n",
              "      <td>E</td>\n",
              "    </tr>\n",
              "    <tr>\n",
              "      <th>1</th>\n",
              "      <td>Super Mario Bros.</td>\n",
              "      <td>NES</td>\n",
              "      <td>1985.0</td>\n",
              "      <td>Platform</td>\n",
              "      <td>29.08</td>\n",
              "      <td>3.58</td>\n",
              "      <td>6.81</td>\n",
              "      <td>0.77</td>\n",
              "      <td>NaN</td>\n",
              "      <td>NaN</td>\n",
              "      <td>NaN</td>\n",
              "    </tr>\n",
              "    <tr>\n",
              "      <th>2</th>\n",
              "      <td>Mario Kart Wii</td>\n",
              "      <td>Wii</td>\n",
              "      <td>2008.0</td>\n",
              "      <td>Racing</td>\n",
              "      <td>15.68</td>\n",
              "      <td>12.76</td>\n",
              "      <td>3.79</td>\n",
              "      <td>3.29</td>\n",
              "      <td>82.0</td>\n",
              "      <td>8.3</td>\n",
              "      <td>E</td>\n",
              "    </tr>\n",
              "    <tr>\n",
              "      <th>3</th>\n",
              "      <td>Wii Sports Resort</td>\n",
              "      <td>Wii</td>\n",
              "      <td>2009.0</td>\n",
              "      <td>Sports</td>\n",
              "      <td>15.61</td>\n",
              "      <td>10.93</td>\n",
              "      <td>3.28</td>\n",
              "      <td>2.95</td>\n",
              "      <td>80.0</td>\n",
              "      <td>8</td>\n",
              "      <td>E</td>\n",
              "    </tr>\n",
              "    <tr>\n",
              "      <th>4</th>\n",
              "      <td>Pokemon Red/Pokemon Blue</td>\n",
              "      <td>GB</td>\n",
              "      <td>1996.0</td>\n",
              "      <td>Role-Playing</td>\n",
              "      <td>11.27</td>\n",
              "      <td>8.89</td>\n",
              "      <td>10.22</td>\n",
              "      <td>1.00</td>\n",
              "      <td>NaN</td>\n",
              "      <td>NaN</td>\n",
              "      <td>NaN</td>\n",
              "    </tr>\n",
              "  </tbody>\n",
              "</table>\n",
              "</div>\n",
              "      <button class=\"colab-df-convert\" onclick=\"convertToInteractive('df-b098df1a-4301-4ecc-af27-556156af9c0f')\"\n",
              "              title=\"Convert this dataframe to an interactive table.\"\n",
              "              style=\"display:none;\">\n",
              "        \n",
              "  <svg xmlns=\"http://www.w3.org/2000/svg\" height=\"24px\"viewBox=\"0 0 24 24\"\n",
              "       width=\"24px\">\n",
              "    <path d=\"M0 0h24v24H0V0z\" fill=\"none\"/>\n",
              "    <path d=\"M18.56 5.44l.94 2.06.94-2.06 2.06-.94-2.06-.94-.94-2.06-.94 2.06-2.06.94zm-11 1L8.5 8.5l.94-2.06 2.06-.94-2.06-.94L8.5 2.5l-.94 2.06-2.06.94zm10 10l.94 2.06.94-2.06 2.06-.94-2.06-.94-.94-2.06-.94 2.06-2.06.94z\"/><path d=\"M17.41 7.96l-1.37-1.37c-.4-.4-.92-.59-1.43-.59-.52 0-1.04.2-1.43.59L10.3 9.45l-7.72 7.72c-.78.78-.78 2.05 0 2.83L4 21.41c.39.39.9.59 1.41.59.51 0 1.02-.2 1.41-.59l7.78-7.78 2.81-2.81c.8-.78.8-2.07 0-2.86zM5.41 20L4 18.59l7.72-7.72 1.47 1.35L5.41 20z\"/>\n",
              "  </svg>\n",
              "      </button>\n",
              "      \n",
              "  <style>\n",
              "    .colab-df-container {\n",
              "      display:flex;\n",
              "      flex-wrap:wrap;\n",
              "      gap: 12px;\n",
              "    }\n",
              "\n",
              "    .colab-df-convert {\n",
              "      background-color: #E8F0FE;\n",
              "      border: none;\n",
              "      border-radius: 50%;\n",
              "      cursor: pointer;\n",
              "      display: none;\n",
              "      fill: #1967D2;\n",
              "      height: 32px;\n",
              "      padding: 0 0 0 0;\n",
              "      width: 32px;\n",
              "    }\n",
              "\n",
              "    .colab-df-convert:hover {\n",
              "      background-color: #E2EBFA;\n",
              "      box-shadow: 0px 1px 2px rgba(60, 64, 67, 0.3), 0px 1px 3px 1px rgba(60, 64, 67, 0.15);\n",
              "      fill: #174EA6;\n",
              "    }\n",
              "\n",
              "    [theme=dark] .colab-df-convert {\n",
              "      background-color: #3B4455;\n",
              "      fill: #D2E3FC;\n",
              "    }\n",
              "\n",
              "    [theme=dark] .colab-df-convert:hover {\n",
              "      background-color: #434B5C;\n",
              "      box-shadow: 0px 1px 3px 1px rgba(0, 0, 0, 0.15);\n",
              "      filter: drop-shadow(0px 1px 2px rgba(0, 0, 0, 0.3));\n",
              "      fill: #FFFFFF;\n",
              "    }\n",
              "  </style>\n",
              "\n",
              "      <script>\n",
              "        const buttonEl =\n",
              "          document.querySelector('#df-b098df1a-4301-4ecc-af27-556156af9c0f button.colab-df-convert');\n",
              "        buttonEl.style.display =\n",
              "          google.colab.kernel.accessAllowed ? 'block' : 'none';\n",
              "\n",
              "        async function convertToInteractive(key) {\n",
              "          const element = document.querySelector('#df-b098df1a-4301-4ecc-af27-556156af9c0f');\n",
              "          const dataTable =\n",
              "            await google.colab.kernel.invokeFunction('convertToInteractive',\n",
              "                                                     [key], {});\n",
              "          if (!dataTable) return;\n",
              "\n",
              "          const docLinkHtml = 'Like what you see? Visit the ' +\n",
              "            '<a target=\"_blank\" href=https://colab.research.google.com/notebooks/data_table.ipynb>data table notebook</a>'\n",
              "            + ' to learn more about interactive tables.';\n",
              "          element.innerHTML = '';\n",
              "          dataTable['output_type'] = 'display_data';\n",
              "          await google.colab.output.renderOutput(dataTable, element);\n",
              "          const docLink = document.createElement('div');\n",
              "          docLink.innerHTML = docLinkHtml;\n",
              "          element.appendChild(docLink);\n",
              "        }\n",
              "      </script>\n",
              "    </div>\n",
              "  </div>\n",
              "  "
            ]
          },
          "metadata": {},
          "execution_count": 429
        }
      ],
      "source": [
        "# изучим данные\n",
        "\n",
        "try:\n",
        "    data = pd.read_csv('games.csv')\n",
        "except:\n",
        "    data = pd.read_csv('/datasets/games.csv')\n",
        "data.head()"
      ]
    },
    {
      "cell_type": "code",
      "execution_count": 430,
      "id": "3e1406fa",
      "metadata": {
        "colab": {
          "base_uri": "https://localhost:8080/"
        },
        "id": "3e1406fa",
        "outputId": "58850c9e-95f1-4fcb-8bc9-b6a4c6dea9b3"
      },
      "outputs": [
        {
          "output_type": "stream",
          "name": "stdout",
          "text": [
            "<class 'pandas.core.frame.DataFrame'>\n",
            "RangeIndex: 16715 entries, 0 to 16714\n",
            "Data columns (total 11 columns):\n",
            " #   Column           Non-Null Count  Dtype  \n",
            "---  ------           --------------  -----  \n",
            " 0   Name             16713 non-null  object \n",
            " 1   Platform         16715 non-null  object \n",
            " 2   Year_of_Release  16446 non-null  float64\n",
            " 3   Genre            16713 non-null  object \n",
            " 4   NA_sales         16715 non-null  float64\n",
            " 5   EU_sales         16715 non-null  float64\n",
            " 6   JP_sales         16715 non-null  float64\n",
            " 7   Other_sales      16715 non-null  float64\n",
            " 8   Critic_Score     8137 non-null   float64\n",
            " 9   User_Score       10014 non-null  object \n",
            " 10  Rating           9949 non-null   object \n",
            "dtypes: float64(6), object(5)\n",
            "memory usage: 1.4+ MB\n"
          ]
        }
      ],
      "source": [
        "data.info() # выведем сводную информацию о таблице"
      ]
    },
    {
      "cell_type": "markdown",
      "id": "446415e4",
      "metadata": {
        "id": "446415e4"
      },
      "source": [
        "### Вывод\n",
        "\n",
        "В таблице из 16715 строк и 11 столбцов представлены данные о продажах игр, оценки пользователей и экспертов, жанры и платформы до 2016 года.\n",
        "\n",
        "Предварительно можно утверждать, что данных достаточно для выполнения задачи - определения закономерностей, влияющих на успешность игры. Это позволит сделать ставку на потенциально популярный продукт и спланировать рекламные кампании. Но для окончательного ответа на этот вопрос нужно провести предобработку данных.\n",
        "\n",
        "На данный момент очевидно, что необходимо:\n",
        "\n",
        "* привести названия столбцов к змеиному регистру;\n",
        "* изменить тип данных для столбца `user_score` на float;\n",
        "* проверить данные на пропуски, дубликаты и аномалии.\n",
        "\n",
        "Сделаем это в следующем блоке."
      ]
    },
    {
      "cell_type": "markdown",
      "id": "c2125670",
      "metadata": {
        "id": "c2125670"
      },
      "source": [
        "## 2. Предобработка данных\n",
        "<a name=\"pre_processing\"></a>"
      ]
    },
    {
      "cell_type": "code",
      "execution_count": 431,
      "id": "133c0772",
      "metadata": {
        "colab": {
          "base_uri": "https://localhost:8080/"
        },
        "id": "133c0772",
        "outputId": "71d054b1-f62f-4a3e-8a7d-e082b7f7940a"
      },
      "outputs": [
        {
          "output_type": "execute_result",
          "data": {
            "text/plain": [
              "Index(['name', 'platform', 'year_of_release', 'genre', 'na_sales', 'eu_sales',\n",
              "       'jp_sales', 'other_sales', 'critic_score', 'user_score', 'rating'],\n",
              "      dtype='object')"
            ]
          },
          "metadata": {},
          "execution_count": 431
        }
      ],
      "source": [
        "# приведем названия столбцов к змеиному регистру\n",
        "data.columns = data.columns.str.lower()\n",
        "data.columns"
      ]
    },
    {
      "cell_type": "code",
      "execution_count": 432,
      "id": "485108ff",
      "metadata": {
        "id": "485108ff"
      },
      "outputs": [],
      "source": [
        "# изменим тип данных для столбца year_of_release\n",
        "data['year_of_release'] = pd.to_datetime(data['year_of_release'], format='%Y') \n"
      ]
    },
    {
      "cell_type": "code",
      "source": [
        "# пророверим на аномалии столбец user_score\n",
        "data['user_score'].unique()"
      ],
      "metadata": {
        "colab": {
          "base_uri": "https://localhost:8080/"
        },
        "id": "hXT48TQMiL-5",
        "outputId": "a3f2effb-b98f-4178-d75b-b782f7a374de"
      },
      "id": "hXT48TQMiL-5",
      "execution_count": 433,
      "outputs": [
        {
          "output_type": "execute_result",
          "data": {
            "text/plain": [
              "array(['8', nan, '8.3', '8.5', '6.6', '8.4', '8.6', '7.7', '6.3', '7.4',\n",
              "       '8.2', '9', '7.9', '8.1', '8.7', '7.1', '3.4', '5.3', '4.8', '3.2',\n",
              "       '8.9', '6.4', '7.8', '7.5', '2.6', '7.2', '9.2', '7', '7.3', '4.3',\n",
              "       '7.6', '5.7', '5', '9.1', '6.5', 'tbd', '8.8', '6.9', '9.4', '6.8',\n",
              "       '6.1', '6.7', '5.4', '4', '4.9', '4.5', '9.3', '6.2', '4.2', '6',\n",
              "       '3.7', '4.1', '5.8', '5.6', '5.5', '4.4', '4.6', '5.9', '3.9',\n",
              "       '3.1', '2.9', '5.2', '3.3', '4.7', '5.1', '3.5', '2.5', '1.9', '3',\n",
              "       '2.7', '2.2', '2', '9.5', '2.1', '3.6', '2.8', '1.8', '3.8', '0',\n",
              "       '1.6', '9.6', '2.4', '1.7', '1.1', '0.3', '1.5', '0.7', '1.2',\n",
              "       '2.3', '0.5', '1.3', '0.2', '0.6', '1.4', '0.9', '1', '9.7'],\n",
              "      dtype=object)"
            ]
          },
          "metadata": {},
          "execution_count": 433
        }
      ]
    },
    {
      "cell_type": "code",
      "source": [
        "len(data.query('user_score == \"tbd\"'))\n",
        "# в этом столбце в 14% случаев от общего числа строк встречаются значение tbd - to be determined,\n",
        "# что означает, что какая-то информация еще не определена или решение по вопросу не принято\n",
        "# изменим это значение на Nan, чтобы изменить тип столбца на float"
      ],
      "metadata": {
        "colab": {
          "base_uri": "https://localhost:8080/"
        },
        "id": "jizaIueGidlN",
        "outputId": "be6d1fcd-2881-43a3-e402-fcc075712372"
      },
      "id": "jizaIueGidlN",
      "execution_count": 434,
      "outputs": [
        {
          "output_type": "execute_result",
          "data": {
            "text/plain": [
              "2424"
            ]
          },
          "metadata": {},
          "execution_count": 434
        }
      ]
    },
    {
      "cell_type": "code",
      "execution_count": 435,
      "id": "c7ae90bd",
      "metadata": {
        "colab": {
          "base_uri": "https://localhost:8080/"
        },
        "id": "c7ae90bd",
        "outputId": "f18a1246-d44a-4b0a-9e12-63ee3abe07d6"
      },
      "outputs": [
        {
          "output_type": "stream",
          "name": "stdout",
          "text": [
            "<class 'pandas.core.frame.DataFrame'>\n",
            "RangeIndex: 16715 entries, 0 to 16714\n",
            "Data columns (total 11 columns):\n",
            " #   Column           Non-Null Count  Dtype         \n",
            "---  ------           --------------  -----         \n",
            " 0   name             16713 non-null  object        \n",
            " 1   platform         16715 non-null  object        \n",
            " 2   year_of_release  16446 non-null  datetime64[ns]\n",
            " 3   genre            16713 non-null  object        \n",
            " 4   na_sales         16715 non-null  float64       \n",
            " 5   eu_sales         16715 non-null  float64       \n",
            " 6   jp_sales         16715 non-null  float64       \n",
            " 7   other_sales      16715 non-null  float64       \n",
            " 8   critic_score     8137 non-null   float64       \n",
            " 9   user_score       7590 non-null   float64       \n",
            " 10  rating           9949 non-null   object        \n",
            "dtypes: datetime64[ns](1), float64(6), object(4)\n",
            "memory usage: 1.4+ MB\n"
          ]
        }
      ],
      "source": [
        "# изменим тип данных для столбца user_score на float, установив параметр coerce, который заменит все выбивающиеся занчения на NaN \n",
        "data['user_score'] = pd.to_numeric(data.loc[:, 'user_score'], errors='coerce') \n",
        "\n",
        "data.info() # проверим результат\n"
      ]
    },
    {
      "cell_type": "code",
      "execution_count": 436,
      "id": "85015d55",
      "metadata": {
        "colab": {
          "base_uri": "https://localhost:8080/"
        },
        "id": "85015d55",
        "outputId": "d7a19d72-7bd6-48ad-c7fc-324146b707fa"
      },
      "outputs": [
        {
          "output_type": "execute_result",
          "data": {
            "text/plain": [
              "name                  2\n",
              "platform              0\n",
              "year_of_release     269\n",
              "genre                 2\n",
              "na_sales              0\n",
              "eu_sales              0\n",
              "jp_sales              0\n",
              "other_sales           0\n",
              "critic_score       8578\n",
              "user_score         9125\n",
              "rating             6766\n",
              "dtype: int64"
            ]
          },
          "metadata": {},
          "execution_count": 436
        }
      ],
      "source": [
        "data.isna().sum() # проверим количество пропущенных значений"
      ]
    },
    {
      "cell_type": "code",
      "execution_count": 437,
      "id": "07b09de4",
      "metadata": {
        "colab": {
          "base_uri": "https://localhost:8080/"
        },
        "id": "07b09de4",
        "outputId": "62e71373-9f55-4c7f-e7f0-5de792151264"
      },
      "outputs": [
        {
          "output_type": "execute_result",
          "data": {
            "text/plain": [
              "name               0.000120\n",
              "platform           0.000000\n",
              "year_of_release    0.016093\n",
              "genre              0.000120\n",
              "na_sales           0.000000\n",
              "eu_sales           0.000000\n",
              "jp_sales           0.000000\n",
              "other_sales        0.000000\n",
              "critic_score       0.513192\n",
              "user_score         0.545917\n",
              "rating             0.404786\n",
              "dtype: float64"
            ]
          },
          "metadata": {},
          "execution_count": 437
        }
      ],
      "source": [
        "data.isna().mean() # проверим долю пропущенных значений"
      ]
    },
    {
      "cell_type": "code",
      "execution_count": 438,
      "id": "01d07300",
      "metadata": {
        "colab": {
          "base_uri": "https://localhost:8080/"
        },
        "id": "01d07300",
        "outputId": "dc65653f-74de-47b9-8d53-16d506753a2c"
      },
      "outputs": [
        {
          "output_type": "execute_result",
          "data": {
            "text/plain": [
              "name               0.000000\n",
              "platform           0.000000\n",
              "year_of_release    0.000000\n",
              "genre              0.000000\n",
              "na_sales           0.000000\n",
              "eu_sales           0.000000\n",
              "jp_sales           0.000000\n",
              "other_sales        0.000000\n",
              "critic_score       0.514534\n",
              "user_score         0.546157\n",
              "rating             0.405984\n",
              "dtype: float64"
            ]
          },
          "metadata": {},
          "execution_count": 438
        }
      ],
      "source": [
        "# удалим строки с пропущенными значениями в столбцах name, year_of_release, genre, т.к. их доля очень мала\n",
        "data = data.dropna(subset=['name','year_of_release','genre'])\n",
        "data.isna().mean() # проверим результат\n"
      ]
    },
    {
      "cell_type": "markdown",
      "source": [
        "Оставим пропущенными значения в столбцах `critic_score`, `user_score` и `rating`. Вероятно, они появились из-за отсутствия этих данных в момент выгрузки таблицы. Их доля велика, а заполнение медианой может повлиять на характер связи между заполняемой переменной и остальными."
      ],
      "metadata": {
        "id": "NUiX5fzXjAMh"
      },
      "id": "NUiX5fzXjAMh"
    },
    {
      "cell_type": "code",
      "execution_count": 439,
      "id": "43760bd9",
      "metadata": {
        "colab": {
          "base_uri": "https://localhost:8080/"
        },
        "id": "43760bd9",
        "outputId": "d5e3d8bd-6226-47a0-ba65-c112a62ebd6c"
      },
      "outputs": [
        {
          "output_type": "execute_result",
          "data": {
            "text/plain": [
              "count                           16444\n",
              "unique                          11426\n",
              "top       Need for Speed: Most Wanted\n",
              "freq                               12\n",
              "Name: name, dtype: object"
            ]
          },
          "metadata": {},
          "execution_count": 439
        }
      ],
      "source": [
        "# проверим на аномалии столбец name\n",
        "data['name'].describe()\n",
        "\n",
        "# в столбце name 11426 различных названий игр, проверить каждое название не представляется возможным\n"
      ]
    },
    {
      "cell_type": "code",
      "execution_count": 440,
      "id": "8fa702da",
      "metadata": {
        "colab": {
          "base_uri": "https://localhost:8080/"
        },
        "id": "8fa702da",
        "outputId": "c842a3ec-c703-45f6-d548-4bc30c8b079a"
      },
      "outputs": [
        {
          "output_type": "execute_result",
          "data": {
            "text/plain": [
              "array(['Wii', 'NES', 'GB', 'DS', 'X360', 'PS3', 'PS2', 'SNES', 'GBA',\n",
              "       'PS4', '3DS', 'N64', 'PS', 'XB', 'PC', '2600', 'PSP', 'XOne',\n",
              "       'WiiU', 'GC', 'GEN', 'DC', 'PSV', 'SAT', 'SCD', 'WS', 'NG', 'TG16',\n",
              "       '3DO', 'GG', 'PCFX'], dtype=object)"
            ]
          },
          "metadata": {},
          "execution_count": 440
        }
      ],
      "source": [
        "# проверим на аномалии столбец platform\n",
        "data['platform'].unique()\n",
        "\n",
        "# аномалий нет"
      ]
    },
    {
      "cell_type": "code",
      "execution_count": 441,
      "id": "70e4177e",
      "metadata": {
        "colab": {
          "base_uri": "https://localhost:8080/"
        },
        "id": "70e4177e",
        "outputId": "0a697033-82fe-421e-9ab9-c998f104a4ab"
      },
      "outputs": [
        {
          "output_type": "stream",
          "name": "stderr",
          "text": [
            "<ipython-input-441-7fb9f4205395>:2: FutureWarning: Treating datetime data as categorical rather than numeric in `.describe` is deprecated and will be removed in a future version of pandas. Specify `datetime_is_numeric=True` to silence this warning and adopt the future behavior now.\n",
            "  data['year_of_release'].describe()\n"
          ]
        },
        {
          "output_type": "execute_result",
          "data": {
            "text/plain": [
              "count                   16444\n",
              "unique                     37\n",
              "top       2008-01-01 00:00:00\n",
              "freq                     1427\n",
              "first     1980-01-01 00:00:00\n",
              "last      2016-01-01 00:00:00\n",
              "Name: year_of_release, dtype: object"
            ]
          },
          "metadata": {},
          "execution_count": 441
        }
      ],
      "source": [
        "# проверим на аномалии столбец year_of_release\n",
        "data['year_of_release'].describe()\n",
        "\n",
        "# большинство игр начало продаваться в 2000-е"
      ]
    },
    {
      "cell_type": "code",
      "execution_count": 442,
      "id": "5c9f5c39",
      "metadata": {
        "colab": {
          "base_uri": "https://localhost:8080/"
        },
        "id": "5c9f5c39",
        "outputId": "3147b44b-ccf8-43be-a6a7-d15c45883d70"
      },
      "outputs": [
        {
          "output_type": "execute_result",
          "data": {
            "text/plain": [
              "array(['Sports', 'Platform', 'Racing', 'Role-Playing', 'Puzzle', 'Misc',\n",
              "       'Shooter', 'Simulation', 'Action', 'Fighting', 'Adventure',\n",
              "       'Strategy'], dtype=object)"
            ]
          },
          "metadata": {},
          "execution_count": 442
        }
      ],
      "source": [
        "# проверим на аномалии столбец genre\n",
        "data['genre'].unique()\n",
        "\n",
        "# аномалий нет"
      ]
    },
    {
      "cell_type": "code",
      "execution_count": 443,
      "id": "cd2314a0",
      "metadata": {
        "colab": {
          "base_uri": "https://localhost:8080/"
        },
        "id": "cd2314a0",
        "outputId": "e207091d-529d-4e38-f3af-150db467d312"
      },
      "outputs": [
        {
          "output_type": "execute_result",
          "data": {
            "text/plain": [
              "count    16444.000000\n",
              "mean         0.264012\n",
              "std          0.818378\n",
              "min          0.000000\n",
              "25%          0.000000\n",
              "50%          0.080000\n",
              "75%          0.240000\n",
              "max         41.360000\n",
              "Name: na_sales, dtype: float64"
            ]
          },
          "metadata": {},
          "execution_count": 443
        }
      ],
      "source": [
        "# проверим на аномалии столбец na_sales\n",
        "data['na_sales'].describe()\n",
        "\n",
        "# виден большой разброс в сторону увеличения, в первом процентиле все значения - нулевые, \n",
        "# т.е. много игр в Северной Америке не продавалось совсем,\n",
        "# в то же время есть явные лидеры продаж с большим отрывом"
      ]
    },
    {
      "cell_type": "code",
      "execution_count": 444,
      "id": "07128a8a",
      "metadata": {
        "colab": {
          "base_uri": "https://localhost:8080/"
        },
        "id": "07128a8a",
        "outputId": "a8bca444-8554-4b75-9a9b-6f93e0836dca"
      },
      "outputs": [
        {
          "output_type": "execute_result",
          "data": {
            "text/plain": [
              "count    16444.000000\n",
              "mean         0.145930\n",
              "std          0.506716\n",
              "min          0.000000\n",
              "25%          0.000000\n",
              "50%          0.020000\n",
              "75%          0.110000\n",
              "max         28.960000\n",
              "Name: eu_sales, dtype: float64"
            ]
          },
          "metadata": {},
          "execution_count": 444
        }
      ],
      "source": [
        "# проверим на аномалии столбец eu_sales\n",
        "data['eu_sales'].describe()\n",
        "\n",
        "# ситуация в Европе схожа с ситуацией по продажам в СА"
      ]
    },
    {
      "cell_type": "code",
      "execution_count": 445,
      "id": "a7b5a8f8",
      "metadata": {
        "colab": {
          "base_uri": "https://localhost:8080/"
        },
        "id": "a7b5a8f8",
        "outputId": "eff6809f-9702-4139-d56a-123de7777da1"
      },
      "outputs": [
        {
          "output_type": "execute_result",
          "data": {
            "text/plain": [
              "count    16444.000000\n",
              "mean         0.078487\n",
              "std          0.311100\n",
              "min          0.000000\n",
              "25%          0.000000\n",
              "50%          0.000000\n",
              "75%          0.040000\n",
              "max         10.220000\n",
              "Name: jp_sales, dtype: float64"
            ]
          },
          "metadata": {},
          "execution_count": 445
        }
      ],
      "source": [
        "# проверим на аномалии столбец jp_sales\n",
        "data['jp_sales'].describe()\n",
        "\n",
        "# в Японии либо продаж не было совсем, либо они были очень высокими"
      ]
    },
    {
      "cell_type": "code",
      "execution_count": 446,
      "id": "79f7c5b7",
      "metadata": {
        "colab": {
          "base_uri": "https://localhost:8080/"
        },
        "id": "79f7c5b7",
        "outputId": "847c4e18-d42b-48e9-962d-7d739cf9bde9"
      },
      "outputs": [
        {
          "output_type": "execute_result",
          "data": {
            "text/plain": [
              "count    16444.000000\n",
              "mean         0.047594\n",
              "std          0.188005\n",
              "min          0.000000\n",
              "25%          0.000000\n",
              "50%          0.010000\n",
              "75%          0.030000\n",
              "max         10.570000\n",
              "Name: other_sales, dtype: float64"
            ]
          },
          "metadata": {},
          "execution_count": 446
        }
      ],
      "source": [
        "# проверим на аномалии столбец other_sales\n",
        "data['other_sales'].describe()\n",
        "\n",
        "# в остальном мире ситуация схожа с ситуцией в Японии"
      ]
    },
    {
      "cell_type": "code",
      "execution_count": 447,
      "id": "02c5561b",
      "metadata": {
        "colab": {
          "base_uri": "https://localhost:8080/"
        },
        "id": "02c5561b",
        "outputId": "dbac0e81-974f-473a-825d-e6c86a33960a"
      },
      "outputs": [
        {
          "output_type": "execute_result",
          "data": {
            "text/plain": [
              "count    7983.000000\n",
              "mean       68.994363\n",
              "std        13.920060\n",
              "min        13.000000\n",
              "25%        60.000000\n",
              "50%        71.000000\n",
              "75%        79.000000\n",
              "max        98.000000\n",
              "Name: critic_score, dtype: float64"
            ]
          },
          "metadata": {},
          "execution_count": 447
        }
      ],
      "source": [
        "# проверим на аномалии столбец critic_score\n",
        "data['critic_score'].describe()\n",
        "\n",
        "# аномалий нет"
      ]
    },
    {
      "cell_type": "code",
      "execution_count": 448,
      "id": "868ba383",
      "metadata": {
        "colab": {
          "base_uri": "https://localhost:8080/"
        },
        "id": "868ba383",
        "outputId": "5e1cd069-305c-489f-db76-5bf04491f621"
      },
      "outputs": [
        {
          "output_type": "execute_result",
          "data": {
            "text/plain": [
              "array(['E', nan, 'M', 'T', 'E10+', 'K-A', 'AO', 'EC', 'RP'], dtype=object)"
            ]
          },
          "metadata": {},
          "execution_count": 448
        }
      ],
      "source": [
        "# проверим на аномалии столбец rating\n",
        "data['rating'].unique()\n",
        "\n",
        "# аномалий нет"
      ]
    },
    {
      "cell_type": "code",
      "execution_count": 449,
      "id": "49a698e3",
      "metadata": {
        "colab": {
          "base_uri": "https://localhost:8080/"
        },
        "id": "49a698e3",
        "outputId": "5f8da276-33aa-4fc1-f630-f82fe32ae461"
      },
      "outputs": [
        {
          "output_type": "execute_result",
          "data": {
            "text/plain": [
              "0"
            ]
          },
          "metadata": {},
          "execution_count": 449
        }
      ],
      "source": [
        "# проверим данные на наличие дубликатов\n",
        "data.duplicated().sum() # дубликатов нет"
      ]
    },
    {
      "cell_type": "markdown",
      "id": "3e4417f2",
      "metadata": {
        "id": "3e4417f2"
      },
      "source": [
        "### Вывод\n",
        "\n",
        "Предобработка показала, что в данных есть пропуски и аномалии. Также потребовалась замена типов данных для столбца `user_score` на float.\n",
        "\n",
        "Основные выводы:\n",
        "\n",
        "* мы привели названия столбцов к змеиному регистру;\n",
        "* в столбце `user_score` в 14% случаев встречаются значение tbd - to be determined, что означает, что какая-то информация еще не определена или решение по вопросу не принято. Мы изменили значение на NaN;\n",
        "* мы удалили строки с пропущенными значениями в столбцах `name`, `year_of_release`, `genre`, т.к. их доля очень мала\n",
        "* мы оставили пропущенными значения в столбцах `critic_score`, `user_score` и `rating`. Вероятно, они появились из-за отсутствия этих данных в момент выгрузки таблицы. Их доля велика, а заполнение медианой может повлиять на характер связи между заполняемой переменной и остальными;\n",
        "* большинство игр начало продаваться в 2000-е;\n",
        "* существует большой разброс в сторону увеличения количества продаж в Северной Америке и Европе, в первом процентиле все значения - нулевые, т.е. много игр не продавалось совсем, в то же время есть явные лидеры продаж с большим отрывом;\n",
        "* в Японии и остальном мире продаж либо не было совсем, либо они были очень высокими.\n",
        "\n"
      ]
    },
    {
      "cell_type": "markdown",
      "id": "2a9e4558",
      "metadata": {
        "id": "2a9e4558"
      },
      "source": [
        "## 3. Расчёты и добавление результатов в таблицу\n",
        "<a name=\"add_results\"></a>"
      ]
    },
    {
      "cell_type": "code",
      "execution_count": 450,
      "id": "21508be4",
      "metadata": {
        "colab": {
          "base_uri": "https://localhost:8080/",
          "height": 250
        },
        "id": "21508be4",
        "outputId": "97d99fc2-7b54-49e7-c9eb-e32e1e178cc8"
      },
      "outputs": [
        {
          "output_type": "execute_result",
          "data": {
            "text/plain": [
              "                       name platform year_of_release         genre  na_sales  \\\n",
              "0                Wii Sports      Wii      2006-01-01        Sports     41.36   \n",
              "1         Super Mario Bros.      NES      1985-01-01      Platform     29.08   \n",
              "2            Mario Kart Wii      Wii      2008-01-01        Racing     15.68   \n",
              "3         Wii Sports Resort      Wii      2009-01-01        Sports     15.61   \n",
              "4  Pokemon Red/Pokemon Blue       GB      1996-01-01  Role-Playing     11.27   \n",
              "\n",
              "   eu_sales  jp_sales  other_sales  critic_score  user_score rating  \\\n",
              "0     28.96      3.77         8.45          76.0         8.0      E   \n",
              "1      3.58      6.81         0.77           NaN         NaN    NaN   \n",
              "2     12.76      3.79         3.29          82.0         8.3      E   \n",
              "3     10.93      3.28         2.95          80.0         8.0      E   \n",
              "4      8.89     10.22         1.00           NaN         NaN    NaN   \n",
              "\n",
              "   total_sales  \n",
              "0        82.54  \n",
              "1        40.24  \n",
              "2        35.52  \n",
              "3        32.77  \n",
              "4        31.38  "
            ],
            "text/html": [
              "\n",
              "  <div id=\"df-4a578dcf-4f49-4741-b4fb-1f7079cebb3e\">\n",
              "    <div class=\"colab-df-container\">\n",
              "      <div>\n",
              "<style scoped>\n",
              "    .dataframe tbody tr th:only-of-type {\n",
              "        vertical-align: middle;\n",
              "    }\n",
              "\n",
              "    .dataframe tbody tr th {\n",
              "        vertical-align: top;\n",
              "    }\n",
              "\n",
              "    .dataframe thead th {\n",
              "        text-align: right;\n",
              "    }\n",
              "</style>\n",
              "<table border=\"1\" class=\"dataframe\">\n",
              "  <thead>\n",
              "    <tr style=\"text-align: right;\">\n",
              "      <th></th>\n",
              "      <th>name</th>\n",
              "      <th>platform</th>\n",
              "      <th>year_of_release</th>\n",
              "      <th>genre</th>\n",
              "      <th>na_sales</th>\n",
              "      <th>eu_sales</th>\n",
              "      <th>jp_sales</th>\n",
              "      <th>other_sales</th>\n",
              "      <th>critic_score</th>\n",
              "      <th>user_score</th>\n",
              "      <th>rating</th>\n",
              "      <th>total_sales</th>\n",
              "    </tr>\n",
              "  </thead>\n",
              "  <tbody>\n",
              "    <tr>\n",
              "      <th>0</th>\n",
              "      <td>Wii Sports</td>\n",
              "      <td>Wii</td>\n",
              "      <td>2006-01-01</td>\n",
              "      <td>Sports</td>\n",
              "      <td>41.36</td>\n",
              "      <td>28.96</td>\n",
              "      <td>3.77</td>\n",
              "      <td>8.45</td>\n",
              "      <td>76.0</td>\n",
              "      <td>8.0</td>\n",
              "      <td>E</td>\n",
              "      <td>82.54</td>\n",
              "    </tr>\n",
              "    <tr>\n",
              "      <th>1</th>\n",
              "      <td>Super Mario Bros.</td>\n",
              "      <td>NES</td>\n",
              "      <td>1985-01-01</td>\n",
              "      <td>Platform</td>\n",
              "      <td>29.08</td>\n",
              "      <td>3.58</td>\n",
              "      <td>6.81</td>\n",
              "      <td>0.77</td>\n",
              "      <td>NaN</td>\n",
              "      <td>NaN</td>\n",
              "      <td>NaN</td>\n",
              "      <td>40.24</td>\n",
              "    </tr>\n",
              "    <tr>\n",
              "      <th>2</th>\n",
              "      <td>Mario Kart Wii</td>\n",
              "      <td>Wii</td>\n",
              "      <td>2008-01-01</td>\n",
              "      <td>Racing</td>\n",
              "      <td>15.68</td>\n",
              "      <td>12.76</td>\n",
              "      <td>3.79</td>\n",
              "      <td>3.29</td>\n",
              "      <td>82.0</td>\n",
              "      <td>8.3</td>\n",
              "      <td>E</td>\n",
              "      <td>35.52</td>\n",
              "    </tr>\n",
              "    <tr>\n",
              "      <th>3</th>\n",
              "      <td>Wii Sports Resort</td>\n",
              "      <td>Wii</td>\n",
              "      <td>2009-01-01</td>\n",
              "      <td>Sports</td>\n",
              "      <td>15.61</td>\n",
              "      <td>10.93</td>\n",
              "      <td>3.28</td>\n",
              "      <td>2.95</td>\n",
              "      <td>80.0</td>\n",
              "      <td>8.0</td>\n",
              "      <td>E</td>\n",
              "      <td>32.77</td>\n",
              "    </tr>\n",
              "    <tr>\n",
              "      <th>4</th>\n",
              "      <td>Pokemon Red/Pokemon Blue</td>\n",
              "      <td>GB</td>\n",
              "      <td>1996-01-01</td>\n",
              "      <td>Role-Playing</td>\n",
              "      <td>11.27</td>\n",
              "      <td>8.89</td>\n",
              "      <td>10.22</td>\n",
              "      <td>1.00</td>\n",
              "      <td>NaN</td>\n",
              "      <td>NaN</td>\n",
              "      <td>NaN</td>\n",
              "      <td>31.38</td>\n",
              "    </tr>\n",
              "  </tbody>\n",
              "</table>\n",
              "</div>\n",
              "      <button class=\"colab-df-convert\" onclick=\"convertToInteractive('df-4a578dcf-4f49-4741-b4fb-1f7079cebb3e')\"\n",
              "              title=\"Convert this dataframe to an interactive table.\"\n",
              "              style=\"display:none;\">\n",
              "        \n",
              "  <svg xmlns=\"http://www.w3.org/2000/svg\" height=\"24px\"viewBox=\"0 0 24 24\"\n",
              "       width=\"24px\">\n",
              "    <path d=\"M0 0h24v24H0V0z\" fill=\"none\"/>\n",
              "    <path d=\"M18.56 5.44l.94 2.06.94-2.06 2.06-.94-2.06-.94-.94-2.06-.94 2.06-2.06.94zm-11 1L8.5 8.5l.94-2.06 2.06-.94-2.06-.94L8.5 2.5l-.94 2.06-2.06.94zm10 10l.94 2.06.94-2.06 2.06-.94-2.06-.94-.94-2.06-.94 2.06-2.06.94z\"/><path d=\"M17.41 7.96l-1.37-1.37c-.4-.4-.92-.59-1.43-.59-.52 0-1.04.2-1.43.59L10.3 9.45l-7.72 7.72c-.78.78-.78 2.05 0 2.83L4 21.41c.39.39.9.59 1.41.59.51 0 1.02-.2 1.41-.59l7.78-7.78 2.81-2.81c.8-.78.8-2.07 0-2.86zM5.41 20L4 18.59l7.72-7.72 1.47 1.35L5.41 20z\"/>\n",
              "  </svg>\n",
              "      </button>\n",
              "      \n",
              "  <style>\n",
              "    .colab-df-container {\n",
              "      display:flex;\n",
              "      flex-wrap:wrap;\n",
              "      gap: 12px;\n",
              "    }\n",
              "\n",
              "    .colab-df-convert {\n",
              "      background-color: #E8F0FE;\n",
              "      border: none;\n",
              "      border-radius: 50%;\n",
              "      cursor: pointer;\n",
              "      display: none;\n",
              "      fill: #1967D2;\n",
              "      height: 32px;\n",
              "      padding: 0 0 0 0;\n",
              "      width: 32px;\n",
              "    }\n",
              "\n",
              "    .colab-df-convert:hover {\n",
              "      background-color: #E2EBFA;\n",
              "      box-shadow: 0px 1px 2px rgba(60, 64, 67, 0.3), 0px 1px 3px 1px rgba(60, 64, 67, 0.15);\n",
              "      fill: #174EA6;\n",
              "    }\n",
              "\n",
              "    [theme=dark] .colab-df-convert {\n",
              "      background-color: #3B4455;\n",
              "      fill: #D2E3FC;\n",
              "    }\n",
              "\n",
              "    [theme=dark] .colab-df-convert:hover {\n",
              "      background-color: #434B5C;\n",
              "      box-shadow: 0px 1px 3px 1px rgba(0, 0, 0, 0.15);\n",
              "      filter: drop-shadow(0px 1px 2px rgba(0, 0, 0, 0.3));\n",
              "      fill: #FFFFFF;\n",
              "    }\n",
              "  </style>\n",
              "\n",
              "      <script>\n",
              "        const buttonEl =\n",
              "          document.querySelector('#df-4a578dcf-4f49-4741-b4fb-1f7079cebb3e button.colab-df-convert');\n",
              "        buttonEl.style.display =\n",
              "          google.colab.kernel.accessAllowed ? 'block' : 'none';\n",
              "\n",
              "        async function convertToInteractive(key) {\n",
              "          const element = document.querySelector('#df-4a578dcf-4f49-4741-b4fb-1f7079cebb3e');\n",
              "          const dataTable =\n",
              "            await google.colab.kernel.invokeFunction('convertToInteractive',\n",
              "                                                     [key], {});\n",
              "          if (!dataTable) return;\n",
              "\n",
              "          const docLinkHtml = 'Like what you see? Visit the ' +\n",
              "            '<a target=\"_blank\" href=https://colab.research.google.com/notebooks/data_table.ipynb>data table notebook</a>'\n",
              "            + ' to learn more about interactive tables.';\n",
              "          element.innerHTML = '';\n",
              "          dataTable['output_type'] = 'display_data';\n",
              "          await google.colab.output.renderOutput(dataTable, element);\n",
              "          const docLink = document.createElement('div');\n",
              "          docLink.innerHTML = docLinkHtml;\n",
              "          element.appendChild(docLink);\n",
              "        }\n",
              "      </script>\n",
              "    </div>\n",
              "  </div>\n",
              "  "
            ]
          },
          "metadata": {},
          "execution_count": 450
        }
      ],
      "source": [
        "# Посчитаем суммарные продажи во всех регионах и запишем их в отдельный столбец\n",
        "data['total_sales'] = data[['na_sales','eu_sales','jp_sales', 'other_sales']].sum(axis = 1)\n",
        "data.head()"
      ]
    },
    {
      "cell_type": "markdown",
      "id": "bf67908d",
      "metadata": {
        "id": "bf67908d"
      },
      "source": [
        "## 4. Исследовательский анализ данных\n",
        "<a name=\"research\"></a>"
      ]
    },
    {
      "cell_type": "markdown",
      "id": "3e85752a",
      "metadata": {
        "id": "3e85752a"
      },
      "source": [
        "### Задача\n",
        "\n",
        "* Посмотрите, сколько игр выпускалось в разные годы. Важны ли данные за все периоды?\n",
        "* Посмотрите, как менялись продажи по платформам. Выберите платформы с наибольшими суммарными продажами и постройте распределение по годам. За какой характерный срок появляются новые и исчезают старые платформы?\n",
        "* Возьмите данные за соответствующий актуальный период. Актуальный период определите самостоятельно в результате исследования предыдущих вопросов. Основной фактор — эти данные помогут построить прогноз на 2017 год. Не учитывайте в работе данные за предыдущие годы.\n",
        "* Какие платформы лидируют по продажам, растут или падают? Выберите несколько потенциально прибыльных платформ.\n",
        "* Постройте график «ящик с усами» по глобальным продажам игр в разбивке по платформам. Опишите результат.\n",
        "* Посмотрите, как влияют на продажи внутри одной популярной платформы отзывы пользователей и критиков. Постройте диаграмму рассеяния и посчитайте корреляцию между отзывами и продажами. Сформулируйте выводы.\n",
        "* Соотнесите выводы с продажами игр на других платформах.\n",
        "* Посмотрите на общее распределение игр по жанрам. Что можно сказать о самых прибыльных жанрах? Выделяются ли жанры с высокими и низкими продажами?"
      ]
    },
    {
      "cell_type": "code",
      "execution_count": 451,
      "id": "14a9a396",
      "metadata": {
        "colab": {
          "base_uri": "https://localhost:8080/",
          "height": 1000
        },
        "id": "14a9a396",
        "outputId": "44acaa15-2c12-489f-f671-17ab02534f98"
      },
      "outputs": [
        {
          "output_type": "display_data",
          "data": {
            "text/plain": [
              "                 name\n",
              "year_of_release      \n",
              "1980-01-01          9\n",
              "1981-01-01         46\n",
              "1982-01-01         36\n",
              "1983-01-01         17\n",
              "1984-01-01         14\n",
              "1985-01-01         14\n",
              "1986-01-01         21\n",
              "1987-01-01         16\n",
              "1988-01-01         15\n",
              "1989-01-01         17\n",
              "1990-01-01         16\n",
              "1991-01-01         41\n",
              "1992-01-01         43\n",
              "1993-01-01         60\n",
              "1994-01-01        121\n",
              "1995-01-01        219\n",
              "1996-01-01        263\n",
              "1997-01-01        289\n",
              "1998-01-01        379\n",
              "1999-01-01        338\n",
              "2000-01-01        350\n",
              "2001-01-01        482\n",
              "2002-01-01        829\n",
              "2003-01-01        775\n",
              "2004-01-01        762\n",
              "2005-01-01        939\n",
              "2006-01-01       1006\n",
              "2007-01-01       1197\n",
              "2008-01-01       1427\n",
              "2009-01-01       1426\n",
              "2010-01-01       1255\n",
              "2011-01-01       1136\n",
              "2012-01-01        653\n",
              "2013-01-01        544\n",
              "2014-01-01        581\n",
              "2015-01-01        606\n",
              "2016-01-01        502"
            ],
            "text/html": [
              "\n",
              "  <div id=\"df-616cd134-1d92-4e9d-a7af-54339c96e26b\">\n",
              "    <div class=\"colab-df-container\">\n",
              "      <div>\n",
              "<style scoped>\n",
              "    .dataframe tbody tr th:only-of-type {\n",
              "        vertical-align: middle;\n",
              "    }\n",
              "\n",
              "    .dataframe tbody tr th {\n",
              "        vertical-align: top;\n",
              "    }\n",
              "\n",
              "    .dataframe thead th {\n",
              "        text-align: right;\n",
              "    }\n",
              "</style>\n",
              "<table border=\"1\" class=\"dataframe\">\n",
              "  <thead>\n",
              "    <tr style=\"text-align: right;\">\n",
              "      <th></th>\n",
              "      <th>name</th>\n",
              "    </tr>\n",
              "    <tr>\n",
              "      <th>year_of_release</th>\n",
              "      <th></th>\n",
              "    </tr>\n",
              "  </thead>\n",
              "  <tbody>\n",
              "    <tr>\n",
              "      <th>1980-01-01</th>\n",
              "      <td>9</td>\n",
              "    </tr>\n",
              "    <tr>\n",
              "      <th>1981-01-01</th>\n",
              "      <td>46</td>\n",
              "    </tr>\n",
              "    <tr>\n",
              "      <th>1982-01-01</th>\n",
              "      <td>36</td>\n",
              "    </tr>\n",
              "    <tr>\n",
              "      <th>1983-01-01</th>\n",
              "      <td>17</td>\n",
              "    </tr>\n",
              "    <tr>\n",
              "      <th>1984-01-01</th>\n",
              "      <td>14</td>\n",
              "    </tr>\n",
              "    <tr>\n",
              "      <th>1985-01-01</th>\n",
              "      <td>14</td>\n",
              "    </tr>\n",
              "    <tr>\n",
              "      <th>1986-01-01</th>\n",
              "      <td>21</td>\n",
              "    </tr>\n",
              "    <tr>\n",
              "      <th>1987-01-01</th>\n",
              "      <td>16</td>\n",
              "    </tr>\n",
              "    <tr>\n",
              "      <th>1988-01-01</th>\n",
              "      <td>15</td>\n",
              "    </tr>\n",
              "    <tr>\n",
              "      <th>1989-01-01</th>\n",
              "      <td>17</td>\n",
              "    </tr>\n",
              "    <tr>\n",
              "      <th>1990-01-01</th>\n",
              "      <td>16</td>\n",
              "    </tr>\n",
              "    <tr>\n",
              "      <th>1991-01-01</th>\n",
              "      <td>41</td>\n",
              "    </tr>\n",
              "    <tr>\n",
              "      <th>1992-01-01</th>\n",
              "      <td>43</td>\n",
              "    </tr>\n",
              "    <tr>\n",
              "      <th>1993-01-01</th>\n",
              "      <td>60</td>\n",
              "    </tr>\n",
              "    <tr>\n",
              "      <th>1994-01-01</th>\n",
              "      <td>121</td>\n",
              "    </tr>\n",
              "    <tr>\n",
              "      <th>1995-01-01</th>\n",
              "      <td>219</td>\n",
              "    </tr>\n",
              "    <tr>\n",
              "      <th>1996-01-01</th>\n",
              "      <td>263</td>\n",
              "    </tr>\n",
              "    <tr>\n",
              "      <th>1997-01-01</th>\n",
              "      <td>289</td>\n",
              "    </tr>\n",
              "    <tr>\n",
              "      <th>1998-01-01</th>\n",
              "      <td>379</td>\n",
              "    </tr>\n",
              "    <tr>\n",
              "      <th>1999-01-01</th>\n",
              "      <td>338</td>\n",
              "    </tr>\n",
              "    <tr>\n",
              "      <th>2000-01-01</th>\n",
              "      <td>350</td>\n",
              "    </tr>\n",
              "    <tr>\n",
              "      <th>2001-01-01</th>\n",
              "      <td>482</td>\n",
              "    </tr>\n",
              "    <tr>\n",
              "      <th>2002-01-01</th>\n",
              "      <td>829</td>\n",
              "    </tr>\n",
              "    <tr>\n",
              "      <th>2003-01-01</th>\n",
              "      <td>775</td>\n",
              "    </tr>\n",
              "    <tr>\n",
              "      <th>2004-01-01</th>\n",
              "      <td>762</td>\n",
              "    </tr>\n",
              "    <tr>\n",
              "      <th>2005-01-01</th>\n",
              "      <td>939</td>\n",
              "    </tr>\n",
              "    <tr>\n",
              "      <th>2006-01-01</th>\n",
              "      <td>1006</td>\n",
              "    </tr>\n",
              "    <tr>\n",
              "      <th>2007-01-01</th>\n",
              "      <td>1197</td>\n",
              "    </tr>\n",
              "    <tr>\n",
              "      <th>2008-01-01</th>\n",
              "      <td>1427</td>\n",
              "    </tr>\n",
              "    <tr>\n",
              "      <th>2009-01-01</th>\n",
              "      <td>1426</td>\n",
              "    </tr>\n",
              "    <tr>\n",
              "      <th>2010-01-01</th>\n",
              "      <td>1255</td>\n",
              "    </tr>\n",
              "    <tr>\n",
              "      <th>2011-01-01</th>\n",
              "      <td>1136</td>\n",
              "    </tr>\n",
              "    <tr>\n",
              "      <th>2012-01-01</th>\n",
              "      <td>653</td>\n",
              "    </tr>\n",
              "    <tr>\n",
              "      <th>2013-01-01</th>\n",
              "      <td>544</td>\n",
              "    </tr>\n",
              "    <tr>\n",
              "      <th>2014-01-01</th>\n",
              "      <td>581</td>\n",
              "    </tr>\n",
              "    <tr>\n",
              "      <th>2015-01-01</th>\n",
              "      <td>606</td>\n",
              "    </tr>\n",
              "    <tr>\n",
              "      <th>2016-01-01</th>\n",
              "      <td>502</td>\n",
              "    </tr>\n",
              "  </tbody>\n",
              "</table>\n",
              "</div>\n",
              "      <button class=\"colab-df-convert\" onclick=\"convertToInteractive('df-616cd134-1d92-4e9d-a7af-54339c96e26b')\"\n",
              "              title=\"Convert this dataframe to an interactive table.\"\n",
              "              style=\"display:none;\">\n",
              "        \n",
              "  <svg xmlns=\"http://www.w3.org/2000/svg\" height=\"24px\"viewBox=\"0 0 24 24\"\n",
              "       width=\"24px\">\n",
              "    <path d=\"M0 0h24v24H0V0z\" fill=\"none\"/>\n",
              "    <path d=\"M18.56 5.44l.94 2.06.94-2.06 2.06-.94-2.06-.94-.94-2.06-.94 2.06-2.06.94zm-11 1L8.5 8.5l.94-2.06 2.06-.94-2.06-.94L8.5 2.5l-.94 2.06-2.06.94zm10 10l.94 2.06.94-2.06 2.06-.94-2.06-.94-.94-2.06-.94 2.06-2.06.94z\"/><path d=\"M17.41 7.96l-1.37-1.37c-.4-.4-.92-.59-1.43-.59-.52 0-1.04.2-1.43.59L10.3 9.45l-7.72 7.72c-.78.78-.78 2.05 0 2.83L4 21.41c.39.39.9.59 1.41.59.51 0 1.02-.2 1.41-.59l7.78-7.78 2.81-2.81c.8-.78.8-2.07 0-2.86zM5.41 20L4 18.59l7.72-7.72 1.47 1.35L5.41 20z\"/>\n",
              "  </svg>\n",
              "      </button>\n",
              "      \n",
              "  <style>\n",
              "    .colab-df-container {\n",
              "      display:flex;\n",
              "      flex-wrap:wrap;\n",
              "      gap: 12px;\n",
              "    }\n",
              "\n",
              "    .colab-df-convert {\n",
              "      background-color: #E8F0FE;\n",
              "      border: none;\n",
              "      border-radius: 50%;\n",
              "      cursor: pointer;\n",
              "      display: none;\n",
              "      fill: #1967D2;\n",
              "      height: 32px;\n",
              "      padding: 0 0 0 0;\n",
              "      width: 32px;\n",
              "    }\n",
              "\n",
              "    .colab-df-convert:hover {\n",
              "      background-color: #E2EBFA;\n",
              "      box-shadow: 0px 1px 2px rgba(60, 64, 67, 0.3), 0px 1px 3px 1px rgba(60, 64, 67, 0.15);\n",
              "      fill: #174EA6;\n",
              "    }\n",
              "\n",
              "    [theme=dark] .colab-df-convert {\n",
              "      background-color: #3B4455;\n",
              "      fill: #D2E3FC;\n",
              "    }\n",
              "\n",
              "    [theme=dark] .colab-df-convert:hover {\n",
              "      background-color: #434B5C;\n",
              "      box-shadow: 0px 1px 3px 1px rgba(0, 0, 0, 0.15);\n",
              "      filter: drop-shadow(0px 1px 2px rgba(0, 0, 0, 0.3));\n",
              "      fill: #FFFFFF;\n",
              "    }\n",
              "  </style>\n",
              "\n",
              "      <script>\n",
              "        const buttonEl =\n",
              "          document.querySelector('#df-616cd134-1d92-4e9d-a7af-54339c96e26b button.colab-df-convert');\n",
              "        buttonEl.style.display =\n",
              "          google.colab.kernel.accessAllowed ? 'block' : 'none';\n",
              "\n",
              "        async function convertToInteractive(key) {\n",
              "          const element = document.querySelector('#df-616cd134-1d92-4e9d-a7af-54339c96e26b');\n",
              "          const dataTable =\n",
              "            await google.colab.kernel.invokeFunction('convertToInteractive',\n",
              "                                                     [key], {});\n",
              "          if (!dataTable) return;\n",
              "\n",
              "          const docLinkHtml = 'Like what you see? Visit the ' +\n",
              "            '<a target=\"_blank\" href=https://colab.research.google.com/notebooks/data_table.ipynb>data table notebook</a>'\n",
              "            + ' to learn more about interactive tables.';\n",
              "          element.innerHTML = '';\n",
              "          dataTable['output_type'] = 'display_data';\n",
              "          await google.colab.output.renderOutput(dataTable, element);\n",
              "          const docLink = document.createElement('div');\n",
              "          docLink.innerHTML = docLinkHtml;\n",
              "          element.appendChild(docLink);\n",
              "        }\n",
              "      </script>\n",
              "    </div>\n",
              "  </div>\n",
              "  "
            ]
          },
          "metadata": {}
        },
        {
          "output_type": "execute_result",
          "data": {
            "text/plain": [
              "<Axes: title={'center': 'Количество выпущенных игр'}, xlabel='year_of_release'>"
            ]
          },
          "metadata": {},
          "execution_count": 451
        },
        {
          "output_type": "display_data",
          "data": {
            "text/plain": [
              "<Figure size 640x480 with 1 Axes>"
            ],
            "image/png": "[encoded data removed]"
          },
          "metadata": {}
        }
      ],
      "source": [
        "# проверим, сколько игр выпускалось за разные периоды\n",
        "years = data.pivot_table(index='year_of_release', values='name', aggfunc='count').sort_values(by='year_of_release')\n",
        "display(years)\n",
        "years.plot(title='Количество выпущенных игр', legend=False)\n"
      ]
    },
    {
      "cell_type": "markdown",
      "id": "72f327af",
      "metadata": {
        "id": "72f327af"
      },
      "source": [
        "По количеству выпущенных игр определенно лидирует период с 2005 по 2011 годы, с ярким пиком в 2008-2009 годах. Одного лишь этого мало для достижения поставленной задачи — выявления определяющих успех игры закономерностей. Однако анализ данных за более чем 20-летний период не представляется логичным, за такой период факторы, влияющие на успех, скорее всего изменились. Ограничимся периодом с 2013 года."
      ]
    },
    {
      "cell_type": "code",
      "execution_count": 452,
      "id": "11f3a906",
      "metadata": {
        "colab": {
          "base_uri": "https://localhost:8080/",
          "height": 1000
        },
        "id": "11f3a906",
        "outputId": "ef37be4f-dcf6-47fe-b509-f2336439c7c0"
      },
      "outputs": [
        {
          "output_type": "execute_result",
          "data": {
            "text/plain": [
              "          total_sales\n",
              "platform             \n",
              "PS2           1233.56\n",
              "X360           961.24\n",
              "PS3            931.34\n",
              "Wii            891.18\n",
              "DS             802.78\n",
              "PS             727.58\n",
              "PS4            314.14\n",
              "GBA            312.88\n",
              "PSP            289.53\n",
              "3DS            257.81\n",
              "PC             255.76\n",
              "GB             254.43\n",
              "XB             251.57\n",
              "NES            251.05\n",
              "N64            218.01\n",
              "SNES           200.04\n",
              "GC             196.73\n",
              "XOne           159.32\n",
              "2600            86.48\n",
              "WiiU            82.19\n",
              "PSV             53.81\n",
              "SAT             33.59\n",
              "GEN             28.35\n",
              "DC              15.95\n",
              "SCD              1.86\n",
              "NG               1.44\n",
              "WS               1.42\n",
              "TG16             0.16\n",
              "3DO              0.10\n",
              "GG               0.04\n",
              "PCFX             0.03"
            ],
            "text/html": [
              "\n",
              "  <div id=\"df-c8e82ab1-d183-47ed-a2df-e893691f76c1\">\n",
              "    <div class=\"colab-df-container\">\n",
              "      <div>\n",
              "<style scoped>\n",
              "    .dataframe tbody tr th:only-of-type {\n",
              "        vertical-align: middle;\n",
              "    }\n",
              "\n",
              "    .dataframe tbody tr th {\n",
              "        vertical-align: top;\n",
              "    }\n",
              "\n",
              "    .dataframe thead th {\n",
              "        text-align: right;\n",
              "    }\n",
              "</style>\n",
              "<table border=\"1\" class=\"dataframe\">\n",
              "  <thead>\n",
              "    <tr style=\"text-align: right;\">\n",
              "      <th></th>\n",
              "      <th>total_sales</th>\n",
              "    </tr>\n",
              "    <tr>\n",
              "      <th>platform</th>\n",
              "      <th></th>\n",
              "    </tr>\n",
              "  </thead>\n",
              "  <tbody>\n",
              "    <tr>\n",
              "      <th>PS2</th>\n",
              "      <td>1233.56</td>\n",
              "    </tr>\n",
              "    <tr>\n",
              "      <th>X360</th>\n",
              "      <td>961.24</td>\n",
              "    </tr>\n",
              "    <tr>\n",
              "      <th>PS3</th>\n",
              "      <td>931.34</td>\n",
              "    </tr>\n",
              "    <tr>\n",
              "      <th>Wii</th>\n",
              "      <td>891.18</td>\n",
              "    </tr>\n",
              "    <tr>\n",
              "      <th>DS</th>\n",
              "      <td>802.78</td>\n",
              "    </tr>\n",
              "    <tr>\n",
              "      <th>PS</th>\n",
              "      <td>727.58</td>\n",
              "    </tr>\n",
              "    <tr>\n",
              "      <th>PS4</th>\n",
              "      <td>314.14</td>\n",
              "    </tr>\n",
              "    <tr>\n",
              "      <th>GBA</th>\n",
              "      <td>312.88</td>\n",
              "    </tr>\n",
              "    <tr>\n",
              "      <th>PSP</th>\n",
              "      <td>289.53</td>\n",
              "    </tr>\n",
              "    <tr>\n",
              "      <th>3DS</th>\n",
              "      <td>257.81</td>\n",
              "    </tr>\n",
              "    <tr>\n",
              "      <th>PC</th>\n",
              "      <td>255.76</td>\n",
              "    </tr>\n",
              "    <tr>\n",
              "      <th>GB</th>\n",
              "      <td>254.43</td>\n",
              "    </tr>\n",
              "    <tr>\n",
              "      <th>XB</th>\n",
              "      <td>251.57</td>\n",
              "    </tr>\n",
              "    <tr>\n",
              "      <th>NES</th>\n",
              "      <td>251.05</td>\n",
              "    </tr>\n",
              "    <tr>\n",
              "      <th>N64</th>\n",
              "      <td>218.01</td>\n",
              "    </tr>\n",
              "    <tr>\n",
              "      <th>SNES</th>\n",
              "      <td>200.04</td>\n",
              "    </tr>\n",
              "    <tr>\n",
              "      <th>GC</th>\n",
              "      <td>196.73</td>\n",
              "    </tr>\n",
              "    <tr>\n",
              "      <th>XOne</th>\n",
              "      <td>159.32</td>\n",
              "    </tr>\n",
              "    <tr>\n",
              "      <th>2600</th>\n",
              "      <td>86.48</td>\n",
              "    </tr>\n",
              "    <tr>\n",
              "      <th>WiiU</th>\n",
              "      <td>82.19</td>\n",
              "    </tr>\n",
              "    <tr>\n",
              "      <th>PSV</th>\n",
              "      <td>53.81</td>\n",
              "    </tr>\n",
              "    <tr>\n",
              "      <th>SAT</th>\n",
              "      <td>33.59</td>\n",
              "    </tr>\n",
              "    <tr>\n",
              "      <th>GEN</th>\n",
              "      <td>28.35</td>\n",
              "    </tr>\n",
              "    <tr>\n",
              "      <th>DC</th>\n",
              "      <td>15.95</td>\n",
              "    </tr>\n",
              "    <tr>\n",
              "      <th>SCD</th>\n",
              "      <td>1.86</td>\n",
              "    </tr>\n",
              "    <tr>\n",
              "      <th>NG</th>\n",
              "      <td>1.44</td>\n",
              "    </tr>\n",
              "    <tr>\n",
              "      <th>WS</th>\n",
              "      <td>1.42</td>\n",
              "    </tr>\n",
              "    <tr>\n",
              "      <th>TG16</th>\n",
              "      <td>0.16</td>\n",
              "    </tr>\n",
              "    <tr>\n",
              "      <th>3DO</th>\n",
              "      <td>0.10</td>\n",
              "    </tr>\n",
              "    <tr>\n",
              "      <th>GG</th>\n",
              "      <td>0.04</td>\n",
              "    </tr>\n",
              "    <tr>\n",
              "      <th>PCFX</th>\n",
              "      <td>0.03</td>\n",
              "    </tr>\n",
              "  </tbody>\n",
              "</table>\n",
              "</div>\n",
              "      <button class=\"colab-df-convert\" onclick=\"convertToInteractive('df-c8e82ab1-d183-47ed-a2df-e893691f76c1')\"\n",
              "              title=\"Convert this dataframe to an interactive table.\"\n",
              "              style=\"display:none;\">\n",
              "        \n",
              "  <svg xmlns=\"http://www.w3.org/2000/svg\" height=\"24px\"viewBox=\"0 0 24 24\"\n",
              "       width=\"24px\">\n",
              "    <path d=\"M0 0h24v24H0V0z\" fill=\"none\"/>\n",
              "    <path d=\"M18.56 5.44l.94 2.06.94-2.06 2.06-.94-2.06-.94-.94-2.06-.94 2.06-2.06.94zm-11 1L8.5 8.5l.94-2.06 2.06-.94-2.06-.94L8.5 2.5l-.94 2.06-2.06.94zm10 10l.94 2.06.94-2.06 2.06-.94-2.06-.94-.94-2.06-.94 2.06-2.06.94z\"/><path d=\"M17.41 7.96l-1.37-1.37c-.4-.4-.92-.59-1.43-.59-.52 0-1.04.2-1.43.59L10.3 9.45l-7.72 7.72c-.78.78-.78 2.05 0 2.83L4 21.41c.39.39.9.59 1.41.59.51 0 1.02-.2 1.41-.59l7.78-7.78 2.81-2.81c.8-.78.8-2.07 0-2.86zM5.41 20L4 18.59l7.72-7.72 1.47 1.35L5.41 20z\"/>\n",
              "  </svg>\n",
              "      </button>\n",
              "      \n",
              "  <style>\n",
              "    .colab-df-container {\n",
              "      display:flex;\n",
              "      flex-wrap:wrap;\n",
              "      gap: 12px;\n",
              "    }\n",
              "\n",
              "    .colab-df-convert {\n",
              "      background-color: #E8F0FE;\n",
              "      border: none;\n",
              "      border-radius: 50%;\n",
              "      cursor: pointer;\n",
              "      display: none;\n",
              "      fill: #1967D2;\n",
              "      height: 32px;\n",
              "      padding: 0 0 0 0;\n",
              "      width: 32px;\n",
              "    }\n",
              "\n",
              "    .colab-df-convert:hover {\n",
              "      background-color: #E2EBFA;\n",
              "      box-shadow: 0px 1px 2px rgba(60, 64, 67, 0.3), 0px 1px 3px 1px rgba(60, 64, 67, 0.15);\n",
              "      fill: #174EA6;\n",
              "    }\n",
              "\n",
              "    [theme=dark] .colab-df-convert {\n",
              "      background-color: #3B4455;\n",
              "      fill: #D2E3FC;\n",
              "    }\n",
              "\n",
              "    [theme=dark] .colab-df-convert:hover {\n",
              "      background-color: #434B5C;\n",
              "      box-shadow: 0px 1px 3px 1px rgba(0, 0, 0, 0.15);\n",
              "      filter: drop-shadow(0px 1px 2px rgba(0, 0, 0, 0.3));\n",
              "      fill: #FFFFFF;\n",
              "    }\n",
              "  </style>\n",
              "\n",
              "      <script>\n",
              "        const buttonEl =\n",
              "          document.querySelector('#df-c8e82ab1-d183-47ed-a2df-e893691f76c1 button.colab-df-convert');\n",
              "        buttonEl.style.display =\n",
              "          google.colab.kernel.accessAllowed ? 'block' : 'none';\n",
              "\n",
              "        async function convertToInteractive(key) {\n",
              "          const element = document.querySelector('#df-c8e82ab1-d183-47ed-a2df-e893691f76c1');\n",
              "          const dataTable =\n",
              "            await google.colab.kernel.invokeFunction('convertToInteractive',\n",
              "                                                     [key], {});\n",
              "          if (!dataTable) return;\n",
              "\n",
              "          const docLinkHtml = 'Like what you see? Visit the ' +\n",
              "            '<a target=\"_blank\" href=https://colab.research.google.com/notebooks/data_table.ipynb>data table notebook</a>'\n",
              "            + ' to learn more about interactive tables.';\n",
              "          element.innerHTML = '';\n",
              "          dataTable['output_type'] = 'display_data';\n",
              "          await google.colab.output.renderOutput(dataTable, element);\n",
              "          const docLink = document.createElement('div');\n",
              "          docLink.innerHTML = docLinkHtml;\n",
              "          element.appendChild(docLink);\n",
              "        }\n",
              "      </script>\n",
              "    </div>\n",
              "  </div>\n",
              "  "
            ]
          },
          "metadata": {},
          "execution_count": 452
        }
      ],
      "source": [
        "# Посмотрим, как менялись продажи по платформам\n",
        "platforms = data.pivot_table(index='platform', values='total_sales', aggfunc='sum')\n",
        "platforms = platforms.sort_values(by='total_sales', ascending=False)\n",
        "platforms"
      ]
    },
    {
      "cell_type": "code",
      "execution_count": 453,
      "id": "6b589470",
      "metadata": {
        "colab": {
          "base_uri": "https://localhost:8080/",
          "height": 426
        },
        "id": "6b589470",
        "outputId": "72688392-d6bc-466c-8968-f69a1dc7ebe9"
      },
      "outputs": [
        {
          "output_type": "display_data",
          "data": {
            "text/plain": [
              "          total_sales\n",
              "platform             \n",
              "PS4            314.14\n",
              "PS3            181.43\n",
              "XOne           159.32\n",
              "3DS            143.25\n",
              "X360           136.80\n",
              "WiiU            64.63\n",
              "PC              39.43\n",
              "PSV             32.99\n",
              "Wii             13.66\n",
              "PSP              3.50\n",
              "DS               1.54"
            ],
            "text/html": [
              "\n",
              "  <div id=\"df-8fccb73e-c4a4-43f8-94e9-941b0bc2a1db\">\n",
              "    <div class=\"colab-df-container\">\n",
              "      <div>\n",
              "<style scoped>\n",
              "    .dataframe tbody tr th:only-of-type {\n",
              "        vertical-align: middle;\n",
              "    }\n",
              "\n",
              "    .dataframe tbody tr th {\n",
              "        vertical-align: top;\n",
              "    }\n",
              "\n",
              "    .dataframe thead th {\n",
              "        text-align: right;\n",
              "    }\n",
              "</style>\n",
              "<table border=\"1\" class=\"dataframe\">\n",
              "  <thead>\n",
              "    <tr style=\"text-align: right;\">\n",
              "      <th></th>\n",
              "      <th>total_sales</th>\n",
              "    </tr>\n",
              "    <tr>\n",
              "      <th>platform</th>\n",
              "      <th></th>\n",
              "    </tr>\n",
              "  </thead>\n",
              "  <tbody>\n",
              "    <tr>\n",
              "      <th>PS4</th>\n",
              "      <td>314.14</td>\n",
              "    </tr>\n",
              "    <tr>\n",
              "      <th>PS3</th>\n",
              "      <td>181.43</td>\n",
              "    </tr>\n",
              "    <tr>\n",
              "      <th>XOne</th>\n",
              "      <td>159.32</td>\n",
              "    </tr>\n",
              "    <tr>\n",
              "      <th>3DS</th>\n",
              "      <td>143.25</td>\n",
              "    </tr>\n",
              "    <tr>\n",
              "      <th>X360</th>\n",
              "      <td>136.80</td>\n",
              "    </tr>\n",
              "    <tr>\n",
              "      <th>WiiU</th>\n",
              "      <td>64.63</td>\n",
              "    </tr>\n",
              "    <tr>\n",
              "      <th>PC</th>\n",
              "      <td>39.43</td>\n",
              "    </tr>\n",
              "    <tr>\n",
              "      <th>PSV</th>\n",
              "      <td>32.99</td>\n",
              "    </tr>\n",
              "    <tr>\n",
              "      <th>Wii</th>\n",
              "      <td>13.66</td>\n",
              "    </tr>\n",
              "    <tr>\n",
              "      <th>PSP</th>\n",
              "      <td>3.50</td>\n",
              "    </tr>\n",
              "    <tr>\n",
              "      <th>DS</th>\n",
              "      <td>1.54</td>\n",
              "    </tr>\n",
              "  </tbody>\n",
              "</table>\n",
              "</div>\n",
              "      <button class=\"colab-df-convert\" onclick=\"convertToInteractive('df-8fccb73e-c4a4-43f8-94e9-941b0bc2a1db')\"\n",
              "              title=\"Convert this dataframe to an interactive table.\"\n",
              "              style=\"display:none;\">\n",
              "        \n",
              "  <svg xmlns=\"http://www.w3.org/2000/svg\" height=\"24px\"viewBox=\"0 0 24 24\"\n",
              "       width=\"24px\">\n",
              "    <path d=\"M0 0h24v24H0V0z\" fill=\"none\"/>\n",
              "    <path d=\"M18.56 5.44l.94 2.06.94-2.06 2.06-.94-2.06-.94-.94-2.06-.94 2.06-2.06.94zm-11 1L8.5 8.5l.94-2.06 2.06-.94-2.06-.94L8.5 2.5l-.94 2.06-2.06.94zm10 10l.94 2.06.94-2.06 2.06-.94-2.06-.94-.94-2.06-.94 2.06-2.06.94z\"/><path d=\"M17.41 7.96l-1.37-1.37c-.4-.4-.92-.59-1.43-.59-.52 0-1.04.2-1.43.59L10.3 9.45l-7.72 7.72c-.78.78-.78 2.05 0 2.83L4 21.41c.39.39.9.59 1.41.59.51 0 1.02-.2 1.41-.59l7.78-7.78 2.81-2.81c.8-.78.8-2.07 0-2.86zM5.41 20L4 18.59l7.72-7.72 1.47 1.35L5.41 20z\"/>\n",
              "  </svg>\n",
              "      </button>\n",
              "      \n",
              "  <style>\n",
              "    .colab-df-container {\n",
              "      display:flex;\n",
              "      flex-wrap:wrap;\n",
              "      gap: 12px;\n",
              "    }\n",
              "\n",
              "    .colab-df-convert {\n",
              "      background-color: #E8F0FE;\n",
              "      border: none;\n",
              "      border-radius: 50%;\n",
              "      cursor: pointer;\n",
              "      display: none;\n",
              "      fill: #1967D2;\n",
              "      height: 32px;\n",
              "      padding: 0 0 0 0;\n",
              "      width: 32px;\n",
              "    }\n",
              "\n",
              "    .colab-df-convert:hover {\n",
              "      background-color: #E2EBFA;\n",
              "      box-shadow: 0px 1px 2px rgba(60, 64, 67, 0.3), 0px 1px 3px 1px rgba(60, 64, 67, 0.15);\n",
              "      fill: #174EA6;\n",
              "    }\n",
              "\n",
              "    [theme=dark] .colab-df-convert {\n",
              "      background-color: #3B4455;\n",
              "      fill: #D2E3FC;\n",
              "    }\n",
              "\n",
              "    [theme=dark] .colab-df-convert:hover {\n",
              "      background-color: #434B5C;\n",
              "      box-shadow: 0px 1px 3px 1px rgba(0, 0, 0, 0.15);\n",
              "      filter: drop-shadow(0px 1px 2px rgba(0, 0, 0, 0.3));\n",
              "      fill: #FFFFFF;\n",
              "    }\n",
              "  </style>\n",
              "\n",
              "      <script>\n",
              "        const buttonEl =\n",
              "          document.querySelector('#df-8fccb73e-c4a4-43f8-94e9-941b0bc2a1db button.colab-df-convert');\n",
              "        buttonEl.style.display =\n",
              "          google.colab.kernel.accessAllowed ? 'block' : 'none';\n",
              "\n",
              "        async function convertToInteractive(key) {\n",
              "          const element = document.querySelector('#df-8fccb73e-c4a4-43f8-94e9-941b0bc2a1db');\n",
              "          const dataTable =\n",
              "            await google.colab.kernel.invokeFunction('convertToInteractive',\n",
              "                                                     [key], {});\n",
              "          if (!dataTable) return;\n",
              "\n",
              "          const docLinkHtml = 'Like what you see? Visit the ' +\n",
              "            '<a target=\"_blank\" href=https://colab.research.google.com/notebooks/data_table.ipynb>data table notebook</a>'\n",
              "            + ' to learn more about interactive tables.';\n",
              "          element.innerHTML = '';\n",
              "          dataTable['output_type'] = 'display_data';\n",
              "          await google.colab.output.renderOutput(dataTable, element);\n",
              "          const docLink = document.createElement('div');\n",
              "          docLink.innerHTML = docLinkHtml;\n",
              "          element.appendChild(docLink);\n",
              "        }\n",
              "      </script>\n",
              "    </div>\n",
              "  </div>\n",
              "  "
            ]
          },
          "metadata": {}
        }
      ],
      "source": [
        "# ограничим данные по продажам игр начиная с 2013 года\n",
        "modern_platforms = data.query('year_of_release > 2012')\n",
        "\n",
        "# посмотрим на самые продаваемые платформы \n",
        "top_platforms = modern_platforms.pivot_table(index=['platform'], values='total_sales', aggfunc='sum')\n",
        "display(top_platforms.sort_values(by='total_sales', ascending=False))\n",
        "\n",
        "# создадим список из пяти самых успешных платформ\n",
        "platforms = ['PS4', 'PS3', 'XOne', '3DS', 'X360']\n",
        "data_top_platforms = data.query('platform in @platforms and year_of_release > 2012')"
      ]
    },
    {
      "cell_type": "code",
      "execution_count": 454,
      "id": "ec0ec5d9",
      "metadata": {
        "colab": {
          "base_uri": "https://localhost:8080/",
          "height": 708
        },
        "id": "ec0ec5d9",
        "outputId": "a55773ad-2d5c-46af-ea80-93d48b6f7afb"
      },
      "outputs": [
        {
          "output_type": "display_data",
          "data": {
            "text/plain": [
              "                          total_sales\n",
              "platform year_of_release             \n",
              "3DS      2013-01-01             56.57\n",
              "         2014-01-01             43.76\n",
              "         2015-01-01             27.78\n",
              "         2016-01-01             15.14\n",
              "PS3      2013-01-01            113.25\n",
              "         2014-01-01             47.76\n",
              "         2015-01-01             16.82\n",
              "         2016-01-01              3.60\n",
              "PS4      2013-01-01             25.99\n",
              "         2014-01-01            100.00\n",
              "         2015-01-01            118.90\n",
              "         2016-01-01             69.25\n",
              "X360     2013-01-01             88.58\n",
              "         2014-01-01             34.74\n",
              "         2015-01-01             11.96\n",
              "         2016-01-01              1.52\n",
              "XOne     2013-01-01             18.96\n",
              "         2014-01-01             54.07\n",
              "         2015-01-01             60.14\n",
              "         2016-01-01             26.15"
            ],
            "text/html": [
              "\n",
              "  <div id=\"df-e0fbb3dc-277c-4b4a-b20b-2a021746047e\">\n",
              "    <div class=\"colab-df-container\">\n",
              "      <div>\n",
              "<style scoped>\n",
              "    .dataframe tbody tr th:only-of-type {\n",
              "        vertical-align: middle;\n",
              "    }\n",
              "\n",
              "    .dataframe tbody tr th {\n",
              "        vertical-align: top;\n",
              "    }\n",
              "\n",
              "    .dataframe thead th {\n",
              "        text-align: right;\n",
              "    }\n",
              "</style>\n",
              "<table border=\"1\" class=\"dataframe\">\n",
              "  <thead>\n",
              "    <tr style=\"text-align: right;\">\n",
              "      <th></th>\n",
              "      <th></th>\n",
              "      <th>total_sales</th>\n",
              "    </tr>\n",
              "    <tr>\n",
              "      <th>platform</th>\n",
              "      <th>year_of_release</th>\n",
              "      <th></th>\n",
              "    </tr>\n",
              "  </thead>\n",
              "  <tbody>\n",
              "    <tr>\n",
              "      <th rowspan=\"4\" valign=\"top\">3DS</th>\n",
              "      <th>2013-01-01</th>\n",
              "      <td>56.57</td>\n",
              "    </tr>\n",
              "    <tr>\n",
              "      <th>2014-01-01</th>\n",
              "      <td>43.76</td>\n",
              "    </tr>\n",
              "    <tr>\n",
              "      <th>2015-01-01</th>\n",
              "      <td>27.78</td>\n",
              "    </tr>\n",
              "    <tr>\n",
              "      <th>2016-01-01</th>\n",
              "      <td>15.14</td>\n",
              "    </tr>\n",
              "    <tr>\n",
              "      <th rowspan=\"4\" valign=\"top\">PS3</th>\n",
              "      <th>2013-01-01</th>\n",
              "      <td>113.25</td>\n",
              "    </tr>\n",
              "    <tr>\n",
              "      <th>2014-01-01</th>\n",
              "      <td>47.76</td>\n",
              "    </tr>\n",
              "    <tr>\n",
              "      <th>2015-01-01</th>\n",
              "      <td>16.82</td>\n",
              "    </tr>\n",
              "    <tr>\n",
              "      <th>2016-01-01</th>\n",
              "      <td>3.60</td>\n",
              "    </tr>\n",
              "    <tr>\n",
              "      <th rowspan=\"4\" valign=\"top\">PS4</th>\n",
              "      <th>2013-01-01</th>\n",
              "      <td>25.99</td>\n",
              "    </tr>\n",
              "    <tr>\n",
              "      <th>2014-01-01</th>\n",
              "      <td>100.00</td>\n",
              "    </tr>\n",
              "    <tr>\n",
              "      <th>2015-01-01</th>\n",
              "      <td>118.90</td>\n",
              "    </tr>\n",
              "    <tr>\n",
              "      <th>2016-01-01</th>\n",
              "      <td>69.25</td>\n",
              "    </tr>\n",
              "    <tr>\n",
              "      <th rowspan=\"4\" valign=\"top\">X360</th>\n",
              "      <th>2013-01-01</th>\n",
              "      <td>88.58</td>\n",
              "    </tr>\n",
              "    <tr>\n",
              "      <th>2014-01-01</th>\n",
              "      <td>34.74</td>\n",
              "    </tr>\n",
              "    <tr>\n",
              "      <th>2015-01-01</th>\n",
              "      <td>11.96</td>\n",
              "    </tr>\n",
              "    <tr>\n",
              "      <th>2016-01-01</th>\n",
              "      <td>1.52</td>\n",
              "    </tr>\n",
              "    <tr>\n",
              "      <th rowspan=\"4\" valign=\"top\">XOne</th>\n",
              "      <th>2013-01-01</th>\n",
              "      <td>18.96</td>\n",
              "    </tr>\n",
              "    <tr>\n",
              "      <th>2014-01-01</th>\n",
              "      <td>54.07</td>\n",
              "    </tr>\n",
              "    <tr>\n",
              "      <th>2015-01-01</th>\n",
              "      <td>60.14</td>\n",
              "    </tr>\n",
              "    <tr>\n",
              "      <th>2016-01-01</th>\n",
              "      <td>26.15</td>\n",
              "    </tr>\n",
              "  </tbody>\n",
              "</table>\n",
              "</div>\n",
              "      <button class=\"colab-df-convert\" onclick=\"convertToInteractive('df-e0fbb3dc-277c-4b4a-b20b-2a021746047e')\"\n",
              "              title=\"Convert this dataframe to an interactive table.\"\n",
              "              style=\"display:none;\">\n",
              "        \n",
              "  <svg xmlns=\"http://www.w3.org/2000/svg\" height=\"24px\"viewBox=\"0 0 24 24\"\n",
              "       width=\"24px\">\n",
              "    <path d=\"M0 0h24v24H0V0z\" fill=\"none\"/>\n",
              "    <path d=\"M18.56 5.44l.94 2.06.94-2.06 2.06-.94-2.06-.94-.94-2.06-.94 2.06-2.06.94zm-11 1L8.5 8.5l.94-2.06 2.06-.94-2.06-.94L8.5 2.5l-.94 2.06-2.06.94zm10 10l.94 2.06.94-2.06 2.06-.94-2.06-.94-.94-2.06-.94 2.06-2.06.94z\"/><path d=\"M17.41 7.96l-1.37-1.37c-.4-.4-.92-.59-1.43-.59-.52 0-1.04.2-1.43.59L10.3 9.45l-7.72 7.72c-.78.78-.78 2.05 0 2.83L4 21.41c.39.39.9.59 1.41.59.51 0 1.02-.2 1.41-.59l7.78-7.78 2.81-2.81c.8-.78.8-2.07 0-2.86zM5.41 20L4 18.59l7.72-7.72 1.47 1.35L5.41 20z\"/>\n",
              "  </svg>\n",
              "      </button>\n",
              "      \n",
              "  <style>\n",
              "    .colab-df-container {\n",
              "      display:flex;\n",
              "      flex-wrap:wrap;\n",
              "      gap: 12px;\n",
              "    }\n",
              "\n",
              "    .colab-df-convert {\n",
              "      background-color: #E8F0FE;\n",
              "      border: none;\n",
              "      border-radius: 50%;\n",
              "      cursor: pointer;\n",
              "      display: none;\n",
              "      fill: #1967D2;\n",
              "      height: 32px;\n",
              "      padding: 0 0 0 0;\n",
              "      width: 32px;\n",
              "    }\n",
              "\n",
              "    .colab-df-convert:hover {\n",
              "      background-color: #E2EBFA;\n",
              "      box-shadow: 0px 1px 2px rgba(60, 64, 67, 0.3), 0px 1px 3px 1px rgba(60, 64, 67, 0.15);\n",
              "      fill: #174EA6;\n",
              "    }\n",
              "\n",
              "    [theme=dark] .colab-df-convert {\n",
              "      background-color: #3B4455;\n",
              "      fill: #D2E3FC;\n",
              "    }\n",
              "\n",
              "    [theme=dark] .colab-df-convert:hover {\n",
              "      background-color: #434B5C;\n",
              "      box-shadow: 0px 1px 3px 1px rgba(0, 0, 0, 0.15);\n",
              "      filter: drop-shadow(0px 1px 2px rgba(0, 0, 0, 0.3));\n",
              "      fill: #FFFFFF;\n",
              "    }\n",
              "  </style>\n",
              "\n",
              "      <script>\n",
              "        const buttonEl =\n",
              "          document.querySelector('#df-e0fbb3dc-277c-4b4a-b20b-2a021746047e button.colab-df-convert');\n",
              "        buttonEl.style.display =\n",
              "          google.colab.kernel.accessAllowed ? 'block' : 'none';\n",
              "\n",
              "        async function convertToInteractive(key) {\n",
              "          const element = document.querySelector('#df-e0fbb3dc-277c-4b4a-b20b-2a021746047e');\n",
              "          const dataTable =\n",
              "            await google.colab.kernel.invokeFunction('convertToInteractive',\n",
              "                                                     [key], {});\n",
              "          if (!dataTable) return;\n",
              "\n",
              "          const docLinkHtml = 'Like what you see? Visit the ' +\n",
              "            '<a target=\"_blank\" href=https://colab.research.google.com/notebooks/data_table.ipynb>data table notebook</a>'\n",
              "            + ' to learn more about interactive tables.';\n",
              "          element.innerHTML = '';\n",
              "          dataTable['output_type'] = 'display_data';\n",
              "          await google.colab.output.renderOutput(dataTable, element);\n",
              "          const docLink = document.createElement('div');\n",
              "          docLink.innerHTML = docLinkHtml;\n",
              "          element.appendChild(docLink);\n",
              "        }\n",
              "      </script>\n",
              "    </div>\n",
              "  </div>\n",
              "  "
            ]
          },
          "metadata": {}
        }
      ],
      "source": [
        "# создадим таблицу с топ-платформами и распределением их продаж по годам\n",
        "top_platforms_by_years = data_top_platforms.pivot_table(index=['platform', 'year_of_release'], values='total_sales', aggfunc='sum')\n",
        "display(top_platforms_by_years)\n",
        "top_platforms_by_years = top_platforms_by_years.reset_index()\n"
      ]
    },
    {
      "cell_type": "code",
      "execution_count": 455,
      "id": "6143f840",
      "metadata": {
        "colab": {
          "base_uri": "https://localhost:8080/",
          "height": 468
        },
        "id": "6143f840",
        "outputId": "4a52a807-f4d9-4ad1-f8e1-bfff61a6d6cf"
      },
      "outputs": [
        {
          "output_type": "execute_result",
          "data": {
            "text/plain": [
              "<Axes: xlabel='year_of_release', ylabel='total_sales'>"
            ]
          },
          "metadata": {},
          "execution_count": 455
        },
        {
          "output_type": "display_data",
          "data": {
            "text/plain": [
              "<Figure size 640x480 with 1 Axes>"
            ],
            "image/png": "[encoded data removed]"
          },
          "metadata": {}
        }
      ],
      "source": [
        "# построим линейный график распределения продаж по годам для разных платформ\n",
        "sns.lineplot(data=top_platforms_by_years, x='year_of_release', y='total_sales', hue='platform')"
      ]
    },
    {
      "cell_type": "code",
      "execution_count": 456,
      "id": "41401215",
      "metadata": {
        "colab": {
          "base_uri": "https://localhost:8080/",
          "height": 687
        },
        "id": "41401215",
        "outputId": "5dc976fc-85f6-426f-b27b-36ab37eacd98"
      },
      "outputs": [
        {
          "output_type": "execute_result",
          "data": {
            "text/plain": [
              "<Axes: xlabel='year_of_release', ylabel='platform'>"
            ]
          },
          "metadata": {},
          "execution_count": 456
        },
        {
          "output_type": "display_data",
          "data": {
            "text/plain": [
              "<Figure size 640x480 with 2 Axes>"
            ],
            "image/png": "[encoded data removed]"
          },
          "metadata": {}
        }
      ],
      "source": [
        "# построим тепловой график распределения продаж по годам для разных платформ\n",
        "pivot = top_platforms_by_years.pivot_table(\n",
        "    index=[\"platform\"],\n",
        "    columns=[\"year_of_release\"],\n",
        "    values=\"total_sales\",\n",
        "    aggfunc=np.sum)\n",
        "sns.heatmap(pivot)"
      ]
    },
    {
      "cell_type": "markdown",
      "id": "26687a3a",
      "metadata": {
        "id": "26687a3a"
      },
      "source": [
        "Из графиков очевидно, что продажи по всем платформам упали к концу 2016 года, при этом для трех платформ падение продолжалось с 2013 года - видна устойчивая тенденция к снижению продаж. Продажи для PS4 и XOne за исследуемый период пережили взлет и начали медленное падение в 2015 году. Лидер по числу проданных копий - PS4 (пик в 2015 году - почти 119 млн.копий), затем с небольшим отрывом следует PS3 - 113.25 млн. копий в 2013 году. При этом в 2016 году для PS4 было продано всего 69.25 млн. копий, т.е. продажи упали в 1.7 раз. Минимум продаж к концу исследуемого периода пришелся на X360 - 1.52 млн.копий.\n"
      ]
    },
    {
      "cell_type": "code",
      "execution_count": 457,
      "id": "c23f87d9",
      "metadata": {
        "colab": {
          "base_uri": "https://localhost:8080/",
          "height": 449
        },
        "id": "c23f87d9",
        "outputId": "210f075e-a55a-471c-87fc-5a3db359dc67"
      },
      "outputs": [
        {
          "output_type": "display_data",
          "data": {
            "text/plain": [
              "<Figure size 640x480 with 1 Axes>"
            ],
            "image/png": "[encoded data removed]"
          },
          "metadata": {}
        }
      ],
      "source": [
        "# Построим график «ящик с усами» по глобальным продажам игр в разбивке по популярным платформам за период с 2013 года\n",
        "sns.boxplot(x=top_platforms_by_years['platform'], y=top_platforms_by_years['total_sales']) \n",
        "plt.show()\n",
        "\n"
      ]
    },
    {
      "cell_type": "markdown",
      "id": "cd2db98e",
      "metadata": {
        "id": "cd2db98e"
      },
      "source": [
        "\"Ящик с усами\" позволяет сделать следующие выводы:\n",
        "* в данных о продажах нет выбросов для всех платформ;\n",
        "* больше всего скошены вверх данные платформ X360 и PS3 — медианы находятся на отметке около 25 млн.копий, а значения выше этой цифры имеют гораздо больший размах, чем расположенные ниже. Это значит в определенный период продажи игр на этих платформах начали меняться каждый год с большим размахом;\n",
        "* выше всего по отношению к остальным платформам медиана расположена у PS4 — около 90 млн.копий;\n",
        "* у XOne и 3DS наиболее гармоничные межквартильные размахи с равномерным распределением данных между Q1 и Q3, т.е. размер количества проданных копий менялся равномерно;\n",
        "* нижние \"усы\" у PS3 и X360 начинаются практически на нулевой отметке;\n",
        "* у PS3 самый длинный верхний \"ус\", упирающийся в отметку в 118 млн.копий: в один из периодов для этой платформы было продано гораздо больше копий, чем в остальные годы.\n",
        "\n"
      ]
    },
    {
      "cell_type": "code",
      "execution_count": 458,
      "id": "87be562b",
      "metadata": {
        "colab": {
          "base_uri": "https://localhost:8080/",
          "height": 579
        },
        "id": "87be562b",
        "outputId": "b0d8a0b5-21d2-4c4c-86bd-062d060c6a6c"
      },
      "outputs": [
        {
          "output_type": "execute_result",
          "data": {
            "text/plain": [
              "              user_score  critic_score  total_sales\n",
              "user_score      1.000000      0.557654    -0.031957\n",
              "critic_score    0.557654      1.000000     0.406568\n",
              "total_sales    -0.031957      0.406568     1.000000"
            ],
            "text/html": [
              "\n",
              "  <div id=\"df-fa2f5a5c-4f30-4e1e-8f37-0c5a04b84fd2\">\n",
              "    <div class=\"colab-df-container\">\n",
              "      <div>\n",
              "<style scoped>\n",
              "    .dataframe tbody tr th:only-of-type {\n",
              "        vertical-align: middle;\n",
              "    }\n",
              "\n",
              "    .dataframe tbody tr th {\n",
              "        vertical-align: top;\n",
              "    }\n",
              "\n",
              "    .dataframe thead th {\n",
              "        text-align: right;\n",
              "    }\n",
              "</style>\n",
              "<table border=\"1\" class=\"dataframe\">\n",
              "  <thead>\n",
              "    <tr style=\"text-align: right;\">\n",
              "      <th></th>\n",
              "      <th>user_score</th>\n",
              "      <th>critic_score</th>\n",
              "      <th>total_sales</th>\n",
              "    </tr>\n",
              "  </thead>\n",
              "  <tbody>\n",
              "    <tr>\n",
              "      <th>user_score</th>\n",
              "      <td>1.000000</td>\n",
              "      <td>0.557654</td>\n",
              "      <td>-0.031957</td>\n",
              "    </tr>\n",
              "    <tr>\n",
              "      <th>critic_score</th>\n",
              "      <td>0.557654</td>\n",
              "      <td>1.000000</td>\n",
              "      <td>0.406568</td>\n",
              "    </tr>\n",
              "    <tr>\n",
              "      <th>total_sales</th>\n",
              "      <td>-0.031957</td>\n",
              "      <td>0.406568</td>\n",
              "      <td>1.000000</td>\n",
              "    </tr>\n",
              "  </tbody>\n",
              "</table>\n",
              "</div>\n",
              "      <button class=\"colab-df-convert\" onclick=\"convertToInteractive('df-fa2f5a5c-4f30-4e1e-8f37-0c5a04b84fd2')\"\n",
              "              title=\"Convert this dataframe to an interactive table.\"\n",
              "              style=\"display:none;\">\n",
              "        \n",
              "  <svg xmlns=\"http://www.w3.org/2000/svg\" height=\"24px\"viewBox=\"0 0 24 24\"\n",
              "       width=\"24px\">\n",
              "    <path d=\"M0 0h24v24H0V0z\" fill=\"none\"/>\n",
              "    <path d=\"M18.56 5.44l.94 2.06.94-2.06 2.06-.94-2.06-.94-.94-2.06-.94 2.06-2.06.94zm-11 1L8.5 8.5l.94-2.06 2.06-.94-2.06-.94L8.5 2.5l-.94 2.06-2.06.94zm10 10l.94 2.06.94-2.06 2.06-.94-2.06-.94-.94-2.06-.94 2.06-2.06.94z\"/><path d=\"M17.41 7.96l-1.37-1.37c-.4-.4-.92-.59-1.43-.59-.52 0-1.04.2-1.43.59L10.3 9.45l-7.72 7.72c-.78.78-.78 2.05 0 2.83L4 21.41c.39.39.9.59 1.41.59.51 0 1.02-.2 1.41-.59l7.78-7.78 2.81-2.81c.8-.78.8-2.07 0-2.86zM5.41 20L4 18.59l7.72-7.72 1.47 1.35L5.41 20z\"/>\n",
              "  </svg>\n",
              "      </button>\n",
              "      \n",
              "  <style>\n",
              "    .colab-df-container {\n",
              "      display:flex;\n",
              "      flex-wrap:wrap;\n",
              "      gap: 12px;\n",
              "    }\n",
              "\n",
              "    .colab-df-convert {\n",
              "      background-color: #E8F0FE;\n",
              "      border: none;\n",
              "      border-radius: 50%;\n",
              "      cursor: pointer;\n",
              "      display: none;\n",
              "      fill: #1967D2;\n",
              "      height: 32px;\n",
              "      padding: 0 0 0 0;\n",
              "      width: 32px;\n",
              "    }\n",
              "\n",
              "    .colab-df-convert:hover {\n",
              "      background-color: #E2EBFA;\n",
              "      box-shadow: 0px 1px 2px rgba(60, 64, 67, 0.3), 0px 1px 3px 1px rgba(60, 64, 67, 0.15);\n",
              "      fill: #174EA6;\n",
              "    }\n",
              "\n",
              "    [theme=dark] .colab-df-convert {\n",
              "      background-color: #3B4455;\n",
              "      fill: #D2E3FC;\n",
              "    }\n",
              "\n",
              "    [theme=dark] .colab-df-convert:hover {\n",
              "      background-color: #434B5C;\n",
              "      box-shadow: 0px 1px 3px 1px rgba(0, 0, 0, 0.15);\n",
              "      filter: drop-shadow(0px 1px 2px rgba(0, 0, 0, 0.3));\n",
              "      fill: #FFFFFF;\n",
              "    }\n",
              "  </style>\n",
              "\n",
              "      <script>\n",
              "        const buttonEl =\n",
              "          document.querySelector('#df-fa2f5a5c-4f30-4e1e-8f37-0c5a04b84fd2 button.colab-df-convert');\n",
              "        buttonEl.style.display =\n",
              "          google.colab.kernel.accessAllowed ? 'block' : 'none';\n",
              "\n",
              "        async function convertToInteractive(key) {\n",
              "          const element = document.querySelector('#df-fa2f5a5c-4f30-4e1e-8f37-0c5a04b84fd2');\n",
              "          const dataTable =\n",
              "            await google.colab.kernel.invokeFunction('convertToInteractive',\n",
              "                                                     [key], {});\n",
              "          if (!dataTable) return;\n",
              "\n",
              "          const docLinkHtml = 'Like what you see? Visit the ' +\n",
              "            '<a target=\"_blank\" href=https://colab.research.google.com/notebooks/data_table.ipynb>data table notebook</a>'\n",
              "            + ' to learn more about interactive tables.';\n",
              "          element.innerHTML = '';\n",
              "          dataTable['output_type'] = 'display_data';\n",
              "          await google.colab.output.renderOutput(dataTable, element);\n",
              "          const docLink = document.createElement('div');\n",
              "          docLink.innerHTML = docLinkHtml;\n",
              "          element.appendChild(docLink);\n",
              "        }\n",
              "      </script>\n",
              "    </div>\n",
              "  </div>\n",
              "  "
            ]
          },
          "metadata": {},
          "execution_count": 458
        },
        {
          "output_type": "display_data",
          "data": {
            "text/plain": [
              "<Figure size 640x480 with 9 Axes>"
            ],
            "image/png": "[encoded data removed]"
          },
          "metadata": {}
        }
      ],
      "source": [
        "# Посмотрим, как влияют на продажи внутри популярной платформы PS4 отзывы пользователей и критиков\n",
        "PS4_platform = data_top_platforms[['platform','user_score', 'critic_score', 'total_sales']].query('platform == \"PS4\"')\n",
        "\n",
        "# Построим диаграмму рассеяния и посчитаем корреляцию между отзывами и продажами\n",
        "pd.plotting.scatter_matrix(PS4_platform)\n",
        "PS4_platform.corr()\n"
      ]
    },
    {
      "cell_type": "markdown",
      "id": "20eada55",
      "metadata": {
        "id": "20eada55"
      },
      "source": [
        "Мы посчитали корреляцию между отзывами и продажами, а также построили диаграмму рассеяния для платформы PS4. На основании полученного результата можно сделать следующие выводы:\n",
        "* самый высокий коэффициент корреляции между параметрами user score и critic score (5.5). Это значит, что отзывы критиков влияют на отзывы пользователей и наоборот, но это влияние не очень высокое. На диаграмме рассеяния также видно, что отзывов с положительными оценками со стороны обеих групп намного больше, чем с отрицательными. А варианты с низкими оценками с одной стороны и высокими с другой единичны;\n",
        "* влияния отзывов пользователей на продажи практически нет, коэффициент очень низкий (-0.03), но в то же время он отрицательный, т.е. либо рост продаж минимально влияет на снижение оценки пользователями, либо наоборот. Коэффициент влияния оценки критиков на продажи выше— 0.4 — это говорит о том, что положительная корреляция присутствует. Диаграмма рассеяния также показывает, что скачки продаж на платформе происходили только для игр с высокими отзывами со стороны критиков."
      ]
    },
    {
      "cell_type": "code",
      "execution_count": 459,
      "id": "7ec27cd5",
      "metadata": {
        "colab": {
          "base_uri": "https://localhost:8080/",
          "height": 579
        },
        "id": "7ec27cd5",
        "outputId": "570a6f26-1647-4625-8bc0-477f485015fd"
      },
      "outputs": [
        {
          "output_type": "execute_result",
          "data": {
            "text/plain": [
              "              user_score  critic_score  total_sales\n",
              "user_score      1.000000      0.520946    -0.011742\n",
              "critic_score    0.520946      1.000000     0.350345\n",
              "total_sales    -0.011742      0.350345     1.000000"
            ],
            "text/html": [
              "\n",
              "  <div id=\"df-d7668f33-7228-4359-b10d-fc62b3d907b6\">\n",
              "    <div class=\"colab-df-container\">\n",
              "      <div>\n",
              "<style scoped>\n",
              "    .dataframe tbody tr th:only-of-type {\n",
              "        vertical-align: middle;\n",
              "    }\n",
              "\n",
              "    .dataframe tbody tr th {\n",
              "        vertical-align: top;\n",
              "    }\n",
              "\n",
              "    .dataframe thead th {\n",
              "        text-align: right;\n",
              "    }\n",
              "</style>\n",
              "<table border=\"1\" class=\"dataframe\">\n",
              "  <thead>\n",
              "    <tr style=\"text-align: right;\">\n",
              "      <th></th>\n",
              "      <th>user_score</th>\n",
              "      <th>critic_score</th>\n",
              "      <th>total_sales</th>\n",
              "    </tr>\n",
              "  </thead>\n",
              "  <tbody>\n",
              "    <tr>\n",
              "      <th>user_score</th>\n",
              "      <td>1.000000</td>\n",
              "      <td>0.520946</td>\n",
              "      <td>-0.011742</td>\n",
              "    </tr>\n",
              "    <tr>\n",
              "      <th>critic_score</th>\n",
              "      <td>0.520946</td>\n",
              "      <td>1.000000</td>\n",
              "      <td>0.350345</td>\n",
              "    </tr>\n",
              "    <tr>\n",
              "      <th>total_sales</th>\n",
              "      <td>-0.011742</td>\n",
              "      <td>0.350345</td>\n",
              "      <td>1.000000</td>\n",
              "    </tr>\n",
              "  </tbody>\n",
              "</table>\n",
              "</div>\n",
              "      <button class=\"colab-df-convert\" onclick=\"convertToInteractive('df-d7668f33-7228-4359-b10d-fc62b3d907b6')\"\n",
              "              title=\"Convert this dataframe to an interactive table.\"\n",
              "              style=\"display:none;\">\n",
              "        \n",
              "  <svg xmlns=\"http://www.w3.org/2000/svg\" height=\"24px\"viewBox=\"0 0 24 24\"\n",
              "       width=\"24px\">\n",
              "    <path d=\"M0 0h24v24H0V0z\" fill=\"none\"/>\n",
              "    <path d=\"M18.56 5.44l.94 2.06.94-2.06 2.06-.94-2.06-.94-.94-2.06-.94 2.06-2.06.94zm-11 1L8.5 8.5l.94-2.06 2.06-.94-2.06-.94L8.5 2.5l-.94 2.06-2.06.94zm10 10l.94 2.06.94-2.06 2.06-.94-2.06-.94-.94-2.06-.94 2.06-2.06.94z\"/><path d=\"M17.41 7.96l-1.37-1.37c-.4-.4-.92-.59-1.43-.59-.52 0-1.04.2-1.43.59L10.3 9.45l-7.72 7.72c-.78.78-.78 2.05 0 2.83L4 21.41c.39.39.9.59 1.41.59.51 0 1.02-.2 1.41-.59l7.78-7.78 2.81-2.81c.8-.78.8-2.07 0-2.86zM5.41 20L4 18.59l7.72-7.72 1.47 1.35L5.41 20z\"/>\n",
              "  </svg>\n",
              "      </button>\n",
              "      \n",
              "  <style>\n",
              "    .colab-df-container {\n",
              "      display:flex;\n",
              "      flex-wrap:wrap;\n",
              "      gap: 12px;\n",
              "    }\n",
              "\n",
              "    .colab-df-convert {\n",
              "      background-color: #E8F0FE;\n",
              "      border: none;\n",
              "      border-radius: 50%;\n",
              "      cursor: pointer;\n",
              "      display: none;\n",
              "      fill: #1967D2;\n",
              "      height: 32px;\n",
              "      padding: 0 0 0 0;\n",
              "      width: 32px;\n",
              "    }\n",
              "\n",
              "    .colab-df-convert:hover {\n",
              "      background-color: #E2EBFA;\n",
              "      box-shadow: 0px 1px 2px rgba(60, 64, 67, 0.3), 0px 1px 3px 1px rgba(60, 64, 67, 0.15);\n",
              "      fill: #174EA6;\n",
              "    }\n",
              "\n",
              "    [theme=dark] .colab-df-convert {\n",
              "      background-color: #3B4455;\n",
              "      fill: #D2E3FC;\n",
              "    }\n",
              "\n",
              "    [theme=dark] .colab-df-convert:hover {\n",
              "      background-color: #434B5C;\n",
              "      box-shadow: 0px 1px 3px 1px rgba(0, 0, 0, 0.15);\n",
              "      filter: drop-shadow(0px 1px 2px rgba(0, 0, 0, 0.3));\n",
              "      fill: #FFFFFF;\n",
              "    }\n",
              "  </style>\n",
              "\n",
              "      <script>\n",
              "        const buttonEl =\n",
              "          document.querySelector('#df-d7668f33-7228-4359-b10d-fc62b3d907b6 button.colab-df-convert');\n",
              "        buttonEl.style.display =\n",
              "          google.colab.kernel.accessAllowed ? 'block' : 'none';\n",
              "\n",
              "        async function convertToInteractive(key) {\n",
              "          const element = document.querySelector('#df-d7668f33-7228-4359-b10d-fc62b3d907b6');\n",
              "          const dataTable =\n",
              "            await google.colab.kernel.invokeFunction('convertToInteractive',\n",
              "                                                     [key], {});\n",
              "          if (!dataTable) return;\n",
              "\n",
              "          const docLinkHtml = 'Like what you see? Visit the ' +\n",
              "            '<a target=\"_blank\" href=https://colab.research.google.com/notebooks/data_table.ipynb>data table notebook</a>'\n",
              "            + ' to learn more about interactive tables.';\n",
              "          element.innerHTML = '';\n",
              "          dataTable['output_type'] = 'display_data';\n",
              "          await google.colab.output.renderOutput(dataTable, element);\n",
              "          const docLink = document.createElement('div');\n",
              "          docLink.innerHTML = docLinkHtml;\n",
              "          element.appendChild(docLink);\n",
              "        }\n",
              "      </script>\n",
              "    </div>\n",
              "  </div>\n",
              "  "
            ]
          },
          "metadata": {},
          "execution_count": 459
        },
        {
          "output_type": "display_data",
          "data": {
            "text/plain": [
              "<Figure size 640x480 with 9 Axes>"
            ],
            "image/png": "[encoded data removed]"
          },
          "metadata": {}
        }
      ],
      "source": [
        "# Посмотрим, как влияют на продажи внутри популярной платформы X360 отзывы пользователей и критиков. \n",
        "X360_platform = data_top_platforms[['platform','user_score', 'critic_score', 'total_sales']].query('platform == \"X360\"')\n",
        "\n",
        "# Построим диаграмму рассеяния и посчитаем корреляцию между отзывами и продажами\n",
        "pd.plotting.scatter_matrix(X360_platform)\n",
        "X360_platform.corr()"
      ]
    },
    {
      "cell_type": "code",
      "execution_count": 460,
      "id": "a2041ae1",
      "metadata": {
        "colab": {
          "base_uri": "https://localhost:8080/",
          "height": 579
        },
        "id": "a2041ae1",
        "outputId": "5d4e1c9b-10d0-4ecb-ea68-8cefd46b3fda"
      },
      "outputs": [
        {
          "output_type": "execute_result",
          "data": {
            "text/plain": [
              "              user_score  critic_score  total_sales\n",
              "user_score      1.000000      0.769536     0.241504\n",
              "critic_score    0.769536      1.000000     0.357057\n",
              "total_sales     0.241504      0.357057     1.000000"
            ],
            "text/html": [
              "\n",
              "  <div id=\"df-89306356-5a0f-41f7-b510-c89b660f47e7\">\n",
              "    <div class=\"colab-df-container\">\n",
              "      <div>\n",
              "<style scoped>\n",
              "    .dataframe tbody tr th:only-of-type {\n",
              "        vertical-align: middle;\n",
              "    }\n",
              "\n",
              "    .dataframe tbody tr th {\n",
              "        vertical-align: top;\n",
              "    }\n",
              "\n",
              "    .dataframe thead th {\n",
              "        text-align: right;\n",
              "    }\n",
              "</style>\n",
              "<table border=\"1\" class=\"dataframe\">\n",
              "  <thead>\n",
              "    <tr style=\"text-align: right;\">\n",
              "      <th></th>\n",
              "      <th>user_score</th>\n",
              "      <th>critic_score</th>\n",
              "      <th>total_sales</th>\n",
              "    </tr>\n",
              "  </thead>\n",
              "  <tbody>\n",
              "    <tr>\n",
              "      <th>user_score</th>\n",
              "      <td>1.000000</td>\n",
              "      <td>0.769536</td>\n",
              "      <td>0.241504</td>\n",
              "    </tr>\n",
              "    <tr>\n",
              "      <th>critic_score</th>\n",
              "      <td>0.769536</td>\n",
              "      <td>1.000000</td>\n",
              "      <td>0.357057</td>\n",
              "    </tr>\n",
              "    <tr>\n",
              "      <th>total_sales</th>\n",
              "      <td>0.241504</td>\n",
              "      <td>0.357057</td>\n",
              "      <td>1.000000</td>\n",
              "    </tr>\n",
              "  </tbody>\n",
              "</table>\n",
              "</div>\n",
              "      <button class=\"colab-df-convert\" onclick=\"convertToInteractive('df-89306356-5a0f-41f7-b510-c89b660f47e7')\"\n",
              "              title=\"Convert this dataframe to an interactive table.\"\n",
              "              style=\"display:none;\">\n",
              "        \n",
              "  <svg xmlns=\"http://www.w3.org/2000/svg\" height=\"24px\"viewBox=\"0 0 24 24\"\n",
              "       width=\"24px\">\n",
              "    <path d=\"M0 0h24v24H0V0z\" fill=\"none\"/>\n",
              "    <path d=\"M18.56 5.44l.94 2.06.94-2.06 2.06-.94-2.06-.94-.94-2.06-.94 2.06-2.06.94zm-11 1L8.5 8.5l.94-2.06 2.06-.94-2.06-.94L8.5 2.5l-.94 2.06-2.06.94zm10 10l.94 2.06.94-2.06 2.06-.94-2.06-.94-.94-2.06-.94 2.06-2.06.94z\"/><path d=\"M17.41 7.96l-1.37-1.37c-.4-.4-.92-.59-1.43-.59-.52 0-1.04.2-1.43.59L10.3 9.45l-7.72 7.72c-.78.78-.78 2.05 0 2.83L4 21.41c.39.39.9.59 1.41.59.51 0 1.02-.2 1.41-.59l7.78-7.78 2.81-2.81c.8-.78.8-2.07 0-2.86zM5.41 20L4 18.59l7.72-7.72 1.47 1.35L5.41 20z\"/>\n",
              "  </svg>\n",
              "      </button>\n",
              "      \n",
              "  <style>\n",
              "    .colab-df-container {\n",
              "      display:flex;\n",
              "      flex-wrap:wrap;\n",
              "      gap: 12px;\n",
              "    }\n",
              "\n",
              "    .colab-df-convert {\n",
              "      background-color: #E8F0FE;\n",
              "      border: none;\n",
              "      border-radius: 50%;\n",
              "      cursor: pointer;\n",
              "      display: none;\n",
              "      fill: #1967D2;\n",
              "      height: 32px;\n",
              "      padding: 0 0 0 0;\n",
              "      width: 32px;\n",
              "    }\n",
              "\n",
              "    .colab-df-convert:hover {\n",
              "      background-color: #E2EBFA;\n",
              "      box-shadow: 0px 1px 2px rgba(60, 64, 67, 0.3), 0px 1px 3px 1px rgba(60, 64, 67, 0.15);\n",
              "      fill: #174EA6;\n",
              "    }\n",
              "\n",
              "    [theme=dark] .colab-df-convert {\n",
              "      background-color: #3B4455;\n",
              "      fill: #D2E3FC;\n",
              "    }\n",
              "\n",
              "    [theme=dark] .colab-df-convert:hover {\n",
              "      background-color: #434B5C;\n",
              "      box-shadow: 0px 1px 3px 1px rgba(0, 0, 0, 0.15);\n",
              "      filter: drop-shadow(0px 1px 2px rgba(0, 0, 0, 0.3));\n",
              "      fill: #FFFFFF;\n",
              "    }\n",
              "  </style>\n",
              "\n",
              "      <script>\n",
              "        const buttonEl =\n",
              "          document.querySelector('#df-89306356-5a0f-41f7-b510-c89b660f47e7 button.colab-df-convert');\n",
              "        buttonEl.style.display =\n",
              "          google.colab.kernel.accessAllowed ? 'block' : 'none';\n",
              "\n",
              "        async function convertToInteractive(key) {\n",
              "          const element = document.querySelector('#df-89306356-5a0f-41f7-b510-c89b660f47e7');\n",
              "          const dataTable =\n",
              "            await google.colab.kernel.invokeFunction('convertToInteractive',\n",
              "                                                     [key], {});\n",
              "          if (!dataTable) return;\n",
              "\n",
              "          const docLinkHtml = 'Like what you see? Visit the ' +\n",
              "            '<a target=\"_blank\" href=https://colab.research.google.com/notebooks/data_table.ipynb>data table notebook</a>'\n",
              "            + ' to learn more about interactive tables.';\n",
              "          element.innerHTML = '';\n",
              "          dataTable['output_type'] = 'display_data';\n",
              "          await google.colab.output.renderOutput(dataTable, element);\n",
              "          const docLink = document.createElement('div');\n",
              "          docLink.innerHTML = docLinkHtml;\n",
              "          element.appendChild(docLink);\n",
              "        }\n",
              "      </script>\n",
              "    </div>\n",
              "  </div>\n",
              "  "
            ]
          },
          "metadata": {},
          "execution_count": 460
        },
        {
          "output_type": "display_data",
          "data": {
            "text/plain": [
              "<Figure size 640x480 with 9 Axes>"
            ],
            "image/png": "[encoded data removed]"
          },
          "metadata": {}
        }
      ],
      "source": [
        "# Посмотрим, как влияют на продажи внутри популярной платформы 3DS отзывы пользователей и критиков. \n",
        "three_DS_platform = data_top_platforms[['platform','user_score', 'critic_score', 'total_sales']].query('platform == \"3DS\"')\n",
        "\n",
        "# Построим диаграмму рассеяния и посчитаем корреляцию между отзывами и продажами\n",
        "pd.plotting.scatter_matrix(three_DS_platform)\n",
        "three_DS_platform.corr()"
      ]
    },
    {
      "cell_type": "code",
      "execution_count": 461,
      "id": "b519ca9a",
      "metadata": {
        "colab": {
          "base_uri": "https://localhost:8080/",
          "height": 576
        },
        "id": "b519ca9a",
        "outputId": "ad526ae9-b952-4390-b02e-3f553dcead90"
      },
      "outputs": [
        {
          "output_type": "execute_result",
          "data": {
            "text/plain": [
              "              user_score  critic_score  total_sales\n",
              "user_score      1.000000      0.599920     0.002394\n",
              "critic_score    0.599920      1.000000     0.334285\n",
              "total_sales     0.002394      0.334285     1.000000"
            ],
            "text/html": [
              "\n",
              "  <div id=\"df-5b5dc867-7905-4150-b6f7-7175c2d0e8f6\">\n",
              "    <div class=\"colab-df-container\">\n",
              "      <div>\n",
              "<style scoped>\n",
              "    .dataframe tbody tr th:only-of-type {\n",
              "        vertical-align: middle;\n",
              "    }\n",
              "\n",
              "    .dataframe tbody tr th {\n",
              "        vertical-align: top;\n",
              "    }\n",
              "\n",
              "    .dataframe thead th {\n",
              "        text-align: right;\n",
              "    }\n",
              "</style>\n",
              "<table border=\"1\" class=\"dataframe\">\n",
              "  <thead>\n",
              "    <tr style=\"text-align: right;\">\n",
              "      <th></th>\n",
              "      <th>user_score</th>\n",
              "      <th>critic_score</th>\n",
              "      <th>total_sales</th>\n",
              "    </tr>\n",
              "  </thead>\n",
              "  <tbody>\n",
              "    <tr>\n",
              "      <th>user_score</th>\n",
              "      <td>1.000000</td>\n",
              "      <td>0.599920</td>\n",
              "      <td>0.002394</td>\n",
              "    </tr>\n",
              "    <tr>\n",
              "      <th>critic_score</th>\n",
              "      <td>0.599920</td>\n",
              "      <td>1.000000</td>\n",
              "      <td>0.334285</td>\n",
              "    </tr>\n",
              "    <tr>\n",
              "      <th>total_sales</th>\n",
              "      <td>0.002394</td>\n",
              "      <td>0.334285</td>\n",
              "      <td>1.000000</td>\n",
              "    </tr>\n",
              "  </tbody>\n",
              "</table>\n",
              "</div>\n",
              "      <button class=\"colab-df-convert\" onclick=\"convertToInteractive('df-5b5dc867-7905-4150-b6f7-7175c2d0e8f6')\"\n",
              "              title=\"Convert this dataframe to an interactive table.\"\n",
              "              style=\"display:none;\">\n",
              "        \n",
              "  <svg xmlns=\"http://www.w3.org/2000/svg\" height=\"24px\"viewBox=\"0 0 24 24\"\n",
              "       width=\"24px\">\n",
              "    <path d=\"M0 0h24v24H0V0z\" fill=\"none\"/>\n",
              "    <path d=\"M18.56 5.44l.94 2.06.94-2.06 2.06-.94-2.06-.94-.94-2.06-.94 2.06-2.06.94zm-11 1L8.5 8.5l.94-2.06 2.06-.94-2.06-.94L8.5 2.5l-.94 2.06-2.06.94zm10 10l.94 2.06.94-2.06 2.06-.94-2.06-.94-.94-2.06-.94 2.06-2.06.94z\"/><path d=\"M17.41 7.96l-1.37-1.37c-.4-.4-.92-.59-1.43-.59-.52 0-1.04.2-1.43.59L10.3 9.45l-7.72 7.72c-.78.78-.78 2.05 0 2.83L4 21.41c.39.39.9.59 1.41.59.51 0 1.02-.2 1.41-.59l7.78-7.78 2.81-2.81c.8-.78.8-2.07 0-2.86zM5.41 20L4 18.59l7.72-7.72 1.47 1.35L5.41 20z\"/>\n",
              "  </svg>\n",
              "      </button>\n",
              "      \n",
              "  <style>\n",
              "    .colab-df-container {\n",
              "      display:flex;\n",
              "      flex-wrap:wrap;\n",
              "      gap: 12px;\n",
              "    }\n",
              "\n",
              "    .colab-df-convert {\n",
              "      background-color: #E8F0FE;\n",
              "      border: none;\n",
              "      border-radius: 50%;\n",
              "      cursor: pointer;\n",
              "      display: none;\n",
              "      fill: #1967D2;\n",
              "      height: 32px;\n",
              "      padding: 0 0 0 0;\n",
              "      width: 32px;\n",
              "    }\n",
              "\n",
              "    .colab-df-convert:hover {\n",
              "      background-color: #E2EBFA;\n",
              "      box-shadow: 0px 1px 2px rgba(60, 64, 67, 0.3), 0px 1px 3px 1px rgba(60, 64, 67, 0.15);\n",
              "      fill: #174EA6;\n",
              "    }\n",
              "\n",
              "    [theme=dark] .colab-df-convert {\n",
              "      background-color: #3B4455;\n",
              "      fill: #D2E3FC;\n",
              "    }\n",
              "\n",
              "    [theme=dark] .colab-df-convert:hover {\n",
              "      background-color: #434B5C;\n",
              "      box-shadow: 0px 1px 3px 1px rgba(0, 0, 0, 0.15);\n",
              "      filter: drop-shadow(0px 1px 2px rgba(0, 0, 0, 0.3));\n",
              "      fill: #FFFFFF;\n",
              "    }\n",
              "  </style>\n",
              "\n",
              "      <script>\n",
              "        const buttonEl =\n",
              "          document.querySelector('#df-5b5dc867-7905-4150-b6f7-7175c2d0e8f6 button.colab-df-convert');\n",
              "        buttonEl.style.display =\n",
              "          google.colab.kernel.accessAllowed ? 'block' : 'none';\n",
              "\n",
              "        async function convertToInteractive(key) {\n",
              "          const element = document.querySelector('#df-5b5dc867-7905-4150-b6f7-7175c2d0e8f6');\n",
              "          const dataTable =\n",
              "            await google.colab.kernel.invokeFunction('convertToInteractive',\n",
              "                                                     [key], {});\n",
              "          if (!dataTable) return;\n",
              "\n",
              "          const docLinkHtml = 'Like what you see? Visit the ' +\n",
              "            '<a target=\"_blank\" href=https://colab.research.google.com/notebooks/data_table.ipynb>data table notebook</a>'\n",
              "            + ' to learn more about interactive tables.';\n",
              "          element.innerHTML = '';\n",
              "          dataTable['output_type'] = 'display_data';\n",
              "          await google.colab.output.renderOutput(dataTable, element);\n",
              "          const docLink = document.createElement('div');\n",
              "          docLink.innerHTML = docLinkHtml;\n",
              "          element.appendChild(docLink);\n",
              "        }\n",
              "      </script>\n",
              "    </div>\n",
              "  </div>\n",
              "  "
            ]
          },
          "metadata": {},
          "execution_count": 461
        },
        {
          "output_type": "display_data",
          "data": {
            "text/plain": [
              "<Figure size 640x480 with 9 Axes>"
            ],
            "image/png": "[encoded data removed]"
          },
          "metadata": {}
        }
      ],
      "source": [
        "# Посмотрим, как влияют на продажи внутри популярной платформы PS3 отзывы пользователей и критиков. \n",
        "PS3_platform = data_top_platforms[['platform','user_score', 'critic_score', 'total_sales']].query('platform == \"PS3\"')\n",
        "\n",
        "# Построим диаграмму рассеяния и посчитаем корреляцию между отзывами и продажами\n",
        "pd.plotting.scatter_matrix(PS3_platform)\n",
        "PS3_platform.corr()"
      ]
    },
    {
      "cell_type": "code",
      "execution_count": 462,
      "id": "eb8a1bda",
      "metadata": {
        "colab": {
          "base_uri": "https://localhost:8080/",
          "height": 579
        },
        "id": "eb8a1bda",
        "outputId": "e537c251-50b3-4abd-8bf1-6a8f6bb03af1"
      },
      "outputs": [
        {
          "output_type": "execute_result",
          "data": {
            "text/plain": [
              "              user_score  critic_score  total_sales\n",
              "user_score      1.000000      0.472462    -0.068925\n",
              "critic_score    0.472462      1.000000     0.416998\n",
              "total_sales    -0.068925      0.416998     1.000000"
            ],
            "text/html": [
              "\n",
              "  <div id=\"df-9a498e7d-8419-4f1a-bf0c-01a60e1d0d50\">\n",
              "    <div class=\"colab-df-container\">\n",
              "      <div>\n",
              "<style scoped>\n",
              "    .dataframe tbody tr th:only-of-type {\n",
              "        vertical-align: middle;\n",
              "    }\n",
              "\n",
              "    .dataframe tbody tr th {\n",
              "        vertical-align: top;\n",
              "    }\n",
              "\n",
              "    .dataframe thead th {\n",
              "        text-align: right;\n",
              "    }\n",
              "</style>\n",
              "<table border=\"1\" class=\"dataframe\">\n",
              "  <thead>\n",
              "    <tr style=\"text-align: right;\">\n",
              "      <th></th>\n",
              "      <th>user_score</th>\n",
              "      <th>critic_score</th>\n",
              "      <th>total_sales</th>\n",
              "    </tr>\n",
              "  </thead>\n",
              "  <tbody>\n",
              "    <tr>\n",
              "      <th>user_score</th>\n",
              "      <td>1.000000</td>\n",
              "      <td>0.472462</td>\n",
              "      <td>-0.068925</td>\n",
              "    </tr>\n",
              "    <tr>\n",
              "      <th>critic_score</th>\n",
              "      <td>0.472462</td>\n",
              "      <td>1.000000</td>\n",
              "      <td>0.416998</td>\n",
              "    </tr>\n",
              "    <tr>\n",
              "      <th>total_sales</th>\n",
              "      <td>-0.068925</td>\n",
              "      <td>0.416998</td>\n",
              "      <td>1.000000</td>\n",
              "    </tr>\n",
              "  </tbody>\n",
              "</table>\n",
              "</div>\n",
              "      <button class=\"colab-df-convert\" onclick=\"convertToInteractive('df-9a498e7d-8419-4f1a-bf0c-01a60e1d0d50')\"\n",
              "              title=\"Convert this dataframe to an interactive table.\"\n",
              "              style=\"display:none;\">\n",
              "        \n",
              "  <svg xmlns=\"http://www.w3.org/2000/svg\" height=\"24px\"viewBox=\"0 0 24 24\"\n",
              "       width=\"24px\">\n",
              "    <path d=\"M0 0h24v24H0V0z\" fill=\"none\"/>\n",
              "    <path d=\"M18.56 5.44l.94 2.06.94-2.06 2.06-.94-2.06-.94-.94-2.06-.94 2.06-2.06.94zm-11 1L8.5 8.5l.94-2.06 2.06-.94-2.06-.94L8.5 2.5l-.94 2.06-2.06.94zm10 10l.94 2.06.94-2.06 2.06-.94-2.06-.94-.94-2.06-.94 2.06-2.06.94z\"/><path d=\"M17.41 7.96l-1.37-1.37c-.4-.4-.92-.59-1.43-.59-.52 0-1.04.2-1.43.59L10.3 9.45l-7.72 7.72c-.78.78-.78 2.05 0 2.83L4 21.41c.39.39.9.59 1.41.59.51 0 1.02-.2 1.41-.59l7.78-7.78 2.81-2.81c.8-.78.8-2.07 0-2.86zM5.41 20L4 18.59l7.72-7.72 1.47 1.35L5.41 20z\"/>\n",
              "  </svg>\n",
              "      </button>\n",
              "      \n",
              "  <style>\n",
              "    .colab-df-container {\n",
              "      display:flex;\n",
              "      flex-wrap:wrap;\n",
              "      gap: 12px;\n",
              "    }\n",
              "\n",
              "    .colab-df-convert {\n",
              "      background-color: #E8F0FE;\n",
              "      border: none;\n",
              "      border-radius: 50%;\n",
              "      cursor: pointer;\n",
              "      display: none;\n",
              "      fill: #1967D2;\n",
              "      height: 32px;\n",
              "      padding: 0 0 0 0;\n",
              "      width: 32px;\n",
              "    }\n",
              "\n",
              "    .colab-df-convert:hover {\n",
              "      background-color: #E2EBFA;\n",
              "      box-shadow: 0px 1px 2px rgba(60, 64, 67, 0.3), 0px 1px 3px 1px rgba(60, 64, 67, 0.15);\n",
              "      fill: #174EA6;\n",
              "    }\n",
              "\n",
              "    [theme=dark] .colab-df-convert {\n",
              "      background-color: #3B4455;\n",
              "      fill: #D2E3FC;\n",
              "    }\n",
              "\n",
              "    [theme=dark] .colab-df-convert:hover {\n",
              "      background-color: #434B5C;\n",
              "      box-shadow: 0px 1px 3px 1px rgba(0, 0, 0, 0.15);\n",
              "      filter: drop-shadow(0px 1px 2px rgba(0, 0, 0, 0.3));\n",
              "      fill: #FFFFFF;\n",
              "    }\n",
              "  </style>\n",
              "\n",
              "      <script>\n",
              "        const buttonEl =\n",
              "          document.querySelector('#df-9a498e7d-8419-4f1a-bf0c-01a60e1d0d50 button.colab-df-convert');\n",
              "        buttonEl.style.display =\n",
              "          google.colab.kernel.accessAllowed ? 'block' : 'none';\n",
              "\n",
              "        async function convertToInteractive(key) {\n",
              "          const element = document.querySelector('#df-9a498e7d-8419-4f1a-bf0c-01a60e1d0d50');\n",
              "          const dataTable =\n",
              "            await google.colab.kernel.invokeFunction('convertToInteractive',\n",
              "                                                     [key], {});\n",
              "          if (!dataTable) return;\n",
              "\n",
              "          const docLinkHtml = 'Like what you see? Visit the ' +\n",
              "            '<a target=\"_blank\" href=https://colab.research.google.com/notebooks/data_table.ipynb>data table notebook</a>'\n",
              "            + ' to learn more about interactive tables.';\n",
              "          element.innerHTML = '';\n",
              "          dataTable['output_type'] = 'display_data';\n",
              "          await google.colab.output.renderOutput(dataTable, element);\n",
              "          const docLink = document.createElement('div');\n",
              "          docLink.innerHTML = docLinkHtml;\n",
              "          element.appendChild(docLink);\n",
              "        }\n",
              "      </script>\n",
              "    </div>\n",
              "  </div>\n",
              "  "
            ]
          },
          "metadata": {},
          "execution_count": 462
        },
        {
          "output_type": "display_data",
          "data": {
            "text/plain": [
              "<Figure size 640x480 with 9 Axes>"
            ],
            "image/png": "[encoded data removed]"
          },
          "metadata": {}
        }
      ],
      "source": [
        "# Посмотрим, как влияют на продажи внутри популярной платформы XOne отзывы пользователей и критиков. \n",
        "XOne_platform = data_top_platforms[['platform','user_score', 'critic_score', 'total_sales']].query('platform == \"XOne\"')\n",
        "\n",
        "# Построим диаграмму рассеяния и посчитаем корреляцию между отзывами и продажами\n",
        "pd.plotting.scatter_matrix(XOne_platform)\n",
        "XOne_platform.corr()"
      ]
    },
    {
      "cell_type": "markdown",
      "id": "6fc34788",
      "metadata": {
        "id": "6fc34788"
      },
      "source": [
        "Мы посчитали корреляцию между отзывами и продажами, а также построили диаграмму рассеяния для других популярных платформ: 3DS, XOne, PS3, X360. На основании полученного результата можно сделать следующие выводы:\n",
        "\n",
        "* коэффициент корреляции между параметрами user score и critic score для данных платформ (кроме 3DS) так же невысок, для 3DS он составляет 0.77. Это значит, что для платформы 3DS отзывы критиков влияют на отзывы пользователей и наоборот. На диаграмме рассеяния также видно, что отзывов с положительными оценками со стороны обеих групп намного больше, чем с отрицательными. А варианты с низкими оценками с одной стороны и высокими с другой единичны;\n",
        "* влияния отзывов на продажи практически нет, коэффициенты по-прежнему низкие. Самый высокий показатель зависимости между продажами и оценками критиков - у платформ XOne (0.42). Диаграмма рассеяния показывает, что скачки продаж на платформах происходили только для игр с высокими отзывами со стороны критиков, но со стороны пользователей для данных случаев оценки могли быть и невысокими."
      ]
    },
    {
      "cell_type": "code",
      "execution_count": 463,
      "id": "3ae11355",
      "metadata": {
        "colab": {
          "base_uri": "https://localhost:8080/",
          "height": 457
        },
        "id": "3ae11355",
        "outputId": "1ba4f424-b298-4240-c576-0c796a48822e"
      },
      "outputs": [
        {
          "output_type": "execute_result",
          "data": {
            "text/plain": [
              "              total_sales\n",
              "genre                    \n",
              "Shooter          1.491172\n",
              "Sports           0.838118\n",
              "Role-Playing     0.694728\n",
              "Action           0.548868\n",
              "Racing           0.491563\n",
              "Platform         0.486809\n",
              "Misc             0.444592\n",
              "Fighting         0.443016\n",
              "Simulation       0.372857\n",
              "Adventure        0.169000\n",
              "Puzzle           0.162727\n",
              "Strategy         0.128000"
            ],
            "text/html": [
              "\n",
              "  <div id=\"df-3eb92b8e-9e6d-4431-b51f-37f669a1a43d\">\n",
              "    <div class=\"colab-df-container\">\n",
              "      <div>\n",
              "<style scoped>\n",
              "    .dataframe tbody tr th:only-of-type {\n",
              "        vertical-align: middle;\n",
              "    }\n",
              "\n",
              "    .dataframe tbody tr th {\n",
              "        vertical-align: top;\n",
              "    }\n",
              "\n",
              "    .dataframe thead th {\n",
              "        text-align: right;\n",
              "    }\n",
              "</style>\n",
              "<table border=\"1\" class=\"dataframe\">\n",
              "  <thead>\n",
              "    <tr style=\"text-align: right;\">\n",
              "      <th></th>\n",
              "      <th>total_sales</th>\n",
              "    </tr>\n",
              "    <tr>\n",
              "      <th>genre</th>\n",
              "      <th></th>\n",
              "    </tr>\n",
              "  </thead>\n",
              "  <tbody>\n",
              "    <tr>\n",
              "      <th>Shooter</th>\n",
              "      <td>1.491172</td>\n",
              "    </tr>\n",
              "    <tr>\n",
              "      <th>Sports</th>\n",
              "      <td>0.838118</td>\n",
              "    </tr>\n",
              "    <tr>\n",
              "      <th>Role-Playing</th>\n",
              "      <td>0.694728</td>\n",
              "    </tr>\n",
              "    <tr>\n",
              "      <th>Action</th>\n",
              "      <td>0.548868</td>\n",
              "    </tr>\n",
              "    <tr>\n",
              "      <th>Racing</th>\n",
              "      <td>0.491563</td>\n",
              "    </tr>\n",
              "    <tr>\n",
              "      <th>Platform</th>\n",
              "      <td>0.486809</td>\n",
              "    </tr>\n",
              "    <tr>\n",
              "      <th>Misc</th>\n",
              "      <td>0.444592</td>\n",
              "    </tr>\n",
              "    <tr>\n",
              "      <th>Fighting</th>\n",
              "      <td>0.443016</td>\n",
              "    </tr>\n",
              "    <tr>\n",
              "      <th>Simulation</th>\n",
              "      <td>0.372857</td>\n",
              "    </tr>\n",
              "    <tr>\n",
              "      <th>Adventure</th>\n",
              "      <td>0.169000</td>\n",
              "    </tr>\n",
              "    <tr>\n",
              "      <th>Puzzle</th>\n",
              "      <td>0.162727</td>\n",
              "    </tr>\n",
              "    <tr>\n",
              "      <th>Strategy</th>\n",
              "      <td>0.128000</td>\n",
              "    </tr>\n",
              "  </tbody>\n",
              "</table>\n",
              "</div>\n",
              "      <button class=\"colab-df-convert\" onclick=\"convertToInteractive('df-3eb92b8e-9e6d-4431-b51f-37f669a1a43d')\"\n",
              "              title=\"Convert this dataframe to an interactive table.\"\n",
              "              style=\"display:none;\">\n",
              "        \n",
              "  <svg xmlns=\"http://www.w3.org/2000/svg\" height=\"24px\"viewBox=\"0 0 24 24\"\n",
              "       width=\"24px\">\n",
              "    <path d=\"M0 0h24v24H0V0z\" fill=\"none\"/>\n",
              "    <path d=\"M18.56 5.44l.94 2.06.94-2.06 2.06-.94-2.06-.94-.94-2.06-.94 2.06-2.06.94zm-11 1L8.5 8.5l.94-2.06 2.06-.94-2.06-.94L8.5 2.5l-.94 2.06-2.06.94zm10 10l.94 2.06.94-2.06 2.06-.94-2.06-.94-.94-2.06-.94 2.06-2.06.94z\"/><path d=\"M17.41 7.96l-1.37-1.37c-.4-.4-.92-.59-1.43-.59-.52 0-1.04.2-1.43.59L10.3 9.45l-7.72 7.72c-.78.78-.78 2.05 0 2.83L4 21.41c.39.39.9.59 1.41.59.51 0 1.02-.2 1.41-.59l7.78-7.78 2.81-2.81c.8-.78.8-2.07 0-2.86zM5.41 20L4 18.59l7.72-7.72 1.47 1.35L5.41 20z\"/>\n",
              "  </svg>\n",
              "      </button>\n",
              "      \n",
              "  <style>\n",
              "    .colab-df-container {\n",
              "      display:flex;\n",
              "      flex-wrap:wrap;\n",
              "      gap: 12px;\n",
              "    }\n",
              "\n",
              "    .colab-df-convert {\n",
              "      background-color: #E8F0FE;\n",
              "      border: none;\n",
              "      border-radius: 50%;\n",
              "      cursor: pointer;\n",
              "      display: none;\n",
              "      fill: #1967D2;\n",
              "      height: 32px;\n",
              "      padding: 0 0 0 0;\n",
              "      width: 32px;\n",
              "    }\n",
              "\n",
              "    .colab-df-convert:hover {\n",
              "      background-color: #E2EBFA;\n",
              "      box-shadow: 0px 1px 2px rgba(60, 64, 67, 0.3), 0px 1px 3px 1px rgba(60, 64, 67, 0.15);\n",
              "      fill: #174EA6;\n",
              "    }\n",
              "\n",
              "    [theme=dark] .colab-df-convert {\n",
              "      background-color: #3B4455;\n",
              "      fill: #D2E3FC;\n",
              "    }\n",
              "\n",
              "    [theme=dark] .colab-df-convert:hover {\n",
              "      background-color: #434B5C;\n",
              "      box-shadow: 0px 1px 3px 1px rgba(0, 0, 0, 0.15);\n",
              "      filter: drop-shadow(0px 1px 2px rgba(0, 0, 0, 0.3));\n",
              "      fill: #FFFFFF;\n",
              "    }\n",
              "  </style>\n",
              "\n",
              "      <script>\n",
              "        const buttonEl =\n",
              "          document.querySelector('#df-3eb92b8e-9e6d-4431-b51f-37f669a1a43d button.colab-df-convert');\n",
              "        buttonEl.style.display =\n",
              "          google.colab.kernel.accessAllowed ? 'block' : 'none';\n",
              "\n",
              "        async function convertToInteractive(key) {\n",
              "          const element = document.querySelector('#df-3eb92b8e-9e6d-4431-b51f-37f669a1a43d');\n",
              "          const dataTable =\n",
              "            await google.colab.kernel.invokeFunction('convertToInteractive',\n",
              "                                                     [key], {});\n",
              "          if (!dataTable) return;\n",
              "\n",
              "          const docLinkHtml = 'Like what you see? Visit the ' +\n",
              "            '<a target=\"_blank\" href=https://colab.research.google.com/notebooks/data_table.ipynb>data table notebook</a>'\n",
              "            + ' to learn more about interactive tables.';\n",
              "          element.innerHTML = '';\n",
              "          dataTable['output_type'] = 'display_data';\n",
              "          await google.colab.output.renderOutput(dataTable, element);\n",
              "          const docLink = document.createElement('div');\n",
              "          docLink.innerHTML = docLinkHtml;\n",
              "          element.appendChild(docLink);\n",
              "        }\n",
              "      </script>\n",
              "    </div>\n",
              "  </div>\n",
              "  "
            ]
          },
          "metadata": {},
          "execution_count": 463
        }
      ],
      "source": [
        "# Посмотрим на средние показатели продаж игр, выпущенных с 2013 года, по жанрам для популярных платформ\n",
        "\n",
        "top_platforms_by_genres = data_top_platforms.pivot_table(index=['genre'], values='total_sales')\n",
        "top_platforms_by_genres.sort_values(by='total_sales', ascending=False)"
      ]
    },
    {
      "cell_type": "markdown",
      "id": "5ca01371",
      "metadata": {
        "id": "5ca01371"
      },
      "source": [
        "Из таблицы видно, что самым прибыльным жанром с явным отрывом от остальных является Shooter. В топ-5 также входят Sports, Role-Playing, Action и Racing. Также достаточно сильно заметна разница в продажах для жанров, находящихся внизу таблицы. Самый популярный жанр Shooter приносит в 12 раза больше дохода, чем самый неприбыльный жанр Strategy. "
      ]
    },
    {
      "cell_type": "markdown",
      "id": "109c30a8",
      "metadata": {
        "id": "109c30a8"
      },
      "source": [
        "##  5. Портрет пользователя каждого региона\n",
        "<a name=\"user\"></a>"
      ]
    },
    {
      "cell_type": "markdown",
      "id": "6303f186",
      "metadata": {
        "id": "6303f186"
      },
      "source": [
        "### Задача\n",
        "Определите для пользователя каждого региона (NA, EU, JP):\n",
        "* Самые популярные платформы (топ-5). Опишите различия в долях продаж.\n",
        "* Самые популярные жанры (топ-5). Поясните разницу.\n",
        "* Влияет ли рейтинг ESRB на продажи в отдельном регионе?"
      ]
    },
    {
      "cell_type": "code",
      "execution_count": 464,
      "id": "8a01b32d",
      "metadata": {
        "colab": {
          "base_uri": "https://localhost:8080/",
          "height": 490
        },
        "id": "8a01b32d",
        "outputId": "bab8fee7-b6e8-4270-c7f6-abfcec12af5d"
      },
      "outputs": [
        {
          "output_type": "execute_result",
          "data": {
            "text/plain": [
              "<Axes: xlabel='platform'>"
            ]
          },
          "metadata": {},
          "execution_count": 464
        },
        {
          "output_type": "display_data",
          "data": {
            "text/plain": [
              "<Figure size 640x480 with 1 Axes>"
            ],
            "image/png": "[encoded data removed]"
          },
          "metadata": {}
        }
      ],
      "source": [
        "# Определим самые популярные платформы для региона NA для игр, выпущенных с 2013 года\n",
        "since_2013_platforms = data.query('year_of_release > 2012')\n",
        "data_top_NA_platforms = since_2013_platforms.pivot_table(index=['platform'], values='na_sales', aggfunc='sum')\n",
        "data_top_NA_platforms.sort_values(by='na_sales', ascending=False).plot(kind = 'bar')\n"
      ]
    },
    {
      "cell_type": "code",
      "execution_count": 465,
      "id": "0491ec7f",
      "metadata": {
        "colab": {
          "base_uri": "https://localhost:8080/",
          "height": 490
        },
        "id": "0491ec7f",
        "outputId": "fe8a3936-83de-4b27-94c6-e187260f340b"
      },
      "outputs": [
        {
          "output_type": "execute_result",
          "data": {
            "text/plain": [
              "<Axes: xlabel='platform'>"
            ]
          },
          "metadata": {},
          "execution_count": 465
        },
        {
          "output_type": "display_data",
          "data": {
            "text/plain": [
              "<Figure size 640x480 with 1 Axes>"
            ],
            "image/png": "[encoded data removed]"
          },
          "metadata": {}
        }
      ],
      "source": [
        "# Определим самые популярные платформы для региона EU для игр, выпущенных с 2013 года\n",
        "data_top_EU_platforms = since_2013_platforms.pivot_table(index='platform', values='eu_sales', aggfunc='sum')\n",
        "data_top_EU_platforms.sort_values(by='eu_sales', ascending=False).plot(kind = 'bar')"
      ]
    },
    {
      "cell_type": "code",
      "execution_count": 483,
      "id": "f659e145",
      "metadata": {
        "colab": {
          "base_uri": "https://localhost:8080/",
          "height": 490
        },
        "id": "f659e145",
        "outputId": "0c71c68c-ae11-44d4-ea23-2c9d8d78bc42"
      },
      "outputs": [
        {
          "output_type": "execute_result",
          "data": {
            "text/plain": [
              "<Axes: xlabel='platform'>"
            ]
          },
          "metadata": {},
          "execution_count": 483
        },
        {
          "output_type": "display_data",
          "data": {
            "text/plain": [
              "<Figure size 640x480 with 1 Axes>"
            ],
            "image/png": "[encoded data removed]"
          },
          "metadata": {}
        }
      ],
      "source": [
        "# Определим самые популярные платформы для региона JP для игр, выпущенных с 2013 года\n",
        "data_top_JP_platforms = since_2013_platforms.pivot_table(index='platform', values='jp_sales', aggfunc='sum')\n",
        "data_top_JP_platforms.sort_values(by='jp_sales', ascending=False).plot(kind = 'bar')\n"
      ]
    },
    {
      "cell_type": "code",
      "execution_count": 467,
      "id": "da0d3902",
      "metadata": {
        "colab": {
          "base_uri": "https://localhost:8080/",
          "height": 539
        },
        "id": "da0d3902",
        "outputId": "aeddfd80-0693-46cf-ceec-ef742c05cc3b"
      },
      "outputs": [
        {
          "output_type": "execute_result",
          "data": {
            "text/plain": [
              "<Axes: xlabel='genre'>"
            ]
          },
          "metadata": {},
          "execution_count": 467
        },
        {
          "output_type": "display_data",
          "data": {
            "text/plain": [
              "<Figure size 640x480 with 1 Axes>"
            ],
            "image/png": "[encoded data removed]"
          },
          "metadata": {}
        }
      ],
      "source": [
        "# Определим самые популярные жанры для региона NA для игр, выпущенных с 2013 года\n",
        "data_top_NA_platforms_genre = since_2013_platforms.pivot_table(index=['genre'], values='na_sales')\n",
        "data_top_NA_platforms_genre.sort_values(by='na_sales', ascending=False).plot(kind = 'bar')"
      ]
    },
    {
      "cell_type": "code",
      "execution_count": 468,
      "id": "e924cca3",
      "metadata": {
        "colab": {
          "base_uri": "https://localhost:8080/",
          "height": 539
        },
        "id": "e924cca3",
        "outputId": "63bf3d83-54dc-409a-8e30-29b8996b02c5"
      },
      "outputs": [
        {
          "output_type": "execute_result",
          "data": {
            "text/plain": [
              "<Axes: xlabel='genre'>"
            ]
          },
          "metadata": {},
          "execution_count": 468
        },
        {
          "output_type": "display_data",
          "data": {
            "text/plain": [
              "<Figure size 640x480 with 1 Axes>"
            ],
            "image/png": "[encoded data removed]"
          },
          "metadata": {}
        }
      ],
      "source": [
        "# Определим самые популярные жанры для региона EU для игр, выпущенных с 2013 года\n",
        "data_top_EU_platforms_genre = since_2013_platforms.pivot_table(index='genre', values='eu_sales')\n",
        "data_top_EU_platforms_genre.sort_values(by='eu_sales', ascending=False).plot(kind = 'bar')"
      ]
    },
    {
      "cell_type": "code",
      "execution_count": 469,
      "id": "574c5c6b",
      "metadata": {
        "colab": {
          "base_uri": "https://localhost:8080/",
          "height": 539
        },
        "id": "574c5c6b",
        "outputId": "4833c9ff-8aca-44f4-9659-18a3578b9c1e"
      },
      "outputs": [
        {
          "output_type": "execute_result",
          "data": {
            "text/plain": [
              "<Axes: xlabel='genre'>"
            ]
          },
          "metadata": {},
          "execution_count": 469
        },
        {
          "output_type": "display_data",
          "data": {
            "text/plain": [
              "<Figure size 640x480 with 1 Axes>"
            ],
            "image/png": "[encoded data removed]"
          },
          "metadata": {}
        }
      ],
      "source": [
        "# Определим самые популярные жанры для региона JP для игр, выпущенных с 2013 года\n",
        "data_top_JP_platforms_genre = since_2013_platforms.pivot_table(index='genre', values='jp_sales')\n",
        "data_top_JP_platforms_genre.sort_values(by='jp_sales', ascending=False).plot(kind = 'bar')"
      ]
    },
    {
      "cell_type": "code",
      "execution_count": 470,
      "id": "976135ac",
      "metadata": {
        "id": "976135ac"
      },
      "outputs": [],
      "source": [
        "# заменим NaN в столбце rating на no rating\n",
        "since_2013_platforms = since_2013_platforms.fillna({'rating': 'no rating'})"
      ]
    },
    {
      "cell_type": "code",
      "execution_count": 471,
      "id": "382073c2",
      "metadata": {
        "colab": {
          "base_uri": "https://localhost:8080/",
          "height": 238
        },
        "id": "382073c2",
        "outputId": "892176f1-039c-4f3a-9542-040d6ba805ab"
      },
      "outputs": [
        {
          "output_type": "execute_result",
          "data": {
            "text/plain": [
              "           na_sales\n",
              "rating             \n",
              "M            165.21\n",
              "no rating     89.42\n",
              "E             79.05\n",
              "E10+          54.24\n",
              "T             49.79"
            ],
            "text/html": [
              "\n",
              "  <div id=\"df-67f64e56-fb52-4dd3-8c68-c3235fb646b7\">\n",
              "    <div class=\"colab-df-container\">\n",
              "      <div>\n",
              "<style scoped>\n",
              "    .dataframe tbody tr th:only-of-type {\n",
              "        vertical-align: middle;\n",
              "    }\n",
              "\n",
              "    .dataframe tbody tr th {\n",
              "        vertical-align: top;\n",
              "    }\n",
              "\n",
              "    .dataframe thead th {\n",
              "        text-align: right;\n",
              "    }\n",
              "</style>\n",
              "<table border=\"1\" class=\"dataframe\">\n",
              "  <thead>\n",
              "    <tr style=\"text-align: right;\">\n",
              "      <th></th>\n",
              "      <th>na_sales</th>\n",
              "    </tr>\n",
              "    <tr>\n",
              "      <th>rating</th>\n",
              "      <th></th>\n",
              "    </tr>\n",
              "  </thead>\n",
              "  <tbody>\n",
              "    <tr>\n",
              "      <th>M</th>\n",
              "      <td>165.21</td>\n",
              "    </tr>\n",
              "    <tr>\n",
              "      <th>no rating</th>\n",
              "      <td>89.42</td>\n",
              "    </tr>\n",
              "    <tr>\n",
              "      <th>E</th>\n",
              "      <td>79.05</td>\n",
              "    </tr>\n",
              "    <tr>\n",
              "      <th>E10+</th>\n",
              "      <td>54.24</td>\n",
              "    </tr>\n",
              "    <tr>\n",
              "      <th>T</th>\n",
              "      <td>49.79</td>\n",
              "    </tr>\n",
              "  </tbody>\n",
              "</table>\n",
              "</div>\n",
              "      <button class=\"colab-df-convert\" onclick=\"convertToInteractive('df-67f64e56-fb52-4dd3-8c68-c3235fb646b7')\"\n",
              "              title=\"Convert this dataframe to an interactive table.\"\n",
              "              style=\"display:none;\">\n",
              "        \n",
              "  <svg xmlns=\"http://www.w3.org/2000/svg\" height=\"24px\"viewBox=\"0 0 24 24\"\n",
              "       width=\"24px\">\n",
              "    <path d=\"M0 0h24v24H0V0z\" fill=\"none\"/>\n",
              "    <path d=\"M18.56 5.44l.94 2.06.94-2.06 2.06-.94-2.06-.94-.94-2.06-.94 2.06-2.06.94zm-11 1L8.5 8.5l.94-2.06 2.06-.94-2.06-.94L8.5 2.5l-.94 2.06-2.06.94zm10 10l.94 2.06.94-2.06 2.06-.94-2.06-.94-.94-2.06-.94 2.06-2.06.94z\"/><path d=\"M17.41 7.96l-1.37-1.37c-.4-.4-.92-.59-1.43-.59-.52 0-1.04.2-1.43.59L10.3 9.45l-7.72 7.72c-.78.78-.78 2.05 0 2.83L4 21.41c.39.39.9.59 1.41.59.51 0 1.02-.2 1.41-.59l7.78-7.78 2.81-2.81c.8-.78.8-2.07 0-2.86zM5.41 20L4 18.59l7.72-7.72 1.47 1.35L5.41 20z\"/>\n",
              "  </svg>\n",
              "      </button>\n",
              "      \n",
              "  <style>\n",
              "    .colab-df-container {\n",
              "      display:flex;\n",
              "      flex-wrap:wrap;\n",
              "      gap: 12px;\n",
              "    }\n",
              "\n",
              "    .colab-df-convert {\n",
              "      background-color: #E8F0FE;\n",
              "      border: none;\n",
              "      border-radius: 50%;\n",
              "      cursor: pointer;\n",
              "      display: none;\n",
              "      fill: #1967D2;\n",
              "      height: 32px;\n",
              "      padding: 0 0 0 0;\n",
              "      width: 32px;\n",
              "    }\n",
              "\n",
              "    .colab-df-convert:hover {\n",
              "      background-color: #E2EBFA;\n",
              "      box-shadow: 0px 1px 2px rgba(60, 64, 67, 0.3), 0px 1px 3px 1px rgba(60, 64, 67, 0.15);\n",
              "      fill: #174EA6;\n",
              "    }\n",
              "\n",
              "    [theme=dark] .colab-df-convert {\n",
              "      background-color: #3B4455;\n",
              "      fill: #D2E3FC;\n",
              "    }\n",
              "\n",
              "    [theme=dark] .colab-df-convert:hover {\n",
              "      background-color: #434B5C;\n",
              "      box-shadow: 0px 1px 3px 1px rgba(0, 0, 0, 0.15);\n",
              "      filter: drop-shadow(0px 1px 2px rgba(0, 0, 0, 0.3));\n",
              "      fill: #FFFFFF;\n",
              "    }\n",
              "  </style>\n",
              "\n",
              "      <script>\n",
              "        const buttonEl =\n",
              "          document.querySelector('#df-67f64e56-fb52-4dd3-8c68-c3235fb646b7 button.colab-df-convert');\n",
              "        buttonEl.style.display =\n",
              "          google.colab.kernel.accessAllowed ? 'block' : 'none';\n",
              "\n",
              "        async function convertToInteractive(key) {\n",
              "          const element = document.querySelector('#df-67f64e56-fb52-4dd3-8c68-c3235fb646b7');\n",
              "          const dataTable =\n",
              "            await google.colab.kernel.invokeFunction('convertToInteractive',\n",
              "                                                     [key], {});\n",
              "          if (!dataTable) return;\n",
              "\n",
              "          const docLinkHtml = 'Like what you see? Visit the ' +\n",
              "            '<a target=\"_blank\" href=https://colab.research.google.com/notebooks/data_table.ipynb>data table notebook</a>'\n",
              "            + ' to learn more about interactive tables.';\n",
              "          element.innerHTML = '';\n",
              "          dataTable['output_type'] = 'display_data';\n",
              "          await google.colab.output.renderOutput(dataTable, element);\n",
              "          const docLink = document.createElement('div');\n",
              "          docLink.innerHTML = docLinkHtml;\n",
              "          element.appendChild(docLink);\n",
              "        }\n",
              "      </script>\n",
              "    </div>\n",
              "  </div>\n",
              "  "
            ]
          },
          "metadata": {},
          "execution_count": 471
        }
      ],
      "source": [
        "# Определим, зависят ли продажи игр, выпущенных с 2013 года, в регионе NA от рейтинга\n",
        "data_top_NA_platforms_rating = since_2013_platforms.pivot_table(index=['rating'], values='na_sales', aggfunc='sum')\n",
        "data_top_NA_platforms_rating.sort_values(by='na_sales', ascending=False)"
      ]
    },
    {
      "cell_type": "code",
      "execution_count": 472,
      "id": "5cf09b77",
      "metadata": {
        "colab": {
          "base_uri": "https://localhost:8080/",
          "height": 238
        },
        "id": "5cf09b77",
        "outputId": "5977b22e-1bef-4159-ffd2-8ae74437fe76"
      },
      "outputs": [
        {
          "output_type": "execute_result",
          "data": {
            "text/plain": [
              "           eu_sales\n",
              "rating             \n",
              "M            145.32\n",
              "E             83.36\n",
              "no rating     78.91\n",
              "E10+          42.69\n",
              "T             41.95"
            ],
            "text/html": [
              "\n",
              "  <div id=\"df-091b733c-3e6a-4f38-95f0-674144a1711e\">\n",
              "    <div class=\"colab-df-container\">\n",
              "      <div>\n",
              "<style scoped>\n",
              "    .dataframe tbody tr th:only-of-type {\n",
              "        vertical-align: middle;\n",
              "    }\n",
              "\n",
              "    .dataframe tbody tr th {\n",
              "        vertical-align: top;\n",
              "    }\n",
              "\n",
              "    .dataframe thead th {\n",
              "        text-align: right;\n",
              "    }\n",
              "</style>\n",
              "<table border=\"1\" class=\"dataframe\">\n",
              "  <thead>\n",
              "    <tr style=\"text-align: right;\">\n",
              "      <th></th>\n",
              "      <th>eu_sales</th>\n",
              "    </tr>\n",
              "    <tr>\n",
              "      <th>rating</th>\n",
              "      <th></th>\n",
              "    </tr>\n",
              "  </thead>\n",
              "  <tbody>\n",
              "    <tr>\n",
              "      <th>M</th>\n",
              "      <td>145.32</td>\n",
              "    </tr>\n",
              "    <tr>\n",
              "      <th>E</th>\n",
              "      <td>83.36</td>\n",
              "    </tr>\n",
              "    <tr>\n",
              "      <th>no rating</th>\n",
              "      <td>78.91</td>\n",
              "    </tr>\n",
              "    <tr>\n",
              "      <th>E10+</th>\n",
              "      <td>42.69</td>\n",
              "    </tr>\n",
              "    <tr>\n",
              "      <th>T</th>\n",
              "      <td>41.95</td>\n",
              "    </tr>\n",
              "  </tbody>\n",
              "</table>\n",
              "</div>\n",
              "      <button class=\"colab-df-convert\" onclick=\"convertToInteractive('df-091b733c-3e6a-4f38-95f0-674144a1711e')\"\n",
              "              title=\"Convert this dataframe to an interactive table.\"\n",
              "              style=\"display:none;\">\n",
              "        \n",
              "  <svg xmlns=\"http://www.w3.org/2000/svg\" height=\"24px\"viewBox=\"0 0 24 24\"\n",
              "       width=\"24px\">\n",
              "    <path d=\"M0 0h24v24H0V0z\" fill=\"none\"/>\n",
              "    <path d=\"M18.56 5.44l.94 2.06.94-2.06 2.06-.94-2.06-.94-.94-2.06-.94 2.06-2.06.94zm-11 1L8.5 8.5l.94-2.06 2.06-.94-2.06-.94L8.5 2.5l-.94 2.06-2.06.94zm10 10l.94 2.06.94-2.06 2.06-.94-2.06-.94-.94-2.06-.94 2.06-2.06.94z\"/><path d=\"M17.41 7.96l-1.37-1.37c-.4-.4-.92-.59-1.43-.59-.52 0-1.04.2-1.43.59L10.3 9.45l-7.72 7.72c-.78.78-.78 2.05 0 2.83L4 21.41c.39.39.9.59 1.41.59.51 0 1.02-.2 1.41-.59l7.78-7.78 2.81-2.81c.8-.78.8-2.07 0-2.86zM5.41 20L4 18.59l7.72-7.72 1.47 1.35L5.41 20z\"/>\n",
              "  </svg>\n",
              "      </button>\n",
              "      \n",
              "  <style>\n",
              "    .colab-df-container {\n",
              "      display:flex;\n",
              "      flex-wrap:wrap;\n",
              "      gap: 12px;\n",
              "    }\n",
              "\n",
              "    .colab-df-convert {\n",
              "      background-color: #E8F0FE;\n",
              "      border: none;\n",
              "      border-radius: 50%;\n",
              "      cursor: pointer;\n",
              "      display: none;\n",
              "      fill: #1967D2;\n",
              "      height: 32px;\n",
              "      padding: 0 0 0 0;\n",
              "      width: 32px;\n",
              "    }\n",
              "\n",
              "    .colab-df-convert:hover {\n",
              "      background-color: #E2EBFA;\n",
              "      box-shadow: 0px 1px 2px rgba(60, 64, 67, 0.3), 0px 1px 3px 1px rgba(60, 64, 67, 0.15);\n",
              "      fill: #174EA6;\n",
              "    }\n",
              "\n",
              "    [theme=dark] .colab-df-convert {\n",
              "      background-color: #3B4455;\n",
              "      fill: #D2E3FC;\n",
              "    }\n",
              "\n",
              "    [theme=dark] .colab-df-convert:hover {\n",
              "      background-color: #434B5C;\n",
              "      box-shadow: 0px 1px 3px 1px rgba(0, 0, 0, 0.15);\n",
              "      filter: drop-shadow(0px 1px 2px rgba(0, 0, 0, 0.3));\n",
              "      fill: #FFFFFF;\n",
              "    }\n",
              "  </style>\n",
              "\n",
              "      <script>\n",
              "        const buttonEl =\n",
              "          document.querySelector('#df-091b733c-3e6a-4f38-95f0-674144a1711e button.colab-df-convert');\n",
              "        buttonEl.style.display =\n",
              "          google.colab.kernel.accessAllowed ? 'block' : 'none';\n",
              "\n",
              "        async function convertToInteractive(key) {\n",
              "          const element = document.querySelector('#df-091b733c-3e6a-4f38-95f0-674144a1711e');\n",
              "          const dataTable =\n",
              "            await google.colab.kernel.invokeFunction('convertToInteractive',\n",
              "                                                     [key], {});\n",
              "          if (!dataTable) return;\n",
              "\n",
              "          const docLinkHtml = 'Like what you see? Visit the ' +\n",
              "            '<a target=\"_blank\" href=https://colab.research.google.com/notebooks/data_table.ipynb>data table notebook</a>'\n",
              "            + ' to learn more about interactive tables.';\n",
              "          element.innerHTML = '';\n",
              "          dataTable['output_type'] = 'display_data';\n",
              "          await google.colab.output.renderOutput(dataTable, element);\n",
              "          const docLink = document.createElement('div');\n",
              "          docLink.innerHTML = docLinkHtml;\n",
              "          element.appendChild(docLink);\n",
              "        }\n",
              "      </script>\n",
              "    </div>\n",
              "  </div>\n",
              "  "
            ]
          },
          "metadata": {},
          "execution_count": 472
        }
      ],
      "source": [
        "# Определим, зависят ли продажи игр, выпущенных с 2013 года, в регионе EU от рейтинга\n",
        "data_top_EU_platforms_rating = since_2013_platforms.pivot_table(index=['rating'], values='eu_sales', aggfunc='sum')\n",
        "data_top_EU_platforms_rating.sort_values(by='eu_sales', ascending=False) "
      ]
    },
    {
      "cell_type": "code",
      "execution_count": 473,
      "id": "39f64955",
      "metadata": {
        "colab": {
          "base_uri": "https://localhost:8080/",
          "height": 238
        },
        "id": "39f64955",
        "outputId": "ce18b212-10a8-4acc-e172-b050a3c66450"
      },
      "outputs": [
        {
          "output_type": "execute_result",
          "data": {
            "text/plain": [
              "           jp_sales\n",
              "rating             \n",
              "no rating     85.05\n",
              "T             20.59\n",
              "E             15.14\n",
              "M             14.11\n",
              "E10+           5.89"
            ],
            "text/html": [
              "\n",
              "  <div id=\"df-426f29e1-8576-4680-8183-7a5a3ecc3e8d\">\n",
              "    <div class=\"colab-df-container\">\n",
              "      <div>\n",
              "<style scoped>\n",
              "    .dataframe tbody tr th:only-of-type {\n",
              "        vertical-align: middle;\n",
              "    }\n",
              "\n",
              "    .dataframe tbody tr th {\n",
              "        vertical-align: top;\n",
              "    }\n",
              "\n",
              "    .dataframe thead th {\n",
              "        text-align: right;\n",
              "    }\n",
              "</style>\n",
              "<table border=\"1\" class=\"dataframe\">\n",
              "  <thead>\n",
              "    <tr style=\"text-align: right;\">\n",
              "      <th></th>\n",
              "      <th>jp_sales</th>\n",
              "    </tr>\n",
              "    <tr>\n",
              "      <th>rating</th>\n",
              "      <th></th>\n",
              "    </tr>\n",
              "  </thead>\n",
              "  <tbody>\n",
              "    <tr>\n",
              "      <th>no rating</th>\n",
              "      <td>85.05</td>\n",
              "    </tr>\n",
              "    <tr>\n",
              "      <th>T</th>\n",
              "      <td>20.59</td>\n",
              "    </tr>\n",
              "    <tr>\n",
              "      <th>E</th>\n",
              "      <td>15.14</td>\n",
              "    </tr>\n",
              "    <tr>\n",
              "      <th>M</th>\n",
              "      <td>14.11</td>\n",
              "    </tr>\n",
              "    <tr>\n",
              "      <th>E10+</th>\n",
              "      <td>5.89</td>\n",
              "    </tr>\n",
              "  </tbody>\n",
              "</table>\n",
              "</div>\n",
              "      <button class=\"colab-df-convert\" onclick=\"convertToInteractive('df-426f29e1-8576-4680-8183-7a5a3ecc3e8d')\"\n",
              "              title=\"Convert this dataframe to an interactive table.\"\n",
              "              style=\"display:none;\">\n",
              "        \n",
              "  <svg xmlns=\"http://www.w3.org/2000/svg\" height=\"24px\"viewBox=\"0 0 24 24\"\n",
              "       width=\"24px\">\n",
              "    <path d=\"M0 0h24v24H0V0z\" fill=\"none\"/>\n",
              "    <path d=\"M18.56 5.44l.94 2.06.94-2.06 2.06-.94-2.06-.94-.94-2.06-.94 2.06-2.06.94zm-11 1L8.5 8.5l.94-2.06 2.06-.94-2.06-.94L8.5 2.5l-.94 2.06-2.06.94zm10 10l.94 2.06.94-2.06 2.06-.94-2.06-.94-.94-2.06-.94 2.06-2.06.94z\"/><path d=\"M17.41 7.96l-1.37-1.37c-.4-.4-.92-.59-1.43-.59-.52 0-1.04.2-1.43.59L10.3 9.45l-7.72 7.72c-.78.78-.78 2.05 0 2.83L4 21.41c.39.39.9.59 1.41.59.51 0 1.02-.2 1.41-.59l7.78-7.78 2.81-2.81c.8-.78.8-2.07 0-2.86zM5.41 20L4 18.59l7.72-7.72 1.47 1.35L5.41 20z\"/>\n",
              "  </svg>\n",
              "      </button>\n",
              "      \n",
              "  <style>\n",
              "    .colab-df-container {\n",
              "      display:flex;\n",
              "      flex-wrap:wrap;\n",
              "      gap: 12px;\n",
              "    }\n",
              "\n",
              "    .colab-df-convert {\n",
              "      background-color: #E8F0FE;\n",
              "      border: none;\n",
              "      border-radius: 50%;\n",
              "      cursor: pointer;\n",
              "      display: none;\n",
              "      fill: #1967D2;\n",
              "      height: 32px;\n",
              "      padding: 0 0 0 0;\n",
              "      width: 32px;\n",
              "    }\n",
              "\n",
              "    .colab-df-convert:hover {\n",
              "      background-color: #E2EBFA;\n",
              "      box-shadow: 0px 1px 2px rgba(60, 64, 67, 0.3), 0px 1px 3px 1px rgba(60, 64, 67, 0.15);\n",
              "      fill: #174EA6;\n",
              "    }\n",
              "\n",
              "    [theme=dark] .colab-df-convert {\n",
              "      background-color: #3B4455;\n",
              "      fill: #D2E3FC;\n",
              "    }\n",
              "\n",
              "    [theme=dark] .colab-df-convert:hover {\n",
              "      background-color: #434B5C;\n",
              "      box-shadow: 0px 1px 3px 1px rgba(0, 0, 0, 0.15);\n",
              "      filter: drop-shadow(0px 1px 2px rgba(0, 0, 0, 0.3));\n",
              "      fill: #FFFFFF;\n",
              "    }\n",
              "  </style>\n",
              "\n",
              "      <script>\n",
              "        const buttonEl =\n",
              "          document.querySelector('#df-426f29e1-8576-4680-8183-7a5a3ecc3e8d button.colab-df-convert');\n",
              "        buttonEl.style.display =\n",
              "          google.colab.kernel.accessAllowed ? 'block' : 'none';\n",
              "\n",
              "        async function convertToInteractive(key) {\n",
              "          const element = document.querySelector('#df-426f29e1-8576-4680-8183-7a5a3ecc3e8d');\n",
              "          const dataTable =\n",
              "            await google.colab.kernel.invokeFunction('convertToInteractive',\n",
              "                                                     [key], {});\n",
              "          if (!dataTable) return;\n",
              "\n",
              "          const docLinkHtml = 'Like what you see? Visit the ' +\n",
              "            '<a target=\"_blank\" href=https://colab.research.google.com/notebooks/data_table.ipynb>data table notebook</a>'\n",
              "            + ' to learn more about interactive tables.';\n",
              "          element.innerHTML = '';\n",
              "          dataTable['output_type'] = 'display_data';\n",
              "          await google.colab.output.renderOutput(dataTable, element);\n",
              "          const docLink = document.createElement('div');\n",
              "          docLink.innerHTML = docLinkHtml;\n",
              "          element.appendChild(docLink);\n",
              "        }\n",
              "      </script>\n",
              "    </div>\n",
              "  </div>\n",
              "  "
            ]
          },
          "metadata": {},
          "execution_count": 473
        }
      ],
      "source": [
        "# Определим, зависят ли продажи игр, выпущенных с 2013 года, в регионе JP от рейтинга\n",
        "data_top_JP_platforms_rating = since_2013_platforms.pivot_table(index=['rating'], values='jp_sales', aggfunc='sum')\n",
        "data_top_JP_platforms_rating.sort_values(by='jp_sales', ascending=False) \n",
        " "
      ]
    },
    {
      "cell_type": "markdown",
      "id": "f048702f",
      "metadata": {
        "id": "f048702f"
      },
      "source": [
        "### Вывод\n",
        "\n",
        "Самые популярные платформы (топ-5):\n",
        "\n",
        "* Топ-5 СА: PS4, XOne, X360, PS3, 3DS\n",
        "\n",
        "* Топ-5 Европы: PS4, PS3, XOne, X360, 3DS\n",
        "\n",
        "* Топ-5 Японии: 3DS, PS3, PSV, PS4, WiiU\n",
        "\n",
        "Выводы по продажам для топ-платформ:\n",
        "* общее количество проданных игр на платформе, занимающей первое место, в Японии в 2.1 раза меньше, чем в Европе;\n",
        "* продажи в СА и Европе имеют больше сходств между собой, чем с Японией. Топ-5 СА и Европы состоит из одних и тех же платформ, занимающих разные места, однако в обоих регионах лидирует PS4;\n",
        "* в топ-5 Японии присутствуют PSV и WiiU, продажи которых в СА и Европе не входят в топ-5;\n",
        "* в топ-5 Японии и Европы количество проданных копий для лидеров списков значительно выше занимающих вторые места;\n",
        "* в Америке нет продаж для платформы PSP, в Японии они есть, но не очень высокие. Также в Японии нет продаж для PC и DS, а для Wii они очень низкие.\n",
        "\n",
        "\n",
        "Самые популярные жанры (топ-5):\n",
        "\n",
        "* Топ-5 жанров в СА: Shooter, Sports, Platform, Fighting, Misc\t\n",
        "\n",
        "* Топ-5 жанров в Европе: Shooter, Sports, Racing, Platform, Simulation\n",
        "\n",
        "* Топ-5 жанров в Японии: Role-Playing, Fighting, Simulation, Puzzle, Platform\t\n",
        "\n",
        "Выводы по топ-жанрам:\n",
        "* Топ-2 для СА и Европы идентичен, однако третьи-пятые места имеют лишь одно пересечение: Platform;\n",
        "* в Японии с отрывом лидирует Role-Playing, отличаясь от следующей строчки, Fighting, в 1.8 раз;\n",
        "* самый популярный в Японии жанр Role-Playing занимает лишь седьмое/восьмое места в СА и Европе соответственно.\n",
        "\n",
        "\n",
        "Влияние рейтинга ESRB на продажи в отдельном регионе:\n",
        "* во всех трех регионах продавались только игры с одим из четырех рейтингов: Everyone, Teen, Mature и Everyone 10 and older, либо вовсе без рейтинга;\n",
        "* явный лидер в СА и Европе — жанр Mature, на втором месте - Everyone/no rating;\n",
        "* в Японии же лидируют игры без рейтинга, на втором месте - Teen.\n",
        "\n"
      ]
    },
    {
      "cell_type": "markdown",
      "id": "9075ff36",
      "metadata": {
        "id": "9075ff36"
      },
      "source": [
        "## 6. Гипотезы\n",
        "<a name=\"hypothesis\"></a>"
      ]
    },
    {
      "cell_type": "markdown",
      "id": "14cd33b4",
      "metadata": {
        "id": "14cd33b4"
      },
      "source": [
        "### Задача\n",
        "\n",
        "Проверьте гипотезы:\n",
        "* Средние пользовательские рейтинги платформ Xbox One и PC одинаковые;\n",
        "* Средние пользовательские рейтинги жанров Action (англ. «действие», экшен-игры) и Sports (англ. «спортивные соревнования») разные.\n",
        "\n",
        "Задайте самостоятельно пороговое значение alpha.\n",
        "\n",
        "Поясните:\n",
        "* Как вы сформулировали нулевую и альтернативную гипотезы;\n",
        "* Какой критерий применили для проверки гипотез и почему."
      ]
    },
    {
      "cell_type": "markdown",
      "id": "ff7991f1",
      "metadata": {
        "id": "ff7991f1"
      },
      "source": [
        "### Сформулируем и проверим гипотезы:\n",
        "\n",
        "* H₀: cредние пользовательские рейтинги платформ Xbox One и PC одинаковые;\n",
        "* H₁: cредние пользовательские рейтинги платформ Xbox One и PC отличаются."
      ]
    },
    {
      "cell_type": "code",
      "execution_count": 474,
      "id": "074b4276",
      "metadata": {
        "colab": {
          "base_uri": "https://localhost:8080/"
        },
        "id": "074b4276",
        "outputId": "617d5355-6cc8-4f8c-d29e-ea91aad3c5e4"
      },
      "outputs": [
        {
          "output_type": "stream",
          "name": "stdout",
          "text": [
            "p-значение: 0.1475959401343032\n",
            "Не получилось отвергнуть нулевую гипотезу\n"
          ]
        }
      ],
      "source": [
        "#создадим DataFrame с данными пользовательских рейтингов платформ Xbox One и PC\n",
        "x_one_user_score = since_2013_platforms.query('platform == \"XOne\"')['user_score'].reset_index(drop=True)\n",
        "pc_user_score = since_2013_platforms.query('platform == \"PC\"')['user_score'].reset_index(drop=True)\n",
        "\n",
        "alpha = .05 # зададим критический уровень статистической значимости\n",
        "\n",
        "\n",
        "results = st.ttest_ind(\n",
        "    x_one_user_score, \n",
        "    pc_user_score, \n",
        "    equal_var = False,\n",
        "    nan_policy='omit')\n",
        "\n",
        "print('p-значение:', results.pvalue)\n",
        "\n",
        "if results.pvalue < alpha:\n",
        "    print(\"Отвергаем нулевую гипотезу\")\n",
        "else:\n",
        "    print(\"Не получилось отвергнуть нулевую гипотезу\") \n",
        "    "
      ]
    },
    {
      "cell_type": "code",
      "execution_count": 475,
      "id": "c82e1678",
      "metadata": {
        "colab": {
          "base_uri": "https://localhost:8080/",
          "height": 426
        },
        "id": "c82e1678",
        "outputId": "cd933adf-552b-456b-cbea-a43037541f7f"
      },
      "outputs": [
        {
          "output_type": "execute_result",
          "data": {
            "text/plain": [
              "          user_score\n",
              "platform            \n",
              "3DS         6.976250\n",
              "DS          4.800000\n",
              "PC          6.269677\n",
              "PS3         6.348387\n",
              "PS4         6.748249\n",
              "PSP         5.850000\n",
              "PSV         7.527273\n",
              "Wii         5.257143\n",
              "WiiU        7.017500\n",
              "X360        5.993007\n",
              "XOne        6.521429"
            ],
            "text/html": [
              "\n",
              "  <div id=\"df-15a90df1-93b4-4b06-88ef-ba4c7f6ef5d7\">\n",
              "    <div class=\"colab-df-container\">\n",
              "      <div>\n",
              "<style scoped>\n",
              "    .dataframe tbody tr th:only-of-type {\n",
              "        vertical-align: middle;\n",
              "    }\n",
              "\n",
              "    .dataframe tbody tr th {\n",
              "        vertical-align: top;\n",
              "    }\n",
              "\n",
              "    .dataframe thead th {\n",
              "        text-align: right;\n",
              "    }\n",
              "</style>\n",
              "<table border=\"1\" class=\"dataframe\">\n",
              "  <thead>\n",
              "    <tr style=\"text-align: right;\">\n",
              "      <th></th>\n",
              "      <th>user_score</th>\n",
              "    </tr>\n",
              "    <tr>\n",
              "      <th>platform</th>\n",
              "      <th></th>\n",
              "    </tr>\n",
              "  </thead>\n",
              "  <tbody>\n",
              "    <tr>\n",
              "      <th>3DS</th>\n",
              "      <td>6.976250</td>\n",
              "    </tr>\n",
              "    <tr>\n",
              "      <th>DS</th>\n",
              "      <td>4.800000</td>\n",
              "    </tr>\n",
              "    <tr>\n",
              "      <th>PC</th>\n",
              "      <td>6.269677</td>\n",
              "    </tr>\n",
              "    <tr>\n",
              "      <th>PS3</th>\n",
              "      <td>6.348387</td>\n",
              "    </tr>\n",
              "    <tr>\n",
              "      <th>PS4</th>\n",
              "      <td>6.748249</td>\n",
              "    </tr>\n",
              "    <tr>\n",
              "      <th>PSP</th>\n",
              "      <td>5.850000</td>\n",
              "    </tr>\n",
              "    <tr>\n",
              "      <th>PSV</th>\n",
              "      <td>7.527273</td>\n",
              "    </tr>\n",
              "    <tr>\n",
              "      <th>Wii</th>\n",
              "      <td>5.257143</td>\n",
              "    </tr>\n",
              "    <tr>\n",
              "      <th>WiiU</th>\n",
              "      <td>7.017500</td>\n",
              "    </tr>\n",
              "    <tr>\n",
              "      <th>X360</th>\n",
              "      <td>5.993007</td>\n",
              "    </tr>\n",
              "    <tr>\n",
              "      <th>XOne</th>\n",
              "      <td>6.521429</td>\n",
              "    </tr>\n",
              "  </tbody>\n",
              "</table>\n",
              "</div>\n",
              "      <button class=\"colab-df-convert\" onclick=\"convertToInteractive('df-15a90df1-93b4-4b06-88ef-ba4c7f6ef5d7')\"\n",
              "              title=\"Convert this dataframe to an interactive table.\"\n",
              "              style=\"display:none;\">\n",
              "        \n",
              "  <svg xmlns=\"http://www.w3.org/2000/svg\" height=\"24px\"viewBox=\"0 0 24 24\"\n",
              "       width=\"24px\">\n",
              "    <path d=\"M0 0h24v24H0V0z\" fill=\"none\"/>\n",
              "    <path d=\"M18.56 5.44l.94 2.06.94-2.06 2.06-.94-2.06-.94-.94-2.06-.94 2.06-2.06.94zm-11 1L8.5 8.5l.94-2.06 2.06-.94-2.06-.94L8.5 2.5l-.94 2.06-2.06.94zm10 10l.94 2.06.94-2.06 2.06-.94-2.06-.94-.94-2.06-.94 2.06-2.06.94z\"/><path d=\"M17.41 7.96l-1.37-1.37c-.4-.4-.92-.59-1.43-.59-.52 0-1.04.2-1.43.59L10.3 9.45l-7.72 7.72c-.78.78-.78 2.05 0 2.83L4 21.41c.39.39.9.59 1.41.59.51 0 1.02-.2 1.41-.59l7.78-7.78 2.81-2.81c.8-.78.8-2.07 0-2.86zM5.41 20L4 18.59l7.72-7.72 1.47 1.35L5.41 20z\"/>\n",
              "  </svg>\n",
              "      </button>\n",
              "      \n",
              "  <style>\n",
              "    .colab-df-container {\n",
              "      display:flex;\n",
              "      flex-wrap:wrap;\n",
              "      gap: 12px;\n",
              "    }\n",
              "\n",
              "    .colab-df-convert {\n",
              "      background-color: #E8F0FE;\n",
              "      border: none;\n",
              "      border-radius: 50%;\n",
              "      cursor: pointer;\n",
              "      display: none;\n",
              "      fill: #1967D2;\n",
              "      height: 32px;\n",
              "      padding: 0 0 0 0;\n",
              "      width: 32px;\n",
              "    }\n",
              "\n",
              "    .colab-df-convert:hover {\n",
              "      background-color: #E2EBFA;\n",
              "      box-shadow: 0px 1px 2px rgba(60, 64, 67, 0.3), 0px 1px 3px 1px rgba(60, 64, 67, 0.15);\n",
              "      fill: #174EA6;\n",
              "    }\n",
              "\n",
              "    [theme=dark] .colab-df-convert {\n",
              "      background-color: #3B4455;\n",
              "      fill: #D2E3FC;\n",
              "    }\n",
              "\n",
              "    [theme=dark] .colab-df-convert:hover {\n",
              "      background-color: #434B5C;\n",
              "      box-shadow: 0px 1px 3px 1px rgba(0, 0, 0, 0.15);\n",
              "      filter: drop-shadow(0px 1px 2px rgba(0, 0, 0, 0.3));\n",
              "      fill: #FFFFFF;\n",
              "    }\n",
              "  </style>\n",
              "\n",
              "      <script>\n",
              "        const buttonEl =\n",
              "          document.querySelector('#df-15a90df1-93b4-4b06-88ef-ba4c7f6ef5d7 button.colab-df-convert');\n",
              "        buttonEl.style.display =\n",
              "          google.colab.kernel.accessAllowed ? 'block' : 'none';\n",
              "\n",
              "        async function convertToInteractive(key) {\n",
              "          const element = document.querySelector('#df-15a90df1-93b4-4b06-88ef-ba4c7f6ef5d7');\n",
              "          const dataTable =\n",
              "            await google.colab.kernel.invokeFunction('convertToInteractive',\n",
              "                                                     [key], {});\n",
              "          if (!dataTable) return;\n",
              "\n",
              "          const docLinkHtml = 'Like what you see? Visit the ' +\n",
              "            '<a target=\"_blank\" href=https://colab.research.google.com/notebooks/data_table.ipynb>data table notebook</a>'\n",
              "            + ' to learn more about interactive tables.';\n",
              "          element.innerHTML = '';\n",
              "          dataTable['output_type'] = 'display_data';\n",
              "          await google.colab.output.renderOutput(dataTable, element);\n",
              "          const docLink = document.createElement('div');\n",
              "          docLink.innerHTML = docLinkHtml;\n",
              "          element.appendChild(docLink);\n",
              "        }\n",
              "      </script>\n",
              "    </div>\n",
              "  </div>\n",
              "  "
            ]
          },
          "metadata": {},
          "execution_count": 475
        }
      ],
      "source": [
        "# Мы можем проверить результат, вычислив средние двух выборок — они небольшого размера\n",
        "since_2013_platforms.pivot_table(index='platform', values='user_score')\n",
        "\n",
        "# Средние не равны, но показатели близки"
      ]
    },
    {
      "cell_type": "markdown",
      "id": "ad48cf53",
      "metadata": {
        "id": "ad48cf53"
      },
      "source": [
        "Мы сформулировали нулевую гипотезу о равенстве cредних пользовательских рейтингов платформ Xbox One и PC, т.к. нулевой гипотезой всегда должно проверяться равенство. Альтернативной гипотезой, соответственно, будет неравенство. Для оценки мы использовали данные о пользовательском рейтинге, сгруппированном по двум платформам.\n",
        "\n",
        "T-test показал, что:\n",
        "\n",
        "* мы не можем отвергнуть нулевую гипотезу о равенстве cредних пользовательских рейтингов платформ Xbox One и PC;\n",
        "* pvalue 14%, т.е. вероятность получить такой результат случайно достаточно велика."
      ]
    },
    {
      "cell_type": "markdown",
      "id": "e5309b00",
      "metadata": {
        "id": "e5309b00"
      },
      "source": [
        "### Сформулируем и проверим гипотезы:\n",
        "* H₀: cредние пользовательские рейтинги жанров Action (англ. «действие», экшен-игры) и Sports (англ. «спортивные соревнования») одинаковые;\n",
        "* H₁: cредние пользовательские рейтинги жанров Action (англ. «действие», экшен-игры) и Sports (англ. «спортивные соревнования») отличаются."
      ]
    },
    {
      "cell_type": "code",
      "execution_count": 476,
      "id": "4a96a63d",
      "metadata": {
        "colab": {
          "base_uri": "https://localhost:8080/"
        },
        "id": "4a96a63d",
        "outputId": "0975e20b-532e-4f61-deae-9d033fcd0c13"
      },
      "outputs": [
        {
          "output_type": "stream",
          "name": "stdout",
          "text": [
            "p-значение: 1.4460039700703482e-20\n",
            "Отвергаем нулевую гипотезу\n"
          ]
        }
      ],
      "source": [
        "#создадим DataFrame с данными жанров Action и Sports\n",
        "action_user_score = since_2013_platforms.query('genre == \"Action\"')['user_score'].reset_index(drop=True)\n",
        "sports_user_score = since_2013_platforms.query('genre == \"Sports\"')['user_score'].reset_index(drop=True)\n",
        "\n",
        "alpha = .05 # зададим критический уровень статистической значимости\n",
        "\n",
        "\n",
        "results = st.ttest_ind(\n",
        "    action_user_score, \n",
        "    sports_user_score, \n",
        "    equal_var = False,\n",
        "    nan_policy='omit')\n",
        "\n",
        "print('p-значение:', results.pvalue)\n",
        "\n",
        "if results.pvalue < alpha:\n",
        "    print(\"Отвергаем нулевую гипотезу\")\n",
        "else:\n",
        "    print(\"Не получилось отвергнуть нулевую гипотезу\") "
      ]
    },
    {
      "cell_type": "code",
      "execution_count": 477,
      "id": "2e3849b7",
      "metadata": {
        "colab": {
          "base_uri": "https://localhost:8080/",
          "height": 457
        },
        "id": "2e3849b7",
        "outputId": "a9e363f5-c952-4fac-d858-496102d7e965"
      },
      "outputs": [
        {
          "output_type": "execute_result",
          "data": {
            "text/plain": [
              "              user_score\n",
              "genre                   \n",
              "Action          6.837532\n",
              "Adventure       7.461667\n",
              "Fighting        7.037500\n",
              "Misc            6.975000\n",
              "Platform        6.713793\n",
              "Puzzle          7.471429\n",
              "Racing          6.080000\n",
              "Role-Playing    7.376471\n",
              "Shooter         6.342308\n",
              "Simulation      6.054839\n",
              "Sports          5.238125\n",
              "Strategy        6.183333"
            ],
            "text/html": [
              "\n",
              "  <div id=\"df-758c9486-a01f-4e54-a45e-fe285733b85e\">\n",
              "    <div class=\"colab-df-container\">\n",
              "      <div>\n",
              "<style scoped>\n",
              "    .dataframe tbody tr th:only-of-type {\n",
              "        vertical-align: middle;\n",
              "    }\n",
              "\n",
              "    .dataframe tbody tr th {\n",
              "        vertical-align: top;\n",
              "    }\n",
              "\n",
              "    .dataframe thead th {\n",
              "        text-align: right;\n",
              "    }\n",
              "</style>\n",
              "<table border=\"1\" class=\"dataframe\">\n",
              "  <thead>\n",
              "    <tr style=\"text-align: right;\">\n",
              "      <th></th>\n",
              "      <th>user_score</th>\n",
              "    </tr>\n",
              "    <tr>\n",
              "      <th>genre</th>\n",
              "      <th></th>\n",
              "    </tr>\n",
              "  </thead>\n",
              "  <tbody>\n",
              "    <tr>\n",
              "      <th>Action</th>\n",
              "      <td>6.837532</td>\n",
              "    </tr>\n",
              "    <tr>\n",
              "      <th>Adventure</th>\n",
              "      <td>7.461667</td>\n",
              "    </tr>\n",
              "    <tr>\n",
              "      <th>Fighting</th>\n",
              "      <td>7.037500</td>\n",
              "    </tr>\n",
              "    <tr>\n",
              "      <th>Misc</th>\n",
              "      <td>6.975000</td>\n",
              "    </tr>\n",
              "    <tr>\n",
              "      <th>Platform</th>\n",
              "      <td>6.713793</td>\n",
              "    </tr>\n",
              "    <tr>\n",
              "      <th>Puzzle</th>\n",
              "      <td>7.471429</td>\n",
              "    </tr>\n",
              "    <tr>\n",
              "      <th>Racing</th>\n",
              "      <td>6.080000</td>\n",
              "    </tr>\n",
              "    <tr>\n",
              "      <th>Role-Playing</th>\n",
              "      <td>7.376471</td>\n",
              "    </tr>\n",
              "    <tr>\n",
              "      <th>Shooter</th>\n",
              "      <td>6.342308</td>\n",
              "    </tr>\n",
              "    <tr>\n",
              "      <th>Simulation</th>\n",
              "      <td>6.054839</td>\n",
              "    </tr>\n",
              "    <tr>\n",
              "      <th>Sports</th>\n",
              "      <td>5.238125</td>\n",
              "    </tr>\n",
              "    <tr>\n",
              "      <th>Strategy</th>\n",
              "      <td>6.183333</td>\n",
              "    </tr>\n",
              "  </tbody>\n",
              "</table>\n",
              "</div>\n",
              "      <button class=\"colab-df-convert\" onclick=\"convertToInteractive('df-758c9486-a01f-4e54-a45e-fe285733b85e')\"\n",
              "              title=\"Convert this dataframe to an interactive table.\"\n",
              "              style=\"display:none;\">\n",
              "        \n",
              "  <svg xmlns=\"http://www.w3.org/2000/svg\" height=\"24px\"viewBox=\"0 0 24 24\"\n",
              "       width=\"24px\">\n",
              "    <path d=\"M0 0h24v24H0V0z\" fill=\"none\"/>\n",
              "    <path d=\"M18.56 5.44l.94 2.06.94-2.06 2.06-.94-2.06-.94-.94-2.06-.94 2.06-2.06.94zm-11 1L8.5 8.5l.94-2.06 2.06-.94-2.06-.94L8.5 2.5l-.94 2.06-2.06.94zm10 10l.94 2.06.94-2.06 2.06-.94-2.06-.94-.94-2.06-.94 2.06-2.06.94z\"/><path d=\"M17.41 7.96l-1.37-1.37c-.4-.4-.92-.59-1.43-.59-.52 0-1.04.2-1.43.59L10.3 9.45l-7.72 7.72c-.78.78-.78 2.05 0 2.83L4 21.41c.39.39.9.59 1.41.59.51 0 1.02-.2 1.41-.59l7.78-7.78 2.81-2.81c.8-.78.8-2.07 0-2.86zM5.41 20L4 18.59l7.72-7.72 1.47 1.35L5.41 20z\"/>\n",
              "  </svg>\n",
              "      </button>\n",
              "      \n",
              "  <style>\n",
              "    .colab-df-container {\n",
              "      display:flex;\n",
              "      flex-wrap:wrap;\n",
              "      gap: 12px;\n",
              "    }\n",
              "\n",
              "    .colab-df-convert {\n",
              "      background-color: #E8F0FE;\n",
              "      border: none;\n",
              "      border-radius: 50%;\n",
              "      cursor: pointer;\n",
              "      display: none;\n",
              "      fill: #1967D2;\n",
              "      height: 32px;\n",
              "      padding: 0 0 0 0;\n",
              "      width: 32px;\n",
              "    }\n",
              "\n",
              "    .colab-df-convert:hover {\n",
              "      background-color: #E2EBFA;\n",
              "      box-shadow: 0px 1px 2px rgba(60, 64, 67, 0.3), 0px 1px 3px 1px rgba(60, 64, 67, 0.15);\n",
              "      fill: #174EA6;\n",
              "    }\n",
              "\n",
              "    [theme=dark] .colab-df-convert {\n",
              "      background-color: #3B4455;\n",
              "      fill: #D2E3FC;\n",
              "    }\n",
              "\n",
              "    [theme=dark] .colab-df-convert:hover {\n",
              "      background-color: #434B5C;\n",
              "      box-shadow: 0px 1px 3px 1px rgba(0, 0, 0, 0.15);\n",
              "      filter: drop-shadow(0px 1px 2px rgba(0, 0, 0, 0.3));\n",
              "      fill: #FFFFFF;\n",
              "    }\n",
              "  </style>\n",
              "\n",
              "      <script>\n",
              "        const buttonEl =\n",
              "          document.querySelector('#df-758c9486-a01f-4e54-a45e-fe285733b85e button.colab-df-convert');\n",
              "        buttonEl.style.display =\n",
              "          google.colab.kernel.accessAllowed ? 'block' : 'none';\n",
              "\n",
              "        async function convertToInteractive(key) {\n",
              "          const element = document.querySelector('#df-758c9486-a01f-4e54-a45e-fe285733b85e');\n",
              "          const dataTable =\n",
              "            await google.colab.kernel.invokeFunction('convertToInteractive',\n",
              "                                                     [key], {});\n",
              "          if (!dataTable) return;\n",
              "\n",
              "          const docLinkHtml = 'Like what you see? Visit the ' +\n",
              "            '<a target=\"_blank\" href=https://colab.research.google.com/notebooks/data_table.ipynb>data table notebook</a>'\n",
              "            + ' to learn more about interactive tables.';\n",
              "          element.innerHTML = '';\n",
              "          dataTable['output_type'] = 'display_data';\n",
              "          await google.colab.output.renderOutput(dataTable, element);\n",
              "          const docLink = document.createElement('div');\n",
              "          docLink.innerHTML = docLinkHtml;\n",
              "          element.appendChild(docLink);\n",
              "        }\n",
              "      </script>\n",
              "    </div>\n",
              "  </div>\n",
              "  "
            ]
          },
          "metadata": {},
          "execution_count": 477
        }
      ],
      "source": [
        "# Мы можем проверить результат, вычислив средние двух выборок — они небольшого размера\n",
        "since_2013_platforms.pivot_table(index='genre', values='user_score')\n",
        "\n",
        "# Средние не равны"
      ]
    },
    {
      "cell_type": "markdown",
      "id": "8e4408ff",
      "metadata": {
        "id": "8e4408ff"
      },
      "source": [
        "Мы сформулировали нулевую гипотезу о равенстве cредних пользовательских рейтингов жанров Action и Sports, т.к. нулевой гипотезой всегда должно проверяться равенство. Альтернативной гипотезой, соответственно, будет неравенство. Для оценки мы использовали данные о пользовательском рейтинге, сгруппированном по жанрам.\n",
        "\n",
        "T-test показал, что:\n",
        "\n",
        "* мы отвергаем нулевую гипотезу о равенстве cредних пользовательских рейтингов жанров Action и Sports;\n",
        "* pvalue 1.446003970070351e-20, т.е. вероятность получить такой результат случайно чрезвычайно низка."
      ]
    },
    {
      "cell_type": "markdown",
      "id": "d6c8d967",
      "metadata": {
        "id": "d6c8d967"
      },
      "source": [
        "## 7. Общий вывод\n",
        "<a name=\"sumup\"></a>"
      ]
    },
    {
      "cell_type": "markdown",
      "id": "e9067606",
      "metadata": {
        "id": "e9067606"
      },
      "source": [
        "В данном исследовании нам необходимо было выявить определяющие успешность игры закономерности. Это позволит сделать ставку на потенциально популярный продукт и спланировать рекламные кампании. Из открытых источников нам были доступны исторические данные о продажах игр, оценки пользователей и экспертов, жанры и платформы (например, Xbox или PlayStation), определяющие успешность игры закономерности.\n",
        "\n",
        "В ходе исследования мы проверили данные на ошибки и оценили их влияние на исследование. Затем мы устранили проблемы в данных, провели исследовательский анализ, рассмотрели две гипотезы и сделали вывод.\n",
        "\n",
        "На этапе предобработки данных мы сделали следующие выводы:\n",
        "\n",
        "* большинство игр начало продаваться в 2000-е;\n",
        "* существует большой разброс в сторону увеличения количества продаж в Северной Америке и Европе, в первом процентиле все значения - нулевые, т.е. много игр не продавалось совсем, в то же время есть явные лидеры продаж с большим отрывом;\n",
        "* в Японии и остальном мире продаж либо не было совсем, либо они были очень высокими.\n",
        "\n",
        "Затем мы посчитали суммарные продажи во всех регионах и провели исследовательский анализ, который позволил нам сделать вывод о том, что по количеству выпущенных игр определенно лидирует период с 2005 по 2011 годы, с ярким пиком в 2008-2009 годах. Однако анализ данных за более чем 20-летний период не представляется логичным, за такой период факторы, влияющие на успех, скорее всего изменились, поэтому мы приняли решение **ограничить выборку периодом с 2013 года**.\n",
        "\n",
        "На основании построенных графиков можно сделать вывод, что продажи по всем платформам упали к концу 2016 года, при этом для трех платформ падение продолжалось с 2013 года - видна устойчивая тенденция к снижению продаж. Продажи для PS4 и XOne за исследуемый период пережили взлет и начали медленное падение в 2015 году. Лидер по числу проданных копий - PS4 (пик в 2015 году - почти 119 млн.копий), затем с небольшим отрывом следует PS3 - 113.25 млн. копий в 2013 году. При этом в 2016 году для PS4 было продано всего 69.25 млн. копий, т.е. продажи упали в 1.7 раз. Минимум продаж к концу исследуемого периода пришелся на X360 - 1.52 млн.копий.\n",
        "\n",
        "Затем мы посчитали корреляцию между отзывами и продажами, а также построили диаграмму рассеяния для самой успешной платформы PS4. На основании полученного результата мы сделали следующие выводы:\n",
        "\n",
        "* самый высокий коэффициент корреляции между параметрами user score и critic score (5.5). Это значит, что отзывы критиков влияют на отзывы пользователей и наоборот, но это влияние не очень высокое. На диаграмме рассеяния также видно, что отзывов с положительными оценками со стороны обеих групп намного больше, чем с отрицательными. А варианты с низкими оценками с одной стороны и высокими с другой единичны;\n",
        "* влияния отзывов пользователей на продажи практически нет, коэффициент очень низкий (-0.03), но в то же время он отрицательный, т.е. либо рост продаж минимально влияет на снижение оценки пользователями, либо наоборот. Коэффициент влияния оценки критиков на продажи выше— 0.4 — это говорит о том, что положительная корреляция присутствует. Диаграмма рассеяния также показывает, что скачки продаж на платформе происходили только для игр с высокими отзывами со стороны критиков.\n",
        "\n",
        "Для остальных популярных платформ — 3DS, XOne, PS3, X360 — выводы представлены ниже:\n",
        "\n",
        "* коэффициент корреляции между параметрами user score и critic score для данных платформ (кроме 3DS) так же невысок, для 3DS он составляет 0.77. Это значит, что для платформы 3DS отзывы критиков влияют на отзывы пользователей и наоборот. На диаграмме рассеяния также видно, что отзывов с положительными оценками со стороны обеих групп намного больше, чем с отрицательными. А варианты с низкими оценками с одной стороны и высокими с другой единичны;\n",
        "* влияния отзывов на продажи практически нет, коэффициенты по-прежнему низкие. Самый высокий показатель зависимости между продажами и оценками критиков - у платформ XOne (0.42). Диаграмма рассеяния показывает, что скачки продаж на платформах происходили только для игр с высокими отзывами со стороны критиков, но со стороны пользователей для данных случаев оценки могли быть и невысокими.\n",
        "\n",
        "Самым прибыльным жанром с явным отрывом от остальных является Shooter. В топ-5 также входят Sports, Role-Playing, Action и Racing. Также достаточно сильно заметна разница в продажах для жанров, находящихся внизу таблицы. Самый популярный жанр Shooter приносит в 12 раза больше дохода, чем самый неприбыльный жанр Strategy. \n",
        "\n",
        "\n",
        "Самые популярные платформы (топ-5):\n",
        "\n",
        "* Топ-5 СА: PS4, XOne, X360, PS3, 3DS\n",
        "\n",
        "* Топ-5 Европы: PS4, PS3, XOne, X360, 3DS\n",
        "\n",
        "* Топ-5 Японии: 3DS, PS3, PSV, PS4, WiiU\n",
        "\n",
        "Выводы по продажам для топ-платформ:\n",
        "* общее количество проданных игр на платформе, занимающей первое место, в Японии в 2.1 раза меньше, чем в Европе;\n",
        "* продажи в СА и Европе имеют больше сходств между собой, чем с Японией. Топ-5 СА и Европы состоит из одних и тех же платформ, занимающих разные места, однако в обоих регионах лидирует PS4;\n",
        "* в топ-5 Японии присутствуют PSV и WiiU, продажи которых в СА и Европе не входят в топ-5;\n",
        "* в топ-5 Японии и Европы количество проданных копий для лидеров списков значительно выше занимающих вторые места;\n",
        "* в Америке нет продаж для платформы PSP, в Японии они есть, но не очень высокие. Также в Японии нет продаж для PC и DS, а для Wii они очень низкие.\n",
        "\n",
        "\n",
        "Самые популярные жанры (топ-5):\n",
        "\n",
        "* Топ-5 жанров в СА: Shooter, Sports, Platform, Fighting, Misc\t\n",
        "\n",
        "* Топ-5 жанров в Европе: Shooter, Sports, Racing, Platform, Simulation\n",
        "\n",
        "* Топ-5 жанров в Японии: Role-Playing, Fighting, Simulation, Puzzle, Platform\t\n",
        "\n",
        "Выводы по топ-жанрам:\n",
        "* Топ-2 для СА и Европы идентичен, однако третьи-пятые места имеют лишь одно пересечение: Platform;\n",
        "* в Японии с отрывом лидирует Role-Playing, отличаясь от следующей строчки, Fighting, в 1.8 раз;\n",
        "* самый популярный в Японии жанр Role-Playing занимает лишь седьмое/восьмое места в СА и Европе соответственно.\n",
        "\n",
        "Влияние рейтинга ESRB на продажи в отдельном регионе:\n",
        "* во всех трех регионах продавались только игры с одим из четырех рейтингов: Everyone, Teen, Mature и Everyone 10 and older, либо вовсе без рейтинга;\n",
        "* явный лидер в СА и Европе — жанр Mature, на втором месте - Everyone/no rating;\n",
        "* в Японии же лидируют игры без рейтинга, на втором месте - Teen.\n",
        "\n",
        "Затем мы сформулировали нулевую гипотезу о равенстве cредних пользовательских рейтингов платформ Xbox One и PC, т.к. нулевой гипотезой всегда должно проверяться равенство. Для оценки мы использовали данные о пользовательском рейтинге, сгруппированном по двум платформам.\n",
        "T-test показал, что мы не можем отвергнуть нулевую гипотезу о равенстве cредних пользовательских рейтингов платформ Xbox One и PC, т.к. pvalue равен 14%, т.е. вероятность получить такой результат случайно достаточно велика.\n",
        "\n",
        "После этого мы сформулировали нулевую гипотезу о равенстве cредних пользовательских рейтингов жанров Action и Sports, т.к. нулевой гипотезой всегда должно проверяться равенство. Для оценки мы использовали данные о пользовательском рейтинге, сгруппированном по жанрам.\n",
        "T-test показал, что мы отвергаем нулевую гипотезу о равенстве cредних пользовательских рейтингов жанров Action и Sports, т.к. pvalue равен 1.446003970070351e-20, т.е. вероятность получить такой результат случайно чрезвычайно низка.\n",
        "\n",
        "Исходя из поставленной цели исследования мы можем сделать вывод, что определяющие успешность игры закономерности это:\n",
        "* выпуск игры должен произойти в период, когда платформа находится на пике продаж или показывает устойчивый рост;\n",
        "* жанр игры должен быть Shooter или Sports, если продажи в основном планируются в Северной Америке или Европе, и Role-Playing или Fighting, если целевая аудитормя проживает в Японии;\n",
        "* рейтинг игры должен быть Everyone или Mature для СА и Европы, и Teen для Японии.\n",
        "\n"
      ]
    }
  ],
  "metadata": {
    "ExecuteTimeLog": [
      {
        "duration": 460,
        "start_time": "2022-05-23T19:30:31.653Z"
      },
      {
        "duration": 80,
        "start_time": "2022-05-23T19:30:32.115Z"
      },
      {
        "duration": 0,
        "start_time": "2022-05-23T19:30:32.197Z"
      },
      {
        "duration": 0,
        "start_time": "2022-05-23T19:30:32.199Z"
      },
      {
        "duration": 0,
        "start_time": "2022-05-23T19:30:32.200Z"
      },
      {
        "duration": 0,
        "start_time": "2022-05-23T19:30:32.201Z"
      },
      {
        "duration": 0,
        "start_time": "2022-05-23T19:30:32.202Z"
      },
      {
        "duration": 0,
        "start_time": "2022-05-23T19:30:32.203Z"
      },
      {
        "duration": 0,
        "start_time": "2022-05-23T19:30:32.204Z"
      },
      {
        "duration": 0,
        "start_time": "2022-05-23T19:30:32.205Z"
      },
      {
        "duration": 1,
        "start_time": "2022-05-23T19:30:32.206Z"
      },
      {
        "duration": 0,
        "start_time": "2022-05-23T19:30:32.207Z"
      },
      {
        "duration": 0,
        "start_time": "2022-05-23T19:30:32.208Z"
      },
      {
        "duration": 0,
        "start_time": "2022-05-23T19:30:32.209Z"
      },
      {
        "duration": 0,
        "start_time": "2022-05-23T19:30:32.211Z"
      },
      {
        "duration": 0,
        "start_time": "2022-05-23T19:30:32.211Z"
      },
      {
        "duration": 0,
        "start_time": "2022-05-23T19:30:32.213Z"
      },
      {
        "duration": 0,
        "start_time": "2022-05-23T19:30:32.214Z"
      },
      {
        "duration": 0,
        "start_time": "2022-05-23T19:30:32.215Z"
      },
      {
        "duration": 0,
        "start_time": "2022-05-23T19:30:32.216Z"
      },
      {
        "duration": 0,
        "start_time": "2022-05-23T19:30:32.217Z"
      },
      {
        "duration": 0,
        "start_time": "2022-05-23T19:30:32.218Z"
      },
      {
        "duration": 0,
        "start_time": "2022-05-23T19:30:32.219Z"
      },
      {
        "duration": 0,
        "start_time": "2022-05-23T19:30:32.221Z"
      },
      {
        "duration": 0,
        "start_time": "2022-05-23T19:30:32.264Z"
      },
      {
        "duration": 0,
        "start_time": "2022-05-23T19:30:32.265Z"
      },
      {
        "duration": 0,
        "start_time": "2022-05-23T19:30:32.267Z"
      },
      {
        "duration": 0,
        "start_time": "2022-05-23T19:30:32.268Z"
      },
      {
        "duration": 0,
        "start_time": "2022-05-23T19:30:32.269Z"
      },
      {
        "duration": 0,
        "start_time": "2022-05-23T19:30:32.270Z"
      },
      {
        "duration": 0,
        "start_time": "2022-05-23T19:30:32.271Z"
      },
      {
        "duration": 0,
        "start_time": "2022-05-23T19:30:32.271Z"
      },
      {
        "duration": 0,
        "start_time": "2022-05-23T19:30:32.272Z"
      },
      {
        "duration": 0,
        "start_time": "2022-05-23T19:30:32.273Z"
      },
      {
        "duration": 1,
        "start_time": "2022-05-23T19:30:32.274Z"
      },
      {
        "duration": 0,
        "start_time": "2022-05-23T19:30:32.275Z"
      },
      {
        "duration": 0,
        "start_time": "2022-05-23T19:30:32.277Z"
      },
      {
        "duration": 0,
        "start_time": "2022-05-23T19:30:32.278Z"
      },
      {
        "duration": 0,
        "start_time": "2022-05-23T19:30:32.279Z"
      },
      {
        "duration": 0,
        "start_time": "2022-05-23T19:30:32.280Z"
      },
      {
        "duration": 0,
        "start_time": "2022-05-23T19:30:32.282Z"
      },
      {
        "duration": 0,
        "start_time": "2022-05-23T19:30:32.283Z"
      },
      {
        "duration": 0,
        "start_time": "2022-05-23T19:30:32.284Z"
      },
      {
        "duration": 0,
        "start_time": "2022-05-23T19:30:32.285Z"
      },
      {
        "duration": 0,
        "start_time": "2022-05-23T19:30:32.286Z"
      },
      {
        "duration": 0,
        "start_time": "2022-05-23T19:30:32.287Z"
      },
      {
        "duration": 0,
        "start_time": "2022-05-23T19:30:32.289Z"
      },
      {
        "duration": 0,
        "start_time": "2022-05-23T19:30:32.290Z"
      },
      {
        "duration": 0,
        "start_time": "2022-05-23T19:30:32.291Z"
      },
      {
        "duration": 0,
        "start_time": "2022-05-23T19:30:32.291Z"
      },
      {
        "duration": 418,
        "start_time": "2022-05-23T20:16:36.728Z"
      },
      {
        "duration": 99,
        "start_time": "2022-05-23T20:16:37.148Z"
      },
      {
        "duration": 27,
        "start_time": "2022-05-23T20:16:37.249Z"
      },
      {
        "duration": 14,
        "start_time": "2022-05-23T20:16:37.278Z"
      },
      {
        "duration": 14,
        "start_time": "2022-05-23T20:16:37.293Z"
      },
      {
        "duration": 4,
        "start_time": "2022-05-23T20:16:37.308Z"
      },
      {
        "duration": 24,
        "start_time": "2022-05-23T20:16:37.313Z"
      },
      {
        "duration": 30,
        "start_time": "2022-05-23T20:16:37.339Z"
      },
      {
        "duration": 9,
        "start_time": "2022-05-23T20:16:37.371Z"
      },
      {
        "duration": 16,
        "start_time": "2022-05-23T20:16:37.383Z"
      },
      {
        "duration": 12,
        "start_time": "2022-05-23T20:16:37.401Z"
      },
      {
        "duration": 9,
        "start_time": "2022-05-23T20:16:37.414Z"
      },
      {
        "duration": 10,
        "start_time": "2022-05-23T20:16:37.424Z"
      },
      {
        "duration": 7,
        "start_time": "2022-05-23T20:16:37.465Z"
      },
      {
        "duration": 11,
        "start_time": "2022-05-23T20:16:37.474Z"
      },
      {
        "duration": 8,
        "start_time": "2022-05-23T20:16:37.486Z"
      },
      {
        "duration": 8,
        "start_time": "2022-05-23T20:16:37.496Z"
      },
      {
        "duration": 6,
        "start_time": "2022-05-23T20:16:37.506Z"
      },
      {
        "duration": 7,
        "start_time": "2022-05-23T20:16:37.514Z"
      },
      {
        "duration": 4,
        "start_time": "2022-05-23T20:16:37.522Z"
      },
      {
        "duration": 40,
        "start_time": "2022-05-23T20:16:37.527Z"
      },
      {
        "duration": 15,
        "start_time": "2022-05-23T20:16:37.569Z"
      },
      {
        "duration": 17,
        "start_time": "2022-05-23T20:16:37.586Z"
      },
      {
        "duration": 915,
        "start_time": "2022-05-23T20:16:37.605Z"
      },
      {
        "duration": 245,
        "start_time": "2022-05-23T20:16:38.522Z"
      },
      {
        "duration": 16,
        "start_time": "2022-05-23T20:16:38.769Z"
      },
      {
        "duration": 32,
        "start_time": "2022-05-23T20:16:38.786Z"
      },
      {
        "duration": 2,
        "start_time": "2022-05-23T20:16:38.821Z"
      },
      {
        "duration": 299,
        "start_time": "2022-05-23T20:16:38.825Z"
      },
      {
        "duration": 405,
        "start_time": "2022-05-23T20:16:39.125Z"
      },
      {
        "duration": 142,
        "start_time": "2022-05-23T20:16:39.531Z"
      },
      {
        "duration": 444,
        "start_time": "2022-05-23T20:16:39.674Z"
      },
      {
        "duration": 472,
        "start_time": "2022-05-23T20:16:40.119Z"
      },
      {
        "duration": 526,
        "start_time": "2022-05-23T20:16:40.593Z"
      },
      {
        "duration": 458,
        "start_time": "2022-05-23T20:16:41.121Z"
      },
      {
        "duration": 442,
        "start_time": "2022-05-23T20:16:41.581Z"
      },
      {
        "duration": 14,
        "start_time": "2022-05-23T20:16:42.024Z"
      },
      {
        "duration": 29,
        "start_time": "2022-05-23T20:16:42.040Z"
      },
      {
        "duration": 13,
        "start_time": "2022-05-23T20:16:42.071Z"
      },
      {
        "duration": 15,
        "start_time": "2022-05-23T20:16:42.085Z"
      },
      {
        "duration": 15,
        "start_time": "2022-05-23T20:16:42.101Z"
      },
      {
        "duration": 48,
        "start_time": "2022-05-23T20:16:42.118Z"
      },
      {
        "duration": 15,
        "start_time": "2022-05-23T20:16:42.168Z"
      },
      {
        "duration": 14,
        "start_time": "2022-05-23T20:16:42.184Z"
      },
      {
        "duration": 17,
        "start_time": "2022-05-23T20:16:42.200Z"
      },
      {
        "duration": 13,
        "start_time": "2022-05-23T20:16:42.219Z"
      },
      {
        "duration": 33,
        "start_time": "2022-05-23T20:16:42.233Z"
      },
      {
        "duration": 14,
        "start_time": "2022-05-23T20:16:42.267Z"
      },
      {
        "duration": 13,
        "start_time": "2022-05-23T20:16:42.283Z"
      },
      {
        "duration": 12,
        "start_time": "2022-05-23T20:16:42.297Z"
      },
      {
        "duration": 13,
        "start_time": "2022-05-23T20:16:42.311Z"
      },
      {
        "duration": 15,
        "start_time": "2022-05-23T20:17:28.926Z"
      },
      {
        "duration": 24,
        "start_time": "2022-05-23T20:18:05.124Z"
      },
      {
        "duration": 7,
        "start_time": "2022-05-23T20:19:19.922Z"
      },
      {
        "duration": 7,
        "start_time": "2022-05-23T20:19:37.365Z"
      },
      {
        "duration": 8,
        "start_time": "2022-05-23T20:19:41.237Z"
      },
      {
        "duration": 11,
        "start_time": "2022-05-23T20:20:33.715Z"
      },
      {
        "duration": 415,
        "start_time": "2022-05-23T20:26:11.386Z"
      },
      {
        "duration": 77,
        "start_time": "2022-05-23T20:26:11.803Z"
      },
      {
        "duration": 0,
        "start_time": "2022-05-23T20:26:11.883Z"
      },
      {
        "duration": 0,
        "start_time": "2022-05-23T20:26:11.884Z"
      },
      {
        "duration": 0,
        "start_time": "2022-05-23T20:26:11.885Z"
      },
      {
        "duration": 0,
        "start_time": "2022-05-23T20:26:11.886Z"
      },
      {
        "duration": 0,
        "start_time": "2022-05-23T20:26:11.887Z"
      },
      {
        "duration": 0,
        "start_time": "2022-05-23T20:26:11.888Z"
      },
      {
        "duration": 0,
        "start_time": "2022-05-23T20:26:11.889Z"
      },
      {
        "duration": 0,
        "start_time": "2022-05-23T20:26:11.890Z"
      },
      {
        "duration": 0,
        "start_time": "2022-05-23T20:26:11.891Z"
      },
      {
        "duration": 0,
        "start_time": "2022-05-23T20:26:11.892Z"
      },
      {
        "duration": 0,
        "start_time": "2022-05-23T20:26:11.893Z"
      },
      {
        "duration": 0,
        "start_time": "2022-05-23T20:26:11.894Z"
      },
      {
        "duration": 0,
        "start_time": "2022-05-23T20:26:11.895Z"
      },
      {
        "duration": 0,
        "start_time": "2022-05-23T20:26:11.896Z"
      },
      {
        "duration": 0,
        "start_time": "2022-05-23T20:26:11.897Z"
      },
      {
        "duration": 0,
        "start_time": "2022-05-23T20:26:11.898Z"
      },
      {
        "duration": 0,
        "start_time": "2022-05-23T20:26:11.899Z"
      },
      {
        "duration": 0,
        "start_time": "2022-05-23T20:26:11.900Z"
      },
      {
        "duration": 0,
        "start_time": "2022-05-23T20:26:11.902Z"
      },
      {
        "duration": 0,
        "start_time": "2022-05-23T20:26:11.903Z"
      },
      {
        "duration": 0,
        "start_time": "2022-05-23T20:26:11.904Z"
      },
      {
        "duration": 0,
        "start_time": "2022-05-23T20:26:11.905Z"
      },
      {
        "duration": 0,
        "start_time": "2022-05-23T20:26:11.906Z"
      },
      {
        "duration": 0,
        "start_time": "2022-05-23T20:26:11.907Z"
      },
      {
        "duration": 0,
        "start_time": "2022-05-23T20:26:11.908Z"
      },
      {
        "duration": 0,
        "start_time": "2022-05-23T20:26:11.909Z"
      },
      {
        "duration": 0,
        "start_time": "2022-05-23T20:26:11.910Z"
      },
      {
        "duration": 0,
        "start_time": "2022-05-23T20:26:11.912Z"
      },
      {
        "duration": 0,
        "start_time": "2022-05-23T20:26:11.913Z"
      },
      {
        "duration": 0,
        "start_time": "2022-05-23T20:26:11.914Z"
      },
      {
        "duration": 0,
        "start_time": "2022-05-23T20:26:11.966Z"
      },
      {
        "duration": 0,
        "start_time": "2022-05-23T20:26:11.967Z"
      },
      {
        "duration": 0,
        "start_time": "2022-05-23T20:26:11.968Z"
      },
      {
        "duration": 0,
        "start_time": "2022-05-23T20:26:11.969Z"
      },
      {
        "duration": 0,
        "start_time": "2022-05-23T20:26:11.970Z"
      },
      {
        "duration": 0,
        "start_time": "2022-05-23T20:26:11.971Z"
      },
      {
        "duration": 0,
        "start_time": "2022-05-23T20:26:11.972Z"
      },
      {
        "duration": 0,
        "start_time": "2022-05-23T20:26:11.973Z"
      },
      {
        "duration": 0,
        "start_time": "2022-05-23T20:26:11.974Z"
      },
      {
        "duration": 0,
        "start_time": "2022-05-23T20:26:11.975Z"
      },
      {
        "duration": 0,
        "start_time": "2022-05-23T20:26:11.976Z"
      },
      {
        "duration": 0,
        "start_time": "2022-05-23T20:26:11.976Z"
      },
      {
        "duration": 0,
        "start_time": "2022-05-23T20:26:11.977Z"
      },
      {
        "duration": 0,
        "start_time": "2022-05-23T20:26:11.978Z"
      },
      {
        "duration": 0,
        "start_time": "2022-05-23T20:26:11.979Z"
      },
      {
        "duration": 0,
        "start_time": "2022-05-23T20:26:11.981Z"
      },
      {
        "duration": 0,
        "start_time": "2022-05-23T20:26:11.982Z"
      },
      {
        "duration": 0,
        "start_time": "2022-05-23T20:26:11.983Z"
      },
      {
        "duration": 52,
        "start_time": "2022-05-25T10:54:20.148Z"
      },
      {
        "duration": 434,
        "start_time": "2022-05-25T11:06:27.598Z"
      },
      {
        "duration": 140,
        "start_time": "2022-05-25T11:06:28.034Z"
      },
      {
        "duration": 15,
        "start_time": "2022-05-25T11:06:28.175Z"
      },
      {
        "duration": 6,
        "start_time": "2022-05-25T11:06:28.192Z"
      },
      {
        "duration": 8,
        "start_time": "2022-05-25T11:06:28.200Z"
      },
      {
        "duration": 28,
        "start_time": "2022-05-25T11:06:28.210Z"
      },
      {
        "duration": 8,
        "start_time": "2022-05-25T11:06:28.239Z"
      },
      {
        "duration": 10,
        "start_time": "2022-05-25T11:06:28.249Z"
      },
      {
        "duration": 34,
        "start_time": "2022-05-25T11:06:28.261Z"
      },
      {
        "duration": 12,
        "start_time": "2022-05-25T11:06:28.299Z"
      },
      {
        "duration": 7,
        "start_time": "2022-05-25T11:06:28.313Z"
      },
      {
        "duration": 9,
        "start_time": "2022-05-25T11:06:28.322Z"
      },
      {
        "duration": 6,
        "start_time": "2022-05-25T11:06:28.333Z"
      },
      {
        "duration": 13,
        "start_time": "2022-05-25T11:06:28.341Z"
      },
      {
        "duration": 39,
        "start_time": "2022-05-25T11:06:28.356Z"
      },
      {
        "duration": 10,
        "start_time": "2022-05-25T11:06:28.397Z"
      },
      {
        "duration": 12,
        "start_time": "2022-05-25T11:06:28.408Z"
      },
      {
        "duration": 9,
        "start_time": "2022-05-25T11:06:28.422Z"
      },
      {
        "duration": 5,
        "start_time": "2022-05-25T11:06:28.433Z"
      },
      {
        "duration": 8,
        "start_time": "2022-05-25T11:06:28.439Z"
      },
      {
        "duration": 48,
        "start_time": "2022-05-25T11:06:28.449Z"
      },
      {
        "duration": 20,
        "start_time": "2022-05-25T11:06:28.499Z"
      },
      {
        "duration": 917,
        "start_time": "2022-05-25T11:06:28.521Z"
      },
      {
        "duration": 234,
        "start_time": "2022-05-25T11:06:29.440Z"
      },
      {
        "duration": 21,
        "start_time": "2022-05-25T11:06:29.676Z"
      },
      {
        "duration": 19,
        "start_time": "2022-05-25T11:06:29.699Z"
      },
      {
        "duration": 18,
        "start_time": "2022-05-25T11:06:29.720Z"
      },
      {
        "duration": 2,
        "start_time": "2022-05-25T11:06:29.742Z"
      },
      {
        "duration": 250,
        "start_time": "2022-05-25T11:06:29.746Z"
      },
      {
        "duration": 341,
        "start_time": "2022-05-25T11:06:29.998Z"
      },
      {
        "duration": 149,
        "start_time": "2022-05-25T11:06:30.340Z"
      },
      {
        "duration": 475,
        "start_time": "2022-05-25T11:06:30.493Z"
      },
      {
        "duration": 457,
        "start_time": "2022-05-25T11:06:30.970Z"
      },
      {
        "duration": 530,
        "start_time": "2022-05-25T11:06:31.429Z"
      },
      {
        "duration": 455,
        "start_time": "2022-05-25T11:06:31.962Z"
      },
      {
        "duration": 450,
        "start_time": "2022-05-25T11:06:32.420Z"
      },
      {
        "duration": 14,
        "start_time": "2022-05-25T11:06:32.872Z"
      },
      {
        "duration": 18,
        "start_time": "2022-05-25T11:06:32.894Z"
      },
      {
        "duration": 13,
        "start_time": "2022-05-25T11:06:32.914Z"
      },
      {
        "duration": 15,
        "start_time": "2022-05-25T11:06:32.929Z"
      },
      {
        "duration": 17,
        "start_time": "2022-05-25T11:06:32.946Z"
      },
      {
        "duration": 41,
        "start_time": "2022-05-25T11:06:32.964Z"
      },
      {
        "duration": 12,
        "start_time": "2022-05-25T11:06:33.006Z"
      },
      {
        "duration": 7,
        "start_time": "2022-05-25T11:06:33.020Z"
      },
      {
        "duration": 18,
        "start_time": "2022-05-25T11:06:33.029Z"
      },
      {
        "duration": 20,
        "start_time": "2022-05-25T11:06:33.048Z"
      },
      {
        "duration": 25,
        "start_time": "2022-05-25T11:06:33.070Z"
      },
      {
        "duration": 5,
        "start_time": "2022-05-25T11:06:33.097Z"
      },
      {
        "duration": 13,
        "start_time": "2022-05-25T11:06:33.103Z"
      },
      {
        "duration": 13,
        "start_time": "2022-05-25T11:06:33.117Z"
      },
      {
        "duration": 11,
        "start_time": "2022-05-25T11:06:33.131Z"
      },
      {
        "duration": 15,
        "start_time": "2022-05-25T11:06:33.143Z"
      },
      {
        "duration": 141,
        "start_time": "2022-05-25T11:06:44.704Z"
      },
      {
        "duration": 12,
        "start_time": "2022-05-25T11:07:03.210Z"
      },
      {
        "duration": 10,
        "start_time": "2022-05-25T11:13:36.749Z"
      },
      {
        "duration": 122,
        "start_time": "2022-05-25T11:14:07.212Z"
      },
      {
        "duration": 445,
        "start_time": "2022-05-25T11:14:21.012Z"
      },
      {
        "duration": 193,
        "start_time": "2022-05-25T11:15:21.404Z"
      },
      {
        "duration": 144,
        "start_time": "2022-05-25T11:15:59.828Z"
      },
      {
        "duration": 159,
        "start_time": "2022-05-25T11:16:16.675Z"
      }
    ],
    "kernelspec": {
      "display_name": "Python 3 (ipykernel)",
      "language": "python",
      "name": "python3"
    },
    "language_info": {
      "codemirror_mode": {
        "name": "ipython",
        "version": 3
      },
      "file_extension": ".py",
      "mimetype": "text/x-python",
      "name": "python",
      "nbconvert_exporter": "python",
      "pygments_lexer": "ipython3",
      "version": "3.9.5"
    },
    "toc": {
      "base_numbering": 1,
      "nav_menu": {},
      "number_sections": true,
      "sideBar": true,
      "skip_h1_title": true,
      "title_cell": "Table of Contents",
      "title_sidebar": "Contents",
      "toc_cell": false,
      "toc_position": {},
      "toc_section_display": true,
      "toc_window_display": true
    },
    "colab": {
      "provenance": []
    }
  },
  "nbformat": 4,
  "nbformat_minor": 5
}