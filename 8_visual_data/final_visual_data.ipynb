{
  "cells": [
    {
      "cell_type": "markdown",
      "id": "7-KGjVxbGfyu",
      "metadata": {
        "id": "7-KGjVxbGfyu"
      },
      "source": [
        "## Оглавление\n",
        "1. [Предобработка данных](#pre_processing)\n",
        "2. [Анализ данных](#analysis)\n",
        "  \n",
        "  2.1. [Соотношение видов объектов общественного питания по количеству](#one)\n",
        "\n",
        "  2.2. [Cоотношение сетевых и несетевых заведений по количеству](#two)\n",
        "\n",
        "  2.3. [Cетевое распространение](#three)\n",
        "\n",
        "  2.4. [Особенность сетевых заведений](#four)\n",
        "\n",
        "  2.5. [Среднее количество посадочных мест](#five)\n",
        "\n",
        "  2.6. [Информация об адресе](#six)\n",
        "\n",
        "  2.7. [Топ-10 улиц по количеству объектов общественного питания](#seven)\n",
        "\n",
        "  2.8. [Число улиц с одним объектом общественного питания](#eight)\n",
        "\n",
        "3. [Презентация](#results)\n",
        "\n",
        "4. [Общий вывод](#sumup)"
      ]
    },
    {
      "cell_type": "markdown",
      "id": "lnAjs964DzvV",
      "metadata": {
        "id": "lnAjs964DzvV"
      },
      "source": [
        "**Исследование рынка заведений общественного питания в Москве**\n",
        "\n",
        "Перед открытием небольшого кафе в Москве необходимо провести исследование рынка. Кафе оригинальное — гостей должны обслуживать роботы. Проект многообещающий, но дорогой. Инвесторов интересует текущее положение дел на рынке — сможет ли кафе снискать популярность на долгое время, когда все зеваки насмотрятся на роботов-официантов?\n",
        "\n",
        "**Цель исследования** — подготовить исследование рынка на основании открытых данных о заведениях общественного питания в Москве. \n",
        "\n",
        "**Ход исследования**\n",
        "\n",
        "Перед анализом данных понадобится обзор и предобработка данных. Необходимо проверить данные на ошибки и оценить их влияние на исследование.\n",
        "\n",
        "В итоге мы сделаем общий вывод и дадим рекомендации о виде заведения, количестве посадочных мест, а также районе расположения. Также мы прокомментируем возможность развития сети.\n",
        "\n",
        "Таким образом, исследование пройдёт в четыре этапа:\n",
        "\n",
        "- Обзор данных и предобработка данных.\n",
        "- Анализ данных:\n",
        "  - соотношение видов объектов общественного питания по количеству;\n",
        "  - соотношение сетевых и несетевых заведений по количеству;\n",
        "  - вид объекта общественного питания, для которого характерно сетевое распространение;\n",
        "  - что характерно для сетевых заведений: много заведений с небольшим числом посадочных мест в каждом или мало заведений с большим количеством посадочных мест?\n",
        "  - среднее количество посадочных мест. Какой вид предоставляет в среднем самое большое количество посадочных мест?\n",
        "  - график топ-10 улиц по количеству объектов общественного питания; \n",
        "  - число улиц с одним объектом общественного питания.\n",
        "- Презентация.\n",
        "- Вывод."
      ]
    },
    {
      "cell_type": "markdown",
      "id": "K-aqhHg7FjYY",
      "metadata": {
        "id": "K-aqhHg7FjYY"
      },
      "source": [
        "## 1. Предобработка данных\n",
        "<a name=\"pre_processing\"></a>"
      ]
    },
    {
      "cell_type": "code",
      "execution_count": 365,
      "id": "e4820c5c",
      "metadata": {
        "id": "e4820c5c"
      },
      "outputs": [],
      "source": [
        "import pandas as pd \n",
        "import seaborn as sns\n",
        "import matplotlib.pyplot as plt\n",
        "import numpy as np\n",
        "import plotly.express as px\n",
        "from plotly import graph_objects as go"
      ]
    },
    {
      "cell_type": "code",
      "execution_count": 366,
      "id": "b6deb698",
      "metadata": {
        "colab": {
          "base_uri": "https://localhost:8080/",
          "height": 206
        },
        "id": "b6deb698",
        "outputId": "3a87ddcb-8555-4783-c23f-0e4b2c33d659"
      },
      "outputs": [
        {
          "output_type": "execute_result",
          "data": {
            "text/plain": [
              "       id             object_name chain object_type  \\\n",
              "0  151635                 СМЕТАНА   нет        кафе   \n",
              "1   77874                  Родник   нет        кафе   \n",
              "2   24309         Кафе «Академия»   нет        кафе   \n",
              "3   21894              ПИЦЦЕТОРИЯ    да        кафе   \n",
              "4  119365  Кафе «Вишневая метель»   нет        кафе   \n",
              "\n",
              "                                             address  number  \n",
              "0         город Москва, улица Егора Абакумова, дом 9      48  \n",
              "1  город Москва, улица Талалихина, дом 2/1, корпус 1      35  \n",
              "2          город Москва, Абельмановская улица, дом 6      95  \n",
              "3            город Москва, Абрамцевская улица, дом 1      40  \n",
              "4  город Москва, Абрамцевская улица, дом 9, корпус 1      50  "
            ],
            "text/html": [
              "\n",
              "  <div id=\"df-3ddee35a-d9cc-4375-a679-e312a69399ba\">\n",
              "    <div class=\"colab-df-container\">\n",
              "      <div>\n",
              "<style scoped>\n",
              "    .dataframe tbody tr th:only-of-type {\n",
              "        vertical-align: middle;\n",
              "    }\n",
              "\n",
              "    .dataframe tbody tr th {\n",
              "        vertical-align: top;\n",
              "    }\n",
              "\n",
              "    .dataframe thead th {\n",
              "        text-align: right;\n",
              "    }\n",
              "</style>\n",
              "<table border=\"1\" class=\"dataframe\">\n",
              "  <thead>\n",
              "    <tr style=\"text-align: right;\">\n",
              "      <th></th>\n",
              "      <th>id</th>\n",
              "      <th>object_name</th>\n",
              "      <th>chain</th>\n",
              "      <th>object_type</th>\n",
              "      <th>address</th>\n",
              "      <th>number</th>\n",
              "    </tr>\n",
              "  </thead>\n",
              "  <tbody>\n",
              "    <tr>\n",
              "      <th>0</th>\n",
              "      <td>151635</td>\n",
              "      <td>СМЕТАНА</td>\n",
              "      <td>нет</td>\n",
              "      <td>кафе</td>\n",
              "      <td>город Москва, улица Егора Абакумова, дом 9</td>\n",
              "      <td>48</td>\n",
              "    </tr>\n",
              "    <tr>\n",
              "      <th>1</th>\n",
              "      <td>77874</td>\n",
              "      <td>Родник</td>\n",
              "      <td>нет</td>\n",
              "      <td>кафе</td>\n",
              "      <td>город Москва, улица Талалихина, дом 2/1, корпус 1</td>\n",
              "      <td>35</td>\n",
              "    </tr>\n",
              "    <tr>\n",
              "      <th>2</th>\n",
              "      <td>24309</td>\n",
              "      <td>Кафе «Академия»</td>\n",
              "      <td>нет</td>\n",
              "      <td>кафе</td>\n",
              "      <td>город Москва, Абельмановская улица, дом 6</td>\n",
              "      <td>95</td>\n",
              "    </tr>\n",
              "    <tr>\n",
              "      <th>3</th>\n",
              "      <td>21894</td>\n",
              "      <td>ПИЦЦЕТОРИЯ</td>\n",
              "      <td>да</td>\n",
              "      <td>кафе</td>\n",
              "      <td>город Москва, Абрамцевская улица, дом 1</td>\n",
              "      <td>40</td>\n",
              "    </tr>\n",
              "    <tr>\n",
              "      <th>4</th>\n",
              "      <td>119365</td>\n",
              "      <td>Кафе «Вишневая метель»</td>\n",
              "      <td>нет</td>\n",
              "      <td>кафе</td>\n",
              "      <td>город Москва, Абрамцевская улица, дом 9, корпус 1</td>\n",
              "      <td>50</td>\n",
              "    </tr>\n",
              "  </tbody>\n",
              "</table>\n",
              "</div>\n",
              "      <button class=\"colab-df-convert\" onclick=\"convertToInteractive('df-3ddee35a-d9cc-4375-a679-e312a69399ba')\"\n",
              "              title=\"Convert this dataframe to an interactive table.\"\n",
              "              style=\"display:none;\">\n",
              "        \n",
              "  <svg xmlns=\"http://www.w3.org/2000/svg\" height=\"24px\"viewBox=\"0 0 24 24\"\n",
              "       width=\"24px\">\n",
              "    <path d=\"M0 0h24v24H0V0z\" fill=\"none\"/>\n",
              "    <path d=\"M18.56 5.44l.94 2.06.94-2.06 2.06-.94-2.06-.94-.94-2.06-.94 2.06-2.06.94zm-11 1L8.5 8.5l.94-2.06 2.06-.94-2.06-.94L8.5 2.5l-.94 2.06-2.06.94zm10 10l.94 2.06.94-2.06 2.06-.94-2.06-.94-.94-2.06-.94 2.06-2.06.94z\"/><path d=\"M17.41 7.96l-1.37-1.37c-.4-.4-.92-.59-1.43-.59-.52 0-1.04.2-1.43.59L10.3 9.45l-7.72 7.72c-.78.78-.78 2.05 0 2.83L4 21.41c.39.39.9.59 1.41.59.51 0 1.02-.2 1.41-.59l7.78-7.78 2.81-2.81c.8-.78.8-2.07 0-2.86zM5.41 20L4 18.59l7.72-7.72 1.47 1.35L5.41 20z\"/>\n",
              "  </svg>\n",
              "      </button>\n",
              "      \n",
              "  <style>\n",
              "    .colab-df-container {\n",
              "      display:flex;\n",
              "      flex-wrap:wrap;\n",
              "      gap: 12px;\n",
              "    }\n",
              "\n",
              "    .colab-df-convert {\n",
              "      background-color: #E8F0FE;\n",
              "      border: none;\n",
              "      border-radius: 50%;\n",
              "      cursor: pointer;\n",
              "      display: none;\n",
              "      fill: #1967D2;\n",
              "      height: 32px;\n",
              "      padding: 0 0 0 0;\n",
              "      width: 32px;\n",
              "    }\n",
              "\n",
              "    .colab-df-convert:hover {\n",
              "      background-color: #E2EBFA;\n",
              "      box-shadow: 0px 1px 2px rgba(60, 64, 67, 0.3), 0px 1px 3px 1px rgba(60, 64, 67, 0.15);\n",
              "      fill: #174EA6;\n",
              "    }\n",
              "\n",
              "    [theme=dark] .colab-df-convert {\n",
              "      background-color: #3B4455;\n",
              "      fill: #D2E3FC;\n",
              "    }\n",
              "\n",
              "    [theme=dark] .colab-df-convert:hover {\n",
              "      background-color: #434B5C;\n",
              "      box-shadow: 0px 1px 3px 1px rgba(0, 0, 0, 0.15);\n",
              "      filter: drop-shadow(0px 1px 2px rgba(0, 0, 0, 0.3));\n",
              "      fill: #FFFFFF;\n",
              "    }\n",
              "  </style>\n",
              "\n",
              "      <script>\n",
              "        const buttonEl =\n",
              "          document.querySelector('#df-3ddee35a-d9cc-4375-a679-e312a69399ba button.colab-df-convert');\n",
              "        buttonEl.style.display =\n",
              "          google.colab.kernel.accessAllowed ? 'block' : 'none';\n",
              "\n",
              "        async function convertToInteractive(key) {\n",
              "          const element = document.querySelector('#df-3ddee35a-d9cc-4375-a679-e312a69399ba');\n",
              "          const dataTable =\n",
              "            await google.colab.kernel.invokeFunction('convertToInteractive',\n",
              "                                                     [key], {});\n",
              "          if (!dataTable) return;\n",
              "\n",
              "          const docLinkHtml = 'Like what you see? Visit the ' +\n",
              "            '<a target=\"_blank\" href=https://colab.research.google.com/notebooks/data_table.ipynb>data table notebook</a>'\n",
              "            + ' to learn more about interactive tables.';\n",
              "          element.innerHTML = '';\n",
              "          dataTable['output_type'] = 'display_data';\n",
              "          await google.colab.output.renderOutput(dataTable, element);\n",
              "          const docLink = document.createElement('div');\n",
              "          docLink.innerHTML = docLinkHtml;\n",
              "          element.appendChild(docLink);\n",
              "        }\n",
              "      </script>\n",
              "    </div>\n",
              "  </div>\n",
              "  "
            ]
          },
          "metadata": {},
          "execution_count": 366
        }
      ],
      "source": [
        "# изучим данные\n",
        "\n",
        "try:\n",
        "    data = pd.read_csv('/datasets/rest_data.csv')\n",
        "except:\n",
        "    data = pd.read_csv('/datasets/rest_data.csv')\n",
        "data.head()\n"
      ]
    },
    {
      "cell_type": "code",
      "execution_count": 367,
      "id": "cc011108",
      "metadata": {
        "colab": {
          "base_uri": "https://localhost:8080/"
        },
        "id": "cc011108",
        "outputId": "55a234b4-7492-4d40-d01d-2ff0f0b8d959"
      },
      "outputs": [
        {
          "output_type": "stream",
          "name": "stdout",
          "text": [
            "<class 'pandas.core.frame.DataFrame'>\n",
            "RangeIndex: 15366 entries, 0 to 15365\n",
            "Data columns (total 6 columns):\n",
            " #   Column       Non-Null Count  Dtype \n",
            "---  ------       --------------  ----- \n",
            " 0   id           15366 non-null  int64 \n",
            " 1   object_name  15366 non-null  object\n",
            " 2   chain        15366 non-null  object\n",
            " 3   object_type  15366 non-null  object\n",
            " 4   address      15366 non-null  object\n",
            " 5   number       15366 non-null  int64 \n",
            "dtypes: int64(2), object(4)\n",
            "memory usage: 720.4+ KB\n"
          ]
        }
      ],
      "source": [
        "data.info() # выведем сводную информацию о таблице"
      ]
    },
    {
      "cell_type": "code",
      "execution_count": 368,
      "id": "MVb6Hwsjve2f",
      "metadata": {
        "colab": {
          "base_uri": "https://localhost:8080/",
          "height": 206
        },
        "id": "MVb6Hwsjve2f",
        "outputId": "d10654df-4ff4-4714-eb49-14f090777652"
      },
      "outputs": [
        {
          "output_type": "execute_result",
          "data": {
            "text/plain": [
              "       id             object_name  chain object_type  \\\n",
              "0  151635                 СМЕТАНА  False        кафе   \n",
              "1   77874                  Родник  False        кафе   \n",
              "2   24309         Кафе «Академия»  False        кафе   \n",
              "3   21894              ПИЦЦЕТОРИЯ   True        кафе   \n",
              "4  119365  Кафе «Вишневая метель»  False        кафе   \n",
              "\n",
              "                                             address  number  \n",
              "0         город Москва, улица Егора Абакумова, дом 9      48  \n",
              "1  город Москва, улица Талалихина, дом 2/1, корпус 1      35  \n",
              "2          город Москва, Абельмановская улица, дом 6      95  \n",
              "3            город Москва, Абрамцевская улица, дом 1      40  \n",
              "4  город Москва, Абрамцевская улица, дом 9, корпус 1      50  "
            ],
            "text/html": [
              "\n",
              "  <div id=\"df-5ba9206c-91f4-4753-a55b-2a854ec20d02\">\n",
              "    <div class=\"colab-df-container\">\n",
              "      <div>\n",
              "<style scoped>\n",
              "    .dataframe tbody tr th:only-of-type {\n",
              "        vertical-align: middle;\n",
              "    }\n",
              "\n",
              "    .dataframe tbody tr th {\n",
              "        vertical-align: top;\n",
              "    }\n",
              "\n",
              "    .dataframe thead th {\n",
              "        text-align: right;\n",
              "    }\n",
              "</style>\n",
              "<table border=\"1\" class=\"dataframe\">\n",
              "  <thead>\n",
              "    <tr style=\"text-align: right;\">\n",
              "      <th></th>\n",
              "      <th>id</th>\n",
              "      <th>object_name</th>\n",
              "      <th>chain</th>\n",
              "      <th>object_type</th>\n",
              "      <th>address</th>\n",
              "      <th>number</th>\n",
              "    </tr>\n",
              "  </thead>\n",
              "  <tbody>\n",
              "    <tr>\n",
              "      <th>0</th>\n",
              "      <td>151635</td>\n",
              "      <td>СМЕТАНА</td>\n",
              "      <td>False</td>\n",
              "      <td>кафе</td>\n",
              "      <td>город Москва, улица Егора Абакумова, дом 9</td>\n",
              "      <td>48</td>\n",
              "    </tr>\n",
              "    <tr>\n",
              "      <th>1</th>\n",
              "      <td>77874</td>\n",
              "      <td>Родник</td>\n",
              "      <td>False</td>\n",
              "      <td>кафе</td>\n",
              "      <td>город Москва, улица Талалихина, дом 2/1, корпус 1</td>\n",
              "      <td>35</td>\n",
              "    </tr>\n",
              "    <tr>\n",
              "      <th>2</th>\n",
              "      <td>24309</td>\n",
              "      <td>Кафе «Академия»</td>\n",
              "      <td>False</td>\n",
              "      <td>кафе</td>\n",
              "      <td>город Москва, Абельмановская улица, дом 6</td>\n",
              "      <td>95</td>\n",
              "    </tr>\n",
              "    <tr>\n",
              "      <th>3</th>\n",
              "      <td>21894</td>\n",
              "      <td>ПИЦЦЕТОРИЯ</td>\n",
              "      <td>True</td>\n",
              "      <td>кафе</td>\n",
              "      <td>город Москва, Абрамцевская улица, дом 1</td>\n",
              "      <td>40</td>\n",
              "    </tr>\n",
              "    <tr>\n",
              "      <th>4</th>\n",
              "      <td>119365</td>\n",
              "      <td>Кафе «Вишневая метель»</td>\n",
              "      <td>False</td>\n",
              "      <td>кафе</td>\n",
              "      <td>город Москва, Абрамцевская улица, дом 9, корпус 1</td>\n",
              "      <td>50</td>\n",
              "    </tr>\n",
              "  </tbody>\n",
              "</table>\n",
              "</div>\n",
              "      <button class=\"colab-df-convert\" onclick=\"convertToInteractive('df-5ba9206c-91f4-4753-a55b-2a854ec20d02')\"\n",
              "              title=\"Convert this dataframe to an interactive table.\"\n",
              "              style=\"display:none;\">\n",
              "        \n",
              "  <svg xmlns=\"http://www.w3.org/2000/svg\" height=\"24px\"viewBox=\"0 0 24 24\"\n",
              "       width=\"24px\">\n",
              "    <path d=\"M0 0h24v24H0V0z\" fill=\"none\"/>\n",
              "    <path d=\"M18.56 5.44l.94 2.06.94-2.06 2.06-.94-2.06-.94-.94-2.06-.94 2.06-2.06.94zm-11 1L8.5 8.5l.94-2.06 2.06-.94-2.06-.94L8.5 2.5l-.94 2.06-2.06.94zm10 10l.94 2.06.94-2.06 2.06-.94-2.06-.94-.94-2.06-.94 2.06-2.06.94z\"/><path d=\"M17.41 7.96l-1.37-1.37c-.4-.4-.92-.59-1.43-.59-.52 0-1.04.2-1.43.59L10.3 9.45l-7.72 7.72c-.78.78-.78 2.05 0 2.83L4 21.41c.39.39.9.59 1.41.59.51 0 1.02-.2 1.41-.59l7.78-7.78 2.81-2.81c.8-.78.8-2.07 0-2.86zM5.41 20L4 18.59l7.72-7.72 1.47 1.35L5.41 20z\"/>\n",
              "  </svg>\n",
              "      </button>\n",
              "      \n",
              "  <style>\n",
              "    .colab-df-container {\n",
              "      display:flex;\n",
              "      flex-wrap:wrap;\n",
              "      gap: 12px;\n",
              "    }\n",
              "\n",
              "    .colab-df-convert {\n",
              "      background-color: #E8F0FE;\n",
              "      border: none;\n",
              "      border-radius: 50%;\n",
              "      cursor: pointer;\n",
              "      display: none;\n",
              "      fill: #1967D2;\n",
              "      height: 32px;\n",
              "      padding: 0 0 0 0;\n",
              "      width: 32px;\n",
              "    }\n",
              "\n",
              "    .colab-df-convert:hover {\n",
              "      background-color: #E2EBFA;\n",
              "      box-shadow: 0px 1px 2px rgba(60, 64, 67, 0.3), 0px 1px 3px 1px rgba(60, 64, 67, 0.15);\n",
              "      fill: #174EA6;\n",
              "    }\n",
              "\n",
              "    [theme=dark] .colab-df-convert {\n",
              "      background-color: #3B4455;\n",
              "      fill: #D2E3FC;\n",
              "    }\n",
              "\n",
              "    [theme=dark] .colab-df-convert:hover {\n",
              "      background-color: #434B5C;\n",
              "      box-shadow: 0px 1px 3px 1px rgba(0, 0, 0, 0.15);\n",
              "      filter: drop-shadow(0px 1px 2px rgba(0, 0, 0, 0.3));\n",
              "      fill: #FFFFFF;\n",
              "    }\n",
              "  </style>\n",
              "\n",
              "      <script>\n",
              "        const buttonEl =\n",
              "          document.querySelector('#df-5ba9206c-91f4-4753-a55b-2a854ec20d02 button.colab-df-convert');\n",
              "        buttonEl.style.display =\n",
              "          google.colab.kernel.accessAllowed ? 'block' : 'none';\n",
              "\n",
              "        async function convertToInteractive(key) {\n",
              "          const element = document.querySelector('#df-5ba9206c-91f4-4753-a55b-2a854ec20d02');\n",
              "          const dataTable =\n",
              "            await google.colab.kernel.invokeFunction('convertToInteractive',\n",
              "                                                     [key], {});\n",
              "          if (!dataTable) return;\n",
              "\n",
              "          const docLinkHtml = 'Like what you see? Visit the ' +\n",
              "            '<a target=\"_blank\" href=https://colab.research.google.com/notebooks/data_table.ipynb>data table notebook</a>'\n",
              "            + ' to learn more about interactive tables.';\n",
              "          element.innerHTML = '';\n",
              "          dataTable['output_type'] = 'display_data';\n",
              "          await google.colab.output.renderOutput(dataTable, element);\n",
              "          const docLink = document.createElement('div');\n",
              "          docLink.innerHTML = docLinkHtml;\n",
              "          element.appendChild(docLink);\n",
              "        }\n",
              "      </script>\n",
              "    </div>\n",
              "  </div>\n",
              "  "
            ]
          },
          "metadata": {},
          "execution_count": 368
        }
      ],
      "source": [
        "# изменим тип данных для колонки chain на булев\n",
        "d = {'да': True, 'нет': False}\n",
        "\n",
        "data['chain'] = data['chain'].map(d)\n",
        "data.head()"
      ]
    },
    {
      "cell_type": "code",
      "execution_count": 369,
      "id": "d506836d",
      "metadata": {
        "colab": {
          "base_uri": "https://localhost:8080/",
          "height": 300
        },
        "id": "d506836d",
        "outputId": "c7e3566c-8049-4db6-afdd-d9dea756314e"
      },
      "outputs": [
        {
          "output_type": "execute_result",
          "data": {
            "text/plain": [
              "                  id        number\n",
              "count   15366.000000  15366.000000\n",
              "mean   119720.066901     59.547182\n",
              "std     73036.130732     74.736833\n",
              "min       838.000000      0.000000\n",
              "25%     28524.000000     12.000000\n",
              "50%    144974.500000     40.000000\n",
              "75%    184262.250000     80.000000\n",
              "max    223439.000000   1700.000000"
            ],
            "text/html": [
              "\n",
              "  <div id=\"df-231b90f9-351b-409b-b8d5-323c903a227b\">\n",
              "    <div class=\"colab-df-container\">\n",
              "      <div>\n",
              "<style scoped>\n",
              "    .dataframe tbody tr th:only-of-type {\n",
              "        vertical-align: middle;\n",
              "    }\n",
              "\n",
              "    .dataframe tbody tr th {\n",
              "        vertical-align: top;\n",
              "    }\n",
              "\n",
              "    .dataframe thead th {\n",
              "        text-align: right;\n",
              "    }\n",
              "</style>\n",
              "<table border=\"1\" class=\"dataframe\">\n",
              "  <thead>\n",
              "    <tr style=\"text-align: right;\">\n",
              "      <th></th>\n",
              "      <th>id</th>\n",
              "      <th>number</th>\n",
              "    </tr>\n",
              "  </thead>\n",
              "  <tbody>\n",
              "    <tr>\n",
              "      <th>count</th>\n",
              "      <td>15366.000000</td>\n",
              "      <td>15366.000000</td>\n",
              "    </tr>\n",
              "    <tr>\n",
              "      <th>mean</th>\n",
              "      <td>119720.066901</td>\n",
              "      <td>59.547182</td>\n",
              "    </tr>\n",
              "    <tr>\n",
              "      <th>std</th>\n",
              "      <td>73036.130732</td>\n",
              "      <td>74.736833</td>\n",
              "    </tr>\n",
              "    <tr>\n",
              "      <th>min</th>\n",
              "      <td>838.000000</td>\n",
              "      <td>0.000000</td>\n",
              "    </tr>\n",
              "    <tr>\n",
              "      <th>25%</th>\n",
              "      <td>28524.000000</td>\n",
              "      <td>12.000000</td>\n",
              "    </tr>\n",
              "    <tr>\n",
              "      <th>50%</th>\n",
              "      <td>144974.500000</td>\n",
              "      <td>40.000000</td>\n",
              "    </tr>\n",
              "    <tr>\n",
              "      <th>75%</th>\n",
              "      <td>184262.250000</td>\n",
              "      <td>80.000000</td>\n",
              "    </tr>\n",
              "    <tr>\n",
              "      <th>max</th>\n",
              "      <td>223439.000000</td>\n",
              "      <td>1700.000000</td>\n",
              "    </tr>\n",
              "  </tbody>\n",
              "</table>\n",
              "</div>\n",
              "      <button class=\"colab-df-convert\" onclick=\"convertToInteractive('df-231b90f9-351b-409b-b8d5-323c903a227b')\"\n",
              "              title=\"Convert this dataframe to an interactive table.\"\n",
              "              style=\"display:none;\">\n",
              "        \n",
              "  <svg xmlns=\"http://www.w3.org/2000/svg\" height=\"24px\"viewBox=\"0 0 24 24\"\n",
              "       width=\"24px\">\n",
              "    <path d=\"M0 0h24v24H0V0z\" fill=\"none\"/>\n",
              "    <path d=\"M18.56 5.44l.94 2.06.94-2.06 2.06-.94-2.06-.94-.94-2.06-.94 2.06-2.06.94zm-11 1L8.5 8.5l.94-2.06 2.06-.94-2.06-.94L8.5 2.5l-.94 2.06-2.06.94zm10 10l.94 2.06.94-2.06 2.06-.94-2.06-.94-.94-2.06-.94 2.06-2.06.94z\"/><path d=\"M17.41 7.96l-1.37-1.37c-.4-.4-.92-.59-1.43-.59-.52 0-1.04.2-1.43.59L10.3 9.45l-7.72 7.72c-.78.78-.78 2.05 0 2.83L4 21.41c.39.39.9.59 1.41.59.51 0 1.02-.2 1.41-.59l7.78-7.78 2.81-2.81c.8-.78.8-2.07 0-2.86zM5.41 20L4 18.59l7.72-7.72 1.47 1.35L5.41 20z\"/>\n",
              "  </svg>\n",
              "      </button>\n",
              "      \n",
              "  <style>\n",
              "    .colab-df-container {\n",
              "      display:flex;\n",
              "      flex-wrap:wrap;\n",
              "      gap: 12px;\n",
              "    }\n",
              "\n",
              "    .colab-df-convert {\n",
              "      background-color: #E8F0FE;\n",
              "      border: none;\n",
              "      border-radius: 50%;\n",
              "      cursor: pointer;\n",
              "      display: none;\n",
              "      fill: #1967D2;\n",
              "      height: 32px;\n",
              "      padding: 0 0 0 0;\n",
              "      width: 32px;\n",
              "    }\n",
              "\n",
              "    .colab-df-convert:hover {\n",
              "      background-color: #E2EBFA;\n",
              "      box-shadow: 0px 1px 2px rgba(60, 64, 67, 0.3), 0px 1px 3px 1px rgba(60, 64, 67, 0.15);\n",
              "      fill: #174EA6;\n",
              "    }\n",
              "\n",
              "    [theme=dark] .colab-df-convert {\n",
              "      background-color: #3B4455;\n",
              "      fill: #D2E3FC;\n",
              "    }\n",
              "\n",
              "    [theme=dark] .colab-df-convert:hover {\n",
              "      background-color: #434B5C;\n",
              "      box-shadow: 0px 1px 3px 1px rgba(0, 0, 0, 0.15);\n",
              "      filter: drop-shadow(0px 1px 2px rgba(0, 0, 0, 0.3));\n",
              "      fill: #FFFFFF;\n",
              "    }\n",
              "  </style>\n",
              "\n",
              "      <script>\n",
              "        const buttonEl =\n",
              "          document.querySelector('#df-231b90f9-351b-409b-b8d5-323c903a227b button.colab-df-convert');\n",
              "        buttonEl.style.display =\n",
              "          google.colab.kernel.accessAllowed ? 'block' : 'none';\n",
              "\n",
              "        async function convertToInteractive(key) {\n",
              "          const element = document.querySelector('#df-231b90f9-351b-409b-b8d5-323c903a227b');\n",
              "          const dataTable =\n",
              "            await google.colab.kernel.invokeFunction('convertToInteractive',\n",
              "                                                     [key], {});\n",
              "          if (!dataTable) return;\n",
              "\n",
              "          const docLinkHtml = 'Like what you see? Visit the ' +\n",
              "            '<a target=\"_blank\" href=https://colab.research.google.com/notebooks/data_table.ipynb>data table notebook</a>'\n",
              "            + ' to learn more about interactive tables.';\n",
              "          element.innerHTML = '';\n",
              "          dataTable['output_type'] = 'display_data';\n",
              "          await google.colab.output.renderOutput(dataTable, element);\n",
              "          const docLink = document.createElement('div');\n",
              "          docLink.innerHTML = docLinkHtml;\n",
              "          element.appendChild(docLink);\n",
              "        }\n",
              "      </script>\n",
              "    </div>\n",
              "  </div>\n",
              "  "
            ]
          },
          "metadata": {},
          "execution_count": 369
        }
      ],
      "source": [
        "# проверим на аномалии численные столбцы\n",
        "data.describe()\n",
        "\n",
        "# смущает число посадочных мест — 1700"
      ]
    },
    {
      "cell_type": "code",
      "execution_count": 370,
      "id": "fa594b5c",
      "metadata": {
        "colab": {
          "base_uri": "https://localhost:8080/",
          "height": 81
        },
        "id": "fa594b5c",
        "outputId": "b3ef457d-4d41-444c-e905-a98a90f4039c"
      },
      "outputs": [
        {
          "output_type": "execute_result",
          "data": {
            "text/plain": [
              "           id           object_name  chain object_type  \\\n",
              "12723  199696  Arena by Soho Family  False         бар   \n",
              "\n",
              "                                                 address  number  \n",
              "12723  город Москва, Кутузовский проспект, дом 36, ст...    1700  "
            ],
            "text/html": [
              "\n",
              "  <div id=\"df-ef676de3-9a1b-442e-85bf-eac996dab746\">\n",
              "    <div class=\"colab-df-container\">\n",
              "      <div>\n",
              "<style scoped>\n",
              "    .dataframe tbody tr th:only-of-type {\n",
              "        vertical-align: middle;\n",
              "    }\n",
              "\n",
              "    .dataframe tbody tr th {\n",
              "        vertical-align: top;\n",
              "    }\n",
              "\n",
              "    .dataframe thead th {\n",
              "        text-align: right;\n",
              "    }\n",
              "</style>\n",
              "<table border=\"1\" class=\"dataframe\">\n",
              "  <thead>\n",
              "    <tr style=\"text-align: right;\">\n",
              "      <th></th>\n",
              "      <th>id</th>\n",
              "      <th>object_name</th>\n",
              "      <th>chain</th>\n",
              "      <th>object_type</th>\n",
              "      <th>address</th>\n",
              "      <th>number</th>\n",
              "    </tr>\n",
              "  </thead>\n",
              "  <tbody>\n",
              "    <tr>\n",
              "      <th>12723</th>\n",
              "      <td>199696</td>\n",
              "      <td>Arena by Soho Family</td>\n",
              "      <td>False</td>\n",
              "      <td>бар</td>\n",
              "      <td>город Москва, Кутузовский проспект, дом 36, ст...</td>\n",
              "      <td>1700</td>\n",
              "    </tr>\n",
              "  </tbody>\n",
              "</table>\n",
              "</div>\n",
              "      <button class=\"colab-df-convert\" onclick=\"convertToInteractive('df-ef676de3-9a1b-442e-85bf-eac996dab746')\"\n",
              "              title=\"Convert this dataframe to an interactive table.\"\n",
              "              style=\"display:none;\">\n",
              "        \n",
              "  <svg xmlns=\"http://www.w3.org/2000/svg\" height=\"24px\"viewBox=\"0 0 24 24\"\n",
              "       width=\"24px\">\n",
              "    <path d=\"M0 0h24v24H0V0z\" fill=\"none\"/>\n",
              "    <path d=\"M18.56 5.44l.94 2.06.94-2.06 2.06-.94-2.06-.94-.94-2.06-.94 2.06-2.06.94zm-11 1L8.5 8.5l.94-2.06 2.06-.94-2.06-.94L8.5 2.5l-.94 2.06-2.06.94zm10 10l.94 2.06.94-2.06 2.06-.94-2.06-.94-.94-2.06-.94 2.06-2.06.94z\"/><path d=\"M17.41 7.96l-1.37-1.37c-.4-.4-.92-.59-1.43-.59-.52 0-1.04.2-1.43.59L10.3 9.45l-7.72 7.72c-.78.78-.78 2.05 0 2.83L4 21.41c.39.39.9.59 1.41.59.51 0 1.02-.2 1.41-.59l7.78-7.78 2.81-2.81c.8-.78.8-2.07 0-2.86zM5.41 20L4 18.59l7.72-7.72 1.47 1.35L5.41 20z\"/>\n",
              "  </svg>\n",
              "      </button>\n",
              "      \n",
              "  <style>\n",
              "    .colab-df-container {\n",
              "      display:flex;\n",
              "      flex-wrap:wrap;\n",
              "      gap: 12px;\n",
              "    }\n",
              "\n",
              "    .colab-df-convert {\n",
              "      background-color: #E8F0FE;\n",
              "      border: none;\n",
              "      border-radius: 50%;\n",
              "      cursor: pointer;\n",
              "      display: none;\n",
              "      fill: #1967D2;\n",
              "      height: 32px;\n",
              "      padding: 0 0 0 0;\n",
              "      width: 32px;\n",
              "    }\n",
              "\n",
              "    .colab-df-convert:hover {\n",
              "      background-color: #E2EBFA;\n",
              "      box-shadow: 0px 1px 2px rgba(60, 64, 67, 0.3), 0px 1px 3px 1px rgba(60, 64, 67, 0.15);\n",
              "      fill: #174EA6;\n",
              "    }\n",
              "\n",
              "    [theme=dark] .colab-df-convert {\n",
              "      background-color: #3B4455;\n",
              "      fill: #D2E3FC;\n",
              "    }\n",
              "\n",
              "    [theme=dark] .colab-df-convert:hover {\n",
              "      background-color: #434B5C;\n",
              "      box-shadow: 0px 1px 3px 1px rgba(0, 0, 0, 0.15);\n",
              "      filter: drop-shadow(0px 1px 2px rgba(0, 0, 0, 0.3));\n",
              "      fill: #FFFFFF;\n",
              "    }\n",
              "  </style>\n",
              "\n",
              "      <script>\n",
              "        const buttonEl =\n",
              "          document.querySelector('#df-ef676de3-9a1b-442e-85bf-eac996dab746 button.colab-df-convert');\n",
              "        buttonEl.style.display =\n",
              "          google.colab.kernel.accessAllowed ? 'block' : 'none';\n",
              "\n",
              "        async function convertToInteractive(key) {\n",
              "          const element = document.querySelector('#df-ef676de3-9a1b-442e-85bf-eac996dab746');\n",
              "          const dataTable =\n",
              "            await google.colab.kernel.invokeFunction('convertToInteractive',\n",
              "                                                     [key], {});\n",
              "          if (!dataTable) return;\n",
              "\n",
              "          const docLinkHtml = 'Like what you see? Visit the ' +\n",
              "            '<a target=\"_blank\" href=https://colab.research.google.com/notebooks/data_table.ipynb>data table notebook</a>'\n",
              "            + ' to learn more about interactive tables.';\n",
              "          element.innerHTML = '';\n",
              "          dataTable['output_type'] = 'display_data';\n",
              "          await google.colab.output.renderOutput(dataTable, element);\n",
              "          const docLink = document.createElement('div');\n",
              "          docLink.innerHTML = docLinkHtml;\n",
              "          element.appendChild(docLink);\n",
              "        }\n",
              "      </script>\n",
              "    </div>\n",
              "  </div>\n",
              "  "
            ]
          },
          "metadata": {},
          "execution_count": 370
        }
      ],
      "source": [
        "# проверим эту строку\n",
        "data.query('number == 1700')\n",
        "\n",
        "# это концертная площадка, все в порядке"
      ]
    },
    {
      "cell_type": "code",
      "execution_count": 371,
      "id": "8e8579e3",
      "metadata": {
        "colab": {
          "base_uri": "https://localhost:8080/"
        },
        "id": "8e8579e3",
        "outputId": "bd227f95-a795-4d36-c55e-ab5845b16f2d"
      },
      "outputs": [
        {
          "output_type": "execute_result",
          "data": {
            "text/plain": [
              "count        15366\n",
              "unique       10393\n",
              "top       Столовая\n",
              "freq           267\n",
              "Name: object_name, dtype: object"
            ]
          },
          "metadata": {},
          "execution_count": 371
        }
      ],
      "source": [
        "# проверим на аномалии столбец object_name\n",
        "data['object_name'].describe()"
      ]
    },
    {
      "cell_type": "code",
      "execution_count": 372,
      "id": "fd3a4e68",
      "metadata": {
        "colab": {
          "base_uri": "https://localhost:8080/"
        },
        "id": "fd3a4e68",
        "outputId": "b8f0e4b0-39d2-48f8-8c91-91a5967a2acb"
      },
      "outputs": [
        {
          "output_type": "execute_result",
          "data": {
            "text/plain": [
              "array([False,  True])"
            ]
          },
          "metadata": {},
          "execution_count": 372
        }
      ],
      "source": [
        "# проверим на аномалии столбец chain\n",
        "data['chain'].unique()"
      ]
    },
    {
      "cell_type": "code",
      "execution_count": 373,
      "id": "OiMdOkQ9JwcK",
      "metadata": {
        "colab": {
          "base_uri": "https://localhost:8080/"
        },
        "id": "OiMdOkQ9JwcK",
        "outputId": "568e7cd1-a545-44aa-d904-d8b27053ed4b"
      },
      "outputs": [
        {
          "output_type": "execute_result",
          "data": {
            "text/plain": [
              "count        15366\n",
              "unique       10393\n",
              "top       Столовая\n",
              "freq           267\n",
              "Name: object_name, dtype: object"
            ]
          },
          "metadata": {},
          "execution_count": 373
        }
      ],
      "source": [
        "# проверим на аномалии столбец object_name\n",
        "data['object_name'].describe()"
      ]
    },
    {
      "cell_type": "code",
      "execution_count": 374,
      "id": "a9831c18",
      "metadata": {
        "colab": {
          "base_uri": "https://localhost:8080/"
        },
        "id": "a9831c18",
        "outputId": "41bd82d4-7a72-42c7-b782-cfce9afa32dd"
      },
      "outputs": [
        {
          "output_type": "execute_result",
          "data": {
            "text/plain": [
              "array(['кафе', 'столовая', 'закусочная',\n",
              "       'предприятие быстрого обслуживания', 'ресторан', 'кафетерий',\n",
              "       'буфет', 'бар', 'магазин (отдел кулинарии)'], dtype=object)"
            ]
          },
          "metadata": {},
          "execution_count": 374
        }
      ],
      "source": [
        "# проверим на аномалии столбец object_type\n",
        "data['object_type'].unique()"
      ]
    },
    {
      "cell_type": "code",
      "execution_count": 375,
      "id": "bf3c4cea",
      "metadata": {
        "colab": {
          "base_uri": "https://localhost:8080/"
        },
        "id": "bf3c4cea",
        "outputId": "435d6e71-ad59-4a26-d9f3-cad9c380b81f"
      },
      "outputs": [
        {
          "output_type": "execute_result",
          "data": {
            "text/plain": [
              "count                                      15366\n",
              "unique                                      9108\n",
              "top       город Москва, Ходынский бульвар, дом 4\n",
              "freq                                          95\n",
              "Name: address, dtype: object"
            ]
          },
          "metadata": {},
          "execution_count": 375
        }
      ],
      "source": [
        "# проверим на аномалии столбец address\n",
        "data['address'].describe()"
      ]
    },
    {
      "cell_type": "code",
      "execution_count": 376,
      "id": "aefbecbe",
      "metadata": {
        "colab": {
          "base_uri": "https://localhost:8080/",
          "height": 424
        },
        "id": "aefbecbe",
        "outputId": "e2ab8ec5-f6fa-4e91-ed32-53b8e0fc17eb"
      },
      "outputs": [
        {
          "output_type": "display_data",
          "data": {
            "text/plain": [
              "           id                           object_name  chain  \\\n",
              "2381    28611  КОМБИНАТ ПИТАНИЯ МГТУ ИМ.Н.Э.БАУМАНА  False   \n",
              "3481    20914                            Буфет Мади  False   \n",
              "4431    23759     СТОЛОВАЯ ГБОУ города Москвы № 384  False   \n",
              "4537    23391    Столовая «Комбинат питания КОСМОС»  False   \n",
              "5059    20021                                  LIFT  False   \n",
              "...       ...                                   ...    ...   \n",
              "14578  222932                           Старый Баку  False   \n",
              "14596  204947                  Буфет при кинотеатре  False   \n",
              "14844  219518                            Sushi-Make  False   \n",
              "15173  218542                          Кофе с собой   True   \n",
              "15217  214146                            Макдоналдс   True   \n",
              "\n",
              "                             object_type  \\\n",
              "2381                            столовая   \n",
              "3481                               буфет   \n",
              "4431                               буфет   \n",
              "4537                            столовая   \n",
              "5059                                кафе   \n",
              "...                                  ...   \n",
              "14578                               кафе   \n",
              "14596                              буфет   \n",
              "14844  предприятие быстрого обслуживания   \n",
              "15173  предприятие быстрого обслуживания   \n",
              "15217  предприятие быстрого обслуживания   \n",
              "\n",
              "                                                 address  number  \n",
              "2381   город Москва, 2-я Бауманская улица, дом 5, стр...     100  \n",
              "3481        город Москва, Ленинградский проспект, дом 64      40  \n",
              "4431             город Москва, Беловежская улица, дом 67     100  \n",
              "4537        город Москва, Новозаводская улица, дом 12/11      15  \n",
              "5059   город Москва, Багратионовский проезд, дом 7, к...      20  \n",
              "...                                                  ...     ...  \n",
              "14578   город Москва, Кировоградская улица, владение 15А     120  \n",
              "14596            город Москва, Ореховый бульвар, дом 22А       0  \n",
              "14844              город Москва, Ярцевская улица, дом 19       0  \n",
              "15173  город Москва, Алтуфьевское шоссе, дом 70, корп...       0  \n",
              "15217        город Москва, Кировоградская улица, дом 13А       0  \n",
              "\n",
              "[82 rows x 6 columns]"
            ],
            "text/html": [
              "\n",
              "  <div id=\"df-d10df1f9-5007-4e44-8889-eed3791ac5a5\">\n",
              "    <div class=\"colab-df-container\">\n",
              "      <div>\n",
              "<style scoped>\n",
              "    .dataframe tbody tr th:only-of-type {\n",
              "        vertical-align: middle;\n",
              "    }\n",
              "\n",
              "    .dataframe tbody tr th {\n",
              "        vertical-align: top;\n",
              "    }\n",
              "\n",
              "    .dataframe thead th {\n",
              "        text-align: right;\n",
              "    }\n",
              "</style>\n",
              "<table border=\"1\" class=\"dataframe\">\n",
              "  <thead>\n",
              "    <tr style=\"text-align: right;\">\n",
              "      <th></th>\n",
              "      <th>id</th>\n",
              "      <th>object_name</th>\n",
              "      <th>chain</th>\n",
              "      <th>object_type</th>\n",
              "      <th>address</th>\n",
              "      <th>number</th>\n",
              "    </tr>\n",
              "  </thead>\n",
              "  <tbody>\n",
              "    <tr>\n",
              "      <th>2381</th>\n",
              "      <td>28611</td>\n",
              "      <td>КОМБИНАТ ПИТАНИЯ МГТУ ИМ.Н.Э.БАУМАНА</td>\n",
              "      <td>False</td>\n",
              "      <td>столовая</td>\n",
              "      <td>город Москва, 2-я Бауманская улица, дом 5, стр...</td>\n",
              "      <td>100</td>\n",
              "    </tr>\n",
              "    <tr>\n",
              "      <th>3481</th>\n",
              "      <td>20914</td>\n",
              "      <td>Буфет Мади</td>\n",
              "      <td>False</td>\n",
              "      <td>буфет</td>\n",
              "      <td>город Москва, Ленинградский проспект, дом 64</td>\n",
              "      <td>40</td>\n",
              "    </tr>\n",
              "    <tr>\n",
              "      <th>4431</th>\n",
              "      <td>23759</td>\n",
              "      <td>СТОЛОВАЯ ГБОУ города Москвы № 384</td>\n",
              "      <td>False</td>\n",
              "      <td>буфет</td>\n",
              "      <td>город Москва, Беловежская улица, дом 67</td>\n",
              "      <td>100</td>\n",
              "    </tr>\n",
              "    <tr>\n",
              "      <th>4537</th>\n",
              "      <td>23391</td>\n",
              "      <td>Столовая «Комбинат питания КОСМОС»</td>\n",
              "      <td>False</td>\n",
              "      <td>столовая</td>\n",
              "      <td>город Москва, Новозаводская улица, дом 12/11</td>\n",
              "      <td>15</td>\n",
              "    </tr>\n",
              "    <tr>\n",
              "      <th>5059</th>\n",
              "      <td>20021</td>\n",
              "      <td>LIFT</td>\n",
              "      <td>False</td>\n",
              "      <td>кафе</td>\n",
              "      <td>город Москва, Багратионовский проезд, дом 7, к...</td>\n",
              "      <td>20</td>\n",
              "    </tr>\n",
              "    <tr>\n",
              "      <th>...</th>\n",
              "      <td>...</td>\n",
              "      <td>...</td>\n",
              "      <td>...</td>\n",
              "      <td>...</td>\n",
              "      <td>...</td>\n",
              "      <td>...</td>\n",
              "    </tr>\n",
              "    <tr>\n",
              "      <th>14578</th>\n",
              "      <td>222932</td>\n",
              "      <td>Старый Баку</td>\n",
              "      <td>False</td>\n",
              "      <td>кафе</td>\n",
              "      <td>город Москва, Кировоградская улица, владение 15А</td>\n",
              "      <td>120</td>\n",
              "    </tr>\n",
              "    <tr>\n",
              "      <th>14596</th>\n",
              "      <td>204947</td>\n",
              "      <td>Буфет при кинотеатре</td>\n",
              "      <td>False</td>\n",
              "      <td>буфет</td>\n",
              "      <td>город Москва, Ореховый бульвар, дом 22А</td>\n",
              "      <td>0</td>\n",
              "    </tr>\n",
              "    <tr>\n",
              "      <th>14844</th>\n",
              "      <td>219518</td>\n",
              "      <td>Sushi-Make</td>\n",
              "      <td>False</td>\n",
              "      <td>предприятие быстрого обслуживания</td>\n",
              "      <td>город Москва, Ярцевская улица, дом 19</td>\n",
              "      <td>0</td>\n",
              "    </tr>\n",
              "    <tr>\n",
              "      <th>15173</th>\n",
              "      <td>218542</td>\n",
              "      <td>Кофе с собой</td>\n",
              "      <td>True</td>\n",
              "      <td>предприятие быстрого обслуживания</td>\n",
              "      <td>город Москва, Алтуфьевское шоссе, дом 70, корп...</td>\n",
              "      <td>0</td>\n",
              "    </tr>\n",
              "    <tr>\n",
              "      <th>15217</th>\n",
              "      <td>214146</td>\n",
              "      <td>Макдоналдс</td>\n",
              "      <td>True</td>\n",
              "      <td>предприятие быстрого обслуживания</td>\n",
              "      <td>город Москва, Кировоградская улица, дом 13А</td>\n",
              "      <td>0</td>\n",
              "    </tr>\n",
              "  </tbody>\n",
              "</table>\n",
              "<p>82 rows × 6 columns</p>\n",
              "</div>\n",
              "      <button class=\"colab-df-convert\" onclick=\"convertToInteractive('df-d10df1f9-5007-4e44-8889-eed3791ac5a5')\"\n",
              "              title=\"Convert this dataframe to an interactive table.\"\n",
              "              style=\"display:none;\">\n",
              "        \n",
              "  <svg xmlns=\"http://www.w3.org/2000/svg\" height=\"24px\"viewBox=\"0 0 24 24\"\n",
              "       width=\"24px\">\n",
              "    <path d=\"M0 0h24v24H0V0z\" fill=\"none\"/>\n",
              "    <path d=\"M18.56 5.44l.94 2.06.94-2.06 2.06-.94-2.06-.94-.94-2.06-.94 2.06-2.06.94zm-11 1L8.5 8.5l.94-2.06 2.06-.94-2.06-.94L8.5 2.5l-.94 2.06-2.06.94zm10 10l.94 2.06.94-2.06 2.06-.94-2.06-.94-.94-2.06-.94 2.06-2.06.94z\"/><path d=\"M17.41 7.96l-1.37-1.37c-.4-.4-.92-.59-1.43-.59-.52 0-1.04.2-1.43.59L10.3 9.45l-7.72 7.72c-.78.78-.78 2.05 0 2.83L4 21.41c.39.39.9.59 1.41.59.51 0 1.02-.2 1.41-.59l7.78-7.78 2.81-2.81c.8-.78.8-2.07 0-2.86zM5.41 20L4 18.59l7.72-7.72 1.47 1.35L5.41 20z\"/>\n",
              "  </svg>\n",
              "      </button>\n",
              "      \n",
              "  <style>\n",
              "    .colab-df-container {\n",
              "      display:flex;\n",
              "      flex-wrap:wrap;\n",
              "      gap: 12px;\n",
              "    }\n",
              "\n",
              "    .colab-df-convert {\n",
              "      background-color: #E8F0FE;\n",
              "      border: none;\n",
              "      border-radius: 50%;\n",
              "      cursor: pointer;\n",
              "      display: none;\n",
              "      fill: #1967D2;\n",
              "      height: 32px;\n",
              "      padding: 0 0 0 0;\n",
              "      width: 32px;\n",
              "    }\n",
              "\n",
              "    .colab-df-convert:hover {\n",
              "      background-color: #E2EBFA;\n",
              "      box-shadow: 0px 1px 2px rgba(60, 64, 67, 0.3), 0px 1px 3px 1px rgba(60, 64, 67, 0.15);\n",
              "      fill: #174EA6;\n",
              "    }\n",
              "\n",
              "    [theme=dark] .colab-df-convert {\n",
              "      background-color: #3B4455;\n",
              "      fill: #D2E3FC;\n",
              "    }\n",
              "\n",
              "    [theme=dark] .colab-df-convert:hover {\n",
              "      background-color: #434B5C;\n",
              "      box-shadow: 0px 1px 3px 1px rgba(0, 0, 0, 0.15);\n",
              "      filter: drop-shadow(0px 1px 2px rgba(0, 0, 0, 0.3));\n",
              "      fill: #FFFFFF;\n",
              "    }\n",
              "  </style>\n",
              "\n",
              "      <script>\n",
              "        const buttonEl =\n",
              "          document.querySelector('#df-d10df1f9-5007-4e44-8889-eed3791ac5a5 button.colab-df-convert');\n",
              "        buttonEl.style.display =\n",
              "          google.colab.kernel.accessAllowed ? 'block' : 'none';\n",
              "\n",
              "        async function convertToInteractive(key) {\n",
              "          const element = document.querySelector('#df-d10df1f9-5007-4e44-8889-eed3791ac5a5');\n",
              "          const dataTable =\n",
              "            await google.colab.kernel.invokeFunction('convertToInteractive',\n",
              "                                                     [key], {});\n",
              "          if (!dataTable) return;\n",
              "\n",
              "          const docLinkHtml = 'Like what you see? Visit the ' +\n",
              "            '<a target=\"_blank\" href=https://colab.research.google.com/notebooks/data_table.ipynb>data table notebook</a>'\n",
              "            + ' to learn more about interactive tables.';\n",
              "          element.innerHTML = '';\n",
              "          dataTable['output_type'] = 'display_data';\n",
              "          await google.colab.output.renderOutput(dataTable, element);\n",
              "          const docLink = document.createElement('div');\n",
              "          docLink.innerHTML = docLinkHtml;\n",
              "          element.appendChild(docLink);\n",
              "        }\n",
              "      </script>\n",
              "    </div>\n",
              "  </div>\n",
              "  "
            ]
          },
          "metadata": {}
        }
      ],
      "source": [
        "#проверим на неявные дубликаты\n",
        "new = data[data.duplicated(subset=['object_name', 'chain', 'object_type', 'address', 'number'])]\n",
        "display(new) # 82 позиции\n",
        "\n",
        "# удалим их из таблицы\n",
        "data = data.drop(new.index, axis = 0)\n"
      ]
    },
    {
      "cell_type": "code",
      "execution_count": 377,
      "id": "cf74c419",
      "metadata": {
        "colab": {
          "base_uri": "https://localhost:8080/"
        },
        "id": "cf74c419",
        "outputId": "d7e1d2e0-1b51-4d9f-d8dc-3706e88775dc"
      },
      "outputs": [
        {
          "output_type": "execute_result",
          "data": {
            "text/plain": [
              "0"
            ]
          },
          "metadata": {},
          "execution_count": 377
        }
      ],
      "source": [
        "# проверим данные на дубликаты\n",
        "data.duplicated().sum()"
      ]
    },
    {
      "cell_type": "markdown",
      "id": "wQ_NGD5uI5YD",
      "metadata": {
        "id": "wQ_NGD5uI5YD"
      },
      "source": [
        "### Вывод\n",
        "В данных 15366 строк и 6 столбцов. Также мы заменили тип данных для столбца `chain` на булев. В данных есть объекты с очень большим числом посадочных мест, но после проверки оказалось, что это соответсвует истине. Мы удалили 82 строки дубликатов из таблицы. В столбце `object_name` также присутствуют скрытые дубликаты, разберемся с этим ниже."
      ]
    },
    {
      "cell_type": "markdown",
      "id": "n_GD1O1NasW3",
      "metadata": {
        "id": "n_GD1O1NasW3"
      },
      "source": [
        "## 2. Анализ данных\n",
        "<a name=\"analisys\"></a>"
      ]
    },
    {
      "cell_type": "markdown",
      "id": "UEM3awfaavgf",
      "metadata": {
        "id": "UEM3awfaavgf"
      },
      "source": [
        "### Задача 1.\n",
        "Исследуйте соотношение видов объектов общественного питания по количеству. Постройте график.\n",
        "<a name=\"one\"></a>"
      ]
    },
    {
      "cell_type": "code",
      "execution_count": 378,
      "id": "y4irq_LIa12R",
      "metadata": {
        "colab": {
          "base_uri": "https://localhost:8080/",
          "height": 332
        },
        "id": "y4irq_LIa12R",
        "outputId": "a25e0cdb-4692-4f3e-9355-0cc5be6325eb"
      },
      "outputs": [
        {
          "output_type": "execute_result",
          "data": {
            "text/plain": [
              "                     Тип предприятия  Количество\n",
              "5          магазин (отдел кулинарии)         273\n",
              "2                         закусочная         349\n",
              "4                          кафетерий         395\n",
              "1                              буфет         577\n",
              "0                                бар         855\n",
              "6  предприятие быстрого обслуживания        1898\n",
              "7                           ресторан        2282\n",
              "8                           столовая        2584\n",
              "3                               кафе        6071"
            ],
            "text/html": [
              "\n",
              "  <div id=\"df-fdc6c298-7fbe-4408-b410-18941024b27e\">\n",
              "    <div class=\"colab-df-container\">\n",
              "      <div>\n",
              "<style scoped>\n",
              "    .dataframe tbody tr th:only-of-type {\n",
              "        vertical-align: middle;\n",
              "    }\n",
              "\n",
              "    .dataframe tbody tr th {\n",
              "        vertical-align: top;\n",
              "    }\n",
              "\n",
              "    .dataframe thead th {\n",
              "        text-align: right;\n",
              "    }\n",
              "</style>\n",
              "<table border=\"1\" class=\"dataframe\">\n",
              "  <thead>\n",
              "    <tr style=\"text-align: right;\">\n",
              "      <th></th>\n",
              "      <th>Тип предприятия</th>\n",
              "      <th>Количество</th>\n",
              "    </tr>\n",
              "  </thead>\n",
              "  <tbody>\n",
              "    <tr>\n",
              "      <th>5</th>\n",
              "      <td>магазин (отдел кулинарии)</td>\n",
              "      <td>273</td>\n",
              "    </tr>\n",
              "    <tr>\n",
              "      <th>2</th>\n",
              "      <td>закусочная</td>\n",
              "      <td>349</td>\n",
              "    </tr>\n",
              "    <tr>\n",
              "      <th>4</th>\n",
              "      <td>кафетерий</td>\n",
              "      <td>395</td>\n",
              "    </tr>\n",
              "    <tr>\n",
              "      <th>1</th>\n",
              "      <td>буфет</td>\n",
              "      <td>577</td>\n",
              "    </tr>\n",
              "    <tr>\n",
              "      <th>0</th>\n",
              "      <td>бар</td>\n",
              "      <td>855</td>\n",
              "    </tr>\n",
              "    <tr>\n",
              "      <th>6</th>\n",
              "      <td>предприятие быстрого обслуживания</td>\n",
              "      <td>1898</td>\n",
              "    </tr>\n",
              "    <tr>\n",
              "      <th>7</th>\n",
              "      <td>ресторан</td>\n",
              "      <td>2282</td>\n",
              "    </tr>\n",
              "    <tr>\n",
              "      <th>8</th>\n",
              "      <td>столовая</td>\n",
              "      <td>2584</td>\n",
              "    </tr>\n",
              "    <tr>\n",
              "      <th>3</th>\n",
              "      <td>кафе</td>\n",
              "      <td>6071</td>\n",
              "    </tr>\n",
              "  </tbody>\n",
              "</table>\n",
              "</div>\n",
              "      <button class=\"colab-df-convert\" onclick=\"convertToInteractive('df-fdc6c298-7fbe-4408-b410-18941024b27e')\"\n",
              "              title=\"Convert this dataframe to an interactive table.\"\n",
              "              style=\"display:none;\">\n",
              "        \n",
              "  <svg xmlns=\"http://www.w3.org/2000/svg\" height=\"24px\"viewBox=\"0 0 24 24\"\n",
              "       width=\"24px\">\n",
              "    <path d=\"M0 0h24v24H0V0z\" fill=\"none\"/>\n",
              "    <path d=\"M18.56 5.44l.94 2.06.94-2.06 2.06-.94-2.06-.94-.94-2.06-.94 2.06-2.06.94zm-11 1L8.5 8.5l.94-2.06 2.06-.94-2.06-.94L8.5 2.5l-.94 2.06-2.06.94zm10 10l.94 2.06.94-2.06 2.06-.94-2.06-.94-.94-2.06-.94 2.06-2.06.94z\"/><path d=\"M17.41 7.96l-1.37-1.37c-.4-.4-.92-.59-1.43-.59-.52 0-1.04.2-1.43.59L10.3 9.45l-7.72 7.72c-.78.78-.78 2.05 0 2.83L4 21.41c.39.39.9.59 1.41.59.51 0 1.02-.2 1.41-.59l7.78-7.78 2.81-2.81c.8-.78.8-2.07 0-2.86zM5.41 20L4 18.59l7.72-7.72 1.47 1.35L5.41 20z\"/>\n",
              "  </svg>\n",
              "      </button>\n",
              "      \n",
              "  <style>\n",
              "    .colab-df-container {\n",
              "      display:flex;\n",
              "      flex-wrap:wrap;\n",
              "      gap: 12px;\n",
              "    }\n",
              "\n",
              "    .colab-df-convert {\n",
              "      background-color: #E8F0FE;\n",
              "      border: none;\n",
              "      border-radius: 50%;\n",
              "      cursor: pointer;\n",
              "      display: none;\n",
              "      fill: #1967D2;\n",
              "      height: 32px;\n",
              "      padding: 0 0 0 0;\n",
              "      width: 32px;\n",
              "    }\n",
              "\n",
              "    .colab-df-convert:hover {\n",
              "      background-color: #E2EBFA;\n",
              "      box-shadow: 0px 1px 2px rgba(60, 64, 67, 0.3), 0px 1px 3px 1px rgba(60, 64, 67, 0.15);\n",
              "      fill: #174EA6;\n",
              "    }\n",
              "\n",
              "    [theme=dark] .colab-df-convert {\n",
              "      background-color: #3B4455;\n",
              "      fill: #D2E3FC;\n",
              "    }\n",
              "\n",
              "    [theme=dark] .colab-df-convert:hover {\n",
              "      background-color: #434B5C;\n",
              "      box-shadow: 0px 1px 3px 1px rgba(0, 0, 0, 0.15);\n",
              "      filter: drop-shadow(0px 1px 2px rgba(0, 0, 0, 0.3));\n",
              "      fill: #FFFFFF;\n",
              "    }\n",
              "  </style>\n",
              "\n",
              "      <script>\n",
              "        const buttonEl =\n",
              "          document.querySelector('#df-fdc6c298-7fbe-4408-b410-18941024b27e button.colab-df-convert');\n",
              "        buttonEl.style.display =\n",
              "          google.colab.kernel.accessAllowed ? 'block' : 'none';\n",
              "\n",
              "        async function convertToInteractive(key) {\n",
              "          const element = document.querySelector('#df-fdc6c298-7fbe-4408-b410-18941024b27e');\n",
              "          const dataTable =\n",
              "            await google.colab.kernel.invokeFunction('convertToInteractive',\n",
              "                                                     [key], {});\n",
              "          if (!dataTable) return;\n",
              "\n",
              "          const docLinkHtml = 'Like what you see? Visit the ' +\n",
              "            '<a target=\"_blank\" href=https://colab.research.google.com/notebooks/data_table.ipynb>data table notebook</a>'\n",
              "            + ' to learn more about interactive tables.';\n",
              "          element.innerHTML = '';\n",
              "          dataTable['output_type'] = 'display_data';\n",
              "          await google.colab.output.renderOutput(dataTable, element);\n",
              "          const docLink = document.createElement('div');\n",
              "          docLink.innerHTML = docLinkHtml;\n",
              "          element.appendChild(docLink);\n",
              "        }\n",
              "      </script>\n",
              "    </div>\n",
              "  </div>\n",
              "  "
            ]
          },
          "metadata": {},
          "execution_count": 378
        }
      ],
      "source": [
        "objects = data.groupby('object_type', as_index=False).agg({'id':'count'}).sort_values(by='id')\n",
        "objects = objects.rename(\n",
        "columns={\n",
        "'object_type': 'Тип предприятия',\n",
        "'id': 'Количество',}\n",
        ")\n",
        "objects"
      ]
    },
    {
      "cell_type": "code",
      "execution_count": 405,
      "id": "oqQQFxNEJ9ZA",
      "metadata": {
        "colab": {
          "base_uri": "https://localhost:8080/",
          "height": 832
        },
        "id": "oqQQFxNEJ9ZA",
        "outputId": "b8672eb2-a8e1-4a92-bc10-b32d365b02e4",
        "scrolled": false
      },
      "outputs": [
        {
          "output_type": "display_data",
          "data": {
            "text/plain": [
              "<Figure size 1000x600 with 1 Axes>"
            ],
            "image/png": "[encoded data removed]"
          },
          "metadata": {}
        }
      ],
      "source": [
        "# построим график\n",
        "\n",
        "plt.figure(\n",
        "    figsize=(10, 6)\n",
        ")\n",
        "sns.set_palette('deep')\n",
        "ax = sns.barplot(x='Тип предприятия', y='Количество', data=objects)\n",
        "plt.xticks(rotation=90)\n",
        "ax.set_title('Количество объектов общественного питания') \n",
        "ax.set_xlabel('Вид объекта общественного питания')\n",
        "ax.set_ylabel('Количество') \n",
        "plt.show()"
      ]
    },
    {
      "cell_type": "markdown",
      "id": "LQLPinE7QnIc",
      "metadata": {
        "id": "LQLPinE7QnIc"
      },
      "source": [
        "### Вывод\n",
        "\n",
        "Однозначный лидер — кафе (кафе почти в 2,5 раза больше, чем столовых), за ним следует столовая и ресторан."
      ]
    },
    {
      "cell_type": "markdown",
      "id": "0pk1tdrmlUBi",
      "metadata": {
        "id": "0pk1tdrmlUBi"
      },
      "source": [
        "### Задача 2.\n",
        "\n",
        "Исследуйте соотношение сетевых и несетевых заведений по количеству. Постройте график.\n",
        "<a name=\"two\"></a>"
      ]
    },
    {
      "cell_type": "code",
      "execution_count": 380,
      "id": "nQT1JIrelX7s",
      "metadata": {
        "colab": {
          "base_uri": "https://localhost:8080/",
          "height": 112
        },
        "id": "nQT1JIrelX7s",
        "outputId": "842c8b72-7f9f-4747-e8d9-5b2d36c5b1c4"
      },
      "outputs": [
        {
          "output_type": "execute_result",
          "data": {
            "text/plain": [
              "   chain     id   percent\n",
              "0  False  12320  0.806072\n",
              "1   True   2964  0.193928"
            ],
            "text/html": [
              "\n",
              "  <div id=\"df-4bbc8e02-3e1b-4531-a96e-4f53e0e1e4af\">\n",
              "    <div class=\"colab-df-container\">\n",
              "      <div>\n",
              "<style scoped>\n",
              "    .dataframe tbody tr th:only-of-type {\n",
              "        vertical-align: middle;\n",
              "    }\n",
              "\n",
              "    .dataframe tbody tr th {\n",
              "        vertical-align: top;\n",
              "    }\n",
              "\n",
              "    .dataframe thead th {\n",
              "        text-align: right;\n",
              "    }\n",
              "</style>\n",
              "<table border=\"1\" class=\"dataframe\">\n",
              "  <thead>\n",
              "    <tr style=\"text-align: right;\">\n",
              "      <th></th>\n",
              "      <th>chain</th>\n",
              "      <th>id</th>\n",
              "      <th>percent</th>\n",
              "    </tr>\n",
              "  </thead>\n",
              "  <tbody>\n",
              "    <tr>\n",
              "      <th>0</th>\n",
              "      <td>False</td>\n",
              "      <td>12320</td>\n",
              "      <td>0.806072</td>\n",
              "    </tr>\n",
              "    <tr>\n",
              "      <th>1</th>\n",
              "      <td>True</td>\n",
              "      <td>2964</td>\n",
              "      <td>0.193928</td>\n",
              "    </tr>\n",
              "  </tbody>\n",
              "</table>\n",
              "</div>\n",
              "      <button class=\"colab-df-convert\" onclick=\"convertToInteractive('df-4bbc8e02-3e1b-4531-a96e-4f53e0e1e4af')\"\n",
              "              title=\"Convert this dataframe to an interactive table.\"\n",
              "              style=\"display:none;\">\n",
              "        \n",
              "  <svg xmlns=\"http://www.w3.org/2000/svg\" height=\"24px\"viewBox=\"0 0 24 24\"\n",
              "       width=\"24px\">\n",
              "    <path d=\"M0 0h24v24H0V0z\" fill=\"none\"/>\n",
              "    <path d=\"M18.56 5.44l.94 2.06.94-2.06 2.06-.94-2.06-.94-.94-2.06-.94 2.06-2.06.94zm-11 1L8.5 8.5l.94-2.06 2.06-.94-2.06-.94L8.5 2.5l-.94 2.06-2.06.94zm10 10l.94 2.06.94-2.06 2.06-.94-2.06-.94-.94-2.06-.94 2.06-2.06.94z\"/><path d=\"M17.41 7.96l-1.37-1.37c-.4-.4-.92-.59-1.43-.59-.52 0-1.04.2-1.43.59L10.3 9.45l-7.72 7.72c-.78.78-.78 2.05 0 2.83L4 21.41c.39.39.9.59 1.41.59.51 0 1.02-.2 1.41-.59l7.78-7.78 2.81-2.81c.8-.78.8-2.07 0-2.86zM5.41 20L4 18.59l7.72-7.72 1.47 1.35L5.41 20z\"/>\n",
              "  </svg>\n",
              "      </button>\n",
              "      \n",
              "  <style>\n",
              "    .colab-df-container {\n",
              "      display:flex;\n",
              "      flex-wrap:wrap;\n",
              "      gap: 12px;\n",
              "    }\n",
              "\n",
              "    .colab-df-convert {\n",
              "      background-color: #E8F0FE;\n",
              "      border: none;\n",
              "      border-radius: 50%;\n",
              "      cursor: pointer;\n",
              "      display: none;\n",
              "      fill: #1967D2;\n",
              "      height: 32px;\n",
              "      padding: 0 0 0 0;\n",
              "      width: 32px;\n",
              "    }\n",
              "\n",
              "    .colab-df-convert:hover {\n",
              "      background-color: #E2EBFA;\n",
              "      box-shadow: 0px 1px 2px rgba(60, 64, 67, 0.3), 0px 1px 3px 1px rgba(60, 64, 67, 0.15);\n",
              "      fill: #174EA6;\n",
              "    }\n",
              "\n",
              "    [theme=dark] .colab-df-convert {\n",
              "      background-color: #3B4455;\n",
              "      fill: #D2E3FC;\n",
              "    }\n",
              "\n",
              "    [theme=dark] .colab-df-convert:hover {\n",
              "      background-color: #434B5C;\n",
              "      box-shadow: 0px 1px 3px 1px rgba(0, 0, 0, 0.15);\n",
              "      filter: drop-shadow(0px 1px 2px rgba(0, 0, 0, 0.3));\n",
              "      fill: #FFFFFF;\n",
              "    }\n",
              "  </style>\n",
              "\n",
              "      <script>\n",
              "        const buttonEl =\n",
              "          document.querySelector('#df-4bbc8e02-3e1b-4531-a96e-4f53e0e1e4af button.colab-df-convert');\n",
              "        buttonEl.style.display =\n",
              "          google.colab.kernel.accessAllowed ? 'block' : 'none';\n",
              "\n",
              "        async function convertToInteractive(key) {\n",
              "          const element = document.querySelector('#df-4bbc8e02-3e1b-4531-a96e-4f53e0e1e4af');\n",
              "          const dataTable =\n",
              "            await google.colab.kernel.invokeFunction('convertToInteractive',\n",
              "                                                     [key], {});\n",
              "          if (!dataTable) return;\n",
              "\n",
              "          const docLinkHtml = 'Like what you see? Visit the ' +\n",
              "            '<a target=\"_blank\" href=https://colab.research.google.com/notebooks/data_table.ipynb>data table notebook</a>'\n",
              "            + ' to learn more about interactive tables.';\n",
              "          element.innerHTML = '';\n",
              "          dataTable['output_type'] = 'display_data';\n",
              "          await google.colab.output.renderOutput(dataTable, element);\n",
              "          const docLink = document.createElement('div');\n",
              "          docLink.innerHTML = docLinkHtml;\n",
              "          element.appendChild(docLink);\n",
              "        }\n",
              "      </script>\n",
              "    </div>\n",
              "  </div>\n",
              "  "
            ]
          },
          "metadata": {},
          "execution_count": 380
        }
      ],
      "source": [
        "chains = data.groupby('chain', as_index=False).agg({'id':'nunique'})\n",
        "chains['percent'] = chains['id']/chains['id'].sum()\n",
        "chains"
      ]
    },
    {
      "cell_type": "code",
      "execution_count": 404,
      "id": "2f2adca4",
      "metadata": {
        "colab": {
          "base_uri": "https://localhost:8080/",
          "height": 585
        },
        "id": "2f2adca4",
        "outputId": "b94fd116-f5bf-47a4-ed15-8dbcc9565cca"
      },
      "outputs": [
        {
          "output_type": "display_data",
          "data": {
            "text/plain": [
              "<Figure size 1000x600 with 1 Axes>"
            ],
            "image/png": "[encoded data removed]"
          },
          "metadata": {}
        }
      ],
      "source": [
        "# построим график\n",
        "plt.figure(\n",
        "    figsize=(10, 6)\n",
        ")\n",
        "sns.set_palette('dark')\n",
        "ax = sns.barplot(x='chain', y='percent', data=chains)\n",
        "plt.xticks(rotation=90)\n",
        "ax.set_title('Соотношение сетевых и несетевых заведений') \n",
        "ax.set_xlabel('Сетевой статус')\n",
        "ax.set_ylabel('Количество') \n",
        "plt.show()"
      ]
    },
    {
      "cell_type": "markdown",
      "id": "r5Hin8dkdl_E",
      "metadata": {
        "id": "r5Hin8dkdl_E"
      },
      "source": [
        "### Вывод\n",
        "Количество несетевых заведений значительно превосходит количество сетевых. Несетевых заведений — почти 81%, а сетевых — 19%."
      ]
    },
    {
      "cell_type": "markdown",
      "id": "slUqOvuafwYq",
      "metadata": {
        "id": "slUqOvuafwYq"
      },
      "source": [
        "### Задача 3.\n",
        "Для какого вида объекта общественного питания характерно сетевое распространение?\n",
        "<a name=\"three\"></a>"
      ]
    },
    {
      "cell_type": "code",
      "execution_count": 382,
      "id": "jKJVbsWWfyWX",
      "metadata": {
        "colab": {
          "base_uri": "https://localhost:8080/",
          "height": 332
        },
        "id": "jKJVbsWWfyWX",
        "outputId": "a573b826-d855-4768-8a66-1782dd4dd6d9"
      },
      "outputs": [
        {
          "output_type": "execute_result",
          "data": {
            "text/plain": [
              "                         object_type    id     chain\n",
              "6  предприятие быстрого обслуживания  1898  0.415174\n",
              "5          магазин (отдел кулинарии)   273  0.285714\n",
              "7                           ресторан  2282  0.237949\n",
              "3                               кафе  6071  0.229946\n",
              "2                         закусочная   349  0.160458\n",
              "4                          кафетерий   395  0.131646\n",
              "0                                бар   855  0.043275\n",
              "1                              буфет   577  0.019064\n",
              "8                           столовая  2584  0.001161"
            ],
            "text/html": [
              "\n",
              "  <div id=\"df-ccafd0cc-9e0a-490b-a2ff-1ad92379787d\">\n",
              "    <div class=\"colab-df-container\">\n",
              "      <div>\n",
              "<style scoped>\n",
              "    .dataframe tbody tr th:only-of-type {\n",
              "        vertical-align: middle;\n",
              "    }\n",
              "\n",
              "    .dataframe tbody tr th {\n",
              "        vertical-align: top;\n",
              "    }\n",
              "\n",
              "    .dataframe thead th {\n",
              "        text-align: right;\n",
              "    }\n",
              "</style>\n",
              "<table border=\"1\" class=\"dataframe\">\n",
              "  <thead>\n",
              "    <tr style=\"text-align: right;\">\n",
              "      <th></th>\n",
              "      <th>object_type</th>\n",
              "      <th>id</th>\n",
              "      <th>chain</th>\n",
              "    </tr>\n",
              "  </thead>\n",
              "  <tbody>\n",
              "    <tr>\n",
              "      <th>6</th>\n",
              "      <td>предприятие быстрого обслуживания</td>\n",
              "      <td>1898</td>\n",
              "      <td>0.415174</td>\n",
              "    </tr>\n",
              "    <tr>\n",
              "      <th>5</th>\n",
              "      <td>магазин (отдел кулинарии)</td>\n",
              "      <td>273</td>\n",
              "      <td>0.285714</td>\n",
              "    </tr>\n",
              "    <tr>\n",
              "      <th>7</th>\n",
              "      <td>ресторан</td>\n",
              "      <td>2282</td>\n",
              "      <td>0.237949</td>\n",
              "    </tr>\n",
              "    <tr>\n",
              "      <th>3</th>\n",
              "      <td>кафе</td>\n",
              "      <td>6071</td>\n",
              "      <td>0.229946</td>\n",
              "    </tr>\n",
              "    <tr>\n",
              "      <th>2</th>\n",
              "      <td>закусочная</td>\n",
              "      <td>349</td>\n",
              "      <td>0.160458</td>\n",
              "    </tr>\n",
              "    <tr>\n",
              "      <th>4</th>\n",
              "      <td>кафетерий</td>\n",
              "      <td>395</td>\n",
              "      <td>0.131646</td>\n",
              "    </tr>\n",
              "    <tr>\n",
              "      <th>0</th>\n",
              "      <td>бар</td>\n",
              "      <td>855</td>\n",
              "      <td>0.043275</td>\n",
              "    </tr>\n",
              "    <tr>\n",
              "      <th>1</th>\n",
              "      <td>буфет</td>\n",
              "      <td>577</td>\n",
              "      <td>0.019064</td>\n",
              "    </tr>\n",
              "    <tr>\n",
              "      <th>8</th>\n",
              "      <td>столовая</td>\n",
              "      <td>2584</td>\n",
              "      <td>0.001161</td>\n",
              "    </tr>\n",
              "  </tbody>\n",
              "</table>\n",
              "</div>\n",
              "      <button class=\"colab-df-convert\" onclick=\"convertToInteractive('df-ccafd0cc-9e0a-490b-a2ff-1ad92379787d')\"\n",
              "              title=\"Convert this dataframe to an interactive table.\"\n",
              "              style=\"display:none;\">\n",
              "        \n",
              "  <svg xmlns=\"http://www.w3.org/2000/svg\" height=\"24px\"viewBox=\"0 0 24 24\"\n",
              "       width=\"24px\">\n",
              "    <path d=\"M0 0h24v24H0V0z\" fill=\"none\"/>\n",
              "    <path d=\"M18.56 5.44l.94 2.06.94-2.06 2.06-.94-2.06-.94-.94-2.06-.94 2.06-2.06.94zm-11 1L8.5 8.5l.94-2.06 2.06-.94-2.06-.94L8.5 2.5l-.94 2.06-2.06.94zm10 10l.94 2.06.94-2.06 2.06-.94-2.06-.94-.94-2.06-.94 2.06-2.06.94z\"/><path d=\"M17.41 7.96l-1.37-1.37c-.4-.4-.92-.59-1.43-.59-.52 0-1.04.2-1.43.59L10.3 9.45l-7.72 7.72c-.78.78-.78 2.05 0 2.83L4 21.41c.39.39.9.59 1.41.59.51 0 1.02-.2 1.41-.59l7.78-7.78 2.81-2.81c.8-.78.8-2.07 0-2.86zM5.41 20L4 18.59l7.72-7.72 1.47 1.35L5.41 20z\"/>\n",
              "  </svg>\n",
              "      </button>\n",
              "      \n",
              "  <style>\n",
              "    .colab-df-container {\n",
              "      display:flex;\n",
              "      flex-wrap:wrap;\n",
              "      gap: 12px;\n",
              "    }\n",
              "\n",
              "    .colab-df-convert {\n",
              "      background-color: #E8F0FE;\n",
              "      border: none;\n",
              "      border-radius: 50%;\n",
              "      cursor: pointer;\n",
              "      display: none;\n",
              "      fill: #1967D2;\n",
              "      height: 32px;\n",
              "      padding: 0 0 0 0;\n",
              "      width: 32px;\n",
              "    }\n",
              "\n",
              "    .colab-df-convert:hover {\n",
              "      background-color: #E2EBFA;\n",
              "      box-shadow: 0px 1px 2px rgba(60, 64, 67, 0.3), 0px 1px 3px 1px rgba(60, 64, 67, 0.15);\n",
              "      fill: #174EA6;\n",
              "    }\n",
              "\n",
              "    [theme=dark] .colab-df-convert {\n",
              "      background-color: #3B4455;\n",
              "      fill: #D2E3FC;\n",
              "    }\n",
              "\n",
              "    [theme=dark] .colab-df-convert:hover {\n",
              "      background-color: #434B5C;\n",
              "      box-shadow: 0px 1px 3px 1px rgba(0, 0, 0, 0.15);\n",
              "      filter: drop-shadow(0px 1px 2px rgba(0, 0, 0, 0.3));\n",
              "      fill: #FFFFFF;\n",
              "    }\n",
              "  </style>\n",
              "\n",
              "      <script>\n",
              "        const buttonEl =\n",
              "          document.querySelector('#df-ccafd0cc-9e0a-490b-a2ff-1ad92379787d button.colab-df-convert');\n",
              "        buttonEl.style.display =\n",
              "          google.colab.kernel.accessAllowed ? 'block' : 'none';\n",
              "\n",
              "        async function convertToInteractive(key) {\n",
              "          const element = document.querySelector('#df-ccafd0cc-9e0a-490b-a2ff-1ad92379787d');\n",
              "          const dataTable =\n",
              "            await google.colab.kernel.invokeFunction('convertToInteractive',\n",
              "                                                     [key], {});\n",
              "          if (!dataTable) return;\n",
              "\n",
              "          const docLinkHtml = 'Like what you see? Visit the ' +\n",
              "            '<a target=\"_blank\" href=https://colab.research.google.com/notebooks/data_table.ipynb>data table notebook</a>'\n",
              "            + ' to learn more about interactive tables.';\n",
              "          element.innerHTML = '';\n",
              "          dataTable['output_type'] = 'display_data';\n",
              "          await google.colab.output.renderOutput(dataTable, element);\n",
              "          const docLink = document.createElement('div');\n",
              "          docLink.innerHTML = docLinkHtml;\n",
              "          element.appendChild(docLink);\n",
              "        }\n",
              "      </script>\n",
              "    </div>\n",
              "  </div>\n",
              "  "
            ]
          },
          "metadata": {},
          "execution_count": 382
        }
      ],
      "source": [
        "# посчитаем долю сетевых заведений\n",
        "chain_type = (\n",
        "    data.groupby('object_type', as_index=False)\n",
        "    .agg({'id': 'nunique', 'chain': 'mean'})\n",
        "    .sort_values(by='chain', ascending=False)\n",
        ")\n",
        "chain_type\n"
      ]
    },
    {
      "cell_type": "code",
      "execution_count": 383,
      "id": "MDrfyCpziPWG",
      "metadata": {
        "colab": {
          "base_uri": "https://localhost:8080/",
          "height": 678
        },
        "id": "MDrfyCpziPWG",
        "outputId": "326ff539-8a20-441d-95aa-088feb506a48"
      },
      "outputs": [
        {
          "output_type": "display_data",
          "data": {
            "text/plain": [
              "<Figure size 1000x400 with 1 Axes>"
            ],
            "image/png": "[encoded data removed]"
          },
          "metadata": {}
        }
      ],
      "source": [
        "# построим график\n",
        "plt.figure(\n",
        "    figsize=(10, 4)\n",
        ")\n",
        "sns.set_palette('deep')\n",
        "ax = sns.barplot(x='object_type', y='chain', data=chain_type)\n",
        "plt.xticks(rotation=90)\n",
        "ax.set_title('Доля сетевого распространения') \n",
        "ax.set_xlabel('Вид объекта общественного питания')\n",
        "ax.set_ylabel('Соотношение') \n",
        "plt.show()"
      ]
    },
    {
      "cell_type": "markdown",
      "id": "QiKw2nTJjZDl",
      "metadata": {
        "id": "QiKw2nTJjZDl"
      },
      "source": [
        "### Вывод\n",
        "Явным лидером несетевых заведений является столовая. В топ-3 так же входят буфеты и бары. Что касается сетевых заведений, то наибольшая их доля среди предприятий быстрого обслуживания (41%) и магазинов (28%)."
      ]
    },
    {
      "cell_type": "markdown",
      "id": "26jy6zXIxKwD",
      "metadata": {
        "id": "26jy6zXIxKwD"
      },
      "source": [
        "### Задача 4.\n",
        "Что характерно для сетевых заведений: много заведений с небольшим числом посадочных мест в каждом или мало заведений с большим количеством посадочных мест?\n",
        "<a name=\"four\"></a>"
      ]
    },
    {
      "cell_type": "code",
      "execution_count": 384,
      "id": "jGpKi8XxjusJ",
      "metadata": {
        "id": "jGpKi8XxjusJ"
      },
      "outputs": [],
      "source": [
        "# создадим dataframe со списком сетевых заведений\n",
        "four = data.query('chain == True')\n",
        "four = four[['object_name', 'id', 'number']].sort_values(by='number', ascending=False)"
      ]
    },
    {
      "cell_type": "code",
      "execution_count": 385,
      "id": "0aCq4eAc546J",
      "metadata": {
        "id": "0aCq4eAc546J"
      },
      "outputs": [],
      "source": [
        "# исключим общие названия\n",
        "four['object_name'] = four['object_name'].str.lower()\n",
        "four['object_name'] = four['object_name'].str.replace('кафе', '')\n",
        "four['object_name'] = four['object_name'].str.replace('предприятие быстрого обслуживания', '')\n",
        "four['object_name'] = four['object_name'].str.replace('закусочная', '')\n",
        "four['object_name'] = four['object_name'].str.replace('ресторан', '')\n",
        "four['object_name'] = four['object_name'].str.replace('цех по изготовлению пиццы', '')\n",
        "four['object_name'] = four['object_name'].str.replace('«', '')\n",
        "four['object_name'] = four['object_name'].str.replace('»', '')\n",
        "four['object_name'] = four['object_name'].str.replace('\" ', '')\n",
        "four['object_name'] = four['object_name'].str.replace(' \"', '')\n",
        "four['object_name'] = four['object_name'].str.replace('кофейня', '')\n",
        "four['object_name'] = four['object_name'].str.replace('пекарня', '')\n",
        "four['object_name'] = four['object_name'].str.replace('пбо', '')\n"
      ]
    },
    {
      "cell_type": "code",
      "execution_count": 386,
      "id": "5yWJrTPS0HKs",
      "metadata": {
        "colab": {
          "base_uri": "https://localhost:8080/"
        },
        "id": "5yWJrTPS0HKs",
        "outputId": "870f6ef3-f3a9-435b-f417-102d0bc6ad62",
        "scrolled": false
      },
      "outputs": [
        {
          "output_type": "execute_result",
          "data": {
            "text/plain": [
              "array(['макдоналдс', 'чайхона №1', 'якитория', 'кружка', 'kfc',\n",
              "       'иль патио', 'грабли', 'корчма тарас бульба', 'темпл бар',\n",
              "       'бакинский бульвар', 'пилзнер', 'чешская пивная козловица',\n",
              "       'му-му', 'золотая вобла', 'андерсон', 'ян примус',\n",
              "       'старина миллер', 'космик', 'пражечка', 'урюк', 'колбасофф',\n",
              "       'молли гвинз', 'пронто', ' планета суши', 'нияма', 'тануки',\n",
              "       'территория ясенево', 'сказка', 'академия', 'то да сё', 'теремок',\n",
              "       'джон джоли', 'гудман', 'брудер', 'две палочки', 'сварня',\n",
              "       'гурман', 'торро гриль', ' джон джоли', 'кофемания', 'марчеллис',\n",
              "       'менза', 'гамбринус', 'ваби-саби', 'вареничная №1',\n",
              "       'пицца экспресс', 'елки-палки', 'шоколадница', 'бургер кинг',\n",
              "       'руккола', 'white rabbite (белый кролик)', 'ариана', 'кофе хаус',\n",
              "       'павлин-мавлин', 'япоша', ' то да сё', 'm cafe хинкальная',\n",
              "       'венеция', 'территория', 'иль-патио', 'да пино', 'ёрш',\n",
              "       'генацвали', 'гино-но-таки', 'хинкальная', 'прайм стар',\n",
              "       'мята lounge', ' территория', 'хачапури', 'пивко',\n",
              "       'хачапури, одесса -мама', 'хижина', 'гудман гудвин', 'де марко',\n",
              "       'ганс и марта', 'крошка картошка', 'дюшес', 'starbucks',\n",
              "       'стейк-хаус гудман', 'лепешка', ' вьет', 'маки-маки',\n",
              "       'ичибан боши', ' чайхана тапчан', 'иль форно', 'luciano',\n",
              "       ' джардино да пино', 'tajj mahal', ' маки-маки', 'планета суши',\n",
              "       'мск московская сеть кальянных', 'osteria mario', 'вьет',\n",
              "       'кофе-хаус', 'ирландский паб', 'жан жак', ' вареничная №1',\n",
              "       'гурмания', 'штолле', 'виктория', 'илья муромец', 'барашка',\n",
              "       'тапчан', 'зодиак', ' илья муромец', 'траттория примавера',\n",
              "       'bocconcino', 'порто мальтезе', ' florentini', ' сим-сим',\n",
              "       'грузинская кухня эzо хинкальная', 'starlite diner',\n",
              "       'тратория semplice', 'дорогая я перезвоню', 'maki maki',\n",
              "       ' шоколад', 'бир хаус', 'простые вещи', 'хлеб насущный',\n",
              "       'beverly hills diner', 'каффе wokker', 'алло пицца', 'примавера',\n",
              "       'шварцвальд', 'бутчер бизон', 'coffeeshop company',\n",
              "       'кофешоп coffeeshop company', 'il forno иль форно',\n",
              "       'советские времена', 'бир хаус паб', 'рецептор', ' торнадо',\n",
              "       'стейк хаус гудман', 'florentini', ' восточный базар',\n",
              "       ' песто и митлес', 'мимино', 'да пино (da pino)', 'метро к&к',\n",
              "       'хинкальная №1', 'пиццерия пиу дель чибо', '  хачапури',\n",
              "       'макс бреннер', 'bierloga', ' корчма тарас бульба', 'ташир пицца',\n",
              "       'суп ', 'спб', 'шашлык-машлык', 'кулинарное бюро kitchen',\n",
              "       'территория timbigfamily', 'ботик петра', 'correas',\n",
              "       'мск московская сеть кальянных на шаболовке', ' тапчан',\n",
              "       'брусника', 'додо пицца', 'fridays', 'мимино хинкальная',\n",
              "       'бабай клаб', 'домашнее  сеть городских ', 'кофе тун',\n",
              "       'бар- буфет николай', 'готика', 'marrakesh хинкальная',\n",
              "       'goodman гудман', 'чебуречная ссср', 'панчо пицца', 'папа джонс',\n",
              "       'хинкальная city', 'ньокки', 'папа джонс пицца', 'ми пьяче', 'зю ',\n",
              "       ' ньокки', 'анти- кальянная moskalyan', ' хинкальная', 'воккер',\n",
              "       'николай', ' меленка', 'пицца хат', 'кебаб хаус',\n",
              "       'кальян-бар moskalyan', 'кулинарная лавка братьев караваевых',\n",
              "       'мясоroob', 'krispy krem', 'сытая утка', 'джаганнат', 'лето',\n",
              "       'крепери де пари', 'доминос пицца', 'sushilka', 'шоколад',\n",
              "       'брава коста кофе', 'costa coffee', 'moskalyan', ' costa coffee',\n",
              "       ' икеа ikea', 'кондитерская- волконский', 'восточный базар',\n",
              "       'кофетун', 'tokyo bay', 'пиццерия папа джонс', 'поль бейкери',\n",
              "       'кондитерская волконский', 'сити', 'мята lounge октябрьская',\n",
              "       ' кофе-хаус', ' данкин донатс', 'тайм авеню', 'данкин донатс',\n",
              "       'штирбирлиц', 'югос', ' японской кухни маки-маки',\n",
              "       'upside down cake', 'мята lounge шаболовка', 'шантимель',\n",
              "       'vietcafe вьет', 'tgi fridays', 'кофе-бин', 'баскин роббинс',\n",
              "       'boobo', 'в&в бургер', 'jeffreys coffee', 'grand cru',\n",
              "       'пицца пипони', 'лаундж-бар мята lounge',\n",
              "       'кальян- бар мята lounge', 'баракат', 'фантоцци рус', 'сити пицца',\n",
              "       'the terrace', 'paul поль', 'krispy creme', 'lavkalavka',\n",
              "       'пиццерия академия', 'бар-буфет николай', 'сабвей', 'виват-пицца',\n",
              "       ' пицца фабрика', 'милти', 'мята lounge автозаводская',\n",
              "       'французская выпечка', 'пицца фабрика', 'кальянная мята lounge',\n",
              "       'алло пицца 2', 'дабл би блэк', 'upside down',\n",
              "       'пиццерия пицца хат', 'black & white', 'пиццетория', ' де марко',\n",
              "       'цинандали хинкальная', ' марукамэ', 'урожай', ' хлеб насущный',\n",
              "       'квартира 44', 'сбарро', 'граци рагацци зю ',\n",
              "       'кулинарное бюро китчен', 'travelers coffee', 'pizengof99 спб',\n",
              "       'советские времена чебуречная ссср', 'мята', ' рецептор',\n",
              "       'wok & box', 'пицца pomodoro', 'икура паб', 'сувлаки',\n",
              "       'burger club', 'бб энд бургерс в&в бургер', 'dunkin donuts',\n",
              "       'кулинарное бюро', ' пицца хат', 'кактус',\n",
              "       'шантимель (кондитерские)', 'cofix', 'пицца паоло и бенто wok',\n",
              "       'хинкальная кинто', 'дабл би', 'волконский', 'тирольские пироги',\n",
              "       'сушиман', 'вкусняшка', 'блинная', 'кальянная f-lounge', 'помидор',\n",
              "       'азбука вкуса', 'пиццерия донателло', 'healthy food',\n",
              "       'мистер картошка', 'барбарис', 'магбургер азс №16', 'барбекю',\n",
              "       'бургер клаб', 'фитнес-бар world class', 'изба', ' бенто wok',\n",
              "       'бенто wok', 'tutti frutti frozen yogurt', ' папа джонс',\n",
              "       'магбургер', 'роллофф', 'суши бар маки-маки',\n",
              "       'кальян-бар мята lounge', ' волконский ', 'пицерия папа джонс',\n",
              "       'мюнгер', 'суши wok', 'пиппони', 'милано пицца', 'travelers coffe',\n",
              "       'коста кофе', 'чин чин', 'магбургер азс №17', 'кофепорт',\n",
              "       ' сушишоп', ' магбургер', 'glowsubs sandwiches', 'van wok ванвок',\n",
              "       'vanwok ванвок', 'ливан-хаус', 'меленка', 'суши сет',\n",
              "       'кондитерия тирольские пироги', 'сушишоп', ' кулинарное бюро',\n",
              "       'лукойл', 'обжорный ряд', 'газпромнефтьцентр', 'хлеб&co',\n",
              "       ' при азс лукойл', ' при азс', ' суши вок',\n",
              "       'магазин-кулинария суши сет', 'ванвок', ' суши wok', 'суши вок',\n",
              "       ' мороженного tutti frutti', 'пикколо',\n",
              "       'грузинские каникулы барбарис', 'хлебница ', ' при азс bp',\n",
              "       'мираторг', 'суши тун', 'магнолия', 'лукойл-центрнефтьпродукт',\n",
              "       'пицца pomodoro и суши дзен', ' американ сити пицца', 'стардогс',\n",
              "       'бодрый день кофе с собой', 'panda express', ' дабл би', 'каро',\n",
              "       'правdа кофе', 'пицца паоло', 'кофе с собой', 'тамаси суши',\n",
              "       'сеть магазинов суши wok', 'добрынинский и партнёры', ' суши сет',\n",
              "       'кофе с собой ', 'роснефть', 'bubbleology',\n",
              "       'городские автокофейни', 'бар мята lounge', 'cookhouse',\n",
              "       'кофе с собой gate 42', 'суши маки-маки', ' при азс газпромнефть',\n",
              "       'yogurt frenzy', ' поль бейкери', '-пекарея волконский', 'кофе',\n",
              "       'ямми микс', 'билла', 'оникс', 'перекресток', 'бар суши wok',\n",
              "       'marmalato', 'wokker', 'американ сити пицца ', 'васаби', 'my box',\n",
              "       'coffeeshop', 'movenpick', 'tutti frutti', 'пончиковое  икеа ikea',\n",
              "       'пиццерия пицца паоло'], dtype=object)"
            ]
          },
          "metadata": {},
          "execution_count": 386
        }
      ],
      "source": [
        "# заменим неявные дубликаты\n",
        "def locality(row):\n",
        "    if 'кинг' in row['object_name']:\n",
        "        return 'бургер кинг'\n",
        "    elif 'king' in row['object_name']:\n",
        "        return 'бургер кинг'\n",
        "    elif 'андерсон' in row['object_name']:\n",
        "        return 'андерсон'\n",
        "    elif 'прайм' in row['object_name']:\n",
        "        return 'прайм стар'\n",
        "    elif 'азбука' in row['object_name']:\n",
        "        return 'азбука вкуса'\n",
        "    elif 'старбакс' in row['object_name']:\n",
        "        return 'starbucks'\n",
        "    elif 'kfc' in row['object_name']:\n",
        "        return 'kfc'\n",
        "    elif 'домино' in row['object_name']:\n",
        "        return 'доминос пицца'\n",
        "    elif 'крошка' in row['object_name']:\n",
        "        return 'крошка картошка'\n",
        "    elif 'баскин' in row['object_name']:\n",
        "        return 'баскин роббинс'\n",
        "    elif 'стейк хаус гудман' in row['object_name']:\n",
        "        return 'стейк хаус гудман'\n",
        "    elif 'starbucks' in row['object_name']:\n",
        "        return 'starbucks'\n",
        "    elif 'теремок' in row['object_name']:\n",
        "        return 'теремок'\n",
        "    elif 'subway' in row['object_name']:\n",
        "        return 'сабвей'\n",
        "    elif 'сабвей' in row['object_name']:\n",
        "        return 'сабвей'\n",
        "    elif 'иль па' in row['object_name']:\n",
        "        return 'иль патио'\n",
        "    elif 'чайхона' in row['object_name']:\n",
        "        return 'чайхона №1'\n",
        "    elif 'кофе тун' in row['object_name']:\n",
        "        return 'кофе тун'\n",
        "    elif 'каравае' in row['object_name']:\n",
        "        return 'кулинарная лавка братьев караваевых'\n",
        "    elif 'штолле' in row['object_name']:\n",
        "        return 'штолле'\n",
        "    elif 'ян примус' in row['object_name']:\n",
        "        return 'ян примус'\n",
        "    elif 'милти' in row['object_name']:\n",
        "        return 'милти'\n",
        "    elif 'старина' in row['object_name']:\n",
        "        return 'старина миллер'\n",
        "    elif 'му-му' in row['object_name']:\n",
        "        return 'му-му'\n",
        "    elif 'ёрш' in row['object_name']:\n",
        "        return 'ёрш'\n",
        "    elif 'нияма' in row['object_name']:\n",
        "        return 'нияма'\n",
        "    elif 'бульвар' in row['object_name']:\n",
        "        return 'бакинский бульвар'\n",
        "    elif 'урюк' in row['object_name']:\n",
        "        return 'урюк'\n",
        "    elif 'пилзнер' in row['object_name']:\n",
        "        return 'пилзнер'\n",
        "    elif 'темпл бар' in row['object_name']:\n",
        "        return 'темпл бар'\n",
        "    elif 'кружка' in row['object_name']:\n",
        "        return 'кружка'\n",
        "    elif 'брудер' in row['object_name']:\n",
        "        return 'брудер'\n",
        "    elif 'пронто' in row['object_name']:\n",
        "        return 'пронто'\n",
        "    elif 'торро гриль' in row['object_name']:\n",
        "        return 'торро гриль'\n",
        "    elif 'кофемания' in row['object_name']:\n",
        "        return 'кофемания'\n",
        "    elif 'менза' in row['object_name']:\n",
        "        return 'менза'\n",
        "    elif 'космик' in row['object_name']:\n",
        "        return 'космик'\n",
        "    elif 'ваби-саби' in row['object_name']:\n",
        "        return 'ваби-саби'\n",
        "    elif 'золотая вобла' in row['object_name']:\n",
        "        return 'золотая вобла'\n",
        "    elif 'колбасофф' in row['object_name']:\n",
        "        return 'колбасофф'\n",
        "    elif 'макдоналдс' in row['object_name']:\n",
        "        return 'макдоналдс'\n",
        "    elif 'шоколадница' in row['object_name']:\n",
        "        return 'шоколадница'\n",
        "    elif 'якитория' in row['object_name']:\n",
        "        return 'якитория'\n",
        "    elif 'тануки' in row['object_name']:\n",
        "        return 'тануки'\n",
        "    elif 'кофе хаус' in row['object_name']:\n",
        "        return 'кофе хаус'\n",
        "    elif 'додо' in row['object_name']:\n",
        "        return 'додо пицца'\n",
        "    elif 'стардо' in row['object_name']:\n",
        "        return 'стардогс'\n",
        "    return row['object_name']\n",
        " \n",
        "four['object_name'] = four.apply(locality, axis=1)\n",
        "\n",
        "four['object_name'].unique() # проверим результат"
      ]
    },
    {
      "cell_type": "code",
      "execution_count": 387,
      "id": "A4TFhMQvIvgP",
      "metadata": {
        "id": "A4TFhMQvIvgP"
      },
      "outputs": [],
      "source": [
        "#посчитаем для каждой сети чсило посадочных мест и количество объектов\n",
        "four = four.groupby('object_name', as_index=False).agg({'number':'sum', 'id':'count'}).sort_values(by='id', ascending=False)\n",
        "\n",
        "four['ratio'] = four['number']/four['id'] # добавим столбец со средним количеством посадочных мест в заведении\n",
        "four = four.rename(\n",
        "columns={\n",
        "'object_name': 'Название сети',\n",
        "'number': 'seat_count',\n",
        "'id': 'object_count',}\n",
        ")"
      ]
    },
    {
      "cell_type": "code",
      "execution_count": 388,
      "id": "2dbdc032",
      "metadata": {
        "colab": {
          "base_uri": "https://localhost:8080/",
          "height": 424
        },
        "id": "2dbdc032",
        "outputId": "08170d41-10b3-4983-e147-b90c1fe4d698"
      },
      "outputs": [
        {
          "output_type": "execute_result",
          "data": {
            "text/plain": [
              "                                  Название сети  seat_count  object_count  \\\n",
              "73                                          kfc       10497           188   \n",
              "380                                 шоколадница       10640           184   \n",
              "245                                  макдоналдс       15054           172   \n",
              "139                                 бургер кинг        7655           159   \n",
              "346                                     теремок        3013           111   \n",
              "..                                          ...         ...           ...   \n",
              "128                   бб энд бургерс в&в бургер          35             1   \n",
              "259                                 молли гвинз         250             1   \n",
              "157                                ганс и марта         120             1   \n",
              "261  мск московская сеть кальянных на шаболовке          70             1   \n",
              "0                                      хачапури          75             1   \n",
              "\n",
              "          ratio  \n",
              "73    55.835106  \n",
              "380   57.826087  \n",
              "245   87.523256  \n",
              "139   48.144654  \n",
              "346   27.144144  \n",
              "..          ...  \n",
              "128   35.000000  \n",
              "259  250.000000  \n",
              "157  120.000000  \n",
              "261   70.000000  \n",
              "0     75.000000  \n",
              "\n",
              "[389 rows x 4 columns]"
            ],
            "text/html": [
              "\n",
              "  <div id=\"df-2fbf2504-ce28-4b47-bbc2-f2ec6a7f244d\">\n",
              "    <div class=\"colab-df-container\">\n",
              "      <div>\n",
              "<style scoped>\n",
              "    .dataframe tbody tr th:only-of-type {\n",
              "        vertical-align: middle;\n",
              "    }\n",
              "\n",
              "    .dataframe tbody tr th {\n",
              "        vertical-align: top;\n",
              "    }\n",
              "\n",
              "    .dataframe thead th {\n",
              "        text-align: right;\n",
              "    }\n",
              "</style>\n",
              "<table border=\"1\" class=\"dataframe\">\n",
              "  <thead>\n",
              "    <tr style=\"text-align: right;\">\n",
              "      <th></th>\n",
              "      <th>Название сети</th>\n",
              "      <th>seat_count</th>\n",
              "      <th>object_count</th>\n",
              "      <th>ratio</th>\n",
              "    </tr>\n",
              "  </thead>\n",
              "  <tbody>\n",
              "    <tr>\n",
              "      <th>73</th>\n",
              "      <td>kfc</td>\n",
              "      <td>10497</td>\n",
              "      <td>188</td>\n",
              "      <td>55.835106</td>\n",
              "    </tr>\n",
              "    <tr>\n",
              "      <th>380</th>\n",
              "      <td>шоколадница</td>\n",
              "      <td>10640</td>\n",
              "      <td>184</td>\n",
              "      <td>57.826087</td>\n",
              "    </tr>\n",
              "    <tr>\n",
              "      <th>245</th>\n",
              "      <td>макдоналдс</td>\n",
              "      <td>15054</td>\n",
              "      <td>172</td>\n",
              "      <td>87.523256</td>\n",
              "    </tr>\n",
              "    <tr>\n",
              "      <th>139</th>\n",
              "      <td>бургер кинг</td>\n",
              "      <td>7655</td>\n",
              "      <td>159</td>\n",
              "      <td>48.144654</td>\n",
              "    </tr>\n",
              "    <tr>\n",
              "      <th>346</th>\n",
              "      <td>теремок</td>\n",
              "      <td>3013</td>\n",
              "      <td>111</td>\n",
              "      <td>27.144144</td>\n",
              "    </tr>\n",
              "    <tr>\n",
              "      <th>...</th>\n",
              "      <td>...</td>\n",
              "      <td>...</td>\n",
              "      <td>...</td>\n",
              "      <td>...</td>\n",
              "    </tr>\n",
              "    <tr>\n",
              "      <th>128</th>\n",
              "      <td>бб энд бургерс в&amp;в бургер</td>\n",
              "      <td>35</td>\n",
              "      <td>1</td>\n",
              "      <td>35.000000</td>\n",
              "    </tr>\n",
              "    <tr>\n",
              "      <th>259</th>\n",
              "      <td>молли гвинз</td>\n",
              "      <td>250</td>\n",
              "      <td>1</td>\n",
              "      <td>250.000000</td>\n",
              "    </tr>\n",
              "    <tr>\n",
              "      <th>157</th>\n",
              "      <td>ганс и марта</td>\n",
              "      <td>120</td>\n",
              "      <td>1</td>\n",
              "      <td>120.000000</td>\n",
              "    </tr>\n",
              "    <tr>\n",
              "      <th>261</th>\n",
              "      <td>мск московская сеть кальянных на шаболовке</td>\n",
              "      <td>70</td>\n",
              "      <td>1</td>\n",
              "      <td>70.000000</td>\n",
              "    </tr>\n",
              "    <tr>\n",
              "      <th>0</th>\n",
              "      <td>хачапури</td>\n",
              "      <td>75</td>\n",
              "      <td>1</td>\n",
              "      <td>75.000000</td>\n",
              "    </tr>\n",
              "  </tbody>\n",
              "</table>\n",
              "<p>389 rows × 4 columns</p>\n",
              "</div>\n",
              "      <button class=\"colab-df-convert\" onclick=\"convertToInteractive('df-2fbf2504-ce28-4b47-bbc2-f2ec6a7f244d')\"\n",
              "              title=\"Convert this dataframe to an interactive table.\"\n",
              "              style=\"display:none;\">\n",
              "        \n",
              "  <svg xmlns=\"http://www.w3.org/2000/svg\" height=\"24px\"viewBox=\"0 0 24 24\"\n",
              "       width=\"24px\">\n",
              "    <path d=\"M0 0h24v24H0V0z\" fill=\"none\"/>\n",
              "    <path d=\"M18.56 5.44l.94 2.06.94-2.06 2.06-.94-2.06-.94-.94-2.06-.94 2.06-2.06.94zm-11 1L8.5 8.5l.94-2.06 2.06-.94-2.06-.94L8.5 2.5l-.94 2.06-2.06.94zm10 10l.94 2.06.94-2.06 2.06-.94-2.06-.94-.94-2.06-.94 2.06-2.06.94z\"/><path d=\"M17.41 7.96l-1.37-1.37c-.4-.4-.92-.59-1.43-.59-.52 0-1.04.2-1.43.59L10.3 9.45l-7.72 7.72c-.78.78-.78 2.05 0 2.83L4 21.41c.39.39.9.59 1.41.59.51 0 1.02-.2 1.41-.59l7.78-7.78 2.81-2.81c.8-.78.8-2.07 0-2.86zM5.41 20L4 18.59l7.72-7.72 1.47 1.35L5.41 20z\"/>\n",
              "  </svg>\n",
              "      </button>\n",
              "      \n",
              "  <style>\n",
              "    .colab-df-container {\n",
              "      display:flex;\n",
              "      flex-wrap:wrap;\n",
              "      gap: 12px;\n",
              "    }\n",
              "\n",
              "    .colab-df-convert {\n",
              "      background-color: #E8F0FE;\n",
              "      border: none;\n",
              "      border-radius: 50%;\n",
              "      cursor: pointer;\n",
              "      display: none;\n",
              "      fill: #1967D2;\n",
              "      height: 32px;\n",
              "      padding: 0 0 0 0;\n",
              "      width: 32px;\n",
              "    }\n",
              "\n",
              "    .colab-df-convert:hover {\n",
              "      background-color: #E2EBFA;\n",
              "      box-shadow: 0px 1px 2px rgba(60, 64, 67, 0.3), 0px 1px 3px 1px rgba(60, 64, 67, 0.15);\n",
              "      fill: #174EA6;\n",
              "    }\n",
              "\n",
              "    [theme=dark] .colab-df-convert {\n",
              "      background-color: #3B4455;\n",
              "      fill: #D2E3FC;\n",
              "    }\n",
              "\n",
              "    [theme=dark] .colab-df-convert:hover {\n",
              "      background-color: #434B5C;\n",
              "      box-shadow: 0px 1px 3px 1px rgba(0, 0, 0, 0.15);\n",
              "      filter: drop-shadow(0px 1px 2px rgba(0, 0, 0, 0.3));\n",
              "      fill: #FFFFFF;\n",
              "    }\n",
              "  </style>\n",
              "\n",
              "      <script>\n",
              "        const buttonEl =\n",
              "          document.querySelector('#df-2fbf2504-ce28-4b47-bbc2-f2ec6a7f244d button.colab-df-convert');\n",
              "        buttonEl.style.display =\n",
              "          google.colab.kernel.accessAllowed ? 'block' : 'none';\n",
              "\n",
              "        async function convertToInteractive(key) {\n",
              "          const element = document.querySelector('#df-2fbf2504-ce28-4b47-bbc2-f2ec6a7f244d');\n",
              "          const dataTable =\n",
              "            await google.colab.kernel.invokeFunction('convertToInteractive',\n",
              "                                                     [key], {});\n",
              "          if (!dataTable) return;\n",
              "\n",
              "          const docLinkHtml = 'Like what you see? Visit the ' +\n",
              "            '<a target=\"_blank\" href=https://colab.research.google.com/notebooks/data_table.ipynb>data table notebook</a>'\n",
              "            + ' to learn more about interactive tables.';\n",
              "          element.innerHTML = '';\n",
              "          dataTable['output_type'] = 'display_data';\n",
              "          await google.colab.output.renderOutput(dataTable, element);\n",
              "          const docLink = document.createElement('div');\n",
              "          docLink.innerHTML = docLinkHtml;\n",
              "          element.appendChild(docLink);\n",
              "        }\n",
              "      </script>\n",
              "    </div>\n",
              "  </div>\n",
              "  "
            ]
          },
          "metadata": {},
          "execution_count": 388
        }
      ],
      "source": [
        "four"
      ]
    },
    {
      "cell_type": "code",
      "execution_count": 389,
      "id": "5b4d118b",
      "metadata": {
        "colab": {
          "base_uri": "https://localhost:8080/",
          "height": 625
        },
        "id": "5b4d118b",
        "outputId": "aa8fb6e6-4d29-4ea8-c93e-1f34d26d5970"
      },
      "outputs": [
        {
          "output_type": "display_data",
          "data": {
            "text/plain": [
              "<Figure size 1000x600 with 0 Axes>"
            ]
          },
          "metadata": {}
        },
        {
          "output_type": "display_data",
          "data": {
            "text/plain": [
              "<Figure size 600x600 with 3 Axes>"
            ],
            "image/png": "[encoded data removed]"
          },
          "metadata": {}
        }
      ],
      "source": [
        "plt.figure(\n",
        "    figsize=(10, 6)\n",
        ")\n",
        "sns.set_palette('deep')\n",
        "ax = sns.jointplot(x='object_count', y='ratio', data=four)\n",
        "plt.show()"
      ]
    },
    {
      "cell_type": "code",
      "execution_count": 390,
      "id": "504g0lMHd84-",
      "metadata": {
        "colab": {
          "base_uri": "https://localhost:8080/"
        },
        "id": "504g0lMHd84-",
        "outputId": "a51196ef-0d9c-4a82-ce23-efa55a050ea7"
      },
      "outputs": [
        {
          "output_type": "execute_result",
          "data": {
            "text/plain": [
              "count    2964.000000\n",
              "mean       52.981107\n",
              "std        57.152817\n",
              "min         0.000000\n",
              "25%        15.000000\n",
              "50%        40.000000\n",
              "75%        72.000000\n",
              "max       580.000000\n",
              "Name: number, dtype: float64"
            ]
          },
          "metadata": {},
          "execution_count": 390
        }
      ],
      "source": [
        "# проверим, какое число посадочных мест характерно для сетевых заведений\n",
        "chain_objects = data.query('chain == True')['number']\n",
        "chain_objects.describe()"
      ]
    },
    {
      "cell_type": "code",
      "execution_count": 391,
      "id": "GgbEnFeVeLPF",
      "metadata": {
        "colab": {
          "base_uri": "https://localhost:8080/",
          "height": 510
        },
        "id": "GgbEnFeVeLPF",
        "outputId": "1f1e1e56-a4f1-46a8-8cbc-364a2ff570d5"
      },
      "outputs": [
        {
          "output_type": "stream",
          "name": "stderr",
          "text": [
            "WARNING:matplotlib.legend:No artists with labels found to put in legend.  Note that artists whose label start with an underscore are ignored when legend() is called with no argument.\n"
          ]
        },
        {
          "output_type": "display_data",
          "data": {
            "text/plain": [
              "<Figure size 640x480 with 1 Axes>"
            ],
            "image/png": "[encoded data removed]"
          },
          "metadata": {}
        }
      ],
      "source": [
        "# посмотрим на распределение данных\n",
        "plt.boxplot(chain_objects)\n",
        "plt.title(\"Распределение числа посадочных мест в заведениях\")\n",
        "plt.xlabel(\"Распределение\")\n",
        "plt.ylabel(\"Количество посадочных мест\")\n",
        "plt.legend()\n",
        "plt.show()"
      ]
    },
    {
      "cell_type": "code",
      "execution_count": 392,
      "id": "Yt1DGSVMjnn0",
      "metadata": {
        "colab": {
          "base_uri": "https://localhost:8080/"
        },
        "id": "Yt1DGSVMjnn0",
        "outputId": "4ced892a-8268-45c5-b577-dc99b16e82c1"
      },
      "outputs": [
        {
          "output_type": "execute_result",
          "data": {
            "text/plain": [
              "array([120.  , 158.85, 275.37])"
            ]
          },
          "metadata": {},
          "execution_count": 392
        }
      ],
      "source": [
        "# посмотрим на выбросы\n",
        "np.percentile(chain_objects, [90, 95, 99])"
      ]
    },
    {
      "cell_type": "markdown",
      "id": "TrQVIQV7jN6D",
      "metadata": {
        "id": "TrQVIQV7jN6D"
      },
      "source": [
        "Мы видим достаточное количество аномально больших значений. В то же время среднее и медиана достаточно близки по значению и составляют 52 и 40 мест соответственно. 25% процентов заведений имеют более 72 посадочных мест, 5% — более 120 мест, 1% — более 275 мест. Примем границу третьего перцентиля за предел нормального количества посадочных мест, то есть заведения с более чем 72 посадочными местами будем считать объектами с большим количеством мест."
      ]
    },
    {
      "cell_type": "code",
      "execution_count": 393,
      "id": "x3EIAg2yMilZ",
      "metadata": {
        "colab": {
          "base_uri": "https://localhost:8080/",
          "height": 318
        },
        "id": "x3EIAg2yMilZ",
        "outputId": "753aa936-1911-4375-e2ba-72b5ce8ca93c"
      },
      "outputs": [
        {
          "output_type": "display_data",
          "data": {
            "text/plain": [
              "         seat_count  object_count       ratio\n",
              "count    115.000000    115.000000  115.000000\n",
              "mean     739.930435      6.608696  114.759081\n",
              "std     1806.480288     18.218795   43.419206\n",
              "min       75.000000      1.000000   72.333333\n",
              "25%       98.000000      1.000000   85.000000\n",
              "50%      200.000000      2.000000  100.000000\n",
              "75%      538.500000      4.000000  131.750000\n",
              "max    15054.000000    172.000000  306.000000"
            ],
            "text/html": [
              "\n",
              "  <div id=\"df-b431f35a-490c-4d70-957e-b887aed9cca2\">\n",
              "    <div class=\"colab-df-container\">\n",
              "      <div>\n",
              "<style scoped>\n",
              "    .dataframe tbody tr th:only-of-type {\n",
              "        vertical-align: middle;\n",
              "    }\n",
              "\n",
              "    .dataframe tbody tr th {\n",
              "        vertical-align: top;\n",
              "    }\n",
              "\n",
              "    .dataframe thead th {\n",
              "        text-align: right;\n",
              "    }\n",
              "</style>\n",
              "<table border=\"1\" class=\"dataframe\">\n",
              "  <thead>\n",
              "    <tr style=\"text-align: right;\">\n",
              "      <th></th>\n",
              "      <th>seat_count</th>\n",
              "      <th>object_count</th>\n",
              "      <th>ratio</th>\n",
              "    </tr>\n",
              "  </thead>\n",
              "  <tbody>\n",
              "    <tr>\n",
              "      <th>count</th>\n",
              "      <td>115.000000</td>\n",
              "      <td>115.000000</td>\n",
              "      <td>115.000000</td>\n",
              "    </tr>\n",
              "    <tr>\n",
              "      <th>mean</th>\n",
              "      <td>739.930435</td>\n",
              "      <td>6.608696</td>\n",
              "      <td>114.759081</td>\n",
              "    </tr>\n",
              "    <tr>\n",
              "      <th>std</th>\n",
              "      <td>1806.480288</td>\n",
              "      <td>18.218795</td>\n",
              "      <td>43.419206</td>\n",
              "    </tr>\n",
              "    <tr>\n",
              "      <th>min</th>\n",
              "      <td>75.000000</td>\n",
              "      <td>1.000000</td>\n",
              "      <td>72.333333</td>\n",
              "    </tr>\n",
              "    <tr>\n",
              "      <th>25%</th>\n",
              "      <td>98.000000</td>\n",
              "      <td>1.000000</td>\n",
              "      <td>85.000000</td>\n",
              "    </tr>\n",
              "    <tr>\n",
              "      <th>50%</th>\n",
              "      <td>200.000000</td>\n",
              "      <td>2.000000</td>\n",
              "      <td>100.000000</td>\n",
              "    </tr>\n",
              "    <tr>\n",
              "      <th>75%</th>\n",
              "      <td>538.500000</td>\n",
              "      <td>4.000000</td>\n",
              "      <td>131.750000</td>\n",
              "    </tr>\n",
              "    <tr>\n",
              "      <th>max</th>\n",
              "      <td>15054.000000</td>\n",
              "      <td>172.000000</td>\n",
              "      <td>306.000000</td>\n",
              "    </tr>\n",
              "  </tbody>\n",
              "</table>\n",
              "</div>\n",
              "      <button class=\"colab-df-convert\" onclick=\"convertToInteractive('df-b431f35a-490c-4d70-957e-b887aed9cca2')\"\n",
              "              title=\"Convert this dataframe to an interactive table.\"\n",
              "              style=\"display:none;\">\n",
              "        \n",
              "  <svg xmlns=\"http://www.w3.org/2000/svg\" height=\"24px\"viewBox=\"0 0 24 24\"\n",
              "       width=\"24px\">\n",
              "    <path d=\"M0 0h24v24H0V0z\" fill=\"none\"/>\n",
              "    <path d=\"M18.56 5.44l.94 2.06.94-2.06 2.06-.94-2.06-.94-.94-2.06-.94 2.06-2.06.94zm-11 1L8.5 8.5l.94-2.06 2.06-.94-2.06-.94L8.5 2.5l-.94 2.06-2.06.94zm10 10l.94 2.06.94-2.06 2.06-.94-2.06-.94-.94-2.06-.94 2.06-2.06.94z\"/><path d=\"M17.41 7.96l-1.37-1.37c-.4-.4-.92-.59-1.43-.59-.52 0-1.04.2-1.43.59L10.3 9.45l-7.72 7.72c-.78.78-.78 2.05 0 2.83L4 21.41c.39.39.9.59 1.41.59.51 0 1.02-.2 1.41-.59l7.78-7.78 2.81-2.81c.8-.78.8-2.07 0-2.86zM5.41 20L4 18.59l7.72-7.72 1.47 1.35L5.41 20z\"/>\n",
              "  </svg>\n",
              "      </button>\n",
              "      \n",
              "  <style>\n",
              "    .colab-df-container {\n",
              "      display:flex;\n",
              "      flex-wrap:wrap;\n",
              "      gap: 12px;\n",
              "    }\n",
              "\n",
              "    .colab-df-convert {\n",
              "      background-color: #E8F0FE;\n",
              "      border: none;\n",
              "      border-radius: 50%;\n",
              "      cursor: pointer;\n",
              "      display: none;\n",
              "      fill: #1967D2;\n",
              "      height: 32px;\n",
              "      padding: 0 0 0 0;\n",
              "      width: 32px;\n",
              "    }\n",
              "\n",
              "    .colab-df-convert:hover {\n",
              "      background-color: #E2EBFA;\n",
              "      box-shadow: 0px 1px 2px rgba(60, 64, 67, 0.3), 0px 1px 3px 1px rgba(60, 64, 67, 0.15);\n",
              "      fill: #174EA6;\n",
              "    }\n",
              "\n",
              "    [theme=dark] .colab-df-convert {\n",
              "      background-color: #3B4455;\n",
              "      fill: #D2E3FC;\n",
              "    }\n",
              "\n",
              "    [theme=dark] .colab-df-convert:hover {\n",
              "      background-color: #434B5C;\n",
              "      box-shadow: 0px 1px 3px 1px rgba(0, 0, 0, 0.15);\n",
              "      filter: drop-shadow(0px 1px 2px rgba(0, 0, 0, 0.3));\n",
              "      fill: #FFFFFF;\n",
              "    }\n",
              "  </style>\n",
              "\n",
              "      <script>\n",
              "        const buttonEl =\n",
              "          document.querySelector('#df-b431f35a-490c-4d70-957e-b887aed9cca2 button.colab-df-convert');\n",
              "        buttonEl.style.display =\n",
              "          google.colab.kernel.accessAllowed ? 'block' : 'none';\n",
              "\n",
              "        async function convertToInteractive(key) {\n",
              "          const element = document.querySelector('#df-b431f35a-490c-4d70-957e-b887aed9cca2');\n",
              "          const dataTable =\n",
              "            await google.colab.kernel.invokeFunction('convertToInteractive',\n",
              "                                                     [key], {});\n",
              "          if (!dataTable) return;\n",
              "\n",
              "          const docLinkHtml = 'Like what you see? Visit the ' +\n",
              "            '<a target=\"_blank\" href=https://colab.research.google.com/notebooks/data_table.ipynb>data table notebook</a>'\n",
              "            + ' to learn more about interactive tables.';\n",
              "          element.innerHTML = '';\n",
              "          dataTable['output_type'] = 'display_data';\n",
              "          await google.colab.output.renderOutput(dataTable, element);\n",
              "          const docLink = document.createElement('div');\n",
              "          docLink.innerHTML = docLinkHtml;\n",
              "          element.appendChild(docLink);\n",
              "        }\n",
              "      </script>\n",
              "    </div>\n",
              "  </div>\n",
              "  "
            ]
          },
          "metadata": {}
        },
        {
          "output_type": "execute_result",
          "data": {
            "text/plain": [
              "28"
            ]
          },
          "metadata": {},
          "execution_count": 393
        }
      ],
      "source": [
        "# посмотрим на заведения с большим количеством посадочных мест\n",
        "by_ratio = four.query('ratio > 72')\n",
        "display(by_ratio.describe())\n",
        "# сетей с большим количеством посадочных мест - 115\n",
        "\n",
        "#посчитаем количество сетей с количеством заведений больше границы 3 перцентиля (4 заведения)\n",
        "\n",
        "len(by_ratio.query('object_count > 4'))\n",
        "\n",
        "# 28 сетей"
      ]
    },
    {
      "cell_type": "code",
      "execution_count": 394,
      "id": "MMbPk-phqn6x",
      "metadata": {
        "colab": {
          "base_uri": "https://localhost:8080/",
          "height": 318
        },
        "id": "MMbPk-phqn6x",
        "outputId": "a66c5b35-61ee-4655-e014-f8c40825c3dd"
      },
      "outputs": [
        {
          "output_type": "display_data",
          "data": {
            "text/plain": [
              "         seat_count  object_count       ratio\n",
              "count    273.000000    273.000000  273.000000\n",
              "mean     263.003663      8.065934   30.020284\n",
              "std     1077.883303     23.515859   19.924716\n",
              "min        0.000000      1.000000    0.000000\n",
              "25%       22.000000      1.000000   15.000000\n",
              "50%       48.000000      1.000000   26.000000\n",
              "75%       95.000000      3.000000   45.000000\n",
              "max    10640.000000    188.000000   70.055556"
            ],
            "text/html": [
              "\n",
              "  <div id=\"df-0cf3dd69-533c-49e4-8187-7c1a0a0268d5\">\n",
              "    <div class=\"colab-df-container\">\n",
              "      <div>\n",
              "<style scoped>\n",
              "    .dataframe tbody tr th:only-of-type {\n",
              "        vertical-align: middle;\n",
              "    }\n",
              "\n",
              "    .dataframe tbody tr th {\n",
              "        vertical-align: top;\n",
              "    }\n",
              "\n",
              "    .dataframe thead th {\n",
              "        text-align: right;\n",
              "    }\n",
              "</style>\n",
              "<table border=\"1\" class=\"dataframe\">\n",
              "  <thead>\n",
              "    <tr style=\"text-align: right;\">\n",
              "      <th></th>\n",
              "      <th>seat_count</th>\n",
              "      <th>object_count</th>\n",
              "      <th>ratio</th>\n",
              "    </tr>\n",
              "  </thead>\n",
              "  <tbody>\n",
              "    <tr>\n",
              "      <th>count</th>\n",
              "      <td>273.000000</td>\n",
              "      <td>273.000000</td>\n",
              "      <td>273.000000</td>\n",
              "    </tr>\n",
              "    <tr>\n",
              "      <th>mean</th>\n",
              "      <td>263.003663</td>\n",
              "      <td>8.065934</td>\n",
              "      <td>30.020284</td>\n",
              "    </tr>\n",
              "    <tr>\n",
              "      <th>std</th>\n",
              "      <td>1077.883303</td>\n",
              "      <td>23.515859</td>\n",
              "      <td>19.924716</td>\n",
              "    </tr>\n",
              "    <tr>\n",
              "      <th>min</th>\n",
              "      <td>0.000000</td>\n",
              "      <td>1.000000</td>\n",
              "      <td>0.000000</td>\n",
              "    </tr>\n",
              "    <tr>\n",
              "      <th>25%</th>\n",
              "      <td>22.000000</td>\n",
              "      <td>1.000000</td>\n",
              "      <td>15.000000</td>\n",
              "    </tr>\n",
              "    <tr>\n",
              "      <th>50%</th>\n",
              "      <td>48.000000</td>\n",
              "      <td>1.000000</td>\n",
              "      <td>26.000000</td>\n",
              "    </tr>\n",
              "    <tr>\n",
              "      <th>75%</th>\n",
              "      <td>95.000000</td>\n",
              "      <td>3.000000</td>\n",
              "      <td>45.000000</td>\n",
              "    </tr>\n",
              "    <tr>\n",
              "      <th>max</th>\n",
              "      <td>10640.000000</td>\n",
              "      <td>188.000000</td>\n",
              "      <td>70.055556</td>\n",
              "    </tr>\n",
              "  </tbody>\n",
              "</table>\n",
              "</div>\n",
              "      <button class=\"colab-df-convert\" onclick=\"convertToInteractive('df-0cf3dd69-533c-49e4-8187-7c1a0a0268d5')\"\n",
              "              title=\"Convert this dataframe to an interactive table.\"\n",
              "              style=\"display:none;\">\n",
              "        \n",
              "  <svg xmlns=\"http://www.w3.org/2000/svg\" height=\"24px\"viewBox=\"0 0 24 24\"\n",
              "       width=\"24px\">\n",
              "    <path d=\"M0 0h24v24H0V0z\" fill=\"none\"/>\n",
              "    <path d=\"M18.56 5.44l.94 2.06.94-2.06 2.06-.94-2.06-.94-.94-2.06-.94 2.06-2.06.94zm-11 1L8.5 8.5l.94-2.06 2.06-.94-2.06-.94L8.5 2.5l-.94 2.06-2.06.94zm10 10l.94 2.06.94-2.06 2.06-.94-2.06-.94-.94-2.06-.94 2.06-2.06.94z\"/><path d=\"M17.41 7.96l-1.37-1.37c-.4-.4-.92-.59-1.43-.59-.52 0-1.04.2-1.43.59L10.3 9.45l-7.72 7.72c-.78.78-.78 2.05 0 2.83L4 21.41c.39.39.9.59 1.41.59.51 0 1.02-.2 1.41-.59l7.78-7.78 2.81-2.81c.8-.78.8-2.07 0-2.86zM5.41 20L4 18.59l7.72-7.72 1.47 1.35L5.41 20z\"/>\n",
              "  </svg>\n",
              "      </button>\n",
              "      \n",
              "  <style>\n",
              "    .colab-df-container {\n",
              "      display:flex;\n",
              "      flex-wrap:wrap;\n",
              "      gap: 12px;\n",
              "    }\n",
              "\n",
              "    .colab-df-convert {\n",
              "      background-color: #E8F0FE;\n",
              "      border: none;\n",
              "      border-radius: 50%;\n",
              "      cursor: pointer;\n",
              "      display: none;\n",
              "      fill: #1967D2;\n",
              "      height: 32px;\n",
              "      padding: 0 0 0 0;\n",
              "      width: 32px;\n",
              "    }\n",
              "\n",
              "    .colab-df-convert:hover {\n",
              "      background-color: #E2EBFA;\n",
              "      box-shadow: 0px 1px 2px rgba(60, 64, 67, 0.3), 0px 1px 3px 1px rgba(60, 64, 67, 0.15);\n",
              "      fill: #174EA6;\n",
              "    }\n",
              "\n",
              "    [theme=dark] .colab-df-convert {\n",
              "      background-color: #3B4455;\n",
              "      fill: #D2E3FC;\n",
              "    }\n",
              "\n",
              "    [theme=dark] .colab-df-convert:hover {\n",
              "      background-color: #434B5C;\n",
              "      box-shadow: 0px 1px 3px 1px rgba(0, 0, 0, 0.15);\n",
              "      filter: drop-shadow(0px 1px 2px rgba(0, 0, 0, 0.3));\n",
              "      fill: #FFFFFF;\n",
              "    }\n",
              "  </style>\n",
              "\n",
              "      <script>\n",
              "        const buttonEl =\n",
              "          document.querySelector('#df-0cf3dd69-533c-49e4-8187-7c1a0a0268d5 button.colab-df-convert');\n",
              "        buttonEl.style.display =\n",
              "          google.colab.kernel.accessAllowed ? 'block' : 'none';\n",
              "\n",
              "        async function convertToInteractive(key) {\n",
              "          const element = document.querySelector('#df-0cf3dd69-533c-49e4-8187-7c1a0a0268d5');\n",
              "          const dataTable =\n",
              "            await google.colab.kernel.invokeFunction('convertToInteractive',\n",
              "                                                     [key], {});\n",
              "          if (!dataTable) return;\n",
              "\n",
              "          const docLinkHtml = 'Like what you see? Visit the ' +\n",
              "            '<a target=\"_blank\" href=https://colab.research.google.com/notebooks/data_table.ipynb>data table notebook</a>'\n",
              "            + ' to learn more about interactive tables.';\n",
              "          element.innerHTML = '';\n",
              "          dataTable['output_type'] = 'display_data';\n",
              "          await google.colab.output.renderOutput(dataTable, element);\n",
              "          const docLink = document.createElement('div');\n",
              "          docLink.innerHTML = docLinkHtml;\n",
              "          element.appendChild(docLink);\n",
              "        }\n",
              "      </script>\n",
              "    </div>\n",
              "  </div>\n",
              "  "
            ]
          },
          "metadata": {}
        },
        {
          "output_type": "execute_result",
          "data": {
            "text/plain": [
              "68"
            ]
          },
          "metadata": {},
          "execution_count": 394
        }
      ],
      "source": [
        "# посмотрим на заведения с малым количеством посадочных мест\n",
        "by_count = four.query('ratio < 72')\n",
        "display(by_count.describe())\n",
        "\n",
        "# сетей с малым количеством посадочных мест - 276\n",
        "\n",
        "#посчитаем количество сетей с количеством заведений больше границы 3 перцентиля (3 заведения)\n",
        "len(by_count.query('object_count > 3'))\n",
        "\n",
        "# 68 сетей"
      ]
    },
    {
      "cell_type": "markdown",
      "id": "8r1tnd8wtxvz",
      "metadata": {
        "id": "8r1tnd8wtxvz"
      },
      "source": [
        "### Вывод\n",
        "Для сетевых заведений более характерно наличие большего числа заведений с небольшим числом посадочных мест в каждом, нежели чем малого количества заведений с большим количеством посадочных мест.\n",
        "Что касается отношения количества посадочных мест и количества заведений одной сети, то зависимость показателей друг от друга не прослеживается."
      ]
    },
    {
      "cell_type": "markdown",
      "id": "fRW4C_XBwtSA",
      "metadata": {
        "id": "fRW4C_XBwtSA"
      },
      "source": [
        "## Задача 5\n",
        "Для каждого вида объекта общественного питания опишите среднее количество посадочных мест. Какой вид предоставляет в среднем самое большое количество посадочных мест? Постройте графики.\n",
        "<a name=\"five\"></a>"
      ]
    },
    {
      "cell_type": "code",
      "execution_count": 395,
      "id": "ZIq0U-ytwuLW",
      "metadata": {
        "colab": {
          "base_uri": "https://localhost:8080/",
          "height": 332
        },
        "id": "ZIq0U-ytwuLW",
        "outputId": "5cd9b611-925b-463d-b7f4-03ac8e5f4b04"
      },
      "outputs": [
        {
          "output_type": "execute_result",
          "data": {
            "text/plain": [
              "                         object_type      number\n",
              "8                           столовая  130.337848\n",
              "7                           ресторан   96.884750\n",
              "1                              буфет   51.509532\n",
              "0                                бар   43.533333\n",
              "3                               кафе   39.785703\n",
              "6  предприятие быстрого обслуживания   20.808219\n",
              "4                          кафетерий    9.184810\n",
              "2                         закусочная    7.825215\n",
              "5          магазин (отдел кулинарии)    5.589744"
            ],
            "text/html": [
              "\n",
              "  <div id=\"df-9305e0c7-a127-489c-a804-37c1700eb3d9\">\n",
              "    <div class=\"colab-df-container\">\n",
              "      <div>\n",
              "<style scoped>\n",
              "    .dataframe tbody tr th:only-of-type {\n",
              "        vertical-align: middle;\n",
              "    }\n",
              "\n",
              "    .dataframe tbody tr th {\n",
              "        vertical-align: top;\n",
              "    }\n",
              "\n",
              "    .dataframe thead th {\n",
              "        text-align: right;\n",
              "    }\n",
              "</style>\n",
              "<table border=\"1\" class=\"dataframe\">\n",
              "  <thead>\n",
              "    <tr style=\"text-align: right;\">\n",
              "      <th></th>\n",
              "      <th>object_type</th>\n",
              "      <th>number</th>\n",
              "    </tr>\n",
              "  </thead>\n",
              "  <tbody>\n",
              "    <tr>\n",
              "      <th>8</th>\n",
              "      <td>столовая</td>\n",
              "      <td>130.337848</td>\n",
              "    </tr>\n",
              "    <tr>\n",
              "      <th>7</th>\n",
              "      <td>ресторан</td>\n",
              "      <td>96.884750</td>\n",
              "    </tr>\n",
              "    <tr>\n",
              "      <th>1</th>\n",
              "      <td>буфет</td>\n",
              "      <td>51.509532</td>\n",
              "    </tr>\n",
              "    <tr>\n",
              "      <th>0</th>\n",
              "      <td>бар</td>\n",
              "      <td>43.533333</td>\n",
              "    </tr>\n",
              "    <tr>\n",
              "      <th>3</th>\n",
              "      <td>кафе</td>\n",
              "      <td>39.785703</td>\n",
              "    </tr>\n",
              "    <tr>\n",
              "      <th>6</th>\n",
              "      <td>предприятие быстрого обслуживания</td>\n",
              "      <td>20.808219</td>\n",
              "    </tr>\n",
              "    <tr>\n",
              "      <th>4</th>\n",
              "      <td>кафетерий</td>\n",
              "      <td>9.184810</td>\n",
              "    </tr>\n",
              "    <tr>\n",
              "      <th>2</th>\n",
              "      <td>закусочная</td>\n",
              "      <td>7.825215</td>\n",
              "    </tr>\n",
              "    <tr>\n",
              "      <th>5</th>\n",
              "      <td>магазин (отдел кулинарии)</td>\n",
              "      <td>5.589744</td>\n",
              "    </tr>\n",
              "  </tbody>\n",
              "</table>\n",
              "</div>\n",
              "      <button class=\"colab-df-convert\" onclick=\"convertToInteractive('df-9305e0c7-a127-489c-a804-37c1700eb3d9')\"\n",
              "              title=\"Convert this dataframe to an interactive table.\"\n",
              "              style=\"display:none;\">\n",
              "        \n",
              "  <svg xmlns=\"http://www.w3.org/2000/svg\" height=\"24px\"viewBox=\"0 0 24 24\"\n",
              "       width=\"24px\">\n",
              "    <path d=\"M0 0h24v24H0V0z\" fill=\"none\"/>\n",
              "    <path d=\"M18.56 5.44l.94 2.06.94-2.06 2.06-.94-2.06-.94-.94-2.06-.94 2.06-2.06.94zm-11 1L8.5 8.5l.94-2.06 2.06-.94-2.06-.94L8.5 2.5l-.94 2.06-2.06.94zm10 10l.94 2.06.94-2.06 2.06-.94-2.06-.94-.94-2.06-.94 2.06-2.06.94z\"/><path d=\"M17.41 7.96l-1.37-1.37c-.4-.4-.92-.59-1.43-.59-.52 0-1.04.2-1.43.59L10.3 9.45l-7.72 7.72c-.78.78-.78 2.05 0 2.83L4 21.41c.39.39.9.59 1.41.59.51 0 1.02-.2 1.41-.59l7.78-7.78 2.81-2.81c.8-.78.8-2.07 0-2.86zM5.41 20L4 18.59l7.72-7.72 1.47 1.35L5.41 20z\"/>\n",
              "  </svg>\n",
              "      </button>\n",
              "      \n",
              "  <style>\n",
              "    .colab-df-container {\n",
              "      display:flex;\n",
              "      flex-wrap:wrap;\n",
              "      gap: 12px;\n",
              "    }\n",
              "\n",
              "    .colab-df-convert {\n",
              "      background-color: #E8F0FE;\n",
              "      border: none;\n",
              "      border-radius: 50%;\n",
              "      cursor: pointer;\n",
              "      display: none;\n",
              "      fill: #1967D2;\n",
              "      height: 32px;\n",
              "      padding: 0 0 0 0;\n",
              "      width: 32px;\n",
              "    }\n",
              "\n",
              "    .colab-df-convert:hover {\n",
              "      background-color: #E2EBFA;\n",
              "      box-shadow: 0px 1px 2px rgba(60, 64, 67, 0.3), 0px 1px 3px 1px rgba(60, 64, 67, 0.15);\n",
              "      fill: #174EA6;\n",
              "    }\n",
              "\n",
              "    [theme=dark] .colab-df-convert {\n",
              "      background-color: #3B4455;\n",
              "      fill: #D2E3FC;\n",
              "    }\n",
              "\n",
              "    [theme=dark] .colab-df-convert:hover {\n",
              "      background-color: #434B5C;\n",
              "      box-shadow: 0px 1px 3px 1px rgba(0, 0, 0, 0.15);\n",
              "      filter: drop-shadow(0px 1px 2px rgba(0, 0, 0, 0.3));\n",
              "      fill: #FFFFFF;\n",
              "    }\n",
              "  </style>\n",
              "\n",
              "      <script>\n",
              "        const buttonEl =\n",
              "          document.querySelector('#df-9305e0c7-a127-489c-a804-37c1700eb3d9 button.colab-df-convert');\n",
              "        buttonEl.style.display =\n",
              "          google.colab.kernel.accessAllowed ? 'block' : 'none';\n",
              "\n",
              "        async function convertToInteractive(key) {\n",
              "          const element = document.querySelector('#df-9305e0c7-a127-489c-a804-37c1700eb3d9');\n",
              "          const dataTable =\n",
              "            await google.colab.kernel.invokeFunction('convertToInteractive',\n",
              "                                                     [key], {});\n",
              "          if (!dataTable) return;\n",
              "\n",
              "          const docLinkHtml = 'Like what you see? Visit the ' +\n",
              "            '<a target=\"_blank\" href=https://colab.research.google.com/notebooks/data_table.ipynb>data table notebook</a>'\n",
              "            + ' to learn more about interactive tables.';\n",
              "          element.innerHTML = '';\n",
              "          dataTable['output_type'] = 'display_data';\n",
              "          await google.colab.output.renderOutput(dataTable, element);\n",
              "          const docLink = document.createElement('div');\n",
              "          docLink.innerHTML = docLinkHtml;\n",
              "          element.appendChild(docLink);\n",
              "        }\n",
              "      </script>\n",
              "    </div>\n",
              "  </div>\n",
              "  "
            ]
          },
          "metadata": {},
          "execution_count": 395
        }
      ],
      "source": [
        "# посчитаем среднее количество посадочных мест для каждого вида объекта общественного питания\n",
        "five = data.groupby('object_type', as_index=False).agg({'number':'mean'}).sort_values(by='number', ascending=False)\n",
        "five"
      ]
    },
    {
      "cell_type": "code",
      "execution_count": 396,
      "id": "sp8zmSGbxeIV",
      "metadata": {
        "colab": {
          "base_uri": "https://localhost:8080/",
          "height": 826
        },
        "id": "sp8zmSGbxeIV",
        "outputId": "3bd2ab7c-6ea8-4d51-bb21-f0e49f07a9ba"
      },
      "outputs": [
        {
          "output_type": "display_data",
          "data": {
            "text/plain": [
              "<Figure size 1000x600 with 1 Axes>"
            ],
            "image/png": "[encoded data removed]"
          },
          "metadata": {}
        }
      ],
      "source": [
        "plt.figure(\n",
        "    figsize=(10, 6)\n",
        ")\n",
        "sns.set_palette('deep')\n",
        "ax = sns.barplot(x='object_type', y='number', data=five)\n",
        "plt.xticks(rotation=75)\n",
        "ax.set_title('Соотношение среднего количества посадочных мест') \n",
        "ax.set_xlabel('Вид объекта')\n",
        "ax.set_ylabel('Среднее кол-во мест') \n",
        "plt.show()"
      ]
    },
    {
      "cell_type": "markdown",
      "id": "LCPFEVqAx4up",
      "metadata": {
        "id": "LCPFEVqAx4up"
      },
      "source": [
        "## Вывод\n",
        "Самое большое среднее количество посадочных мест предоставляют столовые — 130, далее следуют рестораны (почти 97 мест) и буфет(51 место). Меньше всего мест в кафетериях, закусочных и магазинах — 9, 7 и 5 соответственно. "
      ]
    },
    {
      "cell_type": "markdown",
      "id": "9t7bdAIMycyT",
      "metadata": {
        "id": "9t7bdAIMycyT"
      },
      "source": [
        "## Задача 6\n",
        "Выделите в отдельный столбец информацию об улице из столбца address.\n",
        "<a name=\"six\"></a>\n"
      ]
    },
    {
      "cell_type": "code",
      "execution_count": 397,
      "id": "iR764b7QyjHt",
      "metadata": {
        "colab": {
          "base_uri": "https://localhost:8080/",
          "height": 313
        },
        "id": "iR764b7QyjHt",
        "outputId": "5a897d6b-af11-4b41-cfd7-030637053407"
      },
      "outputs": [
        {
          "output_type": "display_data",
          "data": {
            "text/plain": [
              "0     улица Егора Абакумова\n",
              "1          улица Талалихина\n",
              "2      Абельмановская улица\n",
              "3        Абрамцевская улица\n",
              "4        Абрамцевская улица\n",
              "Name: 1, dtype: object"
            ]
          },
          "metadata": {}
        },
        {
          "output_type": "execute_result",
          "data": {
            "text/plain": [
              "       id             object_name  chain object_type  \\\n",
              "0  151635                 СМЕТАНА  False        кафе   \n",
              "1   77874                  Родник  False        кафе   \n",
              "2   24309         Кафе «Академия»  False        кафе   \n",
              "3   21894              ПИЦЦЕТОРИЯ   True        кафе   \n",
              "4  119365  Кафе «Вишневая метель»  False        кафе   \n",
              "\n",
              "                                             address  number  \\\n",
              "0         город Москва, улица Егора Абакумова, дом 9      48   \n",
              "1  город Москва, улица Талалихина, дом 2/1, корпус 1      35   \n",
              "2          город Москва, Абельмановская улица, дом 6      95   \n",
              "3            город Москва, Абрамцевская улица, дом 1      40   \n",
              "4  город Москва, Абрамцевская улица, дом 9, корпус 1      50   \n",
              "\n",
              "                   street  \n",
              "0   улица Егора Абакумова  \n",
              "1        улица Талалихина  \n",
              "2    Абельмановская улица  \n",
              "3      Абрамцевская улица  \n",
              "4      Абрамцевская улица  "
            ],
            "text/html": [
              "\n",
              "  <div id=\"df-c97346ac-e110-4fff-b4fc-2b1d924410d8\">\n",
              "    <div class=\"colab-df-container\">\n",
              "      <div>\n",
              "<style scoped>\n",
              "    .dataframe tbody tr th:only-of-type {\n",
              "        vertical-align: middle;\n",
              "    }\n",
              "\n",
              "    .dataframe tbody tr th {\n",
              "        vertical-align: top;\n",
              "    }\n",
              "\n",
              "    .dataframe thead th {\n",
              "        text-align: right;\n",
              "    }\n",
              "</style>\n",
              "<table border=\"1\" class=\"dataframe\">\n",
              "  <thead>\n",
              "    <tr style=\"text-align: right;\">\n",
              "      <th></th>\n",
              "      <th>id</th>\n",
              "      <th>object_name</th>\n",
              "      <th>chain</th>\n",
              "      <th>object_type</th>\n",
              "      <th>address</th>\n",
              "      <th>number</th>\n",
              "      <th>street</th>\n",
              "    </tr>\n",
              "  </thead>\n",
              "  <tbody>\n",
              "    <tr>\n",
              "      <th>0</th>\n",
              "      <td>151635</td>\n",
              "      <td>СМЕТАНА</td>\n",
              "      <td>False</td>\n",
              "      <td>кафе</td>\n",
              "      <td>город Москва, улица Егора Абакумова, дом 9</td>\n",
              "      <td>48</td>\n",
              "      <td>улица Егора Абакумова</td>\n",
              "    </tr>\n",
              "    <tr>\n",
              "      <th>1</th>\n",
              "      <td>77874</td>\n",
              "      <td>Родник</td>\n",
              "      <td>False</td>\n",
              "      <td>кафе</td>\n",
              "      <td>город Москва, улица Талалихина, дом 2/1, корпус 1</td>\n",
              "      <td>35</td>\n",
              "      <td>улица Талалихина</td>\n",
              "    </tr>\n",
              "    <tr>\n",
              "      <th>2</th>\n",
              "      <td>24309</td>\n",
              "      <td>Кафе «Академия»</td>\n",
              "      <td>False</td>\n",
              "      <td>кафе</td>\n",
              "      <td>город Москва, Абельмановская улица, дом 6</td>\n",
              "      <td>95</td>\n",
              "      <td>Абельмановская улица</td>\n",
              "    </tr>\n",
              "    <tr>\n",
              "      <th>3</th>\n",
              "      <td>21894</td>\n",
              "      <td>ПИЦЦЕТОРИЯ</td>\n",
              "      <td>True</td>\n",
              "      <td>кафе</td>\n",
              "      <td>город Москва, Абрамцевская улица, дом 1</td>\n",
              "      <td>40</td>\n",
              "      <td>Абрамцевская улица</td>\n",
              "    </tr>\n",
              "    <tr>\n",
              "      <th>4</th>\n",
              "      <td>119365</td>\n",
              "      <td>Кафе «Вишневая метель»</td>\n",
              "      <td>False</td>\n",
              "      <td>кафе</td>\n",
              "      <td>город Москва, Абрамцевская улица, дом 9, корпус 1</td>\n",
              "      <td>50</td>\n",
              "      <td>Абрамцевская улица</td>\n",
              "    </tr>\n",
              "  </tbody>\n",
              "</table>\n",
              "</div>\n",
              "      <button class=\"colab-df-convert\" onclick=\"convertToInteractive('df-c97346ac-e110-4fff-b4fc-2b1d924410d8')\"\n",
              "              title=\"Convert this dataframe to an interactive table.\"\n",
              "              style=\"display:none;\">\n",
              "        \n",
              "  <svg xmlns=\"http://www.w3.org/2000/svg\" height=\"24px\"viewBox=\"0 0 24 24\"\n",
              "       width=\"24px\">\n",
              "    <path d=\"M0 0h24v24H0V0z\" fill=\"none\"/>\n",
              "    <path d=\"M18.56 5.44l.94 2.06.94-2.06 2.06-.94-2.06-.94-.94-2.06-.94 2.06-2.06.94zm-11 1L8.5 8.5l.94-2.06 2.06-.94-2.06-.94L8.5 2.5l-.94 2.06-2.06.94zm10 10l.94 2.06.94-2.06 2.06-.94-2.06-.94-.94-2.06-.94 2.06-2.06.94z\"/><path d=\"M17.41 7.96l-1.37-1.37c-.4-.4-.92-.59-1.43-.59-.52 0-1.04.2-1.43.59L10.3 9.45l-7.72 7.72c-.78.78-.78 2.05 0 2.83L4 21.41c.39.39.9.59 1.41.59.51 0 1.02-.2 1.41-.59l7.78-7.78 2.81-2.81c.8-.78.8-2.07 0-2.86zM5.41 20L4 18.59l7.72-7.72 1.47 1.35L5.41 20z\"/>\n",
              "  </svg>\n",
              "      </button>\n",
              "      \n",
              "  <style>\n",
              "    .colab-df-container {\n",
              "      display:flex;\n",
              "      flex-wrap:wrap;\n",
              "      gap: 12px;\n",
              "    }\n",
              "\n",
              "    .colab-df-convert {\n",
              "      background-color: #E8F0FE;\n",
              "      border: none;\n",
              "      border-radius: 50%;\n",
              "      cursor: pointer;\n",
              "      display: none;\n",
              "      fill: #1967D2;\n",
              "      height: 32px;\n",
              "      padding: 0 0 0 0;\n",
              "      width: 32px;\n",
              "    }\n",
              "\n",
              "    .colab-df-convert:hover {\n",
              "      background-color: #E2EBFA;\n",
              "      box-shadow: 0px 1px 2px rgba(60, 64, 67, 0.3), 0px 1px 3px 1px rgba(60, 64, 67, 0.15);\n",
              "      fill: #174EA6;\n",
              "    }\n",
              "\n",
              "    [theme=dark] .colab-df-convert {\n",
              "      background-color: #3B4455;\n",
              "      fill: #D2E3FC;\n",
              "    }\n",
              "\n",
              "    [theme=dark] .colab-df-convert:hover {\n",
              "      background-color: #434B5C;\n",
              "      box-shadow: 0px 1px 3px 1px rgba(0, 0, 0, 0.15);\n",
              "      filter: drop-shadow(0px 1px 2px rgba(0, 0, 0, 0.3));\n",
              "      fill: #FFFFFF;\n",
              "    }\n",
              "  </style>\n",
              "\n",
              "      <script>\n",
              "        const buttonEl =\n",
              "          document.querySelector('#df-c97346ac-e110-4fff-b4fc-2b1d924410d8 button.colab-df-convert');\n",
              "        buttonEl.style.display =\n",
              "          google.colab.kernel.accessAllowed ? 'block' : 'none';\n",
              "\n",
              "        async function convertToInteractive(key) {\n",
              "          const element = document.querySelector('#df-c97346ac-e110-4fff-b4fc-2b1d924410d8');\n",
              "          const dataTable =\n",
              "            await google.colab.kernel.invokeFunction('convertToInteractive',\n",
              "                                                     [key], {});\n",
              "          if (!dataTable) return;\n",
              "\n",
              "          const docLinkHtml = 'Like what you see? Visit the ' +\n",
              "            '<a target=\"_blank\" href=https://colab.research.google.com/notebooks/data_table.ipynb>data table notebook</a>'\n",
              "            + ' to learn more about interactive tables.';\n",
              "          element.innerHTML = '';\n",
              "          dataTable['output_type'] = 'display_data';\n",
              "          await google.colab.output.renderOutput(dataTable, element);\n",
              "          const docLink = document.createElement('div');\n",
              "          docLink.innerHTML = docLinkHtml;\n",
              "          element.appendChild(docLink);\n",
              "        }\n",
              "      </script>\n",
              "    </div>\n",
              "  </div>\n",
              "  "
            ]
          },
          "metadata": {},
          "execution_count": 397
        }
      ],
      "source": [
        "# выделим улицу\n",
        "address = data['address'].str.split(',', expand=True)\n",
        "display(address[1].head())\n",
        "\n",
        "# присоединим столбец с улицей в талицу data\n",
        "data = data.join(address[[1]])\n",
        "data = data.rename(\n",
        "columns={\n",
        "1: 'street',}\n",
        ")\n",
        "data.head()"
      ]
    },
    {
      "cell_type": "markdown",
      "id": "PMqyaGes1yDg",
      "metadata": {
        "id": "PMqyaGes1yDg"
      },
      "source": [
        "## Задача 7\n",
        "Постройте график топ-10 улиц по количеству объектов общественного питания. Воспользуйтесь внешней информацией и ответьте на вопрос — в каких районах Москвы находятся эти улицы?\n",
        "<a name=\"seven\"></a>"
      ]
    },
    {
      "cell_type": "code",
      "execution_count": 398,
      "id": "a7ec3db4",
      "metadata": {
        "colab": {
          "base_uri": "https://localhost:8080/",
          "height": 583
        },
        "id": "a7ec3db4",
        "outputId": "0b7cf1dd-95ff-4d4a-9564-a24f5911acc2"
      },
      "outputs": [
        {
          "output_type": "execute_result",
          "data": {
            "text/plain": [
              "       id             object_name  chain object_type  \\\n",
              "0  151635                 СМЕТАНА  False        кафе   \n",
              "1   77874                  Родник  False        кафе   \n",
              "2   24309         Кафе «Академия»  False        кафе   \n",
              "3   21894              ПИЦЦЕТОРИЯ   True        кафе   \n",
              "4  119365  Кафе «Вишневая метель»  False        кафе   \n",
              "\n",
              "                                             address  number  \\\n",
              "0         город Москва, улица Егора Абакумова, дом 9      48   \n",
              "1  город Москва, улица Талалихина, дом 2/1, корпус 1      35   \n",
              "2          город Москва, Абельмановская улица, дом 6      95   \n",
              "3            город Москва, Абрамцевская улица, дом 1      40   \n",
              "4  город Москва, Абрамцевская улица, дом 9, корпус 1      50   \n",
              "\n",
              "                   street             Name    global_id IsNetObject  \\\n",
              "0   улица Егора Абакумова          СМЕТАНА  637376221.0         нет   \n",
              "1        улица Талалихина           Родник  637376331.0         нет   \n",
              "2    Абельмановская улица  Кафе \"Академия\"  637376349.0         нет   \n",
              "3      Абрамцевская улица              NaN          NaN         NaN   \n",
              "4      Абрамцевская улица              NaN          NaN         NaN   \n",
              "\n",
              "  OperatingCompany TypeObject                                  AdmArea  \\\n",
              "0              NaN       кафе  Северо-Восточный административный округ   \n",
              "1              NaN       кафе       Центральный административный округ   \n",
              "2              NaN   ресторан       Центральный административный округ   \n",
              "3              NaN        NaN                                      NaN   \n",
              "4              NaN        NaN                                      NaN   \n",
              "\n",
              "            District                                            Address  \\\n",
              "0  Ярославский район         город Москва, улица Егора Абакумова, дом 9   \n",
              "1    Таганский район  город Москва, улица Талалихина, дом 2/1, корпус 1   \n",
              "2    Таганский район  Российская Федерация, город Москва, внутригоро...   \n",
              "3                NaN                                                NaN   \n",
              "4                NaN                                                NaN   \n",
              "\n",
              "                       PublicPhone  SeatsCount SocialPrivileges  \\\n",
              "0  PublicPhone:(499) 183-14-10\\n\\n        48.0              нет   \n",
              "1  PublicPhone:(495) 676-55-35\\n\\n        35.0              нет   \n",
              "2  PublicPhone:(495) 662-30-10\\n\\n        95.0              нет   \n",
              "3                              NaN         NaN              NaN   \n",
              "4                              NaN         NaN              NaN   \n",
              "\n",
              "   Longitude_WGS84  Latitude_WGS84  \n",
              "0        37.714565       55.879002  \n",
              "1        37.673306       55.738239  \n",
              "2        37.669648       55.735511  \n",
              "3              NaN             NaN  \n",
              "4              NaN             NaN  "
            ],
            "text/html": [
              "\n",
              "  <div id=\"df-8528cc08-a529-44f8-a63e-79660e52020c\">\n",
              "    <div class=\"colab-df-container\">\n",
              "      <div>\n",
              "<style scoped>\n",
              "    .dataframe tbody tr th:only-of-type {\n",
              "        vertical-align: middle;\n",
              "    }\n",
              "\n",
              "    .dataframe tbody tr th {\n",
              "        vertical-align: top;\n",
              "    }\n",
              "\n",
              "    .dataframe thead th {\n",
              "        text-align: right;\n",
              "    }\n",
              "</style>\n",
              "<table border=\"1\" class=\"dataframe\">\n",
              "  <thead>\n",
              "    <tr style=\"text-align: right;\">\n",
              "      <th></th>\n",
              "      <th>id</th>\n",
              "      <th>object_name</th>\n",
              "      <th>chain</th>\n",
              "      <th>object_type</th>\n",
              "      <th>address</th>\n",
              "      <th>number</th>\n",
              "      <th>street</th>\n",
              "      <th>Name</th>\n",
              "      <th>global_id</th>\n",
              "      <th>IsNetObject</th>\n",
              "      <th>OperatingCompany</th>\n",
              "      <th>TypeObject</th>\n",
              "      <th>AdmArea</th>\n",
              "      <th>District</th>\n",
              "      <th>Address</th>\n",
              "      <th>PublicPhone</th>\n",
              "      <th>SeatsCount</th>\n",
              "      <th>SocialPrivileges</th>\n",
              "      <th>Longitude_WGS84</th>\n",
              "      <th>Latitude_WGS84</th>\n",
              "    </tr>\n",
              "  </thead>\n",
              "  <tbody>\n",
              "    <tr>\n",
              "      <th>0</th>\n",
              "      <td>151635</td>\n",
              "      <td>СМЕТАНА</td>\n",
              "      <td>False</td>\n",
              "      <td>кафе</td>\n",
              "      <td>город Москва, улица Егора Абакумова, дом 9</td>\n",
              "      <td>48</td>\n",
              "      <td>улица Егора Абакумова</td>\n",
              "      <td>СМЕТАНА</td>\n",
              "      <td>637376221.0</td>\n",
              "      <td>нет</td>\n",
              "      <td>NaN</td>\n",
              "      <td>кафе</td>\n",
              "      <td>Северо-Восточный административный округ</td>\n",
              "      <td>Ярославский район</td>\n",
              "      <td>город Москва, улица Егора Абакумова, дом 9</td>\n",
              "      <td>PublicPhone:(499) 183-14-10\\n\\n</td>\n",
              "      <td>48.0</td>\n",
              "      <td>нет</td>\n",
              "      <td>37.714565</td>\n",
              "      <td>55.879002</td>\n",
              "    </tr>\n",
              "    <tr>\n",
              "      <th>1</th>\n",
              "      <td>77874</td>\n",
              "      <td>Родник</td>\n",
              "      <td>False</td>\n",
              "      <td>кафе</td>\n",
              "      <td>город Москва, улица Талалихина, дом 2/1, корпус 1</td>\n",
              "      <td>35</td>\n",
              "      <td>улица Талалихина</td>\n",
              "      <td>Родник</td>\n",
              "      <td>637376331.0</td>\n",
              "      <td>нет</td>\n",
              "      <td>NaN</td>\n",
              "      <td>кафе</td>\n",
              "      <td>Центральный административный округ</td>\n",
              "      <td>Таганский район</td>\n",
              "      <td>город Москва, улица Талалихина, дом 2/1, корпус 1</td>\n",
              "      <td>PublicPhone:(495) 676-55-35\\n\\n</td>\n",
              "      <td>35.0</td>\n",
              "      <td>нет</td>\n",
              "      <td>37.673306</td>\n",
              "      <td>55.738239</td>\n",
              "    </tr>\n",
              "    <tr>\n",
              "      <th>2</th>\n",
              "      <td>24309</td>\n",
              "      <td>Кафе «Академия»</td>\n",
              "      <td>False</td>\n",
              "      <td>кафе</td>\n",
              "      <td>город Москва, Абельмановская улица, дом 6</td>\n",
              "      <td>95</td>\n",
              "      <td>Абельмановская улица</td>\n",
              "      <td>Кафе \"Академия\"</td>\n",
              "      <td>637376349.0</td>\n",
              "      <td>нет</td>\n",
              "      <td>NaN</td>\n",
              "      <td>ресторан</td>\n",
              "      <td>Центральный административный округ</td>\n",
              "      <td>Таганский район</td>\n",
              "      <td>Российская Федерация, город Москва, внутригоро...</td>\n",
              "      <td>PublicPhone:(495) 662-30-10\\n\\n</td>\n",
              "      <td>95.0</td>\n",
              "      <td>нет</td>\n",
              "      <td>37.669648</td>\n",
              "      <td>55.735511</td>\n",
              "    </tr>\n",
              "    <tr>\n",
              "      <th>3</th>\n",
              "      <td>21894</td>\n",
              "      <td>ПИЦЦЕТОРИЯ</td>\n",
              "      <td>True</td>\n",
              "      <td>кафе</td>\n",
              "      <td>город Москва, Абрамцевская улица, дом 1</td>\n",
              "      <td>40</td>\n",
              "      <td>Абрамцевская улица</td>\n",
              "      <td>NaN</td>\n",
              "      <td>NaN</td>\n",
              "      <td>NaN</td>\n",
              "      <td>NaN</td>\n",
              "      <td>NaN</td>\n",
              "      <td>NaN</td>\n",
              "      <td>NaN</td>\n",
              "      <td>NaN</td>\n",
              "      <td>NaN</td>\n",
              "      <td>NaN</td>\n",
              "      <td>NaN</td>\n",
              "      <td>NaN</td>\n",
              "      <td>NaN</td>\n",
              "    </tr>\n",
              "    <tr>\n",
              "      <th>4</th>\n",
              "      <td>119365</td>\n",
              "      <td>Кафе «Вишневая метель»</td>\n",
              "      <td>False</td>\n",
              "      <td>кафе</td>\n",
              "      <td>город Москва, Абрамцевская улица, дом 9, корпус 1</td>\n",
              "      <td>50</td>\n",
              "      <td>Абрамцевская улица</td>\n",
              "      <td>NaN</td>\n",
              "      <td>NaN</td>\n",
              "      <td>NaN</td>\n",
              "      <td>NaN</td>\n",
              "      <td>NaN</td>\n",
              "      <td>NaN</td>\n",
              "      <td>NaN</td>\n",
              "      <td>NaN</td>\n",
              "      <td>NaN</td>\n",
              "      <td>NaN</td>\n",
              "      <td>NaN</td>\n",
              "      <td>NaN</td>\n",
              "      <td>NaN</td>\n",
              "    </tr>\n",
              "  </tbody>\n",
              "</table>\n",
              "</div>\n",
              "      <button class=\"colab-df-convert\" onclick=\"convertToInteractive('df-8528cc08-a529-44f8-a63e-79660e52020c')\"\n",
              "              title=\"Convert this dataframe to an interactive table.\"\n",
              "              style=\"display:none;\">\n",
              "        \n",
              "  <svg xmlns=\"http://www.w3.org/2000/svg\" height=\"24px\"viewBox=\"0 0 24 24\"\n",
              "       width=\"24px\">\n",
              "    <path d=\"M0 0h24v24H0V0z\" fill=\"none\"/>\n",
              "    <path d=\"M18.56 5.44l.94 2.06.94-2.06 2.06-.94-2.06-.94-.94-2.06-.94 2.06-2.06.94zm-11 1L8.5 8.5l.94-2.06 2.06-.94-2.06-.94L8.5 2.5l-.94 2.06-2.06.94zm10 10l.94 2.06.94-2.06 2.06-.94-2.06-.94-.94-2.06-.94 2.06-2.06.94z\"/><path d=\"M17.41 7.96l-1.37-1.37c-.4-.4-.92-.59-1.43-.59-.52 0-1.04.2-1.43.59L10.3 9.45l-7.72 7.72c-.78.78-.78 2.05 0 2.83L4 21.41c.39.39.9.59 1.41.59.51 0 1.02-.2 1.41-.59l7.78-7.78 2.81-2.81c.8-.78.8-2.07 0-2.86zM5.41 20L4 18.59l7.72-7.72 1.47 1.35L5.41 20z\"/>\n",
              "  </svg>\n",
              "      </button>\n",
              "      \n",
              "  <style>\n",
              "    .colab-df-container {\n",
              "      display:flex;\n",
              "      flex-wrap:wrap;\n",
              "      gap: 12px;\n",
              "    }\n",
              "\n",
              "    .colab-df-convert {\n",
              "      background-color: #E8F0FE;\n",
              "      border: none;\n",
              "      border-radius: 50%;\n",
              "      cursor: pointer;\n",
              "      display: none;\n",
              "      fill: #1967D2;\n",
              "      height: 32px;\n",
              "      padding: 0 0 0 0;\n",
              "      width: 32px;\n",
              "    }\n",
              "\n",
              "    .colab-df-convert:hover {\n",
              "      background-color: #E2EBFA;\n",
              "      box-shadow: 0px 1px 2px rgba(60, 64, 67, 0.3), 0px 1px 3px 1px rgba(60, 64, 67, 0.15);\n",
              "      fill: #174EA6;\n",
              "    }\n",
              "\n",
              "    [theme=dark] .colab-df-convert {\n",
              "      background-color: #3B4455;\n",
              "      fill: #D2E3FC;\n",
              "    }\n",
              "\n",
              "    [theme=dark] .colab-df-convert:hover {\n",
              "      background-color: #434B5C;\n",
              "      box-shadow: 0px 1px 3px 1px rgba(0, 0, 0, 0.15);\n",
              "      filter: drop-shadow(0px 1px 2px rgba(0, 0, 0, 0.3));\n",
              "      fill: #FFFFFF;\n",
              "    }\n",
              "  </style>\n",
              "\n",
              "      <script>\n",
              "        const buttonEl =\n",
              "          document.querySelector('#df-8528cc08-a529-44f8-a63e-79660e52020c button.colab-df-convert');\n",
              "        buttonEl.style.display =\n",
              "          google.colab.kernel.accessAllowed ? 'block' : 'none';\n",
              "\n",
              "        async function convertToInteractive(key) {\n",
              "          const element = document.querySelector('#df-8528cc08-a529-44f8-a63e-79660e52020c');\n",
              "          const dataTable =\n",
              "            await google.colab.kernel.invokeFunction('convertToInteractive',\n",
              "                                                     [key], {});\n",
              "          if (!dataTable) return;\n",
              "\n",
              "          const docLinkHtml = 'Like what you see? Visit the ' +\n",
              "            '<a target=\"_blank\" href=https://colab.research.google.com/notebooks/data_table.ipynb>data table notebook</a>'\n",
              "            + ' to learn more about interactive tables.';\n",
              "          element.innerHTML = '';\n",
              "          dataTable['output_type'] = 'display_data';\n",
              "          await google.colab.output.renderOutput(dataTable, element);\n",
              "          const docLink = document.createElement('div');\n",
              "          docLink.innerHTML = docLinkHtml;\n",
              "          element.appendChild(docLink);\n",
              "        }\n",
              "      </script>\n",
              "    </div>\n",
              "  </div>\n",
              "  "
            ]
          },
          "metadata": {},
          "execution_count": 398
        }
      ],
      "source": [
        "# откроем таблицу с указанием районов для каждой улицы\n",
        "sheet_id = \"15Ov5Pgyp0Mx_YRos6ysnwxiyNTNXcl4mVurZYbr8UrU\"\n",
        "sheet_name = \"data-4275-2022-05-101\"\n",
        "url = f\"https://docs.google.com/spreadsheets/d/{sheet_id}/gviz/tq?tqx=out:csv&sheet={sheet_name}\"\n",
        "streets = pd.read_csv(url)\n",
        "\n",
        "streets = streets.rename(\n",
        "columns={\n",
        "'ID': 'id',}\n",
        ")\n",
        "\n",
        "#соединим таблицы\n",
        "new_df = data.merge(streets, on='id', how='left')\n",
        "new_df.head()"
      ]
    },
    {
      "cell_type": "code",
      "execution_count": 399,
      "id": "CFbHz77r13rX",
      "metadata": {
        "colab": {
          "base_uri": "https://localhost:8080/",
          "height": 394
        },
        "id": "CFbHz77r13rX",
        "outputId": "39917d15-c076-47c1-af9f-fdf6096699e6",
        "scrolled": true
      },
      "outputs": [
        {
          "output_type": "execute_result",
          "data": {
            "text/plain": [
              "                       street   id  \\\n",
              "1334         город Зеленоград  232   \n",
              "1452            проспект Мира  204   \n",
              "993         Профсоюзная улица  181   \n",
              "683    Ленинградский проспект  170   \n",
              "979    Пресненская набережная  167   \n",
              "407          Варшавское шоссе  161   \n",
              "686        Ленинский проспект  147   \n",
              "1419      поселение Сосенское  137   \n",
              "1449     проспект Вернадского  128   \n",
              "674      Кутузовский проспект  114   \n",
              "600           Каширское шоссе  111   \n",
              "\n",
              "                                               District  \n",
              "1334  [район Савёлки, nan, район Матушкино, район Ст...  \n",
              "1452  [Мещанский район, nan, Останкинский район, Але...  \n",
              "993   [nan, Академический район, район Черёмушки, ра...  \n",
              "683   [nan, район Беговой, район Аэропорт, район Сок...  \n",
              "979                            [nan, Пресненский район]  \n",
              "407   [nan, Донской район, Нагорный район, район Чер...  \n",
              "686   [nan, район Якиманка, Донской район, Гагаринск...  \n",
              "1419                         [поселение Сосенское, nan]  \n",
              "1449  [nan, Ломоносовский район, район Тропарёво-Ник...  \n",
              "674   [nan, район Дорогомилово, район Фили-Давыдково...  \n",
              "600   [nan, район Москворечье-Сабурово, район Орехов...  "
            ],
            "text/html": [
              "\n",
              "  <div id=\"df-b6a93e19-52f9-4836-8f1b-5e89bc458e32\">\n",
              "    <div class=\"colab-df-container\">\n",
              "      <div>\n",
              "<style scoped>\n",
              "    .dataframe tbody tr th:only-of-type {\n",
              "        vertical-align: middle;\n",
              "    }\n",
              "\n",
              "    .dataframe tbody tr th {\n",
              "        vertical-align: top;\n",
              "    }\n",
              "\n",
              "    .dataframe thead th {\n",
              "        text-align: right;\n",
              "    }\n",
              "</style>\n",
              "<table border=\"1\" class=\"dataframe\">\n",
              "  <thead>\n",
              "    <tr style=\"text-align: right;\">\n",
              "      <th></th>\n",
              "      <th>street</th>\n",
              "      <th>id</th>\n",
              "      <th>District</th>\n",
              "    </tr>\n",
              "  </thead>\n",
              "  <tbody>\n",
              "    <tr>\n",
              "      <th>1334</th>\n",
              "      <td>город Зеленоград</td>\n",
              "      <td>232</td>\n",
              "      <td>[район Савёлки, nan, район Матушкино, район Ст...</td>\n",
              "    </tr>\n",
              "    <tr>\n",
              "      <th>1452</th>\n",
              "      <td>проспект Мира</td>\n",
              "      <td>204</td>\n",
              "      <td>[Мещанский район, nan, Останкинский район, Але...</td>\n",
              "    </tr>\n",
              "    <tr>\n",
              "      <th>993</th>\n",
              "      <td>Профсоюзная улица</td>\n",
              "      <td>181</td>\n",
              "      <td>[nan, Академический район, район Черёмушки, ра...</td>\n",
              "    </tr>\n",
              "    <tr>\n",
              "      <th>683</th>\n",
              "      <td>Ленинградский проспект</td>\n",
              "      <td>170</td>\n",
              "      <td>[nan, район Беговой, район Аэропорт, район Сок...</td>\n",
              "    </tr>\n",
              "    <tr>\n",
              "      <th>979</th>\n",
              "      <td>Пресненская набережная</td>\n",
              "      <td>167</td>\n",
              "      <td>[nan, Пресненский район]</td>\n",
              "    </tr>\n",
              "    <tr>\n",
              "      <th>407</th>\n",
              "      <td>Варшавское шоссе</td>\n",
              "      <td>161</td>\n",
              "      <td>[nan, Донской район, Нагорный район, район Чер...</td>\n",
              "    </tr>\n",
              "    <tr>\n",
              "      <th>686</th>\n",
              "      <td>Ленинский проспект</td>\n",
              "      <td>147</td>\n",
              "      <td>[nan, район Якиманка, Донской район, Гагаринск...</td>\n",
              "    </tr>\n",
              "    <tr>\n",
              "      <th>1419</th>\n",
              "      <td>поселение Сосенское</td>\n",
              "      <td>137</td>\n",
              "      <td>[поселение Сосенское, nan]</td>\n",
              "    </tr>\n",
              "    <tr>\n",
              "      <th>1449</th>\n",
              "      <td>проспект Вернадского</td>\n",
              "      <td>128</td>\n",
              "      <td>[nan, Ломоносовский район, район Тропарёво-Ник...</td>\n",
              "    </tr>\n",
              "    <tr>\n",
              "      <th>674</th>\n",
              "      <td>Кутузовский проспект</td>\n",
              "      <td>114</td>\n",
              "      <td>[nan, район Дорогомилово, район Фили-Давыдково...</td>\n",
              "    </tr>\n",
              "    <tr>\n",
              "      <th>600</th>\n",
              "      <td>Каширское шоссе</td>\n",
              "      <td>111</td>\n",
              "      <td>[nan, район Москворечье-Сабурово, район Орехов...</td>\n",
              "    </tr>\n",
              "  </tbody>\n",
              "</table>\n",
              "</div>\n",
              "      <button class=\"colab-df-convert\" onclick=\"convertToInteractive('df-b6a93e19-52f9-4836-8f1b-5e89bc458e32')\"\n",
              "              title=\"Convert this dataframe to an interactive table.\"\n",
              "              style=\"display:none;\">\n",
              "        \n",
              "  <svg xmlns=\"http://www.w3.org/2000/svg\" height=\"24px\"viewBox=\"0 0 24 24\"\n",
              "       width=\"24px\">\n",
              "    <path d=\"M0 0h24v24H0V0z\" fill=\"none\"/>\n",
              "    <path d=\"M18.56 5.44l.94 2.06.94-2.06 2.06-.94-2.06-.94-.94-2.06-.94 2.06-2.06.94zm-11 1L8.5 8.5l.94-2.06 2.06-.94-2.06-.94L8.5 2.5l-.94 2.06-2.06.94zm10 10l.94 2.06.94-2.06 2.06-.94-2.06-.94-.94-2.06-.94 2.06-2.06.94z\"/><path d=\"M17.41 7.96l-1.37-1.37c-.4-.4-.92-.59-1.43-.59-.52 0-1.04.2-1.43.59L10.3 9.45l-7.72 7.72c-.78.78-.78 2.05 0 2.83L4 21.41c.39.39.9.59 1.41.59.51 0 1.02-.2 1.41-.59l7.78-7.78 2.81-2.81c.8-.78.8-2.07 0-2.86zM5.41 20L4 18.59l7.72-7.72 1.47 1.35L5.41 20z\"/>\n",
              "  </svg>\n",
              "      </button>\n",
              "      \n",
              "  <style>\n",
              "    .colab-df-container {\n",
              "      display:flex;\n",
              "      flex-wrap:wrap;\n",
              "      gap: 12px;\n",
              "    }\n",
              "\n",
              "    .colab-df-convert {\n",
              "      background-color: #E8F0FE;\n",
              "      border: none;\n",
              "      border-radius: 50%;\n",
              "      cursor: pointer;\n",
              "      display: none;\n",
              "      fill: #1967D2;\n",
              "      height: 32px;\n",
              "      padding: 0 0 0 0;\n",
              "      width: 32px;\n",
              "    }\n",
              "\n",
              "    .colab-df-convert:hover {\n",
              "      background-color: #E2EBFA;\n",
              "      box-shadow: 0px 1px 2px rgba(60, 64, 67, 0.3), 0px 1px 3px 1px rgba(60, 64, 67, 0.15);\n",
              "      fill: #174EA6;\n",
              "    }\n",
              "\n",
              "    [theme=dark] .colab-df-convert {\n",
              "      background-color: #3B4455;\n",
              "      fill: #D2E3FC;\n",
              "    }\n",
              "\n",
              "    [theme=dark] .colab-df-convert:hover {\n",
              "      background-color: #434B5C;\n",
              "      box-shadow: 0px 1px 3px 1px rgba(0, 0, 0, 0.15);\n",
              "      filter: drop-shadow(0px 1px 2px rgba(0, 0, 0, 0.3));\n",
              "      fill: #FFFFFF;\n",
              "    }\n",
              "  </style>\n",
              "\n",
              "      <script>\n",
              "        const buttonEl =\n",
              "          document.querySelector('#df-b6a93e19-52f9-4836-8f1b-5e89bc458e32 button.colab-df-convert');\n",
              "        buttonEl.style.display =\n",
              "          google.colab.kernel.accessAllowed ? 'block' : 'none';\n",
              "\n",
              "        async function convertToInteractive(key) {\n",
              "          const element = document.querySelector('#df-b6a93e19-52f9-4836-8f1b-5e89bc458e32');\n",
              "          const dataTable =\n",
              "            await google.colab.kernel.invokeFunction('convertToInteractive',\n",
              "                                                     [key], {});\n",
              "          if (!dataTable) return;\n",
              "\n",
              "          const docLinkHtml = 'Like what you see? Visit the ' +\n",
              "            '<a target=\"_blank\" href=https://colab.research.google.com/notebooks/data_table.ipynb>data table notebook</a>'\n",
              "            + ' to learn more about interactive tables.';\n",
              "          element.innerHTML = '';\n",
              "          dataTable['output_type'] = 'display_data';\n",
              "          await google.colab.output.renderOutput(dataTable, element);\n",
              "          const docLink = document.createElement('div');\n",
              "          docLink.innerHTML = docLinkHtml;\n",
              "          element.appendChild(docLink);\n",
              "        }\n",
              "      </script>\n",
              "    </div>\n",
              "  </div>\n",
              "  "
            ]
          },
          "metadata": {},
          "execution_count": 399
        }
      ],
      "source": [
        "# составим список улиц с указанием районов\n",
        "seven = (\n",
        "    new_df.groupby('street', as_index=False)\n",
        "    .agg({'id':'nunique','District':'unique'})\n",
        "    .sort_values(by='id', ascending=False)\n",
        ")\n",
        "seven_top = seven.head(11)\n",
        "seven_top\n"
      ]
    },
    {
      "cell_type": "code",
      "execution_count": 400,
      "id": "88166ef0",
      "metadata": {
        "id": "88166ef0"
      },
      "outputs": [],
      "source": [
        "# удалим Зеленоград, это не улица\n",
        "seven_top = seven_top.drop(labels = [1334],axis = 0)"
      ]
    },
    {
      "cell_type": "code",
      "execution_count": 403,
      "id": "p-cFXcQg4-fD",
      "metadata": {
        "colab": {
          "base_uri": "https://localhost:8080/",
          "height": 742
        },
        "id": "p-cFXcQg4-fD",
        "outputId": "0a9ca9ba-ae8b-4537-ec3e-7263aecc30f8",
        "scrolled": false
      },
      "outputs": [
        {
          "output_type": "display_data",
          "data": {
            "text/plain": [
              "<Figure size 1000x600 with 1 Axes>"
            ],
            "image/png": "[encoded data removed]"
          },
          "metadata": {}
        }
      ],
      "source": [
        "#  построим график\n",
        "\n",
        "plt.figure(\n",
        "    figsize=(10, 6)\n",
        ")\n",
        "sns.set_palette('deep')\n",
        "ax = sns.barplot(x='street', y='id', data=seven_top)\n",
        "plt.xticks(rotation=75)\n",
        "ax.set_title('Топ-10 улиц по количеству объектов общественного питания') \n",
        "ax.set_xlabel('Улица')\n",
        "ax.set_ylabel('Кол-во объектов') \n",
        "plt.show()"
      ]
    },
    {
      "cell_type": "markdown",
      "id": "YsBIRIzlqAgp",
      "metadata": {
        "id": "YsBIRIzlqAgp"
      },
      "source": [
        "### Вывод\n",
        "Лидер по количеству объектов общественного питания в Москве — проспект Мира, затем следуют Профсоюзная улица и Ленинградский проспект."
      ]
    },
    {
      "cell_type": "markdown",
      "id": "XHhlhrlwte06",
      "metadata": {
        "id": "XHhlhrlwte06"
      },
      "source": [
        "## Задача 8\n",
        "Найдите число улиц с одним объектом общественного питания. Воспользуйтесь внешней информацией и ответьте на вопрос — в каких районах Москвы находятся эти улицы?\n",
        "<a name=\"eight\"></a>"
      ]
    },
    {
      "cell_type": "code",
      "execution_count": 402,
      "id": "MYeOPYNaLsuf",
      "metadata": {
        "colab": {
          "base_uri": "https://localhost:8080/",
          "height": 412
        },
        "id": "MYeOPYNaLsuf",
        "outputId": "67907fdd-6443-4298-bce6-dd9dafe579a2"
      },
      "outputs": [
        {
          "output_type": "display_data",
          "data": {
            "text/plain": [
              "681"
            ]
          },
          "metadata": {}
        },
        {
          "output_type": "execute_result",
          "data": {
            "text/plain": [
              "                     id\n",
              "District               \n",
              "Таганский район      37\n",
              "Басманный район      28\n",
              "Пресненский район    27\n",
              "Тверской район       26\n",
              "район Хамовники      24\n",
              "район Сокольники     19\n",
              "Мещанский район      14\n",
              "район Замоскворечье  12\n",
              "район Марьина Роща   11\n",
              "район Южное Бутово   11"
            ],
            "text/html": [
              "\n",
              "  <div id=\"df-c6ccaf12-bc78-4505-b5d3-b031c3d1c879\">\n",
              "    <div class=\"colab-df-container\">\n",
              "      <div>\n",
              "<style scoped>\n",
              "    .dataframe tbody tr th:only-of-type {\n",
              "        vertical-align: middle;\n",
              "    }\n",
              "\n",
              "    .dataframe tbody tr th {\n",
              "        vertical-align: top;\n",
              "    }\n",
              "\n",
              "    .dataframe thead th {\n",
              "        text-align: right;\n",
              "    }\n",
              "</style>\n",
              "<table border=\"1\" class=\"dataframe\">\n",
              "  <thead>\n",
              "    <tr style=\"text-align: right;\">\n",
              "      <th></th>\n",
              "      <th>id</th>\n",
              "    </tr>\n",
              "    <tr>\n",
              "      <th>District</th>\n",
              "      <th></th>\n",
              "    </tr>\n",
              "  </thead>\n",
              "  <tbody>\n",
              "    <tr>\n",
              "      <th>Таганский район</th>\n",
              "      <td>37</td>\n",
              "    </tr>\n",
              "    <tr>\n",
              "      <th>Басманный район</th>\n",
              "      <td>28</td>\n",
              "    </tr>\n",
              "    <tr>\n",
              "      <th>Пресненский район</th>\n",
              "      <td>27</td>\n",
              "    </tr>\n",
              "    <tr>\n",
              "      <th>Тверской район</th>\n",
              "      <td>26</td>\n",
              "    </tr>\n",
              "    <tr>\n",
              "      <th>район Хамовники</th>\n",
              "      <td>24</td>\n",
              "    </tr>\n",
              "    <tr>\n",
              "      <th>район Сокольники</th>\n",
              "      <td>19</td>\n",
              "    </tr>\n",
              "    <tr>\n",
              "      <th>Мещанский район</th>\n",
              "      <td>14</td>\n",
              "    </tr>\n",
              "    <tr>\n",
              "      <th>район Замоскворечье</th>\n",
              "      <td>12</td>\n",
              "    </tr>\n",
              "    <tr>\n",
              "      <th>район Марьина Роща</th>\n",
              "      <td>11</td>\n",
              "    </tr>\n",
              "    <tr>\n",
              "      <th>район Южное Бутово</th>\n",
              "      <td>11</td>\n",
              "    </tr>\n",
              "  </tbody>\n",
              "</table>\n",
              "</div>\n",
              "      <button class=\"colab-df-convert\" onclick=\"convertToInteractive('df-c6ccaf12-bc78-4505-b5d3-b031c3d1c879')\"\n",
              "              title=\"Convert this dataframe to an interactive table.\"\n",
              "              style=\"display:none;\">\n",
              "        \n",
              "  <svg xmlns=\"http://www.w3.org/2000/svg\" height=\"24px\"viewBox=\"0 0 24 24\"\n",
              "       width=\"24px\">\n",
              "    <path d=\"M0 0h24v24H0V0z\" fill=\"none\"/>\n",
              "    <path d=\"M18.56 5.44l.94 2.06.94-2.06 2.06-.94-2.06-.94-.94-2.06-.94 2.06-2.06.94zm-11 1L8.5 8.5l.94-2.06 2.06-.94-2.06-.94L8.5 2.5l-.94 2.06-2.06.94zm10 10l.94 2.06.94-2.06 2.06-.94-2.06-.94-.94-2.06-.94 2.06-2.06.94z\"/><path d=\"M17.41 7.96l-1.37-1.37c-.4-.4-.92-.59-1.43-.59-.52 0-1.04.2-1.43.59L10.3 9.45l-7.72 7.72c-.78.78-.78 2.05 0 2.83L4 21.41c.39.39.9.59 1.41.59.51 0 1.02-.2 1.41-.59l7.78-7.78 2.81-2.81c.8-.78.8-2.07 0-2.86zM5.41 20L4 18.59l7.72-7.72 1.47 1.35L5.41 20z\"/>\n",
              "  </svg>\n",
              "      </button>\n",
              "      \n",
              "  <style>\n",
              "    .colab-df-container {\n",
              "      display:flex;\n",
              "      flex-wrap:wrap;\n",
              "      gap: 12px;\n",
              "    }\n",
              "\n",
              "    .colab-df-convert {\n",
              "      background-color: #E8F0FE;\n",
              "      border: none;\n",
              "      border-radius: 50%;\n",
              "      cursor: pointer;\n",
              "      display: none;\n",
              "      fill: #1967D2;\n",
              "      height: 32px;\n",
              "      padding: 0 0 0 0;\n",
              "      width: 32px;\n",
              "    }\n",
              "\n",
              "    .colab-df-convert:hover {\n",
              "      background-color: #E2EBFA;\n",
              "      box-shadow: 0px 1px 2px rgba(60, 64, 67, 0.3), 0px 1px 3px 1px rgba(60, 64, 67, 0.15);\n",
              "      fill: #174EA6;\n",
              "    }\n",
              "\n",
              "    [theme=dark] .colab-df-convert {\n",
              "      background-color: #3B4455;\n",
              "      fill: #D2E3FC;\n",
              "    }\n",
              "\n",
              "    [theme=dark] .colab-df-convert:hover {\n",
              "      background-color: #434B5C;\n",
              "      box-shadow: 0px 1px 3px 1px rgba(0, 0, 0, 0.15);\n",
              "      filter: drop-shadow(0px 1px 2px rgba(0, 0, 0, 0.3));\n",
              "      fill: #FFFFFF;\n",
              "    }\n",
              "  </style>\n",
              "\n",
              "      <script>\n",
              "        const buttonEl =\n",
              "          document.querySelector('#df-c6ccaf12-bc78-4505-b5d3-b031c3d1c879 button.colab-df-convert');\n",
              "        buttonEl.style.display =\n",
              "          google.colab.kernel.accessAllowed ? 'block' : 'none';\n",
              "\n",
              "        async function convertToInteractive(key) {\n",
              "          const element = document.querySelector('#df-c6ccaf12-bc78-4505-b5d3-b031c3d1c879');\n",
              "          const dataTable =\n",
              "            await google.colab.kernel.invokeFunction('convertToInteractive',\n",
              "                                                     [key], {});\n",
              "          if (!dataTable) return;\n",
              "\n",
              "          const docLinkHtml = 'Like what you see? Visit the ' +\n",
              "            '<a target=\"_blank\" href=https://colab.research.google.com/notebooks/data_table.ipynb>data table notebook</a>'\n",
              "            + ' to learn more about interactive tables.';\n",
              "          element.innerHTML = '';\n",
              "          dataTable['output_type'] = 'display_data';\n",
              "          await google.colab.output.renderOutput(dataTable, element);\n",
              "          const docLink = document.createElement('div');\n",
              "          docLink.innerHTML = docLinkHtml;\n",
              "          element.appendChild(docLink);\n",
              "        }\n",
              "      </script>\n",
              "    </div>\n",
              "  </div>\n",
              "  "
            ]
          },
          "metadata": {},
          "execution_count": 402
        }
      ],
      "source": [
        "# найдем улицы с одним заведением\n",
        "single = new_df.groupby(['street', 'District'], as_index=False).agg({'id':'nunique'}).sort_values(by='id', ascending=False)\n",
        "single = single.query('id == 1')\n",
        "display(len(single)-1) # посчитаем количество улиц с одним объектом общественного питания\n",
        "\n",
        "# проверим в каких районах находятся эти улицы\n",
        "single.groupby('District').agg({'id':'sum'}).sort_values(by='id', ascending=False).head(10)"
      ]
    },
    {
      "cell_type": "markdown",
      "id": "FxVYEo01Knm0",
      "metadata": {
        "id": "FxVYEo01Knm0"
      },
      "source": [
        "### Вывод\n",
        "В Москве находится 681 улица с одним объектом общественного питания. Большинство этих улиц находится в Таганском районе, затем следуют Басманный и Пресненский районы."
      ]
    },
    {
      "cell_type": "markdown",
      "id": "I6g_KAqTFsIb",
      "metadata": {
        "id": "I6g_KAqTFsIb"
      },
      "source": [
        "## 3. Презентация\n",
        "<a name=\"results\"></a>"
      ]
    },
    {
      "cell_type": "markdown",
      "id": "oG5eaL0MK0sY",
      "metadata": {
        "id": "oG5eaL0MK0sY"
      },
      "source": [
        "### Задача\n",
        "Подготовьте презентацию исследования для инвесторов. Для создания презентации используйте любой удобный инструмент, но отправить презентацию нужно обязательно в формате pdf."
      ]
    },
    {
      "cell_type": "markdown",
      "id": "1zoBBIs3K_MW",
      "metadata": {
        "id": "1zoBBIs3K_MW"
      },
      "source": [
        "Презентация https://disk.yandex.ru/i/RhXcvOhn4hgL0Q"
      ]
    },
    {
      "cell_type": "markdown",
      "id": "dAPstLqqFwZ3",
      "metadata": {
        "id": "dAPstLqqFwZ3"
      },
      "source": [
        "## 4. Общий вывод\n",
        "<a name=\"sumup\"></a>"
      ]
    },
    {
      "cell_type": "markdown",
      "id": "-Lh_GnXg2yBP",
      "metadata": {
        "id": "-Lh_GnXg2yBP"
      },
      "source": [
        "Перед открытием небольшого кафе в Москве нам необходимо было провести исследование рынка. Инвесторов интересовало текущее положение дел на рынке — сможет ли кафе с роботами-официантами снискать популярность на долгое время?\n",
        "\n",
        "Чтобы ответить на эти вопросы, мы исследовали рынок на основании открытых данных о заведениях общественного питания в Москве.\n",
        "\n",
        "В ходе исследования мы проверили данные на пропуски, аномалии и дубликаты. Затем мы проанализировали соотношение видов объектов общественного питания по количеству, соотношение сетевых и несетевых заведений по количеству; выделили вид объекта общественного питания, для которого характерно сетевое распространение; выяснили, что характерно для сетевых заведений: много заведений с небольшим числом посадочных мест в каждом или мало заведений с большим количеством посадочных мест; посчитали среднее количество посадочных мест для каждого вида объекта общественного питания; подготовили график топ-10 улиц по количеству объектов общественного питания и нашли число улиц с одним объектом общественного питания.\n",
        "Также мы подготовили презентацию по проекту.\n",
        "\n",
        "После обработки и проверки данных мы провели их анализ и сделали следующие выводы:\n",
        "- Однозначный лидер по количеству объектов — кафе (кафе почти в 2,5 раза больше, чем столовых), за ним следует столовая и ресторан.\n",
        "- Количество несетевых заведений больше чем в 4 раза превосходит количество сетевых.\n",
        "- Наибольшая доля сетевых заведений приходится на предприятия быстрого обслуживания (41%) и магазины (28%).\n",
        "- Для сетевых заведений более характерно наличие большего числа заведений с небольшим числом посадочных мест в каждом, нежели чем малого количества заведений с большим количеством посадочных мест. Что касается отношения количества посадочных мест и количества заведений одной сети, то зависимость показателей друг от друга не прослеживается.\n",
        "- Самое большое среднее количество посадочных мест предоставляют столовые — 130, далее следуют рестораны (почти 97 мест) и буфет(51 место). Меньше всего мест в кафетериях, закусочных и магазинах — 9, 7 и 5 соответственно.\n",
        "- Лидер по количеству объектов общественного питания в Москве — проспект Мира, затем следуют Профсоюзная улица и Ленинградский проспект.\n",
        "- В Москве находится 681 улица с одним объектом общественного питания. Большинство этих улиц находится в Таганском районе, затем следуют Басманный и Пресненский районы.\n",
        "\n",
        "Общие рекомендации:\n",
        "- Самый популярный вид заведения в Москве — кафе, соответственно открывать еще один объект данного типа может быть целесообразно.\n",
        "- Среднее число посадочных мест в заведениях Москвы — 52, а 25% процентов заведений имеют более 72 посадочных мест. Мы предполагаем, что открытие заведения с более чем 72 посадочными местами может быть рискованно для нового формата объекта общественного питания.\n",
        "- Лучше всего выбрать районы с наибольшим числом улиц с одним объектом общественного питания, чтобы минимизировать конкуренцию:\t\n",
        "  - Таганский район\t\n",
        "  - Басманный район\t\n",
        "  - Пресненский район\t\n",
        "  - Тверской район\t\n",
        "  - район Хамовники.\n",
        "- Количество несетевых заведений больше чем в 4 раза превосходит количество сетевых в Москве. Кроме того, сеть позволяет сокращать расходы и диверсифицировать риски. Однако нет смысла составлять бизнес-план по развитию сети без анализа работы первого заведения.\n"
      ]
    }
  ],
  "metadata": {
    "ExecuteTimeLog": [
      {
        "duration": 1308,
        "start_time": "2022-07-23T21:55:07.915Z"
      },
      {
        "duration": 123,
        "start_time": "2022-07-23T21:55:09.225Z"
      },
      {
        "duration": 15,
        "start_time": "2022-07-23T21:55:09.350Z"
      },
      {
        "duration": 17,
        "start_time": "2022-07-23T21:55:09.367Z"
      },
      {
        "duration": 112,
        "start_time": "2022-07-23T21:55:09.385Z"
      },
      {
        "duration": 21,
        "start_time": "2022-07-23T21:55:09.498Z"
      },
      {
        "duration": 12,
        "start_time": "2022-07-23T21:55:09.520Z"
      },
      {
        "duration": 10,
        "start_time": "2022-07-23T21:55:09.534Z"
      },
      {
        "duration": 4,
        "start_time": "2022-07-23T21:55:09.546Z"
      },
      {
        "duration": 8,
        "start_time": "2022-07-23T21:55:09.553Z"
      },
      {
        "duration": 6,
        "start_time": "2022-07-23T21:55:09.562Z"
      },
      {
        "duration": 12,
        "start_time": "2022-07-23T21:55:09.604Z"
      },
      {
        "duration": 15,
        "start_time": "2022-07-23T21:55:09.618Z"
      },
      {
        "duration": 11,
        "start_time": "2022-07-23T21:55:09.635Z"
      },
      {
        "duration": 226,
        "start_time": "2022-07-23T21:55:09.648Z"
      },
      {
        "duration": 188,
        "start_time": "2022-07-23T21:55:09.876Z"
      },
      {
        "duration": 1,
        "start_time": "2022-07-23T21:55:10.066Z"
      },
      {
        "duration": 0,
        "start_time": "2022-07-23T21:55:10.069Z"
      },
      {
        "duration": 0,
        "start_time": "2022-07-23T21:55:10.070Z"
      },
      {
        "duration": 0,
        "start_time": "2022-07-23T21:55:10.071Z"
      },
      {
        "duration": 0,
        "start_time": "2022-07-23T21:55:10.073Z"
      },
      {
        "duration": 0,
        "start_time": "2022-07-23T21:55:10.075Z"
      },
      {
        "duration": 0,
        "start_time": "2022-07-23T21:55:10.076Z"
      },
      {
        "duration": 0,
        "start_time": "2022-07-23T21:55:10.078Z"
      },
      {
        "duration": 0,
        "start_time": "2022-07-23T21:55:10.105Z"
      },
      {
        "duration": 0,
        "start_time": "2022-07-23T21:55:10.106Z"
      },
      {
        "duration": 0,
        "start_time": "2022-07-23T21:55:10.108Z"
      },
      {
        "duration": 0,
        "start_time": "2022-07-23T21:55:10.109Z"
      },
      {
        "duration": 0,
        "start_time": "2022-07-23T21:55:10.111Z"
      },
      {
        "duration": 0,
        "start_time": "2022-07-23T21:55:10.112Z"
      },
      {
        "duration": 0,
        "start_time": "2022-07-23T21:55:10.114Z"
      },
      {
        "duration": 0,
        "start_time": "2022-07-23T21:55:10.115Z"
      },
      {
        "duration": 0,
        "start_time": "2022-07-23T21:55:10.116Z"
      },
      {
        "duration": 0,
        "start_time": "2022-07-23T21:55:10.117Z"
      },
      {
        "duration": 0,
        "start_time": "2022-07-23T21:55:10.119Z"
      },
      {
        "duration": 0,
        "start_time": "2022-07-23T21:55:10.121Z"
      },
      {
        "duration": 0,
        "start_time": "2022-07-23T21:55:10.124Z"
      },
      {
        "duration": 15,
        "start_time": "2022-07-23T21:57:15.637Z"
      },
      {
        "duration": 155,
        "start_time": "2022-07-23T21:57:16.104Z"
      },
      {
        "duration": 535,
        "start_time": "2022-07-23T21:57:16.449Z"
      },
      {
        "duration": 25,
        "start_time": "2022-07-23T21:57:17.539Z"
      },
      {
        "duration": 278,
        "start_time": "2022-07-23T21:57:20.097Z"
      },
      {
        "duration": 177,
        "start_time": "2022-07-23T21:57:20.422Z"
      },
      {
        "duration": 7,
        "start_time": "2022-07-23T21:57:21.439Z"
      },
      {
        "duration": 33,
        "start_time": "2022-07-23T21:57:21.878Z"
      },
      {
        "duration": 274,
        "start_time": "2022-07-23T21:57:22.248Z"
      },
      {
        "duration": 11,
        "start_time": "2022-07-23T21:57:22.612Z"
      },
      {
        "duration": 10,
        "start_time": "2022-07-23T21:57:22.985Z"
      },
      {
        "duration": 125,
        "start_time": "2022-07-23T21:57:23.413Z"
      },
      {
        "duration": 5,
        "start_time": "2022-07-23T21:57:23.745Z"
      },
      {
        "duration": 24,
        "start_time": "2022-07-23T21:57:24.436Z"
      },
      {
        "duration": 24,
        "start_time": "2022-07-23T21:57:24.775Z"
      },
      {
        "duration": 15,
        "start_time": "2022-07-23T21:57:25.770Z"
      },
      {
        "duration": 224,
        "start_time": "2022-07-23T21:57:26.094Z"
      },
      {
        "duration": 66,
        "start_time": "2022-07-23T21:57:27.090Z"
      },
      {
        "duration": 19,
        "start_time": "2022-07-23T21:57:27.754Z"
      },
      {
        "duration": 95,
        "start_time": "2022-07-23T21:57:28.065Z"
      },
      {
        "duration": 3261,
        "start_time": "2022-07-23T21:57:29.233Z"
      },
      {
        "duration": 46,
        "start_time": "2022-07-24T15:08:53.769Z"
      },
      {
        "duration": 1266,
        "start_time": "2022-07-24T15:09:01.526Z"
      },
      {
        "duration": 271,
        "start_time": "2022-07-24T15:09:02.794Z"
      },
      {
        "duration": 15,
        "start_time": "2022-07-24T15:09:03.066Z"
      },
      {
        "duration": 21,
        "start_time": "2022-07-24T15:09:03.083Z"
      },
      {
        "duration": 109,
        "start_time": "2022-07-24T15:09:03.106Z"
      },
      {
        "duration": 18,
        "start_time": "2022-07-24T15:09:03.217Z"
      },
      {
        "duration": 5,
        "start_time": "2022-07-24T15:09:03.236Z"
      },
      {
        "duration": 14,
        "start_time": "2022-07-24T15:09:03.242Z"
      },
      {
        "duration": 12,
        "start_time": "2022-07-24T15:09:03.258Z"
      },
      {
        "duration": 4,
        "start_time": "2022-07-24T15:09:03.272Z"
      },
      {
        "duration": 9,
        "start_time": "2022-07-24T15:09:03.278Z"
      },
      {
        "duration": 39,
        "start_time": "2022-07-24T15:09:03.288Z"
      },
      {
        "duration": 12,
        "start_time": "2022-07-24T15:09:03.329Z"
      },
      {
        "duration": 24,
        "start_time": "2022-07-24T15:09:03.344Z"
      },
      {
        "duration": 17,
        "start_time": "2022-07-24T15:09:03.370Z"
      },
      {
        "duration": 242,
        "start_time": "2022-07-24T15:09:03.389Z"
      },
      {
        "duration": 173,
        "start_time": "2022-07-24T15:09:03.633Z"
      },
      {
        "duration": 0,
        "start_time": "2022-07-24T15:09:03.808Z"
      },
      {
        "duration": 0,
        "start_time": "2022-07-24T15:09:03.809Z"
      },
      {
        "duration": 0,
        "start_time": "2022-07-24T15:09:03.810Z"
      },
      {
        "duration": 0,
        "start_time": "2022-07-24T15:09:03.811Z"
      },
      {
        "duration": 0,
        "start_time": "2022-07-24T15:09:03.823Z"
      },
      {
        "duration": 0,
        "start_time": "2022-07-24T15:09:03.824Z"
      },
      {
        "duration": 0,
        "start_time": "2022-07-24T15:09:03.826Z"
      },
      {
        "duration": 0,
        "start_time": "2022-07-24T15:09:03.828Z"
      },
      {
        "duration": 0,
        "start_time": "2022-07-24T15:09:03.829Z"
      },
      {
        "duration": 0,
        "start_time": "2022-07-24T15:09:03.830Z"
      },
      {
        "duration": 0,
        "start_time": "2022-07-24T15:09:03.832Z"
      },
      {
        "duration": 0,
        "start_time": "2022-07-24T15:09:03.833Z"
      },
      {
        "duration": 0,
        "start_time": "2022-07-24T15:09:03.834Z"
      },
      {
        "duration": 0,
        "start_time": "2022-07-24T15:09:03.835Z"
      },
      {
        "duration": 0,
        "start_time": "2022-07-24T15:09:03.836Z"
      },
      {
        "duration": 0,
        "start_time": "2022-07-24T15:09:03.838Z"
      },
      {
        "duration": 0,
        "start_time": "2022-07-24T15:09:03.839Z"
      },
      {
        "duration": 0,
        "start_time": "2022-07-24T15:09:03.841Z"
      },
      {
        "duration": 0,
        "start_time": "2022-07-24T15:09:03.842Z"
      },
      {
        "duration": 0,
        "start_time": "2022-07-24T15:09:03.843Z"
      },
      {
        "duration": 0,
        "start_time": "2022-07-24T15:09:03.844Z"
      },
      {
        "duration": 8,
        "start_time": "2022-07-24T15:09:22.183Z"
      },
      {
        "duration": 7,
        "start_time": "2022-07-24T15:09:47.288Z"
      },
      {
        "duration": 20,
        "start_time": "2022-07-24T15:10:16.009Z"
      },
      {
        "duration": 101,
        "start_time": "2022-07-24T15:10:50.103Z"
      },
      {
        "duration": 411,
        "start_time": "2022-07-24T15:13:50.514Z"
      },
      {
        "duration": 85,
        "start_time": "2022-07-24T15:13:55.270Z"
      },
      {
        "duration": 1134,
        "start_time": "2022-07-24T15:14:45.424Z"
      },
      {
        "duration": 79,
        "start_time": "2022-07-24T15:14:46.560Z"
      },
      {
        "duration": 14,
        "start_time": "2022-07-24T15:14:46.641Z"
      },
      {
        "duration": 17,
        "start_time": "2022-07-24T15:14:46.658Z"
      },
      {
        "duration": 124,
        "start_time": "2022-07-24T15:14:46.677Z"
      },
      {
        "duration": 35,
        "start_time": "2022-07-24T15:14:46.804Z"
      },
      {
        "duration": 21,
        "start_time": "2022-07-24T15:14:46.841Z"
      },
      {
        "duration": 15,
        "start_time": "2022-07-24T15:14:46.864Z"
      },
      {
        "duration": 17,
        "start_time": "2022-07-24T15:14:46.881Z"
      },
      {
        "duration": 5,
        "start_time": "2022-07-24T15:14:46.926Z"
      },
      {
        "duration": 13,
        "start_time": "2022-07-24T15:14:46.933Z"
      },
      {
        "duration": 8,
        "start_time": "2022-07-24T15:14:46.949Z"
      },
      {
        "duration": 18,
        "start_time": "2022-07-24T15:14:46.959Z"
      },
      {
        "duration": 17,
        "start_time": "2022-07-24T15:14:46.979Z"
      },
      {
        "duration": 40,
        "start_time": "2022-07-24T15:14:46.998Z"
      },
      {
        "duration": 253,
        "start_time": "2022-07-24T15:14:47.040Z"
      },
      {
        "duration": 516,
        "start_time": "2022-07-24T15:14:47.295Z"
      },
      {
        "duration": 15,
        "start_time": "2022-07-24T15:14:47.814Z"
      },
      {
        "duration": 228,
        "start_time": "2022-07-24T15:14:47.830Z"
      },
      {
        "duration": 152,
        "start_time": "2022-07-24T15:14:48.060Z"
      },
      {
        "duration": 24,
        "start_time": "2022-07-24T15:14:48.223Z"
      },
      {
        "duration": 214,
        "start_time": "2022-07-24T15:14:48.249Z"
      },
      {
        "duration": 283,
        "start_time": "2022-07-24T15:14:48.468Z"
      },
      {
        "duration": 9,
        "start_time": "2022-07-24T15:14:48.753Z"
      },
      {
        "duration": 100,
        "start_time": "2022-07-24T15:14:48.764Z"
      },
      {
        "duration": 763,
        "start_time": "2022-07-24T15:14:48.867Z"
      },
      {
        "duration": 11,
        "start_time": "2022-07-24T15:14:49.632Z"
      },
      {
        "duration": 77,
        "start_time": "2022-07-24T15:14:49.646Z"
      },
      {
        "duration": 246,
        "start_time": "2022-07-24T15:14:49.725Z"
      },
      {
        "duration": 6,
        "start_time": "2022-07-24T15:14:50.024Z"
      },
      {
        "duration": 93,
        "start_time": "2022-07-24T15:14:50.032Z"
      },
      {
        "duration": 25,
        "start_time": "2022-07-24T15:14:50.126Z"
      },
      {
        "duration": 71,
        "start_time": "2022-07-24T15:14:50.153Z"
      },
      {
        "duration": 401,
        "start_time": "2022-07-24T15:14:50.225Z"
      },
      {
        "duration": 110,
        "start_time": "2022-07-24T15:14:50.628Z"
      },
      {
        "duration": 18,
        "start_time": "2022-07-24T15:14:50.739Z"
      },
      {
        "duration": 105,
        "start_time": "2022-07-24T15:14:50.759Z"
      },
      {
        "duration": 3245,
        "start_time": "2022-07-24T15:14:50.866Z"
      },
      {
        "duration": 14,
        "start_time": "2022-07-24T15:16:03.415Z"
      },
      {
        "duration": 17,
        "start_time": "2022-07-24T15:16:50.302Z"
      },
      {
        "duration": 12,
        "start_time": "2022-07-24T15:17:07.494Z"
      },
      {
        "duration": 58,
        "start_time": "2022-07-24T15:19:13.733Z"
      },
      {
        "duration": 32,
        "start_time": "2022-07-24T15:19:25.363Z"
      },
      {
        "duration": 150,
        "start_time": "2022-07-24T15:19:42.194Z"
      },
      {
        "duration": 29,
        "start_time": "2022-07-24T15:20:00.796Z"
      },
      {
        "duration": 1372,
        "start_time": "2022-07-24T15:20:12.094Z"
      },
      {
        "duration": 102,
        "start_time": "2022-07-24T15:20:13.467Z"
      },
      {
        "duration": 19,
        "start_time": "2022-07-24T15:20:13.571Z"
      },
      {
        "duration": 33,
        "start_time": "2022-07-24T15:20:13.592Z"
      },
      {
        "duration": 102,
        "start_time": "2022-07-24T15:20:13.627Z"
      },
      {
        "duration": 27,
        "start_time": "2022-07-24T15:20:13.731Z"
      },
      {
        "duration": 22,
        "start_time": "2022-07-24T15:20:13.760Z"
      },
      {
        "duration": 45,
        "start_time": "2022-07-24T15:20:13.784Z"
      },
      {
        "duration": 14,
        "start_time": "2022-07-24T15:20:13.831Z"
      },
      {
        "duration": 5,
        "start_time": "2022-07-24T15:20:13.848Z"
      },
      {
        "duration": 19,
        "start_time": "2022-07-24T15:20:13.854Z"
      },
      {
        "duration": 7,
        "start_time": "2022-07-24T15:20:13.875Z"
      },
      {
        "duration": 41,
        "start_time": "2022-07-24T15:20:13.883Z"
      },
      {
        "duration": 20,
        "start_time": "2022-07-24T15:20:13.927Z"
      },
      {
        "duration": 19,
        "start_time": "2022-07-24T15:20:13.949Z"
      },
      {
        "duration": 246,
        "start_time": "2022-07-24T15:20:13.970Z"
      },
      {
        "duration": 530,
        "start_time": "2022-07-24T15:20:14.224Z"
      },
      {
        "duration": 13,
        "start_time": "2022-07-24T15:20:14.756Z"
      },
      {
        "duration": 325,
        "start_time": "2022-07-24T15:20:14.772Z"
      },
      {
        "duration": 0,
        "start_time": "2022-07-24T15:20:15.099Z"
      },
      {
        "duration": 0,
        "start_time": "2022-07-24T15:20:15.101Z"
      },
      {
        "duration": 0,
        "start_time": "2022-07-24T15:20:15.103Z"
      },
      {
        "duration": 0,
        "start_time": "2022-07-24T15:20:15.105Z"
      },
      {
        "duration": 0,
        "start_time": "2022-07-24T15:20:15.107Z"
      },
      {
        "duration": 0,
        "start_time": "2022-07-24T15:20:15.124Z"
      },
      {
        "duration": 0,
        "start_time": "2022-07-24T15:20:15.125Z"
      },
      {
        "duration": 0,
        "start_time": "2022-07-24T15:20:15.127Z"
      },
      {
        "duration": 0,
        "start_time": "2022-07-24T15:20:15.128Z"
      },
      {
        "duration": 0,
        "start_time": "2022-07-24T15:20:15.129Z"
      },
      {
        "duration": 0,
        "start_time": "2022-07-24T15:20:15.130Z"
      },
      {
        "duration": 0,
        "start_time": "2022-07-24T15:20:15.132Z"
      },
      {
        "duration": 0,
        "start_time": "2022-07-24T15:20:15.134Z"
      },
      {
        "duration": 0,
        "start_time": "2022-07-24T15:20:15.135Z"
      },
      {
        "duration": 0,
        "start_time": "2022-07-24T15:20:15.137Z"
      },
      {
        "duration": 0,
        "start_time": "2022-07-24T15:20:15.138Z"
      },
      {
        "duration": 1,
        "start_time": "2022-07-24T15:20:15.139Z"
      },
      {
        "duration": 0,
        "start_time": "2022-07-24T15:20:15.142Z"
      },
      {
        "duration": 0,
        "start_time": "2022-07-24T15:20:15.143Z"
      },
      {
        "duration": 0,
        "start_time": "2022-07-24T15:20:15.145Z"
      },
      {
        "duration": 15,
        "start_time": "2022-07-24T15:20:44.055Z"
      },
      {
        "duration": 13,
        "start_time": "2022-07-24T15:21:01.080Z"
      },
      {
        "duration": 23,
        "start_time": "2022-07-24T15:21:06.018Z"
      },
      {
        "duration": 27,
        "start_time": "2022-07-24T15:21:09.839Z"
      },
      {
        "duration": 17,
        "start_time": "2022-07-24T15:21:13.529Z"
      },
      {
        "duration": 18,
        "start_time": "2022-07-24T15:21:29.410Z"
      },
      {
        "duration": 21,
        "start_time": "2022-07-24T15:21:35.148Z"
      },
      {
        "duration": 40,
        "start_time": "2022-07-24T15:21:50.969Z"
      },
      {
        "duration": 17,
        "start_time": "2022-07-24T15:22:14.548Z"
      },
      {
        "duration": 28,
        "start_time": "2022-07-24T15:22:43.241Z"
      },
      {
        "duration": 4,
        "start_time": "2022-07-24T15:23:11.361Z"
      },
      {
        "duration": 4,
        "start_time": "2022-07-24T15:23:18.294Z"
      },
      {
        "duration": 5,
        "start_time": "2022-07-24T15:23:37.174Z"
      },
      {
        "duration": 6,
        "start_time": "2022-07-24T15:23:55.155Z"
      },
      {
        "duration": 1093,
        "start_time": "2022-07-24T15:25:32.070Z"
      },
      {
        "duration": 78,
        "start_time": "2022-07-24T15:25:33.165Z"
      },
      {
        "duration": 16,
        "start_time": "2022-07-24T15:25:33.244Z"
      },
      {
        "duration": 21,
        "start_time": "2022-07-24T15:25:33.263Z"
      },
      {
        "duration": 125,
        "start_time": "2022-07-24T15:25:33.286Z"
      },
      {
        "duration": 27,
        "start_time": "2022-07-24T15:25:33.413Z"
      },
      {
        "duration": 17,
        "start_time": "2022-07-24T15:25:33.442Z"
      },
      {
        "duration": 14,
        "start_time": "2022-07-24T15:25:33.461Z"
      },
      {
        "duration": 47,
        "start_time": "2022-07-24T15:25:33.477Z"
      },
      {
        "duration": 5,
        "start_time": "2022-07-24T15:25:33.528Z"
      },
      {
        "duration": 10,
        "start_time": "2022-07-24T15:25:33.535Z"
      },
      {
        "duration": 6,
        "start_time": "2022-07-24T15:25:33.547Z"
      },
      {
        "duration": 26,
        "start_time": "2022-07-24T15:25:33.555Z"
      },
      {
        "duration": 49,
        "start_time": "2022-07-24T15:25:33.583Z"
      },
      {
        "duration": 16,
        "start_time": "2022-07-24T15:25:33.634Z"
      },
      {
        "duration": 233,
        "start_time": "2022-07-24T15:25:33.652Z"
      },
      {
        "duration": 500,
        "start_time": "2022-07-24T15:25:33.887Z"
      },
      {
        "duration": 11,
        "start_time": "2022-07-24T15:25:34.389Z"
      },
      {
        "duration": 5,
        "start_time": "2022-07-24T15:25:34.402Z"
      },
      {
        "duration": 215,
        "start_time": "2022-07-24T15:25:34.408Z"
      },
      {
        "duration": 225,
        "start_time": "2022-07-24T15:25:34.625Z"
      },
      {
        "duration": 98,
        "start_time": "2022-07-24T15:25:34.852Z"
      },
      {
        "duration": 489,
        "start_time": "2022-07-24T15:25:34.951Z"
      },
      {
        "duration": 524,
        "start_time": "2022-07-24T15:25:35.442Z"
      },
      {
        "duration": 63,
        "start_time": "2022-07-24T15:25:35.968Z"
      },
      {
        "duration": 104,
        "start_time": "2022-07-24T15:25:36.033Z"
      },
      {
        "duration": 825,
        "start_time": "2022-07-24T15:25:36.140Z"
      },
      {
        "duration": 66,
        "start_time": "2022-07-24T15:25:36.969Z"
      },
      {
        "duration": 14,
        "start_time": "2022-07-24T15:25:37.037Z"
      },
      {
        "duration": 196,
        "start_time": "2022-07-24T15:25:37.053Z"
      },
      {
        "duration": 5,
        "start_time": "2022-07-24T15:25:37.251Z"
      },
      {
        "duration": 35,
        "start_time": "2022-07-24T15:25:37.257Z"
      },
      {
        "duration": 48,
        "start_time": "2022-07-24T15:25:37.295Z"
      },
      {
        "duration": 16,
        "start_time": "2022-07-24T15:25:37.345Z"
      },
      {
        "duration": 241,
        "start_time": "2022-07-24T15:25:37.363Z"
      },
      {
        "duration": 64,
        "start_time": "2022-07-24T15:25:37.605Z"
      },
      {
        "duration": 18,
        "start_time": "2022-07-24T15:25:37.671Z"
      },
      {
        "duration": 94,
        "start_time": "2022-07-24T15:25:37.690Z"
      },
      {
        "duration": 2814,
        "start_time": "2022-07-24T15:25:37.786Z"
      },
      {
        "duration": 219,
        "start_time": "2022-07-24T15:26:08.032Z"
      },
      {
        "duration": 168,
        "start_time": "2022-07-24T15:26:15.519Z"
      },
      {
        "duration": 36,
        "start_time": "2022-07-24T15:27:21.070Z"
      },
      {
        "duration": 31,
        "start_time": "2022-07-24T15:27:28.526Z"
      },
      {
        "duration": 29,
        "start_time": "2022-07-24T15:31:24.743Z"
      },
      {
        "duration": 16,
        "start_time": "2022-07-24T15:31:36.571Z"
      },
      {
        "duration": 14,
        "start_time": "2022-07-24T15:31:38.852Z"
      },
      {
        "duration": 15,
        "start_time": "2022-07-24T15:31:42.283Z"
      },
      {
        "duration": 13,
        "start_time": "2022-07-24T15:34:00.332Z"
      },
      {
        "duration": 19,
        "start_time": "2022-07-24T15:34:06.948Z"
      },
      {
        "duration": 26,
        "start_time": "2022-07-24T15:34:33.750Z"
      },
      {
        "duration": 21,
        "start_time": "2022-07-24T15:34:56.977Z"
      },
      {
        "duration": 198,
        "start_time": "2022-07-24T15:34:59.527Z"
      },
      {
        "duration": 15,
        "start_time": "2022-07-24T15:39:58.977Z"
      },
      {
        "duration": 16,
        "start_time": "2022-07-24T15:42:07.916Z"
      },
      {
        "duration": 1360,
        "start_time": "2022-07-24T15:43:28.974Z"
      },
      {
        "duration": 1622,
        "start_time": "2022-07-24T15:45:37.669Z"
      },
      {
        "duration": 1497,
        "start_time": "2022-07-24T15:45:41.519Z"
      },
      {
        "duration": 1171,
        "start_time": "2022-07-24T15:45:49.461Z"
      },
      {
        "duration": 43,
        "start_time": "2022-07-24T15:49:53.123Z"
      },
      {
        "duration": 15,
        "start_time": "2022-07-24T15:50:21.724Z"
      },
      {
        "duration": 1391,
        "start_time": "2022-07-24T15:51:12.709Z"
      },
      {
        "duration": 786,
        "start_time": "2022-07-24T15:51:41.861Z"
      },
      {
        "duration": 15,
        "start_time": "2022-07-24T15:55:01.351Z"
      },
      {
        "duration": 20,
        "start_time": "2022-07-24T15:55:12.614Z"
      },
      {
        "duration": 21,
        "start_time": "2022-07-24T15:55:20.667Z"
      },
      {
        "duration": 1132,
        "start_time": "2022-07-24T15:55:32.149Z"
      },
      {
        "duration": 79,
        "start_time": "2022-07-24T15:55:33.283Z"
      },
      {
        "duration": 14,
        "start_time": "2022-07-24T15:55:33.364Z"
      },
      {
        "duration": 27,
        "start_time": "2022-07-24T15:55:33.381Z"
      },
      {
        "duration": 115,
        "start_time": "2022-07-24T15:55:33.410Z"
      },
      {
        "duration": 30,
        "start_time": "2022-07-24T15:55:33.526Z"
      },
      {
        "duration": 17,
        "start_time": "2022-07-24T15:55:33.558Z"
      },
      {
        "duration": 28,
        "start_time": "2022-07-24T15:55:33.577Z"
      },
      {
        "duration": 35,
        "start_time": "2022-07-24T15:55:33.606Z"
      },
      {
        "duration": 26,
        "start_time": "2022-07-24T15:55:33.643Z"
      },
      {
        "duration": 39,
        "start_time": "2022-07-24T15:55:33.671Z"
      },
      {
        "duration": 26,
        "start_time": "2022-07-24T15:55:33.712Z"
      },
      {
        "duration": 30,
        "start_time": "2022-07-24T15:55:33.740Z"
      },
      {
        "duration": 44,
        "start_time": "2022-07-24T15:55:33.772Z"
      },
      {
        "duration": 25,
        "start_time": "2022-07-24T15:55:33.818Z"
      },
      {
        "duration": 232,
        "start_time": "2022-07-24T15:55:33.846Z"
      },
      {
        "duration": 526,
        "start_time": "2022-07-24T15:55:34.080Z"
      },
      {
        "duration": 18,
        "start_time": "2022-07-24T15:55:34.608Z"
      },
      {
        "duration": 6,
        "start_time": "2022-07-24T15:55:34.628Z"
      },
      {
        "duration": 208,
        "start_time": "2022-07-24T15:55:34.636Z"
      },
      {
        "duration": 158,
        "start_time": "2022-07-24T15:55:34.846Z"
      },
      {
        "duration": 32,
        "start_time": "2022-07-24T15:55:35.006Z"
      },
      {
        "duration": 227,
        "start_time": "2022-07-24T15:55:35.040Z"
      },
      {
        "duration": 7,
        "start_time": "2022-07-24T15:55:35.269Z"
      },
      {
        "duration": 34,
        "start_time": "2022-07-24T15:55:35.278Z"
      },
      {
        "duration": 270,
        "start_time": "2022-07-24T15:55:35.324Z"
      },
      {
        "duration": 11,
        "start_time": "2022-07-24T15:55:35.595Z"
      },
      {
        "duration": 14,
        "start_time": "2022-07-24T15:55:35.624Z"
      },
      {
        "duration": 856,
        "start_time": "2022-07-24T15:55:35.639Z"
      },
      {
        "duration": 10,
        "start_time": "2022-07-24T15:55:36.497Z"
      },
      {
        "duration": 144,
        "start_time": "2022-07-24T15:55:36.509Z"
      },
      {
        "duration": 6,
        "start_time": "2022-07-24T15:55:36.655Z"
      },
      {
        "duration": 33,
        "start_time": "2022-07-24T15:55:36.662Z"
      },
      {
        "duration": 43,
        "start_time": "2022-07-24T15:55:36.697Z"
      },
      {
        "duration": 13,
        "start_time": "2022-07-24T15:55:36.742Z"
      },
      {
        "duration": 229,
        "start_time": "2022-07-24T15:55:36.757Z"
      },
      {
        "duration": 62,
        "start_time": "2022-07-24T15:55:36.988Z"
      },
      {
        "duration": 20,
        "start_time": "2022-07-24T15:55:37.052Z"
      },
      {
        "duration": 204,
        "start_time": "2022-07-24T15:55:37.074Z"
      },
      {
        "duration": 2643,
        "start_time": "2022-07-24T15:55:37.280Z"
      },
      {
        "duration": 41,
        "start_time": "2022-07-24T15:56:14.184Z"
      },
      {
        "duration": 19,
        "start_time": "2022-07-24T15:56:21.515Z"
      },
      {
        "duration": 28,
        "start_time": "2022-07-24T15:56:26.199Z"
      },
      {
        "duration": 85,
        "start_time": "2022-07-24T15:56:40.593Z"
      },
      {
        "duration": 24,
        "start_time": "2022-07-24T15:56:54.036Z"
      },
      {
        "duration": 18,
        "start_time": "2022-07-24T15:57:17.755Z"
      },
      {
        "duration": 1676,
        "start_time": "2022-07-24T15:58:57.070Z"
      },
      {
        "duration": 24,
        "start_time": "2022-07-24T16:00:02.332Z"
      },
      {
        "duration": 1082,
        "start_time": "2022-07-24T16:00:12.974Z"
      },
      {
        "duration": 83,
        "start_time": "2022-07-24T16:00:14.058Z"
      },
      {
        "duration": 15,
        "start_time": "2022-07-24T16:00:14.143Z"
      },
      {
        "duration": 18,
        "start_time": "2022-07-24T16:00:14.160Z"
      },
      {
        "duration": 122,
        "start_time": "2022-07-24T16:00:14.180Z"
      },
      {
        "duration": 31,
        "start_time": "2022-07-24T16:00:14.304Z"
      },
      {
        "duration": 21,
        "start_time": "2022-07-24T16:00:14.337Z"
      },
      {
        "duration": 19,
        "start_time": "2022-07-24T16:00:14.360Z"
      },
      {
        "duration": 25,
        "start_time": "2022-07-24T16:00:14.381Z"
      },
      {
        "duration": 19,
        "start_time": "2022-07-24T16:00:14.409Z"
      },
      {
        "duration": 29,
        "start_time": "2022-07-24T16:00:14.430Z"
      },
      {
        "duration": 8,
        "start_time": "2022-07-24T16:00:14.461Z"
      },
      {
        "duration": 33,
        "start_time": "2022-07-24T16:00:14.471Z"
      },
      {
        "duration": 36,
        "start_time": "2022-07-24T16:00:14.506Z"
      },
      {
        "duration": 13,
        "start_time": "2022-07-24T16:00:14.544Z"
      },
      {
        "duration": 241,
        "start_time": "2022-07-24T16:00:14.559Z"
      },
      {
        "duration": 533,
        "start_time": "2022-07-24T16:00:14.802Z"
      },
      {
        "duration": 13,
        "start_time": "2022-07-24T16:00:15.337Z"
      },
      {
        "duration": 11,
        "start_time": "2022-07-24T16:00:15.351Z"
      },
      {
        "duration": 263,
        "start_time": "2022-07-24T16:00:15.364Z"
      },
      {
        "duration": 298,
        "start_time": "2022-07-24T16:00:15.629Z"
      },
      {
        "duration": 21,
        "start_time": "2022-07-24T16:00:15.929Z"
      },
      {
        "duration": 609,
        "start_time": "2022-07-24T16:00:15.953Z"
      },
      {
        "duration": 61,
        "start_time": "2022-07-24T16:00:16.564Z"
      },
      {
        "duration": 103,
        "start_time": "2022-07-24T16:00:16.627Z"
      },
      {
        "duration": 534,
        "start_time": "2022-07-24T16:00:16.733Z"
      },
      {
        "duration": 62,
        "start_time": "2022-07-24T16:00:17.269Z"
      },
      {
        "duration": 16,
        "start_time": "2022-07-24T16:00:17.335Z"
      },
      {
        "duration": 926,
        "start_time": "2022-07-24T16:00:17.353Z"
      },
      {
        "duration": 12,
        "start_time": "2022-07-24T16:00:18.281Z"
      },
      {
        "duration": 140,
        "start_time": "2022-07-24T16:00:18.295Z"
      },
      {
        "duration": 5,
        "start_time": "2022-07-24T16:00:18.436Z"
      },
      {
        "duration": 24,
        "start_time": "2022-07-24T16:00:18.443Z"
      },
      {
        "duration": 22,
        "start_time": "2022-07-24T16:00:18.469Z"
      },
      {
        "duration": 42,
        "start_time": "2022-07-24T16:00:18.492Z"
      },
      {
        "duration": 218,
        "start_time": "2022-07-24T16:00:18.536Z"
      },
      {
        "duration": 54,
        "start_time": "2022-07-24T16:00:18.756Z"
      },
      {
        "duration": 1660,
        "start_time": "2022-07-24T16:00:18.824Z"
      },
      {
        "duration": 18,
        "start_time": "2022-07-24T16:00:20.485Z"
      },
      {
        "duration": 194,
        "start_time": "2022-07-24T16:00:20.505Z"
      },
      {
        "duration": 38,
        "start_time": "2022-07-24T16:00:20.700Z"
      },
      {
        "duration": 23,
        "start_time": "2022-07-24T16:00:20.739Z"
      },
      {
        "duration": 25,
        "start_time": "2022-07-24T16:01:42.668Z"
      },
      {
        "duration": 29,
        "start_time": "2022-07-24T16:03:01.053Z"
      },
      {
        "duration": 28,
        "start_time": "2022-07-24T16:03:21.230Z"
      },
      {
        "duration": 40,
        "start_time": "2022-07-24T16:04:42.881Z"
      },
      {
        "duration": 79,
        "start_time": "2022-07-24T18:18:49.281Z"
      },
      {
        "duration": 1289,
        "start_time": "2022-07-24T18:20:43.351Z"
      },
      {
        "duration": 245,
        "start_time": "2022-07-24T18:20:44.643Z"
      },
      {
        "duration": 21,
        "start_time": "2022-07-24T18:20:44.889Z"
      },
      {
        "duration": 25,
        "start_time": "2022-07-24T18:20:44.913Z"
      },
      {
        "duration": 107,
        "start_time": "2022-07-24T18:20:44.940Z"
      },
      {
        "duration": 39,
        "start_time": "2022-07-24T18:20:45.049Z"
      },
      {
        "duration": 21,
        "start_time": "2022-07-24T18:20:45.090Z"
      },
      {
        "duration": 15,
        "start_time": "2022-07-24T18:20:45.113Z"
      },
      {
        "duration": 44,
        "start_time": "2022-07-24T18:20:45.130Z"
      },
      {
        "duration": 5,
        "start_time": "2022-07-24T18:20:45.176Z"
      },
      {
        "duration": 8,
        "start_time": "2022-07-24T18:20:45.183Z"
      },
      {
        "duration": 9,
        "start_time": "2022-07-24T18:20:45.193Z"
      },
      {
        "duration": 15,
        "start_time": "2022-07-24T18:20:45.204Z"
      },
      {
        "duration": 53,
        "start_time": "2022-07-24T18:20:45.221Z"
      },
      {
        "duration": 14,
        "start_time": "2022-07-24T18:20:45.276Z"
      },
      {
        "duration": 241,
        "start_time": "2022-07-24T18:20:45.292Z"
      },
      {
        "duration": 704,
        "start_time": "2022-07-24T18:20:45.535Z"
      },
      {
        "duration": 13,
        "start_time": "2022-07-24T18:20:46.240Z"
      },
      {
        "duration": 28,
        "start_time": "2022-07-24T18:20:46.255Z"
      },
      {
        "duration": 220,
        "start_time": "2022-07-24T18:20:46.285Z"
      },
      {
        "duration": 181,
        "start_time": "2022-07-24T18:20:46.507Z"
      },
      {
        "duration": 15,
        "start_time": "2022-07-24T18:20:46.690Z"
      },
      {
        "duration": 215,
        "start_time": "2022-07-24T18:20:46.707Z"
      },
      {
        "duration": 11,
        "start_time": "2022-07-24T18:20:46.924Z"
      },
      {
        "duration": 59,
        "start_time": "2022-07-24T18:20:46.938Z"
      },
      {
        "duration": 265,
        "start_time": "2022-07-24T18:20:46.999Z"
      },
      {
        "duration": 14,
        "start_time": "2022-07-24T18:20:47.266Z"
      },
      {
        "duration": 19,
        "start_time": "2022-07-24T18:20:47.284Z"
      },
      {
        "duration": 734,
        "start_time": "2022-07-24T18:20:47.304Z"
      },
      {
        "duration": 20,
        "start_time": "2022-07-24T18:20:48.041Z"
      },
      {
        "duration": 137,
        "start_time": "2022-07-24T18:20:48.064Z"
      },
      {
        "duration": 5,
        "start_time": "2022-07-24T18:20:48.203Z"
      },
      {
        "duration": 26,
        "start_time": "2022-07-24T18:20:48.210Z"
      },
      {
        "duration": 40,
        "start_time": "2022-07-24T18:20:48.238Z"
      },
      {
        "duration": 24,
        "start_time": "2022-07-24T18:20:48.280Z"
      },
      {
        "duration": 198,
        "start_time": "2022-07-24T18:20:48.306Z"
      },
      {
        "duration": 65,
        "start_time": "2022-07-24T18:20:48.506Z"
      },
      {
        "duration": 2496,
        "start_time": "2022-07-24T18:20:48.573Z"
      },
      {
        "duration": 18,
        "start_time": "2022-07-24T18:20:51.071Z"
      },
      {
        "duration": 46,
        "start_time": "2022-07-24T18:20:51.090Z"
      },
      {
        "duration": 209,
        "start_time": "2022-07-24T18:20:51.160Z"
      },
      {
        "duration": 23,
        "start_time": "2022-07-24T18:20:51.371Z"
      },
      {
        "duration": 22,
        "start_time": "2022-07-24T18:20:51.395Z"
      },
      {
        "duration": 49,
        "start_time": "2022-07-24T18:21:28.428Z"
      },
      {
        "duration": 24,
        "start_time": "2022-07-24T18:21:48.505Z"
      },
      {
        "duration": 27,
        "start_time": "2022-07-24T18:22:11.061Z"
      },
      {
        "duration": 25,
        "start_time": "2022-07-24T18:22:21.102Z"
      },
      {
        "duration": 31,
        "start_time": "2022-07-24T18:23:18.943Z"
      },
      {
        "duration": 90,
        "start_time": "2022-07-24T18:23:36.256Z"
      },
      {
        "duration": 21,
        "start_time": "2022-07-24T18:25:00.250Z"
      },
      {
        "duration": 22,
        "start_time": "2022-07-24T18:25:04.847Z"
      },
      {
        "duration": 23,
        "start_time": "2022-07-24T18:25:19.110Z"
      },
      {
        "duration": 24,
        "start_time": "2022-07-24T18:31:56.823Z"
      },
      {
        "duration": 100,
        "start_time": "2022-07-24T18:32:00.330Z"
      },
      {
        "duration": 208,
        "start_time": "2022-07-24T18:38:16.906Z"
      },
      {
        "duration": 16,
        "start_time": "2022-07-24T18:40:36.868Z"
      },
      {
        "duration": 28,
        "start_time": "2022-07-24T18:40:57.857Z"
      },
      {
        "duration": 35,
        "start_time": "2022-07-24T18:41:10.952Z"
      },
      {
        "duration": 21,
        "start_time": "2022-07-24T18:42:12.994Z"
      },
      {
        "duration": 121,
        "start_time": "2022-07-24T18:42:22.484Z"
      },
      {
        "duration": 128,
        "start_time": "2022-07-24T18:43:15.730Z"
      },
      {
        "duration": 84,
        "start_time": "2022-07-24T18:43:54.103Z"
      },
      {
        "duration": 1096,
        "start_time": "2022-07-24T21:33:22.216Z"
      },
      {
        "duration": 74,
        "start_time": "2022-07-24T21:33:23.314Z"
      },
      {
        "duration": 14,
        "start_time": "2022-07-24T21:33:23.389Z"
      },
      {
        "duration": 14,
        "start_time": "2022-07-24T21:33:23.405Z"
      },
      {
        "duration": 107,
        "start_time": "2022-07-24T21:33:23.420Z"
      },
      {
        "duration": 24,
        "start_time": "2022-07-24T21:33:23.528Z"
      },
      {
        "duration": 14,
        "start_time": "2022-07-24T21:33:23.554Z"
      },
      {
        "duration": 10,
        "start_time": "2022-07-24T21:33:23.570Z"
      },
      {
        "duration": 10,
        "start_time": "2022-07-24T21:33:23.581Z"
      },
      {
        "duration": 3,
        "start_time": "2022-07-24T21:33:23.594Z"
      },
      {
        "duration": 8,
        "start_time": "2022-07-24T21:33:23.599Z"
      },
      {
        "duration": 37,
        "start_time": "2022-07-24T21:33:23.609Z"
      },
      {
        "duration": 12,
        "start_time": "2022-07-24T21:33:23.648Z"
      },
      {
        "duration": 14,
        "start_time": "2022-07-24T21:33:23.662Z"
      },
      {
        "duration": 12,
        "start_time": "2022-07-24T21:33:23.678Z"
      },
      {
        "duration": 224,
        "start_time": "2022-07-24T21:33:23.692Z"
      },
      {
        "duration": 489,
        "start_time": "2022-07-24T21:33:23.918Z"
      },
      {
        "duration": 37,
        "start_time": "2022-07-24T21:33:24.409Z"
      },
      {
        "duration": 4,
        "start_time": "2022-07-24T21:33:24.448Z"
      },
      {
        "duration": 170,
        "start_time": "2022-07-24T21:33:24.453Z"
      },
      {
        "duration": 140,
        "start_time": "2022-07-24T21:33:24.625Z"
      },
      {
        "duration": 15,
        "start_time": "2022-07-24T21:33:24.766Z"
      },
      {
        "duration": 191,
        "start_time": "2022-07-24T21:33:24.783Z"
      },
      {
        "duration": 7,
        "start_time": "2022-07-24T21:33:24.976Z"
      },
      {
        "duration": 30,
        "start_time": "2022-07-24T21:33:24.985Z"
      },
      {
        "duration": 249,
        "start_time": "2022-07-24T21:33:25.017Z"
      },
      {
        "duration": 10,
        "start_time": "2022-07-24T21:33:25.268Z"
      },
      {
        "duration": 14,
        "start_time": "2022-07-24T21:33:25.281Z"
      },
      {
        "duration": 661,
        "start_time": "2022-07-24T21:33:25.296Z"
      },
      {
        "duration": 10,
        "start_time": "2022-07-24T21:33:25.958Z"
      },
      {
        "duration": 120,
        "start_time": "2022-07-24T21:33:25.970Z"
      },
      {
        "duration": 4,
        "start_time": "2022-07-24T21:33:26.092Z"
      },
      {
        "duration": 22,
        "start_time": "2022-07-24T21:33:26.098Z"
      },
      {
        "duration": 40,
        "start_time": "2022-07-24T21:33:26.121Z"
      },
      {
        "duration": 17,
        "start_time": "2022-07-24T21:33:26.163Z"
      },
      {
        "duration": 183,
        "start_time": "2022-07-24T21:33:26.181Z"
      },
      {
        "duration": 47,
        "start_time": "2022-07-24T21:33:26.366Z"
      },
      {
        "duration": 1502,
        "start_time": "2022-07-24T21:33:26.415Z"
      },
      {
        "duration": 123,
        "start_time": "2022-07-24T21:33:27.919Z"
      },
      {
        "duration": 162,
        "start_time": "2022-07-24T21:33:28.045Z"
      },
      {
        "duration": 38,
        "start_time": "2022-07-24T21:33:28.208Z"
      },
      {
        "duration": 136,
        "start_time": "2022-07-24T21:35:03.696Z"
      },
      {
        "duration": 7,
        "start_time": "2022-07-24T21:35:10.571Z"
      },
      {
        "duration": 15,
        "start_time": "2022-07-24T21:35:30.159Z"
      },
      {
        "duration": 14,
        "start_time": "2022-07-24T21:35:44.806Z"
      },
      {
        "duration": 122,
        "start_time": "2022-07-24T21:39:32.766Z"
      },
      {
        "duration": 40,
        "start_time": "2022-07-24T21:41:42.327Z"
      },
      {
        "duration": 120,
        "start_time": "2022-07-24T21:42:16.903Z"
      },
      {
        "duration": 1390,
        "start_time": "2022-07-24T21:42:37.444Z"
      },
      {
        "duration": 1426,
        "start_time": "2022-07-24T21:42:46.909Z"
      },
      {
        "duration": 76,
        "start_time": "2022-07-24T21:43:24.791Z"
      },
      {
        "duration": 11,
        "start_time": "2022-07-24T21:43:33.428Z"
      },
      {
        "duration": 10,
        "start_time": "2022-07-24T21:44:45.808Z"
      },
      {
        "duration": 118,
        "start_time": "2022-07-24T21:44:56.081Z"
      },
      {
        "duration": 10,
        "start_time": "2022-07-24T21:44:58.174Z"
      },
      {
        "duration": 79,
        "start_time": "2022-07-24T21:45:00.005Z"
      },
      {
        "duration": 5,
        "start_time": "2022-07-24T21:45:07.842Z"
      },
      {
        "duration": 78,
        "start_time": "2022-07-24T21:45:09.447Z"
      },
      {
        "duration": 57,
        "start_time": "2022-07-25T08:15:35.631Z"
      },
      {
        "duration": 1574,
        "start_time": "2022-07-25T08:15:41.788Z"
      },
      {
        "duration": 140,
        "start_time": "2022-07-25T08:15:43.364Z"
      },
      {
        "duration": 22,
        "start_time": "2022-07-25T08:15:43.506Z"
      },
      {
        "duration": 26,
        "start_time": "2022-07-25T08:15:43.530Z"
      },
      {
        "duration": 122,
        "start_time": "2022-07-25T08:15:43.558Z"
      },
      {
        "duration": 34,
        "start_time": "2022-07-25T08:15:43.681Z"
      },
      {
        "duration": 21,
        "start_time": "2022-07-25T08:15:43.718Z"
      },
      {
        "duration": 13,
        "start_time": "2022-07-25T08:15:43.740Z"
      },
      {
        "duration": 13,
        "start_time": "2022-07-25T08:15:43.754Z"
      },
      {
        "duration": 42,
        "start_time": "2022-07-25T08:15:43.770Z"
      },
      {
        "duration": 25,
        "start_time": "2022-07-25T08:15:43.815Z"
      },
      {
        "duration": 10,
        "start_time": "2022-07-25T08:15:43.842Z"
      },
      {
        "duration": 16,
        "start_time": "2022-07-25T08:15:43.854Z"
      },
      {
        "duration": 18,
        "start_time": "2022-07-25T08:15:43.872Z"
      },
      {
        "duration": 147,
        "start_time": "2022-07-25T08:15:43.892Z"
      },
      {
        "duration": 0,
        "start_time": "2022-07-25T08:15:44.042Z"
      },
      {
        "duration": 0,
        "start_time": "2022-07-25T08:15:44.044Z"
      },
      {
        "duration": 0,
        "start_time": "2022-07-25T08:15:44.045Z"
      },
      {
        "duration": 1,
        "start_time": "2022-07-25T08:15:44.046Z"
      },
      {
        "duration": 0,
        "start_time": "2022-07-25T08:15:44.048Z"
      },
      {
        "duration": 0,
        "start_time": "2022-07-25T08:15:44.050Z"
      },
      {
        "duration": 0,
        "start_time": "2022-07-25T08:15:44.052Z"
      },
      {
        "duration": 1,
        "start_time": "2022-07-25T08:15:44.053Z"
      },
      {
        "duration": 0,
        "start_time": "2022-07-25T08:15:44.055Z"
      },
      {
        "duration": 0,
        "start_time": "2022-07-25T08:15:44.056Z"
      },
      {
        "duration": 0,
        "start_time": "2022-07-25T08:15:44.058Z"
      },
      {
        "duration": 0,
        "start_time": "2022-07-25T08:15:44.059Z"
      },
      {
        "duration": 0,
        "start_time": "2022-07-25T08:15:44.061Z"
      },
      {
        "duration": 0,
        "start_time": "2022-07-25T08:15:44.062Z"
      },
      {
        "duration": 0,
        "start_time": "2022-07-25T08:15:44.064Z"
      },
      {
        "duration": 0,
        "start_time": "2022-07-25T08:15:44.065Z"
      },
      {
        "duration": 0,
        "start_time": "2022-07-25T08:15:44.066Z"
      },
      {
        "duration": 0,
        "start_time": "2022-07-25T08:15:44.067Z"
      },
      {
        "duration": 0,
        "start_time": "2022-07-25T08:15:44.111Z"
      },
      {
        "duration": 0,
        "start_time": "2022-07-25T08:15:44.113Z"
      },
      {
        "duration": 0,
        "start_time": "2022-07-25T08:15:44.114Z"
      },
      {
        "duration": 0,
        "start_time": "2022-07-25T08:15:44.116Z"
      },
      {
        "duration": 0,
        "start_time": "2022-07-25T08:15:44.117Z"
      },
      {
        "duration": 0,
        "start_time": "2022-07-25T08:15:44.119Z"
      },
      {
        "duration": 0,
        "start_time": "2022-07-25T08:15:44.121Z"
      },
      {
        "duration": 1,
        "start_time": "2022-07-25T08:15:44.122Z"
      },
      {
        "duration": 0,
        "start_time": "2022-07-25T08:15:44.123Z"
      },
      {
        "duration": 0,
        "start_time": "2022-07-25T08:15:44.125Z"
      },
      {
        "duration": 0,
        "start_time": "2022-07-25T08:15:44.127Z"
      },
      {
        "duration": 0,
        "start_time": "2022-07-25T08:15:44.128Z"
      },
      {
        "duration": 27,
        "start_time": "2022-07-25T08:16:26.685Z"
      },
      {
        "duration": 19,
        "start_time": "2022-07-25T08:16:43.472Z"
      },
      {
        "duration": 17,
        "start_time": "2022-07-25T08:17:02.164Z"
      },
      {
        "duration": 24,
        "start_time": "2022-07-25T08:17:12.451Z"
      },
      {
        "duration": 626,
        "start_time": "2022-07-25T08:19:07.397Z"
      },
      {
        "duration": 39,
        "start_time": "2022-07-25T08:19:20.854Z"
      },
      {
        "duration": 15,
        "start_time": "2022-07-25T08:19:24.954Z"
      },
      {
        "duration": 26,
        "start_time": "2022-07-25T08:19:27.266Z"
      },
      {
        "duration": 21,
        "start_time": "2022-07-25T08:19:55.947Z"
      },
      {
        "duration": 111,
        "start_time": "2022-07-25T08:22:03.151Z"
      },
      {
        "duration": 19,
        "start_time": "2022-07-25T08:22:17.470Z"
      },
      {
        "duration": 50,
        "start_time": "2022-07-25T08:22:26.638Z"
      },
      {
        "duration": 86,
        "start_time": "2022-07-25T08:22:42.086Z"
      },
      {
        "duration": 29,
        "start_time": "2022-07-25T08:25:01.400Z"
      },
      {
        "duration": 40,
        "start_time": "2022-07-25T08:25:43.466Z"
      },
      {
        "duration": 40,
        "start_time": "2022-07-25T08:25:55.392Z"
      },
      {
        "duration": 50,
        "start_time": "2022-07-25T08:26:38.357Z"
      },
      {
        "duration": 40,
        "start_time": "2022-07-25T08:26:54.678Z"
      },
      {
        "duration": 44,
        "start_time": "2022-07-25T08:27:14.094Z"
      },
      {
        "duration": 40,
        "start_time": "2022-07-25T08:27:36.728Z"
      },
      {
        "duration": 37,
        "start_time": "2022-07-25T08:29:02.303Z"
      },
      {
        "duration": 47,
        "start_time": "2022-07-25T08:29:11.807Z"
      },
      {
        "duration": 41,
        "start_time": "2022-07-25T08:31:11.574Z"
      },
      {
        "duration": 1341,
        "start_time": "2022-07-25T08:32:11.618Z"
      },
      {
        "duration": 1408,
        "start_time": "2022-07-25T08:32:18.318Z"
      },
      {
        "duration": 10,
        "start_time": "2022-07-25T08:32:42.652Z"
      },
      {
        "duration": 10,
        "start_time": "2022-07-25T08:32:47.431Z"
      },
      {
        "duration": 1250,
        "start_time": "2022-07-25T08:33:03.739Z"
      },
      {
        "duration": 81,
        "start_time": "2022-07-25T08:33:04.991Z"
      },
      {
        "duration": 17,
        "start_time": "2022-07-25T08:33:05.073Z"
      },
      {
        "duration": 29,
        "start_time": "2022-07-25T08:33:05.093Z"
      },
      {
        "duration": 114,
        "start_time": "2022-07-25T08:33:05.123Z"
      },
      {
        "duration": 25,
        "start_time": "2022-07-25T08:33:05.239Z"
      },
      {
        "duration": 22,
        "start_time": "2022-07-25T08:33:05.266Z"
      },
      {
        "duration": 33,
        "start_time": "2022-07-25T08:33:05.290Z"
      },
      {
        "duration": 19,
        "start_time": "2022-07-25T08:33:05.326Z"
      },
      {
        "duration": 5,
        "start_time": "2022-07-25T08:33:05.350Z"
      },
      {
        "duration": 12,
        "start_time": "2022-07-25T08:33:05.357Z"
      },
      {
        "duration": 7,
        "start_time": "2022-07-25T08:33:05.371Z"
      },
      {
        "duration": 14,
        "start_time": "2022-07-25T08:33:05.411Z"
      },
      {
        "duration": 24,
        "start_time": "2022-07-25T08:33:05.427Z"
      },
      {
        "duration": 60,
        "start_time": "2022-07-25T08:33:05.453Z"
      },
      {
        "duration": 11,
        "start_time": "2022-07-25T08:33:05.515Z"
      },
      {
        "duration": 18,
        "start_time": "2022-07-25T08:33:05.527Z"
      },
      {
        "duration": 247,
        "start_time": "2022-07-25T08:33:05.547Z"
      },
      {
        "duration": 573,
        "start_time": "2022-07-25T08:33:05.796Z"
      },
      {
        "duration": 13,
        "start_time": "2022-07-25T08:33:06.371Z"
      },
      {
        "duration": 6,
        "start_time": "2022-07-25T08:33:06.386Z"
      },
      {
        "duration": 256,
        "start_time": "2022-07-25T08:33:06.394Z"
      },
      {
        "duration": 173,
        "start_time": "2022-07-25T08:33:06.652Z"
      },
      {
        "duration": 6,
        "start_time": "2022-07-25T08:33:06.827Z"
      },
      {
        "duration": 23,
        "start_time": "2022-07-25T08:33:06.835Z"
      },
      {
        "duration": 63,
        "start_time": "2022-07-25T08:33:06.860Z"
      },
      {
        "duration": 422,
        "start_time": "2022-07-25T08:33:06.925Z"
      },
      {
        "duration": 61,
        "start_time": "2022-07-25T08:33:07.351Z"
      },
      {
        "duration": 37,
        "start_time": "2022-07-25T08:33:07.414Z"
      },
      {
        "duration": 658,
        "start_time": "2022-07-25T08:33:07.454Z"
      },
      {
        "duration": 12,
        "start_time": "2022-07-25T08:33:08.114Z"
      },
      {
        "duration": 26,
        "start_time": "2022-07-25T08:33:08.128Z"
      },
      {
        "duration": 1199,
        "start_time": "2022-07-25T08:33:08.156Z"
      },
      {
        "duration": 11,
        "start_time": "2022-07-25T08:33:09.357Z"
      },
      {
        "duration": 155,
        "start_time": "2022-07-25T08:33:09.370Z"
      },
      {
        "duration": 5,
        "start_time": "2022-07-25T08:33:09.527Z"
      },
      {
        "duration": 62,
        "start_time": "2022-07-25T08:33:09.534Z"
      },
      {
        "duration": 70,
        "start_time": "2022-07-25T08:33:09.598Z"
      },
      {
        "duration": 19,
        "start_time": "2022-07-25T08:33:09.670Z"
      },
      {
        "duration": 214,
        "start_time": "2022-07-25T08:33:09.691Z"
      },
      {
        "duration": 55,
        "start_time": "2022-07-25T08:33:09.907Z"
      },
      {
        "duration": 2721,
        "start_time": "2022-07-25T08:33:09.964Z"
      },
      {
        "duration": 149,
        "start_time": "2022-07-25T08:33:12.687Z"
      },
      {
        "duration": 3,
        "start_time": "2022-07-25T08:33:12.838Z"
      },
      {
        "duration": 198,
        "start_time": "2022-07-25T08:33:12.843Z"
      },
      {
        "duration": 26,
        "start_time": "2022-07-25T08:33:13.043Z"
      },
      {
        "duration": 33,
        "start_time": "2022-07-25T08:33:37.245Z"
      },
      {
        "duration": 203,
        "start_time": "2022-07-25T08:33:45.637Z"
      },
      {
        "duration": 11,
        "start_time": "2022-07-25T08:33:53.015Z"
      },
      {
        "duration": 1279,
        "start_time": "2022-07-25T08:34:45.419Z"
      },
      {
        "duration": 83,
        "start_time": "2022-07-25T08:34:46.701Z"
      },
      {
        "duration": 19,
        "start_time": "2022-07-25T08:34:46.786Z"
      },
      {
        "duration": 73,
        "start_time": "2022-07-25T08:34:46.808Z"
      },
      {
        "duration": 106,
        "start_time": "2022-07-25T08:34:46.884Z"
      },
      {
        "duration": 27,
        "start_time": "2022-07-25T08:34:46.992Z"
      },
      {
        "duration": 18,
        "start_time": "2022-07-25T08:34:47.021Z"
      },
      {
        "duration": 13,
        "start_time": "2022-07-25T08:34:47.041Z"
      },
      {
        "duration": 14,
        "start_time": "2022-07-25T08:34:47.055Z"
      },
      {
        "duration": 40,
        "start_time": "2022-07-25T08:34:47.071Z"
      },
      {
        "duration": 22,
        "start_time": "2022-07-25T08:34:47.113Z"
      },
      {
        "duration": 6,
        "start_time": "2022-07-25T08:34:47.137Z"
      },
      {
        "duration": 14,
        "start_time": "2022-07-25T08:34:47.145Z"
      },
      {
        "duration": 16,
        "start_time": "2022-07-25T08:34:47.161Z"
      },
      {
        "duration": 53,
        "start_time": "2022-07-25T08:34:47.179Z"
      },
      {
        "duration": 10,
        "start_time": "2022-07-25T08:34:47.234Z"
      },
      {
        "duration": 25,
        "start_time": "2022-07-25T08:34:47.246Z"
      },
      {
        "duration": 254,
        "start_time": "2022-07-25T08:34:47.273Z"
      },
      {
        "duration": 563,
        "start_time": "2022-07-25T08:34:47.529Z"
      },
      {
        "duration": 14,
        "start_time": "2022-07-25T08:34:48.094Z"
      },
      {
        "duration": 16,
        "start_time": "2022-07-25T08:34:48.110Z"
      },
      {
        "duration": 251,
        "start_time": "2022-07-25T08:34:48.128Z"
      },
      {
        "duration": 158,
        "start_time": "2022-07-25T08:34:48.381Z"
      },
      {
        "duration": 7,
        "start_time": "2022-07-25T08:34:48.540Z"
      },
      {
        "duration": 17,
        "start_time": "2022-07-25T08:34:48.549Z"
      },
      {
        "duration": 46,
        "start_time": "2022-07-25T08:34:48.568Z"
      },
      {
        "duration": 521,
        "start_time": "2022-07-25T08:34:48.617Z"
      },
      {
        "duration": 9,
        "start_time": "2022-07-25T08:34:49.142Z"
      },
      {
        "duration": 89,
        "start_time": "2022-07-25T08:34:49.153Z"
      },
      {
        "duration": 707,
        "start_time": "2022-07-25T08:34:49.244Z"
      },
      {
        "duration": 66,
        "start_time": "2022-07-25T08:34:49.953Z"
      },
      {
        "duration": 17,
        "start_time": "2022-07-25T08:34:50.021Z"
      },
      {
        "duration": 1145,
        "start_time": "2022-07-25T08:34:50.041Z"
      },
      {
        "duration": 11,
        "start_time": "2022-07-25T08:34:51.188Z"
      },
      {
        "duration": 145,
        "start_time": "2022-07-25T08:34:51.211Z"
      },
      {
        "duration": 6,
        "start_time": "2022-07-25T08:34:51.357Z"
      },
      {
        "duration": 35,
        "start_time": "2022-07-25T08:34:51.364Z"
      },
      {
        "duration": 24,
        "start_time": "2022-07-25T08:34:51.410Z"
      },
      {
        "duration": 13,
        "start_time": "2022-07-25T08:34:51.437Z"
      },
      {
        "duration": 242,
        "start_time": "2022-07-25T08:34:51.452Z"
      },
      {
        "duration": 62,
        "start_time": "2022-07-25T08:34:51.696Z"
      },
      {
        "duration": 1552,
        "start_time": "2022-07-25T08:34:51.760Z"
      },
      {
        "duration": 240,
        "start_time": "2022-07-25T08:34:53.314Z"
      },
      {
        "duration": 4,
        "start_time": "2022-07-25T08:34:53.611Z"
      },
      {
        "duration": 202,
        "start_time": "2022-07-25T08:34:53.617Z"
      },
      {
        "duration": 25,
        "start_time": "2022-07-25T08:34:53.821Z"
      },
      {
        "duration": 1361,
        "start_time": "2022-07-25T08:41:46.290Z"
      },
      {
        "duration": 6,
        "start_time": "2022-07-25T08:41:54.881Z"
      },
      {
        "duration": 6,
        "start_time": "2022-07-25T08:42:20.428Z"
      },
      {
        "duration": 4,
        "start_time": "2022-07-25T08:42:58.276Z"
      },
      {
        "duration": 5,
        "start_time": "2022-07-25T08:43:02.786Z"
      },
      {
        "duration": 5,
        "start_time": "2022-07-25T08:43:44.645Z"
      },
      {
        "duration": 10,
        "start_time": "2022-07-25T08:43:48.460Z"
      },
      {
        "duration": 144,
        "start_time": "2022-07-25T08:44:15.958Z"
      },
      {
        "duration": 54,
        "start_time": "2022-07-25T08:44:23.257Z"
      }
    ],
    "colab": {
      "provenance": []
    },
    "kernelspec": {
      "display_name": "Python 3 (ipykernel)",
      "language": "python",
      "name": "python3"
    },
    "language_info": {
      "codemirror_mode": {
        "name": "ipython",
        "version": 3
      },
      "file_extension": ".py",
      "mimetype": "text/x-python",
      "name": "python",
      "nbconvert_exporter": "python",
      "pygments_lexer": "ipython3",
      "version": "3.9.5"
    },
    "toc": {
      "base_numbering": 1,
      "nav_menu": {},
      "number_sections": true,
      "sideBar": true,
      "skip_h1_title": true,
      "title_cell": "Table of Contents",
      "title_sidebar": "Contents",
      "toc_cell": false,
      "toc_position": {},
      "toc_section_display": true,
      "toc_window_display": true
    }
  },
  "nbformat": 4,
  "nbformat_minor": 5
}