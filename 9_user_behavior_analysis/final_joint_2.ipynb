{
  "cells": [
    {
      "cell_type": "markdown",
      "metadata": {
        "id": "kCBPgX0TwvAe"
      },
      "source": [
        "## Оглавление\n",
        "1. [Обзор и предобработка данных](#pre_processing)\n",
        "2. [Изучение и проверка данных](#analysis)\n",
        "3. [Воронка событий](#funnel)\n",
        "4. [Результаты эксперимента](#results)\n",
        "5. [Общий вывод](#sumup)"
      ]
    },
    {
      "cell_type": "markdown",
      "metadata": {
        "id": "qEWfzoGmxo35"
      },
      "source": [
        "**Поведение пользователей мобильного приложения**\n",
        "\n",
        "Для стартапа, который продаёт продукты питания нужно разобраться, как ведут себя пользователи мобильного приложения. Нужно изучить воронку продаж и исследовать результаты эксперимента по замене шрифтов во всём приложении.\n",
        "\n",
        "**Цель исследования** — изучить поведение пользователей мобильного приложения.\n",
        "\n",
        "**Ход исследования**\n",
        "\n",
        "Перед анализом данных понадобится обзор и предобработка данных. Необходимо проверить данные на ошибки и оценить их влияние на исследование.\n",
        "\n",
        "Затем мы изучим воронку продаж, узнаем, как пользователи доходят до покупки, узнаем, сколько пользователей доходит до покупки, а сколько — «застревает» на предыдущих шагах?\n",
        "После этого мы исследуем результаты A/A/B-эксперимента. Пользователей разбили на 3 группы: 2 контрольные со старыми шрифтами и одну экспериментальную — с новыми. Выясним, какой шрифт лучше.\n",
        "\n",
        "Таким образом, исследование пройдёт в четыре этапа:\n",
        "\n",
        "- Обзор данных и предобработка данных.\n",
        "- Изучение и проверка данных:\n",
        "  - Сколько всего событий в логе?\n",
        "  - Сколько всего пользователей в логе?\n",
        "  - Сколько в среднем событий приходится на пользователя?\n",
        "  - Данными за какой период мы располагаем? Можно ли быть уверенным, что у нас одинаково полные данные за весь период? Много ли событий и пользователей мы потеряли, отбросив старые данные?\n",
        "- Изучение воронки событий:\n",
        "  - Какие события есть в логах, как часто они встречаются. \n",
        "  - Сколько пользователей совершали каждое из этих событий? Какова доля пользователей, которые хоть раз совершали событие.\n",
        "  - В каком порядке происходят события? \n",
        "  - Какая доля пользователей проходит на следующий шаг воронки?\n",
        "  - На каком шаге теряете больше всего пользователей?\n",
        "  - Какая доля пользователей доходит от первого события до оплаты?\n",
        "- Анализ результатов эксперимента:\n",
        "  - Сколько пользователей в каждой экспериментальной группе?\n",
        "  - Находят ли статистические критерии разницу между выборками?\n",
        "  - Каково число и доля пользователей, совершивших это событие в каждой из  групп? Будет ли отличие между группами статистически достоверным. \n",
        "  - Какие выводы из эксперимента можно сделать?\n",
        "  - Какой уровень значимости стоит применить? \n",
        "- Вывод."
      ]
    },
    {
      "cell_type": "markdown",
      "metadata": {
        "id": "qXpo1uT3u4Gd"
      },
      "source": [
        "## 1. Обзор и предобработка данных\n",
        "<a name=\"pre_processing\"></a>"
      ]
    },
    {
      "cell_type": "code",
      "execution_count": 91,
      "metadata": {
        "id": "pP35nduGoD5A"
      },
      "outputs": [],
      "source": [
        "import pandas as pd\n",
        "import datetime as dt\n",
        "import seaborn as sns\n",
        "import matplotlib.pyplot as plt\n",
        "from scipy import stats as st\n",
        "import numpy as np\n",
        "import math as mth"
      ]
    },
    {
      "cell_type": "code",
      "execution_count": 92,
      "metadata": {
        "colab": {
          "base_uri": "https://localhost:8080/",
          "height": 206
        },
        "id": "FediUXiooQX7",
        "outputId": "01410c82-7742-4f1d-ecf1-f1912a8ca90d",
        "scrolled": true
      },
      "outputs": [
        {
          "output_type": "execute_result",
          "data": {
            "text/plain": [
              "                 EventName         DeviceIDHash  EventTimestamp  ExpId\n",
              "0         MainScreenAppear  4575588528974610257      1564029816    246\n",
              "1         MainScreenAppear  7416695313311560658      1564053102    246\n",
              "2  PaymentScreenSuccessful  3518123091307005509      1564054127    248\n",
              "3         CartScreenAppear  3518123091307005509      1564054127    248\n",
              "4  PaymentScreenSuccessful  6217807653094995999      1564055322    248"
            ],
            "text/html": [
              "\n",
              "  <div id=\"df-fb0e2614-771f-486d-9cc1-4bb999fcf23a\">\n",
              "    <div class=\"colab-df-container\">\n",
              "      <div>\n",
              "<style scoped>\n",
              "    .dataframe tbody tr th:only-of-type {\n",
              "        vertical-align: middle;\n",
              "    }\n",
              "\n",
              "    .dataframe tbody tr th {\n",
              "        vertical-align: top;\n",
              "    }\n",
              "\n",
              "    .dataframe thead th {\n",
              "        text-align: right;\n",
              "    }\n",
              "</style>\n",
              "<table border=\"1\" class=\"dataframe\">\n",
              "  <thead>\n",
              "    <tr style=\"text-align: right;\">\n",
              "      <th></th>\n",
              "      <th>EventName</th>\n",
              "      <th>DeviceIDHash</th>\n",
              "      <th>EventTimestamp</th>\n",
              "      <th>ExpId</th>\n",
              "    </tr>\n",
              "  </thead>\n",
              "  <tbody>\n",
              "    <tr>\n",
              "      <th>0</th>\n",
              "      <td>MainScreenAppear</td>\n",
              "      <td>4575588528974610257</td>\n",
              "      <td>1564029816</td>\n",
              "      <td>246</td>\n",
              "    </tr>\n",
              "    <tr>\n",
              "      <th>1</th>\n",
              "      <td>MainScreenAppear</td>\n",
              "      <td>7416695313311560658</td>\n",
              "      <td>1564053102</td>\n",
              "      <td>246</td>\n",
              "    </tr>\n",
              "    <tr>\n",
              "      <th>2</th>\n",
              "      <td>PaymentScreenSuccessful</td>\n",
              "      <td>3518123091307005509</td>\n",
              "      <td>1564054127</td>\n",
              "      <td>248</td>\n",
              "    </tr>\n",
              "    <tr>\n",
              "      <th>3</th>\n",
              "      <td>CartScreenAppear</td>\n",
              "      <td>3518123091307005509</td>\n",
              "      <td>1564054127</td>\n",
              "      <td>248</td>\n",
              "    </tr>\n",
              "    <tr>\n",
              "      <th>4</th>\n",
              "      <td>PaymentScreenSuccessful</td>\n",
              "      <td>6217807653094995999</td>\n",
              "      <td>1564055322</td>\n",
              "      <td>248</td>\n",
              "    </tr>\n",
              "  </tbody>\n",
              "</table>\n",
              "</div>\n",
              "      <button class=\"colab-df-convert\" onclick=\"convertToInteractive('df-fb0e2614-771f-486d-9cc1-4bb999fcf23a')\"\n",
              "              title=\"Convert this dataframe to an interactive table.\"\n",
              "              style=\"display:none;\">\n",
              "        \n",
              "  <svg xmlns=\"http://www.w3.org/2000/svg\" height=\"24px\"viewBox=\"0 0 24 24\"\n",
              "       width=\"24px\">\n",
              "    <path d=\"M0 0h24v24H0V0z\" fill=\"none\"/>\n",
              "    <path d=\"M18.56 5.44l.94 2.06.94-2.06 2.06-.94-2.06-.94-.94-2.06-.94 2.06-2.06.94zm-11 1L8.5 8.5l.94-2.06 2.06-.94-2.06-.94L8.5 2.5l-.94 2.06-2.06.94zm10 10l.94 2.06.94-2.06 2.06-.94-2.06-.94-.94-2.06-.94 2.06-2.06.94z\"/><path d=\"M17.41 7.96l-1.37-1.37c-.4-.4-.92-.59-1.43-.59-.52 0-1.04.2-1.43.59L10.3 9.45l-7.72 7.72c-.78.78-.78 2.05 0 2.83L4 21.41c.39.39.9.59 1.41.59.51 0 1.02-.2 1.41-.59l7.78-7.78 2.81-2.81c.8-.78.8-2.07 0-2.86zM5.41 20L4 18.59l7.72-7.72 1.47 1.35L5.41 20z\"/>\n",
              "  </svg>\n",
              "      </button>\n",
              "      \n",
              "  <style>\n",
              "    .colab-df-container {\n",
              "      display:flex;\n",
              "      flex-wrap:wrap;\n",
              "      gap: 12px;\n",
              "    }\n",
              "\n",
              "    .colab-df-convert {\n",
              "      background-color: #E8F0FE;\n",
              "      border: none;\n",
              "      border-radius: 50%;\n",
              "      cursor: pointer;\n",
              "      display: none;\n",
              "      fill: #1967D2;\n",
              "      height: 32px;\n",
              "      padding: 0 0 0 0;\n",
              "      width: 32px;\n",
              "    }\n",
              "\n",
              "    .colab-df-convert:hover {\n",
              "      background-color: #E2EBFA;\n",
              "      box-shadow: 0px 1px 2px rgba(60, 64, 67, 0.3), 0px 1px 3px 1px rgba(60, 64, 67, 0.15);\n",
              "      fill: #174EA6;\n",
              "    }\n",
              "\n",
              "    [theme=dark] .colab-df-convert {\n",
              "      background-color: #3B4455;\n",
              "      fill: #D2E3FC;\n",
              "    }\n",
              "\n",
              "    [theme=dark] .colab-df-convert:hover {\n",
              "      background-color: #434B5C;\n",
              "      box-shadow: 0px 1px 3px 1px rgba(0, 0, 0, 0.15);\n",
              "      filter: drop-shadow(0px 1px 2px rgba(0, 0, 0, 0.3));\n",
              "      fill: #FFFFFF;\n",
              "    }\n",
              "  </style>\n",
              "\n",
              "      <script>\n",
              "        const buttonEl =\n",
              "          document.querySelector('#df-fb0e2614-771f-486d-9cc1-4bb999fcf23a button.colab-df-convert');\n",
              "        buttonEl.style.display =\n",
              "          google.colab.kernel.accessAllowed ? 'block' : 'none';\n",
              "\n",
              "        async function convertToInteractive(key) {\n",
              "          const element = document.querySelector('#df-fb0e2614-771f-486d-9cc1-4bb999fcf23a');\n",
              "          const dataTable =\n",
              "            await google.colab.kernel.invokeFunction('convertToInteractive',\n",
              "                                                     [key], {});\n",
              "          if (!dataTable) return;\n",
              "\n",
              "          const docLinkHtml = 'Like what you see? Visit the ' +\n",
              "            '<a target=\"_blank\" href=https://colab.research.google.com/notebooks/data_table.ipynb>data table notebook</a>'\n",
              "            + ' to learn more about interactive tables.';\n",
              "          element.innerHTML = '';\n",
              "          dataTable['output_type'] = 'display_data';\n",
              "          await google.colab.output.renderOutput(dataTable, element);\n",
              "          const docLink = document.createElement('div');\n",
              "          docLink.innerHTML = docLinkHtml;\n",
              "          element.appendChild(docLink);\n",
              "        }\n",
              "      </script>\n",
              "    </div>\n",
              "  </div>\n",
              "  "
            ]
          },
          "metadata": {},
          "execution_count": 92
        }
      ],
      "source": [
        "# изучим данные\n",
        "\n",
        "try:\n",
        "    data = pd.read_csv('logs_exp.csv', sep = '\\t')\n",
        "except:\n",
        "    data = pd.read_csv('/datasets/logs_exp.csv', sep = '\\t')\n",
        "data.head()"
      ]
    },
    {
      "cell_type": "code",
      "execution_count": 93,
      "metadata": {
        "colab": {
          "base_uri": "https://localhost:8080/"
        },
        "id": "HtHGvWo9onXn",
        "outputId": "d6b2cac6-88a2-4554-8f42-426bc793752f",
        "scrolled": true
      },
      "outputs": [
        {
          "output_type": "stream",
          "name": "stdout",
          "text": [
            "<class 'pandas.core.frame.DataFrame'>\n",
            "RangeIndex: 244126 entries, 0 to 244125\n",
            "Data columns (total 4 columns):\n",
            " #   Column          Non-Null Count   Dtype \n",
            "---  ------          --------------   ----- \n",
            " 0   EventName       244126 non-null  object\n",
            " 1   DeviceIDHash    244126 non-null  int64 \n",
            " 2   EventTimestamp  244126 non-null  int64 \n",
            " 3   ExpId           244126 non-null  int64 \n",
            "dtypes: int64(3), object(1)\n",
            "memory usage: 7.5+ MB\n"
          ]
        }
      ],
      "source": [
        "data.info() # выведем сводную информацию о таблице"
      ]
    },
    {
      "cell_type": "code",
      "execution_count": 94,
      "metadata": {
        "id": "1wNxUTYepKq8"
      },
      "outputs": [],
      "source": [
        "# переименум столбцы \n",
        "data = data.rename(\n",
        "columns={\n",
        "'EventName': 'event_name',\n",
        "'DeviceIDHash': 'device_id_hash',\n",
        "'EventTimestamp': 'event_timestamp',\n",
        "'ExpId': 'exp_id',}\n",
        ") "
      ]
    },
    {
      "cell_type": "code",
      "execution_count": 95,
      "metadata": {
        "colab": {
          "base_uri": "https://localhost:8080/"
        },
        "id": "Yef00ikipdm5",
        "outputId": "9c003bc3-4fb0-4e39-b714-3e38e582ae7d"
      },
      "outputs": [
        {
          "output_type": "stream",
          "name": "stdout",
          "text": [
            "<class 'pandas.core.frame.DataFrame'>\n",
            "RangeIndex: 244126 entries, 0 to 244125\n",
            "Data columns (total 5 columns):\n",
            " #   Column           Non-Null Count   Dtype         \n",
            "---  ------           --------------   -----         \n",
            " 0   event_name       244126 non-null  object        \n",
            " 1   device_id_hash   244126 non-null  int64         \n",
            " 2   event_timestamp  244126 non-null  datetime64[ns]\n",
            " 3   exp_id           244126 non-null  int64         \n",
            " 4   date             244126 non-null  datetime64[ns]\n",
            "dtypes: datetime64[ns](2), int64(2), object(1)\n",
            "memory usage: 9.3+ MB\n"
          ]
        }
      ],
      "source": [
        "# изменим тип данных в столбце с датой\n",
        "data['event_timestamp'] = pd.to_datetime(data['event_timestamp'], unit='s')\n",
        "\n",
        "#добавим столбец с датой\n",
        "data['date'] = pd.DatetimeIndex(data['event_timestamp']).date\n",
        "data['date'] = pd.to_datetime(data['date'])\n",
        "data.info()"
      ]
    },
    {
      "cell_type": "code",
      "execution_count": 96,
      "metadata": {
        "colab": {
          "base_uri": "https://localhost:8080/",
          "height": 142
        },
        "id": "xvmrdb2ksFg3",
        "outputId": "4cf5acc4-7f61-4938-a0b6-206fb3d6fc35"
      },
      "outputs": [
        {
          "output_type": "display_data",
          "data": {
            "text/plain": [
              "count               244126\n",
              "unique                   5\n",
              "top       MainScreenAppear\n",
              "freq                119205\n",
              "Name: event_name, dtype: object"
            ]
          },
          "metadata": {}
        },
        {
          "output_type": "execute_result",
          "data": {
            "text/plain": [
              "array(['MainScreenAppear', 'PaymentScreenSuccessful', 'CartScreenAppear',\n",
              "       'OffersScreenAppear', 'Tutorial'], dtype=object)"
            ]
          },
          "metadata": {},
          "execution_count": 96
        }
      ],
      "source": [
        "#проверим столбец event_name на наличие неожиданных данных, не соответствующих типу события \n",
        "display(data['event_name'].describe())\n",
        "data['event_name'].unique()"
      ]
    },
    {
      "cell_type": "code",
      "execution_count": 97,
      "metadata": {
        "colab": {
          "base_uri": "https://localhost:8080/",
          "height": 35
        },
        "id": "J9aWq0cLsn8z",
        "outputId": "f4afa39c-fac8-46a0-ec27-2b08ff632308"
      },
      "outputs": [
        {
          "output_type": "display_data",
          "data": {
            "text/plain": [
              "array([246, 248, 247])"
            ]
          },
          "metadata": {}
        }
      ],
      "source": [
        "#проверим столбец exp_id на наличие неожиданных данных, не соответствующих типу события \n",
        "display(data['exp_id'].unique())"
      ]
    },
    {
      "cell_type": "code",
      "execution_count": 98,
      "metadata": {
        "colab": {
          "base_uri": "https://localhost:8080/",
          "height": 160
        },
        "id": "LC-zncats2UZ",
        "outputId": "85e9b2d6-2e5a-497c-8d90-79e64a558717",
        "scrolled": true
      },
      "outputs": [
        {
          "output_type": "display_data",
          "data": {
            "text/plain": [
              "count                           244126\n",
              "mean     2019-08-03 21:33:08.209367296\n",
              "min                2019-07-25 00:00:00\n",
              "25%                2019-08-02 00:00:00\n",
              "50%                2019-08-04 00:00:00\n",
              "75%                2019-08-06 00:00:00\n",
              "max                2019-08-07 00:00:00\n",
              "Name: date, dtype: object"
            ]
          },
          "metadata": {}
        }
      ],
      "source": [
        "#проверим столбец date на наличие данных, отличных от даты\n",
        "display(data['date'].describe(datetime_is_numeric=True))"
      ]
    },
    {
      "cell_type": "code",
      "execution_count": 99,
      "metadata": {
        "colab": {
          "base_uri": "https://localhost:8080/"
        },
        "id": "7zUDpOOCtEZ0",
        "outputId": "1c35620a-4c87-4fbf-a719-08314b591b88"
      },
      "outputs": [
        {
          "output_type": "execute_result",
          "data": {
            "text/plain": [
              "0.0016917493425526163"
            ]
          },
          "metadata": {},
          "execution_count": 99
        }
      ],
      "source": [
        "# проверим данные на дубликаты\n",
        "data.duplicated().mean()\n",
        "\n",
        "#процент дубликатов — 0,1, оставим их пока без изменений"
      ]
    },
    {
      "cell_type": "markdown",
      "metadata": {
        "id": "EEbY_TKju905"
      },
      "source": [
        "## Вывод\n",
        "В таблице 244126 строк и 4 столбца, присутствует 0,1% явных дубликатов, мы оставили их нетронутыми. Также мы заменили тип столбца с датой на datetime, добавили столбец с датой без времени и изменили названия строк в соответствии со змеиным регистром."
      ]
    },
    {
      "cell_type": "markdown",
      "metadata": {
        "id": "fjN2yOwEvtCI"
      },
      "source": [
        "## 2. Изучение и проверка данных\n",
        "<a name=\"analysis\"></a>"
      ]
    },
    {
      "cell_type": "markdown",
      "metadata": {
        "id": "JOoxrVtmv0nn"
      },
      "source": [
        "### Задачи:\n",
        "- Сколько всего событий в логе?\n",
        "- Сколько всего пользователей в логе?\n",
        "- Сколько в среднем событий приходится на пользователя?\n",
        "- Данными за какой период вы располагаете? Найдите максимальную и минимальную дату. Постройте гистограмму по дате и времени. Можно ли быть уверенным, что у вас одинаково полные данные за весь период? Технически в логи новых дней по некоторым пользователям могут «доезжать» события из прошлого — это может «перекашивать данные». Определите, с какого момента данные полные и отбросьте более старые. Данными за какой период времени вы располагаете на самом деле?\n",
        "- Много ли событий и пользователей вы потеряли, отбросив старые данные?\n",
        "- Проверьте, что у вас есть пользователи из всех трёх экспериментальных групп."
      ]
    },
    {
      "cell_type": "code",
      "execution_count": 100,
      "metadata": {
        "colab": {
          "base_uri": "https://localhost:8080/"
        },
        "id": "kVB1zzO7vcYV",
        "outputId": "ff763139-fa4d-409a-80bb-92d7beed1b97"
      },
      "outputs": [
        {
          "output_type": "execute_result",
          "data": {
            "text/plain": [
              "244126"
            ]
          },
          "metadata": {},
          "execution_count": 100
        }
      ],
      "source": [
        "# посчитаем, сколько всего событий в логе\n",
        "events_total = len(data)\n",
        "events_total"
      ]
    },
    {
      "cell_type": "code",
      "execution_count": 101,
      "metadata": {
        "colab": {
          "base_uri": "https://localhost:8080/"
        },
        "id": "mIqwdPvzwxeo",
        "outputId": "027b8f9d-81b9-415a-efae-7515713af94b",
        "scrolled": true
      },
      "outputs": [
        {
          "output_type": "execute_result",
          "data": {
            "text/plain": [
              "7551"
            ]
          },
          "metadata": {},
          "execution_count": 101
        }
      ],
      "source": [
        "# посчитаем, сколько всего пользователей в логе\n",
        "users = data['device_id_hash'].nunique()\n",
        "users"
      ]
    },
    {
      "cell_type": "code",
      "execution_count": 102,
      "metadata": {
        "colab": {
          "base_uri": "https://localhost:8080/"
        },
        "id": "a4NGkI_Hxzas",
        "outputId": "c8c426b2-0226-464a-8477-9539aa0dc7c4"
      },
      "outputs": [
        {
          "output_type": "execute_result",
          "data": {
            "text/plain": [
              "count    7551.000000\n",
              "mean       32.330287\n",
              "std        65.312344\n",
              "min         1.000000\n",
              "25%         9.000000\n",
              "50%        20.000000\n",
              "75%        37.500000\n",
              "max      2308.000000\n",
              "Name: event_timestamp, dtype: float64"
            ]
          },
          "metadata": {},
          "execution_count": 102
        }
      ],
      "source": [
        "# посчитаем среднее, медианное количество событий на пользователя, а также минимальное и максимальное количество событий\n",
        "hey = data.groupby('device_id_hash', as_index=False).agg({'event_timestamp':'count'})\n",
        "hey['event_timestamp'].describe()\n"
      ]
    },
    {
      "cell_type": "markdown",
      "metadata": {
        "id": "FSnKn0Z2xzat"
      },
      "source": [
        "Среднее количество событий на пользователя — 32, медианное - 20. На разность показателей влияют аномальные данные: мы видим, что в данных есть пользователь(и), совершавшие 2308 событий. "
      ]
    },
    {
      "cell_type": "code",
      "execution_count": 103,
      "metadata": {
        "colab": {
          "base_uri": "https://localhost:8080/",
          "height": 472
        },
        "id": "VahOR4U0xzat",
        "outputId": "8bd79e58-d31d-4006-dc11-9ee84875c4ed"
      },
      "outputs": [
        {
          "output_type": "display_data",
          "data": {
            "text/plain": [
              "<Figure size 640x480 with 1 Axes>"
            ],
            "image/png": "[encoded data removed]"
          },
          "metadata": {}
        }
      ],
      "source": [
        "# посмотрим на распределение данных\n",
        "plt.boxplot(hey['event_timestamp'])\n",
        "plt.title(\"Распределение количества событий на пользователя\")\n",
        "plt.xlabel(\"Распределение\")\n",
        "plt.ylabel(\"Количество событий\")\n",
        "plt.show()"
      ]
    },
    {
      "cell_type": "code",
      "execution_count": 104,
      "metadata": {
        "colab": {
          "base_uri": "https://localhost:8080/"
        },
        "id": "7tFKRaBvxzat",
        "outputId": "f3ea9248-d85c-4eb9-813c-ad5d93cc01ea"
      },
      "outputs": [
        {
          "output_type": "execute_result",
          "data": {
            "text/plain": [
              "array([ 64. ,  89. , 200.5])"
            ]
          },
          "metadata": {},
          "execution_count": 104
        }
      ],
      "source": [
        "# посмотрим на выбросы\n",
        "np.percentile(hey['event_timestamp'], [90, 95, 99])"
      ]
    },
    {
      "cell_type": "markdown",
      "metadata": {
        "id": "U46cRMhJxzat"
      },
      "source": [
        "Менее 5% пользователей совершает 89 событий, менее 1% пользователей совершает более 200 событий. Посчитаем, сколько покупателей уходит за 99 перцентиль."
      ]
    },
    {
      "cell_type": "code",
      "execution_count": 105,
      "metadata": {
        "colab": {
          "base_uri": "https://localhost:8080/"
        },
        "id": "NNP-jpDJxzat",
        "outputId": "ca8fc8a6-f9f3-4111-a897-d808721382c9"
      },
      "outputs": [
        {
          "output_type": "execute_result",
          "data": {
            "text/plain": [
              "76"
            ]
          },
          "metadata": {},
          "execution_count": 105
        }
      ],
      "source": [
        "# посчитаем, какое количество пользователей входит в 1% совершающих больше 200 событий (99 перцентиль) \n",
        "len(hey.query('event_timestamp > 200'))"
      ]
    },
    {
      "cell_type": "code",
      "execution_count": 106,
      "metadata": {
        "colab": {
          "base_uri": "https://localhost:8080/",
          "height": 175
        },
        "id": "m6vz_O48xzau",
        "outputId": "eb22b8a1-bd29-47f7-9cce-32be5537a6e8"
      },
      "outputs": [
        {
          "output_type": "execute_result",
          "data": {
            "text/plain": [
              "        event_timestamp\n",
              "exp_id                 \n",
              "246                  28\n",
              "247                  22\n",
              "248                  26"
            ],
            "text/html": [
              "\n",
              "  <div id=\"df-c18a06ea-ffe1-4c23-91b8-e2b8bd40f250\">\n",
              "    <div class=\"colab-df-container\">\n",
              "      <div>\n",
              "<style scoped>\n",
              "    .dataframe tbody tr th:only-of-type {\n",
              "        vertical-align: middle;\n",
              "    }\n",
              "\n",
              "    .dataframe tbody tr th {\n",
              "        vertical-align: top;\n",
              "    }\n",
              "\n",
              "    .dataframe thead th {\n",
              "        text-align: right;\n",
              "    }\n",
              "</style>\n",
              "<table border=\"1\" class=\"dataframe\">\n",
              "  <thead>\n",
              "    <tr style=\"text-align: right;\">\n",
              "      <th></th>\n",
              "      <th>event_timestamp</th>\n",
              "    </tr>\n",
              "    <tr>\n",
              "      <th>exp_id</th>\n",
              "      <th></th>\n",
              "    </tr>\n",
              "  </thead>\n",
              "  <tbody>\n",
              "    <tr>\n",
              "      <th>246</th>\n",
              "      <td>28</td>\n",
              "    </tr>\n",
              "    <tr>\n",
              "      <th>247</th>\n",
              "      <td>22</td>\n",
              "    </tr>\n",
              "    <tr>\n",
              "      <th>248</th>\n",
              "      <td>26</td>\n",
              "    </tr>\n",
              "  </tbody>\n",
              "</table>\n",
              "</div>\n",
              "      <button class=\"colab-df-convert\" onclick=\"convertToInteractive('df-c18a06ea-ffe1-4c23-91b8-e2b8bd40f250')\"\n",
              "              title=\"Convert this dataframe to an interactive table.\"\n",
              "              style=\"display:none;\">\n",
              "        \n",
              "  <svg xmlns=\"http://www.w3.org/2000/svg\" height=\"24px\"viewBox=\"0 0 24 24\"\n",
              "       width=\"24px\">\n",
              "    <path d=\"M0 0h24v24H0V0z\" fill=\"none\"/>\n",
              "    <path d=\"M18.56 5.44l.94 2.06.94-2.06 2.06-.94-2.06-.94-.94-2.06-.94 2.06-2.06.94zm-11 1L8.5 8.5l.94-2.06 2.06-.94-2.06-.94L8.5 2.5l-.94 2.06-2.06.94zm10 10l.94 2.06.94-2.06 2.06-.94-2.06-.94-.94-2.06-.94 2.06-2.06.94z\"/><path d=\"M17.41 7.96l-1.37-1.37c-.4-.4-.92-.59-1.43-.59-.52 0-1.04.2-1.43.59L10.3 9.45l-7.72 7.72c-.78.78-.78 2.05 0 2.83L4 21.41c.39.39.9.59 1.41.59.51 0 1.02-.2 1.41-.59l7.78-7.78 2.81-2.81c.8-.78.8-2.07 0-2.86zM5.41 20L4 18.59l7.72-7.72 1.47 1.35L5.41 20z\"/>\n",
              "  </svg>\n",
              "      </button>\n",
              "      \n",
              "  <style>\n",
              "    .colab-df-container {\n",
              "      display:flex;\n",
              "      flex-wrap:wrap;\n",
              "      gap: 12px;\n",
              "    }\n",
              "\n",
              "    .colab-df-convert {\n",
              "      background-color: #E8F0FE;\n",
              "      border: none;\n",
              "      border-radius: 50%;\n",
              "      cursor: pointer;\n",
              "      display: none;\n",
              "      fill: #1967D2;\n",
              "      height: 32px;\n",
              "      padding: 0 0 0 0;\n",
              "      width: 32px;\n",
              "    }\n",
              "\n",
              "    .colab-df-convert:hover {\n",
              "      background-color: #E2EBFA;\n",
              "      box-shadow: 0px 1px 2px rgba(60, 64, 67, 0.3), 0px 1px 3px 1px rgba(60, 64, 67, 0.15);\n",
              "      fill: #174EA6;\n",
              "    }\n",
              "\n",
              "    [theme=dark] .colab-df-convert {\n",
              "      background-color: #3B4455;\n",
              "      fill: #D2E3FC;\n",
              "    }\n",
              "\n",
              "    [theme=dark] .colab-df-convert:hover {\n",
              "      background-color: #434B5C;\n",
              "      box-shadow: 0px 1px 3px 1px rgba(0, 0, 0, 0.15);\n",
              "      filter: drop-shadow(0px 1px 2px rgba(0, 0, 0, 0.3));\n",
              "      fill: #FFFFFF;\n",
              "    }\n",
              "  </style>\n",
              "\n",
              "      <script>\n",
              "        const buttonEl =\n",
              "          document.querySelector('#df-c18a06ea-ffe1-4c23-91b8-e2b8bd40f250 button.colab-df-convert');\n",
              "        buttonEl.style.display =\n",
              "          google.colab.kernel.accessAllowed ? 'block' : 'none';\n",
              "\n",
              "        async function convertToInteractive(key) {\n",
              "          const element = document.querySelector('#df-c18a06ea-ffe1-4c23-91b8-e2b8bd40f250');\n",
              "          const dataTable =\n",
              "            await google.colab.kernel.invokeFunction('convertToInteractive',\n",
              "                                                     [key], {});\n",
              "          if (!dataTable) return;\n",
              "\n",
              "          const docLinkHtml = 'Like what you see? Visit the ' +\n",
              "            '<a target=\"_blank\" href=https://colab.research.google.com/notebooks/data_table.ipynb>data table notebook</a>'\n",
              "            + ' to learn more about interactive tables.';\n",
              "          element.innerHTML = '';\n",
              "          dataTable['output_type'] = 'display_data';\n",
              "          await google.colab.output.renderOutput(dataTable, element);\n",
              "          const docLink = document.createElement('div');\n",
              "          docLink.innerHTML = docLinkHtml;\n",
              "          element.appendChild(docLink);\n",
              "        }\n",
              "      </script>\n",
              "    </div>\n",
              "  </div>\n",
              "  "
            ]
          },
          "metadata": {},
          "execution_count": 106
        }
      ],
      "source": [
        "# посмотрим, как эти пользователи распределены по группам\n",
        "hey_group = data.groupby(['exp_id','device_id_hash'], as_index=False).agg({'event_timestamp':'count'})\n",
        "hey_group = hey_group.query('event_timestamp > 200')\n",
        "hey_group.groupby('exp_id').agg({'event_timestamp':'count'})"
      ]
    },
    {
      "cell_type": "code",
      "execution_count": 107,
      "metadata": {
        "colab": {
          "base_uri": "https://localhost:8080/"
        },
        "id": "DC25N0mrxtEF",
        "outputId": "e5947c25-d90a-4fb1-e4ba-0eb7ab429990"
      },
      "outputs": [
        {
          "output_type": "execute_result",
          "data": {
            "text/plain": [
              "count                           244126\n",
              "mean     2019-08-03 21:33:08.209367296\n",
              "min                2019-07-25 00:00:00\n",
              "25%                2019-08-02 00:00:00\n",
              "50%                2019-08-04 00:00:00\n",
              "75%                2019-08-06 00:00:00\n",
              "max                2019-08-07 00:00:00\n",
              "Name: date, dtype: object"
            ]
          },
          "metadata": {},
          "execution_count": 107
        }
      ],
      "source": [
        "# найдем максимальную и минимальную дату\n",
        "data['date'].describe(datetime_is_numeric=True)"
      ]
    },
    {
      "cell_type": "code",
      "execution_count": 108,
      "metadata": {
        "colab": {
          "base_uri": "https://localhost:8080/",
          "height": 617
        },
        "id": "1GiUy5mKyKoD",
        "outputId": "f673d47b-9ad9-44c2-bd47-1bdaedab2a52"
      },
      "outputs": [
        {
          "output_type": "display_data",
          "data": {
            "text/plain": [
              "<Figure size 1000x600 with 1 Axes>"
            ],
            "image/png": "[encoded data removed]"
          },
          "metadata": {}
        }
      ],
      "source": [
        "# построим график распределения объема событий во времени\n",
        "plt.figure(\n",
        "    figsize=(10, 6)\n",
        ")\n",
        "sns.set_palette('dark')\n",
        "ax = sns.histplot(data=data['event_timestamp'], bins = 6)\n",
        "plt.xticks(rotation=45)\n",
        "ax.set_title('Доля событий во времени') \n",
        "ax.set_xlabel('Дата')\n",
        "ax.set_ylabel('Доля событий') \n",
        "plt.show()"
      ]
    },
    {
      "cell_type": "markdown",
      "source": [
        "График показывает, что до первого августа событий было очень мало."
      ],
      "metadata": {
        "id": "3UTbv5G-2N_A"
      }
    },
    {
      "cell_type": "code",
      "execution_count": 109,
      "metadata": {
        "colab": {
          "base_uri": "https://localhost:8080/"
        },
        "id": "BpWNEDC726ZV",
        "outputId": "d1770a15-22ac-4b4f-acb7-80de505306b8"
      },
      "outputs": [
        {
          "output_type": "execute_result",
          "data": {
            "text/plain": [
              "2828"
            ]
          },
          "metadata": {},
          "execution_count": 109
        }
      ],
      "source": [
        "# проверим сколько событий мы потеряем, если отбросим данные, собранные до первого августа\n",
        "len(data.query('date < \"2019-08-01\"'))"
      ]
    },
    {
      "cell_type": "code",
      "execution_count": 110,
      "metadata": {
        "colab": {
          "base_uri": "https://localhost:8080/",
          "height": 53
        },
        "id": "YqL-ASDx3XkH",
        "outputId": "2fd6da01-06d2-44eb-db28-b31f075c86d4"
      },
      "outputs": [
        {
          "output_type": "display_data",
          "data": {
            "text/plain": [
              "1451"
            ]
          },
          "metadata": {}
        },
        {
          "output_type": "execute_result",
          "data": {
            "text/plain": [
              "19.215997881075353"
            ]
          },
          "metadata": {},
          "execution_count": 110
        }
      ],
      "source": [
        "# проверим сколько пользователей мы потеряем, если отбросим данные, собранные до первого августа\n",
        "display(data.query('date < \"2019-08-01\"')['device_id_hash'].nunique())\n",
        "\n",
        "# посчитаем процент пользователей, которых мы потеряем, если отбросим данные, собранные до первого августа\n",
        "data.query('date < \"2019-08-01\"')['device_id_hash'].nunique() * 100 / data['device_id_hash'].nunique()\n",
        "\n"
      ]
    },
    {
      "cell_type": "code",
      "execution_count": 111,
      "metadata": {
        "id": "exJQ2NSa2VvU"
      },
      "outputs": [],
      "source": [
        "# отбросим данные, собранные до первого августа\n",
        "new_data = data.query('date >= \"2019-08-01\"')"
      ]
    },
    {
      "cell_type": "code",
      "execution_count": 112,
      "metadata": {
        "colab": {
          "base_uri": "https://localhost:8080/"
        },
        "id": "FDO-bGYM3xNK",
        "outputId": "d821174f-1e6d-4c92-b7aa-56387a1c9996"
      },
      "outputs": [
        {
          "output_type": "execute_result",
          "data": {
            "text/plain": [
              "exp_id\n",
              "246    79425\n",
              "247    77147\n",
              "248    84726\n",
              "Name: device_id_hash, dtype: int64"
            ]
          },
          "metadata": {},
          "execution_count": 112
        }
      ],
      "source": [
        "# проверим, что у нас есть пользователи из всех групп\n",
        "new_data.groupby('exp_id')['device_id_hash'].count()"
      ]
    },
    {
      "cell_type": "code",
      "execution_count": 113,
      "metadata": {
        "colab": {
          "base_uri": "https://localhost:8080/",
          "height": 124
        },
        "id": "M8ETA_Oaxzax",
        "outputId": "342b4eea-72b8-47cd-a59e-3e2601cc816c"
      },
      "outputs": [
        {
          "output_type": "display_data",
          "data": {
            "text/plain": [
              "array([False])"
            ]
          },
          "metadata": {}
        },
        {
          "output_type": "display_data",
          "data": {
            "text/plain": [
              "array([False])"
            ]
          },
          "metadata": {}
        },
        {
          "output_type": "display_data",
          "data": {
            "text/plain": [
              "array([False])"
            ]
          },
          "metadata": {}
        },
        {
          "output_type": "display_data",
          "data": {
            "text/plain": [
              "array([False])"
            ]
          },
          "metadata": {}
        },
        {
          "output_type": "display_data",
          "data": {
            "text/plain": [
              "array([False])"
            ]
          },
          "metadata": {}
        },
        {
          "output_type": "display_data",
          "data": {
            "text/plain": [
              "array([False])"
            ]
          },
          "metadata": {}
        }
      ],
      "source": [
        "# проверим, есть ли пересечения по пользователям в разных группах\n",
        "first = new_data.query('exp_id == 246').groupby('device_id_hash', as_index=False).agg('nunique')\n",
        "first = first['device_id_hash']\n",
        "second = new_data.query('exp_id == 247').groupby('device_id_hash', as_index=False).agg('nunique')\n",
        "second = second['device_id_hash']\n",
        "third = new_data.query('exp_id == 248').groupby('device_id_hash', as_index=False).agg('nunique')\n",
        "third = third['device_id_hash']\n",
        "\n",
        "display(first.isin(second).unique())\n",
        "display(first.isin(third).unique())\n",
        "display(second.isin(first).unique())\n",
        "display(second.isin(third).unique())\n",
        "display(third.isin(first).unique())\n",
        "display(third.isin(second).unique())\n"
      ]
    },
    {
      "cell_type": "markdown",
      "metadata": {
        "id": "ZN3-l2DCz7H0"
      },
      "source": [
        "## Вывод\n",
        "В логе 244126 событий и 7551 уникальных пользователей за период с 25 июля по 7 августа 2019 года. Среднее количество событий на пользователя — 32, медианное - 20. На разность показателей влияют аномальные данные: мы видим, что в данных есть пользователь(и), совершавшие 2308 событий. Менее 5% пользователей совершает 89 событий, менее 1% пользователей совершает более 200 событий.  уходит за 99 перцентиль уходит 76 пользователей, которые следующим образом распределены по группам: 246 — 28, 247 — 22, 248 — 26.\n",
        "\n",
        "Имеет смысл отбросить данные до 1 августа, т.к. событий до этой даты незначительное количество по сравнению с периодом с 1 по 7 августа. Таким образом мы исключим 2828 событий для 1451 уникального пользователя (19% от общего числа пользователей). \n",
        "\n",
        "В новых данных представлены пользователи из всех трех экспериментальных групп, каждый пользователь участвует только в одной группе теста."
      ]
    },
    {
      "cell_type": "markdown",
      "metadata": {
        "id": "JTC2obeE4bw2"
      },
      "source": [
        "## 3. Воронка событий\n",
        "<a name=\"funnel\"></a>"
      ]
    },
    {
      "cell_type": "markdown",
      "metadata": {
        "id": "80desAgm4ena"
      },
      "source": [
        "### Задачи:\n",
        "- Посмотрите, какие события есть в логах, как часто они встречаются. Отсортируйте события по частоте.\n",
        "- Посчитайте, сколько пользователей совершали каждое из этих событий. Отсортируйте события по числу пользователей. Посчитайте долю пользователей, которые хоть раз совершали событие.\n",
        "- Предположите, в каком порядке происходят события. Все ли они выстраиваются в последовательную цепочку? Их не нужно учитывать при расчёте воронки.\n",
        "- По воронке событий посчитайте, какая доля пользователей проходит на следующий шаг воронки (от числа пользователей на предыдущем). То есть для последовательности событий A → B → C посчитайте отношение числа пользователей с событием B к количеству пользователей с событием A, а также отношение числа пользователей с событием C к количеству пользователей с событием B.\n",
        "- На каком шаге теряете больше всего пользователей?\n",
        "- Какая доля пользователей доходит от первого события до оплаты?"
      ]
    },
    {
      "cell_type": "code",
      "execution_count": 114,
      "metadata": {
        "colab": {
          "base_uri": "https://localhost:8080/",
          "height": 206
        },
        "id": "up1jTVYK4Oyq",
        "outputId": "00b88034-9f36-4b92-ff2c-3456c9c0e2f5"
      },
      "outputs": [
        {
          "output_type": "execute_result",
          "data": {
            "text/plain": [
              "                event_name  event_timestamp\n",
              "1         MainScreenAppear           117431\n",
              "2       OffersScreenAppear            46350\n",
              "0         CartScreenAppear            42365\n",
              "3  PaymentScreenSuccessful            34113\n",
              "4                 Tutorial             1039"
            ],
            "text/html": [
              "\n",
              "  <div id=\"df-32ed97a9-7388-4d8c-a255-329043a19b1b\">\n",
              "    <div class=\"colab-df-container\">\n",
              "      <div>\n",
              "<style scoped>\n",
              "    .dataframe tbody tr th:only-of-type {\n",
              "        vertical-align: middle;\n",
              "    }\n",
              "\n",
              "    .dataframe tbody tr th {\n",
              "        vertical-align: top;\n",
              "    }\n",
              "\n",
              "    .dataframe thead th {\n",
              "        text-align: right;\n",
              "    }\n",
              "</style>\n",
              "<table border=\"1\" class=\"dataframe\">\n",
              "  <thead>\n",
              "    <tr style=\"text-align: right;\">\n",
              "      <th></th>\n",
              "      <th>event_name</th>\n",
              "      <th>event_timestamp</th>\n",
              "    </tr>\n",
              "  </thead>\n",
              "  <tbody>\n",
              "    <tr>\n",
              "      <th>1</th>\n",
              "      <td>MainScreenAppear</td>\n",
              "      <td>117431</td>\n",
              "    </tr>\n",
              "    <tr>\n",
              "      <th>2</th>\n",
              "      <td>OffersScreenAppear</td>\n",
              "      <td>46350</td>\n",
              "    </tr>\n",
              "    <tr>\n",
              "      <th>0</th>\n",
              "      <td>CartScreenAppear</td>\n",
              "      <td>42365</td>\n",
              "    </tr>\n",
              "    <tr>\n",
              "      <th>3</th>\n",
              "      <td>PaymentScreenSuccessful</td>\n",
              "      <td>34113</td>\n",
              "    </tr>\n",
              "    <tr>\n",
              "      <th>4</th>\n",
              "      <td>Tutorial</td>\n",
              "      <td>1039</td>\n",
              "    </tr>\n",
              "  </tbody>\n",
              "</table>\n",
              "</div>\n",
              "      <button class=\"colab-df-convert\" onclick=\"convertToInteractive('df-32ed97a9-7388-4d8c-a255-329043a19b1b')\"\n",
              "              title=\"Convert this dataframe to an interactive table.\"\n",
              "              style=\"display:none;\">\n",
              "        \n",
              "  <svg xmlns=\"http://www.w3.org/2000/svg\" height=\"24px\"viewBox=\"0 0 24 24\"\n",
              "       width=\"24px\">\n",
              "    <path d=\"M0 0h24v24H0V0z\" fill=\"none\"/>\n",
              "    <path d=\"M18.56 5.44l.94 2.06.94-2.06 2.06-.94-2.06-.94-.94-2.06-.94 2.06-2.06.94zm-11 1L8.5 8.5l.94-2.06 2.06-.94-2.06-.94L8.5 2.5l-.94 2.06-2.06.94zm10 10l.94 2.06.94-2.06 2.06-.94-2.06-.94-.94-2.06-.94 2.06-2.06.94z\"/><path d=\"M17.41 7.96l-1.37-1.37c-.4-.4-.92-.59-1.43-.59-.52 0-1.04.2-1.43.59L10.3 9.45l-7.72 7.72c-.78.78-.78 2.05 0 2.83L4 21.41c.39.39.9.59 1.41.59.51 0 1.02-.2 1.41-.59l7.78-7.78 2.81-2.81c.8-.78.8-2.07 0-2.86zM5.41 20L4 18.59l7.72-7.72 1.47 1.35L5.41 20z\"/>\n",
              "  </svg>\n",
              "      </button>\n",
              "      \n",
              "  <style>\n",
              "    .colab-df-container {\n",
              "      display:flex;\n",
              "      flex-wrap:wrap;\n",
              "      gap: 12px;\n",
              "    }\n",
              "\n",
              "    .colab-df-convert {\n",
              "      background-color: #E8F0FE;\n",
              "      border: none;\n",
              "      border-radius: 50%;\n",
              "      cursor: pointer;\n",
              "      display: none;\n",
              "      fill: #1967D2;\n",
              "      height: 32px;\n",
              "      padding: 0 0 0 0;\n",
              "      width: 32px;\n",
              "    }\n",
              "\n",
              "    .colab-df-convert:hover {\n",
              "      background-color: #E2EBFA;\n",
              "      box-shadow: 0px 1px 2px rgba(60, 64, 67, 0.3), 0px 1px 3px 1px rgba(60, 64, 67, 0.15);\n",
              "      fill: #174EA6;\n",
              "    }\n",
              "\n",
              "    [theme=dark] .colab-df-convert {\n",
              "      background-color: #3B4455;\n",
              "      fill: #D2E3FC;\n",
              "    }\n",
              "\n",
              "    [theme=dark] .colab-df-convert:hover {\n",
              "      background-color: #434B5C;\n",
              "      box-shadow: 0px 1px 3px 1px rgba(0, 0, 0, 0.15);\n",
              "      filter: drop-shadow(0px 1px 2px rgba(0, 0, 0, 0.3));\n",
              "      fill: #FFFFFF;\n",
              "    }\n",
              "  </style>\n",
              "\n",
              "      <script>\n",
              "        const buttonEl =\n",
              "          document.querySelector('#df-32ed97a9-7388-4d8c-a255-329043a19b1b button.colab-df-convert');\n",
              "        buttonEl.style.display =\n",
              "          google.colab.kernel.accessAllowed ? 'block' : 'none';\n",
              "\n",
              "        async function convertToInteractive(key) {\n",
              "          const element = document.querySelector('#df-32ed97a9-7388-4d8c-a255-329043a19b1b');\n",
              "          const dataTable =\n",
              "            await google.colab.kernel.invokeFunction('convertToInteractive',\n",
              "                                                     [key], {});\n",
              "          if (!dataTable) return;\n",
              "\n",
              "          const docLinkHtml = 'Like what you see? Visit the ' +\n",
              "            '<a target=\"_blank\" href=https://colab.research.google.com/notebooks/data_table.ipynb>data table notebook</a>'\n",
              "            + ' to learn more about interactive tables.';\n",
              "          element.innerHTML = '';\n",
              "          dataTable['output_type'] = 'display_data';\n",
              "          await google.colab.output.renderOutput(dataTable, element);\n",
              "          const docLink = document.createElement('div');\n",
              "          docLink.innerHTML = docLinkHtml;\n",
              "          element.appendChild(docLink);\n",
              "        }\n",
              "      </script>\n",
              "    </div>\n",
              "  </div>\n",
              "  "
            ]
          },
          "metadata": {},
          "execution_count": 114
        }
      ],
      "source": [
        "# посчитаем, как часто встречаются события в логах \n",
        "events = new_data.groupby('event_name', as_index=False)['event_timestamp'].count().sort_values(by='event_timestamp', ascending=False)\n",
        "events\n"
      ]
    },
    {
      "cell_type": "code",
      "execution_count": 115,
      "metadata": {
        "colab": {
          "base_uri": "https://localhost:8080/",
          "height": 224
        },
        "id": "1wj0vDEHK0nq",
        "outputId": "041d55c7-cd84-45e9-96d6-ec746bce7746"
      },
      "outputs": [
        {
          "output_type": "display_data",
          "data": {
            "text/plain": [
              "7534"
            ]
          },
          "metadata": {}
        },
        {
          "output_type": "execute_result",
          "data": {
            "text/plain": [
              "                event_name  device_id_hash     ratio\n",
              "1         MainScreenAppear            7419  0.984736\n",
              "2       OffersScreenAppear            4593  0.609636\n",
              "0         CartScreenAppear            3734  0.495620\n",
              "3  PaymentScreenSuccessful            3539  0.469737\n",
              "4                 Tutorial             840  0.111495"
            ],
            "text/html": [
              "\n",
              "  <div id=\"df-e139d61c-a3ea-4688-9860-b2f80245ddbb\">\n",
              "    <div class=\"colab-df-container\">\n",
              "      <div>\n",
              "<style scoped>\n",
              "    .dataframe tbody tr th:only-of-type {\n",
              "        vertical-align: middle;\n",
              "    }\n",
              "\n",
              "    .dataframe tbody tr th {\n",
              "        vertical-align: top;\n",
              "    }\n",
              "\n",
              "    .dataframe thead th {\n",
              "        text-align: right;\n",
              "    }\n",
              "</style>\n",
              "<table border=\"1\" class=\"dataframe\">\n",
              "  <thead>\n",
              "    <tr style=\"text-align: right;\">\n",
              "      <th></th>\n",
              "      <th>event_name</th>\n",
              "      <th>device_id_hash</th>\n",
              "      <th>ratio</th>\n",
              "    </tr>\n",
              "  </thead>\n",
              "  <tbody>\n",
              "    <tr>\n",
              "      <th>1</th>\n",
              "      <td>MainScreenAppear</td>\n",
              "      <td>7419</td>\n",
              "      <td>0.984736</td>\n",
              "    </tr>\n",
              "    <tr>\n",
              "      <th>2</th>\n",
              "      <td>OffersScreenAppear</td>\n",
              "      <td>4593</td>\n",
              "      <td>0.609636</td>\n",
              "    </tr>\n",
              "    <tr>\n",
              "      <th>0</th>\n",
              "      <td>CartScreenAppear</td>\n",
              "      <td>3734</td>\n",
              "      <td>0.495620</td>\n",
              "    </tr>\n",
              "    <tr>\n",
              "      <th>3</th>\n",
              "      <td>PaymentScreenSuccessful</td>\n",
              "      <td>3539</td>\n",
              "      <td>0.469737</td>\n",
              "    </tr>\n",
              "    <tr>\n",
              "      <th>4</th>\n",
              "      <td>Tutorial</td>\n",
              "      <td>840</td>\n",
              "      <td>0.111495</td>\n",
              "    </tr>\n",
              "  </tbody>\n",
              "</table>\n",
              "</div>\n",
              "      <button class=\"colab-df-convert\" onclick=\"convertToInteractive('df-e139d61c-a3ea-4688-9860-b2f80245ddbb')\"\n",
              "              title=\"Convert this dataframe to an interactive table.\"\n",
              "              style=\"display:none;\">\n",
              "        \n",
              "  <svg xmlns=\"http://www.w3.org/2000/svg\" height=\"24px\"viewBox=\"0 0 24 24\"\n",
              "       width=\"24px\">\n",
              "    <path d=\"M0 0h24v24H0V0z\" fill=\"none\"/>\n",
              "    <path d=\"M18.56 5.44l.94 2.06.94-2.06 2.06-.94-2.06-.94-.94-2.06-.94 2.06-2.06.94zm-11 1L8.5 8.5l.94-2.06 2.06-.94-2.06-.94L8.5 2.5l-.94 2.06-2.06.94zm10 10l.94 2.06.94-2.06 2.06-.94-2.06-.94-.94-2.06-.94 2.06-2.06.94z\"/><path d=\"M17.41 7.96l-1.37-1.37c-.4-.4-.92-.59-1.43-.59-.52 0-1.04.2-1.43.59L10.3 9.45l-7.72 7.72c-.78.78-.78 2.05 0 2.83L4 21.41c.39.39.9.59 1.41.59.51 0 1.02-.2 1.41-.59l7.78-7.78 2.81-2.81c.8-.78.8-2.07 0-2.86zM5.41 20L4 18.59l7.72-7.72 1.47 1.35L5.41 20z\"/>\n",
              "  </svg>\n",
              "      </button>\n",
              "      \n",
              "  <style>\n",
              "    .colab-df-container {\n",
              "      display:flex;\n",
              "      flex-wrap:wrap;\n",
              "      gap: 12px;\n",
              "    }\n",
              "\n",
              "    .colab-df-convert {\n",
              "      background-color: #E8F0FE;\n",
              "      border: none;\n",
              "      border-radius: 50%;\n",
              "      cursor: pointer;\n",
              "      display: none;\n",
              "      fill: #1967D2;\n",
              "      height: 32px;\n",
              "      padding: 0 0 0 0;\n",
              "      width: 32px;\n",
              "    }\n",
              "\n",
              "    .colab-df-convert:hover {\n",
              "      background-color: #E2EBFA;\n",
              "      box-shadow: 0px 1px 2px rgba(60, 64, 67, 0.3), 0px 1px 3px 1px rgba(60, 64, 67, 0.15);\n",
              "      fill: #174EA6;\n",
              "    }\n",
              "\n",
              "    [theme=dark] .colab-df-convert {\n",
              "      background-color: #3B4455;\n",
              "      fill: #D2E3FC;\n",
              "    }\n",
              "\n",
              "    [theme=dark] .colab-df-convert:hover {\n",
              "      background-color: #434B5C;\n",
              "      box-shadow: 0px 1px 3px 1px rgba(0, 0, 0, 0.15);\n",
              "      filter: drop-shadow(0px 1px 2px rgba(0, 0, 0, 0.3));\n",
              "      fill: #FFFFFF;\n",
              "    }\n",
              "  </style>\n",
              "\n",
              "      <script>\n",
              "        const buttonEl =\n",
              "          document.querySelector('#df-e139d61c-a3ea-4688-9860-b2f80245ddbb button.colab-df-convert');\n",
              "        buttonEl.style.display =\n",
              "          google.colab.kernel.accessAllowed ? 'block' : 'none';\n",
              "\n",
              "        async function convertToInteractive(key) {\n",
              "          const element = document.querySelector('#df-e139d61c-a3ea-4688-9860-b2f80245ddbb');\n",
              "          const dataTable =\n",
              "            await google.colab.kernel.invokeFunction('convertToInteractive',\n",
              "                                                     [key], {});\n",
              "          if (!dataTable) return;\n",
              "\n",
              "          const docLinkHtml = 'Like what you see? Visit the ' +\n",
              "            '<a target=\"_blank\" href=https://colab.research.google.com/notebooks/data_table.ipynb>data table notebook</a>'\n",
              "            + ' to learn more about interactive tables.';\n",
              "          element.innerHTML = '';\n",
              "          dataTable['output_type'] = 'display_data';\n",
              "          await google.colab.output.renderOutput(dataTable, element);\n",
              "          const docLink = document.createElement('div');\n",
              "          docLink.innerHTML = docLinkHtml;\n",
              "          element.appendChild(docLink);\n",
              "        }\n",
              "      </script>\n",
              "    </div>\n",
              "  </div>\n",
              "  "
            ]
          },
          "metadata": {},
          "execution_count": 115
        }
      ],
      "source": [
        "# посчитаем, сколько пользователей совершали каждое из этих событий\n",
        "total_users_new = new_data['device_id_hash'].nunique() # посчитаем общее количество уникальных пользователей в обновленной таблице\n",
        "display(total_users_new)\n",
        "users = new_data.groupby('event_name', as_index=False)['device_id_hash'].nunique().sort_values(by='device_id_hash', ascending=False)\n",
        "users['ratio'] = users['device_id_hash']/total_users_new # добавим процент пользователей, совершивших событие, от общего их количества\n",
        "users"
      ]
    },
    {
      "cell_type": "code",
      "execution_count": 116,
      "metadata": {
        "colab": {
          "base_uri": "https://localhost:8080/",
          "height": 35
        },
        "id": "--2P6TgeTx8P",
        "outputId": "e0579ec3-53c9-4aff-f545-02dc4c0dc900"
      },
      "outputs": [
        {
          "output_type": "display_data",
          "data": {
            "text/plain": [
              "115"
            ]
          },
          "metadata": {}
        }
      ],
      "source": [
        "# почти 2% покупателей пропустили первый шаг. Найдем их\n",
        "first_step = list(new_data.query('event_name == \"MainScreenAppear\"')['device_id_hash'].unique())\n",
        "no_first_step = new_data.query('device_id_hash not in @first_step')\n",
        "display(no_first_step['device_id_hash'].nunique())"
      ]
    },
    {
      "cell_type": "code",
      "execution_count": 117,
      "metadata": {
        "colab": {
          "base_uri": "https://localhost:8080/",
          "height": 206
        },
        "id": "6Y9wMmYcOK8D",
        "outputId": "a3d30699-3a01-42f1-c452-302178f00c74"
      },
      "outputs": [
        {
          "output_type": "execute_result",
          "data": {
            "text/plain": [
              "                event_name  device_id_hash     ratio     share\n",
              "1         MainScreenAppear            7419  0.984736       NaN\n",
              "2       OffersScreenAppear            4593  0.609636  0.619086\n",
              "0         CartScreenAppear            3734  0.495620  0.812976\n",
              "3  PaymentScreenSuccessful            3539  0.469737  0.947777\n",
              "4                 Tutorial             840  0.111495  0.237355"
            ],
            "text/html": [
              "\n",
              "  <div id=\"df-b60897fc-e8b8-4ff3-86b4-60b529c32505\">\n",
              "    <div class=\"colab-df-container\">\n",
              "      <div>\n",
              "<style scoped>\n",
              "    .dataframe tbody tr th:only-of-type {\n",
              "        vertical-align: middle;\n",
              "    }\n",
              "\n",
              "    .dataframe tbody tr th {\n",
              "        vertical-align: top;\n",
              "    }\n",
              "\n",
              "    .dataframe thead th {\n",
              "        text-align: right;\n",
              "    }\n",
              "</style>\n",
              "<table border=\"1\" class=\"dataframe\">\n",
              "  <thead>\n",
              "    <tr style=\"text-align: right;\">\n",
              "      <th></th>\n",
              "      <th>event_name</th>\n",
              "      <th>device_id_hash</th>\n",
              "      <th>ratio</th>\n",
              "      <th>share</th>\n",
              "    </tr>\n",
              "  </thead>\n",
              "  <tbody>\n",
              "    <tr>\n",
              "      <th>1</th>\n",
              "      <td>MainScreenAppear</td>\n",
              "      <td>7419</td>\n",
              "      <td>0.984736</td>\n",
              "      <td>NaN</td>\n",
              "    </tr>\n",
              "    <tr>\n",
              "      <th>2</th>\n",
              "      <td>OffersScreenAppear</td>\n",
              "      <td>4593</td>\n",
              "      <td>0.609636</td>\n",
              "      <td>0.619086</td>\n",
              "    </tr>\n",
              "    <tr>\n",
              "      <th>0</th>\n",
              "      <td>CartScreenAppear</td>\n",
              "      <td>3734</td>\n",
              "      <td>0.495620</td>\n",
              "      <td>0.812976</td>\n",
              "    </tr>\n",
              "    <tr>\n",
              "      <th>3</th>\n",
              "      <td>PaymentScreenSuccessful</td>\n",
              "      <td>3539</td>\n",
              "      <td>0.469737</td>\n",
              "      <td>0.947777</td>\n",
              "    </tr>\n",
              "    <tr>\n",
              "      <th>4</th>\n",
              "      <td>Tutorial</td>\n",
              "      <td>840</td>\n",
              "      <td>0.111495</td>\n",
              "      <td>0.237355</td>\n",
              "    </tr>\n",
              "  </tbody>\n",
              "</table>\n",
              "</div>\n",
              "      <button class=\"colab-df-convert\" onclick=\"convertToInteractive('df-b60897fc-e8b8-4ff3-86b4-60b529c32505')\"\n",
              "              title=\"Convert this dataframe to an interactive table.\"\n",
              "              style=\"display:none;\">\n",
              "        \n",
              "  <svg xmlns=\"http://www.w3.org/2000/svg\" height=\"24px\"viewBox=\"0 0 24 24\"\n",
              "       width=\"24px\">\n",
              "    <path d=\"M0 0h24v24H0V0z\" fill=\"none\"/>\n",
              "    <path d=\"M18.56 5.44l.94 2.06.94-2.06 2.06-.94-2.06-.94-.94-2.06-.94 2.06-2.06.94zm-11 1L8.5 8.5l.94-2.06 2.06-.94-2.06-.94L8.5 2.5l-.94 2.06-2.06.94zm10 10l.94 2.06.94-2.06 2.06-.94-2.06-.94-.94-2.06-.94 2.06-2.06.94z\"/><path d=\"M17.41 7.96l-1.37-1.37c-.4-.4-.92-.59-1.43-.59-.52 0-1.04.2-1.43.59L10.3 9.45l-7.72 7.72c-.78.78-.78 2.05 0 2.83L4 21.41c.39.39.9.59 1.41.59.51 0 1.02-.2 1.41-.59l7.78-7.78 2.81-2.81c.8-.78.8-2.07 0-2.86zM5.41 20L4 18.59l7.72-7.72 1.47 1.35L5.41 20z\"/>\n",
              "  </svg>\n",
              "      </button>\n",
              "      \n",
              "  <style>\n",
              "    .colab-df-container {\n",
              "      display:flex;\n",
              "      flex-wrap:wrap;\n",
              "      gap: 12px;\n",
              "    }\n",
              "\n",
              "    .colab-df-convert {\n",
              "      background-color: #E8F0FE;\n",
              "      border: none;\n",
              "      border-radius: 50%;\n",
              "      cursor: pointer;\n",
              "      display: none;\n",
              "      fill: #1967D2;\n",
              "      height: 32px;\n",
              "      padding: 0 0 0 0;\n",
              "      width: 32px;\n",
              "    }\n",
              "\n",
              "    .colab-df-convert:hover {\n",
              "      background-color: #E2EBFA;\n",
              "      box-shadow: 0px 1px 2px rgba(60, 64, 67, 0.3), 0px 1px 3px 1px rgba(60, 64, 67, 0.15);\n",
              "      fill: #174EA6;\n",
              "    }\n",
              "\n",
              "    [theme=dark] .colab-df-convert {\n",
              "      background-color: #3B4455;\n",
              "      fill: #D2E3FC;\n",
              "    }\n",
              "\n",
              "    [theme=dark] .colab-df-convert:hover {\n",
              "      background-color: #434B5C;\n",
              "      box-shadow: 0px 1px 3px 1px rgba(0, 0, 0, 0.15);\n",
              "      filter: drop-shadow(0px 1px 2px rgba(0, 0, 0, 0.3));\n",
              "      fill: #FFFFFF;\n",
              "    }\n",
              "  </style>\n",
              "\n",
              "      <script>\n",
              "        const buttonEl =\n",
              "          document.querySelector('#df-b60897fc-e8b8-4ff3-86b4-60b529c32505 button.colab-df-convert');\n",
              "        buttonEl.style.display =\n",
              "          google.colab.kernel.accessAllowed ? 'block' : 'none';\n",
              "\n",
              "        async function convertToInteractive(key) {\n",
              "          const element = document.querySelector('#df-b60897fc-e8b8-4ff3-86b4-60b529c32505');\n",
              "          const dataTable =\n",
              "            await google.colab.kernel.invokeFunction('convertToInteractive',\n",
              "                                                     [key], {});\n",
              "          if (!dataTable) return;\n",
              "\n",
              "          const docLinkHtml = 'Like what you see? Visit the ' +\n",
              "            '<a target=\"_blank\" href=https://colab.research.google.com/notebooks/data_table.ipynb>data table notebook</a>'\n",
              "            + ' to learn more about interactive tables.';\n",
              "          element.innerHTML = '';\n",
              "          dataTable['output_type'] = 'display_data';\n",
              "          await google.colab.output.renderOutput(dataTable, element);\n",
              "          const docLink = document.createElement('div');\n",
              "          docLink.innerHTML = docLinkHtml;\n",
              "          element.appendChild(docLink);\n",
              "        }\n",
              "      </script>\n",
              "    </div>\n",
              "  </div>\n",
              "  "
            ]
          },
          "metadata": {},
          "execution_count": 117
        }
      ],
      "source": [
        "# посчитаем, какая доля пользователей проходит на следующий шаг воронки\n",
        "users['share'] = users['device_id_hash'] / users['device_id_hash'].shift(1)\n",
        "users"
      ]
    },
    {
      "cell_type": "markdown",
      "metadata": {
        "id": "YBHzIxEKG16F"
      },
      "source": [
        "## Выводы\n",
        "- В данных 4 вида событий: MainScreenAppear, OffersScreenAppear, CartScreenAppear, PaymentScreenSuccessful, Tutorial, первое из которых встречается чаще всего, и далее по убыванию.\n",
        "- Количество пользователей, совершивших каждое из событий, распределено в таком же порядке. Процент пользователей, совершивших каждое событие, от общего их количества выглядит следующим образом: MainScreenAppear — 98%, OffersScreenAppear — 61%, CartScreenAppear - 49%, PaymentScreenSuccessful - 47%, Tutorial — 11%.\n",
        "- Логичным выглядит, что события выстраиваются таким образом:  MainScreenAppear (открытие главной страницы), Tutorial (просмотр инструкции, OffersScreenAppear (просмотр страницы со специальным предложением), CartScreenAppear (добавление товара в корзину), PaymentScreenSuccessful (успешная оплата). При этом Tutorial смотрит очень малое количество покупателей, этот пункт выбивается из общего списка, т.к. по всей видимости не является обязательным для покупки.\n",
        "- На следующий шаг воронки переходят следующие доли пользователей в расчете от предыдущего шага: страницу с предложением просматривают 62% их тех, кто зашел на главную, из них 81% добавляет товар в корзину, из которых 95% оплачивают заказ.\n",
        "- Больше всего пользователей теряется на шаге просмотра специального предложения (если не брать во внимание просмотр обучающего видео, который не является обязательным шагом для покупки).\n",
        "- От первого события до оплаты доходит 47% пользователей."
      ]
    },
    {
      "cell_type": "markdown",
      "metadata": {
        "id": "PvmESVkpmjzH"
      },
      "source": [
        "## 4. Результаты эксперимента\n",
        "<a name=\"results\"></a>"
      ]
    },
    {
      "cell_type": "markdown",
      "metadata": {
        "id": "nevB33f9mof1"
      },
      "source": [
        "### Задачи:\n",
        "- Сколько пользователей в каждой экспериментальной группе?\n",
        "- Есть 2 контрольные группы для А/А-эксперимента, чтобы проверить корректность всех механизмов и расчётов. Проверьте, находят ли статистические критерии разницу между выборками 246 и 247.\n",
        "- Выберите самое популярное событие. Посчитайте число пользователей, совершивших это событие в каждой из контрольных групп. Посчитайте долю пользователей, совершивших это событие. Проверьте, будет ли отличие между группами статистически достоверным. Проделайте то же самое для всех других событий (удобно обернуть проверку в отдельную функцию). Можно ли сказать, что разбиение на группы работает корректно?\n",
        "- Аналогично поступите с группой с изменённым шрифтом. Сравните результаты с каждой из контрольных групп в отдельности по каждому событию. Сравните результаты с объединённой контрольной группой. Какие выводы из эксперимента можно сделать?\n",
        "- Какой уровень значимости вы выбрали при проверке статистических гипотез выше? Посчитайте, сколько проверок статистических гипотез вы сделали. При уровне значимости 0.1 каждый десятый раз можно получать ложный результат. \n",
        "- Какой уровень значимости стоит применить? Если вы хотите изменить его, проделайте предыдущие пункты и проверьте свои выводы."
      ]
    },
    {
      "cell_type": "code",
      "execution_count": 118,
      "metadata": {
        "colab": {
          "base_uri": "https://localhost:8080/",
          "height": 161
        },
        "id": "ERj2yA1UKqZ3",
        "outputId": "66abf917-6ce3-40dd-deed-3cc4b44061d0"
      },
      "outputs": [
        {
          "output_type": "display_data",
          "data": {
            "text/plain": [
              "   exp_id  device_id_hash\n",
              "0     246            2484\n",
              "1     247            2513\n",
              "2     248            2537"
            ],
            "text/html": [
              "\n",
              "  <div id=\"df-8783e4db-9c5c-4f91-afe3-5415d52aacc5\">\n",
              "    <div class=\"colab-df-container\">\n",
              "      <div>\n",
              "<style scoped>\n",
              "    .dataframe tbody tr th:only-of-type {\n",
              "        vertical-align: middle;\n",
              "    }\n",
              "\n",
              "    .dataframe tbody tr th {\n",
              "        vertical-align: top;\n",
              "    }\n",
              "\n",
              "    .dataframe thead th {\n",
              "        text-align: right;\n",
              "    }\n",
              "</style>\n",
              "<table border=\"1\" class=\"dataframe\">\n",
              "  <thead>\n",
              "    <tr style=\"text-align: right;\">\n",
              "      <th></th>\n",
              "      <th>exp_id</th>\n",
              "      <th>device_id_hash</th>\n",
              "    </tr>\n",
              "  </thead>\n",
              "  <tbody>\n",
              "    <tr>\n",
              "      <th>0</th>\n",
              "      <td>246</td>\n",
              "      <td>2484</td>\n",
              "    </tr>\n",
              "    <tr>\n",
              "      <th>1</th>\n",
              "      <td>247</td>\n",
              "      <td>2513</td>\n",
              "    </tr>\n",
              "    <tr>\n",
              "      <th>2</th>\n",
              "      <td>248</td>\n",
              "      <td>2537</td>\n",
              "    </tr>\n",
              "  </tbody>\n",
              "</table>\n",
              "</div>\n",
              "      <button class=\"colab-df-convert\" onclick=\"convertToInteractive('df-8783e4db-9c5c-4f91-afe3-5415d52aacc5')\"\n",
              "              title=\"Convert this dataframe to an interactive table.\"\n",
              "              style=\"display:none;\">\n",
              "        \n",
              "  <svg xmlns=\"http://www.w3.org/2000/svg\" height=\"24px\"viewBox=\"0 0 24 24\"\n",
              "       width=\"24px\">\n",
              "    <path d=\"M0 0h24v24H0V0z\" fill=\"none\"/>\n",
              "    <path d=\"M18.56 5.44l.94 2.06.94-2.06 2.06-.94-2.06-.94-.94-2.06-.94 2.06-2.06.94zm-11 1L8.5 8.5l.94-2.06 2.06-.94-2.06-.94L8.5 2.5l-.94 2.06-2.06.94zm10 10l.94 2.06.94-2.06 2.06-.94-2.06-.94-.94-2.06-.94 2.06-2.06.94z\"/><path d=\"M17.41 7.96l-1.37-1.37c-.4-.4-.92-.59-1.43-.59-.52 0-1.04.2-1.43.59L10.3 9.45l-7.72 7.72c-.78.78-.78 2.05 0 2.83L4 21.41c.39.39.9.59 1.41.59.51 0 1.02-.2 1.41-.59l7.78-7.78 2.81-2.81c.8-.78.8-2.07 0-2.86zM5.41 20L4 18.59l7.72-7.72 1.47 1.35L5.41 20z\"/>\n",
              "  </svg>\n",
              "      </button>\n",
              "      \n",
              "  <style>\n",
              "    .colab-df-container {\n",
              "      display:flex;\n",
              "      flex-wrap:wrap;\n",
              "      gap: 12px;\n",
              "    }\n",
              "\n",
              "    .colab-df-convert {\n",
              "      background-color: #E8F0FE;\n",
              "      border: none;\n",
              "      border-radius: 50%;\n",
              "      cursor: pointer;\n",
              "      display: none;\n",
              "      fill: #1967D2;\n",
              "      height: 32px;\n",
              "      padding: 0 0 0 0;\n",
              "      width: 32px;\n",
              "    }\n",
              "\n",
              "    .colab-df-convert:hover {\n",
              "      background-color: #E2EBFA;\n",
              "      box-shadow: 0px 1px 2px rgba(60, 64, 67, 0.3), 0px 1px 3px 1px rgba(60, 64, 67, 0.15);\n",
              "      fill: #174EA6;\n",
              "    }\n",
              "\n",
              "    [theme=dark] .colab-df-convert {\n",
              "      background-color: #3B4455;\n",
              "      fill: #D2E3FC;\n",
              "    }\n",
              "\n",
              "    [theme=dark] .colab-df-convert:hover {\n",
              "      background-color: #434B5C;\n",
              "      box-shadow: 0px 1px 3px 1px rgba(0, 0, 0, 0.15);\n",
              "      filter: drop-shadow(0px 1px 2px rgba(0, 0, 0, 0.3));\n",
              "      fill: #FFFFFF;\n",
              "    }\n",
              "  </style>\n",
              "\n",
              "      <script>\n",
              "        const buttonEl =\n",
              "          document.querySelector('#df-8783e4db-9c5c-4f91-afe3-5415d52aacc5 button.colab-df-convert');\n",
              "        buttonEl.style.display =\n",
              "          google.colab.kernel.accessAllowed ? 'block' : 'none';\n",
              "\n",
              "        async function convertToInteractive(key) {\n",
              "          const element = document.querySelector('#df-8783e4db-9c5c-4f91-afe3-5415d52aacc5');\n",
              "          const dataTable =\n",
              "            await google.colab.kernel.invokeFunction('convertToInteractive',\n",
              "                                                     [key], {});\n",
              "          if (!dataTable) return;\n",
              "\n",
              "          const docLinkHtml = 'Like what you see? Visit the ' +\n",
              "            '<a target=\"_blank\" href=https://colab.research.google.com/notebooks/data_table.ipynb>data table notebook</a>'\n",
              "            + ' to learn more about interactive tables.';\n",
              "          element.innerHTML = '';\n",
              "          dataTable['output_type'] = 'display_data';\n",
              "          await google.colab.output.renderOutput(dataTable, element);\n",
              "          const docLink = document.createElement('div');\n",
              "          docLink.innerHTML = docLinkHtml;\n",
              "          element.appendChild(docLink);\n",
              "        }\n",
              "      </script>\n",
              "    </div>\n",
              "  </div>\n",
              "  "
            ]
          },
          "metadata": {}
        },
        {
          "output_type": "execute_result",
          "data": {
            "text/plain": [
              "1.1539992041384721"
            ]
          },
          "metadata": {},
          "execution_count": 118
        }
      ],
      "source": [
        "# посчитаем число пользователей в каждой группе\n",
        "group_users = new_data.groupby('exp_id', as_index=False)['device_id_hash'].nunique()\n",
        "display(group_users)\n",
        "\n",
        "# посчитаем относительную разницу между количеством пользователей в контрольных группах\n",
        "100 - group_users['device_id_hash'][0]/group_users['device_id_hash'][1] * 100"
      ]
    },
    {
      "cell_type": "markdown",
      "metadata": {
        "id": "4Zctc2oP06u4"
      },
      "source": [
        "Разница между количеством пользователей в контрольных группах составляет 1,15%, то есть пользователи по выборкам распределены корректно, и А/А тест можно проводить.\n",
        "\n",
        "Проверим гипотезу о наличии статистически значимых различий в конверсиях между двумя группами с помощью z-теста.\n",
        "- Нулевая гипотеза: пропорции равны.\n",
        "- Альтернативная гипотеза: пропорции не равны.\n",
        "\n",
        "Для критического уровня статистической значимости мы применяем поправку Бонферрони, т.к. будем сравнивать группы по множеству показателей и проводить несколько тестов с одними и теми же данными. \n"
      ]
    },
    {
      "cell_type": "code",
      "execution_count": 119,
      "metadata": {
        "id": "bFQncYVAmKQn"
      },
      "outputs": [],
      "source": [
        "# добавим фуекцию для расчета разницы пропорций двух выборок\n",
        "def z_test(successes_sample_one, successes_sample_two, trials_sample_one, trials_sample_two):\n",
        "    alpha = 0.1/12 # критический уровень статистической значимости\n",
        "  \n",
        "    successes = np.array([successes_sample_one, successes_sample_two])\n",
        "    trials = np.array([trials_sample_one, trials_sample_two])\n",
        "  \n",
        "    # пропорция успехов в первой группе:\n",
        "    p1 = successes[0]/trials[0]\n",
        "  \n",
        "    # пропорция успехов во второй группе:\n",
        "    p2 = successes[1]/trials[1]\n",
        "  \n",
        "    # пропорция успехов в комбинированном датасете:\n",
        "    p_combined = (successes[0] + successes[1]) / (trials[0] + trials[1])\n",
        "  \n",
        "    # разница пропорций в датасетах\n",
        "    difference = p1 - p2\n",
        "  \n",
        "    # считаем статистику в ст.отклонениях стандартного нормального распределения\n",
        "    z_value = difference / mth.sqrt(\n",
        "      p_combined * (1 - p_combined) * (1 / trials[0] + 1 / trials[1])\n",
        ")  \n",
        "  \n",
        "    # задаем стандартное нормальное распределение (среднее 0, ст.отклонение 1)\n",
        "    distr = st.norm(0, 1)\n",
        "  \n",
        "    p_value = (1 - distr.cdf(abs(z_value))) * 2\n",
        "  \n",
        "    print('p-значение: ', p_value)\n",
        "  \n",
        "    if p_value < alpha:\n",
        "        print('Отвергаем нулевую гипотезу: между пропорциями есть значимая разница')\n",
        "    else:\n",
        "        print(\n",
        "        'Не получилось отвергнуть нулевую гипотезу, нет оснований считать пропорции разными'\n",
        "    )"
      ]
    },
    {
      "cell_type": "code",
      "execution_count": 120,
      "metadata": {
        "colab": {
          "base_uri": "https://localhost:8080/",
          "height": 206
        },
        "id": "gURDmdzHxza4",
        "outputId": "352b08b5-b3c1-4b1d-89de-32c0ae74ef7a"
      },
      "outputs": [
        {
          "output_type": "display_data",
          "data": {
            "text/plain": [
              "exp_id               event_name   246   247   248\n",
              "0              MainScreenAppear  2450  2476  2493\n",
              "1            OffersScreenAppear  1542  1520  1531\n",
              "2              CartScreenAppear  1266  1238  1230\n",
              "3       PaymentScreenSuccessful  1200  1158  1181\n",
              "4                      Tutorial   278   283   279"
            ],
            "text/html": [
              "\n",
              "  <div id=\"df-4e73f75d-c243-4f63-b111-c7721e3ea643\">\n",
              "    <div class=\"colab-df-container\">\n",
              "      <div>\n",
              "<style scoped>\n",
              "    .dataframe tbody tr th:only-of-type {\n",
              "        vertical-align: middle;\n",
              "    }\n",
              "\n",
              "    .dataframe tbody tr th {\n",
              "        vertical-align: top;\n",
              "    }\n",
              "\n",
              "    .dataframe thead th {\n",
              "        text-align: right;\n",
              "    }\n",
              "</style>\n",
              "<table border=\"1\" class=\"dataframe\">\n",
              "  <thead>\n",
              "    <tr style=\"text-align: right;\">\n",
              "      <th>exp_id</th>\n",
              "      <th>event_name</th>\n",
              "      <th>246</th>\n",
              "      <th>247</th>\n",
              "      <th>248</th>\n",
              "    </tr>\n",
              "  </thead>\n",
              "  <tbody>\n",
              "    <tr>\n",
              "      <th>0</th>\n",
              "      <td>MainScreenAppear</td>\n",
              "      <td>2450</td>\n",
              "      <td>2476</td>\n",
              "      <td>2493</td>\n",
              "    </tr>\n",
              "    <tr>\n",
              "      <th>1</th>\n",
              "      <td>OffersScreenAppear</td>\n",
              "      <td>1542</td>\n",
              "      <td>1520</td>\n",
              "      <td>1531</td>\n",
              "    </tr>\n",
              "    <tr>\n",
              "      <th>2</th>\n",
              "      <td>CartScreenAppear</td>\n",
              "      <td>1266</td>\n",
              "      <td>1238</td>\n",
              "      <td>1230</td>\n",
              "    </tr>\n",
              "    <tr>\n",
              "      <th>3</th>\n",
              "      <td>PaymentScreenSuccessful</td>\n",
              "      <td>1200</td>\n",
              "      <td>1158</td>\n",
              "      <td>1181</td>\n",
              "    </tr>\n",
              "    <tr>\n",
              "      <th>4</th>\n",
              "      <td>Tutorial</td>\n",
              "      <td>278</td>\n",
              "      <td>283</td>\n",
              "      <td>279</td>\n",
              "    </tr>\n",
              "  </tbody>\n",
              "</table>\n",
              "</div>\n",
              "      <button class=\"colab-df-convert\" onclick=\"convertToInteractive('df-4e73f75d-c243-4f63-b111-c7721e3ea643')\"\n",
              "              title=\"Convert this dataframe to an interactive table.\"\n",
              "              style=\"display:none;\">\n",
              "        \n",
              "  <svg xmlns=\"http://www.w3.org/2000/svg\" height=\"24px\"viewBox=\"0 0 24 24\"\n",
              "       width=\"24px\">\n",
              "    <path d=\"M0 0h24v24H0V0z\" fill=\"none\"/>\n",
              "    <path d=\"M18.56 5.44l.94 2.06.94-2.06 2.06-.94-2.06-.94-.94-2.06-.94 2.06-2.06.94zm-11 1L8.5 8.5l.94-2.06 2.06-.94-2.06-.94L8.5 2.5l-.94 2.06-2.06.94zm10 10l.94 2.06.94-2.06 2.06-.94-2.06-.94-.94-2.06-.94 2.06-2.06.94z\"/><path d=\"M17.41 7.96l-1.37-1.37c-.4-.4-.92-.59-1.43-.59-.52 0-1.04.2-1.43.59L10.3 9.45l-7.72 7.72c-.78.78-.78 2.05 0 2.83L4 21.41c.39.39.9.59 1.41.59.51 0 1.02-.2 1.41-.59l7.78-7.78 2.81-2.81c.8-.78.8-2.07 0-2.86zM5.41 20L4 18.59l7.72-7.72 1.47 1.35L5.41 20z\"/>\n",
              "  </svg>\n",
              "      </button>\n",
              "      \n",
              "  <style>\n",
              "    .colab-df-container {\n",
              "      display:flex;\n",
              "      flex-wrap:wrap;\n",
              "      gap: 12px;\n",
              "    }\n",
              "\n",
              "    .colab-df-convert {\n",
              "      background-color: #E8F0FE;\n",
              "      border: none;\n",
              "      border-radius: 50%;\n",
              "      cursor: pointer;\n",
              "      display: none;\n",
              "      fill: #1967D2;\n",
              "      height: 32px;\n",
              "      padding: 0 0 0 0;\n",
              "      width: 32px;\n",
              "    }\n",
              "\n",
              "    .colab-df-convert:hover {\n",
              "      background-color: #E2EBFA;\n",
              "      box-shadow: 0px 1px 2px rgba(60, 64, 67, 0.3), 0px 1px 3px 1px rgba(60, 64, 67, 0.15);\n",
              "      fill: #174EA6;\n",
              "    }\n",
              "\n",
              "    [theme=dark] .colab-df-convert {\n",
              "      background-color: #3B4455;\n",
              "      fill: #D2E3FC;\n",
              "    }\n",
              "\n",
              "    [theme=dark] .colab-df-convert:hover {\n",
              "      background-color: #434B5C;\n",
              "      box-shadow: 0px 1px 3px 1px rgba(0, 0, 0, 0.15);\n",
              "      filter: drop-shadow(0px 1px 2px rgba(0, 0, 0, 0.3));\n",
              "      fill: #FFFFFF;\n",
              "    }\n",
              "  </style>\n",
              "\n",
              "      <script>\n",
              "        const buttonEl =\n",
              "          document.querySelector('#df-4e73f75d-c243-4f63-b111-c7721e3ea643 button.colab-df-convert');\n",
              "        buttonEl.style.display =\n",
              "          google.colab.kernel.accessAllowed ? 'block' : 'none';\n",
              "\n",
              "        async function convertToInteractive(key) {\n",
              "          const element = document.querySelector('#df-4e73f75d-c243-4f63-b111-c7721e3ea643');\n",
              "          const dataTable =\n",
              "            await google.colab.kernel.invokeFunction('convertToInteractive',\n",
              "                                                     [key], {});\n",
              "          if (!dataTable) return;\n",
              "\n",
              "          const docLinkHtml = 'Like what you see? Visit the ' +\n",
              "            '<a target=\"_blank\" href=https://colab.research.google.com/notebooks/data_table.ipynb>data table notebook</a>'\n",
              "            + ' to learn more about interactive tables.';\n",
              "          element.innerHTML = '';\n",
              "          dataTable['output_type'] = 'display_data';\n",
              "          await google.colab.output.renderOutput(dataTable, element);\n",
              "          const docLink = document.createElement('div');\n",
              "          docLink.innerHTML = docLinkHtml;\n",
              "          element.appendChild(docLink);\n",
              "        }\n",
              "      </script>\n",
              "    </div>\n",
              "  </div>\n",
              "  "
            ]
          },
          "metadata": {}
        }
      ],
      "source": [
        "# создадим таблицу с количеством клиентов, совершивших каждое событие в каждой группе\n",
        "group_events = (\n",
        "    new_data.pivot_table(index='event_name', columns='exp_id', values='device_id_hash', aggfunc = 'nunique')\n",
        "    .sort_values(246, ascending=False).reset_index()\n",
        ")\n",
        "display(group_events)\n",
        "\n",
        "\n",
        "# все пользователи\n",
        "all_users = new_data.groupby('exp_id')['device_id_hash'].nunique()\n",
        "\n",
        "#создадим функцию для проверки данных воронки\n",
        "\n"
      ]
    },
    {
      "cell_type": "code",
      "source": [
        "def foo(group_a, group_b, funnel_data, all_users_data):\n",
        "    for index, row in funnel_data.iterrows():\n",
        "        event = row['event_name']\n",
        "        group_a_data = row[group_a]\n",
        "        group_b_data = row[group_b]\n",
        "        conversion_a = round(row[group_a] / all_users[group_a], 2)\n",
        "        conversion_b = round(row[group_b] / all_users[group_b], 2)\n",
        "        display('Результат этапа {} для групп {} (кол-во пользователей: {}, конверсия: {}) и {} (кол-во пользователей: {}, конверсия: {}):'.format(event, group_a, group_a_data, conversion_a, group_b, group_b_data, conversion_b))\n",
        "        z_test(row[group_a], row[group_b], all_users_data[group_a], all_users_data[group_b])"
      ],
      "metadata": {
        "id": "pcqmoexk5qX2"
      },
      "execution_count": 121,
      "outputs": []
    },
    {
      "cell_type": "markdown",
      "metadata": {
        "id": "EywMdloWxza4"
      },
      "source": [
        "Проверим гипотезу о наличии статистически значимых различий в конверсиях между контрольными группами 246 и 247 с помощью z-теста.\n",
        "\n",
        "- Нулевая гипотеза: пропорции равны.\n",
        "- Альтернативная гипотеза: пропорции не равны."
      ]
    },
    {
      "cell_type": "code",
      "execution_count": 122,
      "metadata": {
        "colab": {
          "base_uri": "https://localhost:8080/",
          "height": 287
        },
        "id": "_K6JIoGGxza4",
        "outputId": "7a20170d-0419-4799-e42d-b1f15df8b129"
      },
      "outputs": [
        {
          "output_type": "display_data",
          "data": {
            "text/plain": [
              "'Результат этапа MainScreenAppear для групп 246 (кол-во пользователей: 2450, конверсия: 0.99) и 247 (кол-во пользователей: 2476, конверсия: 0.99):'"
            ],
            "application/vnd.google.colaboratory.intrinsic+json": {
              "type": "string"
            }
          },
          "metadata": {}
        },
        {
          "output_type": "stream",
          "name": "stdout",
          "text": [
            "p-значение:  0.7570597232046099\n",
            "Не получилось отвергнуть нулевую гипотезу, нет оснований считать пропорции разными\n"
          ]
        },
        {
          "output_type": "display_data",
          "data": {
            "text/plain": [
              "'Результат этапа OffersScreenAppear для групп 246 (кол-во пользователей: 1542, конверсия: 0.62) и 247 (кол-во пользователей: 1520, конверсия: 0.6):'"
            ],
            "application/vnd.google.colaboratory.intrinsic+json": {
              "type": "string"
            }
          },
          "metadata": {}
        },
        {
          "output_type": "stream",
          "name": "stdout",
          "text": [
            "p-значение:  0.2480954578522181\n",
            "Не получилось отвергнуть нулевую гипотезу, нет оснований считать пропорции разными\n"
          ]
        },
        {
          "output_type": "display_data",
          "data": {
            "text/plain": [
              "'Результат этапа CartScreenAppear для групп 246 (кол-во пользователей: 1266, конверсия: 0.51) и 247 (кол-во пользователей: 1238, конверсия: 0.49):'"
            ],
            "application/vnd.google.colaboratory.intrinsic+json": {
              "type": "string"
            }
          },
          "metadata": {}
        },
        {
          "output_type": "stream",
          "name": "stdout",
          "text": [
            "p-значение:  0.22883372237997213\n",
            "Не получилось отвергнуть нулевую гипотезу, нет оснований считать пропорции разными\n"
          ]
        },
        {
          "output_type": "display_data",
          "data": {
            "text/plain": [
              "'Результат этапа PaymentScreenSuccessful для групп 246 (кол-во пользователей: 1200, конверсия: 0.48) и 247 (кол-во пользователей: 1158, конверсия: 0.46):'"
            ],
            "application/vnd.google.colaboratory.intrinsic+json": {
              "type": "string"
            }
          },
          "metadata": {}
        },
        {
          "output_type": "stream",
          "name": "stdout",
          "text": [
            "p-значение:  0.11456679313141849\n",
            "Не получилось отвергнуть нулевую гипотезу, нет оснований считать пропорции разными\n"
          ]
        },
        {
          "output_type": "display_data",
          "data": {
            "text/plain": [
              "'Результат этапа Tutorial для групп 246 (кол-во пользователей: 278, конверсия: 0.11) и 247 (кол-во пользователей: 283, конверсия: 0.11):'"
            ],
            "application/vnd.google.colaboratory.intrinsic+json": {
              "type": "string"
            }
          },
          "metadata": {}
        },
        {
          "output_type": "stream",
          "name": "stdout",
          "text": [
            "p-значение:  0.9376996189257114\n",
            "Не получилось отвергнуть нулевую гипотезу, нет оснований считать пропорции разными\n"
          ]
        }
      ],
      "source": [
        "# сделаем проверку для групп 246 и 247\n",
        "foo(246, 247, group_events, all_users)"
      ]
    },
    {
      "cell_type": "markdown",
      "metadata": {
        "id": "bjL-OvkuuKYG"
      },
      "source": [
        "Выберем самое популярное событие. Посчитаем число и долю пользователей, совершивших это событие в каждой из контрольных групп. Проверим, будет ли отличие между группами статистически достоверным."
      ]
    },
    {
      "cell_type": "code",
      "execution_count": 123,
      "metadata": {
        "colab": {
          "base_uri": "https://localhost:8080/",
          "height": 206
        },
        "id": "8hG96HU1-ESb",
        "outputId": "196ee23e-7c90-4ed8-8680-dc9cf25edc37"
      },
      "outputs": [
        {
          "output_type": "display_data",
          "data": {
            "text/plain": [
              "exp_id               event_name   246   247   248\n",
              "1              MainScreenAppear  2450  2476  2493\n",
              "2            OffersScreenAppear  1542  1520  1531\n",
              "0              CartScreenAppear  1266  1238  1230\n",
              "3       PaymentScreenSuccessful  1200  1158  1181\n",
              "4                      Tutorial   278   283   279"
            ],
            "text/html": [
              "\n",
              "  <div id=\"df-84a3d67f-71c0-4d0e-b16d-1bd18e35a15f\">\n",
              "    <div class=\"colab-df-container\">\n",
              "      <div>\n",
              "<style scoped>\n",
              "    .dataframe tbody tr th:only-of-type {\n",
              "        vertical-align: middle;\n",
              "    }\n",
              "\n",
              "    .dataframe tbody tr th {\n",
              "        vertical-align: top;\n",
              "    }\n",
              "\n",
              "    .dataframe thead th {\n",
              "        text-align: right;\n",
              "    }\n",
              "</style>\n",
              "<table border=\"1\" class=\"dataframe\">\n",
              "  <thead>\n",
              "    <tr style=\"text-align: right;\">\n",
              "      <th>exp_id</th>\n",
              "      <th>event_name</th>\n",
              "      <th>246</th>\n",
              "      <th>247</th>\n",
              "      <th>248</th>\n",
              "    </tr>\n",
              "  </thead>\n",
              "  <tbody>\n",
              "    <tr>\n",
              "      <th>1</th>\n",
              "      <td>MainScreenAppear</td>\n",
              "      <td>2450</td>\n",
              "      <td>2476</td>\n",
              "      <td>2493</td>\n",
              "    </tr>\n",
              "    <tr>\n",
              "      <th>2</th>\n",
              "      <td>OffersScreenAppear</td>\n",
              "      <td>1542</td>\n",
              "      <td>1520</td>\n",
              "      <td>1531</td>\n",
              "    </tr>\n",
              "    <tr>\n",
              "      <th>0</th>\n",
              "      <td>CartScreenAppear</td>\n",
              "      <td>1266</td>\n",
              "      <td>1238</td>\n",
              "      <td>1230</td>\n",
              "    </tr>\n",
              "    <tr>\n",
              "      <th>3</th>\n",
              "      <td>PaymentScreenSuccessful</td>\n",
              "      <td>1200</td>\n",
              "      <td>1158</td>\n",
              "      <td>1181</td>\n",
              "    </tr>\n",
              "    <tr>\n",
              "      <th>4</th>\n",
              "      <td>Tutorial</td>\n",
              "      <td>278</td>\n",
              "      <td>283</td>\n",
              "      <td>279</td>\n",
              "    </tr>\n",
              "  </tbody>\n",
              "</table>\n",
              "</div>\n",
              "      <button class=\"colab-df-convert\" onclick=\"convertToInteractive('df-84a3d67f-71c0-4d0e-b16d-1bd18e35a15f')\"\n",
              "              title=\"Convert this dataframe to an interactive table.\"\n",
              "              style=\"display:none;\">\n",
              "        \n",
              "  <svg xmlns=\"http://www.w3.org/2000/svg\" height=\"24px\"viewBox=\"0 0 24 24\"\n",
              "       width=\"24px\">\n",
              "    <path d=\"M0 0h24v24H0V0z\" fill=\"none\"/>\n",
              "    <path d=\"M18.56 5.44l.94 2.06.94-2.06 2.06-.94-2.06-.94-.94-2.06-.94 2.06-2.06.94zm-11 1L8.5 8.5l.94-2.06 2.06-.94-2.06-.94L8.5 2.5l-.94 2.06-2.06.94zm10 10l.94 2.06.94-2.06 2.06-.94-2.06-.94-.94-2.06-.94 2.06-2.06.94z\"/><path d=\"M17.41 7.96l-1.37-1.37c-.4-.4-.92-.59-1.43-.59-.52 0-1.04.2-1.43.59L10.3 9.45l-7.72 7.72c-.78.78-.78 2.05 0 2.83L4 21.41c.39.39.9.59 1.41.59.51 0 1.02-.2 1.41-.59l7.78-7.78 2.81-2.81c.8-.78.8-2.07 0-2.86zM5.41 20L4 18.59l7.72-7.72 1.47 1.35L5.41 20z\"/>\n",
              "  </svg>\n",
              "      </button>\n",
              "      \n",
              "  <style>\n",
              "    .colab-df-container {\n",
              "      display:flex;\n",
              "      flex-wrap:wrap;\n",
              "      gap: 12px;\n",
              "    }\n",
              "\n",
              "    .colab-df-convert {\n",
              "      background-color: #E8F0FE;\n",
              "      border: none;\n",
              "      border-radius: 50%;\n",
              "      cursor: pointer;\n",
              "      display: none;\n",
              "      fill: #1967D2;\n",
              "      height: 32px;\n",
              "      padding: 0 0 0 0;\n",
              "      width: 32px;\n",
              "    }\n",
              "\n",
              "    .colab-df-convert:hover {\n",
              "      background-color: #E2EBFA;\n",
              "      box-shadow: 0px 1px 2px rgba(60, 64, 67, 0.3), 0px 1px 3px 1px rgba(60, 64, 67, 0.15);\n",
              "      fill: #174EA6;\n",
              "    }\n",
              "\n",
              "    [theme=dark] .colab-df-convert {\n",
              "      background-color: #3B4455;\n",
              "      fill: #D2E3FC;\n",
              "    }\n",
              "\n",
              "    [theme=dark] .colab-df-convert:hover {\n",
              "      background-color: #434B5C;\n",
              "      box-shadow: 0px 1px 3px 1px rgba(0, 0, 0, 0.15);\n",
              "      filter: drop-shadow(0px 1px 2px rgba(0, 0, 0, 0.3));\n",
              "      fill: #FFFFFF;\n",
              "    }\n",
              "  </style>\n",
              "\n",
              "      <script>\n",
              "        const buttonEl =\n",
              "          document.querySelector('#df-84a3d67f-71c0-4d0e-b16d-1bd18e35a15f button.colab-df-convert');\n",
              "        buttonEl.style.display =\n",
              "          google.colab.kernel.accessAllowed ? 'block' : 'none';\n",
              "\n",
              "        async function convertToInteractive(key) {\n",
              "          const element = document.querySelector('#df-84a3d67f-71c0-4d0e-b16d-1bd18e35a15f');\n",
              "          const dataTable =\n",
              "            await google.colab.kernel.invokeFunction('convertToInteractive',\n",
              "                                                     [key], {});\n",
              "          if (!dataTable) return;\n",
              "\n",
              "          const docLinkHtml = 'Like what you see? Visit the ' +\n",
              "            '<a target=\"_blank\" href=https://colab.research.google.com/notebooks/data_table.ipynb>data table notebook</a>'\n",
              "            + ' to learn more about interactive tables.';\n",
              "          element.innerHTML = '';\n",
              "          dataTable['output_type'] = 'display_data';\n",
              "          await google.colab.output.renderOutput(dataTable, element);\n",
              "          const docLink = document.createElement('div');\n",
              "          docLink.innerHTML = docLinkHtml;\n",
              "          element.appendChild(docLink);\n",
              "        }\n",
              "      </script>\n",
              "    </div>\n",
              "  </div>\n",
              "  "
            ]
          },
          "metadata": {}
        }
      ],
      "source": [
        "# выберем самое популярное событие\n",
        "popular_event = (\n",
        "    new_data.pivot_table(index='event_name', columns='exp_id', values='device_id_hash', aggfunc='nunique')\n",
        "    .reset_index().sort_values(by=246, ascending=False)\n",
        ")\n",
        "display(popular_event)\n",
        "# это MainScreenAppear\n"
      ]
    },
    {
      "cell_type": "code",
      "execution_count": 124,
      "metadata": {
        "colab": {
          "base_uri": "https://localhost:8080/",
          "height": 672
        },
        "id": "Xx8aZwP3HLAs",
        "outputId": "2fae0441-bb81-4b81-d990-8db47e55b1d9"
      },
      "outputs": [
        {
          "output_type": "display_data",
          "data": {
            "text/plain": [
              "'Численность группы 246, совершивших событие MainScreenAppear, составляет 2450 человек'"
            ],
            "application/vnd.google.colaboratory.intrinsic+json": {
              "type": "string"
            }
          },
          "metadata": {}
        },
        {
          "output_type": "display_data",
          "data": {
            "text/plain": [
              "'Процент группы 246, совершивших событие MainScreenAppear, составляет 32.52'"
            ],
            "application/vnd.google.colaboratory.intrinsic+json": {
              "type": "string"
            }
          },
          "metadata": {}
        },
        {
          "output_type": "display_data",
          "data": {
            "text/plain": [
              "None"
            ]
          },
          "metadata": {}
        },
        {
          "output_type": "display_data",
          "data": {
            "text/plain": [
              "'Численность группы 246, совершивших событие OffersScreenAppear, составляет 1542 человек'"
            ],
            "application/vnd.google.colaboratory.intrinsic+json": {
              "type": "string"
            }
          },
          "metadata": {}
        },
        {
          "output_type": "display_data",
          "data": {
            "text/plain": [
              "'Процент группы 246, совершивших событие OffersScreenAppear, составляет 20.47'"
            ],
            "application/vnd.google.colaboratory.intrinsic+json": {
              "type": "string"
            }
          },
          "metadata": {}
        },
        {
          "output_type": "display_data",
          "data": {
            "text/plain": [
              "None"
            ]
          },
          "metadata": {}
        },
        {
          "output_type": "display_data",
          "data": {
            "text/plain": [
              "'Численность группы 246, совершивших событие CartScreenAppear, составляет 1266 человек'"
            ],
            "application/vnd.google.colaboratory.intrinsic+json": {
              "type": "string"
            }
          },
          "metadata": {}
        },
        {
          "output_type": "display_data",
          "data": {
            "text/plain": [
              "'Процент группы 246, совершивших событие CartScreenAppear, составляет 16.8'"
            ],
            "application/vnd.google.colaboratory.intrinsic+json": {
              "type": "string"
            }
          },
          "metadata": {}
        },
        {
          "output_type": "display_data",
          "data": {
            "text/plain": [
              "None"
            ]
          },
          "metadata": {}
        },
        {
          "output_type": "display_data",
          "data": {
            "text/plain": [
              "'Численность группы 246, совершивших событие PaymentScreenSuccessful, составляет 1200 человек'"
            ],
            "application/vnd.google.colaboratory.intrinsic+json": {
              "type": "string"
            }
          },
          "metadata": {}
        },
        {
          "output_type": "display_data",
          "data": {
            "text/plain": [
              "'Процент группы 246, совершивших событие PaymentScreenSuccessful, составляет 15.93'"
            ],
            "application/vnd.google.colaboratory.intrinsic+json": {
              "type": "string"
            }
          },
          "metadata": {}
        },
        {
          "output_type": "display_data",
          "data": {
            "text/plain": [
              "None"
            ]
          },
          "metadata": {}
        },
        {
          "output_type": "display_data",
          "data": {
            "text/plain": [
              "'Численность группы 247, совершивших событие MainScreenAppear, составляет 2476 человек'"
            ],
            "application/vnd.google.colaboratory.intrinsic+json": {
              "type": "string"
            }
          },
          "metadata": {}
        },
        {
          "output_type": "display_data",
          "data": {
            "text/plain": [
              "'Процент группы 247, совершивших событие MainScreenAppear, составляет 32.86'"
            ],
            "application/vnd.google.colaboratory.intrinsic+json": {
              "type": "string"
            }
          },
          "metadata": {}
        },
        {
          "output_type": "display_data",
          "data": {
            "text/plain": [
              "None"
            ]
          },
          "metadata": {}
        },
        {
          "output_type": "display_data",
          "data": {
            "text/plain": [
              "'Численность группы 247, совершивших событие OffersScreenAppear, составляет 1520 человек'"
            ],
            "application/vnd.google.colaboratory.intrinsic+json": {
              "type": "string"
            }
          },
          "metadata": {}
        },
        {
          "output_type": "display_data",
          "data": {
            "text/plain": [
              "'Процент группы 247, совершивших событие OffersScreenAppear, составляет 20.18'"
            ],
            "application/vnd.google.colaboratory.intrinsic+json": {
              "type": "string"
            }
          },
          "metadata": {}
        },
        {
          "output_type": "display_data",
          "data": {
            "text/plain": [
              "None"
            ]
          },
          "metadata": {}
        },
        {
          "output_type": "display_data",
          "data": {
            "text/plain": [
              "'Численность группы 247, совершивших событие CartScreenAppear, составляет 1238 человек'"
            ],
            "application/vnd.google.colaboratory.intrinsic+json": {
              "type": "string"
            }
          },
          "metadata": {}
        },
        {
          "output_type": "display_data",
          "data": {
            "text/plain": [
              "'Процент группы 247, совершивших событие CartScreenAppear, составляет 16.43'"
            ],
            "application/vnd.google.colaboratory.intrinsic+json": {
              "type": "string"
            }
          },
          "metadata": {}
        },
        {
          "output_type": "display_data",
          "data": {
            "text/plain": [
              "None"
            ]
          },
          "metadata": {}
        },
        {
          "output_type": "display_data",
          "data": {
            "text/plain": [
              "'Численность группы 247, совершивших событие PaymentScreenSuccessful, составляет 1158 человек'"
            ],
            "application/vnd.google.colaboratory.intrinsic+json": {
              "type": "string"
            }
          },
          "metadata": {}
        },
        {
          "output_type": "display_data",
          "data": {
            "text/plain": [
              "'Процент группы 247, совершивших событие PaymentScreenSuccessful, составляет 15.37'"
            ],
            "application/vnd.google.colaboratory.intrinsic+json": {
              "type": "string"
            }
          },
          "metadata": {}
        },
        {
          "output_type": "display_data",
          "data": {
            "text/plain": [
              "None"
            ]
          },
          "metadata": {}
        },
        {
          "output_type": "display_data",
          "data": {
            "text/plain": [
              "'Численность группы 247, совершивших событие MainScreenAppear, составляет 2476 человек'"
            ],
            "application/vnd.google.colaboratory.intrinsic+json": {
              "type": "string"
            }
          },
          "metadata": {}
        },
        {
          "output_type": "display_data",
          "data": {
            "text/plain": [
              "'Процент группы 247, совершивших событие MainScreenAppear, составляет 32.86'"
            ],
            "application/vnd.google.colaboratory.intrinsic+json": {
              "type": "string"
            }
          },
          "metadata": {}
        },
        {
          "output_type": "display_data",
          "data": {
            "text/plain": [
              "None"
            ]
          },
          "metadata": {}
        },
        {
          "output_type": "display_data",
          "data": {
            "text/plain": [
              "'Численность группы 247, совершивших событие OffersScreenAppear, составляет 1520 человек'"
            ],
            "application/vnd.google.colaboratory.intrinsic+json": {
              "type": "string"
            }
          },
          "metadata": {}
        },
        {
          "output_type": "display_data",
          "data": {
            "text/plain": [
              "'Процент группы 247, совершивших событие OffersScreenAppear, составляет 20.18'"
            ],
            "application/vnd.google.colaboratory.intrinsic+json": {
              "type": "string"
            }
          },
          "metadata": {}
        },
        {
          "output_type": "display_data",
          "data": {
            "text/plain": [
              "None"
            ]
          },
          "metadata": {}
        },
        {
          "output_type": "display_data",
          "data": {
            "text/plain": [
              "'Численность группы 247, совершивших событие CartScreenAppear, составляет 1238 человек'"
            ],
            "application/vnd.google.colaboratory.intrinsic+json": {
              "type": "string"
            }
          },
          "metadata": {}
        },
        {
          "output_type": "display_data",
          "data": {
            "text/plain": [
              "'Процент группы 247, совершивших событие CartScreenAppear, составляет 16.43'"
            ],
            "application/vnd.google.colaboratory.intrinsic+json": {
              "type": "string"
            }
          },
          "metadata": {}
        },
        {
          "output_type": "display_data",
          "data": {
            "text/plain": [
              "None"
            ]
          },
          "metadata": {}
        },
        {
          "output_type": "display_data",
          "data": {
            "text/plain": [
              "'Численность группы 247, совершивших событие PaymentScreenSuccessful, составляет 1158 человек'"
            ],
            "application/vnd.google.colaboratory.intrinsic+json": {
              "type": "string"
            }
          },
          "metadata": {}
        },
        {
          "output_type": "display_data",
          "data": {
            "text/plain": [
              "'Процент группы 247, совершивших событие PaymentScreenSuccessful, составляет 15.37'"
            ],
            "application/vnd.google.colaboratory.intrinsic+json": {
              "type": "string"
            }
          },
          "metadata": {}
        },
        {
          "output_type": "display_data",
          "data": {
            "text/plain": [
              "None"
            ]
          },
          "metadata": {}
        }
      ],
      "source": [
        "# посчитаем количество и процент пользователей, совершивших определенное событие, в каждой контрольной группе\n",
        "def func(event_name, group_number):\n",
        "    display('Численность группы {}, совершивших событие {}, составляет {} человек'.format(group_number, event_name, new_data.query('event_name == @event_name and exp_id == @group_number')['device_id_hash'].nunique()))\n",
        "    display('Процент группы {}, совершивших событие {}, составляет {}'.format(group_number, event_name, round(100*new_data.query('event_name == @event_name and exp_id == @group_number')['device_id_hash'].nunique() / new_data['device_id_hash'].nunique(), 2)))\n",
        "\n",
        "display(func('MainScreenAppear', 246))\n",
        "display(func('OffersScreenAppear', 246))\n",
        "display(func('CartScreenAppear', 246))\n",
        "display(func('PaymentScreenSuccessful', 246))\n",
        "\n",
        "display(func('MainScreenAppear', 247))\n",
        "display(func('OffersScreenAppear', 247))\n",
        "display(func('CartScreenAppear', 247))\n",
        "display(func('PaymentScreenSuccessful', 247))\n",
        "\n",
        "display(func('MainScreenAppear', 247))\n",
        "display(func('OffersScreenAppear', 247))\n",
        "display(func('CartScreenAppear', 247))\n",
        "display(func('PaymentScreenSuccessful', 247))\n"
      ]
    },
    {
      "cell_type": "markdown",
      "metadata": {
        "id": "d36Kazk6gX91"
      },
      "source": [
        "Проверим гипотезу о наличии статистически значимых различий в конверсиях между контрольными и экспериментальной группами с помощью z-теста.\n",
        "\n",
        "- Нулевая гипотеза: пропорции равны.\n",
        "- Альтернативная гипотеза: пропорции не равны."
      ]
    },
    {
      "cell_type": "code",
      "execution_count": 125,
      "metadata": {
        "colab": {
          "base_uri": "https://localhost:8080/",
          "height": 287
        },
        "id": "q194Wzvqxza6",
        "outputId": "e82df397-c9e4-4856-b152-9e2ff0e3b33e"
      },
      "outputs": [
        {
          "output_type": "display_data",
          "data": {
            "text/plain": [
              "'Результат этапа MainScreenAppear для групп 246 (кол-во пользователей: 2450, конверсия: 0.99) и 248 (кол-во пользователей: 2493, конверсия: 0.98):'"
            ],
            "application/vnd.google.colaboratory.intrinsic+json": {
              "type": "string"
            }
          },
          "metadata": {}
        },
        {
          "output_type": "stream",
          "name": "stdout",
          "text": [
            "p-значение:  0.2949721933554552\n",
            "Не получилось отвергнуть нулевую гипотезу, нет оснований считать пропорции разными\n"
          ]
        },
        {
          "output_type": "display_data",
          "data": {
            "text/plain": [
              "'Результат этапа OffersScreenAppear для групп 246 (кол-во пользователей: 1542, конверсия: 0.62) и 248 (кол-во пользователей: 1531, конверсия: 0.6):'"
            ],
            "application/vnd.google.colaboratory.intrinsic+json": {
              "type": "string"
            }
          },
          "metadata": {}
        },
        {
          "output_type": "stream",
          "name": "stdout",
          "text": [
            "p-значение:  0.20836205402738917\n",
            "Не получилось отвергнуть нулевую гипотезу, нет оснований считать пропорции разными\n"
          ]
        },
        {
          "output_type": "display_data",
          "data": {
            "text/plain": [
              "'Результат этапа CartScreenAppear для групп 246 (кол-во пользователей: 1266, конверсия: 0.51) и 248 (кол-во пользователей: 1230, конверсия: 0.48):'"
            ],
            "application/vnd.google.colaboratory.intrinsic+json": {
              "type": "string"
            }
          },
          "metadata": {}
        },
        {
          "output_type": "stream",
          "name": "stdout",
          "text": [
            "p-значение:  0.07842923237520116\n",
            "Не получилось отвергнуть нулевую гипотезу, нет оснований считать пропорции разными\n"
          ]
        },
        {
          "output_type": "display_data",
          "data": {
            "text/plain": [
              "'Результат этапа PaymentScreenSuccessful для групп 246 (кол-во пользователей: 1200, конверсия: 0.48) и 248 (кол-во пользователей: 1181, конверсия: 0.47):'"
            ],
            "application/vnd.google.colaboratory.intrinsic+json": {
              "type": "string"
            }
          },
          "metadata": {}
        },
        {
          "output_type": "stream",
          "name": "stdout",
          "text": [
            "p-значение:  0.2122553275697796\n",
            "Не получилось отвергнуть нулевую гипотезу, нет оснований считать пропорции разными\n"
          ]
        },
        {
          "output_type": "display_data",
          "data": {
            "text/plain": [
              "'Результат этапа Tutorial для групп 246 (кол-во пользователей: 278, конверсия: 0.11) и 248 (кол-во пользователей: 279, конверсия: 0.11):'"
            ],
            "application/vnd.google.colaboratory.intrinsic+json": {
              "type": "string"
            }
          },
          "metadata": {}
        },
        {
          "output_type": "stream",
          "name": "stdout",
          "text": [
            "p-значение:  0.8264294010087645\n",
            "Не получилось отвергнуть нулевую гипотезу, нет оснований считать пропорции разными\n"
          ]
        }
      ],
      "source": [
        "# сделаем проверку для групп 246 и 248\n",
        "foo(246, 248, group_events, all_users)"
      ]
    },
    {
      "cell_type": "code",
      "execution_count": 126,
      "metadata": {
        "colab": {
          "base_uri": "https://localhost:8080/",
          "height": 287
        },
        "id": "5JwNxXBGxza6",
        "outputId": "3fd10f9c-63e4-4a82-fdb0-fd4620a7d9c8"
      },
      "outputs": [
        {
          "output_type": "display_data",
          "data": {
            "text/plain": [
              "'Результат этапа MainScreenAppear для групп 247 (кол-во пользователей: 2476, конверсия: 0.99) и 248 (кол-во пользователей: 2493, конверсия: 0.98):'"
            ],
            "application/vnd.google.colaboratory.intrinsic+json": {
              "type": "string"
            }
          },
          "metadata": {}
        },
        {
          "output_type": "stream",
          "name": "stdout",
          "text": [
            "p-значение:  0.4587053616621515\n",
            "Не получилось отвергнуть нулевую гипотезу, нет оснований считать пропорции разными\n"
          ]
        },
        {
          "output_type": "display_data",
          "data": {
            "text/plain": [
              "'Результат этапа OffersScreenAppear для групп 247 (кол-во пользователей: 1520, конверсия: 0.6) и 248 (кол-во пользователей: 1531, конверсия: 0.6):'"
            ],
            "application/vnd.google.colaboratory.intrinsic+json": {
              "type": "string"
            }
          },
          "metadata": {}
        },
        {
          "output_type": "stream",
          "name": "stdout",
          "text": [
            "p-значение:  0.9197817830592261\n",
            "Не получилось отвергнуть нулевую гипотезу, нет оснований считать пропорции разными\n"
          ]
        },
        {
          "output_type": "display_data",
          "data": {
            "text/plain": [
              "'Результат этапа CartScreenAppear для групп 247 (кол-во пользователей: 1238, конверсия: 0.49) и 248 (кол-во пользователей: 1230, конверсия: 0.48):'"
            ],
            "application/vnd.google.colaboratory.intrinsic+json": {
              "type": "string"
            }
          },
          "metadata": {}
        },
        {
          "output_type": "stream",
          "name": "stdout",
          "text": [
            "p-значение:  0.5786197879539783\n",
            "Не получилось отвергнуть нулевую гипотезу, нет оснований считать пропорции разными\n"
          ]
        },
        {
          "output_type": "display_data",
          "data": {
            "text/plain": [
              "'Результат этапа PaymentScreenSuccessful для групп 247 (кол-во пользователей: 1158, конверсия: 0.46) и 248 (кол-во пользователей: 1181, конверсия: 0.47):'"
            ],
            "application/vnd.google.colaboratory.intrinsic+json": {
              "type": "string"
            }
          },
          "metadata": {}
        },
        {
          "output_type": "stream",
          "name": "stdout",
          "text": [
            "p-значение:  0.7373415053803964\n",
            "Не получилось отвергнуть нулевую гипотезу, нет оснований считать пропорции разными\n"
          ]
        },
        {
          "output_type": "display_data",
          "data": {
            "text/plain": [
              "'Результат этапа Tutorial для групп 247 (кол-во пользователей: 283, конверсия: 0.11) и 248 (кол-во пользователей: 279, конверсия: 0.11):'"
            ],
            "application/vnd.google.colaboratory.intrinsic+json": {
              "type": "string"
            }
          },
          "metadata": {}
        },
        {
          "output_type": "stream",
          "name": "stdout",
          "text": [
            "p-значение:  0.765323922474501\n",
            "Не получилось отвергнуть нулевую гипотезу, нет оснований считать пропорции разными\n"
          ]
        }
      ],
      "source": [
        "# сделаем проверку для групп 247 и 248\n",
        "foo(247, 248, group_events, all_users)"
      ]
    },
    {
      "cell_type": "markdown",
      "metadata": {
        "id": "BT4Wskrexza6"
      },
      "source": [
        "Проверим гипотезу о наличии статистически значимых различий в конверсиях между объединенными контрольными и экспериментальной группами с помощью z-теста.\n",
        "\n",
        "- Нулевая гипотеза: пропорции равны.\n",
        "- Альтернативная гипотеза: пропорции не равны."
      ]
    },
    {
      "cell_type": "code",
      "execution_count": 127,
      "metadata": {
        "colab": {
          "base_uri": "https://localhost:8080/",
          "height": 313
        },
        "id": "poxzovk_jOh1",
        "outputId": "ece92210-60ee-4970-fc8e-0e6e4204d6a0"
      },
      "outputs": [
        {
          "output_type": "display_data",
          "data": {
            "text/plain": [
              "exp_id               event_name   246   247   248  joint\n",
              "0              MainScreenAppear  2450  2476  2493   4926\n",
              "1            OffersScreenAppear  1542  1520  1531   3062\n",
              "2              CartScreenAppear  1266  1238  1230   2504\n",
              "3       PaymentScreenSuccessful  1200  1158  1181   2358\n",
              "4                      Tutorial   278   283   279    561"
            ],
            "text/html": [
              "\n",
              "  <div id=\"df-adfde1f1-b8fc-4c8a-843a-a6e695743a3c\">\n",
              "    <div class=\"colab-df-container\">\n",
              "      <div>\n",
              "<style scoped>\n",
              "    .dataframe tbody tr th:only-of-type {\n",
              "        vertical-align: middle;\n",
              "    }\n",
              "\n",
              "    .dataframe tbody tr th {\n",
              "        vertical-align: top;\n",
              "    }\n",
              "\n",
              "    .dataframe thead th {\n",
              "        text-align: right;\n",
              "    }\n",
              "</style>\n",
              "<table border=\"1\" class=\"dataframe\">\n",
              "  <thead>\n",
              "    <tr style=\"text-align: right;\">\n",
              "      <th>exp_id</th>\n",
              "      <th>event_name</th>\n",
              "      <th>246</th>\n",
              "      <th>247</th>\n",
              "      <th>248</th>\n",
              "      <th>joint</th>\n",
              "    </tr>\n",
              "  </thead>\n",
              "  <tbody>\n",
              "    <tr>\n",
              "      <th>0</th>\n",
              "      <td>MainScreenAppear</td>\n",
              "      <td>2450</td>\n",
              "      <td>2476</td>\n",
              "      <td>2493</td>\n",
              "      <td>4926</td>\n",
              "    </tr>\n",
              "    <tr>\n",
              "      <th>1</th>\n",
              "      <td>OffersScreenAppear</td>\n",
              "      <td>1542</td>\n",
              "      <td>1520</td>\n",
              "      <td>1531</td>\n",
              "      <td>3062</td>\n",
              "    </tr>\n",
              "    <tr>\n",
              "      <th>2</th>\n",
              "      <td>CartScreenAppear</td>\n",
              "      <td>1266</td>\n",
              "      <td>1238</td>\n",
              "      <td>1230</td>\n",
              "      <td>2504</td>\n",
              "    </tr>\n",
              "    <tr>\n",
              "      <th>3</th>\n",
              "      <td>PaymentScreenSuccessful</td>\n",
              "      <td>1200</td>\n",
              "      <td>1158</td>\n",
              "      <td>1181</td>\n",
              "      <td>2358</td>\n",
              "    </tr>\n",
              "    <tr>\n",
              "      <th>4</th>\n",
              "      <td>Tutorial</td>\n",
              "      <td>278</td>\n",
              "      <td>283</td>\n",
              "      <td>279</td>\n",
              "      <td>561</td>\n",
              "    </tr>\n",
              "  </tbody>\n",
              "</table>\n",
              "</div>\n",
              "      <button class=\"colab-df-convert\" onclick=\"convertToInteractive('df-adfde1f1-b8fc-4c8a-843a-a6e695743a3c')\"\n",
              "              title=\"Convert this dataframe to an interactive table.\"\n",
              "              style=\"display:none;\">\n",
              "        \n",
              "  <svg xmlns=\"http://www.w3.org/2000/svg\" height=\"24px\"viewBox=\"0 0 24 24\"\n",
              "       width=\"24px\">\n",
              "    <path d=\"M0 0h24v24H0V0z\" fill=\"none\"/>\n",
              "    <path d=\"M18.56 5.44l.94 2.06.94-2.06 2.06-.94-2.06-.94-.94-2.06-.94 2.06-2.06.94zm-11 1L8.5 8.5l.94-2.06 2.06-.94-2.06-.94L8.5 2.5l-.94 2.06-2.06.94zm10 10l.94 2.06.94-2.06 2.06-.94-2.06-.94-.94-2.06-.94 2.06-2.06.94z\"/><path d=\"M17.41 7.96l-1.37-1.37c-.4-.4-.92-.59-1.43-.59-.52 0-1.04.2-1.43.59L10.3 9.45l-7.72 7.72c-.78.78-.78 2.05 0 2.83L4 21.41c.39.39.9.59 1.41.59.51 0 1.02-.2 1.41-.59l7.78-7.78 2.81-2.81c.8-.78.8-2.07 0-2.86zM5.41 20L4 18.59l7.72-7.72 1.47 1.35L5.41 20z\"/>\n",
              "  </svg>\n",
              "      </button>\n",
              "      \n",
              "  <style>\n",
              "    .colab-df-container {\n",
              "      display:flex;\n",
              "      flex-wrap:wrap;\n",
              "      gap: 12px;\n",
              "    }\n",
              "\n",
              "    .colab-df-convert {\n",
              "      background-color: #E8F0FE;\n",
              "      border: none;\n",
              "      border-radius: 50%;\n",
              "      cursor: pointer;\n",
              "      display: none;\n",
              "      fill: #1967D2;\n",
              "      height: 32px;\n",
              "      padding: 0 0 0 0;\n",
              "      width: 32px;\n",
              "    }\n",
              "\n",
              "    .colab-df-convert:hover {\n",
              "      background-color: #E2EBFA;\n",
              "      box-shadow: 0px 1px 2px rgba(60, 64, 67, 0.3), 0px 1px 3px 1px rgba(60, 64, 67, 0.15);\n",
              "      fill: #174EA6;\n",
              "    }\n",
              "\n",
              "    [theme=dark] .colab-df-convert {\n",
              "      background-color: #3B4455;\n",
              "      fill: #D2E3FC;\n",
              "    }\n",
              "\n",
              "    [theme=dark] .colab-df-convert:hover {\n",
              "      background-color: #434B5C;\n",
              "      box-shadow: 0px 1px 3px 1px rgba(0, 0, 0, 0.15);\n",
              "      filter: drop-shadow(0px 1px 2px rgba(0, 0, 0, 0.3));\n",
              "      fill: #FFFFFF;\n",
              "    }\n",
              "  </style>\n",
              "\n",
              "      <script>\n",
              "        const buttonEl =\n",
              "          document.querySelector('#df-adfde1f1-b8fc-4c8a-843a-a6e695743a3c button.colab-df-convert');\n",
              "        buttonEl.style.display =\n",
              "          google.colab.kernel.accessAllowed ? 'block' : 'none';\n",
              "\n",
              "        async function convertToInteractive(key) {\n",
              "          const element = document.querySelector('#df-adfde1f1-b8fc-4c8a-843a-a6e695743a3c');\n",
              "          const dataTable =\n",
              "            await google.colab.kernel.invokeFunction('convertToInteractive',\n",
              "                                                     [key], {});\n",
              "          if (!dataTable) return;\n",
              "\n",
              "          const docLinkHtml = 'Like what you see? Visit the ' +\n",
              "            '<a target=\"_blank\" href=https://colab.research.google.com/notebooks/data_table.ipynb>data table notebook</a>'\n",
              "            + ' to learn more about interactive tables.';\n",
              "          element.innerHTML = '';\n",
              "          dataTable['output_type'] = 'display_data';\n",
              "          await google.colab.output.renderOutput(dataTable, element);\n",
              "          const docLink = document.createElement('div');\n",
              "          docLink.innerHTML = docLinkHtml;\n",
              "          element.appendChild(docLink);\n",
              "        }\n",
              "      </script>\n",
              "    </div>\n",
              "  </div>\n",
              "  "
            ]
          },
          "metadata": {}
        },
        {
          "output_type": "execute_result",
          "data": {
            "text/plain": [
              "exp_id\n",
              "246      2484\n",
              "247      2513\n",
              "248      2537\n",
              "joint    4997\n",
              "Name: device_id_hash, dtype: int64"
            ]
          },
          "metadata": {},
          "execution_count": 127
        }
      ],
      "source": [
        "# объединим контрольные группы\n",
        "group_events['joint'] = group_events[246] + group_events[247]\n",
        "display(group_events)\n",
        "\n",
        "#добавим столбец с объединенным количеством пользователей в таблицу\n",
        "all_users['joint'] = all_users[246] + all_users[247]\n",
        "all_users"
      ]
    },
    {
      "cell_type": "code",
      "execution_count": 128,
      "metadata": {
        "colab": {
          "base_uri": "https://localhost:8080/",
          "height": 287
        },
        "id": "u62lKlx6xza6",
        "outputId": "f7642574-e48e-4774-ea34-49e27d7b46c4"
      },
      "outputs": [
        {
          "output_type": "display_data",
          "data": {
            "text/plain": [
              "'Результат этапа MainScreenAppear для групп joint (кол-во пользователей: 4926, конверсия: 0.99) и 248 (кол-во пользователей: 2493, конверсия: 0.98):'"
            ],
            "application/vnd.google.colaboratory.intrinsic+json": {
              "type": "string"
            }
          },
          "metadata": {}
        },
        {
          "output_type": "stream",
          "name": "stdout",
          "text": [
            "p-значение:  0.29424526837179577\n",
            "Не получилось отвергнуть нулевую гипотезу, нет оснований считать пропорции разными\n"
          ]
        },
        {
          "output_type": "display_data",
          "data": {
            "text/plain": [
              "'Результат этапа OffersScreenAppear для групп joint (кол-во пользователей: 3062, конверсия: 0.61) и 248 (кол-во пользователей: 1531, конверсия: 0.6):'"
            ],
            "application/vnd.google.colaboratory.intrinsic+json": {
              "type": "string"
            }
          },
          "metadata": {}
        },
        {
          "output_type": "stream",
          "name": "stdout",
          "text": [
            "p-значение:  0.43425549655188256\n",
            "Не получилось отвергнуть нулевую гипотезу, нет оснований считать пропорции разными\n"
          ]
        },
        {
          "output_type": "display_data",
          "data": {
            "text/plain": [
              "'Результат этапа CartScreenAppear для групп joint (кол-во пользователей: 2504, конверсия: 0.5) и 248 (кол-во пользователей: 1230, конверсия: 0.48):'"
            ],
            "application/vnd.google.colaboratory.intrinsic+json": {
              "type": "string"
            }
          },
          "metadata": {}
        },
        {
          "output_type": "stream",
          "name": "stdout",
          "text": [
            "p-значение:  0.18175875284404386\n",
            "Не получилось отвергнуть нулевую гипотезу, нет оснований считать пропорции разными\n"
          ]
        },
        {
          "output_type": "display_data",
          "data": {
            "text/plain": [
              "'Результат этапа PaymentScreenSuccessful для групп joint (кол-во пользователей: 2358, конверсия: 0.47) и 248 (кол-во пользователей: 1181, конверсия: 0.47):'"
            ],
            "application/vnd.google.colaboratory.intrinsic+json": {
              "type": "string"
            }
          },
          "metadata": {}
        },
        {
          "output_type": "stream",
          "name": "stdout",
          "text": [
            "p-значение:  0.6004294282308704\n",
            "Не получилось отвергнуть нулевую гипотезу, нет оснований считать пропорции разными\n"
          ]
        },
        {
          "output_type": "display_data",
          "data": {
            "text/plain": [
              "'Результат этапа Tutorial для групп joint (кол-во пользователей: 561, конверсия: 0.11) и 248 (кол-во пользователей: 279, конверсия: 0.11):'"
            ],
            "application/vnd.google.colaboratory.intrinsic+json": {
              "type": "string"
            }
          },
          "metadata": {}
        },
        {
          "output_type": "stream",
          "name": "stdout",
          "text": [
            "p-значение:  0.764862472531507\n",
            "Не получилось отвергнуть нулевую гипотезу, нет оснований считать пропорции разными\n"
          ]
        }
      ],
      "source": [
        "# сделаем проверку для объединенных контрольных групп и группы 248\n",
        "foo('joint', 248, group_events, all_users)"
      ]
    },
    {
      "cell_type": "markdown",
      "metadata": {
        "id": "Sjx8tGT5xzll"
      },
      "source": [
        "## Выводы\n",
        "- 246 и 247 — контрольные группы, а 248 — экспериментальная. В контрольных группах 2450 и 2476 пользователей соответственно, в экспериментальной — 2493.\n",
        "- Проверки разницы пропорций между зашедшими на главную и просмотревшими страницы со специальным предложеним / положившими товар в корзину / оплатившими заказ показали, что статистической разницы между контрольными группами, между каждой из контрольных групп и экспериментальной, а также между объединенными контрольными и экспериментальной нет.\n",
        "- Было проведено 12 статистических тестов при уровне значимости 0.1/12 при поправке Бонферрони. Все тесты показали, что статистической значимости между группами нет: как контрольными, так и экспериментальной.\n",
        "- Проверка гипотезы о равенстве средних контрольных групп между собой и каждой из конрольных групп с экспериментальной показала, что они равны."
      ]
    },
    {
      "cell_type": "markdown",
      "metadata": {
        "id": "VM82XcXWxa0A"
      },
      "source": [
        "# Общий вывод\n",
        "<a name=\"sumup\"></a>"
      ]
    },
    {
      "cell_type": "markdown",
      "metadata": {
        "id": "IaZe4Xavz4UR"
      },
      "source": [
        "Для стартапа, который продаёт продукты питания нам нужно было разобраться, как ведут себя пользователи мобильного приложения. Нужно было изучить воронку продаж и исследовать результаты эксперимента по замене шрифтов во всём приложении.\n",
        "\n",
        "В ходе исследования мы проверили данные на пропуски, аномалии и дубликаты. \n",
        "\n",
        "Затем мы изучили воронку продаж: узнали какие события есть в логах, как часто они встречаются; сколько пользователей совершали каждое из этих событий; какова доля пользователей, которые хоть раз совершали событие; в каком порядке происходят события; какая доля пользователей проходит на следующий шаг воронки; на каком шаге теряете больше всего пользователей и какая доля пользователей доходит от первого события до оплаты.\n",
        "\n",
        "После этого мы исследовали результаты A/A/B-эксперимента: узнали, сколько пользователей в каждой экспериментальной группе, находят ли статистические критерии разницу между выборками, выяснили число и долю пользователей, совершивших это событие в каждой из групп, а также будет ли отличие между группами статистически достоверным.\n",
        "\n",
        "После обработки и проверки данных мы провели их анализ и сделали следующие выводы:\n",
        "- В логе 244126 событий и 7551 уникальных пользователей за период с 25 июля по 7 августа 2019 года. Среднее количество событий на пользователя — 32, медианное - 20. \n",
        "- Мы отбросили данные до 1 августа, т.к. событий до этой даты незначительное количество по сравнению с периодом с 1 по 7 августа. Таким образом мы исключили 2828 событий для 1451 уникального пользователя (19% от общего числа пользователей). В новых данных представлены пользователи из всех трех экспериментальных групп, каждый пользователь участвует только в одной группе.\n",
        "- В данных 4 вида событий: MainScreenAppear, OffersScreenAppear, CartScreenAppear, PaymentScreenSuccessful, Tutorial, первое из которых встречается чаще всего, и далее по убыванию.\n",
        "- Количество пользователей, совершивших каждое из событий, распределено в таком же порядке. Процент пользователей, совершивших каждое событие, от общего их количества выглядит следующим образом: MainScreenAppear — 98%, OffersScreenAppear — 61%, CartScreenAppear - 49%, PaymentScreenSuccessful - 47%, Tutorial — 11%.\n",
        "- Логичным выглядит, что события выстраиваются таким образом: MainScreenAppear (открытие главной страницы), Tutorial (просмотр инструкции, OffersScreenAppear (просмотр страницы со специальным предложением), CartScreenAppear (добавление товара в корзину), PaymentScreenSuccessful (успешная оплата). При этом Tutorial смотрит очень малое количество покупателей, этот пункт выбивается из общего списка, т.к. по всей видимости не является обязательным для покупки.\n",
        "- На следующий шаг воронки переходят следующие доли пользователей в расчете от предыдущего шага: страницу с предложением просматривают 62% их тех, кто зашел на главную, из них 81% добавляет товар в корзину, из которых 95% оплачивают заказ.\n",
        "- Больше всего пользователей теряется на шаге просмотра специального предложения (если не брать во внимание просмотр обучающего видео, который не является обязательным шагом для покупки).\n",
        "- От первого события до оплаты доходит 47% пользователей.\n",
        "- В контрольных группах 2450 и 2476 пользователей соответственно, в экспериментальной — 2493.\n",
        "- Проверки разницы пропорций между зашедшими на главную и просмотревшими страницы со специальным предложеним / положившими товар в корзину / оплатившими заказ показали, что статистической разницы между контрольными группами, между каждой из контрольных групп и экспериментальной, а также между объединенными контрольными и экспериментальной нет.\n",
        "- Было проведено 12 статистических тестов при уровне значимости 0.01/12 при поправке Бонферрони. Все тесты показали, что статистической значимости между группами нет: как контрольными, так и экспериментальной.\n",
        "- Проверка гипотезы о равенстве средних контрольных групп между собой и каждой из конрольных групп с экспериментальной показала, что они равны.\n",
        "\n",
        "Таким образом, можно сделать вывод, что статистической разницы между результатами групп в эксперименте по замене шрифта нет."
      ]
    }
  ],
  "metadata": {
    "ExecuteTimeLog": [
      {
        "duration": 103,
        "start_time": "2022-07-28T12:52:23.715Z"
      },
      {
        "duration": 1386,
        "start_time": "2022-07-28T19:00:45.092Z"
      },
      {
        "duration": 548,
        "start_time": "2022-07-28T19:00:46.480Z"
      },
      {
        "duration": 19,
        "start_time": "2022-07-28T19:00:47.030Z"
      },
      {
        "duration": 7,
        "start_time": "2022-07-28T19:00:47.052Z"
      },
      {
        "duration": 132,
        "start_time": "2022-07-28T19:00:47.061Z"
      },
      {
        "duration": 58,
        "start_time": "2022-07-28T19:00:47.197Z"
      },
      {
        "duration": 5,
        "start_time": "2022-07-28T19:00:47.256Z"
      },
      {
        "duration": 38,
        "start_time": "2022-07-28T19:00:47.262Z"
      },
      {
        "duration": 66,
        "start_time": "2022-07-28T19:00:47.301Z"
      },
      {
        "duration": 4,
        "start_time": "2022-07-28T19:00:47.370Z"
      },
      {
        "duration": 30,
        "start_time": "2022-07-28T19:00:47.375Z"
      },
      {
        "duration": 4,
        "start_time": "2022-07-28T19:00:47.407Z"
      },
      {
        "duration": 18,
        "start_time": "2022-07-28T19:00:47.412Z"
      },
      {
        "duration": 17,
        "start_time": "2022-07-28T19:00:47.432Z"
      },
      {
        "duration": 7,
        "start_time": "2022-07-28T19:00:47.451Z"
      },
      {
        "duration": 8,
        "start_time": "2022-07-28T19:00:47.460Z"
      },
      {
        "duration": 1091,
        "start_time": "2022-07-28T19:00:47.469Z"
      },
      {
        "duration": 16,
        "start_time": "2022-07-28T19:00:48.561Z"
      },
      {
        "duration": 24,
        "start_time": "2022-07-28T19:00:48.580Z"
      },
      {
        "duration": 34,
        "start_time": "2022-07-28T19:00:48.606Z"
      },
      {
        "duration": 80,
        "start_time": "2022-07-28T19:00:48.644Z"
      },
      {
        "duration": 123,
        "start_time": "2022-07-28T19:00:48.726Z"
      },
      {
        "duration": 9,
        "start_time": "2022-07-28T19:00:48.851Z"
      },
      {
        "duration": 50,
        "start_time": "2022-07-28T19:00:48.863Z"
      },
      {
        "duration": 6,
        "start_time": "2022-07-28T19:00:48.914Z"
      },
      {
        "duration": 101,
        "start_time": "2022-07-28T19:00:48.921Z"
      },
      {
        "duration": 33,
        "start_time": "2022-07-28T19:00:49.023Z"
      },
      {
        "duration": 53,
        "start_time": "2022-07-28T19:00:49.061Z"
      },
      {
        "duration": 5,
        "start_time": "2022-07-28T19:00:49.116Z"
      },
      {
        "duration": 10,
        "start_time": "2022-07-28T19:00:49.122Z"
      },
      {
        "duration": 8,
        "start_time": "2022-07-28T19:00:49.134Z"
      },
      {
        "duration": 98,
        "start_time": "2022-07-28T19:00:49.143Z"
      },
      {
        "duration": 406,
        "start_time": "2022-07-28T19:00:49.242Z"
      },
      {
        "duration": 5,
        "start_time": "2022-07-28T19:00:49.651Z"
      },
      {
        "duration": 12,
        "start_time": "2022-07-28T19:00:49.658Z"
      },
      {
        "duration": 27,
        "start_time": "2022-07-28T19:00:49.672Z"
      },
      {
        "duration": 78,
        "start_time": "2022-07-28T19:00:49.701Z"
      },
      {
        "duration": 5,
        "start_time": "2022-07-28T19:00:49.797Z"
      },
      {
        "duration": 8,
        "start_time": "2022-07-28T19:00:49.803Z"
      },
      {
        "duration": 6,
        "start_time": "2022-07-28T19:00:49.812Z"
      },
      {
        "duration": 6,
        "start_time": "2022-07-28T19:00:49.820Z"
      },
      {
        "duration": 27,
        "start_time": "2022-07-28T19:00:49.828Z"
      },
      {
        "duration": 12,
        "start_time": "2022-07-28T19:00:49.857Z"
      },
      {
        "duration": 110,
        "start_time": "2022-07-28T19:00:49.871Z"
      },
      {
        "duration": 15,
        "start_time": "2022-07-28T19:00:49.982Z"
      },
      {
        "duration": 5,
        "start_time": "2022-07-28T19:00:49.999Z"
      },
      {
        "duration": 9,
        "start_time": "2022-07-28T19:00:50.006Z"
      },
      {
        "duration": 282,
        "start_time": "2022-07-28T19:04:25.646Z"
      },
      {
        "duration": 9,
        "start_time": "2022-07-28T19:04:42.753Z"
      },
      {
        "duration": 156,
        "start_time": "2022-07-28T19:04:59.775Z"
      },
      {
        "duration": 13,
        "start_time": "2022-07-28T19:05:02.764Z"
      },
      {
        "duration": 181,
        "start_time": "2022-07-28T19:05:16.153Z"
      },
      {
        "duration": 374,
        "start_time": "2022-07-28T19:05:23.510Z"
      },
      {
        "duration": 92,
        "start_time": "2022-07-28T19:05:33.042Z"
      },
      {
        "duration": 10,
        "start_time": "2022-07-28T19:05:34.991Z"
      },
      {
        "duration": 1178,
        "start_time": "2022-07-28T19:05:47.853Z"
      },
      {
        "duration": 113,
        "start_time": "2022-07-28T19:05:49.034Z"
      },
      {
        "duration": 0,
        "start_time": "2022-07-28T19:05:49.151Z"
      },
      {
        "duration": 0,
        "start_time": "2022-07-28T19:05:49.153Z"
      },
      {
        "duration": 0,
        "start_time": "2022-07-28T19:05:49.154Z"
      },
      {
        "duration": 0,
        "start_time": "2022-07-28T19:05:49.156Z"
      },
      {
        "duration": 0,
        "start_time": "2022-07-28T19:05:49.157Z"
      },
      {
        "duration": 0,
        "start_time": "2022-07-28T19:05:49.158Z"
      },
      {
        "duration": 0,
        "start_time": "2022-07-28T19:05:49.160Z"
      },
      {
        "duration": 0,
        "start_time": "2022-07-28T19:05:49.161Z"
      },
      {
        "duration": 0,
        "start_time": "2022-07-28T19:05:49.162Z"
      },
      {
        "duration": 0,
        "start_time": "2022-07-28T19:05:49.164Z"
      },
      {
        "duration": 0,
        "start_time": "2022-07-28T19:05:49.165Z"
      },
      {
        "duration": 0,
        "start_time": "2022-07-28T19:05:49.166Z"
      },
      {
        "duration": 0,
        "start_time": "2022-07-28T19:05:49.168Z"
      },
      {
        "duration": 0,
        "start_time": "2022-07-28T19:05:49.198Z"
      },
      {
        "duration": 0,
        "start_time": "2022-07-28T19:05:49.200Z"
      },
      {
        "duration": 0,
        "start_time": "2022-07-28T19:05:49.201Z"
      },
      {
        "duration": 1,
        "start_time": "2022-07-28T19:05:49.202Z"
      },
      {
        "duration": 0,
        "start_time": "2022-07-28T19:05:49.204Z"
      },
      {
        "duration": 0,
        "start_time": "2022-07-28T19:05:49.205Z"
      },
      {
        "duration": 0,
        "start_time": "2022-07-28T19:05:49.206Z"
      },
      {
        "duration": 0,
        "start_time": "2022-07-28T19:05:49.207Z"
      },
      {
        "duration": 0,
        "start_time": "2022-07-28T19:05:49.209Z"
      },
      {
        "duration": 0,
        "start_time": "2022-07-28T19:05:49.210Z"
      },
      {
        "duration": 0,
        "start_time": "2022-07-28T19:05:49.211Z"
      },
      {
        "duration": 0,
        "start_time": "2022-07-28T19:05:49.213Z"
      },
      {
        "duration": 0,
        "start_time": "2022-07-28T19:05:49.214Z"
      },
      {
        "duration": 0,
        "start_time": "2022-07-28T19:05:49.215Z"
      },
      {
        "duration": 0,
        "start_time": "2022-07-28T19:05:49.216Z"
      },
      {
        "duration": 0,
        "start_time": "2022-07-28T19:05:49.217Z"
      },
      {
        "duration": 0,
        "start_time": "2022-07-28T19:05:49.218Z"
      },
      {
        "duration": 0,
        "start_time": "2022-07-28T19:05:49.220Z"
      },
      {
        "duration": 0,
        "start_time": "2022-07-28T19:05:49.221Z"
      },
      {
        "duration": 0,
        "start_time": "2022-07-28T19:05:49.222Z"
      },
      {
        "duration": 0,
        "start_time": "2022-07-28T19:05:49.223Z"
      },
      {
        "duration": 0,
        "start_time": "2022-07-28T19:05:49.225Z"
      },
      {
        "duration": 0,
        "start_time": "2022-07-28T19:05:49.226Z"
      },
      {
        "duration": 0,
        "start_time": "2022-07-28T19:05:49.227Z"
      },
      {
        "duration": 0,
        "start_time": "2022-07-28T19:05:49.228Z"
      },
      {
        "duration": 1,
        "start_time": "2022-07-28T19:05:49.229Z"
      },
      {
        "duration": 0,
        "start_time": "2022-07-28T19:05:49.231Z"
      },
      {
        "duration": 0,
        "start_time": "2022-07-28T19:05:49.233Z"
      },
      {
        "duration": 0,
        "start_time": "2022-07-28T19:05:49.234Z"
      },
      {
        "duration": 0,
        "start_time": "2022-07-28T19:05:49.299Z"
      },
      {
        "duration": 0,
        "start_time": "2022-07-28T19:05:49.300Z"
      },
      {
        "duration": 0,
        "start_time": "2022-07-28T19:05:49.301Z"
      },
      {
        "duration": 0,
        "start_time": "2022-07-28T19:05:49.303Z"
      },
      {
        "duration": 0,
        "start_time": "2022-07-28T19:05:49.304Z"
      },
      {
        "duration": 1158,
        "start_time": "2022-07-28T19:06:13.736Z"
      },
      {
        "duration": 107,
        "start_time": "2022-07-28T19:06:14.897Z"
      },
      {
        "duration": 0,
        "start_time": "2022-07-28T19:06:15.007Z"
      },
      {
        "duration": 0,
        "start_time": "2022-07-28T19:06:15.008Z"
      },
      {
        "duration": 0,
        "start_time": "2022-07-28T19:06:15.009Z"
      },
      {
        "duration": 0,
        "start_time": "2022-07-28T19:06:15.010Z"
      },
      {
        "duration": 0,
        "start_time": "2022-07-28T19:06:15.011Z"
      },
      {
        "duration": 0,
        "start_time": "2022-07-28T19:06:15.012Z"
      },
      {
        "duration": 0,
        "start_time": "2022-07-28T19:06:15.014Z"
      },
      {
        "duration": 0,
        "start_time": "2022-07-28T19:06:15.014Z"
      },
      {
        "duration": 0,
        "start_time": "2022-07-28T19:06:15.016Z"
      },
      {
        "duration": 0,
        "start_time": "2022-07-28T19:06:15.017Z"
      },
      {
        "duration": 0,
        "start_time": "2022-07-28T19:06:15.018Z"
      },
      {
        "duration": 0,
        "start_time": "2022-07-28T19:06:15.019Z"
      },
      {
        "duration": 0,
        "start_time": "2022-07-28T19:06:15.021Z"
      },
      {
        "duration": 0,
        "start_time": "2022-07-28T19:06:15.022Z"
      },
      {
        "duration": 0,
        "start_time": "2022-07-28T19:06:15.023Z"
      },
      {
        "duration": 0,
        "start_time": "2022-07-28T19:06:15.024Z"
      },
      {
        "duration": 0,
        "start_time": "2022-07-28T19:06:15.025Z"
      },
      {
        "duration": 0,
        "start_time": "2022-07-28T19:06:15.026Z"
      },
      {
        "duration": 0,
        "start_time": "2022-07-28T19:06:15.027Z"
      },
      {
        "duration": 0,
        "start_time": "2022-07-28T19:06:15.028Z"
      },
      {
        "duration": 0,
        "start_time": "2022-07-28T19:06:15.030Z"
      },
      {
        "duration": 0,
        "start_time": "2022-07-28T19:06:15.031Z"
      },
      {
        "duration": 0,
        "start_time": "2022-07-28T19:06:15.032Z"
      },
      {
        "duration": 0,
        "start_time": "2022-07-28T19:06:15.034Z"
      },
      {
        "duration": 0,
        "start_time": "2022-07-28T19:06:15.035Z"
      },
      {
        "duration": 0,
        "start_time": "2022-07-28T19:06:15.038Z"
      },
      {
        "duration": 0,
        "start_time": "2022-07-28T19:06:15.040Z"
      },
      {
        "duration": 0,
        "start_time": "2022-07-28T19:06:15.041Z"
      },
      {
        "duration": 0,
        "start_time": "2022-07-28T19:06:15.099Z"
      },
      {
        "duration": 0,
        "start_time": "2022-07-28T19:06:15.101Z"
      },
      {
        "duration": 0,
        "start_time": "2022-07-28T19:06:15.102Z"
      },
      {
        "duration": 0,
        "start_time": "2022-07-28T19:06:15.103Z"
      },
      {
        "duration": 0,
        "start_time": "2022-07-28T19:06:15.105Z"
      },
      {
        "duration": 1,
        "start_time": "2022-07-28T19:06:15.105Z"
      },
      {
        "duration": 0,
        "start_time": "2022-07-28T19:06:15.107Z"
      },
      {
        "duration": 0,
        "start_time": "2022-07-28T19:06:15.108Z"
      },
      {
        "duration": 0,
        "start_time": "2022-07-28T19:06:15.109Z"
      },
      {
        "duration": 0,
        "start_time": "2022-07-28T19:06:15.110Z"
      },
      {
        "duration": 0,
        "start_time": "2022-07-28T19:06:15.112Z"
      },
      {
        "duration": 0,
        "start_time": "2022-07-28T19:06:15.113Z"
      },
      {
        "duration": 0,
        "start_time": "2022-07-28T19:06:15.114Z"
      },
      {
        "duration": 0,
        "start_time": "2022-07-28T19:06:15.115Z"
      },
      {
        "duration": 0,
        "start_time": "2022-07-28T19:06:15.117Z"
      },
      {
        "duration": 0,
        "start_time": "2022-07-28T19:06:15.118Z"
      },
      {
        "duration": 0,
        "start_time": "2022-07-28T19:06:15.119Z"
      },
      {
        "duration": 0,
        "start_time": "2022-07-28T19:06:15.124Z"
      },
      {
        "duration": 1305,
        "start_time": "2022-07-28T19:10:27.425Z"
      },
      {
        "duration": 207,
        "start_time": "2022-07-28T19:10:28.732Z"
      },
      {
        "duration": 20,
        "start_time": "2022-07-28T19:10:28.940Z"
      },
      {
        "duration": 6,
        "start_time": "2022-07-28T19:10:28.962Z"
      },
      {
        "duration": 169,
        "start_time": "2022-07-28T19:10:28.970Z"
      },
      {
        "duration": 59,
        "start_time": "2022-07-28T19:10:29.141Z"
      },
      {
        "duration": 5,
        "start_time": "2022-07-28T19:10:29.202Z"
      },
      {
        "duration": 20,
        "start_time": "2022-07-28T19:10:29.208Z"
      },
      {
        "duration": 109,
        "start_time": "2022-07-28T19:10:29.230Z"
      },
      {
        "duration": 5,
        "start_time": "2022-07-28T19:10:29.343Z"
      },
      {
        "duration": 19,
        "start_time": "2022-07-28T19:10:29.350Z"
      },
      {
        "duration": 8,
        "start_time": "2022-07-28T19:10:29.371Z"
      },
      {
        "duration": 60,
        "start_time": "2022-07-28T19:10:29.381Z"
      },
      {
        "duration": 19,
        "start_time": "2022-07-28T19:10:29.444Z"
      },
      {
        "duration": 9,
        "start_time": "2022-07-28T19:10:29.465Z"
      },
      {
        "duration": 8,
        "start_time": "2022-07-28T19:10:29.476Z"
      },
      {
        "duration": 1063,
        "start_time": "2022-07-28T19:10:29.486Z"
      },
      {
        "duration": 17,
        "start_time": "2022-07-28T19:10:30.551Z"
      },
      {
        "duration": 34,
        "start_time": "2022-07-28T19:10:30.571Z"
      },
      {
        "duration": 41,
        "start_time": "2022-07-28T19:10:30.607Z"
      },
      {
        "duration": 78,
        "start_time": "2022-07-28T19:10:30.650Z"
      },
      {
        "duration": 119,
        "start_time": "2022-07-28T19:10:30.730Z"
      },
      {
        "duration": 9,
        "start_time": "2022-07-28T19:10:30.851Z"
      },
      {
        "duration": 71,
        "start_time": "2022-07-28T19:10:30.861Z"
      },
      {
        "duration": 6,
        "start_time": "2022-07-28T19:10:30.934Z"
      },
      {
        "duration": 126,
        "start_time": "2022-07-28T19:10:30.941Z"
      },
      {
        "duration": 73,
        "start_time": "2022-07-28T19:10:31.069Z"
      },
      {
        "duration": 33,
        "start_time": "2022-07-28T19:10:31.146Z"
      },
      {
        "duration": 21,
        "start_time": "2022-07-28T19:10:31.180Z"
      },
      {
        "duration": 27,
        "start_time": "2022-07-28T19:10:31.203Z"
      },
      {
        "duration": 7,
        "start_time": "2022-07-28T19:10:31.231Z"
      },
      {
        "duration": 90,
        "start_time": "2022-07-28T19:10:31.240Z"
      },
      {
        "duration": 426,
        "start_time": "2022-07-28T19:10:31.332Z"
      },
      {
        "duration": 6,
        "start_time": "2022-07-28T19:10:31.760Z"
      },
      {
        "duration": 36,
        "start_time": "2022-07-28T19:10:31.768Z"
      },
      {
        "duration": 10,
        "start_time": "2022-07-28T19:10:31.807Z"
      },
      {
        "duration": 94,
        "start_time": "2022-07-28T19:10:31.818Z"
      },
      {
        "duration": 6,
        "start_time": "2022-07-28T19:10:31.914Z"
      },
      {
        "duration": 11,
        "start_time": "2022-07-28T19:10:31.922Z"
      },
      {
        "duration": 15,
        "start_time": "2022-07-28T19:10:31.935Z"
      },
      {
        "duration": 6,
        "start_time": "2022-07-28T19:10:31.951Z"
      },
      {
        "duration": 8,
        "start_time": "2022-07-28T19:10:31.959Z"
      },
      {
        "duration": 6,
        "start_time": "2022-07-28T19:10:31.968Z"
      },
      {
        "duration": 124,
        "start_time": "2022-07-28T19:10:31.999Z"
      },
      {
        "duration": 6,
        "start_time": "2022-07-28T19:10:32.125Z"
      },
      {
        "duration": 7,
        "start_time": "2022-07-28T19:10:32.132Z"
      },
      {
        "duration": 9,
        "start_time": "2022-07-28T19:10:32.141Z"
      },
      {
        "duration": 298,
        "start_time": "2022-07-28T19:11:46.637Z"
      },
      {
        "duration": 9,
        "start_time": "2022-07-28T19:11:53.669Z"
      },
      {
        "duration": 17,
        "start_time": "2022-07-28T19:16:31.107Z"
      },
      {
        "duration": 13,
        "start_time": "2022-07-28T19:19:20.359Z"
      },
      {
        "duration": 122,
        "start_time": "2022-07-28T19:20:01.265Z"
      },
      {
        "duration": 25,
        "start_time": "2022-07-28T19:20:41.933Z"
      },
      {
        "duration": 3,
        "start_time": "2022-07-28T19:21:33.262Z"
      },
      {
        "duration": 3,
        "start_time": "2022-07-28T19:21:38.422Z"
      },
      {
        "duration": 19,
        "start_time": "2022-07-28T19:21:44.178Z"
      },
      {
        "duration": 29,
        "start_time": "2022-07-28T19:21:53.444Z"
      },
      {
        "duration": 22,
        "start_time": "2022-07-28T19:21:56.626Z"
      },
      {
        "duration": 10,
        "start_time": "2022-07-28T19:22:12.881Z"
      },
      {
        "duration": 1213,
        "start_time": "2022-07-28T19:22:23.584Z"
      },
      {
        "duration": 164,
        "start_time": "2022-07-28T19:22:24.800Z"
      },
      {
        "duration": 19,
        "start_time": "2022-07-28T19:22:24.965Z"
      },
      {
        "duration": 12,
        "start_time": "2022-07-28T19:22:24.986Z"
      },
      {
        "duration": 136,
        "start_time": "2022-07-28T19:22:24.999Z"
      },
      {
        "duration": 50,
        "start_time": "2022-07-28T19:22:25.136Z"
      },
      {
        "duration": 6,
        "start_time": "2022-07-28T19:22:25.198Z"
      },
      {
        "duration": 21,
        "start_time": "2022-07-28T19:22:25.205Z"
      },
      {
        "duration": 80,
        "start_time": "2022-07-28T19:22:25.227Z"
      },
      {
        "duration": 112,
        "start_time": "2022-07-28T19:22:25.310Z"
      },
      {
        "duration": 0,
        "start_time": "2022-07-28T19:22:25.424Z"
      },
      {
        "duration": 0,
        "start_time": "2022-07-28T19:22:25.426Z"
      },
      {
        "duration": 0,
        "start_time": "2022-07-28T19:22:25.427Z"
      },
      {
        "duration": 0,
        "start_time": "2022-07-28T19:22:25.428Z"
      },
      {
        "duration": 0,
        "start_time": "2022-07-28T19:22:25.429Z"
      },
      {
        "duration": 0,
        "start_time": "2022-07-28T19:22:25.429Z"
      },
      {
        "duration": 0,
        "start_time": "2022-07-28T19:22:25.431Z"
      },
      {
        "duration": 0,
        "start_time": "2022-07-28T19:22:25.431Z"
      },
      {
        "duration": 0,
        "start_time": "2022-07-28T19:22:25.432Z"
      },
      {
        "duration": 0,
        "start_time": "2022-07-28T19:22:25.433Z"
      },
      {
        "duration": 0,
        "start_time": "2022-07-28T19:22:25.434Z"
      },
      {
        "duration": 0,
        "start_time": "2022-07-28T19:22:25.435Z"
      },
      {
        "duration": 0,
        "start_time": "2022-07-28T19:22:25.436Z"
      },
      {
        "duration": 0,
        "start_time": "2022-07-28T19:22:25.437Z"
      },
      {
        "duration": 0,
        "start_time": "2022-07-28T19:22:25.438Z"
      },
      {
        "duration": 0,
        "start_time": "2022-07-28T19:22:25.439Z"
      },
      {
        "duration": 0,
        "start_time": "2022-07-28T19:22:25.440Z"
      },
      {
        "duration": 0,
        "start_time": "2022-07-28T19:22:25.441Z"
      },
      {
        "duration": 0,
        "start_time": "2022-07-28T19:22:25.442Z"
      },
      {
        "duration": 0,
        "start_time": "2022-07-28T19:22:25.443Z"
      },
      {
        "duration": 0,
        "start_time": "2022-07-28T19:22:25.443Z"
      },
      {
        "duration": 0,
        "start_time": "2022-07-28T19:22:25.445Z"
      },
      {
        "duration": 0,
        "start_time": "2022-07-28T19:22:25.445Z"
      },
      {
        "duration": 0,
        "start_time": "2022-07-28T19:22:25.447Z"
      },
      {
        "duration": 1,
        "start_time": "2022-07-28T19:22:25.447Z"
      },
      {
        "duration": 0,
        "start_time": "2022-07-28T19:22:25.448Z"
      },
      {
        "duration": 0,
        "start_time": "2022-07-28T19:22:25.449Z"
      },
      {
        "duration": 0,
        "start_time": "2022-07-28T19:22:25.451Z"
      },
      {
        "duration": 0,
        "start_time": "2022-07-28T19:22:25.451Z"
      },
      {
        "duration": 0,
        "start_time": "2022-07-28T19:22:25.452Z"
      },
      {
        "duration": 0,
        "start_time": "2022-07-28T19:22:25.453Z"
      },
      {
        "duration": 1,
        "start_time": "2022-07-28T19:22:25.497Z"
      },
      {
        "duration": 0,
        "start_time": "2022-07-28T19:22:25.499Z"
      },
      {
        "duration": 0,
        "start_time": "2022-07-28T19:22:25.500Z"
      },
      {
        "duration": 0,
        "start_time": "2022-07-28T19:22:25.501Z"
      },
      {
        "duration": 0,
        "start_time": "2022-07-28T19:22:25.502Z"
      },
      {
        "duration": 0,
        "start_time": "2022-07-28T19:22:25.502Z"
      },
      {
        "duration": 5,
        "start_time": "2022-07-28T19:23:32.569Z"
      },
      {
        "duration": 4,
        "start_time": "2022-07-28T19:23:38.022Z"
      },
      {
        "duration": 5,
        "start_time": "2022-07-28T19:23:46.489Z"
      },
      {
        "duration": 8,
        "start_time": "2022-07-28T19:23:54.820Z"
      },
      {
        "duration": 12,
        "start_time": "2022-07-28T19:24:02.815Z"
      },
      {
        "duration": 8,
        "start_time": "2022-07-28T19:24:04.694Z"
      },
      {
        "duration": 4,
        "start_time": "2022-07-28T19:24:22.026Z"
      },
      {
        "duration": 8,
        "start_time": "2022-07-28T19:24:24.882Z"
      },
      {
        "duration": 10,
        "start_time": "2022-07-28T19:24:42.554Z"
      },
      {
        "duration": 9,
        "start_time": "2022-07-28T19:24:51.407Z"
      },
      {
        "duration": 4,
        "start_time": "2022-07-28T19:25:29.298Z"
      },
      {
        "duration": 18,
        "start_time": "2022-07-28T19:26:30.929Z"
      },
      {
        "duration": 8,
        "start_time": "2022-07-28T19:26:51.409Z"
      },
      {
        "duration": 9,
        "start_time": "2022-07-28T19:26:53.381Z"
      },
      {
        "duration": 1142,
        "start_time": "2022-07-28T19:27:39.318Z"
      },
      {
        "duration": 169,
        "start_time": "2022-07-28T19:27:40.462Z"
      },
      {
        "duration": 20,
        "start_time": "2022-07-28T19:27:40.632Z"
      },
      {
        "duration": 7,
        "start_time": "2022-07-28T19:27:40.654Z"
      },
      {
        "duration": 141,
        "start_time": "2022-07-28T19:27:40.663Z"
      },
      {
        "duration": 50,
        "start_time": "2022-07-28T19:27:40.806Z"
      },
      {
        "duration": 6,
        "start_time": "2022-07-28T19:27:40.858Z"
      },
      {
        "duration": 39,
        "start_time": "2022-07-28T19:27:40.866Z"
      },
      {
        "duration": 62,
        "start_time": "2022-07-28T19:27:40.907Z"
      },
      {
        "duration": 4,
        "start_time": "2022-07-28T19:27:40.972Z"
      },
      {
        "duration": 27,
        "start_time": "2022-07-28T19:27:40.977Z"
      },
      {
        "duration": 3,
        "start_time": "2022-07-28T19:27:41.006Z"
      },
      {
        "duration": 13,
        "start_time": "2022-07-28T19:27:41.011Z"
      },
      {
        "duration": 18,
        "start_time": "2022-07-28T19:27:41.025Z"
      },
      {
        "duration": 7,
        "start_time": "2022-07-28T19:27:41.045Z"
      },
      {
        "duration": 6,
        "start_time": "2022-07-28T19:27:41.054Z"
      },
      {
        "duration": 971,
        "start_time": "2022-07-28T19:27:41.098Z"
      },
      {
        "duration": 15,
        "start_time": "2022-07-28T19:27:42.071Z"
      },
      {
        "duration": 10,
        "start_time": "2022-07-28T19:27:42.098Z"
      },
      {
        "duration": 32,
        "start_time": "2022-07-28T19:27:42.109Z"
      },
      {
        "duration": 89,
        "start_time": "2022-07-28T19:27:42.142Z"
      },
      {
        "duration": 115,
        "start_time": "2022-07-28T19:27:42.233Z"
      },
      {
        "duration": 10,
        "start_time": "2022-07-28T19:27:42.350Z"
      },
      {
        "duration": 51,
        "start_time": "2022-07-28T19:27:42.362Z"
      },
      {
        "duration": 6,
        "start_time": "2022-07-28T19:27:42.415Z"
      },
      {
        "duration": 97,
        "start_time": "2022-07-28T19:27:42.422Z"
      },
      {
        "duration": 40,
        "start_time": "2022-07-28T19:27:42.521Z"
      },
      {
        "duration": 58,
        "start_time": "2022-07-28T19:27:42.566Z"
      },
      {
        "duration": 4,
        "start_time": "2022-07-28T19:27:42.626Z"
      },
      {
        "duration": 10,
        "start_time": "2022-07-28T19:27:42.632Z"
      },
      {
        "duration": 15,
        "start_time": "2022-07-28T19:27:42.643Z"
      },
      {
        "duration": 88,
        "start_time": "2022-07-28T19:27:42.659Z"
      },
      {
        "duration": 389,
        "start_time": "2022-07-28T19:27:42.748Z"
      },
      {
        "duration": 6,
        "start_time": "2022-07-28T19:27:43.138Z"
      },
      {
        "duration": 9,
        "start_time": "2022-07-28T19:27:43.146Z"
      },
      {
        "duration": 5,
        "start_time": "2022-07-28T19:27:43.157Z"
      },
      {
        "duration": 100,
        "start_time": "2022-07-28T19:27:43.164Z"
      },
      {
        "duration": 5,
        "start_time": "2022-07-28T19:27:43.265Z"
      },
      {
        "duration": 7,
        "start_time": "2022-07-28T19:27:43.271Z"
      },
      {
        "duration": 6,
        "start_time": "2022-07-28T19:27:43.297Z"
      },
      {
        "duration": 5,
        "start_time": "2022-07-28T19:27:43.304Z"
      },
      {
        "duration": 7,
        "start_time": "2022-07-28T19:27:43.311Z"
      },
      {
        "duration": 6,
        "start_time": "2022-07-28T19:27:43.320Z"
      },
      {
        "duration": 121,
        "start_time": "2022-07-28T19:27:43.327Z"
      },
      {
        "duration": 5,
        "start_time": "2022-07-28T19:27:43.450Z"
      },
      {
        "duration": 9,
        "start_time": "2022-07-28T19:27:43.457Z"
      },
      {
        "duration": 17,
        "start_time": "2022-07-28T19:27:43.468Z"
      },
      {
        "duration": 92,
        "start_time": "2022-07-28T19:31:38.701Z"
      },
      {
        "duration": 57,
        "start_time": "2022-07-28T19:31:47.385Z"
      },
      {
        "duration": 116,
        "start_time": "2022-07-28T19:33:08.099Z"
      },
      {
        "duration": 67,
        "start_time": "2022-07-28T19:33:50.212Z"
      },
      {
        "duration": 15,
        "start_time": "2022-07-28T19:34:18.592Z"
      },
      {
        "duration": 17,
        "start_time": "2022-07-28T19:34:26.743Z"
      },
      {
        "duration": 13,
        "start_time": "2022-07-28T19:35:03.077Z"
      },
      {
        "duration": 13,
        "start_time": "2022-07-28T19:35:09.514Z"
      },
      {
        "duration": 13,
        "start_time": "2022-07-28T19:35:42.517Z"
      },
      {
        "duration": 41,
        "start_time": "2022-07-28T19:35:48.187Z"
      },
      {
        "duration": 14,
        "start_time": "2022-07-28T19:35:55.400Z"
      },
      {
        "duration": 17,
        "start_time": "2022-07-28T19:36:56.744Z"
      },
      {
        "duration": 2,
        "start_time": "2022-07-28T19:39:01.237Z"
      },
      {
        "duration": 119,
        "start_time": "2022-07-28T19:39:26.580Z"
      },
      {
        "duration": 110,
        "start_time": "2022-07-28T19:39:42.431Z"
      },
      {
        "duration": 109,
        "start_time": "2022-07-28T19:40:11.182Z"
      },
      {
        "duration": 102,
        "start_time": "2022-07-28T19:40:45.629Z"
      },
      {
        "duration": 5,
        "start_time": "2022-07-28T19:40:55.248Z"
      },
      {
        "duration": 3,
        "start_time": "2022-07-28T19:41:10.119Z"
      },
      {
        "duration": 5,
        "start_time": "2022-07-28T19:41:19.133Z"
      },
      {
        "duration": 19,
        "start_time": "2022-07-28T19:41:59.997Z"
      },
      {
        "duration": 16,
        "start_time": "2022-07-28T19:43:18.232Z"
      },
      {
        "duration": 17,
        "start_time": "2022-07-28T19:43:23.094Z"
      },
      {
        "duration": 5,
        "start_time": "2022-07-28T19:44:16.984Z"
      },
      {
        "duration": 5,
        "start_time": "2022-07-28T19:44:28.471Z"
      },
      {
        "duration": 23,
        "start_time": "2022-07-28T19:46:44.568Z"
      },
      {
        "duration": 22,
        "start_time": "2022-07-28T19:46:52.745Z"
      },
      {
        "duration": 19,
        "start_time": "2022-07-28T19:47:09.680Z"
      },
      {
        "duration": 18,
        "start_time": "2022-07-28T19:47:23.890Z"
      },
      {
        "duration": 16,
        "start_time": "2022-07-28T19:47:31.161Z"
      },
      {
        "duration": 6,
        "start_time": "2022-07-28T19:49:07.009Z"
      },
      {
        "duration": 120,
        "start_time": "2022-07-28T19:50:20.745Z"
      },
      {
        "duration": 27,
        "start_time": "2022-07-28T19:50:28.577Z"
      },
      {
        "duration": 26,
        "start_time": "2022-07-28T19:50:57.115Z"
      },
      {
        "duration": 31,
        "start_time": "2022-07-28T19:52:01.314Z"
      },
      {
        "duration": 37,
        "start_time": "2022-07-28T19:53:02.756Z"
      },
      {
        "duration": 35,
        "start_time": "2022-07-28T19:53:11.947Z"
      },
      {
        "duration": 26,
        "start_time": "2022-07-28T19:53:54.733Z"
      },
      {
        "duration": 29,
        "start_time": "2022-07-28T20:04:26.287Z"
      },
      {
        "duration": 8,
        "start_time": "2022-07-28T20:04:40.481Z"
      },
      {
        "duration": 19,
        "start_time": "2022-07-28T20:05:28.022Z"
      },
      {
        "duration": 14,
        "start_time": "2022-07-28T20:07:04.057Z"
      },
      {
        "duration": 7,
        "start_time": "2022-07-28T20:07:23.174Z"
      },
      {
        "duration": 11,
        "start_time": "2022-07-28T20:07:27.389Z"
      },
      {
        "duration": 11,
        "start_time": "2022-07-28T20:07:30.806Z"
      },
      {
        "duration": 18,
        "start_time": "2022-07-28T20:10:36.405Z"
      },
      {
        "duration": 27,
        "start_time": "2022-07-28T20:10:39.832Z"
      },
      {
        "duration": 17,
        "start_time": "2022-07-28T20:10:54.722Z"
      },
      {
        "duration": 13,
        "start_time": "2022-07-28T20:11:10.826Z"
      },
      {
        "duration": 27,
        "start_time": "2022-07-28T20:11:33.880Z"
      },
      {
        "duration": 13,
        "start_time": "2022-07-28T20:11:56.273Z"
      },
      {
        "duration": 57,
        "start_time": "2022-07-28T20:12:52.364Z"
      },
      {
        "duration": 30,
        "start_time": "2022-07-28T20:13:27.576Z"
      },
      {
        "duration": 9,
        "start_time": "2022-07-28T20:13:34.239Z"
      },
      {
        "duration": 798,
        "start_time": "2022-07-28T20:14:21.726Z"
      },
      {
        "duration": 60,
        "start_time": "2022-07-28T20:14:38.359Z"
      },
      {
        "duration": 53,
        "start_time": "2022-07-28T20:14:56.445Z"
      },
      {
        "duration": 55,
        "start_time": "2022-07-28T20:15:16.526Z"
      },
      {
        "duration": 58,
        "start_time": "2022-07-28T20:15:26.007Z"
      },
      {
        "duration": 150,
        "start_time": "2022-07-28T20:16:12.646Z"
      },
      {
        "duration": 145,
        "start_time": "2022-07-28T20:16:56.990Z"
      },
      {
        "duration": 140,
        "start_time": "2022-07-28T20:17:19.648Z"
      },
      {
        "duration": 145,
        "start_time": "2022-07-28T20:17:28.182Z"
      },
      {
        "duration": 143,
        "start_time": "2022-07-28T20:17:32.080Z"
      },
      {
        "duration": 142,
        "start_time": "2022-07-28T20:17:44.028Z"
      },
      {
        "duration": 145,
        "start_time": "2022-07-28T20:17:51.828Z"
      },
      {
        "duration": 146,
        "start_time": "2022-07-28T20:17:59.296Z"
      },
      {
        "duration": 142,
        "start_time": "2022-07-28T20:18:07.411Z"
      },
      {
        "duration": 148,
        "start_time": "2022-07-28T20:18:31.097Z"
      },
      {
        "duration": 151,
        "start_time": "2022-07-28T20:18:39.887Z"
      },
      {
        "duration": 153,
        "start_time": "2022-07-28T20:19:00.785Z"
      },
      {
        "duration": 1229,
        "start_time": "2022-07-30T20:32:49.871Z"
      },
      {
        "duration": 490,
        "start_time": "2022-07-30T20:32:51.102Z"
      },
      {
        "duration": 20,
        "start_time": "2022-07-30T20:32:51.594Z"
      },
      {
        "duration": 9,
        "start_time": "2022-07-30T20:32:51.615Z"
      },
      {
        "duration": 128,
        "start_time": "2022-07-30T20:32:51.625Z"
      },
      {
        "duration": 47,
        "start_time": "2022-07-30T20:32:51.755Z"
      },
      {
        "duration": 5,
        "start_time": "2022-07-30T20:32:51.803Z"
      },
      {
        "duration": 33,
        "start_time": "2022-07-30T20:32:51.809Z"
      },
      {
        "duration": 59,
        "start_time": "2022-07-30T20:32:51.843Z"
      },
      {
        "duration": 5,
        "start_time": "2022-07-30T20:32:51.905Z"
      },
      {
        "duration": 28,
        "start_time": "2022-07-30T20:32:51.911Z"
      },
      {
        "duration": 16,
        "start_time": "2022-07-30T20:32:51.941Z"
      },
      {
        "duration": 120,
        "start_time": "2022-07-30T20:32:51.958Z"
      },
      {
        "duration": 5,
        "start_time": "2022-07-30T20:32:52.079Z"
      },
      {
        "duration": 10,
        "start_time": "2022-07-30T20:32:52.085Z"
      },
      {
        "duration": 43,
        "start_time": "2022-07-30T20:32:52.096Z"
      },
      {
        "duration": 12,
        "start_time": "2022-07-30T20:32:52.141Z"
      },
      {
        "duration": 962,
        "start_time": "2022-07-30T20:32:52.154Z"
      },
      {
        "duration": 11,
        "start_time": "2022-07-30T20:32:53.118Z"
      },
      {
        "duration": 8,
        "start_time": "2022-07-30T20:32:53.136Z"
      },
      {
        "duration": 2,
        "start_time": "2022-07-30T20:32:53.145Z"
      },
      {
        "duration": 17,
        "start_time": "2022-07-30T20:32:53.149Z"
      },
      {
        "duration": 10,
        "start_time": "2022-07-30T20:32:53.167Z"
      },
      {
        "duration": 170,
        "start_time": "2022-07-30T20:32:53.179Z"
      },
      {
        "duration": 26,
        "start_time": "2022-07-30T20:32:53.351Z"
      },
      {
        "duration": 91,
        "start_time": "2022-07-30T20:32:53.379Z"
      },
      {
        "duration": 121,
        "start_time": "2022-07-30T20:32:53.471Z"
      },
      {
        "duration": 8,
        "start_time": "2022-07-30T20:32:53.595Z"
      },
      {
        "duration": 43,
        "start_time": "2022-07-30T20:32:53.604Z"
      },
      {
        "duration": 6,
        "start_time": "2022-07-30T20:32:53.648Z"
      },
      {
        "duration": 91,
        "start_time": "2022-07-30T20:32:53.655Z"
      },
      {
        "duration": 35,
        "start_time": "2022-07-30T20:32:53.748Z"
      },
      {
        "duration": 30,
        "start_time": "2022-07-30T20:32:53.785Z"
      },
      {
        "duration": 23,
        "start_time": "2022-07-30T20:32:53.817Z"
      },
      {
        "duration": 10,
        "start_time": "2022-07-30T20:32:53.841Z"
      },
      {
        "duration": 11,
        "start_time": "2022-07-30T20:32:53.853Z"
      },
      {
        "duration": 74,
        "start_time": "2022-07-30T20:32:53.866Z"
      },
      {
        "duration": 354,
        "start_time": "2022-07-30T20:32:53.942Z"
      },
      {
        "duration": 6,
        "start_time": "2022-07-30T20:32:54.298Z"
      },
      {
        "duration": 20,
        "start_time": "2022-07-30T20:32:54.306Z"
      },
      {
        "duration": 5,
        "start_time": "2022-07-30T20:32:54.337Z"
      },
      {
        "duration": 72,
        "start_time": "2022-07-30T20:32:54.343Z"
      },
      {
        "duration": 5,
        "start_time": "2022-07-30T20:32:54.416Z"
      },
      {
        "duration": 5,
        "start_time": "2022-07-30T20:32:54.436Z"
      },
      {
        "duration": 10,
        "start_time": "2022-07-30T20:32:54.442Z"
      },
      {
        "duration": 10,
        "start_time": "2022-07-30T20:32:54.454Z"
      },
      {
        "duration": 15,
        "start_time": "2022-07-30T20:32:54.465Z"
      },
      {
        "duration": 12,
        "start_time": "2022-07-30T20:32:54.481Z"
      },
      {
        "duration": 97,
        "start_time": "2022-07-30T20:32:54.494Z"
      },
      {
        "duration": 4,
        "start_time": "2022-07-30T20:32:54.593Z"
      },
      {
        "duration": 15,
        "start_time": "2022-07-30T20:32:54.598Z"
      },
      {
        "duration": 14,
        "start_time": "2022-07-30T20:32:54.614Z"
      },
      {
        "duration": 15,
        "start_time": "2022-07-30T20:37:39.708Z"
      },
      {
        "duration": 16,
        "start_time": "2022-07-30T20:37:47.214Z"
      },
      {
        "duration": 16,
        "start_time": "2022-07-30T20:38:13.624Z"
      },
      {
        "duration": 28,
        "start_time": "2022-07-30T20:42:58.885Z"
      },
      {
        "duration": 1069,
        "start_time": "2022-07-30T20:43:13.567Z"
      },
      {
        "duration": 176,
        "start_time": "2022-07-30T20:43:14.638Z"
      },
      {
        "duration": 20,
        "start_time": "2022-07-30T20:43:14.816Z"
      },
      {
        "duration": 6,
        "start_time": "2022-07-30T20:43:14.839Z"
      },
      {
        "duration": 137,
        "start_time": "2022-07-30T20:43:14.847Z"
      },
      {
        "duration": 56,
        "start_time": "2022-07-30T20:43:14.986Z"
      },
      {
        "duration": 5,
        "start_time": "2022-07-30T20:43:15.044Z"
      },
      {
        "duration": 12,
        "start_time": "2022-07-30T20:43:15.050Z"
      },
      {
        "duration": 80,
        "start_time": "2022-07-30T20:43:15.064Z"
      },
      {
        "duration": 4,
        "start_time": "2022-07-30T20:43:15.146Z"
      },
      {
        "duration": 11,
        "start_time": "2022-07-30T20:43:15.152Z"
      },
      {
        "duration": 15,
        "start_time": "2022-07-30T20:43:15.165Z"
      },
      {
        "duration": 134,
        "start_time": "2022-07-30T20:43:15.181Z"
      },
      {
        "duration": 4,
        "start_time": "2022-07-30T20:43:15.317Z"
      },
      {
        "duration": 6,
        "start_time": "2022-07-30T20:43:15.337Z"
      },
      {
        "duration": 31,
        "start_time": "2022-07-30T20:43:15.345Z"
      },
      {
        "duration": 12,
        "start_time": "2022-07-30T20:43:15.378Z"
      },
      {
        "duration": 955,
        "start_time": "2022-07-30T20:43:15.392Z"
      },
      {
        "duration": 10,
        "start_time": "2022-07-30T20:43:16.349Z"
      },
      {
        "duration": 14,
        "start_time": "2022-07-30T20:43:16.361Z"
      },
      {
        "duration": 11,
        "start_time": "2022-07-30T20:43:16.377Z"
      },
      {
        "duration": 9,
        "start_time": "2022-07-30T20:43:16.389Z"
      },
      {
        "duration": 168,
        "start_time": "2022-07-30T20:43:16.399Z"
      },
      {
        "duration": 26,
        "start_time": "2022-07-30T20:43:16.569Z"
      },
      {
        "duration": 85,
        "start_time": "2022-07-30T20:43:16.597Z"
      },
      {
        "duration": 26,
        "start_time": "2022-07-30T20:43:16.684Z"
      },
      {
        "duration": 26,
        "start_time": "2022-07-30T20:43:16.712Z"
      },
      {
        "duration": 37,
        "start_time": "2022-07-30T20:43:16.741Z"
      },
      {
        "duration": 5,
        "start_time": "2022-07-30T20:43:16.779Z"
      },
      {
        "duration": 95,
        "start_time": "2022-07-30T20:43:16.786Z"
      },
      {
        "duration": 35,
        "start_time": "2022-07-30T20:43:16.882Z"
      },
      {
        "duration": 36,
        "start_time": "2022-07-30T20:43:16.937Z"
      },
      {
        "duration": 5,
        "start_time": "2022-07-30T20:43:16.975Z"
      },
      {
        "duration": 8,
        "start_time": "2022-07-30T20:43:16.982Z"
      },
      {
        "duration": 6,
        "start_time": "2022-07-30T20:43:16.991Z"
      },
      {
        "duration": 104,
        "start_time": "2022-07-30T20:43:16.998Z"
      },
      {
        "duration": 375,
        "start_time": "2022-07-30T20:43:17.104Z"
      },
      {
        "duration": 6,
        "start_time": "2022-07-30T20:43:17.481Z"
      },
      {
        "duration": 8,
        "start_time": "2022-07-30T20:43:17.488Z"
      },
      {
        "duration": 7,
        "start_time": "2022-07-30T20:43:17.498Z"
      },
      {
        "duration": 94,
        "start_time": "2022-07-30T20:43:17.507Z"
      },
      {
        "duration": 4,
        "start_time": "2022-07-30T20:43:17.603Z"
      },
      {
        "duration": 6,
        "start_time": "2022-07-30T20:43:17.609Z"
      },
      {
        "duration": 24,
        "start_time": "2022-07-30T20:43:17.616Z"
      },
      {
        "duration": 7,
        "start_time": "2022-07-30T20:43:17.641Z"
      },
      {
        "duration": 6,
        "start_time": "2022-07-30T20:43:17.649Z"
      },
      {
        "duration": 6,
        "start_time": "2022-07-30T20:43:17.657Z"
      },
      {
        "duration": 108,
        "start_time": "2022-07-30T20:43:17.664Z"
      },
      {
        "duration": 5,
        "start_time": "2022-07-30T20:43:17.774Z"
      },
      {
        "duration": 8,
        "start_time": "2022-07-30T20:43:17.780Z"
      },
      {
        "duration": 9,
        "start_time": "2022-07-30T20:43:17.789Z"
      },
      {
        "duration": 50,
        "start_time": "2022-07-30T20:50:17.927Z"
      },
      {
        "duration": 35,
        "start_time": "2022-07-30T20:50:31.690Z"
      },
      {
        "duration": 33,
        "start_time": "2022-07-30T20:51:19.345Z"
      },
      {
        "duration": 34,
        "start_time": "2022-07-30T20:51:26.415Z"
      },
      {
        "duration": 34,
        "start_time": "2022-07-30T20:51:31.044Z"
      },
      {
        "duration": 817,
        "start_time": "2022-07-30T20:52:05.332Z"
      },
      {
        "duration": 868,
        "start_time": "2022-07-30T20:52:19.674Z"
      },
      {
        "duration": 1090,
        "start_time": "2022-07-30T20:52:27.771Z"
      },
      {
        "duration": 212,
        "start_time": "2022-07-30T20:52:28.864Z"
      },
      {
        "duration": 24,
        "start_time": "2022-07-30T20:52:29.078Z"
      },
      {
        "duration": 7,
        "start_time": "2022-07-30T20:52:29.104Z"
      },
      {
        "duration": 151,
        "start_time": "2022-07-30T20:52:29.113Z"
      },
      {
        "duration": 53,
        "start_time": "2022-07-30T20:52:29.266Z"
      },
      {
        "duration": 6,
        "start_time": "2022-07-30T20:52:29.337Z"
      },
      {
        "duration": 16,
        "start_time": "2022-07-30T20:52:29.344Z"
      },
      {
        "duration": 60,
        "start_time": "2022-07-30T20:52:29.362Z"
      },
      {
        "duration": 4,
        "start_time": "2022-07-30T20:52:29.437Z"
      },
      {
        "duration": 15,
        "start_time": "2022-07-30T20:52:29.442Z"
      },
      {
        "duration": 18,
        "start_time": "2022-07-30T20:52:29.459Z"
      },
      {
        "duration": 124,
        "start_time": "2022-07-30T20:52:29.478Z"
      },
      {
        "duration": 5,
        "start_time": "2022-07-30T20:52:29.603Z"
      },
      {
        "duration": 13,
        "start_time": "2022-07-30T20:52:29.610Z"
      },
      {
        "duration": 40,
        "start_time": "2022-07-30T20:52:29.625Z"
      },
      {
        "duration": 14,
        "start_time": "2022-07-30T20:52:29.666Z"
      },
      {
        "duration": 989,
        "start_time": "2022-07-30T20:52:29.682Z"
      },
      {
        "duration": 11,
        "start_time": "2022-07-30T20:52:30.673Z"
      },
      {
        "duration": 19,
        "start_time": "2022-07-30T20:52:30.686Z"
      },
      {
        "duration": 30,
        "start_time": "2022-07-30T20:52:30.707Z"
      },
      {
        "duration": 9,
        "start_time": "2022-07-30T20:52:30.739Z"
      },
      {
        "duration": 150,
        "start_time": "2022-07-30T20:52:30.750Z"
      },
      {
        "duration": 39,
        "start_time": "2022-07-30T20:52:30.901Z"
      },
      {
        "duration": 60,
        "start_time": "2022-07-30T20:52:30.942Z"
      },
      {
        "duration": 38,
        "start_time": "2022-07-30T20:52:31.004Z"
      },
      {
        "duration": 9,
        "start_time": "2022-07-30T20:52:31.044Z"
      },
      {
        "duration": 954,
        "start_time": "2022-07-30T20:52:31.056Z"
      },
      {
        "duration": 1,
        "start_time": "2022-07-30T20:52:32.011Z"
      },
      {
        "duration": 0,
        "start_time": "2022-07-30T20:52:32.013Z"
      },
      {
        "duration": 0,
        "start_time": "2022-07-30T20:52:32.014Z"
      },
      {
        "duration": 0,
        "start_time": "2022-07-30T20:52:32.015Z"
      },
      {
        "duration": 0,
        "start_time": "2022-07-30T20:52:32.017Z"
      },
      {
        "duration": 0,
        "start_time": "2022-07-30T20:52:32.018Z"
      },
      {
        "duration": 0,
        "start_time": "2022-07-30T20:52:32.019Z"
      },
      {
        "duration": 0,
        "start_time": "2022-07-30T20:52:32.020Z"
      },
      {
        "duration": 0,
        "start_time": "2022-07-30T20:52:32.022Z"
      },
      {
        "duration": 0,
        "start_time": "2022-07-30T20:52:32.023Z"
      },
      {
        "duration": 0,
        "start_time": "2022-07-30T20:52:32.024Z"
      },
      {
        "duration": 0,
        "start_time": "2022-07-30T20:52:32.025Z"
      },
      {
        "duration": 0,
        "start_time": "2022-07-30T20:52:32.026Z"
      },
      {
        "duration": 0,
        "start_time": "2022-07-30T20:52:32.027Z"
      },
      {
        "duration": 0,
        "start_time": "2022-07-30T20:52:32.027Z"
      },
      {
        "duration": 0,
        "start_time": "2022-07-30T20:52:32.028Z"
      },
      {
        "duration": 0,
        "start_time": "2022-07-30T20:52:32.029Z"
      },
      {
        "duration": 0,
        "start_time": "2022-07-30T20:52:32.030Z"
      },
      {
        "duration": 1,
        "start_time": "2022-07-30T20:52:32.031Z"
      },
      {
        "duration": 0,
        "start_time": "2022-07-30T20:52:32.032Z"
      },
      {
        "duration": 0,
        "start_time": "2022-07-30T20:52:32.033Z"
      },
      {
        "duration": 0,
        "start_time": "2022-07-30T20:52:32.034Z"
      },
      {
        "duration": 0,
        "start_time": "2022-07-30T20:52:32.035Z"
      },
      {
        "duration": 884,
        "start_time": "2022-07-30T20:52:55.043Z"
      },
      {
        "duration": 803,
        "start_time": "2022-07-30T20:53:28.488Z"
      },
      {
        "duration": 30,
        "start_time": "2022-07-30T20:53:40.087Z"
      },
      {
        "duration": 35,
        "start_time": "2022-07-30T20:53:45.692Z"
      },
      {
        "duration": 36,
        "start_time": "2022-07-30T20:54:39.420Z"
      },
      {
        "duration": 32,
        "start_time": "2022-07-30T20:55:07.831Z"
      },
      {
        "duration": 31,
        "start_time": "2022-07-30T20:55:14.322Z"
      },
      {
        "duration": 1244,
        "start_time": "2022-07-31T09:54:24.691Z"
      },
      {
        "duration": 540,
        "start_time": "2022-07-31T09:54:25.937Z"
      },
      {
        "duration": 22,
        "start_time": "2022-07-31T09:54:26.488Z"
      },
      {
        "duration": 7,
        "start_time": "2022-07-31T09:54:26.513Z"
      },
      {
        "duration": 131,
        "start_time": "2022-07-31T09:54:26.521Z"
      },
      {
        "duration": 51,
        "start_time": "2022-07-31T09:54:26.653Z"
      },
      {
        "duration": 6,
        "start_time": "2022-07-31T09:54:26.706Z"
      },
      {
        "duration": 15,
        "start_time": "2022-07-31T09:54:26.714Z"
      },
      {
        "duration": 84,
        "start_time": "2022-07-31T09:54:26.730Z"
      },
      {
        "duration": 3,
        "start_time": "2022-07-31T09:54:26.817Z"
      },
      {
        "duration": 13,
        "start_time": "2022-07-31T09:54:26.822Z"
      },
      {
        "duration": 31,
        "start_time": "2022-07-31T09:54:26.837Z"
      },
      {
        "duration": 113,
        "start_time": "2022-07-31T09:54:26.870Z"
      },
      {
        "duration": 4,
        "start_time": "2022-07-31T09:54:26.985Z"
      },
      {
        "duration": 13,
        "start_time": "2022-07-31T09:54:26.990Z"
      },
      {
        "duration": 36,
        "start_time": "2022-07-31T09:54:27.004Z"
      },
      {
        "duration": 29,
        "start_time": "2022-07-31T09:54:27.042Z"
      },
      {
        "duration": 919,
        "start_time": "2022-07-31T09:54:27.073Z"
      },
      {
        "duration": 11,
        "start_time": "2022-07-31T09:54:27.994Z"
      },
      {
        "duration": 14,
        "start_time": "2022-07-31T09:54:28.007Z"
      },
      {
        "duration": 12,
        "start_time": "2022-07-31T09:54:28.022Z"
      },
      {
        "duration": 9,
        "start_time": "2022-07-31T09:54:28.060Z"
      },
      {
        "duration": 152,
        "start_time": "2022-07-31T09:54:28.071Z"
      },
      {
        "duration": 38,
        "start_time": "2022-07-31T09:54:28.225Z"
      },
      {
        "duration": 56,
        "start_time": "2022-07-31T09:54:28.265Z"
      },
      {
        "duration": 41,
        "start_time": "2022-07-31T09:54:28.323Z"
      },
      {
        "duration": 9,
        "start_time": "2022-07-31T09:54:28.366Z"
      },
      {
        "duration": 31,
        "start_time": "2022-07-31T09:54:28.379Z"
      },
      {
        "duration": 5,
        "start_time": "2022-07-31T09:54:28.412Z"
      },
      {
        "duration": 93,
        "start_time": "2022-07-31T09:54:28.419Z"
      },
      {
        "duration": 48,
        "start_time": "2022-07-31T09:54:28.513Z"
      },
      {
        "duration": 37,
        "start_time": "2022-07-31T09:54:28.563Z"
      },
      {
        "duration": 4,
        "start_time": "2022-07-31T09:54:28.602Z"
      },
      {
        "duration": 11,
        "start_time": "2022-07-31T09:54:28.608Z"
      },
      {
        "duration": 6,
        "start_time": "2022-07-31T09:54:28.620Z"
      },
      {
        "duration": 110,
        "start_time": "2022-07-31T09:54:28.627Z"
      },
      {
        "duration": 368,
        "start_time": "2022-07-31T09:54:28.740Z"
      },
      {
        "duration": 5,
        "start_time": "2022-07-31T09:54:29.110Z"
      },
      {
        "duration": 11,
        "start_time": "2022-07-31T09:54:29.117Z"
      },
      {
        "duration": 8,
        "start_time": "2022-07-31T09:54:29.129Z"
      },
      {
        "duration": 86,
        "start_time": "2022-07-31T09:54:29.138Z"
      },
      {
        "duration": 4,
        "start_time": "2022-07-31T09:54:29.226Z"
      },
      {
        "duration": 29,
        "start_time": "2022-07-31T09:54:29.232Z"
      },
      {
        "duration": 6,
        "start_time": "2022-07-31T09:54:29.262Z"
      },
      {
        "duration": 6,
        "start_time": "2022-07-31T09:54:29.269Z"
      },
      {
        "duration": 13,
        "start_time": "2022-07-31T09:54:29.277Z"
      },
      {
        "duration": 6,
        "start_time": "2022-07-31T09:54:29.291Z"
      },
      {
        "duration": 106,
        "start_time": "2022-07-31T09:54:29.298Z"
      },
      {
        "duration": 5,
        "start_time": "2022-07-31T09:54:29.406Z"
      },
      {
        "duration": 10,
        "start_time": "2022-07-31T09:54:29.412Z"
      },
      {
        "duration": 14,
        "start_time": "2022-07-31T09:54:29.424Z"
      },
      {
        "duration": 25,
        "start_time": "2022-07-31T09:57:05.010Z"
      },
      {
        "duration": 46,
        "start_time": "2022-07-31T09:57:50.739Z"
      },
      {
        "duration": 16,
        "start_time": "2022-07-31T09:57:58.183Z"
      },
      {
        "duration": 16,
        "start_time": "2022-07-31T10:01:03.313Z"
      },
      {
        "duration": 91,
        "start_time": "2022-07-31T10:03:51.888Z"
      },
      {
        "duration": 182,
        "start_time": "2022-07-31T10:04:33.343Z"
      },
      {
        "duration": 83,
        "start_time": "2022-07-31T10:04:42.416Z"
      },
      {
        "duration": 81,
        "start_time": "2022-07-31T10:04:53.496Z"
      },
      {
        "duration": 84,
        "start_time": "2022-07-31T10:06:38.897Z"
      },
      {
        "duration": 8,
        "start_time": "2022-07-31T10:12:32.647Z"
      },
      {
        "duration": 4,
        "start_time": "2022-07-31T10:12:36.382Z"
      },
      {
        "duration": 722,
        "start_time": "2022-07-31T10:13:36.750Z"
      },
      {
        "duration": 77,
        "start_time": "2022-07-31T10:14:13.837Z"
      },
      {
        "duration": 796,
        "start_time": "2022-07-31T10:14:22.875Z"
      },
      {
        "duration": 831,
        "start_time": "2022-07-31T10:14:30.694Z"
      },
      {
        "duration": 5,
        "start_time": "2022-07-31T10:14:38.290Z"
      },
      {
        "duration": 7,
        "start_time": "2022-07-31T10:15:22.714Z"
      },
      {
        "duration": 4,
        "start_time": "2022-07-31T10:16:07.812Z"
      },
      {
        "duration": 4,
        "start_time": "2022-07-31T10:16:53.212Z"
      },
      {
        "duration": 7,
        "start_time": "2022-07-31T10:17:13.274Z"
      },
      {
        "duration": 7,
        "start_time": "2022-07-31T10:18:18.964Z"
      },
      {
        "duration": 7,
        "start_time": "2022-07-31T10:18:31.822Z"
      },
      {
        "duration": 6,
        "start_time": "2022-07-31T10:22:16.137Z"
      },
      {
        "duration": 793,
        "start_time": "2022-07-31T10:23:07.590Z"
      },
      {
        "duration": 6,
        "start_time": "2022-07-31T10:25:23.910Z"
      },
      {
        "duration": 770,
        "start_time": "2022-07-31T10:25:28.117Z"
      },
      {
        "duration": 16,
        "start_time": "2022-07-31T10:25:52.677Z"
      },
      {
        "duration": 3,
        "start_time": "2022-07-31T10:26:15.787Z"
      },
      {
        "duration": 4,
        "start_time": "2022-07-31T10:26:57.836Z"
      },
      {
        "duration": 773,
        "start_time": "2022-07-31T10:27:12.250Z"
      },
      {
        "duration": 973,
        "start_time": "2022-07-31T10:27:25.480Z"
      },
      {
        "duration": 797,
        "start_time": "2022-07-31T10:27:30.635Z"
      },
      {
        "duration": 13,
        "start_time": "2022-07-31T10:27:43.093Z"
      },
      {
        "duration": 45,
        "start_time": "2022-07-31T10:28:13.750Z"
      },
      {
        "duration": 20,
        "start_time": "2022-07-31T10:28:23.431Z"
      },
      {
        "duration": 26,
        "start_time": "2022-07-31T10:29:22.072Z"
      },
      {
        "duration": 1087,
        "start_time": "2022-07-31T10:59:31.890Z"
      },
      {
        "duration": 162,
        "start_time": "2022-07-31T10:59:32.979Z"
      },
      {
        "duration": 26,
        "start_time": "2022-07-31T10:59:33.142Z"
      },
      {
        "duration": 14,
        "start_time": "2022-07-31T10:59:33.170Z"
      },
      {
        "duration": 138,
        "start_time": "2022-07-31T10:59:33.186Z"
      },
      {
        "duration": 55,
        "start_time": "2022-07-31T10:59:33.325Z"
      },
      {
        "duration": 4,
        "start_time": "2022-07-31T10:59:33.382Z"
      },
      {
        "duration": 17,
        "start_time": "2022-07-31T10:59:33.387Z"
      },
      {
        "duration": 72,
        "start_time": "2022-07-31T10:59:33.406Z"
      },
      {
        "duration": 4,
        "start_time": "2022-07-31T10:59:33.480Z"
      },
      {
        "duration": 14,
        "start_time": "2022-07-31T10:59:33.486Z"
      },
      {
        "duration": 21,
        "start_time": "2022-07-31T10:59:33.501Z"
      },
      {
        "duration": 110,
        "start_time": "2022-07-31T10:59:33.524Z"
      },
      {
        "duration": 5,
        "start_time": "2022-07-31T10:59:33.636Z"
      },
      {
        "duration": 20,
        "start_time": "2022-07-31T10:59:33.642Z"
      },
      {
        "duration": 35,
        "start_time": "2022-07-31T10:59:33.664Z"
      },
      {
        "duration": 14,
        "start_time": "2022-07-31T10:59:33.700Z"
      },
      {
        "duration": 911,
        "start_time": "2022-07-31T10:59:33.716Z"
      },
      {
        "duration": 10,
        "start_time": "2022-07-31T10:59:34.629Z"
      },
      {
        "duration": 29,
        "start_time": "2022-07-31T10:59:34.640Z"
      },
      {
        "duration": 14,
        "start_time": "2022-07-31T10:59:34.670Z"
      },
      {
        "duration": 31,
        "start_time": "2022-07-31T10:59:34.686Z"
      },
      {
        "duration": 166,
        "start_time": "2022-07-31T10:59:34.719Z"
      },
      {
        "duration": 24,
        "start_time": "2022-07-31T10:59:34.887Z"
      },
      {
        "duration": 93,
        "start_time": "2022-07-31T10:59:34.912Z"
      },
      {
        "duration": 23,
        "start_time": "2022-07-31T10:59:35.007Z"
      },
      {
        "duration": 10,
        "start_time": "2022-07-31T10:59:35.031Z"
      },
      {
        "duration": 32,
        "start_time": "2022-07-31T10:59:35.063Z"
      },
      {
        "duration": 5,
        "start_time": "2022-07-31T10:59:35.097Z"
      },
      {
        "duration": 8,
        "start_time": "2022-07-31T10:59:35.105Z"
      },
      {
        "duration": 118,
        "start_time": "2022-07-31T10:59:35.115Z"
      },
      {
        "duration": 0,
        "start_time": "2022-07-31T10:59:35.235Z"
      },
      {
        "duration": 0,
        "start_time": "2022-07-31T10:59:35.237Z"
      },
      {
        "duration": 0,
        "start_time": "2022-07-31T10:59:35.238Z"
      },
      {
        "duration": 0,
        "start_time": "2022-07-31T10:59:35.240Z"
      },
      {
        "duration": 0,
        "start_time": "2022-07-31T10:59:35.242Z"
      },
      {
        "duration": 0,
        "start_time": "2022-07-31T10:59:35.243Z"
      },
      {
        "duration": 0,
        "start_time": "2022-07-31T10:59:35.260Z"
      },
      {
        "duration": 0,
        "start_time": "2022-07-31T10:59:35.261Z"
      },
      {
        "duration": 0,
        "start_time": "2022-07-31T10:59:35.262Z"
      },
      {
        "duration": 0,
        "start_time": "2022-07-31T10:59:35.264Z"
      },
      {
        "duration": 0,
        "start_time": "2022-07-31T10:59:35.265Z"
      },
      {
        "duration": 0,
        "start_time": "2022-07-31T10:59:35.267Z"
      },
      {
        "duration": 0,
        "start_time": "2022-07-31T10:59:35.267Z"
      },
      {
        "duration": 0,
        "start_time": "2022-07-31T10:59:35.269Z"
      },
      {
        "duration": 0,
        "start_time": "2022-07-31T10:59:35.270Z"
      },
      {
        "duration": 0,
        "start_time": "2022-07-31T10:59:35.271Z"
      },
      {
        "duration": 0,
        "start_time": "2022-07-31T10:59:35.272Z"
      },
      {
        "duration": 0,
        "start_time": "2022-07-31T10:59:35.273Z"
      },
      {
        "duration": 0,
        "start_time": "2022-07-31T10:59:35.273Z"
      },
      {
        "duration": 0,
        "start_time": "2022-07-31T10:59:35.275Z"
      },
      {
        "duration": 0,
        "start_time": "2022-07-31T10:59:35.276Z"
      },
      {
        "duration": 0,
        "start_time": "2022-07-31T10:59:35.277Z"
      },
      {
        "duration": 0,
        "start_time": "2022-07-31T10:59:35.277Z"
      },
      {
        "duration": 0,
        "start_time": "2022-07-31T10:59:35.279Z"
      },
      {
        "duration": 1158,
        "start_time": "2022-07-31T11:00:23.132Z"
      },
      {
        "duration": 77,
        "start_time": "2022-07-31T11:00:33.475Z"
      },
      {
        "duration": 60,
        "start_time": "2022-07-31T11:00:48.071Z"
      },
      {
        "duration": 102,
        "start_time": "2022-07-31T11:00:56.374Z"
      },
      {
        "duration": 81,
        "start_time": "2022-07-31T11:01:01.262Z"
      },
      {
        "duration": 844,
        "start_time": "2022-07-31T11:01:04.587Z"
      },
      {
        "duration": 87,
        "start_time": "2022-07-31T11:01:12.088Z"
      },
      {
        "duration": 98,
        "start_time": "2022-07-31T11:01:16.374Z"
      },
      {
        "duration": 80,
        "start_time": "2022-07-31T11:01:41.717Z"
      },
      {
        "duration": 983,
        "start_time": "2022-07-31T11:01:59.590Z"
      },
      {
        "duration": 1002,
        "start_time": "2022-07-31T11:02:12.681Z"
      },
      {
        "duration": 86,
        "start_time": "2022-07-31T11:02:22.831Z"
      },
      {
        "duration": 71,
        "start_time": "2022-07-31T11:02:33.762Z"
      },
      {
        "duration": 50,
        "start_time": "2022-07-31T11:02:56.386Z"
      },
      {
        "duration": 564,
        "start_time": "2022-07-31T11:03:00.462Z"
      },
      {
        "duration": 1167,
        "start_time": "2022-07-31T11:03:11.562Z"
      },
      {
        "duration": 75,
        "start_time": "2022-07-31T11:03:20.479Z"
      },
      {
        "duration": 85,
        "start_time": "2022-07-31T11:03:26.431Z"
      },
      {
        "duration": 792,
        "start_time": "2022-07-31T11:03:48.633Z"
      },
      {
        "duration": 982,
        "start_time": "2022-07-31T11:04:00.177Z"
      },
      {
        "duration": 73,
        "start_time": "2022-07-31T11:04:09.577Z"
      },
      {
        "duration": 71,
        "start_time": "2022-07-31T11:04:23.331Z"
      },
      {
        "duration": 16,
        "start_time": "2022-07-31T11:05:56.295Z"
      },
      {
        "duration": 72,
        "start_time": "2022-07-31T11:06:10.566Z"
      },
      {
        "duration": 77,
        "start_time": "2022-07-31T11:06:12.990Z"
      },
      {
        "duration": 79,
        "start_time": "2022-07-31T11:06:16.777Z"
      },
      {
        "duration": 4,
        "start_time": "2022-07-31T11:06:29.498Z"
      },
      {
        "duration": 11,
        "start_time": "2022-07-31T11:06:56.190Z"
      },
      {
        "duration": 78,
        "start_time": "2022-07-31T11:07:06.086Z"
      },
      {
        "duration": 85,
        "start_time": "2022-07-31T11:07:08.362Z"
      },
      {
        "duration": 35,
        "start_time": "2022-07-31T11:07:10.082Z"
      },
      {
        "duration": 36,
        "start_time": "2022-07-31T11:07:11.606Z"
      },
      {
        "duration": 6,
        "start_time": "2022-07-31T11:07:13.698Z"
      },
      {
        "duration": 4,
        "start_time": "2022-07-31T11:07:15.682Z"
      },
      {
        "duration": 5,
        "start_time": "2022-07-31T11:07:16.990Z"
      },
      {
        "duration": 85,
        "start_time": "2022-07-31T11:07:21.861Z"
      },
      {
        "duration": 434,
        "start_time": "2022-07-31T11:07:23.334Z"
      },
      {
        "duration": 8,
        "start_time": "2022-07-31T11:07:25.474Z"
      },
      {
        "duration": 4,
        "start_time": "2022-07-31T11:07:28.792Z"
      },
      {
        "duration": 4,
        "start_time": "2022-07-31T11:07:42.686Z"
      },
      {
        "duration": 75,
        "start_time": "2022-07-31T11:07:48.724Z"
      },
      {
        "duration": 6,
        "start_time": "2022-07-31T11:07:50.574Z"
      },
      {
        "duration": 5,
        "start_time": "2022-07-31T11:07:51.785Z"
      },
      {
        "duration": 6,
        "start_time": "2022-07-31T11:07:53.404Z"
      },
      {
        "duration": 7,
        "start_time": "2022-07-31T11:07:54.610Z"
      },
      {
        "duration": 7,
        "start_time": "2022-07-31T11:07:56.696Z"
      },
      {
        "duration": 5,
        "start_time": "2022-07-31T11:07:58.878Z"
      },
      {
        "duration": 93,
        "start_time": "2022-07-31T11:08:00.098Z"
      },
      {
        "duration": 5,
        "start_time": "2022-07-31T11:08:02.437Z"
      },
      {
        "duration": 6,
        "start_time": "2022-07-31T11:08:03.634Z"
      },
      {
        "duration": 5,
        "start_time": "2022-07-31T11:08:05.286Z"
      },
      {
        "duration": 5,
        "start_time": "2022-07-31T11:09:58.735Z"
      },
      {
        "duration": 4,
        "start_time": "2022-07-31T11:10:41.646Z"
      },
      {
        "duration": 7,
        "start_time": "2022-07-31T11:10:56.572Z"
      },
      {
        "duration": 5,
        "start_time": "2022-07-31T11:11:07.594Z"
      },
      {
        "duration": 5,
        "start_time": "2022-07-31T11:11:22.204Z"
      },
      {
        "duration": 75,
        "start_time": "2022-07-31T11:11:47.468Z"
      },
      {
        "duration": 5,
        "start_time": "2022-07-31T11:13:10.569Z"
      },
      {
        "duration": 4,
        "start_time": "2022-07-31T11:13:26.543Z"
      },
      {
        "duration": 4,
        "start_time": "2022-07-31T11:13:38.301Z"
      },
      {
        "duration": 4,
        "start_time": "2022-07-31T11:13:57.932Z"
      },
      {
        "duration": 5,
        "start_time": "2022-07-31T11:14:07.998Z"
      },
      {
        "duration": 5,
        "start_time": "2022-07-31T11:14:21.565Z"
      },
      {
        "duration": 5,
        "start_time": "2022-07-31T11:14:38.663Z"
      },
      {
        "duration": 5,
        "start_time": "2022-07-31T11:15:09.024Z"
      },
      {
        "duration": 4,
        "start_time": "2022-07-31T11:15:17.849Z"
      },
      {
        "duration": 5,
        "start_time": "2022-07-31T11:15:29.760Z"
      },
      {
        "duration": 5,
        "start_time": "2022-07-31T11:15:44.276Z"
      },
      {
        "duration": 5,
        "start_time": "2022-07-31T11:16:13.502Z"
      },
      {
        "duration": 105,
        "start_time": "2022-07-31T11:17:25.057Z"
      },
      {
        "duration": 8,
        "start_time": "2022-07-31T11:17:39.576Z"
      },
      {
        "duration": 7,
        "start_time": "2022-07-31T11:18:06.161Z"
      },
      {
        "duration": 7,
        "start_time": "2022-07-31T11:18:48.503Z"
      },
      {
        "duration": 5,
        "start_time": "2022-07-31T11:21:15.437Z"
      },
      {
        "duration": 5,
        "start_time": "2022-07-31T11:21:25.673Z"
      },
      {
        "duration": 6,
        "start_time": "2022-07-31T11:21:36.434Z"
      },
      {
        "duration": 6,
        "start_time": "2022-07-31T11:21:44.773Z"
      },
      {
        "duration": 4,
        "start_time": "2022-07-31T11:22:10.590Z"
      },
      {
        "duration": 3,
        "start_time": "2022-07-31T11:22:44.899Z"
      },
      {
        "duration": 1414,
        "start_time": "2022-07-31T20:11:28.666Z"
      },
      {
        "duration": 662,
        "start_time": "2022-07-31T20:11:30.082Z"
      },
      {
        "duration": 21,
        "start_time": "2022-07-31T20:11:30.745Z"
      },
      {
        "duration": 28,
        "start_time": "2022-07-31T20:11:30.768Z"
      },
      {
        "duration": 174,
        "start_time": "2022-07-31T20:11:30.803Z"
      },
      {
        "duration": 62,
        "start_time": "2022-07-31T20:11:30.979Z"
      },
      {
        "duration": 14,
        "start_time": "2022-07-31T20:11:31.043Z"
      },
      {
        "duration": 53,
        "start_time": "2022-07-31T20:11:31.058Z"
      },
      {
        "duration": 67,
        "start_time": "2022-07-31T20:11:31.114Z"
      },
      {
        "duration": 5,
        "start_time": "2022-07-31T20:11:31.185Z"
      },
      {
        "duration": 43,
        "start_time": "2022-07-31T20:11:31.191Z"
      },
      {
        "duration": 46,
        "start_time": "2022-07-31T20:11:31.236Z"
      },
      {
        "duration": 152,
        "start_time": "2022-07-31T20:11:31.284Z"
      },
      {
        "duration": 5,
        "start_time": "2022-07-31T20:11:31.438Z"
      },
      {
        "duration": 70,
        "start_time": "2022-07-31T20:11:31.444Z"
      },
      {
        "duration": 47,
        "start_time": "2022-07-31T20:11:31.522Z"
      },
      {
        "duration": 13,
        "start_time": "2022-07-31T20:11:31.571Z"
      },
      {
        "duration": 1068,
        "start_time": "2022-07-31T20:11:31.586Z"
      },
      {
        "duration": 11,
        "start_time": "2022-07-31T20:11:32.656Z"
      },
      {
        "duration": 46,
        "start_time": "2022-07-31T20:11:32.668Z"
      },
      {
        "duration": 40,
        "start_time": "2022-07-31T20:11:32.715Z"
      },
      {
        "duration": 11,
        "start_time": "2022-07-31T20:11:32.757Z"
      },
      {
        "duration": 189,
        "start_time": "2022-07-31T20:11:32.770Z"
      },
      {
        "duration": 39,
        "start_time": "2022-07-31T20:11:32.960Z"
      },
      {
        "duration": 97,
        "start_time": "2022-07-31T20:11:33.000Z"
      },
      {
        "duration": 32,
        "start_time": "2022-07-31T20:11:33.099Z"
      },
      {
        "duration": 32,
        "start_time": "2022-07-31T20:11:33.133Z"
      },
      {
        "duration": 54,
        "start_time": "2022-07-31T20:11:33.169Z"
      },
      {
        "duration": 7,
        "start_time": "2022-07-31T20:11:33.228Z"
      },
      {
        "duration": 41,
        "start_time": "2022-07-31T20:11:33.236Z"
      },
      {
        "duration": 142,
        "start_time": "2022-07-31T20:11:33.279Z"
      },
      {
        "duration": 6,
        "start_time": "2022-07-31T20:11:33.423Z"
      },
      {
        "duration": 38,
        "start_time": "2022-07-31T20:11:33.430Z"
      },
      {
        "duration": 27,
        "start_time": "2022-07-31T20:11:33.469Z"
      },
      {
        "duration": 134,
        "start_time": "2022-07-31T20:11:33.497Z"
      },
      {
        "duration": 411,
        "start_time": "2022-07-31T20:11:33.632Z"
      },
      {
        "duration": 6,
        "start_time": "2022-07-31T20:11:34.045Z"
      },
      {
        "duration": 38,
        "start_time": "2022-07-31T20:11:34.053Z"
      },
      {
        "duration": 54,
        "start_time": "2022-07-31T20:11:34.092Z"
      },
      {
        "duration": 40,
        "start_time": "2022-07-31T20:11:34.148Z"
      },
      {
        "duration": 56,
        "start_time": "2022-07-31T20:11:34.189Z"
      },
      {
        "duration": 22,
        "start_time": "2022-07-31T20:11:34.247Z"
      },
      {
        "duration": 14,
        "start_time": "2022-07-31T20:11:34.271Z"
      },
      {
        "duration": 42,
        "start_time": "2022-07-31T20:11:34.287Z"
      },
      {
        "duration": 18,
        "start_time": "2022-07-31T20:11:34.331Z"
      },
      {
        "duration": 14,
        "start_time": "2022-07-31T20:11:34.351Z"
      },
      {
        "duration": 21,
        "start_time": "2022-07-31T20:11:34.367Z"
      },
      {
        "duration": 57,
        "start_time": "2022-07-31T20:11:34.390Z"
      },
      {
        "duration": 8,
        "start_time": "2022-07-31T20:11:34.449Z"
      },
      {
        "duration": 206,
        "start_time": "2022-07-31T20:15:06.416Z"
      },
      {
        "duration": 84,
        "start_time": "2022-07-31T20:15:29.273Z"
      },
      {
        "duration": 80,
        "start_time": "2022-07-31T20:16:20.963Z"
      },
      {
        "duration": 93,
        "start_time": "2022-07-31T20:16:33.732Z"
      },
      {
        "duration": 110,
        "start_time": "2022-07-31T20:17:32.320Z"
      },
      {
        "duration": 102,
        "start_time": "2022-07-31T20:18:03.565Z"
      },
      {
        "duration": 86,
        "start_time": "2022-07-31T20:18:40.141Z"
      },
      {
        "duration": 98,
        "start_time": "2022-07-31T20:18:59.320Z"
      },
      {
        "duration": 99,
        "start_time": "2022-07-31T20:19:36.393Z"
      },
      {
        "duration": 104,
        "start_time": "2022-07-31T20:19:51.080Z"
      },
      {
        "duration": 83,
        "start_time": "2022-07-31T20:20:09.009Z"
      },
      {
        "duration": 91,
        "start_time": "2022-07-31T20:20:19.877Z"
      },
      {
        "duration": 90,
        "start_time": "2022-07-31T20:20:28.424Z"
      },
      {
        "duration": 88,
        "start_time": "2022-07-31T20:20:57.436Z"
      },
      {
        "duration": 95,
        "start_time": "2022-07-31T20:21:10.154Z"
      },
      {
        "duration": 68,
        "start_time": "2022-07-31T20:21:30.515Z"
      },
      {
        "duration": 109,
        "start_time": "2022-07-31T20:21:43.423Z"
      },
      {
        "duration": 97,
        "start_time": "2022-07-31T20:21:59.194Z"
      },
      {
        "duration": 86,
        "start_time": "2022-07-31T20:22:03.818Z"
      },
      {
        "duration": 82,
        "start_time": "2022-07-31T20:22:18.191Z"
      },
      {
        "duration": 83,
        "start_time": "2022-07-31T20:22:31.047Z"
      },
      {
        "duration": 87,
        "start_time": "2022-07-31T20:23:01.445Z"
      },
      {
        "duration": 86,
        "start_time": "2022-07-31T20:23:09.181Z"
      },
      {
        "duration": 91,
        "start_time": "2022-07-31T20:23:38.473Z"
      },
      {
        "duration": 89,
        "start_time": "2022-07-31T20:23:52.330Z"
      },
      {
        "duration": 95,
        "start_time": "2022-07-31T20:24:00.275Z"
      },
      {
        "duration": 81,
        "start_time": "2022-07-31T20:24:28.310Z"
      },
      {
        "duration": 88,
        "start_time": "2022-07-31T20:24:32.839Z"
      },
      {
        "duration": 87,
        "start_time": "2022-07-31T20:24:37.855Z"
      },
      {
        "duration": 1012,
        "start_time": "2022-07-31T20:25:07.724Z"
      },
      {
        "duration": 910,
        "start_time": "2022-07-31T20:25:44.247Z"
      },
      {
        "duration": 1239,
        "start_time": "2022-07-31T20:25:56.414Z"
      },
      {
        "duration": 1098,
        "start_time": "2022-07-31T20:26:31.979Z"
      },
      {
        "duration": 85,
        "start_time": "2022-07-31T20:26:46.140Z"
      },
      {
        "duration": 911,
        "start_time": "2022-07-31T20:26:58.910Z"
      },
      {
        "duration": 94,
        "start_time": "2022-07-31T20:27:04.544Z"
      },
      {
        "duration": 86,
        "start_time": "2022-07-31T20:27:24.259Z"
      },
      {
        "duration": 93,
        "start_time": "2022-07-31T20:28:25.122Z"
      },
      {
        "duration": 110,
        "start_time": "2022-07-31T20:28:36.377Z"
      },
      {
        "duration": 90,
        "start_time": "2022-07-31T20:28:55.727Z"
      },
      {
        "duration": 103,
        "start_time": "2022-07-31T20:29:02.841Z"
      },
      {
        "duration": 91,
        "start_time": "2022-07-31T20:29:34.924Z"
      },
      {
        "duration": 94,
        "start_time": "2022-07-31T20:29:41.221Z"
      },
      {
        "duration": 92,
        "start_time": "2022-07-31T20:29:52.985Z"
      },
      {
        "duration": 81,
        "start_time": "2022-07-31T20:29:58.910Z"
      },
      {
        "duration": 97,
        "start_time": "2022-07-31T20:31:24.452Z"
      },
      {
        "duration": 1407,
        "start_time": "2022-08-01T07:53:06.600Z"
      },
      {
        "duration": 488,
        "start_time": "2022-08-01T07:53:08.009Z"
      },
      {
        "duration": 21,
        "start_time": "2022-08-01T07:53:08.498Z"
      },
      {
        "duration": 5,
        "start_time": "2022-08-01T07:53:08.521Z"
      },
      {
        "duration": 137,
        "start_time": "2022-08-01T07:53:08.528Z"
      },
      {
        "duration": 57,
        "start_time": "2022-08-01T07:53:08.666Z"
      },
      {
        "duration": 5,
        "start_time": "2022-08-01T07:53:08.725Z"
      },
      {
        "duration": 13,
        "start_time": "2022-08-01T07:53:08.732Z"
      },
      {
        "duration": 93,
        "start_time": "2022-08-01T07:53:08.746Z"
      },
      {
        "duration": 4,
        "start_time": "2022-08-01T07:53:08.841Z"
      },
      {
        "duration": 18,
        "start_time": "2022-08-01T07:53:08.847Z"
      },
      {
        "duration": 31,
        "start_time": "2022-08-01T07:53:08.867Z"
      },
      {
        "duration": 113,
        "start_time": "2022-08-01T07:53:08.900Z"
      },
      {
        "duration": 5,
        "start_time": "2022-08-01T07:53:09.015Z"
      },
      {
        "duration": 16,
        "start_time": "2022-08-01T07:53:09.021Z"
      },
      {
        "duration": 32,
        "start_time": "2022-08-01T07:53:09.038Z"
      },
      {
        "duration": 35,
        "start_time": "2022-08-01T07:53:09.072Z"
      },
      {
        "duration": 978,
        "start_time": "2022-08-01T07:53:09.108Z"
      },
      {
        "duration": 18,
        "start_time": "2022-08-01T07:53:10.087Z"
      },
      {
        "duration": 84,
        "start_time": "2022-08-01T07:53:10.107Z"
      },
      {
        "duration": 37,
        "start_time": "2022-08-01T07:53:10.193Z"
      },
      {
        "duration": 75,
        "start_time": "2022-08-01T07:53:10.232Z"
      },
      {
        "duration": 153,
        "start_time": "2022-08-01T07:53:10.308Z"
      },
      {
        "duration": 40,
        "start_time": "2022-08-01T07:53:10.463Z"
      },
      {
        "duration": 64,
        "start_time": "2022-08-01T07:53:10.505Z"
      },
      {
        "duration": 44,
        "start_time": "2022-08-01T07:53:10.572Z"
      },
      {
        "duration": 8,
        "start_time": "2022-08-01T07:53:10.618Z"
      },
      {
        "duration": 33,
        "start_time": "2022-08-01T07:53:10.629Z"
      },
      {
        "duration": 7,
        "start_time": "2022-08-01T07:53:10.664Z"
      },
      {
        "duration": 107,
        "start_time": "2022-08-01T07:53:10.673Z"
      },
      {
        "duration": 2028,
        "start_time": "2022-08-01T07:53:10.782Z"
      },
      {
        "duration": 0,
        "start_time": "2022-08-01T07:53:12.812Z"
      },
      {
        "duration": 0,
        "start_time": "2022-08-01T07:53:12.813Z"
      },
      {
        "duration": 0,
        "start_time": "2022-08-01T07:53:12.814Z"
      },
      {
        "duration": 0,
        "start_time": "2022-08-01T07:53:12.816Z"
      },
      {
        "duration": 0,
        "start_time": "2022-08-01T07:53:12.817Z"
      },
      {
        "duration": 0,
        "start_time": "2022-08-01T07:53:12.818Z"
      },
      {
        "duration": 0,
        "start_time": "2022-08-01T07:53:12.819Z"
      },
      {
        "duration": 0,
        "start_time": "2022-08-01T07:53:12.820Z"
      },
      {
        "duration": 0,
        "start_time": "2022-08-01T07:53:12.821Z"
      },
      {
        "duration": 0,
        "start_time": "2022-08-01T07:53:12.822Z"
      },
      {
        "duration": 0,
        "start_time": "2022-08-01T07:53:12.823Z"
      },
      {
        "duration": 0,
        "start_time": "2022-08-01T07:53:12.824Z"
      },
      {
        "duration": 0,
        "start_time": "2022-08-01T07:53:12.825Z"
      },
      {
        "duration": 0,
        "start_time": "2022-08-01T07:53:12.826Z"
      },
      {
        "duration": 0,
        "start_time": "2022-08-01T07:53:12.827Z"
      },
      {
        "duration": 0,
        "start_time": "2022-08-01T07:53:12.828Z"
      },
      {
        "duration": 0,
        "start_time": "2022-08-01T07:53:12.829Z"
      },
      {
        "duration": 14,
        "start_time": "2022-08-01T07:54:20.583Z"
      },
      {
        "duration": 78,
        "start_time": "2022-08-01T07:55:06.603Z"
      },
      {
        "duration": 79,
        "start_time": "2022-08-01T07:55:18.247Z"
      },
      {
        "duration": 87,
        "start_time": "2022-08-01T07:55:25.505Z"
      },
      {
        "duration": 78,
        "start_time": "2022-08-01T07:55:29.890Z"
      },
      {
        "duration": 84,
        "start_time": "2022-08-01T07:55:38.105Z"
      },
      {
        "duration": 82,
        "start_time": "2022-08-01T07:55:45.083Z"
      },
      {
        "duration": 83,
        "start_time": "2022-08-01T07:55:53.386Z"
      },
      {
        "duration": 83,
        "start_time": "2022-08-01T07:55:58.046Z"
      },
      {
        "duration": 76,
        "start_time": "2022-08-01T07:57:06.343Z"
      },
      {
        "duration": 5,
        "start_time": "2022-08-01T07:57:18.777Z"
      },
      {
        "duration": 3,
        "start_time": "2022-08-01T07:57:32.546Z"
      },
      {
        "duration": 5,
        "start_time": "2022-08-01T07:57:36.443Z"
      },
      {
        "duration": 7,
        "start_time": "2022-08-01T07:57:39.210Z"
      },
      {
        "duration": 31,
        "start_time": "2022-08-01T08:00:44.107Z"
      },
      {
        "duration": 30,
        "start_time": "2022-08-01T08:01:12.318Z"
      },
      {
        "duration": 29,
        "start_time": "2022-08-01T08:01:22.414Z"
      },
      {
        "duration": 105,
        "start_time": "2022-08-01T08:06:54.743Z"
      },
      {
        "duration": 105,
        "start_time": "2022-08-01T08:07:03.159Z"
      },
      {
        "duration": 108,
        "start_time": "2022-08-01T08:10:14.080Z"
      },
      {
        "duration": 55,
        "start_time": "2022-08-01T08:21:15.648Z"
      },
      {
        "duration": 1270,
        "start_time": "2022-08-01T08:21:22.045Z"
      },
      {
        "duration": 494,
        "start_time": "2022-08-01T08:21:23.317Z"
      },
      {
        "duration": 25,
        "start_time": "2022-08-01T08:21:23.813Z"
      },
      {
        "duration": 7,
        "start_time": "2022-08-01T08:21:23.839Z"
      },
      {
        "duration": 133,
        "start_time": "2022-08-01T08:21:23.849Z"
      },
      {
        "duration": 51,
        "start_time": "2022-08-01T08:21:23.983Z"
      },
      {
        "duration": 5,
        "start_time": "2022-08-01T08:21:24.036Z"
      },
      {
        "duration": 16,
        "start_time": "2022-08-01T08:21:24.042Z"
      },
      {
        "duration": 79,
        "start_time": "2022-08-01T08:21:24.060Z"
      },
      {
        "duration": 4,
        "start_time": "2022-08-01T08:21:24.141Z"
      },
      {
        "duration": 16,
        "start_time": "2022-08-01T08:21:24.147Z"
      },
      {
        "duration": 34,
        "start_time": "2022-08-01T08:21:24.165Z"
      },
      {
        "duration": 116,
        "start_time": "2022-08-01T08:21:24.201Z"
      },
      {
        "duration": 4,
        "start_time": "2022-08-01T08:21:24.322Z"
      },
      {
        "duration": 10,
        "start_time": "2022-08-01T08:21:24.328Z"
      },
      {
        "duration": 34,
        "start_time": "2022-08-01T08:21:24.340Z"
      },
      {
        "duration": 35,
        "start_time": "2022-08-01T08:21:24.397Z"
      },
      {
        "duration": 1002,
        "start_time": "2022-08-01T08:21:24.434Z"
      },
      {
        "duration": 11,
        "start_time": "2022-08-01T08:21:25.437Z"
      },
      {
        "duration": 17,
        "start_time": "2022-08-01T08:21:25.450Z"
      },
      {
        "duration": 34,
        "start_time": "2022-08-01T08:21:25.469Z"
      },
      {
        "duration": 11,
        "start_time": "2022-08-01T08:21:25.505Z"
      },
      {
        "duration": 183,
        "start_time": "2022-08-01T08:21:25.517Z"
      },
      {
        "duration": 28,
        "start_time": "2022-08-01T08:21:25.701Z"
      },
      {
        "duration": 78,
        "start_time": "2022-08-01T08:21:25.731Z"
      },
      {
        "duration": 25,
        "start_time": "2022-08-01T08:21:25.810Z"
      },
      {
        "duration": 8,
        "start_time": "2022-08-01T08:21:25.837Z"
      },
      {
        "duration": 56,
        "start_time": "2022-08-01T08:21:25.847Z"
      },
      {
        "duration": 9,
        "start_time": "2022-08-01T08:21:25.905Z"
      },
      {
        "duration": 104,
        "start_time": "2022-08-01T08:21:25.916Z"
      },
      {
        "duration": 1031,
        "start_time": "2022-08-01T08:21:26.022Z"
      },
      {
        "duration": 0,
        "start_time": "2022-08-01T08:21:27.056Z"
      },
      {
        "duration": 0,
        "start_time": "2022-08-01T08:21:27.057Z"
      },
      {
        "duration": 0,
        "start_time": "2022-08-01T08:21:27.059Z"
      },
      {
        "duration": 0,
        "start_time": "2022-08-01T08:21:27.060Z"
      },
      {
        "duration": 0,
        "start_time": "2022-08-01T08:21:27.061Z"
      },
      {
        "duration": 0,
        "start_time": "2022-08-01T08:21:27.063Z"
      },
      {
        "duration": 0,
        "start_time": "2022-08-01T08:21:27.064Z"
      },
      {
        "duration": 0,
        "start_time": "2022-08-01T08:21:27.065Z"
      },
      {
        "duration": 0,
        "start_time": "2022-08-01T08:21:27.066Z"
      },
      {
        "duration": 0,
        "start_time": "2022-08-01T08:21:27.067Z"
      },
      {
        "duration": 0,
        "start_time": "2022-08-01T08:21:27.068Z"
      },
      {
        "duration": 0,
        "start_time": "2022-08-01T08:21:27.070Z"
      },
      {
        "duration": 0,
        "start_time": "2022-08-01T08:21:27.071Z"
      },
      {
        "duration": 0,
        "start_time": "2022-08-01T08:21:27.072Z"
      },
      {
        "duration": 0,
        "start_time": "2022-08-01T08:21:27.073Z"
      },
      {
        "duration": 0,
        "start_time": "2022-08-01T08:21:27.074Z"
      },
      {
        "duration": 0,
        "start_time": "2022-08-01T08:21:27.075Z"
      },
      {
        "duration": 0,
        "start_time": "2022-08-01T08:21:27.076Z"
      },
      {
        "duration": 800,
        "start_time": "2022-08-01T08:21:49.740Z"
      },
      {
        "duration": 864,
        "start_time": "2022-08-01T08:22:48.188Z"
      },
      {
        "duration": 115,
        "start_time": "2022-08-01T08:24:01.082Z"
      },
      {
        "duration": 110,
        "start_time": "2022-08-01T08:25:02.388Z"
      },
      {
        "duration": 112,
        "start_time": "2022-08-01T08:26:41.242Z"
      },
      {
        "duration": 409,
        "start_time": "2022-08-01T08:29:14.045Z"
      },
      {
        "duration": 84,
        "start_time": "2022-08-01T08:29:35.489Z"
      },
      {
        "duration": 6,
        "start_time": "2022-08-01T08:29:37.551Z"
      },
      {
        "duration": 4,
        "start_time": "2022-08-01T08:29:40.712Z"
      },
      {
        "duration": 5,
        "start_time": "2022-08-01T08:29:43.243Z"
      },
      {
        "duration": 124,
        "start_time": "2022-08-01T08:30:00.508Z"
      },
      {
        "duration": 116,
        "start_time": "2022-08-01T08:31:03.243Z"
      },
      {
        "duration": 114,
        "start_time": "2022-08-01T08:31:23.006Z"
      },
      {
        "duration": 132,
        "start_time": "2022-08-01T08:31:56.516Z"
      },
      {
        "duration": 118,
        "start_time": "2022-08-01T08:33:04.741Z"
      },
      {
        "duration": 116,
        "start_time": "2022-08-01T08:33:16.244Z"
      },
      {
        "duration": 79,
        "start_time": "2022-08-01T08:37:48.208Z"
      },
      {
        "duration": 133,
        "start_time": "2022-08-01T08:38:00.750Z"
      },
      {
        "duration": 128,
        "start_time": "2022-08-01T08:39:01.697Z"
      },
      {
        "duration": 132,
        "start_time": "2022-08-01T08:39:19.240Z"
      },
      {
        "duration": 132,
        "start_time": "2022-08-01T08:39:55.309Z"
      },
      {
        "duration": 124,
        "start_time": "2022-08-01T08:40:18.752Z"
      },
      {
        "duration": 135,
        "start_time": "2022-08-01T08:40:38.207Z"
      },
      {
        "duration": 141,
        "start_time": "2022-08-01T08:41:12.562Z"
      },
      {
        "duration": 150,
        "start_time": "2022-08-01T08:41:23.758Z"
      },
      {
        "duration": 134,
        "start_time": "2022-08-01T08:41:50.284Z"
      },
      {
        "duration": 111,
        "start_time": "2022-08-01T08:42:22.278Z"
      },
      {
        "duration": 123,
        "start_time": "2022-08-01T08:44:56.646Z"
      },
      {
        "duration": 52,
        "start_time": "2022-08-01T08:46:44.774Z"
      },
      {
        "duration": 116,
        "start_time": "2022-08-01T08:48:10.748Z"
      },
      {
        "duration": 121,
        "start_time": "2022-08-01T08:48:16.410Z"
      },
      {
        "duration": 157,
        "start_time": "2022-08-01T08:48:54.374Z"
      },
      {
        "duration": 133,
        "start_time": "2022-08-01T08:49:03.565Z"
      },
      {
        "duration": 122,
        "start_time": "2022-08-01T08:49:17.244Z"
      },
      {
        "duration": 121,
        "start_time": "2022-08-01T08:49:27.944Z"
      },
      {
        "duration": 22,
        "start_time": "2022-08-01T08:51:07.598Z"
      },
      {
        "duration": 109,
        "start_time": "2022-08-01T08:51:15.153Z"
      },
      {
        "duration": 17,
        "start_time": "2022-08-01T08:54:26.662Z"
      },
      {
        "duration": 5,
        "start_time": "2022-08-01T08:54:32.254Z"
      },
      {
        "duration": 5,
        "start_time": "2022-08-01T08:54:46.881Z"
      },
      {
        "duration": 16,
        "start_time": "2022-08-01T08:55:07.453Z"
      },
      {
        "duration": 5,
        "start_time": "2022-08-01T08:55:29.796Z"
      },
      {
        "duration": 5,
        "start_time": "2022-08-01T08:55:40.766Z"
      },
      {
        "duration": 6,
        "start_time": "2022-08-01T08:55:52.548Z"
      },
      {
        "duration": 4,
        "start_time": "2022-08-01T08:56:02.947Z"
      },
      {
        "duration": 8,
        "start_time": "2022-08-01T08:56:13.899Z"
      },
      {
        "duration": 728,
        "start_time": "2022-08-01T08:56:42.842Z"
      },
      {
        "duration": 8,
        "start_time": "2022-08-01T08:56:51.193Z"
      },
      {
        "duration": 20,
        "start_time": "2022-08-01T09:00:09.944Z"
      },
      {
        "duration": 11,
        "start_time": "2022-08-01T09:00:34.212Z"
      },
      {
        "duration": 8,
        "start_time": "2022-08-01T09:00:48.748Z"
      },
      {
        "duration": 1765,
        "start_time": "2022-08-01T09:00:54.866Z"
      },
      {
        "duration": 1123,
        "start_time": "2022-08-01T09:01:10.104Z"
      },
      {
        "duration": 162,
        "start_time": "2022-08-01T09:01:11.229Z"
      },
      {
        "duration": 19,
        "start_time": "2022-08-01T09:01:11.392Z"
      },
      {
        "duration": 6,
        "start_time": "2022-08-01T09:01:11.414Z"
      },
      {
        "duration": 132,
        "start_time": "2022-08-01T09:01:11.421Z"
      },
      {
        "duration": 54,
        "start_time": "2022-08-01T09:01:11.554Z"
      },
      {
        "duration": 5,
        "start_time": "2022-08-01T09:01:11.609Z"
      },
      {
        "duration": 29,
        "start_time": "2022-08-01T09:01:11.615Z"
      },
      {
        "duration": 79,
        "start_time": "2022-08-01T09:01:11.645Z"
      },
      {
        "duration": 4,
        "start_time": "2022-08-01T09:01:11.727Z"
      },
      {
        "duration": 29,
        "start_time": "2022-08-01T09:01:11.733Z"
      },
      {
        "duration": 26,
        "start_time": "2022-08-01T09:01:11.764Z"
      },
      {
        "duration": 107,
        "start_time": "2022-08-01T09:01:11.791Z"
      },
      {
        "duration": 5,
        "start_time": "2022-08-01T09:01:11.899Z"
      },
      {
        "duration": 16,
        "start_time": "2022-08-01T09:01:11.905Z"
      },
      {
        "duration": 50,
        "start_time": "2022-08-01T09:01:11.923Z"
      },
      {
        "duration": 13,
        "start_time": "2022-08-01T09:01:11.975Z"
      },
      {
        "duration": 956,
        "start_time": "2022-08-01T09:01:11.989Z"
      },
      {
        "duration": 10,
        "start_time": "2022-08-01T09:01:12.947Z"
      },
      {
        "duration": 24,
        "start_time": "2022-08-01T09:01:12.959Z"
      },
      {
        "duration": 21,
        "start_time": "2022-08-01T09:01:12.985Z"
      },
      {
        "duration": 19,
        "start_time": "2022-08-01T09:01:13.008Z"
      },
      {
        "duration": 155,
        "start_time": "2022-08-01T09:01:13.029Z"
      },
      {
        "duration": 28,
        "start_time": "2022-08-01T09:01:13.198Z"
      },
      {
        "duration": 76,
        "start_time": "2022-08-01T09:01:13.228Z"
      },
      {
        "duration": 26,
        "start_time": "2022-08-01T09:01:13.305Z"
      },
      {
        "duration": 9,
        "start_time": "2022-08-01T09:01:13.332Z"
      },
      {
        "duration": 56,
        "start_time": "2022-08-01T09:01:13.345Z"
      },
      {
        "duration": 5,
        "start_time": "2022-08-01T09:01:13.403Z"
      },
      {
        "duration": 130,
        "start_time": "2022-08-01T09:01:13.410Z"
      },
      {
        "duration": 22,
        "start_time": "2022-08-01T09:01:13.542Z"
      },
      {
        "duration": 3,
        "start_time": "2022-08-01T09:01:13.565Z"
      },
      {
        "duration": 3,
        "start_time": "2022-08-01T09:01:13.598Z"
      },
      {
        "duration": 11,
        "start_time": "2022-08-01T09:01:13.602Z"
      },
      {
        "duration": 93,
        "start_time": "2022-08-01T09:01:13.614Z"
      },
      {
        "duration": 396,
        "start_time": "2022-08-01T09:01:13.709Z"
      },
      {
        "duration": 3,
        "start_time": "2022-08-01T09:01:14.107Z"
      },
      {
        "duration": 23,
        "start_time": "2022-08-01T09:01:14.112Z"
      },
      {
        "duration": 62,
        "start_time": "2022-08-01T09:01:14.137Z"
      },
      {
        "duration": 9,
        "start_time": "2022-08-01T09:01:14.201Z"
      },
      {
        "duration": 1278,
        "start_time": "2022-08-01T09:01:14.211Z"
      },
      {
        "duration": 0,
        "start_time": "2022-08-01T09:01:15.491Z"
      },
      {
        "duration": 0,
        "start_time": "2022-08-01T09:01:15.492Z"
      },
      {
        "duration": 0,
        "start_time": "2022-08-01T09:01:15.493Z"
      },
      {
        "duration": 0,
        "start_time": "2022-08-01T09:01:15.494Z"
      },
      {
        "duration": 108,
        "start_time": "2022-08-01T09:01:58.380Z"
      },
      {
        "duration": 110,
        "start_time": "2022-08-01T09:02:50.388Z"
      },
      {
        "duration": 111,
        "start_time": "2022-08-01T09:02:55.169Z"
      },
      {
        "duration": 120,
        "start_time": "2022-08-01T09:03:17.879Z"
      },
      {
        "duration": 113,
        "start_time": "2022-08-01T09:03:31.414Z"
      },
      {
        "duration": 111,
        "start_time": "2022-08-01T09:03:35.250Z"
      },
      {
        "duration": 107,
        "start_time": "2022-08-01T09:03:46.313Z"
      },
      {
        "duration": 13,
        "start_time": "2022-08-01T09:04:54.183Z"
      },
      {
        "duration": 18,
        "start_time": "2022-08-01T09:05:04.612Z"
      },
      {
        "duration": 6,
        "start_time": "2022-08-01T09:07:46.712Z"
      },
      {
        "duration": 5,
        "start_time": "2022-08-01T09:07:55.492Z"
      },
      {
        "duration": 5,
        "start_time": "2022-08-01T09:08:01.961Z"
      },
      {
        "duration": 10,
        "start_time": "2022-08-01T09:08:36.612Z"
      },
      {
        "duration": 23,
        "start_time": "2022-08-01T09:08:38.435Z"
      },
      {
        "duration": 1075,
        "start_time": "2022-08-01T09:08:48.756Z"
      },
      {
        "duration": 161,
        "start_time": "2022-08-01T09:08:49.833Z"
      },
      {
        "duration": 24,
        "start_time": "2022-08-01T09:08:49.995Z"
      },
      {
        "duration": 23,
        "start_time": "2022-08-01T09:08:50.022Z"
      },
      {
        "duration": 152,
        "start_time": "2022-08-01T09:08:50.047Z"
      },
      {
        "duration": 50,
        "start_time": "2022-08-01T09:08:50.201Z"
      },
      {
        "duration": 5,
        "start_time": "2022-08-01T09:08:50.252Z"
      },
      {
        "duration": 13,
        "start_time": "2022-08-01T09:08:50.259Z"
      },
      {
        "duration": 82,
        "start_time": "2022-08-01T09:08:50.273Z"
      },
      {
        "duration": 3,
        "start_time": "2022-08-01T09:08:50.358Z"
      },
      {
        "duration": 27,
        "start_time": "2022-08-01T09:08:50.362Z"
      },
      {
        "duration": 21,
        "start_time": "2022-08-01T09:08:50.391Z"
      },
      {
        "duration": 114,
        "start_time": "2022-08-01T09:08:50.415Z"
      },
      {
        "duration": 4,
        "start_time": "2022-08-01T09:08:50.531Z"
      },
      {
        "duration": 13,
        "start_time": "2022-08-01T09:08:50.536Z"
      },
      {
        "duration": 51,
        "start_time": "2022-08-01T09:08:50.551Z"
      },
      {
        "duration": 13,
        "start_time": "2022-08-01T09:08:50.603Z"
      },
      {
        "duration": 966,
        "start_time": "2022-08-01T09:08:50.618Z"
      },
      {
        "duration": 12,
        "start_time": "2022-08-01T09:08:51.586Z"
      },
      {
        "duration": 14,
        "start_time": "2022-08-01T09:08:51.600Z"
      },
      {
        "duration": 11,
        "start_time": "2022-08-01T09:08:51.616Z"
      },
      {
        "duration": 8,
        "start_time": "2022-08-01T09:08:51.629Z"
      },
      {
        "duration": 178,
        "start_time": "2022-08-01T09:08:51.639Z"
      },
      {
        "duration": 29,
        "start_time": "2022-08-01T09:08:51.818Z"
      },
      {
        "duration": 92,
        "start_time": "2022-08-01T09:08:51.848Z"
      },
      {
        "duration": 27,
        "start_time": "2022-08-01T09:08:51.942Z"
      },
      {
        "duration": 8,
        "start_time": "2022-08-01T09:08:51.970Z"
      },
      {
        "duration": 50,
        "start_time": "2022-08-01T09:08:51.982Z"
      },
      {
        "duration": 6,
        "start_time": "2022-08-01T09:08:52.033Z"
      },
      {
        "duration": 119,
        "start_time": "2022-08-01T09:08:52.040Z"
      },
      {
        "duration": 17,
        "start_time": "2022-08-01T09:08:52.161Z"
      },
      {
        "duration": 19,
        "start_time": "2022-08-01T09:08:52.179Z"
      },
      {
        "duration": 4,
        "start_time": "2022-08-01T09:08:52.200Z"
      },
      {
        "duration": 3,
        "start_time": "2022-08-01T09:08:52.206Z"
      },
      {
        "duration": 94,
        "start_time": "2022-08-01T09:08:52.211Z"
      },
      {
        "duration": 341,
        "start_time": "2022-08-01T09:08:52.307Z"
      },
      {
        "duration": 3,
        "start_time": "2022-08-01T09:08:52.650Z"
      },
      {
        "duration": 51,
        "start_time": "2022-08-01T09:08:52.654Z"
      },
      {
        "duration": 17,
        "start_time": "2022-08-01T09:08:52.706Z"
      },
      {
        "duration": 10,
        "start_time": "2022-08-01T09:08:52.724Z"
      },
      {
        "duration": 871,
        "start_time": "2022-08-01T09:08:52.735Z"
      },
      {
        "duration": 0,
        "start_time": "2022-08-01T09:08:53.608Z"
      },
      {
        "duration": 12,
        "start_time": "2022-08-01T09:09:03.507Z"
      },
      {
        "duration": 25,
        "start_time": "2022-08-01T09:09:05.302Z"
      },
      {
        "duration": 1091,
        "start_time": "2022-08-01T09:09:15.552Z"
      },
      {
        "duration": 161,
        "start_time": "2022-08-01T09:09:16.645Z"
      },
      {
        "duration": 18,
        "start_time": "2022-08-01T09:09:16.808Z"
      },
      {
        "duration": 6,
        "start_time": "2022-08-01T09:09:16.828Z"
      },
      {
        "duration": 135,
        "start_time": "2022-08-01T09:09:16.836Z"
      },
      {
        "duration": 49,
        "start_time": "2022-08-01T09:09:16.973Z"
      },
      {
        "duration": 5,
        "start_time": "2022-08-01T09:09:17.023Z"
      },
      {
        "duration": 21,
        "start_time": "2022-08-01T09:09:17.029Z"
      },
      {
        "duration": 83,
        "start_time": "2022-08-01T09:09:17.052Z"
      },
      {
        "duration": 4,
        "start_time": "2022-08-01T09:09:17.137Z"
      },
      {
        "duration": 12,
        "start_time": "2022-08-01T09:09:17.142Z"
      },
      {
        "duration": 17,
        "start_time": "2022-08-01T09:09:17.156Z"
      },
      {
        "duration": 126,
        "start_time": "2022-08-01T09:09:17.174Z"
      },
      {
        "duration": 4,
        "start_time": "2022-08-01T09:09:17.302Z"
      },
      {
        "duration": 10,
        "start_time": "2022-08-01T09:09:17.307Z"
      },
      {
        "duration": 34,
        "start_time": "2022-08-01T09:09:17.318Z"
      },
      {
        "duration": 13,
        "start_time": "2022-08-01T09:09:17.354Z"
      },
      {
        "duration": 971,
        "start_time": "2022-08-01T09:09:17.368Z"
      },
      {
        "duration": 11,
        "start_time": "2022-08-01T09:09:18.340Z"
      },
      {
        "duration": 15,
        "start_time": "2022-08-01T09:09:18.352Z"
      },
      {
        "duration": 33,
        "start_time": "2022-08-01T09:09:18.368Z"
      },
      {
        "duration": 9,
        "start_time": "2022-08-01T09:09:18.403Z"
      },
      {
        "duration": 168,
        "start_time": "2022-08-01T09:09:18.414Z"
      },
      {
        "duration": 39,
        "start_time": "2022-08-01T09:09:18.584Z"
      },
      {
        "duration": 87,
        "start_time": "2022-08-01T09:09:18.625Z"
      },
      {
        "duration": 30,
        "start_time": "2022-08-01T09:09:18.713Z"
      },
      {
        "duration": 10,
        "start_time": "2022-08-01T09:09:18.745Z"
      },
      {
        "duration": 64,
        "start_time": "2022-08-01T09:09:18.758Z"
      },
      {
        "duration": 6,
        "start_time": "2022-08-01T09:09:18.824Z"
      },
      {
        "duration": 122,
        "start_time": "2022-08-01T09:09:18.832Z"
      },
      {
        "duration": 16,
        "start_time": "2022-08-01T09:09:18.957Z"
      },
      {
        "duration": 2,
        "start_time": "2022-08-01T09:09:18.975Z"
      },
      {
        "duration": 8,
        "start_time": "2022-08-01T09:09:18.998Z"
      },
      {
        "duration": 12,
        "start_time": "2022-08-01T09:09:19.008Z"
      },
      {
        "duration": 96,
        "start_time": "2022-08-01T09:09:19.021Z"
      },
      {
        "duration": 381,
        "start_time": "2022-08-01T09:09:19.118Z"
      },
      {
        "duration": 2,
        "start_time": "2022-08-01T09:09:19.501Z"
      },
      {
        "duration": 25,
        "start_time": "2022-08-01T09:09:19.505Z"
      },
      {
        "duration": 19,
        "start_time": "2022-08-01T09:09:19.532Z"
      },
      {
        "duration": 12,
        "start_time": "2022-08-01T09:09:19.598Z"
      },
      {
        "duration": 144,
        "start_time": "2022-08-01T09:09:19.611Z"
      },
      {
        "duration": 0,
        "start_time": "2022-08-01T09:09:19.757Z"
      },
      {
        "duration": 19,
        "start_time": "2022-08-01T09:09:29.755Z"
      },
      {
        "duration": 129,
        "start_time": "2022-08-01T09:19:34.438Z"
      },
      {
        "duration": 1158,
        "start_time": "2022-08-01T09:19:37.629Z"
      },
      {
        "duration": 115,
        "start_time": "2022-08-01T09:19:46.601Z"
      },
      {
        "duration": 20,
        "start_time": "2022-08-01T09:19:48.569Z"
      },
      {
        "duration": 111,
        "start_time": "2022-08-01T09:20:01.833Z"
      },
      {
        "duration": 17,
        "start_time": "2022-08-01T09:20:04.169Z"
      },
      {
        "duration": 144,
        "start_time": "2022-08-01T09:22:54.423Z"
      },
      {
        "duration": 17,
        "start_time": "2022-08-01T09:22:56.903Z"
      },
      {
        "duration": 17,
        "start_time": "2022-08-01T09:23:29.122Z"
      },
      {
        "duration": 19,
        "start_time": "2022-08-01T09:23:34.862Z"
      },
      {
        "duration": 14,
        "start_time": "2022-08-01T09:23:38.921Z"
      },
      {
        "duration": 20,
        "start_time": "2022-08-01T09:23:40.854Z"
      },
      {
        "duration": 111,
        "start_time": "2022-08-01T09:26:46.660Z"
      },
      {
        "duration": 17,
        "start_time": "2022-08-01T09:26:49.181Z"
      },
      {
        "duration": 125,
        "start_time": "2022-08-01T09:27:08.801Z"
      },
      {
        "duration": 16,
        "start_time": "2022-08-01T09:27:10.941Z"
      },
      {
        "duration": 109,
        "start_time": "2022-08-01T09:27:47.559Z"
      },
      {
        "duration": 20,
        "start_time": "2022-08-01T09:27:49.625Z"
      },
      {
        "duration": 135,
        "start_time": "2022-08-01T09:28:13.670Z"
      },
      {
        "duration": 19,
        "start_time": "2022-08-01T09:28:15.853Z"
      },
      {
        "duration": 1166,
        "start_time": "2022-08-01T09:28:25.773Z"
      },
      {
        "duration": 167,
        "start_time": "2022-08-01T09:28:26.941Z"
      },
      {
        "duration": 19,
        "start_time": "2022-08-01T09:28:27.109Z"
      },
      {
        "duration": 13,
        "start_time": "2022-08-01T09:28:27.130Z"
      },
      {
        "duration": 135,
        "start_time": "2022-08-01T09:28:27.144Z"
      },
      {
        "duration": 49,
        "start_time": "2022-08-01T09:28:27.280Z"
      },
      {
        "duration": 5,
        "start_time": "2022-08-01T09:28:27.330Z"
      },
      {
        "duration": 28,
        "start_time": "2022-08-01T09:28:27.337Z"
      },
      {
        "duration": 69,
        "start_time": "2022-08-01T09:28:27.366Z"
      },
      {
        "duration": 4,
        "start_time": "2022-08-01T09:28:27.437Z"
      },
      {
        "duration": 20,
        "start_time": "2022-08-01T09:28:27.443Z"
      },
      {
        "duration": 17,
        "start_time": "2022-08-01T09:28:27.465Z"
      },
      {
        "duration": 121,
        "start_time": "2022-08-01T09:28:27.484Z"
      },
      {
        "duration": 4,
        "start_time": "2022-08-01T09:28:27.607Z"
      },
      {
        "duration": 16,
        "start_time": "2022-08-01T09:28:27.613Z"
      },
      {
        "duration": 52,
        "start_time": "2022-08-01T09:28:27.631Z"
      },
      {
        "duration": 13,
        "start_time": "2022-08-01T09:28:27.684Z"
      },
      {
        "duration": 980,
        "start_time": "2022-08-01T09:28:27.698Z"
      },
      {
        "duration": 20,
        "start_time": "2022-08-01T09:28:28.680Z"
      },
      {
        "duration": 15,
        "start_time": "2022-08-01T09:28:28.701Z"
      },
      {
        "duration": 26,
        "start_time": "2022-08-01T09:28:28.717Z"
      },
      {
        "duration": 10,
        "start_time": "2022-08-01T09:28:28.745Z"
      },
      {
        "duration": 164,
        "start_time": "2022-08-01T09:28:28.756Z"
      },
      {
        "duration": 29,
        "start_time": "2022-08-01T09:28:28.922Z"
      },
      {
        "duration": 89,
        "start_time": "2022-08-01T09:28:28.953Z"
      },
      {
        "duration": 26,
        "start_time": "2022-08-01T09:28:29.044Z"
      },
      {
        "duration": 8,
        "start_time": "2022-08-01T09:28:29.071Z"
      },
      {
        "duration": 37,
        "start_time": "2022-08-01T09:28:29.100Z"
      },
      {
        "duration": 6,
        "start_time": "2022-08-01T09:28:29.139Z"
      },
      {
        "duration": 151,
        "start_time": "2022-08-01T09:28:29.147Z"
      },
      {
        "duration": 21,
        "start_time": "2022-08-01T09:28:29.299Z"
      },
      {
        "duration": 12,
        "start_time": "2022-08-01T09:28:29.322Z"
      },
      {
        "duration": 13,
        "start_time": "2022-08-01T09:28:29.335Z"
      },
      {
        "duration": 45,
        "start_time": "2022-08-01T09:28:29.350Z"
      },
      {
        "duration": 130,
        "start_time": "2022-08-01T09:28:29.397Z"
      },
      {
        "duration": 370,
        "start_time": "2022-08-01T09:28:29.529Z"
      },
      {
        "duration": 2,
        "start_time": "2022-08-01T09:28:29.901Z"
      },
      {
        "duration": 56,
        "start_time": "2022-08-01T09:28:29.905Z"
      },
      {
        "duration": 38,
        "start_time": "2022-08-01T09:28:29.963Z"
      },
      {
        "duration": 23,
        "start_time": "2022-08-01T09:28:30.002Z"
      },
      {
        "duration": 43,
        "start_time": "2022-08-01T09:28:30.026Z"
      },
      {
        "duration": 135,
        "start_time": "2022-08-01T09:28:30.070Z"
      },
      {
        "duration": 119,
        "start_time": "2022-08-01T09:29:14.746Z"
      },
      {
        "duration": 18,
        "start_time": "2022-08-01T09:29:18.152Z"
      },
      {
        "duration": 109,
        "start_time": "2022-08-01T09:29:23.175Z"
      },
      {
        "duration": 19,
        "start_time": "2022-08-01T09:29:25.484Z"
      },
      {
        "duration": 107,
        "start_time": "2022-08-01T09:29:40.937Z"
      },
      {
        "duration": 110,
        "start_time": "2022-08-01T09:29:45.795Z"
      },
      {
        "duration": 107,
        "start_time": "2022-08-01T09:29:55.735Z"
      },
      {
        "duration": 108,
        "start_time": "2022-08-01T09:30:07.275Z"
      },
      {
        "duration": 112,
        "start_time": "2022-08-01T09:30:11.874Z"
      }
    ],
    "colab": {
      "provenance": []
    },
    "kernelspec": {
      "display_name": "Python 3 (ipykernel)",
      "language": "python",
      "name": "python3"
    },
    "language_info": {
      "codemirror_mode": {
        "name": "ipython",
        "version": 3
      },
      "file_extension": ".py",
      "mimetype": "text/x-python",
      "name": "python",
      "nbconvert_exporter": "python",
      "pygments_lexer": "ipython3",
      "version": "3.9.5"
    },
    "toc": {
      "base_numbering": 1,
      "nav_menu": {},
      "number_sections": true,
      "sideBar": true,
      "skip_h1_title": true,
      "title_cell": "Table of Contents",
      "title_sidebar": "Contents",
      "toc_cell": false,
      "toc_position": {},
      "toc_section_display": true,
      "toc_window_display": false
    }
  },
  "nbformat": 4,
  "nbformat_minor": 0
}